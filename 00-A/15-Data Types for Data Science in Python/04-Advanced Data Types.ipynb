{
 "cells": [
  {
   "cell_type": "code",
   "execution_count": 4,
   "metadata": {},
   "outputs": [],
   "source": [
    "penguins = [{'Species': 'Gentoo',\n",
    "  'Flipper Length (mm)': 230.0,\n",
    "  'Body Mass (g)': 5500.0,\n",
    "  'Sex': 'MALE'},\n",
    " {'Species': 'Chinstrap',\n",
    "  'Flipper Length (mm)': 201.0,\n",
    "  'Body Mass (g)': 4300.0,\n",
    "  'Sex': 'MALE'},\n",
    " {'Species': 'Adlie',\n",
    "  'Flipper Length (mm)': 180.0,\n",
    "  'Body Mass (g)': 3800.0,\n",
    "  'Sex': 'MALE'},\n",
    " {'Species': 'Gentoo',\n",
    "  'Flipper Length (mm)': 229.0,\n",
    "  'Body Mass (g)': 5800.0,\n",
    "  'Sex': 'MALE'},\n",
    " {'Species': 'Chinstrap',\n",
    "  'Flipper Length (mm)': 210.0,\n",
    "  'Body Mass (g)': 4100.0,\n",
    "  'Sex': 'MALE'},\n",
    " {'Species': 'Adlie',\n",
    "  'Flipper Length (mm)': 200.0,\n",
    "  'Body Mass (g)': 3975.0,\n",
    "  'Sex': 'MALE'},\n",
    " {'Species': 'Gentoo',\n",
    "  'Flipper Length (mm)': 225.0,\n",
    "  'Body Mass (g)': 5400.0,\n",
    "  'Sex': 'MALE'},\n",
    " {'Species': 'Chinstrap',\n",
    "  'Flipper Length (mm)': 210.0,\n",
    "  'Body Mass (g)': 4800.0,\n",
    "  'Sex': 'MALE'},\n",
    " {'Species': 'Chinstrap',\n",
    "  'Flipper Length (mm)': 193.0,\n",
    "  'Body Mass (g)': 3800.0,\n",
    "  'Sex': 'FEMALE'},\n",
    " {'Species': 'Adlie',\n",
    "  'Flipper Length (mm)': 176.0,\n",
    "  'Body Mass (g)': 3450.0,\n",
    "  'Sex': 'FEMALE'},\n",
    " {'Species': 'Chinstrap',\n",
    "  'Flipper Length (mm)': 210.0,\n",
    "  'Body Mass (g)': 3950.0,\n",
    "  'Sex': 'MALE'},\n",
    " {'Species': 'Gentoo',\n",
    "  'Flipper Length (mm)': 219.0,\n",
    "  'Body Mass (g)': 5250.0,\n",
    "  'Sex': 'MALE'},\n",
    " {'Species': 'Gentoo',\n",
    "  'Flipper Length (mm)': 210.0,\n",
    "  'Body Mass (g)': 4300.0,\n",
    "  'Sex': 'FEMALE'},\n",
    " {'Species': 'Gentoo',\n",
    "  'Flipper Length (mm)': 216.0,\n",
    "  'Body Mass (g)': 4925.0,\n",
    "  'Sex': 'MALE'},\n",
    " {'Species': 'Adlie',\n",
    "  'Flipper Length (mm)': 187.0,\n",
    "  'Body Mass (g)': 3550.0,\n",
    "  'Sex': 'FEMALE'},\n",
    " {'Species': 'Adlie',\n",
    "  'Flipper Length (mm)': 192.0,\n",
    "  'Body Mass (g)': 3950.0,\n",
    "  'Sex': 'MALE'},\n",
    " {'Species': 'Chinstrap',\n",
    "  'Flipper Length (mm)': 193.0,\n",
    "  'Body Mass (g)': 3800.0,\n",
    "  'Sex': 'MALE'},\n",
    " {'Species': 'Chinstrap',\n",
    "  'Flipper Length (mm)': 201.0,\n",
    "  'Body Mass (g)': 4050.0,\n",
    "  'Sex': 'MALE'},\n",
    " {'Species': 'Adlie',\n",
    "  'Flipper Length (mm)': 190.0,\n",
    "  'Body Mass (g)': 3650.0,\n",
    "  'Sex': 'MALE'},\n",
    " {'Species': 'Adlie',\n",
    "  'Flipper Length (mm)': 181.0,\n",
    "  'Body Mass (g)': 3175.0,\n",
    "  'Sex': 'FEMALE'}]"
   ]
  },
  {
   "cell_type": "code",
   "execution_count": 5,
   "metadata": {},
   "outputs": [
    {
     "name": "stdout",
     "output_type": "stream",
     "text": [
      "Counter({'MALE': 15, 'FEMALE': 5})\n"
     ]
    }
   ],
   "source": [
    "# # Import the Counter object\n",
    "# ____\n",
    "\n",
    "# # Create a Counter of the penguins sex using a list comp\n",
    "# penguins_sex_counts = ____\n",
    "\n",
    "# # Print the penguins_sex_counts\n",
    "# ____\n",
    "from collections import Counter\n",
    "\n",
    "penguins_sex_counts = Counter([penguin['Sex'] for penguin in penguins])\n",
    "print(penguins_sex_counts)"
   ]
  },
  {
   "cell_type": "code",
   "execution_count": 6,
   "metadata": {},
   "outputs": [],
   "source": [
    "penguins = [{'Species': 'Gentoo',\n",
    "  'Flipper Length (mm)': 230.0,\n",
    "  'Body Mass (g)': 5500.0,\n",
    "  'Sex': 'MALE'},\n",
    " {'Species': 'Chinstrap',\n",
    "  'Flipper Length (mm)': 201.0,\n",
    "  'Body Mass (g)': 4300.0,\n",
    "  'Sex': 'MALE'},\n",
    " {'Species': 'Adlie',\n",
    "  'Flipper Length (mm)': 180.0,\n",
    "  'Body Mass (g)': 3800.0,\n",
    "  'Sex': 'MALE'},\n",
    " {'Species': 'Gentoo',\n",
    "  'Flipper Length (mm)': 229.0,\n",
    "  'Body Mass (g)': 5800.0,\n",
    "  'Sex': 'MALE'},\n",
    " {'Species': 'Chinstrap',\n",
    "  'Flipper Length (mm)': 210.0,\n",
    "  'Body Mass (g)': 4100.0,\n",
    "  'Sex': 'MALE'},\n",
    " {'Species': 'Adlie',\n",
    "  'Flipper Length (mm)': 200.0,\n",
    "  'Body Mass (g)': 3975.0,\n",
    "  'Sex': 'MALE'},\n",
    " {'Species': 'Gentoo',\n",
    "  'Flipper Length (mm)': 225.0,\n",
    "  'Body Mass (g)': 5400.0,\n",
    "  'Sex': 'MALE'},\n",
    " {'Species': 'Chinstrap',\n",
    "  'Flipper Length (mm)': 210.0,\n",
    "  'Body Mass (g)': 4800.0,\n",
    "  'Sex': 'MALE'},\n",
    " {'Species': 'Chinstrap',\n",
    "  'Flipper Length (mm)': 193.0,\n",
    "  'Body Mass (g)': 3800.0,\n",
    "  'Sex': 'FEMALE'},\n",
    " {'Species': 'Adlie',\n",
    "  'Flipper Length (mm)': 176.0,\n",
    "  'Body Mass (g)': 3450.0,\n",
    "  'Sex': 'FEMALE'},\n",
    " {'Species': 'Chinstrap',\n",
    "  'Flipper Length (mm)': 210.0,\n",
    "  'Body Mass (g)': 3950.0,\n",
    "  'Sex': 'MALE'},\n",
    " {'Species': 'Gentoo',\n",
    "  'Flipper Length (mm)': 219.0,\n",
    "  'Body Mass (g)': 5250.0,\n",
    "  'Sex': 'MALE'},\n",
    " {'Species': 'Gentoo',\n",
    "  'Flipper Length (mm)': 210.0,\n",
    "  'Body Mass (g)': 4300.0,\n",
    "  'Sex': 'FEMALE'},\n",
    " {'Species': 'Gentoo',\n",
    "  'Flipper Length (mm)': 216.0,\n",
    "  'Body Mass (g)': 4925.0,\n",
    "  'Sex': 'MALE'},\n",
    " {'Species': 'Adlie',\n",
    "  'Flipper Length (mm)': 187.0,\n",
    "  'Body Mass (g)': 3550.0,\n",
    "  'Sex': 'FEMALE'},\n",
    " {'Species': 'Adlie',\n",
    "  'Flipper Length (mm)': 192.0,\n",
    "  'Body Mass (g)': 3950.0,\n",
    "  'Sex': 'MALE'},\n",
    " {'Species': 'Chinstrap',\n",
    "  'Flipper Length (mm)': 193.0,\n",
    "  'Body Mass (g)': 3800.0,\n",
    "  'Sex': 'MALE'},\n",
    " {'Species': 'Chinstrap',\n",
    "  'Flipper Length (mm)': 201.0,\n",
    "  'Body Mass (g)': 4050.0,\n",
    "  'Sex': 'MALE'},\n",
    " {'Species': 'Adlie',\n",
    "  'Flipper Length (mm)': 190.0,\n",
    "  'Body Mass (g)': 3650.0,\n",
    "  'Sex': 'MALE'},\n",
    " {'Species': 'Adlie',\n",
    "  'Flipper Length (mm)': 181.0,\n",
    "  'Body Mass (g)': 3175.0,\n",
    "  'Sex': 'FEMALE'}]"
   ]
  },
  {
   "cell_type": "code",
   "execution_count": 7,
   "metadata": {},
   "outputs": [
    {
     "name": "stdout",
     "output_type": "stream",
     "text": [
      "Counter({'MALE': 15, 'FEMALE': 5})\n"
     ]
    }
   ],
   "source": [
    "# Import the Counter object\n",
    "from collections import Counter\n",
    "\n",
    "# Create a Counter of the penguins sex using a list comp\n",
    "penguins_sex_counts = Counter([penguin['Sex'] for penguin in penguins])\n",
    "\n",
    "# Print the penguins_sex_counts\n",
    "print(penguins_sex_counts)"
   ]
  },
  {
   "cell_type": "code",
   "execution_count": 8,
   "metadata": {},
   "outputs": [
    {
     "name": "stdout",
     "output_type": "stream",
     "text": [
      "[('Chinstrap', 7), ('Adlie', 7), ('Gentoo', 6)]\n"
     ]
    }
   ],
   "source": [
    "\n",
    "# Import the Counter object\n",
    "from collections import Counter\n",
    "\n",
    "# Create a Counter of the penguins list: penguins_species_counts\n",
    "penguins_species_counts = Counter([penguin['Species'] for penguin in penguins])\n",
    "\n",
    "# Find the 3 most common species counts\n",
    "print(penguins_species_counts.most_common(3))"
   ]
  },
  {
   "cell_type": "code",
   "execution_count": 9,
   "metadata": {},
   "outputs": [],
   "source": [
    "weight_log = [('Chinstrap', 'FEMALE', 3800.0),\n",
    " ('Adlie', 'FEMALE', 3450.0),\n",
    " ('Gentoo', 'FEMALE', 4300.0),\n",
    " ('Adlie', 'FEMALE', 3550.0),\n",
    " ('Adlie', 'FEMALE', 3175.0)]"
   ]
  },
  {
   "cell_type": "code",
   "execution_count": 10,
   "metadata": {},
   "outputs": [
    {
     "name": "stdout",
     "output_type": "stream",
     "text": [
      "[('FEMALE', 3450.0), ('FEMALE', 3550.0), ('FEMALE', 3175.0)]\n"
     ]
    }
   ],
   "source": [
    "# Create an empty dictionary: female_penguin_weights\n",
    "female_penguin_weights = {}\n",
    "\n",
    "# Iterate over the weight_log entries\n",
    "for species, sex, body_mass in weight_log:\n",
    "    # Check to see if species is already in the dictionary\n",
    "    if species not in female_penguin_weights:\n",
    "        # Create an empty list for any missing species\n",
    "        female_penguin_weights[species] = []\n",
    "    # Append the sex and body_mass as a tuple to the species keys list\n",
    "    female_penguin_weights[species].append((sex,body_mass))\n",
    "    \n",
    "# Print the weights for 'Adlie'\n",
    "print(female_penguin_weights['Adlie'])"
   ]
  },
  {
   "cell_type": "code",
   "execution_count": 11,
   "metadata": {},
   "outputs": [
    {
     "name": "stdout",
     "output_type": "stream",
     "text": [
      "[('Chinstrap', [3800.0]), ('Adlie', [3450.0, 3550.0, 3175.0])]\n"
     ]
    }
   ],
   "source": [
    "# Import defaultdict\n",
    "from collections import defaultdict \n",
    "# Create a defaultdict with a default type of list: male_penguin_weights\n",
    "male_penguin_weights = defaultdict(list)\n",
    "\n",
    "# Iterate over the weight_log entries\n",
    "for species, sex, body_mass in weight_log:\n",
    "    # Use the species as the key, and append the body_mass to it\n",
    "    male_penguin_weights[species].append(body_mass)\n",
    "    \n",
    "# Print the first 2 items of the male_penguin_weights dictionary\n",
    "\n",
    "print(list(male_penguin_weights.items())[:2])"
   ]
  },
  {
   "cell_type": "code",
   "execution_count": 12,
   "metadata": {},
   "outputs": [
    {
     "name": "stdout",
     "output_type": "stream",
     "text": [
      "SpeciesDetails(species='Chinstrap', sex='FEMALE', body_mass=3800.0)\n",
      "SpeciesDetails(species='Adlie', sex='FEMALE', body_mass=3450.0)\n",
      "SpeciesDetails(species='Gentoo', sex='FEMALE', body_mass=4300.0)\n",
      "SpeciesDetails(species='Adlie', sex='FEMALE', body_mass=3550.0)\n",
      "SpeciesDetails(species='Adlie', sex='FEMALE', body_mass=3175.0)\n"
     ]
    }
   ],
   "source": [
    "# Import namedtuple from collections\n",
    "from collections import namedtuple\n",
    "\n",
    "# Create the namedtuple: SpeciesDetails\n",
    "SpeciesDetails = namedtuple('SpeciesDetails', ['species', 'sex', 'body_mass'])\n",
    "\n",
    "# Create the empty list: labeled_entries\n",
    "labeled_entries = []\n",
    "\n",
    "# Iterate over the weight_log entries\n",
    "for species, sex, body_mass in weight_log:\n",
    "    # Append a new SpeciesDetails namedtuple instance for each entry to labeled_entries\n",
    "    labeled_entries.append(SpeciesDetails(species,sex,body_mass))\n",
    "    \n",
    "\n",
    "# Print the first three entries of labeled_entries\n",
    "print(*labeled_entries[:5],sep='\\n')"
   ]
  },
  {
   "cell_type": "code",
   "execution_count": 13,
   "metadata": {},
   "outputs": [],
   "source": [
    "labeled_entries = [SpeciesDetails(species='Gentoo', sex='MALE', body_mass=5500.0),\n",
    " SpeciesDetails(species='Chinstrap', sex='MALE', body_mass=4300.0),\n",
    " SpeciesDetails(species='Adlie', sex='MALE', body_mass=3800.0),\n",
    " SpeciesDetails(species='Gentoo', sex='MALE', body_mass=5800.0),\n",
    " SpeciesDetails(species='Chinstrap', sex='MALE', body_mass=4100.0),\n",
    " SpeciesDetails(species='Adlie', sex='MALE', body_mass=3975.0),\n",
    " SpeciesDetails(species='Gentoo', sex='MALE', body_mass=5400.0),\n",
    " SpeciesDetails(species='Chinstrap', sex='MALE', body_mass=4800.0),\n",
    " SpeciesDetails(species='Chinstrap', sex='FEMALE', body_mass=3800.0),\n",
    " SpeciesDetails(species='Adlie', sex='FEMALE', body_mass=3450.0),\n",
    " SpeciesDetails(species='Chinstrap', sex='MALE', body_mass=3950.0),\n",
    " SpeciesDetails(species='Gentoo', sex='MALE', body_mass=5250.0),\n",
    " SpeciesDetails(species='Gentoo', sex='FEMALE', body_mass=4300.0),\n",
    " SpeciesDetails(species='Gentoo', sex='MALE', body_mass=4925.0),\n",
    " SpeciesDetails(species='Adlie', sex='FEMALE', body_mass=3550.0),\n",
    " SpeciesDetails(species='Adlie', sex='MALE', body_mass=3950.0),\n",
    " SpeciesDetails(species='Chinstrap', sex='MALE', body_mass=3800.0),\n",
    " SpeciesDetails(species='Chinstrap', sex='MALE', body_mass=4050.0),\n",
    " SpeciesDetails(species='Adlie', sex='MALE', body_mass=3650.0),\n",
    " SpeciesDetails(species='Adlie', sex='FEMALE', body_mass=3175.0)]"
   ]
  },
  {
   "cell_type": "code",
   "execution_count": 14,
   "metadata": {},
   "outputs": [
    {
     "name": "stdout",
     "output_type": "stream",
     "text": [
      "MALE:4300.0\n",
      "MALE:4100.0\n",
      "MALE:4800.0\n",
      "FEMALE:3800.0\n",
      "MALE:3950.0\n",
      "MALE:3800.0\n",
      "MALE:4050.0\n"
     ]
    }
   ],
   "source": [
    "# Iterate over the first twenty entries in labeled_entries\n",
    "for entry in labeled_entries[:20]:\n",
    "    # if the entry's species is Chinstrap\n",
    "    if entry.species == 'Chinstrap':\n",
    "      # Print each entry's sex and body_mass seperated by a colon\n",
    "      print(f'{entry.sex}:{entry.body_mass}')"
   ]
  },
  {
   "cell_type": "code",
   "execution_count": 15,
   "metadata": {},
   "outputs": [],
   "source": [
    "# Import dataclass\n",
    "from dataclasses import dataclass\n",
    "\n",
    "@dataclass\n",
    "class WeightEntry:\n",
    "    # Define the fields on the class\n",
    "    species: str\n",
    "    body_mass: int\n",
    "    flipper_length: int\n",
    "    sex: str\n",
    "        \n",
    "    # Define a property that returns the body_mass / flipper_length\n",
    "    @property\n",
    "    def mass_to_flipper_length_ratio(self):\n",
    "        return self.body_mass / self.flipper_length"
   ]
  },
  {
   "cell_type": "code",
   "execution_count": 16,
   "metadata": {},
   "outputs": [],
   "source": [
    "\n",
    "weight_log=[('Gentoo', 'MALE', 5500.0, 230.0),\n",
    " ('Gentoo', 'MALE', 5800.0, 229.0),\n",
    " ('Gentoo', 'MALE', 5400.0, 225.0),\n",
    " ('Gentoo', 'MALE', 5250.0, 219.0),\n",
    " ('Gentoo', 'FEMALE', 4300.0, 210.0),\n",
    " ('Gentoo', 'MALE', 4925.0, 216.0)]"
   ]
  },
  {
   "cell_type": "code",
   "execution_count": 17,
   "metadata": {},
   "outputs": [
    {
     "name": "stdout",
     "output_type": "stream",
     "text": [
      "[0.04181818181818182, 0.03948275862068965, 0.041666666666666664, 0.04171428571428572, 0.04883720930232558]\n"
     ]
    }
   ],
   "source": [
    "# Create the empty list: labeled_entries\n",
    "labeled_entries = []\n",
    "\n",
    "# Iterate over the weight_log entries\n",
    "for species, flipper_length, body_mass, sex in weight_log:\n",
    "    # Append a new WeightEntry instance to labeled_entries\n",
    "    labeled_entries.append(WeightEntry(species, sex, body_mass, flipper_length))\n",
    "    \n",
    "# Print a list of the first 5 mass_to_flipper_length_ratio values\n",
    "print([entry.mass_to_flipper_length_ratio for entry in labeled_entries[:5]])"
   ]
  },
  {
   "cell_type": "code",
   "execution_count": 18,
   "metadata": {},
   "outputs": [
    {
     "name": "stdout",
     "output_type": "stream",
     "text": [
      "WeightEntry(species='Gentoo', body_mass=230.0, flipper_length=5500.0, sex='MALE')\n",
      "WeightEntry(species='Gentoo', body_mass=229.0, flipper_length=5800.0, sex='MALE')\n",
      "WeightEntry(species='Gentoo', body_mass=225.0, flipper_length=5400.0, sex='MALE')\n",
      "WeightEntry(species='Gentoo', body_mass=219.0, flipper_length=5250.0, sex='MALE')\n",
      "WeightEntry(species='Gentoo', body_mass=210.0, flipper_length=4300.0, sex='FEMALE')\n",
      "WeightEntry(species='Gentoo', body_mass=216.0, flipper_length=4925.0, sex='MALE')\n"
     ]
    }
   ],
   "source": [
    "print(*labeled_entries,sep='\\n')"
   ]
  },
  {
   "cell_type": "code",
   "execution_count": 19,
   "metadata": {},
   "outputs": [
    {
     "data": {
      "text/plain": [
       "[{'species': 'Gentoo',\n",
       "  'body_mass': 230.0,\n",
       "  'flipper_length': 5500.0,\n",
       "  'sex': 'MALE'},\n",
       " {'species': 'Gentoo',\n",
       "  'body_mass': 229.0,\n",
       "  'flipper_length': 5800.0,\n",
       "  'sex': 'MALE'},\n",
       " {'species': 'Gentoo',\n",
       "  'body_mass': 225.0,\n",
       "  'flipper_length': 5400.0,\n",
       "  'sex': 'MALE'},\n",
       " {'species': 'Gentoo',\n",
       "  'body_mass': 219.0,\n",
       "  'flipper_length': 5250.0,\n",
       "  'sex': 'MALE'},\n",
       " {'species': 'Gentoo',\n",
       "  'body_mass': 210.0,\n",
       "  'flipper_length': 4300.0,\n",
       "  'sex': 'FEMALE'},\n",
       " {'species': 'Gentoo',\n",
       "  'body_mass': 216.0,\n",
       "  'flipper_length': 4925.0,\n",
       "  'sex': 'MALE'}]"
      ]
     },
     "execution_count": 19,
     "metadata": {},
     "output_type": "execute_result"
    }
   ],
   "source": [
    "from dataclasses import asdict, astuple, dataclass, field\n",
    "asdict(labeled_entries[0]) \n",
    "[asdict(labeled_entries) for labeled_entries in labeled_entries]\n",
    "# {'name': 'ginger molasses', 'quantity': 8} "
   ]
  },
  {
   "cell_type": "code",
   "execution_count": 20,
   "metadata": {},
   "outputs": [
    {
     "data": {
      "text/plain": [
       "[('Gentoo', 230.0, 5500.0, 'MALE'),\n",
       " ('Gentoo', 229.0, 5800.0, 'MALE'),\n",
       " ('Gentoo', 225.0, 5400.0, 'MALE'),\n",
       " ('Gentoo', 219.0, 5250.0, 'MALE'),\n",
       " ('Gentoo', 210.0, 4300.0, 'FEMALE'),\n",
       " ('Gentoo', 216.0, 4925.0, 'MALE')]"
      ]
     },
     "execution_count": 20,
     "metadata": {},
     "output_type": "execute_result"
    }
   ],
   "source": [
    "astuple(labeled_entries[0]) \n",
    "[astuple(labeled_entries) for labeled_entries in labeled_entries]\n",
    "# ('ginger molasses', 8) "
   ]
  },
  {
   "cell_type": "code",
   "execution_count": 21,
   "metadata": {},
   "outputs": [
    {
     "data": {
      "text/plain": [
       "Decimal('9.6')"
      ]
     },
     "execution_count": 21,
     "metadata": {},
     "output_type": "execute_result"
    }
   ],
   "source": [
    "from decimal import Decimal \n",
    "@dataclass \n",
    "class Cookie:     \n",
    "    name: str     \n",
    "    cost: Decimal     \n",
    "    quantity: int \n",
    "    \n",
    "    @property    \n",
    "    def value_of_goods(self):       \n",
    "        return int(self.quantity) * self.cost \n",
    "peanut = Cookie(\"peanut butter\", Decimal(\"1.2\"), 8) \n",
    "peanut.value_of_goods \n",
    "\n"
   ]
  },
  {
   "cell_type": "code",
   "execution_count": 22,
   "metadata": {},
   "outputs": [
    {
     "ename": "TypeError",
     "evalue": "Cookie.__init__() missing 1 required positional argument: 'quantity'",
     "output_type": "error",
     "traceback": [
      "\u001b[1;31m---------------------------------------------------------------------------\u001b[0m",
      "\u001b[1;31mTypeError\u001b[0m                                 Traceback (most recent call last)",
      "\u001b[1;32mC:\\Users\\JDAMOD~1\\AppData\\Local\\Temp/ipykernel_32328/638968500.py\u001b[0m in \u001b[0;36m<module>\u001b[1;34m\u001b[0m\n\u001b[0;32m      1\u001b[0m \u001b[1;33m@\u001b[0m\u001b[0mdataclass\u001b[0m\u001b[1;33m(\u001b[0m\u001b[0mfrozen\u001b[0m\u001b[1;33m=\u001b[0m\u001b[1;32mTrue\u001b[0m\u001b[1;33m)\u001b[0m\u001b[1;33m\u001b[0m\u001b[1;33m\u001b[0m\u001b[0m\n\u001b[1;32m----> 2\u001b[1;33m \u001b[1;32mclass\u001b[0m \u001b[0mCookie\u001b[0m\u001b[1;33m:\u001b[0m\u001b[1;33m\u001b[0m\u001b[1;33m\u001b[0m\u001b[0m\n\u001b[0m\u001b[0;32m      3\u001b[0m     \u001b[0mname\u001b[0m\u001b[1;33m:\u001b[0m \u001b[0mstr\u001b[0m\u001b[1;33m\u001b[0m\u001b[1;33m\u001b[0m\u001b[0m\n\u001b[0;32m      4\u001b[0m     \u001b[0mquantity\u001b[0m\u001b[1;33m:\u001b[0m \u001b[0mint\u001b[0m \u001b[1;33m=\u001b[0m \u001b[1;36m0\u001b[0m\u001b[1;33m\u001b[0m\u001b[1;33m\u001b[0m\u001b[0m\n\u001b[0;32m      5\u001b[0m     \u001b[0mc\u001b[0m \u001b[1;33m=\u001b[0m \u001b[0mCookie\u001b[0m\u001b[1;33m(\u001b[0m\u001b[1;34m\"chocolate chip\"\u001b[0m\u001b[1;33m,\u001b[0m \u001b[1;36m10\u001b[0m\u001b[1;33m)\u001b[0m\u001b[1;33m\u001b[0m\u001b[1;33m\u001b[0m\u001b[0m\n",
      "\u001b[1;32mC:\\Users\\JDAMOD~1\\AppData\\Local\\Temp/ipykernel_32328/638968500.py\u001b[0m in \u001b[0;36mCookie\u001b[1;34m()\u001b[0m\n\u001b[0;32m      3\u001b[0m     \u001b[0mname\u001b[0m\u001b[1;33m:\u001b[0m \u001b[0mstr\u001b[0m\u001b[1;33m\u001b[0m\u001b[1;33m\u001b[0m\u001b[0m\n\u001b[0;32m      4\u001b[0m     \u001b[0mquantity\u001b[0m\u001b[1;33m:\u001b[0m \u001b[0mint\u001b[0m \u001b[1;33m=\u001b[0m \u001b[1;36m0\u001b[0m\u001b[1;33m\u001b[0m\u001b[1;33m\u001b[0m\u001b[0m\n\u001b[1;32m----> 5\u001b[1;33m     \u001b[0mc\u001b[0m \u001b[1;33m=\u001b[0m \u001b[0mCookie\u001b[0m\u001b[1;33m(\u001b[0m\u001b[1;34m\"chocolate chip\"\u001b[0m\u001b[1;33m,\u001b[0m \u001b[1;36m10\u001b[0m\u001b[1;33m)\u001b[0m\u001b[1;33m\u001b[0m\u001b[1;33m\u001b[0m\u001b[0m\n\u001b[0m\u001b[0;32m      6\u001b[0m \u001b[0mc\u001b[0m\u001b[1;33m.\u001b[0m\u001b[0mquantity\u001b[0m \u001b[1;33m=\u001b[0m \u001b[1;36m15\u001b[0m\u001b[1;33m\u001b[0m\u001b[1;33m\u001b[0m\u001b[0m\n",
      "\u001b[1;31mTypeError\u001b[0m: Cookie.__init__() missing 1 required positional argument: 'quantity'"
     ]
    }
   ],
   "source": [
    "@dataclass(frozen=True) \n",
    "class Cookie:     \n",
    "    name: str     \n",
    "    quantity: int = 0  \n",
    "    c = Cookie(\"chocolate chip\", 10) \n",
    "c.quantity = 15 \n"
   ]
  }
 ],
 "metadata": {
  "kernelspec": {
   "display_name": "Python 3",
   "language": "python",
   "name": "python3"
  },
  "language_info": {
   "codemirror_mode": {
    "name": "ipython",
    "version": 3
   },
   "file_extension": ".py",
   "mimetype": "text/x-python",
   "name": "python",
   "nbconvert_exporter": "python",
   "pygments_lexer": "ipython3",
   "version": "3.10.5"
  },
  "orig_nbformat": 4
 },
 "nbformat": 4,
 "nbformat_minor": 2
}
