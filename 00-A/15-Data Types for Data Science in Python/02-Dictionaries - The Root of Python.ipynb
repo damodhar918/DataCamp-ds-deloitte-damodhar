{
 "cells": [
  {
   "cell_type": "code",
   "execution_count": 5,
   "metadata": {},
   "outputs": [],
   "source": [
    "squirrels = [('Marcus Garvey Park', ('Black', 'Cinnamon', 'Cleaning', None)),\n",
    " ('Highbridge Park',\n",
    "  ('Gray',\n",
    "   'Cinnamon',\n",
    "   'Running, Eating',\n",
    "   'Runs From, watches us in short tree')),\n",
    " ('Madison Square Park', ('Gray', None, 'Foraging', 'Indifferent')),\n",
    " ('City Hall Park', ('Gray', 'Cinnamon', 'Eating', 'Approaches')),\n",
    " ('J. Hood Wright Park', ('Gray', 'White', 'Running', 'Indifferent')),\n",
    " ('Seward Park', ('Gray', 'Cinnamon', 'Eating', 'Indifferent')),\n",
    " ('Union Square Park', ('Gray', 'Black', 'Climbing', None)),\n",
    " ('Tompkins Square Park', ('Gray', 'Gray', 'Lounging', 'Approaches'))]"
   ]
  },
  {
   "cell_type": "code",
   "execution_count": 6,
   "metadata": {},
   "outputs": [
    {
     "name": "stdout",
     "output_type": "stream",
     "text": [
      "City Hall Park: ('Gray', 'Cinnamon', 'Eating', 'Approaches')\n",
      "Highbridge Park: ('Gray', 'Cinnamon', 'Running, Eating', 'Runs From, watches us in short tree')\n",
      "J. Hood Wright Park: ('Gray', 'White', 'Running', 'Indifferent')\n",
      "Madison Square Park: ('Gray', None, 'Foraging', 'Indifferent')\n",
      "Marcus Garvey Park: ('Black', 'Cinnamon', 'Cleaning', None)\n",
      "Seward Park: ('Gray', 'Cinnamon', 'Eating', 'Indifferent')\n",
      "Tompkins Square Park: ('Gray', 'Gray', 'Lounging', 'Approaches')\n",
      "Union Square Park: ('Gray', 'Black', 'Climbing', None)\n"
     ]
    }
   ],
   "source": [
    "# Create an empty dictionary: squirrels_by_park\n",
    "squirrels_by_park = {}\n",
    "\n",
    "# Loop over the squirrels list and unpack each tuple\n",
    "for park,squirrel_details in squirrels:\n",
    "    # Add each squirrel_details to the squirrels_by_park dictionary \n",
    "    squirrels_by_park[park] = squirrel_details\n",
    "    \n",
    "# Sort the names_by_rank alphabetically dict by park\n",
    "for park in sorted(squirrels_by_park):\n",
    "    # Print each park and it's value in squirrels_by_park\n",
    "    print(f'{park}: {squirrels_by_park[park]}')"
   ]
  },
  {
   "cell_type": "code",
   "execution_count": 7,
   "metadata": {},
   "outputs": [
    {
     "name": "stdout",
     "output_type": "stream",
     "text": [
      "('Gray', 'Black', 'Climbing', None)\n",
      "<class 'NoneType'>\n",
      "Not Found\n"
     ]
    }
   ],
   "source": [
    "# Safely print 'Union Square Park' from the squirrels_by_park dictionary\n",
    "print(squirrels_by_park.get('Union Square Park'))\n",
    "\n",
    "# Safely print the type of 'Fort Tryon Park' from the squirrels_by_park dictionary\n",
    "print(type(squirrels_by_park.get('Fort Tryon Park')))\n",
    "\n",
    "# Safely print 'Central Park' from the squirrels_by_park dictionary or 'Not Found'\n",
    "print(squirrels_by_park.get('Central Park', 'Not Found'))"
   ]
  },
  {
   "cell_type": "code",
   "execution_count": 8,
   "metadata": {},
   "outputs": [],
   "source": [
    "squirrels_union = ('Union Square Park',\n",
    " [{'primary_fur_color': 'Gray',\n",
    "   'highlights_in_fur_color': None,\n",
    "   'activities': 'Eating, Foraging',\n",
    "   'interactions_with_humans': None},\n",
    "  {'primary_fur_color': 'Gray',\n",
    "   'highlights_in_fur_color': 'Cinnamon',\n",
    "   'activities': 'Climbing, Eating',\n",
    "   'interactions_with_humans': None},\n",
    "  {'primary_fur_color': 'Cinnamon',\n",
    "   'highlights_in_fur_color': None,\n",
    "   'activities': 'Foraging',\n",
    "   'interactions_with_humans': 'Indifferent'},\n",
    "  {'primary_fur_color': 'Gray',\n",
    "   'highlights_in_fur_color': None,\n",
    "   'activities': 'Running, Digging',\n",
    "   'interactions_with_humans': 'Runs From'},\n",
    "  {'primary_fur_color': 'Gray',\n",
    "   'highlights_in_fur_color': None,\n",
    "   'activities': 'Digging',\n",
    "   'interactions_with_humans': 'Indifferent'},\n",
    "  {'primary_fur_color': 'Gray',\n",
    "   'highlights_in_fur_color': 'Black',\n",
    "   'activities': 'Climbing',\n",
    "   'interactions_with_humans': None},\n",
    "  {'primary_fur_color': 'Gray',\n",
    "   'highlights_in_fur_color': None,\n",
    "   'activities': 'Eating, Foraging',\n",
    "   'interactions_with_humans': None}])\n",
    "squirrels_madison = [{'primary_fur_color': 'Gray',\n",
    "  'highlights_in_fur_color': None,\n",
    "  'activities': 'Sitting',\n",
    "  'interactions_with_humans': 'Indifferent'},\n",
    " {'primary_fur_color': 'Gray',\n",
    "  'highlights_in_fur_color': 'Cinnamon',\n",
    "  'activities': 'Foraging',\n",
    "  'interactions_with_humans': 'Indifferent'},\n",
    " {'primary_fur_color': 'Gray',\n",
    "  'highlights_in_fur_color': None,\n",
    "  'activities': 'Climbing, Foraging',\n",
    "  'interactions_with_humans': 'Indifferent'}]"
   ]
  },
  {
   "cell_type": "code",
   "execution_count": 12,
   "metadata": {},
   "outputs": [],
   "source": [
    "squirrels_by_park={'Union Square Park': []}"
   ]
  },
  {
   "cell_type": "code",
   "execution_count": 13,
   "metadata": {},
   "outputs": [
    {
     "name": "stdout",
     "output_type": "stream",
     "text": [
      "Union Square Park ['Gray', 'Gray', 'Cinnamon', 'Gray', 'Gray', 'Gray', 'Gray']\n",
      "Madison Square Park ['Gray', 'Gray', 'Gray']\n"
     ]
    }
   ],
   "source": [
    "# Assign squirrels_madison as the value to the 'Madison Square Park' key\n",
    "squirrels_by_park['Madison Square Park'] = squirrels_madison\n",
    "\n",
    "# Update the 'Union Square Park' key with the squirrels_union tuple\n",
    "squirrels_by_park.update([squirrels_union])\n",
    "\n",
    "# Loop over the park_name in the squirrels_by_park dictionary \n",
    "for park_name in squirrels_by_park:\n",
    "    # Safely print a list of all primary_fur_colors for squirrels in the park_name\n",
    "    print(park_name, [squirrel.get('primary_fur_color', 'N/A') for squirrel in squirrels_by_park[park_name]])"
   ]
  },
  {
   "cell_type": "code",
   "execution_count": 14,
   "metadata": {},
   "outputs": [
    {
     "name": "stdout",
     "output_type": "stream",
     "text": [
      "{}\n"
     ]
    }
   ],
   "source": [
    "# Remove \"Madison Square Park\" from squirrels_by_park\n",
    "squirrels_madison = squirrels_by_park.pop(\"Madison Square Park\")\n",
    "\n",
    "# Safely remove \"City Hall Park\" from squirrels_by_park with an empty dictionary as the default\n",
    "squirrels_city_hall = squirrels_by_park.pop(\"City Hall Park\", {})\n",
    "\n",
    "# Delete \"Union Square Park\" from squirrels_by_park\n",
    "del squirrels_by_park[\"Union Square Park\"]\n",
    "\n",
    "# Print squirrels_by_park\n",
    "print(squirrels_by_park)"
   ]
  },
  {
   "cell_type": "code",
   "execution_count": 16,
   "metadata": {},
   "outputs": [],
   "source": [
    "squirrels_by_park = {'Madison Square Park': [{'primary_fur_color': 'Gray',\n",
    "   'highlights_in_fur_color': None,\n",
    "   'activities': 'Foraging',\n",
    "   'interactions_with_humans': 'Indifferent'},\n",
    "  {'primary_fur_color': 'Gray',\n",
    "   'highlights_in_fur_color': None,\n",
    "   'activities': 'Sitting',\n",
    "   'interactions_with_humans': 'Indifferent'}],\n",
    " 'Union Square Park': [{'primary_fur_color': 'Gray',\n",
    "   'highlights_in_fur_color': None,\n",
    "   'activities': 'Eating, Foraging',\n",
    "   'interactions_with_humans': None},\n",
    "  {'primary_fur_color': 'Cinnamon',\n",
    "   'highlights_in_fur_color': None,\n",
    "   'activities': 'Foraging',\n",
    "   'interactions_with_humans': None},\n",
    "  {'primary_fur_color': 'Gray',\n",
    "   'highlights_in_fur_color': None,\n",
    "   'activities': 'Eating, Foraging',\n",
    "   'interactions_with_humans': None},\n",
    "  {'primary_fur_color': 'Gray',\n",
    "   'highlights_in_fur_color': None,\n",
    "   'activities': 'Digging',\n",
    "   'interactions_with_humans': 'Indifferent'}]}"
   ]
  },
  {
   "cell_type": "code",
   "execution_count": 17,
   "metadata": {},
   "outputs": [
    {
     "name": "stdout",
     "output_type": "stream",
     "text": [
      "primary_fur_color Gray\n",
      "highlights_in_fur_color None\n",
      "activities Foraging\n",
      "interactions_with_humans Indifferent\n",
      "-------------\n",
      "primary_fur_color Cinnamon\n",
      "highlights_in_fur_color None\n",
      "activities Foraging\n",
      "interactions_with_humans None\n"
     ]
    }
   ],
   "source": [
    "# Iterate over the first squirrel entry in the Madison Square Park list\n",
    "for field ,value in squirrels_by_park[\"Madison Square Park\"][0].items():\n",
    "    # Print field and value\n",
    "    print(field, value)\n",
    "\n",
    "print('-' * 13)\n",
    "\n",
    "# Iterate over the second squirrel entry in the Union Square Park list\n",
    "for field ,value in squirrels_by_park[\"Union Square Park\"][1].items():\n",
    "    # Print field and value\n",
    "    print(field, value)"
   ]
  },
  {
   "cell_type": "code",
   "execution_count": 21,
   "metadata": {},
   "outputs": [],
   "source": [
    "squirrels_by_parksquirrels_by_park = {'Tompkins Square Park': [{'primary_fur_color': 'Gray',\n",
    "   'highlights_in_fur_color': 'Gray',\n",
    "   'activities': 'Foraging',\n",
    "   'interactions_with_humans': 'Approaches'},\n",
    "  {'primary_fur_color': 'Gray',\n",
    "   'highlights_in_fur_color': 'Gray',\n",
    "   'activities': 'Climbing (down tree)',\n",
    "   'interactions_with_humans': 'Indifferent'},\n",
    "  {'primary_fur_color': 'Gray',\n",
    "   'highlights_in_fur_color': 'Gray',\n",
    "   'activities': 'Foraging',\n",
    "   'interactions_with_humans': 'Indifferent'},\n",
    "  {'primary_fur_color': 'Gray',\n",
    "   'highlights_in_fur_color': 'Gray',\n",
    "   'activities': 'Foraging',\n",
    "   'interactions_with_humans': 'Indifferent'}],\n",
    " 'Union Square Park': [{'primary_fur_color': 'Gray',\n",
    "   'highlights_in_fur_color': None,\n",
    "   'activities': 'Eating, Foraging',\n",
    "   'interactions_with_humans': None},\n",
    "  {'primary_fur_color': 'Cinnamon',\n",
    "   'highlights_in_fur_color': None,\n",
    "   'activities': 'Foraging',\n",
    "   'interactions_with_humans': None},\n",
    "  {'primary_fur_color': 'Gray',\n",
    "   'highlights_in_fur_color': None,\n",
    "   'activities': 'Eating, Foraging',\n",
    "   'interactions_with_humans': None},\n",
    "  {'primary_fur_color': 'Gray',\n",
    "   'highlights_in_fur_color': None,\n",
    "   'activities': 'Digging',\n",
    "   'interactions_with_humans': 'Indifferent'}]}"
   ]
  },
  {
   "cell_type": "code",
   "execution_count": 32,
   "metadata": {},
   "outputs": [
    {
     "name": "stdout",
     "output_type": "stream",
     "text": [
      "Central Park missing\n"
     ]
    }
   ],
   "source": [
    "# Check to see if Tompkins Square Park is in squirrels_by_park\n",
    "if 'Tompkins Square Park' in squirrels_by_park:\n",
    "    # Print 'Found Tompkins Square Park'\n",
    "    print('Found Tompkins Square Park')\n",
    "    \n",
    "# Check to see if Central Park is in squirrels_by_park\n",
    "if \"Central Park\" in squirrels_by_park:\n",
    "    # Print 'Found Central Park' if found\n",
    "    print('Found Central Park')\n",
    "else:\n",
    "    # Print 'Central Park missing' if not found\n",
    "    print('Central Park missing')"
   ]
  },
  {
   "cell_type": "code",
   "execution_count": 35,
   "metadata": {},
   "outputs": [],
   "source": [
    "squirrels_by_park ={'J. Hood Wright Park': {'primary_fur_color': 'Gray',\n",
    "  'highlights_in_fur_color': 'Cinnamon',\n",
    "  'activities': 'Running',\n",
    "  'interactions_with_humans': 'Indifferent'},\n",
    " 'Stuyvesant Square Park': {'primary_fur_color': 'Gray',\n",
    "  'highlights_in_fur_color': 'Cinnamon',\n",
    "  'activities': 'Foraging',\n",
    "  'interactions_with_humans': 'Indifferent'},\n",
    " 'Highbridge Park': {'primary_fur_color': 'Gray',\n",
    "  'highlights_in_fur_color': 'White',\n",
    "  'activities': 'Climbing',\n",
    "  'interactions_with_humans': None},\n",
    " 'Tompkins Square Park': {'primary_fur_color': 'Gray',\n",
    "  'highlights_in_fur_color': 'Gray',\n",
    "  'activities': 'Foraging',\n",
    "  'interactions_with_humans': None},\n",
    " 'Union Square Park': {'primary_fur_color': 'Gray',\n",
    "  'activities': 'Eating, Foraging',\n",
    "  'interactions_with_humans': None},\n",
    " 'City Hall Park': {'primary_fur_color': 'Gray',\n",
    "  'highlights_in_fur_color': 'White',\n",
    "  'activities': 'Eating, Foraging',\n",
    "  'interactions_with_humans': 'Indifferent'},\n",
    " 'Msgr. McGolrick Park': {'primary_fur_color': 'Gray',\n",
    "  'highlights_in_fur_color': 'Cinnamon',\n",
    "  'activities': 'Running',\n",
    "  'interactions_with_humans': 'Indifferent'},\n",
    " 'John V. Lindsay East River Park': {'primary_fur_color': 'Gray',\n",
    "  'highlights_in_fur_color': 'Gray',\n",
    "  'activities': 'Running, Chasing, Eating',\n",
    "  'interactions_with_humans': None}}"
   ]
  },
  {
   "cell_type": "code",
   "execution_count": 36,
   "metadata": {},
   "outputs": [
    {
     "name": "stdout",
     "output_type": "stream",
     "text": [
      "dict_keys(['J. Hood Wright Park', 'Stuyvesant Square Park', 'Highbridge Park', 'Tompkins Square Park', 'Union Square Park', 'City Hall Park', 'Msgr. McGolrick Park', 'John V. Lindsay East River Park'])\n",
      "dict_keys(['primary_fur_color', 'activities', 'interactions_with_humans'])\n",
      "J. Hood Wright Park Cinnamon\n",
      "Stuyvesant Square Park Cinnamon\n",
      "Highbridge Park White\n",
      "Tompkins Square Park Gray\n",
      "Union Square Park N/A\n",
      "City Hall Park White\n",
      "Msgr. McGolrick Park Cinnamon\n",
      "John V. Lindsay East River Park Gray\n"
     ]
    }
   ],
   "source": [
    "# Print a list of keys from the squirrels_by_park dictionary\n",
    "print(squirrels_by_park.keys())\n",
    "\n",
    "# Print the keys from the squirrels_by_park dictionary for 'Union Square Park'\n",
    "print(squirrels_by_park['Union Square Park'].keys())\n",
    "\n",
    "# Loop over the dictionary\n",
    "for park_name in squirrels_by_park:\n",
    "    # Safely print the park_name and the highlights_in_fur_color or 'N/A'\n",
    "    print(park_name, squirrels_by_park[park_name].get('highlights_in_fur_color', 'N/A'))"
   ]
  },
  {
   "cell_type": "code",
   "execution_count": 38,
   "metadata": {},
   "outputs": [],
   "source": [
    "squirrels_by_park = {'Tompkins Square Park': [{'primary_fur_color': 'Gray',\n",
    "   'highlights_in_fur_color': 'Gray',\n",
    "   'activities': 'Foraging',\n",
    "   'interactions_with_humans': 'Approaches'},\n",
    "  {'primary_fur_color': 'Gray',\n",
    "   'highlights_in_fur_color': 'Gray',\n",
    "   'activities': 'Climbing (down tree)',\n",
    "   'interactions_with_humans': 'Indifferent'},\n",
    "  {'primary_fur_color': 'Gray',\n",
    "   'highlights_in_fur_color': 'Gray',\n",
    "   'interactions_with_humans': 'Indifferent'},\n",
    "  {'primary_fur_color': 'Gray',\n",
    "   'highlights_in_fur_color': 'Gray',\n",
    "   'activities': 'Foraging',\n",
    "   'interactions_with_humans': 'Indifferent'}],\n",
    " 'Union Square Park': [{'primary_fur_color': 'Gray',\n",
    "   'highlights_in_fur_color': None,\n",
    "   'activities': 'Eating, Foraging',\n",
    "   'interactions_with_humans': None},\n",
    "  {'primary_fur_color': 'Cinnamon',\n",
    "   'highlights_in_fur_color': None,\n",
    "   'activities': 'Foraging',\n",
    "   'interactions_with_humans': None},\n",
    "  {'primary_fur_color': 'Gray',\n",
    "   'highlights_in_fur_color': None,\n",
    "   'activities': 'Eating, Foraging',\n",
    "   'interactions_with_humans': None},\n",
    "  {'primary_fur_color': 'Gray',\n",
    "   'highlights_in_fur_color': None,\n",
    "   'activities': 'Digging',\n",
    "   'interactions_with_humans': 'Indifferent'}]}"
   ]
  },
  {
   "cell_type": "code",
   "execution_count": 39,
   "metadata": {},
   "outputs": [
    {
     "name": "stdout",
     "output_type": "stream",
     "text": [
      "Foraging\n",
      "Climbing (down tree)\n",
      "None\n",
      "Foraging\n",
      "[{'primary_fur_color': 'Cinnamon', 'highlights_in_fur_color': None, 'activities': 'Foraging', 'interactions_with_humans': None}]\n"
     ]
    }
   ],
   "source": [
    "# Use a for loop to iterate over the squirrels in Tompkins Square Park:\n",
    "for squirrel in squirrels_by_park[\"Tompkins Square Park\"]:\n",
    "\t# Safely print the activities of each squirrel or None\n",
    "    print(squirrel.get(\"activities\"))\n",
    "    \n",
    "# Print the list of 'Cinnamon' primary_fur_color squirrels in Union Square Park\n",
    "print([squirrel for squirrel in squirrels_by_park[\"Union Square Park\"] if \"Cinnamon\" == squirrel[\"primary_fur_color\"]])"
   ]
  }
 ],
 "metadata": {
  "kernelspec": {
   "display_name": "Python 3",
   "language": "python",
   "name": "python3"
  },
  "language_info": {
   "codemirror_mode": {
    "name": "ipython",
    "version": 3
   },
   "file_extension": ".py",
   "mimetype": "text/x-python",
   "name": "python",
   "nbconvert_exporter": "python",
   "pygments_lexer": "ipython3",
   "version": "3.10.5"
  },
  "orig_nbformat": 4
 },
 "nbformat": 4,
 "nbformat_minor": 2
}
