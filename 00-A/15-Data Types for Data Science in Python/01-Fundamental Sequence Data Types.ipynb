{
 "cells": [
  {
   "cell_type": "code",
   "execution_count": 2,
   "metadata": {},
   "outputs": [],
   "source": [
    "# https://docs.python.org/3/library/functions.html#sorted"
   ]
  },
  {
   "cell_type": "code",
   "execution_count": 3,
   "metadata": {},
   "outputs": [
    {
     "name": "stdout",
     "output_type": "stream",
     "text": [
      "['Ximena', 'Aliza', 'Ayden', 'Calvin', 'Rowen', 'Sandeep']\n",
      "['Ximena', 'Ayden', 'Calvin', 'Rowen', 'Sandeep']\n"
     ]
    }
   ],
   "source": [
    "# Create a list containing the names: baby_names\n",
    "baby_names = ['Ximena', 'Aliza', 'Ayden', 'Calvin']\n",
    "\n",
    "# Extend baby_names with 'Rowen' and 'Sandeep'\n",
    "baby_names.extend(['Rowen', 'Sandeep'])\n",
    "\n",
    "# Print baby_names\n",
    "print(baby_names)\n",
    "\n",
    "# Find the position of 'Aliza': position\n",
    "position = baby_names.index('Aliza')\n",
    "\n",
    "# Remove 'Aliza' from baby_names\n",
    "baby_names.pop(position)\n",
    "\n",
    "# Print baby_names\n",
    "print(baby_names)"
   ]
  },
  {
   "cell_type": "code",
   "execution_count": 4,
   "metadata": {},
   "outputs": [],
   "source": [
    "records = [['2014', 'F', '20799', 'Emma'],\n",
    " ['2014', 'F', '19674', 'Olivia'],\n",
    " ['2014', 'F', '18490', 'Sophia'],\n",
    " ['2014', 'F', '16950', 'Isabella'],\n",
    " ['2014', 'F', '15586', 'Ava'],\n",
    " ['2014', 'F', '13442', 'Mia'],\n",
    " ['2014', 'F', '12562', 'Emily'],\n",
    " ['2014', 'F', '11985', 'Abigail'],\n",
    " ['2014', 'F', '10247', 'Madison'],\n",
    " ['2014', 'F', '10048', 'Charlotte'],\n",
    " ['2014', 'F', '9564', 'Harper'],\n",
    " ['2014', 'F', '9542', 'Sofia'],\n",
    " ['2014', 'F', '9517', 'Avery'],\n",
    " ['2014', 'F', '9492', 'Elizabeth'],\n",
    " ['2014', 'F', '8727', 'Amelia'],\n",
    " ['2014', 'F', '8692', 'Evelyn'],\n",
    " ['2014', 'F', '8489', 'Ella'],\n",
    " ['2014', 'F', '8469', 'Chloe'],\n",
    " ['2014', 'F', '7955', 'Victoria'],\n",
    " ['2014', 'F', '7589', 'Aubrey'],\n",
    " ['2014', 'F', '7554', 'Grace'],\n",
    " ['2014', 'F', '7358', 'Zoey'],\n",
    " ['2014', 'F', '7061', 'Natalie'],\n",
    " ['2014', 'F', '6950', 'Addison'],\n",
    " ['2014', 'F', '6869', 'Lillian'],\n",
    " ['2014', 'F', '6767', 'Brooklyn']]"
   ]
  },
  {
   "cell_type": "code",
   "execution_count": 5,
   "metadata": {},
   "outputs": [
    {
     "name": "stdout",
     "output_type": "stream",
     "text": [
      "['Abigail', 'Addison', 'Amelia', 'Aubrey', 'Ava', 'Avery', 'Brooklyn', 'Charlotte', 'Chloe', 'Elizabeth', 'Ella', 'Emily', 'Emma', 'Evelyn', 'Grace', 'Harper', 'Isabella', 'Lillian', 'Madison', 'Mia', 'Natalie', 'Olivia', 'Sofia', 'Sophia', 'Victoria', 'Zoey']\n"
     ]
    }
   ],
   "source": [
    "# Create the list comprehension: baby_names\n",
    "baby_names = [s[3] for s in records]\n",
    "    \n",
    "# Print the sorted baby names in ascending alphabetical order\n",
    "print(sorted(baby_names))"
   ]
  },
  {
   "cell_type": "code",
   "execution_count": 9,
   "metadata": {},
   "outputs": [],
   "source": [
    "girl_names = ['Jada',\n",
    " 'Emily',\n",
    " 'Ava',\n",
    " 'Serenity',\n",
    " 'Claire',\n",
    " 'Sophia',\n",
    " 'Sarah',\n",
    " 'Ashley',\n",
    " 'Chaya',\n",
    " 'Abigail',\n",
    " 'Zoe',\n",
    " 'Leah',\n",
    " 'Hailey',\n",
    " 'Ava',\n",
    " 'Olivia',\n",
    " 'Emma',\n",
    " 'Chloe',\n",
    " 'Sophia',\n",
    " 'Aaliyah',\n",
    " 'Angela',\n",
    " 'Camila',\n",
    " 'Savannah',\n",
    " 'Serenity',\n",
    " 'Chloe',\n",
    " 'Fatoumata']\n",
    "boy_names = ['Josiah',\n",
    " 'Ethan',\n",
    " 'David',\n",
    " 'Jayden',\n",
    " 'Mason',\n",
    " 'Ryan',\n",
    " 'Christian',\n",
    " 'Isaiah',\n",
    " 'Jayden',\n",
    " 'Michael',\n",
    " 'Noah',\n",
    " 'Samuel',\n",
    " 'Sebastian',\n",
    " 'Noah',\n",
    " 'Dylan',\n",
    " 'Lucas',\n",
    " 'Joshua',\n",
    " 'Angel',\n",
    " 'Jacob',\n",
    " 'Matthew',\n",
    " 'Josiah',\n",
    " 'Jacob',\n",
    " 'Muhammad',\n",
    " 'Alexander',\n",
    " 'Jason']"
   ]
  },
  {
   "cell_type": "code",
   "execution_count": 10,
   "metadata": {},
   "outputs": [
    {
     "name": "stdout",
     "output_type": "stream",
     "text": [
      "Rank 1: Jada and Josiah\n",
      "Rank 2: Emily and Ethan\n",
      "Rank 3: Ava and David\n",
      "Rank 4: Serenity and Jayden\n",
      "Rank 5: Claire and Mason\n",
      "Rank 6: Sophia and Ryan\n",
      "Rank 7: Sarah and Christian\n",
      "Rank 8: Ashley and Isaiah\n",
      "Rank 9: Chaya and Jayden\n",
      "Rank 10: Abigail and Michael\n",
      "Rank 11: Zoe and Noah\n",
      "Rank 12: Leah and Samuel\n",
      "Rank 13: Hailey and Sebastian\n",
      "Rank 14: Ava and Noah\n",
      "Rank 15: Olivia and Dylan\n",
      "Rank 16: Emma and Lucas\n",
      "Rank 17: Chloe and Joshua\n",
      "Rank 18: Sophia and Angel\n",
      "Rank 19: Aaliyah and Jacob\n",
      "Rank 20: Angela and Matthew\n",
      "Rank 21: Camila and Josiah\n",
      "Rank 22: Savannah and Jacob\n",
      "Rank 23: Serenity and Muhammad\n",
      "Rank 24: Chloe and Alexander\n",
      "Rank 25: Fatoumata and Jason\n"
     ]
    }
   ],
   "source": [
    "# Pair up the boy and girl names: pairs\n",
    "pairs = zip(girl_names, boy_names)\n",
    "\n",
    "# Iterate over pairs\n",
    "for idx, pair in enumerate(pairs):\n",
    "    # Unpack pair: girl_name, boy_name\n",
    "    girl_name, boy_name = pair\n",
    "    # Print the rank and names associated with each rank\n",
    "    # print('Rank {}: {} and {}'.format(idx, girl_name, boy_name))\n",
    "\n",
    "    # Print the rank and names associated with each rank\n",
    "    print(f'Rank {idx+1}: {girl_name} and {boy_name}')"
   ]
  },
  {
   "cell_type": "code",
   "execution_count": 11,
   "metadata": {},
   "outputs": [
    {
     "name": "stdout",
     "output_type": "stream",
     "text": [
      "<class 'str'>\n",
      "<class 'tuple'>\n"
     ]
    }
   ],
   "source": [
    "# Create the normal variable: normal\n",
    "normal = 'simple'\n",
    "\n",
    "# Create the mistaken variable: error\n",
    "error = 'trailing comma',\n",
    "\n",
    "# Print the types of the variables\n",
    "print(type(normal))\n",
    "print(type(error))"
   ]
  },
  {
   "cell_type": "code",
   "execution_count": 14,
   "metadata": {},
   "outputs": [],
   "source": [
    "top_ten_girl_names = [(1, 'Jada'),\n",
    " (2, 'Emily'),\n",
    " (3, 'Ava'),\n",
    " (4, 'Serenity'),\n",
    " (5, 'Claire'),\n",
    " (6, 'Sophia'),\n",
    " (7, 'Sarah'),\n",
    " (8, 'Ashley'),\n",
    " (9, 'Chaya'),\n",
    " (10, 'Abigail')]"
   ]
  },
  {
   "cell_type": "code",
   "execution_count": 15,
   "metadata": {},
   "outputs": [
    {
     "name": "stdout",
     "output_type": "stream",
     "text": [
      "Rank #: 1 - Jada\n",
      "Rank #: 2 - Emily\n",
      "Rank #: 3 - Ava\n",
      "Rank #: 4 - Serenity\n",
      "Rank #: 5 - Claire\n",
      "Rank #: 6 - Sophia\n",
      "Rank #: 7 - Sarah\n",
      "Rank #: 8 - Ashley\n",
      "Rank #: 9 - Chaya\n",
      "Rank #: 10 - Abigail\n"
     ]
    }
   ],
   "source": [
    "# Loop over top_ten_girl_names and unpack each tuple into top_ten_rank and name\n",
    "for top_ten_rank , name in (top_ten_girl_names):\n",
    "  \t# Print each name in the proper format\n",
    "    print(f\"Rank #: { top_ten_rank } - { name }\")"
   ]
  },
  {
   "cell_type": "code",
   "execution_count": 16,
   "metadata": {},
   "outputs": [
    {
     "name": "stdout",
     "output_type": "stream",
     "text": [
      "The top ten boy names are: Josiah, Ethan, David, Jayden, Mason, Ryan, Christian, Isaiah, Jayden, and Jason.\n"
     ]
    }
   ],
   "source": [
    "# The top ten boy names are:  as preamble\n",
    "preamble = \"The top ten boy names are: \"\n",
    "\n",
    "# , and as conjunction\n",
    "conjunction = ', and'\n",
    "\n",
    "# Combines the first 9 names in boy_names with a comma and space as first_nine_names\n",
    "first_nine_names = \", \".join(boy_names[0:9])\n",
    "\n",
    "# Print f-string preamble, first_nine_names, conjunction, the final item in boy_names and a period\n",
    "print(f\"{preamble}{first_nine_names}{conjunction} {boy_names[-1]}.\")"
   ]
  },
  {
   "cell_type": "code",
   "execution_count": 17,
   "metadata": {},
   "outputs": [
    {
     "name": "stdout",
     "output_type": "stream",
     "text": [
      "['Serenity', 'Sophia', 'Sarah', 'Sophia', 'Savannah', 'Serenity']\n",
      "['Angela']\n"
     ]
    }
   ],
   "source": [
    "# Store a list of girl_names that start with s: names_with_s\n",
    "names_with_s = [name for name in girl_names if name.lower().startswith('s')]\n",
    "\n",
    "print(names_with_s)\n",
    "\n",
    "# Store a list of girl_names that contain angel: names_with_angel\n",
    "names_with_angel = [name for name in girl_names if 'angel' in name.lower()]\n",
    "\n",
    "print(names_with_angel)"
   ]
  },
  {
   "cell_type": "code",
   "execution_count": null,
   "metadata": {},
   "outputs": [],
   "source": [
    "import pandas as pd\n",
    "pd.read_csv('data.csv',index_col=)"
   ]
  }
 ],
 "metadata": {
  "kernelspec": {
   "display_name": "Python 3",
   "language": "python",
   "name": "python3"
  },
  "language_info": {
   "codemirror_mode": {
    "name": "ipython",
    "version": 3
   },
   "file_extension": ".py",
   "mimetype": "text/x-python",
   "name": "python",
   "nbconvert_exporter": "python",
   "pygments_lexer": "ipython3",
   "version": "3.10.5"
  },
  "orig_nbformat": 4
 },
 "nbformat": 4,
 "nbformat_minor": 2
}
