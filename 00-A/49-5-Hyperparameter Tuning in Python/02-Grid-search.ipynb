{
 "cells": [
  {
   "cell_type": "markdown",
   "metadata": {},
   "source": [
    "# Grid search\n",
    "> This chapter introduces you to a popular automated hyperparameter tuning methodology called Grid Search. You will learn what it is, how it works and practice undertaking a Grid Search using Scikit Learn. You will then learn how to analyze the output of a Grid Search & gain practical experience doing this. This is the Summary of lecture \"Hyperparameter Tuning in Python\", via datacamp.\n",
    "\n",
    "- toc: true \n",
    "- badges: true\n",
    "- comments: true\n",
    "- author: Chanseok Kang\n",
    "- categories: [Python, Datacamp]\n",
    "- image: "
   ]
  },
  {
   "cell_type": "code",
   "execution_count": 7,
   "metadata": {},
   "outputs": [],
   "source": [
    "import pandas as pd\n",
    "import numpy as np\n",
    "from pprint import pprint"
   ]
  },
  {
   "cell_type": "markdown",
   "metadata": {},
   "source": [
    "## Introducing Grid Search"
   ]
  },
  {
   "cell_type": "markdown",
   "metadata": {},
   "source": [
    "### Build Grid Search functions\n",
    "In data science it is a great idea to try building algorithms, models and processes 'from scratch' so you can really understand what is happening at a deeper level. Of course there are great packages and libraries for this work (and we will get to that very soon!) but building from scratch will give you a great edge in your data science work.\n",
    "\n",
    "In this exercise, you will create a function to take in 2 hyperparameters, build models and return results. You will use this function in a future exercise."
   ]
  },
  {
   "cell_type": "code",
   "execution_count": 8,
   "metadata": {},
   "outputs": [],
   "source": [
    "from sklearn.model_selection import train_test_split\n",
    "\n",
    "credit_card = pd.read_csv('./dataset/credit-card-full.csv')\n",
    "# To change categorical variable with dummy variables\n",
    "credit_card = pd.get_dummies(credit_card, columns=['SEX', 'EDUCATION', 'MARRIAGE'], drop_first=True)\n",
    "\n",
    "X = credit_card.drop(['ID', 'default payment next month'], axis=1)\n",
    "y = credit_card['default payment next month']\n",
    "\n",
    "X_train, X_test, y_train, y_test = train_test_split(X, y, test_size=0.3, shuffle=True)"
   ]
  },
  {
   "cell_type": "code",
   "execution_count": 9,
   "metadata": {},
   "outputs": [],
   "source": [
    "from sklearn.ensemble import GradientBoostingClassifier\n",
    "from sklearn.metrics import accuracy_score\n",
    "\n",
    "# Create the function\n",
    "def gbm_grid_search(learn_rate, max_depth):\n",
    "    # Create the model\n",
    "    model = GradientBoostingClassifier(learning_rate=learn_rate, max_depth=max_depth)\n",
    "    \n",
    "    # Use the model to make predictions\n",
    "    predictions = model.fit(X_train, y_train).predict(X_test)\n",
    "    \n",
    "    # Return the hyperparameters and score\n",
    "    return ([learn_rate, max_depth, accuracy_score(y_test, predictions)])"
   ]
  },
  {
   "cell_type": "code",
   "execution_count": 10,
   "metadata": {},
   "outputs": [],
   "source": [
    "# Create the function\n",
    "def gbm_grid_search(learning_rate, max_depth):\n",
    "\n",
    "\t# Create the model\n",
    "    model = GradientBoostingClassifier(learning_rate=learning_rate, max_depth=max_depth)\n",
    "    \n",
    "    # Use the model to make predictions\n",
    "    predictions = model.fit(X_train, y_train).predict(X_test)\n",
    "    \n",
    "    # Return the hyperparameters and score\n",
    "    return([learning_rate, max_depth, accuracy_score(y_test, predictions)])"
   ]
  },
  {
   "cell_type": "markdown",
   "metadata": {},
   "source": [
    "### Iteratively tune multiple hyperparameters\n",
    "In this exercise, you will build on the function you previously created to take in 2 hyperparameters, build a model and return the results. You will now use that to loop through some values and then extend this function and loop with another hyperparameter."
   ]
  },
  {
   "cell_type": "code",
   "execution_count": 11,
   "metadata": {},
   "outputs": [
    {
     "name": "stdout",
     "output_type": "stream",
     "text": [
      "[[0.01, 2, 0.8247777777777778],\n",
      " [0.01, 4, 0.8201111111111111],\n",
      " [0.01, 6, 0.82],\n",
      " [0.1, 2, 0.8261111111111111],\n",
      " [0.1, 4, 0.8242222222222222],\n",
      " [0.1, 6, 0.8205555555555556],\n",
      " [0.5, 2, 0.8203333333333334],\n",
      " [0.5, 4, 0.8068888888888889],\n",
      " [0.5, 6, 0.7886666666666666]]\n"
     ]
    }
   ],
   "source": [
    "# Create the relevant lists\n",
    "results_list = []\n",
    "learn_rate_list = [0.01, 0.1, 0.5]\n",
    "max_depth_list = [2, 4, 6]\n",
    "\n",
    "# Create the for loop\n",
    "for learn_rate in learn_rate_list:\n",
    "    for max_depth in max_depth_list:\n",
    "        results_list.append(gbm_grid_search(learn_rate, max_depth))\n",
    "        \n",
    "# Print the results\n",
    "pprint(results_list)"
   ]
  },
  {
   "cell_type": "code",
   "execution_count": 12,
   "metadata": {},
   "outputs": [
    {
     "name": "stdout",
     "output_type": "stream",
     "text": [
      "[[0.01, 2, 0.8247777777777778], [0.01, 4, 0.8201111111111111], [0.01, 6, 0.8201111111111111], [0.1, 2, 0.8261111111111111], [0.1, 4, 0.824], [0.1, 6, 0.8221111111111111], [0.5, 2, 0.8203333333333334], [0.5, 4, 0.8067777777777778], [0.5, 6, 0.7835555555555556]]\n"
     ]
    }
   ],
   "source": [
    "# Create the relevant lists\n",
    "results_list = []\n",
    "learn_rate_list = [0.01, 0.1, 0.5]\n",
    "max_depth_list = [2,4,6]\n",
    "\n",
    "# Create the for loop\n",
    "for learn_rate in learn_rate_list:\n",
    "    for max_depth in max_depth_list:\n",
    "        results_list.append(gbm_grid_search(learn_rate,max_depth))\n",
    "\n",
    "# Print the results\n",
    "print(results_list)   "
   ]
  },
  {
   "cell_type": "code",
   "execution_count": 13,
   "metadata": {},
   "outputs": [],
   "source": [
    "# Extend the function input\n",
    "def gbm_grid_search_extended(learn_rate, max_depth, subsample):\n",
    "    # Extend the model creation section\n",
    "    model = GradientBoostingClassifier(learning_rate=learn_rate, max_depth=max_depth,\n",
    "                                       subsample=subsample)\n",
    "    \n",
    "    predictions = model.fit(X_train, y_train).predict(X_test)\n",
    "    \n",
    "    # Extend the return part\n",
    "    return([learn_rate, max_depth, subsample, accuracy_score(y_test, predictions)])"
   ]
  },
  {
   "cell_type": "code",
   "execution_count": 14,
   "metadata": {},
   "outputs": [
    {
     "name": "stdout",
     "output_type": "stream",
     "text": [
      "[[0.01, 2, 0.8247777777777778],\n",
      " [0.01, 4, 0.8201111111111111],\n",
      " [0.01, 6, 0.8201111111111111],\n",
      " [0.1, 2, 0.8261111111111111],\n",
      " [0.1, 4, 0.824],\n",
      " [0.1, 6, 0.8221111111111111],\n",
      " [0.5, 2, 0.8203333333333334],\n",
      " [0.5, 4, 0.8067777777777778],\n",
      " [0.5, 6, 0.7835555555555556],\n",
      " [0.01, 2, 0.4, 0.8238888888888889],\n",
      " [0.01, 2, 0.6, 0.8242222222222222],\n",
      " [0.01, 4, 0.4, 0.8224444444444444],\n",
      " [0.01, 4, 0.6, 0.8222222222222222],\n",
      " [0.01, 6, 0.4, 0.8192222222222222],\n",
      " [0.01, 6, 0.6, 0.8212222222222222],\n",
      " [0.1, 2, 0.4, 0.8256666666666667],\n",
      " [0.1, 2, 0.6, 0.8261111111111111],\n",
      " [0.1, 4, 0.4, 0.823],\n",
      " [0.1, 4, 0.6, 0.823],\n",
      " [0.1, 6, 0.4, 0.8183333333333334],\n",
      " [0.1, 6, 0.6, 0.8205555555555556],\n",
      " [0.5, 2, 0.4, 0.8178888888888889],\n",
      " [0.5, 2, 0.6, 0.8196666666666667],\n",
      " [0.5, 4, 0.4, 0.7988888888888889],\n",
      " [0.5, 4, 0.6, 0.8006666666666666],\n",
      " [0.5, 6, 0.4, 0.7782222222222223],\n",
      " [0.5, 6, 0.6, 0.7816666666666666]]\n"
     ]
    }
   ],
   "source": [
    "# Create the new list to test\n",
    "subsample_list = [0.4, 0.6]\n",
    "\n",
    "for learn_rate in learn_rate_list:\n",
    "    for max_depth in max_depth_list:\n",
    "        # Extend the for loop\n",
    "        for subsample in subsample_list:\n",
    "            # Extend the results to include the new hyperparameter\n",
    "            results_list.append(gbm_grid_search_extended(learn_rate, max_depth, subsample))\n",
    "            \n",
    "# Print the results\n",
    "pprint(results_list)"
   ]
  },
  {
   "cell_type": "markdown",
   "metadata": {},
   "source": [
    "## Grid Search with Scikit Learn\n",
    "- Steps in a Grid Search\n",
    "    1. An algorithm to tune the hyperparameters (or estimator)\n",
    "    2. Defining which hyperparameters to tune\n",
    "    3. Defining a range of values for each hyperparameter\n",
    "    4. Setting a cross-validatoin scheme\n",
    "    5. Defining a score function so we can decide which square on our grid was 'the best'\n",
    "    6. Include extra useful information or functions"
   ]
  },
  {
   "cell_type": "markdown",
   "metadata": {},
   "source": [
    "### GridSearchCV with Scikit Learn\n",
    "The `GridSearchCV` module from Scikit Learn provides many useful features to assist with efficiently undertaking a grid search. You will now put your learning into practice by creating a `GridSearchCV` object with certain parameters.\n",
    "\n",
    "The desired options are:\n",
    "\n",
    "- A Random Forest Estimator, with the split criterion as 'entropy'\n",
    "- 5-fold cross validation\n",
    "- The hyperparameters `max_depth` (2, 4, 8, 15) and `max_features` ('auto' vs 'sqrt')\n",
    "- Use `roc_auc` to score the models\n",
    "- Use 4 cores for processing in parallel\n",
    "- Ensure you refit the best model and return training scores"
   ]
  },
  {
   "cell_type": "code",
   "execution_count": 15,
   "metadata": {},
   "outputs": [
    {
     "name": "stdout",
     "output_type": "stream",
     "text": [
      "GridSearchCV(cv=5, estimator=RandomForestClassifier(criterion='entropy'),\n",
      "             n_jobs=4,\n",
      "             param_grid={'max_depth': [2, 4, 8, 15],\n",
      "                         'max_features': ['auto', 'sqrt']},\n",
      "             return_train_score=True, scoring='roc_auc')\n"
     ]
    }
   ],
   "source": [
    "from sklearn.model_selection import GridSearchCV\n",
    "from sklearn.ensemble import RandomForestClassifier\n",
    "\n",
    "# Create a Random Forest Classifier with specified criterion\n",
    "rf_class = RandomForestClassifier(criterion='entropy')\n",
    "\n",
    "# Create the parametergrid\n",
    "param_grid = {\n",
    "    'max_depth':[2, 4, 8, 15],\n",
    "    'max_features':['auto', 'sqrt']\n",
    "}\n",
    "\n",
    "# Create a GridSearchCV object\n",
    "grid_rf_class = GridSearchCV(\n",
    "    estimator=rf_class,\n",
    "    param_grid=param_grid,\n",
    "    scoring='roc_auc',\n",
    "    n_jobs=4,\n",
    "    cv=5,\n",
    "    refit=True,\n",
    "    return_train_score=True\n",
    ")\n",
    "\n",
    "print(grid_rf_class)"
   ]
  },
  {
   "cell_type": "markdown",
   "metadata": {},
   "source": [
    "## Understanding a grid search output\n"
   ]
  },
  {
   "cell_type": "markdown",
   "metadata": {},
   "source": [
    "### Exploring the grid search results\n",
    "You will now explore the `cv_results_` property of the GridSearchCV object defined in the video. This is a dictionary that we can read into a pandas DataFrame and contains a lot of useful information about the grid search we just undertook.\n",
    "\n",
    "A reminder of the different column types in this property:\n",
    "\n",
    "- `time_` columns\n",
    "- `param_` columns (one for each hyperparameter) and the singular params column (with all hyperparameter settings)\n",
    "- a `train_score` column for each cv fold including the mean_train_score and std_train_score columns\n",
    "- a `test_score` column for each cv fold including the mean_test_score and std_test_score columns\n",
    "- a `rank_test_score` column with a number from 1 to n (number of iterations) ranking the rows based on their `mean_test_score`"
   ]
  },
  {
   "cell_type": "code",
   "execution_count": 16,
   "metadata": {},
   "outputs": [
    {
     "name": "stderr",
     "output_type": "stream",
     "text": [
      "c:\\Users\\jdamodhar\\AppData\\Local\\Programs\\Python\\Python311\\Lib\\site-packages\\sklearn\\model_selection\\_validation.py:425: FitFailedWarning: \n",
      "20 fits failed out of a total of 40.\n",
      "The score on these train-test partitions for these parameters will be set to nan.\n",
      "If these failures are not expected, you can try to debug them by setting error_score='raise'.\n",
      "\n",
      "Below are more details about the failures:\n",
      "--------------------------------------------------------------------------------\n",
      "4 fits failed with the following error:\n",
      "Traceback (most recent call last):\n",
      "  File \"c:\\Users\\jdamodhar\\AppData\\Local\\Programs\\Python\\Python311\\Lib\\site-packages\\sklearn\\model_selection\\_validation.py\", line 729, in _fit_and_score\n",
      "    estimator.fit(X_train, y_train, **fit_params)\n",
      "  File \"c:\\Users\\jdamodhar\\AppData\\Local\\Programs\\Python\\Python311\\Lib\\site-packages\\sklearn\\base.py\", line 1145, in wrapper\n",
      "    estimator._validate_params()\n",
      "  File \"c:\\Users\\jdamodhar\\AppData\\Local\\Programs\\Python\\Python311\\Lib\\site-packages\\sklearn\\base.py\", line 638, in _validate_params\n",
      "    validate_parameter_constraints(\n",
      "  File \"c:\\Users\\jdamodhar\\AppData\\Local\\Programs\\Python\\Python311\\Lib\\site-packages\\sklearn\\utils\\_param_validation.py\", line 96, in validate_parameter_constraints\n",
      "    raise InvalidParameterError(\n",
      "sklearn.utils._param_validation.InvalidParameterError: The 'max_features' parameter of RandomForestClassifier must be an int in the range [1, inf), a float in the range (0.0, 1.0], a str among {'log2', 'sqrt'} or None. Got 'auto' instead.\n",
      "\n",
      "--------------------------------------------------------------------------------\n",
      "16 fits failed with the following error:\n",
      "Traceback (most recent call last):\n",
      "  File \"c:\\Users\\jdamodhar\\AppData\\Local\\Programs\\Python\\Python311\\Lib\\site-packages\\sklearn\\model_selection\\_validation.py\", line 729, in _fit_and_score\n",
      "    estimator.fit(X_train, y_train, **fit_params)\n",
      "  File \"c:\\Users\\jdamodhar\\AppData\\Local\\Programs\\Python\\Python311\\Lib\\site-packages\\sklearn\\base.py\", line 1145, in wrapper\n",
      "    estimator._validate_params()\n",
      "  File \"c:\\Users\\jdamodhar\\AppData\\Local\\Programs\\Python\\Python311\\Lib\\site-packages\\sklearn\\base.py\", line 638, in _validate_params\n",
      "    validate_parameter_constraints(\n",
      "  File \"c:\\Users\\jdamodhar\\AppData\\Local\\Programs\\Python\\Python311\\Lib\\site-packages\\sklearn\\utils\\_param_validation.py\", line 96, in validate_parameter_constraints\n",
      "    raise InvalidParameterError(\n",
      "sklearn.utils._param_validation.InvalidParameterError: The 'max_features' parameter of RandomForestClassifier must be an int in the range [1, inf), a float in the range (0.0, 1.0], a str among {'sqrt', 'log2'} or None. Got 'auto' instead.\n",
      "\n",
      "  warnings.warn(some_fits_failed_message, FitFailedWarning)\n",
      "c:\\Users\\jdamodhar\\AppData\\Local\\Programs\\Python\\Python311\\Lib\\site-packages\\sklearn\\model_selection\\_search.py:979: UserWarning: One or more of the test scores are non-finite: [       nan 0.76415799        nan 0.76961365        nan 0.77770447\n",
      "        nan 0.7762872 ]\n",
      "  warnings.warn(\n",
      "c:\\Users\\jdamodhar\\AppData\\Local\\Programs\\Python\\Python311\\Lib\\site-packages\\sklearn\\model_selection\\_search.py:979: UserWarning: One or more of the train scores are non-finite: [       nan 0.76706883        nan 0.77650607        nan 0.82715954\n",
      "        nan 0.9759305 ]\n",
      "  warnings.warn(\n"
     ]
    },
    {
     "name": "stdout",
     "output_type": "stream",
     "text": [
      "   mean_fit_time  std_fit_time  mean_score_time  std_score_time  \\\n",
      "0       0.009405      0.000416         0.000000        0.000000   \n",
      "1       2.580813      0.058226         0.058823        0.006613   \n",
      "2       0.004173      0.002546         0.000000        0.000000   \n",
      "3       4.819956      0.105741         0.066368        0.007754   \n",
      "4       0.007178      0.003924         0.000000        0.000000   \n",
      "5       9.375329      0.053273         0.091515        0.004063   \n",
      "6       0.006056      0.003066         0.000000        0.000000   \n",
      "7      15.773552      0.673085         0.123644        0.006727   \n",
      "\n",
      "  param_max_depth param_max_features  \\\n",
      "0               2               auto   \n",
      "1               2               sqrt   \n",
      "2               4               auto   \n",
      "3               4               sqrt   \n",
      "4               8               auto   \n",
      "5               8               sqrt   \n",
      "6              15               auto   \n",
      "7              15               sqrt   \n",
      "\n",
      "                                      params  split0_test_score  \\\n",
      "0   {'max_depth': 2, 'max_features': 'auto'}                NaN   \n",
      "1   {'max_depth': 2, 'max_features': 'sqrt'}           0.764825   \n",
      "2   {'max_depth': 4, 'max_features': 'auto'}                NaN   \n",
      "3   {'max_depth': 4, 'max_features': 'sqrt'}           0.769796   \n",
      "4   {'max_depth': 8, 'max_features': 'auto'}                NaN   \n",
      "5   {'max_depth': 8, 'max_features': 'sqrt'}           0.777636   \n",
      "6  {'max_depth': 15, 'max_features': 'auto'}                NaN   \n",
      "7  {'max_depth': 15, 'max_features': 'sqrt'}           0.776761   \n",
      "\n",
      "   split1_test_score  split2_test_score  ...  mean_test_score  std_test_score  \\\n",
      "0                NaN                NaN  ...              NaN             NaN   \n",
      "1           0.764288           0.770445  ...         0.764158        0.006439   \n",
      "2                NaN                NaN  ...              NaN             NaN   \n",
      "3           0.769435           0.777726  ...         0.769614        0.005782   \n",
      "4                NaN                NaN  ...              NaN             NaN   \n",
      "5           0.775812           0.786898  ...         0.777704        0.005640   \n",
      "6                NaN                NaN  ...              NaN             NaN   \n",
      "7           0.773627           0.781391  ...         0.776287        0.002835   \n",
      "\n",
      "   rank_test_score  split0_train_score  split1_train_score  \\\n",
      "0                5                 NaN                 NaN   \n",
      "1                4            0.767471            0.766353   \n",
      "2                5                 NaN                 NaN   \n",
      "3                3            0.775786            0.777771   \n",
      "4                5                 NaN                 NaN   \n",
      "5                1            0.827462            0.828330   \n",
      "6                5                 NaN                 NaN   \n",
      "7                2            0.975867            0.974839   \n",
      "\n",
      "   split2_train_score  split3_train_score  split4_train_score  \\\n",
      "0                 NaN                 NaN                 NaN   \n",
      "1            0.764372            0.767325            0.769823   \n",
      "2                 NaN                 NaN                 NaN   \n",
      "3            0.774029            0.775834            0.779111   \n",
      "4                 NaN                 NaN                 NaN   \n",
      "5            0.824610            0.825598            0.829798   \n",
      "6                 NaN                 NaN                 NaN   \n",
      "7            0.974931            0.976834            0.977181   \n",
      "\n",
      "   mean_train_score  std_train_score  \n",
      "0               NaN              NaN  \n",
      "1          0.767069         0.001766  \n",
      "2               NaN              NaN  \n",
      "3          0.776506         0.001760  \n",
      "4               NaN              NaN  \n",
      "5          0.827160         0.001864  \n",
      "6               NaN              NaN  \n",
      "7          0.975931         0.000956  \n",
      "\n",
      "[8 rows x 22 columns]\n",
      "                                      params\n",
      "0   {'max_depth': 2, 'max_features': 'auto'}\n",
      "1   {'max_depth': 2, 'max_features': 'sqrt'}\n",
      "2   {'max_depth': 4, 'max_features': 'auto'}\n",
      "3   {'max_depth': 4, 'max_features': 'sqrt'}\n",
      "4   {'max_depth': 8, 'max_features': 'auto'}\n",
      "5   {'max_depth': 8, 'max_features': 'sqrt'}\n",
      "6  {'max_depth': 15, 'max_features': 'auto'}\n",
      "7  {'max_depth': 15, 'max_features': 'sqrt'}\n",
      "   mean_fit_time  std_fit_time  mean_score_time  std_score_time  \\\n",
      "5       9.375329      0.053273         0.091515        0.004063   \n",
      "\n",
      "  param_max_depth param_max_features  \\\n",
      "5               8               sqrt   \n",
      "\n",
      "                                     params  split0_test_score  \\\n",
      "5  {'max_depth': 8, 'max_features': 'sqrt'}           0.777636   \n",
      "\n",
      "   split1_test_score  split2_test_score  ...  mean_test_score  std_test_score  \\\n",
      "5           0.775812           0.786898  ...         0.777704         0.00564   \n",
      "\n",
      "   rank_test_score  split0_train_score  split1_train_score  \\\n",
      "5                1            0.827462             0.82833   \n",
      "\n",
      "   split2_train_score  split3_train_score  split4_train_score  \\\n",
      "5             0.82461            0.825598            0.829798   \n",
      "\n",
      "   mean_train_score  std_train_score  \n",
      "5           0.82716         0.001864  \n",
      "\n",
      "[1 rows x 22 columns]\n"
     ]
    }
   ],
   "source": [
    "grid_rf_class.fit(X_train, y_train)\n",
    "\n",
    "# Read the cv_results property into adataframe & print it out\n",
    "cv_results_df = pd.DataFrame(grid_rf_class.cv_results_)\n",
    "print(cv_results_df)\n",
    "\n",
    "# Extract and print the column with a dictionary of hyperparameters used\n",
    "column = cv_results_df.loc[:, [\"params\"]]\n",
    "print(column)\n",
    "\n",
    "# Extract and print the row that had the best mean test score\n",
    "best_row = cv_results_df[cv_results_df['rank_test_score'] == 1]\n",
    "print(best_row)"
   ]
  },
  {
   "cell_type": "markdown",
   "metadata": {},
   "source": [
    "### Analyzing the best results\n",
    "At the end of the day, we primarily care about the best performing 'square' in a grid search. Luckily Scikit Learn's `gridSearchCV` objects have a number of parameters that provide key information on just the best square (or row in `cv_results_`).\n",
    "\n",
    "Three properties you will explore are:\n",
    "\n",
    "- `best_score_` – The score (here ROC_AUC) from the best-performing square.\n",
    "- `best_index_` – The index of the row in `cv_results_` containing information on the best-performing square.\n",
    "- `best_params_` – A dictionary of the parameters that gave the best score, for example 'max_depth': 10"
   ]
  },
  {
   "cell_type": "code",
   "execution_count": 18,
   "metadata": {},
   "outputs": [
    {
     "name": "stdout",
     "output_type": "stream",
     "text": [
      "0.7777044689863734\n",
      "   mean_fit_time  std_fit_time  mean_score_time  std_score_time  \\\n",
      "5       9.375329      0.053273         0.091515        0.004063   \n",
      "\n",
      "  param_max_depth param_max_features  \\\n",
      "5               8               sqrt   \n",
      "\n",
      "                                     params  split0_test_score  \\\n",
      "5  {'max_depth': 8, 'max_features': 'sqrt'}           0.777636   \n",
      "\n",
      "   split1_test_score  split2_test_score  ...  mean_test_score  std_test_score  \\\n",
      "5           0.775812           0.786898  ...         0.777704         0.00564   \n",
      "\n",
      "   rank_test_score  split0_train_score  split1_train_score  \\\n",
      "5                1            0.827462             0.82833   \n",
      "\n",
      "   split2_train_score  split3_train_score  split4_train_score  \\\n",
      "5             0.82461            0.825598            0.829798   \n",
      "\n",
      "   mean_train_score  std_train_score  \n",
      "5           0.82716         0.001864  \n",
      "\n",
      "[1 rows x 22 columns]\n",
      "8\n"
     ]
    }
   ],
   "source": [
    "# Print out the ROC_AUC score from the best-performing square\n",
    "best_score = grid_rf_class.best_score_\n",
    "print(best_score)\n",
    "\n",
    "# Create a variable from the row related to the best-performing square\n",
    "cv_results_df = pd.DataFrame(grid_rf_class.cv_results_)\n",
    "best_row = cv_results_df.loc[[grid_rf_class.best_index_]]\n",
    "print(best_row)\n",
    "\n",
    "# Get the max_depth parameter from the best-performing square and print\n",
    "best_max_depth = grid_rf_class.best_params_['max_depth']\n",
    "print(best_max_depth)\n",
    "\n",
    "# Get the n_estimators parameter from the best-performing square and print\n",
    "# best_n_estimators = grid_rf_class.best_params_[\"n_estimators\"]\n",
    "# print(best_n_estimators)"
   ]
  },
  {
   "cell_type": "markdown",
   "metadata": {},
   "source": [
    "### Using the best results\n",
    "While it is interesting to analyze the results of our grid search, our final goal is practical in nature; we want to make predictions on our test set using our estimator object.\n",
    "\n",
    "We can access this object through the `best_estimator_` property of our grid search object.\n",
    "\n",
    "In this exercise we will take a look inside the `best_estimator_` property and then use this to make predictions on our test set for credit card defaults and generate a variety of scores. Remember to use `predict_proba` rather than `predict` since we need probability values rather than class labels for our roc_auc score. We use a slice `[:,1]` to get probabilities of the positive class."
   ]
  },
  {
   "cell_type": "code",
   "execution_count": 19,
   "metadata": {},
   "outputs": [
    {
     "name": "stdout",
     "output_type": "stream",
     "text": [
      "<class 'sklearn.ensemble._forest.RandomForestClassifier'>\n",
      "[0 1 0 0 0]\n",
      "Confusion Matrix \n",
      " [[6703  334]\n",
      " [1245  718]]\n",
      "ROC-AUC Score \n",
      " 0.7873872915817717\n"
     ]
    }
   ],
   "source": [
    "from sklearn.metrics import confusion_matrix, roc_auc_score\n",
    "\n",
    "# See what type of object the best_estimator_property is\n",
    "print(type(grid_rf_class.best_estimator_))\n",
    "\n",
    "# Create an array of predictions directly using the best_estimator_property\n",
    "predictions = grid_rf_class.best_estimator_.predict(X_test)\n",
    "\n",
    "# Take a look to confirm it worked, this should be an array of 1's and 0's\n",
    "print(predictions[0:5])\n",
    "\n",
    "# Now create a confusion matrix\n",
    "print(\"Confusion Matrix \\n\", confusion_matrix(y_test, predictions))\n",
    "\n",
    "# Get the ROC-AUC score\n",
    "predictions_proba = grid_rf_class.best_estimator_.predict_proba(X_test)[:, 1]\n",
    "print(\"ROC-AUC Score \\n\", roc_auc_score(y_test, predictions_proba))"
   ]
  },
  {
   "cell_type": "markdown",
   "metadata": {},
   "source": [
    "The `.best_estimator_` property is a really powerful property to understand for streamlining your machine learning model building process. You now can run a grid search and seamlessly use the best model from that search to make predictions."
   ]
  }
 ],
 "metadata": {
  "kernelspec": {
   "display_name": "Python 3",
   "language": "python",
   "name": "python3"
  },
  "language_info": {
   "codemirror_mode": {
    "name": "ipython",
    "version": 3
   },
   "file_extension": ".py",
   "mimetype": "text/x-python",
   "name": "python",
   "nbconvert_exporter": "python",
   "pygments_lexer": "ipython3",
   "version": "3.11.6"
  }
 },
 "nbformat": 4,
 "nbformat_minor": 4
}
