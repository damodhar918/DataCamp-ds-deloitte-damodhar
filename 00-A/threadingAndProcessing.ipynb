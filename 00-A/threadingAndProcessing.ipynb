{
 "cells": [
  {
   "cell_type": "code",
   "execution_count": 1,
   "metadata": {},
   "outputs": [
    {
     "name": "stdout",
     "output_type": "stream",
     "text": [
      "0\n",
      "1\n",
      "2\n",
      "3\n",
      "4\n",
      "5\n",
      "6\n",
      "7\n",
      "8\n",
      "9\n",
      "a\n",
      "b\n",
      "c\n",
      "d\n",
      "e\n"
     ]
    }
   ],
   "source": [
    "import threading \n",
    "\n",
    "def print_numbers():\n",
    "    for i in range(10):\n",
    "        print(i)\n",
    "\n",
    "def print_letters():\n",
    "    for letter in ['a', 'b', 'c', 'd', 'e']:\n",
    "        print(letter)\n",
    "\n",
    "t1 = threading.Thread(target=print_numbers)\n",
    "t2 = threading.Thread(target=print_letters)\n",
    "\n",
    "t1.start()\n",
    "t2.start()\n",
    "\n",
    "t1.join()\n",
    "t2.join()"
   ]
  },
  {
   "cell_type": "code",
   "execution_count": 4,
   "metadata": {},
   "outputs": [],
   "source": [
    "import multiprocessing \n",
    "\n",
    "def square(nums):\n",
    "    for num in nums:\n",
    "        print('Square:', num*num)\n",
    "\n",
    "def cube(nums):\n",
    "    for num in nums:\n",
    "        print('Cube:', num*num*num)\n",
    "\n",
    "if __name__ == '__main__':\n",
    "    processes = []\n",
    "    nums = range(10)\n",
    "    \n",
    "    p1 = multiprocessing.Process(target=square, args=(nums,))\n",
    "    p2 = multiprocessing.Process(target=cube, args=(nums,))\n",
    "    \n",
    "    processes.append(p1)\n",
    "    processes.append(p2)\n",
    "    \n",
    "    for process in processes:\n",
    "        process.start()\n",
    "    \n",
    "    for process in processes:\n",
    "        process.join()"
   ]
  },
  {
   "cell_type": "code",
   "execution_count": 6,
   "metadata": {},
   "outputs": [
    {
     "data": {
      "text/plain": [
       "[<Process name='Process-9' pid=50116 parent=58728 stopped exitcode=1>,\n",
       " <Process name='Process-10' pid=58344 parent=58728 stopped exitcode=1>]"
      ]
     },
     "execution_count": 6,
     "metadata": {},
     "output_type": "execute_result"
    }
   ],
   "source": [
    "processes = []\n",
    "nums = range(10)\n",
    "\n",
    "p1 = multiprocessing.Process(target=square, args=(nums,))\n",
    "p2 = multiprocessing.Process(target=cube, args=(nums,))\n",
    "\n",
    "processes.append(p1)\n",
    "processes.append(p2)\n",
    "\n",
    "for process in processes:\n",
    "    process.start()\n",
    "\n",
    "for process in processes:\n",
    "    process.join()\n",
    "processes"
   ]
  },
  {
   "cell_type": "code",
   "execution_count": null,
   "metadata": {},
   "outputs": [],
   "source": [
    "# Threading, multiprocessing, and multitasking are techniques used in Python to execute multiple tasks simultaneously. \n",
    "\n",
    "# Threading is used to execute multiple threads (smaller tasks) within a single process. With threading, different threads within the same process share the same memory and resources, which can result in more efficient performance. Threading can be implemented using the built-in “threading” module in Python. \n",
    "\n",
    "# Here is an example code for threading:\n",
    "# ```\n",
    "\n",
    "# ```\n",
    "# The above code creates two threads: \"t1\" and \"t2\". The \"target\" argument specifies which function the thread should run - \"print_numbers\" for \"t1\" and \"print_letters\" for \"t2\". Each thread is started using the \"start\" method and \"join\" is used to wait until both threads complete execution.\n",
    "\n",
    "# Multiprocessing is used to execute multiple processes simultaneously. Each process is a separate instance of a program, which means that each process has its own memory and resources. Multiprocessing can be implemented using the built-in “multiprocessing” module in Python. \n",
    "\n",
    "# Here is an example code for multiprocessing: \n",
    "# ```\n",
    "\n",
    "# ```\n",
    "# The above code defines \"square\" and \"cube\" functions which take a list of numbers as an argument and respectively compute the square and cube of each number in the list. Two processes \"p1\" and \"p2\" are created and each are given a target function along with arguments.\n",
    "\n",
    "# The code makes use of the \"if __name__ == '__main__':\" check to avoid errors that may be caused when running multiprocessing on Windows.\n",
    "\n",
    "# In general, multiprocessing is used when you are working with larger sets of data or when performing computationally expensive tasks.\n",
    "\n",
    "# Multitasking is a technique used to execute multiple tasks simultaneously, either using threading or multiprocessing. \n",
    "\n",
    "# In summary, threading is used when dealing with small sets of data where shared resources are required, multiprocessing is used for dealing with large sets of data and where parallel computing is required, and multitasking can be used in both cases."
   ]
  }
 ],
 "metadata": {
  "kernelspec": {
   "display_name": "Python 3",
   "language": "python",
   "name": "python3"
  },
  "language_info": {
   "codemirror_mode": {
    "name": "ipython",
    "version": 3
   },
   "file_extension": ".py",
   "mimetype": "text/x-python",
   "name": "python",
   "nbconvert_exporter": "python",
   "pygments_lexer": "ipython3",
   "version": "3.10.5"
  },
  "orig_nbformat": 4
 },
 "nbformat": 4,
 "nbformat_minor": 2
}
