{
 "cells": [
  {
   "cell_type": "code",
   "execution_count": 48,
   "metadata": {},
   "outputs": [
    {
     "data": {
      "text/html": [
       "<div>\n",
       "<style scoped>\n",
       "    .dataframe tbody tr th:only-of-type {\n",
       "        vertical-align: middle;\n",
       "    }\n",
       "\n",
       "    .dataframe tbody tr th {\n",
       "        vertical-align: top;\n",
       "    }\n",
       "\n",
       "    .dataframe thead th {\n",
       "        text-align: right;\n",
       "    }\n",
       "</style>\n",
       "<table border=\"1\" class=\"dataframe\">\n",
       "  <thead>\n",
       "    <tr style=\"text-align: right;\">\n",
       "      <th></th>\n",
       "      <th>Working_Year</th>\n",
       "      <th>Designation</th>\n",
       "      <th>Experience</th>\n",
       "      <th>Employment_Status</th>\n",
       "      <th>Employee_Location</th>\n",
       "      <th>Company_Size</th>\n",
       "      <th>Remote_Working_Ratio</th>\n",
       "      <th>Salary_USD</th>\n",
       "    </tr>\n",
       "  </thead>\n",
       "  <tbody>\n",
       "    <tr>\n",
       "      <th>0</th>\n",
       "      <td>2020</td>\n",
       "      <td>Data Scientist</td>\n",
       "      <td>Mid</td>\n",
       "      <td>FT</td>\n",
       "      <td>DE</td>\n",
       "      <td>L</td>\n",
       "      <td>0</td>\n",
       "      <td>76227.0</td>\n",
       "    </tr>\n",
       "    <tr>\n",
       "      <th>1</th>\n",
       "      <td>2020</td>\n",
       "      <td>Machine Learning Scientist</td>\n",
       "      <td>Senior</td>\n",
       "      <td>FT</td>\n",
       "      <td>JP</td>\n",
       "      <td>S</td>\n",
       "      <td>0</td>\n",
       "      <td>248257.0</td>\n",
       "    </tr>\n",
       "    <tr>\n",
       "      <th>2</th>\n",
       "      <td>2020</td>\n",
       "      <td>Big Data Engineer</td>\n",
       "      <td>Senior</td>\n",
       "      <td>FT</td>\n",
       "      <td>GB</td>\n",
       "      <td>M</td>\n",
       "      <td>50</td>\n",
       "      <td>104100.0</td>\n",
       "    </tr>\n",
       "    <tr>\n",
       "      <th>3</th>\n",
       "      <td>2020</td>\n",
       "      <td>Product Data Analyst</td>\n",
       "      <td>Mid</td>\n",
       "      <td>FT</td>\n",
       "      <td>HN</td>\n",
       "      <td>S</td>\n",
       "      <td>0</td>\n",
       "      <td>19097.0</td>\n",
       "    </tr>\n",
       "    <tr>\n",
       "      <th>4</th>\n",
       "      <td>2020</td>\n",
       "      <td>Machine Learning Engineer</td>\n",
       "      <td>Senior</td>\n",
       "      <td>FT</td>\n",
       "      <td>US</td>\n",
       "      <td>L</td>\n",
       "      <td>50</td>\n",
       "      <td>143225.0</td>\n",
       "    </tr>\n",
       "  </tbody>\n",
       "</table>\n",
       "</div>"
      ],
      "text/plain": [
       "   Working_Year                 Designation Experience Employment_Status  \\\n",
       "0          2020              Data Scientist        Mid                FT   \n",
       "1          2020  Machine Learning Scientist     Senior                FT   \n",
       "2          2020           Big Data Engineer     Senior                FT   \n",
       "3          2020        Product Data Analyst        Mid                FT   \n",
       "4          2020   Machine Learning Engineer     Senior                FT   \n",
       "\n",
       "  Employee_Location Company_Size  Remote_Working_Ratio  Salary_USD  \n",
       "0                DE            L                     0     76227.0  \n",
       "1                JP            S                     0    248257.0  \n",
       "2                GB            M                    50    104100.0  \n",
       "3                HN            S                     0     19097.0  \n",
       "4                US            L                    50    143225.0  "
      ]
     },
     "execution_count": 48,
     "metadata": {},
     "output_type": "execute_result"
    }
   ],
   "source": [
    "import numpy as np\n",
    "import pandas as pd\n",
    "import matplotlib.pyplot as plt\n",
    "import seaborn as sns\n",
    "\n",
    "salaries = pd.read_csv('./ds_salaries_clean.csv')\n",
    "salaries.head()"
   ]
  },
  {
   "cell_type": "code",
   "execution_count": 49,
   "metadata": {},
   "outputs": [
    {
     "name": "stdout",
     "output_type": "stream",
     "text": [
      "Data Scientist: Data Science\n",
      "Machine Learning Scientist: Data Science\n",
      "Big Data Engineer: Data Engineering\n",
      "Product Data Analyst: Data Engineering\n",
      "Machine Learning Engineer: Machine Learning\n",
      "Data Analyst: Data Engineering\n",
      "Lead Data Scientist: Data Science\n",
      "Business Data Analyst: Data Engineering\n",
      "Lead Data Engineer: Data Engineering\n",
      "Lead Data Analyst: Data Engineering\n",
      "Data Engineer: Data Engineering\n",
      "Data Science Consultant: Data Science\n",
      "BI Data Analyst: Data Engineering\n",
      "Director of Data Science: Data Science\n",
      "Research Scientist: Data Science\n",
      "Machine Learning Manager: Managerial\n",
      "Data Engineering Manager: Managerial\n",
      "Machine Learning Infrastructure Engineer: Machine Learning\n",
      "ML Engineer: Other\n",
      "AI Scientist: Data Science\n",
      "Computer Vision Engineer: Other\n",
      "Principal Data Scientist: Data Science\n",
      "Data Science Manager: Managerial\n",
      "Head of Data: Data Engineering\n",
      "3D Computer Vision Researcher: Other\n",
      "Data Analytics Engineer: Data Analytics\n",
      "Applied Data Scientist: Data Science\n",
      "Marketing Data Analyst: Data Engineering\n",
      "Cloud Data Engineer: Data Engineering\n",
      "Financial Data Analyst: Data Engineering\n",
      "Computer Vision Software Engineer: Other\n",
      "Director of Data Engineering: Data Engineering\n",
      "Data Science Engineer: Data Science\n",
      "Principal Data Engineer: Data Engineering\n",
      "Machine Learning Developer: Machine Learning\n",
      "Applied Machine Learning Scientist: Data Science\n",
      "Data Analytics Manager: Managerial\n",
      "Head of Data Science: Data Science\n",
      "Data Specialist: Data Engineering\n",
      "Data Architect: Data Engineering\n",
      "Finance Data Analyst: Data Engineering\n",
      "Principal Data Analyst: Data Engineering\n",
      "Big Data Architect: Data Engineering\n",
      "Staff Data Scientist: Data Science\n",
      "Analytics Engineer: Data Analytics\n",
      "ETL Developer: Data Engineering\n",
      "Head of Machine Learning: Machine Learning\n",
      "NLP Engineer: Other\n",
      "Lead Machine Learning Engineer: Machine Learning\n",
      "Data Analytics Lead: Data Analytics\n"
     ]
    }
   ],
   "source": [
    "\n",
    "job_titles = ['Data Scientist', 'Machine Learning Scientist', 'Big Data Engineer', 'Product Data Analyst',\n",
    "              'Machine Learning Engineer', 'Data Analyst', 'Lead Data Scientist', 'Business Data Analyst',\n",
    "              'Lead Data Engineer', 'Lead Data Analyst', 'Data Engineer', 'Data Science Consultant', 'BI Data Analyst',\n",
    "              'Director of Data Science', 'Research Scientist', 'Machine Learning Manager', 'Data Engineering Manager',\n",
    "              'Machine Learning Infrastructure Engineer', 'ML Engineer', 'AI Scientist', 'Computer Vision Engineer',\n",
    "              'Principal Data Scientist', 'Data Science Manager', 'Head of Data', '3D Computer Vision Researcher',\n",
    "              'Data Analytics Engineer', 'Applied Data Scientist', 'Marketing Data Analyst', 'Cloud Data Engineer',\n",
    "              'Financial Data Analyst', 'Computer Vision Software Engineer', 'Director of Data Engineering',\n",
    "              'Data Science Engineer', 'Principal Data Engineer', 'Machine Learning Developer',\n",
    "              'Applied Machine Learning Scientist', 'Data Analytics Manager', 'Head of Data Science', 'Data Specialist',\n",
    "              'Data Architect', 'Finance Data Analyst', 'Principal Data Analyst', 'Big Data Architect',\n",
    "              'Staff Data Scientist', 'Analytics Engineer', 'ETL Developer', 'Head of Machine Learning', 'NLP Engineer',\n",
    "              'Lead Machine Learning Engineer', 'Data Analytics Lead']\n",
    "\n",
    "job_categories = ['Machine Learning', 'Data Engineering', 'Data Analytics', 'Data Science', 'Other', 'Managerial']\n",
    "\n",
    "for title in job_titles:\n",
    "    title_words = title.lower().split()\n",
    "    category = 'Other'\n",
    "    for word in title_words:\n",
    "        if word in ['machine', 'learning', 'ai']:\n",
    "            category = 'Machine Learning'\n",
    "        elif word in ['manager', 'director', 'head']:\n",
    "            category = 'Managerial'\n",
    "        elif word in ['data', 'engineering', 'etl']:\n",
    "            category = 'Data Engineering'\n",
    "        elif word in ['analytics', 'marketing']:\n",
    "            category = 'Data Analytics'\n",
    "        elif word in ['science', 'scientist']:\n",
    "            category = 'Data Science'\n",
    "    print(f\"{title}: {category}\")"
   ]
  },
  {
   "cell_type": "code",
   "execution_count": 50,
   "metadata": {},
   "outputs": [
    {
     "data": {
      "text/html": [
       "<div>\n",
       "<style scoped>\n",
       "    .dataframe tbody tr th:only-of-type {\n",
       "        vertical-align: middle;\n",
       "    }\n",
       "\n",
       "    .dataframe tbody tr th {\n",
       "        vertical-align: top;\n",
       "    }\n",
       "\n",
       "    .dataframe thead th {\n",
       "        text-align: right;\n",
       "    }\n",
       "</style>\n",
       "<table border=\"1\" class=\"dataframe\">\n",
       "  <thead>\n",
       "    <tr style=\"text-align: right;\">\n",
       "      <th></th>\n",
       "      <th>Designation</th>\n",
       "      <th>Job_Category</th>\n",
       "    </tr>\n",
       "  </thead>\n",
       "  <tbody>\n",
       "    <tr>\n",
       "      <th>0</th>\n",
       "      <td>Data Scientist</td>\n",
       "      <td>Data Science</td>\n",
       "    </tr>\n",
       "    <tr>\n",
       "      <th>1</th>\n",
       "      <td>Machine Learning Scientist</td>\n",
       "      <td>Machine Learning</td>\n",
       "    </tr>\n",
       "    <tr>\n",
       "      <th>2</th>\n",
       "      <td>Big Data Engineer</td>\n",
       "      <td>Data Engineering</td>\n",
       "    </tr>\n",
       "    <tr>\n",
       "      <th>3</th>\n",
       "      <td>Product Data Analyst</td>\n",
       "      <td>Data Analyst</td>\n",
       "    </tr>\n",
       "    <tr>\n",
       "      <th>4</th>\n",
       "      <td>Machine Learning Engineer</td>\n",
       "      <td>Machine Learning</td>\n",
       "    </tr>\n",
       "  </tbody>\n",
       "</table>\n",
       "</div>"
      ],
      "text/plain": [
       "                  Designation      Job_Category\n",
       "0              Data Scientist      Data Science\n",
       "1  Machine Learning Scientist  Machine Learning\n",
       "2           Big Data Engineer  Data Engineering\n",
       "3        Product Data Analyst      Data Analyst\n",
       "4   Machine Learning Engineer  Machine Learning"
      ]
     },
     "execution_count": 50,
     "metadata": {},
     "output_type": "execute_result"
    }
   ],
   "source": [
    "# map to folloing list\n",
    "['Machine Learning', 'Data Engineering', 'Data Analytics',\n",
    "       'Data Science', 'Other', 'Managerial']\n",
    "salaries['Designation'].unique()\n",
    "def map_category(title):\n",
    "    if 'Data Engineer' in title:\n",
    "        return 'Data Engineering'\n",
    "    elif 'Data Scientist' in title:\n",
    "        return 'Data Science'\n",
    "    elif 'Data Analyst' in title:\n",
    "        return 'Data Analyst'\n",
    "    elif 'Machine Learning' in title:\n",
    "        return 'Machine Learning'\n",
    "    elif 'Manager' in title:\n",
    "        return 'Managerial'\n",
    "    else:\n",
    "        return 'Other'\n",
    "salaries['Job_Category'] = salaries['Designation'].apply(map_category)\n",
    "# salaries['Job_Category'] = np.where(salaries['Designation'].isin(['Data Science','Scientist','Data']), 'Data Scientist', 'Other')\n",
    "# salaries['Job_Category'] = np.where(salaries['Designation'].isin(['Machine Learning']), 'Machine Learning', salaries['Job_Category'])\n",
    "\n",
    "# Print the relative frequency of Job_Category\n",
    "# print(salaries['Job_Category'].value_counts(normalize=True))\n",
    "salaries[['Designation', 'Job_Category']].head()"
   ]
  },
  {
   "cell_type": "code",
   "execution_count": 51,
   "metadata": {},
   "outputs": [
    {
     "name": "stdout",
     "output_type": "stream",
     "text": [
      "Job_Category\n",
      "Data Science        0.261944\n",
      "Data Engineering    0.260297\n",
      "Data Analyst        0.196046\n",
      "Other               0.148270\n",
      "Machine Learning    0.102142\n",
      "Managerial          0.031301\n",
      "Name: proportion, dtype: float64\n"
     ]
    }
   ],
   "source": [
    "# Print the relative frequency of Job_Category\n",
    "print(salaries['Job_Category'].value_counts(normalize=True))"
   ]
  },
  {
   "cell_type": "code",
   "execution_count": 52,
   "metadata": {},
   "outputs": [
    {
     "name": "stdout",
     "output_type": "stream",
     "text": [
      "Experience    Entry  Executive  Mid  Senior\n",
      "Company_Size                               \n",
      "L                29         11   86      72\n",
      "M                30         12   98     186\n",
      "S                29          3   29      22\n",
      "Company_Size       L   M   S\n",
      "Job_Category                \n",
      "Data Analyst      27  80  12\n",
      "Data Engineering  50  94  14\n",
      "Data Science      55  81  23\n",
      "Machine Learning  22  25  15\n",
      "Managerial         8  11   0\n",
      "Other             36  35  19\n"
     ]
    },
    {
     "data": {
      "text/html": [
       "<div>\n",
       "<style scoped>\n",
       "    .dataframe tbody tr th:only-of-type {\n",
       "        vertical-align: middle;\n",
       "    }\n",
       "\n",
       "    .dataframe tbody tr th {\n",
       "        vertical-align: top;\n",
       "    }\n",
       "\n",
       "    .dataframe thead th {\n",
       "        text-align: right;\n",
       "    }\n",
       "</style>\n",
       "<table border=\"1\" class=\"dataframe\">\n",
       "  <thead>\n",
       "    <tr style=\"text-align: right;\">\n",
       "      <th>Company_Size</th>\n",
       "      <th>L</th>\n",
       "      <th>M</th>\n",
       "      <th>S</th>\n",
       "    </tr>\n",
       "    <tr>\n",
       "      <th>Job_Category</th>\n",
       "      <th></th>\n",
       "      <th></th>\n",
       "      <th></th>\n",
       "    </tr>\n",
       "  </thead>\n",
       "  <tbody>\n",
       "    <tr>\n",
       "      <th>Data Analyst</th>\n",
       "      <td>91862.629630</td>\n",
       "      <td>94909.250000</td>\n",
       "      <td>43074.500000</td>\n",
       "    </tr>\n",
       "    <tr>\n",
       "      <th>Data Engineering</th>\n",
       "      <td>112275.460000</td>\n",
       "      <td>113388.297872</td>\n",
       "      <td>85645.285714</td>\n",
       "    </tr>\n",
       "    <tr>\n",
       "      <th>Data Science</th>\n",
       "      <td>109180.054545</td>\n",
       "      <td>121664.888889</td>\n",
       "      <td>70426.869565</td>\n",
       "    </tr>\n",
       "    <tr>\n",
       "      <th>Machine Learning</th>\n",
       "      <td>119559.500000</td>\n",
       "      <td>105172.240000</td>\n",
       "      <td>93722.933333</td>\n",
       "    </tr>\n",
       "    <tr>\n",
       "      <th>Managerial</th>\n",
       "      <td>133528.625000</td>\n",
       "      <td>145058.636364</td>\n",
       "      <td>NaN</td>\n",
       "    </tr>\n",
       "    <tr>\n",
       "      <th>Other</th>\n",
       "      <td>131839.916667</td>\n",
       "      <td>115966.000000</td>\n",
       "      <td>74257.578947</td>\n",
       "    </tr>\n",
       "  </tbody>\n",
       "</table>\n",
       "</div>"
      ],
      "text/plain": [
       "Company_Size                  L              M             S\n",
       "Job_Category                                                \n",
       "Data Analyst       91862.629630   94909.250000  43074.500000\n",
       "Data Engineering  112275.460000  113388.297872  85645.285714\n",
       "Data Science      109180.054545  121664.888889  70426.869565\n",
       "Machine Learning  119559.500000  105172.240000  93722.933333\n",
       "Managerial        133528.625000  145058.636364           NaN\n",
       "Other             131839.916667  115966.000000  74257.578947"
      ]
     },
     "execution_count": 52,
     "metadata": {},
     "output_type": "execute_result"
    }
   ],
   "source": [
    "# Cross-tabulate Company_Size and Experience\n",
    "print(pd.crosstab(salaries[\"Company_Size\"], salaries[\"Experience\"])) \n",
    "\n",
    "# Cross-tabulate Job_Category and Company_Size\n",
    "print(pd.crosstab(salaries[\"Job_Category\"], salaries[\"Company_Size\"]))\n",
    "# Cross-tabulate Job_Category and Company_Size\n",
    "(pd.crosstab(salaries[\"Job_Category\"], salaries[\"Company_Size\"],\n",
    "            values=salaries[\"Salary_USD\"], aggfunc=\"mean\"))"
   ]
  },
  {
   "cell_type": "code",
   "execution_count": 53,
   "metadata": {},
   "outputs": [
    {
     "name": "stdout",
     "output_type": "stream",
     "text": [
      "Experience               Entry      Executive            Mid         Senior\n",
      "Job_Category                                                               \n",
      "Data Analyst      54532.352941  124128.333333   74420.585366  107573.206897\n",
      "Data Engineering  50880.733333  242803.285714   78692.050847  134618.727273\n",
      "Data Science      55102.826087  397211.000000   80557.937500  150130.887324\n",
      "Machine Learning  90696.583333   75469.000000   89169.590909  131107.407407\n",
      "Managerial                 NaN            NaN  190967.000000  134231.764706\n",
      "Other             53981.714286  171811.000000  108126.560000  132460.233333\n"
     ]
    }
   ],
   "source": [
    "# Cross-tabulate Company_Size and Experience with mean Salary_USD as values\n",
    "print(pd.crosstab(salaries[\"Job_Category\"], salaries[\"Experience\"], values=salaries[\"Salary_USD\"], aggfunc='mean'))"
   ]
  },
  {
   "cell_type": "code",
   "execution_count": 54,
   "metadata": {},
   "outputs": [
    {
     "data": {
      "text/html": [
       "<div>\n",
       "<style scoped>\n",
       "    .dataframe tbody tr th:only-of-type {\n",
       "        vertical-align: middle;\n",
       "    }\n",
       "\n",
       "    .dataframe tbody tr th {\n",
       "        vertical-align: top;\n",
       "    }\n",
       "\n",
       "    .dataframe thead th {\n",
       "        text-align: right;\n",
       "    }\n",
       "</style>\n",
       "<table border=\"1\" class=\"dataframe\">\n",
       "  <thead>\n",
       "    <tr style=\"text-align: right;\">\n",
       "      <th></th>\n",
       "      <th>Working_Year</th>\n",
       "      <th>Designation</th>\n",
       "      <th>Experience</th>\n",
       "      <th>Employment_Status</th>\n",
       "      <th>Employee_Location</th>\n",
       "      <th>Company_Size</th>\n",
       "      <th>Remote_Working_Ratio</th>\n",
       "      <th>Salary_USD</th>\n",
       "      <th>Job_Category</th>\n",
       "    </tr>\n",
       "  </thead>\n",
       "  <tbody>\n",
       "    <tr>\n",
       "      <th>0</th>\n",
       "      <td>2020</td>\n",
       "      <td>Data Scientist</td>\n",
       "      <td>Mid</td>\n",
       "      <td>FT</td>\n",
       "      <td>DE</td>\n",
       "      <td>L</td>\n",
       "      <td>0</td>\n",
       "      <td>76227.0</td>\n",
       "      <td>Data Science</td>\n",
       "    </tr>\n",
       "    <tr>\n",
       "      <th>1</th>\n",
       "      <td>2020</td>\n",
       "      <td>Machine Learning Scientist</td>\n",
       "      <td>Senior</td>\n",
       "      <td>FT</td>\n",
       "      <td>JP</td>\n",
       "      <td>S</td>\n",
       "      <td>0</td>\n",
       "      <td>248257.0</td>\n",
       "      <td>Machine Learning</td>\n",
       "    </tr>\n",
       "    <tr>\n",
       "      <th>2</th>\n",
       "      <td>2020</td>\n",
       "      <td>Big Data Engineer</td>\n",
       "      <td>Senior</td>\n",
       "      <td>FT</td>\n",
       "      <td>GB</td>\n",
       "      <td>M</td>\n",
       "      <td>50</td>\n",
       "      <td>104100.0</td>\n",
       "      <td>Data Engineering</td>\n",
       "    </tr>\n",
       "    <tr>\n",
       "      <th>3</th>\n",
       "      <td>2020</td>\n",
       "      <td>Product Data Analyst</td>\n",
       "      <td>Mid</td>\n",
       "      <td>FT</td>\n",
       "      <td>HN</td>\n",
       "      <td>S</td>\n",
       "      <td>0</td>\n",
       "      <td>19097.0</td>\n",
       "      <td>Data Analyst</td>\n",
       "    </tr>\n",
       "    <tr>\n",
       "      <th>4</th>\n",
       "      <td>2020</td>\n",
       "      <td>Machine Learning Engineer</td>\n",
       "      <td>Senior</td>\n",
       "      <td>FT</td>\n",
       "      <td>US</td>\n",
       "      <td>L</td>\n",
       "      <td>50</td>\n",
       "      <td>143225.0</td>\n",
       "      <td>Machine Learning</td>\n",
       "    </tr>\n",
       "    <tr>\n",
       "      <th>...</th>\n",
       "      <td>...</td>\n",
       "      <td>...</td>\n",
       "      <td>...</td>\n",
       "      <td>...</td>\n",
       "      <td>...</td>\n",
       "      <td>...</td>\n",
       "      <td>...</td>\n",
       "      <td>...</td>\n",
       "      <td>...</td>\n",
       "    </tr>\n",
       "    <tr>\n",
       "      <th>602</th>\n",
       "      <td>2022</td>\n",
       "      <td>Data Engineer</td>\n",
       "      <td>Senior</td>\n",
       "      <td>FT</td>\n",
       "      <td>US</td>\n",
       "      <td>M</td>\n",
       "      <td>100</td>\n",
       "      <td>147044.0</td>\n",
       "      <td>Data Engineering</td>\n",
       "    </tr>\n",
       "    <tr>\n",
       "      <th>603</th>\n",
       "      <td>2022</td>\n",
       "      <td>Data Engineer</td>\n",
       "      <td>Senior</td>\n",
       "      <td>FT</td>\n",
       "      <td>US</td>\n",
       "      <td>M</td>\n",
       "      <td>100</td>\n",
       "      <td>120309.0</td>\n",
       "      <td>Data Engineering</td>\n",
       "    </tr>\n",
       "    <tr>\n",
       "      <th>604</th>\n",
       "      <td>2022</td>\n",
       "      <td>Data Analyst</td>\n",
       "      <td>Senior</td>\n",
       "      <td>FT</td>\n",
       "      <td>US</td>\n",
       "      <td>M</td>\n",
       "      <td>0</td>\n",
       "      <td>123174.0</td>\n",
       "      <td>Data Analyst</td>\n",
       "    </tr>\n",
       "    <tr>\n",
       "      <th>605</th>\n",
       "      <td>2022</td>\n",
       "      <td>Data Analyst</td>\n",
       "      <td>Senior</td>\n",
       "      <td>FT</td>\n",
       "      <td>US</td>\n",
       "      <td>M</td>\n",
       "      <td>100</td>\n",
       "      <td>143225.0</td>\n",
       "      <td>Data Analyst</td>\n",
       "    </tr>\n",
       "    <tr>\n",
       "      <th>606</th>\n",
       "      <td>2022</td>\n",
       "      <td>AI Scientist</td>\n",
       "      <td>Mid</td>\n",
       "      <td>FT</td>\n",
       "      <td>IN</td>\n",
       "      <td>L</td>\n",
       "      <td>100</td>\n",
       "      <td>190967.0</td>\n",
       "      <td>Other</td>\n",
       "    </tr>\n",
       "  </tbody>\n",
       "</table>\n",
       "<p>607 rows × 9 columns</p>\n",
       "</div>"
      ],
      "text/plain": [
       "     Working_Year                 Designation Experience Employment_Status  \\\n",
       "0            2020              Data Scientist        Mid                FT   \n",
       "1            2020  Machine Learning Scientist     Senior                FT   \n",
       "2            2020           Big Data Engineer     Senior                FT   \n",
       "3            2020        Product Data Analyst        Mid                FT   \n",
       "4            2020   Machine Learning Engineer     Senior                FT   \n",
       "..            ...                         ...        ...               ...   \n",
       "602          2022               Data Engineer     Senior                FT   \n",
       "603          2022               Data Engineer     Senior                FT   \n",
       "604          2022                Data Analyst     Senior                FT   \n",
       "605          2022                Data Analyst     Senior                FT   \n",
       "606          2022                AI Scientist        Mid                FT   \n",
       "\n",
       "    Employee_Location Company_Size  Remote_Working_Ratio  Salary_USD  \\\n",
       "0                  DE            L                     0     76227.0   \n",
       "1                  JP            S                     0    248257.0   \n",
       "2                  GB            M                    50    104100.0   \n",
       "3                  HN            S                     0     19097.0   \n",
       "4                  US            L                    50    143225.0   \n",
       "..                ...          ...                   ...         ...   \n",
       "602                US            M                   100    147044.0   \n",
       "603                US            M                   100    120309.0   \n",
       "604                US            M                     0    123174.0   \n",
       "605                US            M                   100    143225.0   \n",
       "606                IN            L                   100    190967.0   \n",
       "\n",
       "         Job_Category  \n",
       "0        Data Science  \n",
       "1    Machine Learning  \n",
       "2    Data Engineering  \n",
       "3        Data Analyst  \n",
       "4    Machine Learning  \n",
       "..                ...  \n",
       "602  Data Engineering  \n",
       "603  Data Engineering  \n",
       "604      Data Analyst  \n",
       "605      Data Analyst  \n",
       "606             Other  \n",
       "\n",
       "[607 rows x 9 columns]"
      ]
     },
     "execution_count": 54,
     "metadata": {},
     "output_type": "execute_result"
    }
   ],
   "source": [
    "salaries"
   ]
  },
  {
   "cell_type": "code",
   "execution_count": 63,
   "metadata": {},
   "outputs": [
    {
     "data": {
      "text/plain": [
       "Index(['Working_Year', 'Designation', 'Experience', 'Employment_Status',\n",
       "       'Employee_Location', 'Company_Size', 'Remote_Working_Ratio',\n",
       "       'Salary_USD', 'Job_Category', 'date_of_response', 'month', 'weekday'],\n",
       "      dtype='object')"
      ]
     },
     "execution_count": 63,
     "metadata": {},
     "output_type": "execute_result"
    }
   ],
   "source": [
    "salaries.columns"
   ]
  },
  {
   "cell_type": "code",
   "execution_count": 69,
   "metadata": {},
   "outputs": [
    {
     "data": {
      "text/plain": [
       "['Working_Year', 'Remote_Working_Ratio', 'month', 'weekday']"
      ]
     },
     "execution_count": 69,
     "metadata": {},
     "output_type": "execute_result"
    }
   ],
   "source": [
    "[*salaries.select_dtypes('int').columns]"
   ]
  },
  {
   "cell_type": "code",
   "execution_count": 75,
   "metadata": {},
   "outputs": [
    {
     "data": {
      "image/png": "[encoded data removed]",
      "text/plain": [
       "<Figure size 640x480 with 2 Axes>"
      ]
     },
     "metadata": {},
     "output_type": "display_data"
    }
   ],
   "source": [
    "import random\n",
    "from datetime import datetime\n",
    "\n",
    "# Generate random dates and add to the dataframe\n",
    "dates = []\n",
    "for year in salaries['Working_Year']:\n",
    "    month = random.choice(range(1, 13))\n",
    "    day = random.choice(range(1, 29))\n",
    "    date_str = f\"{year}-{month}-{day}\"\n",
    "    date_obj = datetime.strptime(date_str, '%Y-%m-%d').date()\n",
    "    dates.append(date_obj)\n",
    "salaries['date_of_response'] = dates\n",
    "\n",
    "# Extract the month from \"date_of_response\"\n",
    "salaries[\"month\"] = [date.month for date in salaries[\"date_of_response\"]]\n",
    "\n",
    "# Create the \"weekday\" column\n",
    "salaries[\"weekday\"] = [date.weekday() for date in salaries[\"date_of_response\"]]\n",
    "salaries['Salary_INR'] = (salaries['Salary_USD']*75).astype(int)\n",
    "salaries['Salary_USD'] = salaries['Salary_USD'].astype(int)\n",
    "# Plot a heat map, including the Pearson correlation coefficient scores\n",
    "sns.heatmap(salaries[[*salaries.select_dtypes('int').columns]].corr(), annot=True)\n",
    "plt.show()"
   ]
  },
  {
   "cell_type": "code",
   "execution_count": 77,
   "metadata": {},
   "outputs": [
    {
     "name": "stdout",
     "output_type": "stream",
     "text": [
      "59893.0 96982.0 143225.0\n"
     ]
    },
    {
     "data": {
      "text/plain": [
       "count       607.000000\n",
       "mean     107225.836903\n",
       "std       67752.393254\n",
       "min        2730.000000\n",
       "25%       59893.000000\n",
       "50%       96982.000000\n",
       "75%      143225.000000\n",
       "max      572900.000000\n",
       "Name: Salary_USD, dtype: float64"
      ]
     },
     "execution_count": 77,
     "metadata": {},
     "output_type": "execute_result"
    }
   ],
   "source": [
    "# Find the 25th percentile\n",
    "twenty_fifth = salaries[\"Salary_USD\"].quantile(0.25)\n",
    "\n",
    "# Save the median\n",
    "salaries_median = salaries[\"Salary_USD\"].median()\n",
    "\n",
    "# Gather the 75th percentile\n",
    "seventy_fifth = salaries[\"Salary_USD\"].quantile(0.75)\n",
    "\n",
    "print(twenty_fifth, salaries_median, seventy_fifth)\n",
    "salaries.Salary_USD.describe()"
   ]
  },
  {
   "cell_type": "code",
   "execution_count": 85,
   "metadata": {},
   "outputs": [
    {
     "data": {
      "image/png": "[encoded data removed]",
      "text/plain": [
       "<Figure size 640x480 with 1 Axes>"
      ]
     },
     "metadata": {},
     "output_type": "display_data"
    }
   ],
   "source": [
    "# Create salary labels\n",
    "salary_labels = [\"entry\", \"mid\", \"senior\", \"exec\"]\n",
    "\n",
    "# Create the salary ranges list\n",
    "salary_ranges = [0, twenty_fifth, salaries_median, seventy_fifth, salaries[\"Salary_USD\"].max()]\n",
    "\n",
    "# Create salary_level\n",
    "salaries[\"salary_level\"] = pd.cut(salaries[\"Salary_USD\"],\n",
    "                                  bins=salary_ranges,\n",
    "                                  labels=salary_labels)\n",
    "\n",
    "# Plot the count of salary levels at companies of different sizes\n",
    "sns.countplot(data=salaries, x=\"Company_Size\", hue=\"salary_level\", hue_order=salary_labels,\n",
    "              order=salaries[\"Company_Size\"].value_counts().index)\n",
    "plt.show()"
   ]
  },
  {
   "cell_type": "code",
   "execution_count": 92,
   "metadata": {},
   "outputs": [
    {
     "data": {
      "image/png": "[encoded data removed]",
      "text/plain": [
       "<Figure size 640x480 with 1 Axes>"
      ]
     },
     "metadata": {},
     "output_type": "display_data"
    }
   ],
   "source": [
    "# Filter for employees in the US or GB\n",
    "usa_and_gb = salaries[(salaries['Employee_Location'] == 'US') | (salaries['Employee_Location'] == 'GB')]\n",
    "\n",
    "# Create a barplot of salaries by location\n",
    "sns.barplot(data=usa_and_gb, x=\"Employee_Location\", y=\"Salary_USD\")\n",
    "plt.show()"
   ]
  },
  {
   "cell_type": "markdown",
   "metadata": {},
   "source": [
    "Value\tMeaning\n",
    "CT\tContractor\n",
    "FL\tFreelance\n",
    "PT\tPart-time\n",
    "FT\tFull-time"
   ]
  },
  {
   "cell_type": "code",
   "execution_count": 90,
   "metadata": {},
   "outputs": [
    {
     "data": {
      "image/png": "[encoded data removed]",
      "text/plain": [
       "<Figure size 640x480 with 1 Axes>"
      ]
     },
     "metadata": {},
     "output_type": "display_data"
    }
   ],
   "source": [
    "# Create a bar plot of salary versus company size, factoring in employment status\n",
    "sns.barplot(data=salaries, x='Company_Size', y='Salary_USD', hue='Employment_Status')\n",
    "plt.show()"
   ]
  },
  {
   "cell_type": "code",
   "execution_count": null,
   "metadata": {},
   "outputs": [],
   "source": []
  }
 ],
 "metadata": {
  "kernelspec": {
   "display_name": "Python 3",
   "language": "python",
   "name": "python3"
  },
  "language_info": {
   "codemirror_mode": {
    "name": "ipython",
    "version": 3
   },
   "file_extension": ".py",
   "mimetype": "text/x-python",
   "name": "python",
   "nbconvert_exporter": "python",
   "pygments_lexer": "ipython3",
   "version": "3.11.6"
  }
 },
 "nbformat": 4,
 "nbformat_minor": 2
}
