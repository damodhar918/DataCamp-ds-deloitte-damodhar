{
 "cells": [
  {
   "cell_type": "code",
   "execution_count": 1,
   "metadata": {},
   "outputs": [
    {
     "data": {
      "text/html": [
       "<div>\n",
       "<style scoped>\n",
       "    .dataframe tbody tr th:only-of-type {\n",
       "        vertical-align: middle;\n",
       "    }\n",
       "\n",
       "    .dataframe tbody tr th {\n",
       "        vertical-align: top;\n",
       "    }\n",
       "\n",
       "    .dataframe thead th {\n",
       "        text-align: right;\n",
       "    }\n",
       "</style>\n",
       "<table border=\"1\" class=\"dataframe\">\n",
       "  <thead>\n",
       "    <tr style=\"text-align: right;\">\n",
       "      <th></th>\n",
       "      <th>timeseries_1</th>\n",
       "      <th>timeseries_2</th>\n",
       "    </tr>\n",
       "  </thead>\n",
       "  <tbody>\n",
       "    <tr>\n",
       "      <th>0</th>\n",
       "      <td>-0.183108</td>\n",
       "      <td>-0.183108</td>\n",
       "    </tr>\n",
       "    <tr>\n",
       "      <th>1</th>\n",
       "      <td>-0.245540</td>\n",
       "      <td>-0.117365</td>\n",
       "    </tr>\n",
       "    <tr>\n",
       "      <th>2</th>\n",
       "      <td>-0.258830</td>\n",
       "      <td>-0.218789</td>\n",
       "    </tr>\n",
       "    <tr>\n",
       "      <th>3</th>\n",
       "      <td>-0.279635</td>\n",
       "      <td>-0.169041</td>\n",
       "    </tr>\n",
       "    <tr>\n",
       "      <th>4</th>\n",
       "      <td>-0.384736</td>\n",
       "      <td>-0.282374</td>\n",
       "    </tr>\n",
       "  </tbody>\n",
       "</table>\n",
       "</div>"
      ],
      "text/plain": [
       "   timeseries_1  timeseries_2\n",
       "0     -0.183108     -0.183108\n",
       "1     -0.245540     -0.117365\n",
       "2     -0.258830     -0.218789\n",
       "3     -0.279635     -0.169041\n",
       "4     -0.384736     -0.282374"
      ]
     },
     "execution_count": 1,
     "metadata": {},
     "output_type": "execute_result"
    }
   ],
   "source": [
    "import pandas as pd\n",
    "import numpy as np\n",
    "import matplotlib.pyplot as plt\n",
    "import seaborn as sns\n",
    "\n",
    "sample = pd.read_csv('.//sample.csv', index_col=0)\n",
    "sample.head()"
   ]
  },
  {
   "cell_type": "code",
   "execution_count": 2,
   "metadata": {},
   "outputs": [
    {
     "name": "stdout",
     "output_type": "stream",
     "text": [
      "                               SARIMAX Results                                \n",
      "==============================================================================\n",
      "Dep. Variable:           timeseries_1   No. Observations:                 1000\n",
      "Model:                 ARIMA(2, 0, 0)   Log Likelihood                 148.855\n",
      "Date:                Mon, 27 Nov 2023   AIC                           -289.709\n",
      "Time:                        08:16:44   BIC                           -270.078\n",
      "Sample:                             0   HQIC                          -282.248\n",
      "                               - 1000                                         \n",
      "Covariance Type:                  opg                                         \n",
      "==============================================================================\n",
      "                 coef    std err          z      P>|z|      [0.025      0.975]\n",
      "------------------------------------------------------------------------------\n",
      "const         -0.0027      0.018     -0.151      0.880      -0.037       0.032\n",
      "ar.L1          0.8980      0.031     28.660      0.000       0.837       0.959\n",
      "ar.L2         -0.2704      0.032     -8.561      0.000      -0.332      -0.209\n",
      "sigma2         0.0434      0.002     21.502      0.000       0.039       0.047\n",
      "===================================================================================\n",
      "Ljung-Box (L1) (Q):                   0.00   Jarque-Bera (JB):                 1.04\n",
      "Prob(Q):                              1.00   Prob(JB):                         0.59\n",
      "Heteroskedasticity (H):               0.95   Skew:                             0.03\n",
      "Prob(H) (two-sided):                  0.63   Kurtosis:                         2.85\n",
      "===================================================================================\n",
      "\n",
      "Warnings:\n",
      "[1] Covariance matrix calculated using the outer product of gradients (complex-step).\n"
     ]
    }
   ],
   "source": [
    "from statsmodels.tsa.arima.model import ARIMA\n",
    "\n",
    "# Instantiate the model\n",
    "model = ARIMA(sample['timeseries_1'], order=(2, 0, 0))\n",
    "\n",
    "# Fit the model\n",
    "results = model.fit()\n",
    "\n",
    "# Print summary\n",
    "print(results.summary())"
   ]
  },
  {
   "cell_type": "code",
   "execution_count": 5,
   "metadata": {},
   "outputs": [
    {
     "name": "stderr",
     "output_type": "stream",
     "text": [
      "c:\\Users\\jdamodhar\\AppData\\Local\\Programs\\Python\\Python311\\Lib\\site-packages\\statsmodels\\tsa\\base\\tsa_model.py:473: ValueWarning: No frequency information was provided, so inferred frequency AS-JAN will be used.\n",
      "  self._init_dates(dates, freq)\n",
      "c:\\Users\\jdamodhar\\AppData\\Local\\Programs\\Python\\Python311\\Lib\\site-packages\\statsmodels\\tsa\\base\\tsa_model.py:473: ValueWarning: No frequency information was provided, so inferred frequency AS-JAN will be used.\n",
      "  self._init_dates(dates, freq)\n",
      "c:\\Users\\jdamodhar\\AppData\\Local\\Programs\\Python\\Python311\\Lib\\site-packages\\statsmodels\\tsa\\base\\tsa_model.py:473: ValueWarning: No frequency information was provided, so inferred frequency AS-JAN will be used.\n",
      "  self._init_dates(dates, freq)\n"
     ]
    },
    {
     "name": "stdout",
     "output_type": "stream",
     "text": [
      "                                SARIMAX Results                                 \n",
      "================================================================================\n",
      "Dep. Variable:     earthquakes_per_year   No. Observations:                   99\n",
      "Model:                   ARIMA(3, 0, 1)   Log Likelihood                -315.673\n",
      "Date:                  Mon, 27 Nov 2023   AIC                            643.345\n",
      "Time:                          08:28:35   BIC                            658.916\n",
      "Sample:                      01-01-1900   HQIC                           649.645\n",
      "                           - 01-01-1998                                         \n",
      "Covariance Type:                    opg                                         \n",
      "==============================================================================\n",
      "                 coef    std err          z      P>|z|      [0.025      0.975]\n",
      "------------------------------------------------------------------------------\n",
      "const         19.6453      2.233      8.798      0.000      15.269      24.022\n",
      "ar.L1          0.5795      0.645      0.899      0.369      -0.684       1.843\n",
      "ar.L2          0.0251      0.308      0.081      0.935      -0.578       0.629\n",
      "ar.L3          0.1519      0.186      0.818      0.413      -0.212       0.516\n",
      "ma.L1         -0.1721      0.665     -0.259      0.796      -1.475       1.131\n",
      "sigma2        34.2630      4.939      6.938      0.000      24.583      43.943\n",
      "===================================================================================\n",
      "Ljung-Box (L1) (Q):                   0.00   Jarque-Bera (JB):                 5.36\n",
      "Prob(Q):                              0.97   Prob(JB):                         0.07\n",
      "Heteroskedasticity (H):               0.72   Skew:                             0.52\n",
      "Prob(H) (two-sided):                  0.36   Kurtosis:                         3.44\n",
      "===================================================================================\n",
      "\n",
      "Warnings:\n",
      "[1] Covariance matrix calculated using the outer product of gradients (complex-step).\n"
     ]
    }
   ],
   "source": [
    "# Instantiate the model\n",
    "earthquake = pd.read_csv('.//earthquakes.csv', index_col=0,parse_dates=True)\n",
    "model = ARIMA(earthquake['earthquakes_per_year'], order=(3, 0 ,1))\n",
    "\n",
    "# Fit the model\n",
    "results = model.fit()\n",
    "\n",
    "# Print model fit summary\n",
    "print(results.summary())"
   ]
  },
  {
   "cell_type": "code",
   "execution_count": 7,
   "metadata": {},
   "outputs": [
    {
     "data": {
      "text/html": [
       "<div>\n",
       "<style scoped>\n",
       "    .dataframe tbody tr th:only-of-type {\n",
       "        vertical-align: middle;\n",
       "    }\n",
       "\n",
       "    .dataframe tbody tr th {\n",
       "        vertical-align: top;\n",
       "    }\n",
       "\n",
       "    .dataframe thead th {\n",
       "        text-align: right;\n",
       "    }\n",
       "</style>\n",
       "<table border=\"1\" class=\"dataframe\">\n",
       "  <thead>\n",
       "    <tr style=\"text-align: right;\">\n",
       "      <th></th>\n",
       "      <th>wait_times_hrs</th>\n",
       "      <th>nurse_count</th>\n",
       "    </tr>\n",
       "  </thead>\n",
       "  <tbody>\n",
       "    <tr>\n",
       "      <th>2019-03-04 00:00:00</th>\n",
       "      <td>1.747261</td>\n",
       "      <td>1.0</td>\n",
       "    </tr>\n",
       "    <tr>\n",
       "      <th>2019-03-04 01:00:00</th>\n",
       "      <td>1.664634</td>\n",
       "      <td>1.0</td>\n",
       "    </tr>\n",
       "    <tr>\n",
       "      <th>2019-03-04 02:00:00</th>\n",
       "      <td>1.647047</td>\n",
       "      <td>1.0</td>\n",
       "    </tr>\n",
       "    <tr>\n",
       "      <th>2019-03-04 03:00:00</th>\n",
       "      <td>1.619512</td>\n",
       "      <td>1.0</td>\n",
       "    </tr>\n",
       "    <tr>\n",
       "      <th>2019-03-04 04:00:00</th>\n",
       "      <td>1.480415</td>\n",
       "      <td>1.0</td>\n",
       "    </tr>\n",
       "  </tbody>\n",
       "</table>\n",
       "</div>"
      ],
      "text/plain": [
       "                     wait_times_hrs  nurse_count\n",
       "2019-03-04 00:00:00        1.747261          1.0\n",
       "2019-03-04 01:00:00        1.664634          1.0\n",
       "2019-03-04 02:00:00        1.647047          1.0\n",
       "2019-03-04 03:00:00        1.619512          1.0\n",
       "2019-03-04 04:00:00        1.480415          1.0"
      ]
     },
     "execution_count": 7,
     "metadata": {},
     "output_type": "execute_result"
    }
   ],
   "source": [
    "hospital = pd.read_csv('.//hospital.csv', index_col=0, parse_dates=True)\n",
    "hospital.head()"
   ]
  },
  {
   "cell_type": "code",
   "execution_count": 8,
   "metadata": {},
   "outputs": [
    {
     "data": {
      "text/plain": [
       "array([<Axes: >, <Axes: >], dtype=object)"
      ]
     },
     "execution_count": 8,
     "metadata": {},
     "output_type": "execute_result"
    },
    {
     "data": {
      "image/png": "[encoded data removed]",
      "text/plain": [
       "<Figure size 640x480 with 2 Axes>"
      ]
     },
     "metadata": {},
     "output_type": "display_data"
    }
   ],
   "source": [
    "hospital.plot(subplots=True)"
   ]
  },
  {
   "cell_type": "code",
   "execution_count": 9,
   "metadata": {},
   "outputs": [
    {
     "name": "stderr",
     "output_type": "stream",
     "text": [
      "c:\\Users\\jdamodhar\\AppData\\Local\\Programs\\Python\\Python311\\Lib\\site-packages\\statsmodels\\tsa\\base\\tsa_model.py:473: ValueWarning: No frequency information was provided, so inferred frequency H will be used.\n",
      "  self._init_dates(dates, freq)\n",
      "c:\\Users\\jdamodhar\\AppData\\Local\\Programs\\Python\\Python311\\Lib\\site-packages\\statsmodels\\tsa\\base\\tsa_model.py:473: ValueWarning: No frequency information was provided, so inferred frequency H will be used.\n",
      "  self._init_dates(dates, freq)\n",
      "c:\\Users\\jdamodhar\\AppData\\Local\\Programs\\Python\\Python311\\Lib\\site-packages\\statsmodels\\tsa\\base\\tsa_model.py:473: ValueWarning: No frequency information was provided, so inferred frequency H will be used.\n",
      "  self._init_dates(dates, freq)\n"
     ]
    },
    {
     "name": "stdout",
     "output_type": "stream",
     "text": [
      "                               SARIMAX Results                                \n",
      "==============================================================================\n",
      "Dep. Variable:         wait_times_hrs   No. Observations:                  168\n",
      "Model:                 ARIMA(2, 0, 1)   Log Likelihood                 -11.834\n",
      "Date:                Mon, 27 Nov 2023   AIC                             35.668\n",
      "Time:                        08:30:04   BIC                             54.411\n",
      "Sample:                    03-04-2019   HQIC                            43.275\n",
      "                         - 03-10-2019                                         \n",
      "Covariance Type:                  opg                                         \n",
      "===============================================================================\n",
      "                  coef    std err          z      P>|z|      [0.025      0.975]\n",
      "-------------------------------------------------------------------------------\n",
      "const           2.1001      0.086     24.375      0.000       1.931       2.269\n",
      "nurse_count    -0.1171      0.012     -9.562      0.000      -0.141      -0.093\n",
      "ar.L1           0.5693      0.169      3.365      0.001       0.238       0.901\n",
      "ar.L2          -0.1612      0.140     -1.149      0.250      -0.436       0.114\n",
      "ma.L1           0.3728      0.169      2.211      0.027       0.042       0.703\n",
      "sigma2          0.0670      0.009      7.601      0.000       0.050       0.084\n",
      "===================================================================================\n",
      "Ljung-Box (L1) (Q):                   0.02   Jarque-Bera (JB):                 3.11\n",
      "Prob(Q):                              0.90   Prob(JB):                         0.21\n",
      "Heteroskedasticity (H):               0.94   Skew:                             0.18\n",
      "Prob(H) (two-sided):                  0.81   Kurtosis:                         2.44\n",
      "===================================================================================\n",
      "\n",
      "Warnings:\n",
      "[1] Covariance matrix calculated using the outer product of gradients (complex-step).\n"
     ]
    }
   ],
   "source": [
    "# Instantiate the model\n",
    "model = ARIMA(hospital['wait_times_hrs'], order=(2, 0, 1), exog=hospital['nurse_count'])\n",
    "\n",
    "# Fit the model\n",
    "results = model.fit()\n",
    "\n",
    "# Print model fit summary\n",
    "print(results.summary())"
   ]
  },
  {
   "cell_type": "code",
   "execution_count": 10,
   "metadata": {},
   "outputs": [],
   "source": [
    "amazon = pd.read_csv('.//amazon_close.csv', parse_dates=True, index_col='date')\n",
    "amazon = amazon.iloc[::-1] "
   ]
  },
  {
   "cell_type": "code",
   "execution_count": 11,
   "metadata": {},
   "outputs": [
    {
     "name": "stderr",
     "output_type": "stream",
     "text": [
      "c:\\Users\\jdamodhar\\AppData\\Local\\Programs\\Python\\Python311\\Lib\\site-packages\\statsmodels\\tsa\\base\\tsa_model.py:473: ValueWarning: A date index has been provided, but it has no associated frequency information and so will be ignored when e.g. forecasting.\n",
      "  self._init_dates(dates, freq)\n",
      "c:\\Users\\jdamodhar\\AppData\\Local\\Programs\\Python\\Python311\\Lib\\site-packages\\statsmodels\\tsa\\base\\tsa_model.py:473: ValueWarning: A date index has been provided, but it has no associated frequency information and so will be ignored when e.g. forecasting.\n",
      "  self._init_dates(dates, freq)\n",
      "c:\\Users\\jdamodhar\\AppData\\Local\\Programs\\Python\\Python311\\Lib\\site-packages\\statsmodels\\tsa\\statespace\\representation.py:374: FutureWarning: Unknown keyword arguments: dict_keys(['k_trend']).Passing unknown keyword arguments will raise a TypeError beginning in version 0.15.\n",
      "  warnings.warn(msg, FutureWarning)\n",
      "c:\\Users\\jdamodhar\\AppData\\Local\\Programs\\Python\\Python311\\Lib\\site-packages\\statsmodels\\base\\model.py:607: ConvergenceWarning: Maximum Likelihood optimization failed to converge. Check mle_retvals\n",
      "  warnings.warn(\"Maximum Likelihood optimization failed to \"\n"
     ]
    }
   ],
   "source": [
    "from statsmodels.tsa.statespace.sarimax import SARIMAX\n",
    "\n",
    "model = SARIMAX(amazon.loc['2018-01-01':'2019-02-08'], order=(3, 1, 3), seasonal_order=(1, 0, 1, 7),\n",
    "                enforce_invertibility=False,\n",
    "                enforce_stationarity=False,\n",
    "                simple_differencing=False, \n",
    "                measurement_error=False,\n",
    "                k_trend=0)\n",
    "results = model.fit()"
   ]
  },
  {
   "cell_type": "code",
   "execution_count": 12,
   "metadata": {},
   "outputs": [
    {
     "data": {
      "text/html": [
       "<table class=\"simpletable\">\n",
       "<caption>SARIMAX Results</caption>\n",
       "<tr>\n",
       "  <th>Dep. Variable:</th>                <td>close</td>              <th>  No. Observations:  </th>    <td>278</td>   \n",
       "</tr>\n",
       "<tr>\n",
       "  <th>Model:</th>           <td>SARIMAX(3, 1, 3)x(1, 0, [1], 7)</td> <th>  Log Likelihood     </th> <td>-1338.386</td>\n",
       "</tr>\n",
       "<tr>\n",
       "  <th>Date:</th>                   <td>Mon, 27 Nov 2023</td>         <th>  AIC                </th> <td>2694.772</td> \n",
       "</tr>\n",
       "<tr>\n",
       "  <th>Time:</th>                       <td>08:34:57</td>             <th>  BIC                </th> <td>2727.023</td> \n",
       "</tr>\n",
       "<tr>\n",
       "  <th>Sample:</th>                         <td>0</td>                <th>  HQIC               </th> <td>2707.729</td> \n",
       "</tr>\n",
       "<tr>\n",
       "  <th></th>                             <td> - 278</td>              <th>                     </th>     <td> </td>    \n",
       "</tr>\n",
       "<tr>\n",
       "  <th>Covariance Type:</th>               <td>opg</td>               <th>                     </th>     <td> </td>    \n",
       "</tr>\n",
       "</table>\n",
       "<table class=\"simpletable\">\n",
       "<tr>\n",
       "     <td></td>        <th>coef</th>     <th>std err</th>      <th>z</th>      <th>P>|z|</th>  <th>[0.025</th>    <th>0.975]</th>  \n",
       "</tr>\n",
       "<tr>\n",
       "  <th>ar.L1</th>   <td>    0.1075</td> <td>    0.048</td> <td>    2.248</td> <td> 0.025</td> <td>    0.014</td> <td>    0.201</td>\n",
       "</tr>\n",
       "<tr>\n",
       "  <th>ar.L2</th>   <td>    0.0526</td> <td>    0.039</td> <td>    1.362</td> <td> 0.173</td> <td>   -0.023</td> <td>    0.128</td>\n",
       "</tr>\n",
       "<tr>\n",
       "  <th>ar.L3</th>   <td>   -0.8974</td> <td>    0.042</td> <td>  -21.547</td> <td> 0.000</td> <td>   -0.979</td> <td>   -0.816</td>\n",
       "</tr>\n",
       "<tr>\n",
       "  <th>ma.L1</th>   <td>   -0.1202</td> <td>    0.039</td> <td>   -3.075</td> <td> 0.002</td> <td>   -0.197</td> <td>   -0.044</td>\n",
       "</tr>\n",
       "<tr>\n",
       "  <th>ma.L2</th>   <td>   -0.1414</td> <td>    0.034</td> <td>   -4.141</td> <td> 0.000</td> <td>   -0.208</td> <td>   -0.074</td>\n",
       "</tr>\n",
       "<tr>\n",
       "  <th>ma.L3</th>   <td>    0.9686</td> <td>    0.045</td> <td>   21.437</td> <td> 0.000</td> <td>    0.880</td> <td>    1.057</td>\n",
       "</tr>\n",
       "<tr>\n",
       "  <th>ar.S.L7</th> <td>    0.1696</td> <td>    0.681</td> <td>    0.249</td> <td> 0.803</td> <td>   -1.166</td> <td>    1.505</td>\n",
       "</tr>\n",
       "<tr>\n",
       "  <th>ma.S.L7</th> <td>   -0.2123</td> <td>    0.672</td> <td>   -0.316</td> <td> 0.752</td> <td>   -1.530</td> <td>    1.106</td>\n",
       "</tr>\n",
       "<tr>\n",
       "  <th>sigma2</th>  <td> 1331.7578</td> <td>  108.515</td> <td>   12.273</td> <td> 0.000</td> <td> 1119.073</td> <td> 1544.443</td>\n",
       "</tr>\n",
       "</table>\n",
       "<table class=\"simpletable\">\n",
       "<tr>\n",
       "  <th>Ljung-Box (L1) (Q):</th>     <td>0.55</td> <th>  Jarque-Bera (JB):  </th> <td>21.81</td>\n",
       "</tr>\n",
       "<tr>\n",
       "  <th>Prob(Q):</th>                <td>0.46</td> <th>  Prob(JB):          </th> <td>0.00</td> \n",
       "</tr>\n",
       "<tr>\n",
       "  <th>Heteroskedasticity (H):</th> <td>3.10</td> <th>  Skew:              </th> <td>-0.35</td>\n",
       "</tr>\n",
       "<tr>\n",
       "  <th>Prob(H) (two-sided):</th>    <td>0.00</td> <th>  Kurtosis:          </th> <td>4.22</td> \n",
       "</tr>\n",
       "</table><br/><br/>Warnings:<br/>[1] Covariance matrix calculated using the outer product of gradients (complex-step)."
      ],
      "text/latex": [
       "\\begin{center}\n",
       "\\begin{tabular}{lclc}\n",
       "\\toprule\n",
       "\\textbf{Dep. Variable:}          &              close              & \\textbf{  No. Observations:  } &    278      \\\\\n",
       "\\textbf{Model:}                  & SARIMAX(3, 1, 3)x(1, 0, [1], 7) & \\textbf{  Log Likelihood     } & -1338.386   \\\\\n",
       "\\textbf{Date:}                   &         Mon, 27 Nov 2023        & \\textbf{  AIC                } &  2694.772   \\\\\n",
       "\\textbf{Time:}                   &             08:34:57            & \\textbf{  BIC                } &  2727.023   \\\\\n",
       "\\textbf{Sample:}                 &                0                & \\textbf{  HQIC               } &  2707.729   \\\\\n",
       "\\textbf{}                        &               - 278             & \\textbf{                     } &             \\\\\n",
       "\\textbf{Covariance Type:}        &               opg               & \\textbf{                     } &             \\\\\n",
       "\\bottomrule\n",
       "\\end{tabular}\n",
       "\\begin{tabular}{lcccccc}\n",
       "                 & \\textbf{coef} & \\textbf{std err} & \\textbf{z} & \\textbf{P$> |$z$|$} & \\textbf{[0.025} & \\textbf{0.975]}  \\\\\n",
       "\\midrule\n",
       "\\textbf{ar.L1}   &       0.1075  &        0.048     &     2.248  &         0.025        &        0.014    &        0.201     \\\\\n",
       "\\textbf{ar.L2}   &       0.0526  &        0.039     &     1.362  &         0.173        &       -0.023    &        0.128     \\\\\n",
       "\\textbf{ar.L3}   &      -0.8974  &        0.042     &   -21.547  &         0.000        &       -0.979    &       -0.816     \\\\\n",
       "\\textbf{ma.L1}   &      -0.1202  &        0.039     &    -3.075  &         0.002        &       -0.197    &       -0.044     \\\\\n",
       "\\textbf{ma.L2}   &      -0.1414  &        0.034     &    -4.141  &         0.000        &       -0.208    &       -0.074     \\\\\n",
       "\\textbf{ma.L3}   &       0.9686  &        0.045     &    21.437  &         0.000        &        0.880    &        1.057     \\\\\n",
       "\\textbf{ar.S.L7} &       0.1696  &        0.681     &     0.249  &         0.803        &       -1.166    &        1.505     \\\\\n",
       "\\textbf{ma.S.L7} &      -0.2123  &        0.672     &    -0.316  &         0.752        &       -1.530    &        1.106     \\\\\n",
       "\\textbf{sigma2}  &    1331.7578  &      108.515     &    12.273  &         0.000        &     1119.073    &     1544.443     \\\\\n",
       "\\bottomrule\n",
       "\\end{tabular}\n",
       "\\begin{tabular}{lclc}\n",
       "\\textbf{Ljung-Box (L1) (Q):}     & 0.55 & \\textbf{  Jarque-Bera (JB):  } & 21.81  \\\\\n",
       "\\textbf{Prob(Q):}                & 0.46 & \\textbf{  Prob(JB):          } &  0.00  \\\\\n",
       "\\textbf{Heteroskedasticity (H):} & 3.10 & \\textbf{  Skew:              } & -0.35  \\\\\n",
       "\\textbf{Prob(H) (two-sided):}    & 0.00 & \\textbf{  Kurtosis:          } &  4.22  \\\\\n",
       "\\bottomrule\n",
       "\\end{tabular}\n",
       "%\\caption{SARIMAX Results}\n",
       "\\end{center}\n",
       "\n",
       "Warnings: \\newline\n",
       " [1] Covariance matrix calculated using the outer product of gradients (complex-step)."
      ],
      "text/plain": [
       "<class 'statsmodels.iolib.summary.Summary'>\n",
       "\"\"\"\n",
       "                                      SARIMAX Results                                      \n",
       "===========================================================================================\n",
       "Dep. Variable:                               close   No. Observations:                  278\n",
       "Model:             SARIMAX(3, 1, 3)x(1, 0, [1], 7)   Log Likelihood               -1338.386\n",
       "Date:                             Mon, 27 Nov 2023   AIC                           2694.772\n",
       "Time:                                     08:34:57   BIC                           2727.023\n",
       "Sample:                                          0   HQIC                          2707.729\n",
       "                                             - 278                                         \n",
       "Covariance Type:                               opg                                         \n",
       "==============================================================================\n",
       "                 coef    std err          z      P>|z|      [0.025      0.975]\n",
       "------------------------------------------------------------------------------\n",
       "ar.L1          0.1075      0.048      2.248      0.025       0.014       0.201\n",
       "ar.L2          0.0526      0.039      1.362      0.173      -0.023       0.128\n",
       "ar.L3         -0.8974      0.042    -21.547      0.000      -0.979      -0.816\n",
       "ma.L1         -0.1202      0.039     -3.075      0.002      -0.197      -0.044\n",
       "ma.L2         -0.1414      0.034     -4.141      0.000      -0.208      -0.074\n",
       "ma.L3          0.9686      0.045     21.437      0.000       0.880       1.057\n",
       "ar.S.L7        0.1696      0.681      0.249      0.803      -1.166       1.505\n",
       "ma.S.L7       -0.2123      0.672     -0.316      0.752      -1.530       1.106\n",
       "sigma2      1331.7578    108.515     12.273      0.000    1119.073    1544.443\n",
       "===================================================================================\n",
       "Ljung-Box (L1) (Q):                   0.55   Jarque-Bera (JB):                21.81\n",
       "Prob(Q):                              0.46   Prob(JB):                         0.00\n",
       "Heteroskedasticity (H):               3.10   Skew:                            -0.35\n",
       "Prob(H) (two-sided):                  0.00   Kurtosis:                         4.22\n",
       "===================================================================================\n",
       "\n",
       "Warnings:\n",
       "[1] Covariance matrix calculated using the outer product of gradients (complex-step).\n",
       "\"\"\""
      ]
     },
     "execution_count": 12,
     "metadata": {},
     "output_type": "execute_result"
    }
   ],
   "source": [
    "results.summary()"
   ]
  },
  {
   "cell_type": "code",
   "execution_count": 13,
   "metadata": {},
   "outputs": [
    {
     "name": "stdout",
     "output_type": "stream",
     "text": [
      "[1475.40380275 1462.74492882 1471.19166994 1498.16749989 1537.65065854\n",
      " 1507.93732676 1581.09583637 1627.08584385 1650.29369231 1649.50241908\n",
      " 1657.85100237 1647.93207793 1625.7642006  1670.94310644 1672.334455\n",
      " 1683.46121758 1693.83522991 1642.4442927  1657.24173444 1652.14401704\n",
      " 1661.24716809 1620.86627793 1594.93512565 1679.48896151 1724.93988129\n",
      " 1629.05268334 1638.28954296 1647.46183118 1636.78598962 1606.56189141]\n"
     ]
    }
   ],
   "source": [
    "one_step_forecast = results.get_prediction(start=-30)\n",
    "\n",
    "# Extract prediction mean\n",
    "mean_forecast = one_step_forecast.predicted_mean\n",
    "\n",
    "# Get confidence intervals of predictions\n",
    "confidence_intervals = one_step_forecast.conf_int()\n",
    "\n",
    "# Select lower and upper confidence limits\n",
    "lower_limits = confidence_intervals.loc[:,'lower close']\n",
    "upper_limits = confidence_intervals.loc[:,'upper close']\n",
    "\n",
    "# Print best estimate  predictions\n",
    "print(mean_forecast.values)"
   ]
  },
  {
   "cell_type": "code",
   "execution_count": 14,
   "metadata": {},
   "outputs": [
    {
     "data": {
      "image/png": "[encoded data removed]",
      "text/plain": [
       "<Figure size 640x480 with 1 Axes>"
      ]
     },
     "metadata": {},
     "output_type": "display_data"
    }
   ],
   "source": [
    "# plot the amazon data\n",
    "plt.plot(amazon.index, amazon['close'], label='observed')\n",
    "\n",
    "# Plot your mean predictions\n",
    "plt.plot(mean_forecast.index, mean_forecast, color='r', label='forecast')\n",
    "\n",
    "# shade the area between your confidence limits\n",
    "plt.fill_between(lower_limits.index, lower_limits, upper_limits, color='pink')\n",
    "\n",
    "# set labels, legends and show plot\n",
    "plt.xlabel('Date')\n",
    "plt.ylabel('Amazon Stock Price - Close USD')\n",
    "plt.legend()\n",
    "plt.show()"
   ]
  },
  {
   "cell_type": "code",
   "execution_count": 15,
   "metadata": {},
   "outputs": [
    {
     "name": "stdout",
     "output_type": "stream",
     "text": [
      "[1475.40380275 1476.31263338 1468.48434491 1467.28747526 1468.40672015\n",
      " 1478.26709249 1476.86227714 1480.02567622 1472.64518634 1469.92433955\n",
      " 1467.02174621 1473.6092769  1477.07777473 1479.79189982 1474.99928573\n",
      " 1471.71791664 1468.10841859 1471.95298794 1475.19234603 1479.0619847\n",
      " 1476.09509934 1473.18201191 1469.27466313 1471.26709082 1473.90765091\n",
      " 1477.81489225 1476.59964445 1474.28741877 1470.48708791 1471.05310173]\n"
     ]
    }
   ],
   "source": [
    "# Generate predictions\n",
    "dynamic_forecast = results.get_prediction(start=-30, dynamic=True)\n",
    "\n",
    "# Extract prediction mean\n",
    "mean_forecast = dynamic_forecast.predicted_mean\n",
    "\n",
    "# Get confidence intervals of predictions\n",
    "confidence_intervals = dynamic_forecast.conf_int()\n",
    "\n",
    "# Select lower and upper confidence limits\n",
    "lower_limits = confidence_intervals.loc[:, 'lower close']\n",
    "upper_limits = confidence_intervals.loc[:, 'upper close']\n",
    "\n",
    "# Print bet estimate predictions\n",
    "print(mean_forecast.values)"
   ]
  },
  {
   "cell_type": "code",
   "execution_count": 16,
   "metadata": {},
   "outputs": [
    {
     "data": {
      "text/html": [
       "<div>\n",
       "<style scoped>\n",
       "    .dataframe tbody tr th:only-of-type {\n",
       "        vertical-align: middle;\n",
       "    }\n",
       "\n",
       "    .dataframe tbody tr th {\n",
       "        vertical-align: top;\n",
       "    }\n",
       "\n",
       "    .dataframe thead th {\n",
       "        text-align: right;\n",
       "    }\n",
       "</style>\n",
       "<table border=\"1\" class=\"dataframe\">\n",
       "  <thead>\n",
       "    <tr style=\"text-align: right;\">\n",
       "      <th></th>\n",
       "      <th>close</th>\n",
       "    </tr>\n",
       "    <tr>\n",
       "      <th>date</th>\n",
       "      <th></th>\n",
       "    </tr>\n",
       "  </thead>\n",
       "  <tbody>\n",
       "    <tr>\n",
       "      <th>2017-12-01</th>\n",
       "      <td>1162.35</td>\n",
       "    </tr>\n",
       "    <tr>\n",
       "      <th>2017-12-04</th>\n",
       "      <td>1133.95</td>\n",
       "    </tr>\n",
       "    <tr>\n",
       "      <th>2017-12-05</th>\n",
       "      <td>1141.57</td>\n",
       "    </tr>\n",
       "    <tr>\n",
       "      <th>2017-12-06</th>\n",
       "      <td>1152.35</td>\n",
       "    </tr>\n",
       "    <tr>\n",
       "      <th>2017-12-07</th>\n",
       "      <td>1159.79</td>\n",
       "    </tr>\n",
       "  </tbody>\n",
       "</table>\n",
       "</div>"
      ],
      "text/plain": [
       "              close\n",
       "date               \n",
       "2017-12-01  1162.35\n",
       "2017-12-04  1133.95\n",
       "2017-12-05  1141.57\n",
       "2017-12-06  1152.35\n",
       "2017-12-07  1159.79"
      ]
     },
     "execution_count": 16,
     "metadata": {},
     "output_type": "execute_result"
    }
   ],
   "source": [
    "amazon = amazon.loc['2017-12':]\n",
    "amazon.head()"
   ]
  },
  {
   "cell_type": "code",
   "execution_count": 17,
   "metadata": {},
   "outputs": [
    {
     "data": {
      "image/png": "[encoded data removed]",
      "text/plain": [
       "<Figure size 640x480 with 1 Axes>"
      ]
     },
     "metadata": {},
     "output_type": "display_data"
    }
   ],
   "source": [
    "# plot the amazon data\n",
    "plt.plot(amazon.index, amazon['close'], label='observed')\n",
    "\n",
    "# Plot your mean forecast\n",
    "plt.plot(mean_forecast.index, mean_forecast, label='forecast')\n",
    "\n",
    "# Shade the area between your confidence limits\n",
    "plt.fill_between(lower_limits.index, lower_limits, upper_limits, color='pink')\n",
    "\n",
    "# set labels, legends and show plot\n",
    "plt.xlabel('Date')\n",
    "plt.ylabel('Amazon Stock Price - Close USD')\n",
    "plt.legend()\n",
    "plt.show()"
   ]
  },
  {
   "cell_type": "code",
   "execution_count": 18,
   "metadata": {},
   "outputs": [
    {
     "data": {
      "text/html": [
       "<div>\n",
       "<style scoped>\n",
       "    .dataframe tbody tr th:only-of-type {\n",
       "        vertical-align: middle;\n",
       "    }\n",
       "\n",
       "    .dataframe tbody tr th {\n",
       "        vertical-align: top;\n",
       "    }\n",
       "\n",
       "    .dataframe thead th {\n",
       "        text-align: right;\n",
       "    }\n",
       "</style>\n",
       "<table border=\"1\" class=\"dataframe\">\n",
       "  <thead>\n",
       "    <tr style=\"text-align: right;\">\n",
       "      <th></th>\n",
       "      <th>close</th>\n",
       "    </tr>\n",
       "    <tr>\n",
       "      <th>date</th>\n",
       "      <th></th>\n",
       "    </tr>\n",
       "  </thead>\n",
       "  <tbody>\n",
       "    <tr>\n",
       "      <th>2019-02-08</th>\n",
       "      <td>1588.22</td>\n",
       "    </tr>\n",
       "    <tr>\n",
       "      <th>2019-02-07</th>\n",
       "      <td>1614.37</td>\n",
       "    </tr>\n",
       "    <tr>\n",
       "      <th>2019-02-06</th>\n",
       "      <td>1640.26</td>\n",
       "    </tr>\n",
       "    <tr>\n",
       "      <th>2019-02-05</th>\n",
       "      <td>1658.81</td>\n",
       "    </tr>\n",
       "    <tr>\n",
       "      <th>2019-02-04</th>\n",
       "      <td>1633.31</td>\n",
       "    </tr>\n",
       "  </tbody>\n",
       "</table>\n",
       "</div>"
      ],
      "text/plain": [
       "              close\n",
       "date               \n",
       "2019-02-08  1588.22\n",
       "2019-02-07  1614.37\n",
       "2019-02-06  1640.26\n",
       "2019-02-05  1658.81\n",
       "2019-02-04  1633.31"
      ]
     },
     "metadata": {},
     "output_type": "display_data"
    },
    {
     "data": {
      "text/html": [
       "<div>\n",
       "<style scoped>\n",
       "    .dataframe tbody tr th:only-of-type {\n",
       "        vertical-align: middle;\n",
       "    }\n",
       "\n",
       "    .dataframe tbody tr th {\n",
       "        vertical-align: top;\n",
       "    }\n",
       "\n",
       "    .dataframe thead th {\n",
       "        text-align: right;\n",
       "    }\n",
       "</style>\n",
       "<table border=\"1\" class=\"dataframe\">\n",
       "  <thead>\n",
       "    <tr style=\"text-align: right;\">\n",
       "      <th></th>\n",
       "      <th>close</th>\n",
       "    </tr>\n",
       "    <tr>\n",
       "      <th>date</th>\n",
       "      <th></th>\n",
       "    </tr>\n",
       "  </thead>\n",
       "  <tbody>\n",
       "    <tr>\n",
       "      <th>2014-02-10</th>\n",
       "      <td>360.87</td>\n",
       "    </tr>\n",
       "    <tr>\n",
       "      <th>2014-02-11</th>\n",
       "      <td>361.79</td>\n",
       "    </tr>\n",
       "    <tr>\n",
       "      <th>2014-02-12</th>\n",
       "      <td>349.25</td>\n",
       "    </tr>\n",
       "    <tr>\n",
       "      <th>2014-02-13</th>\n",
       "      <td>357.20</td>\n",
       "    </tr>\n",
       "    <tr>\n",
       "      <th>2014-02-14</th>\n",
       "      <td>357.35</td>\n",
       "    </tr>\n",
       "  </tbody>\n",
       "</table>\n",
       "</div>"
      ],
      "text/plain": [
       "             close\n",
       "date              \n",
       "2014-02-10  360.87\n",
       "2014-02-11  361.79\n",
       "2014-02-12  349.25\n",
       "2014-02-13  357.20\n",
       "2014-02-14  357.35"
      ]
     },
     "metadata": {},
     "output_type": "display_data"
    }
   ],
   "source": [
    "amazon = pd.read_csv('.//amazon_close.csv', parse_dates=True, index_col='date')\n",
    "display(amazon.head())\n",
    "amazon.sort_index(inplace=True)\n",
    "display(amazon.head())"
   ]
  },
  {
   "cell_type": "code",
   "execution_count": 19,
   "metadata": {},
   "outputs": [
    {
     "name": "stderr",
     "output_type": "stream",
     "text": [
      "c:\\Users\\jdamodhar\\AppData\\Local\\Programs\\Python\\Python311\\Lib\\site-packages\\statsmodels\\tsa\\base\\tsa_model.py:473: ValueWarning: A date index has been provided, but it has no associated frequency information and so will be ignored when e.g. forecasting.\n",
      "  self._init_dates(dates, freq)\n",
      "c:\\Users\\jdamodhar\\AppData\\Local\\Programs\\Python\\Python311\\Lib\\site-packages\\statsmodels\\tsa\\base\\tsa_model.py:473: ValueWarning: A date index has been provided, but it has no associated frequency information and so will be ignored when e.g. forecasting.\n",
      "  self._init_dates(dates, freq)\n"
     ]
    },
    {
     "name": "stdout",
     "output_type": "stream",
     "text": [
      "                               SARIMAX Results                                \n",
      "==============================================================================\n",
      "Dep. Variable:                  close   No. Observations:                 1258\n",
      "Model:               SARIMAX(2, 0, 2)   Log Likelihood               -5531.159\n",
      "Date:                Mon, 27 Nov 2023   AIC                          11072.318\n",
      "Time:                        08:38:24   BIC                          11098.004\n",
      "Sample:                             0   HQIC                         11081.971\n",
      "                               - 1258                                         \n",
      "Covariance Type:                  opg                                         \n",
      "==============================================================================\n",
      "                 coef    std err          z      P>|z|      [0.025      0.975]\n",
      "------------------------------------------------------------------------------\n",
      "ar.L1          1.0770      0.004    259.194      0.000       1.069       1.085\n",
      "ar.L2         -0.9950      0.004   -273.545      0.000      -1.002      -0.988\n",
      "ma.L1         -1.0915      0.006   -177.366      0.000      -1.104      -1.079\n",
      "ma.L2          0.9946      0.007    145.411      0.000       0.981       1.008\n",
      "sigma2       391.6254      6.804     57.559      0.000     378.290     404.961\n",
      "===================================================================================\n",
      "Ljung-Box (L1) (Q):                   0.75   Jarque-Bera (JB):              6865.48\n",
      "Prob(Q):                              0.39   Prob(JB):                         0.00\n",
      "Heteroskedasticity (H):              15.47   Skew:                            -0.20\n",
      "Prob(H) (two-sided):                  0.00   Kurtosis:                        14.44\n",
      "===================================================================================\n",
      "\n",
      "Warnings:\n",
      "[1] Covariance matrix calculated using the outer product of gradients (complex-step).\n"
     ]
    }
   ],
   "source": [
    "# Take the first difference of the data\n",
    "amazon_diff = amazon.diff().dropna()\n",
    "\n",
    "# Create ARMA(2, 2) model\n",
    "arma = SARIMAX(amazon_diff, order=(2, 0, 2))\n",
    "\n",
    "# Fit model\n",
    "arma_results = arma.fit()\n",
    "\n",
    "# Print fit summary\n",
    "print(arma_results.summary())"
   ]
  },
  {
   "cell_type": "code",
   "execution_count": 22,
   "metadata": {},
   "outputs": [
    {
     "name": "stderr",
     "output_type": "stream",
     "text": [
      "c:\\Users\\jdamodhar\\AppData\\Local\\Programs\\Python\\Python311\\Lib\\site-packages\\statsmodels\\tsa\\base\\tsa_model.py:473: ValueWarning: A date index has been provided, but it has no associated frequency information and so will be ignored when e.g. forecasting.\n",
      "  self._init_dates(dates, freq)\n",
      "c:\\Users\\jdamodhar\\AppData\\Local\\Programs\\Python\\Python311\\Lib\\site-packages\\statsmodels\\tsa\\base\\tsa_model.py:473: ValueWarning: A date index has been provided, but it has no associated frequency information and so will be ignored when e.g. forecasting.\n",
      "  self._init_dates(dates, freq)\n",
      "c:\\Users\\jdamodhar\\AppData\\Local\\Programs\\Python\\Python311\\Lib\\site-packages\\statsmodels\\tsa\\base\\tsa_model.py:473: ValueWarning: A date index has been provided, but it has no associated frequency information and so will be ignored when e.g. forecasting.\n",
      "  self._init_dates(dates, freq)\n"
     ]
    },
    {
     "name": "stdout",
     "output_type": "stream",
     "text": [
      "                               SARIMAX Results                                \n",
      "==============================================================================\n",
      "Dep. Variable:                  close   No. Observations:                 1258\n",
      "Model:                 ARIMA(2, 0, 2)   Log Likelihood               -5532.371\n",
      "Date:                Mon, 27 Nov 2023   AIC                          11076.743\n",
      "Time:                        08:41:49   BIC                          11107.566\n",
      "Sample:                             0   HQIC                         11088.327\n",
      "                               - 1258                                         \n",
      "Covariance Type:                  opg                                         \n",
      "==============================================================================\n",
      "                 coef    std err          z      P>|z|      [0.025      0.975]\n",
      "------------------------------------------------------------------------------\n",
      "const          0.9867      0.494      1.996      0.046       0.018       1.955\n",
      "ar.L1         -0.1541      0.073     -2.119      0.034      -0.297      -0.012\n",
      "ar.L2          0.7945      0.072     11.085      0.000       0.654       0.935\n",
      "ma.L1          0.1363      0.067      2.020      0.043       0.004       0.269\n",
      "ma.L2         -0.8457      0.066    -12.822      0.000      -0.975      -0.716\n",
      "sigma2       386.5897      6.185     62.504      0.000     374.467     398.712\n",
      "===================================================================================\n",
      "Ljung-Box (L1) (Q):                   0.09   Jarque-Bera (JB):              6883.36\n",
      "Prob(Q):                              0.77   Prob(JB):                         0.00\n",
      "Heteroskedasticity (H):              15.57   Skew:                            -0.35\n",
      "Prob(H) (two-sided):                  0.00   Kurtosis:                        14.44\n",
      "===================================================================================\n",
      "\n",
      "Warnings:\n",
      "[1] Covariance matrix calculated using the outer product of gradients (complex-step).\n"
     ]
    }
   ],
   "source": [
    "# Take the first difference of the data\n",
    "amazon_diff = amazon.diff().dropna()\n",
    "\n",
    "# Create ARMA(2,2) model\n",
    "arma = ARIMA(amazon_diff, order=(2,0,2))\n",
    "\n",
    "# Fit model\n",
    "arma_results = arma.fit()\n",
    "\n",
    "# Print fit summary\n",
    "print(arma_results.summary())"
   ]
  },
  {
   "cell_type": "code",
   "execution_count": 20,
   "metadata": {},
   "outputs": [
    {
     "name": "stdout",
     "output_type": "stream",
     "text": [
      "1258    1593.662430\n",
      "1259    1601.966970\n",
      "1260    1605.495915\n",
      "1261    1601.033882\n",
      "1262    1592.717137\n",
      "1263    1588.199594\n",
      "1264    1591.609054\n",
      "1265    1599.775798\n",
      "1266    1605.179062\n",
      "1267    1602.872761\n",
      "Name: predicted_mean, dtype: float64\n"
     ]
    },
    {
     "name": "stderr",
     "output_type": "stream",
     "text": [
      "c:\\Users\\jdamodhar\\AppData\\Local\\Programs\\Python\\Python311\\Lib\\site-packages\\statsmodels\\tsa\\base\\tsa_model.py:836: ValueWarning: No supported index is available. Prediction results will be given with an integer index beginning at `start`.\n",
      "  return get_prediction_index(\n",
      "c:\\Users\\jdamodhar\\AppData\\Local\\Programs\\Python\\Python311\\Lib\\site-packages\\statsmodels\\tsa\\base\\tsa_model.py:836: FutureWarning: No supported index is available. In the next version, calling this method in a model without a supported index will result in an exception.\n",
      "  return get_prediction_index(\n"
     ]
    }
   ],
   "source": [
    "# Make arma forecast of next 10 differences\n",
    "arma_diff_forecast = arma_results.get_forecast(steps=10).predicted_mean\n",
    "\n",
    "# Integrate the difference forecast\n",
    "arma_int_forecast = np.cumsum(arma_diff_forecast)\n",
    "\n",
    "# Make absolute value forecast\n",
    "arma_value_forecast = arma_int_forecast + amazon.iloc[-1, 0]\n",
    "\n",
    "# Print forecast\n",
    "print(arma_value_forecast)"
   ]
  },
  {
   "cell_type": "code",
   "execution_count": 21,
   "metadata": {},
   "outputs": [
    {
     "name": "stderr",
     "output_type": "stream",
     "text": [
      "c:\\Users\\jdamodhar\\AppData\\Local\\Programs\\Python\\Python311\\Lib\\site-packages\\statsmodels\\tsa\\base\\tsa_model.py:473: ValueWarning: A date index has been provided, but it has no associated frequency information and so will be ignored when e.g. forecasting.\n",
      "  self._init_dates(dates, freq)\n",
      "c:\\Users\\jdamodhar\\AppData\\Local\\Programs\\Python\\Python311\\Lib\\site-packages\\statsmodels\\tsa\\base\\tsa_model.py:473: ValueWarning: A date index has been provided, but it has no associated frequency information and so will be ignored when e.g. forecasting.\n",
      "  self._init_dates(dates, freq)\n"
     ]
    },
    {
     "name": "stdout",
     "output_type": "stream",
     "text": [
      "1259    1593.639455\n",
      "1260    1601.906411\n",
      "1261    1605.418925\n",
      "1262    1600.976727\n",
      "1263    1592.696654\n",
      "1264    1588.197619\n",
      "1265    1591.590210\n",
      "1266    1599.721277\n",
      "1267    1605.104189\n",
      "1268    1602.811957\n",
      "Name: predicted_mean, dtype: float64\n"
     ]
    },
    {
     "name": "stderr",
     "output_type": "stream",
     "text": [
      "c:\\Users\\jdamodhar\\AppData\\Local\\Programs\\Python\\Python311\\Lib\\site-packages\\statsmodels\\tsa\\base\\tsa_model.py:836: ValueWarning: No supported index is available. Prediction results will be given with an integer index beginning at `start`.\n",
      "  return get_prediction_index(\n",
      "c:\\Users\\jdamodhar\\AppData\\Local\\Programs\\Python\\Python311\\Lib\\site-packages\\statsmodels\\tsa\\base\\tsa_model.py:836: FutureWarning: No supported index is available. In the next version, calling this method in a model without a supported index will result in an exception.\n",
      "  return get_prediction_index(\n"
     ]
    }
   ],
   "source": [
    "# Create ARIMA(2,1,2) model\n",
    "arima = SARIMAX(amazon, order=(2, 1, 2))\n",
    "\n",
    "# Fit ARIMA model\n",
    "arima_results = arima.fit()\n",
    "\n",
    "# Make ARIMA forecast of next 10 values\n",
    "arima_value_forecast = arima_results.get_forecast(steps=10).predicted_mean\n",
    "\n",
    "# Print forecast\n",
    "print(arima_value_forecast)"
   ]
  },
  {
   "cell_type": "code",
   "execution_count": 23,
   "metadata": {},
   "outputs": [
    {
     "name": "stderr",
     "output_type": "stream",
     "text": [
      "c:\\Users\\jdamodhar\\AppData\\Local\\Programs\\Python\\Python311\\Lib\\site-packages\\statsmodels\\tsa\\base\\tsa_model.py:473: ValueWarning: A date index has been provided, but it has no associated frequency information and so will be ignored when e.g. forecasting.\n",
      "  self._init_dates(dates, freq)\n",
      "c:\\Users\\jdamodhar\\AppData\\Local\\Programs\\Python\\Python311\\Lib\\site-packages\\statsmodels\\tsa\\base\\tsa_model.py:473: ValueWarning: A date index has been provided, but it has no associated frequency information and so will be ignored when e.g. forecasting.\n",
      "  self._init_dates(dates, freq)\n",
      "c:\\Users\\jdamodhar\\AppData\\Local\\Programs\\Python\\Python311\\Lib\\site-packages\\statsmodels\\tsa\\base\\tsa_model.py:473: ValueWarning: A date index has been provided, but it has no associated frequency information and so will be ignored when e.g. forecasting.\n",
      "  self._init_dates(dates, freq)\n"
     ]
    },
    {
     "name": "stdout",
     "output_type": "stream",
     "text": [
      "1259    1593.639455\n",
      "1260    1601.906411\n",
      "1261    1605.418925\n",
      "1262    1600.976727\n",
      "1263    1592.696654\n",
      "1264    1588.197619\n",
      "1265    1591.590210\n",
      "1266    1599.721277\n",
      "1267    1605.104189\n",
      "1268    1602.811957\n",
      "Name: predicted_mean, dtype: float64\n"
     ]
    },
    {
     "name": "stderr",
     "output_type": "stream",
     "text": [
      "c:\\Users\\jdamodhar\\AppData\\Local\\Programs\\Python\\Python311\\Lib\\site-packages\\statsmodels\\tsa\\base\\tsa_model.py:836: ValueWarning: No supported index is available. Prediction results will be given with an integer index beginning at `start`.\n",
      "  return get_prediction_index(\n",
      "c:\\Users\\jdamodhar\\AppData\\Local\\Programs\\Python\\Python311\\Lib\\site-packages\\statsmodels\\tsa\\base\\tsa_model.py:836: FutureWarning: No supported index is available. In the next version, calling this method in a model without a supported index will result in an exception.\n",
      "  return get_prediction_index(\n"
     ]
    }
   ],
   "source": [
    "# Create ARIMA(2,1,2) model\n",
    "arima = ARIMA(amazon, order=(2, 1, 2))\n",
    "\n",
    "# Fit ARIMA model\n",
    "arima_results = arima.fit()\n",
    "\n",
    "# Make ARIMA forecast of next 10 values\n",
    "arima_value_forecast = arima_results.get_forecast(steps=10).predicted_mean\n",
    "\n",
    "# Print forecast\n",
    "print(arima_value_forecast)"
   ]
  },
  {
   "cell_type": "code",
   "execution_count": null,
   "metadata": {},
   "outputs": [],
   "source": []
  }
 ],
 "metadata": {
  "kernelspec": {
   "display_name": "Python 3",
   "language": "python",
   "name": "python3"
  },
  "language_info": {
   "codemirror_mode": {
    "name": "ipython",
    "version": 3
   },
   "file_extension": ".py",
   "mimetype": "text/x-python",
   "name": "python",
   "nbconvert_exporter": "python",
   "pygments_lexer": "ipython3",
   "version": "3.11.6"
  }
 },
 "nbformat": 4,
 "nbformat_minor": 2
}
