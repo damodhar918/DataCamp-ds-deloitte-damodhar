{
 "cells": [
  {
   "cell_type": "code",
   "execution_count": 13,
   "metadata": {},
   "outputs": [
    {
     "name": "stdout",
     "output_type": "stream",
     "text": [
      "\n",
      "('apple', 'green'):\n",
      "   quantity  no\n",
      "0         3   3\n",
      "\n",
      "('apple', 'red'):\n",
      "   quantity  no\n",
      "0         1   1\n",
      "\n",
      "('banana', 'yellow'):\n",
      "   quantity  no\n",
      "0         2   2\n",
      "1         4   4\n",
      "\n",
      "('orange', 'orange'):\n",
      "   quantity  no\n",
      "0         5   5\n",
      "1         6   6\n"
     ]
    }
   ],
   "source": [
    "\n",
    "import pandas as pd\n",
    "\n",
    "# create a sample dataframe\n",
    "df = pd.DataFrame({'fruit': ['apple', 'banana', 'apple', 'banana', 'orange', 'orange'],\n",
    "                   'color': ['red', 'yellow', 'green', 'yellow', 'orange', 'orange'],\n",
    "                   'quantity': [1, 2, 3, 4, 5, 6],\n",
    "                   'no': [1, 2, 3, 4, 5, 6]})\n",
    "\n",
    "# group the dataframe by 'fruit' and 'color'\n",
    "groups = df.groupby(['fruit', 'color'])\n",
    "\n",
    "# iterate over each group and print it\n",
    "for name, group in groups:\n",
    "    print(f\"\\n{name}:\")\n",
    "    print(group.reset_index(drop=True).drop(['fruit', 'color'], axis=1))\n"
   ]
  }
 ],
 "metadata": {
  "kernelspec": {
   "display_name": "Python 3",
   "language": "python",
   "name": "python3"
  },
  "language_info": {
   "codemirror_mode": {
    "name": "ipython",
    "version": 3
   },
   "file_extension": ".py",
   "mimetype": "text/x-python",
   "name": "python",
   "nbconvert_exporter": "python",
   "pygments_lexer": "ipython3",
   "version": "3.10.5"
  },
  "orig_nbformat": 4
 },
 "nbformat": 4,
 "nbformat_minor": 2
}
