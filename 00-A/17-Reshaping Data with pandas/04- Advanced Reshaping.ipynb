{
 "cells": [
  {
   "cell_type": "code",
   "execution_count": 33,
   "metadata": {},
   "outputs": [],
   "source": [
    "import pandas as pd\n",
    "import numpy as np\n"
   ]
  },
  {
   "cell_type": "code",
   "execution_count": 34,
   "metadata": {},
   "outputs": [
    {
     "name": "stdout",
     "output_type": "stream",
     "text": [
      "biological_sex  year\n",
      "Female          2005    15.133333\n",
      "                2015    18.100000\n",
      "Male            2005    13.866667\n",
      "                2015    18.133333\n",
      "dtype: float64\n"
     ]
    }
   ],
   "source": [
    "# edited/added\n",
    "obesity = pd.read_csv('obesity.csv')\n",
    "obesity.set_index(['country', 'biological_sex', 'year'], inplace=True)\n",
    "\n",
    "# Unstack the first level and calculate the mean of the columns\n",
    "obesity_general = obesity.unstack(level=0).mean(axis=1)\n",
    "\n",
    "# Print obesity_general\n",
    "print(obesity_general)\n"
   ]
  },
  {
   "cell_type": "code",
   "execution_count": 35,
   "metadata": {},
   "outputs": [
    {
     "name": "stdout",
     "output_type": "stream",
     "text": [
      "country    year\n",
      "Argentina  2005    22.85\n",
      "           2015    27.65\n",
      "Japan      2005     2.55\n",
      "           2015     4.10\n",
      "Norway     2005    18.10\n",
      "           2015    22.60\n",
      "dtype: float64\n"
     ]
    }
   ],
   "source": [
    "\n",
    "# Unstack the second level and calculate the mean of the columns\n",
    "obesity_mean = obesity.unstack(level=1).mean(axis=1)\n",
    "\n",
    "# Print obesity_mean\n",
    "print(obesity_mean)\n",
    "\n"
   ]
  },
  {
   "cell_type": "code",
   "execution_count": 36,
   "metadata": {},
   "outputs": [
    {
     "name": "stdout",
     "output_type": "stream",
     "text": [
      "                         perc_obesity     \n",
      "year                             2005 2015\n",
      "country   biological_sex                  \n",
      "Argentina Female                  NaN  4.3\n",
      "          Male                    NaN  5.3\n",
      "Japan     Female                  NaN  1.0\n",
      "          Male                    NaN  2.1\n",
      "Norway    Female                  NaN  3.6\n",
      "          Male                    NaN  5.4\n"
     ]
    }
   ],
   "source": [
    "# Unstack the third level and calculate the difference between columns\n",
    "obesity_variation = obesity.unstack(level=2).diff(axis=1)\n",
    "\n",
    "# Print obesity_variation\n",
    "print(obesity_variation)"
   ]
  },
  {
   "cell_type": "code",
   "execution_count": 44,
   "metadata": {},
   "outputs": [
    {
     "data": {
      "text/html": [
       "<div>\n",
       "<style scoped>\n",
       "    .dataframe tbody tr th:only-of-type {\n",
       "        vertical-align: middle;\n",
       "    }\n",
       "\n",
       "    .dataframe tbody tr th {\n",
       "        vertical-align: top;\n",
       "    }\n",
       "\n",
       "    .dataframe thead th {\n",
       "        text-align: right;\n",
       "    }\n",
       "</style>\n",
       "<table border=\"1\" class=\"dataframe\">\n",
       "  <thead>\n",
       "    <tr style=\"text-align: right;\">\n",
       "      <th></th>\n",
       "      <th>country</th>\n",
       "      <th>biological_sex</th>\n",
       "      <th>year</th>\n",
       "      <th>metrics</th>\n",
       "      <th>value</th>\n",
       "    </tr>\n",
       "  </thead>\n",
       "  <tbody>\n",
       "    <tr>\n",
       "      <th>0</th>\n",
       "      <td>France</td>\n",
       "      <td>Female</td>\n",
       "      <td>1995</td>\n",
       "      <td>perc_obesity</td>\n",
       "      <td>15.3</td>\n",
       "    </tr>\n",
       "    <tr>\n",
       "      <th>1</th>\n",
       "      <td>France</td>\n",
       "      <td>Female</td>\n",
       "      <td>2005</td>\n",
       "      <td>perc_obesity</td>\n",
       "      <td>18.1</td>\n",
       "    </tr>\n",
       "    <tr>\n",
       "      <th>2</th>\n",
       "      <td>France</td>\n",
       "      <td>Female</td>\n",
       "      <td>2015</td>\n",
       "      <td>perc_obesity</td>\n",
       "      <td>20.8</td>\n",
       "    </tr>\n",
       "    <tr>\n",
       "      <th>3</th>\n",
       "      <td>France</td>\n",
       "      <td>Male</td>\n",
       "      <td>1995</td>\n",
       "      <td>perc_obesity</td>\n",
       "      <td>12.8</td>\n",
       "    </tr>\n",
       "    <tr>\n",
       "      <th>4</th>\n",
       "      <td>France</td>\n",
       "      <td>Male</td>\n",
       "      <td>2005</td>\n",
       "      <td>perc_obesity</td>\n",
       "      <td>16.9</td>\n",
       "    </tr>\n",
       "    <tr>\n",
       "      <th>5</th>\n",
       "      <td>France</td>\n",
       "      <td>Male</td>\n",
       "      <td>2015</td>\n",
       "      <td>perc_obesity</td>\n",
       "      <td>21.5</td>\n",
       "    </tr>\n",
       "    <tr>\n",
       "      <th>6</th>\n",
       "      <td>Germany</td>\n",
       "      <td>Female</td>\n",
       "      <td>1995</td>\n",
       "      <td>perc_obesity</td>\n",
       "      <td>14.4</td>\n",
       "    </tr>\n",
       "    <tr>\n",
       "      <th>7</th>\n",
       "      <td>Germany</td>\n",
       "      <td>Female</td>\n",
       "      <td>2005</td>\n",
       "      <td>perc_obesity</td>\n",
       "      <td>17.2</td>\n",
       "    </tr>\n",
       "    <tr>\n",
       "      <th>8</th>\n",
       "      <td>Germany</td>\n",
       "      <td>Female</td>\n",
       "      <td>2015</td>\n",
       "      <td>perc_obesity</td>\n",
       "      <td>20.1</td>\n",
       "    </tr>\n",
       "    <tr>\n",
       "      <th>9</th>\n",
       "      <td>Germany</td>\n",
       "      <td>Male</td>\n",
       "      <td>1995</td>\n",
       "      <td>perc_obesity</td>\n",
       "      <td>14.4</td>\n",
       "    </tr>\n",
       "    <tr>\n",
       "      <th>10</th>\n",
       "      <td>Germany</td>\n",
       "      <td>Male</td>\n",
       "      <td>2005</td>\n",
       "      <td>perc_obesity</td>\n",
       "      <td>18.7</td>\n",
       "    </tr>\n",
       "    <tr>\n",
       "      <th>11</th>\n",
       "      <td>Germany</td>\n",
       "      <td>Male</td>\n",
       "      <td>2015</td>\n",
       "      <td>perc_obesity</td>\n",
       "      <td>23.6</td>\n",
       "    </tr>\n",
       "    <tr>\n",
       "      <th>12</th>\n",
       "      <td>France</td>\n",
       "      <td>Female</td>\n",
       "      <td>1995</td>\n",
       "      <td>variation</td>\n",
       "      <td>7.7</td>\n",
       "    </tr>\n",
       "    <tr>\n",
       "      <th>13</th>\n",
       "      <td>France</td>\n",
       "      <td>Female</td>\n",
       "      <td>2005</td>\n",
       "      <td>variation</td>\n",
       "      <td>8.2</td>\n",
       "    </tr>\n",
       "    <tr>\n",
       "      <th>14</th>\n",
       "      <td>France</td>\n",
       "      <td>Female</td>\n",
       "      <td>2015</td>\n",
       "      <td>variation</td>\n",
       "      <td>11.3</td>\n",
       "    </tr>\n",
       "    <tr>\n",
       "      <th>15</th>\n",
       "      <td>France</td>\n",
       "      <td>Male</td>\n",
       "      <td>1995</td>\n",
       "      <td>variation</td>\n",
       "      <td>7.6</td>\n",
       "    </tr>\n",
       "    <tr>\n",
       "      <th>16</th>\n",
       "      <td>France</td>\n",
       "      <td>Male</td>\n",
       "      <td>2005</td>\n",
       "      <td>variation</td>\n",
       "      <td>8.4</td>\n",
       "    </tr>\n",
       "    <tr>\n",
       "      <th>17</th>\n",
       "      <td>France</td>\n",
       "      <td>Male</td>\n",
       "      <td>2015</td>\n",
       "      <td>variation</td>\n",
       "      <td>11.8</td>\n",
       "    </tr>\n",
       "    <tr>\n",
       "      <th>18</th>\n",
       "      <td>Germany</td>\n",
       "      <td>Female</td>\n",
       "      <td>1995</td>\n",
       "      <td>variation</td>\n",
       "      <td>4.6</td>\n",
       "    </tr>\n",
       "    <tr>\n",
       "      <th>19</th>\n",
       "      <td>Germany</td>\n",
       "      <td>Female</td>\n",
       "      <td>2005</td>\n",
       "      <td>variation</td>\n",
       "      <td>5.2</td>\n",
       "    </tr>\n",
       "    <tr>\n",
       "      <th>20</th>\n",
       "      <td>Germany</td>\n",
       "      <td>Female</td>\n",
       "      <td>2015</td>\n",
       "      <td>variation</td>\n",
       "      <td>8.4</td>\n",
       "    </tr>\n",
       "    <tr>\n",
       "      <th>21</th>\n",
       "      <td>Germany</td>\n",
       "      <td>Male</td>\n",
       "      <td>1995</td>\n",
       "      <td>variation</td>\n",
       "      <td>5.1</td>\n",
       "    </tr>\n",
       "    <tr>\n",
       "      <th>22</th>\n",
       "      <td>Germany</td>\n",
       "      <td>Male</td>\n",
       "      <td>2005</td>\n",
       "      <td>variation</td>\n",
       "      <td>5.9</td>\n",
       "    </tr>\n",
       "    <tr>\n",
       "      <th>23</th>\n",
       "      <td>Germany</td>\n",
       "      <td>Male</td>\n",
       "      <td>2015</td>\n",
       "      <td>variation</td>\n",
       "      <td>9.8</td>\n",
       "    </tr>\n",
       "  </tbody>\n",
       "</table>\n",
       "</div>"
      ],
      "text/plain": [
       "    country biological_sex  year       metrics  value\n",
       "0    France         Female  1995  perc_obesity   15.3\n",
       "1    France         Female  2005  perc_obesity   18.1\n",
       "2    France         Female  2015  perc_obesity   20.8\n",
       "3    France           Male  1995  perc_obesity   12.8\n",
       "4    France           Male  2005  perc_obesity   16.9\n",
       "5    France           Male  2015  perc_obesity   21.5\n",
       "6   Germany         Female  1995  perc_obesity   14.4\n",
       "7   Germany         Female  2005  perc_obesity   17.2\n",
       "8   Germany         Female  2015  perc_obesity   20.1\n",
       "9   Germany           Male  1995  perc_obesity   14.4\n",
       "10  Germany           Male  2005  perc_obesity   18.7\n",
       "11  Germany           Male  2015  perc_obesity   23.6\n",
       "12   France         Female  1995     variation    7.7\n",
       "13   France         Female  2005     variation    8.2\n",
       "14   France         Female  2015     variation   11.3\n",
       "15   France           Male  1995     variation    7.6\n",
       "16   France           Male  2005     variation    8.4\n",
       "17   France           Male  2015     variation   11.8\n",
       "18  Germany         Female  1995     variation    4.6\n",
       "19  Germany         Female  2005     variation    5.2\n",
       "20  Germany         Female  2015     variation    8.4\n",
       "21  Germany           Male  1995     variation    5.1\n",
       "22  Germany           Male  2005     variation    5.9\n",
       "23  Germany           Male  2015     variation    9.8"
      ]
     },
     "execution_count": 44,
     "metadata": {},
     "output_type": "execute_result"
    }
   ],
   "source": [
    "pd.read_csv('obesity_v1.csv')"
   ]
  },
  {
   "cell_type": "code",
   "execution_count": 71,
   "metadata": {},
   "outputs": [
    {
     "data": {
      "text/html": [
       "<div>\n",
       "<style scoped>\n",
       "    .dataframe tbody tr th:only-of-type {\n",
       "        vertical-align: middle;\n",
       "    }\n",
       "\n",
       "    .dataframe tbody tr th {\n",
       "        vertical-align: top;\n",
       "    }\n",
       "\n",
       "    .dataframe thead th {\n",
       "        text-align: right;\n",
       "    }\n",
       "</style>\n",
       "<table border=\"1\" class=\"dataframe\">\n",
       "  <thead>\n",
       "    <tr style=\"text-align: right;\">\n",
       "      <th>year</th>\n",
       "      <th>1995</th>\n",
       "      <th>2005</th>\n",
       "      <th>2015</th>\n",
       "    </tr>\n",
       "    <tr>\n",
       "      <th>country</th>\n",
       "      <th></th>\n",
       "      <th></th>\n",
       "      <th></th>\n",
       "    </tr>\n",
       "  </thead>\n",
       "  <tbody>\n",
       "    <tr>\n",
       "      <th>France</th>\n",
       "      <td>10.850</td>\n",
       "      <td>12.90</td>\n",
       "      <td>16.350</td>\n",
       "    </tr>\n",
       "    <tr>\n",
       "      <th>Germany</th>\n",
       "      <td>9.625</td>\n",
       "      <td>11.75</td>\n",
       "      <td>15.475</td>\n",
       "    </tr>\n",
       "  </tbody>\n",
       "</table>\n",
       "</div>"
      ],
      "text/plain": [
       "year       1995   2005    2015\n",
       "country                       \n",
       "France   10.850  12.90  16.350\n",
       "Germany   9.625  11.75  15.475"
      ]
     },
     "execution_count": 71,
     "metadata": {},
     "output_type": "execute_result"
    }
   ],
   "source": [
    "obesity = pd.read_csv('obesity_v1.csv')\n",
    "obesity = pd.pivot_table(obesity, index=['country'], columns=['year'], values='value')\n",
    "# obesity.columns.names = ['year', None]\n",
    "obesity"
   ]
  },
  {
   "cell_type": "code",
   "execution_count": 70,
   "metadata": {},
   "outputs": [
    {
     "data": {
      "text/html": [
       "<div>\n",
       "<style scoped>\n",
       "    .dataframe tbody tr th:only-of-type {\n",
       "        vertical-align: middle;\n",
       "    }\n",
       "\n",
       "    .dataframe tbody tr th {\n",
       "        vertical-align: top;\n",
       "    }\n",
       "\n",
       "    .dataframe thead th {\n",
       "        text-align: right;\n",
       "    }\n",
       "</style>\n",
       "<table border=\"1\" class=\"dataframe\">\n",
       "  <thead>\n",
       "    <tr style=\"text-align: right;\">\n",
       "      <th></th>\n",
       "      <th></th>\n",
       "      <th>perc_obesity</th>\n",
       "      <th>variation</th>\n",
       "    </tr>\n",
       "    <tr>\n",
       "      <th>country</th>\n",
       "      <th>biological_sex</th>\n",
       "      <th></th>\n",
       "      <th></th>\n",
       "    </tr>\n",
       "  </thead>\n",
       "  <tbody>\n",
       "    <tr>\n",
       "      <th rowspan=\"2\" valign=\"top\">France</th>\n",
       "      <th>Female</th>\n",
       "      <td>20.8</td>\n",
       "      <td>11.3</td>\n",
       "    </tr>\n",
       "    <tr>\n",
       "      <th>Male</th>\n",
       "      <td>21.5</td>\n",
       "      <td>11.8</td>\n",
       "    </tr>\n",
       "    <tr>\n",
       "      <th rowspan=\"2\" valign=\"top\">Germany</th>\n",
       "      <th>Female</th>\n",
       "      <td>20.1</td>\n",
       "      <td>8.4</td>\n",
       "    </tr>\n",
       "    <tr>\n",
       "      <th>Male</th>\n",
       "      <td>23.6</td>\n",
       "      <td>9.8</td>\n",
       "    </tr>\n",
       "  </tbody>\n",
       "</table>\n",
       "</div>"
      ],
      "text/plain": [
       "                        perc_obesity  variation\n",
       "country biological_sex                         \n",
       "France  Female                  20.8       11.3\n",
       "        Male                    21.5       11.8\n",
       "Germany Female                  20.1        8.4\n",
       "        Male                    23.6        9.8"
      ]
     },
     "execution_count": 70,
     "metadata": {},
     "output_type": "execute_result"
    }
   ],
   "source": [
    "obesity.stack().max(axis=1).unstack()"
   ]
  },
  {
   "cell_type": "code",
   "execution_count": 49,
   "metadata": {},
   "outputs": [
    {
     "name": "stdout",
     "output_type": "stream",
     "text": [
      "                        perc_obesity  variation\n",
      "country biological_sex                         \n",
      "France  Female                  18.1        8.2\n",
      "        Male                    16.9        8.4\n",
      "Germany Female                  17.2        5.2\n",
      "        Male                    18.7        5.9\n"
     ]
    }
   ],
   "source": [
    "# edited/added\n",
    "obesity = pd.read_csv('obesity_v1.csv')\n",
    "obesity = pd.pivot_table(obesity, index=['country', 'biological_sex'], columns=['year', 'metrics'], values='value')\n",
    "obesity.columns.names = ['year', None]\n",
    "\n",
    "# Stack obesity, get median of columns and unstack again\n",
    "median_obesity = obesity.stack().median(axis=1).unstack()\n",
    "\n",
    "# Print median_obesity\n",
    "print(median_obesity)\n",
    "\n"
   ]
  },
  {
   "cell_type": "code",
   "execution_count": 43,
   "metadata": {},
   "outputs": [
    {
     "name": "stdout",
     "output_type": "stream",
     "text": [
      "biological_sex  Female  Male\n",
      "country year                \n",
      "France  1995      23.0  20.4\n",
      "        2005      26.3  25.3\n",
      "        2015      32.1  33.3\n",
      "Germany 1995      19.0  19.5\n",
      "        2005      22.4  24.6\n",
      "        2015      28.5  33.4\n"
     ]
    }
   ],
   "source": [
    "# Stack the first level, get sum, and unstack the second level\n",
    "obesity_sum = obesity.stack(level=0).sum(axis=1).unstack(level=1)\n",
    "\n",
    "# Print obesity_max\n",
    "print(obesity_sum)"
   ]
  },
  {
   "cell_type": "code",
   "execution_count": 7,
   "metadata": {},
   "outputs": [
    {
     "name": "stderr",
     "output_type": "stream",
     "text": [
      "C:\\Users\\jdamodhar\\AppData\\Local\\Temp\\ipykernel_50416\\1311429856.py:3: FutureWarning: The provided callable <function mean at 0x000002787E01D6C0> is currently using DataFrameGroupBy.mean. In a future version of pandas, the provided callable will be used directly. To keep current behavior pass the string \"mean\" instead.\n",
      "  obesity = pd.pivot_table(obesity, index=['year', 'biological_sex'], columns=['metric', 'country'], values='value',aggfunc=np.mean)\n"
     ]
    },
    {
     "data": {
      "text/html": [
       "<div>\n",
       "<style scoped>\n",
       "    .dataframe tbody tr th:only-of-type {\n",
       "        vertical-align: middle;\n",
       "    }\n",
       "\n",
       "    .dataframe tbody tr th {\n",
       "        vertical-align: top;\n",
       "    }\n",
       "\n",
       "    .dataframe thead tr th {\n",
       "        text-align: left;\n",
       "    }\n",
       "\n",
       "    .dataframe thead tr:last-of-type th {\n",
       "        text-align: right;\n",
       "    }\n",
       "</style>\n",
       "<table border=\"1\" class=\"dataframe\">\n",
       "  <thead>\n",
       "    <tr>\n",
       "      <th></th>\n",
       "      <th></th>\n",
       "      <th colspan=\"3\" halign=\"left\">perc_obesity</th>\n",
       "    </tr>\n",
       "    <tr>\n",
       "      <th></th>\n",
       "      <th>country</th>\n",
       "      <th>Argentina</th>\n",
       "      <th>Brazil</th>\n",
       "      <th>France</th>\n",
       "    </tr>\n",
       "    <tr>\n",
       "      <th>year</th>\n",
       "      <th>biological_sex</th>\n",
       "      <th></th>\n",
       "      <th></th>\n",
       "      <th></th>\n",
       "    </tr>\n",
       "  </thead>\n",
       "  <tbody>\n",
       "    <tr>\n",
       "      <th rowspan=\"2\" valign=\"top\">1995</th>\n",
       "      <th>Female</th>\n",
       "      <td>20.2</td>\n",
       "      <td>15.3</td>\n",
       "      <td>15.3</td>\n",
       "    </tr>\n",
       "    <tr>\n",
       "      <th>Male</th>\n",
       "      <td>16.8</td>\n",
       "      <td>8.9</td>\n",
       "      <td>12.8</td>\n",
       "    </tr>\n",
       "    <tr>\n",
       "      <th rowspan=\"2\" valign=\"top\">2005</th>\n",
       "      <th>Female</th>\n",
       "      <td>24.2</td>\n",
       "      <td>20.1</td>\n",
       "      <td>18.1</td>\n",
       "    </tr>\n",
       "    <tr>\n",
       "      <th>Male</th>\n",
       "      <td>21.5</td>\n",
       "      <td>13.2</td>\n",
       "      <td>16.9</td>\n",
       "    </tr>\n",
       "    <tr>\n",
       "      <th rowspan=\"2\" valign=\"top\">2015</th>\n",
       "      <th>Female</th>\n",
       "      <td>28.5</td>\n",
       "      <td>24.9</td>\n",
       "      <td>20.8</td>\n",
       "    </tr>\n",
       "    <tr>\n",
       "      <th>Male</th>\n",
       "      <td>26.8</td>\n",
       "      <td>18.0</td>\n",
       "      <td>21.5</td>\n",
       "    </tr>\n",
       "  </tbody>\n",
       "</table>\n",
       "</div>"
      ],
      "text/plain": [
       "                    perc_obesity              \n",
       "country                Argentina Brazil France\n",
       "year biological_sex                           \n",
       "1995 Female                 20.2   15.3   15.3\n",
       "     Male                   16.8    8.9   12.8\n",
       "2005 Female                 24.2   20.1   18.1\n",
       "     Male                   21.5   13.2   16.9\n",
       "2015 Female                 28.5   24.9   20.8\n",
       "     Male                   26.8   18.0   21.5"
      ]
     },
     "execution_count": 7,
     "metadata": {},
     "output_type": "execute_result"
    }
   ],
   "source": [
    "# edited/added\n",
    "obesity = pd.read_csv('obesity_v2.csv')\n",
    "obesity = pd.pivot_table(obesity, index=['year', 'biological_sex'], columns=['metric', 'country'], values='value',aggfunc)\n",
    "obesity.columns.names = [None, 'country']\n",
    "obesity"
   ]
  },
  {
   "cell_type": "code",
   "execution_count": 8,
   "metadata": {},
   "outputs": [
    {
     "data": {
      "text/html": [
       "<div>\n",
       "<style scoped>\n",
       "    .dataframe tbody tr th:only-of-type {\n",
       "        vertical-align: middle;\n",
       "    }\n",
       "\n",
       "    .dataframe tbody tr th {\n",
       "        vertical-align: top;\n",
       "    }\n",
       "\n",
       "    .dataframe thead th {\n",
       "        text-align: right;\n",
       "    }\n",
       "</style>\n",
       "<table border=\"1\" class=\"dataframe\">\n",
       "  <thead>\n",
       "    <tr style=\"text-align: right;\">\n",
       "      <th></th>\n",
       "      <th></th>\n",
       "      <th></th>\n",
       "      <th>perc_obesity</th>\n",
       "    </tr>\n",
       "    <tr>\n",
       "      <th>year</th>\n",
       "      <th>biological_sex</th>\n",
       "      <th>country</th>\n",
       "      <th></th>\n",
       "    </tr>\n",
       "  </thead>\n",
       "  <tbody>\n",
       "    <tr>\n",
       "      <th rowspan=\"6\" valign=\"top\">1995</th>\n",
       "      <th rowspan=\"3\" valign=\"top\">Female</th>\n",
       "      <th>Argentina</th>\n",
       "      <td>20.2</td>\n",
       "    </tr>\n",
       "    <tr>\n",
       "      <th>Brazil</th>\n",
       "      <td>15.3</td>\n",
       "    </tr>\n",
       "    <tr>\n",
       "      <th>France</th>\n",
       "      <td>15.3</td>\n",
       "    </tr>\n",
       "    <tr>\n",
       "      <th rowspan=\"3\" valign=\"top\">Male</th>\n",
       "      <th>Argentina</th>\n",
       "      <td>16.8</td>\n",
       "    </tr>\n",
       "    <tr>\n",
       "      <th>Brazil</th>\n",
       "      <td>8.9</td>\n",
       "    </tr>\n",
       "    <tr>\n",
       "      <th>France</th>\n",
       "      <td>12.8</td>\n",
       "    </tr>\n",
       "    <tr>\n",
       "      <th rowspan=\"6\" valign=\"top\">2005</th>\n",
       "      <th rowspan=\"3\" valign=\"top\">Female</th>\n",
       "      <th>Argentina</th>\n",
       "      <td>24.2</td>\n",
       "    </tr>\n",
       "    <tr>\n",
       "      <th>Brazil</th>\n",
       "      <td>20.1</td>\n",
       "    </tr>\n",
       "    <tr>\n",
       "      <th>France</th>\n",
       "      <td>18.1</td>\n",
       "    </tr>\n",
       "    <tr>\n",
       "      <th rowspan=\"3\" valign=\"top\">Male</th>\n",
       "      <th>Argentina</th>\n",
       "      <td>21.5</td>\n",
       "    </tr>\n",
       "    <tr>\n",
       "      <th>Brazil</th>\n",
       "      <td>13.2</td>\n",
       "    </tr>\n",
       "    <tr>\n",
       "      <th>France</th>\n",
       "      <td>16.9</td>\n",
       "    </tr>\n",
       "    <tr>\n",
       "      <th rowspan=\"6\" valign=\"top\">2015</th>\n",
       "      <th rowspan=\"3\" valign=\"top\">Female</th>\n",
       "      <th>Argentina</th>\n",
       "      <td>28.5</td>\n",
       "    </tr>\n",
       "    <tr>\n",
       "      <th>Brazil</th>\n",
       "      <td>24.9</td>\n",
       "    </tr>\n",
       "    <tr>\n",
       "      <th>France</th>\n",
       "      <td>20.8</td>\n",
       "    </tr>\n",
       "    <tr>\n",
       "      <th rowspan=\"3\" valign=\"top\">Male</th>\n",
       "      <th>Argentina</th>\n",
       "      <td>26.8</td>\n",
       "    </tr>\n",
       "    <tr>\n",
       "      <th>Brazil</th>\n",
       "      <td>18.0</td>\n",
       "    </tr>\n",
       "    <tr>\n",
       "      <th>France</th>\n",
       "      <td>21.5</td>\n",
       "    </tr>\n",
       "  </tbody>\n",
       "</table>\n",
       "</div>"
      ],
      "text/plain": [
       "                               perc_obesity\n",
       "year biological_sex country                \n",
       "1995 Female         Argentina          20.2\n",
       "                    Brazil             15.3\n",
       "                    France             15.3\n",
       "     Male           Argentina          16.8\n",
       "                    Brazil              8.9\n",
       "                    France             12.8\n",
       "2005 Female         Argentina          24.2\n",
       "                    Brazil             20.1\n",
       "                    France             18.1\n",
       "     Male           Argentina          21.5\n",
       "                    Brazil             13.2\n",
       "                    France             16.9\n",
       "2015 Female         Argentina          28.5\n",
       "                    Brazil             24.9\n",
       "                    France             20.8\n",
       "     Male           Argentina          26.8\n",
       "                    Brazil             18.0\n",
       "                    France             21.5"
      ]
     },
     "execution_count": 8,
     "metadata": {},
     "output_type": "execute_result"
    }
   ],
   "source": [
    "obesity.stack(level='country')"
   ]
  },
  {
   "cell_type": "code",
   "execution_count": 9,
   "metadata": {},
   "outputs": [
    {
     "name": "stdout",
     "output_type": "stream",
     "text": [
      "           perc_obesity\n",
      "country                \n",
      "Argentina     23.000000\n",
      "Brazil        16.733333\n",
      "France        17.566667\n"
     ]
    }
   ],
   "source": [
    "# Stack country level, group by country and get the mean \n",
    "obesity_mean = obesity.stack(level='country').groupby('country').mean()\n",
    "\n",
    "# Print obesity_mean\n",
    "print(obesity_mean)"
   ]
  },
  {
   "cell_type": "code",
   "execution_count": 10,
   "metadata": {},
   "outputs": [
    {
     "name": "stdout",
     "output_type": "stream",
     "text": [
      "           perc_obesity\n",
      "country                \n",
      "Argentina         22.85\n",
      "Brazil            16.65\n",
      "France            17.50\n"
     ]
    }
   ],
   "source": [
    "# Stack country level, group by country and get the median \n",
    "obesity_median = obesity.stack(level='country').groupby('country').median()\n",
    "\n",
    "# Print obesity_mean\n",
    "print(obesity_median)"
   ]
  },
  {
   "cell_type": "code",
   "execution_count": 11,
   "metadata": {},
   "outputs": [
    {
     "name": "stdout",
     "output_type": "stream",
     "text": [
      "0    [15.4, 31.5]\n",
      "1    [16.2, 32.4]\n",
      "2      [1.1, 3.5]\n",
      "3    [13.1, 33.0]\n",
      "Name: bounds, dtype: object\n"
     ]
    }
   ],
   "source": [
    "# edited/added\n",
    "obesity = pd.read_csv('obesity_list.csv')\n",
    "\n",
    "# Explode the values of bounds to a separate row\n",
    "obesity_bounds = obesity['bounds'].explode()\n",
    "\n",
    "# Print obesity_bounds\n",
    "print(obesity_bounds)\n",
    "\n"
   ]
  },
  {
   "cell_type": "code",
   "execution_count": 12,
   "metadata": {},
   "outputs": [
    {
     "name": "stdout",
     "output_type": "stream",
     "text": [
      "     country  perc_obesity        bounds\n",
      "0  Argentina          21.5  [15.4, 31.5]\n",
      "1    Germany          22.3  [16.2, 32.4]\n",
      "2      Japan           2.5    [1.1, 3.5]\n",
      "3     Norway          23.0  [13.1, 33.0]\n"
     ]
    }
   ],
   "source": [
    "# Explode the values of bounds to a separate row\n",
    "obesity_bounds = obesity['bounds'].explode()\n",
    "\n",
    "# Merge obesity_bounds with country and perc_obesity columns of obesity using the indexes\n",
    "obesity_final = obesity[['country', 'perc_obesity']].merge(obesity_bounds, \n",
    "                                                           right_index=True, \n",
    "                                                           left_index=True)\n",
    "\n",
    "# Print obesity_final\n",
    "print(obesity_final)"
   ]
  },
  {
   "cell_type": "code",
   "execution_count": 13,
   "metadata": {},
   "outputs": [
    {
     "name": "stdout",
     "output_type": "stream",
     "text": [
      "     country  perc_obesity        bounds\n",
      "0  Argentina          21.5  [15.4, 31.5]\n",
      "1    Germany          22.3  [16.2, 32.4]\n",
      "2      Japan           2.5    [1.1, 3.5]\n",
      "3     Norway          23.0  [13.1, 33.0]\n"
     ]
    }
   ],
   "source": [
    "# Transform the list-like column named bounds \n",
    "obesity_explode = obesity.explode('bounds')\n",
    "\n",
    "# Modify obesity_explode by resetting the index\n",
    "obesity_explode.reset_index(drop=True, inplace=True)\n",
    "\n",
    "# Print obesity_explode\n",
    "print(obesity_explode)"
   ]
  },
  {
   "cell_type": "code",
   "execution_count": 14,
   "metadata": {},
   "outputs": [
    {
     "name": "stdout",
     "output_type": "stream",
     "text": [
      "0    [[15.4, 31.5]]\n",
      "1    [[16.2, 32.4]]\n",
      "2      [[1.1, 3.5]]\n",
      "3    [[13.1, 33.0]]\n",
      "Name: bounds, dtype: object\n"
     ]
    }
   ],
   "source": [
    "# Split the columns bounds using a hyphen as delimiter\n",
    "obesity_split = obesity['bounds'].str.split('-')\n",
    "\n",
    "# Print obesity_split\n",
    "print(obesity_split)"
   ]
  },
  {
   "cell_type": "code",
   "execution_count": 15,
   "metadata": {},
   "outputs": [
    {
     "name": "stdout",
     "output_type": "stream",
     "text": [
      "     country  perc_obesity          bounds\n",
      "0  Argentina          21.5  [[15.4, 31.5]]\n",
      "1    Germany          22.3  [[16.2, 32.4]]\n",
      "2      Japan           2.5    [[1.1, 3.5]]\n",
      "3     Norway          23.0  [[13.1, 33.0]]\n"
     ]
    }
   ],
   "source": [
    "# Assign the result of the split to the bounds column\n",
    "obesity_split = obesity.assign(bounds=obesity['bounds'].str.split('-'))\n",
    "\n",
    "# Print obesity_split\n",
    "print(obesity_split)\n",
    "\n"
   ]
  },
  {
   "cell_type": "code",
   "execution_count": 16,
   "metadata": {},
   "outputs": [
    {
     "name": "stdout",
     "output_type": "stream",
     "text": [
      "     country  perc_obesity        bounds\n",
      "0  Argentina          21.5  [15.4, 31.5]\n",
      "1    Germany          22.3  [16.2, 32.4]\n",
      "2      Japan           2.5    [1.1, 3.5]\n",
      "3     Norway          23.0  [13.1, 33.0]\n"
     ]
    }
   ],
   "source": [
    "\n",
    "# Transform the column bounds in the obesity DataFrame\n",
    "obesity_split = obesity.assign(bounds=obesity['bounds'].str.split('-')).explode('bounds')\n",
    "\n",
    "# Print obesity_split\n",
    "print(obesity_split)"
   ]
  },
  {
   "cell_type": "code",
   "execution_count": 17,
   "metadata": {},
   "outputs": [
    {
     "name": "stdout",
     "output_type": "stream",
     "text": [
      "                                                features\n",
      "director    producer      movies                        \n",
      "Woody Allen Letty Aronson title   Magic in the Moonlight\n",
      "                          year                      2014\n",
      "Niki Caro   Jason Reed    title                    Mulan\n",
      "                          year                      2020\n"
     ]
    }
   ],
   "source": [
    "# edited/added\n",
    "movies = [\n",
    "  {'director': 'Woody Allen',\n",
    "  'producer': 'Letty Aronson',\n",
    "  'features': {'title': 'Magic in the Moonlight', 'year': 2014}},\n",
    "  {'director': 'Niki Caro',\n",
    "  'producer': 'Jason Reed',\n",
    "  'features': {'title': 'Mulan', 'year': 2020}}\n",
    "]\n",
    "  \n",
    "# Import the json_normalize function\n",
    "from pandas import json_normalize\n",
    "\n",
    "# Normalize movies and separate the new columns with an underscore\n",
    "movies_norm = json_normalize(movies, sep='_')\n",
    "\n",
    "# Reshape using director and producer as index, create movies from column starting from features\n",
    "movies_long = pd.wide_to_long(movies_norm, stubnames='features', \n",
    "                              i=['director', 'producer'], j='movies', \n",
    "                              sep='_', suffix='\\w+')\n",
    "\n",
    "# Print movies_long\n",
    "print(movies_long)"
   ]
  },
  {
   "cell_type": "code",
   "execution_count": 18,
   "metadata": {},
   "outputs": [
    {
     "name": "stdout",
     "output_type": "stream",
     "text": [
      "      director       producer  \\\n",
      "0  Woody Allen  Letty Aronson   \n",
      "1    Niki Caro     Jason Reed   \n",
      "\n",
      "                                            features  \n",
      "0  [{'title': 'Magic in the Moonlight', 'year': 2...  \n",
      "1                 [{'title': 'Mulan', 'year': 2020}]  \n"
     ]
    }
   ],
   "source": [
    "  # edited/added\n",
    "movies = [\n",
    "  {'director': 'Woody Allen',\n",
    "  'producer': 'Letty Aronson',\n",
    "  'features': [{'title': 'Magic in the Moonlight', 'year': 2014},\n",
    "  {'title': 'Vicky Cristina Barcelona', 'year': 2008},\n",
    "  {'title': 'Midnight in Paris', 'year': 2011}]},\n",
    "  {'director': 'Niki Caro',\n",
    "  'producer': 'Jason Reed',\n",
    "  'features': [{'title': 'Mulan', 'year': 2020}]}\n",
    "]\n",
    "# Normalize the JSON contained in movies\n",
    "normalize_movies = json_normalize(movies)\n",
    "\n",
    "# Print normalize_movies\n",
    "print(normalize_movies)\n",
    "\n"
   ]
  },
  {
   "cell_type": "code",
   "execution_count": 19,
   "metadata": {},
   "outputs": [
    {
     "name": "stdout",
     "output_type": "stream",
     "text": [
      "                      title  year\n",
      "0    Magic in the Moonlight  2014\n",
      "1  Vicky Cristina Barcelona  2008\n",
      "2         Midnight in Paris  2011\n",
      "3                     Mulan  2020\n"
     ]
    }
   ],
   "source": [
    "# Specify the features column as the list of records \n",
    "normalize_movies = json_normalize(movies, \n",
    "                                  record_path='features')\n",
    "\n",
    "# Print normalize_movies\n",
    "print(normalize_movies)"
   ]
  },
  {
   "cell_type": "code",
   "execution_count": 20,
   "metadata": {},
   "outputs": [
    {
     "name": "stdout",
     "output_type": "stream",
     "text": [
      "                      title  year     director       producer\n",
      "0    Magic in the Moonlight  2014  Woody Allen  Letty Aronson\n",
      "1  Vicky Cristina Barcelona  2008  Woody Allen  Letty Aronson\n",
      "2         Midnight in Paris  2011  Woody Allen  Letty Aronson\n",
      "3                     Mulan  2020    Niki Caro     Jason Reed\n"
     ]
    }
   ],
   "source": [
    "# Specify director and producer to use as metadata for each record\n",
    "normalize_movies = json_normalize(movies, \n",
    "                                  record_path='features', \n",
    "                                  meta=['director', 'producer'])\n",
    "\n",
    "# Print normalize_movies\n",
    "print(normalize_movies)"
   ]
  },
  {
   "cell_type": "code",
   "execution_count": 21,
   "metadata": {},
   "outputs": [
    {
     "name": "stdout",
     "output_type": "stream",
     "text": [
      "              names                                         bird_facts\n",
      "0          Killdeer  {\"Size\":\"Large\", \"Color\": \"Golden brown\", \"Beh...\n",
      "1  Chipping Sparrow  {\"Size\":\"Small\", \"Color\": \"Gray-white\", \"Behav...\n",
      "2     Cedar Waxwing  {\"Size\":\"Small\", \"Color\": \"Gray-brown\", \"Behav...\n"
     ]
    }
   ],
   "source": [
    "# edited/added\n",
    "import json\n",
    "names = ['Killdeer', 'Chipping Sparrow', 'Cedar Waxwing']\n",
    "bird_facts = [\n",
    "  '{\"Size\":\"Large\", \"Color\": \"Golden brown\", \"Behavior\": \"Runs swiftly along ground\", \"Habitat\": \"Rocky areas\"}',\n",
    "  '{\"Size\":\"Small\", \"Color\": \"Gray-white\", \"Behavior\": \"Often in flocks\", \"Habitat\": \"Open woodlands\"}',\n",
    "  '{\"Size\":\"Small\", \"Color\": \"Gray-brown\", \"Behavior\": \"Catch insects over open water\", \"Habitat\": \"Parks\"}'\n",
    "]\n",
    " \n",
    "# Define birds reading names and bird_facts lists into names and bird_facts columns \n",
    "birds = pd.DataFrame(dict(names=names, bird_facts=bird_facts))\n",
    "\n",
    "# Print birds\n",
    "print(birds)\n"
   ]
  },
  {
   "cell_type": "code",
   "execution_count": 22,
   "metadata": {},
   "outputs": [
    {
     "name": "stdout",
     "output_type": "stream",
     "text": [
      "    Size         Color                       Behavior         Habitat\n",
      "0  Large  Golden brown      Runs swiftly along ground     Rocky areas\n",
      "1  Small    Gray-white                Often in flocks  Open woodlands\n",
      "2  Small    Gray-brown  Catch insects over open water           Parks\n"
     ]
    }
   ],
   "source": [
    "\n",
    "# Define birds reading names and bird_facts lists into names and bird_facts columns \n",
    "birds = pd.DataFrame(dict(names=names, bird_facts=bird_facts))\n",
    "\n",
    "# Apply the function json.loads function to the bird_facts column\n",
    "data_split = birds['bird_facts'].apply(json.loads).apply(pd.Series)\n",
    "\n",
    "# Print birds\n",
    "print(data_split)\n"
   ]
  },
  {
   "cell_type": "code",
   "execution_count": 23,
   "metadata": {},
   "outputs": [
    {
     "name": "stdout",
     "output_type": "stream",
     "text": [
      "    Size         Color                       Behavior         Habitat\n",
      "0  Large  Golden brown      Runs swiftly along ground     Rocky areas\n",
      "1  Small    Gray-white                Often in flocks  Open woodlands\n",
      "2  Small    Gray-brown  Catch insects over open water           Parks\n"
     ]
    }
   ],
   "source": [
    "\n",
    "# Define birds reading names and bird_facts lists into names and bird_facts columns \n",
    "birds = pd.DataFrame(dict(names=names, bird_facts=bird_facts))\n",
    "\n",
    "# Apply the function json.loads function to the bird_facts column\n",
    "data_split = birds['bird_facts'].apply(json.loads).apply(pd.Series)\n",
    "\n",
    "# Print birds\n",
    "print(data_split)\n"
   ]
  },
  {
   "cell_type": "code",
   "execution_count": 24,
   "metadata": {},
   "outputs": [
    {
     "name": "stdout",
     "output_type": "stream",
     "text": [
      "              names\n",
      "0          Killdeer\n",
      "1  Chipping Sparrow\n",
      "2     Cedar Waxwing\n"
     ]
    }
   ],
   "source": [
    "\n",
    "# Define birds reading names and bird_facts lists into names and bird_facts columns\n",
    "birds = pd.DataFrame(dict(names=names, bird_facts=bird_facts))\n",
    "\n",
    "# Apply to bird_facts column the function loads from json module\n",
    "data_split = birds['bird_facts'].apply(json.loads).apply(pd.Series)\n",
    "\n",
    "# Remove the bird_facts column from birds\n",
    "birds = birds.drop(columns='bird_facts')\n",
    "\n",
    "# Print birds\n",
    "print(birds)\n"
   ]
  },
  {
   "cell_type": "code",
   "execution_count": 25,
   "metadata": {},
   "outputs": [
    {
     "data": {
      "text/html": [
       "<div>\n",
       "<style scoped>\n",
       "    .dataframe tbody tr th:only-of-type {\n",
       "        vertical-align: middle;\n",
       "    }\n",
       "\n",
       "    .dataframe tbody tr th {\n",
       "        vertical-align: top;\n",
       "    }\n",
       "\n",
       "    .dataframe thead th {\n",
       "        text-align: right;\n",
       "    }\n",
       "</style>\n",
       "<table border=\"1\" class=\"dataframe\">\n",
       "  <thead>\n",
       "    <tr style=\"text-align: right;\">\n",
       "      <th></th>\n",
       "      <th>names</th>\n",
       "      <th>Size</th>\n",
       "      <th>Color</th>\n",
       "      <th>Behavior</th>\n",
       "      <th>Habitat</th>\n",
       "    </tr>\n",
       "  </thead>\n",
       "  <tbody>\n",
       "    <tr>\n",
       "      <th>0</th>\n",
       "      <td>Killdeer</td>\n",
       "      <td>Large</td>\n",
       "      <td>Golden brown</td>\n",
       "      <td>Runs swiftly along ground</td>\n",
       "      <td>Rocky areas</td>\n",
       "    </tr>\n",
       "    <tr>\n",
       "      <th>1</th>\n",
       "      <td>Chipping Sparrow</td>\n",
       "      <td>Small</td>\n",
       "      <td>Gray-white</td>\n",
       "      <td>Often in flocks</td>\n",
       "      <td>Open woodlands</td>\n",
       "    </tr>\n",
       "    <tr>\n",
       "      <th>2</th>\n",
       "      <td>Cedar Waxwing</td>\n",
       "      <td>Small</td>\n",
       "      <td>Gray-brown</td>\n",
       "      <td>Catch insects over open water</td>\n",
       "      <td>Parks</td>\n",
       "    </tr>\n",
       "  </tbody>\n",
       "</table>\n",
       "</div>"
      ],
      "text/plain": [
       "              names   Size         Color                       Behavior  \\\n",
       "0          Killdeer  Large  Golden brown      Runs swiftly along ground   \n",
       "1  Chipping Sparrow  Small    Gray-white                Often in flocks   \n",
       "2     Cedar Waxwing  Small    Gray-brown  Catch insects over open water   \n",
       "\n",
       "          Habitat  \n",
       "0     Rocky areas  \n",
       "1  Open woodlands  \n",
       "2           Parks  "
      ]
     },
     "execution_count": 25,
     "metadata": {},
     "output_type": "execute_result"
    }
   ],
   "source": [
    "\n",
    "# Define birds reading names and bird_facts lists into names and bird_facts columns\n",
    "birds = pd.DataFrame(dict(names=names, bird_facts=bird_facts))\n",
    "\n",
    "# Apply to bird_facts column the function loads from json module\n",
    "data_split = birds['bird_facts'].apply(json.loads).apply(pd.Series)\n",
    "\n",
    "# Remove the bird_facts column from birds\n",
    "birds = birds.drop(columns='bird_facts')\n",
    "\n",
    "# Concatenate the columns of birds and data_split\n",
    "birds = pd.concat([birds,  data_split], axis=1)\n",
    "\n",
    "# Print birds\n",
    "(birds)"
   ]
  },
  {
   "cell_type": "code",
   "execution_count": 26,
   "metadata": {},
   "outputs": [
    {
     "name": "stdout",
     "output_type": "stream",
     "text": [
      "[{'Size': 'Large', 'Color': 'Golden brown', 'Behavior': 'Runs swiftly along ground', 'Habitat': 'Rocky areas'}, {'Size': 'Small', 'Color': 'Gray-white', 'Behavior': 'Often in flocks', 'Habitat': 'Open woodlands'}, {'Size': 'Small', 'Color': 'Gray-brown', 'Behavior': 'Catch insects over open water', 'Habitat': 'Parks'}]\n"
     ]
    }
   ],
   "source": [
    "# edited/added\n",
    "birds = pd.read_csv('birds.csv')\n",
    "\n",
    "# Apply json.loads to the bird_facts column and transform it to a list\n",
    "birds_facts = birds['bird_facts'].apply(json.loads).to_list()\n",
    "\n",
    "# Print birds_facts\n",
    "print(birds_facts)\n"
   ]
  },
  {
   "cell_type": "code",
   "execution_count": 27,
   "metadata": {},
   "outputs": [
    {
     "name": "stdout",
     "output_type": "stream",
     "text": [
      "[{\"Size\": \"Large\", \"Color\": \"Golden brown\", \"Behavior\": \"Runs swiftly along ground\", \"Habitat\": \"Rocky areas\"}, {\"Size\": \"Small\", \"Color\": \"Gray-white\", \"Behavior\": \"Often in flocks\", \"Habitat\": \"Open woodlands\"}, {\"Size\": \"Small\", \"Color\": \"Gray-brown\", \"Behavior\": \"Catch insects over open water\", \"Habitat\": \"Parks\"}]\n"
     ]
    }
   ],
   "source": [
    "\n",
    "# Apply json.loads to the bird_facts column and transform it to a list \n",
    "birds_facts = birds['bird_facts'].apply(json.loads).to_list()\n",
    "\n",
    "# Convert birds_facts into a JSON \n",
    "birds_dump = json.dumps(birds_facts)\n",
    "\n",
    "# Print birds_dump\n",
    "print(birds_dump)\n"
   ]
  },
  {
   "cell_type": "code",
   "execution_count": 28,
   "metadata": {},
   "outputs": [
    {
     "name": "stdout",
     "output_type": "stream",
     "text": [
      "    Size         Color                       Behavior         Habitat\n",
      "0  Large  Golden brown      Runs swiftly along ground     Rocky areas\n",
      "1  Small    Gray-white                Often in flocks  Open woodlands\n",
      "2  Small    Gray-brown  Catch insects over open water           Parks\n"
     ]
    },
    {
     "name": "stderr",
     "output_type": "stream",
     "text": [
      "C:\\Users\\jdamodhar\\AppData\\Local\\Temp\\ipykernel_50416\\3628269510.py:8: FutureWarning: Passing literal json to 'read_json' is deprecated and will be removed in a future version. To read from a literal string, wrap it in a 'StringIO' object.\n",
      "  birds_df = pd.read_json(birds_dump)\n"
     ]
    }
   ],
   "source": [
    "\n",
    "# Apply json.loads to the bird_facts column and transform it to a list \n",
    "birds_facts = birds['bird_facts'].apply(json.loads).to_list()\n",
    "\n",
    "# Convert birds_facts into a JSON \n",
    "birds_dump = json.dumps(birds_facts)\n",
    "\n",
    "# Read the JSON birds_dump into a DataFrame \n",
    "birds_df = pd.read_json(birds_dump)\n",
    "\n",
    "# Print birds_df\n",
    "print(birds_df)\n"
   ]
  },
  {
   "cell_type": "code",
   "execution_count": 29,
   "metadata": {},
   "outputs": [
    {
     "name": "stderr",
     "output_type": "stream",
     "text": [
      "C:\\Users\\jdamodhar\\AppData\\Local\\Temp\\ipykernel_50416\\2558883946.py:8: FutureWarning: Passing literal json to 'read_json' is deprecated and will be removed in a future version. To read from a literal string, wrap it in a 'StringIO' object.\n",
      "  birds_df = pd.read_json(birds_dump)\n"
     ]
    },
    {
     "data": {
      "text/html": [
       "<div>\n",
       "<style scoped>\n",
       "    .dataframe tbody tr th:only-of-type {\n",
       "        vertical-align: middle;\n",
       "    }\n",
       "\n",
       "    .dataframe tbody tr th {\n",
       "        vertical-align: top;\n",
       "    }\n",
       "\n",
       "    .dataframe thead th {\n",
       "        text-align: right;\n",
       "    }\n",
       "</style>\n",
       "<table border=\"1\" class=\"dataframe\">\n",
       "  <thead>\n",
       "    <tr style=\"text-align: right;\">\n",
       "      <th></th>\n",
       "      <th>names</th>\n",
       "      <th>Size</th>\n",
       "      <th>Color</th>\n",
       "      <th>Behavior</th>\n",
       "      <th>Habitat</th>\n",
       "    </tr>\n",
       "  </thead>\n",
       "  <tbody>\n",
       "    <tr>\n",
       "      <th>0</th>\n",
       "      <td>Killdeer</td>\n",
       "      <td>Large</td>\n",
       "      <td>Golden brown</td>\n",
       "      <td>Runs swiftly along ground</td>\n",
       "      <td>Rocky areas</td>\n",
       "    </tr>\n",
       "    <tr>\n",
       "      <th>1</th>\n",
       "      <td>Chipping Sparrow</td>\n",
       "      <td>Small</td>\n",
       "      <td>Gray-white</td>\n",
       "      <td>Often in flocks</td>\n",
       "      <td>Open woodlands</td>\n",
       "    </tr>\n",
       "    <tr>\n",
       "      <th>2</th>\n",
       "      <td>Cedar Waxwing</td>\n",
       "      <td>Small</td>\n",
       "      <td>Gray-brown</td>\n",
       "      <td>Catch insects over open water</td>\n",
       "      <td>Parks</td>\n",
       "    </tr>\n",
       "  </tbody>\n",
       "</table>\n",
       "</div>"
      ],
      "text/plain": [
       "              names   Size         Color                       Behavior  \\\n",
       "0          Killdeer  Large  Golden brown      Runs swiftly along ground   \n",
       "1  Chipping Sparrow  Small    Gray-white                Often in flocks   \n",
       "2     Cedar Waxwing  Small    Gray-brown  Catch insects over open water   \n",
       "\n",
       "          Habitat  \n",
       "0     Rocky areas  \n",
       "1  Open woodlands  \n",
       "2           Parks  "
      ]
     },
     "execution_count": 29,
     "metadata": {},
     "output_type": "execute_result"
    }
   ],
   "source": [
    "\n",
    "# Apply json.loads to the bird_facts column and transform it to a list\n",
    "birds_facts = birds['bird_facts'].apply(json.loads).to_list()\n",
    "\n",
    "# Convert birds_fact into a JSON \n",
    "birds_dump = json.dumps(birds_facts)\n",
    "\n",
    "# Read the JSON birds_dump into a DataFrame \n",
    "birds_df = pd.read_json(birds_dump)\n",
    "\n",
    "# Concatenate the 'names' column of birds with birds_df \n",
    "birds_final = pd.concat([birds['names'], birds_df], axis=1)\n",
    "\n",
    "# Print birds_final\n",
    "(birds_final)\n"
   ]
  }
 ],
 "metadata": {
  "kernelspec": {
   "display_name": "Python 3",
   "language": "python",
   "name": "python3"
  },
  "language_info": {
   "codemirror_mode": {
    "name": "ipython",
    "version": 3
   },
   "file_extension": ".py",
   "mimetype": "text/x-python",
   "name": "python",
   "nbconvert_exporter": "python",
   "pygments_lexer": "ipython3",
   "version": "3.11.6"
  },
  "orig_nbformat": 4
 },
 "nbformat": 4,
 "nbformat_minor": 2
}
