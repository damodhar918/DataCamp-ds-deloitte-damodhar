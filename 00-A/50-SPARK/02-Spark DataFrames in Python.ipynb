{
 "cells": [
  {
   "cell_type": "markdown",
   "metadata": {},
   "source": [
    "https://www.datacamp.com/cheat-sheet/pyspark-cheat-sheet-spark-dataframes-in-python"
   ]
  },
  {
   "cell_type": "code",
   "execution_count": 1,
   "metadata": {},
   "outputs": [],
   "source": [
    "# Spark SGlL is Apache Spark's module for working with structured data.\n",
    "\n",
    "# Initializing SparkSession \n",
    "# A SparkSession can be used create DataFrame, register DataFrame as tables, \n",
    "# execute SGL over tables, cache tables, and read parquet files."
   ]
  },
  {
   "cell_type": "code",
   "execution_count": 2,
   "metadata": {},
   "outputs": [],
   "source": [
    "from pyspark.sql import SparkSession\n",
    "\n",
    "# spark = SparkSession.builder.appName(\"Python Spark SQL basic example\") \\\n",
    "#             .config(\"spark.some.config.option\", \"some-value\").getOrCreate()"
   ]
  },
  {
   "cell_type": "code",
   "execution_count": 2,
   "metadata": {},
   "outputs": [],
   "source": [
    "# Creating DataFrames\n",
    "# Fromm RDDs\n",
    "\n",
    "from pyspark.sql.types import *\n",
    "from pyspark.sql import SparkSession\n",
    "spark = SparkSession.builder.appName('people').getOrCreate()\n",
    "\n",
    "# Read text file and split lines\n",
    "lines = spark.sparkContext.textFile('people.txt')\n",
    "parts = lines.map(lambda l: l.split(','))\n",
    "\n",
    "# Create Rows from each line\n",
    "people = parts.map(lambda p: Row(name=p[0], age=int(p[1])))\n",
    "\n",
    "# Create DataFrame from Rows\n",
    "peopledf = spark.createDataFrame(people)"
   ]
  },
  {
   "cell_type": "code",
   "execution_count": 3,
   "metadata": {},
   "outputs": [
    {
     "ename": "AnalysisException",
     "evalue": "[TABLE_OR_VIEW_NOT_FOUND] The table or view `customer_partitioned_table` cannot be found. Verify the spelling and correctness of the schema and catalog.\nIf you did not qualify the name with a schema, verify the current_schema() output, or qualify the name with the correct schema and catalog.\nTo tolerate the error on drop use DROP VIEW IF EXISTS or DROP TABLE IF EXISTS.; line 1 pos 14;\n'Project [*]\n+- 'UnresolvedRelation [customer_partitioned_table], [], false\n",
     "output_type": "error",
     "traceback": [
      "\u001b[1;31m---------------------------------------------------------------------------\u001b[0m",
      "\u001b[1;31mAnalysisException\u001b[0m                         Traceback (most recent call last)",
      "\u001b[1;32mc:\\Users\\jdamodhar\\Desktop\\python_essential\\DataCamp-ds-deloitte-master\\00-A\\50-SPARK\\02-Spark DataFrames in Python.ipynb Cell 5\u001b[0m line \u001b[0;36m1\n\u001b[1;32m----> <a href='vscode-notebook-cell:/c%3A/Users/jdamodhar/Desktop/python_essential/DataCamp-ds-deloitte-master/00-A/50-SPARK/02-Spark%20DataFrames%20in%20Python.ipynb#X41sZmlsZQ%3D%3D?line=0'>1</a>\u001b[0m spark\u001b[39m.\u001b[39;49msql(\u001b[39m\"\u001b[39;49m\u001b[39mSELECT * FROM customer_partitioned_table\u001b[39;49m\u001b[39m\"\u001b[39;49m)\u001b[39m.\u001b[39mshow(\u001b[39m2\u001b[39m)\n",
      "File \u001b[1;32mc:\\Users\\jdamodhar\\AppData\\Local\\Programs\\Python\\Python311\\Lib\\site-packages\\pyspark\\sql\\session.py:1631\u001b[0m, in \u001b[0;36mSparkSession.sql\u001b[1;34m(self, sqlQuery, args, **kwargs)\u001b[0m\n\u001b[0;32m   1627\u001b[0m         \u001b[39massert\u001b[39;00m \u001b[39mself\u001b[39m\u001b[39m.\u001b[39m_jvm \u001b[39mis\u001b[39;00m \u001b[39mnot\u001b[39;00m \u001b[39mNone\u001b[39;00m\n\u001b[0;32m   1628\u001b[0m         litArgs \u001b[39m=\u001b[39m \u001b[39mself\u001b[39m\u001b[39m.\u001b[39m_jvm\u001b[39m.\u001b[39mPythonUtils\u001b[39m.\u001b[39mtoArray(\n\u001b[0;32m   1629\u001b[0m             [_to_java_column(lit(v)) \u001b[39mfor\u001b[39;00m v \u001b[39min\u001b[39;00m (args \u001b[39mor\u001b[39;00m [])]\n\u001b[0;32m   1630\u001b[0m         )\n\u001b[1;32m-> 1631\u001b[0m     \u001b[39mreturn\u001b[39;00m DataFrame(\u001b[39mself\u001b[39;49m\u001b[39m.\u001b[39;49m_jsparkSession\u001b[39m.\u001b[39;49msql(sqlQuery, litArgs), \u001b[39mself\u001b[39m)\n\u001b[0;32m   1632\u001b[0m \u001b[39mfinally\u001b[39;00m:\n\u001b[0;32m   1633\u001b[0m     \u001b[39mif\u001b[39;00m \u001b[39mlen\u001b[39m(kwargs) \u001b[39m>\u001b[39m \u001b[39m0\u001b[39m:\n",
      "File \u001b[1;32mc:\\Users\\jdamodhar\\AppData\\Local\\Programs\\Python\\Python311\\Lib\\site-packages\\py4j\\java_gateway.py:1322\u001b[0m, in \u001b[0;36mJavaMember.__call__\u001b[1;34m(self, *args)\u001b[0m\n\u001b[0;32m   1316\u001b[0m command \u001b[39m=\u001b[39m proto\u001b[39m.\u001b[39mCALL_COMMAND_NAME \u001b[39m+\u001b[39m\\\n\u001b[0;32m   1317\u001b[0m     \u001b[39mself\u001b[39m\u001b[39m.\u001b[39mcommand_header \u001b[39m+\u001b[39m\\\n\u001b[0;32m   1318\u001b[0m     args_command \u001b[39m+\u001b[39m\\\n\u001b[0;32m   1319\u001b[0m     proto\u001b[39m.\u001b[39mEND_COMMAND_PART\n\u001b[0;32m   1321\u001b[0m answer \u001b[39m=\u001b[39m \u001b[39mself\u001b[39m\u001b[39m.\u001b[39mgateway_client\u001b[39m.\u001b[39msend_command(command)\n\u001b[1;32m-> 1322\u001b[0m return_value \u001b[39m=\u001b[39m get_return_value(\n\u001b[0;32m   1323\u001b[0m     answer, \u001b[39mself\u001b[39;49m\u001b[39m.\u001b[39;49mgateway_client, \u001b[39mself\u001b[39;49m\u001b[39m.\u001b[39;49mtarget_id, \u001b[39mself\u001b[39;49m\u001b[39m.\u001b[39;49mname)\n\u001b[0;32m   1325\u001b[0m \u001b[39mfor\u001b[39;00m temp_arg \u001b[39min\u001b[39;00m temp_args:\n\u001b[0;32m   1326\u001b[0m     \u001b[39mif\u001b[39;00m \u001b[39mhasattr\u001b[39m(temp_arg, \u001b[39m\"\u001b[39m\u001b[39m_detach\u001b[39m\u001b[39m\"\u001b[39m):\n",
      "File \u001b[1;32mc:\\Users\\jdamodhar\\AppData\\Local\\Programs\\Python\\Python311\\Lib\\site-packages\\pyspark\\errors\\exceptions\\captured.py:185\u001b[0m, in \u001b[0;36mcapture_sql_exception.<locals>.deco\u001b[1;34m(*a, **kw)\u001b[0m\n\u001b[0;32m    181\u001b[0m converted \u001b[39m=\u001b[39m convert_exception(e\u001b[39m.\u001b[39mjava_exception)\n\u001b[0;32m    182\u001b[0m \u001b[39mif\u001b[39;00m \u001b[39mnot\u001b[39;00m \u001b[39misinstance\u001b[39m(converted, UnknownException):\n\u001b[0;32m    183\u001b[0m     \u001b[39m# Hide where the exception came from that shows a non-Pythonic\u001b[39;00m\n\u001b[0;32m    184\u001b[0m     \u001b[39m# JVM exception message.\u001b[39;00m\n\u001b[1;32m--> 185\u001b[0m     \u001b[39mraise\u001b[39;00m converted \u001b[39mfrom\u001b[39;00m \u001b[39mNone\u001b[39;00m\n\u001b[0;32m    186\u001b[0m \u001b[39melse\u001b[39;00m:\n\u001b[0;32m    187\u001b[0m     \u001b[39mraise\u001b[39;00m\n",
      "\u001b[1;31mAnalysisException\u001b[0m: [TABLE_OR_VIEW_NOT_FOUND] The table or view `customer_partitioned_table` cannot be found. Verify the spelling and correctness of the schema and catalog.\nIf you did not qualify the name with a schema, verify the current_schema() output, or qualify the name with the correct schema and catalog.\nTo tolerate the error on drop use DROP VIEW IF EXISTS or DROP TABLE IF EXISTS.; line 1 pos 14;\n'Project [*]\n+- 'UnresolvedRelation [customer_partitioned_table], [], false\n"
     ]
    }
   ],
   "source": [
    "spark.sql(\"SELECT * FROM customer_partitioned_table\").show(2)"
   ]
  },
  {
   "cell_type": "code",
   "execution_count": 7,
   "metadata": {},
   "outputs": [
    {
     "name": "stdout",
     "output_type": "stream",
     "text": [
      "+----+---+\n",
      "|name|age|\n",
      "+----+---+\n",
      "|mlsb|38 |\n",
      "|zlz |42 |\n",
      "|zuni|44 |\n",
      "|fky |33 |\n",
      "|arwh|49 |\n",
      "+----+---+\n",
      "only showing top 5 rows\n",
      "\n"
     ]
    }
   ],
   "source": [
    "# Specify Schema\n",
    "\n",
    "# Define the schema string and split it into separate field names\n",
    "schemaString = \"name age\"\n",
    "fields = [StructField(field_name, StringType(), True) for field_name in schemaString.split()]\n",
    "\n",
    "# Define the schema using the StructType and the list of StructFields\n",
    "schema = StructType(fields)\n",
    "\n",
    "# Map the parts to Row objects with the specified field names and types\n",
    "people = parts.map(lambda p: Row(name=p[0],age=int(p[1].strip())))\n",
    "\n",
    "# Create a DataFrame using the schema and the mapped data\n",
    "spark.createDataFrame(people, schema).show(5,False)"
   ]
  },
  {
   "cell_type": "code",
   "execution_count": 127,
   "metadata": {},
   "outputs": [],
   "source": [
    "# From Spark Data Sources\n",
    "# JSON\n",
    "\n",
    "# df = spark.read.json(\"customer.json\")\n",
    "df = spark.read.csv(\"customer.csv\",header=True)\n",
    "# df.show(4,False)\n",
    "# df2 = spark.read.load(\"people.json\", format=\"json\")\n",
    "# df3 = spark.read.load(\"users.parquet\")\n",
    "df4 = spark.read.text(\"people.txt\")\n"
   ]
  },
  {
   "cell_type": "code",
   "execution_count": 128,
   "metadata": {},
   "outputs": [
    {
     "name": "stdout",
     "output_type": "stream",
     "text": [
      "+---------+--------+---+---------------+----------------------------+\n",
      "|firstName|lastName|age|address        |phoneNumber                 |\n",
      "+---------+--------+---+---------------+----------------------------+\n",
      "|kglqe    |mmkuld  |38 |[QRG ,42984]   |[887 446-4575, 547 846-9558]|\n",
      "|wqh      |tlv     |39 |[IMP ,64889]   |[949 994-4587, 787 788-5595]|\n",
      "|ioy      |tdzz    |52 |[JMEOWS ,58728]|[444 465-9787, 794 775-7689]|\n",
      "|vousa    |jepea   |26 |[OVCDA ,34448] |[947 899-4447, 796 847-9778]|\n",
      "|ncx      |uzzki   |29 |[EEXPQ ,74927] |[766 864-9548, 484 766-4897]|\n",
      "+---------+--------+---+---------------+----------------------------+\n",
      "only showing top 5 rows\n",
      "\n"
     ]
    },
    {
     "data": {
      "text/plain": [
       "10000"
      ]
     },
     "execution_count": 128,
     "metadata": {},
     "output_type": "execute_result"
    }
   ],
   "source": [
    "# filter\n",
    "#Filter entries of age, only keep those records of which the values are >24>>> \n",
    "df.filter(df[\"age\"]>24).show(5,False)\n",
    "df.count()"
   ]
  },
  {
   "cell_type": "code",
   "execution_count": 129,
   "metadata": {},
   "outputs": [
    {
     "data": {
      "text/plain": [
       "10000"
      ]
     },
     "execution_count": 129,
     "metadata": {},
     "output_type": "execute_result"
    }
   ],
   "source": [
    "# Duplicate Values \n",
    "\n",
    "df = df.dropDuplicates()\n",
    "df.count()"
   ]
  },
  {
   "cell_type": "code",
   "execution_count": 130,
   "metadata": {},
   "outputs": [],
   "source": [
    "# Queries \n",
    "\n",
    "from pyspark.sql import functions as F"
   ]
  },
  {
   "cell_type": "code",
   "execution_count": 131,
   "metadata": {},
   "outputs": [
    {
     "name": "stdout",
     "output_type": "stream",
     "text": [
      "+---------+\n",
      "|firstName|\n",
      "+---------+\n",
      "|     vijh|\n",
      "+---------+\n",
      "only showing top 1 row\n",
      "\n",
      "+---------+--------+\n",
      "|firstName|lastName|\n",
      "+---------+--------+\n",
      "|     vijh|     mfp|\n",
      "+---------+--------+\n",
      "only showing top 1 row\n",
      "\n",
      "+-------------+---------+---+\n",
      "|  contactInfo|firstName|age|\n",
      "+-------------+---------+---+\n",
      "|[748 668-4596|     vijh| 24|\n",
      "+-------------+---------+---+\n",
      "only showing top 1 row\n",
      "\n",
      "+---------+----+\n",
      "|firstName| age|\n",
      "+---------+----+\n",
      "|     vijh|25.0|\n",
      "+---------+----+\n",
      "only showing top 1 row\n",
      "\n",
      "+----------+\n",
      "|(age > 24)|\n",
      "+----------+\n",
      "|false     |\n",
      "+----------+\n",
      "only showing top 1 row\n",
      "\n"
     ]
    }
   ],
   "source": [
    "# select\n",
    "# Show all entries in firstName column\n",
    "df.select(\"firstName\").show(1)\n",
    "\n",
    "# Show all entries in firstName and lastName columns\n",
    "df.select(\"firstName\", \"lastName\").show(1)\n",
    "\n",
    "# Show all entries in firstName, age and type\n",
    "# df.select(\"firstName\",\n",
    "#           \"age\",\n",
    "#           F.explode(\"phoneNumber\").alias(\"contactInfo\")).select(\"contactInfo.type\",\n",
    "#                                                               \"firstName\",\n",
    "#                                                               \"age\").show()\n",
    "df.select(\"firstName\",\n",
    "          \"age\",\n",
    "          F.explode(F.split(\"phoneNumber\", \",\")).alias(\"contactInfo\")\n",
    "         ).select(\"contactInfo\",\n",
    "                   \"firstName\",\n",
    "                   \"age\").show(1)\n",
    "# Show all entries in firstName and age, add 1 to entries of age\n",
    "df.select(df[\"firstName\"], (df[\"age\"]+1).alias(\"age\")).show(1)\n",
    "\n",
    "# Show all entries where age > 24\n",
    "df.select(df['age'] > 24).show(1,False)"
   ]
  },
  {
   "cell_type": "code",
   "execution_count": 132,
   "metadata": {},
   "outputs": [
    {
     "name": "stdout",
     "output_type": "stream",
     "text": [
      "+---------+--------------------------------------+\n",
      "|firstName|CASE WHEN (age > 30) THEN 1 ELSE 0 END|\n",
      "+---------+--------------------------------------+\n",
      "|     vijh|                                     0|\n",
      "|      rgy|                                     1|\n",
      "|      kde|                                     0|\n",
      "|     uzui|                                     0|\n",
      "|      qow|                                     1|\n",
      "+---------+--------------------------------------+\n",
      "only showing top 5 rows\n",
      "\n"
     ]
    },
    {
     "data": {
      "text/plain": [
       "[Row(firstName='rgy', lastName='jtyxsl', age='50', address='[YGIB ,54852]', phoneNumber='[789 988-4454, 666 558-5677]')]"
      ]
     },
     "execution_count": 132,
     "metadata": {},
     "output_type": "execute_result"
    }
   ],
   "source": [
    "# when\n",
    "# Select firstName and 0 or 1 depending on age > 30\n",
    "df.select(\"firstName\", F.when(df.age > 30, 1).otherwise(0)).show(5)\n",
    "\n",
    "# Show firstName if in the given options\n",
    "df[df.firstName.isin(\"rgy\", \"Boris\")].collect()"
   ]
  },
  {
   "cell_type": "code",
   "execution_count": 133,
   "metadata": {},
   "outputs": [
    {
     "name": "stdout",
     "output_type": "stream",
     "text": [
      "+---------+--------+\n",
      "|firstName|lastName|\n",
      "+---------+--------+\n",
      "|     vijh|    true|\n",
      "|      rgy|   false|\n",
      "|      kde|   false|\n",
      "+---------+--------+\n",
      "only showing top 3 rows\n",
      "\n",
      "+---------+-------------------+\n",
      "|firstName|lastName LIKE Smith|\n",
      "+---------+-------------------+\n",
      "|     vijh|              false|\n",
      "|      rgy|              false|\n",
      "|      kde|              false|\n",
      "+---------+-------------------+\n",
      "only showing top 3 rows\n",
      "\n"
     ]
    }
   ],
   "source": [
    "# like\n",
    "\n",
    "df.withColumn(\"lastName\", df.lastName.like(\"mfp\")).select(\"firstName\", \"lastName\").show(3)\n",
    "df.select(\"firstName\", #Show firstName, and lastName is TRUE if lastName is like Smith              \n",
    "              df.lastName.like(\"Smith\")) \\\n",
    "                  .show(3)\n"
   ]
  },
  {
   "cell_type": "code",
   "execution_count": 134,
   "metadata": {},
   "outputs": [
    {
     "name": "stdout",
     "output_type": "stream",
     "text": [
      "+---------+--------------------+\n",
      "|firstName|lastNameStartsWithSm|\n",
      "+---------+--------------------+\n",
      "|     vijh|               false|\n",
      "|      rgy|               false|\n",
      "|      kde|               false|\n",
      "|     uzui|               false|\n",
      "+---------+--------------------+\n",
      "only showing top 4 rows\n",
      "\n",
      "+------------------+\n",
      "|lastNameEndsWithTh|\n",
      "+------------------+\n",
      "|              true|\n",
      "|             false|\n",
      "|             false|\n",
      "|             false|\n",
      "+------------------+\n",
      "only showing top 4 rows\n",
      "\n"
     ]
    }
   ],
   "source": [
    "# Startswith - Endswith \n",
    "# Select firstName and a boolean value indicating whether lastName starts with 'Sm'\n",
    "df.select(\"firstName\", F.col(\"lastName\").startswith(\"vi\").alias(\"lastNameStartsWithSm\")).show(4)\n",
    "\n",
    "# Select last names ending in 'th'\n",
    "df.select(F.col(\"lastName\").endswith(\"fp\").alias(\"lastNameEndsWithTh\")).show(4)"
   ]
  },
  {
   "cell_type": "code",
   "execution_count": 135,
   "metadata": {},
   "outputs": [
    {
     "data": {
      "text/plain": [
       "[Row(name='vij'), Row(name='rgy')]"
      ]
     },
     "execution_count": 135,
     "metadata": {},
     "output_type": "execute_result"
    }
   ],
   "source": [
    "# substring\n",
    "# Select the substring of firstName column and alias it as \"name\"\n",
    "df.select(F.substring(df.firstName, 1, 3).alias(\"name\")).collect()[:2]"
   ]
  },
  {
   "cell_type": "code",
   "execution_count": 136,
   "metadata": {},
   "outputs": [
    {
     "name": "stdout",
     "output_type": "stream",
     "text": [
      "+-----------------------------+\n",
      "|((age >= 22) AND (age <= 24))|\n",
      "+-----------------------------+\n",
      "|                         true|\n",
      "|                        false|\n",
      "+-----------------------------+\n",
      "only showing top 2 rows\n",
      "\n",
      "+---------+--------+---+--------------+--------------------+\n",
      "|firstName|lastName|age|       address|         phoneNumber|\n",
      "+---------+--------+---+--------------+--------------------+\n",
      "|     vijh|     mfp| 24|[IPWIA ,78644]|[748 668-4596, 46...|\n",
      "|    vnjak|     exi| 24| [XBRJ ,62764]|[746 877-9994, 85...|\n",
      "+---------+--------+---+--------------+--------------------+\n",
      "only showing top 2 rows\n",
      "\n",
      "+---------+--------+---+--------------+--------------------+\n",
      "|firstName|lastName|age|       address|         phoneNumber|\n",
      "+---------+--------+---+--------------+--------------------+\n",
      "|     vijh|     mfp| 24|[IPWIA ,78644]|[748 668-4596, 46...|\n",
      "|    vnjak|     exi| 24| [XBRJ ,62764]|[746 877-9994, 85...|\n",
      "+---------+--------+---+--------------+--------------------+\n",
      "only showing top 2 rows\n",
      "\n"
     ]
    }
   ],
   "source": [
    "# between\n",
    "df.select(df.age.between(22, 24)) \\\n",
    "    .show(2) # Show age: values are TRUE if between 22 and 24          \n",
    "df.filter(df.age.between(22,24)).select(\"*\").show(2) #Show the whole row for age between 22 and 24\n",
    "df.filter(df.age.between(22,24)).show(2) #Show the whole row for age between 22 and 24"
   ]
  },
  {
   "cell_type": "code",
   "execution_count": 137,
   "metadata": {},
   "outputs": [
    {
     "name": "stdout",
     "output_type": "stream",
     "text": [
      "+---------+--------+---+------------+--------------------+--------------------+---------------+-------------+------+----------+-----+-------------+\n",
      "|firstName|lastName|age|     address|         phoneNumber|        phoneNumber1|telePhoneNumber|telePhoneType|  city|postalCode|state|streetAddress|\n",
      "+---------+--------+---+------------+--------------------+--------------------+---------------+-------------+------+----------+-----+-------------+\n",
      "|     vijh|     mfp| 24|IPWIA ,78644|[748 668-4596, 46...|748 668-4596, 469...|   748 668-4596| 469 549-4496|IPWIA |     78644|   IP|        78644|\n",
      "|      rgy|  jtyxsl| 50| YGIB ,54852|[789 988-4454, 66...|789 988-4454, 666...|   789 988-4454| 666 558-5677| YGIB |     54852|   YG|        54852|\n",
      "|      kde|     hjc| 17| XMJH ,75137|[459 996-5597, 85...|459 996-5597, 857...|   459 996-5597| 857 767-8954| XMJH |     75137|   XM|        75137|\n",
      "|     uzui|    qyjq| 25|KHHHM ,97616|[894 457-8954, 64...|894 457-8954, 644...|   894 457-8954| 644 596-5869|KHHHM |     97616|   KH|        97616|\n",
      "|      qow|   plpna| 40|  AMI ,38797|[644 488-5446, 88...|644 488-5446, 885...|   644 488-5446| 885 745-7768|  AMI |     38797|   AM|        38797|\n",
      "+---------+--------+---+------------+--------------------+--------------------+---------------+-------------+------+----------+-----+-------------+\n",
      "only showing top 5 rows\n",
      "\n"
     ]
    }
   ],
   "source": [
    "# Add, Update & Remove Columns \n",
    "# Adding Columns\n",
    "\n",
    "# df = df.withColumn(\"city\", df.address.city)\\\n",
    "#        .withColumn(\"postalCode\", df.address.postalCode)\\\n",
    "#        .withColumn(\"state\", df.address.state)\\\n",
    "#        .withColumn(\"streetAddress\", df.address.streetAddress)\\\n",
    "#        .withColumn(\"telePhoneNumber\", explode(df.phoneNumber.number))\\\n",
    "#        .withColumn(\"telePhoneType\", explode(df.phoneNumber.type))\n",
    "# Exploding Arrays\n",
    "# df = df.withColumn(\"telePhoneNumber_ex\", F.explode(F.split(df.phoneNumber, ',')))\n",
    "df = df.withColumn(\"phoneNumber1\", F.regexp_replace(df.phoneNumber, r'[\\[\\]]', ''))\n",
    "df = df.withColumn(\"address\", F.regexp_replace(df.address, r'[\\[\\]]', ''))\n",
    "df = df.withColumn(\"telePhoneNumber\", (F.split(df.phoneNumber1,',')[0]))\\\n",
    "       .withColumn(\"telePhoneType\", (F.split(df.phoneNumber1,',')[1]))\\\n",
    "       .withColumn(\"city\", (F.split(df.address,',')[0]))\\\n",
    "       .withColumn(\"postalCode\", (F.split(df.address,',')[1]))\\\n",
    "       .withColumn(\"state\",  F.substring(F.split(df.address,',')[0], 0, 2))\\\n",
    "       .withColumn(\"streetAddress\", (F.split(df.address,',')[1]))\n",
    "df.show(5)"
   ]
  },
  {
   "cell_type": "code",
   "execution_count": 138,
   "metadata": {},
   "outputs": [],
   "source": [
    "# removing\n",
    "df = df.drop(\"phoneNumber1\", \"phoneNumber\")\n",
    "# df = df.drop(df.address).drop(df.phoneNumber) #not preferred"
   ]
  },
  {
   "cell_type": "code",
   "execution_count": 139,
   "metadata": {},
   "outputs": [],
   "source": [
    "# Updating Columns\n",
    "df = df.withColumnRenamed('telePhoneNumber', 'phoneNumber')"
   ]
  },
  {
   "cell_type": "code",
   "execution_count": 140,
   "metadata": {},
   "outputs": [
    {
     "name": "stdout",
     "output_type": "stream",
     "text": [
      "+---------+--------+---+------------+------------+-------------+------+----------+-----+-------------+\n",
      "|firstName|lastName|age|     address| phoneNumber|telePhoneType|  city|postalCode|state|streetAddress|\n",
      "+---------+--------+---+------------+------------+-------------+------+----------+-----+-------------+\n",
      "|     vijh|     mfp| 24|IPWIA ,78644|748 668-4596| 469 549-4496|IPWIA |     78644|   IP|        78644|\n",
      "|      rgy|  jtyxsl| 50| YGIB ,54852|789 988-4454| 666 558-5677| YGIB |     54852|   YG|        54852|\n",
      "+---------+--------+---+------------+------------+-------------+------+----------+-----+-------------+\n",
      "only showing top 2 rows\n",
      "\n",
      "+---------+--------+---+------------+------------+-------------+------+----------+-----+-------------+\n",
      "|firstName|lastName|age|     address| phoneNumber|telePhoneType|  city|postalCode|state|streetAddress|\n",
      "+---------+--------+---+------------+------------+-------------+------+----------+-----+-------------+\n",
      "|     vijh|     mfp| 24|IPWIA ,78644|748 668-4596| 469 549-4496|IPWIA |     78644|   IP|        78644|\n",
      "|      rgy|  jtyxsl| 50| YGIB ,54852|789 988-4454| 666 558-5677| YGIB |     54852|   YG|        54852|\n",
      "+---------+--------+---+------------+------------+-------------+------+----------+-----+-------------+\n",
      "only showing top 2 rows\n",
      "\n",
      "+---------+--------+---+------------+------------+-------------+------+----------+-----+-------------+\n",
      "|firstName|lastName|age|     address| phoneNumber|telePhoneType|  city|postalCode|state|streetAddress|\n",
      "+---------+--------+---+------------+------------+-------------+------+----------+-----+-------------+\n",
      "|     vijh|     mfp| 24|IPWIA ,78644|748 668-4596| 469 549-4496|IPWIA |     78644|   IP|        78644|\n",
      "|      rgy|  jtyxsl| 50| YGIB ,54852|789 988-4454| 666 558-5677| YGIB |     54852|   YG|        54852|\n",
      "+---------+--------+---+------------+------------+-------------+------+----------+-----+-------------+\n",
      "only showing top 2 rows\n",
      "\n"
     ]
    }
   ],
   "source": [
    "# Missing & Replacing Values\n",
    "# Replace null values with 50\n",
    "df.na.fill(50).show(2) \n",
    "\n",
    "# Return new dataframe omitting rows with null values\n",
    "df.na.drop().show(2)\n",
    "\n",
    "# Return new dataframe replacing one value with another\n",
    "df.na.replace(10, 20).show(2)"
   ]
  },
  {
   "cell_type": "code",
   "execution_count": 141,
   "metadata": {},
   "outputs": [
    {
     "name": "stdout",
     "output_type": "stream",
     "text": [
      "+---+-----+\n",
      "|age|count|\n",
      "+---+-----+\n",
      "| 51|  214|\n",
      "| 54|  228|\n",
      "+---+-----+\n",
      "only showing top 2 rows\n",
      "\n"
     ]
    }
   ],
   "source": [
    "# groupby\n",
    "df.groupBy(\"age\").count().alias(\"num_members\").show(2)"
   ]
  },
  {
   "cell_type": "code",
   "execution_count": 142,
   "metadata": {},
   "outputs": [
    {
     "data": {
      "text/plain": [
       "[Row(firstName='hsc', lastName='aanvlh', age='54', address='WMVCN ,22623', phoneNumber='544 754-8944', telePhoneType=' 947 786-4875', city='WMVCN ', postalCode='22623', state='WM', streetAddress='22623'),\n",
       " Row(firstName='ssjp', lastName='ahidp', age='54', address='PLGLOK ,92166', phoneNumber='895 464-4988', telePhoneType=' 598 667-8499', city='PLGLOK ', postalCode='92166', state='PL', streetAddress='92166'),\n",
       " Row(firstName='njb', lastName='akitfb', age='54', address='FIUEO ,97358', phoneNumber='685 777-6689', telePhoneType=' 666 655-8888', city='FIUEO ', postalCode='97358', state='FI', streetAddress='97358'),\n",
       " Row(firstName='ljz', lastName='aldb', age='54', address='EDOJ ,44649', phoneNumber='677 896-4854', telePhoneType=' 767 585-4785', city='EDOJ ', postalCode='44649', state='ED', streetAddress='44649')]"
      ]
     },
     "execution_count": 142,
     "metadata": {},
     "output_type": "execute_result"
    }
   ],
   "source": [
    "# Sort by age in descending order\n",
    "peopledf.sort(peopledf.age.desc()).collect()[:4]\n",
    "\n",
    "# Sort by age in descending order using \"sort\" method and specifying ascending value as False\n",
    "df.sort(\"age\", ascending=False).collect()[:4]\n",
    "\n",
    "# Sort by age in descending order and then by city in ascending order using \"orderBy\" method and specifying a list of column names and corresponding ordering values\n",
    "df.orderBy([\"age\",\"lastName\"],ascending=[0,1]).collect()[:4]"
   ]
  },
  {
   "cell_type": "code",
   "execution_count": 143,
   "metadata": {},
   "outputs": [
    {
     "name": "stdout",
     "output_type": "stream",
     "text": [
      "+---+-----+\n",
      "|age|count|\n",
      "+---+-----+\n",
      "|51 |214  |\n",
      "|54 |228  |\n",
      "+---+-----+\n",
      "only showing top 2 rows\n",
      "\n",
      "+----+---+\n",
      "|name|age|\n",
      "+----+---+\n",
      "|nkz |54 |\n",
      "|nfv |54 |\n",
      "+----+---+\n",
      "only showing top 2 rows\n",
      "\n",
      "+---------+--------+---+------------+------------+-------------+------+----------+-----+-------------+\n",
      "|firstName|lastName|age|address     |phoneNumber |telePhoneType|city  |postalCode|state|streetAddress|\n",
      "+---------+--------+---+------------+------------+-------------+------+----------+-----+-------------+\n",
      "|txtqe    |mcu     |54 |ABWA ,11496 |658 684-7898| 997 655-7855|ABWA  |11496     |AB   |11496        |\n",
      "|dyp      |fbtmnr  |54 |ACXQR ,37456|667 744-7794| 969 476-4774|ACXQR |37456     |AC   |37456        |\n",
      "+---------+--------+---+------------+------------+-------------+------+----------+-----+-------------+\n",
      "only showing top 2 rows\n",
      "\n"
     ]
    },
    {
     "data": {
      "text/plain": [
       "1"
      ]
     },
     "execution_count": 143,
     "metadata": {},
     "output_type": "execute_result"
    }
   ],
   "source": [
    "# GroupBy:\n",
    "\n",
    "df.groupBy(\"age\").count().show(2, truncate=False)\n",
    "\n",
    "# Sort:\n",
    "\n",
    "peopledf.sort(\"age\", ascending=False).show(2, truncate=False)\n",
    "\n",
    "df.sort([\"age\", \"city\"], ascending=[0, 1]).show(2, truncate=False)\n",
    "\n",
    "# Repartitioning:\n",
    "\n",
    "df.repartition(10).rdd.getNumPartitions()\n",
    "\n",
    "df.coalesce(1).rdd.getNumPartitions()"
   ]
  },
  {
   "cell_type": "code",
   "execution_count": null,
   "metadata": {},
   "outputs": [],
   "source": [
    "# Register DataFrames as Views\n",
    "peopledf.createOrReplaceGlobalTempView(\"people\")\n",
    "# df.createTempView(\"customer\")\n",
    "df.createOrReplaceTempView(\"customer\")\n",
    "\n",
    "# Query Views\n",
    "customer_df = spark.sql(\"SELECT * FROM customer\")\n",
    "people_df = spark.sql(\"SELECT * FROM global_temp.people\")"
   ]
  },
  {
   "cell_type": "code",
   "execution_count": 156,
   "metadata": {},
   "outputs": [
    {
     "name": "stdout",
     "output_type": "stream",
     "text": [
      "+---------+--------+---+------------+------------+-------------+------+----------+-----+-------------+----------+\n",
      "|firstName|lastName|age|     address| phoneNumber|telePhoneType|  city|postalCode|state|streetAddress|      date|\n",
      "+---------+--------+---+------------+------------+-------------+------+----------+-----+-------------+----------+\n",
      "|     vijh|     mfp| 24|IPWIA ,78644|748 668-4596| 469 549-4496|IPWIA |     78644|   IP|        78644|2023-10-30|\n",
      "|      rgy|  jtyxsl| 50| YGIB ,54852|789 988-4454| 666 558-5677| YGIB |     54852|   YG|        54852|2023-10-30|\n",
      "+---------+--------+---+------------+------------+-------------+------+----------+-----+-------------+----------+\n",
      "only showing top 2 rows\n",
      "\n"
     ]
    }
   ],
   "source": [
    "# Save to table\n",
    "customer_df.write.format(\"parquet\").mode(\"overwrite\").saveAsTable(\"customer_table\")\n",
    "people_df.write.format(\"parquet\").mode(\"overwrite\").saveAsTable(\"people_table\")\n",
    "new_df = spark.sql(\"SELECT * FROM customer_table\").withColumn(\"date\",F.current_date())\n",
    "new_df.write.format(\"parquet\").mode(\"overwrite\").partitionBy(\"date\").saveAsTable(\"customer_partitioned_table\")\n",
    "spark.sql(\"SELECT * FROM customer_partitioned_table\").show(2)"
   ]
  },
  {
   "cell_type": "code",
   "execution_count": 148,
   "metadata": {},
   "outputs": [
    {
     "name": "stdout",
     "output_type": "stream",
     "text": [
      "[('firstName', 'string'), ('lastName', 'string'), ('age', 'string'), ('address', 'string'), ('phoneNumber', 'string'), ('telePhoneType', 'string'), ('city', 'string'), ('postalCode', 'string'), ('state', 'string'), ('streetAddress', 'string')]\n",
      "+---------+--------+---+------------+------------+-------------+------+----------+-----+-------------+\n",
      "|firstName|lastName|age|     address| phoneNumber|telePhoneType|  city|postalCode|state|streetAddress|\n",
      "+---------+--------+---+------------+------------+-------------+------+----------+-----+-------------+\n",
      "|     vijh|     mfp| 24|IPWIA ,78644|748 668-4596| 469 549-4496|IPWIA |     78644|   IP|        78644|\n",
      "+---------+--------+---+------------+------------+-------------+------+----------+-----+-------------+\n",
      "only showing top 1 row\n",
      "\n",
      "Row(firstName='vijh', lastName='mfp', age='24', address='IPWIA ,78644', phoneNumber='748 668-4596', telePhoneType=' 469 549-4496', city='IPWIA ', postalCode='78644', state='IP', streetAddress='78644')\n",
      "[Row(firstName='vijh', lastName='mfp', age='24', address='IPWIA ,78644', phoneNumber='748 668-4596', telePhoneType=' 469 549-4496', city='IPWIA ', postalCode='78644', state='IP', streetAddress='78644')]\n",
      "StructType([StructField('firstName', StringType(), True), StructField('lastName', StringType(), True), StructField('age', StringType(), True), StructField('address', StringType(), True), StructField('phoneNumber', StringType(), True), StructField('telePhoneType', StringType(), True), StructField('city', StringType(), True), StructField('postalCode', StringType(), True), StructField('state', StringType(), True), StructField('streetAddress', StringType(), True)])\n"
     ]
    }
   ],
   "source": [
    "# Inspect Data\n",
    "print(customer_df.dtypes)                 # to get the data types of columns in the dataframe\n",
    "customer_df.show(1)                        # to display the dataframe in a tabular format\n",
    "print(customer_df.head())                 # to display the first n rows of dataframe (default value of n is 5)\n",
    "print(customer_df.take(1))                # to take the first n rows of dataframe (default value of n is 1)\n",
    "print(customer_df.schema)                 # to get the schema of the dataframe\n",
    "\n",
    "\n",
    "# printing all the outputs together\n"
   ]
  },
  {
   "cell_type": "code",
   "execution_count": 152,
   "metadata": {},
   "outputs": [
    {
     "name": "stdout",
     "output_type": "stream",
     "text": [
      "+-------+---------+--------+------------------+------------+------------+-------------+------+-----------------+-----+-----------------+\n",
      "|summary|firstName|lastName|               age|     address| phoneNumber|telePhoneType|  city|       postalCode|state|    streetAddress|\n",
      "+-------+---------+--------+------------------+------------+------------+-------------+------+-----------------+-----+-----------------+\n",
      "|  count|    10000|   10000|             10000|       10000|       10000|        10000| 10000|            10000|10000|            10000|\n",
      "|   mean|      NaN|    NULL|           31.9126|        NULL|        NULL|         NULL|  NULL|        55304.204| NULL|        55304.204|\n",
      "| stddev|     NULL|    NULL|12.954649494847528|        NULL|        NULL|         NULL|  NULL|25730.68664139555| NULL|25730.68664139555|\n",
      "|    min|      aac|   aabux|                10|AACIH ,45377|444 444-6695| 444 444-6657|AACIH |            11111|   AA|            11111|\n",
      "|    max|    zztsa|    zzzt|                54| ZZZO ,47984|999 996-9865| 999 985-4688| ZZZO |            99999|   ZZ|            99999|\n",
      "+-------+---------+--------+------------------+------------+------------+-------------+------+-----------------+-----+-----------------+\n",
      "\n",
      "['firstName', 'lastName', 'age', 'address', 'phoneNumber', 'telePhoneType', 'city', 'postalCode', 'state', 'streetAddress']\n",
      "10000\n",
      "10000\n",
      "root\n",
      " |-- firstName: string (nullable = true)\n",
      " |-- lastName: string (nullable = true)\n",
      " |-- age: string (nullable = true)\n",
      " |-- address: string (nullable = true)\n",
      " |-- phoneNumber: string (nullable = true)\n",
      " |-- telePhoneType: string (nullable = true)\n",
      " |-- city: string (nullable = true)\n",
      " |-- postalCode: string (nullable = true)\n",
      " |-- state: string (nullable = true)\n",
      " |-- streetAddress: string (nullable = true)\n",
      "\n"
     ]
    }
   ],
   "source": [
    "customer_df.describe().show()             # to get the summary statistics of the dataframe\n",
    "print(customer_df.columns)                # to get the column names of the dataframe\n",
    "print(customer_df.count())                # to get the count of rows in the dataframe\n",
    "print(customer_df.distinct().count())     # to get the count of distinct rows in the dataframe\n",
    "customer_df.printSchema()                 # to print the schema of the dataframe"
   ]
  },
  {
   "cell_type": "code",
   "execution_count": 153,
   "metadata": {},
   "outputs": [
    {
     "name": "stdout",
     "output_type": "stream",
     "text": [
      "== Physical Plan ==\n",
      "AdaptiveSparkPlan isFinalPlan=false\n",
      "+- Project [firstName#6461, lastName#6462, age#6463, address#6780, split(phoneNumber1#6773, ,, -1)[0] AS phoneNumber#6914, split(phoneNumber1#6773, ,, -1)[1] AS telePhoneType#6795, split(address#6780, ,, -1)[0] AS city#6804, split(address#6780, ,, -1)[1] AS postalCode#6814, substring(split(address#6780, ,, -1)[0], 0, 2) AS state#6825, split(address#6780, ,, -1)[1] AS streetAddress#6837]\n",
      "   +- HashAggregate(keys=[phoneNumber#6465, age#6463, lastName#6462, firstName#6461, address#6464], functions=[])\n",
      "      +- Exchange hashpartitioning(phoneNumber#6465, age#6463, lastName#6462, firstName#6461, address#6464, 200), ENSURE_REQUIREMENTS, [plan_id=12326]\n",
      "         +- HashAggregate(keys=[phoneNumber#6465, age#6463, lastName#6462, firstName#6461, address#6464], functions=[])\n",
      "            +- FileScan csv [firstName#6461,lastName#6462,age#6463,address#6464,phoneNumber#6465] Batched: false, DataFilters: [], Format: CSV, Location: InMemoryFileIndex(1 paths)[file:/c:/Users/jdamodhar/Desktop/python_essential/DataCamp-ds-deloitte..., PartitionFilters: [], PushedFilters: [], ReadSchema: struct<firstName:string,lastName:string,age:string,address:string,phoneNumber:string>\n",
      "\n",
      "\n"
     ]
    }
   ],
   "source": [
    "customer_df.explain()                     # to print the execution plan of the dataframe\n"
   ]
  },
  {
   "cell_type": "code",
   "execution_count": 150,
   "metadata": {},
   "outputs": [
    {
     "data": {
      "text/html": [
       "<div>\n",
       "<style scoped>\n",
       "    .dataframe tbody tr th:only-of-type {\n",
       "        vertical-align: middle;\n",
       "    }\n",
       "\n",
       "    .dataframe tbody tr th {\n",
       "        vertical-align: top;\n",
       "    }\n",
       "\n",
       "    .dataframe thead th {\n",
       "        text-align: right;\n",
       "    }\n",
       "</style>\n",
       "<table border=\"1\" class=\"dataframe\">\n",
       "  <thead>\n",
       "    <tr style=\"text-align: right;\">\n",
       "      <th></th>\n",
       "      <th>firstName</th>\n",
       "      <th>lastName</th>\n",
       "      <th>age</th>\n",
       "      <th>address</th>\n",
       "      <th>phoneNumber</th>\n",
       "      <th>telePhoneType</th>\n",
       "      <th>city</th>\n",
       "      <th>postalCode</th>\n",
       "      <th>state</th>\n",
       "      <th>streetAddress</th>\n",
       "    </tr>\n",
       "  </thead>\n",
       "  <tbody>\n",
       "    <tr>\n",
       "      <th>0</th>\n",
       "      <td>vijh</td>\n",
       "      <td>mfp</td>\n",
       "      <td>24</td>\n",
       "      <td>IPWIA ,78644</td>\n",
       "      <td>748 668-4596</td>\n",
       "      <td>469 549-4496</td>\n",
       "      <td>IPWIA</td>\n",
       "      <td>78644</td>\n",
       "      <td>IP</td>\n",
       "      <td>78644</td>\n",
       "    </tr>\n",
       "    <tr>\n",
       "      <th>1</th>\n",
       "      <td>rgy</td>\n",
       "      <td>jtyxsl</td>\n",
       "      <td>50</td>\n",
       "      <td>YGIB ,54852</td>\n",
       "      <td>789 988-4454</td>\n",
       "      <td>666 558-5677</td>\n",
       "      <td>YGIB</td>\n",
       "      <td>54852</td>\n",
       "      <td>YG</td>\n",
       "      <td>54852</td>\n",
       "    </tr>\n",
       "    <tr>\n",
       "      <th>2</th>\n",
       "      <td>kde</td>\n",
       "      <td>hjc</td>\n",
       "      <td>17</td>\n",
       "      <td>XMJH ,75137</td>\n",
       "      <td>459 996-5597</td>\n",
       "      <td>857 767-8954</td>\n",
       "      <td>XMJH</td>\n",
       "      <td>75137</td>\n",
       "      <td>XM</td>\n",
       "      <td>75137</td>\n",
       "    </tr>\n",
       "    <tr>\n",
       "      <th>3</th>\n",
       "      <td>uzui</td>\n",
       "      <td>qyjq</td>\n",
       "      <td>25</td>\n",
       "      <td>KHHHM ,97616</td>\n",
       "      <td>894 457-8954</td>\n",
       "      <td>644 596-5869</td>\n",
       "      <td>KHHHM</td>\n",
       "      <td>97616</td>\n",
       "      <td>KH</td>\n",
       "      <td>97616</td>\n",
       "    </tr>\n",
       "    <tr>\n",
       "      <th>4</th>\n",
       "      <td>qow</td>\n",
       "      <td>plpna</td>\n",
       "      <td>40</td>\n",
       "      <td>AMI ,38797</td>\n",
       "      <td>644 488-5446</td>\n",
       "      <td>885 745-7768</td>\n",
       "      <td>AMI</td>\n",
       "      <td>38797</td>\n",
       "      <td>AM</td>\n",
       "      <td>38797</td>\n",
       "    </tr>\n",
       "    <tr>\n",
       "      <th>...</th>\n",
       "      <td>...</td>\n",
       "      <td>...</td>\n",
       "      <td>...</td>\n",
       "      <td>...</td>\n",
       "      <td>...</td>\n",
       "      <td>...</td>\n",
       "      <td>...</td>\n",
       "      <td>...</td>\n",
       "      <td>...</td>\n",
       "      <td>...</td>\n",
       "    </tr>\n",
       "    <tr>\n",
       "      <th>9995</th>\n",
       "      <td>qkdq</td>\n",
       "      <td>yxma</td>\n",
       "      <td>39</td>\n",
       "      <td>DWINOY ,47814</td>\n",
       "      <td>955 546-9878</td>\n",
       "      <td>644 896-8444</td>\n",
       "      <td>DWINOY</td>\n",
       "      <td>47814</td>\n",
       "      <td>DW</td>\n",
       "      <td>47814</td>\n",
       "    </tr>\n",
       "    <tr>\n",
       "      <th>9996</th>\n",
       "      <td>qwcxw</td>\n",
       "      <td>ofoyns</td>\n",
       "      <td>46</td>\n",
       "      <td>DJVWD ,33657</td>\n",
       "      <td>776 886-6497</td>\n",
       "      <td>847 695-8996</td>\n",
       "      <td>DJVWD</td>\n",
       "      <td>33657</td>\n",
       "      <td>DJ</td>\n",
       "      <td>33657</td>\n",
       "    </tr>\n",
       "    <tr>\n",
       "      <th>9997</th>\n",
       "      <td>onkw</td>\n",
       "      <td>fdihd</td>\n",
       "      <td>54</td>\n",
       "      <td>CVWUG ,37543</td>\n",
       "      <td>799 554-5675</td>\n",
       "      <td>589 868-5599</td>\n",
       "      <td>CVWUG</td>\n",
       "      <td>37543</td>\n",
       "      <td>CV</td>\n",
       "      <td>37543</td>\n",
       "    </tr>\n",
       "    <tr>\n",
       "      <th>9998</th>\n",
       "      <td>xya</td>\n",
       "      <td>audnk</td>\n",
       "      <td>52</td>\n",
       "      <td>FIZCAW ,28486</td>\n",
       "      <td>875 768-9799</td>\n",
       "      <td>847 844-9694</td>\n",
       "      <td>FIZCAW</td>\n",
       "      <td>28486</td>\n",
       "      <td>FI</td>\n",
       "      <td>28486</td>\n",
       "    </tr>\n",
       "    <tr>\n",
       "      <th>9999</th>\n",
       "      <td>tpj</td>\n",
       "      <td>xzd</td>\n",
       "      <td>14</td>\n",
       "      <td>XMIQW ,63934</td>\n",
       "      <td>976 997-8889</td>\n",
       "      <td>594 855-6847</td>\n",
       "      <td>XMIQW</td>\n",
       "      <td>63934</td>\n",
       "      <td>XM</td>\n",
       "      <td>63934</td>\n",
       "    </tr>\n",
       "  </tbody>\n",
       "</table>\n",
       "<p>10000 rows × 10 columns</p>\n",
       "</div>"
      ],
      "text/plain": [
       "     firstName lastName age        address   phoneNumber  telePhoneType  \\\n",
       "0         vijh      mfp  24   IPWIA ,78644  748 668-4596   469 549-4496   \n",
       "1          rgy   jtyxsl  50    YGIB ,54852  789 988-4454   666 558-5677   \n",
       "2          kde      hjc  17    XMJH ,75137  459 996-5597   857 767-8954   \n",
       "3         uzui     qyjq  25   KHHHM ,97616  894 457-8954   644 596-5869   \n",
       "4          qow    plpna  40     AMI ,38797  644 488-5446   885 745-7768   \n",
       "...        ...      ...  ..            ...           ...            ...   \n",
       "9995      qkdq     yxma  39  DWINOY ,47814  955 546-9878   644 896-8444   \n",
       "9996     qwcxw   ofoyns  46   DJVWD ,33657  776 886-6497   847 695-8996   \n",
       "9997      onkw    fdihd  54   CVWUG ,37543  799 554-5675   589 868-5599   \n",
       "9998       xya    audnk  52  FIZCAW ,28486  875 768-9799   847 844-9694   \n",
       "9999       tpj      xzd  14   XMIQW ,63934  976 997-8889   594 855-6847   \n",
       "\n",
       "         city postalCode state streetAddress  \n",
       "0      IPWIA       78644    IP         78644  \n",
       "1       YGIB       54852    YG         54852  \n",
       "2       XMJH       75137    XM         75137  \n",
       "3      KHHHM       97616    KH         97616  \n",
       "4        AMI       38797    AM         38797  \n",
       "...       ...        ...   ...           ...  \n",
       "9995  DWINOY       47814    DW         47814  \n",
       "9996   DJVWD       33657    DJ         33657  \n",
       "9997   CVWUG       37543    CV         37543  \n",
       "9998  FIZCAW       28486    FI         28486  \n",
       "9999   XMIQW       63934    XM         63934  \n",
       "\n",
       "[10000 rows x 10 columns]"
      ]
     },
     "execution_count": 150,
     "metadata": {},
     "output_type": "execute_result"
    }
   ],
   "source": [
    "# Output\n",
    "# ======\n",
    "\n",
    "# Convert DataFrame into RDD\n",
    "rdd1 = df.rdd \n",
    "\n",
    "# Convert DataFrame into RDD of string\n",
    "df.toJSON().first() \n",
    "\n",
    "# Return the contents of DataFrame as a Pandas DataFrame\n",
    "df.toPandas()"
   ]
  },
  {
   "cell_type": "code",
   "execution_count": 151,
   "metadata": {},
   "outputs": [],
   "source": [
    "# Data Structures &Writing to Files\n",
    "# ===============\n",
    "\n",
    "# Save selected columns as a Parquet file\n",
    "df.select(\"firstName\", \"city\") \\\n",
    "  .write \\\n",
    "  .save(\"tmp_nameAndCity.parquet\",mode=\"overwrite\", format=\"parquet\",compression=\"snappy\")\n",
    "\n",
    "# Save selected columns as a JSON file\n",
    "df.select(\"firstName\", \"age\") \\\n",
    "  .write \\\n",
    "  .save(\"tmp_namesAndAges.json\", format=\"json\", mode=\"overwrite\")"
   ]
  }
 ],
 "metadata": {
  "kernelspec": {
   "display_name": "Python 3",
   "language": "python",
   "name": "python3"
  },
  "language_info": {
   "codemirror_mode": {
    "name": "ipython",
    "version": 3
   },
   "file_extension": ".py",
   "mimetype": "text/x-python",
   "name": "python",
   "nbconvert_exporter": "python",
   "pygments_lexer": "ipython3",
   "version": "3.11.6"
  }
 },
 "nbformat": 4,
 "nbformat_minor": 2
}
