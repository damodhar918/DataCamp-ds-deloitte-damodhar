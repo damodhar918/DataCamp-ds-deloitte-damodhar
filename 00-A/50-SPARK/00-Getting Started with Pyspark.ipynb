{
 "cells": [
  {
   "cell_type": "markdown",
   "metadata": {},
   "source": [
    "- https://www.datacamp.com/tutorial/pyspark-tutorial-getting-started-with-pyspark\n",
    "- https://archive.ics.uci.edu/dataset/352/online+retail"
   ]
  },
  {
   "cell_type": "code",
   "execution_count": 1,
   "metadata": {},
   "outputs": [
    {
     "data": {
      "text/html": [
       "\n",
       "            <div>\n",
       "                <p><b>SparkSession - in-memory</b></p>\n",
       "                \n",
       "        <div>\n",
       "            <p><b>SparkContext</b></p>\n",
       "\n",
       "            <p><a href=\"http://USHYDJDAMODH6.us.deloitte.com:4040\">Spark UI</a></p>\n",
       "\n",
       "            <dl>\n",
       "              <dt>Version</dt>\n",
       "                <dd><code>v3.5.0</code></dd>\n",
       "              <dt>Master</dt>\n",
       "                <dd><code>local[*]</code></dd>\n",
       "              <dt>AppName</dt>\n",
       "                <dd><code>dj</code></dd>\n",
       "            </dl>\n",
       "        </div>\n",
       "        \n",
       "            </div>\n",
       "        "
      ],
      "text/plain": [
       "<pyspark.sql.session.SparkSession at 0x26144ad3750>"
      ]
     },
     "execution_count": 1,
     "metadata": {},
     "output_type": "execute_result"
    }
   ],
   "source": [
    "import os\n",
    "import sys\n",
    "import pandas as pd\n",
    "import numpy as np\n",
    "\n",
    "# Create Spark context\n",
    "from pyspark import SparkContext, SparkConf\n",
    "from pyspark.sql import functions as F\n",
    "from pyspark.sql.types import *\n",
    "conf = SparkConf().setAppName('dj').setMaster('local[*]')\\\n",
    "    .set(\"spark.memory.offHeap.enabled\",\"true\") \\\n",
    "    .set(\"spark.memory.offHeap.size\",\"8g\")\n",
    "sc = SparkContext(conf=conf)\n",
    "\n",
    "# Create Spark session\n",
    "from pyspark.sql import SparkSession\n",
    "spark = SparkSession.builder.appName('dj').getOrCreate()\n",
    "spark"
   ]
  },
  {
   "cell_type": "code",
   "execution_count": 2,
   "metadata": {},
   "outputs": [],
   "source": [
    "# !pip install openpyxl"
   ]
  },
  {
   "cell_type": "code",
   "execution_count": 45,
   "metadata": {},
   "outputs": [
    {
     "name": "stdout",
     "output_type": "stream",
     "text": [
      "+---------+---------+-----------------------------------+--------+-------------------+---------+----------+--------------+\n",
      "|InvoiceNo|StockCode|Description                        |Quantity|InvoiceDate        |UnitPrice|CustomerID|Country       |\n",
      "+---------+---------+-----------------------------------+--------+-------------------+---------+----------+--------------+\n",
      "|536365   |85123A   |WHITE HANGING HEART T-LIGHT HOLDER |6       |2010-12-01 08:26:00|2.55     |17850     |United Kingdom|\n",
      "|536365   |71053    |WHITE METAL LANTERN                |6       |2010-12-01 08:26:00|3.39     |17850     |United Kingdom|\n",
      "|536365   |84406B   |CREAM CUPID HEARTS COAT HANGER     |8       |2010-12-01 08:26:00|2.75     |17850     |United Kingdom|\n",
      "|536365   |84029G   |KNITTED UNION FLAG HOT WATER BOTTLE|6       |2010-12-01 08:26:00|3.39     |17850     |United Kingdom|\n",
      "|536365   |84029E   |RED WOOLLY HOTTIE WHITE HEART.     |6       |2010-12-01 08:26:00|3.39     |17850     |United Kingdom|\n",
      "+---------+---------+-----------------------------------+--------+-------------------+---------+----------+--------------+\n",
      "only showing top 5 rows\n",
      "\n"
     ]
    }
   ],
   "source": [
    "# Step 2: Creating the DataFrame\n",
    "df = spark.read.csv('ecommerce.csv',header=True,escape=\"\\\"\")\n",
    "df = df.withColumn('CustomerID',df['CustomerID'].cast(IntegerType()))\\\n",
    "    .withColumn('Quantity',df['Quantity'].cast(IntegerType()))\\\n",
    "    .withColumn('UnitPrice',df['UnitPrice'].cast(DoubleType()))\n",
    "\n",
    "\n",
    "df.show(5,0)"
   ]
  },
  {
   "cell_type": "markdown",
   "metadata": {},
   "source": [
    "The dataframe consists of 8 variables:\n",
    "\n",
    "- InvoiceNo: The unique identifier of each customer invoice. \n",
    "- StockCode: The unique identifier of each item in stock.\n",
    "- Description: The item purchased by the customer.\n",
    "- Quantity: The number of each item purchased by a customer in a single invoice.\n",
    "- InvoiceDate: The purchase date.\n",
    "- UnitPrice: Price of one unit of each item.\n",
    "- CustomerID: Unique identifier assigned to each user.\n",
    "- Country: The country from where the purchase was made"
   ]
  },
  {
   "cell_type": "code",
   "execution_count": 46,
   "metadata": {},
   "outputs": [
    {
     "data": {
      "text/plain": [
       "541909"
      ]
     },
     "execution_count": 46,
     "metadata": {},
     "output_type": "execute_result"
    }
   ],
   "source": [
    "# Explore the DataFrame\n",
    "df.count()  # Answer: 2,500"
   ]
  },
  {
   "cell_type": "code",
   "execution_count": 47,
   "metadata": {},
   "outputs": [
    {
     "data": {
      "text/plain": [
       "4373"
      ]
     },
     "execution_count": 47,
     "metadata": {},
     "output_type": "execute_result"
    }
   ],
   "source": [
    "df.select('CustomerID').distinct().count() # Answer: 95"
   ]
  },
  {
   "cell_type": "code",
   "execution_count": 48,
   "metadata": {},
   "outputs": [
    {
     "name": "stdout",
     "output_type": "stream",
     "text": [
      "+---------+-------------+\n",
      "|Country  |country_count|\n",
      "+---------+-------------+\n",
      "|Sweden   |8            |\n",
      "|Singapore|1            |\n",
      "|Germany  |95           |\n",
      "|RSA      |1            |\n",
      "|France   |87           |\n",
      "+---------+-------------+\n",
      "only showing top 5 rows\n",
      "\n"
     ]
    }
   ],
   "source": [
    "from pyspark.sql.functions import *\n",
    "from pyspark.sql.types import *\n",
    "\n",
    "df.groupBy('Country')\\\n",
    "    .agg(countDistinct('CustomerID').alias('country_count'))\\\n",
    "    .show(5,0)"
   ]
  },
  {
   "cell_type": "code",
   "execution_count": 49,
   "metadata": {},
   "outputs": [
    {
     "name": "stdout",
     "output_type": "stream",
     "text": [
      "+--------------+-------------+\n",
      "|Country       |country_count|\n",
      "+--------------+-------------+\n",
      "|United Kingdom|3950         |\n",
      "|Germany       |95           |\n",
      "|France        |87           |\n",
      "|Spain         |31           |\n",
      "|Belgium       |25           |\n",
      "+--------------+-------------+\n",
      "only showing top 5 rows\n",
      "\n"
     ]
    }
   ],
   "source": [
    "df.groupBy('Country').agg(countDistinct('CustomerID').alias('country_count')).orderBy(desc('country_count')).show(5,0)"
   ]
  },
  {
   "cell_type": "code",
   "execution_count": 50,
   "metadata": {},
   "outputs": [
    {
     "name": "stdout",
     "output_type": "stream",
     "text": [
      "root\n",
      " |-- InvoiceNo: string (nullable = true)\n",
      " |-- StockCode: string (nullable = true)\n",
      " |-- Description: string (nullable = true)\n",
      " |-- Quantity: integer (nullable = true)\n",
      " |-- InvoiceDate: string (nullable = true)\n",
      " |-- UnitPrice: double (nullable = true)\n",
      " |-- CustomerID: integer (nullable = true)\n",
      " |-- Country: string (nullable = true)\n",
      "\n"
     ]
    }
   ],
   "source": [
    "df.printSchema()"
   ]
  },
  {
   "cell_type": "code",
   "execution_count": 51,
   "metadata": {},
   "outputs": [
    {
     "name": "stdout",
     "output_type": "stream",
     "text": [
      "+-------------------+\n",
      "|max(date)          |\n",
      "+-------------------+\n",
      "|2011-12-09 12:50:00|\n",
      "+-------------------+\n",
      "\n"
     ]
    }
   ],
   "source": [
    "spark.sql(\"set spark.sql.legacy.timeParserPolicy=LEGACY\")\n",
    "# df = df.withColumn('date',to_timestamp(\"InvoiceDate\", 'yy/MM/dd HH:mm'))\n",
    "df = df.withColumn('date',to_timestamp(\"InvoiceDate\", 'yyyy-MM-dd HH:mm'))\n",
    "df.select(max(\"date\")).show(2,0)"
   ]
  },
  {
   "cell_type": "code",
   "execution_count": 52,
   "metadata": {},
   "outputs": [
    {
     "name": "stdout",
     "output_type": "stream",
     "text": [
      "+-------------------+\n",
      "|min(date)          |\n",
      "+-------------------+\n",
      "|2010-12-01 08:26:00|\n",
      "+-------------------+\n",
      "\n"
     ]
    }
   ],
   "source": [
    "df.select(min(\"date\")).show(3,0)"
   ]
  },
  {
   "cell_type": "markdown",
   "metadata": {},
   "source": [
    "Data Pre-processing"
   ]
  },
  {
   "cell_type": "code",
   "execution_count": 53,
   "metadata": {},
   "outputs": [
    {
     "name": "stdout",
     "output_type": "stream",
     "text": [
      "+---------+---------+----------------------------------+--------+-------------------+---------+----------+--------------+-------------------+-------------------+-------+\n",
      "|InvoiceNo|StockCode|Description                       |Quantity|InvoiceDate        |UnitPrice|CustomerID|Country       |date               |from_date          |recency|\n",
      "+---------+---------+----------------------------------+--------+-------------------+---------+----------+--------------+-------------------+-------------------+-------+\n",
      "|536365   |85123A   |WHITE HANGING HEART T-LIGHT HOLDER|6       |2010-12-01 08:26:00|2.55     |17850     |United Kingdom|2010-12-01 08:26:00|2010-12-01 08:26:00|0      |\n",
      "|536365   |71053    |WHITE METAL LANTERN               |6       |2010-12-01 08:26:00|3.39     |17850     |United Kingdom|2010-12-01 08:26:00|2010-12-01 08:26:00|0      |\n",
      "|536365   |84406B   |CREAM CUPID HEARTS COAT HANGER    |8       |2010-12-01 08:26:00|2.75     |17850     |United Kingdom|2010-12-01 08:26:00|2010-12-01 08:26:00|0      |\n",
      "+---------+---------+----------------------------------+--------+-------------------+---------+----------+--------------+-------------------+-------------------+-------+\n",
      "only showing top 3 rows\n",
      "\n"
     ]
    }
   ],
   "source": [
    "# recency, frequency, and monetary value (RFM).\n",
    "# i) Assign a recency score to each customer\n",
    "df = df.withColumn(\"from_date\", lit(\"10/12/01 08:26\"))\n",
    "df = df.withColumn('from_date',to_timestamp(\"from_date\", 'yy/MM/dd HH:mm'))\n",
    "df2=df.withColumn('from_date',to_timestamp(col('from_date')))\\\n",
    "    .withColumn('recency',col(\"date\").cast(\"long\") - col('from_date').cast(\"long\"))\n",
    "# df2 = df2.dropDuplicates(subset=['date'])\n",
    "df2.show(3,0)\n"
   ]
  },
  {
   "cell_type": "code",
   "execution_count": 54,
   "metadata": {},
   "outputs": [
    {
     "name": "stdout",
     "output_type": "stream",
     "text": [
      "+-------+---------+---------+-----------------------------------+--------+-------------------+---------+----------+--------------+-------------------+-------------------+\n",
      "|recency|InvoiceNo|StockCode|Description                        |Quantity|InvoiceDate        |UnitPrice|CustomerID|Country       |date               |from_date          |\n",
      "+-------+---------+---------+-----------------------------------+--------+-------------------+---------+----------+--------------+-------------------+-------------------+\n",
      "|5220   |536384   |82484    |WOOD BLACK BOARD ANT WHITE FINISH  |3       |2010-12-01 09:53:00|6.45     |18074     |United Kingdom|2010-12-01 09:53:00|2010-12-01 08:26:00|\n",
      "|5220   |536384   |84755    |COLOUR GLASS T-LIGHT HOLDER HANGING|48      |2010-12-01 09:53:00|0.65     |18074     |United Kingdom|2010-12-01 09:53:00|2010-12-01 08:26:00|\n",
      "|5220   |536384   |22464    |HANGING METAL HEART LANTERN        |12      |2010-12-01 09:53:00|1.65     |18074     |United Kingdom|2010-12-01 09:53:00|2010-12-01 08:26:00|\n",
      "|5220   |536384   |21324    |HANGING MEDINA LANTERN SMALL       |6       |2010-12-01 09:53:00|2.95     |18074     |United Kingdom|2010-12-01 09:53:00|2010-12-01 08:26:00|\n",
      "|5220   |536384   |22457    |NATURAL SLATE HEART CHALKBOARD     |12      |2010-12-01 09:53:00|2.95     |18074     |United Kingdom|2010-12-01 09:53:00|2010-12-01 08:26:00|\n",
      "+-------+---------+---------+-----------------------------------+--------+-------------------+---------+----------+--------------+-------------------+-------------------+\n",
      "only showing top 5 rows\n",
      "\n"
     ]
    }
   ],
   "source": [
    "# ii) Select the most recent purchase\n",
    "df2 = df2.join(df2.groupBy('CustomerID')\\\n",
    "    .agg(max('recency').alias('recency')),on='recency',how='leftsemi')\n",
    "df2.show(5,0)"
   ]
  },
  {
   "cell_type": "code",
   "execution_count": 55,
   "metadata": {},
   "outputs": [
    {
     "name": "stdout",
     "output_type": "stream",
     "text": [
      "root\n",
      " |-- recency: long (nullable = true)\n",
      " |-- InvoiceNo: string (nullable = true)\n",
      " |-- StockCode: string (nullable = true)\n",
      " |-- Description: string (nullable = true)\n",
      " |-- Quantity: integer (nullable = true)\n",
      " |-- InvoiceDate: string (nullable = true)\n",
      " |-- UnitPrice: double (nullable = true)\n",
      " |-- CustomerID: integer (nullable = true)\n",
      " |-- Country: string (nullable = true)\n",
      " |-- date: timestamp (nullable = true)\n",
      " |-- from_date: timestamp (nullable = true)\n",
      "\n"
     ]
    }
   ],
   "source": [
    "df2.printSchema()"
   ]
  },
  {
   "cell_type": "markdown",
   "metadata": {},
   "source": [
    "Frequency "
   ]
  },
  {
   "cell_type": "code",
   "execution_count": 56,
   "metadata": {},
   "outputs": [
    {
     "name": "stdout",
     "output_type": "stream",
     "text": [
      "+----------+---------+\n",
      "|CustomerID|frequency|\n",
      "+----------+---------+\n",
      "|NULL      |2625     |\n",
      "|14096     |544      |\n",
      "|14911     |417      |\n",
      "|17841     |324      |\n",
      "|14730     |314      |\n",
      "+----------+---------+\n",
      "only showing top 5 rows\n",
      "\n"
     ]
    }
   ],
   "source": [
    "df_freq = df2.groupBy('CustomerID').agg(count('InvoiceDate').alias('frequency')).orderBy(desc('frequency'))\n",
    "df_freq.show(5,0)"
   ]
  },
  {
   "cell_type": "code",
   "execution_count": 57,
   "metadata": {},
   "outputs": [
    {
     "name": "stdout",
     "output_type": "stream",
     "text": [
      "root\n",
      " |-- CustomerID: integer (nullable = true)\n",
      " |-- recency: long (nullable = true)\n",
      " |-- InvoiceNo: string (nullable = true)\n",
      " |-- StockCode: string (nullable = true)\n",
      " |-- Description: string (nullable = true)\n",
      " |-- Quantity: integer (nullable = true)\n",
      " |-- InvoiceDate: string (nullable = true)\n",
      " |-- UnitPrice: double (nullable = true)\n",
      " |-- Country: string (nullable = true)\n",
      " |-- date: timestamp (nullable = true)\n",
      " |-- from_date: timestamp (nullable = true)\n",
      " |-- frequency: long (nullable = false)\n",
      "\n"
     ]
    }
   ],
   "source": [
    "df3 = df2.join(df_freq,on='CustomerID',how='inner')\n",
    "\n",
    "df3.printSchema()"
   ]
  },
  {
   "cell_type": "markdown",
   "metadata": {},
   "source": [
    "Monetary value"
   ]
  },
  {
   "cell_type": "code",
   "execution_count": 71,
   "metadata": {},
   "outputs": [
    {
     "name": "stdout",
     "output_type": "stream",
     "text": [
      "+-------------------+-------------------+\n",
      "|max(monetary_value)|min(monetary_value)|\n",
      "+-------------------+-------------------+\n",
      "|21535.9            |-168469.6          |\n",
      "+-------------------+-------------------+\n",
      "\n",
      "+-------------+-------------+\n",
      "|max(Quantity)|min(Quantity)|\n",
      "+-------------+-------------+\n",
      "|12540        |-80995       |\n",
      "+-------------+-------------+\n",
      "\n",
      "+--------------+--------------+\n",
      "|max(UnitPrice)|min(UnitPrice)|\n",
      "+--------------+--------------+\n",
      "|4287.63       |0.0           |\n",
      "+--------------+--------------+\n",
      "\n"
     ]
    }
   ],
   "source": [
    "\n",
    "\n",
    "df3.select(max('Quantity'),min('Quantity')).show(2,0)\n",
    "df3.select(max('UnitPrice'),min('UnitPrice')).show(2,0)"
   ]
  },
  {
   "cell_type": "code",
   "execution_count": 58,
   "metadata": {},
   "outputs": [
    {
     "name": "stdout",
     "output_type": "stream",
     "text": [
      "+----------+-------+---------+---------+-----------------------------------+--------+-------------------+---------+--------------+-------------------+-------------------+---------+------------------+\n",
      "|CustomerID|recency|InvoiceNo|StockCode|Description                        |Quantity|InvoiceDate        |UnitPrice|Country       |date               |from_date          |frequency|TotalAmount       |\n",
      "+----------+-------+---------+---------+-----------------------------------+--------+-------------------+---------+--------------+-------------------+-------------------+---------+------------------+\n",
      "|18074     |5220   |536384   |82484    |WOOD BLACK BOARD ANT WHITE FINISH  |3       |2010-12-01 09:53:00|6.45     |United Kingdom|2010-12-01 09:53:00|2010-12-01 08:26:00|13       |19.35             |\n",
      "|18074     |5220   |536384   |84755    |COLOUR GLASS T-LIGHT HOLDER HANGING|48      |2010-12-01 09:53:00|0.65     |United Kingdom|2010-12-01 09:53:00|2010-12-01 08:26:00|13       |31.200000000000003|\n",
      "|18074     |5220   |536384   |22464    |HANGING METAL HEART LANTERN        |12      |2010-12-01 09:53:00|1.65     |United Kingdom|2010-12-01 09:53:00|2010-12-01 08:26:00|13       |19.799999999999997|\n",
      "|18074     |5220   |536384   |21324    |HANGING MEDINA LANTERN SMALL       |6       |2010-12-01 09:53:00|2.95     |United Kingdom|2010-12-01 09:53:00|2010-12-01 08:26:00|13       |17.700000000000003|\n",
      "|18074     |5220   |536384   |22457    |NATURAL SLATE HEART CHALKBOARD     |12      |2010-12-01 09:53:00|2.95     |United Kingdom|2010-12-01 09:53:00|2010-12-01 08:26:00|13       |35.400000000000006|\n",
      "+----------+-------+---------+---------+-----------------------------------+--------+-------------------+---------+--------------+-------------------+-------------------+---------+------------------+\n",
      "only showing top 5 rows\n",
      "\n",
      "+-------+---------+------------------+----------+\n",
      "|recency|frequency|monetary_value    |CustomerID|\n",
      "+-------+---------+------------------+----------+\n",
      "|716280 |33       |208.95            |17950     |\n",
      "|802500 |3        |173.7             |16565     |\n",
      "|97020  |1        |106.2             |15070     |\n",
      "|105180 |13       |248.10000000000002|16510     |\n",
      "|621720 |5        |403.25            |15221     |\n",
      "+-------+---------+------------------+----------+\n",
      "only showing top 5 rows\n",
      "\n"
     ]
    }
   ],
   "source": [
    "# i) Find the total amount spent in each purchase:\n",
    "m_val = df3.withColumn('TotalAmount',col(\"Quantity\") * col(\"UnitPrice\"))\n",
    "m_val.show(5,0)\n",
    "m_val.select(max('monetary_value'),min('monetary_value')).show(2,0)\n",
    "# ii) Find the total amount spent by each customer:\n",
    "m_val = m_val.groupBy('CustomerID').agg(sum('TotalAmount').alias('monetary_value'))\n",
    "m_val = m_val.filter(m_val.monetary_value > 0)\n",
    "\n",
    "# Merge this dataframe with the all the other variables:\n",
    "finaldf = m_val.join(df3,on='CustomerID',how='inner')\n",
    "finaldf = finaldf.select(['recency','frequency','monetary_value','CustomerID']).distinct()\n",
    "finaldf.show(5,0)\n"
   ]
  },
  {
   "cell_type": "code",
   "execution_count": 59,
   "metadata": {},
   "outputs": [
    {
     "data": {
      "text/plain": [
       "4332"
      ]
     },
     "execution_count": 59,
     "metadata": {},
     "output_type": "execute_result"
    }
   ],
   "source": [
    "finaldf.count()"
   ]
  },
  {
   "cell_type": "markdown",
   "metadata": {},
   "source": [
    "Standardization"
   ]
  },
  {
   "cell_type": "code",
   "execution_count": 60,
   "metadata": {},
   "outputs": [
    {
     "name": "stdout",
     "output_type": "stream",
     "text": [
      "+------------------------------------------------------------+\n",
      "|standardized                                                |\n",
      "+------------------------------------------------------------+\n",
      "|[0.08344158397307705,0.8222697882809382,0.24718209385169487]|\n",
      "|[0.09348560777683913,0.07475179893463074,0.2054823149176329]|\n",
      "+------------------------------------------------------------+\n",
      "only showing top 2 rows\n",
      "\n"
     ]
    }
   ],
   "source": [
    "from pyspark.ml.feature import VectorAssembler\n",
    "from pyspark.ml.feature import StandardScaler\n",
    "\n",
    "assemble=VectorAssembler(inputCols=[\n",
    "    'recency','frequency','monetary_value'\n",
    "], outputCol='features')\n",
    "\n",
    "assembled_data=assemble.transform(finaldf)\n",
    "\n",
    "scale=StandardScaler(inputCol='features',outputCol='standardized')\n",
    "data_scale=scale.fit(assembled_data)\n",
    "data_scale_output=data_scale.transform(assembled_data)\n",
    "data_scale_output.select('standardized').show(2,0)"
   ]
  },
  {
   "cell_type": "code",
   "execution_count": 61,
   "metadata": {},
   "outputs": [],
   "source": [
    "# Building the Machine Learning Model\n",
    "# - Finding the number of clusters to use\n",
    "from pyspark.ml.clustering import KMeans\n",
    "from pyspark.ml.evaluation import ClusteringEvaluator\n",
    "import numpy as np\n",
    "\n",
    "cost = np.zeros(10)\n",
    "\n",
    "evaluator = ClusteringEvaluator(predictionCol='prediction', featuresCol='standardized',metricName='silhouette', distanceMeasure='squaredEuclidean')\n",
    "\n",
    "for i in range(2,10):\n",
    "    KMeans_algo=KMeans(featuresCol='standardized', k=i)\n",
    "    KMeans_fit=KMeans_algo.fit(data_scale_output)\n",
    "    output=KMeans_fit.transform(data_scale_output)\n",
    "    cost[i] = KMeans_fit.summary.trainingCost"
   ]
  },
  {
   "cell_type": "code",
   "execution_count": 62,
   "metadata": {},
   "outputs": [
    {
     "data": {
      "image/png": "[encoded data removed]",
      "text/plain": [
       "<Figure size 640x480 with 1 Axes>"
      ]
     },
     "metadata": {},
     "output_type": "display_data"
    }
   ],
   "source": [
    "import pandas as pd\n",
    "import pylab as pl\n",
    "df_cost = pd.DataFrame(cost[2:])\n",
    "df_cost.columns = [\"cost\"]\n",
    "new_col = range(2,10)\n",
    "df_cost.insert(0, 'cluster', new_col)\n",
    "pl.plot(df_cost.cluster, df_cost.cost)\n",
    "pl.xlabel('Number of Clusters')\n",
    "pl.ylabel('Score')\n",
    "pl.title('Elbow Curve')\n",
    "pl.show()"
   ]
  },
  {
   "cell_type": "code",
   "execution_count": 63,
   "metadata": {},
   "outputs": [
    {
     "name": "stdout",
     "output_type": "stream",
     "text": [
      "+-------+---------+------------------+----------+----------------------------------+---------------------------------------------------------------+----------+\n",
      "|recency|frequency|monetary_value    |CustomerID|features                          |standardized                                                   |prediction|\n",
      "+-------+---------+------------------+----------+----------------------------------+---------------------------------------------------------------+----------+\n",
      "|716280 |33       |208.95            |17950     |[716280.0,33.0,208.95]            |[0.08344158397307705,0.8222697882809382,0.24718209385169487]   |2         |\n",
      "|802500 |3        |173.7             |16565     |[802500.0,3.0,173.7]              |[0.09348560777683913,0.07475179893463074,0.2054823149176329]   |2         |\n",
      "|97020  |1        |106.2             |15070     |[97020.0,1.0,106.2]               |[0.011302147871039168,0.024917266311543583,0.12563167440559941]|2         |\n",
      "|105180 |13       |248.10000000000002|16510     |[105180.0,13.0,248.10000000000002]|[0.012252730499648524,0.3239244620500666,0.2934954653486743]   |2         |\n",
      "|621720 |5        |403.25            |15221     |[621720.0,5.0,403.25]             |[0.072426008806251,0.12458633155771792,0.4770336412811484]     |2         |\n",
      "+-------+---------+------------------+----------+----------------------------------+---------------------------------------------------------------+----------+\n",
      "only showing top 5 rows\n",
      "\n"
     ]
    }
   ],
   "source": [
    "# ii) Building the K-Means Clustering Model\n",
    "KMeans_algo=KMeans(featuresCol='standardized', k=4)\n",
    "KMeans_fit=KMeans_algo.fit(data_scale_output)\n",
    "# iii) Making Predictions\n",
    "preds=KMeans_fit.transform(data_scale_output)\n",
    "preds.show(5,0)"
   ]
  },
  {
   "cell_type": "code",
   "execution_count": 64,
   "metadata": {},
   "outputs": [],
   "source": [
    "# !pip install seaborn"
   ]
  },
  {
   "cell_type": "code",
   "execution_count": 65,
   "metadata": {},
   "outputs": [
    {
     "data": {
      "image/png": "[encoded data removed]",
      "text/plain": [
       "<Figure size 640x480 with 1 Axes>"
      ]
     },
     "metadata": {},
     "output_type": "display_data"
    },
    {
     "data": {
      "image/png": "[encoded data removed]",
      "text/plain": [
       "<Figure size 640x480 with 1 Axes>"
      ]
     },
     "metadata": {},
     "output_type": "display_data"
    },
    {
     "data": {
      "image/png": "[encoded data removed]",
      "text/plain": [
       "<Figure size 640x480 with 1 Axes>"
      ]
     },
     "metadata": {},
     "output_type": "display_data"
    }
   ],
   "source": [
    "# Step 6: Cluster Analysis\n",
    "import matplotlib.pyplot as plt\n",
    "import seaborn as sns\n",
    "\n",
    "df_viz = preds.select('recency','frequency','monetary_value','prediction')\n",
    "df_viz = df_viz.toPandas()\n",
    "avg_df = df_viz.groupby(['prediction'], as_index=False).mean()\n",
    "\n",
    "list1 = ['recency','frequency','monetary_value']\n",
    "\n",
    "for i in list1:\n",
    "    sns.barplot(x='prediction',y=str(i),data=avg_df)\n",
    "    plt.show()"
   ]
  }
 ],
 "metadata": {
  "kernelspec": {
   "display_name": "Python 3",
   "language": "python",
   "name": "python3"
  },
  "language_info": {
   "codemirror_mode": {
    "name": "ipython",
    "version": 3
   },
   "file_extension": ".py",
   "mimetype": "text/x-python",
   "name": "python",
   "nbconvert_exporter": "python",
   "pygments_lexer": "ipython3",
   "version": "3.11.6"
  }
 },
 "nbformat": 4,
 "nbformat_minor": 2
}
