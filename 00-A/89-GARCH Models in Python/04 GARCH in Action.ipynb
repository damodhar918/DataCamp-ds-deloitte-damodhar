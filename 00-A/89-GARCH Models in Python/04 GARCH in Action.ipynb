{
 "cells": [
  {
   "cell_type": "code",
   "execution_count": 1,
   "metadata": {},
   "outputs": [],
   "source": [
    "import pandas as pd\n",
    "import numpy as np\n",
    "import matplotlib.pyplot as plt\n",
    "import arch.data.sp500\n",
    "from arch import arch_model\n",
    "import seaborn as sns\n"
   ]
  },
  {
   "cell_type": "markdown",
   "metadata": {},
   "source": [
    "Great job! 1-day 5% VaR of one million dollars means there is a 5% probability the portfolio will fall in value by 1 million dollars or MORE, not less, over a 1-day period."
   ]
  },
  {
   "cell_type": "code",
   "execution_count": 7,
   "metadata": {},
   "outputs": [
    {
     "data": {
      "text/plain": [
       "0.7864668712572018"
      ]
     },
     "execution_count": 7,
     "metadata": {},
     "output_type": "execute_result"
    }
   ],
   "source": [
    "nu"
   ]
  },
  {
   "cell_type": "code",
   "execution_count": 15,
   "metadata": {},
   "outputs": [
    {
     "name": "stdout",
     "output_type": "stream",
     "text": [
      "Iteration:      1,   Func. Count:      6,   Neg. LLF: 9279.49204238646\n",
      "Iteration:      2,   Func. Count:     16,   Neg. LLF: 10101.572145991784\n",
      "Iteration:      3,   Func. Count:     23,   Neg. LLF: 4262.457413401627\n",
      "Iteration:      4,   Func. Count:     30,   Neg. LLF: 4172.677385077039\n",
      "Iteration:      5,   Func. Count:     36,   Neg. LLF: 5019.81353176265\n",
      "Iteration:      6,   Func. Count:     43,   Neg. LLF: 4167.577187017281\n",
      "Iteration:      7,   Func. Count:     49,   Neg. LLF: 4167.490029014055\n",
      "Iteration:      8,   Func. Count:     54,   Neg. LLF: 4167.489340910806\n",
      "Iteration:      9,   Func. Count:     59,   Neg. LLF: 4167.4893400877745\n",
      "Optimization terminated successfully    (Exit mode 0)\n",
      "            Current function value: 4167.4893400877745\n",
      "            Iterations: 9\n",
      "            Function evaluations: 59\n",
      "            Gradient evaluations: 9\n",
      "Iteration:      1,   Func. Count:      6,   Neg. LLF: 9279.49204238646\n",
      "Iteration:      2,   Func. Count:     16,   Neg. LLF: 10101.572145991784\n",
      "Iteration:      3,   Func. Count:     23,   Neg. LLF: 4262.457413401627\n",
      "Iteration:      4,   Func. Count:     30,   Neg. LLF: 4172.677385077039\n",
      "Iteration:      5,   Func. Count:     36,   Neg. LLF: 5019.81353176265\n",
      "Iteration:      6,   Func. Count:     43,   Neg. LLF: 4167.577187017281\n",
      "Iteration:      7,   Func. Count:     49,   Neg. LLF: 4167.490029014055\n",
      "Iteration:      8,   Func. Count:     54,   Neg. LLF: 4167.489340910806\n",
      "Iteration:      9,   Func. Count:     59,   Neg. LLF: 4167.4893400877745\n",
      "Optimization terminated successfully    (Exit mode 0)\n",
      "            Current function value: 4167.4893400877745\n",
      "            Iterations: 9\n",
      "            Function evaluations: 59\n",
      "            Gradient evaluations: 9\n"
     ]
    },
    {
     "name": "stderr",
     "output_type": "stream",
     "text": [
      "C:\\Users\\jdamodhar\\AppData\\Local\\Temp\\ipykernel_39196\\637780404.py:4: FutureWarning: Series.__getitem__ treating keys as positions is deprecated. In a future version, integer keys will always be treated as labels (consistent with DataFrame behavior). To access a value by position, use `ser.iloc[pos]`\n",
      "  nu = basic_gm_result.params[3]\n"
     ]
    },
    {
     "ename": "ValueError",
     "evalue": "parameters must have 0 elements",
     "output_type": "error",
     "traceback": [
      "\u001b[1;31m---------------------------------------------------------------------------\u001b[0m",
      "\u001b[1;31mValueError\u001b[0m                                Traceback (most recent call last)",
      "\u001b[1;32mc:\\Users\\jdamodhar\\Desktop\\python_essential\\DataCamp-ds-deloitte-master\\00-A\\89-GARCH Models in Python\\04 GARCH in Action.ipynb Cell 4\u001b[0m line \u001b[0;36m1\n\u001b[0;32m     <a href='vscode-notebook-cell:/c%3A/Users/jdamodhar/Desktop/python_essential/DataCamp-ds-deloitte-master/00-A/89-GARCH%20Models%20in%20Python/04%20GARCH%20in%20Action.ipynb#W1sZmlsZQ%3D%3D?line=10'>11</a>\u001b[0m basic_gm \u001b[39m=\u001b[39m arch_model(bitcoin_data\u001b[39m.\u001b[39mReturn, mean\u001b[39m=\u001b[39m\u001b[39m'\u001b[39m\u001b[39mconstant\u001b[39m\u001b[39m'\u001b[39m, vol\u001b[39m=\u001b[39m\u001b[39m'\u001b[39m\u001b[39mGARCH\u001b[39m\u001b[39m'\u001b[39m, p\u001b[39m=\u001b[39m\u001b[39m1\u001b[39m, q\u001b[39m=\u001b[39m\u001b[39m1\u001b[39m, dist\u001b[39m=\u001b[39m\u001b[39m'\u001b[39m\u001b[39mnormal\u001b[39m\u001b[39m'\u001b[39m)\n\u001b[0;32m     <a href='vscode-notebook-cell:/c%3A/Users/jdamodhar/Desktop/python_essential/DataCamp-ds-deloitte-master/00-A/89-GARCH%20Models%20in%20Python/04%20GARCH%20in%20Action.ipynb#W1sZmlsZQ%3D%3D?line=12'>13</a>\u001b[0m basic_gm_result \u001b[39m=\u001b[39m basic_gm\u001b[39m.\u001b[39mfit()\n\u001b[1;32m---> <a href='vscode-notebook-cell:/c%3A/Users/jdamodhar/Desktop/python_essential/DataCamp-ds-deloitte-master/00-A/89-GARCH%20Models%20in%20Python/04%20GARCH%20in%20Action.ipynb#W1sZmlsZQ%3D%3D?line=13'>14</a>\u001b[0m q_parametric \u001b[39m=\u001b[39m basic_gm\u001b[39m.\u001b[39;49mdistribution\u001b[39m.\u001b[39;49mppf(\u001b[39m0.05\u001b[39;49m, nu)\n\u001b[0;32m     <a href='vscode-notebook-cell:/c%3A/Users/jdamodhar/Desktop/python_essential/DataCamp-ds-deloitte-master/00-A/89-GARCH%20Models%20in%20Python/04%20GARCH%20in%20Action.ipynb#W1sZmlsZQ%3D%3D?line=14'>15</a>\u001b[0m \u001b[39mprint\u001b[39m(\u001b[39m'\u001b[39m\u001b[39m5\u001b[39m\u001b[39m%\u001b[39m\u001b[39m parametric quantile: \u001b[39m\u001b[39m'\u001b[39m, q_parametric)\n\u001b[0;32m     <a href='vscode-notebook-cell:/c%3A/Users/jdamodhar/Desktop/python_essential/DataCamp-ds-deloitte-master/00-A/89-GARCH%20Models%20in%20Python/04%20GARCH%20in%20Action.ipynb#W1sZmlsZQ%3D%3D?line=15'>16</a>\u001b[0m variance_forecast \u001b[39m=\u001b[39m basic_gm_result\u001b[39m.\u001b[39mforecast(horizon \u001b[39m=\u001b[39m \u001b[39m1\u001b[39m)\u001b[39m.\u001b[39mvariance\n",
      "File \u001b[1;32mc:\\Users\\jdamodhar\\AppData\\Local\\Programs\\Python\\Python311\\Lib\\site-packages\\arch\\univariate\\distribution.py:484\u001b[0m, in \u001b[0;36mNormal.ppf\u001b[1;34m(self, pits, parameters)\u001b[0m\n\u001b[0;32m    479\u001b[0m \u001b[39mdef\u001b[39;00m \u001b[39mppf\u001b[39m(\n\u001b[0;32m    480\u001b[0m     \u001b[39mself\u001b[39m,\n\u001b[0;32m    481\u001b[0m     pits: \u001b[39mfloat\u001b[39m \u001b[39m|\u001b[39m Sequence[\u001b[39mfloat\u001b[39m] \u001b[39m|\u001b[39m ArrayLike1D,\n\u001b[0;32m    482\u001b[0m     parameters: \u001b[39mNone\u001b[39;00m \u001b[39m|\u001b[39m Sequence[\u001b[39mfloat\u001b[39m] \u001b[39m|\u001b[39m ArrayLike1D \u001b[39m=\u001b[39m \u001b[39mNone\u001b[39;00m,\n\u001b[0;32m    483\u001b[0m ) \u001b[39m-\u001b[39m\u001b[39m>\u001b[39m Float64Array:\n\u001b[1;32m--> 484\u001b[0m     \u001b[39mself\u001b[39;49m\u001b[39m.\u001b[39;49m_check_constraints(parameters)\n\u001b[0;32m    485\u001b[0m     scalar \u001b[39m=\u001b[39m isscalar(pits)\n\u001b[0;32m    486\u001b[0m     \u001b[39mif\u001b[39;00m scalar:\n",
      "File \u001b[1;32mc:\\Users\\jdamodhar\\AppData\\Local\\Programs\\Python\\Python311\\Lib\\site-packages\\arch\\univariate\\distribution.py:99\u001b[0m, in \u001b[0;36mDistribution._check_constraints\u001b[1;34m(self, parameters)\u001b[0m\n\u001b[0;32m     97\u001b[0m     params \u001b[39m=\u001b[39m empty(\u001b[39m0\u001b[39m)\n\u001b[0;32m     98\u001b[0m \u001b[39mif\u001b[39;00m nparams \u001b[39m!=\u001b[39m \u001b[39mlen\u001b[39m(bounds):\n\u001b[1;32m---> 99\u001b[0m     \u001b[39mraise\u001b[39;00m \u001b[39mValueError\u001b[39;00m(\u001b[39mf\u001b[39m\u001b[39m\"\u001b[39m\u001b[39mparameters must have \u001b[39m\u001b[39m{\u001b[39;00m\u001b[39mlen\u001b[39m(bounds)\u001b[39m}\u001b[39;00m\u001b[39m elements\u001b[39m\u001b[39m\"\u001b[39m)\n\u001b[0;32m    100\u001b[0m \u001b[39mif\u001b[39;00m \u001b[39mlen\u001b[39m(bounds) \u001b[39m==\u001b[39m \u001b[39m0\u001b[39m:\n\u001b[0;32m    101\u001b[0m     \u001b[39mreturn\u001b[39;00m empty(\u001b[39m0\u001b[39m)\n",
      "\u001b[1;31mValueError\u001b[0m: parameters must have 0 elements"
     ]
    }
   ],
   "source": [
    "bitcoin_data = pd.read_csv('./bitcoin.csv', index_col = 'Date', parse_dates = True)\n",
    "basic_gm = arch_model(bitcoin_data.Return, mean = 'ar', vol = 'GARCH', p = 1, q = 1)\n",
    "basic_gm_result = basic_gm.fit()\n",
    "nu = basic_gm_result.params[3]\n",
    "nu = 3.01\n",
    "# Obtain the parametric quantile\n",
    "from arch import arch_model\n",
    "from arch.univariate import Normal\n",
    "\n",
    "# Initialize GARCH model with Normal distribution\n",
    "basic_gm = arch_model(bitcoin_data.Return, mean='constant', vol='GARCH', p=1, q=1, dist='normal')\n",
    "\n",
    "basic_gm_result = basic_gm.fit()\n",
    "q_parametric = basic_gm.distribution.ppf(0.05, nu)\n",
    "print('5% parametric quantile: ', q_parametric)\n",
    "variance_forecast = basic_gm_result.forecast(horizon = 1).variance\n",
    "mean_forecast = basic_gm_result.forecast(horizon = 1).mean\n",
    "# Calculate the VaR\n",
    "VaR_parametric = mean_forecast.values + np.sqrt(variance_forecast).values * q_parametric\n",
    "# Save VaR in a DataFrame\n",
    "VaR_parametric = pd.DataFrame(VaR_parametric, columns = ['5%'], index = variance_forecast.index)\n",
    "\n",
    "# Plot the VaR\n",
    "plt.plot(VaR_parametric, color = 'red', label = '5% Parametric VaR')\n",
    "plt.scatter(variance_forecast.index,bitcoin_data.Return['2019-1-1':], color = 'orange', label = 'Bitcoin Daily Returns' )\n",
    "plt.legend(loc = 'upper right')\n",
    "plt.show()"
   ]
  },
  {
   "cell_type": "code",
   "execution_count": 23,
   "metadata": {},
   "outputs": [
    {
     "name": "stdout",
     "output_type": "stream",
     "text": [
      "5% empirical quantile:  -1.5458246334180263\n"
     ]
    },
    {
     "ename": "TypeError",
     "evalue": "Normal.ppf() missing 1 required positional argument: 'pits'",
     "output_type": "error",
     "traceback": [
      "\u001b[1;31m---------------------------------------------------------------------------\u001b[0m",
      "\u001b[1;31mTypeError\u001b[0m                                 Traceback (most recent call last)",
      "\u001b[1;32mc:\\Users\\jdamodhar\\Desktop\\python_essential\\DataCamp-ds-deloitte-master\\00-A\\89-GARCH Models in Python\\04 GARCH in Action.ipynb Cell 5\u001b[0m line \u001b[0;36m7\n\u001b[0;32m      <a href='vscode-notebook-cell:/c%3A/Users/jdamodhar/Desktop/python_essential/DataCamp-ds-deloitte-master/00-A/89-GARCH%20Models%20in%20Python/04%20GARCH%20in%20Action.ipynb#W4sZmlsZQ%3D%3D?line=4'>5</a>\u001b[0m mean_forecast \u001b[39m=\u001b[39m basic_gm_result\u001b[39m.\u001b[39mforecast(horizon \u001b[39m=\u001b[39m \u001b[39m1\u001b[39m)\u001b[39m.\u001b[39mmean\n\u001b[0;32m      <a href='vscode-notebook-cell:/c%3A/Users/jdamodhar/Desktop/python_essential/DataCamp-ds-deloitte-master/00-A/89-GARCH%20Models%20in%20Python/04%20GARCH%20in%20Action.ipynb#W4sZmlsZQ%3D%3D?line=5'>6</a>\u001b[0m variance_forecast \u001b[39m=\u001b[39m basic_gm_result\u001b[39m.\u001b[39mforecast(horizon \u001b[39m=\u001b[39m \u001b[39m1\u001b[39m)\u001b[39m.\u001b[39mvariance\n\u001b[1;32m----> <a href='vscode-notebook-cell:/c%3A/Users/jdamodhar/Desktop/python_essential/DataCamp-ds-deloitte-master/00-A/89-GARCH%20Models%20in%20Python/04%20GARCH%20in%20Action.ipynb#W4sZmlsZQ%3D%3D?line=6'>7</a>\u001b[0m q_parametric \u001b[39m=\u001b[39m basic_gm\u001b[39m.\u001b[39;49mdistribution\u001b[39m.\u001b[39;49mppf()\n\u001b[0;32m      <a href='vscode-notebook-cell:/c%3A/Users/jdamodhar/Desktop/python_essential/DataCamp-ds-deloitte-master/00-A/89-GARCH%20Models%20in%20Python/04%20GARCH%20in%20Action.ipynb#W4sZmlsZQ%3D%3D?line=7'>8</a>\u001b[0m VaR_parametric \u001b[39m=\u001b[39m mean_forecast\u001b[39m.\u001b[39mvalues \u001b[39m+\u001b[39m np\u001b[39m.\u001b[39msqrt(variance_forecast)\u001b[39m.\u001b[39mvalues \u001b[39m*\u001b[39m q_parametric\n\u001b[0;32m      <a href='vscode-notebook-cell:/c%3A/Users/jdamodhar/Desktop/python_essential/DataCamp-ds-deloitte-master/00-A/89-GARCH%20Models%20in%20Python/04%20GARCH%20in%20Action.ipynb#W4sZmlsZQ%3D%3D?line=8'>9</a>\u001b[0m \u001b[39m# Calculate the VaR\u001b[39;00m\n",
      "\u001b[1;31mTypeError\u001b[0m: Normal.ppf() missing 1 required positional argument: 'pits'"
     ]
    }
   ],
   "source": [
    "std_resid = basic_gm_result.resid / basic_gm_result.conditional_volatility\n",
    "# Obtain the empirical quantile\n",
    "q_empirical = std_resid.quantile(0.05)\n",
    "print('5% empirical quantile: ', q_empirical)\n",
    "mean_forecast = basic_gm_result.forecast(horizon = 1).mean\n",
    "variance_forecast = basic_gm_result.forecast(horizon = 1).variance\n",
    "q_parametric = basic_gm.distribution.ppf(0.05, nu)\n",
    "VaR_parametric = mean_forecast.values + np.sqrt(variance_forecast).values * q_parametric\n",
    "# Calculate the VaR\n",
    "VaR_empirical = mean_forecast.values + np.sqrt(variance_forecast).values * q_empirical\n",
    "# Save VaR in a DataFrame\n",
    "VaR_empirical = pd.DataFrame(VaR_empirical, columns = ['5%'], index = variance_forecast.index)\n",
    "\n",
    "# Plot the VaRs\n",
    "plt.plot(VaR_empirical, color = 'brown', label = '5% Empirical VaR')\n",
    "plt.plot(VaR_parametric, color = 'red', label = '5% Parametric VaR')\n",
    "plt.scatter(variance_forecast.index,bitcoin_data.Return['2019-1-1':], color = 'orange', label = 'Bitcoin Daily Returns' )\n",
    "plt.legend(loc = 'upper right')\n",
    "plt.show()"
   ]
  },
  {
   "cell_type": "code",
   "execution_count": 25,
   "metadata": {},
   "outputs": [],
   "source": [
    "eur_usd_data = pd.read_csv('./eur.csv', index_col = 'Date', parse_dates = True)\n",
    "usd_cad_data = pd.read_csv('./eur.csv', index_col = 'Date', parse_dates = True)"
   ]
  },
  {
   "cell_type": "code",
   "execution_count": 26,
   "metadata": {},
   "outputs": [
    {
     "name": "stdout",
     "output_type": "stream",
     "text": [
      "Correlation:  1.0\n"
     ]
    },
    {
     "data": {
      "image/png": "[encoded data removed]",
      "text/plain": [
       "<Figure size 640x480 with 1 Axes>"
      ]
     },
     "metadata": {},
     "output_type": "display_data"
    }
   ],
   "source": [
    "resid_eur = eur_usd_data.Return['2019-1-1':]\n",
    "resid_cad = usd_cad_data.Return['2019-1-1':]\n",
    "# Calculate correlation\n",
    "corr = np.corrcoef(resid_eur, resid_cad)[0,1]\n",
    "print('Correlation: ', corr)\n",
    "vol_eur = np.sqrt(np.mean(resid_eur**2))\n",
    "vol_cad = np.sqrt(np.mean(resid_cad**2))\n",
    "# Calculate GARCH covariance\n",
    "covariance =  corr * vol_eur * vol_cad\n",
    "\n",
    "# Plot the data\n",
    "plt.plot(covariance, color = 'gold')\n",
    "plt.title('GARCH Covariance')\n",
    "plt.show()"
   ]
  },
  {
   "cell_type": "code",
   "execution_count": 27,
   "metadata": {},
   "outputs": [
    {
     "data": {
      "image/png": "[encoded data removed]",
      "text/plain": [
       "<Figure size 640x480 with 1 Axes>"
      ]
     },
     "metadata": {},
     "output_type": "display_data"
    }
   ],
   "source": [
    "# Define weights\n",
    "Wa1 = 0.9\n",
    "Wa2 = 1 - Wa1\n",
    "Wb1 = 0.5\n",
    "Wb2 = 1 - Wb1\n",
    "variance_eur = np.mean(resid_eur**2)\n",
    "variance_cad = np.mean(resid_cad**2)\n",
    "# Calculate portfolio variance\n",
    "portvar_a = Wa1**2 * variance_eur + Wa2**2 * variance_cad + 2*Wa1*Wa2*covariance\n",
    "portvar_b = Wb1**2 * variance_eur + Wb2**2 * variance_cad + 2*Wb1*Wb2*covariance\n",
    "\n",
    "# Plot the data\n",
    "plt.plot(portvar_a, color = 'green', label = 'Portfolio a')\n",
    "plt.plot(portvar_b, color = 'deepskyblue', label = 'Portfolio b')\n",
    "plt.legend(loc = 'upper right')\n",
    "plt.show()"
   ]
  },
  {
   "cell_type": "code",
   "execution_count": null,
   "metadata": {},
   "outputs": [],
   "source": [
    "# Compute correlation between SP500 and Tesla\n",
    "correlation = np.corrcoef(teslaGarch_resid, spGarch_resid)[0, 1]\n",
    "\n",
    "# Compute the Beta for Tesla\n",
    "stock_beta = correlation * (teslaGarch_vol / spGarch_vol)\n",
    "\n",
    "# Plot the Beta\n",
    "plt.title('Tesla Stock Beta')\n",
    "plt.plot(stock_beta)\n",
    "plt.show()"
   ]
  }
 ],
 "metadata": {
  "kernelspec": {
   "display_name": "Python 3",
   "language": "python",
   "name": "python3"
  },
  "language_info": {
   "codemirror_mode": {
    "name": "ipython",
    "version": 3
   },
   "file_extension": ".py",
   "mimetype": "text/x-python",
   "name": "python",
   "nbconvert_exporter": "python",
   "pygments_lexer": "ipython3",
   "version": "3.11.6"
  }
 },
 "nbformat": 4,
 "nbformat_minor": 2
}
