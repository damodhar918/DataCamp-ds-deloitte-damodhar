{
  "cells": [
    {
      "cell_type": "markdown",
      "metadata": {
        "id": "xuh8bTQcuyWr"
      },
      "source": [
        "# Profiling and Timing Code"
      ]
    },
    {
      "cell_type": "markdown",
      "metadata": {
        "id": "HEmLaXgCuyWu"
      },
      "source": [
        "In the process of developing code and creating data processing pipelines, there are often trade-offs you can make between various implementations.\n",
        "Early in developing your algorithm, it can be counterproductive to worry about such things. As Donald Knuth famously quipped, \"We should forget about small efficiencies, say about 97% of the time: premature optimization is the root of all evil.\"\n",
        "\n",
        "But once you have your code working, it can be useful to dig into its efficiency a bit.\n",
        "Sometimes it's useful to check the execution time of a given command or set of commands; other times it's useful to examine a multiline process and determine where the bottleneck lies in some complicated series of operations.\n",
        "IPython provides access to a wide array of functionality for this kind of timing and profiling of code.\n",
        "Here we'll discuss the following IPython magic commands:\n",
        "\n",
        "- `%time`: Time the execution of a single statement\n",
        "- `%timeit`: Time repeated execution of a single statement for more accuracy\n",
        "- `%prun`: Run code with the profiler\n",
        "- `%lprun`: Run code with the line-by-line profiler\n",
        "- `%memit`: Measure the memory use of a single statement\n",
        "- `%mprun`: Run code with the line-by-line memory profiler\n",
        "\n",
        "The last four commands are not bundled with IPython; to use them you'll need to get the `line_profiler` and `memory_profiler` extensions, which we will discuss in the following sections."
      ]
    },
    {
      "cell_type": "markdown",
      "metadata": {
        "id": "n0AONWAwuyWv"
      },
      "source": [
        "## Timing Code Snippets: %timeit and %time\n",
        "\n",
        "We saw the `%timeit` line magic and `%%timeit` cell magic in the introduction to magic functions in [IPython Magic Commands](01.03-Magic-Commands.ipynb); these can be used to time the repeated execution of snippets of code:"
      ]
    },
    {
      "cell_type": "code",
      "execution_count": 2,
      "metadata": {
        "id": "36E74ifquyWv",
        "outputId": "4d800907-6287-4532-df05-69b16f71dd73"
      },
      "outputs": [
        {
          "name": "stdout",
          "output_type": "stream",
          "text": [
            "1.52 µs ± 57.5 ns per loop (mean ± std. dev. of 7 runs, 1000000 loops each)\n"
          ]
        }
      ],
      "source": [
        "%timeit sum(range(100))"
      ]
    },
    {
      "cell_type": "markdown",
      "metadata": {
        "id": "t-PfXCafuyWx"
      },
      "source": [
        "Note that because this operation is so fast, `%timeit` automatically does a large number of repetitions.\n",
        "For slower commands, `%timeit` will automatically adjust and perform fewer repetitions:"
      ]
    },
    {
      "cell_type": "code",
      "execution_count": 3,
      "metadata": {
        "id": "583DEY63uyWx",
        "outputId": "d0c716b4-dcf2-49b4-995e-e629f1e8f818"
      },
      "outputs": [
        {
          "name": "stdout",
          "output_type": "stream",
          "text": [
            "465 ms ± 6.59 ms per loop (mean ± std. dev. of 7 runs, 1 loop each)\n"
          ]
        }
      ],
      "source": [
        "%%timeit\n",
        "total = 0\n",
        "for i in range(1000):\n",
        "    for j in range(1000):\n",
        "        total += i * (-1) ** j"
      ]
    },
    {
      "cell_type": "markdown",
      "metadata": {
        "id": "PtcxaJ0KuyWy"
      },
      "source": [
        "Sometimes repeating an operation is not the best option.\n",
        "For example, if we have a list that we'd like to sort, we might be misled by a repeated operation; sorting a pre-sorted list is much faster than sorting an unsorted list, so the repetition will skew the result:"
      ]
    },
    {
      "cell_type": "code",
      "execution_count": 4,
      "metadata": {
        "id": "B7MxrNaOuyWy",
        "outputId": "ddecf661-baf7-429d-db90-e83b4f57d51c"
      },
      "outputs": [
        {
          "name": "stdout",
          "output_type": "stream",
          "text": [
            "1.13 ms ± 92 µs per loop (mean ± std. dev. of 7 runs, 1000 loops each)\n"
          ]
        }
      ],
      "source": [
        "import random\n",
        "L = [random.random() for i in range(100000)]\n",
        "%timeit L.sort()"
      ]
    },
    {
      "cell_type": "markdown",
      "metadata": {
        "id": "RyKn6aFGuyWz"
      },
      "source": [
        "For this, the `%time` magic function may be a better choice. It also is a good choice for longer-running commands, when short, system-related delays are unlikely to affect the result.\n",
        "Let's time the sorting of an unsorted and a presorted list:"
      ]
    },
    {
      "cell_type": "code",
      "execution_count": 5,
      "metadata": {
        "id": "yuGedGBPuyWz",
        "outputId": "3f85f702-4791-4ada-b102-03577a203106"
      },
      "outputs": [
        {
          "name": "stdout",
          "output_type": "stream",
          "text": [
            "sorting an unsorted list:\n",
            "Wall time: 32 ms\n"
          ]
        }
      ],
      "source": [
        "import random\n",
        "L = [random.random() for i in range(100000)]\n",
        "print(\"sorting an unsorted list:\")\n",
        "%time L.sort()"
      ]
    },
    {
      "cell_type": "code",
      "execution_count": 6,
      "metadata": {
        "id": "K81t3WuGuyWz",
        "outputId": "ac118ad7-3d21-43b7-c292-c08d448fb3f4"
      },
      "outputs": [
        {
          "name": "stdout",
          "output_type": "stream",
          "text": [
            "sorting an already sorted list:\n",
            "Wall time: 0 ns\n"
          ]
        }
      ],
      "source": [
        "print(\"sorting an already sorted list:\")\n",
        "%time L.sort()"
      ]
    },
    {
      "cell_type": "markdown",
      "metadata": {
        "id": "umyRorLwuyWz"
      },
      "source": [
        "Notice how much faster the presorted list is to sort, but notice also how much longer the timing takes with `%time` versus `%timeit`, even for the presorted list!\n",
        "This is a result of the fact that `%timeit` does some clever things under the hood to prevent system calls from interfering with the timing.\n",
        "For example, it prevents cleanup of unused Python objects (known as *garbage collection*) that might otherwise affect the timing.\n",
        "For this reason, `%timeit` results are usually noticeably faster than `%time` results.\n",
        "\n",
        "For `%time`, as with `%timeit`, using the `%%` cell magic syntax allows timing of multiline scripts:"
      ]
    },
    {
      "cell_type": "code",
      "execution_count": 7,
      "metadata": {
        "id": "m8nXXRS4uyW0",
        "outputId": "c36e864e-6aaf-4837-afef-c9ff75fe835c"
      },
      "outputs": [
        {
          "name": "stdout",
          "output_type": "stream",
          "text": [
            "Wall time: 716 ms\n"
          ]
        }
      ],
      "source": [
        "%%time\n",
        "total = 0\n",
        "for i in range(1000):\n",
        "    for j in range(1000):\n",
        "        total += i * (-1) ** j"
      ]
    },
    {
      "cell_type": "markdown",
      "metadata": {
        "id": "MhGsfLVPuyW0"
      },
      "source": [
        "For more information on `%time` and `%timeit`, as well as their available options, use the IPython help functionality (e.g., type `%time?` at the IPython prompt)."
      ]
    },
    {
      "cell_type": "markdown",
      "metadata": {
        "id": "PBPQ0wOwuyW0"
      },
      "source": [
        "## Profiling Full Scripts: %prun\n",
        "\n",
        "A program is made up of many single statements, and sometimes timing these statements in context is more important than timing them on their own.\n",
        "Python contains a built-in code profiler (which you can read about in the Python documentation), but IPython offers a much more convenient way to use this profiler, in the form of the magic function `%prun`.\n",
        "\n",
        "By way of example, we'll define a simple function that does some calculations:"
      ]
    },
    {
      "cell_type": "markdown",
      "metadata": {
        "id": "Zd1eD9XguyW1"
      },
      "source": []
    },
    {
      "cell_type": "code",
      "execution_count": 8,
      "metadata": {
        "id": "LFBZdlSKuyW1"
      },
      "outputs": [],
      "source": [
        "def sum_of_lists(N):\n",
        "    total = 0\n",
        "    for i in range(5):\n",
        "        L = [j ^ (j >> i) for j in range(N)]\n",
        "        total += sum(L)\n",
        "    return total"
      ]
    },
    {
      "cell_type": "markdown",
      "metadata": {
        "id": "5BR83f6juyW1"
      },
      "source": [
        "Now we can call `%prun` with a function call to see the profiled results:"
      ]
    },
    {
      "cell_type": "code",
      "execution_count": 9,
      "metadata": {
        "id": "afgz90PPuyW1",
        "outputId": "9cbd66fe-ff67-49b0-a1cf-39798a488f1f"
      },
      "outputs": [
        {
          "name": "stdout",
          "output_type": "stream",
          "text": [
            " "
          ]
        },
        {
          "name": "stdout",
          "output_type": "stream",
          "text": [
            "         14 function calls in 1.267 seconds\n",
            "\n",
            "   Ordered by: internal time\n",
            "\n",
            "   ncalls  tottime  percall  cumtime  percall filename:lineno(function)\n",
            "        5    1.017    0.203    1.017    0.203 3519952779.py:4(<listcomp>)\n",
            "        5    0.191    0.038    0.191    0.038 {built-in method builtins.sum}\n",
            "        1    0.047    0.047    1.255    1.255 3519952779.py:1(sum_of_lists)\n",
            "        1    0.012    0.012    1.267    1.267 <string>:1(<module>)\n",
            "        1    0.000    0.000    1.267    1.267 {built-in method builtins.exec}\n",
            "        1    0.000    0.000    0.000    0.000 {method 'disable' of '_lsprof.Profiler' objects}"
          ]
        }
      ],
      "source": [
        "%prun sum_of_lists(1000000)"
      ]
    },
    {
      "cell_type": "markdown",
      "metadata": {
        "id": "HjTPSc-ouyW1"
      },
      "source": [
        "The result is a table that indicates, in order of total time on each function call, where the execution is spending the most time. In this case, the bulk of the execution time is in the list comprehension inside `sum_of_lists`.\n",
        "From here, we could start thinking about what changes we might make to improve the performance of the algorithm.\n",
        "\n",
        "For more information on `%prun`, as well as its available options, use the IPython help functionality (i.e., type `%prun?` at the IPython prompt)."
      ]
    },
    {
      "cell_type": "markdown",
      "metadata": {
        "id": "yjhLra1KuyW2"
      },
      "source": [
        "## Line-by-Line Profiling with %lprun\n",
        "\n",
        "The function-by-function profiling of `%prun` is useful, but sometimes it's more convenient to have a line-by-line profile report.\n",
        "This is not built into Python or IPython, but there is a `line_profiler` package available for installation that can do this.\n",
        "Start by using Python's packaging tool, `pip`, to install the `line_profiler` package:\n",
        "\n",
        "```\n",
        "$ pip install line_profiler\n",
        "```\n",
        "\n",
        "Next, you can use IPython to load the `line_profiler` IPython extension, offered as part of this package:"
      ]
    },
    {
      "cell_type": "code",
      "execution_count": 10,
      "metadata": {
        "id": "TH6w-oJquyW2"
      },
      "outputs": [],
      "source": [
        "%load_ext line_profiler"
      ]
    },
    {
      "cell_type": "markdown",
      "metadata": {
        "id": "cwzZhRhPuyW2"
      },
      "source": [
        "Now the `%lprun` command will do a line-by-line profiling of any function. In this case, we need to tell it explicitly which functions we're interested in profiling:"
      ]
    },
    {
      "cell_type": "code",
      "execution_count": 11,
      "metadata": {
        "id": "_-H-4SFZuyW2",
        "outputId": "d75afa13-8540-469f-df62-086caf93051a"
      },
      "outputs": [
        {
          "name": "stdout",
          "output_type": "stream",
          "text": [
            "Timer unit: 1e-07 s\n",
            "\n",
            "Total time: 0.0138717 s\n",
            "\n",
            "Could not find file C:\\Users\\JDAMOD~1\\AppData\\Local\\Temp/ipykernel_33056/3519952779.py\n",
            "Are you sure you are running this program from the same directory\n",
            "that you ran the profiler from?\n",
            "Continuing without the function's contents.\n",
            "\n",
            "Line #      Hits         Time  Per Hit   % Time  Line Contents\n",
            "==============================================================\n",
            "     1                                           \n",
            "     2         1         26.0     26.0      0.0  \n",
            "     3         6        102.0     17.0      0.1  \n",
            "     4         5     134400.0  26880.0     96.9  \n",
            "     5         5       4184.0    836.8      3.0  \n",
            "     6         1          5.0      5.0      0.0"
          ]
        }
      ],
      "source": [
        "%lprun -f sum_of_lists sum_of_lists(5000)"
      ]
    },
    {
      "cell_type": "markdown",
      "metadata": {
        "id": "QRcFnTacuyW2"
      },
      "source": [
        "The information at the top gives us the key to reading the results: the time is reported in microseconds, and we can see where the program is spending the most time.\n",
        "At this point, we may be able to use this information to modify aspects of the script and make it perform better for our desired use case.\n",
        "\n",
        "For more information on `%lprun`, as well as its available options, use the IPython help functionality (i.e., type `%lprun?` at the IPython prompt)."
      ]
    },
    {
      "cell_type": "markdown",
      "metadata": {
        "id": "QvK_P0mhuyW3"
      },
      "source": [
        "## Profiling Memory Use: %memit and %mprun\n",
        "\n",
        "Another aspect of profiling is the amount of memory an operation uses.\n",
        "This can be evaluated with another IPython extension, the `memory_profiler`.\n",
        "As with the `line_profiler`, we start by `pip`-installing the extension:\n",
        "\n",
        "```\n",
        "$ pip install memory_profiler\n",
        "```\n",
        "\n",
        "Then we can use IPython to load it:"
      ]
    },
    {
      "cell_type": "code",
      "execution_count": 12,
      "metadata": {
        "id": "FKl1EDvSuyW3"
      },
      "outputs": [],
      "source": [
        "%load_ext memory_profiler"
      ]
    },
    {
      "cell_type": "markdown",
      "metadata": {
        "id": "qjp4fjLiuyW3"
      },
      "source": [
        "The memory profiler extension contains two useful magic functions: `%memit` (which offers a memory-measuring equivalent of `%timeit`) and `%mprun` (which offers a memory-measuring equivalent of `%lprun`).\n",
        "The `%memit` magic function can be used rather simply:"
      ]
    },
    {
      "cell_type": "code",
      "execution_count": 13,
      "metadata": {
        "id": "WTF7d3VKuyW3",
        "outputId": "2d5d60b5-dc00-4dc5-9bc5-482eb559b95a"
      },
      "outputs": [
        {
          "name": "stdout",
          "output_type": "stream",
          "text": [
            "peak memory: 159.18 MiB, increment: 73.59 MiB\n"
          ]
        }
      ],
      "source": [
        "%memit sum_of_lists(1000000)"
      ]
    },
    {
      "cell_type": "markdown",
      "metadata": {
        "id": "gLKOD2XIuyW4"
      },
      "source": [
        "We see that this function uses about 140 MB of memory.\n",
        "\n",
        "For a line-by-line description of memory use, we can use the `%mprun` magic function.\n",
        "Unfortunately, this works only for functions defined in separate modules rather than the notebook itself, so we'll start by using the `%%file` cell magic to create a simple module called `mprun_demo.py`, which contains our `sum_of_lists` function, with one addition that will make our memory profiling results more clear:"
      ]
    },
    {
      "cell_type": "code",
      "execution_count": 14,
      "metadata": {
        "id": "sQGIOKGKuyW4",
        "outputId": "653416d5-d475-4839-9e92-f0d579941e56"
      },
      "outputs": [
        {
          "name": "stdout",
          "output_type": "stream",
          "text": [
            "Overwriting mprun_demo.py\n"
          ]
        }
      ],
      "source": [
        "%%file mprun_demo.py\n",
        "def sum_of_lists(N):\n",
        "    total = 0\n",
        "    for i in range(5):\n",
        "        L = [j ^ (j >> i) for j in range(N)]\n",
        "        total += sum(L)\n",
        "        del L # remove reference to L\n",
        "    return total"
      ]
    },
    {
      "cell_type": "markdown",
      "metadata": {
        "id": "80FLOAvLuyW4"
      },
      "source": [
        "We can now import the new version of this function and run the memory line profiler:"
      ]
    },
    {
      "cell_type": "code",
      "execution_count": 15,
      "metadata": {
        "id": "3ptHuAk2uyW4",
        "outputId": "32f8c24e-811f-4fc8-e28b-1c6632374215"
      },
      "outputs": [
        {
          "name": "stdout",
          "output_type": "stream",
          "text": [
            "\n"
          ]
        },
        {
          "name": "stdout",
          "output_type": "stream",
          "text": [
            "Filename: c:\\Users\\jdamodhar\\Desktop\\python_essential-\\DataCamp-ds-deloitte-master\\00-A\\14-Writing Efficient Python Code\\mprun_demo.py\n",
            "\n",
            "Line #    Mem usage    Increment  Occurrences   Line Contents\n",
            "=============================================================\n",
            "     1     87.3 MiB     87.3 MiB           1   def sum_of_lists(N):\n",
            "     2     87.3 MiB      0.0 MiB           1       total = 0\n",
            "     3     87.3 MiB     -1.6 MiB           6       for i in range(5):\n",
            "     4    121.6 MiB -58567670.1 MiB     5000015           L = [j ^ (j >> i) for j in range(N)]\n",
            "     5    121.6 MiB     -0.1 MiB           5           total += sum(L)\n",
            "     6     87.3 MiB   -146.4 MiB           5           del L # remove reference to L\n",
            "     7     86.9 MiB     -0.4 MiB           1       return total"
          ]
        }
      ],
      "source": [
        "from mprun_demo import sum_of_lists\n",
        "%mprun -f sum_of_lists sum_of_lists(1000000)"
      ]
    },
    {
      "cell_type": "markdown",
      "metadata": {
        "id": "8rTrROXMuyW5"
      },
      "source": [
        "Here, the `Increment` column tells us how much each line affects the total memory budget: observe that when we create and delete the list `L`, we are adding about 30 MB of memory usage.\n",
        "This is on top of the background memory usage from the Python interpreter itself.\n",
        "\n",
        "For more information on `%memit` and `%mprun`, as well as their available options, use the IPython help functionality (e.g., type `%memit?` at the IPython prompt)."
      ]
    }
  ],
  "metadata": {
    "anaconda-cloud": {},
    "colab": {
      "provenance": []
    },
    "jupytext": {
      "formats": "ipynb,md"
    },
    "kernelspec": {
      "display_name": "Python 3",
      "language": "python",
      "name": "python3"
    },
    "language_info": {
      "codemirror_mode": {
        "name": "ipython",
        "version": 3
      },
      "file_extension": ".py",
      "mimetype": "text/x-python",
      "name": "python",
      "nbconvert_exporter": "python",
      "pygments_lexer": "ipython3",
      "version": "3.10.5"
    }
  },
  "nbformat": 4,
  "nbformat_minor": 0
}
