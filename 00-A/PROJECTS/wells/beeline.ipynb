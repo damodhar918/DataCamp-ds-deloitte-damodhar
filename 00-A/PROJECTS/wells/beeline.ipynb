{
 "cells": [
  {
   "cell_type": "code",
   "execution_count": null,
   "metadata": {},
   "outputs": [],
   "source": [
    "\n",
    "import os\n",
    "import subprocess\n",
    "\n",
    "# Read tables list from tables.txt file\n",
    "with open(\"tables.txt\", \"r\") as f:\n",
    "    tables_list = f.read().splitlines()\n",
    "\n",
    "# Read databases list from databases.txt file\n",
    "with open(\"databases.txt\", \"r\") as f:\n",
    "    databases_list = f.read().splitlines()\n",
    "\n",
    "# Connect to Hive using Beeline tool\n",
    "connection_string = \"jdbc:hive2://<hive_server>:<port>\"\n",
    "username = \"<username>\"\n",
    "password = \"<password>\"\n",
    "beeline_cmd = \"beeline -u '%s' --silent=true --showHeader=false --outputformat=csv2 -n %s -p %s\" % (connection_string, username, password)\n",
    "\n",
    "# Define queries to retrieve table information\n",
    "metadata_query = \"DESCRIBE %s.%s;\"\n",
    "count_query = \"SELECT COUNT(*) FROM %s.%s;\"\n",
    "\n",
    "# Retrieve table information for each table in tables list and database in databases list\n",
    "for database_name in databases_list:\n",
    "    for table_name in tables_list:\n",
    "        # Retrieve metadata for current table and database\n",
    "        process = subprocess.Popen(beeline_cmd + metadata_query % (database_name, table_name), stdout=subprocess.PIPE, shell=True)\n",
    "        output, error = process.communicate()\n",
    "        metadata_rows = output.decode().splitlines()\n",
    "        \n",
    "        # Extract columns names and number of columns\n",
    "        columns_list = []\n",
    "        for row in metadata_rows:\n",
    "            column_name = row.split(\"\\t\")[0]\n",
    "            if column_name != \"\":\n",
    "                columns_list.append(column_name)\n",
    "        num_columns = len(columns_list)\n",
    "        \n",
    "        # Retrieve number of records\n",
    "        process = subprocess.Popen(beeline_cmd + count_query % (database_name, table_name), stdout=subprocess.PIPE, shell=True)\n",
    "        output, error = process.communicate()\n",
    "        num_records = int(output.decode().splitlines()[1])\n",
    "        \n",
    "        # Print table information\n",
    "        print(\"TABLE: %s.%s\" % (database_name, table_name))\n",
    "        print(\"Number of Columns: %d\" % num_columns)\n",
    "        print(\"Number of Records: %d\" % num_records)\n",
    "        print(\"Column Names: %s\" % \",\".join(columns_list))\n",
    "        print(\"=======================================\")\n"
   ]
  }
 ],
 "metadata": {
  "language_info": {
   "name": "python"
  }
 },
 "nbformat": 4,
 "nbformat_minor": 2
}
