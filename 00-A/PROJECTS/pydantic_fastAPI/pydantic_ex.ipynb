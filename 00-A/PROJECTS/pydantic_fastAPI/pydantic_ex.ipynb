{
 "cells": [
  {
   "cell_type": "code",
   "execution_count": null,
   "metadata": {},
   "outputs": [],
   "source": [
    "# !pip install sqlalchemy pydantic\n"
   ]
  },
  {
   "cell_type": "code",
   "execution_count": 3,
   "metadata": {},
   "outputs": [],
   "source": [
    "from sqlalchemy import create_engine, Column, Integer, String\n",
    "from sqlalchemy.orm import declarative_base\n",
    "\n",
    "Base = declarative_base()\n",
    "\n",
    "class User(Base):\n",
    "    __tablename__ = \"users\"\n",
    "\n",
    "    id = Column(Integer, primary_key=True, index=True)\n",
    "    name = Column(String, index=True)\n",
    "    email = Column(String, unique=True, index=True)\n"
   ]
  },
  {
   "cell_type": "code",
   "execution_count": 4,
   "metadata": {},
   "outputs": [],
   "source": [
    "engine = create_engine(\"sqlite:///example.db\")\n",
    "Base.metadata.create_all(engine)\n"
   ]
  },
  {
   "cell_type": "code",
   "execution_count": 7,
   "metadata": {},
   "outputs": [],
   "source": [
    "from pydantic import BaseModel\n",
    "\n",
    "class UserModel(BaseModel):\n",
    "    id: int\n",
    "    name: str\n",
    "    email: str\n",
    "\n",
    "    class Config:\n",
    "        # orm_mode = True\n",
    "        from_attributes = True\n"
   ]
  },
  {
   "cell_type": "code",
   "execution_count": 8,
   "metadata": {},
   "outputs": [
    {
     "name": "stdout",
     "output_type": "stream",
     "text": [
      "id=1 name='Alice' email='alice@example.com'\n"
     ]
    },
    {
     "name": "stderr",
     "output_type": "stream",
     "text": [
      "C:\\Users\\jdamodhar\\AppData\\Local\\Temp\\ipykernel_21160\\2568602994.py:17: PydanticDeprecatedSince20: The `from_orm` method is deprecated; set `model_config['from_attributes']=True` and use `model_validate` instead. Deprecated in Pydantic V2.0 to be removed in V3.0. See Pydantic V2 Migration Guide at https://errors.pydantic.dev/2.4/migration/\n",
      "  user_model = UserModel.from_orm(user)\n"
     ]
    }
   ],
   "source": [
    "from sqlalchemy.orm import Session\n",
    "\n",
    "# Create a new user\n",
    "new_user = User(name=\"Alice\", email=\"alice@example.com\")\n",
    "\n",
    "# Start a new session\n",
    "session = Session(engine)\n",
    "\n",
    "# Add the new user to the database\n",
    "session.add(new_user)\n",
    "session.commit()\n",
    "\n",
    "# Retrieve the user from the database\n",
    "user = session.query(User).filter(User.email == \"alice@example.com\").first()\n",
    "\n",
    "# Convert the SQLAlchemy model to a Pydantic model for serialization\n",
    "# user_model = UserModel.from_orm(user)\n",
    "\n",
    "# print(user_model)\n"
   ]
  },
  {
   "cell_type": "code",
   "execution_count": 10,
   "metadata": {},
   "outputs": [
    {
     "name": "stdout",
     "output_type": "stream",
     "text": [
      "id=1 name='Alice' email='alice@example.com'\n"
     ]
    }
   ],
   "source": [
    "from pydantic import ValidationError\n",
    "# Assuming you have a SQLAlchemy session and a User instance\n",
    "session = Session(engine)\n",
    "user = session.query(User).filter(User.email == \"alice@example.com\").first()\n",
    "\n",
    "# Use model_validate instead of from_orm\n",
    "try:\n",
    "    user_model = UserModel.model_validate(user.__dict__)\n",
    "    print(user_model)\n",
    "except ValidationError as e:\n",
    "    print(e)"
   ]
  },
  {
   "cell_type": "code",
   "execution_count": 11,
   "metadata": {},
   "outputs": [],
   "source": [
    "session.close()\n"
   ]
  }
 ],
 "metadata": {
  "kernelspec": {
   "display_name": "Python 3",
   "language": "python",
   "name": "python3"
  },
  "language_info": {
   "codemirror_mode": {
    "name": "ipython",
    "version": 3
   },
   "file_extension": ".py",
   "mimetype": "text/x-python",
   "name": "python",
   "nbconvert_exporter": "python",
   "pygments_lexer": "ipython3",
   "version": "3.11.6"
  }
 },
 "nbformat": 4,
 "nbformat_minor": 2
}
