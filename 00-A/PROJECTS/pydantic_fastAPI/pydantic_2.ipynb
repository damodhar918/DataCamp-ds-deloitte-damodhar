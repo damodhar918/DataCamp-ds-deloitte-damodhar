{
 "cells": [
  {
   "cell_type": "markdown",
   "metadata": {},
   "source": [
    "Step 1: Define the Database Schema"
   ]
  },
  {
   "cell_type": "code",
   "execution_count": 21,
   "metadata": {},
   "outputs": [],
   "source": [
    "from sqlalchemy import create_engine, Column, Integer, String, ForeignKey, Table\n",
    "# from sqlalchemy.ext.declarative import declarative_base\n",
    "from sqlalchemy.orm import declarative_base, relationship\n",
    "\n",
    "Base = declarative_base()\n",
    "\n",
    "\n",
    "\n",
    "# Association table for many-to-many relationship between books and tags\n",
    "book_tag_association = Table('book_tag', Base.metadata,\n",
    "    Column('book_id', Integer, ForeignKey('books.id')),\n",
    "    Column('tag_id', Integer, ForeignKey('tags.id'))\n",
    ")\n",
    "\n",
    "class Author(Base):\n",
    "    __tablename__ = 'authors'\n",
    "    id = Column(Integer, primary_key=True, index=True)\n",
    "    name = Column(String, index=True)\n",
    "    # Define the relationship from Author to Book\n",
    "    books = relationship(\"Book\", back_populates=\"author\")\n",
    "\n",
    "class Book(Base):\n",
    "    __tablename__ = 'books'\n",
    "    id = Column(Integer, primary_key=True, index=True)\n",
    "    title = Column(String, index=True)\n",
    "    author_id = Column(Integer, ForeignKey('authors.id'))\n",
    "    # Define the relationship from Book to Author\n",
    "    author = relationship(\"Author\", back_populates=\"books\")\n",
    "    tags = relationship('Tag', secondary=book_tag_association, back_populates='books')\n",
    "\n",
    "class Tag(Base):\n",
    "    __tablename__ = 'tags'\n",
    "    id = Column(Integer, primary_key=True, index=True)\n",
    "    name = Column(String, index=True)\n",
    "    books = relationship('Book', secondary=book_tag_association, back_populates='tags')\n",
    "\n",
    "\n",
    "# Create the database\n",
    "engine = create_engine(\"sqlite:///books.db\")\n",
    "Base.metadata.create_all(engine)\n"
   ]
  },
  {
   "cell_type": "markdown",
   "metadata": {},
   "source": [
    "Step 2: Define Pydantic Models"
   ]
  },
  {
   "cell_type": "code",
   "execution_count": 22,
   "metadata": {},
   "outputs": [],
   "source": [
    "from pydantic import BaseModel\n",
    "from typing import List, Optional\n",
    "\n",
    "class AuthorModel(BaseModel):\n",
    "    id: Optional[int] = None\n",
    "    name: str\n",
    "\n",
    "    class Config:\n",
    "        from_attributes = True\n",
    "\n",
    "class TagModel(BaseModel):\n",
    "    id: Optional[int] = None\n",
    "    name: str\n",
    "\n",
    "    class Config:\n",
    "        from_attributes = True\n",
    "\n",
    "class BookModel(BaseModel):\n",
    "    id: Optional[int] = None\n",
    "    title: str\n",
    "    author: AuthorModel\n",
    "    tags: List[TagModel]\n",
    "\n",
    "    class Config:\n",
    "        from_attributes = True\n"
   ]
  },
  {
   "cell_type": "markdown",
   "metadata": {},
   "source": [
    "Step 3: Interact with the Database"
   ]
  },
  {
   "cell_type": "code",
   "execution_count": 23,
   "metadata": {},
   "outputs": [
    {
     "name": "stdout",
     "output_type": "stream",
     "text": [
      "id=1 title='The Adventures of John Doe' author=AuthorModel(id=1, name='John Doe') tags=[TagModel(id=1, name='Fiction'), TagModel(id=2, name='Adventure')]\n"
     ]
    }
   ],
   "source": [
    "from sqlalchemy.orm import Session\n",
    "\n",
    "# Start a new session\n",
    "session = Session(engine)\n",
    "\n",
    "# Create a new author\n",
    "new_author = Author(name=\"John Doe\")\n",
    "session.add(new_author)\n",
    "session.commit()\n",
    "\n",
    "# Create new tags\n",
    "new_tags = [Tag(name=\"Fiction\"), Tag(name=\"Adventure\")]\n",
    "session.add_all(new_tags)\n",
    "session.commit()\n",
    "\n",
    "# Create a new book\n",
    "new_book = Book(title=\"The Adventures of John Doe\", author=new_author)\n",
    "new_book.tags.extend(new_tags)\n",
    "session.add(new_book)\n",
    "session.commit()\n",
    "\n",
    "# Retrieve the book from the database\n",
    "book = session.query(Book).filter(Book.title == \"The Adventures of John Doe\").first()\n",
    "\n",
    "# session = Session(engine)\n",
    "# book = session.query(Book).filter(Book.title == \"The Adventures of John Doe\").first()\n",
    "\n",
    "# Convert the SQLAlchemy model to a Pydantic model for serialization\n",
    "book_model = BookModel.model_validate(book)\n",
    "print(book_model)\n",
    "\n",
    "\n"
   ]
  },
  {
   "cell_type": "code",
   "execution_count": 24,
   "metadata": {},
   "outputs": [],
   "source": [
    "# Close the session\n",
    "session.close()"
   ]
  }
 ],
 "metadata": {
  "kernelspec": {
   "display_name": "Python 3",
   "language": "python",
   "name": "python3"
  },
  "language_info": {
   "codemirror_mode": {
    "name": "ipython",
    "version": 3
   },
   "file_extension": ".py",
   "mimetype": "text/x-python",
   "name": "python",
   "nbconvert_exporter": "python",
   "pygments_lexer": "ipython3",
   "version": "3.11.6"
  }
 },
 "nbformat": 4,
 "nbformat_minor": 2
}
