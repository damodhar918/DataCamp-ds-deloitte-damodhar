{
 "cells": [
  {
   "cell_type": "code",
   "execution_count": 1,
   "id": "4b55dcc5-cb2b-48e6-b507-cd0de39dff11",
   "metadata": {},
   "outputs": [
    {
     "data": {
      "text/plain": [
       "Intitializing Scala interpreter ..."
      ]
     },
     "metadata": {},
     "output_type": "display_data"
    },
    {
     "data": {
      "text/plain": [
       "Spark Web UI available at http://192.168.80.128:4041\n",
       "SparkContext available as 'sc' (version = 2.4.7, master = local[*], app id = local-1646426502947)\n",
       "SparkSession available as 'spark'\n"
      ]
     },
     "metadata": {},
     "output_type": "display_data"
    },
    {
     "data": {
      "text/plain": [
       "import org.apache.spark.sql.types.{DoubleType, IntegerType, LongType, TimestampType, StringType, StructField, StructType}\n",
       "import org.apache.spark.sql.functions._\n"
      ]
     },
     "execution_count": 1,
     "metadata": {},
     "output_type": "execute_result"
    }
   ],
   "source": [
    "import org.apache.spark.sql.types.{DoubleType, IntegerType, LongType, TimestampType,  StringType, StructField, StructType}\n",
    "\n",
    "import  org.apache.spark.sql.functions._"
   ]
  },
  {
   "cell_type": "code",
   "execution_count": 1,
   "id": "57259cff-5409-4ff6-9fdb-3c9c62c5efc0",
   "metadata": {},
   "outputs": [
    {
     "data": {
      "text/plain": [
       "Intitializing Scala interpreter ..."
      ]
     },
     "metadata": {},
     "output_type": "display_data"
    },
    {
     "data": {
      "text/plain": [
       "Spark Web UI available at http://192.168.80.128:4042\n",
       "SparkContext available as 'sc' (version = 2.4.7, master = local[*], app id = local-1646429143101)\n",
       "SparkSession available as 'spark'\n"
      ]
     },
     "metadata": {},
     "output_type": "display_data"
    },
    {
     "data": {
      "text/plain": [
       "intraDayMinParquetDf: org.apache.spark.sql.DataFrame = [Symbol: string, Date: string ... 7 more fields]\n"
      ]
     },
     "execution_count": 1,
     "metadata": {},
     "output_type": "execute_result"
    }
   ],
   "source": [
    "var intraDayMinParquetDf = spark.read\n",
    "    .format(\"parquet\")\n",
    "    .option(\"timestampFormat\", \"yyyyMMdd\") //20200803\n",
    "    .load(\"hdfs://localhost:9000/silver/\")"
   ]
  },
  {
   "cell_type": "code",
   "execution_count": 2,
   "id": "4474a360-08c7-410c-915a-aab968b1ee49",
   "metadata": {},
   "outputs": [
    {
     "data": {
      "text/plain": [
       "res0: Long = 27812025\n"
      ]
     },
     "execution_count": 2,
     "metadata": {},
     "output_type": "execute_result"
    }
   ],
   "source": [
    "intraDayMinParquetDf.count()"
   ]
  },
  {
   "cell_type": "code",
   "execution_count": 4,
   "id": "de1e337d-2d65-4d36-99d8-02b4b4357504",
   "metadata": {},
   "outputs": [
    {
     "data": {
      "text/plain": [
       "intraDayMinParquetDf: org.apache.spark.sql.DataFrame = [Symbol: string, Open: double ... 6 more fields]\n"
      ]
     },
     "execution_count": 4,
     "metadata": {},
     "output_type": "execute_result"
    }
   ],
   "source": [
    "intraDayMinParquetDf = intraDayMinParquetDf.withColumn(\"DateTimeStr\", concat( col(\"Date\"), lit(\" \"), col(\"Time\")))\n",
    "    .withColumn(\"DateTime\", to_timestamp(col(\"DateTimeStr\"), \"yyyyMMdd hh:mm\" ))\n",
    "    .withColumn(\"Date\", to_timestamp(col(\"Date\"), \"yyyyMMdd\" ))\n",
    "    .drop($\"DateTimeStr\")\n",
    "    .drop($\"Time\")\n",
    "    .drop($\"Date\")"
   ]
  },
  {
   "cell_type": "code",
   "execution_count": 5,
   "id": "6e04fee9-b074-48bd-a010-de895174016c",
   "metadata": {},
   "outputs": [],
   "source": [
    "intraDayMinParquetDf.withColumn(\"Year\", date_format(col(\"DateTime\"), \"yyyy\"))\n",
    "              .withColumn(\"Month\", date_format(col(\"DateTime\"), \"MM\"))\n",
    "              .withColumn(\"Day\", date_format(col(\"DateTime\"), \"dd\"))\n",
    "                .write\n",
    "                .partitionBy(\"Year\", \"Month\", \"Day\")\n",
    "                .format(\"parquet\")\n",
    "                .mode(\"overwrite\")\n",
    "                .save(\"hdfs://localhost:9000/intraday/\")"
   ]
  },
  {
   "cell_type": "code",
   "execution_count": null,
   "id": "e3d3cf57-56e5-4db0-9862-be46e55f0bd0",
   "metadata": {},
   "outputs": [],
   "source": []
  }
 ],
 "metadata": {
  "kernelspec": {
   "display_name": "spylon-kernel",
   "language": "scala",
   "name": "spylon-kernel"
  },
  "language_info": {
   "codemirror_mode": "text/x-scala",
   "file_extension": ".scala",
   "help_links": [
    {
     "text": "MetaKernel Magics",
     "url": "https://metakernel.readthedocs.io/en/latest/source/README.html"
    }
   ],
   "mimetype": "text/x-scala",
   "name": "scala",
   "pygments_lexer": "scala",
   "version": "0.4.1"
  }
 },
 "nbformat": 4,
 "nbformat_minor": 5
}
