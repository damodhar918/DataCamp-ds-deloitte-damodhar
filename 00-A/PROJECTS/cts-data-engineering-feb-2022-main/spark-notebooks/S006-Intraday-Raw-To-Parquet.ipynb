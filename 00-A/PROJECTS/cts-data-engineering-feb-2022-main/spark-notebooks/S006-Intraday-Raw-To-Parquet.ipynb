{
 "cells": [
  {
   "cell_type": "code",
   "execution_count": 1,
   "id": "4b55dcc5-cb2b-48e6-b507-cd0de39dff11",
   "metadata": {},
   "outputs": [
    {
     "data": {
      "text/plain": [
       "Intitializing Scala interpreter ..."
      ]
     },
     "metadata": {},
     "output_type": "display_data"
    },
    {
     "data": {
      "text/plain": [
       "Spark Web UI available at http://192.168.80.128:4041\n",
       "SparkContext available as 'sc' (version = 2.4.7, master = local[*], app id = local-1646426502947)\n",
       "SparkSession available as 'spark'\n"
      ]
     },
     "metadata": {},
     "output_type": "display_data"
    },
    {
     "data": {
      "text/plain": [
       "import org.apache.spark.sql.types.{DoubleType, IntegerType, LongType, TimestampType, StringType, StructField, StructType}\n",
       "import org.apache.spark.sql.functions._\n"
      ]
     },
     "execution_count": 1,
     "metadata": {},
     "output_type": "execute_result"
    }
   ],
   "source": [
    "import org.apache.spark.sql.types.{DoubleType, IntegerType, LongType, TimestampType,  StringType, StructField, StructType}\n",
    "\n",
    "import  org.apache.spark.sql.functions._"
   ]
  },
  {
   "cell_type": "code",
   "execution_count": 2,
   "id": "3336122d-f563-48d6-b1db-67d6d5587f45",
   "metadata": {},
   "outputs": [
    {
     "data": {
      "text/plain": [
       "IntraDaySchema: org.apache.spark.sql.types.StructType = StructType(StructField(Symbol,StringType,true), StructField(Date,StringType,true), StructField(Time,StringType,true), StructField(Open,DoubleType,true), StructField(High,DoubleType,true), StructField(Low,DoubleType,true), StructField(Close,DoubleType,true), StructField(Volume,LongType,true), StructField(OI,LongType,true))\n"
      ]
     },
     "execution_count": 2,
     "metadata": {},
     "output_type": "execute_result"
    }
   ],
   "source": [
    "val IntraDaySchema = StructType(\n",
    "    List(\n",
    "      StructField(\"Symbol\", StringType, true),\n",
    "      StructField(\"Date\", StringType, true), // TimestampType with , yyyyMMdd\n",
    "      StructField(\"Time\", StringType, true),\n",
    "      StructField(\"Open\", DoubleType, true),\n",
    "      StructField(\"High\", DoubleType, true),\n",
    "      StructField(\"Low\", DoubleType, true),\n",
    "      StructField(\"Close\", DoubleType, true),\n",
    "      StructField(\"Volume\", LongType, true),\n",
    "      StructField(\"OI\", LongType, true)\n",
    "    )\n",
    "  )"
   ]
  },
  {
   "cell_type": "code",
   "execution_count": 3,
   "id": "00d0be01-c681-4d15-a91f-bebfbda03597",
   "metadata": {},
   "outputs": [
    {
     "data": {
      "text/plain": [
       "intraDayMinRawDf: org.apache.spark.sql.DataFrame = [Symbol: string, Date: string ... 7 more fields]\n"
      ]
     },
     "execution_count": 3,
     "metadata": {},
     "output_type": "execute_result"
    }
   ],
   "source": [
    "var intraDayMinRawDf = spark.read\n",
    "    .format(\"csv\")\n",
    "    .option(\"header\",  false)\n",
    "    .option(\"delimitter\", \",\")\n",
    "    //.option(\"timestampFormat\", \"yyyyMMdd\") //20200803\n",
    "    .schema(IntraDaySchema) // use the Schema\n",
    "    .load(\"hdfs://localhost:9000/raw/*/*/*.txt\")"
   ]
  },
  {
   "cell_type": "code",
   "execution_count": 4,
   "id": "0f86a638-84a2-4cfa-98ca-321281a50886",
   "metadata": {},
   "outputs": [
    {
     "data": {
      "text/plain": [
       "res0: Long = 27812025\n"
      ]
     },
     "execution_count": 4,
     "metadata": {},
     "output_type": "execute_result"
    }
   ],
   "source": [
    "intraDayMinRawDf.count()"
   ]
  },
  {
   "cell_type": "code",
   "execution_count": 5,
   "id": "c6f09e9c-814c-4f61-ae49-cd13e41172cc",
   "metadata": {},
   "outputs": [
    {
     "data": {
      "text/plain": [
       "res1: Array[org.apache.spark.sql.Row] = Array([SILVERMIC_F1,20211201,09:01,62588.0,62707.0,62550.0,62659.0,101,98752], [SILVERMIC_F1,20211201,09:02,62662.0,62679.0,62658.0,62670.0,98,98818])\n"
      ]
     },
     "execution_count": 5,
     "metadata": {},
     "output_type": "execute_result"
    }
   ],
   "source": [
    "intraDayMinRawDf.rdd.take(2)"
   ]
  },
  {
   "cell_type": "code",
   "execution_count": 6,
   "id": "06d4f249-4947-43b0-a308-42d1994a3b01",
   "metadata": {},
   "outputs": [
    {
     "data": {
      "text/plain": [
       "res2: Int = 133\n"
      ]
     },
     "execution_count": 6,
     "metadata": {},
     "output_type": "execute_result"
    }
   ],
   "source": [
    "intraDayMinRawDf.rdd.getNumPartitions"
   ]
  },
  {
   "cell_type": "code",
   "execution_count": 7,
   "id": "d553ded3-9ca3-4d66-9465-8ae2c47bcf57",
   "metadata": {},
   "outputs": [],
   "source": [
    "intraDayMinRawDf.write\n",
    "        .format(\"parquet\")\n",
    "        .mode(\"overwrite\")\n",
    "        .save(\"hdfs://localhost:9000/silver\")"
   ]
  },
  {
   "cell_type": "code",
   "execution_count": 8,
   "id": "45d5b195-8399-446e-ae27-6f739b0f82f4",
   "metadata": {},
   "outputs": [
    {
     "ename": "<console>",
     "evalue": "30: error: not found: value intraDayMinDf",
     "output_type": "error",
     "traceback": [
      "<console>:30: error: not found: value intraDayMinDf",
      "       intraDayMinDf.printSchema()",
      "       ^",
      ""
     ]
    }
   ],
   "source": [
    "intraDayMinDf.printSchema()\n"
   ]
  },
  {
   "cell_type": "code",
   "execution_count": null,
   "id": "57259cff-5409-4ff6-9fdb-3c9c62c5efc0",
   "metadata": {},
   "outputs": [],
   "source": []
  },
  {
   "cell_type": "code",
   "execution_count": null,
   "id": "4474a360-08c7-410c-915a-aab968b1ee49",
   "metadata": {},
   "outputs": [],
   "source": []
  }
 ],
 "metadata": {
  "kernelspec": {
   "display_name": "spylon-kernel",
   "language": "scala",
   "name": "spylon-kernel"
  },
  "language_info": {
   "codemirror_mode": "text/x-scala",
   "file_extension": ".scala",
   "help_links": [
    {
     "text": "MetaKernel Magics",
     "url": "https://metakernel.readthedocs.io/en/latest/source/README.html"
    }
   ],
   "mimetype": "text/x-scala",
   "name": "scala",
   "pygments_lexer": "scala",
   "version": "0.4.1"
  }
 },
 "nbformat": 4,
 "nbformat_minor": 5
}
