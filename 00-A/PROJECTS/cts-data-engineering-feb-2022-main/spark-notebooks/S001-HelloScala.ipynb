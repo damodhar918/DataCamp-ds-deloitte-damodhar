{
 "cells": [
  {
   "cell_type": "code",
   "execution_count": 1,
   "id": "1f43c6e0-4d19-401f-868d-a0e70f1a8c49",
   "metadata": {},
   "outputs": [
    {
     "data": {
      "text/plain": [
       "Intitializing Scala interpreter ..."
      ]
     },
     "metadata": {},
     "output_type": "display_data"
    },
    {
     "data": {
      "text/plain": [
       "Spark Web UI available at http://192.168.80.128:4040\n",
       "SparkContext available as 'sc' (version = 2.4.7, master = local[*], app id = local-1646249203793)\n",
       "SparkSession available as 'spark'\n"
      ]
     },
     "metadata": {},
     "output_type": "display_data"
    },
    {
     "data": {
      "text/plain": [
       "r: Int = 30\n"
      ]
     },
     "execution_count": 1,
     "metadata": {},
     "output_type": "execute_result"
    }
   ],
   "source": [
    "val r = 10 + 20\n",
    "// Shift +Enter to execute cell"
   ]
  },
  {
   "cell_type": "code",
   "execution_count": 2,
   "id": "a1621d03-948b-43ed-aa97-c0cd3d00e1bc",
   "metadata": {},
   "outputs": [
    {
     "data": {
      "text/plain": [
       "rdd: org.apache.spark.rdd.RDD[Int] = ParallelCollectionRDD[0] at parallelize at <console>:27\n"
      ]
     },
     "execution_count": 2,
     "metadata": {},
     "output_type": "execute_result"
    }
   ],
   "source": [
    "// intellisense \n",
    "// sc.<TAB><TAB><TAB>\n",
    "val rdd = sc.parallelize (1 to 10)"
   ]
  },
  {
   "cell_type": "code",
   "execution_count": 3,
   "id": "7d72fd20-8d5c-4ad0-84a1-39e1a3dc4a72",
   "metadata": {},
   "outputs": [
    {
     "data": {
      "text/plain": [
       "res0: Array[Int] = Array(1, 2, 3, 4, 5, 6, 7, 8, 9, 10)\n"
      ]
     },
     "execution_count": 3,
     "metadata": {},
     "output_type": "execute_result"
    }
   ],
   "source": [
    "rdd.collect()"
   ]
  },
  {
   "cell_type": "code",
   "execution_count": 4,
   "id": "d49fca0b-ce75-4f7f-be32-08036f65dfc7",
   "metadata": {},
   "outputs": [
    {
     "data": {
      "text/plain": [
       "oddNumbers: org.apache.spark.rdd.RDD[Int] = MapPartitionsRDD[1] at filter at <console>:26\n",
       "res1: Array[Int] = Array(1, 3, 5, 7, 9)\n"
      ]
     },
     "execution_count": 4,
     "metadata": {},
     "output_type": "execute_result"
    }
   ],
   "source": [
    "val oddNumbers = rdd.filter (n => n % 2 == 1) \n",
    "oddNumbers.collect()"
   ]
  },
  {
   "cell_type": "code",
   "execution_count": 5,
   "id": "c31b92aa-bd5d-4777-874b-daf9984c901d",
   "metadata": {},
   "outputs": [
    {
     "data": {
      "text/plain": [
       "mulRdd: org.apache.spark.rdd.RDD[Int] = MapPartitionsRDD[2] at map at <console>:26\n",
       "res2: Array[Int] = Array(10, 30, 50, 70, 90)\n"
      ]
     },
     "execution_count": 5,
     "metadata": {},
     "output_type": "execute_result"
    }
   ],
   "source": [
    "val mulRdd = oddNumbers.map ( n => n * 10 )\n",
    "mulRdd.collect()"
   ]
  },
  {
   "cell_type": "code",
   "execution_count": 8,
   "id": "3c91caa8-f664-47e2-ab02-c1ef0bc705c6",
   "metadata": {},
   "outputs": [
    {
     "data": {
      "text/plain": [
       "res5: String =\n",
       "(2) MapPartitionsRDD[2] at map at <console>:26 []\n",
       " |  MapPartitionsRDD[1] at filter at <console>:26 []\n",
       " |  ParallelCollectionRDD[0] at parallelize at <console>:27 []\n"
      ]
     },
     "execution_count": 8,
     "metadata": {},
     "output_type": "execute_result"
    }
   ],
   "source": [
    "mulRdd.toDebugString"
   ]
  },
  {
   "cell_type": "code",
   "execution_count": null,
   "id": "3c64832a-6c2b-47fb-83b6-583c78534809",
   "metadata": {},
   "outputs": [],
   "source": []
  }
 ],
 "metadata": {
  "kernelspec": {
   "display_name": "spylon-kernel",
   "language": "scala",
   "name": "spylon-kernel"
  },
  "language_info": {
   "codemirror_mode": "text/x-scala",
   "file_extension": ".scala",
   "help_links": [
    {
     "text": "MetaKernel Magics",
     "url": "https://metakernel.readthedocs.io/en/latest/source/README.html"
    }
   ],
   "mimetype": "text/x-scala",
   "name": "scala",
   "pygments_lexer": "scala",
   "version": "0.4.1"
  }
 },
 "nbformat": 4,
 "nbformat_minor": 5
}
