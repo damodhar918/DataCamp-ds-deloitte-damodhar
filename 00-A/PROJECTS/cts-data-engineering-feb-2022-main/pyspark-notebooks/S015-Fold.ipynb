{
 "cells": [
  {
   "cell_type": "code",
   "execution_count": 1,
   "id": "6a01dfc7-9123-4cdf-9d32-7c583b286669",
   "metadata": {},
   "outputs": [],
   "source": [
    "import findspark\n",
    "findspark.init()"
   ]
  },
  {
   "cell_type": "code",
   "execution_count": 2,
   "id": "0ab22269-36ea-4cbd-b807-47c874cce3f8",
   "metadata": {},
   "outputs": [
    {
     "name": "stderr",
     "output_type": "stream",
     "text": [
      "22/03/02 01:48:08 WARN Utils: Your hostname, ubuntu-virtual-machine resolves to a loopback address: 127.0.1.1; using 192.168.80.128 instead (on interface ens33)\n",
      "22/03/02 01:48:08 WARN Utils: Set SPARK_LOCAL_IP if you need to bind to another address\n",
      "22/03/02 01:48:09 WARN NativeCodeLoader: Unable to load native-hadoop library for your platform... using builtin-java classes where applicable\n",
      "Using Spark's default log4j profile: org/apache/spark/log4j-defaults.properties\n",
      "Setting default log level to \"WARN\".\n",
      "To adjust logging level use sc.setLogLevel(newLevel). For SparkR, use setLogLevel(newLevel).\n",
      "22/03/02 01:48:10 WARN Utils: Service 'SparkUI' could not bind on port 4040. Attempting port 4041.\n",
      "22/03/02 01:48:10 WARN Utils: Service 'SparkUI' could not bind on port 4041. Attempting port 4042.\n",
      "22/03/02 01:48:10 WARN Utils: Service 'SparkUI' could not bind on port 4042. Attempting port 4043.\n"
     ]
    }
   ],
   "source": [
    "from pyspark import SparkContext\n",
    "sc = SparkContext(\"local\", \"Fold\")"
   ]
  },
  {
   "cell_type": "code",
   "execution_count": 8,
   "id": "bad27ecc-9239-4335-8202-25313366b006",
   "metadata": {},
   "outputs": [],
   "source": [
    "# fold is useful for aggregate\n",
    "# fold has initial value to start with where as reduce will  take first value as reduce\n",
    "\n",
    "def add(acc, value):\n",
    "    result = acc + value\n",
    "    print(\"acc\", acc, \"value\", value, \"output\", result)\n",
    "    return result\n",
    "\n"
   ]
  },
  {
   "cell_type": "code",
   "execution_count": 9,
   "id": "93fb3ff2-0c38-4b00-aace-cb26eaaf6970",
   "metadata": {},
   "outputs": [],
   "source": [
    "rdd = sc.parallelize([10,20,30,40,50])"
   ]
  },
  {
   "cell_type": "code",
   "execution_count": 10,
   "id": "ff0742bf-3cb8-49a0-b28a-f43109cd96a7",
   "metadata": {},
   "outputs": [
    {
     "name": "stdout",
     "output_type": "stream",
     "text": [
      "acc 0 value 150 output 150\n"
     ]
    },
    {
     "name": "stderr",
     "output_type": "stream",
     "text": [
      "acc 0 value 10 output 10\n",
      "acc 10 value 20 output 30\n",
      "acc 30 value 30 output 60\n",
      "acc 60 value 40 output 100\n",
      "acc 100 value 50 output 150\n"
     ]
    },
    {
     "data": {
      "text/plain": [
       "150"
      ]
     },
     "execution_count": 10,
     "metadata": {},
     "output_type": "execute_result"
    }
   ],
   "source": [
    "# fold with aggregate with start value 0\n",
    "# fold is action method\n",
    "# fold works with each partition first, calculate add function on each partition\n",
    "# + it will apply result of all paritions into again another folder\n",
    "# return value of add is passed as input with next number in seq\n",
    "\n",
    "# after processing data from partition 0, it got result 150\n",
    "# then it will apply add function across partition result  acc 0 value 150\n",
    "rdd.fold (0, add) # output shall be 150 = 10 + 20 + 30 + 40 + 50"
   ]
  },
  {
   "cell_type": "code",
   "execution_count": 11,
   "id": "cffe155e-b85e-47c8-ab48-5040e1352d83",
   "metadata": {},
   "outputs": [
    {
     "data": {
      "text/plain": [
       "[[10, 20], [30, 40, 50]]"
      ]
     },
     "execution_count": 11,
     "metadata": {},
     "output_type": "execute_result"
    }
   ],
   "source": [
    "rdd = sc.parallelize([10,20,30,40,50], 2)\n",
    "rdd.glom().collect()"
   ]
  },
  {
   "cell_type": "code",
   "execution_count": 12,
   "id": "7b8d1e5f-fdd7-4a2f-8405-ab27cd69f941",
   "metadata": {},
   "outputs": [
    {
     "name": "stdout",
     "output_type": "stream",
     "text": [
      "acc 0 value 30 output 30\n",
      "acc 30 value 120 output 150\n"
     ]
    },
    {
     "name": "stderr",
     "output_type": "stream",
     "text": [
      "acc 0 value 10 output 10\n",
      "acc 10 value 20 output 30\n",
      "acc 0 value 30 output 30\n",
      "acc 30 value 40 output 70\n",
      "acc 70 value 50 output 120\n"
     ]
    },
    {
     "data": {
      "text/plain": [
       "150"
      ]
     },
     "execution_count": 12,
     "metadata": {},
     "output_type": "execute_result"
    }
   ],
   "source": [
    "# part 0: add is applied on part 0 = 10 + 20 = 30\n",
    "# part 1: add is applied on part 1 = 30 + 40 + 50 = 120\n",
    "# now output data set include (30, 120) which is used as input again with add func\n",
    "# with start value 0\n",
    "# final result: add is applied on the result of part 0 , part 1 = 30 + 120 = 150\n",
    "rdd.fold (0, add)"
   ]
  },
  {
   "cell_type": "code",
   "execution_count": 15,
   "id": "a4e75473-ac96-4d3f-b4a4-e1c02981cffe",
   "metadata": {},
   "outputs": [
    {
     "name": "stderr",
     "output_type": "stream",
     "text": [
      "acc 0 value 200 output 200\n",
      "acc 0 value 50 output 50\n",
      "acc 0 value 20 output 20\n",
      "acc 200 value 100 output 300\n",
      "acc 50 value 25 output 75\n"
     ]
    },
    {
     "data": {
      "text/plain": [
       "[('INFY', 300), ('TSLA', 75), ('EMR', 20)]"
      ]
     },
     "execution_count": 15,
     "metadata": {},
     "output_type": "execute_result"
    }
   ],
   "source": [
    "# FoldByKey\n",
    "# similar to fold, where as fold is applied on all the values in RDD in partition\n",
    "# foldByKey is used against (Key,Value) paired rdd, key/value rdd\n",
    "# fold work based on key\n",
    "\n",
    "orders = [\n",
    "    # symbol, qty\n",
    "    ('INFY', 200),\n",
    "    ('TSLA', 50),\n",
    "    ('EMR', 20),\n",
    "    ('INFY', 100),\n",
    "    ('TSLA', 25)\n",
    "]\n",
    "\n",
    "def add(acc, value):\n",
    "    output = acc + value\n",
    "    print(\"acc\", acc, \"value\", value, \"output\", output)\n",
    "    return output\n",
    "\n",
    "orderRdd = sc.parallelize(orders)\n",
    "# fold by Key, return rdd\n",
    "# When key appear first, it starts with 0, and value\n",
    "# second appearance key, include previous output as input\n",
    "orderRdd.foldByKey(0, add).collect()"
   ]
  },
  {
   "cell_type": "code",
   "execution_count": null,
   "id": "cd672c29-2c8b-40b3-b27c-74699d75ea4c",
   "metadata": {},
   "outputs": [],
   "source": []
  }
 ],
 "metadata": {
  "kernelspec": {
   "display_name": "Python 3 (ipykernel)",
   "language": "python",
   "name": "python3"
  },
  "language_info": {
   "codemirror_mode": {
    "name": "ipython",
    "version": 3
   },
   "file_extension": ".py",
   "mimetype": "text/x-python",
   "name": "python",
   "nbconvert_exporter": "python",
   "pygments_lexer": "ipython3",
   "version": "3.7.12"
  }
 },
 "nbformat": 4,
 "nbformat_minor": 5
}
