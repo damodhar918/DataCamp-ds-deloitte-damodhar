{
 "cells": [
  {
   "cell_type": "code",
   "execution_count": 1,
   "id": "64e23a27-7d5f-4660-8547-0a2f1a37618c",
   "metadata": {},
   "outputs": [],
   "source": [
    "import findspark\n",
    "findspark.init()"
   ]
  },
  {
   "cell_type": "code",
   "execution_count": 2,
   "id": "c8975307-86a0-46de-a4f9-7a26b0943084",
   "metadata": {},
   "outputs": [
    {
     "name": "stderr",
     "output_type": "stream",
     "text": [
      "22/03/02 03:12:06 WARN Utils: Your hostname, ubuntu-virtual-machine resolves to a loopback address: 127.0.1.1; using 192.168.80.128 instead (on interface ens33)\n",
      "22/03/02 03:12:06 WARN Utils: Set SPARK_LOCAL_IP if you need to bind to another address\n",
      "22/03/02 03:12:07 WARN NativeCodeLoader: Unable to load native-hadoop library for your platform... using builtin-java classes where applicable\n",
      "Using Spark's default log4j profile: org/apache/spark/log4j-defaults.properties\n",
      "Setting default log level to \"WARN\".\n",
      "To adjust logging level use sc.setLogLevel(newLevel). For SparkR, use setLogLevel(newLevel).\n",
      "22/03/02 03:12:09 WARN Utils: Service 'SparkUI' could not bind on port 4040. Attempting port 4041.\n",
      "22/03/02 03:12:09 WARN Utils: Service 'SparkUI' could not bind on port 4041. Attempting port 4042.\n",
      "22/03/02 03:12:09 WARN Utils: Service 'SparkUI' could not bind on port 4042. Attempting port 4043.\n",
      "22/03/02 03:12:09 WARN Utils: Service 'SparkUI' could not bind on port 4043. Attempting port 4044.\n",
      "22/03/02 03:12:09 WARN Utils: Service 'SparkUI' could not bind on port 4044. Attempting port 4045.\n"
     ]
    }
   ],
   "source": [
    "from pyspark import SparkContext\n",
    "sc = SparkContext(\"local\", \"GroupBy\")"
   ]
  },
  {
   "cell_type": "code",
   "execution_count": 10,
   "id": "b0b3f987-d836-4b19-9479-04496cba76d1",
   "metadata": {},
   "outputs": [
    {
     "name": "stdout",
     "output_type": "stream",
     "text": [
      "Group  1 <pyspark.resultiterable.ResultIterable object at 0x7f15ff698090>\n",
      "\tVAlue  1\n",
      "\tVAlue  3\n",
      "\tVAlue  5\n",
      "\tVAlue  7\n",
      "\tVAlue  9\n",
      "Group  0 <pyspark.resultiterable.ResultIterable object at 0x7f15ff698510>\n",
      "\tVAlue  2\n",
      "\tVAlue  4\n",
      "\tVAlue  6\n",
      "\tVAlue  8\n"
     ]
    }
   ],
   "source": [
    "numbersRdd = sc.parallelize(range(1, 10))\n",
    "# try to split odd/even number as group\n",
    "# n % 2 = the output shall be either 0 or 1, use this for grouping the numbers\n",
    "# groupBy used to group by any data in your record\n",
    "# groupByKey  where only key is used\n",
    "# lambda either return 0 or 1, the items are grouped based that result\n",
    "resultRdd = numbersRdd.groupBy(lambda n: n % 2)\n",
    "# groupByRdds collect won't return list or tuple directly, we need to iterate and \n",
    "# get the output\n",
    "results = resultRdd.collect()\n",
    "# result is a list of tuple \n",
    "# result = [ (0, iterator), (1, iterator) ]\n",
    "# 0 - even number group\n",
    "# 1 - odd number group\n",
    "for key, valueItr in results:\n",
    "    print(\"Group \", key, valueItr)\n",
    "    # iterator the result to get the actual data\n",
    "    for value in valueItr:\n",
    "        print (\"\\tVAlue \", value)\n",
    "    "
   ]
  },
  {
   "cell_type": "code",
   "execution_count": null,
   "id": "3db353f8-282f-43fb-85da-8bf416be439b",
   "metadata": {},
   "outputs": [],
   "source": [
    " "
   ]
  }
 ],
 "metadata": {
  "kernelspec": {
   "display_name": "Python 3 (ipykernel)",
   "language": "python",
   "name": "python3"
  },
  "language_info": {
   "codemirror_mode": {
    "name": "ipython",
    "version": 3
   },
   "file_extension": ".py",
   "mimetype": "text/x-python",
   "name": "python",
   "nbconvert_exporter": "python",
   "pygments_lexer": "ipython3",
   "version": "3.7.12"
  }
 },
 "nbformat": 4,
 "nbformat_minor": 5
}
