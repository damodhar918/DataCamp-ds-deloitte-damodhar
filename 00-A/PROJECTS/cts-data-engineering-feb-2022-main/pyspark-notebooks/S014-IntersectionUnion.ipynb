{
 "cells": [
  {
   "cell_type": "code",
   "execution_count": 1,
   "id": "af65e198-9a4f-4025-b472-46fbd0094588",
   "metadata": {},
   "outputs": [],
   "source": [
    "import findspark\n",
    "findspark.init()"
   ]
  },
  {
   "cell_type": "code",
   "execution_count": 2,
   "id": "393e70f2-44d9-4996-9775-267343d5d20e",
   "metadata": {},
   "outputs": [
    {
     "name": "stderr",
     "output_type": "stream",
     "text": [
      "22/03/02 01:33:10 WARN Utils: Your hostname, ubuntu-virtual-machine resolves to a loopback address: 127.0.1.1; using 192.168.80.128 instead (on interface ens33)\n",
      "22/03/02 01:33:10 WARN Utils: Set SPARK_LOCAL_IP if you need to bind to another address\n",
      "22/03/02 01:33:10 WARN NativeCodeLoader: Unable to load native-hadoop library for your platform... using builtin-java classes where applicable\n",
      "Using Spark's default log4j profile: org/apache/spark/log4j-defaults.properties\n",
      "Setting default log level to \"WARN\".\n",
      "To adjust logging level use sc.setLogLevel(newLevel). For SparkR, use setLogLevel(newLevel).\n",
      "22/03/02 01:33:12 WARN Utils: Service 'SparkUI' could not bind on port 4040. Attempting port 4041.\n",
      "22/03/02 01:33:12 WARN Utils: Service 'SparkUI' could not bind on port 4041. Attempting port 4042.\n"
     ]
    }
   ],
   "source": [
    "from pyspark import SparkContext\n",
    "sc = SparkContext(\"local\", \"InterSectionUnion\")"
   ]
  },
  {
   "cell_type": "code",
   "execution_count": 3,
   "id": "a8dcd6f7-b2ac-4188-8110-7ce2ec74d07f",
   "metadata": {},
   "outputs": [],
   "source": [
    "# here general rdd apis\n",
    "\n",
    "dayTradeSymbols = sc.parallelize(['INFY', 'MINDTREE', 'TSLA'])\n",
    "swingTradeSymbols = sc.parallelize(['EMR', 'AAPL', 'TSLA', 'INFY'])"
   ]
  },
  {
   "cell_type": "code",
   "execution_count": 4,
   "id": "20ce0527-324e-49c5-8f73-c9771c744e3f",
   "metadata": {},
   "outputs": [
    {
     "name": "stderr",
     "output_type": "stream",
     "text": [
      "                                                                                \r"
     ]
    },
    {
     "data": {
      "text/plain": [
       "['INFY', 'TSLA']"
      ]
     },
     "execution_count": 4,
     "metadata": {},
     "output_type": "execute_result"
    }
   ],
   "source": [
    "# return the elements/stock that are present in both\n",
    "intersectionRdd = dayTradeSymbols.intersection(swingTradeSymbols)\n",
    "intersectionRdd.collect()"
   ]
  },
  {
   "cell_type": "code",
   "execution_count": 5,
   "id": "43b0b7ae-b138-42e3-b247-cf1c7e963591",
   "metadata": {},
   "outputs": [
    {
     "data": {
      "text/plain": [
       "['INFY', 'MINDTREE', 'TSLA', 'EMR', 'AAPL', 'TSLA', 'INFY']"
      ]
     },
     "execution_count": 5,
     "metadata": {},
     "output_type": "execute_result"
    }
   ],
   "source": [
    "# union of two RDD, add items from both the RDD, duplicates possible\n",
    "unionRdd = dayTradeSymbols.union(swingTradeSymbols)\n",
    "unionRdd.collect()"
   ]
  },
  {
   "cell_type": "code",
   "execution_count": 6,
   "id": "cf684e14-1528-4d29-981d-85e3313a9136",
   "metadata": {},
   "outputs": [
    {
     "data": {
      "text/plain": [
       "['INFY', 'EMR', 'MINDTREE', 'TSLA', 'AAPL']"
      ]
     },
     "execution_count": 6,
     "metadata": {},
     "output_type": "execute_result"
    }
   ],
   "source": [
    "# distrinct , remove duplicates \n",
    "# unionRdd has duplicates TSLA, INFY coming twice\n",
    "distinctRdd = unionRdd.distinct()\n",
    "distinctRdd.collect()"
   ]
  },
  {
   "cell_type": "code",
   "execution_count": null,
   "id": "07ac7fcf-14d6-499b-bef7-8dcfc309d5a6",
   "metadata": {},
   "outputs": [],
   "source": []
  }
 ],
 "metadata": {
  "kernelspec": {
   "display_name": "Python 3 (ipykernel)",
   "language": "python",
   "name": "python3"
  },
  "language_info": {
   "codemirror_mode": {
    "name": "ipython",
    "version": 3
   },
   "file_extension": ".py",
   "mimetype": "text/x-python",
   "name": "python",
   "nbconvert_exporter": "python",
   "pygments_lexer": "ipython3",
   "version": "3.7.12"
  }
 },
 "nbformat": 4,
 "nbformat_minor": 5
}
