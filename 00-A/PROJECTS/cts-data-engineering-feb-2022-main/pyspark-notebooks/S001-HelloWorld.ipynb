{
 "cells": [
  {
   "cell_type": "code",
   "execution_count": 1,
   "id": "b2ab6736-c7da-48f4-a35c-060a8c13c4d9",
   "metadata": {},
   "outputs": [],
   "source": [
    "import findspark\n",
    "findspark.init()\n",
    "# Shift + Enter"
   ]
  },
  {
   "cell_type": "code",
   "execution_count": 3,
   "id": "ff4514f3-715a-4ec4-ae2e-fc64cc5d5781",
   "metadata": {},
   "outputs": [
    {
     "name": "stderr",
     "output_type": "stream",
     "text": [
      "22/02/26 03:41:00 WARN Utils: Your hostname, ubuntu-virtual-machine resolves to a loopback address: 127.0.1.1; using 192.168.80.128 instead (on interface ens33)\n",
      "22/02/26 03:41:00 WARN Utils: Set SPARK_LOCAL_IP if you need to bind to another address\n",
      "22/02/26 03:41:01 WARN NativeCodeLoader: Unable to load native-hadoop library for your platform... using builtin-java classes where applicable\n",
      "Using Spark's default log4j profile: org/apache/spark/log4j-defaults.properties\n",
      "Setting default log level to \"WARN\".\n",
      "To adjust logging level use sc.setLogLevel(newLevel). For SparkR, use setLogLevel(newLevel).\n"
     ]
    }
   ],
   "source": [
    "from pyspark import SparkContext\n",
    "# spark runs in embedded mode\n",
    "sc = SparkContext(\"local\", \"HelloWorld\")"
   ]
  },
  {
   "cell_type": "code",
   "execution_count": 4,
   "id": "853496cb-64b8-47e8-8d68-5528af8cbe05",
   "metadata": {},
   "outputs": [
    {
     "name": "stderr",
     "output_type": "stream",
     "text": [
      "                                                                                \r"
     ]
    },
    {
     "data": {
      "text/plain": [
       "[1, 3, 5, 7, 9]"
      ]
     },
     "execution_count": 4,
     "metadata": {},
     "output_type": "execute_result"
    }
   ],
   "source": [
    "rdd = sc.parallelize([1,2,3,4,5,6,7,8,9])\n",
    "odds = rdd.filter (lambda n : n % 2 == 1)\n",
    "odds.collect()"
   ]
  },
  {
   "cell_type": "code",
   "execution_count": null,
   "id": "36e38504-ab70-4a9f-bc78-70a74e3926c9",
   "metadata": {},
   "outputs": [],
   "source": []
  }
 ],
 "metadata": {
  "kernelspec": {
   "display_name": "Python 3 (ipykernel)",
   "language": "python",
   "name": "python3"
  },
  "language_info": {
   "codemirror_mode": {
    "name": "ipython",
    "version": 3
   },
   "file_extension": ".py",
   "mimetype": "text/x-python",
   "name": "python",
   "nbconvert_exporter": "python",
   "pygments_lexer": "ipython3",
   "version": "3.7.12"
  }
 },
 "nbformat": 4,
 "nbformat_minor": 5
}
