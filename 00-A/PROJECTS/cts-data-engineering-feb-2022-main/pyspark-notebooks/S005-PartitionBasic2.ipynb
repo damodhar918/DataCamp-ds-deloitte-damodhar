{
 "cells": [
  {
   "cell_type": "code",
   "execution_count": 1,
   "id": "0de20802-487d-4cb8-b986-b913e8cf1efa",
   "metadata": {},
   "outputs": [],
   "source": [
    "import findspark\n",
    "findspark.init()"
   ]
  },
  {
   "cell_type": "code",
   "execution_count": 2,
   "id": "415f70b9-7a37-42f0-b643-036459322d9d",
   "metadata": {},
   "outputs": [
    {
     "name": "stderr",
     "output_type": "stream",
     "text": [
      "22/02/28 23:01:23 WARN Utils: Your hostname, ubuntu-virtual-machine resolves to a loopback address: 127.0.1.1; using 192.168.80.128 instead (on interface ens33)\n",
      "22/02/28 23:01:23 WARN Utils: Set SPARK_LOCAL_IP if you need to bind to another address\n",
      "22/02/28 23:01:24 WARN NativeCodeLoader: Unable to load native-hadoop library for your platform... using builtin-java classes where applicable\n",
      "Using Spark's default log4j profile: org/apache/spark/log4j-defaults.properties\n",
      "Setting default log level to \"WARN\".\n",
      "To adjust logging level use sc.setLogLevel(newLevel). For SparkR, use setLogLevel(newLevel).\n",
      "22/02/28 23:01:26 WARN Utils: Service 'SparkUI' could not bind on port 4040. Attempting port 4041.\n",
      "22/02/28 23:01:26 WARN Utils: Service 'SparkUI' could not bind on port 4041. Attempting port 4042.\n",
      "22/02/28 23:01:26 WARN Utils: Service 'SparkUI' could not bind on port 4042. Attempting port 4043.\n"
     ]
    }
   ],
   "source": [
    "from pyspark import SparkContext\n",
    "sc = SparkContext(\"local\", \"PartitionBasic\")"
   ]
  },
  {
   "cell_type": "code",
   "execution_count": 3,
   "id": "19e8adca-93f9-40cf-a569-b36dc7c297d0",
   "metadata": {},
   "outputs": [],
   "source": [
    "data = range(1, 10)\n",
    "# create RDD with 2 partitions\n",
    "rdd1 = sc.parallelize(data, 2) # 2 is number of partitions"
   ]
  },
  {
   "cell_type": "code",
   "execution_count": 4,
   "id": "4a7ed213-850b-4d72-b5e4-93829192197d",
   "metadata": {},
   "outputs": [
    {
     "data": {
      "text/plain": [
       "2"
      ]
     },
     "execution_count": 4,
     "metadata": {},
     "output_type": "execute_result"
    }
   ],
   "source": [
    "rdd1.getNumPartitions()"
   ]
  },
  {
   "cell_type": "code",
   "execution_count": 5,
   "id": "ec47dcb4-63ce-48cb-815a-68ebc6866676",
   "metadata": {},
   "outputs": [
    {
     "name": "stderr",
     "output_type": "stream",
     "text": [
      "                                                                                \r"
     ]
    },
    {
     "data": {
      "text/plain": [
       "[1, 2, 3, 4, 5, 6, 7, 8, 9]"
      ]
     },
     "execution_count": 5,
     "metadata": {},
     "output_type": "execute_result"
    }
   ],
   "source": [
    "# collect take data from all partitions()\n",
    "data = rdd1.collect()\n",
    "data"
   ]
  },
  {
   "cell_type": "code",
   "execution_count": 7,
   "id": "e3055087-6ab2-4c12-9150-9c2b887d1ec8",
   "metadata": {},
   "outputs": [
    {
     "name": "stdout",
     "output_type": "stream",
     "text": [
      "[[1, 2, 3, 4], [5, 6, 7, 8, 9]]\n"
     ]
    }
   ],
   "source": [
    "# glom() collect data from each partitions as list\n",
    "data = rdd1.glom().collect()\n",
    "print(data)\n",
    "# see the output, we have list of list of elements\n",
    "# [1, 2, 3, 4] is from partition 0\n",
    "# [5, 6, 7, 8, 9] is from partition 1"
   ]
  },
  {
   "cell_type": "code",
   "execution_count": 8,
   "id": "1af68d60-c520-43ac-8c36-d68d1bf8d132",
   "metadata": {},
   "outputs": [
    {
     "name": "stdout",
     "output_type": "stream",
     "text": [
      "[1, 2, 3]\n"
     ]
    }
   ],
   "source": [
    "# take command collect first few elements , partition 0 onwards\n",
    "data = rdd1.take(3) # from partition 0\n",
    "print(data)"
   ]
  },
  {
   "cell_type": "code",
   "execution_count": 9,
   "id": "344cb267-770f-417a-8f94-b304d2e9209d",
   "metadata": {},
   "outputs": [
    {
     "name": "stdout",
     "output_type": "stream",
     "text": [
      "[1, 2, 3, 4, 5, 6]\n"
     ]
    }
   ],
   "source": [
    "# take 6 elements, where as partition-0 has only 4 elements\n",
    "# takes 1,2,3,4 from partition-0, and take 5, 6 from partition-1\n",
    "data = rdd1.take(6)\n",
    "print(data)"
   ]
  },
  {
   "cell_type": "code",
   "execution_count": null,
   "id": "c2ded003-3355-413c-b87c-989cf5a38585",
   "metadata": {},
   "outputs": [],
   "source": []
  }
 ],
 "metadata": {
  "kernelspec": {
   "display_name": "Python 3 (ipykernel)",
   "language": "python",
   "name": "python3"
  },
  "language_info": {
   "codemirror_mode": {
    "name": "ipython",
    "version": 3
   },
   "file_extension": ".py",
   "mimetype": "text/x-python",
   "name": "python",
   "nbconvert_exporter": "python",
   "pygments_lexer": "ipython3",
   "version": "3.7.12"
  }
 },
 "nbformat": 4,
 "nbformat_minor": 5
}
