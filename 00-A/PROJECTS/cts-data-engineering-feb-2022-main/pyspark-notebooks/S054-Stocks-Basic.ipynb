{
 "cells": [
  {
   "cell_type": "code",
   "execution_count": 2,
   "id": "9c46d30c-0d59-47a9-8175-186418d27fe7",
   "metadata": {},
   "outputs": [],
   "source": [
    "import findspark\n",
    "findspark.init()"
   ]
  },
  {
   "cell_type": "code",
   "execution_count": 3,
   "id": "fa91dac1-653b-43f8-8c31-e6fc27f40004",
   "metadata": {},
   "outputs": [],
   "source": [
    "from pyspark.conf import SparkConf\n",
    "config = SparkConf()\n",
    "# config.set(\"property\", \"value\")\n",
    "config.setMaster(\"local\").setAppName(\"MovieLens\")\n",
    "\n",
    "from pyspark.sql import SparkSession\n",
    "# spark Session, entry point for Spark SQL, DataFrame\n",
    "spark = SparkSession.builder\\\n",
    "                    .config(conf=config)\\\n",
    "                    .getOrCreate()\n",
    "\n",
    "sc = spark.sparkContext"
   ]
  },
  {
   "cell_type": "code",
   "execution_count": 4,
   "id": "d568381c-afa2-4d02-9886-8b901fdd0daa",
   "metadata": {},
   "outputs": [
    {
     "name": "stdout",
     "output_type": "stream",
     "text": [
      "root\n",
      " |-- Company Name: string (nullable = true)\n",
      " |-- Industry: string (nullable = true)\n",
      " |-- Symbol: string (nullable = true)\n",
      " |-- Series: string (nullable = true)\n",
      " |-- ISIN Code: string (nullable = true)\n",
      "\n",
      "+--------------------+------------------+----------+------+------------+\n",
      "|        Company Name|          Industry|    Symbol|Series|   ISIN Code|\n",
      "+--------------------+------------------+----------+------+------------+\n",
      "|      Axis Bank Ltd.|FINANCIAL SERVICES|  AXISBANK|    EQ|INE238A01034|\n",
      "|  Bajaj Finance Ltd.|FINANCIAL SERVICES|BAJFINANCE|    EQ|INE296A01024|\n",
      "|  Bajaj Finserv Ltd.|FINANCIAL SERVICES|BAJAJFINSV|    EQ|INE918I01018|\n",
      "|Cholamandalam Inv...|FINANCIAL SERVICES|  CHOLAFIN|    EQ|INE121A01024|\n",
      "|HDFC Asset Manage...|FINANCIAL SERVICES|   HDFCAMC|    EQ|INE127D01025|\n",
      "+--------------------+------------------+----------+------+------------+\n",
      "only showing top 5 rows\n",
      "\n"
     ]
    }
   ],
   "source": [
    "sectorDf = spark.read.format(\"csv\")\\\n",
    "                .option(\"header\", True)\\\n",
    "                .option(\"inferSchema\", True)\\\n",
    "                .load(\"hdfs://localhost:9000/stocks/sectors\")\n",
    "\n",
    "sectorDf.printSchema()\n",
    "sectorDf.show(5)"
   ]
  },
  {
   "cell_type": "code",
   "execution_count": 6,
   "id": "b6e918fa-bde0-4569-a2a1-c632f069488f",
   "metadata": {},
   "outputs": [
    {
     "name": "stdout",
     "output_type": "stream",
     "text": [
      "root\n",
      " |-- SYMBOL: string (nullable = true)\n",
      " |-- SERIES: string (nullable = true)\n",
      " |-- OPEN: double (nullable = true)\n",
      " |-- HIGH: double (nullable = true)\n",
      " |-- LOW: double (nullable = true)\n",
      " |-- CLOSE: double (nullable = true)\n",
      " |-- LAST: double (nullable = true)\n",
      " |-- PREVCLOSE: double (nullable = true)\n",
      " |-- TOTTRDQTY: integer (nullable = true)\n",
      " |-- TOTTRDVAL: double (nullable = true)\n",
      " |-- TIMESTAMP: string (nullable = true)\n",
      " |-- TOTALTRADES: integer (nullable = true)\n",
      " |-- ISIN: string (nullable = true)\n",
      "\n",
      "+----------+------+-------+-------+-------+-------+-------+---------+---------+-------------+-----------+-----------+------------+\n",
      "|    SYMBOL|SERIES|   OPEN|   HIGH|    LOW|  CLOSE|   LAST|PREVCLOSE|TOTTRDQTY|    TOTTRDVAL|  TIMESTAMP|TOTALTRADES|        ISIN|\n",
      "+----------+------+-------+-------+-------+-------+-------+---------+---------+-------------+-----------+-----------+------------+\n",
      "| 20MICRONS|    EQ|   70.1|   73.6|   70.1|  71.85|  72.05|     71.2|   219912|1.583125505E7|02-MAR-2022|       2642|INE144J01027|\n",
      "|21STCENMGM|    EQ|   29.6|   29.6|   29.6|   29.6|   29.6|     30.2|     1209|      35786.4|02-MAR-2022|         45|INE253B01015|\n",
      "| 3IINFOLTD|    EQ|  51.05|  51.35|   49.1|  49.45|   49.4|    51.45|  1092731| 5.46426994E7|02-MAR-2022|       7273|INE748C01038|\n",
      "|   3MINDIA|    EQ|21480.0|21480.0|20730.0|20923.1|20925.0|  21208.4|     1823|3.829445575E7|02-MAR-2022|       1120|INE470A01017|\n",
      "|    3PLAND|    BE|   15.9|  16.15|   14.8|   15.5|  15.65|    15.55|     8318|     128580.0|02-MAR-2022|         70|INE105C01023|\n",
      "+----------+------+-------+-------+-------+-------+-------+---------+---------+-------------+-----------+-----------+------------+\n",
      "only showing top 5 rows\n",
      "\n"
     ]
    }
   ],
   "source": [
    "dailyDf = spark.read.format(\"csv\")\\\n",
    "                .option(\"header\", True)\\\n",
    "                .option(\"inferSchema\", True)\\\n",
    "                .load(\"hdfs://localhost:9000/stocks/daily\")\n",
    "\n",
    "\n",
    "\n",
    "dailyDf = dailyDf.drop(\"_c13\")\n",
    "\n",
    "dailyDf.printSchema()\n",
    "dailyDf.show(5)"
   ]
  },
  {
   "cell_type": "code",
   "execution_count": 9,
   "id": "077e3cc1-1089-417d-b6d1-ef5817eb31a2",
   "metadata": {},
   "outputs": [
    {
     "name": "stdout",
     "output_type": "stream",
     "text": [
      "root\n",
      " |-- SYMBOL: string (nullable = true)\n",
      " |-- SERIES: string (nullable = true)\n",
      " |-- OPEN: double (nullable = true)\n",
      " |-- HIGH: double (nullable = true)\n",
      " |-- LOW: double (nullable = true)\n",
      " |-- CLOSE: double (nullable = true)\n",
      " |-- LAST: double (nullable = true)\n",
      " |-- PREVCLOSE: double (nullable = true)\n",
      " |-- TOTTRDQTY: integer (nullable = true)\n",
      " |-- TOTTRDVAL: double (nullable = true)\n",
      " |-- TIMESTAMP: string (nullable = true)\n",
      " |-- TOTALTRADES: integer (nullable = true)\n",
      " |-- ISIN: string (nullable = true)\n",
      " |-- GAIN: double (nullable = true)\n",
      " |-- GAINP: double (nullable = true)\n",
      "\n",
      "+----------+------+-------+-------+-------+-------+-------+---------+---------+-------------+-----------+-----------+------------+--------------------+-------------------+\n",
      "|    SYMBOL|SERIES|   OPEN|   HIGH|    LOW|  CLOSE|   LAST|PREVCLOSE|TOTTRDQTY|    TOTTRDVAL|  TIMESTAMP|TOTALTRADES|        ISIN|                GAIN|              GAINP|\n",
      "+----------+------+-------+-------+-------+-------+-------+---------+---------+-------------+-----------+-----------+------------+--------------------+-------------------+\n",
      "| 20MICRONS|    EQ|   70.1|   73.6|   70.1|  71.85|  72.05|     71.2|   219912|1.583125505E7|02-MAR-2022|       2642|INE144J01027|                1.75| 2.4964336661911557|\n",
      "|21STCENMGM|    EQ|   29.6|   29.6|   29.6|   29.6|   29.6|     30.2|     1209|      35786.4|02-MAR-2022|         45|INE253B01015|                 0.0|                0.0|\n",
      "| 3IINFOLTD|    EQ|  51.05|  51.35|   49.1|  49.45|   49.4|    51.45|  1092731| 5.46426994E7|02-MAR-2022|       7273|INE748C01038| -1.5999999999999943|-3.1341821743388723|\n",
      "|   3MINDIA|    EQ|21480.0|21480.0|20730.0|20923.1|20925.0|  21208.4|     1823|3.829445575E7|02-MAR-2022|       1120|INE470A01017|  -556.9000000000015|-2.5926443202979583|\n",
      "|    3PLAND|    BE|   15.9|  16.15|   14.8|   15.5|  15.65|    15.55|     8318|     128580.0|02-MAR-2022|         70|INE105C01023|-0.40000000000000036|-2.5157232704402537|\n",
      "+----------+------+-------+-------+-------+-------+-------+---------+---------+-------------+-----------+-----------+------------+--------------------+-------------------+\n",
      "only showing top 5 rows\n",
      "\n"
     ]
    }
   ],
   "source": [
    "# add/derive a column withColumn GAIN = CLOSE - OPEN\n",
    "# add/derive a column withColumn GAINP = ( GAIN / OPEN ) * 100\n",
    "# where as abs is function from pyspark.sql.functions\n",
    "from pyspark.sql.functions import col\n",
    "dailyDf = dailyDf.withColumn(\"GAIN\", col(\"CLOSE\") - col(\"OPEN\"))\\\n",
    "                 .withColumn(\"GAINP\", (col(\"GAIN\") / col(\"OPEN\") )   * 100)\n",
    "\n",
    "dailyDf.printSchema()\n",
    "dailyDf.show(5)"
   ]
  },
  {
   "cell_type": "code",
   "execution_count": null,
   "id": "84ee65d7-2f82-4123-8c59-b7cacc1accd3",
   "metadata": {},
   "outputs": [],
   "source": []
  }
 ],
 "metadata": {
  "kernelspec": {
   "display_name": "Python 3",
   "language": "python",
   "name": "python3"
  },
  "language_info": {
   "codemirror_mode": {
    "name": "ipython",
    "version": 3
   },
   "file_extension": ".py",
   "mimetype": "text/x-python",
   "name": "python",
   "nbconvert_exporter": "python",
   "pygments_lexer": "ipython3",
   "version": "3.7.12"
  }
 },
 "nbformat": 4,
 "nbformat_minor": 5
}
