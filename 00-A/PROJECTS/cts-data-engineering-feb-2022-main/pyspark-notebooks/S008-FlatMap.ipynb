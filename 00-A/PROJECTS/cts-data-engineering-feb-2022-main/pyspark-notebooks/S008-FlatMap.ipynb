{
 "cells": [
  {
   "cell_type": "code",
   "execution_count": 1,
   "id": "c5c5dfe7-ea7e-4daa-9767-532f0baabcfd",
   "metadata": {},
   "outputs": [],
   "source": [
    "import findspark\n",
    "findspark.init()"
   ]
  },
  {
   "cell_type": "code",
   "execution_count": 2,
   "id": "021ce1dc-a1d6-48c8-bbf5-b0e70e5790f5",
   "metadata": {},
   "outputs": [
    {
     "name": "stderr",
     "output_type": "stream",
     "text": [
      "22/03/01 01:18:26 WARN Utils: Your hostname, ubuntu-virtual-machine resolves to a loopback address: 127.0.1.1; using 192.168.80.128 instead (on interface ens33)\n",
      "22/03/01 01:18:26 WARN Utils: Set SPARK_LOCAL_IP if you need to bind to another address\n",
      "22/03/01 01:18:27 WARN NativeCodeLoader: Unable to load native-hadoop library for your platform... using builtin-java classes where applicable\n",
      "Using Spark's default log4j profile: org/apache/spark/log4j-defaults.properties\n",
      "Setting default log level to \"WARN\".\n",
      "To adjust logging level use sc.setLogLevel(newLevel). For SparkR, use setLogLevel(newLevel).\n",
      "22/03/01 01:18:30 WARN Utils: Service 'SparkUI' could not bind on port 4040. Attempting port 4041.\n",
      "22/03/01 01:18:30 WARN Utils: Service 'SparkUI' could not bind on port 4041. Attempting port 4042.\n"
     ]
    }
   ],
   "source": [
    "from pyspark import SparkContext\n",
    "sc = SparkContext(\"local\", \"FlatMap\")"
   ]
  },
  {
   "cell_type": "code",
   "execution_count": 3,
   "id": "7c832944-be93-42e8-963e-59b31ef3d5af",
   "metadata": {},
   "outputs": [],
   "source": [
    "# List of List of elements\n",
    "data = [\n",
    "    [1,2,3],\n",
    "    [4,5,6],\n",
    "    [7,8,9]\n",
    "]\n",
    "\n",
    "rdd = sc.parallelize(data) # 1 partition, local"
   ]
  },
  {
   "cell_type": "code",
   "execution_count": 5,
   "id": "cc608a06-e2dc-41f8-8772-73320da006f3",
   "metadata": {},
   "outputs": [
    {
     "name": "stdout",
     "output_type": "stream",
     "text": [
      "Count  3\n"
     ]
    },
    {
     "data": {
      "text/plain": [
       "[[1, 2, 3], [4, 5, 6], [7, 8, 9]]"
      ]
     },
     "execution_count": 5,
     "metadata": {},
     "output_type": "execute_result"
    }
   ],
   "source": [
    "rddMap = rdd.map ( lambda r: r ) # return list as is [1,2,3]\n",
    "# let us see output of map \n",
    "# List of List of elements\n",
    "print(\"Count \", rddMap.count()) # 3\n",
    "rddMap.collect()"
   ]
  },
  {
   "cell_type": "code",
   "execution_count": 6,
   "id": "5324d5d1-d50d-4291-b9e9-8786d35afdbb",
   "metadata": {},
   "outputs": [
    {
     "name": "stdout",
     "output_type": "stream",
     "text": [
      "Count  9\n"
     ]
    },
    {
     "data": {
      "text/plain": [
       "[1, 2, 3, 4, 5, 6, 7, 8, 9]"
      ]
     },
     "execution_count": 6,
     "metadata": {},
     "output_type": "execute_result"
    }
   ],
   "source": [
    "# flatMap\n",
    "# flatten elements inside array into elements\n",
    "# remove the list, project elements are records\n",
    "# each element in the list will be 1 record\n",
    "rddFlatMap = rdd.flatMap (lambda r: r) \n",
    "print (\"Count \", rddFlatMap.count())\n",
    "rddFlatMap.collect()"
   ]
  },
  {
   "cell_type": "code",
   "execution_count": null,
   "id": "c60c8735-6ec7-4d45-8916-b66520568774",
   "metadata": {},
   "outputs": [],
   "source": []
  }
 ],
 "metadata": {
  "kernelspec": {
   "display_name": "Python 3 (ipykernel)",
   "language": "python",
   "name": "python3"
  },
  "language_info": {
   "codemirror_mode": {
    "name": "ipython",
    "version": 3
   },
   "file_extension": ".py",
   "mimetype": "text/x-python",
   "name": "python",
   "nbconvert_exporter": "python",
   "pygments_lexer": "ipython3",
   "version": "3.7.12"
  }
 },
 "nbformat": 4,
 "nbformat_minor": 5
}
