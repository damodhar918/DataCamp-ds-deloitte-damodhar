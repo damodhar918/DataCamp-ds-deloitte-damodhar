{
 "cells": [
  {
   "cell_type": "code",
   "execution_count": 2,
   "id": "2bc4f3bd-2763-40ac-8b91-1d02265b7ff4",
   "metadata": {},
   "outputs": [],
   "source": [
    "import findspark\n",
    "findspark.init()"
   ]
  },
  {
   "cell_type": "code",
   "execution_count": 3,
   "id": "28ebb0b8-ad19-48d7-9f32-2060f221ee2e",
   "metadata": {},
   "outputs": [],
   "source": [
    "from pyspark.conf import SparkConf\n",
    "config = SparkConf()\n",
    "# config.set(\"property\", \"value\")\n",
    "config.setMaster(\"local\").setAppName(\"FileFormats\")\n",
    "\n",
    "from pyspark.sql import SparkSession\n",
    "# spark Session, entry point for Spark SQL, DataFrame\n",
    "spark = SparkSession.builder\\\n",
    "                    .config(conf=config)\\\n",
    "                    .getOrCreate()\n",
    "\n",
    "sc = spark.sparkContext"
   ]
  },
  {
   "cell_type": "code",
   "execution_count": 4,
   "id": "ad3282d1-ac70-4065-97a2-16fdca0e40cb",
   "metadata": {},
   "outputs": [],
   "source": [
    "# inferSchema will cause performance issue while loading\n",
    "\n",
    "movieDf = spark.read.format(\"csv\")\\\n",
    "                .option(\"header\", True)\\\n",
    "                .option(\"inferSchema\", True)\\\n",
    "                .load(\"hdfs://localhost:9000/movies\")"
   ]
  },
  {
   "cell_type": "code",
   "execution_count": 6,
   "id": "e7ed0fdf-2c4a-4c5e-84f7-5656532da93c",
   "metadata": {},
   "outputs": [
    {
     "data": {
      "text/plain": [
       "1"
      ]
     },
     "execution_count": 6,
     "metadata": {},
     "output_type": "execute_result"
    }
   ],
   "source": [
    "movieDf.rdd.getNumPartitions()"
   ]
  },
  {
   "cell_type": "code",
   "execution_count": 5,
   "id": "ee8c727b-769f-4627-b60a-9c2c6f705d1a",
   "metadata": {},
   "outputs": [],
   "source": [
    "ratingDf = spark.read.format(\"csv\")\\\n",
    "                .option(\"header\", True)\\\n",
    "                .option(\"inferSchema\", True)\\\n",
    "                .load(\"hdfs://localhost:9000/ratings\")"
   ]
  },
  {
   "cell_type": "code",
   "execution_count": 7,
   "id": "6a4f3cdf-98d7-42d8-b763-bb95d67befbe",
   "metadata": {},
   "outputs": [],
   "source": [
    "# convert movies to json \n",
    "movieDf.write.mode(\"overwrite\")\\\n",
    "                .json(\"hdfs://localhost:9000/movies-json\")\n"
   ]
  },
  {
   "cell_type": "code",
   "execution_count": 8,
   "id": "0c1dae2f-e25b-479f-84ee-1d85a250b118",
   "metadata": {},
   "outputs": [],
   "source": [
    "# convert ratings to json\n",
    "ratingDf.write.mode(\"overwrite\")\\\n",
    "                .json(\"hdfs://localhost:9000/ratings-json\")"
   ]
  },
  {
   "cell_type": "code",
   "execution_count": 9,
   "id": "8fde630e-07c2-45ee-9815-2a85b9210bc8",
   "metadata": {},
   "outputs": [
    {
     "name": "stdout",
     "output_type": "stream",
     "text": [
      "root\n",
      " |-- genres: string (nullable = true)\n",
      " |-- movieId: long (nullable = true)\n",
      " |-- title: string (nullable = true)\n",
      "\n",
      "+--------------------+-------+--------------------+\n",
      "|              genres|movieId|               title|\n",
      "+--------------------+-------+--------------------+\n",
      "|Adventure|Animati...|      1|    Toy Story (1995)|\n",
      "|Adventure|Childre...|      2|      Jumanji (1995)|\n",
      "|      Comedy|Romance|      3|Grumpier Old Men ...|\n",
      "|Comedy|Drama|Romance|      4|Waiting to Exhale...|\n",
      "|              Comedy|      5|Father of the Bri...|\n",
      "+--------------------+-------+--------------------+\n",
      "only showing top 5 rows\n",
      "\n"
     ]
    }
   ],
   "source": [
    "# READ JSON FILE into DataFrame\n",
    "movieJsonDf = spark.read.format(\"json\")\\\n",
    "                .option(\"inferSchema\", True)\\\n",
    "                .load(\"hdfs://localhost:9000/movies-json\")\n",
    "\n",
    "movieJsonDf.printSchema()\n",
    "movieJsonDf.show(5)"
   ]
  },
  {
   "cell_type": "code",
   "execution_count": 10,
   "id": "89e4e20f-273d-44ea-b8b0-0546aa7014d6",
   "metadata": {},
   "outputs": [
    {
     "name": "stdout",
     "output_type": "stream",
     "text": [
      "root\n",
      " |-- movieId: long (nullable = true)\n",
      " |-- rating: double (nullable = true)\n",
      " |-- timestamp: long (nullable = true)\n",
      " |-- userId: long (nullable = true)\n",
      "\n",
      "+-------+------+---------+------+\n",
      "|movieId|rating|timestamp|userId|\n",
      "+-------+------+---------+------+\n",
      "|      1|   4.0|964982703|     1|\n",
      "|      3|   4.0|964981247|     1|\n",
      "|      6|   4.0|964982224|     1|\n",
      "|     47|   5.0|964983815|     1|\n",
      "|     50|   5.0|964982931|     1|\n",
      "+-------+------+---------+------+\n",
      "only showing top 5 rows\n",
      "\n"
     ]
    }
   ],
   "source": [
    "# READ JSON FILE into DataFrame\n",
    "ratingJsonDf = spark.read.format(\"json\")\\\n",
    "                .option(\"inferSchema\", True)\\\n",
    "                .load(\"hdfs://localhost:9000/ratings-json\")\n",
    "\n",
    "ratingJsonDf.printSchema()\n",
    "ratingJsonDf.show(5)"
   ]
  },
  {
   "cell_type": "code",
   "execution_count": 11,
   "id": "a7d4e0d5-eac3-4490-9722-3afc6c323f73",
   "metadata": {},
   "outputs": [],
   "source": [
    "# parquet\n",
    "# Write data frame into parquet format\n",
    "\n",
    "movieDf.write.mode(\"overwrite\")\\\n",
    "                .parquet(\"hdfs://localhost:9000/movies-parquet\")\n",
    "\n",
    "ratingDf.write.mode(\"overwrite\")\\\n",
    "                .parquet(\"hdfs://localhost:9000/ratings-parquet\")"
   ]
  },
  {
   "cell_type": "code",
   "execution_count": 13,
   "id": "1a4a1180-3d97-4d2d-b7d6-3c92ec997d38",
   "metadata": {},
   "outputs": [
    {
     "name": "stdout",
     "output_type": "stream",
     "text": [
      "root\n",
      " |-- movieId: integer (nullable = true)\n",
      " |-- title: string (nullable = true)\n",
      " |-- genres: string (nullable = true)\n",
      "\n",
      "+-------+--------------------+--------------------+\n",
      "|movieId|               title|              genres|\n",
      "+-------+--------------------+--------------------+\n",
      "|      1|    Toy Story (1995)|Adventure|Animati...|\n",
      "|      2|      Jumanji (1995)|Adventure|Childre...|\n",
      "|      3|Grumpier Old Men ...|      Comedy|Romance|\n",
      "|      4|Waiting to Exhale...|Comedy|Drama|Romance|\n",
      "|      5|Father of the Bri...|              Comedy|\n",
      "+-------+--------------------+--------------------+\n",
      "only showing top 5 rows\n",
      "\n"
     ]
    }
   ],
   "source": [
    "# READ Parquet FILE into DataFrame\n",
    "# inferSchema not needed as parquet has schema itself\n",
    "movieParquetDf = spark.read.format(\"parquet\")\\\n",
    "                .load(\"hdfs://localhost:9000/movies-parquet\")\n",
    "\n",
    "movieParquetDf.printSchema()\n",
    "movieParquetDf.show(5)"
   ]
  },
  {
   "cell_type": "code",
   "execution_count": 14,
   "id": "b962d6e2-56dd-49b9-86ed-73534baf01ea",
   "metadata": {},
   "outputs": [
    {
     "name": "stdout",
     "output_type": "stream",
     "text": [
      "root\n",
      " |-- userId: integer (nullable = true)\n",
      " |-- movieId: integer (nullable = true)\n",
      " |-- rating: double (nullable = true)\n",
      " |-- timestamp: integer (nullable = true)\n",
      "\n",
      "+------+-------+------+---------+\n",
      "|userId|movieId|rating|timestamp|\n",
      "+------+-------+------+---------+\n",
      "|     1|      1|   4.0|964982703|\n",
      "|     1|      3|   4.0|964981247|\n",
      "|     1|      6|   4.0|964982224|\n",
      "|     1|     47|   5.0|964983815|\n",
      "|     1|     50|   5.0|964982931|\n",
      "+------+-------+------+---------+\n",
      "only showing top 5 rows\n",
      "\n"
     ]
    }
   ],
   "source": [
    "# READ Parquet FILE into DataFrame\n",
    "# inferSchema not needed as parquet has schema itself\n",
    "ratingParquetDf = spark.read.format(\"parquet\")\\\n",
    "                .load(\"hdfs://localhost:9000/ratings-parquet\")\n",
    "\n",
    "ratingParquetDf.printSchema()\n",
    "ratingParquetDf.show(5)"
   ]
  },
  {
   "cell_type": "code",
   "execution_count": 12,
   "id": "752c2aca-8fd4-4804-961e-a93b0065fc5f",
   "metadata": {},
   "outputs": [],
   "source": [
    "# orc, optimized columnar format\n",
    "# Write data frame into orc format\n",
    "# https://orc.apache.org\n",
    "movieDf.write.mode(\"overwrite\")\\\n",
    "                .orc(\"hdfs://localhost:9000/movies-orc\")\n",
    "\n",
    "ratingDf.write.mode(\"overwrite\")\\\n",
    "                .orc(\"hdfs://localhost:9000/ratings-orc\")"
   ]
  },
  {
   "cell_type": "code",
   "execution_count": 15,
   "id": "5644a008-e7d4-48b2-9cf7-a53b6f567fbe",
   "metadata": {},
   "outputs": [
    {
     "name": "stdout",
     "output_type": "stream",
     "text": [
      "root\n",
      " |-- userId: integer (nullable = true)\n",
      " |-- movieId: integer (nullable = true)\n",
      " |-- rating: double (nullable = true)\n",
      " |-- timestamp: integer (nullable = true)\n",
      "\n",
      "+------+-------+------+---------+\n",
      "|userId|movieId|rating|timestamp|\n",
      "+------+-------+------+---------+\n",
      "|     1|      1|   4.0|964982703|\n",
      "|     1|      3|   4.0|964981247|\n",
      "|     1|      6|   4.0|964982224|\n",
      "|     1|     47|   5.0|964983815|\n",
      "|     1|     50|   5.0|964982931|\n",
      "+------+-------+------+---------+\n",
      "only showing top 5 rows\n",
      "\n"
     ]
    }
   ],
   "source": [
    "# READ Orc FILE into DataFrame\n",
    "# inferSchema not needed as orc has schema itself\n",
    "ratingOrcDf = spark.read.format(\"orc\")\\\n",
    "                .load(\"hdfs://localhost:9000/ratings-orc\")\n",
    "\n",
    "ratingOrcDf.printSchema()\n",
    "ratingOrcDf.show(5)"
   ]
  },
  {
   "cell_type": "code",
   "execution_count": 16,
   "id": "758c3451-9108-4731-834d-b2b604c9b993",
   "metadata": {},
   "outputs": [
    {
     "name": "stdout",
     "output_type": "stream",
     "text": [
      "root\n",
      " |-- movieId: integer (nullable = true)\n",
      " |-- title: string (nullable = true)\n",
      " |-- genres: string (nullable = true)\n",
      "\n",
      "+-------+--------------------+--------------------+\n",
      "|movieId|               title|              genres|\n",
      "+-------+--------------------+--------------------+\n",
      "|      1|    Toy Story (1995)|Adventure|Animati...|\n",
      "|      2|      Jumanji (1995)|Adventure|Childre...|\n",
      "|      3|Grumpier Old Men ...|      Comedy|Romance|\n",
      "|      4|Waiting to Exhale...|Comedy|Drama|Romance|\n",
      "|      5|Father of the Bri...|              Comedy|\n",
      "+-------+--------------------+--------------------+\n",
      "only showing top 5 rows\n",
      "\n"
     ]
    }
   ],
   "source": [
    "# READ Orc FILE into DataFrame\n",
    "# inferSchema not needed as orc has schema itself\n",
    "moviesOrcDf = spark.read.format(\"orc\")\\\n",
    "                .load(\"hdfs://localhost:9000/movies-orc\")\n",
    "\n",
    "moviesOrcDf.printSchema()\n",
    "moviesOrcDf.show(5)"
   ]
  },
  {
   "cell_type": "code",
   "execution_count": null,
   "id": "94aedd5d-47bd-46a0-af68-6f8761487773",
   "metadata": {},
   "outputs": [],
   "source": []
  }
 ],
 "metadata": {
  "kernelspec": {
   "display_name": "Python 3",
   "language": "python",
   "name": "python3"
  },
  "language_info": {
   "codemirror_mode": {
    "name": "ipython",
    "version": 3
   },
   "file_extension": ".py",
   "mimetype": "text/x-python",
   "name": "python",
   "nbconvert_exporter": "python",
   "pygments_lexer": "ipython3",
   "version": "3.7.12"
  }
 },
 "nbformat": 4,
 "nbformat_minor": 5
}
