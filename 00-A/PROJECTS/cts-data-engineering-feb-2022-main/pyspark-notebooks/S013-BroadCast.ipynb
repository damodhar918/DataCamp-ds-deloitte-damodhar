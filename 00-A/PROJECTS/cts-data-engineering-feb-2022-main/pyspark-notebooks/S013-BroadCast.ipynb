{
 "cells": [
  {
   "cell_type": "code",
   "execution_count": 2,
   "id": "1a503977-30ff-4a58-aefd-2225d0a888fc",
   "metadata": {},
   "outputs": [],
   "source": [
    "import findspark\n",
    "findspark.init()"
   ]
  },
  {
   "cell_type": "code",
   "execution_count": 3,
   "id": "8531ad6e-8954-4a2b-9294-6e002c118d8b",
   "metadata": {},
   "outputs": [
    {
     "name": "stderr",
     "output_type": "stream",
     "text": [
      "22/03/02 00:40:20 WARN Utils: Your hostname, ubuntu-virtual-machine resolves to a loopback address: 127.0.1.1; using 192.168.80.128 instead (on interface ens33)\n",
      "22/03/02 00:40:20 WARN Utils: Set SPARK_LOCAL_IP if you need to bind to another address\n",
      "22/03/02 00:40:21 WARN NativeCodeLoader: Unable to load native-hadoop library for your platform... using builtin-java classes where applicable\n",
      "Using Spark's default log4j profile: org/apache/spark/log4j-defaults.properties\n",
      "Setting default log level to \"WARN\".\n",
      "To adjust logging level use sc.setLogLevel(newLevel). For SparkR, use setLogLevel(newLevel).\n",
      "22/03/02 00:40:22 WARN Utils: Service 'SparkUI' could not bind on port 4040. Attempting port 4041.\n"
     ]
    }
   ],
   "source": [
    "from pyspark import SparkContext\n",
    "sc = SparkContext(\"local\", \"BroadCast\")"
   ]
  },
  {
   "cell_type": "code",
   "execution_count": 7,
   "id": "448bea79-cd3f-4b9d-8d54-4540975cb2df",
   "metadata": {},
   "outputs": [],
   "source": [
    "sector_dict = {\n",
    "        \"MSFT\": \"TECH\",\n",
    "        \"TSLA\": \"AUTO\",\n",
    "        \"EMR\": \"INDUSTRIAL\"\n",
    "}\n",
    "\n",
    "stocks = [\n",
    "    (\"EMR\", 52.0),\n",
    "    (\"TSLA\", 300.0),\n",
    "    (\"MSFT\", 100.0)\n",
    "]"
   ]
  },
  {
   "cell_type": "code",
   "execution_count": 8,
   "id": "66251ead-3e3b-4c97-95d4-7b40db29f0b1",
   "metadata": {},
   "outputs": [],
   "source": [
    "# create broadcasted variabel using Spark Context\n",
    "# this will ensure that sector_dict is kept in every executor \n",
    "# where task shall be running\n",
    "# lazy evaluation, data shall be copied to executors when we run the job\n",
    "broadCastSectorDict = sc.broadcast(sector_dict)"
   ]
  },
  {
   "cell_type": "code",
   "execution_count": 9,
   "id": "f0c77fbe-f4ab-4815-970c-64121c5ef18b",
   "metadata": {},
   "outputs": [],
   "source": [
    "stocksRdd = sc.parallelize(stocks)"
   ]
  },
  {
   "cell_type": "code",
   "execution_count": 10,
   "id": "bcd2ec24-feac-4bc1-b489-348a82287c9a",
   "metadata": {},
   "outputs": [],
   "source": [
    "# Pyspark see this code, this has reference to broadCastSectorDict\n",
    "# which is broardcast data, pyspark place the broadCastSectorDict in every executor\n",
    "# 1 time instead of every job\n",
    "# without broadCast, sector_dict shall be copied to executor for every task\n",
    "# add sector code with stock at executor level when task running\n",
    "def enrichStockWithSector(stock):\n",
    "    return stock + (broadCastSectorDict.value[stock[0]] ,)"
   ]
  },
  {
   "cell_type": "code",
   "execution_count": 11,
   "id": "1c344111-1100-4ac6-8e11-ffc0d0a57a68",
   "metadata": {},
   "outputs": [],
   "source": [
    "# code marshalling - Python copy the lamnda code to executor system/processor\n",
    "# now enrichStockWithSector also shipped to executor on every task\n",
    "enrichedRdd = stocksRdd.map (lambda stock: enrichStockWithSector(stock))\n"
   ]
  },
  {
   "cell_type": "code",
   "execution_count": 12,
   "id": "ce31ee83-d14a-4994-a789-4c1db35d2833",
   "metadata": {},
   "outputs": [
    {
     "name": "stderr",
     "output_type": "stream",
     "text": [
      "                                                                                \r"
     ]
    },
    {
     "data": {
      "text/plain": [
       "[('MSFT', 100.0, 'TECH'), ('EMR', 52.0, 'INDUSTRIAL'), ('TSLA', 300.0, 'AUTO')]"
      ]
     },
     "execution_count": 12,
     "metadata": {},
     "output_type": "execute_result"
    }
   ],
   "source": [
    "enrichedRdd.collect()"
   ]
  },
  {
   "cell_type": "code",
   "execution_count": 13,
   "id": "1b10d6e1-7ce9-49d7-b04e-fdc388d2da1b",
   "metadata": {},
   "outputs": [
    {
     "data": {
      "text/plain": [
       "False"
      ]
     },
     "execution_count": 13,
     "metadata": {},
     "output_type": "execute_result"
    }
   ],
   "source": [
    "# is rdd empty or not\n",
    "\n",
    "enrichedRdd.isEmpty() # False"
   ]
  },
  {
   "cell_type": "code",
   "execution_count": 14,
   "id": "f3aba86e-79b9-471a-9d5f-8599a99c821f",
   "metadata": {},
   "outputs": [
    {
     "data": {
      "text/plain": [
       "True"
      ]
     },
     "execution_count": 14,
     "metadata": {},
     "output_type": "execute_result"
    }
   ],
   "source": [
    "eRdd = sc.parallelize([])\n",
    "eRdd.isEmpty() # True"
   ]
  },
  {
   "cell_type": "code",
   "execution_count": null,
   "id": "651d261b-098f-4b11-afc2-29d6c9df3d92",
   "metadata": {},
   "outputs": [],
   "source": []
  }
 ],
 "metadata": {
  "kernelspec": {
   "display_name": "Python 3 (ipykernel)",
   "language": "python",
   "name": "python3"
  },
  "language_info": {
   "codemirror_mode": {
    "name": "ipython",
    "version": 3
   },
   "file_extension": ".py",
   "mimetype": "text/x-python",
   "name": "python",
   "nbconvert_exporter": "python",
   "pygments_lexer": "ipython3",
   "version": "3.7.12"
  }
 },
 "nbformat": 4,
 "nbformat_minor": 5
}
