{
 "cells": [
  {
   "cell_type": "code",
   "execution_count": 1,
   "id": "9e2cb79c-d74e-4bf7-b9a9-10a3fce1f33f",
   "metadata": {},
   "outputs": [],
   "source": [
    "import findspark\n",
    "findspark.init()"
   ]
  },
  {
   "cell_type": "code",
   "execution_count": 2,
   "id": "d2b656aa-6245-4dfd-b434-b30cc6fb2757",
   "metadata": {},
   "outputs": [
    {
     "name": "stderr",
     "output_type": "stream",
     "text": [
      "22/03/01 22:47:03 WARN Utils: Your hostname, ubuntu-virtual-machine resolves to a loopback address: 127.0.1.1; using 192.168.80.128 instead (on interface ens33)\n",
      "22/03/01 22:47:03 WARN Utils: Set SPARK_LOCAL_IP if you need to bind to another address\n",
      "22/03/01 22:47:04 WARN NativeCodeLoader: Unable to load native-hadoop library for your platform... using builtin-java classes where applicable\n",
      "Using Spark's default log4j profile: org/apache/spark/log4j-defaults.properties\n",
      "Setting default log level to \"WARN\".\n",
      "To adjust logging level use sc.setLogLevel(newLevel). For SparkR, use setLogLevel(newLevel).\n"
     ]
    }
   ],
   "source": [
    "from pyspark import SparkContext\n",
    "sc = SparkContext(\"local\", \"WordCount\")"
   ]
  },
  {
   "cell_type": "code",
   "execution_count": 3,
   "id": "66b6c3cb-ea6e-4719-b77b-ab8046975a0e",
   "metadata": {},
   "outputs": [],
   "source": [
    "# Lazy evaluation, files won't be read until some action is applied on data\n",
    "fileRdd = sc.textFile(\"hdfs://localhost:9000/words.txt\")\n"
   ]
  },
  {
   "cell_type": "code",
   "execution_count": 5,
   "id": "b159e742-80a4-46c5-ad55-e14859dfd120",
   "metadata": {},
   "outputs": [
    {
     "data": {
      "text/plain": [
       "6"
      ]
     },
     "execution_count": 5,
     "metadata": {},
     "output_type": "execute_result"
    }
   ],
   "source": [
    "# Count is an action method, it has read file, get the count from executors\n",
    "# the files shall be read from hdfs by executor, load content into partitions, get the count\n",
    "fileRdd.count()"
   ]
  },
  {
   "cell_type": "code",
   "execution_count": 8,
   "id": "c7fd0ba0-6d05-4dc8-b508-8f0fb84b8c69",
   "metadata": {},
   "outputs": [
    {
     "data": {
      "text/plain": [
       "['   spark kafka  ',\n",
       " ' kafka   spark pyspark ',\n",
       " '                ',\n",
       " 'spark',\n",
       " '',\n",
       " 'APACHE Kafka APache SParK ']"
      ]
     },
     "execution_count": 8,
     "metadata": {},
     "output_type": "execute_result"
    }
   ],
   "source": [
    "# collect is a action method, this also create job, read data from hdfs etc\n",
    "fileRdd.collect()"
   ]
  },
  {
   "cell_type": "code",
   "execution_count": 6,
   "id": "bd6d8f81-3c2e-4bef-ae24-8874224da09e",
   "metadata": {},
   "outputs": [],
   "source": [
    "# RDD Lineage\n",
    "# Map is transformation ,lazy evaluation, no job is created\n",
    "lowerCaseRdd = fileRdd.map (lambda line: line.strip().lower())\n"
   ]
  },
  {
   "cell_type": "code",
   "execution_count": 7,
   "id": "bb92001c-dab2-43f8-9f96-1605e946930d",
   "metadata": {},
   "outputs": [
    {
     "data": {
      "text/plain": [
       "['spark kafka',\n",
       " 'kafka   spark pyspark',\n",
       " '',\n",
       " 'spark',\n",
       " '',\n",
       " 'apache kafka apache spark']"
      ]
     },
     "execution_count": 7,
     "metadata": {},
     "output_type": "execute_result"
    }
   ],
   "source": [
    "# collect is action, creates job, load files, read file, remove space\n",
    "lowerCaseRdd.collect()"
   ]
  },
  {
   "cell_type": "code",
   "execution_count": 8,
   "id": "ac82a4e9-0165-4990-8a27-7c7281e4229e",
   "metadata": {},
   "outputs": [],
   "source": [
    "wordListRdd = lowerCaseRdd.map (lambda line: line.split(\" \"))"
   ]
  },
  {
   "cell_type": "code",
   "execution_count": 9,
   "id": "2eed47d7-6445-4120-8c18-9b9dc67742d5",
   "metadata": {},
   "outputs": [
    {
     "data": {
      "text/plain": [
       "[['spark', 'kafka'],\n",
       " ['kafka', '', '', 'spark', 'pyspark'],\n",
       " [''],\n",
       " ['spark'],\n",
       " [''],\n",
       " ['apache', 'kafka', 'apache', 'spark']]"
      ]
     },
     "execution_count": 9,
     "metadata": {},
     "output_type": "execute_result"
    }
   ],
   "source": [
    "wordListRdd.collect()"
   ]
  },
  {
   "cell_type": "code",
   "execution_count": 10,
   "id": "238d831f-c6ad-4f7a-a657-bfc480733de1",
   "metadata": {},
   "outputs": [],
   "source": [
    "# flatMap, remove the list, project element in the list as record\n",
    "wordRdd = wordListRdd.flatMap(lambda elements: elements)\n"
   ]
  },
  {
   "cell_type": "code",
   "execution_count": 11,
   "id": "77641c2f-61ab-4a2b-9ed9-e6e04933a5fd",
   "metadata": {},
   "outputs": [
    {
     "data": {
      "text/plain": [
       "['spark',\n",
       " 'kafka',\n",
       " 'kafka',\n",
       " '',\n",
       " '',\n",
       " 'spark',\n",
       " 'pyspark',\n",
       " '',\n",
       " 'spark',\n",
       " '',\n",
       " 'apache',\n",
       " 'kafka',\n",
       " 'apache',\n",
       " 'spark']"
      ]
     },
     "execution_count": 11,
     "metadata": {},
     "output_type": "execute_result"
    }
   ],
   "source": [
    "wordRdd.collect()"
   ]
  },
  {
   "cell_type": "code",
   "execution_count": 12,
   "id": "daf50354-0090-4f80-8dbd-0751bc5d72be",
   "metadata": {},
   "outputs": [],
   "source": [
    "wordRdd =  wordRdd.filter (lambda word: word != \"\")\n"
   ]
  },
  {
   "cell_type": "code",
   "execution_count": 13,
   "id": "091b6607-1288-40a0-9158-e4bf028fb7b8",
   "metadata": {},
   "outputs": [
    {
     "data": {
      "text/plain": [
       "['spark',\n",
       " 'kafka',\n",
       " 'kafka',\n",
       " 'spark',\n",
       " 'pyspark',\n",
       " 'spark',\n",
       " 'apache',\n",
       " 'kafka',\n",
       " 'apache',\n",
       " 'spark']"
      ]
     },
     "execution_count": 13,
     "metadata": {},
     "output_type": "execute_result"
    }
   ],
   "source": [
    "wordRdd.collect()"
   ]
  },
  {
   "cell_type": "code",
   "execution_count": 14,
   "id": "260627d3-e2c6-4741-8e3b-c24200cd65ff",
   "metadata": {},
   "outputs": [],
   "source": [
    "# convert word into (key,value) rdd (spark, 1) for reduceByKey\n",
    "pairRdd = wordRdd.map (lambda word: (word, 1))\n"
   ]
  },
  {
   "cell_type": "code",
   "execution_count": 22,
   "id": "7dfb099a-b968-4ecc-8709-c08d3ce6d60d",
   "metadata": {},
   "outputs": [
    {
     "data": {
      "text/plain": [
       "b'(1) PythonRDD[6] at collect at /tmp/ipykernel_95905/3746809788.py:1 []\\n |  hdfs://localhost:9000/words.txt MapPartitionsRDD[1] at textFile at NativeMethodAccessorImpl.java:0 []\\n |  hdfs://localhost:9000/words.txt HadoopRDD[0] at textFile at NativeMethodAccessorImpl.java:0 []'"
      ]
     },
     "execution_count": 22,
     "metadata": {},
     "output_type": "execute_result"
    }
   ],
   "source": [
    "wordRdd.toDebugString()"
   ]
  },
  {
   "cell_type": "code",
   "execution_count": 15,
   "id": "5dfd81db-f312-4e01-828f-f957b5752531",
   "metadata": {},
   "outputs": [
    {
     "data": {
      "text/plain": [
       "[('spark', 1),\n",
       " ('kafka', 1),\n",
       " ('kafka', 1),\n",
       " ('spark', 1),\n",
       " ('pyspark', 1),\n",
       " ('spark', 1),\n",
       " ('apache', 1),\n",
       " ('kafka', 1),\n",
       " ('apache', 1),\n",
       " ('spark', 1)]"
      ]
     },
     "execution_count": 15,
     "metadata": {},
     "output_type": "execute_result"
    }
   ],
   "source": [
    "pairRdd.collect()"
   ]
  },
  {
   "cell_type": "code",
   "execution_count": 16,
   "id": "b5aead8b-ae09-420a-a20b-16a709b907bf",
   "metadata": {},
   "outputs": [],
   "source": [
    "# get word count using reduceByKey\n",
    "# transformation\n",
    "wordCountRdd = pairRdd.reduceByKey(lambda acc, value: acc + value)\n"
   ]
  },
  {
   "cell_type": "code",
   "execution_count": 17,
   "id": "debf8ee7-227e-4976-8e86-9dbeea5297b3",
   "metadata": {},
   "outputs": [
    {
     "data": {
      "text/plain": [
       "[('spark', 4), ('kafka', 3), ('pyspark', 1), ('apache', 2)]"
      ]
     },
     "execution_count": 17,
     "metadata": {},
     "output_type": "execute_result"
    }
   ],
   "source": [
    "wordCountRdd.collect()"
   ]
  },
  {
   "cell_type": "code",
   "execution_count": 18,
   "id": "4bfb51cb-385e-4e6e-a25d-2be937d17ed1",
   "metadata": {},
   "outputs": [
    {
     "data": {
      "text/plain": [
       "1"
      ]
     },
     "execution_count": 18,
     "metadata": {},
     "output_type": "execute_result"
    }
   ],
   "source": [
    "# plan\n",
    "wordCountRdd.getNumPartitions()"
   ]
  },
  {
   "cell_type": "code",
   "execution_count": 21,
   "id": "d7a05749-86ff-4329-9a8d-bde7bd9e8427",
   "metadata": {},
   "outputs": [],
   "source": [
    "# write the result into text file in hdfs\n",
    "# saveAsTextFile is an ACTION Method\n",
    "# word-count-results1 is a folder, inside we will shall partition files\n",
    "\n",
    "wordCountRdd.saveAsTextFile (\"hdfs://localhost:9000/word-count-results3\")"
   ]
  },
  {
   "cell_type": "code",
   "execution_count": 19,
   "id": "2923c9b0-1bb9-420c-8bd5-e62572ae0817",
   "metadata": {},
   "outputs": [],
   "source": [
    "# hdfs dfs -ls /word-count-results1\n",
    "#  _SUCCESS 0 bytes , to state that last operation successfuly stored\n",
    "# part-00000 - partition files \n",
    "# note the partition file name, part-00000 or other file name \n",
    "# hdfs dfs -cat /word-count-results1/part-00000\n",
    "\n",
    "# use hdfs web ui  http://localhost:50070/"
   ]
  },
  {
   "cell_type": "code",
   "execution_count": 20,
   "id": "140566b7-6034-462f-8d24-ae947f6a51b1",
   "metadata": {},
   "outputs": [],
   "source": [
    "# saveAsTextFile with two partitioned data\n",
    "wordCountRdd.repartition(2)\\\n",
    "            .saveAsTextFile(\"hdfs://localhost:9000/word-count-results2\")"
   ]
  },
  {
   "cell_type": "code",
   "execution_count": null,
   "id": "be3b860a-cd0f-408e-a033-2806dbd2d0c3",
   "metadata": {},
   "outputs": [],
   "source": [
    "# hdfs dfs -ls /word-count-results2\n",
    "# hdfs dfs -cat /word-count-results2/part-00000\n",
    "# hdfs dfs -cat /word-count-results2/part-00001"
   ]
  }
 ],
 "metadata": {
  "kernelspec": {
   "display_name": "Python 3 (ipykernel)",
   "language": "python",
   "name": "python3"
  },
  "language_info": {
   "codemirror_mode": {
    "name": "ipython",
    "version": 3
   },
   "file_extension": ".py",
   "mimetype": "text/x-python",
   "name": "python",
   "nbconvert_exporter": "python",
   "pygments_lexer": "ipython3",
   "version": "3.7.12"
  }
 },
 "nbformat": 4,
 "nbformat_minor": 5
}
