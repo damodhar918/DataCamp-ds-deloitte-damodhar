{
 "cells": [
  {
   "cell_type": "code",
   "execution_count": 1,
   "id": "c9dc6002-24cd-4d73-a277-9962dba710ac",
   "metadata": {},
   "outputs": [],
   "source": [
    "import findspark\n",
    "findspark.init()"
   ]
  },
  {
   "cell_type": "code",
   "execution_count": 2,
   "id": "24a5045d-203f-419c-bbdc-1456457041bc",
   "metadata": {},
   "outputs": [
    {
     "name": "stderr",
     "output_type": "stream",
     "text": [
      "22/03/02 02:42:39 WARN Utils: Your hostname, ubuntu-virtual-machine resolves to a loopback address: 127.0.1.1; using 192.168.80.128 instead (on interface ens33)\n",
      "22/03/02 02:42:39 WARN Utils: Set SPARK_LOCAL_IP if you need to bind to another address\n",
      "22/03/02 02:42:40 WARN NativeCodeLoader: Unable to load native-hadoop library for your platform... using builtin-java classes where applicable\n",
      "Using Spark's default log4j profile: org/apache/spark/log4j-defaults.properties\n",
      "Setting default log level to \"WARN\".\n",
      "To adjust logging level use sc.setLogLevel(newLevel). For SparkR, use setLogLevel(newLevel).\n",
      "22/03/02 02:42:41 WARN Utils: Service 'SparkUI' could not bind on port 4040. Attempting port 4041.\n",
      "22/03/02 02:42:41 WARN Utils: Service 'SparkUI' could not bind on port 4041. Attempting port 4042.\n",
      "22/03/02 02:42:41 WARN Utils: Service 'SparkUI' could not bind on port 4042. Attempting port 4043.\n",
      "22/03/02 02:42:41 WARN Utils: Service 'SparkUI' could not bind on port 4043. Attempting port 4044.\n"
     ]
    }
   ],
   "source": [
    "from pyspark import SparkContext\n",
    "sc = SparkContext(\"local\", \"ForEach\")"
   ]
  },
  {
   "cell_type": "code",
   "execution_count": 8,
   "id": "a17ba67e-a2f0-4a70-adf7-a2092c9b7472",
   "metadata": {},
   "outputs": [
    {
     "name": "stderr",
     "output_type": "stream",
     "text": [
      "acc 0 value 200 output 200\n",
      "acc 0 value 50 output 50\n",
      "acc 0 value 20 output 20\n",
      "acc 0 value 100 output 100\n",
      "acc 0 value 25 output 25\n",
      "acc 200 value 100 output 300\n",
      "acc 50 value 25 output 75\n"
     ]
    },
    {
     "data": {
      "text/plain": [
       "[('INFY', 300), ('EMR', 20), ('TSLA', 75)]"
      ]
     },
     "execution_count": 8,
     "metadata": {},
     "output_type": "execute_result"
    }
   ],
   "source": [
    "# foreach \n",
    "# apply a function to each element in the rdd [all partitions]\n",
    "# write any custom functions that deal with db, datastore, cache etc\n",
    "\n",
    "\n",
    "orders = [\n",
    "    # symbol, qty\n",
    "    ('INFY', 200),\n",
    "    ('TSLA', 50),\n",
    "    ('EMR', 20),\n",
    "    ('INFY', 100),\n",
    "    ('TSLA', 25)\n",
    "]\n",
    "\n",
    "def add(acc, value):\n",
    "    output = acc + value\n",
    "    print(\"acc\", acc, \"value\", value, \"output\", output)\n",
    "    return output\n",
    "\n",
    "orderRdd = sc.parallelize(orders, 2)\n",
    "# refer S015-Fold for example,\n",
    "resultRdd = orderRdd.foldByKey(0, add)\n",
    "resultRdd.collect()"
   ]
  },
  {
   "cell_type": "code",
   "execution_count": 9,
   "id": "ee6ea663-d161-4400-8614-8b350840b95d",
   "metadata": {},
   "outputs": [
    {
     "name": "stderr",
     "output_type": "stream",
     "text": [
      "acc 200 value 100 output 300\n",
      "Saving  ('INFY', 300)  to db \n",
      "Saving  ('EMR', 20)  to db \n",
      "acc 50 value 25 output 75\n",
      "Saving  ('TSLA', 75)  to db \n"
     ]
    }
   ],
   "source": [
    "# resultRdd has result, now we apply foreach, it may store data to data store\n",
    "# good for processing ONE RESULT at a time\n",
    "# foreach executed in executor process, not in driver\n",
    "def updateDB(stock):\n",
    "    #Todo, update, insert, delete record\n",
    "    print(\"Saving \", str(stock), \" to db \")\n",
    "    \n",
    "# foreach is ACTION method\n",
    "resultRdd.foreach(updateDB)"
   ]
  },
  {
   "cell_type": "code",
   "execution_count": 10,
   "id": "2e9fc8e1-ad03-41a9-a1d1-0194a091dcf0",
   "metadata": {},
   "outputs": [
    {
     "name": "stderr",
     "output_type": "stream",
     "text": [
      "acc 200 value 100 output 300\n",
      "Process data called \n",
      "Processing  ('INFY', 300)\n",
      "Processing  ('EMR', 20)\n",
      "------------------------------\n",
      "acc 50 value 25 output 75\n",
      "Process data called \n",
      "Processing  ('TSLA', 75)\n",
      "------------------------------\n"
     ]
    }
   ],
   "source": [
    "# foreachPartition\n",
    "# custom logic to handle data in the partitions\n",
    "# runs inside executors\n",
    "# foreach process 1 element at a time, \n",
    "# where as foreachPartition can process all \n",
    "# partition data as bulk\n",
    "# bulk insert/update/delete\n",
    "\n",
    "# iterator will have each partition data as whole\n",
    "# part0 - 5 records, then iterator shall have 5 records\n",
    "# processData is called by foreachPartition on executor for each partition\n",
    "# iterator passed for foreachPartition\n",
    "def processData(iterator):\n",
    "    print(\"Process data called \")\n",
    "    for record in iterator:\n",
    "        print (\"Processing \", str(record))\n",
    "        \n",
    "    print ('-' * 30)\n",
    "# Action method\n",
    "resultRdd.foreachPartition(processData)"
   ]
  },
  {
   "cell_type": "code",
   "execution_count": null,
   "id": "354cbb3c-9265-435e-bd64-87f8f5edf0c8",
   "metadata": {},
   "outputs": [],
   "source": []
  }
 ],
 "metadata": {
  "kernelspec": {
   "display_name": "Python 3 (ipykernel)",
   "language": "python",
   "name": "python3"
  },
  "language_info": {
   "codemirror_mode": {
    "name": "ipython",
    "version": 3
   },
   "file_extension": ".py",
   "mimetype": "text/x-python",
   "name": "python",
   "nbconvert_exporter": "python",
   "pygments_lexer": "ipython3",
   "version": "3.7.12"
  }
 },
 "nbformat": 4,
 "nbformat_minor": 5
}
