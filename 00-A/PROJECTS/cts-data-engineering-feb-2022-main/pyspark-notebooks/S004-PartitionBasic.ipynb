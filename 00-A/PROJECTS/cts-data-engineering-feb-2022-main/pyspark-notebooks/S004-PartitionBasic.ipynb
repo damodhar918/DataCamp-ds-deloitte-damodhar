{
 "cells": [
  {
   "cell_type": "code",
   "execution_count": 1,
   "id": "62a2e39d-208e-4cb0-a22b-a1b29cd5896c",
   "metadata": {},
   "outputs": [],
   "source": [
    "import findspark\n",
    "findspark.init()"
   ]
  },
  {
   "cell_type": "code",
   "execution_count": 2,
   "id": "971aedaf-36de-41d0-8ae6-68fd7193e6ba",
   "metadata": {},
   "outputs": [
    {
     "name": "stderr",
     "output_type": "stream",
     "text": [
      "22/02/28 22:43:45 WARN Utils: Your hostname, ubuntu-virtual-machine resolves to a loopback address: 127.0.1.1; using 192.168.80.128 instead (on interface ens33)\n",
      "22/02/28 22:43:45 WARN Utils: Set SPARK_LOCAL_IP if you need to bind to another address\n",
      "22/02/28 22:43:45 WARN NativeCodeLoader: Unable to load native-hadoop library for your platform... using builtin-java classes where applicable\n",
      "Using Spark's default log4j profile: org/apache/spark/log4j-defaults.properties\n",
      "Setting default log level to \"WARN\".\n",
      "To adjust logging level use sc.setLogLevel(newLevel). For SparkR, use setLogLevel(newLevel).\n",
      "22/02/28 22:43:47 WARN Utils: Service 'SparkUI' could not bind on port 4040. Attempting port 4041.\n",
      "22/02/28 22:43:47 WARN Utils: Service 'SparkUI' could not bind on port 4041. Attempting port 4042.\n"
     ]
    }
   ],
   "source": [
    "from pyspark import SparkContext\n",
    "sc = SparkContext(\"local\", \"PartitionBasic\")"
   ]
  },
  {
   "cell_type": "code",
   "execution_count": 5,
   "id": "8e91870a-1407-4150-9e87-15f2822b31a8",
   "metadata": {},
   "outputs": [],
   "source": [
    "data = range(1, 10)\n",
    "\n",
    "rdd = sc.parallelize(data)"
   ]
  },
  {
   "cell_type": "code",
   "execution_count": 7,
   "id": "c378cd28-3225-4fdf-8ad0-be9d18df403b",
   "metadata": {},
   "outputs": [
    {
     "data": {
      "text/plain": [
       "1"
      ]
     },
     "execution_count": 7,
     "metadata": {},
     "output_type": "execute_result"
    }
   ],
   "source": [
    "# to get number of partitions planned for rdd \n",
    "# we used \"local\" for master, mean single or 1 parallel tasks by default\n",
    "rdd.getNumPartitions()"
   ]
  },
  {
   "cell_type": "code",
   "execution_count": 9,
   "id": "63e3f017-13b2-49cd-88f8-5b71936fc33a",
   "metadata": {},
   "outputs": [
    {
     "name": "stdout",
     "output_type": "stream",
     "text": [
      "[1, 2, 3, 4, 5, 6, 7, 8, 9]\n"
     ]
    }
   ],
   "source": [
    "# to collect data from all partitions\n",
    "# return a list of all elements\n",
    "result = rdd.collect()\n",
    "print(result)"
   ]
  },
  {
   "cell_type": "code",
   "execution_count": 12,
   "id": "6a783936-dd3d-4005-a6a2-d76a94002702",
   "metadata": {},
   "outputs": [
    {
     "name": "stdout",
     "output_type": "stream",
     "text": [
      "[1, 2, 3, 4, 5]\n"
     ]
    }
   ],
   "source": [
    "# to collect data from first partitions based on limit number of items\n",
    "# try to read from first partition if it has 3 elements, otherwise\n",
    "# remaining items it will\n",
    "# fetch from other partitions, first, second, third partitions\n",
    "# take is action method\n",
    "result = rdd.take(5) \n",
    "print(result)"
   ]
  },
  {
   "cell_type": "code",
   "execution_count": 13,
   "id": "5f3004b2-c3d9-4497-a65b-2ff260992d65",
   "metadata": {},
   "outputs": [
    {
     "name": "stdout",
     "output_type": "stream",
     "text": [
      "[[1, 2, 3, 4, 5, 6, 7, 8, 9]]\n"
     ]
    }
   ],
   "source": [
    "# now collect data from each partitions\n",
    "# result will be list of list of elements, \n",
    "# where each list contains specific partition data\n",
    "# glom() get all the partitions, collect collect data from each partition\n",
    "result = rdd.glom().collect()\n",
    "print(result)"
   ]
  },
  {
   "cell_type": "code",
   "execution_count": null,
   "id": "76d5262b-4e04-4e82-a111-0ce37f286cfb",
   "metadata": {},
   "outputs": [],
   "source": []
  }
 ],
 "metadata": {
  "kernelspec": {
   "display_name": "Python 3 (ipykernel)",
   "language": "python",
   "name": "python3"
  },
  "language_info": {
   "codemirror_mode": {
    "name": "ipython",
    "version": 3
   },
   "file_extension": ".py",
   "mimetype": "text/x-python",
   "name": "python",
   "nbconvert_exporter": "python",
   "pygments_lexer": "ipython3",
   "version": "3.7.12"
  }
 },
 "nbformat": 4,
 "nbformat_minor": 5
}
