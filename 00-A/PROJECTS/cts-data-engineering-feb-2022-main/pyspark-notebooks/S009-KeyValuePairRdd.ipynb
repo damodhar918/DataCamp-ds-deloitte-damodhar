{
 "cells": [
  {
   "cell_type": "code",
   "execution_count": 1,
   "id": "0d7d136d-6d83-4193-8c9a-fb2149b674f4",
   "metadata": {},
   "outputs": [],
   "source": [
    "import findspark\n",
    "findspark.init()"
   ]
  },
  {
   "cell_type": "code",
   "execution_count": 2,
   "id": "d977bbe8-c835-480c-9927-bf8a4734e1c9",
   "metadata": {},
   "outputs": [
    {
     "name": "stderr",
     "output_type": "stream",
     "text": [
      "22/03/01 01:31:58 WARN Utils: Your hostname, ubuntu-virtual-machine resolves to a loopback address: 127.0.1.1; using 192.168.80.128 instead (on interface ens33)\n",
      "22/03/01 01:31:58 WARN Utils: Set SPARK_LOCAL_IP if you need to bind to another address\n",
      "22/03/01 01:31:58 WARN NativeCodeLoader: Unable to load native-hadoop library for your platform... using builtin-java classes where applicable\n",
      "Using Spark's default log4j profile: org/apache/spark/log4j-defaults.properties\n",
      "Setting default log level to \"WARN\".\n",
      "To adjust logging level use sc.setLogLevel(newLevel). For SparkR, use setLogLevel(newLevel).\n",
      "22/03/01 01:31:59 WARN Utils: Service 'SparkUI' could not bind on port 4040. Attempting port 4041.\n",
      "22/03/01 01:31:59 WARN Utils: Service 'SparkUI' could not bind on port 4041. Attempting port 4042.\n",
      "22/03/01 01:31:59 WARN Utils: Service 'SparkUI' could not bind on port 4042. Attempting port 4043.\n"
     ]
    }
   ],
   "source": [
    "from pyspark import SparkContext\n",
    "sc = SparkContext(\"local\", \"KeyValuePairRDD\")"
   ]
  },
  {
   "cell_type": "code",
   "execution_count": 6,
   "id": "076a9bd6-0d39-4c90-b543-2cdeba32a6ee",
   "metadata": {},
   "outputs": [],
   "source": [
    "# Key Value pair formed from tuple, where as first element in tuple is known as key\n",
    "# second element known as value\n",
    "# (key, value)\n",
    "# apple is key, 20 is value\n",
    "data = [\n",
    "    ('apple', 20),\n",
    "    ('orange', 30),\n",
    "    ('apple', 10),\n",
    "    ('mango', 50)\n",
    "]\n",
    "\n",
    "rdd = sc.parallelize(data)\n"
   ]
  },
  {
   "cell_type": "code",
   "execution_count": 7,
   "id": "cb0ebb29-5f29-494a-9f66-aae4701ec435",
   "metadata": {},
   "outputs": [
    {
     "data": {
      "text/plain": [
       "defaultdict(int, {'apple': 2, 'orange': 1, 'mango': 1})"
      ]
     },
     "execution_count": 7,
     "metadata": {},
     "output_type": "execute_result"
    }
   ],
   "source": [
    "# find the count keys\n",
    "# for rdd functions with \"Key\" can use this dataset\n",
    "\n",
    "result = rdd.countByKey() # action\n",
    "result # result is dictionary, it returns count of keys"
   ]
  },
  {
   "cell_type": "code",
   "execution_count": 9,
   "id": "3430592e-40f7-4636-84f9-7090901138b6",
   "metadata": {},
   "outputs": [
    {
     "data": {
      "text/plain": [
       "[('apple', 30), ('orange', 30), ('mango', 50)]"
      ]
     },
     "execution_count": 9,
     "metadata": {},
     "output_type": "execute_result"
    }
   ],
   "source": [
    "# find the total kilogram of fruits sold (apple - 30, orange - 30, mongo - 50)\n",
    "# reduceByKey , useful for sum or custom code\n",
    "# lambda function here woun't be called first time when key found\n",
    "\"\"\"\n",
    "Input\n",
    "('apple', 20) <- apple is first time, this value directly placed in table, lambda not called\n",
    "('orange', 30) <- orange is first time, this value directly placed in table, lambda not called\n",
    "('apple', 10) <- apple is second time, lambda shall be called\n",
    "                 lambda has two params, acc, value\n",
    "                 acc value taken from table shown below, value from record \n",
    "                 acc = 20, value  10\n",
    "                 (20, 10) => acc + value = (20 + 10) = 30, this value updated in table\n",
    "('mango', 50)<- first time, lambda not called, values directly placed\n",
    "\n",
    "Virtaually there is table\n",
    "\n",
    "Key       acc\n",
    "apple     30\n",
    "orange    30\n",
    "mango     50\n",
    "\"\"\"\n",
    "# acc is just variable, called accumulator\n",
    "# value is from rdd, 20, 30, 10 ,50\n",
    "result = rdd.reduceByKey(lambda acc, value: acc + value)\n",
    "result.collect()"
   ]
  },
  {
   "cell_type": "code",
   "execution_count": null,
   "id": "78f3c5d0-0cc6-4c13-ac43-a57d0c599a3e",
   "metadata": {},
   "outputs": [],
   "source": []
  }
 ],
 "metadata": {
  "kernelspec": {
   "display_name": "Python 3 (ipykernel)",
   "language": "python",
   "name": "python3"
  },
  "language_info": {
   "codemirror_mode": {
    "name": "ipython",
    "version": 3
   },
   "file_extension": ".py",
   "mimetype": "text/x-python",
   "name": "python",
   "nbconvert_exporter": "python",
   "pygments_lexer": "ipython3",
   "version": "3.7.12"
  }
 },
 "nbformat": 4,
 "nbformat_minor": 5
}
