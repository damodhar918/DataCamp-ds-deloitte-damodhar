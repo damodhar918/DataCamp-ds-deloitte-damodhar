{
 "cells": [
  {
   "cell_type": "code",
   "execution_count": 2,
   "id": "f10457e6-ef54-4270-9664-8725bcf973fc",
   "metadata": {},
   "outputs": [],
   "source": [
    "import findspark\n",
    "findspark.init()"
   ]
  },
  {
   "cell_type": "code",
   "execution_count": 3,
   "id": "5a0e2e9d-66b3-4ae7-8fbd-7d4213eb3717",
   "metadata": {},
   "outputs": [],
   "source": [
    "from pyspark.conf import SparkConf\n",
    "config = SparkConf()\n",
    "# config.set(\"property\", \"value\")\n",
    "config.setMaster(\"local\").setAppName(\"DataFrameBasic\")\n",
    "\n",
    "from pyspark.sql import SparkSession\n",
    "# spark Session, entry point for Spark SQL, DataFrame\n",
    "spark = SparkSession.builder\\\n",
    "                    .config(conf=config)\\\n",
    "                    .getOrCreate()\n",
    "\n",
    "sc = spark.sparkContext"
   ]
  },
  {
   "cell_type": "code",
   "execution_count": 4,
   "id": "b7e2369d-b7cc-49fd-bcdc-97d9dcdd9191",
   "metadata": {},
   "outputs": [],
   "source": [
    "# spark dataframe\n",
    "# Structured Data\n",
    "# data + schema\n",
    "# schema will contain columns and data types\n",
    "# data - rows with columns as per schema\n",
    "# DataFrame Core Engine, Spark SQL Core are same\n",
    "# DataFRame internally has RDD,, Rdd[Row]\n",
    "# DataFrame is as alias, the actual data still on RDD only\n",
    "# Data Frame is API, when we call the API, internally API is converted into \n",
    "# various plans [logical, optimized, physical plans] and finally physical plan\n",
    "# used to create Java Byte using Scala\n",
    "# When it comes to execution, it is Still RDD, transformation, action only\n"
   ]
  },
  {
   "cell_type": "code",
   "execution_count": 38,
   "id": "86bf79c5-423f-496c-9420-204aa528a2b2",
   "metadata": {},
   "outputs": [
    {
     "name": "stdout",
     "output_type": "stream",
     "text": [
      "root\n",
      " |-- product_id: long (nullable = true)\n",
      " |-- product_name: string (nullable = true)\n",
      " |-- price: double (nullable = true)\n",
      " |-- brand_id: long (nullable = true)\n",
      " |-- offer: long (nullable = true)\n",
      "\n",
      "+----------+------------+------+--------+-----+\n",
      "|product_id|product_name| price|brand_id|offer|\n",
      "+----------+------------+------+--------+-----+\n",
      "|         1|      iPhone|1000.0|     100|    0|\n",
      "|         2|      Galaxy| 545.5|     101| null|\n",
      "|         3|       Pixel|645.99|     101| null|\n",
      "+----------+------------+------+--------+-----+\n",
      "\n"
     ]
    }
   ],
   "source": [
    "products = [\n",
    "    # (product_id, product_name, price, brand_id, offer)\n",
    "    (1, 'iPhone', 1000.0, 100, 0),\n",
    "    (2, 'Galaxy', 545.50, 101, None),\n",
    "    (3, 'Pixel', 645.99, 101, None)\n",
    "]\n",
    "\n",
    "# no data type mentioned, however we will let spark to infer schema by reading data\n",
    "schema = ['product_id', 'product_name', 'price', 'brand_id', 'offer']\n",
    "\n",
    "productDf = spark.createDataFrame(data=products, schema=schema)\n",
    "\n",
    "# every data frame has schema, we can print it\n",
    "productDf.printSchema()\n",
    "# ASCII FORMAT\n",
    "productDf.show() # 20 records"
   ]
  },
  {
   "cell_type": "code",
   "execution_count": 7,
   "id": "44c8d2b1-88b6-4ff9-94c4-41a946bb13e0",
   "metadata": {},
   "outputs": [
    {
     "data": {
      "text/plain": [
       "[Row(product_id=1, product_name='iPhone', price=1000.0, brand_id=100),\n",
       " Row(product_id=2, product_name='Galaxy', price=545.5, brand_id=101),\n",
       " Row(product_id=3, product_name='Pixel', price=645.99, brand_id=101)]"
      ]
     },
     "execution_count": 7,
     "metadata": {},
     "output_type": "execute_result"
    }
   ],
   "source": [
    "# every data frame has rdd internally\n",
    "# data is nothing but api applied on rdd\n",
    "# DF is RDD of Row, each has has column name, value\n",
    "productDf.rdd.collect()"
   ]
  },
  {
   "cell_type": "code",
   "execution_count": 8,
   "id": "a1bf64cd-dc52-4f13-9c26-3b9078cbd1c5",
   "metadata": {},
   "outputs": [
    {
     "data": {
      "text/plain": [
       "1"
      ]
     },
     "execution_count": 8,
     "metadata": {},
     "output_type": "execute_result"
    }
   ],
   "source": [
    "# dataframe rdd partitions\n",
    "productDf.rdd.getNumPartitions()"
   ]
  },
  {
   "cell_type": "code",
   "execution_count": 9,
   "id": "8a74944f-d838-41e6-9e7c-5eb8d02fedc5",
   "metadata": {},
   "outputs": [],
   "source": [
    "# data frame has transformation and actions\n",
    "# transformations shall return dataframe which immutable\n",
    "# transformation are lazy\n",
    "# data frame filter\n",
    "# return a new data dataframe, it won't execute the data, no job, no action\n",
    "df = productDf.filter (productDf[\"price\"] <= 750)"
   ]
  },
  {
   "cell_type": "code",
   "execution_count": 10,
   "id": "a6c12d12-c7b8-43a6-9462-53958c56c644",
   "metadata": {},
   "outputs": [
    {
     "name": "stdout",
     "output_type": "stream",
     "text": [
      "+----------+------------+------+--------+\n",
      "|product_id|product_name| price|brand_id|\n",
      "+----------+------------+------+--------+\n",
      "|         2|      Galaxy| 545.5|     101|\n",
      "|         3|       Pixel|645.99|     101|\n",
      "+----------+------------+------+--------+\n",
      "\n"
     ]
    }
   ],
   "source": [
    "# apply actions, show is action\n",
    "df.show() # execute job"
   ]
  },
  {
   "cell_type": "code",
   "execution_count": 11,
   "id": "62b555bc-f387-4e50-8361-bdda0c477468",
   "metadata": {},
   "outputs": [
    {
     "name": "stdout",
     "output_type": "stream",
     "text": [
      "root\n",
      " |-- product_name: string (nullable = true)\n",
      " |-- price: double (nullable = true)\n",
      "\n",
      "+------------+------+\n",
      "|product_name| price|\n",
      "+------------+------+\n",
      "|      iPhone|1000.0|\n",
      "|      Galaxy| 545.5|\n",
      "|       Pixel|645.99|\n",
      "+------------+------+\n",
      "\n"
     ]
    }
   ],
   "source": [
    "# select api, projection \n",
    "df = productDf.select(\"product_name\", \"price\")\n",
    "df.printSchema()\n",
    "df.show()"
   ]
  },
  {
   "cell_type": "code",
   "execution_count": 13,
   "id": "ce6f7963-096a-41ca-89ad-3e0edba5b437",
   "metadata": {},
   "outputs": [
    {
     "name": "stdout",
     "output_type": "stream",
     "text": [
      "root\n",
      " |-- product_name: string (nullable = true)\n",
      " |-- upper(product_name): string (nullable = true)\n",
      " |-- price: double (nullable = true)\n",
      " |-- (price * 0.9): double (nullable = true)\n",
      "\n",
      "+------------+-------------------+------+-----------------+\n",
      "|product_name|upper(product_name)| price|    (price * 0.9)|\n",
      "+------------+-------------------+------+-----------------+\n",
      "|      iPhone|             IPHONE|1000.0|            900.0|\n",
      "|      Galaxy|             GALAXY| 545.5|           490.95|\n",
      "|       Pixel|              PIXEL|645.99|581.3910000000001|\n",
      "+------------+-------------------+------+-----------------+\n",
      "\n"
     ]
    }
   ],
   "source": [
    "# selectExpr dynamic expression, CAST, \n",
    "# SELECT upper(product_name), price * 0.9 \n",
    "df = productDf.selectExpr(\"product_name\", \"upper(product_name)\", \n",
    "                          \"price\", \"price  * .9\")\n",
    "\n",
    "df.printSchema()\n",
    "df.show()"
   ]
  },
  {
   "cell_type": "code",
   "execution_count": 14,
   "id": "2082f7b5-dc00-4ffe-bd97-c997de8bd6f6",
   "metadata": {},
   "outputs": [
    {
     "name": "stdout",
     "output_type": "stream",
     "text": [
      "root\n",
      " |-- product_name: string (nullable = true)\n",
      " |-- title: string (nullable = true)\n",
      " |-- price: double (nullable = true)\n",
      " |-- grand_total: double (nullable = true)\n",
      "\n",
      "+------------+------+------+-----------------+\n",
      "|product_name| title| price|      grand_total|\n",
      "+------------+------+------+-----------------+\n",
      "|      iPhone|IPHONE|1000.0|            900.0|\n",
      "|      Galaxy|GALAXY| 545.5|           490.95|\n",
      "|       Pixel| PIXEL|645.99|581.3910000000001|\n",
      "+------------+------+------+-----------------+\n",
      "\n"
     ]
    }
   ],
   "source": [
    "# selectExpr dynamic expression, CAST, \n",
    "# SELECT upper(product_name), price * 0.9 \n",
    "# mixing python, sql\n",
    "df = productDf.selectExpr(\"product_name\", \"upper(product_name) as title\", \n",
    "                          \"price\", \"price  * .9 as grand_total\")\n",
    "\n",
    "df.printSchema()\n",
    "df.show()"
   ]
  },
  {
   "cell_type": "code",
   "execution_count": 15,
   "id": "fc1dc7d6-cfcc-4d3a-921a-71fd43bf7509",
   "metadata": {},
   "outputs": [
    {
     "name": "stdout",
     "output_type": "stream",
     "text": [
      "root\n",
      " |-- product_id: long (nullable = true)\n",
      " |-- product_name: string (nullable = true)\n",
      " |-- price: double (nullable = true)\n",
      " |-- brand_id: long (nullable = true)\n",
      " |-- offer_price: double (nullable = true)\n",
      "\n",
      "+----------+------------+------+--------+-----------------+\n",
      "|product_id|product_name| price|brand_id|      offer_price|\n",
      "+----------+------------+------+--------+-----------------+\n",
      "|         1|      iPhone|1000.0|     100|            900.0|\n",
      "|         2|      Galaxy| 545.5|     101|           490.95|\n",
      "|         3|       Pixel|645.99|     101|581.3910000000001|\n",
      "+----------+------------+------+--------+-----------------+\n",
      "\n"
     ]
    }
   ],
   "source": [
    "# derived a new column called offer_price, adding new column from existing columns\n",
    "df = productDf.withColumn(\"offer_price\", productDf.price * 0.9)\n",
    "df.printSchema()\n",
    "df.show()"
   ]
  },
  {
   "cell_type": "code",
   "execution_count": 16,
   "id": "3826f8a9-d4a8-4c66-a39c-487afc3ea096",
   "metadata": {},
   "outputs": [
    {
     "name": "stdout",
     "output_type": "stream",
     "text": [
      "root\n",
      " |-- product_id: long (nullable = true)\n",
      " |-- product_name: string (nullable = true)\n",
      " |-- total: double (nullable = true)\n",
      " |-- brand_id: long (nullable = true)\n",
      "\n",
      "+----------+------------+------+--------+\n",
      "|product_id|product_name| total|brand_id|\n",
      "+----------+------------+------+--------+\n",
      "|         1|      iPhone|1000.0|     100|\n",
      "|         2|      Galaxy| 545.5|     101|\n",
      "|         3|       Pixel|645.99|     101|\n",
      "+----------+------------+------+--------+\n",
      "\n"
     ]
    }
   ],
   "source": [
    "# rename column\n",
    "df = productDf.withColumnRenamed(\"price\", \"total\")\n",
    "df.printSchema()\n",
    "df.show()"
   ]
  },
  {
   "cell_type": "code",
   "execution_count": 17,
   "id": "16ee28a0-9a02-469c-890a-87e6920e2599",
   "metadata": {},
   "outputs": [
    {
     "name": "stdout",
     "output_type": "stream",
     "text": [
      "root\n",
      " |-- product_id: long (nullable = true)\n",
      " |-- product_name: string (nullable = true)\n",
      " |-- price: double (nullable = true)\n",
      "\n",
      "+----------+------------+------+\n",
      "|product_id|product_name| price|\n",
      "+----------+------------+------+\n",
      "|         1|      iPhone|1000.0|\n",
      "|         2|      Galaxy| 545.5|\n",
      "|         3|       Pixel|645.99|\n",
      "+----------+------------+------+\n",
      "\n"
     ]
    }
   ],
   "source": [
    "# drop Columns\n",
    "df = productDf.drop(\"brand_id\")\n",
    "df.printSchema()\n",
    "df.show()"
   ]
  },
  {
   "cell_type": "code",
   "execution_count": 21,
   "id": "e9793ae6-e5fa-412e-b19b-54a209618188",
   "metadata": {},
   "outputs": [
    {
     "name": "stdout",
     "output_type": "stream",
     "text": [
      "root\n",
      " |-- product_id: long (nullable = true)\n",
      " |-- product_name: string (nullable = true)\n",
      " |-- price: double (nullable = true)\n",
      " |-- brand_id: long (nullable = true)\n",
      "\n",
      "+----------+------------+-----+--------+\n",
      "|product_id|product_name|price|brand_id|\n",
      "+----------+------------+-----+--------+\n",
      "|         2|      Galaxy|545.5|     101|\n",
      "+----------+------------+-----+--------+\n",
      "\n"
     ]
    }
   ],
   "source": [
    "# filter, where conditions\n",
    "# filter and where are same, alias\n",
    "# python expression\n",
    "df = productDf.filter( (productDf.price >= 500) & (productDf[\"price\"] < 600))\n",
    "df.printSchema()\n",
    "df.show()"
   ]
  },
  {
   "cell_type": "code",
   "execution_count": 22,
   "id": "a14826f7-9024-4135-865a-3f330ba112c8",
   "metadata": {},
   "outputs": [
    {
     "name": "stdout",
     "output_type": "stream",
     "text": [
      "root\n",
      " |-- product_id: long (nullable = true)\n",
      " |-- product_name: string (nullable = true)\n",
      " |-- price: double (nullable = true)\n",
      " |-- brand_id: long (nullable = true)\n",
      "\n",
      "+----------+------------+-----+--------+\n",
      "|product_id|product_name|price|brand_id|\n",
      "+----------+------------+-----+--------+\n",
      "|         2|      Galaxy|545.5|     101|\n",
      "+----------+------------+-----+--------+\n",
      "\n"
     ]
    }
   ],
   "source": [
    "# filter and where are same\n",
    "df = productDf.where( (productDf.price >= 500) & (productDf[\"price\"] < 600))\n",
    "df.printSchema()\n",
    "df.show()"
   ]
  },
  {
   "cell_type": "code",
   "execution_count": 23,
   "id": "33b77ea3-bf2b-4a8b-993b-0d0570073ae2",
   "metadata": {},
   "outputs": [
    {
     "name": "stdout",
     "output_type": "stream",
     "text": [
      "root\n",
      " |-- product_id: long (nullable = true)\n",
      " |-- product_name: string (nullable = true)\n",
      " |-- price: double (nullable = true)\n",
      " |-- brand_id: long (nullable = true)\n",
      "\n",
      "+----------+------------+-----+--------+\n",
      "|product_id|product_name|price|brand_id|\n",
      "+----------+------------+-----+--------+\n",
      "|         2|      Galaxy|545.5|     101|\n",
      "+----------+------------+-----+--------+\n",
      "\n"
     ]
    }
   ],
   "source": [
    "# pyspark, filter, or where with sql expression, MIX\n",
    "df = productDf.where (\" price >= 500 AND price < 600\")\n",
    "df.printSchema()\n",
    "df.show()"
   ]
  },
  {
   "cell_type": "code",
   "execution_count": 25,
   "id": "25a7f0ce-6a1c-4b8c-8d91-3271a05ea6a6",
   "metadata": {},
   "outputs": [
    {
     "name": "stdout",
     "output_type": "stream",
     "text": [
      "Column<b'price'>\n",
      "Column<b'price'>\n",
      "Column<b'price'>\n"
     ]
    }
   ],
   "source": [
    "# how to reference columns in pyspark\n",
    "print(productDf.price)\n",
    "print(productDf['price'])\n",
    "\n",
    "# with function col - column\n",
    "from pyspark.sql.functions import col\n",
    "print(col(\"price\"))"
   ]
  },
  {
   "cell_type": "code",
   "execution_count": 29,
   "id": "4cf9a6d7-036a-49c9-ac7a-3787fa7be733",
   "metadata": {},
   "outputs": [
    {
     "name": "stdout",
     "output_type": "stream",
     "text": [
      "root\n",
      " |-- product_id: long (nullable = true)\n",
      " |-- product_name: string (nullable = true)\n",
      " |-- price: double (nullable = true)\n",
      " |-- brand_id: long (nullable = true)\n",
      " |-- qty: integer (nullable = false)\n",
      " |-- amount: double (nullable = true)\n",
      "\n",
      "+----------+------------+------+--------+---+-------+\n",
      "|product_id|product_name| price|brand_id|qty| amount|\n",
      "+----------+------------+------+--------+---+-------+\n",
      "|         1|      iPhone|1000.0|     100|  4| 4000.0|\n",
      "|         2|      Galaxy| 545.5|     101|  4| 2182.0|\n",
      "|         3|       Pixel|645.99|     101|  4|2583.96|\n",
      "+----------+------------+------+--------+---+-------+\n",
      "\n"
     ]
    }
   ],
   "source": [
    "# add a new column, which a fixed constant\n",
    "from pyspark.sql.functions import lit \n",
    "# lit - literal - constant\n",
    "df = productDf.withColumn(\"qty\", lit(4))\\\n",
    "              .withColumn(\"amount\", col(\"qty\") *  col(\"price\"))\n",
    "\n",
    "df.printSchema()\n",
    "df.show()"
   ]
  },
  {
   "cell_type": "code",
   "execution_count": 34,
   "id": "e035e143-391e-4b34-a21a-d2a1d98c1ec7",
   "metadata": {},
   "outputs": [
    {
     "name": "stdout",
     "output_type": "stream",
     "text": [
      "+----------+------------+------+--------+\n",
      "|product_id|product_name| price|brand_id|\n",
      "+----------+------------+------+--------+\n",
      "|         2|      Galaxy| 545.5|     101|\n",
      "|         3|       Pixel|645.99|     101|\n",
      "|         1|      iPhone|1000.0|     100|\n",
      "+----------+------------+------+--------+\n",
      "\n"
     ]
    }
   ],
   "source": [
    "# sort data ascending order\n",
    "df = productDf.sort(\"price\")\n",
    "df.show()"
   ]
  },
  {
   "cell_type": "code",
   "execution_count": 35,
   "id": "b01763e2-7c20-4a73-858b-4cec5b839d9f",
   "metadata": {},
   "outputs": [
    {
     "name": "stdout",
     "output_type": "stream",
     "text": [
      "+----------+------------+------+--------+\n",
      "|product_id|product_name| price|brand_id|\n",
      "+----------+------------+------+--------+\n",
      "|         1|      iPhone|1000.0|     100|\n",
      "|         3|       Pixel|645.99|     101|\n",
      "|         2|      Galaxy| 545.5|     101|\n",
      "+----------+------------+------+--------+\n",
      "\n"
     ]
    }
   ],
   "source": [
    "# sorting decending order\n",
    "from pyspark.sql.functions import desc\n",
    "df = productDf.sort(desc(\"price\"))\n",
    "df.show()"
   ]
  },
  {
   "cell_type": "code",
   "execution_count": 36,
   "id": "34cc2f6a-e1eb-4bdb-be41-3f1e22880d8f",
   "metadata": {},
   "outputs": [
    {
     "name": "stdout",
     "output_type": "stream",
     "text": [
      "+----------+------------+------+--------+\n",
      "|product_id|product_name| price|brand_id|\n",
      "+----------+------------+------+--------+\n",
      "|         2|      Galaxy| 545.5|     101|\n",
      "|         3|       Pixel|645.99|     101|\n",
      "|         1|      iPhone|1000.0|     100|\n",
      "+----------+------------+------+--------+\n",
      "\n",
      "+----------+------------+------+--------+\n",
      "|product_id|product_name| price|brand_id|\n",
      "+----------+------------+------+--------+\n",
      "|         1|      iPhone|1000.0|     100|\n",
      "|         3|       Pixel|645.99|     101|\n",
      "|         2|      Galaxy| 545.5|     101|\n",
      "+----------+------------+------+--------+\n",
      "\n"
     ]
    }
   ],
   "source": [
    "# alternatively use dataframe columns if we have df reference\n",
    "df = productDf.sort (productDf.price.asc())\n",
    "df.show()\n",
    "# desc\n",
    "df = productDf.sort (productDf.price.desc())\n",
    "df.show()\n"
   ]
  },
  {
   "cell_type": "code",
   "execution_count": 39,
   "id": "d4e6cfdc-ff4a-49d8-8100-79ec6aa36d2f",
   "metadata": {},
   "outputs": [
    {
     "name": "stdout",
     "output_type": "stream",
     "text": [
      "+----------+------------+------+--------+-----+\n",
      "|product_id|product_name| price|brand_id|offer|\n",
      "+----------+------------+------+--------+-----+\n",
      "|         1|      iPhone|1000.0|     100|    0|\n",
      "|         2|      Galaxy| 545.5|     101| null|\n",
      "|         3|       Pixel|645.99|     101| null|\n",
      "+----------+------------+------+--------+-----+\n",
      "\n",
      "+----------+------------+------+--------+-----+\n",
      "|product_id|product_name| price|brand_id|offer|\n",
      "+----------+------------+------+--------+-----+\n",
      "|         1|      iPhone|1000.0|     100|    0|\n",
      "|         2|      Galaxy| 545.5|     101|    0|\n",
      "|         3|       Pixel|645.99|     101|    0|\n",
      "+----------+------------+------+--------+-----+\n",
      "\n"
     ]
    }
   ],
   "source": [
    "# now fillna /non available\n",
    "productDf.show()\n",
    "df = productDf.fillna(value=0) # null value is replaced with 0 value\n",
    "df.show()"
   ]
  },
  {
   "cell_type": "code",
   "execution_count": 42,
   "id": "2f82f6ec-81cc-4f36-a163-ca65ae46cfff",
   "metadata": {},
   "outputs": [
    {
     "name": "stdout",
     "output_type": "stream",
     "text": [
      "+----------+------------+------+--------+-----+\n",
      "|product_id|product_name| price|brand_id|offer|\n",
      "+----------+------------+------+--------+-----+\n",
      "|         1|      iPhone|1000.0|     100|    0|\n",
      "|         2|      Galaxy| 545.5|     101| null|\n",
      "|         3|       Pixel|645.99|     101| null|\n",
      "+----------+------------+------+--------+-----+\n",
      "\n",
      "+----------+------------+------+--------+-----+\n",
      "|product_id|product_name| price|brand_id|offer|\n",
      "+----------+------------+------+--------+-----+\n",
      "|         1|      iPhone|1000.0|     100|    0|\n",
      "|         2|      Galaxy| 545.5|     101|    0|\n",
      "|         3|       Pixel|645.99|     101|    0|\n",
      "+----------+------------+------+--------+-----+\n",
      "\n"
     ]
    }
   ],
   "source": [
    "# now fillna /non available, limit to specific columns\n",
    "productDf.show()\n",
    "df = productDf.fillna(value=0, subset=['offer']) # null value is replaced with 0 value\n",
    "df.show()"
   ]
  },
  {
   "cell_type": "code",
   "execution_count": null,
   "id": "581a0c81-5fc3-44c4-b99a-400486365e91",
   "metadata": {},
   "outputs": [],
   "source": []
  }
 ],
 "metadata": {
  "kernelspec": {
   "display_name": "Python 3",
   "language": "python",
   "name": "python3"
  },
  "language_info": {
   "codemirror_mode": {
    "name": "ipython",
    "version": 3
   },
   "file_extension": ".py",
   "mimetype": "text/x-python",
   "name": "python",
   "nbconvert_exporter": "python",
   "pygments_lexer": "ipython3",
   "version": "3.7.12"
  }
 },
 "nbformat": 4,
 "nbformat_minor": 5
}
