{
 "cells": [
  {
   "cell_type": "code",
   "execution_count": 1,
   "id": "a955668d-b53d-4ad7-a822-2af3fbc3f395",
   "metadata": {},
   "outputs": [],
   "source": [
    "# Functions - few lines of reusable code\n",
    "# functions accept 0, 1, ore more parameters, apply logic on parameters, return a result\n"
   ]
  },
  {
   "cell_type": "code",
   "execution_count": 9,
   "id": "6cf8fb7b-930f-403b-b7ca-cb16ab76f0dd",
   "metadata": {},
   "outputs": [
    {
     "name": "stdout",
     "output_type": "stream",
     "text": [
      "good morning\n",
      "happy learning\n",
      "good morning\n",
      "happy learning\n"
     ]
    }
   ],
   "source": [
    "# def keyword to define function, function shall have name\n",
    "\n",
    "\n",
    "# colon is mandatory, act as block statement, in other language begin, end, or {}\n",
    "# indentation mandatory for function\n",
    "# notice space for the print statement, that comes inside greeting\n",
    "# define a function, that takes 0 parameter, return no result\n",
    "\n",
    "def greeting():\n",
    "    print('good morning')\n",
    "    print('happy learning')\n",
    "\n",
    "# function ended here    , no indentation\n",
    "\n",
    "# call the function\n",
    "greeting()\n",
    "# reuse function\n",
    "greeting()"
   ]
  },
  {
   "cell_type": "code",
   "execution_count": 10,
   "id": "b7f27bbd-7818-4648-98c0-a871ec5ac43a",
   "metadata": {},
   "outputs": [
    {
     "name": "stdout",
     "output_type": "stream",
     "text": [
      "good morning Joe\n",
      "happy learning Joe\n",
      "good morning Jane\n",
      "happy learning Jane\n"
     ]
    }
   ],
   "source": [
    "# define a function that takes 1 parameter, no return result\n",
    "\n",
    "def greet(name):\n",
    "    print('good morning', name)\n",
    "    print('happy learning', name)\n",
    "    \n",
    "    \n",
    "greet('Joe') # Joe is argument to parameter name\n",
    "greet('Jane') # Jane is argument to parameter name\n",
    "\n",
    "myName = 'Jane'\n",
    "greet(myName)"
   ]
  },
  {
   "cell_type": "code",
   "execution_count": 12,
   "id": "ab250e31-aed5-4368-91d2-4863c1503b35",
   "metadata": {},
   "outputs": [
    {
     "name": "stdout",
     "output_type": "stream",
     "text": [
      "30\n",
      "10\n"
     ]
    }
   ],
   "source": [
    "# define a function that takes 2 parameters, returns sum of 2 parameters as result\n",
    "\n",
    "def add(a, b):\n",
    "    return a + b\n",
    "\n",
    "\n",
    "def sub(a, b):\n",
    "    return a - b\n",
    "\n",
    "result = add(10, 20) # return 30\n",
    "print(result)\n",
    "\n",
    "print(sub(20, 10))"
   ]
  },
  {
   "cell_type": "code",
   "execution_count": 23,
   "id": "e3fada05-f174-4ea5-84cb-24e0bb667c08",
   "metadata": {},
   "outputs": [
    {
     "name": "stdout",
     "output_type": "stream",
     "text": [
      "<class 'tuple'> ()\n",
      "0\n",
      "<class 'tuple'> (10,)\n",
      "10\n",
      "<class 'tuple'> (10, 20)\n",
      "30\n",
      "<class 'tuple'> (10, 20, 30, 40, 50)\n",
      "150\n"
     ]
    }
   ],
   "source": [
    "# Vars args\n",
    "# arbitary arguments, variable number of arguments\n",
    "# you may pass 0 parameter, or 1 parameter or 2 or any number of parameters\n",
    "# * to define vars arg\n",
    "# numbers is tuple\n",
    "\n",
    "def sum(*numbers):\n",
    "    print(type(numbers), numbers)\n",
    "    s = 0\n",
    "    # for each loop, where is n is element in numbers\n",
    "    for n in numbers:\n",
    "        s += n\n",
    "    \n",
    "    return s\n",
    "    \n",
    "print( sum() ) # no arg\n",
    "print( sum(10) ) # 1 arg\n",
    "print( sum(10, 20) ) # 2 args\n",
    "print( sum(10, 20, 30, 40, 50) ) # 5 args"
   ]
  },
  {
   "cell_type": "code",
   "execution_count": 19,
   "id": "9057fa10-3b4f-482c-bfa1-0d0cf18832df",
   "metadata": {},
   "outputs": [
    {
     "name": "stdout",
     "output_type": "stream",
     "text": [
      "placing  MSFT  price at  50  for quantity  10\n",
      "placing  FB  price at  50  for quantity  20\n"
     ]
    }
   ],
   "source": [
    "# keyword argument\n",
    "# typical setup, the parameters passed left to right\n",
    "\n",
    "def placeOrder(symbol, qty, price):\n",
    "    print ('placing ', symbol, ' price at ', price, ' for quantity ', qty) \n",
    "    \n",
    "# arguments passed left to right\n",
    "placeOrder('MSFT', 10, 50)\n",
    "\n",
    "# keyword arguments, use parameter name\n",
    "placeOrder(price = 50, qty = 20, symbol = 'FB')"
   ]
  },
  {
   "cell_type": "code",
   "execution_count": 27,
   "id": "7a948132-b2a3-44e8-a6d5-1724b80898e6",
   "metadata": {},
   "outputs": [
    {
     "name": "stdout",
     "output_type": "stream",
     "text": [
      "<class 'dict'> {'id': 1}\n",
      "getting reports from health dept\n",
      "Good ID\n",
      "<class 'dict'> {'id': 10, 'ssn': 'GHDFDFDFDSF'}\n",
      "getting reports from ssn dept\n",
      "Good SSN\n",
      "<class 'dict'> {'id': 20, 'aadhar': 'GHDFDFDFDSF', 'dl': '42343423423'}\n",
      "getting reports from dmv dept\n",
      "Good DL\n",
      "<class 'dict'> {'fb_id': 'someoneAtFB'}\n",
      "Unknown\n"
     ]
    }
   ],
   "source": [
    "# variable number of keyword arg\n",
    "# arbitary keyword arguments\n",
    "# **\n",
    "\n",
    "def getReports(**ids):\n",
    "    print (type(ids), ids)\n",
    "    \n",
    "    if 'ssn' in ids:\n",
    "        print('getting reports from ssn dept' )\n",
    "        return  'Good SSN'  # no more further steps executed\n",
    "    \n",
    "    if 'dl' in ids:\n",
    "        print('getting reports from dmv dept')\n",
    "        return 'Good DL'  # no more further steps executed\n",
    "        \n",
    "    if 'id' in ids:\n",
    "        print ('getting reports from health dept')\n",
    "        return 'Good ID'  # no more further steps executed\n",
    "    \n",
    "    return 'Unknown'\n",
    "    \n",
    "# any kwyword=value, keyword2=value\n",
    "print ( getReports(id=1) )\n",
    "print ( getReports(id=10, ssn='GHDFDFDFDSF') )\n",
    "print ( getReports(id=20, aadhar='GHDFDFDFDSF', dl='42343423423') )\n",
    "print ( getReports (fb_id = 'someoneAtFB') )"
   ]
  },
  {
   "cell_type": "code",
   "execution_count": 33,
   "id": "027ebac4-47d7-4212-9958-7215ffa8b347",
   "metadata": {},
   "outputs": [
    {
     "name": "stdout",
     "output_type": "stream",
     "text": [
      "0\n",
      "10\n",
      "30\n",
      "20\n"
     ]
    }
   ],
   "source": [
    "# default values for parameters\n",
    "# if the caller of function doesn't pass argument values, then default values taken\n",
    "\n",
    "def add(a = 0, b = 0):\n",
    "    return a + b\n",
    "\n",
    "print ( add() ) #  a default = 0 , b default = 0\n",
    "\n",
    "print ( add(10) ) # a = 10, b is default = 0\n",
    "\n",
    "\n",
    "print ( add(10, 20) ) # a = 10, b = 20, no default used here\n",
    "\n",
    "# Keyword arg\n",
    "\n",
    "print ( add (  b = 20 ) ) # a is default = 0, b is 20\n"
   ]
  },
  {
   "cell_type": "code",
   "execution_count": 31,
   "id": "b4959561-a56f-419a-b376-1c84773e009d",
   "metadata": {},
   "outputs": [
    {
     "name": "stdout",
     "output_type": "stream",
     "text": [
      "<class 'function'>\n"
     ]
    }
   ],
   "source": [
    "print (type(add))  # function"
   ]
  },
  {
   "cell_type": "code",
   "execution_count": null,
   "id": "462f4001-85e1-401f-90e6-56373ef0c6b8",
   "metadata": {},
   "outputs": [],
   "source": [
    "\n"
   ]
  },
  {
   "cell_type": "code",
   "execution_count": null,
   "id": "ddc23129-9384-41b0-8719-ebbd379cd960",
   "metadata": {},
   "outputs": [],
   "source": []
  }
 ],
 "metadata": {
  "kernelspec": {
   "display_name": "Python 3 (ipykernel)",
   "language": "python",
   "name": "python3"
  },
  "language_info": {
   "codemirror_mode": {
    "name": "ipython",
    "version": 3
   },
   "file_extension": ".py",
   "mimetype": "text/x-python",
   "name": "python",
   "nbconvert_exporter": "python",
   "pygments_lexer": "ipython3",
   "version": "3.7.10"
  }
 },
 "nbformat": 4,
 "nbformat_minor": 5
}
