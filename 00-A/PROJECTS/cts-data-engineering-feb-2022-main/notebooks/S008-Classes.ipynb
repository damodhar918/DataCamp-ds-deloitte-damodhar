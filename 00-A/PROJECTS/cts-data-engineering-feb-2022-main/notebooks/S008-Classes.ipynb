{
 "cells": [
  {
   "cell_type": "code",
   "execution_count": 2,
   "id": "ba0a4319-93db-4250-ad3a-36dead2c4bb3",
   "metadata": {},
   "outputs": [
    {
     "name": "stdout",
     "output_type": "stream",
     "text": [
      "100.0\n",
      "100.0\n",
      "90\n",
      "110\n"
     ]
    }
   ],
   "source": [
    "# class is a prototype/ (mold like) of an object\n",
    "# use class / (mold) to create object/toy\n",
    "# we use classes to create instances  (instace=object)\n",
    "\n",
    "# object is an instance of class\n",
    "# object shall have attributes, behaviour = method\n",
    "# Simon is a person, can be represented as object\n",
    "#  object shall attributes, \n",
    "#    name, gender, age, address, profession, .........\n",
    "#   behaviour\n",
    "#    teach, drive\n",
    "\n",
    "class Product:\n",
    "    # class body\n",
    "    price = 100.0 # attributes\n",
    "    \n",
    "# create 2 instances for Product class\n",
    "p1 = Product() # create new product, we don't have new keyword in python\n",
    "p2 = Product() # create second product\n",
    "\n",
    "print(p1.price)\n",
    "print(p2.price)\n",
    "\n",
    "p1.price = 90\n",
    "p2.price = 110\n",
    "\n",
    "\n",
    "print(p1.price)\n",
    "print(p2.price)"
   ]
  },
  {
   "cell_type": "code",
   "execution_count": 5,
   "id": "faa495b7-1e38-423a-808b-460ce162a4e7",
   "metadata": {},
   "outputs": [
    {
     "name": "stdout",
     "output_type": "stream",
     "text": [
      "p1 total price 90.0\n",
      "p2 total price  320.0\n"
     ]
    }
   ],
   "source": [
    "# define a class PRoduct, price as attribute, discount as another attribute\n",
    "# define a function called grandTotal, which calculate grandTotal for the product\n",
    "# prototype/mold\n",
    "class Product:\n",
    "    price = 100\n",
    "    discount = 0\n",
    "    total = -1\n",
    "    #member function, instance method or behaviour\n",
    "    # in C#, C++, Java - this keyword, this.member, this.memberFunc, \n",
    "    # in C#, C++, Java,  this is implicit, compiler handle it internally\n",
    "    # in python this (=self) is passed as parameter (this = self )\n",
    "    # self is passed as first argument\n",
    "    # self is object of project p1, p2, p3...\n",
    "    # self must be used explicitly unlike C++/Java/Scala/C#\n",
    "    def grandTotal(self):\n",
    "        self.total = self.price - (self.price * self.discount)/100.0\n",
    "    \n",
    "    def setDiscount(self, discount):\n",
    "        self.discount = discount\n",
    "        \n",
    "p1 = Product() # new product, or new toy using mold\n",
    "p1.discount = 10 # or\n",
    "p1.setDiscount(10)\n",
    "\n",
    "# calling method on object p1 \n",
    "# python pass p1 object as self argument    \n",
    "p1.grandTotal()\n",
    "#p1.<TAB><TAB><TAB> - intellisense\n",
    "\n",
    "print(\"p1 total price\", p1.total)\n",
    "\n",
    "p2 = Product() # create new object, 2nd toy using mold\n",
    "p2.price = 400\n",
    "p2.setDiscount(20)\n",
    "# p2 is passed as self\n",
    "p2.grandTotal()\n",
    "print (\"p2 total price \", p2.total)\n"
   ]
  },
  {
   "cell_type": "code",
   "execution_count": 15,
   "id": "a5e40474-8282-4b76-9cf1-da5753ffaec6",
   "metadata": {},
   "outputs": [
    {
     "name": "stdout",
     "output_type": "stream",
     "text": [
      "__init__ called\n",
      "__init__ called\n",
      "__str__ called\n",
      "Product 0,0,0\n",
      "__str__ called\n",
      "Product 0,0,0\n",
      "__str__ called\n"
     ]
    }
   ],
   "source": [
    "# initializer  __init__ a special python function\n",
    "# compare with constructor in other languages\n",
    "# initializer called automatically whenever we create new object\n",
    "# use case: initialize default value\n",
    "\n",
    "class Product:\n",
    "    def __init__(self):\n",
    "        print(\"__init__ called\")\n",
    "        self.price = 0\n",
    "        self.discount = 0\n",
    "        self.total = 0\n",
    "        \n",
    "    # special function, called automatically whenever we want to print \n",
    "    # or apply string concatenation\n",
    "    # or use str(obj)\n",
    "    def __str__(self):\n",
    "        print ('__str__ called')\n",
    "        return 'Product ' + str(self.price) + ',' + str(self.discount) + ',' + str(self.total)\n",
    "        \n",
    "# create new object\n",
    "# it calls p1.__init__ automatically, p1 object passed as self\n",
    "p1 = Product() \n",
    "# create new object 2\n",
    "# calls __init__ \n",
    "p2 = Product()\n",
    "\n",
    "# scenario 1\n",
    "\n",
    "# __str__ called when we try to get string version of object\n",
    "text = str(p1) \n",
    "\n",
    "print(text) \n",
    "# scenario 2\n",
    "# print statement shall call str(p1) internally\n",
    "print(p1) # calls __str__ and get the output, print the output\n",
    "\n",
    "output = \"my product is \" + str(p1) \n",
    "\n",
    "\n"
   ]
  },
  {
   "cell_type": "code",
   "execution_count": 1,
   "id": "cf00168e-02e8-4e81-b935-d346a20f9f55",
   "metadata": {},
   "outputs": [
    {
     "name": "stdout",
     "output_type": "stream",
     "text": [
      "__init__ called\n",
      "__init__ called\n",
      "__init__ called\n",
      "__init__ called\n",
      "__str__ called\n",
      "Product 100,5,0\n",
      "__str__ called\n",
      "Product 200,8,0\n"
     ]
    }
   ],
   "source": [
    "# initialize object with seed value\n",
    "# other lang: constructor values\n",
    "class Product:\n",
    "    def __init__(self, price = 0, discount = 0):\n",
    "        print(\"__init__ called\")\n",
    "        self.price = price\n",
    "        self.discount = discount\n",
    "        self.total = 0\n",
    "        \n",
    "    # special function, called automatically whenever we want to print \n",
    "    # or apply string concatenation\n",
    "    # or use str(obj)\n",
    "    def __str__(self):\n",
    "        print ('__str__ called')\n",
    "        return 'Product ' + str(self.price) + ',' + str(self.discount) + ',' + str(self.total)\n",
    "        \n",
    "# initialize object with seed value\n",
    "p1 = Product(100, 5) # price = 100, discount = 5\n",
    "p2 = Product(200, 8) # price = 200, discount = 8\n",
    "p4 = Product(price = 200, discount= 8) # price = 200, discount = 8\n",
    "\n",
    "p3 = Product()  # default price = 0 discount = 0\n",
    "print(p1)\n",
    "print(p2)"
   ]
  },
  {
   "cell_type": "code",
   "execution_count": null,
   "id": "0a8e17dc-6860-40fc-83b1-4d77ea170cdc",
   "metadata": {},
   "outputs": [],
   "source": []
  }
 ],
 "metadata": {
  "kernelspec": {
   "display_name": "Python 3 (ipykernel)",
   "language": "python",
   "name": "python3"
  },
  "language_info": {
   "codemirror_mode": {
    "name": "ipython",
    "version": 3
   },
   "file_extension": ".py",
   "mimetype": "text/x-python",
   "name": "python",
   "nbconvert_exporter": "python",
   "pygments_lexer": "ipython3",
   "version": "3.7.10"
  }
 },
 "nbformat": 4,
 "nbformat_minor": 5
}
