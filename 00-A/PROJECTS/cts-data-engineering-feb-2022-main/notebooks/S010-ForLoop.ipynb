{
 "cells": [
  {
   "cell_type": "code",
   "execution_count": 1,
   "id": "572792f4-7012-49cd-99c4-86561aede494",
   "metadata": {},
   "outputs": [
    {
     "name": "stdout",
     "output_type": "stream",
     "text": [
      "FB\n",
      "AAPL\n",
      "EMR\n",
      "TSLA\n"
     ]
    }
   ],
   "source": [
    "stocks = ['FB', 'AAPL', 'EMR', 'TSLA']\n",
    "\n",
    "for stock in stocks:\n",
    "    print(stock)"
   ]
  },
  {
   "cell_type": "code",
   "execution_count": 7,
   "id": "adb65d16-8d79-4d8e-8401-fd15951b6934",
   "metadata": {},
   "outputs": [
    {
     "name": "stdout",
     "output_type": "stream",
     "text": [
      "FB\n",
      "AAPL\n",
      "EMR\n",
      "TSLA\n",
      "done processing stock\n"
     ]
    }
   ],
   "source": [
    "# for loop with else part\n",
    "# else is executed at end of for loop\n",
    "\n",
    "for s in stocks:\n",
    "    print(s)\n",
    "else:\n",
    "    print('done processing stock')"
   ]
  },
  {
   "cell_type": "code",
   "execution_count": 9,
   "id": "6d10a10f-1603-43b8-b504-5d4c238d88ec",
   "metadata": {},
   "outputs": [
    {
     "name": "stdout",
     "output_type": "stream",
     "text": [
      "FB\n",
      "AAPL\n",
      "EMR\n"
     ]
    }
   ],
   "source": [
    "# break, doesn't call else block\n",
    "\n",
    "for stock in stocks:\n",
    "    print(stock)\n",
    "    if stock == 'EMR': \n",
    "        break # come out of for loop\n",
    "else:\n",
    "    print('done processing stock')"
   ]
  },
  {
   "cell_type": "code",
   "execution_count": 6,
   "id": "0486169f-152a-4e4e-a1b4-b20cd042708c",
   "metadata": {},
   "outputs": [
    {
     "name": "stdout",
     "output_type": "stream",
     "text": [
      "FB\n",
      "AAPL\n",
      "TSLA\n",
      "done processing stock\n"
     ]
    }
   ],
   "source": [
    "# continue\n",
    "\n",
    "for stock in stocks:\n",
    "    if stock == 'EMR': \n",
    "        continue # won't process EMR, # skip EMR\n",
    "    print(stock)\n",
    "else:\n",
    "    print('done processing stock')"
   ]
  },
  {
   "cell_type": "code",
   "execution_count": 8,
   "id": "4343f7ab-6f9c-40e7-91de-5fcfa7508295",
   "metadata": {},
   "outputs": [
    {
     "name": "stdout",
     "output_type": "stream",
     "text": [
      "FB\n",
      "AAPL\n"
     ]
    },
    {
     "ename": "Exception",
     "evalue": "unknown stock EMR",
     "output_type": "error",
     "traceback": [
      "\u001b[1;31m---------------------------------------------------------------------------\u001b[0m",
      "\u001b[1;31mException\u001b[0m                                 Traceback (most recent call last)",
      "\u001b[1;32mC:\\Users\\ADMINI~1\\AppData\\Local\\Temp/ipykernel_1884/4124046558.py\u001b[0m in \u001b[0;36m<module>\u001b[1;34m\u001b[0m\n\u001b[0;32m      3\u001b[0m \u001b[1;32mfor\u001b[0m \u001b[0mstock\u001b[0m \u001b[1;32min\u001b[0m \u001b[0mstocks\u001b[0m\u001b[1;33m:\u001b[0m\u001b[1;33m\u001b[0m\u001b[1;33m\u001b[0m\u001b[0m\n\u001b[0;32m      4\u001b[0m     \u001b[1;32mif\u001b[0m \u001b[0mstock\u001b[0m \u001b[1;33m==\u001b[0m \u001b[1;34m'EMR'\u001b[0m\u001b[1;33m:\u001b[0m\u001b[1;33m\u001b[0m\u001b[1;33m\u001b[0m\u001b[0m\n\u001b[1;32m----> 5\u001b[1;33m         \u001b[1;32mraise\u001b[0m \u001b[0mException\u001b[0m\u001b[1;33m(\u001b[0m\u001b[1;34m'unknown stock '\u001b[0m \u001b[1;33m+\u001b[0m \u001b[0mstock\u001b[0m\u001b[1;33m)\u001b[0m \u001b[1;31m# come out of loop\u001b[0m\u001b[1;33m\u001b[0m\u001b[1;33m\u001b[0m\u001b[0m\n\u001b[0m\u001b[0;32m      6\u001b[0m     \u001b[0mprint\u001b[0m\u001b[1;33m(\u001b[0m\u001b[0mstock\u001b[0m\u001b[1;33m)\u001b[0m\u001b[1;33m\u001b[0m\u001b[1;33m\u001b[0m\u001b[0m\n\u001b[0;32m      7\u001b[0m \u001b[1;32melse\u001b[0m\u001b[1;33m:\u001b[0m\u001b[1;33m\u001b[0m\u001b[1;33m\u001b[0m\u001b[0m\n",
      "\u001b[1;31mException\u001b[0m: unknown stock EMR"
     ]
    }
   ],
   "source": [
    "# raise exception in for loop\n",
    "# else is not called\n",
    "\n",
    "for stock in stocks:\n",
    "    if stock == 'EMR': \n",
    "        raise Exception('unknown stock ' + stock) # come out of loop\n",
    "    print(stock)\n",
    "else:\n",
    "    print('done processing stock')"
   ]
  },
  {
   "cell_type": "code",
   "execution_count": null,
   "id": "a047669d-a125-422c-a5c0-c97a46b951b0",
   "metadata": {},
   "outputs": [],
   "source": []
  },
  {
   "cell_type": "code",
   "execution_count": 8,
   "id": "d9c6daf2-c9d6-4986-a03e-77d710ad29e8",
   "metadata": {},
   "outputs": [
    {
     "name": "stdout",
     "output_type": "stream",
     "text": [
      "FB\n",
      "AAPL\n"
     ]
    },
    {
     "ename": "Exception",
     "evalue": "unknown stock EMR",
     "output_type": "error",
     "traceback": [
      "\u001b[1;31m---------------------------------------------------------------------------\u001b[0m",
      "\u001b[1;31mException\u001b[0m                                 Traceback (most recent call last)",
      "\u001b[1;32mC:\\Users\\ADMINI~1\\AppData\\Local\\Temp/ipykernel_1884/4124046558.py\u001b[0m in \u001b[0;36m<module>\u001b[1;34m\u001b[0m\n\u001b[0;32m      3\u001b[0m \u001b[1;32mfor\u001b[0m \u001b[0mstock\u001b[0m \u001b[1;32min\u001b[0m \u001b[0mstocks\u001b[0m\u001b[1;33m:\u001b[0m\u001b[1;33m\u001b[0m\u001b[1;33m\u001b[0m\u001b[0m\n\u001b[0;32m      4\u001b[0m     \u001b[1;32mif\u001b[0m \u001b[0mstock\u001b[0m \u001b[1;33m==\u001b[0m \u001b[1;34m'EMR'\u001b[0m\u001b[1;33m:\u001b[0m\u001b[1;33m\u001b[0m\u001b[1;33m\u001b[0m\u001b[0m\n\u001b[1;32m----> 5\u001b[1;33m         \u001b[1;32mraise\u001b[0m \u001b[0mException\u001b[0m\u001b[1;33m(\u001b[0m\u001b[1;34m'unknown stock '\u001b[0m \u001b[1;33m+\u001b[0m \u001b[0mstock\u001b[0m\u001b[1;33m)\u001b[0m \u001b[1;31m# come out of loop\u001b[0m\u001b[1;33m\u001b[0m\u001b[1;33m\u001b[0m\u001b[0m\n\u001b[0m\u001b[0;32m      6\u001b[0m     \u001b[0mprint\u001b[0m\u001b[1;33m(\u001b[0m\u001b[0mstock\u001b[0m\u001b[1;33m)\u001b[0m\u001b[1;33m\u001b[0m\u001b[1;33m\u001b[0m\u001b[0m\n\u001b[0;32m      7\u001b[0m \u001b[1;32melse\u001b[0m\u001b[1;33m:\u001b[0m\u001b[1;33m\u001b[0m\u001b[1;33m\u001b[0m\u001b[0m\n",
      "\u001b[1;31mException\u001b[0m: unknown stock EMR"
     ]
    }
   ],
   "source": [
    "# raise exception in for loop\n",
    "# else is not called\n",
    "\n",
    "for stock in stocks:\n",
    "    if stock == 'EMR': \n",
    "        raise Exception('unknown stock ' + stock) # come out of loop\n",
    "    print(stock)\n",
    "else:\n",
    "    print('done processing stock')"
   ]
  }
 ],
 "metadata": {
  "kernelspec": {
   "display_name": "Python 3 (ipykernel)",
   "language": "python",
   "name": "python3"
  },
  "language_info": {
   "codemirror_mode": {
    "name": "ipython",
    "version": 3
   },
   "file_extension": ".py",
   "mimetype": "text/x-python",
   "name": "python",
   "nbconvert_exporter": "python",
   "pygments_lexer": "ipython3",
   "version": "3.7.10"
  }
 },
 "nbformat": 4,
 "nbformat_minor": 5
}
