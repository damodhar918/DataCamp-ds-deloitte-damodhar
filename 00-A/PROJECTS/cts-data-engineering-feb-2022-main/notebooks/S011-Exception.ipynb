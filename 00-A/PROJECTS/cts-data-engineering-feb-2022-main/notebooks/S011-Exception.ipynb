{
 "cells": [
  {
   "cell_type": "code",
   "execution_count": 2,
   "id": "144cefbb-e055-4118-b7a2-f898b05ae523",
   "metadata": {},
   "outputs": [
    {
     "ename": "ZeroDivisionError",
     "evalue": "division by zero",
     "output_type": "error",
     "traceback": [
      "\u001b[1;31m---------------------------------------------------------------------------\u001b[0m",
      "\u001b[1;31mZeroDivisionError\u001b[0m                         Traceback (most recent call last)",
      "\u001b[1;32mC:\\Users\\ADMINI~1\\AppData\\Local\\Temp/ipykernel_8432/4048484671.py\u001b[0m in \u001b[0;36m<module>\u001b[1;34m\u001b[0m\n\u001b[0;32m      2\u001b[0m \u001b[1;31m# exceptions are errors, that may cause your program to terminate abnormally\u001b[0m\u001b[1;33m\u001b[0m\u001b[1;33m\u001b[0m\u001b[1;33m\u001b[0m\u001b[0m\n\u001b[0;32m      3\u001b[0m \u001b[1;33m\u001b[0m\u001b[0m\n\u001b[1;32m----> 4\u001b[1;33m \u001b[1;36m42\u001b[0m \u001b[1;33m/\u001b[0m \u001b[1;36m0\u001b[0m\u001b[1;33m\u001b[0m\u001b[1;33m\u001b[0m\u001b[0m\n\u001b[0m\u001b[0;32m      5\u001b[0m \u001b[1;33m\u001b[0m\u001b[0m\n\u001b[0;32m      6\u001b[0m \u001b[0mprint\u001b[0m\u001b[1;33m(\u001b[0m\u001b[1;34m\"this will not be shown\"\u001b[0m\u001b[1;33m)\u001b[0m\u001b[1;33m\u001b[0m\u001b[1;33m\u001b[0m\u001b[0m\n",
      "\u001b[1;31mZeroDivisionError\u001b[0m: division by zero"
     ]
    }
   ],
   "source": [
    "# exception handling\n",
    "# exceptions are errors, that may cause your program to terminate abnormally\n",
    "\n",
    "# try, except, else and finally\n",
    "\n",
    "42 / 0\n",
    "\n",
    "print(\"this will not be shown\")"
   ]
  },
  {
   "cell_type": "code",
   "execution_count": 5,
   "id": "3a167fd6-5e5f-4bb6-a78e-fdbe45c89960",
   "metadata": {},
   "outputs": [
    {
     "name": "stdout",
     "output_type": "stream",
     "text": [
      "There is exception, captured\n",
      "this will be shown\n"
     ]
    }
   ],
   "source": [
    "\n",
    "try:\n",
    "    42 / 0\n",
    "    print(\"this will not be shown\")\n",
    "except:\n",
    "    print(\"There is exception, captured\")\n",
    "    \n",
    "print(\"this will be shown\")"
   ]
  },
  {
   "cell_type": "code",
   "execution_count": 6,
   "id": "e196d4d1-c2c9-4e1f-8aff-1375b2710450",
   "metadata": {},
   "outputs": [
    {
     "name": "stdout",
     "output_type": "stream",
     "text": [
      "this will be shown 21.0\n"
     ]
    }
   ],
   "source": [
    "try:\n",
    "    n = 42 / 2 # no exception, mean except won't be called\n",
    "    print(\"this will be shown\", n)\n",
    "except:\n",
    "    print (\"this won't be shown\")"
   ]
  },
  {
   "cell_type": "code",
   "execution_count": 10,
   "id": "19a572e5-7e37-4549-bfc8-79c47caff149",
   "metadata": {},
   "outputs": [
    {
     "name": "stdout",
     "output_type": "stream",
     "text": [
      "Looks like you haven't defined variable\n"
     ]
    }
   ],
   "source": [
    "# handle specific exception\n",
    "\n",
    "try:\n",
    "    42 / x # raise NameError since x is not defined earlier\n",
    "    #42 / 0 # raise ZeroDivisionError \n",
    "except ZeroDivisionError:\n",
    "    print(\"You cannot divide number by 0\")\n",
    "except NameError:\n",
    "    print (\"Looks like you haven't defined variable\")"
   ]
  },
  {
   "cell_type": "code",
   "execution_count": 12,
   "id": "e7fd2aca-bf3e-4db0-8f83-8357863c4eb4",
   "metadata": {},
   "outputs": [
    {
     "name": "stdout",
     "output_type": "stream",
     "text": [
      "at finally , cleanup\n"
     ]
    }
   ],
   "source": [
    "# finally is a block will be called on error, no error scenario\n",
    "# finally to close /release resources\n",
    "\n",
    "try:\n",
    "   # 42 / 0 # except shall be called, finally will be called\n",
    "   42 / 2 # no exception, finally will be called\n",
    "except:\n",
    "    print('exception caused')\n",
    "finally:\n",
    "    print('at finally , cleanup')"
   ]
  },
  {
   "cell_type": "code",
   "execution_count": null,
   "id": "b1ae067c-6917-46f2-bf02-470b1f2c7bc4",
   "metadata": {},
   "outputs": [],
   "source": []
  }
 ],
 "metadata": {
  "kernelspec": {
   "display_name": "Python 3 (ipykernel)",
   "language": "python",
   "name": "python3"
  },
  "language_info": {
   "codemirror_mode": {
    "name": "ipython",
    "version": 3
   },
   "file_extension": ".py",
   "mimetype": "text/x-python",
   "name": "python",
   "nbconvert_exporter": "python",
   "pygments_lexer": "ipython3",
   "version": "3.7.10"
  }
 },
 "nbformat": 4,
 "nbformat_minor": 5
}
