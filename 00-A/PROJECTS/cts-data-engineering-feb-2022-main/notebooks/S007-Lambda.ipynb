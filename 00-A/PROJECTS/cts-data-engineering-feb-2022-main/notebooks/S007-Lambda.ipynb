{
 "cells": [
  {
   "cell_type": "code",
   "execution_count": 1,
   "id": "aef8a326-fbdc-4727-8d57-0fe185feb8d2",
   "metadata": {},
   "outputs": [
    {
     "name": "stdout",
     "output_type": "stream",
     "text": [
      "25\n"
     ]
    }
   ],
   "source": [
    "# lambda is a function, one line function\n",
    "# lambda is an annonymous function - no name to be given\n",
    "\n",
    "# n ^ 2 = n * n\n",
    "# n is parameter, \n",
    "# n * n is an expression or function body, return the result of n * n \n",
    "pow = lambda n: n * n\n",
    "\n",
    "x = pow (5) # 25\n",
    "print(x)"
   ]
  },
  {
   "cell_type": "code",
   "execution_count": 7,
   "id": "4d1efc5c-d51c-4589-863f-099b965d8e13",
   "metadata": {},
   "outputs": [
    {
     "name": "stdout",
     "output_type": "stream",
     "text": [
      "<class 'function'>\n",
      "<lambda>\n"
     ]
    }
   ],
   "source": [
    "print (type(pow))\n",
    "# print lamnda function name\n",
    "print (pow.__name__)  # print <lambda>, no name printed"
   ]
  },
  {
   "cell_type": "code",
   "execution_count": 8,
   "id": "458a4b85-67fc-49d0-8254-8f86ab6b7b22",
   "metadata": {},
   "outputs": [
    {
     "name": "stdout",
     "output_type": "stream",
     "text": [
      "30\n"
     ]
    }
   ],
   "source": [
    "add = lambda a, b : a + b\n",
    "\n",
    "print (add(10, 20))"
   ]
  },
  {
   "cell_type": "code",
   "execution_count": 6,
   "id": "fe8ad974-a91f-444d-a722-19f5766f69d1",
   "metadata": {},
   "outputs": [
    {
     "name": "stdout",
     "output_type": "stream",
     "text": [
      "<class 'function'>\n",
      "power\n"
     ]
    }
   ],
   "source": [
    "# normal function, has name\n",
    "def power(n):\n",
    "    return n * n\n",
    "\n",
    "print (type(power))\n",
    "# get name from function\n",
    "print (power.__name__) # get function name  power"
   ]
  },
  {
   "cell_type": "code",
   "execution_count": 9,
   "id": "9de500ce-6d26-49a0-8a52-aad23977af72",
   "metadata": {},
   "outputs": [],
   "source": [
    "# Python support functional programming \n",
    "# In Python Functions are knwon to be first class citizen, ie functions are objects like list, dict, tuple etc\n",
    "# when functions are objects, you can pass function as arg, return function as return value like any other values\n",
    "# functional patterns like high order function, curry function etc"
   ]
  },
  {
   "cell_type": "code",
   "execution_count": 13,
   "id": "1287f920-8e94-42f4-bfc4-49e73caeccfe",
   "metadata": {},
   "outputs": [
    {
     "name": "stdout",
     "output_type": "stream",
     "text": [
      "25\n",
      "125\n",
      "5.0\n"
     ]
    }
   ],
   "source": [
    "# write a function, that returns sum of square of numbers\n",
    "# write a function, that returns sum of cube of numbers\n",
    "# write a function that return sum of sq rt of numbers\n",
    "# write a function that return sum of factorial  of numbers\n",
    "# write a function that return sum of something/my custom logic  of numbers\n",
    "\n",
    "#  sum (square(numbers))\n",
    "# sum (cube(numbers))\n",
    "\n",
    "square = lambda n : n ** 2  # n ^ 2\n",
    "\n",
    "cube = lambda n : n ** 3   # n ^ 3\n",
    "\n",
    "import math\n",
    "\n",
    "sqrt = lambda n: math.sqrt(n) # sq rt of n , math is prebuilt module, sqrt is a function in python\n",
    "\n",
    "print(square(5)) # 25\n",
    "print (cube(5)) # 125\n",
    "print ( sqrt(25)) # 5.0"
   ]
  },
  {
   "cell_type": "code",
   "execution_count": 17,
   "id": "43218ea0-700b-46f8-b3a8-24b39f843ded",
   "metadata": {},
   "outputs": [
    {
     "name": "stdout",
     "output_type": "stream",
     "text": [
      "25\n",
      "125\n",
      "2.23606797749979\n"
     ]
    }
   ],
   "source": [
    "# Higher Order Function : Functional Pattern\n",
    "# A function that accept another function as arg is called higher order function\n",
    "\n",
    "# higherOrderFunc accept function as parameter\n",
    "def higherOrderFunc(func, n):\n",
    "    r = func(n) # we call the function passed by caller, sum function don't even know what func does\n",
    "    return r\n",
    "    \n",
    "print ( higherOrderFunc(square, 5) ) # square is lambda func, we pass as argument\n",
    "print ( higherOrderFunc(cube, 5) ) # cube is lambda func, we pass as argument\n",
    "print ( higherOrderFunc(sqrt, 5) ) # sqrt is lambda func, we pass as argument\n"
   ]
  },
  {
   "cell_type": "code",
   "execution_count": 31,
   "id": "d0eb29c8-e5d0-4f34-82b3-171fd9f6372c",
   "metadata": {},
   "outputs": [
    {
     "name": "stdout",
     "output_type": "stream",
     "text": [
      "numbers  (1,)\n",
      "1\n",
      "numbers  (1, 2)\n",
      "5\n",
      "numbers  (1, 2, 3)\n",
      "14\n",
      "numbers  (1,)\n",
      "cube 1\n",
      "numbers  (1, 2)\n",
      "cube 9\n",
      "numbers  (4, 9, 25)\n",
      "sqrt 10.0\n",
      "numbers  (1, 2, 3)\n",
      "factorial  9\n"
     ]
    }
   ],
   "source": [
    "# write a function, that returns sum of square of numbers\n",
    "# write a function, that returns sum of cube of numbers\n",
    "# write a function that return sum of sq rt of numbers\n",
    "\n",
    "def sum(func, *numbers):\n",
    "    print(\"numbers \", numbers)\n",
    "    s = 0\n",
    "    for n in numbers:\n",
    "        s += func(n)\n",
    "        \n",
    "    return s # return sum of func/cube/sq/sqrt etc of numbers\n",
    "\n",
    "print  ( sum (square, 1) ) # sum of sq of 1 = 1\n",
    "\n",
    "print  ( sum (square, 1, 2) ) # sum of sq of 1 = 1,   sq of 2 = 4  (1 + 4) = 5\n",
    "print  ( sum (square, 1, 2, 3) ) # sum of sq of 1 = 1,   sq of 2 = 4 , sq of 3 = 9,  (1 + 4 + 9) = 14\n",
    "\n",
    "print  ( \"cube\", sum (cube, 1) )\n",
    "print  ( \"cube\", sum (cube, 1, 2) )\n",
    "\n",
    "print  ( \"sqrt\", sum (sqrt, 4, 9, 25) ) # 2 + 3 + 5  = 10\n",
    "\n",
    "import math\n",
    "# spark\n",
    "result = sum ( lambda n: math.factorial(n), 1, 2, 3) # 1 + 2 + 6 = 9\n",
    "\n",
    "print (\"factorial \", result)"
   ]
  },
  {
   "cell_type": "code",
   "execution_count": null,
   "id": "ac827d5a-abeb-481f-af8d-6d60cf115f7c",
   "metadata": {},
   "outputs": [],
   "source": []
  }
 ],
 "metadata": {
  "kernelspec": {
   "display_name": "Python 3 (ipykernel)",
   "language": "python",
   "name": "python3"
  },
  "language_info": {
   "codemirror_mode": {
    "name": "ipython",
    "version": 3
   },
   "file_extension": ".py",
   "mimetype": "text/x-python",
   "name": "python",
   "nbconvert_exporter": "python",
   "pygments_lexer": "ipython3",
   "version": "3.7.10"
  }
 },
 "nbformat": 4,
 "nbformat_minor": 5
}
