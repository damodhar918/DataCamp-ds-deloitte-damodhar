{
 "cells": [
  {
   "cell_type": "code",
   "execution_count": 4,
   "id": "01b5ef78-0f3a-4242-bda7-7644a7b7619d",
   "metadata": {},
   "outputs": [
    {
     "name": "stdout",
     "output_type": "stream",
     "text": [
      "{'TSLA', 'FB', 'MSFT', 'AAPL'}\n"
     ]
    }
   ],
   "source": [
    "# set is a collection\n",
    "# unordered - doesn't preserve insert order\n",
    "# unindexed - we cann't access by index number like [0], 1 ,2..\n",
    "# { } to represent set\n",
    "# immutable, unchangable\n",
    "# duplicates not allowed\n",
    "stocks = {\"MSFT\", \"TSLA\", \"AAPL\", \"FB\", 'TSLA', 'FB'}\n",
    "\n",
    "print(stocks)"
   ]
  },
  {
   "cell_type": "code",
   "execution_count": 2,
   "id": "ffbf2f8e-089e-4730-b83c-d503a4cac483",
   "metadata": {},
   "outputs": [
    {
     "name": "stdout",
     "output_type": "stream",
     "text": [
      "4\n"
     ]
    }
   ],
   "source": [
    "print(len(stocks))"
   ]
  },
  {
   "cell_type": "code",
   "execution_count": 5,
   "id": "76d39d5d-1442-43bc-9bcf-d069bd43e1ae",
   "metadata": {},
   "outputs": [
    {
     "ename": "TypeError",
     "evalue": "'set' object is not subscriptable",
     "output_type": "error",
     "traceback": [
      "\u001b[1;31m---------------------------------------------------------------------------\u001b[0m",
      "\u001b[1;31mTypeError\u001b[0m                                 Traceback (most recent call last)",
      "\u001b[1;32mC:\\Users\\ADMINI~1\\AppData\\Local\\Temp/ipykernel_8260/4182751606.py\u001b[0m in \u001b[0;36m<module>\u001b[1;34m\u001b[0m\n\u001b[1;32m----> 1\u001b[1;33m \u001b[0mprint\u001b[0m \u001b[1;33m(\u001b[0m\u001b[0mstocks\u001b[0m\u001b[1;33m[\u001b[0m\u001b[1;36m0\u001b[0m\u001b[1;33m]\u001b[0m\u001b[1;33m)\u001b[0m\u001b[1;33m\u001b[0m\u001b[1;33m\u001b[0m\u001b[0m\n\u001b[0m",
      "\u001b[1;31mTypeError\u001b[0m: 'set' object is not subscriptable"
     ]
    }
   ],
   "source": [
    "# error, we cannot access by index\n",
    "print (stocks[0])"
   ]
  },
  {
   "cell_type": "code",
   "execution_count": 6,
   "id": "78caf8ec-e67c-4719-a243-9e2ad79e59cf",
   "metadata": {},
   "outputs": [
    {
     "name": "stdout",
     "output_type": "stream",
     "text": [
      "True\n"
     ]
    }
   ],
   "source": [
    "# set membership\n",
    "\n",
    "hasFB = 'FB' in stocks\n",
    "\n",
    "print(hasFB)"
   ]
  },
  {
   "cell_type": "code",
   "execution_count": 7,
   "id": "85259d04-8a82-4b8f-8dc8-db344c94ee26",
   "metadata": {},
   "outputs": [
    {
     "name": "stdout",
     "output_type": "stream",
     "text": [
      "False\n"
     ]
    }
   ],
   "source": [
    "print ( 'EMR' in stocks )"
   ]
  },
  {
   "cell_type": "code",
   "execution_count": null,
   "id": "85a2062a-5bd9-4b83-b927-38ae28c0c8c0",
   "metadata": {},
   "outputs": [],
   "source": []
  }
 ],
 "metadata": {
  "kernelspec": {
   "display_name": "Python 3 (ipykernel)",
   "language": "python",
   "name": "python3"
  },
  "language_info": {
   "codemirror_mode": {
    "name": "ipython",
    "version": 3
   },
   "file_extension": ".py",
   "mimetype": "text/x-python",
   "name": "python",
   "nbconvert_exporter": "python",
   "pygments_lexer": "ipython3",
   "version": "3.7.10"
  }
 },
 "nbformat": 4,
 "nbformat_minor": 5
}
