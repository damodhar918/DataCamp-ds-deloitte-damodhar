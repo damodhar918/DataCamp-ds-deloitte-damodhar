{
 "cells": [
  {
   "cell_type": "code",
   "execution_count": 2,
   "id": "f335252f-f270-4749-9a34-116e18f741a0",
   "metadata": {},
   "outputs": [
    {
     "name": "stdout",
     "output_type": "stream",
     "text": [
      "Odd Number\n"
     ]
    }
   ],
   "source": [
    "# conditional statement which can evaluate to True/False\n",
    "\n",
    "n = 11\n",
    "\n",
    "if n % 2 == 0:\n",
    "    # true part\n",
    "    print(\"Even Number\")\n",
    "else:\n",
    "    # else part, False\n",
    "    print (\"Odd Number\")\n",
    "    "
   ]
  },
  {
   "cell_type": "code",
   "execution_count": 6,
   "id": "4102721a-d633-4f22-9cef-a1a47119a315",
   "metadata": {},
   "outputs": [
    {
     "name": "stdout",
     "output_type": "stream",
     "text": [
      "a is greater\n"
     ]
    }
   ],
   "source": [
    "# if else is statement, statement doesn't return any result\n",
    "# else if statement\n",
    "a = 50\n",
    "b = 40\n",
    "c = 30\n",
    "# greatest amoung\n",
    "\n",
    "if a > b and a  > c:\n",
    "    print (\"a is greater\")\n",
    "elif b > c:\n",
    "    print(\"b is greater\")\n",
    "else:\n",
    "    print(\"c is greater\")"
   ]
  },
  {
   "cell_type": "code",
   "execution_count": 8,
   "id": "d169f2ca-a70f-4915-9f91-ef633d06270b",
   "metadata": {},
   "outputs": [
    {
     "name": "stdout",
     "output_type": "stream",
     "text": [
      "Odd\n"
     ]
    }
   ],
   "source": [
    "# if   expression or similar to ternary operator\n",
    "# if used as expression that return \"Even\" or \"Odd\"\n",
    "# if expression returns output\n",
    "result = \"Even\" if 11 % 2 == 0 else \"Odd\"\n",
    "\n",
    "print(result)"
   ]
  },
  {
   "cell_type": "code",
   "execution_count": null,
   "id": "e759b0c7-4bda-4148-8cda-a8422b95bbb7",
   "metadata": {},
   "outputs": [],
   "source": []
  }
 ],
 "metadata": {
  "kernelspec": {
   "display_name": "Python 3 (ipykernel)",
   "language": "python",
   "name": "python3"
  },
  "language_info": {
   "codemirror_mode": {
    "name": "ipython",
    "version": 3
   },
   "file_extension": ".py",
   "mimetype": "text/x-python",
   "name": "python",
   "nbconvert_exporter": "python",
   "pygments_lexer": "ipython3",
   "version": "3.7.10"
  }
 },
 "nbformat": 4,
 "nbformat_minor": 5
}
