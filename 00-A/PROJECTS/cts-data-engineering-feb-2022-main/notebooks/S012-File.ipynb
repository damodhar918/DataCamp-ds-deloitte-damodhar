{
 "cells": [
  {
   "cell_type": "code",
   "execution_count": 3,
   "id": "53b887e6-1f5e-4b2c-91f8-c67871d9f591",
   "metadata": {},
   "outputs": [
    {
     "name": "stdout",
     "output_type": "stream",
     "text": [
      "learning python\n",
      "\n",
      "with jupyter\n",
      "\n"
     ]
    }
   ],
   "source": [
    "f = open(\"README.md\", \"r\")\n",
    "line = f.readline()\n",
    "print (line)\n",
    "line = f.readline()\n",
    "print (line)\n",
    "f.close()"
   ]
  },
  {
   "cell_type": "code",
   "execution_count": 7,
   "id": "bbf12ced-24a9-4c62-83b7-4fcee7c10506",
   "metadata": {},
   "outputs": [
    {
     "name": "stdout",
     "output_type": "stream",
     "text": [
      "learning python\n",
      "\n",
      "with jupyter\n",
      "\n",
      "on windows\n",
      "\n",
      "Day 3\n"
     ]
    }
   ],
   "source": [
    "f = open(\"README.md\", \"r\")\n",
    "# using iterator\n",
    "for line in f:\n",
    "    print(line)\n",
    "    \n",
    "f.close()"
   ]
  },
  {
   "cell_type": "code",
   "execution_count": 8,
   "id": "c0364f8c-fb23-4b3e-898a-303e0798a405",
   "metadata": {},
   "outputs": [
    {
     "name": "stdout",
     "output_type": "stream",
     "text": [
      "learning python\n",
      "\n",
      "with jupyter\n",
      "\n",
      "on windows\n",
      "\n",
      "Day 3\n"
     ]
    }
   ],
   "source": [
    "with open(\"README.md\", \"r\") as f:\n",
    "    for line in f:\n",
    "         print(line)\n",
    "            \n",
    "# the opened file shall be closed automatically using with statement"
   ]
  },
  {
   "cell_type": "code",
   "execution_count": null,
   "id": "728df25a-daa6-497b-a43e-5ee3ea35e047",
   "metadata": {},
   "outputs": [],
   "source": []
  }
 ],
 "metadata": {
  "kernelspec": {
   "display_name": "Python 3 (ipykernel)",
   "language": "python",
   "name": "python3"
  },
  "language_info": {
   "codemirror_mode": {
    "name": "ipython",
    "version": 3
   },
   "file_extension": ".py",
   "mimetype": "text/x-python",
   "name": "python",
   "nbconvert_exporter": "python",
   "pygments_lexer": "ipython3",
   "version": "3.7.10"
  }
 },
 "nbformat": 4,
 "nbformat_minor": 5
}
