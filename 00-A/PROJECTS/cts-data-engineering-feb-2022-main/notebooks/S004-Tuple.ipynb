{
 "cells": [
  {
   "cell_type": "code",
   "execution_count": 1,
   "id": "a7527f3d-bdd6-4341-9272-d47492abcef6",
   "metadata": {},
   "outputs": [],
   "source": [
    "# Tuple - pair of elements\n",
    "# represent a fact, event, related information\n",
    "# like record\n",
    "# Tuple is immutable - once created, it cannot be changed\n",
    "# used a lot of in Spark, big data\n",
    "# tuple elements stored in index order\n",
    "stock1 = ('MSFT', 56, 54, 57)\n",
    "product = ('iPhone', 12, 1200)\n",
    "emp = ('Joe', 'Male', 35, 6000)"
   ]
  },
  {
   "cell_type": "code",
   "execution_count": 4,
   "id": "4fc9cfe7-5f68-403d-98f6-08db23705312",
   "metadata": {},
   "outputs": [
    {
     "name": "stdout",
     "output_type": "stream",
     "text": [
      "4 3\n"
     ]
    }
   ],
   "source": [
    "print(len(stock1), len(product))\n"
   ]
  },
  {
   "cell_type": "code",
   "execution_count": 5,
   "id": "fdf3e652-fe7c-4619-9edf-a0db1fc8628d",
   "metadata": {},
   "outputs": [
    {
     "name": "stdout",
     "output_type": "stream",
     "text": [
      "MSFT\n"
     ]
    }
   ],
   "source": [
    "# to access tuple element, use [] with index starting from 0, similar to list\n",
    "\n",
    "print (stock1[0]) # MSFT"
   ]
  },
  {
   "cell_type": "code",
   "execution_count": 6,
   "id": "61b68c73-ff2f-44fa-99e0-83e70d8fc8e2",
   "metadata": {},
   "outputs": [
    {
     "name": "stdout",
     "output_type": "stream",
     "text": [
      "57\n"
     ]
    }
   ],
   "source": [
    "print (stock1[-1]) # Last item 57"
   ]
  },
  {
   "cell_type": "code",
   "execution_count": 7,
   "id": "d27713f1-86fa-45f4-88cd-e57c3a80d6ec",
   "metadata": {},
   "outputs": [
    {
     "name": "stdout",
     "output_type": "stream",
     "text": [
      "('Joe', 'Male')\n"
     ]
    }
   ],
   "source": [
    "# range lowerbound:upper bound\n",
    "\n",
    "print ( emp[0:2]) "
   ]
  },
  {
   "cell_type": "code",
   "execution_count": 8,
   "id": "522db9e6-d7ed-43ba-a357-f6e5caf20cec",
   "metadata": {},
   "outputs": [
    {
     "name": "stdout",
     "output_type": "stream",
     "text": [
      "(12, 1200)\n"
     ]
    }
   ],
   "source": [
    "print ( product[1:] )"
   ]
  },
  {
   "cell_type": "code",
   "execution_count": 10,
   "id": "3719e135-e4c2-4640-98b5-641817aef33b",
   "metadata": {},
   "outputs": [
    {
     "name": "stdout",
     "output_type": "stream",
     "text": [
      "MSFT 56 54 57\n"
     ]
    }
   ],
   "source": [
    "# unpacking tuple\n",
    "# symbol, close price, day low, day high\n",
    "# declaration = expression\n",
    "stock1 = ('MSFT', 56, 54, 57)\n",
    "# we use [], index number, which is hard to remember\n",
    "\n",
    "# assign the stock1 elements into python variable\n",
    "# note: left side is declation/definition, ( - unpackaing\n",
    "(symbol, close, low, high) = stock1\n",
    "\n",
    "print(symbol, close, low, high)\n",
    "\n",
    "\n",
    "# symbol = stock1[0]"
   ]
  },
  {
   "cell_type": "code",
   "execution_count": 11,
   "id": "6e701f60-614e-483c-919b-b1509100b81e",
   "metadata": {},
   "outputs": [
    {
     "data": {
      "text/plain": [
       "tuple"
      ]
     },
     "execution_count": 11,
     "metadata": {},
     "output_type": "execute_result"
    }
   ],
   "source": [
    "type(stock1)"
   ]
  },
  {
   "cell_type": "code",
   "execution_count": 14,
   "id": "4440ca85-9145-4c53-a505-4abc77e197d3",
   "metadata": {},
   "outputs": [
    {
     "name": "stdout",
     "output_type": "stream",
     "text": [
      "MSFT 56\n",
      "[54, 57] <class 'list'>\n"
     ]
    }
   ],
   "source": [
    "stock1 = ('MSFT', 56, 54, 57)\n",
    "# Asterisk *\n",
    "# we want symbol, close price, and low and high or others to be assigned to another list\n",
    "# *lowhigh means rest of the elements in the tuple\n",
    "# lowhigh is list type - remaining items \n",
    "(symbol, close, *lowhigh) = stock1\n",
    "print (symbol, close)\n",
    "print (lowhigh, type(lowhigh))\n"
   ]
  },
  {
   "cell_type": "code",
   "execution_count": 17,
   "id": "88f7cc96-f152-42e1-8776-0c3a4f13dfba",
   "metadata": {},
   "outputs": [
    {
     "name": "stdout",
     "output_type": "stream",
     "text": [
      "MSFT\n",
      "57\n",
      "[56, 54]\n"
     ]
    }
   ],
   "source": [
    "# unpacking \n",
    "stock1 = ('MSFT', 56, 54, 57)\n",
    "# r shall have close price, low price\n",
    "(symbol, *r, high) = stock1\n",
    "\n",
    "print(symbol)\n",
    "print(high)\n",
    "print(r)"
   ]
  },
  {
   "cell_type": "code",
   "execution_count": 18,
   "id": "1b1f6eb7-b532-41d1-a074-1f799f960ca3",
   "metadata": {},
   "outputs": [
    {
     "ename": "TypeError",
     "evalue": "'tuple' object does not support item assignment",
     "output_type": "error",
     "traceback": [
      "\u001b[1;31m---------------------------------------------------------------------------\u001b[0m",
      "\u001b[1;31mTypeError\u001b[0m                                 Traceback (most recent call last)",
      "\u001b[1;32mC:\\Users\\ADMINI~1\\AppData\\Local\\Temp/ipykernel_9440/3796543304.py\u001b[0m in \u001b[0;36m<module>\u001b[1;34m\u001b[0m\n\u001b[0;32m      1\u001b[0m \u001b[1;31m# tuple is immutable, unchangable\u001b[0m\u001b[1;33m\u001b[0m\u001b[1;33m\u001b[0m\u001b[1;33m\u001b[0m\u001b[0m\n\u001b[0;32m      2\u001b[0m \u001b[1;31m# error\u001b[0m\u001b[1;33m\u001b[0m\u001b[1;33m\u001b[0m\u001b[1;33m\u001b[0m\u001b[0m\n\u001b[1;32m----> 3\u001b[1;33m \u001b[0mstock1\u001b[0m\u001b[1;33m[\u001b[0m\u001b[1;36m0\u001b[0m\u001b[1;33m]\u001b[0m \u001b[1;33m=\u001b[0m \u001b[1;34m'TSLA'\u001b[0m\u001b[1;33m\u001b[0m\u001b[1;33m\u001b[0m\u001b[0m\n\u001b[0m",
      "\u001b[1;31mTypeError\u001b[0m: 'tuple' object does not support item assignment"
     ]
    }
   ],
   "source": [
    "# tuple is immutable, unchangable\n",
    "# error\n",
    "stock1[0] = 'TSLA'"
   ]
  },
  {
   "cell_type": "code",
   "execution_count": null,
   "id": "c179fb69-d2bb-4711-902c-297d347ddf66",
   "metadata": {},
   "outputs": [],
   "source": []
  }
 ],
 "metadata": {
  "kernelspec": {
   "display_name": "Python 3 (ipykernel)",
   "language": "python",
   "name": "python3"
  },
  "language_info": {
   "codemirror_mode": {
    "name": "ipython",
    "version": 3
   },
   "file_extension": ".py",
   "mimetype": "text/x-python",
   "name": "python",
   "nbconvert_exporter": "python",
   "pygments_lexer": "ipython3",
   "version": "3.7.10"
  }
 },
 "nbformat": 4,
 "nbformat_minor": 5
}
