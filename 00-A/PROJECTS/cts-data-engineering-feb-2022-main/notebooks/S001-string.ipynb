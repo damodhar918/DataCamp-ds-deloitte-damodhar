{
 "cells": [
  {
   "cell_type": "code",
   "execution_count": 1,
   "id": "aae7db9b-8328-44d5-bd35-1b826935df45",
   "metadata": {},
   "outputs": [],
   "source": [
    "# this area is called Cell\n",
    "# comments\n",
    "\n",
    "name = \"Python\"\n",
    "framework = 'spark'\n",
    "# multi line strings easily\n",
    "# preserve space, new line, tab etc\n",
    "course = \"\"\"\n",
    "learning python and apache spark\n",
    "   kafka\n",
    "aws\n",
    "\"\"\"\n",
    "\n",
    "# to run the shell, focus the cursor on the cell, then Shift + Enter"
   ]
  },
  {
   "cell_type": "code",
   "execution_count": 2,
   "id": "d7b07a08-aa02-4cfa-9f22-1164b5e02e8b",
   "metadata": {},
   "outputs": [
    {
     "name": "stdout",
     "output_type": "stream",
     "text": [
      "Python\n",
      "spark\n",
      "\n",
      "learning python and apache spark\n",
      "   kafka\n",
      "aws\n",
      "\n"
     ]
    }
   ],
   "source": [
    "print(name)\n",
    "print(framework)\n",
    "print(course)"
   ]
  },
  {
   "cell_type": "code",
   "execution_count": 3,
   "id": "4084f099-70a6-40c5-adab-ac3bdb67376b",
   "metadata": {},
   "outputs": [],
   "source": [
    "# how to define multiline string using double quote\n",
    "# \\ NO SPACE after \\ for line continuation\n",
    "s = \"python spark\\\n",
    "  kafka\\\n",
    "    aws\\\n",
    "    \""
   ]
  },
  {
   "cell_type": "code",
   "execution_count": 4,
   "id": "3d4aee0f-3b3b-45b3-9925-26625ad8e766",
   "metadata": {},
   "outputs": [
    {
     "name": "stdout",
     "output_type": "stream",
     "text": [
      "python spark  kafka    aws    \n"
     ]
    }
   ],
   "source": [
    "print(s)"
   ]
  },
  {
   "cell_type": "code",
   "execution_count": 5,
   "id": "d8a1c075-6590-4212-b2f6-a5c19b2cd462",
   "metadata": {},
   "outputs": [
    {
     "name": "stdout",
     "output_type": "stream",
     "text": [
      "Hello\n"
     ]
    }
   ],
   "source": [
    "# indentation SPACE [SPACE BAR, TAB] - SPACE is good than TAB\n",
    "# indentation considerd as block - other language, { } \n",
    "\n",
    "print(\"Hello\")"
   ]
  },
  {
   "cell_type": "code",
   "execution_count": 6,
   "id": "b990f881-b57f-4e82-bcc8-4a0a8aea98bd",
   "metadata": {},
   "outputs": [
    {
     "name": "stdout",
     "output_type": "stream",
     "text": [
      "   Python  \n"
     ]
    }
   ],
   "source": [
    "# string, many functions \n",
    "s = \"   Python  \"\n",
    "\n",
    "print(s)"
   ]
  },
  {
   "cell_type": "code",
   "execution_count": 7,
   "id": "c006eb49-bc86-4f70-b956-742fc31d4d07",
   "metadata": {},
   "outputs": [
    {
     "name": "stdout",
     "output_type": "stream",
     "text": [
      "   Python  \n",
      "   PYTHON  \n"
     ]
    }
   ],
   "source": [
    "# strings are immutable, ie we cannot change\n",
    "# return a new string which is upper case\n",
    "u = s.upper()\n",
    "\n",
    "print(s)\n",
    "print(u)"
   ]
  },
  {
   "cell_type": "code",
   "execution_count": 8,
   "id": "f2075c54-688a-487d-97c4-0179b6587109",
   "metadata": {},
   "outputs": [
    {
     "name": "stdout",
     "output_type": "stream",
     "text": [
      "   Python  \n",
      "   python  \n"
     ]
    }
   ],
   "source": [
    "l = s.lower()\n",
    "print(s)\n",
    "print(l)"
   ]
  },
  {
   "cell_type": "code",
   "execution_count": 9,
   "id": "c31f16df-eb77-4dba-97e5-3b6b40e1bf07",
   "metadata": {},
   "outputs": [
    {
     "name": "stdout",
     "output_type": "stream",
     "text": [
      "   Python  \n",
      "Python\n"
     ]
    }
   ],
   "source": [
    "# remove leading and trailing white space\n",
    "t = s.strip()\n",
    "print(s)\n",
    "print(t)"
   ]
  },
  {
   "cell_type": "code",
   "execution_count": 11,
   "id": "b9ad9a66-1d21-4a9e-aab2-fe99ad125681",
   "metadata": {},
   "outputs": [
    {
     "name": "stdout",
     "output_type": "stream",
     "text": [
      "   Python  \n",
      "   PYTHON  \n",
      "   Python  \n"
     ]
    }
   ],
   "source": [
    "print( s)\n",
    "print( s.upper())\n",
    "print( s)"
   ]
  },
  {
   "cell_type": "code",
   "execution_count": null,
   "id": "a7becd16-9192-455a-b42e-4c85d9eb4baa",
   "metadata": {},
   "outputs": [],
   "source": []
  }
 ],
 "metadata": {
  "kernelspec": {
   "display_name": "Python 3 (ipykernel)",
   "language": "python",
   "name": "python3"
  },
  "language_info": {
   "codemirror_mode": {
    "name": "ipython",
    "version": 3
   },
   "file_extension": ".py",
   "mimetype": "text/x-python",
   "name": "python",
   "nbconvert_exporter": "python",
   "pygments_lexer": "ipython3",
   "version": "3.7.10"
  }
 },
 "nbformat": 4,
 "nbformat_minor": 5
}
