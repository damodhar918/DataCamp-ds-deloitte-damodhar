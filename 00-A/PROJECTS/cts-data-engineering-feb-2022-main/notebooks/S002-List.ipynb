{
 "cells": [
  {
   "cell_type": "code",
   "execution_count": 1,
   "id": "16376ec7-22b6-4bd0-83c7-c1822fd9e576",
   "metadata": {},
   "outputs": [],
   "source": [
    "# list is data structure, \n",
    "# hold collection of items\n",
    "# [] to represent list\n",
    "\n",
    "# List items are mutable, insert/update/delete items any time\n",
    "stocks = ['INFY', 'APPL', 'TSLA']"
   ]
  },
  {
   "cell_type": "code",
   "execution_count": 2,
   "id": "09062a78-d03b-45d8-9474-c83b419649ae",
   "metadata": {},
   "outputs": [
    {
     "name": "stdout",
     "output_type": "stream",
     "text": [
      "3\n"
     ]
    }
   ],
   "source": [
    "# to get length \n",
    "\n",
    "print (len(stocks))"
   ]
  },
  {
   "cell_type": "code",
   "execution_count": 3,
   "id": "d0e2eec0-6e44-431d-bea6-a57f5cba67cc",
   "metadata": {},
   "outputs": [],
   "source": [
    "# append new element at end of the list\n",
    "stocks.append(\"MSFT\")"
   ]
  },
  {
   "cell_type": "code",
   "execution_count": 4,
   "id": "b6927717-3e5c-4d80-84d2-99e1bb16e1ea",
   "metadata": {},
   "outputs": [
    {
     "name": "stdout",
     "output_type": "stream",
     "text": [
      "['INFY', 'APPL', 'TSLA', 'MSFT']\n"
     ]
    }
   ],
   "source": [
    "print(stocks)"
   ]
  },
  {
   "cell_type": "code",
   "execution_count": 5,
   "id": "be3094e0-d487-4742-9add-dec43101830a",
   "metadata": {},
   "outputs": [],
   "source": [
    "# insert element between, element index starting from 0\n",
    "stocks.insert(1, 'CTS')"
   ]
  },
  {
   "cell_type": "code",
   "execution_count": 6,
   "id": "ca5a5103-2ae2-489b-9e77-7744a4608531",
   "metadata": {},
   "outputs": [
    {
     "name": "stdout",
     "output_type": "stream",
     "text": [
      "['INFY', 'CTS', 'APPL', 'TSLA', 'MSFT']\n"
     ]
    }
   ],
   "source": [
    "print(stocks)"
   ]
  },
  {
   "cell_type": "code",
   "execution_count": 7,
   "id": "6b95e4e6-ee30-45ac-849f-891256a8fe8f",
   "metadata": {},
   "outputs": [
    {
     "name": "stdout",
     "output_type": "stream",
     "text": [
      "['INFY', 'CTS', 'TSLA', 'MSFT']\n"
     ]
    }
   ],
   "source": [
    "# remove elements\n",
    "\n",
    "stocks.remove('APPL')\n",
    "print(stocks)"
   ]
  },
  {
   "cell_type": "code",
   "execution_count": 11,
   "id": "7353f7a7-87e4-41bf-9c76-0fd71dde7e49",
   "metadata": {},
   "outputs": [
    {
     "name": "stdout",
     "output_type": "stream",
     "text": [
      "INFY\n",
      "MSFT\n",
      "MSFT\n",
      "TSLA\n"
     ]
    }
   ],
   "source": [
    "# access list element, use index position starting from 0 upto len - 1\n",
    "# positive index , from left to right\n",
    "print(stocks[0])\n",
    "print(stocks[3]) \n",
    "# negative index, from right to left\n",
    "print(stocks[-1]) # -1 represent last element\n",
    "print (stocks[-2]) # TSLA last but one"
   ]
  },
  {
   "cell_type": "code",
   "execution_count": 16,
   "id": "d56184f0-3033-49c5-9b68-c95fc87c830a",
   "metadata": {},
   "outputs": [
    {
     "name": "stdout",
     "output_type": "stream",
     "text": [
      "['INFY', 'CTS', 'TSLA', 'MSFT']\n",
      "['TSLA', 'MSFT']\n",
      "['INFY', 'CTS']\n",
      "['INFY', 'CTS', 'TSLA']\n",
      "['CTS', 'TSLA']\n"
     ]
    }
   ],
   "source": [
    "# access list elements in range, : opeartor\n",
    "\n",
    "# upper bound is not given\n",
    "print (stocks[0:]) # picks element 0 to last element\n",
    "print (stocks[2:]) # picks 2 nd element onwards until last elemnet\n",
    "\n",
    "# lower bound is not given\n",
    "print(stocks[:2]) # picks element 0 to 2 - 1 (upper bound - 1)\n",
    "print(stocks[:-1]) # picks 0 to   upper bound -1 \n",
    "\n",
    "# 1 from left, -1 from right\n",
    "print(stocks[1:-1]) "
   ]
  },
  {
   "cell_type": "code",
   "execution_count": null,
   "id": "ef7bd36a-e296-45c5-b1b7-ec475f4867b7",
   "metadata": {},
   "outputs": [],
   "source": []
  }
 ],
 "metadata": {
  "kernelspec": {
   "display_name": "Python 3 (ipykernel)",
   "language": "python",
   "name": "python3"
  },
  "language_info": {
   "codemirror_mode": {
    "name": "ipython",
    "version": 3
   },
   "file_extension": ".py",
   "mimetype": "text/x-python",
   "name": "python",
   "nbconvert_exporter": "python",
   "pygments_lexer": "ipython3",
   "version": "3.7.10"
  }
 },
 "nbformat": 4,
 "nbformat_minor": 5
}
