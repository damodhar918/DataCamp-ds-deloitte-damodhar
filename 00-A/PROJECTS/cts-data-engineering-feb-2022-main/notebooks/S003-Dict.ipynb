{
 "cells": [
  {
   "cell_type": "code",
   "execution_count": 1,
   "id": "2386ca30-7e3d-4b30-a340-d202c6d77472",
   "metadata": {},
   "outputs": [],
   "source": [
    "# Dict - Key and Value\n",
    "# Key should be unique, Value can be anything\n",
    "# {} to define dictionary or dict\n",
    "# mutable, we can add/remove/update items anytime\n",
    "# lookup\n",
    "countries = {\n",
    "    #key: value\n",
    "    \"IN\": \"India\",\n",
    "    \"USA\": \"United States of America\",\n",
    "    \"CA\": \"Canada\"\n",
    "}\n",
    "# Shift + Enter"
   ]
  },
  {
   "cell_type": "code",
   "execution_count": 2,
   "id": "74ae6814-a2ac-473a-9aae-5b140893297f",
   "metadata": {},
   "outputs": [
    {
     "name": "stdout",
     "output_type": "stream",
     "text": [
      "United States of America\n"
     ]
    }
   ],
   "source": [
    "print(countries[\"USA\"])"
   ]
  },
  {
   "cell_type": "code",
   "execution_count": 3,
   "id": "441bce7d-daea-483c-a439-de75f82f67bb",
   "metadata": {},
   "outputs": [
    {
     "name": "stdout",
     "output_type": "stream",
     "text": [
      "India\n"
     ]
    }
   ],
   "source": [
    "code = countries[\"IN\"]\n",
    "print(code)"
   ]
  },
  {
   "cell_type": "code",
   "execution_count": 4,
   "id": "6da8728f-1cd4-4d9d-b59e-98606957b6f0",
   "metadata": {},
   "outputs": [
    {
     "name": "stdout",
     "output_type": "stream",
     "text": [
      "3\n"
     ]
    }
   ],
   "source": [
    "# length\n",
    "print (len(countries))"
   ]
  },
  {
   "cell_type": "code",
   "execution_count": 6,
   "id": "09f3e964-f319-4820-9220-239fb6ce1beb",
   "metadata": {},
   "outputs": [
    {
     "name": "stdout",
     "output_type": "stream",
     "text": [
      "<class 'dict'>\n"
     ]
    }
   ],
   "source": [
    "# type\n",
    "print (type(countries))"
   ]
  },
  {
   "cell_type": "code",
   "execution_count": 7,
   "id": "ec945c58-6205-4bcf-9c07-33076b8cba41",
   "metadata": {},
   "outputs": [
    {
     "name": "stdout",
     "output_type": "stream",
     "text": [
      "Canada\n"
     ]
    }
   ],
   "source": [
    "# get\n",
    "\n",
    "print (countries.get(\"CA\"))"
   ]
  },
  {
   "cell_type": "code",
   "execution_count": 10,
   "id": "1b939913-7e0a-4816-b1ab-83807b89b47b",
   "metadata": {},
   "outputs": [
    {
     "data": {
      "text/plain": [
       "dict_keys(['IN', 'USA', 'CA'])"
      ]
     },
     "execution_count": 10,
     "metadata": {},
     "output_type": "execute_result"
    }
   ],
   "source": [
    "# to get all keys\n",
    "countries.keys()"
   ]
  },
  {
   "cell_type": "code",
   "execution_count": 11,
   "id": "e0324c58-e47e-4064-a312-45a761af889a",
   "metadata": {},
   "outputs": [
    {
     "data": {
      "text/plain": [
       "dict_items([('IN', 'India'), ('USA', 'United States of America'), ('CA', 'Canada')])"
      ]
     },
     "execution_count": 11,
     "metadata": {},
     "output_type": "execute_result"
    }
   ],
   "source": [
    "# items, get all items with key, value tuple\n",
    "countries.items()"
   ]
  },
  {
   "cell_type": "code",
   "execution_count": 13,
   "id": "5b69dc87-e4c3-40b9-9946-065ac49febcb",
   "metadata": {},
   "outputs": [
    {
     "name": "stdout",
     "output_type": "stream",
     "text": [
      "{'IN': 'India', 'USA': 'United States of America', 'CA': 'Canada', 'AU': 'Aus'}\n",
      "{'IN': 'India', 'USA': 'United States of America', 'CA': 'Canada', 'AU': 'Australia'}\n"
     ]
    }
   ],
   "source": [
    "# add new entry\n",
    "# modify existing data\n",
    "\n",
    "countries[\"AU\"] = \"Aus\" # add new entry\n",
    "print(countries)\n",
    "# modify the value\n",
    "countries[\"AU\"] = \"Australia\"\n",
    "print(countries)"
   ]
  },
  {
   "cell_type": "code",
   "execution_count": 14,
   "id": "5c83a50b-73dc-489d-9631-ca04653c9c39",
   "metadata": {},
   "outputs": [
    {
     "name": "stdout",
     "output_type": "stream",
     "text": [
      "dict_values(['India', 'United States of America', 'Canada', 'Australia'])\n"
     ]
    }
   ],
   "source": [
    "# get all values\n",
    "print(countries.values())"
   ]
  },
  {
   "cell_type": "code",
   "execution_count": 16,
   "id": "e00171a2-651f-45d5-a8d4-7f7a02947a2a",
   "metadata": {},
   "outputs": [
    {
     "name": "stdout",
     "output_type": "stream",
     "text": [
      "{'IN': 'India', 'USA': 'United States of America', 'CA': 'Canada'}\n"
     ]
    }
   ],
   "source": [
    "# to remove item, popitem\n",
    "\n",
    "countries.pop(\"AU\")\n",
    "print(countries)"
   ]
  },
  {
   "cell_type": "code",
   "execution_count": 17,
   "id": "ca1237f1-126b-49bd-9349-9c815c3b8c05",
   "metadata": {},
   "outputs": [
    {
     "name": "stdout",
     "output_type": "stream",
     "text": [
      "{'IN': 'India', 'USA': 'United States of America'}\n"
     ]
    }
   ],
   "source": [
    "# to remove item using del keyword\n",
    "del countries['CA']\n",
    "\n",
    "print(countries)"
   ]
  },
  {
   "cell_type": "code",
   "execution_count": 18,
   "id": "90450fcd-0f9f-4aba-8948-3e3da0367fea",
   "metadata": {},
   "outputs": [
    {
     "name": "stdout",
     "output_type": "stream",
     "text": [
      "{}\n"
     ]
    }
   ],
   "source": [
    "# to remove all entries\n",
    "\n",
    "countries.clear()\n",
    "print(countries)"
   ]
  },
  {
   "cell_type": "code",
   "execution_count": null,
   "id": "fbbd1f7a-e869-455b-92ab-078c48869ade",
   "metadata": {},
   "outputs": [],
   "source": []
  }
 ],
 "metadata": {
  "kernelspec": {
   "display_name": "Python 3 (ipykernel)",
   "language": "python",
   "name": "python3"
  },
  "language_info": {
   "codemirror_mode": {
    "name": "ipython",
    "version": 3
   },
   "file_extension": ".py",
   "mimetype": "text/x-python",
   "name": "python",
   "nbconvert_exporter": "python",
   "pygments_lexer": "ipython3",
   "version": "3.7.10"
  }
 },
 "nbformat": 4,
 "nbformat_minor": 5
}
