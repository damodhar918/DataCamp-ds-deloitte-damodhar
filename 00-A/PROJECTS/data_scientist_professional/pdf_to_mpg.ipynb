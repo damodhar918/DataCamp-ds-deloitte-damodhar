{
 "cells": [
  {
   "cell_type": "code",
   "execution_count": 1,
   "metadata": {},
   "outputs": [],
   "source": [
    "# !pip install PyPDF2"
   ]
  },
  {
   "cell_type": "code",
   "execution_count": 2,
   "metadata": {},
   "outputs": [],
   "source": [
    "# !pip install wand"
   ]
  },
  {
   "cell_type": "code",
   "execution_count": 4,
   "metadata": {},
   "outputs": [],
   "source": [
    "# !pip install pdf2image"
   ]
  },
  {
   "cell_type": "code",
   "execution_count": 5,
   "metadata": {},
   "outputs": [],
   "source": [
    "# !pip install poppler"
   ]
  },
  {
   "cell_type": "code",
   "execution_count": 7,
   "metadata": {},
   "outputs": [
    {
     "name": "stdout",
     "output_type": "stream",
     "text": [
      "['output/Bokeh_Cheat_Sheet_0.jpeg']\n",
      "PDF has less than 3 pages. Continuing without conversion...\n",
      "PDF has less than 3 pages. Continuing without conversion...\n",
      "['output/Cheat+Sheet_DS+For+Business+Leaders_0.jpeg', 'output/Cheat+Sheet_DS+For+Business+Leaders_1.jpeg']\n",
      "['output/Conda_Cheat_Sheet_1_0.jpeg']\n",
      "PDF has less than 3 pages. Continuing without conversion...\n",
      "['output/Data+Visualizations+-+DataCamp_0.jpeg']\n",
      "['output/Data_Governance_Cheat_Sheet_0.jpeg']\n",
      "['output/Data_Manipulation_in_Excel_Cheat_Sheet_0.jpeg']\n",
      "['output/Data_Quality_Dimensions_yebbuu_0.jpeg']\n",
      "['output/Data_Storytelling_Cheat_Sheet_0.jpeg']\n",
      "['output/Data_Transformation_with_Power_Query_M_in_Power_BI_0.jpeg']\n",
      "['output/Data_Wrangling_Cheat_Sheet_0.jpeg']\n",
      "['output/Deep_Learning_with_PyTorch_1_0.jpeg']\n",
      "['output/Descriptive_Statistics_Cheat_Sheet_0.jpeg']\n",
      "['output/Docker_for_Data_Science_Cheat_Sheet_2_0.jpeg']\n",
      "['output/Excel_Cheat_Sheet_0.jpeg']\n",
      "['output/Excel_Keyboard_Shortcuts_Cheat_Sheet_0.jpeg']\n",
      "['output/Formulas_in_DAX_Cheat_Sheet_0.jpeg']\n",
      "['output/git_cheat_sheet_0.jpeg']\n",
      "['output/Importing_Data_Cheat_Sheet_0.jpeg']\n",
      "['output/Infographic_AWS_Azure_GCP_Service_Comparison_for_Data_Science_AI_0.jpeg']\n",
      "['output/Inographic_the_generative_AI_landscape_1_0.jpeg']\n",
      "['output/Joining_Data_in_SQL_Cheat_Sheet_0.jpeg']\n",
      "['output/Keras_Cheat_Sheet_gssmi8_0.jpeg']\n",
      "['output/Markdown_Cheat_Sheet_0.jpeg']\n",
      "['output/Matplotlib_Cheat_Sheet_0.jpeg']\n",
      "['output/ML+Cheat+Sheet_2_0.jpeg']\n",
      "['output/MySQL_Cheat_Sheet_0.jpeg']\n",
      "['output/Numpy_Cheat_Sheet_0.jpeg']\n",
      "['output/Open_AI_Python_0.jpeg']\n",
      "['output/Pandas_Cheat_Sheet_0.jpeg']\n",
      "['output/Plotly_Cheat_Sheet_0.jpeg']\n",
      "['output/PostgreSQL_Cheat_Sheet_0.jpeg']\n",
      "['output/Power+BI_Cheat+Sheet_0.jpeg']\n",
      "['output/Probability_Cheat_Sheet_0.jpeg']\n",
      "['output/PySpark_RDD_Cheat_Sheet_0.jpeg']\n",
      "['output/PySpark_SQL_Cheat_Sheet_0.jpeg']\n",
      "['output/Python_Basics_Cheat_Sheet-updated_0.jpeg']\n",
      "['output/Quarto_Cheat_Sheet_0.jpeg']\n",
      "['output/Regular_Expressions_Cheat_Sheet_0.jpeg']\n",
      "['output/Reshaping_data_with_Python_0.jpeg']\n",
      "['output/Scikit-Learn_Cheat_Sheet_0.jpeg']\n",
      "['output/SciPy_Cheat_Sheet_0.jpeg']\n",
      "['output/Seaborn_Cheat_Sheet_0.jpeg']\n",
      "['output/spaCy_Cheat_Sheet_final_0.jpeg', 'output/spaCy_Cheat_Sheet_final_1.jpeg']\n",
      "['output/SQL_Basics_For_Data_Science_0.jpeg']\n",
      "['output/SQL_Window_Functions_0.jpeg']\n",
      "['output/Supervised_Machine_Learning_Models_0.jpeg']\n",
      "['output/Tableau+Cheat+Sheet_0.jpeg']\n",
      "['output/Unsupervised_Machine_Learning_Models_0.jpeg']\n",
      "['output/Working_with_Dates_and_Times_Cheat_Sheet_0.jpeg']\n",
      "['output/Working_With_Tables_in_Power_Query_M_in_Power_BI_0.jpeg']\n",
      "['output/Working_With_Text_Data_in_Python_0.jpeg']\n"
     ]
    },
    {
     "data": {
      "text/plain": [
       "[None,\n",
       " None,\n",
       " None,\n",
       " None,\n",
       " None,\n",
       " None,\n",
       " None,\n",
       " None,\n",
       " None,\n",
       " None,\n",
       " None,\n",
       " None,\n",
       " None,\n",
       " None,\n",
       " None,\n",
       " None,\n",
       " None,\n",
       " None,\n",
       " None,\n",
       " None,\n",
       " None,\n",
       " None,\n",
       " None,\n",
       " None,\n",
       " None,\n",
       " None,\n",
       " None,\n",
       " None,\n",
       " None,\n",
       " None,\n",
       " None,\n",
       " None,\n",
       " None,\n",
       " None,\n",
       " None,\n",
       " None,\n",
       " None,\n",
       " None,\n",
       " None,\n",
       " None,\n",
       " None,\n",
       " None,\n",
       " None,\n",
       " None,\n",
       " None,\n",
       " None,\n",
       " None,\n",
       " None,\n",
       " None,\n",
       " None,\n",
       " None,\n",
       " None,\n",
       " None,\n",
       " None]"
      ]
     },
     "execution_count": 7,
     "metadata": {},
     "output_type": "execute_result"
    }
   ],
   "source": [
    "\n",
    "import os\n",
    "import tempfile\n",
    "from wand.image import Image\n",
    "\n",
    "def pdf_to_images(pdf_path, output_dir):\n",
    "    \"\"\"Converts a PDF file to a list of images and saves them in the specified directory.\"\"\"\n",
    "    \n",
    "    with Image(filename=pdf_path) as img:\n",
    "        \n",
    "        if len(img.sequence) > 3:\n",
    "            print(\"PDF has more than 3 pages. Continuing without conversion...\")\n",
    "            return None\n",
    "            \n",
    "        \n",
    "        with img.convert('jpeg') as converted:\n",
    "            image_filenames = []\n",
    "            for i, image in enumerate(converted.sequence):\n",
    "                with Image(image) as single_img:\n",
    "                    filename, extension = os.path.splitext(os.path.basename(pdf_path))\n",
    "                    # save each image in the specified directory with same name as the PDF file\n",
    "                    image_filename = os.path.join(output_dir, f'{filename}_{i}.jpeg')\n",
    "                    single_img.save(filename=image_filename)\n",
    "                    image_filenames.append(image_filename)\n",
    "        print(image_filenames)\n",
    "\n",
    "# Usage example\n",
    "pdf_file = \"./Numpy_Cheat_Sheet.pdf\" # replace with the path of your PDF file\n",
    "# create a folder to save the output images\n",
    "output_folder = 'output/'\n",
    "if not os.path.exists(output_folder):\n",
    "    os.makedirs(output_folder)\n",
    "    \n",
    "# input PDF files - specify the path to the folder containing PDFs within triple quotes.\n",
    "pdf_folder = \"./\"\n",
    "\n",
    "# list all pdf files within the folder\n",
    "[pdf_to_images(os.path.join(pdf_folder, f) , output_folder) for f in os.listdir(pdf_folder) if f.endswith('.pdf')]\n",
    "# images = pdf_to_images(pdf_file, output_folder)\n",
    "# print(pdf_files)\n"
   ]
  },
  {
   "cell_type": "code",
   "execution_count": 8,
   "metadata": {},
   "outputs": [
    {
     "data": {
      "text/plain": [
       "'c:\\\\Users\\\\jdamodhar\\\\Desktop\\\\python_essential\\\\DataCamp-ds-deloitte-master\\\\00-A\\\\PROJECTS\\\\data_scientist_professional\\\\output\\\\.zip'"
      ]
     },
     "execution_count": 8,
     "metadata": {},
     "output_type": "execute_result"
    }
   ],
   "source": [
    "import shutil\n",
    "import os\n",
    "\n",
    "shutil.make_archive(output_folder, 'zip', output_folder)"
   ]
  }
 ],
 "metadata": {
  "kernelspec": {
   "display_name": "Python 3",
   "language": "python",
   "name": "python3"
  },
  "language_info": {
   "codemirror_mode": {
    "name": "ipython",
    "version": 3
   },
   "file_extension": ".py",
   "mimetype": "text/x-python",
   "name": "python",
   "nbconvert_exporter": "python",
   "pygments_lexer": "ipython3",
   "version": "3.11.6"
  }
 },
 "nbformat": 4,
 "nbformat_minor": 2
}
