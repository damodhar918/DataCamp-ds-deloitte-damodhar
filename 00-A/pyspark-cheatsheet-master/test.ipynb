{
 "cells": [
  {
   "cell_type": "code",
   "execution_count": 26,
   "metadata": {},
   "outputs": [
    {
     "name": "stdout",
     "output_type": "stream",
     "text": [
      "['I', 'V', 'X', 'L', 'C', 'D', 'M'] [1, 5, 10, 50, 100, 500, 1000]\n",
      "2886\n"
     ]
    }
   ],
   "source": [
    "\n",
    "# I,II,III,IV,V,VI,VII,VIII,IX,X\n",
    "values = (dict(I=1,\n",
    "V=5,\n",
    "X=10,\n",
    "L=50,\n",
    "C=100,\n",
    "D=500,\n",
    "M=1000)\n",
    ")\n",
    "v1= list(values.keys())\n",
    "v2= list(values.values())\n",
    "print(v1,v2)\n",
    "ip = 'MMDCCCLXXXIV'\n",
    "# output = '3'\n",
    "output = 0\n",
    "\n",
    "# for \n",
    "for x in ip:\n",
    "        if x in v1:\n",
    "            output = output + values[x]\n",
    "print(output)\n",
    "        "
   ]
  },
  {
   "cell_type": "code",
   "execution_count": 3,
   "metadata": {},
   "outputs": [
    {
     "name": "stdout",
     "output_type": "stream",
     "text": [
      "1 0 I 1 5\n",
      "hi\n",
      "4 1 V 5 1\n",
      "4\n"
     ]
    }
   ],
   "source": [
    "roman_numerals = input('Enter a roman numeral: ')\n",
    "\n",
    "values = {symbol: value for symbol, value in zip('IVXLCDM', [1, 5, 10, 50, 100, 500, 1000])}\n",
    "\n",
    "result = 0\n",
    "\n",
    "for i in range(len(roman_numerals)):\n",
    "    if i > 0 and values[roman_numerals[i]] > values[roman_numerals[i - 1]]:\n",
    "        result += values[roman_numerals[i]] - 2 * values[roman_numerals[i - 1]]\n",
    "        print('hi')\n",
    "    else:\n",
    "        result += values[roman_numerals[i]]\n",
    "    print(result,i,roman_numerals[i],values[roman_numerals[i]],values[roman_numerals[i - 1]])\n",
    "\n",
    "print(result)"
   ]
  },
  {
   "cell_type": "code",
   "execution_count": null,
   "metadata": {},
   "outputs": [],
   "source": []
  }
 ],
 "metadata": {
  "kernelspec": {
   "display_name": "Python 3",
   "language": "python",
   "name": "python3"
  },
  "language_info": {
   "codemirror_mode": {
    "name": "ipython",
    "version": 3
   },
   "file_extension": ".py",
   "mimetype": "text/x-python",
   "name": "python",
   "nbconvert_exporter": "python",
   "pygments_lexer": "ipython3",
   "version": "3.11.6"
  }
 },
 "nbformat": 4,
 "nbformat_minor": 2
}
