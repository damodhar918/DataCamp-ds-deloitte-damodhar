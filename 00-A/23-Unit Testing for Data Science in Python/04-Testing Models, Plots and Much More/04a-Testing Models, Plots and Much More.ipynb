{
 "cells": [
  {
   "cell_type": "code",
   "execution_count": 5,
   "metadata": {},
   "outputs": [
    {
     "name": "stdout",
     "output_type": "stream",
     "text": [
      "============================= test session starts =============================\n",
      "platform win32 -- Python 3.9.7, pytest-6.2.4, py-1.10.0, pluggy-0.13.1\n",
      "rootdir: c:\\Users\\jdamodhar\\Desktop\\python_essential-\\DataCamp-ds-deloitte-master\\00-A\\23-Unit Testing for Data Science in Python\\04-Testing Models, Plots and Much More\n",
      "plugins: anyio-2.2.0, cov-4.1.0\n",
      "collected 34 items\n",
      "\n",
      "data\\test_preprocessing_helpers.py ..............                        [ 41%]\n",
      "features\\test_as_numpy.py s..............                                [ 85%]\n",
      "models\\test_train.py ..xxx                                               [100%]\n",
      "\n",
      "============================== warnings summary ===============================\n",
      "..\\..\\..\\..\\..\\..\\Anaconda3\\lib\\site-packages\\pyreadline\\py3k_compat.py:8\n",
      "  C:\\Users\\jdamodhar\\Anaconda3\\lib\\site-packages\\pyreadline\\py3k_compat.py:8: DeprecationWarning: Using or importing the ABCs from 'collections' instead of from 'collections.abc' is deprecated since Python 3.3, and in 3.10 it will stop working\n",
      "    return isinstance(x, collections.Callable)\n",
      "\n",
      "-- Docs: https://docs.pytest.org/en/stable/warnings.html\n",
      "============= 30 passed, 1 skipped, 3 xfailed, 1 warning in 0.96s =============\n"
     ]
    }
   ],
   "source": [
    "!pytest -x "
   ]
  },
  {
   "cell_type": "code",
   "execution_count": 3,
   "metadata": {},
   "outputs": [
    {
     "name": "stdout",
     "output_type": "stream",
     "text": [
      "============================= test session starts =============================\n",
      "platform win32 -- Python 3.9.7, pytest-6.2.4, py-1.10.0, pluggy-0.13.1\n",
      "rootdir: c:\\Users\\jdamodhar\\Desktop\\python_essential-\\DataCamp-ds-deloitte-master\\00-A\\23-Unit Testing for Data Science in Python\\04-Testing Models, Plots and Much More\n",
      "plugins: anyio-2.2.0, cov-4.1.0\n",
      "collected 14 items\n",
      "\n",
      "data\\test_preprocessing_helpers.py ..............                        [100%]\n",
      "\n",
      "============================== warnings summary ===============================\n",
      "..\\..\\..\\..\\..\\..\\Anaconda3\\lib\\site-packages\\pyreadline\\py3k_compat.py:8\n",
      "  C:\\Users\\jdamodhar\\Anaconda3\\lib\\site-packages\\pyreadline\\py3k_compat.py:8: DeprecationWarning: Using or importing the ABCs from 'collections' instead of from 'collections.abc' is deprecated since Python 3.3, and in 3.10 it will stop working\n",
      "    return isinstance(x, collections.Callable)\n",
      "\n",
      "-- Docs: https://docs.pytest.org/en/stable/warnings.html\n",
      "======================== 14 passed, 1 warning in 0.13s ========================\n"
     ]
    }
   ],
   "source": [
    "!pytest -x data"
   ]
  },
  {
   "cell_type": "code",
   "execution_count": 4,
   "metadata": {},
   "outputs": [
    {
     "name": "stdout",
     "output_type": "stream",
     "text": [
      "============================= test session starts =============================\n",
      "platform win32 -- Python 3.9.7, pytest-6.2.4, py-1.10.0, pluggy-0.13.1\n",
      "rootdir: c:\\Users\\jdamodhar\\Desktop\\python_essential-\\DataCamp-ds-deloitte-master\\00-A\\23-Unit Testing for Data Science in Python\\04-Testing Models, Plots and Much More\n",
      "plugins: anyio-2.2.0, cov-4.1.0\n",
      "collected 5 items\n",
      "\n",
      "models\\test_train.py ..xxx                                               [100%]\n",
      "\n",
      "============================== warnings summary ===============================\n",
      "..\\..\\..\\..\\..\\..\\Anaconda3\\lib\\site-packages\\pyreadline\\py3k_compat.py:8\n",
      "  C:\\Users\\jdamodhar\\Anaconda3\\lib\\site-packages\\pyreadline\\py3k_compat.py:8: DeprecationWarning: Using or importing the ABCs from 'collections' instead of from 'collections.abc' is deprecated since Python 3.3, and in 3.10 it will stop working\n",
      "    return isinstance(x, collections.Callable)\n",
      "\n",
      "-- Docs: https://docs.pytest.org/en/stable/warnings.html\n",
      "=================== 2 passed, 3 xfailed, 1 warning in 0.78s ===================\n"
     ]
    }
   ],
   "source": [
    "!pytest -x models"
   ]
  },
  {
   "cell_type": "code",
   "execution_count": 13,
   "metadata": {},
   "outputs": [
    {
     "name": "stdout",
     "output_type": "stream",
     "text": [
      "============================= test session starts =============================\n",
      "platform win32 -- Python 3.9.7, pytest-6.2.4, py-1.10.0, pluggy-0.13.1\n",
      "rootdir: c:\\Users\\jdamodhar\\Desktop\\python_essential-\\DataCamp-ds-deloitte-master\\00-A\\23-Unit Testing for Data Science in Python\\04-Testing Models, Plots and Much More\n",
      "plugins: anyio-2.2.0, cov-4.1.0\n",
      "collected 35 items\n",
      "\n",
      "data\\test_preprocessing_helpers.py ..............                        [ 40%]\n",
      "features\\test_as_numpy.py ................                               [ 85%]\n",
      "models\\test_train.py ..xxx                                               [100%]\n",
      "\n",
      "============================== warnings summary ===============================\n",
      "..\\..\\..\\..\\..\\..\\Anaconda3\\lib\\site-packages\\pyreadline\\py3k_compat.py:8\n",
      "  C:\\Users\\jdamodhar\\Anaconda3\\lib\\site-packages\\pyreadline\\py3k_compat.py:8: DeprecationWarning: Using or importing the ABCs from 'collections' instead of from 'collections.abc' is deprecated since Python 3.3, and in 3.10 it will stop working\n",
      "    return isinstance(x, collections.Callable)\n",
      "\n",
      "-- Docs: https://docs.pytest.org/en/stable/warnings.html\n",
      "\n",
      "----------- coverage: platform win32, python 3.9.7-final-0 -----------\n",
      "Coverage HTML written to dir htmlcov\n",
      "\n",
      "================== 32 passed, 3 xfailed, 1 warning in 1.25s ===================\n"
     ]
    }
   ],
   "source": [
    "!pytest --cov=features --cov=models --cov=data --cov-report=html"
   ]
  },
  {
   "cell_type": "code",
   "execution_count": 23,
   "metadata": {},
   "outputs": [
    {
     "name": "stdout",
     "output_type": "stream",
     "text": [
      "============================= test session starts =============================\n",
      "platform win32 -- Python 3.9.7, pytest-6.2.4, py-1.10.0, pluggy-0.13.1\n",
      "rootdir: c:\\Users\\jdamodhar\\Desktop\\python_essential-\\DataCamp-ds-deloitte-master\\00-A\\23-Unit Testing for Data Science in Python\\04-Testing Models, Plots and Much More\n",
      "plugins: anyio-2.2.0, cov-4.1.0, mock-3.11.1\n",
      "collected 49 items / 47 deselected / 2 selected\n",
      "\n",
      "data\\test_preprocessing_helpers.py .                                     [ 50%]\n",
      "data\\test_preprocessing_helpers_mocker.py .                              [100%]\n",
      "\n",
      "============================== warnings summary ===============================\n",
      "..\\..\\..\\..\\..\\..\\Anaconda3\\lib\\site-packages\\pyreadline\\py3k_compat.py:8\n",
      "  C:\\Users\\jdamodhar\\Anaconda3\\lib\\site-packages\\pyreadline\\py3k_compat.py:8: DeprecationWarning: Using or importing the ABCs from 'collections' instead of from 'collections.abc' is deprecated since Python 3.3, and in 3.10 it will stop working\n",
      "    return isinstance(x, collections.Callable)\n",
      "\n",
      "-- Docs: https://docs.pytest.org/en/stable/warnings.html\n",
      "================= 2 passed, 47 deselected, 1 warning in 0.58s =================\n"
     ]
    }
   ],
   "source": [
    "!pytest -k TestPreprocess"
   ]
  },
  {
   "cell_type": "code",
   "execution_count": 22,
   "metadata": {},
   "outputs": [
    {
     "name": "stdout",
     "output_type": "stream",
     "text": [
      "============================= test session starts =============================\n",
      "platform win32 -- Python 3.9.7, pytest-6.2.4, py-1.10.0, pluggy-0.13.1\n",
      "rootdir: c:\\Users\\jdamodhar\\Desktop\\python_essential-\\DataCamp-ds-deloitte-master\\00-A\\23-Unit Testing for Data Science in Python\\04-Testing Models, Plots and Much More\n",
      "plugins: anyio-2.2.0, cov-4.1.0, mock-3.11.1\n",
      "collected 49 items / 37 deselected / 12 selected\n",
      "\n",
      "data\\test_preprocessing_helpers.py ......                                [ 50%]\n",
      "data\\test_preprocessing_helpers_mocker.py ......                         [100%]\n",
      "\n",
      "============================== warnings summary ===============================\n",
      "..\\..\\..\\..\\..\\..\\Anaconda3\\lib\\site-packages\\pyreadline\\py3k_compat.py:8\n",
      "  C:\\Users\\jdamodhar\\Anaconda3\\lib\\site-packages\\pyreadline\\py3k_compat.py:8: DeprecationWarning: Using or importing the ABCs from 'collections' instead of from 'collections.abc' is deprecated since Python 3.3, and in 3.10 it will stop working\n",
      "    return isinstance(x, collections.Callable)\n",
      "\n",
      "-- Docs: https://docs.pytest.org/en/stable/warnings.html\n",
      "================ 12 passed, 37 deselected, 1 warning in 0.81s =================\n"
     ]
    }
   ],
   "source": [
    "!pytest -k TestConvertToInt\n"
   ]
  }
 ],
 "metadata": {
  "kernelspec": {
   "display_name": "Python 3",
   "language": "python",
   "name": "python3"
  },
  "language_info": {
   "codemirror_mode": {
    "name": "ipython",
    "version": 3
   },
   "file_extension": ".py",
   "mimetype": "text/x-python",
   "name": "python",
   "nbconvert_exporter": "python",
   "pygments_lexer": "ipython3",
   "version": "3.10.5"
  },
  "orig_nbformat": 4
 },
 "nbformat": 4,
 "nbformat_minor": 2
}
