{
 "cells": [
  {
   "cell_type": "code",
   "execution_count": 1,
   "metadata": {},
   "outputs": [
    {
     "name": "stdout",
     "output_type": "stream",
     "text": [
      "============================= test session starts =============================\n",
      "platform win32 -- Python 3.9.7, pytest-6.2.4, py-1.10.0, pluggy-0.13.1\n",
      "rootdir: c:\\Users\\jdamodhar\\Desktop\\python_essential-\\DataCamp-ds-deloitte-master\\00-A\\23-Unit Testing for Data Science in Python\\04-Testing Models, Plots and Much More\n",
      "plugins: anyio-2.2.0, cov-4.1.0, mock-3.11.1\n",
      "collected 6 items / 1 error / 5 selected\n",
      "\n",
      "=================================== ERRORS ====================================\n",
      "________________ ERROR collecting models/test_train_circle.py _________________\n",
      "models\\test_train_circle.py:6: in <module>\n",
      "    from models.train_circle import split_into_training_and_testing_sets, train_model, model_test\n",
      "models\\train_circle.py:3: in <module>\n",
      "    from scipy.stats import linregress\n",
      "..\\..\\..\\..\\..\\..\\Anaconda3\\lib\\site-packages\\scipy\\stats\\__init__.py:608: in <module>\n",
      "    from ._stats_py import *\n",
      "..\\..\\..\\..\\..\\..\\Anaconda3\\lib\\site-packages\\scipy\\stats\\_stats_py.py:39: in <module>\n",
      "    from scipy.spatial.distance import cdist\n",
      "..\\..\\..\\..\\..\\..\\Anaconda3\\lib\\site-packages\\scipy\\spatial\\__init__.py:110: in <module>\n",
      "    from ._kdtree import *\n",
      "..\\..\\..\\..\\..\\..\\Anaconda3\\lib\\site-packages\\scipy\\spatial\\_kdtree.py:4: in <module>\n",
      "    from ._ckdtree import cKDTree, cKDTreeNode\n",
      "_ckdtree.pyx:1: in init scipy.spatial._ckdtree\n",
      "    ???\n",
      "E   ValueError: numpy.ndarray size changed, may indicate binary incompatibility. Expected 96 from C header, got 88 from PyObject\n",
      "============================== warnings summary ===============================\n",
      "..\\..\\..\\..\\..\\..\\Anaconda3\\lib\\site-packages\\pyreadline\\py3k_compat.py:8\n",
      "  C:\\Users\\jdamodhar\\Anaconda3\\lib\\site-packages\\pyreadline\\py3k_compat.py:8: DeprecationWarning: Using or importing the ABCs from 'collections' instead of from 'collections.abc' is deprecated since Python 3.3, and in 3.10 it will stop working\n",
      "    return isinstance(x, collections.Callable)\n",
      "\n",
      "..\\..\\..\\..\\..\\..\\Anaconda3\\lib\\site-packages\\scipy\\__init__.py:161\n",
      "  C:\\Users\\jdamodhar\\Anaconda3\\lib\\site-packages\\scipy\\__init__.py:161: UserWarning: A NumPy version >=1.21.6 and <1.28.0 is required for this version of SciPy (detected version 1.20.3)\n",
      "    warnings.warn(f\"A NumPy version >={np_minversion} and <{np_maxversion}\"\n",
      "\n",
      "-- Docs: https://docs.pytest.org/en/stable/warnings.html\n",
      "=========================== short test summary info ===========================\n",
      "ERROR models/test_train_circle.py - ValueError: numpy.ndarray size changed, m...\n",
      "!!!!!!!!!!!!!!!!!!! Interrupted: 1 error during collection !!!!!!!!!!!!!!!!!!!!\n",
      "======================== 2 warnings, 1 error in 0.99s =========================\n"
     ]
    }
   ],
   "source": [
    "!pytest models"
   ]
  }
 ],
 "metadata": {
  "kernelspec": {
   "display_name": "Python 3",
   "language": "python",
   "name": "python3"
  },
  "language_info": {
   "codemirror_mode": {
    "name": "ipython",
    "version": 3
   },
   "file_extension": ".py",
   "mimetype": "text/x-python",
   "name": "python",
   "nbconvert_exporter": "python",
   "pygments_lexer": "ipython3",
   "version": "3.10.5"
  },
  "orig_nbformat": 4
 },
 "nbformat": 4,
 "nbformat_minor": 2
}
