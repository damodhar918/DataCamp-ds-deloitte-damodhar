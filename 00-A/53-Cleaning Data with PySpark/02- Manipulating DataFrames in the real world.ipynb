{
 "cells": [
  {
   "cell_type": "code",
   "execution_count": 11,
   "metadata": {},
   "outputs": [
    {
     "data": {
      "text/plain": [
       "'local-1698598112549'"
      ]
     },
     "execution_count": 11,
     "metadata": {},
     "output_type": "execute_result"
    }
   ],
   "source": [
    "sc.applicationId"
   ]
  },
  {
   "cell_type": "code",
   "execution_count": 12,
   "metadata": {},
   "outputs": [
    {
     "name": "stdout",
     "output_type": "stream",
     "text": [
      "+---------------------------------------------------------------------------------------------------------------------------------------------------------------------------------------------------------------------------------------------------------------------------------------------------------------------------------------------------------------------------------------------------------------------------+\n",
      "|VOTER_NAME                                                                                                                                                                                                                                                                                                                                                                                                                 |\n",
      "+---------------------------------------------------------------------------------------------------------------------------------------------------------------------------------------------------------------------------------------------------------------------------------------------------------------------------------------------------------------------------------------------------------------------------+\n",
      "|Tennell Atkins                                                                                                                                                                                                                                                                                                                                                                                                             |\n",
      "|  the  final   2018 Assessment Plan and the 2018 Assessment  Roll  (to  be  kept  on  file  with  the  City  Secretary);  establishing  classifications  for   the   apportionment   of   costs and the methods of assessing special assessments for the services and improvements to property in the District;  closing  the  hearing  and  levying  a  special  assessment  on  property  in  the  District              |\n",
      "|Scott Griggs                                                                                                                                                                                                                                                                                                                                                                                                               |\n",
      "|Scott  Griggs                                                                                                                                                                                                                                                                                                                                                                                                              |\n",
      "|Sandy Greyson                                                                                                                                                                                                                                                                                                                                                                                                              |\n",
      "|Michael S. Rawlings                                                                                                                                                                                                                                                                                                                                                                                                        |\n",
      "| the final 2018 Assessment Plan and the 2018 Assessment  Roll  (to  be  kept  on  file  with  the  City  Secretary);  establishing  classifications  for  the   apportionment   of   costs and  the  methods  of  assessing  special  assessments  on  Dallas  hotels  with    100 or more rooms                                                                                                                           |\n",
      "|Kevin Felder                                                                                                                                                                                                                                                                                                                                                                                                               |\n",
      "|Adam Medrano                                                                                                                                                                                                                                                                                                                                                                                                               |\n",
      "|Casey  Thomas                                                                                                                                                                                                                                                                                                                                                                                                              |\n",
      "|   the   final  2018 Assessment  Plan  and  the  2018 Assessment  Roll  (to  be  kept  on  file   with the City Secretary); establishing classifications  for  the  apportionment  of  costs  and  the  methods  of  assessing  special  assessments  for  the  services  and  improvements  to  property  in  the  District;  closing  the  hearing  and  levying  a special  assessment  on  property  in  the  District |\n",
      "|011018__42                                                                                                                                                                                                                                                                                                                                                                                                                 |\n",
      "|Mark  Clayton                                                                                                                                                                                                                                                                                                                                                                                                              |\n",
      "|Casey Thomas                                                                                                                                                                                                                                                                                                                                                                                                               |\n",
      "|Sandy  Greyson                                                                                                                                                                                                                                                                                                                                                                                                             |\n",
      "|Mark Clayton                                                                                                                                                                                                                                                                                                                                                                                                               |\n",
      "|Jennifer S.  Gates                                                                                                                                                                                                                                                                                                                                                                                                         |\n",
      "|Tiffinni A. Young                                                                                                                                                                                                                                                                                                                                                                                                          |\n",
      "|  the  final  2018 Assessment  Plan   and   the   2018 Assessment   Roll  (to  be  kept  on  file  with  the  City  Secretary);  establishing   classifications  for the apportionment of costs and the  methods  of  assessing  special  assessments for the services and improvements  to  property  in  the  District;  closing the hearing and  levying  a  special  assessment  on  property  in  the  District       |\n",
      "|B. Adam  McGough                                                                                                                                                                                                                                                                                                                                                                                                           |\n",
      "|Omar Narvaez                                                                                                                                                                                                                                                                                                                                                                                                               |\n",
      "|Philip T. Kingston                                                                                                                                                                                                                                                                                                                                                                                                         |\n",
      "|Rickey D. Callahan                                                                                                                                                                                                                                                                                                                                                                                                         |\n",
      "|Dwaine R. Caraway                                                                                                                                                                                                                                                                                                                                                                                                          |\n",
      "|Philip T.  Kingston                                                                                                                                                                                                                                                                                                                                                                                                        |\n",
      "|Jennifer S. Gates                                                                                                                                                                                                                                                                                                                                                                                                          |\n",
      "|Lee M. Kleinman                                                                                                                                                                                                                                                                                                                                                                                                            |\n",
      "|Monica R. Alonzo                                                                                                                                                                                                                                                                                                                                                                                                           |\n",
      "|   the   final  2018 Assessment  Plan  and  the  2018 Assessment  Roll   (to  be  kept  on  file   with the City Secretary); establishing classifications  for  the  apportionment  of  costs  and  the  methods  of  assessing  special  assessments  for  the  services  and  improvements  to  property  in  the  District;  closing  the  hearing  and  levying  a special  assessment  on  property  in  the  District|\n",
      "|Rickey D.  Callahan                                                                                                                                                                                                                                                                                                                                                                                                        |\n",
      "|Carolyn King Arnold                                                                                                                                                                                                                                                                                                                                                                                                        |\n",
      "|  the  final   2018 Assessment Plan and the 2018 Assessment  Roll  (to  be  kept  on  file  with  the  City  Secretary);  establishing  classifications  for  the   apportionment   of   costs and the methods of assessing special assessments for the services and improvements to property in the District;  closing  the  hearing  and  levying  a  special  assessment  on  property  in  the  District               |\n",
      "|Erik Wilson                                                                                                                                                                                                                                                                                                                                                                                                                |\n",
      "|  the  final  2018 Assessment Plan and the 2018 Assessment  Roll  (to  be  kept  on  file  with  the  City  Secretary);  establishing  classifications  for  the   apportionment   of   costs and the methods of assessing special assessments for the services and improvements to property in the District; closing  the  hearing  and  levying  a  special  assessment  on  property  in  the  District                 |\n",
      "|Lee Kleinman                                                                                                                                                                                                                                                                                                                                                                                                               |\n",
      "|NULL                                                                                                                                                                                                                                                                                                                                                                                                                       |\n",
      "+---------------------------------------------------------------------------------------------------------------------------------------------------------------------------------------------------------------------------------------------------------------------------------------------------------------------------------------------------------------------------------------------------------------------------+\n",
      "\n",
      "+-------------------+\n",
      "|VOTER_NAME         |\n",
      "+-------------------+\n",
      "|Tennell Atkins     |\n",
      "|Scott Griggs       |\n",
      "|Scott  Griggs      |\n",
      "|Sandy Greyson      |\n",
      "|Michael S. Rawlings|\n",
      "|Kevin Felder       |\n",
      "|Adam Medrano       |\n",
      "|Casey  Thomas      |\n",
      "|Mark  Clayton      |\n",
      "|Casey Thomas       |\n",
      "|Sandy  Greyson     |\n",
      "|Mark Clayton       |\n",
      "|Jennifer S.  Gates |\n",
      "|Tiffinni A. Young  |\n",
      "|B. Adam  McGough   |\n",
      "|Omar Narvaez       |\n",
      "|Philip T. Kingston |\n",
      "|Rickey D. Callahan |\n",
      "|Dwaine R. Caraway  |\n",
      "|Philip T.  Kingston|\n",
      "|Jennifer S. Gates  |\n",
      "|Lee M. Kleinman    |\n",
      "|Monica R. Alonzo   |\n",
      "|Rickey D.  Callahan|\n",
      "|Carolyn King Arnold|\n",
      "|Erik Wilson        |\n",
      "|Lee Kleinman       |\n",
      "+-------------------+\n",
      "\n"
     ]
    }
   ],
   "source": [
    "\n",
    "voter_df = spark.read.csv('./DallasCouncilVoters.csv.gz', header=True)\n",
    "# Show the distinct VOTER_NAME entries\n",
    "voter_df.select('VOTER_NAME').distinct().show(40, truncate=False)\n",
    "\n",
    "# Filter voter_df where the VOTER_NAME is 1-20 characters in length\n",
    "voter_df = voter_df.filter('length(VOTER_NAME) > 0 and length(VOTER_NAME) < 20')\n",
    "\n",
    "# Filter out voter_df where the VOTER_NAME contains an underscore\n",
    "voter_df = voter_df.filter(~ F.col('VOTER_NAME').contains('_'))\n",
    "\n",
    "# Show the distinct VOTER_NAME entries again\n",
    "voter_df.select('VOTER_NAME').distinct().show(40, truncate=False)"
   ]
  },
  {
   "cell_type": "code",
   "execution_count": 13,
   "metadata": {},
   "outputs": [
    {
     "name": "stderr",
     "output_type": "stream",
     "text": [
      "C:\\Users\\jdamodhar\\AppData\\Local\\Programs\\Python\\Python311\\Lib\\site-packages\\pyspark\\sql\\column.py:460: FutureWarning: A column as 'key' in getItem is deprecated as of Spark 3.0, and will not be supported in the future release. Use `column[key]` or `column.key` syntax instead.\n",
      "  warnings.warn(\n"
     ]
    },
    {
     "name": "stdout",
     "output_type": "stream",
     "text": [
      "+----------+-------------+-------------------+----------+---------+\n",
      "|      DATE|        TITLE|         VOTER_NAME|first_name|last_name|\n",
      "+----------+-------------+-------------------+----------+---------+\n",
      "|02/08/2017|Councilmember|  Jennifer S. Gates|  Jennifer|    Gates|\n",
      "|02/08/2017|Councilmember| Philip T. Kingston|    Philip| Kingston|\n",
      "|02/08/2017|        Mayor|Michael S. Rawlings|   Michael| Rawlings|\n",
      "|02/08/2017|Councilmember|       Adam Medrano|      Adam|  Medrano|\n",
      "|02/08/2017|Councilmember|       Casey Thomas|     Casey|   Thomas|\n",
      "|02/08/2017|Councilmember|Carolyn King Arnold|   Carolyn|   Arnold|\n",
      "|02/08/2017|Councilmember|       Scott Griggs|     Scott|   Griggs|\n",
      "|02/08/2017|Councilmember|   B. Adam  McGough|        B.|  McGough|\n",
      "|02/08/2017|Councilmember|       Lee Kleinman|       Lee| Kleinman|\n",
      "|02/08/2017|Councilmember|      Sandy Greyson|     Sandy|  Greyson|\n",
      "|02/08/2017|Councilmember|  Jennifer S. Gates|  Jennifer|    Gates|\n",
      "|02/08/2017|Councilmember| Philip T. Kingston|    Philip| Kingston|\n",
      "|02/08/2017|        Mayor|Michael S. Rawlings|   Michael| Rawlings|\n",
      "|02/08/2017|Councilmember|       Adam Medrano|      Adam|  Medrano|\n",
      "|02/08/2017|Councilmember|       Casey Thomas|     Casey|   Thomas|\n",
      "|02/08/2017|Councilmember|Carolyn King Arnold|   Carolyn|   Arnold|\n",
      "|02/08/2017|Councilmember| Rickey D. Callahan|    Rickey| Callahan|\n",
      "|01/11/2017|Councilmember|  Jennifer S. Gates|  Jennifer|    Gates|\n",
      "|04/25/2018|Councilmember|     Sandy  Greyson|     Sandy|  Greyson|\n",
      "|04/25/2018|Councilmember| Jennifer S.  Gates|  Jennifer|    Gates|\n",
      "+----------+-------------+-------------------+----------+---------+\n",
      "only showing top 20 rows\n",
      "\n"
     ]
    }
   ],
   "source": [
    "# Add a new column called splits separated on whitespace\n",
    "voter_df = voter_df.withColumn('splits', F.split(voter_df.VOTER_NAME, '\\s+'))\n",
    "\n",
    "# Create a new column called first_name based on the first item in splits\n",
    "voter_df = voter_df.withColumn('first_name', voter_df.splits.getItem(0))\n",
    "\n",
    "# Get the last entry of the splits list and create a column called last_name\n",
    "voter_df = voter_df.withColumn('last_name', voter_df.splits.getItem(F.size('splits') - 1))\n",
    "\n",
    "# Drop the splits column\n",
    "voter_df = voter_df.drop('splits')\n",
    "\n",
    "# Show the voter_df DataFrame\n",
    "voter_df.show()"
   ]
  },
  {
   "cell_type": "code",
   "execution_count": 14,
   "metadata": {},
   "outputs": [
    {
     "name": "stdout",
     "output_type": "stream",
     "text": [
      "+----------+-------------+-------------------+----------+---------+--------------------+\n",
      "|      DATE|        TITLE|         VOTER_NAME|first_name|last_name|          random_val|\n",
      "+----------+-------------+-------------------+----------+---------+--------------------+\n",
      "|02/08/2017|Councilmember|  Jennifer S. Gates|  Jennifer|    Gates|  0.9690986256922961|\n",
      "|02/08/2017|Councilmember| Philip T. Kingston|    Philip| Kingston| 0.07957600724517866|\n",
      "|02/08/2017|        Mayor|Michael S. Rawlings|   Michael| Rawlings|                NULL|\n",
      "|02/08/2017|Councilmember|       Adam Medrano|      Adam|  Medrano|   0.862825952912005|\n",
      "|02/08/2017|Councilmember|       Casey Thomas|     Casey|   Thomas| 0.31965254454710423|\n",
      "|02/08/2017|Councilmember|Carolyn King Arnold|   Carolyn|   Arnold|  0.7330886586134099|\n",
      "|02/08/2017|Councilmember|       Scott Griggs|     Scott|   Griggs|  0.9508436682943732|\n",
      "|02/08/2017|Councilmember|   B. Adam  McGough|        B.|  McGough|0.052998255468878264|\n",
      "|02/08/2017|Councilmember|       Lee Kleinman|       Lee| Kleinman| 0.35833765151643615|\n",
      "|02/08/2017|Councilmember|      Sandy Greyson|     Sandy|  Greyson|0.003565717222775655|\n",
      "|02/08/2017|Councilmember|  Jennifer S. Gates|  Jennifer|    Gates|  0.6061258685734114|\n",
      "|02/08/2017|Councilmember| Philip T. Kingston|    Philip| Kingston|  0.7452054417160595|\n",
      "|02/08/2017|        Mayor|Michael S. Rawlings|   Michael| Rawlings|                NULL|\n",
      "|02/08/2017|Councilmember|       Adam Medrano|      Adam|  Medrano|  0.3893063401884045|\n",
      "|02/08/2017|Councilmember|       Casey Thomas|     Casey|   Thomas| 0.15665750531538314|\n",
      "|02/08/2017|Councilmember|Carolyn King Arnold|   Carolyn|   Arnold| 0.09148632542374069|\n",
      "|02/08/2017|Councilmember| Rickey D. Callahan|    Rickey| Callahan|  0.8518676243827095|\n",
      "|01/11/2017|Councilmember|  Jennifer S. Gates|  Jennifer|    Gates|  0.5809161860869264|\n",
      "|04/25/2018|Councilmember|     Sandy  Greyson|     Sandy|  Greyson|  0.8445104377895241|\n",
      "|04/25/2018|Councilmember| Jennifer S.  Gates|  Jennifer|    Gates| 7.62136291977078E-4|\n",
      "+----------+-------------+-------------------+----------+---------+--------------------+\n",
      "only showing top 20 rows\n",
      "\n"
     ]
    }
   ],
   "source": [
    "voter_df = voter_df\\\n",
    "    .withColumn(\n",
    "        'random_val',\n",
    "        F.when(voter_df.TITLE == 'Councilmember', F.rand())\n",
    "    )\n",
    "\n",
    "# Show some of the DataFrame rows, noting whether the when clause worked\n",
    "voter_df.show()"
   ]
  },
  {
   "cell_type": "code",
   "execution_count": 15,
   "metadata": {},
   "outputs": [
    {
     "name": "stdout",
     "output_type": "stream",
     "text": [
      "+----------+-------------+-------------------+----------+---------+-------------------+\n",
      "|DATE      |TITLE        |VOTER_NAME         |first_name|last_name|random_val         |\n",
      "+----------+-------------+-------------------+----------+---------+-------------------+\n",
      "|02/08/2017|Councilmember|Jennifer S. Gates  |Jennifer  |Gates    |0.924981669860554  |\n",
      "|02/08/2017|Councilmember|Philip T. Kingston |Philip    |Kingston |0.14246533629399083|\n",
      "|02/08/2017|Mayor        |Michael S. Rawlings|Michael   |Rawlings |2.0                |\n",
      "+----------+-------------+-------------------+----------+---------+-------------------+\n",
      "only showing top 3 rows\n",
      "\n",
      "+----------+--------------------+-----------------+----------+---------+----------+\n",
      "|DATE      |TITLE               |VOTER_NAME       |first_name|last_name|random_val|\n",
      "+----------+--------------------+-----------------+----------+---------+----------+\n",
      "|04/25/2018|Deputy Mayor Pro Tem|Adam Medrano     |Adam      |Medrano  |0.0       |\n",
      "|04/25/2018|Mayor Pro Tem       |Dwaine R. Caraway|Dwaine    |Caraway  |0.0       |\n",
      "|06/20/2018|Deputy Mayor Pro Tem|Adam Medrano     |Adam      |Medrano  |0.0       |\n",
      "+----------+--------------------+-----------------+----------+---------+----------+\n",
      "only showing top 3 rows\n",
      "\n"
     ]
    }
   ],
   "source": [
    "# Add a column to voter_df for a voter based on their position\n",
    "voter_df = voter_df\\\n",
    "    .withColumn(\n",
    "        'random_val',\n",
    "        F.when(voter_df.TITLE == 'Councilmember', F.rand())\n",
    "        .when(voter_df.TITLE == 'Mayor', 2)\n",
    "        .otherwise(0)\n",
    "    )\n",
    "\n",
    "# Show some of the DataFrame rows\n",
    "voter_df.show(3, truncate=False)\n",
    "\n",
    "# Use the .filter() clause with random_val\n",
    "voter_df.filter(voter_df.random_val == 0).show(3, truncate=False)"
   ]
  },
  {
   "cell_type": "code",
   "execution_count": 16,
   "metadata": {},
   "outputs": [
    {
     "data": {
      "text/plain": [
       "[('DATE', 'string'),\n",
       " ('TITLE', 'string'),\n",
       " ('VOTER_NAME', 'string'),\n",
       " ('first_name', 'string'),\n",
       " ('last_name', 'string'),\n",
       " ('random_val', 'double')]"
      ]
     },
     "execution_count": 16,
     "metadata": {},
     "output_type": "execute_result"
    }
   ],
   "source": [
    "voter_df.dtypes"
   ]
  },
  {
   "cell_type": "code",
   "execution_count": 17,
   "metadata": {},
   "outputs": [
    {
     "name": "stdout",
     "output_type": "stream",
     "text": [
      "+----------+-------------+-------------------+----------+---------+-------------------+-----------------------+\n",
      "|DATE      |TITLE        |VOTER_NAME         |first_name|last_name|random_val         |splits                 |\n",
      "+----------+-------------+-------------------+----------+---------+-------------------+-----------------------+\n",
      "|02/08/2017|Councilmember|Jennifer S. Gates  |Jennifer  |Gates    |0.924981669860554  |[Jennifer, S., Gates]  |\n",
      "|02/08/2017|Councilmember|Philip T. Kingston |Philip    |Kingston |0.14246533629399083|[Philip, T., Kingston] |\n",
      "|02/08/2017|Mayor        |Michael S. Rawlings|Michael   |Rawlings |2.0                |[Michael, S., Rawlings]|\n",
      "+----------+-------------+-------------------+----------+---------+-------------------+-----------------------+\n",
      "only showing top 3 rows\n",
      "\n"
     ]
    }
   ],
   "source": [
    "voter_df = voter_df.withColumn('splits', F.split(voter_df.VOTER_NAME, ' '))\n",
    "voter_df.show(3, truncate=False)"
   ]
  },
  {
   "cell_type": "code",
   "execution_count": 18,
   "metadata": {},
   "outputs": [
    {
     "name": "stdout",
     "output_type": "stream",
     "text": [
      "+----------+-------------+-------------------+---------+-------------------+---------------------+\n",
      "|      DATE|        TITLE|         VOTER_NAME|last_name|         random_val|first_and_middle_name|\n",
      "+----------+-------------+-------------------+---------+-------------------+---------------------+\n",
      "|02/08/2017|Councilmember|  Jennifer S. Gates|    Gates|  0.924981669860554|    Jennifer S. Gates|\n",
      "|02/08/2017|Councilmember| Philip T. Kingston| Kingston|0.14246533629399083|   Philip T. Kingston|\n",
      "|02/08/2017|        Mayor|Michael S. Rawlings| Rawlings|                2.0|  Michael S. Rawlings|\n",
      "|02/08/2017|Councilmember|       Adam Medrano|  Medrano|0.19061674559226627|         Adam Medrano|\n",
      "|02/08/2017|Councilmember|       Casey Thomas|   Thomas|0.06330632057892627|         Casey Thomas|\n",
      "|02/08/2017|Councilmember|Carolyn King Arnold|   Arnold|   0.86755437491524|  Carolyn King Arnold|\n",
      "|02/08/2017|Councilmember|       Scott Griggs|   Griggs| 0.7363428634166084|         Scott Griggs|\n",
      "|02/08/2017|Councilmember|   B. Adam  McGough|  McGough| 0.6830608325511469|     B. Adam  McGough|\n",
      "|02/08/2017|Councilmember|       Lee Kleinman| Kleinman|0.24383253124401694|         Lee Kleinman|\n",
      "|02/08/2017|Councilmember|      Sandy Greyson|  Greyson| 0.8296402600835193|        Sandy Greyson|\n",
      "|02/08/2017|Councilmember|  Jennifer S. Gates|    Gates|0.33051604720714767|    Jennifer S. Gates|\n",
      "|02/08/2017|Councilmember| Philip T. Kingston| Kingston|  0.369739088850527|   Philip T. Kingston|\n",
      "|02/08/2017|        Mayor|Michael S. Rawlings| Rawlings|                2.0|  Michael S. Rawlings|\n",
      "|02/08/2017|Councilmember|       Adam Medrano|  Medrano|0.07609773824391541|         Adam Medrano|\n",
      "|02/08/2017|Councilmember|       Casey Thomas|   Thomas| 0.9311983636681254|         Casey Thomas|\n",
      "|02/08/2017|Councilmember|Carolyn King Arnold|   Arnold| 0.5823051591954886|  Carolyn King Arnold|\n",
      "|02/08/2017|Councilmember| Rickey D. Callahan| Callahan| 0.9458200016206878|   Rickey D. Callahan|\n",
      "|01/11/2017|Councilmember|  Jennifer S. Gates|    Gates| 0.5721502832320167|    Jennifer S. Gates|\n",
      "|04/25/2018|Councilmember|     Sandy  Greyson|  Greyson|0.19984779340374625|       Sandy  Greyson|\n",
      "|04/25/2018|Councilmember| Jennifer S.  Gates|    Gates| 0.4991793658572966|   Jennifer S.  Gates|\n",
      "+----------+-------------+-------------------+---------+-------------------+---------------------+\n",
      "only showing top 20 rows\n",
      "\n"
     ]
    }
   ],
   "source": [
    "def getFirstAndMiddle(names):\n",
    "  # Return a space separated string of names\n",
    "  return ' '.join(names)\n",
    "\n",
    "# Define the method as a UDF\n",
    "udfFirstAndMiddle = F.udf(getFirstAndMiddle, StringType())\n",
    "\n",
    "# Create a new column using your UDF\n",
    "voter_df = voter_df.withColumn('first_and_middle_name', udfFirstAndMiddle(voter_df.splits))\n",
    "\n",
    "# Drop the unecessary columns then show the DataFrame\n",
    "voter_df = voter_df.drop('first_name')\n",
    "voter_df = voter_df.drop('splits')\n",
    "voter_df.show()"
   ]
  },
  {
   "cell_type": "code",
   "execution_count": 19,
   "metadata": {},
   "outputs": [
    {
     "name": "stdout",
     "output_type": "stream",
     "text": [
      "\n",
      "There are 36 rows in the voter_df DataFrame.\n",
      "\n",
      "+--------------------+------+\n",
      "|          VOTER NAME|ROW_ID|\n",
      "+--------------------+------+\n",
      "|                NULL|    35|\n",
      "|        Lee Kleinman|    34|\n",
      "|  the  final  201...|    33|\n",
      "|         Erik Wilson|    32|\n",
      "|  the  final   20...|    31|\n",
      "| Carolyn King Arnold|    30|\n",
      "| Rickey D.  Callahan|    29|\n",
      "|   the   final  2...|    28|\n",
      "|    Monica R. Alonzo|    27|\n",
      "|     Lee M. Kleinman|    26|\n",
      "+--------------------+------+\n",
      "only showing top 10 rows\n",
      "\n"
     ]
    }
   ],
   "source": [
    "df = spark.read.csv('./DallasCouncilVotes.csv.gz', header=True)\n",
    "\n",
    "# Select all the unique council voters\n",
    "voter_df_single = df.select(df[\"VOTER NAME\"]).distinct()\n",
    "\n",
    "# Count the rows in voter_df\n",
    "print(\"\\nThere are %d rows in the voter_df DataFrame.\\n\" % voter_df_single.count())\n",
    "\n",
    "# Add a ROW_ID\n",
    "voter_df_single = voter_df_single.withColumn('ROW_ID', F.monotonically_increasing_id())\n",
    "\n",
    "# Show the rows with 10 highest IDs in the set\n",
    "voter_df_single.orderBy(voter_df_single.ROW_ID.desc()).show(10)"
   ]
  },
  {
   "cell_type": "code",
   "execution_count": 20,
   "metadata": {},
   "outputs": [
    {
     "name": "stdout",
     "output_type": "stream",
     "text": [
      "\n",
      "There are 1 partitions in the voter_df DataFrame.\n",
      "\n",
      "\n",
      "There are 1 partitions in the voter_df_single DataFrame.\n",
      "\n",
      "+----------+-------------+--------------+---------+-------------------+---------------------+------+\n",
      "|DATE      |TITLE        |VOTER_NAME    |last_name|random_val         |first_and_middle_name|ROW_ID|\n",
      "+----------+-------------+--------------+---------+-------------------+---------------------+------+\n",
      "|11/20/2018|Councilmember|Mark  Clayton |Clayton  |0.5241081050917347 |Mark  Clayton        |43911 |\n",
      "|11/20/2018|Councilmember|Tennell Atkins|Atkins   |0.14371968397544677|Tennell Atkins       |43910 |\n",
      "+----------+-------------+--------------+---------+-------------------+---------------------+------+\n",
      "only showing top 2 rows\n",
      "\n",
      "+--------------------+------+\n",
      "|          VOTER NAME|ROW_ID|\n",
      "+--------------------+------+\n",
      "|                NULL|    35|\n",
      "|        Lee Kleinman|    34|\n",
      "|  the  final  201...|    33|\n",
      "|         Erik Wilson|    32|\n",
      "|  the  final   20...|    31|\n",
      "| Carolyn King Arnold|    30|\n",
      "| Rickey D.  Callahan|    29|\n",
      "|   the   final  2...|    28|\n",
      "|    Monica R. Alonzo|    27|\n",
      "|     Lee M. Kleinman|    26|\n",
      "+--------------------+------+\n",
      "only showing top 10 rows\n",
      "\n"
     ]
    }
   ],
   "source": [
    "# Print the number of partitions in each DataFrame\n",
    "\n",
    "print(\"\\nThere are %d partitions in the voter_df DataFrame.\\n\" % voter_df.rdd.getNumPartitions())\n",
    "print(\"\\nThere are %d partitions in the voter_df_single DataFrame.\\n\" % voter_df_single.rdd.getNumPartitions())\n",
    "\n",
    "# Add a ROW_ID field to each DataFrame\n",
    "voter_df = voter_df.withColumn('ROW_ID', F.monotonically_increasing_id())\n",
    "voter_df_single = voter_df_single.withColumn('ROW_ID', F.monotonically_increasing_id())\n",
    "\n",
    "# Show the top 10 IDs in each DataFrame \n",
    "voter_df.orderBy(voter_df.ROW_ID.desc()).show(2,truncate=False)\n",
    "voter_df_single.orderBy(voter_df_single.ROW_ID.desc()).show(10)"
   ]
  },
  {
   "cell_type": "code",
   "execution_count": 21,
   "metadata": {},
   "outputs": [],
   "source": [
    "voter_df = voter_df.withColumn(\"DATE\", F.to_date(voter_df[\"DATE\"], \"dd/MM/yyyy\"))\n",
    "voter_df_march = voter_df.filter(F.month(voter_df.DATE) == 3)\n",
    "voter_df_april = voter_df.filter(F.month(voter_df.DATE) == 4)"
   ]
  },
  {
   "cell_type": "code",
   "execution_count": 22,
   "metadata": {},
   "outputs": [
    {
     "name": "stdout",
     "output_type": "stream",
     "text": [
      "+----------+-------------+-------------------+---------+-------------------+---------------------+------+\n",
      "|DATE      |TITLE        |VOTER_NAME         |last_name|random_val         |first_and_middle_name|ROW_ID|\n",
      "+----------+-------------+-------------------+---------+-------------------+---------------------+------+\n",
      "|2018-03-10|Councilmember|Sandy  Greyson     |Greyson  |0.9315991259857322 |Sandy  Greyson       |272   |\n",
      "|2018-03-10|Councilmember|Jennifer S.  Gates |Gates    |0.04711424363909489|Jennifer S.  Gates   |323   |\n",
      "|2018-03-10|Councilmember|Philip T.  Kingston|Kingston |0.9582637445693514 |Philip T.  Kingston  |354   |\n",
      "+----------+-------------+-------------------+---------+-------------------+---------------------+------+\n",
      "only showing top 3 rows\n",
      "\n"
     ]
    }
   ],
   "source": [
    "voter_df_march.show(3, truncate=False)"
   ]
  },
  {
   "cell_type": "code",
   "execution_count": 23,
   "metadata": {},
   "outputs": [
    {
     "name": "stdout",
     "output_type": "stream",
     "text": [
      "+------+\n",
      "|ROW_ID|\n",
      "+------+\n",
      "|   272|\n",
      "|   323|\n",
      "|   354|\n",
      "+------+\n",
      "only showing top 3 rows\n",
      "\n",
      "+------+\n",
      "|ROW_ID|\n",
      "+------+\n",
      "| 41004|\n",
      "| 41005|\n",
      "| 41006|\n",
      "+------+\n",
      "only showing top 3 rows\n",
      "\n"
     ]
    }
   ],
   "source": [
    "# Determine the highest ROW_ID and save it in previous_max_ID\n",
    "previous_max_ID = voter_df_march\\\n",
    "    .select('ROW_ID')\\\n",
    "    .rdd\\\n",
    "    .max()[0]\n",
    "\n",
    "\n",
    "# Add a ROW_ID column to voter_df_april starting at the desired value\n",
    "voter_df_april = voter_df_april\\\n",
    "    .withColumn(\n",
    "        'ROW_ID',\n",
    "        F.monotonically_increasing_id() + previous_max_ID\n",
    "    )\n",
    "\n",
    "# Show the ROW_ID from both DataFrames and compare\n",
    "voter_df_march.select('ROW_ID').show(3)\n",
    "voter_df_april.select('ROW_ID').show(3)"
   ]
  },
  {
   "cell_type": "code",
   "execution_count": 24,
   "metadata": {},
   "outputs": [
    {
     "name": "stdout",
     "output_type": "stream",
     "text": [
      "+----------+----+-------------------+------------+------------------+-----------------------+\n",
      "|date      |name|date to_timestamp  |date to_date|date output_format|datetimestamp to_string|\n",
      "+----------+----+-------------------+------------+------------------+-----------------------+\n",
      "|2022-01-05|John|2022-01-05 00:00:00|2022-01-05  |05/01/2022        |2022-01-05 00:00:00    |\n",
      "|2022-01-15|Jane|2022-01-15 00:00:00|2022-01-15  |15/01/2022        |2022-01-15 00:00:00    |\n",
      "+----------+----+-------------------+------------+------------------+-----------------------+\n",
      "\n"
     ]
    }
   ],
   "source": [
    "\n",
    "from pyspark.sql.functions import to_timestamp, col, to_date, date_format\n",
    "\n",
    "def convert_date_format(df, column, input_format, output_format, start_date=None, end_date=None):\n",
    "    \"\"\"\n",
    "    Takes a PySpark DataFrame, a string column, input and output date formats\n",
    "    and optional start and end date parameters to filter the data.\n",
    "    Returns a new DataFrame with the converted date column and the filtered data.\n",
    "    \"\"\"\n",
    "    # Convert column to timestamp column using input format\n",
    "    df = df.withColumn(column+\" to_timestamp\", to_timestamp(col(column), input_format))\n",
    "    df = df.withColumn(column+' to_date', to_date(col(column), input_format))\n",
    "    df = df.withColumn(column+' output_format', date_format(col(column+' to_date'), output_format))\n",
    "\n",
    "    # Check if start and end date parameters have been specified\n",
    "    if start_date and end_date:\n",
    "        # Filter data based on date range\n",
    "        df = df.filter((col(column) >= start_date) & (col(column) <= end_date))\n",
    "    \n",
    "    # Create a new date column with the specified output format\n",
    "    df = df.withColumn(column+\"timestamp to_string\", col(column).cast(\"timestamp\").cast(\"string\"))\n",
    "    \n",
    "    return df\n",
    "\n",
    "# creating input dataframe\n",
    "data = [(\"2022-01-05\", \"John\"),\n",
    "        (\"2021-12-31\", \"Mary\"),\n",
    "        (\"2022-02-14\", \"Peter\"),\n",
    "        (\"2022-01-15\", \"Jane\")]\n",
    "\n",
    "schema = [\"date\", \"name\"]\n",
    "df = spark.createDataFrame(data, schema)\n",
    "convert_date_format(df, \"date\", \"yyyy-MM-dd\", \"dd/MM/yyyy\", \"2022-01-01 00:00:00\", \"2022-01-31 23:59:59\").show(3, truncate=False)\n"
   ]
  },
  {
   "cell_type": "code",
   "execution_count": 25,
   "metadata": {},
   "outputs": [
    {
     "name": "stdout",
     "output_type": "stream",
     "text": [
      "+------+-----+-------------------+------------------+\n",
      "|date  |name |date_ts            |subtract_21_months|\n",
      "+------+-----+-------------------+------------------+\n",
      "|220105|John |2022-01-05 00:00:00|2022-01-29        |\n",
      "|211231|Mary |2021-12-31 00:00:00|2022-01-29        |\n",
      "|220214|Peter|2022-02-14 00:00:00|2022-01-29        |\n",
      "|220115|Jane |2022-01-15 00:00:00|2022-01-29        |\n",
      "+------+-----+-------------------+------------------+\n",
      "\n",
      "+------+----+-------------------+------------------+\n",
      "|date  |name|date_ts            |subtract_21_months|\n",
      "+------+----+-------------------+------------------+\n",
      "|220105|John|2022-01-05 00:00:00|2022-01-29        |\n",
      "|211231|Mary|2021-12-31 00:00:00|2022-01-29        |\n",
      "|220115|Jane|2022-01-15 00:00:00|2022-01-29        |\n",
      "+------+----+-------------------+------------------+\n",
      "\n"
     ]
    }
   ],
   "source": [
    "# creating input dataframe\n",
    "data = [(\"220105\", \"John\"),\n",
    "        (\"211231\", \"Mary\"),\n",
    "        (\"220214\", \"Peter\"),\n",
    "        (\"220115\", \"Jane\")]\n",
    "\n",
    "schema = [\"date\", \"name\"]\n",
    "df = spark.createDataFrame(data, schema)\n",
    "\n",
    "# Convert date to timestamp\n",
    "df = df.withColumn(\"date_ts\", to_timestamp(col(\"date\"), \"yyMMdd\"))\n",
    "df = df.withColumn(\"subtract_21_months\", F.add_months(F.current_timestamp(), -21))\n",
    "df.show( truncate=False)\n",
    "# Find records before 25 months\n",
    "df_filtered = df.filter(df.date_ts <= df.subtract_21_months)\n",
    "df_filtered.show(truncate=False)"
   ]
  },
  {
   "cell_type": "code",
   "execution_count": 26,
   "metadata": {},
   "outputs": [
    {
     "name": "stdout",
     "output_type": "stream",
     "text": [
      "+------+-----+----------+------------------+\n",
      "|date  |name |date_ts   |subtract_21_months|\n",
      "+------+-----+----------+------------------+\n",
      "|220105|John |1641321000|1643394600        |\n",
      "|211231|Mary |1640889000|1643394600        |\n",
      "|220214|Peter|1644777000|1643394600        |\n",
      "|220115|Jane |1642185000|1643394600        |\n",
      "+------+-----+----------+------------------+\n",
      "\n",
      "+------+----+----------+------------------+\n",
      "|date  |name|date_ts   |subtract_21_months|\n",
      "+------+----+----------+------------------+\n",
      "|220105|John|1641321000|1643394600        |\n",
      "|211231|Mary|1640889000|1643394600        |\n",
      "|220115|Jane|1642185000|1643394600        |\n",
      "+------+----+----------+------------------+\n",
      "\n"
     ]
    }
   ],
   "source": [
    "df = spark.createDataFrame(data, schema)\n",
    "\n",
    "# Convert date to timestamp\n",
    "df = df.withColumn(\"date_ts\", F.unix_timestamp(F.col(\"date\"), \"yyMMdd\"))\n",
    "df = df.withColumn(\"subtract_21_months\", F.unix_timestamp(F.add_months(F.current_timestamp(), -21)))\n",
    "df.show( truncate=False)\n",
    "# Find records before 21 months\n",
    "df_filtered = df.filter(df.date_ts <= df.subtract_21_months)\n",
    "\n",
    "# Show results\n",
    "df_filtered.show(truncate=False)"
   ]
  }
 ],
 "metadata": {
  "kernelspec": {
   "display_name": "Python 3 (ipykernel)",
   "language": "python",
   "name": "python3"
  },
  "language_info": {
   "codemirror_mode": {
    "name": "ipython",
    "version": 3
   },
   "file_extension": ".py",
   "mimetype": "text/x-python",
   "name": "python",
   "nbconvert_exporter": "python",
   "pygments_lexer": "ipython3",
   "version": "3.11.6"
  }
 },
 "nbformat": 4,
 "nbformat_minor": 2
}
