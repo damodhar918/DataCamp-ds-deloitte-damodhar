{
 "cells": [
  {
   "cell_type": "code",
   "execution_count": 1,
   "metadata": {},
   "outputs": [
    {
     "data": {
      "text/html": [
       "\n",
       "            <div>\n",
       "                <p><b>SparkSession - in-memory</b></p>\n",
       "                \n",
       "        <div>\n",
       "            <p><b>SparkContext</b></p>\n",
       "\n",
       "            <p><a href=\"http://USHYDJDAMODH6.us.deloitte.com:4040\">Spark UI</a></p>\n",
       "\n",
       "            <dl>\n",
       "              <dt>Version</dt>\n",
       "                <dd><code>v3.5.0</code></dd>\n",
       "              <dt>Master</dt>\n",
       "                <dd><code>local[*]</code></dd>\n",
       "              <dt>AppName</dt>\n",
       "                <dd><code>dj</code></dd>\n",
       "            </dl>\n",
       "        </div>\n",
       "        \n",
       "            </div>\n",
       "        "
      ],
      "text/plain": [
       "<pyspark.sql.session.SparkSession at 0x1aede7c46d0>"
      ]
     },
     "execution_count": 1,
     "metadata": {},
     "output_type": "execute_result"
    }
   ],
   "source": [
    "import os\n",
    "import sys\n",
    "import pandas as pd\n",
    "import numpy as np\n",
    "os.environ['PYSPARK_PYTHON'] = sys.executable\n",
    "os.environ['PYSPARK_DRIVER_PYTHON'] = sys.executable\n",
    "\n",
    "# Create Spark context\n",
    "from pyspark import SparkContext, SparkConf\n",
    "from pyspark.sql import functions as F\n",
    "from pyspark.sql.types import *\n",
    "conf = SparkConf().setAppName('dj').setMaster('local[*]')\\\n",
    "    .set(\"spark.memory.offHeap.enabled\",\"true\") \\\n",
    "    .set(\"spark.memory.offHeap.size\",\"2g\")\n",
    "sc = SparkContext(conf=conf)\n",
    "\n",
    "# Create Spark session\n",
    "from pyspark.sql import SparkSession\n",
    "spark = SparkSession.builder.appName('dj').getOrCreate()\n",
    "spark"
   ]
  },
  {
   "cell_type": "code",
   "execution_count": 2,
   "metadata": {},
   "outputs": [
    {
     "data": {
      "text/plain": [
       "('local-1698639345619',\n",
       " 'local[*]',\n",
       " '3.5.0',\n",
       " 'http://USHYDJDAMODH6.us.deloitte.com:4040',\n",
       " 16,\n",
       " '3.11',\n",
       " 'dj',\n",
       " <bound method SparkContext.sparkUser of <SparkContext master=local[*] appName=dj>>,\n",
       " <SparkContext master=local[*] appName=dj>,\n",
       " <pyspark.sql.catalog.Catalog at 0x1aede7ca050>)"
      ]
     },
     "execution_count": 2,
     "metadata": {},
     "output_type": "execute_result"
    }
   ],
   "source": [
    "(sc.applicationId, sc.master, sc.version, sc.uiWebUrl, sc.defaultParallelism, sc.pythonVer, sc.appName, sc.sparkUser,sc,spark.catalog)"
   ]
  },
  {
   "cell_type": "code",
   "execution_count": 3,
   "metadata": {},
   "outputs": [
    {
     "name": "stdout",
     "output_type": "stream",
     "text": [
      "+-----------------+-------------+-------------------+-----------------------------+---+\n",
      "|Date (MM/DD/YYYY)|Flight Number|Destination Airport|Actual elapsed time (Minutes)|id |\n",
      "+-----------------+-------------+-------------------+-----------------------------+---+\n",
      "|01/01/2015       |0029         |ONT                |0                            |0  |\n",
      "|01/01/2015       |0043         |DTW                |0                            |1  |\n",
      "|01/01/2015       |0074         |CLE                |0                            |2  |\n",
      "|01/01/2015       |0150         |MSY                |0                            |3  |\n",
      "+-----------------+-------------+-------------------+-----------------------------+---+\n",
      "only showing top 4 rows\n",
      "\n"
     ]
    }
   ],
   "source": [
    "# Import the data to a DataFrame\n",
    "departures_df = spark.read.csv('./AA_DFW_2015_Departures_Short.csv.gz', header=True)\n",
    "\n",
    "# Remove any duration of 0\n",
    "departures_df = departures_df\\\n",
    "    .filter(departures_df['Actual elapsed time (Minutes)'] == 0)\n",
    "\n",
    "# Add an ID column\n",
    "departures_df = departures_df.withColumn('id', F.monotonically_increasing_id())\n",
    "\n",
    "# Write the file out to JSON format\n",
    "departures_df.write.json('tmp_output.json', mode='overwrite')\n",
    "departures_df.show(4,truncate=False)"
   ]
  },
  {
   "cell_type": "code",
   "execution_count": 4,
   "metadata": {},
   "outputs": [],
   "source": [
    "# http://vision.stanford.edu/aditya86/ImageNetDogs/"
   ]
  },
  {
   "cell_type": "code",
   "execution_count": 5,
   "metadata": {},
   "outputs": [],
   "source": [
    "# !pip install --upgrade scipy"
   ]
  },
  {
   "cell_type": "code",
   "execution_count": 29,
   "metadata": {},
   "outputs": [
    {
     "name": "stdout",
     "output_type": "stream",
     "text": [
      "+--------+---------------+-----+------+----------------------------+\n",
      "|folder  |filename       |width|height|dog_list                    |\n",
      "+--------+---------------+-----+------+----------------------------+\n",
      "|02085620|n02085620_10074|333  |500   |Chihuahua\\t25\\t10\\t276\\t498 |\n",
      "|02085620|n02085620_10131|395  |495   |Chihuahua\\t49\\t9\\t393\\t493  |\n",
      "|02085620|n02085620_10621|500  |298   |Chihuahua\\t142\\t43\\t335\\t250|\n",
      "|02085620|n02085620_1073 |345  |500   |Chihuahua\\t0\\t27\\t312\\t498  |\n",
      "+--------+---------------+-----+------+----------------------------+\n",
      "only showing top 4 rows\n",
      "\n",
      "root\n",
      " |-- folder: string (nullable = true)\n",
      " |-- filename: string (nullable = true)\n",
      " |-- width: integer (nullable = true)\n",
      " |-- height: integer (nullable = true)\n",
      " |-- dog_list: string (nullable = false)\n",
      "\n",
      "+-----------------------------------------------------------------+\n",
      "|_c0                                                              |\n",
      "+-----------------------------------------------------------------+\n",
      "|02085620\\tn02085620_10074\\t333\\t500\\tChihuahua\\t25\\t10\\t276\\t498 |\n",
      "|02085620\\tn02085620_10131\\t395\\t495\\tChihuahua\\t49\\t9\\t393\\t493  |\n",
      "|02085620\\tn02085620_10621\\t500\\t298\\tChihuahua\\t142\\t43\\t335\\t250|\n",
      "|02085620\\tn02085620_1073\\t345\\t500\\tChihuahua\\t0\\t27\\t312\\t498   |\n",
      "+-----------------------------------------------------------------+\n",
      "only showing top 4 rows\n",
      "\n"
     ]
    }
   ],
   "source": [
    "\n",
    "annotations_df = spark.read.csv('annotation.csv',header=True,inferSchema=True,sep=',')\n",
    "annotations_df.count()\n",
    "annotations_df = annotations_df.withColumn('dog_list', F.concat_ws('\\t', F.split('dog_list', ', ')))\n",
    "# annotations_df = annotations_df.withColumn('dog_listn', F.substring(F.col('dog_list').cast('string'), 2))\n",
    "annotations_df = annotations_df.withColumn(\"dog_list\", F.regexp_replace(\"dog_list\", r\"[\\[\\]']+\", \"\"))\n",
    "annotations_df.show(4,truncate=False)\n",
    "annotations_df.printSchema()\n",
    "\n",
    "annotations_df.write.csv('tmp_annotations.csv.gz', compression='gzip',sep='\\t',mode='overwrite')\n",
    "\n",
    "annotations_df = spark.read.csv('tmp_annotations.csv.gz',sep='|')\n",
    "annotations_df = annotations_df.withColumn(\"_c0\", F.regexp_replace(\"_c0\", r\"[\\\"]+\", \"\"))\n",
    "\n",
    "annotations_df.show(4,truncate=False)"
   ]
  },
  {
   "cell_type": "code",
   "execution_count": 30,
   "metadata": {},
   "outputs": [
    {
     "name": "stdout",
     "output_type": "stream",
     "text": [
      "Full count: 20580\n",
      "Comment count: 0\n",
      "Remaining count: 20580\n"
     ]
    }
   ],
   "source": [
    "# Import the file to a DataFrame and perform a row count\n",
    "# annotations_df = spark.read.csv('tmp_annotations.csv.gz', sep='|')\n",
    "full_count = annotations_df.count()\n",
    "from pyspark.sql.functions import col\n",
    "# Count the number of rows beginning with '#'\n",
    "comment_count = annotations_df.where(col('_c0').startswith('#')).count()\n",
    "\n",
    "# Import the file to a new DataFrame, without commented rows\n",
    "no_comments_df = spark.read.csv('tmp_annotations.csv.gz', sep='|', comment='#')\n",
    "\n",
    "# Count the new DataFrame and verify the difference is as expected\n",
    "no_comments_count = no_comments_df.count()\n",
    "print(\"Full count: %d\\nComment count: %d\\nRemaining count: %d\" % (full_count, comment_count, no_comments_count))"
   ]
  },
  {
   "cell_type": "code",
   "execution_count": 31,
   "metadata": {},
   "outputs": [
    {
     "name": "stdout",
     "output_type": "stream",
     "text": [
      "Initial count: 20580\n",
      "Final count: 20580\n"
     ]
    }
   ],
   "source": [
    "# Split _c0 on the tab character and store the list in a variable\n",
    "tmp_fields = F.split(annotations_df['_c0'], \"\\t\")\n",
    "\n",
    "# Create the colcount column on the DataFrame\n",
    "annotations_df = annotations_df.withColumn('colcount', F.size(tmp_fields))\n",
    "\n",
    "# Remove any rows containing fewer than 5 fields\n",
    "annotations_df_filtered = annotations_df.filter(~ (annotations_df.colcount < 5))\n",
    "\n",
    "# Count the number of rows\n",
    "final_count = annotations_df_filtered.count()\n",
    "print(\"Initial count: %d\\nFinal count: %d\" % (full_count, final_count))"
   ]
  },
  {
   "cell_type": "code",
   "execution_count": 32,
   "metadata": {},
   "outputs": [
    {
     "name": "stdout",
     "output_type": "stream",
     "text": [
      "Initial count: 20580\n",
      "Final count: 20580\n"
     ]
    }
   ],
   "source": [
    "\n",
    "# Remove any rows containing fewer than 5 fields\n",
    "annotations_df_filtered = annotations_df.filter(~ (annotations_df.colcount < 5))\n",
    "\n",
    "# Count the number of rows\n",
    "final_count = annotations_df_filtered.count()\n",
    "print(\"Initial count: %d\\nFinal count: %d\" % (full_count, final_count))"
   ]
  },
  {
   "cell_type": "code",
   "execution_count": 33,
   "metadata": {},
   "outputs": [],
   "source": [
    "# Split the content of _c0 on the tab character (aka, '\\t')\n",
    "split_cols = F.split(annotations_df[\"_c0\"], '\\t')\n",
    "\n",
    "# Add the columns folder, filename, width, and height\n",
    "split_df = annotations_df.withColumn('folder', split_cols.getItem(0))\n",
    "split_df = split_df.withColumn('filename', split_cols.getItem(1))\n",
    "split_df = split_df.withColumn('width', split_cols.getItem(2))\n",
    "split_df = split_df.withColumn('height', split_cols.getItem(3))\n",
    "\n",
    "# Add split_cols as a column\n",
    "split_df = split_df.withColumn('split_cols', split_cols)"
   ]
  },
  {
   "cell_type": "code",
   "execution_count": 34,
   "metadata": {},
   "outputs": [
    {
     "name": "stdout",
     "output_type": "stream",
     "text": [
      "+-----------------------------------------------------------------+--------+\n",
      "|_c0                                                              |colcount|\n",
      "+-----------------------------------------------------------------+--------+\n",
      "|02085620\\tn02085620_10074\\t333\\t500\\tChihuahua\\t25\\t10\\t276\\t498 |9       |\n",
      "|02085620\\tn02085620_10131\\t395\\t495\\tChihuahua\\t49\\t9\\t393\\t493  |9       |\n",
      "|02085620\\tn02085620_10621\\t500\\t298\\tChihuahua\\t142\\t43\\t335\\t250|9       |\n",
      "|02085620\\tn02085620_1073\\t345\\t500\\tChihuahua\\t0\\t27\\t312\\t498   |9       |\n",
      "+-----------------------------------------------------------------+--------+\n",
      "only showing top 4 rows\n",
      "\n",
      "+-----------------------------------------------------------------+--------+--------+---------------+-----+------+-------------------------------------------------------------------+\n",
      "|_c0                                                              |colcount|folder  |filename       |width|height|split_cols                                                         |\n",
      "+-----------------------------------------------------------------+--------+--------+---------------+-----+------+-------------------------------------------------------------------+\n",
      "|02085620\\tn02085620_10074\\t333\\t500\\tChihuahua\\t25\\t10\\t276\\t498 |9       |02085620|n02085620_10074|333  |500   |[02085620, n02085620_10074, 333, 500, Chihuahua, 25, 10, 276, 498] |\n",
      "|02085620\\tn02085620_10131\\t395\\t495\\tChihuahua\\t49\\t9\\t393\\t493  |9       |02085620|n02085620_10131|395  |495   |[02085620, n02085620_10131, 395, 495, Chihuahua, 49, 9, 393, 493]  |\n",
      "|02085620\\tn02085620_10621\\t500\\t298\\tChihuahua\\t142\\t43\\t335\\t250|9       |02085620|n02085620_10621|500  |298   |[02085620, n02085620_10621, 500, 298, Chihuahua, 142, 43, 335, 250]|\n",
      "|02085620\\tn02085620_1073\\t345\\t500\\tChihuahua\\t0\\t27\\t312\\t498   |9       |02085620|n02085620_1073 |345  |500   |[02085620, n02085620_1073, 345, 500, Chihuahua, 0, 27, 312, 498]   |\n",
      "+-----------------------------------------------------------------+--------+--------+---------------+-----+------+-------------------------------------------------------------------+\n",
      "only showing top 4 rows\n",
      "\n"
     ]
    }
   ],
   "source": [
    "annotations_df.show(4,truncate=False)\n",
    "split_df.show(4,truncate=False)"
   ]
  },
  {
   "cell_type": "code",
   "execution_count": 35,
   "metadata": {},
   "outputs": [],
   "source": [
    "# # Split the content of _c0 on the tab character (aka, '\\t')\n",
    "# split_cols = F.split(annotations_df[\"dog_list\"], ',')\n",
    "# # |_c0     |_c1            |_c2|_c3|\n",
    "# # |  folder|       filename|width|height|\n",
    "# # Add the columns folder, filename, width, and height\n",
    "# split_df = annotations_df.withColumnRename('_c0', 'folder')\n",
    "# split_df = split_df.withColumnRename('_c1', 'filename')\n",
    "# split_df = split_df.withColumnRename('_c2', 'width')\n",
    "# split_df = split_df.withColumnRename('_c3', 'height')\n",
    "\n",
    "# # Add split_cols as a column\n",
    "# split_df = split_df.withColumn('split_cols', split_cols)"
   ]
  },
  {
   "cell_type": "code",
   "execution_count": 36,
   "metadata": {},
   "outputs": [],
   "source": [
    "def retriever(cols, colcount):\n",
    "  # Return a list of dog data\n",
    "  return cols[4:colcount]\n",
    "\n",
    "# Define the method as a UDF\n",
    "udfRetriever = F.udf(retriever, ArrayType(StringType()))\n",
    "\n",
    "# Create a new column using your UDF\n",
    "split_df = split_df.withColumn(\n",
    "    'dog_list',\n",
    "    udfRetriever(split_df.split_cols, split_df.colcount)\n",
    ")\n",
    "\n",
    "# Remove the original column, split_cols, and the colcount\n",
    "split_df = split_df\\\n",
    "    .drop('_c0')\\\n",
    "    .drop('split_cols')\\\n",
    "    .drop('colcount')"
   ]
  },
  {
   "cell_type": "code",
   "execution_count": 37,
   "metadata": {},
   "outputs": [
    {
     "name": "stdout",
     "output_type": "stream",
     "text": [
      "+--------+---------------+-----+------+-----------------------------+\n",
      "|folder  |filename       |width|height|dog_list                     |\n",
      "+--------+---------------+-----+------+-----------------------------+\n",
      "|02085620|n02085620_10074|333  |500   |[Chihuahua, 25, 10, 276, 498]|\n",
      "|02085620|n02085620_10131|395  |495   |[Chihuahua, 49, 9, 393, 493] |\n",
      "+--------+---------------+-----+------+-----------------------------+\n",
      "only showing top 2 rows\n",
      "\n",
      "root\n",
      " |-- folder: string (nullable = true)\n",
      " |-- filename: string (nullable = true)\n",
      " |-- width: string (nullable = true)\n",
      " |-- height: string (nullable = true)\n",
      " |-- dog_list: array (nullable = true)\n",
      " |    |-- element: string (containsNull = true)\n",
      "\n",
      "+----------------------------------------------------------------+--------+\n",
      "|_c0                                                             |colcount|\n",
      "+----------------------------------------------------------------+--------+\n",
      "|02085620\\tn02085620_10074\\t333\\t500\\tChihuahua\\t25\\t10\\t276\\t498|9       |\n",
      "|02085620\\tn02085620_10131\\t395\\t495\\tChihuahua\\t49\\t9\\t393\\t493 |9       |\n",
      "+----------------------------------------------------------------+--------+\n",
      "only showing top 2 rows\n",
      "\n"
     ]
    }
   ],
   "source": [
    "split_df.show(2,truncate=False)\n",
    "split_df.printSchema()\n",
    "annotations_df.show(2,truncate=False)"
   ]
  },
  {
   "cell_type": "code",
   "execution_count": 38,
   "metadata": {},
   "outputs": [
    {
     "name": "stdout",
     "output_type": "stream",
     "text": [
      "root\n",
      " |-- folder: integer (nullable = true)\n",
      "\n"
     ]
    }
   ],
   "source": [
    "# Rename the column in valid_folders_df\n",
    "valid_folders_df = annotations_df.withColumn('_c0', F.split(annotations_df['_c0'], '\\t')[0])\n",
    "valid_folders_df = valid_folders_df.withColumnRenamed('_c0', 'folder')\n",
    "valid_folders_df = valid_folders_df.drop('colcount')\n",
    "valid_folders_df = valid_folders_df.withColumn('folder',valid_folders_df.folder.cast('int'))\n",
    "split_df = split_df.withColumn('folder',split_df.folder.cast('int'))\n",
    "valid_folders_df.printSchema()  "
   ]
  },
  {
   "cell_type": "code",
   "execution_count": 39,
   "metadata": {},
   "outputs": [
    {
     "name": "stdout",
     "output_type": "stream",
     "text": [
      "Before: 20580\n",
      "After: 19956\n",
      "Before: 20580\n",
      "After: 19956\n"
     ]
    }
   ],
   "source": [
    "# Count the number of rows in split_df\n",
    "split_count = split_df.count()\n",
    "\n",
    "# Join the DataFrames\n",
    "joined_df = split_df.join(F.broadcast(valid_folders_df), \"folder\")\n",
    "\n",
    "# Compare the number of rows remaining\n",
    "joined_df = joined_df.dropDuplicates()\n",
    "joined_count = joined_df.count()    \n",
    "\n",
    "print(\"Before: %d\\nAfter: %d\" % (split_count, joined_count))\n",
    "joined_df = joined_df.dropna(subset=['dog_list'])\n",
    "joined_count = joined_df.count()    \n",
    "print(\"Before: %d\\nAfter: %d\" % (split_count, joined_count))"
   ]
  },
  {
   "cell_type": "code",
   "execution_count": 40,
   "metadata": {},
   "outputs": [
    {
     "name": "stdout",
     "output_type": "stream",
     "text": [
      "+-------+---------------+-----+------+------------------------------------+\n",
      "|folder |filename       |width|height|dog_list                            |\n",
      "+-------+---------------+-----+------+------------------------------------+\n",
      "|2085782|n02085782_82   |480  |427   |[Japanese_spaniel, 44, 25, 460, 386]|\n",
      "|2085936|n02085936_22127|500  |500   |[Maltese_dog, 6, 31, 423, 498]      |\n",
      "+-------+---------------+-----+------+------------------------------------+\n",
      "only showing top 2 rows\n",
      "\n"
     ]
    }
   ],
   "source": [
    "joined_df.show(2,truncate=False)"
   ]
  },
  {
   "cell_type": "code",
   "execution_count": 41,
   "metadata": {},
   "outputs": [
    {
     "name": "stdout",
     "output_type": "stream",
     "text": [
      " split_df:\t20580\n",
      " joined_df:\t19956\n",
      " invalid_df: \t624\n",
      "1 distinct invalid folders found\n"
     ]
    }
   ],
   "source": [
    "# Determine the row counts for each DataFrame\n",
    "split_count = split_df.count()\n",
    "joined_count = joined_df.count()\n",
    "\n",
    "# Create a DataFrame containing the invalid rows\n",
    "invalid_df = split_df.join(F.broadcast(joined_df), 'folder', 'left_anti')\n",
    "\n",
    "# Validate the count of the new DataFrame is as expected\n",
    "invalid_count = invalid_df.count()\n",
    "print(\" split_df:\\t%d\\n joined_df:\\t%d\\n invalid_df: \\t%d\" % (split_count, joined_count, invalid_count))\n",
    "\n",
    "# Determine the number of distinct folder columns removed\n",
    "invalid_folder_count = invalid_df.select('folder').distinct().count()\n",
    "print(\"%d distinct invalid folders found\" % invalid_folder_count)"
   ]
  },
  {
   "cell_type": "code",
   "execution_count": 42,
   "metadata": {},
   "outputs": [],
   "source": [
    "# joined_df = annotations_df\n",
    "# joined_df.select('dog_list').show(10, truncate=False)"
   ]
  },
  {
   "cell_type": "code",
   "execution_count": 43,
   "metadata": {},
   "outputs": [
    {
     "data": {
      "text/plain": [
       "[('folder', 'int'),\n",
       " ('filename', 'string'),\n",
       " ('width', 'string'),\n",
       " ('height', 'string'),\n",
       " ('dog_list', 'array<string>')]"
      ]
     },
     "execution_count": 43,
     "metadata": {},
     "output_type": "execute_result"
    }
   ],
   "source": [
    "joined_df.dtypes"
   ]
  },
  {
   "cell_type": "code",
   "execution_count": 44,
   "metadata": {},
   "outputs": [
    {
     "name": "stdout",
     "output_type": "stream",
     "text": [
      "+------------------------------------+\n",
      "|dog_list                            |\n",
      "+------------------------------------+\n",
      "|[Japanese_spaniel, 44, 25, 460, 386]|\n",
      "|[Maltese_dog, 6, 31, 423, 498]      |\n",
      "|[Maltese_dog, 103, 51, 267, 427]    |\n",
      "|[Maltese_dog, 129, 96, 389, 348]    |\n",
      "|[Maltese_dog, 14, 28, 396, 332]     |\n",
      "|[Maltese_dog, 180, 13, 471, 357]    |\n",
      "|[basset, 16, 24, 350, 318]          |\n",
      "|[beagle, 86, 0, 498, 319]           |\n",
      "|[beagle, 110, 47, 369, 470]         |\n",
      "|[bloodhound, 35, 55, 260, 227]      |\n",
      "+------------------------------------+\n",
      "only showing top 10 rows\n",
      "\n",
      "None\n"
     ]
    }
   ],
   "source": [
    "# Select the dog details and show 10 untruncated rows\n",
    "print(joined_df.select('dog_list').show(10, truncate=False))\n",
    "\n",
    "# Define a schema type for the details in the dog list\n",
    "DogType = StructType([\n",
    "\tStructField(\"breed\", StringType(), False),\n",
    "    StructField(\"start_x\", IntegerType(), False),\n",
    "    StructField(\"start_y\", IntegerType(), False),\n",
    "    StructField(\"end_x\", IntegerType(), False),\n",
    "    StructField(\"end_y\", IntegerType(), False)\n",
    "])"
   ]
  },
  {
   "cell_type": "code",
   "execution_count": 45,
   "metadata": {},
   "outputs": [
    {
     "name": "stdout",
     "output_type": "stream",
     "text": [
      "+-------+--------------+-----+------+-----------------------------------------------------------+\n",
      "|folder |filename      |width|height|dog_list                                                   |\n",
      "+-------+--------------+-----+------+-----------------------------------------------------------+\n",
      "|2086240|n02086240_7195|500  |375   |[Shih-Tzu, 90, 238, 237, 369, Shih-Tzu, 218, 219, 331, 357]|\n",
      "+-------+--------------+-----+------+-----------------------------------------------------------+\n",
      "\n"
     ]
    }
   ],
   "source": [
    "joined_df.where(joined_df.filename =='n02086240_7195').show(10, truncate=False)"
   ]
  },
  {
   "cell_type": "code",
   "execution_count": 46,
   "metadata": {},
   "outputs": [
    {
     "data": {
      "text/plain": [
       "[('Shih-Tzu', 90, 238, 237, 369), ('Shih-Tzu', 90, 238, 237, 369)]"
      ]
     },
     "execution_count": 46,
     "metadata": {},
     "output_type": "execute_result"
    }
   ],
   "source": [
    "# Create a function to return the number and type of dogs as a tuple\n",
    "def dogParse(doglist):\n",
    "    dogs= []\n",
    "    for _ in range(len(doglist)//5):\n",
    "        (breed, start_x, start_y, end_x, end_y) = doglist[_*5:_*5+5]\n",
    "        dogs.append((breed, int(start_x), int(start_y), int(end_x), int(end_y)))\n",
    "    return dogs\n",
    "dogParse(['Shih-Tzu', '90', '238', '237', '369','Shih-Tzu', '90', '238', '237', '369'])"
   ]
  },
  {
   "cell_type": "code",
   "execution_count": 47,
   "metadata": {},
   "outputs": [],
   "source": [
    "# Create a function to return the number and type of dogs as a tuple\n",
    "def dogParse(doglist):\n",
    "  dogs = []\n",
    "  for _ in range(len(doglist)//5):\n",
    "    (breed, start_x, start_y, end_x, end_y) = doglist[_*5:_*5+5]\n",
    "    dogs.append((breed, int(start_x), int(start_y), int(end_x), int(end_y)))\n",
    "  return dogs\n",
    "\n",
    "# Create a UDF\n",
    "udfDogParse = F.udf(dogParse, ArrayType(DogType))\n",
    "\n",
    "# Use the UDF to list of dogs and drop the old column\n",
    "joined_df = joined_df\\\n",
    "    .withColumn('dog_list', udfDogParse('dog_list'))\\\n",
    "    \n"
   ]
  },
  {
   "cell_type": "code",
   "execution_count": 48,
   "metadata": {},
   "outputs": [
    {
     "name": "stdout",
     "output_type": "stream",
     "text": [
      "+-------+---------------+-----+------+--------------------+\n",
      "| folder|       filename|width|height|            dog_list|\n",
      "+-------+---------------+-----+------+--------------------+\n",
      "|2085782|   n02085782_82|  480|   427|[{Japanese_spanie...|\n",
      "|2085936|n02085936_22127|  500|   500|[{Maltese_dog, 6,...|\n",
      "|2085936| n02085936_3348|  375|   500|[{Maltese_dog, 10...|\n",
      "+-------+---------------+-----+------+--------------------+\n",
      "only showing top 3 rows\n",
      "\n"
     ]
    }
   ],
   "source": [
    "joined_df.show(3)"
   ]
  },
  {
   "cell_type": "code",
   "execution_count": 49,
   "metadata": {},
   "outputs": [
    {
     "name": "stdout",
     "output_type": "stream",
     "text": [
      "+--------------+\n",
      "|size(dog_list)|\n",
      "+--------------+\n",
      "|             6|\n",
      "|             5|\n",
      "|             5|\n",
      "|             4|\n",
      "|             4|\n",
      "|             4|\n",
      "|             4|\n",
      "|             4|\n",
      "|             4|\n",
      "|             4|\n",
      "+--------------+\n",
      "only showing top 10 rows\n",
      "\n"
     ]
    }
   ],
   "source": [
    "\n",
    "# Show the number of dogs in the first 10 rows\n",
    "joined_df.select(F.size('dog_list')).orderBy(F.size('dog_list').desc()).show(10)"
   ]
  },
  {
   "cell_type": "code",
   "execution_count": 52,
   "metadata": {},
   "outputs": [
    {
     "name": "stdout",
     "output_type": "stream",
     "text": [
      "+-------+---------------+-----+------+----------------------------------------+----------+-----------------+\n",
      "|folder |filename       |width|height|dog_list                                |dog_pixels|dog_percent      |\n",
      "+-------+---------------+-----+------+----------------------------------------+----------+-----------------+\n",
      "|2085782|n02085782_82   |480  |427   |[{Japanese_spaniel, 44, 25, 460, 386}]  |150176    |73.27088212334114|\n",
      "|2085936|n02085936_22127|500  |500   |[{Maltese_dog, 6, 31, 423, 498}]        |194739    |77.8956          |\n",
      "|2085936|n02085936_807  |500  |333   |[{Maltese_dog, 14, 28, 396, 332}]       |116128    |69.74654654654655|\n",
      "|2088364|n02088364_14892|500  |375   |[{beagle, 86, 0, 498, 319}]             |131428    |70.09493333333333|\n",
      "|2090622|n02090622_3156 |337  |500   |[{borzoi, 0, 106, 334, 497}]            |130594    |77.50385756676557|\n",
      "|2091467|n02091467_3589 |300  |245   |[{Norwegian_elkhound, 37, 0, 293, 238}] |60928     |82.8952380952381 |\n",
      "|2092002|n02092002_10693|391  |500   |[{Scottish_deerhound, 20, 6, 389, 498}] |181548    |92.86342710997442|\n",
      "|2093647|n02093647_271  |225  |200   |[{Bedlington_terrier, 8, 4, 221, 196}]  |40896     |90.88000000000001|\n",
      "|2093859|n02093859_1194 |432  |324   |[{Kerry_blue_terrier, 35, 9, 364, 293}] |93436     |66.75525834476453|\n",
      "|2093859|n02093859_806  |500  |352   |[{Kerry_blue_terrier, 32, 16, 473, 351}]|147735    |83.9403409090909 |\n",
      "+-------+---------------+-----+------+----------------------------------------+----------+-----------------+\n",
      "only showing top 10 rows\n",
      "\n"
     ]
    }
   ],
   "source": [
    "# Define a UDF to determine the number of pixels per image\n",
    "def dogPixelCount(doglist):\n",
    "  totalpixels = 0\n",
    "  for dog in doglist:\n",
    "    totalpixels += (dog[3] - dog[1]) * (dog[4] - dog[2])\n",
    "  return totalpixels\n",
    "\n",
    "# Define a UDF for the pixel count\n",
    "udfDogPixelCount = F.udf(dogPixelCount, IntegerType())\n",
    "joined_df = joined_df.withColumn('dog_pixels', udfDogPixelCount('dog_list'))\n",
    "\n",
    "# Create a column representing the percentage of pixels\n",
    "joined_df = joined_df\\\n",
    "    .withColumn(\n",
    "        'dog_percent',\n",
    "        (joined_df.dog_pixels / (joined_df.width * joined_df.height)) * 100\n",
    "    )\n",
    "\n",
    "# Show the first 10 annotations with more than 60% dog\n",
    "joined_df.where('dog_percent > 60').show(10, False)"
   ]
  },
  {
   "cell_type": "code",
   "execution_count": 53,
   "metadata": {},
   "outputs": [
    {
     "name": "stdout",
     "output_type": "stream",
     "text": [
      "+-------+--------------+-----+------+---------------------------------------------------------------+----------+-----------+\n",
      "|folder |filename      |width|height|dog_list                                                       |dog_pixels|dog_percent|\n",
      "+-------+--------------+-----+------+---------------------------------------------------------------+----------+-----------+\n",
      "|2086240|n02086240_7195|500  |375   |[{Shih-Tzu, 90, 238, 237, 369}, {Shih-Tzu, 218, 219, 331, 357}]|34851     |18.5872    |\n",
      "+-------+--------------+-----+------+---------------------------------------------------------------+----------+-----------+\n",
      "\n"
     ]
    }
   ],
   "source": [
    "joined_df.where(joined_df.filename =='n02086240_7195').show(10, truncate=False)"
   ]
  },
  {
   "cell_type": "code",
   "execution_count": 51,
   "metadata": {},
   "outputs": [
    {
     "name": "stdout",
     "output_type": "stream",
     "text": [
      "root\n",
      " |-- folder: integer (nullable = true)\n",
      " |-- filename: string (nullable = true)\n",
      " |-- width: string (nullable = true)\n",
      " |-- height: string (nullable = true)\n",
      " |-- dog_list: array (nullable = true)\n",
      " |    |-- element: struct (containsNull = true)\n",
      " |    |    |-- breed: string (nullable = false)\n",
      " |    |    |-- start_x: integer (nullable = false)\n",
      " |    |    |-- start_y: integer (nullable = false)\n",
      " |    |    |-- end_x: integer (nullable = false)\n",
      " |    |    |-- end_y: integer (nullable = false)\n",
      " |-- dog_pixels: integer (nullable = true)\n",
      " |-- dog_percent: double (nullable = true)\n",
      "\n"
     ]
    }
   ],
   "source": [
    "joined_df.printSchema()"
   ]
  }
 ],
 "metadata": {
  "kernelspec": {
   "display_name": "Python 3 (ipykernel)",
   "language": "python",
   "name": "python3"
  },
  "language_info": {
   "codemirror_mode": {
    "name": "ipython",
    "version": 3
   },
   "file_extension": ".py",
   "mimetype": "text/x-python",
   "name": "python",
   "nbconvert_exporter": "python",
   "pygments_lexer": "ipython3",
   "version": "3.11.6"
  }
 },
 "nbformat": 4,
 "nbformat_minor": 2
}
