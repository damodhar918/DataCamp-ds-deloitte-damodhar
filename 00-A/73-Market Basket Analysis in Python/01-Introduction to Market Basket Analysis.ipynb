{
 "cells": [
  {
   "cell_type": "code",
   "execution_count": 2,
   "metadata": {},
   "outputs": [
    {
     "data": {
      "text/html": [
       "<div>\n",
       "<style scoped>\n",
       "    .dataframe tbody tr th:only-of-type {\n",
       "        vertical-align: middle;\n",
       "    }\n",
       "\n",
       "    .dataframe tbody tr th {\n",
       "        vertical-align: top;\n",
       "    }\n",
       "\n",
       "    .dataframe thead th {\n",
       "        text-align: right;\n",
       "    }\n",
       "</style>\n",
       "<table border=\"1\" class=\"dataframe\">\n",
       "  <thead>\n",
       "    <tr style=\"text-align: right;\">\n",
       "      <th></th>\n",
       "      <th>Transaction</th>\n",
       "    </tr>\n",
       "  </thead>\n",
       "  <tbody>\n",
       "    <tr>\n",
       "      <th>0</th>\n",
       "      <td>milk,bread,biscuit</td>\n",
       "    </tr>\n",
       "    <tr>\n",
       "      <th>1</th>\n",
       "      <td>bread,milk,biscuit,cereal</td>\n",
       "    </tr>\n",
       "    <tr>\n",
       "      <th>2</th>\n",
       "      <td>bread,tea</td>\n",
       "    </tr>\n",
       "    <tr>\n",
       "      <th>3</th>\n",
       "      <td>jam,bread,milk</td>\n",
       "    </tr>\n",
       "    <tr>\n",
       "      <th>4</th>\n",
       "      <td>tea,biscuit</td>\n",
       "    </tr>\n",
       "  </tbody>\n",
       "</table>\n",
       "</div>"
      ],
      "text/plain": [
       "                 Transaction\n",
       "0         milk,bread,biscuit\n",
       "1  bread,milk,biscuit,cereal\n",
       "2                  bread,tea\n",
       "3             jam,bread,milk\n",
       "4                tea,biscuit"
      ]
     },
     "execution_count": 2,
     "metadata": {},
     "output_type": "execute_result"
    }
   ],
   "source": [
    "# Import pandas under the alias pd\n",
    "import pandas as pd\n",
    "groceries_path = 'https://assets.datacamp.com/production/repositories/5654/datasets/5992818fd324b0de7d48311ee43fa038f7614ee5/small_grocery_store.csv'\n",
    "\n",
    "# Load transactions from pandas\n",
    "groceries = pd.read_csv(groceries_path)\n",
    "groceries.head()"
   ]
  },
  {
   "cell_type": "code",
   "execution_count": 3,
   "metadata": {},
   "outputs": [
    {
     "data": {
      "text/plain": [
       "[['milk', 'bread', 'biscuit'],\n",
       " ['bread', 'milk', 'biscuit', 'cereal'],\n",
       " ['bread', 'tea'],\n",
       " ['jam', 'bread', 'milk'],\n",
       " ['tea', 'biscuit'],\n",
       " ['bread', 'tea'],\n",
       " ['tea', 'cereal'],\n",
       " ['bread', 'tea', 'biscuit'],\n",
       " ['jam', 'bread', 'tea'],\n",
       " ['bread', 'milk'],\n",
       " ['coffee', 'orange', 'biscuit', 'cereal'],\n",
       " ['coffee', 'orange', 'biscuit', 'cereal'],\n",
       " ['coffee', 'sugar'],\n",
       " ['bread', 'coffee', 'orange'],\n",
       " ['bread', 'sugar', 'biscuit'],\n",
       " ['coffee', 'sugar', 'cereal'],\n",
       " ['bread', 'sugar', 'biscuit'],\n",
       " ['bread', 'coffee', 'sugar'],\n",
       " ['bread', 'coffee', 'sugar'],\n",
       " ['tea', 'milk', 'coffee', 'cereal']]"
      ]
     },
     "execution_count": 3,
     "metadata": {},
     "output_type": "execute_result"
    }
   ],
   "source": [
    "# Split transaction strings into lists\n",
    "transactions = groceries['Transaction'].apply(lambda t: t.split(','))\n",
    "\n",
    "# Convert DataFrame column into list of strings\n",
    "transactions = list(transactions)\n",
    "\n",
    "# Print the list of transactions\n",
    "(transactions)"
   ]
  },
  {
   "cell_type": "code",
   "execution_count": 4,
   "metadata": {},
   "outputs": [
    {
     "name": "stdout",
     "output_type": "stream",
     "text": [
      "[('milk', 'coffee'), ('milk', 'cereal'), ('milk', 'sugar'), ('milk', 'tea'), ('milk', 'biscuit'), ('milk', 'bread'), ('milk', 'orange'), ('milk', 'jam'), ('coffee', 'milk'), ('coffee', 'cereal'), ('coffee', 'sugar'), ('coffee', 'tea'), ('coffee', 'biscuit'), ('coffee', 'bread'), ('coffee', 'orange'), ('coffee', 'jam'), ('cereal', 'milk'), ('cereal', 'coffee'), ('cereal', 'sugar'), ('cereal', 'tea'), ('cereal', 'biscuit'), ('cereal', 'bread'), ('cereal', 'orange'), ('cereal', 'jam'), ('sugar', 'milk'), ('sugar', 'coffee'), ('sugar', 'cereal'), ('sugar', 'tea'), ('sugar', 'biscuit'), ('sugar', 'bread'), ('sugar', 'orange'), ('sugar', 'jam'), ('tea', 'milk'), ('tea', 'coffee'), ('tea', 'cereal'), ('tea', 'sugar'), ('tea', 'biscuit'), ('tea', 'bread'), ('tea', 'orange'), ('tea', 'jam'), ('biscuit', 'milk'), ('biscuit', 'coffee'), ('biscuit', 'cereal'), ('biscuit', 'sugar'), ('biscuit', 'tea'), ('biscuit', 'bread'), ('biscuit', 'orange'), ('biscuit', 'jam'), ('bread', 'milk'), ('bread', 'coffee'), ('bread', 'cereal'), ('bread', 'sugar'), ('bread', 'tea'), ('bread', 'biscuit'), ('bread', 'orange'), ('bread', 'jam'), ('orange', 'milk'), ('orange', 'coffee'), ('orange', 'cereal'), ('orange', 'sugar'), ('orange', 'tea'), ('orange', 'biscuit'), ('orange', 'bread'), ('orange', 'jam'), ('jam', 'milk'), ('jam', 'coffee'), ('jam', 'cereal'), ('jam', 'sugar'), ('jam', 'tea'), ('jam', 'biscuit'), ('jam', 'bread'), ('jam', 'orange')]\n",
      "72\n"
     ]
    }
   ],
   "source": [
    "# Import permutations from the itertools module\n",
    "from itertools import permutations\n",
    "\n",
    "# Define the set of groceries\n",
    "flattened = [i for t in transactions for i in t]\n",
    "groceries = list(set(flattened))\n",
    "\n",
    "# Generate all possible rules from groceries list\n",
    "rules = list(permutations(groceries, 2))\n",
    "\n",
    "# Print the set of rules\n",
    "print(rules)\n",
    "\n",
    "# Print the number of rules\n",
    "print(len(rules))"
   ]
  },
  {
   "cell_type": "code",
   "execution_count": 5,
   "metadata": {},
   "outputs": [],
   "source": [
    "# !pip install mlxtend"
   ]
  },
  {
   "cell_type": "code",
   "execution_count": 6,
   "metadata": {},
   "outputs": [
    {
     "name": "stdout",
     "output_type": "stream",
     "text": [
      "    biscuit  bread  cereal  coffee    jam   milk  orange  sugar    tea\n",
      "0      True   True   False   False  False   True   False  False  False\n",
      "1      True   True    True   False  False   True   False  False  False\n",
      "2     False   True   False   False  False  False   False  False   True\n",
      "3     False   True   False   False   True   True   False  False  False\n",
      "4      True  False   False   False  False  False   False  False   True\n",
      "5     False   True   False   False  False  False   False  False   True\n",
      "6     False  False    True   False  False  False   False  False   True\n",
      "7      True   True   False   False  False  False   False  False   True\n",
      "8     False   True   False   False   True  False   False  False   True\n",
      "9     False   True   False   False  False   True   False  False  False\n",
      "10     True  False    True    True  False  False    True  False  False\n",
      "11     True  False    True    True  False  False    True  False  False\n",
      "12    False  False   False    True  False  False   False   True  False\n",
      "13    False   True   False    True  False  False    True  False  False\n",
      "14     True   True   False   False  False  False   False   True  False\n",
      "15    False  False    True    True  False  False   False   True  False\n",
      "16     True   True   False   False  False  False   False   True  False\n",
      "17    False   True   False    True  False  False   False   True  False\n",
      "18    False   True   False    True  False  False   False   True  False\n",
      "19    False  False    True    True  False   True   False  False   True\n"
     ]
    }
   ],
   "source": [
    "# Import the transaction encoder function from mlxtend\n",
    "from mlxtend.preprocessing import TransactionEncoder\n",
    "import pandas as pd\n",
    "\n",
    "# Instantiate transaction encoder and identify unique items in transactions\n",
    "encoder = TransactionEncoder().fit(transactions)\n",
    "\n",
    "# One-hot encode transactions\n",
    "onehot = encoder.transform(transactions)\n",
    "\n",
    "# Convert one-hot encoded data to DataFrame\n",
    "onehot = pd.DataFrame(onehot, columns = encoder.columns_)\n",
    "\n",
    "# Print the one-hot encoded transaction dataset\n",
    "print(onehot)"
   ]
  },
  {
   "cell_type": "code",
   "execution_count": 7,
   "metadata": {},
   "outputs": [
    {
     "name": "stdout",
     "output_type": "stream",
     "text": [
      "biscuit    0.40\n",
      "bread      0.65\n",
      "cereal     0.30\n",
      "coffee     0.40\n",
      "jam        0.10\n",
      "milk       0.25\n",
      "orange     0.15\n",
      "sugar      0.30\n",
      "tea        0.35\n",
      "dtype: float64\n"
     ]
    }
   ],
   "source": [
    "# Compute the support\n",
    "support = onehot.mean()\n",
    "\n",
    "# Print the support\n",
    "print(support)"
   ]
  },
  {
   "cell_type": "code",
   "execution_count": 8,
   "metadata": {},
   "outputs": [
    {
     "name": "stdout",
     "output_type": "stream",
     "text": [
      "biscuit      0.40\n",
      "bread        0.65\n",
      "cereal       0.30\n",
      "coffee       0.40\n",
      "jam          0.10\n",
      "milk         0.25\n",
      "orange       0.15\n",
      "sugar        0.30\n",
      "tea          0.35\n",
      "jam+bread    0.10\n",
      "dtype: float64\n"
     ]
    }
   ],
   "source": [
    "import numpy as np\n",
    "\n",
    "# Add a jam+bread column to the DataFrame onehot\n",
    "onehot['jam+bread'] = np.logical_and(onehot['jam'], onehot['bread'])\n",
    "\n",
    "# Compute the support\n",
    "support = onehot.mean()\n",
    "\n",
    "# Print the support values\n",
    "print(support)"
   ]
  },
  {
   "cell_type": "code",
   "execution_count": null,
   "metadata": {},
   "outputs": [],
   "source": []
  }
 ],
 "metadata": {
  "kernelspec": {
   "display_name": "Python 3",
   "language": "python",
   "name": "python3"
  },
  "language_info": {
   "codemirror_mode": {
    "name": "ipython",
    "version": 3
   },
   "file_extension": ".py",
   "mimetype": "text/x-python",
   "name": "python",
   "nbconvert_exporter": "python",
   "pygments_lexer": "ipython3",
   "version": "3.11.6"
  }
 },
 "nbformat": 4,
 "nbformat_minor": 2
}
