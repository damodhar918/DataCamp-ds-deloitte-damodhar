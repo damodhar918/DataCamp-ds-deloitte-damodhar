{
 "cells": [
  {
   "cell_type": "code",
   "execution_count": 1,
   "metadata": {},
   "outputs": [],
   "source": [
    "import pandas as pd\n",
    "import numpy as np\n",
    "import matplotlib.pyplot as plt\n",
    "import seaborn as sns\n",
    "\n"
   ]
  },
  {
   "cell_type": "code",
   "execution_count": 2,
   "metadata": {},
   "outputs": [],
   "source": [
    "from statsmodels.formula.api import ols\n",
    "\n",
    "ad_conversion = pd.read_csv('ad_conversion.csv')\n",
    "# Create qdrt_n_impressions and qdrt_n_clicks\n",
    "ad_conversion[\"qdrt_n_impressions\"] = np.power(ad_conversion[\"n_impressions\"], 0.25) \n",
    "ad_conversion[\"qdrt_n_clicks\"] = np.power(ad_conversion[\"n_clicks\"], 0.25)"
   ]
  },
  {
   "cell_type": "code",
   "execution_count": 3,
   "metadata": {},
   "outputs": [],
   "source": [
    "mdl_click_vs_impression_orig = mdl_click_vs_impression =ols(\"n_clicks ~ n_impressions\", data=ad_conversion).fit()\n",
    "\n",
    "mdl_click_vs_impression_trans= mdl_click_vs_impression =  ols(\"qdrt_n_clicks ~ qdrt_n_impressions\", data=ad_conversion).fit()"
   ]
  },
  {
   "cell_type": "code",
   "execution_count": 4,
   "metadata": {},
   "outputs": [
    {
     "name": "stdout",
     "output_type": "stream",
     "text": [
      "                            OLS Regression Results                            \n",
      "==============================================================================\n",
      "Dep. Variable:               n_clicks   R-squared:                       0.892\n",
      "Model:                            OLS   Adj. R-squared:                  0.891\n",
      "Method:                 Least Squares   F-statistic:                     7683.\n",
      "Date:                Mon, 20 Nov 2023   Prob (F-statistic):               0.00\n",
      "Time:                        20:27:46   Log-Likelihood:                -4126.7\n",
      "No. Observations:                 936   AIC:                             8257.\n",
      "Df Residuals:                     934   BIC:                             8267.\n",
      "Df Model:                           1                                         \n",
      "Covariance Type:            nonrobust                                         \n",
      "=================================================================================\n",
      "                    coef    std err          t      P>|t|      [0.025      0.975]\n",
      "---------------------------------------------------------------------------------\n",
      "Intercept         1.6829      0.789      2.133      0.033       0.135       3.231\n",
      "n_impressions     0.0002   1.96e-06     87.654      0.000       0.000       0.000\n",
      "==============================================================================\n",
      "Omnibus:                      247.038   Durbin-Watson:                   0.870\n",
      "Prob(Omnibus):                  0.000   Jarque-Bera (JB):            13215.277\n",
      "Skew:                          -0.258   Prob(JB):                         0.00\n",
      "Kurtosis:                      21.401   Cond. No.                     4.88e+05\n",
      "==============================================================================\n",
      "\n",
      "Notes:\n",
      "[1] Standard Errors assume that the covariance matrix of the errors is correctly specified.\n",
      "[2] The condition number is large, 4.88e+05. This might indicate that there are\n",
      "strong multicollinearity or other numerical problems.\n"
     ]
    }
   ],
   "source": [
    "# Print a summary of mdl_click_vs_impression_orig\n",
    "print(mdl_click_vs_impression_orig.summary())\n"
   ]
  },
  {
   "cell_type": "code",
   "execution_count": 5,
   "metadata": {},
   "outputs": [
    {
     "name": "stdout",
     "output_type": "stream",
     "text": [
      "                            OLS Regression Results                            \n",
      "==============================================================================\n",
      "Dep. Variable:          qdrt_n_clicks   R-squared:                       0.945\n",
      "Model:                            OLS   Adj. R-squared:                  0.944\n",
      "Method:                 Least Squares   F-statistic:                 1.590e+04\n",
      "Date:                Mon, 20 Nov 2023   Prob (F-statistic):               0.00\n",
      "Time:                        20:27:46   Log-Likelihood:                 193.90\n",
      "No. Observations:                 936   AIC:                            -383.8\n",
      "Df Residuals:                     934   BIC:                            -374.1\n",
      "Df Model:                           1                                         \n",
      "Covariance Type:            nonrobust                                         \n",
      "======================================================================================\n",
      "                         coef    std err          t      P>|t|      [0.025      0.975]\n",
      "--------------------------------------------------------------------------------------\n",
      "Intercept              0.0717      0.017      4.171      0.000       0.038       0.106\n",
      "qdrt_n_impressions     0.1115      0.001    126.108      0.000       0.110       0.113\n",
      "==============================================================================\n",
      "Omnibus:                       11.447   Durbin-Watson:                   0.568\n",
      "Prob(Omnibus):                  0.003   Jarque-Bera (JB):               10.637\n",
      "Skew:                          -0.216   Prob(JB):                      0.00490\n",
      "Kurtosis:                       2.707   Cond. No.                         52.1\n",
      "==============================================================================\n",
      "\n",
      "Notes:\n",
      "[1] Standard Errors assume that the covariance matrix of the errors is correctly specified.\n"
     ]
    }
   ],
   "source": [
    "\n",
    "# Print a summary of mdl_click_vs_impression_trans\n",
    "print(mdl_click_vs_impression_trans.summary())"
   ]
  },
  {
   "cell_type": "code",
   "execution_count": 6,
   "metadata": {},
   "outputs": [
    {
     "name": "stdout",
     "output_type": "stream",
     "text": [
      "0.8916134973508041\n",
      "0.9445272817143905\n"
     ]
    }
   ],
   "source": [
    "# Print the coeff of determination for mdl_click_vs_impression_orig\n",
    "print(mdl_click_vs_impression_orig.rsquared)\n",
    "\n",
    "# Print the coeff of determination for mdl_click_vs_impression_trans\n",
    "print(mdl_click_vs_impression_trans.rsquared)"
   ]
  },
  {
   "cell_type": "code",
   "execution_count": 7,
   "metadata": {},
   "outputs": [
    {
     "name": "stdout",
     "output_type": "stream",
     "text": [
      "RSE of original model:  19.905838862478134\n",
      "RSE of transformed model:  0.19690640896875722\n"
     ]
    }
   ],
   "source": [
    "# Calculate mse_orig for mdl_click_vs_impression_orig\n",
    "mse_orig = mdl_click_vs_impression_orig.mse_resid\n",
    "\n",
    "# Calculate rse_orig for mdl_click_vs_impression_orig and print it\n",
    "rse_orig = np.sqrt(mse_orig)\n",
    "print(\"RSE of original model: \", rse_orig)\n",
    "\n",
    "# Calculate mse_trans for mdl_click_vs_impression_trans\n",
    "mse_trans = mdl_click_vs_impression_trans.mse_resid\n",
    "\n",
    "# Calculate rse_trans for mdl_click_vs_impression_trans and print it\n",
    "rse_trans = np.sqrt(mse_trans)\n",
    "print(\"RSE of transformed model: \", rse_trans)"
   ]
  },
  {
   "cell_type": "code",
   "execution_count": 8,
   "metadata": {},
   "outputs": [],
   "source": [
    "taiwan_real_estate = pd.read_csv('taiwan_real_estate2.csv')"
   ]
  },
  {
   "cell_type": "code",
   "execution_count": 9,
   "metadata": {},
   "outputs": [
    {
     "data": {
      "image/png": "[encoded data removed]",
      "text/plain": [
       "<Figure size 640x480 with 1 Axes>"
      ]
     },
     "metadata": {},
     "output_type": "display_data"
    }
   ],
   "source": [
    "# Plot the residuals vs. fitted values\n",
    "sns.residplot(x=\"n_convenience\", y=\"price_twd_msq\", data=taiwan_real_estate, lowess = True)\n",
    "plt.xlabel(\"Fitted values\")\n",
    "plt.ylabel(\"Residuals\")\n",
    "\n",
    "# Show the plot\n",
    "plt.show()"
   ]
  },
  {
   "cell_type": "code",
   "execution_count": 10,
   "metadata": {},
   "outputs": [
    {
     "data": {
      "image/png": "[encoded data removed]",
      "text/plain": [
       "<Figure size 640x480 with 1 Axes>"
      ]
     },
     "metadata": {},
     "output_type": "display_data"
    }
   ],
   "source": [
    "# Import qqplot\n",
    "from statsmodels.api import qqplot\n",
    "from statsmodels.formula.api import ols\n",
    "\n",
    "# Create the model object\n",
    "mdl_price_vs_conv = ols(\"price_twd_msq ~ n_convenience\", data=taiwan_real_estate)\n",
    "\n",
    "# Fit the model\n",
    "mdl_price_vs_conv = mdl_price_vs_conv.fit()\n",
    "\n",
    "\n",
    "# Create the Q-Q plot of the residuals\n",
    "qqplot(data=mdl_price_vs_conv.resid, fit=True, line=\"45\")\n",
    "\n",
    "# Show the plot\n",
    "plt.show()"
   ]
  },
  {
   "cell_type": "code",
   "execution_count": 12,
   "metadata": {},
   "outputs": [
    {
     "data": {
      "image/png": "[encoded data removed]",
      "text/plain": [
       "<Figure size 640x480 with 1 Axes>"
      ]
     },
     "metadata": {},
     "output_type": "display_data"
    }
   ],
   "source": [
    "# Create the model object\n",
    "mdl_price_vs_dist = ols(\"price_twd_msq ~ dist_to_mrt_m\", data=taiwan_real_estate)\n",
    "\n",
    "# Fit the model\n",
    "mdl_price_vs_dist = mdl_price_vs_dist.fit()\n",
    "\n",
    "\n",
    "# Create the Q-Q plot of the residuals\n",
    "qqplot(data=mdl_price_vs_dist.resid, fit=True, line=\"45\")\n",
    "\n",
    "# Show the plot\n",
    "plt.show()"
   ]
  },
  {
   "cell_type": "code",
   "execution_count": 14,
   "metadata": {},
   "outputs": [
    {
     "data": {
      "text/html": [
       "<div>\n",
       "<style scoped>\n",
       "    .dataframe tbody tr th:only-of-type {\n",
       "        vertical-align: middle;\n",
       "    }\n",
       "\n",
       "    .dataframe tbody tr th {\n",
       "        vertical-align: top;\n",
       "    }\n",
       "\n",
       "    .dataframe thead th {\n",
       "        text-align: right;\n",
       "    }\n",
       "</style>\n",
       "<table border=\"1\" class=\"dataframe\">\n",
       "  <thead>\n",
       "    <tr style=\"text-align: right;\">\n",
       "      <th></th>\n",
       "      <th>dfb_Intercept</th>\n",
       "      <th>dfb_dist_to_mrt_m</th>\n",
       "      <th>cooks_d</th>\n",
       "      <th>standard_resid</th>\n",
       "      <th>hat_diag</th>\n",
       "      <th>dffits_internal</th>\n",
       "      <th>student_resid</th>\n",
       "      <th>dffits</th>\n",
       "    </tr>\n",
       "  </thead>\n",
       "  <tbody>\n",
       "    <tr>\n",
       "      <th>0</th>\n",
       "      <td>-0.045802</td>\n",
       "      <td>0.028471</td>\n",
       "      <td>1.051794e-03</td>\n",
       "      <td>-0.729947</td>\n",
       "      <td>0.003932</td>\n",
       "      <td>-0.045865</td>\n",
       "      <td>-0.729532</td>\n",
       "      <td>-0.045839</td>\n",
       "    </tr>\n",
       "    <tr>\n",
       "      <th>1</th>\n",
       "      <td>-0.008087</td>\n",
       "      <td>0.004298</td>\n",
       "      <td>3.360963e-05</td>\n",
       "      <td>-0.141759</td>\n",
       "      <td>0.003334</td>\n",
       "      <td>-0.008199</td>\n",
       "      <td>-0.141590</td>\n",
       "      <td>-0.008189</td>\n",
       "    </tr>\n",
       "    <tr>\n",
       "      <th>2</th>\n",
       "      <td>0.027808</td>\n",
       "      <td>-0.011197</td>\n",
       "      <td>4.291555e-04</td>\n",
       "      <td>0.549988</td>\n",
       "      <td>0.002829</td>\n",
       "      <td>0.029297</td>\n",
       "      <td>0.549522</td>\n",
       "      <td>0.029272</td>\n",
       "    </tr>\n",
       "    <tr>\n",
       "      <th>3</th>\n",
       "      <td>0.065633</td>\n",
       "      <td>-0.026429</td>\n",
       "      <td>2.382744e-03</td>\n",
       "      <td>1.295938</td>\n",
       "      <td>0.002829</td>\n",
       "      <td>0.069033</td>\n",
       "      <td>1.297011</td>\n",
       "      <td>0.069090</td>\n",
       "    </tr>\n",
       "    <tr>\n",
       "      <th>4</th>\n",
       "      <td>0.000464</td>\n",
       "      <td>-0.000228</td>\n",
       "      <td>1.125574e-07</td>\n",
       "      <td>0.008446</td>\n",
       "      <td>0.003146</td>\n",
       "      <td>0.000474</td>\n",
       "      <td>0.008435</td>\n",
       "      <td>0.000474</td>\n",
       "    </tr>\n",
       "    <tr>\n",
       "      <th>...</th>\n",
       "      <td>...</td>\n",
       "      <td>...</td>\n",
       "      <td>...</td>\n",
       "      <td>...</td>\n",
       "      <td>...</td>\n",
       "      <td>...</td>\n",
       "      <td>...</td>\n",
       "      <td>...</td>\n",
       "    </tr>\n",
       "    <tr>\n",
       "      <th>409</th>\n",
       "      <td>0.003171</td>\n",
       "      <td>-0.009518</td>\n",
       "      <td>5.343029e-05</td>\n",
       "      <td>-0.080865</td>\n",
       "      <td>0.016079</td>\n",
       "      <td>-0.010337</td>\n",
       "      <td>-0.080768</td>\n",
       "      <td>-0.010325</td>\n",
       "    </tr>\n",
       "    <tr>\n",
       "      <th>410</th>\n",
       "      <td>0.029927</td>\n",
       "      <td>-0.018541</td>\n",
       "      <td>4.494837e-04</td>\n",
       "      <td>0.478213</td>\n",
       "      <td>0.003916</td>\n",
       "      <td>0.029983</td>\n",
       "      <td>0.477765</td>\n",
       "      <td>0.029955</td>\n",
       "    </tr>\n",
       "    <tr>\n",
       "      <th>411</th>\n",
       "      <td>-0.013174</td>\n",
       "      <td>0.006485</td>\n",
       "      <td>9.083522e-05</td>\n",
       "      <td>-0.239954</td>\n",
       "      <td>0.003145</td>\n",
       "      <td>-0.013479</td>\n",
       "      <td>-0.239680</td>\n",
       "      <td>-0.013463</td>\n",
       "    </tr>\n",
       "    <tr>\n",
       "      <th>412</th>\n",
       "      <td>0.045892</td>\n",
       "      <td>-0.028185</td>\n",
       "      <td>1.056835e-03</td>\n",
       "      <td>0.737356</td>\n",
       "      <td>0.003873</td>\n",
       "      <td>0.045975</td>\n",
       "      <td>0.736947</td>\n",
       "      <td>0.045949</td>\n",
       "    </tr>\n",
       "    <tr>\n",
       "      <th>413</th>\n",
       "      <td>0.116954</td>\n",
       "      <td>-0.072456</td>\n",
       "      <td>6.810508e-03</td>\n",
       "      <td>1.861462</td>\n",
       "      <td>0.003916</td>\n",
       "      <td>0.116709</td>\n",
       "      <td>1.867069</td>\n",
       "      <td>0.117061</td>\n",
       "    </tr>\n",
       "  </tbody>\n",
       "</table>\n",
       "<p>414 rows × 8 columns</p>\n",
       "</div>"
      ],
      "text/plain": [
       "     dfb_Intercept  dfb_dist_to_mrt_m       cooks_d  standard_resid  hat_diag  \\\n",
       "0        -0.045802           0.028471  1.051794e-03       -0.729947  0.003932   \n",
       "1        -0.008087           0.004298  3.360963e-05       -0.141759  0.003334   \n",
       "2         0.027808          -0.011197  4.291555e-04        0.549988  0.002829   \n",
       "3         0.065633          -0.026429  2.382744e-03        1.295938  0.002829   \n",
       "4         0.000464          -0.000228  1.125574e-07        0.008446  0.003146   \n",
       "..             ...                ...           ...             ...       ...   \n",
       "409       0.003171          -0.009518  5.343029e-05       -0.080865  0.016079   \n",
       "410       0.029927          -0.018541  4.494837e-04        0.478213  0.003916   \n",
       "411      -0.013174           0.006485  9.083522e-05       -0.239954  0.003145   \n",
       "412       0.045892          -0.028185  1.056835e-03        0.737356  0.003873   \n",
       "413       0.116954          -0.072456  6.810508e-03        1.861462  0.003916   \n",
       "\n",
       "     dffits_internal  student_resid    dffits  \n",
       "0          -0.045865      -0.729532 -0.045839  \n",
       "1          -0.008199      -0.141590 -0.008189  \n",
       "2           0.029297       0.549522  0.029272  \n",
       "3           0.069033       1.297011  0.069090  \n",
       "4           0.000474       0.008435  0.000474  \n",
       "..               ...            ...       ...  \n",
       "409        -0.010337      -0.080768 -0.010325  \n",
       "410         0.029983       0.477765  0.029955  \n",
       "411        -0.013479      -0.239680 -0.013463  \n",
       "412         0.045975       0.736947  0.045949  \n",
       "413         0.116709       1.867069  0.117061  \n",
       "\n",
       "[414 rows x 8 columns]"
      ]
     },
     "execution_count": 14,
     "metadata": {},
     "output_type": "execute_result"
    }
   ],
   "source": [
    "mdl_price_vs_dist.get_influence().summary_frame()"
   ]
  },
  {
   "cell_type": "code",
   "execution_count": 16,
   "metadata": {},
   "outputs": [],
   "source": [
    "# Create sqrt_dist_to_mrt_m\n",
    "taiwan_real_estate[\"sqrt_dist_to_mrt_m\"] = np.sqrt(taiwan_real_estate[\"dist_to_mrt_m\"])\n",
    "\n",
    "# Run a linear regression of price_twd_msq vs. sqrt_dist_to_mrt_m\n",
    "mdl_price_vs_dist = ols(\"price_twd_msq ~ sqrt_dist_to_mrt_m\", data=taiwan_real_estate).fit()"
   ]
  },
  {
   "cell_type": "code",
   "execution_count": 17,
   "metadata": {},
   "outputs": [
    {
     "data": {
      "text/html": [
       "<div>\n",
       "<style scoped>\n",
       "    .dataframe tbody tr th:only-of-type {\n",
       "        vertical-align: middle;\n",
       "    }\n",
       "\n",
       "    .dataframe tbody tr th {\n",
       "        vertical-align: top;\n",
       "    }\n",
       "\n",
       "    .dataframe thead th {\n",
       "        text-align: right;\n",
       "    }\n",
       "</style>\n",
       "<table border=\"1\" class=\"dataframe\">\n",
       "  <thead>\n",
       "    <tr style=\"text-align: right;\">\n",
       "      <th></th>\n",
       "      <th>dist_to_mrt_m</th>\n",
       "      <th>n_convenience</th>\n",
       "      <th>house_age_years</th>\n",
       "      <th>price_twd_msq</th>\n",
       "      <th>leverage</th>\n",
       "      <th>sqrt_dist_to_mrt_m</th>\n",
       "    </tr>\n",
       "  </thead>\n",
       "  <tbody>\n",
       "    <tr>\n",
       "      <th>347</th>\n",
       "      <td>6488.021</td>\n",
       "      <td>1</td>\n",
       "      <td>15 to 30</td>\n",
       "      <td>3.388805</td>\n",
       "      <td>0.026665</td>\n",
       "      <td>80.548253</td>\n",
       "    </tr>\n",
       "    <tr>\n",
       "      <th>116</th>\n",
       "      <td>6396.283</td>\n",
       "      <td>1</td>\n",
       "      <td>30 to 45</td>\n",
       "      <td>3.691377</td>\n",
       "      <td>0.026135</td>\n",
       "      <td>79.976765</td>\n",
       "    </tr>\n",
       "    <tr>\n",
       "      <th>249</th>\n",
       "      <td>6306.153</td>\n",
       "      <td>1</td>\n",
       "      <td>15 to 30</td>\n",
       "      <td>4.538578</td>\n",
       "      <td>0.025617</td>\n",
       "      <td>79.411290</td>\n",
       "    </tr>\n",
       "    <tr>\n",
       "      <th>255</th>\n",
       "      <td>5512.038</td>\n",
       "      <td>1</td>\n",
       "      <td>30 to 45</td>\n",
       "      <td>5.264750</td>\n",
       "      <td>0.021142</td>\n",
       "      <td>74.243101</td>\n",
       "    </tr>\n",
       "    <tr>\n",
       "      <th>8</th>\n",
       "      <td>5512.038</td>\n",
       "      <td>1</td>\n",
       "      <td>30 to 45</td>\n",
       "      <td>5.688351</td>\n",
       "      <td>0.021142</td>\n",
       "      <td>74.243101</td>\n",
       "    </tr>\n",
       "  </tbody>\n",
       "</table>\n",
       "</div>"
      ],
      "text/plain": [
       "     dist_to_mrt_m  n_convenience house_age_years  price_twd_msq  leverage  \\\n",
       "347       6488.021              1        15 to 30       3.388805  0.026665   \n",
       "116       6396.283              1        30 to 45       3.691377  0.026135   \n",
       "249       6306.153              1        15 to 30       4.538578  0.025617   \n",
       "255       5512.038              1        30 to 45       5.264750  0.021142   \n",
       "8         5512.038              1        30 to 45       5.688351  0.021142   \n",
       "\n",
       "     sqrt_dist_to_mrt_m  \n",
       "347           80.548253  \n",
       "116           79.976765  \n",
       "249           79.411290  \n",
       "255           74.243101  \n",
       "8             74.243101  "
      ]
     },
     "metadata": {},
     "output_type": "display_data"
    }
   ],
   "source": [
    "# Create summary_info\n",
    "summary_info = mdl_price_vs_dist.get_influence().summary_frame()\n",
    "\n",
    "# Add the hat_diag column to taiwan_real_estate, name it leverage\n",
    "taiwan_real_estate[\"leverage\"] = summary_info[\"hat_diag\"]\n",
    "\n",
    "# Sort taiwan_real_estate by leverage in descending order and print the head\n",
    "display(taiwan_real_estate.sort_values(\"leverage\", ascending = False).head())"
   ]
  },
  {
   "cell_type": "code",
   "execution_count": 19,
   "metadata": {},
   "outputs": [
    {
     "data": {
      "text/html": [
       "<div>\n",
       "<style scoped>\n",
       "    .dataframe tbody tr th:only-of-type {\n",
       "        vertical-align: middle;\n",
       "    }\n",
       "\n",
       "    .dataframe tbody tr th {\n",
       "        vertical-align: top;\n",
       "    }\n",
       "\n",
       "    .dataframe thead th {\n",
       "        text-align: right;\n",
       "    }\n",
       "</style>\n",
       "<table border=\"1\" class=\"dataframe\">\n",
       "  <thead>\n",
       "    <tr style=\"text-align: right;\">\n",
       "      <th></th>\n",
       "      <th>dist_to_mrt_m</th>\n",
       "      <th>n_convenience</th>\n",
       "      <th>house_age_years</th>\n",
       "      <th>price_twd_msq</th>\n",
       "      <th>leverage</th>\n",
       "      <th>sqrt_dist_to_mrt_m</th>\n",
       "      <th>cooks_dist</th>\n",
       "    </tr>\n",
       "  </thead>\n",
       "  <tbody>\n",
       "    <tr>\n",
       "      <th>270</th>\n",
       "      <td>252.5822</td>\n",
       "      <td>1</td>\n",
       "      <td>0 to 15</td>\n",
       "      <td>35.552194</td>\n",
       "      <td>0.003849</td>\n",
       "      <td>15.892835</td>\n",
       "      <td>0.115549</td>\n",
       "    </tr>\n",
       "    <tr>\n",
       "      <th>148</th>\n",
       "      <td>3780.5900</td>\n",
       "      <td>0</td>\n",
       "      <td>15 to 30</td>\n",
       "      <td>13.645991</td>\n",
       "      <td>0.012147</td>\n",
       "      <td>61.486503</td>\n",
       "      <td>0.052440</td>\n",
       "    </tr>\n",
       "    <tr>\n",
       "      <th>228</th>\n",
       "      <td>3171.3290</td>\n",
       "      <td>0</td>\n",
       "      <td>0 to 15</td>\n",
       "      <td>14.099849</td>\n",
       "      <td>0.009332</td>\n",
       "      <td>56.314554</td>\n",
       "      <td>0.035384</td>\n",
       "    </tr>\n",
       "    <tr>\n",
       "      <th>220</th>\n",
       "      <td>186.5101</td>\n",
       "      <td>9</td>\n",
       "      <td>30 to 45</td>\n",
       "      <td>23.691377</td>\n",
       "      <td>0.004401</td>\n",
       "      <td>13.656870</td>\n",
       "      <td>0.025123</td>\n",
       "    </tr>\n",
       "    <tr>\n",
       "      <th>113</th>\n",
       "      <td>393.2606</td>\n",
       "      <td>6</td>\n",
       "      <td>0 to 15</td>\n",
       "      <td>2.299546</td>\n",
       "      <td>0.003095</td>\n",
       "      <td>19.830799</td>\n",
       "      <td>0.022813</td>\n",
       "    </tr>\n",
       "  </tbody>\n",
       "</table>\n",
       "</div>"
      ],
      "text/plain": [
       "     dist_to_mrt_m  n_convenience house_age_years  price_twd_msq  leverage  \\\n",
       "270       252.5822              1         0 to 15      35.552194  0.003849   \n",
       "148      3780.5900              0        15 to 30      13.645991  0.012147   \n",
       "228      3171.3290              0         0 to 15      14.099849  0.009332   \n",
       "220       186.5101              9        30 to 45      23.691377  0.004401   \n",
       "113       393.2606              6         0 to 15       2.299546  0.003095   \n",
       "\n",
       "     sqrt_dist_to_mrt_m  cooks_dist  \n",
       "270           15.892835    0.115549  \n",
       "148           61.486503    0.052440  \n",
       "228           56.314554    0.035384  \n",
       "220           13.656870    0.025123  \n",
       "113           19.830799    0.022813  "
      ]
     },
     "metadata": {},
     "output_type": "display_data"
    }
   ],
   "source": [
    "# Create summary_info\n",
    "summary_info = mdl_price_vs_dist.get_influence().summary_frame()\n",
    "\n",
    "# Add the hat_diag column to taiwan_real_estate, name it leverage\n",
    "taiwan_real_estate[\"leverage\"] = summary_info[\"hat_diag\"]\n",
    "\n",
    "# Add the cooks_d column to taiwan_real_estate, name it cooks_dist\n",
    "taiwan_real_estate[\"cooks_dist\"] = summary_info[\"cooks_d\"]\n",
    "\n",
    "# Sort taiwan_real_estate by cooks_dist in descending order and print the head.\n",
    "display(taiwan_real_estate.sort_values(\"cooks_dist\", ascending = False).head())"
   ]
  },
  {
   "cell_type": "code",
   "execution_count": null,
   "metadata": {},
   "outputs": [],
   "source": []
  }
 ],
 "metadata": {
  "kernelspec": {
   "display_name": "Python 3",
   "language": "python",
   "name": "python3"
  },
  "language_info": {
   "codemirror_mode": {
    "name": "ipython",
    "version": 3
   },
   "file_extension": ".py",
   "mimetype": "text/x-python",
   "name": "python",
   "nbconvert_exporter": "python",
   "pygments_lexer": "ipython3",
   "version": "3.11.6"
  }
 },
 "nbformat": 4,
 "nbformat_minor": 2
}
