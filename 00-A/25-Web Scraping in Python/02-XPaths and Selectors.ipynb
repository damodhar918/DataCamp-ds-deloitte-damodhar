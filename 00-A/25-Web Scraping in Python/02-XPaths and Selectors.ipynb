{
 "cells": [
  {
   "cell_type": "code",
   "execution_count": 17,
   "metadata": {},
   "outputs": [
    {
     "name": "stdout",
     "output_type": "stream",
     "text": [
      "57\n"
     ]
    }
   ],
   "source": [
    "# Create an XPath string to direct to children of body element\n",
    "xpath = '/html/body/*'\n",
    "from scrapy import Selector\n",
    "html = open('html2.html').read()\n",
    "# -*- coding: utf-8 -*-\n",
    "#\"\"\"\n",
    "# Create a selector from the html (of a secret website)\n",
    "sel = Selector( text = html )\n",
    "def how_many_elements( xpath ):\n",
    "  print( len(sel.xpath( xpath )) )\n",
    "# Print out the number of elements selected\n",
    "how_many_elements( xpath )"
   ]
  },
  {
   "cell_type": "code",
   "execution_count": 18,
   "metadata": {},
   "outputs": [
    {
     "name": "stdout",
     "output_type": "stream",
     "text": [
      "Choose DataCamp!\n"
     ]
    }
   ],
   "source": [
    "# Create an XPath string to the desired paragraph element\n",
    "xpath = '/html/body/div[1]/div/p'\n",
    "html='\\n<html>\\n  <body>\\n    <div>\\n      <p>Hello World!</p>\\n      <div>\\n        <p>Choose DataCamp!</p>\\n      </div>\\n    </div>\\n    <div>\\n      <p>Thanks for Watching!</p>\\n    </div>\\n  </body>\\n</html>\\n'\n",
    "\n",
    "sel = Selector( text = html )\n",
    "def print_element_text( xpath ):\n",
    "  text = ' '.join( sel.xpath( xpath ).xpath( './text()' ).extract() )\n",
    "  print( text )\n",
    "# Print out the element text\n",
    "print_element_text( xpath )"
   ]
  },
  {
   "cell_type": "code",
   "execution_count": 22,
   "metadata": {},
   "outputs": [
    {
     "name": "stdout",
     "output_type": "stream",
     "text": [
      "Thanks for Watching!\n"
     ]
    }
   ],
   "source": [
    "# Create an Xpath string to select desired p element\n",
    "xpath = '//*[@id=\"div3\"]/p'\n",
    "html='\\n<html>\\n  <body>\\n    <div id=\"div1\" class=\"class-1\">\\n      <p class=\"class-1 class-2\">Hello World!</p>\\n      <div id=\"div2\">\\n        <p id=\"p2\" class=\"class-2\">Choose DataCamp!</p>\\n      </div>\\n    </div>\\n    <div id=\"div3\" class=\"class-2\">\\n      <p class=\"class-2\">Thanks for Watching!</p>\\n    </div>\\n  </body>\\n</html>\\n'\n",
    "sel = Selector( text = html )\n",
    "def print_element_text( xpath ):\n",
    "  text = ' '.join( sel.xpath( xpath ).xpath( './text()' ).extract() )\n",
    "  print( text )\n",
    "# Print out selection text\n",
    "print_element_text( xpath )"
   ]
  },
  {
   "cell_type": "code",
   "execution_count": 23,
   "metadata": {},
   "outputs": [
    {
     "name": "stdout",
     "output_type": "stream",
     "text": [
      "Hello World!\n"
     ]
    }
   ],
   "source": [
    "# Create an XPath string to select p element by class\n",
    "xpath = '//p[@class=\"class-1 class-2\"]'\n",
    "\n",
    "# Print out select text\n",
    "print_element_text( xpath )"
   ]
  },
  {
   "cell_type": "code",
   "execution_count": 27,
   "metadata": {},
   "outputs": [
    {
     "name": "stdout",
     "output_type": "stream",
     "text": [
      "You have selected:\n",
      "1) http://damodhar918.com\n"
     ]
    }
   ],
   "source": [
    "# Create an xpath to the href attribute\n",
    "xpath = '//p[@id=\"p2\"]/a/@href'\n",
    "\n",
    "html='\\n<html>\\n  <body>\\n    <div id=\"div1\" class=\"class-1\">\\n      <p class=\"class-1 class-2\">Hello World!</p>\\n      <div id=\"div2\">\\n        <p id=\"p2\" class=\"class-2\">Choose \\n            <a href=\"http://damodhar918.com\">DataCamp!</a>!\\n        </p>\\n      </div>\\n    </div>\\n    <div id=\"div3\" class=\"class-2\">\\n      <p class=\"class-2\">Thanks for Watching!</p>\\n    </div>\\n  </body>\\n</html>\\n'\n",
    "sel = Selector( text = html )\n",
    "def print_attribute( xpath ):\n",
    "  print( \"You have selected:\" )\n",
    "  for i,el in enumerate(sel.xpath( xpath ).extract()):\n",
    "  \tprint( \"%d) %s\" % (i+1, el) )\n",
    "\n",
    "# Print out the selection(s); there should be only one\n",
    "print_attribute( xpath )"
   ]
  },
  {
   "cell_type": "code",
   "execution_count": null,
   "metadata": {},
   "outputs": [],
   "source": [
    "# Chain together xpath methods to select desired p element\n",
    "sel.xpath( '//div' ).xpath( './span/p[3]' )"
   ]
  },
  {
   "cell_type": "code",
   "execution_count": 28,
   "metadata": {},
   "outputs": [],
   "source": [
    "from scrapy import Selector\n",
    "\n",
    "# Create a Selector selecting html as the HTML document\n",
    "sel = Selector( text = html )\n",
    "\n",
    "# Create a SelectorList of all div elements in the HTML document\n",
    "divs = sel.xpath( '//div' )"
   ]
  },
  {
   "cell_type": "code",
   "execution_count": 20,
   "metadata": {},
   "outputs": [
    {
     "data": {
      "text/plain": [
       "['<div>Div 1: <p>paragraph 1</p></div>',\n",
       " '<div>Div 2: <p>paragraph 2</p> <p>paragraph 3</p> </div>',\n",
       " '<div>Div 3: <p>paragraph 4</p> <p>paragraph 5</p> <p>paragraph 6</p></div>',\n",
       " '<div>Div 4: <p>paragraph 7</p></div>',\n",
       " '<div>Div 5: <p>paragraph 8</p></div>']"
      ]
     },
     "execution_count": 20,
     "metadata": {},
     "output_type": "execute_result"
    }
   ],
   "source": [
    "from scrapy import Selector\n",
    "html = '\\n<html>\\n<body>\\n<div>Div 1: <p>paragraph 1</p></div>\\n<div>Div 2: <p>paragraph 2</p> <p>paragraph 3</p> </div>\\n<div>Div 3: <p>paragraph 4</p> <p>paragraph 5</p> <p>paragraph 6</p></div>\\n<div>Div 4: <p>paragraph 7</p></div>\\n<div>Div 5: <p>paragraph 8</p></div>\\n</body>\\n</html>\\n'\n",
    "\n",
    "# Create a Selector selecting html as the HTML document\n",
    "sel = Selector( text = html )\n",
    "\n",
    "# Create a SelectorList of all div elements in the HTML document\n",
    "divs = sel.xpath( '//div' )\n",
    "[ ( div.extract().strip() ) for div in divs ]"
   ]
  },
  {
   "cell_type": "code",
   "execution_count": 21,
   "metadata": {},
   "outputs": [
    {
     "name": "stdout",
     "output_type": "stream",
     "text": [
      "There are 1020 elements in the HTML document.\n",
      "You have found:  1020\n"
     ]
    }
   ],
   "source": [
    "# Import a scrapy Selector\n",
    "from scrapy import Selector\n",
    "\n",
    "# Import requests\n",
    "import requests\n",
    "url = 'https://assets.datacamp.com/production/repositories/2560/datasets/19a0a26daa8d9db1d920b5d5607c19d6d8094b3b/all_short'\n",
    "\n",
    "# Create the string html containing the HTML source\n",
    "html = requests.get(url).text\n",
    "\n",
    "# Create the Selector object sel from html\n",
    "sel = Selector(text=html)\n",
    "\n",
    "# Print out the number of elements in the HTML document\n",
    "print(\"There are 1020 elements in the HTML document.\")\n",
    "print(\"You have found: \", len(sel.xpath('//*')))"
   ]
  },
  {
   "cell_type": "code",
   "execution_count": null,
   "metadata": {},
   "outputs": [],
   "source": []
  }
 ],
 "metadata": {
  "kernelspec": {
   "display_name": "Python 3",
   "language": "python",
   "name": "python3"
  },
  "language_info": {
   "codemirror_mode": {
    "name": "ipython",
    "version": 3
   },
   "file_extension": ".py",
   "mimetype": "text/x-python",
   "name": "python",
   "nbconvert_exporter": "python",
   "pygments_lexer": "ipython3",
   "version": "3.10.5"
  },
  "orig_nbformat": 4
 },
 "nbformat": 4,
 "nbformat_minor": 2
}
