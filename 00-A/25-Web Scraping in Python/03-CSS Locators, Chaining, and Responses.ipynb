{
 "cells": [
  {
   "cell_type": "code",
   "execution_count": 35,
   "metadata": {},
   "outputs": [],
   "source": [
    "# Create the XPath string equivalent to the CSS Locator \n",
    "xpath = '/html/body/span[1]//a'\n",
    "# Create the CSS Locator string equivalent to the XPath\n",
    "css_locator = 'html > body > span:nth-of-type(1) a'"
   ]
  },
  {
   "cell_type": "code",
   "execution_count": 36,
   "metadata": {},
   "outputs": [],
   "source": [
    "# Create the XPath string equivalent to the CSS Locator \n",
    "xpath = '//div[@id=\"uid\"]/span//h4'\n",
    "\n",
    "# Create the CSS Locator string equivalent to the XPath\n",
    "css_locator = 'div#uid > span h4'"
   ]
  },
  {
   "cell_type": "code",
   "execution_count": 61,
   "metadata": {},
   "outputs": [
    {
     "data": {
      "text/plain": [
       "11"
      ]
     },
     "execution_count": 61,
     "metadata": {},
     "output_type": "execute_result"
    }
   ],
   "source": [
    "from scrapy import Selector\n",
    "html = open('./html3.html').read()\n",
    "\n",
    "# Create a selector from the html (of a secret website)\n",
    "sel = Selector( text = html )\n",
    "\n",
    "# Fill in the blank\n",
    "css_locator = 'div.course-block > a'\n",
    "how_many_elements = lambda css_locator : len( sel.css( css_locator ).getall() )\n",
    "# Print the number of selected elements.\n",
    "how_many_elements( css_locator )    "
   ]
  },
  {
   "cell_type": "code",
   "execution_count": 38,
   "metadata": {},
   "outputs": [],
   "source": [
    "# Create the CSS Locator to all children of the element whose id is uid\n",
    "css_locator = '#uid > *'"
   ]
  },
  {
   "cell_type": "code",
   "execution_count": 62,
   "metadata": {},
   "outputs": [],
   "source": [
    "from scrapy import Selector\n",
    "\n",
    "# Create a selector object from a secret website\n",
    "sel = Selector( text = html )\n",
    "\n",
    "# Select all hyperlinks of div elements belonging to class \"course-block\"\n",
    "course_as = sel.css( 'div.course-block > a' )\n",
    "\n",
    "# Selecting all href attributes chaining with css\n",
    "hrefs_from_css = course_as.css( '::attr(href)' )\n",
    "\n",
    "# Selecting all href attributes chaining with xpath\n",
    "# hrefs_from_xpath = course_as.xpath( ____ )\n",
    "\n",
    "# Selecting all href attributes chaining with xpath\n",
    "hrefs_from_xpath = course_as.xpath('./@href')"
   ]
  },
  {
   "cell_type": "code",
   "execution_count": 40,
   "metadata": {},
   "outputs": [
    {
     "name": "stdout",
     "output_type": "stream",
     "text": [
      "Your XPath extracts to following:\n",
      "['\\nHere is the ', ' link you want!\\n']\n",
      "_________________\n",
      "\n",
      "Your CSS Locator extracts the following:\n",
      "['\\nHere is the ', ' link you want!\\n']\n"
     ]
    }
   ],
   "source": [
    "# Create an XPath string to the desired text.\n",
    "# Create an XPath string to the desired text.\n",
    "xpath = '//p[@id=\"p3\"]/text()'\n",
    "\n",
    "# Create a CSS Locator string to the desired text.\n",
    "css_locator = 'p#p3::text'\n",
    "html='\\n<html>\\n<body>\\n<div id=\"this-div\">\\n<p id=\"p1\" class=\"class-1\">This is not the element you are looking for</p>\\n<p id=\"p2\" class=\"class-12\">\\n<a href=\"https://www.google.com\">Google</a> is linked to here, but this isn\\'t the link you are looking for. \\n</p>\\n<p id=\"p3\" class=\"class-1 class-12\">\\nHere is the <a href=\"https://www.datacamp.com\" id=\"a-exercise\">DataCamp</a> link you want!\\n</p>\\n</div>\\n</body>\\n</html>\\n'\n",
    "\n",
    "\n",
    "res = Selector(text=html)\n",
    "def our_css( css ):\n",
    "  cextr = res.css( css ).extract()\n",
    "  return cextr\n",
    "def our_xpath( xpath ):\n",
    "  xextr = res.xpath( xpath ).extract()\n",
    "  return xextr\n",
    "def print_results( xpath, css_locator ):\n",
    "  print( \"Your XPath extracts to following:\")\n",
    "  print( our_xpath(xpath) )\n",
    "  print(\"_________________\\n\")\n",
    "  print( \"Your CSS Locator extracts the following:\")\n",
    "  print( our_css(css_locator) )\n",
    "  return None\n",
    "# Print the text from our selections\n",
    "print_results( xpath, css_locator )"
   ]
  },
  {
   "cell_type": "code",
   "execution_count": 41,
   "metadata": {},
   "outputs": [
    {
     "name": "stdout",
     "output_type": "stream",
     "text": [
      "def my_function(a, b):\n",
      "    return a + b\n",
      "\n"
     ]
    }
   ],
   "source": [
    "import inspect\n",
    "\n",
    "def my_function(a, b):\n",
    "    return a + b\n",
    "\n",
    "function_logic = inspect.getsource(my_function)\n",
    "print(function_logic)"
   ]
  },
  {
   "cell_type": "code",
   "execution_count": 42,
   "metadata": {},
   "outputs": [
    {
     "name": "stdout",
     "output_type": "stream",
     "text": [
      "Your XPath extracts to following:\n",
      "['\\nHere is the ', 'DataCamp', ' link you want!\\n']\n",
      "_________________\n",
      "\n",
      "Your CSS Locator extracts the following:\n",
      "['\\nHere is the ', 'DataCamp', ' link you want!\\n']\n"
     ]
    }
   ],
   "source": [
    "\n",
    "# Create an XPath string to the desired text.\n",
    "xpath = '//*[@id=\"p3\"]//text()'\n",
    "\n",
    "# Create a CSS Locator string to the desired text.\n",
    "css_locator = '#p3 ::text'\n",
    "\n",
    "# Print the text from our selections\n",
    "print_results(xpath, css_locator)"
   ]
  },
  {
   "cell_type": "code",
   "execution_count": 64,
   "metadata": {},
   "outputs": [
    {
     "name": "stdout",
     "output_type": "stream",
     "text": [
      "Here is what you found:\n",
      "\t-URL: https://www.datacamp.com/courses/all\n",
      "\t-Title: None\n"
     ]
    }
   ],
   "source": [
    "import requests\n",
    "from scrapy import Selector\n",
    "response = requests.get(url='https://www.datacamp.com/courses/all')\n",
    "html = open('./html3.html').read()\n",
    "\n",
    "# Extract the website contents as a Selector object\n",
    "selector = Selector(text=html)\n",
    "\n",
    "# Get the URL of the website\n",
    "this_url = response.url\n",
    "\n",
    "# Get the title of the website\n",
    "this_title = selector.xpath('/html/head/title/text()').extract_first()\n",
    "\n",
    "# Define a function to print the URL and title\n",
    "\n",
    "def print_url_title( url, title ):\n",
    "  print( \"Here is what you found:\" )\n",
    "  print( \"\\t-URL: %s\" % url )\n",
    "  print( \"\\t-Title: %s\" % title )\n",
    "\n",
    "\n",
    "# Print out the results\n",
    "print_url_title(this_url, this_title)"
   ]
  },
  {
   "cell_type": "code",
   "execution_count": 58,
   "metadata": {},
   "outputs": [
    {
     "name": "stdout",
     "output_type": "stream",
     "text": [
      "3\n"
     ]
    }
   ],
   "source": [
    "import requests\n",
    "from scrapy import Selector\n",
    "\n",
    "# Requesting the HTML page\n",
    "url = \"https://kyuubi.readthedocs.io/en/master/connector/hive/paimon.html#apache-paimon-incubating-integration\"\n",
    "response = requests.get(url)\n",
    "\n",
    "# Parsing the HTML page\n",
    "sel = Selector(text=response.text)\n",
    "\n",
    "# Getting the number of course blocks\n",
    "course_divs = sel.css('div.highlight-sql')\n",
    "print(len(course_divs))  # Output will be the number of courses available on the website."
   ]
  },
  {
   "cell_type": "code",
   "execution_count": 70,
   "metadata": {},
   "outputs": [
    {
     "name": "stdout",
     "output_type": "stream",
     "text": [
      "Element 1 from response: <Selector xpath=\"descendant-or-self::a[@class and contains(concat(' ', normalize-space(@class), ' '), ' course-block__link ')]\" data='<a class=\"course-block__link ds-snowp...'>\n",
      "Element 1 from sel: <Selector xpath=\"descendant-or-self::a[@class and contains(concat(' ', normalize-space(@class), ' '), ' course-block__link ')]\" data='<a class=\"course-block__link ds-snowp...'>\n",
      "\n",
      "Element 2 from response: <Selector xpath=\"descendant-or-self::a[@class and contains(concat(' ', normalize-space(@class), ' '), ' course-block__link ')]\" data='<a class=\"course-block__link ds-snowp...'>\n",
      "Element 2 from sel: <Selector xpath=\"descendant-or-self::a[@class and contains(concat(' ', normalize-space(@class), ' '), ' course-block__link ')]\" data='<a class=\"course-block__link ds-snowp...'>\n",
      "\n"
     ]
    }
   ],
   "source": [
    "# Create a CSS Locator string to the desired hyperlink elements\n",
    "import scrapy\n",
    "# response = scrapy.Request(url='https://kyuubi.readthedocs.io/en/master/connector/hive/paimon.html#apache-paimon-incubating-integration', encoding = \"utf-8\")\n",
    "css_locator = 'a.course-block__link'\n",
    "# sel = Selector(text=response.text)\n",
    "# Select the hyperlink elements from response and sel\n",
    "sel_as = sel.css(css_locator)\n",
    "response_as = response.css(css_locator)\n",
    "\n",
    "# Examine similarity\n",
    "nr = len(response_as)\n",
    "ns = len(sel_as)\n",
    "for i in range(min(nr, ns, 2)):\n",
    "    print(\"Element %d from response: %s\" % (i+1, response_as[i]))\n",
    "    print(\"Element %d from sel: %s\" % (i+1, sel_as[i]))\n",
    "    print(\"\")"
   ]
  },
  {
   "cell_type": "code",
   "execution_count": 66,
   "metadata": {},
   "outputs": [
    {
     "name": "stdout",
     "output_type": "stream",
     "text": [
      "Element 1 from response: <Selector xpath=\"descendant-or-self::a[@class and contains(concat(' ', normalize-space(@class), ' '), ' course-block__link ')]\" data='<a class=\"course-block__link ds-snowp...'>\n",
      "Element 1 from sel: <Selector xpath=\"descendant-or-self::a[@class and contains(concat(' ', normalize-space(@class), ' '), ' course-block__link ')]\" data='<a class=\"course-block__link ds-snowp...'>\n",
      "\n",
      "Element 2 from response: <Selector xpath=\"descendant-or-self::a[@class and contains(concat(' ', normalize-space(@class), ' '), ' course-block__link ')]\" data='<a class=\"course-block__link ds-snowp...'>\n",
      "Element 2 from sel: <Selector xpath=\"descendant-or-self::a[@class and contains(concat(' ', normalize-space(@class), ' '), ' course-block__link ')]\" data='<a class=\"course-block__link ds-snowp...'>\n",
      "\n"
     ]
    }
   ],
   "source": [
    "# Create a CSS Locator string to the desired hyperlink elements\n",
    "css_locator = 'a.course-block__link'\n",
    "\n",
    "response = Selector(text=html)\n",
    "sel = Selector(text=html)\n",
    "# Select the hyperlink elements from response and sel\n",
    "response_as = response.css(css_locator)\n",
    "sel_as = sel.css(css_locator)\n",
    "\n",
    "# Examine similarity\n",
    "nr = len(response_as)\n",
    "ns = len(sel_as)\n",
    "for i in range(min(nr, ns, 2)):\n",
    "    print(\"Element %d from response: %s\" % (i+1, response_as[i]))\n",
    "    print(\"Element %d from sel: %s\" % (i+1, sel_as[i]))\n",
    "    print(\"\")"
   ]
  },
  {
   "cell_type": "code",
   "execution_count": 67,
   "metadata": {},
   "outputs": [
    {
     "name": "stdout",
     "output_type": "stream",
     "text": [
      "The text from the h4 element is: Introduction to R\n"
     ]
    }
   ],
   "source": [
    "# Fixed code:\n",
    "\n",
    "# Select all desired div elements\n",
    "divs = response.css('div.course-block')\n",
    "\n",
    "# Take the first div element\n",
    "first_div = divs[0]\n",
    "\n",
    "# Extract the text from the (only) h4 element in first_div\n",
    "h4_text = first_div.css('h4::text').extract_first()\n",
    "\n",
    "# Print out the text\n",
    "print(\"The text from the h4 element is:\", h4_text)"
   ]
  },
  {
   "cell_type": "code",
   "execution_count": 68,
   "metadata": {},
   "outputs": [
    {
     "name": "stdout",
     "output_type": "stream",
     "text": [
      ">> Introduction to R\n",
      ">> Data Analysis in\n",
      "                                            R, the data.table Way\n",
      ">> Data\n",
      "                                                Manipulation in R with dplyr\n",
      ">> Data\n",
      "                                                    Visualization in R with ggvis\n",
      ">> Reporting with R Markdown\n",
      ">> Intermediate R\n",
      ">> Introduction to Machine\n",
      "                                                                Learning\n",
      ">> Cleaning Data in R\n",
      ">> Intro to Python for\n",
      "                                                                        Data Science\n",
      ">> Intermediate R -\n",
      "                                                                            Practice\n",
      ">> Predicting Customer\n",
      "                                        Churn in Python\n"
     ]
    }
   ],
   "source": [
    "import requests\n",
    "from scrapy import Selector\n",
    "\n",
    "# response = requests.get(\"https://www.datacamp.com/courses/all\")\n",
    "# sel = Selector(response)\n",
    "crs_title_els = sel.css('h4::text')\n",
    "crs_titles = crs_title_els.extract()\n",
    "for el in crs_titles:\n",
    "    print(\">>\", el)"
   ]
  },
  {
   "cell_type": "code",
   "execution_count": 86,
   "metadata": {},
   "outputs": [
    {
     "name": "stdout",
     "output_type": "stream",
     "text": [
      ">> Introduction to R\n",
      ">> Data Analysis in\n",
      "                                            R, the data.table Way\n",
      ">> Data\n",
      "                                                Manipulation in R with dplyr\n",
      ">> Data\n",
      "                                                    Visualization in R with ggvis\n",
      ">> Reporting with R Markdown\n",
      ">> Intermediate R\n",
      ">> Introduction to Machine\n",
      "                                                                Learning\n",
      ">> Cleaning Data in R\n",
      ">> Intro to Python for\n",
      "                                                                        Data Science\n",
      ">> Intermediate R -\n",
      "                                                                            Practice\n",
      ">> Predicting Customer\n",
      "                                        Churn in Python\n"
     ]
    },
    {
     "data": {
      "text/plain": [
       "['Introduction to R',\n",
       " 'Data Analysis in\\n                                            R, the data.table Way',\n",
       " 'Data\\n                                                Manipulation in R with dplyr',\n",
       " 'Data\\n                                                    Visualization in R with ggvis',\n",
       " 'Reporting with R Markdown',\n",
       " 'Intermediate R',\n",
       " 'Introduction to Machine\\n                                                                Learning',\n",
       " 'Cleaning Data in R',\n",
       " 'Intro to Python for\\n                                                                        Data Science',\n",
       " 'Intermediate R -\\n                                                                            Practice',\n",
       " 'Predicting Customer\\n                                        Churn in Python']"
      ]
     },
     "execution_count": 86,
     "metadata": {},
     "output_type": "execute_result"
    }
   ],
   "source": [
    "# Create a SelectorList of the course titles\n",
    "crs_title_els = response.css('h4')\n",
    "\n",
    "# Extract the course titles\n",
    "crs_titles = crs_title_els.xpath('text()').extract()\n",
    "\n",
    "# Print out the course titles \n",
    "for el in crs_titles:\n",
    "  print( \">>\", el.strip() )\n",
    "# print([*crs_titles],sep='\\n >>')\n",
    "[*crs_titles]"
   ]
  },
  {
   "cell_type": "code",
   "execution_count": 75,
   "metadata": {},
   "outputs": [
    {
     "name": "stdout",
     "output_type": "stream",
     "text": [
      "The number of elements you selected was: 1\n"
     ]
    }
   ],
   "source": [
    "# Calculate the number of children of the mystery element\n",
    "how_many_kids = len( sel.xpath( './*' ) )\n",
    "\n",
    "# Print out the number\n",
    "print( \"The number of elements you selected was:\", how_many_kids )"
   ]
  }
 ],
 "metadata": {
  "kernelspec": {
   "display_name": "Python 3",
   "language": "python",
   "name": "python3"
  },
  "language_info": {
   "codemirror_mode": {
    "name": "ipython",
    "version": 3
   },
   "file_extension": ".py",
   "mimetype": "text/x-python",
   "name": "python",
   "nbconvert_exporter": "python",
   "pygments_lexer": "ipython3",
   "version": "3.10.5"
  },
  "orig_nbformat": 4
 },
 "nbformat": 4,
 "nbformat_minor": 2
}
