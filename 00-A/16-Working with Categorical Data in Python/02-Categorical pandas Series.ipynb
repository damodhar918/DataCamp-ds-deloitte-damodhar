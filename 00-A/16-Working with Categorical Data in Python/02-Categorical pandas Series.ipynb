{
 "cells": [
  {
   "cell_type": "code",
   "execution_count": 141,
   "metadata": {},
   "outputs": [],
   "source": [
    "import pandas as pd\n",
    "\n",
    "dogs = pd.read_csv('./ShelterDogs.csv')\n"
   ]
  },
  {
   "cell_type": "code",
   "execution_count": 142,
   "metadata": {},
   "outputs": [
    {
     "data": {
      "text/plain": [
       "ID                     int64\n",
       "name                  object\n",
       "age                  float64\n",
       "sex                   object\n",
       "breed                 object\n",
       "date_found            object\n",
       "adoptable_from        object\n",
       "posted                object\n",
       "color                 object\n",
       "coat                  object\n",
       "size                  object\n",
       "neutered              object\n",
       "housebroken           object\n",
       "likes_people          object\n",
       "likes_children        object\n",
       "get_along_males       object\n",
       "get_along_females     object\n",
       "get_along_cats        object\n",
       "keep_in               object\n",
       "dtype: object"
      ]
     },
     "execution_count": 142,
     "metadata": {},
     "output_type": "execute_result"
    }
   ],
   "source": [
    "dogs.dtypes"
   ]
  },
  {
   "cell_type": "code",
   "execution_count": 143,
   "metadata": {},
   "outputs": [
    {
     "name": "stdout",
     "output_type": "stream",
     "text": [
      "both flat and garden    1224\n",
      "NaN                     1021\n",
      "garden                   510\n",
      "flat                     182\n",
      "Name: keep_in, dtype: int64\n",
      "both flat and garden       1224\n",
      "NaN                        1021\n",
      "garden                      510\n",
      "flat                        182\n",
      "Unknown History               0\n",
      "Open Yard (Countryside)       0\n",
      "Name: keep_in, dtype: int64\n"
     ]
    }
   ],
   "source": [
    "# Check frequency counts while also printing the NaN count\n",
    "print(dogs[\"keep_in\"].value_counts(dropna=False))\n",
    "\n",
    "# Switch to a categorical variable\n",
    "dogs[\"keep_in\"] = dogs[\"keep_in\"].astype(\"category\")\n",
    "\n",
    "# Add new categories\n",
    "new_categories = [\"Unknown History\", \"Open Yard (Countryside)\"]\n",
    "dogs[\"keep_in\"] = dogs[\"keep_in\"].cat.add_categories(new_categories)\n",
    "\n",
    "# Check frequency counts one more time\n",
    "print(dogs['keep_in'].value_counts(dropna=False))"
   ]
  },
  {
   "cell_type": "code",
   "execution_count": 144,
   "metadata": {},
   "outputs": [],
   "source": [
    "dogs.likes_children.fillna('maybe', inplace=True)"
   ]
  },
  {
   "cell_type": "code",
   "execution_count": 145,
   "metadata": {},
   "outputs": [
    {
     "name": "stdout",
     "output_type": "stream",
     "text": [
      "maybe    1718\n",
      "yes      1172\n",
      "no         47\n",
      "Name: likes_children, dtype: int64\n"
     ]
    }
   ],
   "source": [
    "print(dogs[\"likes_children\"].value_counts())\n",
    "dogs[\"likes_children\"] = dogs[\"likes_children\"].astype(\"category\")\n",
    "# dogs.loc[dogs[\"likes_children\"] == \"NaN\", \"likes_children\"] = \"maybe\""
   ]
  },
  {
   "cell_type": "code",
   "execution_count": 146,
   "metadata": {},
   "outputs": [
    {
     "name": "stdout",
     "output_type": "stream",
     "text": [
      "Index(['maybe', 'no', 'yes'], dtype='object')\n",
      "no       1765\n",
      "yes      1172\n",
      "maybe       0\n",
      "Name: likes_children, dtype: int64\n",
      "no     1765\n",
      "yes    1172\n",
      "Name: likes_children, dtype: int64\n",
      "Index(['no', 'yes'], dtype='object')\n"
     ]
    }
   ],
   "source": [
    "dogs[\"likes_children\"] = dogs[\"likes_children\"].astype(\"category\")\n",
    "# Set \"maybe\" to be \"no\"\n",
    "dogs.loc[dogs[\"likes_children\"] == \"maybe\", \"likes_children\"] = \"no\"\n",
    "# Print out categories\n",
    "print(dogs[\"likes_children\"].cat.categories)\n",
    "\n",
    "# Print the frequency table\n",
    "print(dogs[\"likes_children\"].value_counts())\n",
    "\n",
    "# Remove the `\"maybe\" category\n",
    "dogs[\"likes_children\"] = dogs[\"likes_children\"].cat.remove_categories([\"maybe\"])\n",
    "print(dogs[\"likes_children\"].value_counts())\n",
    "\n",
    "# Print the categories one more time\n",
    "print(dogs[\"likes_children\"].cat.categories)"
   ]
  },
  {
   "cell_type": "code",
   "execution_count": 147,
   "metadata": {},
   "outputs": [],
   "source": [
    "dogs[\"get_along_males\"].fillna(\"Maybe?\", inplace=True)\n",
    "dogs['get_along_males']=dogs['get_along_males'].astype('category')"
   ]
  },
  {
   "cell_type": "code",
   "execution_count": 148,
   "metadata": {},
   "outputs": [
    {
     "name": "stdout",
     "output_type": "stream",
     "text": [
      "Index(['MAYBE', 'NO', 'YES'], dtype='object')\n"
     ]
    }
   ],
   "source": [
    "# Create the my_changes dictionary\n",
    "my_changes = {'Maybe?':'Maybe'}\n",
    "\n",
    "# Rename the categories listed in the my_changes dictionary\n",
    "dogs[\"get_along_males\"] = dogs['get_along_males'].cat.rename_categories(my_changes)\n",
    "\n",
    "# Use a lambda function to convert all categories to uppercase using upper()\n",
    "dogs[\"get_along_males\"] =  dogs[\"get_along_males\"].cat.rename_categories(lambda c: c.upper())\n",
    "\n",
    "# Print the list of categories\n",
    "print(dogs['get_along_males'].cat.categories)"
   ]
  },
  {
   "cell_type": "code",
   "execution_count": 149,
   "metadata": {},
   "outputs": [
    {
     "name": "stdout",
     "output_type": "stream",
     "text": [
      "short     1972\n",
      "medium     785\n",
      "long       180\n",
      "Name: coat_collapsed, dtype: int64\n"
     ]
    }
   ],
   "source": [
    "# Create the update_coats dictionary\n",
    "update_coats = {\n",
    "    'wirehaired':'medium',\n",
    "    'medium-long':'medium'\n",
    "}\n",
    "\n",
    "# Create a new column, coat_collapsed\n",
    "dogs[\"coat_collapsed\"] = dogs['coat'].replace(update_coats)\n",
    "\n",
    "# Convert the column to categorical\n",
    "dogs['coat_collapsed'] = dogs['coat_collapsed'].astype('category')\n",
    "\n",
    "# Print the frequency table\n",
    "print(dogs['coat_collapsed'].value_counts())"
   ]
  },
  {
   "cell_type": "code",
   "execution_count": 150,
   "metadata": {},
   "outputs": [],
   "source": [
    "dogs['size']=dogs['size'].astype('category')"
   ]
  },
  {
   "cell_type": "code",
   "execution_count": 151,
   "metadata": {},
   "outputs": [
    {
     "name": "stdout",
     "output_type": "stream",
     "text": [
      "Index(['large', 'medium', 'small'], dtype='object')\n"
     ]
    }
   ],
   "source": [
    "# Print out the current categories of the size variable\n",
    "print(dogs[\"size\"].cat.categories)\n",
    "\n",
    "# Reorder the categories, specifying the Series is ordinal, and overwriting the original series\n",
    "dogs[\"size\"]=dogs[\"size\"].cat.reorder_categories(\n",
    "  new_categories=[\"small\", \"medium\", \"large\"],\n",
    "  ordered=True,\n",
    "  # inplace = True\n",
    ")"
   ]
  },
  {
   "cell_type": "code",
   "execution_count": 152,
   "metadata": {},
   "outputs": [
    {
     "data": {
      "text/plain": [
       "Index(['small', 'medium', 'large'], dtype='object')"
      ]
     },
     "execution_count": 152,
     "metadata": {},
     "output_type": "execute_result"
    }
   ],
   "source": [
    "dogs[\"size\"].cat.categories"
   ]
  },
  {
   "cell_type": "code",
   "execution_count": 153,
   "metadata": {},
   "outputs": [
    {
     "data": {
      "text/plain": [
       "0     small\n",
       "1     small\n",
       "2    medium\n",
       "3    medium\n",
       "4     small\n",
       "Name: size, dtype: category\n",
       "Categories (3, object): ['small' < 'medium' < 'large']"
      ]
     },
     "execution_count": 153,
     "metadata": {},
     "output_type": "execute_result"
    }
   ],
   "source": [
    "dogs['size'].head()"
   ]
  },
  {
   "cell_type": "code",
   "execution_count": 154,
   "metadata": {},
   "outputs": [
    {
     "name": "stdout",
     "output_type": "stream",
     "text": [
      "size    sex   \n",
      "small   male       260\n",
      "        female     214\n",
      "medium  male      1090\n",
      "        female     854\n",
      "large   male       331\n",
      "        female     188\n",
      "Name: sex, dtype: int64\n",
      "size                           \n",
      "small   both flat and garden       238\n",
      "        flat                        80\n",
      "        garden                      21\n",
      "        Unknown History              0\n",
      "        Open Yard (Countryside)      0\n",
      "medium  both flat and garden       795\n",
      "        garden                     317\n",
      "        flat                        97\n",
      "        Unknown History              0\n",
      "        Open Yard (Countryside)      0\n",
      "large   both flat and garden       191\n",
      "        garden                     172\n",
      "        flat                         5\n",
      "        Unknown History              0\n",
      "        Open Yard (Countryside)      0\n",
      "Name: keep_in, dtype: int64\n"
     ]
    }
   ],
   "source": [
    "# Previous code\n",
    "dogs[\"size\"]=dogs[\"size\"].cat.reorder_categories(\n",
    "  new_categories=[\"small\", \"medium\", \"large\"],\n",
    "  ordered=True,\n",
    "#   inplace=True\n",
    ")\n",
    "\n",
    "# How many Male/Female dogs are available of each size?\n",
    "print(dogs.groupby('size')['sex'].value_counts())\n",
    "\n",
    "# Do larger dogs need more room to roam?\n",
    "print(dogs.groupby('size')['keep_in'].value_counts(dropna=False))"
   ]
  },
  {
   "cell_type": "code",
   "execution_count": 155,
   "metadata": {},
   "outputs": [
    {
     "name": "stdout",
     "output_type": "stream",
     "text": [
      "male      1681\n",
      "female    1256\n",
      "Name: sex, dtype: int64\n"
     ]
    }
   ],
   "source": [
    "# Fix the misspelled word\n",
    "replace_map = {\"Malez\": \"male\"}\n",
    "\n",
    "# Update the sex column using the created map\n",
    "dogs[\"sex\"] = dogs[\"sex\"].replace(replace_map)\n",
    "\n",
    "# Strip away leading whitespace\n",
    "dogs[\"sex\"] = dogs[\"sex\"].str.strip()\n",
    "\n",
    "# Make all responses lowercase\n",
    "dogs[\"sex\"] = dogs[\"sex\"].str.lower()\n",
    "\n",
    "# Convert to a categorical Series\n",
    "dogs[\"sex\"] = dogs['sex'].astype('category')\n",
    "\n",
    "print(dogs[\"sex\"].value_counts())"
   ]
  },
  {
   "cell_type": "code",
   "execution_count": 156,
   "metadata": {},
   "outputs": [],
   "source": [
    "dogs = dogs.set_index('ID')\n",
    "dogs.coat = dogs.coat.astype('category')"
   ]
  },
  {
   "cell_type": "code",
   "execution_count": 157,
   "metadata": {},
   "outputs": [
    {
     "name": "stdout",
     "output_type": "stream",
     "text": [
      "ID\n",
      "23807    short\n",
      "Name: coat, dtype: category\n",
      "Categories (4, object): ['long', 'medium', 'short', 'wirehaired']\n"
     ]
    }
   ],
   "source": [
    "# Print the category of the coat for ID 23807\n",
    "print(dogs.loc[dogs.index==23807,'coat'])"
   ]
  },
  {
   "cell_type": "code",
   "execution_count": 158,
   "metadata": {},
   "outputs": [
    {
     "name": "stdout",
     "output_type": "stream",
     "text": [
      "male      124\n",
      "female     56\n",
      "Name: sex, dtype: int64\n"
     ]
    }
   ],
   "source": [
    "# Find the count of male and female dogs who have a \"long\" coat\n",
    "print(dogs.loc[dogs['coat']=='long', 'sex'].value_counts())"
   ]
  },
  {
   "cell_type": "code",
   "execution_count": 159,
   "metadata": {},
   "outputs": [
    {
     "name": "stdout",
     "output_type": "stream",
     "text": [
      "8.186153846153847\n"
     ]
    }
   ],
   "source": [
    "# Print the mean age of dogs with a breed of \"English Cocker Spaniel\"\n",
    "print(dogs.loc[dogs['breed']==\"English Cocker Spaniel\", 'age'].mean())"
   ]
  },
  {
   "cell_type": "code",
   "execution_count": 160,
   "metadata": {},
   "outputs": [
    {
     "name": "stdout",
     "output_type": "stream",
     "text": [
      "35\n"
     ]
    }
   ],
   "source": [
    "# Count the number of dogs that have \"English\" in their breed name\n",
    "print(dogs[dogs[\"breed\"].str.contains('English', regex=False)].shape[0])"
   ]
  }
 ],
 "metadata": {
  "kernelspec": {
   "display_name": "Python 3",
   "language": "python",
   "name": "python3"
  },
  "language_info": {
   "codemirror_mode": {
    "name": "ipython",
    "version": 3
   },
   "file_extension": ".py",
   "mimetype": "text/x-python",
   "name": "python",
   "nbconvert_exporter": "python",
   "pygments_lexer": "ipython3",
   "version": "3.10.5"
  },
  "orig_nbformat": 4
 },
 "nbformat": 4,
 "nbformat_minor": 2
}
