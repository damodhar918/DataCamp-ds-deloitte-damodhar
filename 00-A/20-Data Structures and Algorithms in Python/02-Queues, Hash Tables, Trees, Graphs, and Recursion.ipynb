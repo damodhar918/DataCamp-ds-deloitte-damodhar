{
 "cells": [
  {
   "cell_type": "code",
   "execution_count": 7,
   "metadata": {},
   "outputs": [],
   "source": [
    "class Queue:\n",
    "    def __init__(self):\n",
    "        self.queue = []\n",
    "\n",
    "    def enqueue(self, item):\n",
    "        self.queue.append(item)\n",
    "\n",
    "    def dequeue(self):\n",
    "        if self.is_empty():\n",
    "            return None\n",
    "        return self.queue.pop(0)\n",
    "\n",
    "    def is_empty(self):\n",
    "        return len(self.queue) == 0\n",
    "class PrinterTasks:\n",
    "  def __init__(self):\n",
    "    self.queue = Queue()\n",
    "\n",
    "  def add_document(self, document):\n",
    "    # Add the document to the queue\n",
    "    self.queue.enqueue(document)\n",
    "\n",
    "  def print_documents(self):\n",
    "    # Iterate over the queue while it has elements\n",
    "    while self.queue.has_elements():\n",
    "      # Remove the document from the queue\n",
    "      print(\"Printing\", self.queue.dequeue())"
   ]
  },
  {
   "cell_type": "code",
   "execution_count": 8,
   "metadata": {},
   "outputs": [
    {
     "ename": "AttributeError",
     "evalue": "'Queue' object has no attribute 'has_elements'",
     "output_type": "error",
     "traceback": [
      "\u001b[1;31m---------------------------------------------------------------------------\u001b[0m",
      "\u001b[1;31mAttributeError\u001b[0m                            Traceback (most recent call last)",
      "\u001b[1;32mC:\\Users\\JDAMOD~1\\AppData\\Local\\Temp/ipykernel_110680/1838985545.py\u001b[0m in \u001b[0;36m<module>\u001b[1;34m\u001b[0m\n\u001b[0;32m      7\u001b[0m \u001b[1;33m\u001b[0m\u001b[0m\n\u001b[0;32m      8\u001b[0m \u001b[1;31m# Print all the documents in the queue\u001b[0m\u001b[1;33m\u001b[0m\u001b[1;33m\u001b[0m\u001b[0m\n\u001b[1;32m----> 9\u001b[1;33m \u001b[0mprinter_tasks\u001b[0m\u001b[1;33m.\u001b[0m\u001b[0mprint_documents\u001b[0m\u001b[1;33m(\u001b[0m\u001b[1;33m)\u001b[0m\u001b[1;33m\u001b[0m\u001b[1;33m\u001b[0m\u001b[0m\n\u001b[0m",
      "\u001b[1;32mC:\\Users\\JDAMOD~1\\AppData\\Local\\Temp/ipykernel_110680/250664572.py\u001b[0m in \u001b[0;36mprint_documents\u001b[1;34m(self)\u001b[0m\n\u001b[0;32m     23\u001b[0m   \u001b[1;32mdef\u001b[0m \u001b[0mprint_documents\u001b[0m\u001b[1;33m(\u001b[0m\u001b[0mself\u001b[0m\u001b[1;33m)\u001b[0m\u001b[1;33m:\u001b[0m\u001b[1;33m\u001b[0m\u001b[1;33m\u001b[0m\u001b[0m\n\u001b[0;32m     24\u001b[0m     \u001b[1;31m# Iterate over the queue while it has elements\u001b[0m\u001b[1;33m\u001b[0m\u001b[1;33m\u001b[0m\u001b[0m\n\u001b[1;32m---> 25\u001b[1;33m     \u001b[1;32mwhile\u001b[0m \u001b[0mself\u001b[0m\u001b[1;33m.\u001b[0m\u001b[0mqueue\u001b[0m\u001b[1;33m.\u001b[0m\u001b[0mhas_elements\u001b[0m\u001b[1;33m(\u001b[0m\u001b[1;33m)\u001b[0m\u001b[1;33m:\u001b[0m\u001b[1;33m\u001b[0m\u001b[1;33m\u001b[0m\u001b[0m\n\u001b[0m\u001b[0;32m     26\u001b[0m       \u001b[1;31m# Remove the document from the queue\u001b[0m\u001b[1;33m\u001b[0m\u001b[1;33m\u001b[0m\u001b[0m\n\u001b[0;32m     27\u001b[0m       \u001b[0mprint\u001b[0m\u001b[1;33m(\u001b[0m\u001b[1;34m\"Printing\"\u001b[0m\u001b[1;33m,\u001b[0m \u001b[0mself\u001b[0m\u001b[1;33m.\u001b[0m\u001b[0mqueue\u001b[0m\u001b[1;33m.\u001b[0m\u001b[0mdequeue\u001b[0m\u001b[1;33m(\u001b[0m\u001b[1;33m)\u001b[0m\u001b[1;33m)\u001b[0m\u001b[1;33m\u001b[0m\u001b[1;33m\u001b[0m\u001b[0m\n",
      "\u001b[1;31mAttributeError\u001b[0m: 'Queue' object has no attribute 'has_elements'"
     ]
    }
   ],
   "source": [
    "printer_tasks = PrinterTasks()\n",
    "\n",
    "# Add some documents to print\n",
    "printer_tasks.add_document(\"Document 1\")\n",
    "printer_tasks.add_document(\"Document 2\")\n",
    "printer_tasks.add_document(\"Document 3\")\n",
    "\n",
    "# Print all the documents in the queue\n",
    "printer_tasks.print_documents()"
   ]
  },
  {
   "cell_type": "code",
   "execution_count": 10,
   "metadata": {},
   "outputs": [
    {
     "name": "stdout",
     "output_type": "stream",
     "text": [
      "Printing Document 1\n",
      "Printing Document 2\n",
      "Printing Document 3\n"
     ]
    }
   ],
   "source": [
    "\n",
    "class Queue:\n",
    "    def __init__(self):\n",
    "        self.queue = []\n",
    "\n",
    "    def enqueue(self, item):\n",
    "        self.queue.append(item)\n",
    "\n",
    "    def dequeue(self):\n",
    "        if self.is_empty():\n",
    "            return None\n",
    "        return self.queue.pop(0)\n",
    "\n",
    "    def is_empty(self):\n",
    "        return len(self.queue) == 0\n",
    "\n",
    "class PrinterTasks:\n",
    "    def __init__(self):\n",
    "        self.queue = Queue()\n",
    "\n",
    "    def add_document(self, document):\n",
    "        # Add the document to the queue\n",
    "        self.queue.enqueue(document)\n",
    "\n",
    "    def print_documents(self):\n",
    "        # Iterate over the queue while it has elements\n",
    "        while not self.queue.is_empty():\n",
    "            # Remove the document from the queue\n",
    "            print(\"Printing\", self.queue.dequeue())\n",
    "\n",
    "printer_tasks = PrinterTasks()\n",
    "\n",
    "# Add some documents to print\n",
    "printer_tasks.add_document(\"Document 1\")\n",
    "printer_tasks.add_document(\"Document 2\")\n",
    "printer_tasks.add_document(\"Document 3\")\n",
    "\n",
    "# Print all the documents in the queue\n",
    "printer_tasks.print_documents()"
   ]
  },
  {
   "cell_type": "code",
   "execution_count": 11,
   "metadata": {},
   "outputs": [
    {
     "data": {
      "text/plain": [
       "'samosas'"
      ]
     },
     "execution_count": 11,
     "metadata": {},
     "output_type": "execute_result"
    }
   ],
   "source": [
    "import queue\n",
    "\n",
    "# Create the queue\n",
    "my_orders_queue = queue.SimpleQueue()\n",
    "\n",
    "# Add an element to the queue\n",
    "my_orders_queue.put(\"samosas\")\n",
    "\n",
    "# Remove an element from the queue\n",
    "my_orders_queue.get()"
   ]
  },
  {
   "cell_type": "code",
   "execution_count": 12,
   "metadata": {},
   "outputs": [
    {
     "name": "stdout",
     "output_type": "stream",
     "text": [
      "Sushi is best served cold.\n",
      "Paella is best served hot.\n",
      "Samosa is best served hot.\n",
      "Gazpacho is best served cold.\n"
     ]
    }
   ],
   "source": [
    "my_menu = {\n",
    "  'sushi' : {\n",
    "    'price' : 19.25,\n",
    "    'best_served' : 'cold'\n",
    "  },\n",
    "  'paella' : {\n",
    "    'price' : 15,\n",
    "    'best_served' : 'hot'\n",
    "  },\n",
    "  'samosa' : {\n",
    "    'price' : 14,\n",
    "    'best_served' : 'hot'\n",
    "  },\n",
    "  'gazpacho' : {\n",
    "    'price' : 8,\n",
    "    'best_served' : 'cold'\n",
    "  }\n",
    "}\n",
    "\n",
    "# Iterate the elements of the menu\n",
    "for dish, values in my_menu.items():\n",
    "  # Print whether the dish must be served cold or hot\n",
    "  print(f\"{dish.title()} is best served {values['best_served']}.\")"
   ]
  },
  {
   "cell_type": "code",
   "execution_count": 13,
   "metadata": {},
   "outputs": [],
   "source": [
    "class TreeNode:\n",
    "  \n",
    "  def __init__(self, data, left=None, right=None):\n",
    "    # Correct the mistakes\n",
    "    self.data = data\n",
    "    self.left_child = left\n",
    "    self.right_child = right\n",
    "\n",
    "node1 = TreeNode(\"B\")\n",
    "node2 = TreeNode(\"C\")\n",
    "# Correct the mistake\n",
    "root_node = TreeNode(\"A\", node1, node2)"
   ]
  },
  {
   "cell_type": "code",
   "execution_count": 14,
   "metadata": {},
   "outputs": [],
   "source": [
    "class WeightedGraph:\n",
    "  def __init__(self):\n",
    "    self.vertices = {}\n",
    "  \n",
    "  def add_vertex(self, vertex):\n",
    "    self.vertices[vertex] = []\n",
    "    \n",
    "  def add_edge(self, source, target, weight):\n",
    "    self.vertices[source].append([target, weight])    # If weighted graph is undirected"
   ]
  },
  {
   "cell_type": "code",
   "execution_count": 15,
   "metadata": {},
   "outputs": [],
   "source": [
    "my_graph = WeightedGraph()\n",
    "\n",
    "# Create the vertices\n",
    "my_graph.add_vertex('Paris')\n",
    "my_graph.add_vertex('Toulouse')\n",
    "my_graph.add_vertex('Biarritz')\n",
    "\n",
    "# Create the edges\n",
    "my_graph.add_edge('Paris', 'Toulouse', 678)\n",
    "my_graph.add_edge('Toulouse', 'Biarritz', 312)\n",
    "my_graph.add_edge('Biarritz', 'Paris', 783)"
   ]
  },
  {
   "cell_type": "code",
   "execution_count": 16,
   "metadata": {},
   "outputs": [
    {
     "name": "stdout",
     "output_type": "stream",
     "text": [
      "21\n"
     ]
    }
   ],
   "source": [
    "def fibonacci(n):\n",
    "  # Define the base case\n",
    "  if n <= 1:\n",
    "    return n\n",
    "  else:\n",
    "    # Call recursively to fibonacci\n",
    "    return fibonacci(n-1) + n\n",
    "    \n",
    "print(fibonacci(6))"
   ]
  },
  {
   "cell_type": "code",
   "execution_count": 17,
   "metadata": {},
   "outputs": [
    {
     "name": "stdout",
     "output_type": "stream",
     "text": [
      "8\n"
     ]
    }
   ],
   "source": [
    "cache = [None]*(100)\n",
    "\n",
    "def fibonacci(n): \n",
    "    if n <= 1:\n",
    "        return n\n",
    "    \n",
    "    # Check if the value exists\n",
    "    if not cache[n]:\n",
    "        # Save the result in cache\n",
    "        cache[n] = fibonacci(n-1) + fibonacci(n-2)\n",
    "\n",
    "    return cache[n]\n",
    "\n",
    "print(fibonacci(6))"
   ]
  },
  {
   "cell_type": "code",
   "execution_count": 18,
   "metadata": {},
   "outputs": [
    {
     "name": "stdout",
     "output_type": "stream",
     "text": [
      "Moving disk 1 from rod A to rod B\n",
      "Moving disk 2 from rod A to rod C\n",
      "Moving disk 1 from rod A to rod C\n",
      "Moving disk 1 from rod B to rod C\n",
      "Moving disk 3 from rod A to rod B\n",
      "Moving disk 1 from rod A to rod B\n",
      "Moving disk 1 from rod C to rod A\n",
      "Moving disk 2 from rod C to rod B\n",
      "Moving disk 1 from rod C to rod B\n",
      "Moving disk 1 from rod A to rod B\n",
      "Moving disk 4 from rod A to rod C\n",
      "Moving disk 1 from rod A to rod C\n",
      "Moving disk 1 from rod B to rod C\n",
      "Moving disk 2 from rod B to rod A\n",
      "Moving disk 1 from rod B to rod A\n",
      "Moving disk 1 from rod C to rod A\n",
      "Moving disk 3 from rod B to rod C\n",
      "Moving disk 1 from rod B to rod C\n",
      "Moving disk 1 from rod A to rod B\n",
      "Moving disk 2 from rod A to rod C\n",
      "Moving disk 1 from rod A to rod C\n",
      "Moving disk 1 from rod B to rod C\n"
     ]
    }
   ],
   "source": [
    "def hanoi(num_disks, from_rod, to_rod, aux_rod):\n",
    "  if num_disks == 1:\n",
    "    print(\"Moving disk\", num_disks, \"from rod\", from_rod, \"to rod\", to_rod)\n",
    "    return\n",
    "  hanoi(num_disks-1, from_rod, aux_rod, to_rod)\n",
    "  print(\"Moving disk\", num_disks, \"from rod\", from_rod, \"to rod\", to_rod)\n",
    "  hanoi(1, from_rod, to_rod, aux_rod)\n",
    "  hanoi(num_disks-1, aux_rod, to_rod, from_rod) \n",
    "\n",
    "num_disks = 4\n",
    "source_rod = 'A'\n",
    "auxiliar_rod = 'B'\n",
    "target_rod = 'C'\n",
    "\n",
    "hanoi(num_disks, source_rod, target_rod, auxiliar_rod)"
   ]
  }
 ],
 "metadata": {
  "kernelspec": {
   "display_name": "Python 3",
   "language": "python",
   "name": "python3"
  },
  "language_info": {
   "codemirror_mode": {
    "name": "ipython",
    "version": 3
   },
   "file_extension": ".py",
   "mimetype": "text/x-python",
   "name": "python",
   "nbconvert_exporter": "python",
   "pygments_lexer": "ipython3",
   "version": "3.10.5"
  },
  "orig_nbformat": 4
 },
 "nbformat": 4,
 "nbformat_minor": 2
}
