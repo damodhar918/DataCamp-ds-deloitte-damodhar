{
 "cells": [
  {
   "cell_type": "code",
   "execution_count": 1,
   "metadata": {},
   "outputs": [
    {
     "name": "stdout",
     "output_type": "stream",
     "text": [
      "[1, 2, 4, 5, 7, 9]\n"
     ]
    }
   ],
   "source": [
    "def bubble_sort(my_list):\n",
    "  list_length = len(my_list)\n",
    "  is_sorted = False  # corrected\n",
    "  while not is_sorted:\n",
    "    is_sorted = True\n",
    "    for i in range(list_length-1):\n",
    "      if my_list[i] > my_list[i+1]:  # corrected\n",
    "        my_list[i] , my_list[i+1] = my_list[i+1] , my_list[i]\n",
    "        is_sorted = False\n",
    "    list_length -= 1  # corrected\n",
    "  return my_list\n",
    "\n",
    "print(bubble_sort([5, 7, 9, 1, 4, 2]))  # output should be [1, 2, 4, 5, 7, 9]"
   ]
  },
  {
   "cell_type": "code",
   "execution_count": 2,
   "metadata": {},
   "outputs": [
    {
     "name": "stdout",
     "output_type": "stream",
     "text": [
      "[2, 4, 6, 7, 8, 9]\n"
     ]
    }
   ],
   "source": [
    "def selection_sort(my_list):\n",
    "  list_length = len(my_list)\n",
    "  for i in range(list_length - 1):\n",
    "    # Set lowest to the element of the list located at index i\n",
    "    lowest = my_list[i]\n",
    "    index = i\n",
    "    # Iterate again over the list starting on the next position of the i variable\n",
    "    for j in range(i+1, list_length):\n",
    "      # Compare whether the element of the list located at index j is smaller than lowest\n",
    "      if my_list[j] < lowest:\n",
    "        index = j\n",
    "        lowest = my_list[j]\n",
    "    my_list[i], my_list[index] = my_list[index], my_list[i]\n",
    "  return my_list\n",
    "\n",
    "my_list = [6, 2, 9, 7, 4, 8]\n",
    "selection_sort(my_list)\n",
    "print(my_list)"
   ]
  },
  {
   "cell_type": "code",
   "execution_count": 3,
   "metadata": {},
   "outputs": [
    {
     "name": "stdout",
     "output_type": "stream",
     "text": [
      "[1, 4, 20, 22, 30, 35, 40, 50, 90]\n"
     ]
    }
   ],
   "source": [
    "\n",
    "def merge_sort(my_list):\n",
    "    if len(my_list) > 1:\n",
    "        mid = len(my_list)//2\n",
    "        left_half = my_list[:mid]\n",
    "        right_half = my_list[mid:]\n",
    "\n",
    "        merge_sort(left_half)\n",
    "        merge_sort(right_half)\n",
    "\n",
    "        i = j = k = 0\n",
    "\n",
    "        while i < len(left_half) and j < len(right_half):\n",
    "            if left_half[i] < right_half[j]:\n",
    "                my_list[k] = left_half[i]            # fix: assign left_half[i] instead of right_half[i]\n",
    "                i += 1\n",
    "            else:\n",
    "                my_list[k] = right_half[j]\n",
    "                j += 1\n",
    "            k += 1\n",
    "\n",
    "        while i < len(left_half):\n",
    "            my_list[k] = left_half[i]\n",
    "            i += 1                                # fix: update i instead of j\n",
    "            k += 1\n",
    "\n",
    "        while j < len(right_half):\n",
    "            my_list[k] = right_half[j]\n",
    "            j += 1                                # fix: update j instead of i\n",
    "            k += 1\n",
    "\n",
    "\n",
    "my_list = [35, 22, 90, 4, 50, 20, 30, 40, 1]\n",
    "merge_sort(my_list)\n",
    "print(my_list)\n",
    "\n"
   ]
  },
  {
   "cell_type": "code",
   "execution_count": 5,
   "metadata": {},
   "outputs": [],
   "source": [
    "def partition(my_list, first_index, last_index):\n",
    "  pivot = my_list[first_index]\n",
    "  left_pointer = first_index + 1\n",
    "  right_pointer = last_index\n",
    " \n",
    "  while True:\n",
    "    # Iterate until the value pointed by left_pointer is greater than pivot or left_pointer is greater than last_index\n",
    "    while my_list[left_pointer] < pivot and left_pointer < last_index:\n",
    "      left_pointer += 1\n",
    "      \n",
    "    while my_list[right_pointer] > pivot and right_pointer >= first_index:\n",
    "      right_pointer -= 1 \n",
    "    \n",
    "    if left_pointer >= right_pointer:\n",
    "        break\n",
    "      # Swap the values for the elements located at the left_pointer and right_pointer\n",
    "    my_list[left_pointer], my_list[right_pointer] = my_list[right_pointer], my_list[left_pointer]\n",
    "  \n",
    "  my_list[first_index], my_list[right_pointer] = my_list[right_pointer], my_list[first_index]\n",
    "  return right_pointer"
   ]
  },
  {
   "cell_type": "code",
   "execution_count": 6,
   "metadata": {},
   "outputs": [
    {
     "name": "stdout",
     "output_type": "stream",
     "text": [
      "[2, 6, 7, 9]\n"
     ]
    }
   ],
   "source": [
    "def quicksort(my_list, first_index, last_index):\n",
    "  if first_index < last_index:\n",
    "    # Call the partition() function with the appropriate parameters\n",
    "    partition_index = partition(my_list, first_index, last_index)\n",
    "    # Call quicksort() on the elements to the left of the partition\n",
    "    quicksort(my_list, first_index, partition_index)\n",
    "    quicksort(my_list, partition_index + 1, last_index) \n",
    "    \n",
    "my_list = [6, 2, 9, 7] \n",
    "quicksort(my_list, 0, len(my_list) - 1)\n",
    "print(my_list)"
   ]
  },
  {
   "cell_type": "code",
   "execution_count": null,
   "metadata": {},
   "outputs": [],
   "source": []
  }
 ],
 "metadata": {
  "kernelspec": {
   "display_name": "Python 3",
   "language": "python",
   "name": "python3"
  },
  "language_info": {
   "codemirror_mode": {
    "name": "ipython",
    "version": 3
   },
   "file_extension": ".py",
   "mimetype": "text/x-python",
   "name": "python",
   "nbconvert_exporter": "python",
   "pygments_lexer": "ipython3",
   "version": "3.10.5"
  },
  "orig_nbformat": 4
 },
 "nbformat": 4,
 "nbformat_minor": 2
}
