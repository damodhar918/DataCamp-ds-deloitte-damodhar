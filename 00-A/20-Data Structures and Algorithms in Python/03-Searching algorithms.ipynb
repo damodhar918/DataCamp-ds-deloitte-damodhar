{
 "cells": [
  {
   "cell_type": "code",
   "execution_count": 1,
   "metadata": {},
   "outputs": [
    {
     "name": "stdout",
     "output_type": "stream",
     "text": [
      "True\n"
     ]
    }
   ],
   "source": [
    "def binary_search(ordered_list, search_value):\n",
    "  first = 0\n",
    "  last = len(ordered_list) - 1\n",
    "  \n",
    "  while first <= last:\n",
    "    middle = (first + last)//2\n",
    "    # Check whether the search value equals the value in the middle\n",
    "    if search_value == ordered_list[middle]:\n",
    "      return True\n",
    "    # Check whether the search value is smaller than the value in the middle\n",
    "    elif search_value < ordered_list[middle]:\n",
    "      # Set last to the value of middle minus one\n",
    "      last = middle - 1\n",
    "    else:\n",
    "      first = middle + 1\n",
    "  return False\n",
    "  \n",
    "print(binary_search([1,5,8,9,15,20,70,72], 5)) # Outputs: True"
   ]
  },
  {
   "cell_type": "code",
   "execution_count": 2,
   "metadata": {},
   "outputs": [
    {
     "name": "stdout",
     "output_type": "stream",
     "text": [
      "True\n"
     ]
    }
   ],
   "source": [
    "def binary_search_recursive(ordered_list, search_value):\n",
    "    # Define the base case\n",
    "    if len(ordered_list) == 0:\n",
    "        return False\n",
    "    else:\n",
    "        middle = len(ordered_list)//2\n",
    "        # Check whether the search value equals the value in the middle\n",
    "        if search_value == ordered_list[middle]:\n",
    "            return True\n",
    "        elif search_value < ordered_list[middle]:\n",
    "            # Call recursively with the left half of the list\n",
    "            return binary_search_recursive(ordered_list[:middle], search_value)\n",
    "        else:\n",
    "            # Call recursively with the right half of the list\n",
    "            return binary_search_recursive(ordered_list[middle+1:], search_value)\n",
    "\n",
    "print(binary_search_recursive([1,5,8,9,15,20,70,72], 5))"
   ]
  },
  {
   "cell_type": "code",
   "execution_count": 5,
   "metadata": {},
   "outputs": [
    {
     "name": "stdout",
     "output_type": "stream",
     "text": [
      "True\n"
     ]
    }
   ],
   "source": [
    "# Here's the corrected code:\n",
    "\n",
    "class TreeNode:\n",
    "    def __init__(self, data, left_child=None, right_child=None):\n",
    "        self.data = data\n",
    "        self.left_child = left_child\n",
    "        self.right_child = right_child\n",
    "class BinarySearchTree:\n",
    "    def __init__(self):\n",
    "        self.root = None\n",
    "\n",
    "    def insert(self, data):\n",
    "        new_node = TreeNode(data)\n",
    "        # Check if the BST is empty\n",
    "        if self.root == None:\n",
    "            self.root = new_node\n",
    "            return\n",
    "        else:\n",
    "            current_node = self.root\n",
    "            while True:\n",
    "                # Check if the data to insert is smaller than the current node's data\n",
    "                if data < current_node.data:\n",
    "                    if current_node.left_child == None:\n",
    "                        current_node.left_child = new_node\n",
    "                        return \n",
    "                    else:\n",
    "                        current_node = current_node.left_child\n",
    "                # Check if the data to insert is greater than the current node's data\n",
    "                elif data > current_node.data:\n",
    "                    if current_node.right_child == None:\n",
    "                        current_node.right_child = new_node\n",
    "                        return\n",
    "                    else:\n",
    "                        current_node = current_node.right_child\n",
    "def CreateTree():\n",
    "  dracula = TreeNode(\"Dracula\")\n",
    "  jane = TreeNode(\"Jane Eyre\")\n",
    "  moby = TreeNode(\"Moby Dick\")\n",
    "  vanity = TreeNode(\"Vanity\")\n",
    "  heidi = TreeNode(\"Heidi\", dracula, jane)\n",
    "  oliver = TreeNode(\"Oliver Twist\", moby, vanity)\n",
    "  root_node = TreeNode(\"Little women\", heidi, oliver)\n",
    "  bst = BinarySearchTree()\n",
    "  bst.root = root_node\n",
    "  return bst\n",
    "def search(bst, search_value):\n",
    "    current_node = bst.root\n",
    "    while current_node:\n",
    "      if search_value == current_node.data:\n",
    "        return True\n",
    "      elif search_value < current_node.data:\n",
    "        current_node = current_node.left_child\n",
    "      else:\n",
    "        current_node = current_node.right_child\n",
    "    return False\n",
    "bst = CreateTree()\n",
    "bst.insert(\"Pride and Prejudice\")\n",
    "print(search(bst, \"Pride and Prejudice\"))"
   ]
  },
  {
   "cell_type": "code",
   "execution_count": 6,
   "metadata": {},
   "outputs": [
    {
     "name": "stdout",
     "output_type": "stream",
     "text": [
      "Dracula\n"
     ]
    }
   ],
   "source": [
    "class BinarySearchTree:\n",
    "    def __init__(self):\n",
    "        self.root = None\n",
    "\n",
    "    def find_min(self):\n",
    "        # Set current_node as the root\n",
    "        current_node = self.root\n",
    "        # Iterate over the nodes of the appropriate subtree\n",
    "        while current_node.left_child :\n",
    "            # Update current_node\n",
    "            current_node = current_node.left_child\n",
    "        return current_node.data\n",
    "  \n",
    "bst = CreateTree()\n",
    "print(bst.find_min())"
   ]
  },
  {
   "cell_type": "code",
   "execution_count": 7,
   "metadata": {},
   "outputs": [
    {
     "name": "stdout",
     "output_type": "stream",
     "text": [
      "Dracula\n",
      "Heidi\n",
      "Jane Eyre\n",
      "Little women\n",
      "Moby Dick\n",
      "Oliver Twist\n",
      "Vanity\n"
     ]
    }
   ],
   "source": [
    "class BinarySearchTree:\n",
    "    def __init__(self):\n",
    "        self.root = None\n",
    "        \n",
    "    def in_order(self, current_node):\n",
    "        if current_node:\n",
    "            self.in_order(current_node.left_child) # Print the value of the current_node \n",
    "            print(current_node.data) # Call recursively with the appropriate half of the tree \n",
    "            self.in_order(current_node.right_child)\n",
    "\n",
    "\n",
    "bst = CreateTree()\n",
    "bst.in_order(bst.root)"
   ]
  },
  {
   "cell_type": "code",
   "execution_count": 8,
   "metadata": {},
   "outputs": [],
   "source": [
    "import queue\n",
    "\n",
    "class ExpressionTree:\n",
    "  def __init__(self):\n",
    "    self.root = None\n",
    "\n",
    "  def pre_order(self, current_node):\n",
    "    # Check if current_node exists\n",
    "    if current_node:\n",
    "      # Print the value of the current_node\n",
    "      print(current_node.data)\n",
    "      # Call pre_order recursively on the appropriate half of the tree\n",
    "      self.pre_order(current_node.left_child)\n",
    "      self.pre_order(current_node.right_child)\n",
    "          \n",
    "\n",
    "et = ExpressionTree()\n",
    "et.pre_order(et.root)"
   ]
  },
  {
   "cell_type": "code",
   "execution_count": 9,
   "metadata": {},
   "outputs": [
    {
     "name": "stdout",
     "output_type": "stream",
     "text": [
      "0\n",
      "1\n",
      "2\n",
      "4\n",
      "3\n"
     ]
    }
   ],
   "source": [
    "def dfs(visited_vertices, graph, current_vertex):\n",
    "    # Check if current_vertex hasn't been visited yet\n",
    "    if current_vertex not in visited_vertices:\n",
    "        print(current_vertex)\n",
    "        # Add current_vertex to visited_vertices\n",
    "        visited_vertices.add(current_vertex)\n",
    "        for adjacent_vertex in graph[current_vertex]:\n",
    "            # Call recursively with the appropriate values\n",
    "            dfs(visited_vertices, graph, adjacent_vertex)\n",
    "graph = {\n",
    "  '0' : ['1','2'],\n",
    "  '1' : ['0', '2', '3'],\n",
    "  '2' : ['0', '1', '4'],\n",
    "  '3' : ['1', '4'],\n",
    "  '4' : ['2', '3']\n",
    "  \n",
    "}      \n",
    "dfs(set(), graph, '0')"
   ]
  },
  {
   "cell_type": "code",
   "execution_count": 10,
   "metadata": {},
   "outputs": [
    {
     "name": "stdout",
     "output_type": "stream",
     "text": [
      "True\n"
     ]
    }
   ],
   "source": [
    "import queue\n",
    "\n",
    "\n",
    "\n",
    "def bfs(graph, initial_vertex, search_value):\n",
    "    visited_vertices = []\n",
    "    bfs_queue = queue.SimpleQueue()\n",
    "    visited_vertices.append(initial_vertex)\n",
    "    bfs_queue.put(initial_vertex)\n",
    "\n",
    "    while not bfs_queue.empty():\n",
    "        current_vertex = bfs_queue.get()\n",
    "        # Check if you found the search value\n",
    "        if current_vertex == search_value:\n",
    "            # Return True if you find the search value  \n",
    "            return True  \n",
    "        for adjacent_vertex in graph[current_vertex]:\n",
    "            # Check if the adjacent vertex has been visited\n",
    "            if adjacent_vertex not in visited_vertices:\n",
    "                visited_vertices.append(adjacent_vertex)\n",
    "                bfs_queue.put(adjacent_vertex)\n",
    "    # Return False if you didn't find the search value\n",
    "    return False\n",
    "graph = {\n",
    "  '4' : ['6','7'],\n",
    "  '6' : ['4', '7', '8'],\n",
    "  '7' : ['4', '6', '9'],\n",
    "  '8' : ['6', '9'],\n",
    "  '9' : ['7', '8']\n",
    "  \n",
    "}\n",
    "print(bfs(graph, '4', '8'))"
   ]
  }
 ],
 "metadata": {
  "kernelspec": {
   "display_name": "Python 3",
   "language": "python",
   "name": "python3"
  },
  "language_info": {
   "codemirror_mode": {
    "name": "ipython",
    "version": 3
   },
   "file_extension": ".py",
   "mimetype": "text/x-python",
   "name": "python",
   "nbconvert_exporter": "python",
   "pygments_lexer": "ipython3",
   "version": "3.10.5"
  },
  "orig_nbformat": 4
 },
 "nbformat": 4,
 "nbformat_minor": 2
}
