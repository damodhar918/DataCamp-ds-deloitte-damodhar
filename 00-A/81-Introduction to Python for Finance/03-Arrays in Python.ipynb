{
 "cells": [
  {
   "cell_type": "code",
   "execution_count": 1,
   "metadata": {},
   "outputs": [
    {
     "name": "stdout",
     "output_type": "stream",
     "text": [
      "[170.12  93.29  55.28 145.3  171.81  59.5  100.5 ]\n",
      "[ 9.2   5.31  2.41  5.91 15.42  2.51  6.79]\n"
     ]
    }
   ],
   "source": [
    "import numpy as np\n",
    "\n",
    "# Lists\n",
    "prices = [170.12, 93.29, 55.28, 145.30, 171.81, 59.50, 100.50]\n",
    "earnings = [9.2, 5.31, 2.41, 5.91, 15.42, 2.51, 6.79]\n",
    "\n",
    "# NumPy arrays\n",
    "prices_array = np.array(prices)\n",
    "earnings_array = np.array(earnings)\n",
    "\n",
    "# Print the arrays\n",
    "print(prices_array)\n",
    "print(earnings_array)"
   ]
  },
  {
   "cell_type": "code",
   "execution_count": 2,
   "metadata": {},
   "outputs": [
    {
     "name": "stdout",
     "output_type": "stream",
     "text": [
      "[18.49130435 17.56873823 22.93775934 24.58544839 11.14202335 23.70517928\n",
      " 14.8011782 ]\n"
     ]
    }
   ],
   "source": [
    "# Import numpy as np\n",
    "import numpy as np\n",
    "\n",
    "# Create PE ratio array\n",
    "pe_array = prices_array/earnings_array\n",
    "\n",
    "# Print pe_array\n",
    "print(pe_array)"
   ]
  },
  {
   "cell_type": "code",
   "execution_count": 4,
   "metadata": {},
   "outputs": [
    {
     "name": "stdout",
     "output_type": "stream",
     "text": [
      "[170.12  93.29  55.28]\n"
     ]
    }
   ],
   "source": [
    "# Subset the first three elements\n",
    "prices_subset_1 = prices_array[:3]\n",
    "print(prices_subset_1)"
   ]
  },
  {
   "cell_type": "code",
   "execution_count": 5,
   "metadata": {},
   "outputs": [
    {
     "name": "stdout",
     "output_type": "stream",
     "text": [
      "[171.81  59.5  100.5 ]\n"
     ]
    }
   ],
   "source": [
    "# Subset last three elements \n",
    "prices_subset_2 = prices_array[-3:]\n",
    "print(prices_subset_2)"
   ]
  },
  {
   "cell_type": "code",
   "execution_count": 3,
   "metadata": {},
   "outputs": [
    {
     "name": "stdout",
     "output_type": "stream",
     "text": [
      "[170.12 145.3  100.5 ]\n"
     ]
    }
   ],
   "source": [
    "# Subset every third element\n",
    "prices_subset_3 = prices_array[0:7:3]\n",
    "print(prices_subset_3)"
   ]
  },
  {
   "cell_type": "code",
   "execution_count": 6,
   "metadata": {},
   "outputs": [
    {
     "name": "stdout",
     "output_type": "stream",
     "text": [
      "[[170.12  93.29  55.28 145.3  171.81  59.5  100.5 ]\n",
      " [  9.2    5.31   2.41   5.91  15.42   2.51   6.79]]\n",
      "(2, 7)\n",
      "14\n"
     ]
    }
   ],
   "source": [
    "stock_array = np.array([prices, earnings]) \n",
    "print(stock_array) \n",
    "\n",
    "# Print the shape of stock_array \n",
    "print(stock_array.shape) \n",
    "\n",
    "# Print the size of stock_array \n",
    "print(stock_array.size) "
   ]
  },
  {
   "cell_type": "code",
   "execution_count": 7,
   "metadata": {},
   "outputs": [
    {
     "name": "stdout",
     "output_type": "stream",
     "text": [
      "[[170.12   9.2 ]\n",
      " [ 93.29   5.31]\n",
      " [ 55.28   2.41]\n",
      " [145.3    5.91]\n",
      " [171.81  15.42]\n",
      " [ 59.5    2.51]\n",
      " [100.5    6.79]]\n",
      "(7, 2)\n",
      "14\n"
     ]
    }
   ],
   "source": [
    "# Create 2D array\n",
    "stock_array = np.array([prices, earnings])\n",
    "\n",
    "# Transpose stock_array\n",
    "stock_array_transposed = stock_array.T\n",
    "print(stock_array_transposed)\n",
    "\n",
    "# Print the shape of stock_array\n",
    "print(stock_array_transposed.shape)\n",
    "\n",
    "# Print the size of stock_array\n",
    "print(stock_array_transposed.size)"
   ]
  },
  {
   "cell_type": "code",
   "execution_count": 8,
   "metadata": {},
   "outputs": [
    {
     "name": "stdout",
     "output_type": "stream",
     "text": [
      "[170.12  93.29  55.28 145.3  171.81  59.5  100.5 ]\n"
     ]
    }
   ],
   "source": [
    "# Subset prices from stock_array_transposed\n",
    "prices = stock_array_transposed[:, 0]\n",
    "print(prices)"
   ]
  },
  {
   "cell_type": "code",
   "execution_count": 9,
   "metadata": {},
   "outputs": [
    {
     "name": "stdout",
     "output_type": "stream",
     "text": [
      "[ 9.2   5.31  2.41  5.91 15.42  2.51  6.79]\n"
     ]
    }
   ],
   "source": [
    "# Subset earnings from stock_array_transposed\n",
    "earnings = stock_array_transposed[:,1]\n",
    "print(earnings)"
   ]
  },
  {
   "cell_type": "code",
   "execution_count": 10,
   "metadata": {},
   "outputs": [
    {
     "name": "stdout",
     "output_type": "stream",
     "text": [
      "[170.12   9.2 ]\n"
     ]
    }
   ],
   "source": [
    "# Subset the price and earning for first company\n",
    "company_1 = stock_array_transposed[0]\n",
    "print(company_1)"
   ]
  },
  {
   "cell_type": "code",
   "execution_count": null,
   "metadata": {},
   "outputs": [],
   "source": []
  },
  {
   "cell_type": "code",
   "execution_count": 11,
   "metadata": {},
   "outputs": [
    {
     "name": "stdout",
     "output_type": "stream",
     "text": [
      "113.6857142857143\n"
     ]
    }
   ],
   "source": [
    "# Calculate the mean \n",
    "prices_mean = np.mean(prices)\n",
    "print(prices_mean)"
   ]
  },
  {
   "cell_type": "code",
   "execution_count": 12,
   "metadata": {},
   "outputs": [
    {
     "name": "stdout",
     "output_type": "stream",
     "text": [
      "45.51277932221513\n"
     ]
    }
   ],
   "source": [
    "# Calculate the standard deviation \n",
    "prices_std = np.std(prices)\n",
    "print(prices_std)"
   ]
  },
  {
   "cell_type": "code",
   "execution_count": 13,
   "metadata": {},
   "outputs": [
    {
     "name": "stdout",
     "output_type": "stream",
     "text": [
      "[1 2 3 4 5 6 7]\n",
      "[1 3 5 7]\n"
     ]
    }
   ],
   "source": [
    "import numpy as np\n",
    "\n",
    "# Create and print company IDs\n",
    "company_ids = np.arange(1, 8, 1)\n",
    "print(company_ids)\n",
    "\n",
    "# Use array slicing to select specific company IDs\n",
    "company_ids_odd = company_ids[::2]\n",
    "print(company_ids_odd)"
   ]
  },
  {
   "cell_type": "code",
   "execution_count": 14,
   "metadata": {},
   "outputs": [
    {
     "name": "stdout",
     "output_type": "stream",
     "text": [
      "[ True False False  True  True False False]\n",
      "[170.12 145.3  171.81]\n"
     ]
    }
   ],
   "source": [
    "# Find the mean\n",
    "price_mean = np.mean(prices)\n",
    "\n",
    "# Create boolean array\n",
    "boolean_array = prices > price_mean\n",
    "print(boolean_array)\n",
    "\n",
    "# Select prices that are greater than average\n",
    "above_avg = prices[boolean_array]\n",
    "print(above_avg)"
   ]
  },
  {
   "cell_type": "code",
   "execution_count": 17,
   "metadata": {},
   "outputs": [],
   "source": [
    "sectors = np.array()"
   ]
  },
  {
   "cell_type": "code",
   "execution_count": 19,
   "metadata": {},
   "outputs": [],
   "source": [
    "sectors = np.array([\"Technology\", \"Energy\", \"Financials\", \"Materials\", \"Consumer Discretionary\", \"Telecommunication Services\", \"Utilities\"])\n",
    "names = np.array([\"Apple\", \"Amazon\", \"JPMorgan Chase\", \"Boeing\", \"Walmart\", \"Verizon\", \"AT&T\"])"
   ]
  },
  {
   "cell_type": "code",
   "execution_count": 21,
   "metadata": {},
   "outputs": [
    {
     "name": "stdout",
     "output_type": "stream",
     "text": [
      "[False  True False False False False False]\n",
      "['Amazon']\n"
     ]
    }
   ],
   "source": [
    "# Create boolean array\n",
    "boolean_array = (sectors == 'Energy')\n",
    "print(boolean_array)\n",
    "\n",
    "# Print only health care companies\n",
    "health_care = names[boolean_array]\n",
    "print(health_care)"
   ]
  },
  {
   "cell_type": "code",
   "execution_count": null,
   "metadata": {},
   "outputs": [],
   "source": []
  },
  {
   "cell_type": "code",
   "execution_count": null,
   "metadata": {},
   "outputs": [],
   "source": []
  }
 ],
 "metadata": {
  "kernelspec": {
   "display_name": "Python 3",
   "language": "python",
   "name": "python3"
  },
  "language_info": {
   "codemirror_mode": {
    "name": "ipython",
    "version": 3
   },
   "file_extension": ".py",
   "mimetype": "text/x-python",
   "name": "python",
   "nbconvert_exporter": "python",
   "pygments_lexer": "ipython3",
   "version": "3.11.6"
  }
 },
 "nbformat": 4,
 "nbformat_minor": 2
}
