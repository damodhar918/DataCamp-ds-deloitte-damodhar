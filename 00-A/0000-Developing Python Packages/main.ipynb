{
 "cells": [
  {
   "cell_type": "code",
   "execution_count": null,
   "metadata": {},
   "outputs": [],
   "source": [
    "\"\"\"User-facing functions.\"\"\"\n",
    "# Import the check_units function\n",
    "from impyrial.utils import check_units\n",
    "from impyrial.length.core import (\n",
    "    UNITS,\n",
    "    inches_to_feet,\n",
    "    inches_to_yards,\n",
    ")\n"
   ]
  },
  {
   "cell_type": "code",
   "execution_count": null,
   "metadata": {},
   "outputs": [],
   "source": [
    "from setuptools import setup, find_packages\n",
    "\n",
    "# Add install requirements\n",
    "setup(\n",
    "    author=\"<your-name>\",\n",
    "    description=\"A package for converting imperial lengths and weights.\",\n",
    "    name=\"impyrial\",\n",
    "    packages=find_packages(include=[\"impyrial\", \"impyrial.*\"]),\n",
    "    version=\"0.1.0\",\n",
    "    install_requires=['numpy>=1.10', 'pandas'],\n",
    ")\n"
   ]
  },
  {
   "cell_type": "code",
   "execution_count": null,
   "metadata": {},
   "outputs": [],
   "source": [
    "# Run this script to install the package locally\n",
    "pip freeze > requirements.txt\n"
   ]
  },
  {
   "cell_type": "code",
   "execution_count": null,
   "metadata": {},
   "outputs": [],
   "source": [
    "# impyrial\n",
    "\n",
    "A package for converting between imperial unit lengths and weights.\n",
    "\n",
    "This package was created for the [DataCamp](https://www.datacamp.com) course \"Developing Python Packages\".\n",
    "\n",
    "### Features\n",
    "\n",
    "- Convert lengths between miles, yards, feet and inches.\n",
    "- Convert weights between hundredweight, stone, pounds and ounces.\n",
    "\n",
    "### Usage\n",
    "\n",
    "```\n",
    "import impyrial\n",
    "\n",
    "# Convert 500 miles to feet\n",
    "impyrial.length.convert_unit(500, from_unit='yd', to_unit='ft')  # returns 1500.0\n",
    "\n",
    "# Convert 100 ounces to pounds\n",
    "impyrial.weight.convert_unit(100, from_unit='oz', to_unit='lb')  # returns 6.25\n",
    "```\n"
   ]
  },
  {
   "cell_type": "code",
   "execution_count": null,
   "metadata": {},
   "outputs": [],
   "source": [
    "MANIFEST.in\n",
    "include README.md\n",
    "include LICENSE\n"
   ]
  },
  {
   "cell_type": "markdown",
   "metadata": {},
   "source": [
    "Publishing your package"
   ]
  },
  {
   "cell_type": "code",
   "execution_count": null,
   "metadata": {},
   "outputs": [],
   "source": [
    "# Run this code to complete the exercise\n",
    "python3 setup.py sdist bdist_wheel"
   ]
  },
  {
   "cell_type": "code",
   "execution_count": null,
   "metadata": {},
   "outputs": [],
   "source": [
    "# Run the following in the terminal:\n",
    "twine upload dist/*"
   ]
  },
  {
   "cell_type": "code",
   "execution_count": null,
   "metadata": {},
   "outputs": [],
   "source": [
    "# Run this to install the package locally\n",
    "pip install -e .\n"
   ]
  },
  {
   "cell_type": "code",
   "execution_count": null,
   "metadata": {},
   "outputs": [],
   "source": [
    "pytest"
   ]
  },
  {
   "cell_type": "code",
   "execution_count": null,
   "metadata": {},
   "outputs": [],
   "source": [
    "# Using the terminal, run flake8 on the absolute.py module.\n",
    "# Use the feedback from flake8 to bring the code into line with PEP8.\n",
    "flask8 absolute.py"
   ]
  },
  {
   "cell_type": "code",
   "execution_count": null,
   "metadata": {},
   "outputs": [],
   "source": [
    "# Use cookiecutter to create a blank Python package to restart impyrial. Use the template at https://github.com/audreyfeldroy/cookiecutter-pypackage.git.\n",
    "# Run this script to create package template\n",
    "# After running you will still need to type in the terminal to specify the template options\n",
    "cookiecutter https://github.com/audreyfeldroy/cookiecutter-pypackage.git\n"
   ]
  },
  {
   "cell_type": "code",
   "execution_count": null,
   "metadata": {},
   "outputs": [],
   "source": [
    "# History\n",
    "\n",
    "## 0.2.0\n",
    "### Fixed\n",
    "- Bug fixed in `length` subpackage for inches-to-feet conversion.\n",
    "### Deprecated\n",
    "- Removed Python 2.7 support.\n",
    "\n",
    "## 0.1.0\n",
    "### Added\n",
    "- First release on PyPI.\n"
   ]
  },
  {
   "cell_type": "code",
   "execution_count": null,
   "metadata": {},
   "outputs": [],
   "source": [
    "# bumpversion takes an parameter of either \n",
    "# major, minor, or patch.\n",
    "\n",
    "# Run this script to increase the minor package number\n",
    "bumpversion minor"
   ]
  },
  {
   "cell_type": "code",
   "execution_count": null,
   "metadata": {},
   "outputs": [],
   "source": [
    "# Run this file to complete the exercise \n",
    "\n",
    "# Remove old distributions\n",
    "make clean\n",
    "\n",
    "# Run tests\n",
    "make test\n",
    "\n",
    "# Make new source and wheel distributions\n",
    "make dist\n"
   ]
  }
 ],
 "metadata": {
  "language_info": {
   "name": "python"
  },
  "orig_nbformat": 4
 },
 "nbformat": 4,
 "nbformat_minor": 2
}
