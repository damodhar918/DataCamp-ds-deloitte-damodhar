{
 "cells": [
  {
   "cell_type": "code",
   "execution_count": 2,
   "metadata": {},
   "outputs": [],
   "source": [
    "import pandas as pd\n",
    "import numpy as np\n",
    "import matplotlib.pyplot as plt\n",
    "import seaborn as sns\n",
    "import statsmodels.api as sm"
   ]
  },
  {
   "cell_type": "code",
   "execution_count": 5,
   "metadata": {},
   "outputs": [],
   "source": [
    "cr_loan_clean = pd.read_csv('./cr_loan_w2.csv')"
   ]
  },
  {
   "cell_type": "code",
   "execution_count": 6,
   "metadata": {},
   "outputs": [
    {
     "name": "stdout",
     "output_type": "stream",
     "text": [
      "{'C': 1.0, 'class_weight': None, 'dual': False, 'fit_intercept': True, 'intercept_scaling': 1, 'l1_ratio': None, 'max_iter': 100, 'multi_class': 'auto', 'n_jobs': None, 'penalty': 'l2', 'random_state': None, 'solver': 'lbfgs', 'tol': 0.0001, 'verbose': 0, 'warm_start': False}\n",
      "[-4.45785901]\n"
     ]
    }
   ],
   "source": [
    "# Create the X and y data sets\n",
    "X = cr_loan_clean[['loan_int_rate']]\n",
    "y = cr_loan_clean[['loan_status']]\n",
    "\n",
    "from sklearn.linear_model import LogisticRegression\n",
    "# Create and fit a logistic regression model\n",
    "clf_logistic_single = LogisticRegression(solver='lbfgs')\n",
    "clf_logistic_single.fit(X, np.ravel(y))\n",
    "\n",
    "# Print the parameters of the model\n",
    "print(clf_logistic_single.get_params())\n",
    "\n",
    "# Print the intercept of the model\n",
    "print(clf_logistic_single.intercept_)"
   ]
  },
  {
   "cell_type": "code",
   "execution_count": 7,
   "metadata": {},
   "outputs": [
    {
     "name": "stdout",
     "output_type": "stream",
     "text": [
      "[-4.21645549]\n"
     ]
    }
   ],
   "source": [
    "# Create X data for the model\n",
    "X_multi = cr_loan_clean[['loan_int_rate','person_emp_length']]\n",
    "\n",
    "# Create a set of y data for training\n",
    "y = cr_loan_clean[['loan_status']]\n",
    "\n",
    "# Create and train a new logistic regression\n",
    "clf_logistic_multi = LogisticRegression(solver='lbfgs').fit(X_multi, np.ravel(y))\n",
    "\n",
    "# Print the intercept of the model\n",
    "print(clf_logistic_multi.intercept_)"
   ]
  },
  {
   "cell_type": "code",
   "execution_count": 9,
   "metadata": {},
   "outputs": [
    {
     "name": "stdout",
     "output_type": "stream",
     "text": [
      "[[ 1.28517496e-09 -2.27622202e-09 -2.17211991e-05]]\n"
     ]
    }
   ],
   "source": [
    "# Create the X and y data sets\n",
    "X = cr_loan_clean[['loan_int_rate','person_emp_length','person_income']]\n",
    "y = cr_loan_clean[['loan_status']]\n",
    "from sklearn.model_selection import train_test_split\n",
    "# Use test_train_split to create the training and test sets\n",
    "X_train, X_test, y_train, y_test = train_test_split(X, y, test_size=.4, random_state=123)\n",
    "\n",
    "# Create and fit the logistic regression model\n",
    "clf_logistic = LogisticRegression(solver='lbfgs').fit(X_train, np.ravel(y_train))\n",
    "\n",
    "# Print the models coefficients\n",
    "print(clf_logistic.coef_)"
   ]
  },
  {
   "cell_type": "code",
   "execution_count": 19,
   "metadata": {},
   "outputs": [],
   "source": [
    "# Create the X and y data sets\n",
    "X = cr_loan_clean.drop(['loan_status'], axis=1)\n",
    "y = cr_loan_clean[['loan_status']]\n",
    "from sklearn.model_selection import train_test_split\n",
    "# Use test_train_split to create the training and test sets\n",
    "X_train, X_test, y_train, y_test = train_test_split(X, y, test_size=.4, random_state=123)\n",
    "\n",
    "\n",
    "X1_train = X_train[['person_income', 'person_emp_length', 'loan_amnt']]\n",
    "X2_train = X_train[['person_income', 'loan_percent_income', 'cb_person_cred_hist_length']]"
   ]
  },
  {
   "cell_type": "code",
   "execution_count": 20,
   "metadata": {},
   "outputs": [
    {
     "name": "stdout",
     "output_type": "stream",
     "text": [
      "       person_income  person_emp_length  loan_amnt\n",
      "22105          72000                  3       9000\n",
      "2296           21000                  2       3000\n",
      "14465           4800                  0       1200\n",
      "6311           92000                  0       6000\n",
      "12541          96000                  1       7000\n",
      "       person_income  loan_percent_income  cb_person_cred_hist_length\n",
      "22105          72000                 0.13                           6\n",
      "2296           21000                 0.14                           2\n",
      "14465           4800                 0.25                           2\n",
      "6311           92000                 0.07                           3\n",
      "12541          96000                 0.07                           4\n",
      "[[-4.02643517e-05 -3.06659219e-08  1.06277246e-04]]\n",
      "[[-2.17213449e-05  5.29012401e-10 -2.80735543e-09]]\n"
     ]
    }
   ],
   "source": [
    "# Print the first five rows of each training set\n",
    "print(X1_train.head())\n",
    "print(X2_train.head())\n",
    "\n",
    "# Create and train a model on the first training data\n",
    "clf_logistic1 = LogisticRegression(solver='lbfgs').fit(X1_train, np.ravel(y_train))\n",
    "\n",
    "# Create and train a model on the second training data\n",
    "clf_logistic2 = LogisticRegression(solver='lbfgs').fit(X2_train, np.ravel(y_train))\n",
    "\n",
    "# Print the coefficients of each model\n",
    "print(clf_logistic1.coef_)\n",
    "print(clf_logistic2.coef_)"
   ]
  },
  {
   "cell_type": "code",
   "execution_count": 24,
   "metadata": {},
   "outputs": [],
   "source": [
    "cr_loan_clean = pd.read_csv('./cr_loan2.csv')"
   ]
  },
  {
   "cell_type": "code",
   "execution_count": 25,
   "metadata": {},
   "outputs": [
    {
     "name": "stdout",
     "output_type": "stream",
     "text": [
      "Index(['person_age', 'person_income', 'person_emp_length', 'loan_amnt',\n",
      "       'loan_int_rate', 'loan_status', 'loan_percent_income',\n",
      "       'cb_person_cred_hist_length', 'person_home_ownership_MORTGAGE',\n",
      "       'person_home_ownership_OTHER', 'person_home_ownership_OWN',\n",
      "       'person_home_ownership_RENT', 'loan_intent_DEBTCONSOLIDATION',\n",
      "       'loan_intent_EDUCATION', 'loan_intent_HOMEIMPROVEMENT',\n",
      "       'loan_intent_MEDICAL', 'loan_intent_PERSONAL', 'loan_intent_VENTURE',\n",
      "       'loan_grade_A', 'loan_grade_B', 'loan_grade_C', 'loan_grade_D',\n",
      "       'loan_grade_E', 'loan_grade_F', 'loan_grade_G',\n",
      "       'cb_person_default_on_file_N', 'cb_person_default_on_file_Y'],\n",
      "      dtype='object')\n"
     ]
    }
   ],
   "source": [
    "# Create two data sets for numeric and non-numeric data\n",
    "cred_num = cr_loan_clean.select_dtypes(exclude=['object'])\n",
    "cred_str = cr_loan_clean.select_dtypes(include=['object'])\n",
    "\n",
    "# One-hot encode the non-numeric columns\n",
    "cred_str_onehot = pd.get_dummies(cred_str)\n",
    "\n",
    "# Union the one-hot encoded columns to the numeric ones\n",
    "cr_loan_prep = pd.concat([cred_num, cred_str_onehot], axis=1)\n",
    "\n",
    "# Print the columns in the new data set\n",
    "print(cr_loan_prep.columns)"
   ]
  },
  {
   "cell_type": "code",
   "execution_count": 26,
   "metadata": {},
   "outputs": [
    {
     "name": "stdout",
     "output_type": "stream",
     "text": [
      "   loan_status  prob_default\n",
      "0            1      0.445779\n",
      "1            1      0.223447\n",
      "2            0      0.288558\n",
      "3            0      0.169358\n",
      "4            1      0.114182\n"
     ]
    }
   ],
   "source": [
    "# Train the logistic regression model on the training data\n",
    "clf_logistic = LogisticRegression(solver='lbfgs').fit(X_train, np.ravel(y_train))\n",
    "\n",
    "# Create predictions of probability for loan status using test data\n",
    "preds = clf_logistic.predict_proba(X_test)\n",
    "\n",
    "# Create dataframes of first five predictions, and first five true labels\n",
    "preds_df = pd.DataFrame(preds[:,1][0:5], columns = ['prob_default'])\n",
    "true_df = y_test.head()\n",
    "\n",
    "# Concatenate and print the two data frames for comparison\n",
    "print(pd.concat([true_df.reset_index(drop = True), preds_df], axis = 1))"
   ]
  },
  {
   "cell_type": "code",
   "execution_count": 29,
   "metadata": {},
   "outputs": [
    {
     "name": "stdout",
     "output_type": "stream",
     "text": [
      "loan_status\n",
      "0    11175\n",
      "1      609\n",
      "Name: count, dtype: int64\n",
      "[[9023  175]\n",
      " [2152  434]]\n",
      "              precision    recall  f1-score   support\n",
      "\n",
      " Non-Default       0.81      0.98      0.89      9198\n",
      "     Default       0.71      0.17      0.27      2586\n",
      "\n",
      "    accuracy                           0.80     11784\n",
      "   macro avg       0.76      0.57      0.58     11784\n",
      "weighted avg       0.79      0.80      0.75     11784\n",
      "\n"
     ]
    }
   ],
   "source": [
    "# Create a dataframe for the probabilities of default\n",
    "preds_df = pd.DataFrame(preds[:,1], columns = ['prob_default'])\n",
    "\n",
    "# Reassign loan status based on the threshold\n",
    "preds_df['loan_status'] = preds_df['prob_default'].apply(lambda x: 1 if x > 0.50 else 0)\n",
    "\n",
    "# Print the row counts for each loan status\n",
    "print(preds_df['loan_status'].value_counts())\n",
    "from sklearn.metrics import confusion_matrix\n",
    "# Print the confusion matrix\n",
    "print(confusion_matrix(y_test, preds_df['loan_status']))\n",
    "from sklearn.metrics import classification_report\n",
    "# Print the classification report\n",
    "target_names = ['Non-Default', 'Default']\n",
    "print(classification_report(y_test, preds_df['loan_status'], target_names=target_names))"
   ]
  },
  {
   "cell_type": "code",
   "execution_count": 30,
   "metadata": {},
   "outputs": [
    {
     "name": "stdout",
     "output_type": "stream",
     "text": [
      "              precision    recall  f1-score   support\n",
      "\n",
      " Non-Default       0.81      0.98      0.89      9198\n",
      "     Default       0.71      0.17      0.27      2586\n",
      "\n",
      "    accuracy                           0.80     11784\n",
      "   macro avg       0.76      0.57      0.58     11784\n",
      "weighted avg       0.79      0.80      0.75     11784\n",
      "\n"
     ]
    }
   ],
   "source": [
    "# Print the classification report\n",
    "target_names = ['Non-Default', 'Default']\n",
    "print(classification_report(y_test, preds_df['loan_status'], target_names=target_names))"
   ]
  },
  {
   "cell_type": "code",
   "execution_count": 31,
   "metadata": {},
   "outputs": [
    {
     "name": "stdout",
     "output_type": "stream",
     "text": [
      "(array([0.80742729, 0.71264368]), array([0.98097412, 0.16782676]), array([0.8857802 , 0.27167449]), array([9198, 2586], dtype=int64))\n"
     ]
    }
   ],
   "source": [
    "# Print all the non-average values from the report\n",
    "from sklearn.metrics import precision_recall_fscore_support\n",
    "print(precision_recall_fscore_support(y_test,preds_df['loan_status']))"
   ]
  },
  {
   "cell_type": "code",
   "execution_count": 32,
   "metadata": {},
   "outputs": [
    {
     "name": "stdout",
     "output_type": "stream",
     "text": [
      "[0.80742729 0.71264368]\n"
     ]
    }
   ],
   "source": [
    "# Print the first two numbers from the report\n",
    "print(precision_recall_fscore_support(y_test,preds_df['loan_status'])[0])"
   ]
  },
  {
   "cell_type": "code",
   "execution_count": 34,
   "metadata": {},
   "outputs": [
    {
     "name": "stdout",
     "output_type": "stream",
     "text": [
      "0.8025288526816021\n"
     ]
    },
    {
     "data": {
      "image/png": "[encoded data removed]",
      "text/plain": [
       "<Figure size 640x480 with 1 Axes>"
      ]
     },
     "metadata": {},
     "output_type": "display_data"
    }
   ],
   "source": [
    "# Create predictions and store them in a variable\n",
    "preds = clf_logistic.predict_proba(X_test)\n",
    "\n",
    "# Print the accuracy score the model\n",
    "print(clf_logistic.score(X_test, y_test))\n",
    "from sklearn.metrics import roc_curve, roc_auc_score\n",
    "# Plot the ROC curve of the probabilities of default\n",
    "prob_default = preds[:, 1]\n",
    "fallout, sensitivity, thresholds = roc_curve(y_test, prob_default)\n",
    "plt.plot(fallout, sensitivity, color = 'darkorange')\n",
    "plt.plot([0, 1], [0, 1], linestyle='--')\n",
    "plt.show()\n",
    "\n",
    "# Compute the AUC and store it in a variable\n",
    "auc = roc_auc_score(y_test, prob_default)"
   ]
  },
  {
   "cell_type": "code",
   "execution_count": 37,
   "metadata": {},
   "outputs": [
    {
     "name": "stdout",
     "output_type": "stream",
     "text": [
      "[[9023  175]\n",
      " [2152  434]]\n",
      "              precision    recall  f1-score   support\n",
      "\n",
      " Non-Default       0.81      0.98      0.89      9198\n",
      "     Default       0.71      0.17      0.27      2586\n",
      "\n",
      "    accuracy                           0.80     11784\n",
      "   macro avg       0.76      0.57      0.58     11784\n",
      "weighted avg       0.79      0.80      0.75     11784\n",
      "\n"
     ]
    }
   ],
   "source": [
    "# Set the threshold for defaults to 0.5\n",
    "preds_df['loan_status'] = preds_df['prob_default'].apply(lambda x: 1 if x > 0.5 else 0)\n",
    "\n",
    "# Print the confusion matrix\n",
    "print(confusion_matrix(y_test,preds_df['loan_status']))\n",
    "print(classification_report(y_test,preds_df['loan_status'], target_names=target_names))"
   ]
  },
  {
   "cell_type": "code",
   "execution_count": 38,
   "metadata": {},
   "outputs": [
    {
     "name": "stdout",
     "output_type": "stream",
     "text": [
      "[[8476  722]\n",
      " [1386 1200]]\n",
      "              precision    recall  f1-score   support\n",
      "\n",
      " Non-Default       0.86      0.92      0.89      9198\n",
      "     Default       0.62      0.46      0.53      2586\n",
      "\n",
      "    accuracy                           0.82     11784\n",
      "   macro avg       0.74      0.69      0.71     11784\n",
      "weighted avg       0.81      0.82      0.81     11784\n",
      "\n"
     ]
    }
   ],
   "source": [
    "# Set the threshold for defaults to 0.4\n",
    "preds_df['loan_status'] = preds_df['prob_default'].apply(lambda x: 1 if x > 0.4 else 0)\n",
    "\n",
    "# Print the confusion matrix\n",
    "print(confusion_matrix(y_test, preds_df['loan_status']))\n",
    "print(classification_report(y_test, preds_df['loan_status'], target_names=target_names))"
   ]
  },
  {
   "cell_type": "code",
   "execution_count": 41,
   "metadata": {},
   "outputs": [
    {
     "name": "stdout",
     "output_type": "stream",
     "text": [
      "9872265.223119883\n"
     ]
    }
   ],
   "source": [
    "# Reassign the values of loan status based on the new threshold \n",
    "preds_df['loan_status'] = preds_df['prob_default'].apply(lambda x: 1 if x > 0.4 else 0)\n",
    "\n",
    "# Store the number of loan defaults from the prediction data \n",
    "num_defaults = preds_df['loan_status'].value_counts()[1]\n",
    "\n",
    "# Store the default recall from the classification report \n",
    "default_recall = precision_recall_fscore_support(y_test,preds_df['loan_status'])[1][1]\n",
    "avg_loan_amnt = 9583.600936895346\n",
    "# Calculate the estimated impact of the new default recall rate \n",
    "print(avg_loan_amnt * num_defaults * (1 - default_recall))"
   ]
  },
  {
   "cell_type": "code",
   "execution_count": 45,
   "metadata": {},
   "outputs": [
    {
     "name": "stdout",
     "output_type": "stream",
     "text": [
      "[[8476  722]\n",
      " [1386 1200]]\n",
      "              precision    recall  f1-score   support\n",
      "\n",
      " Non-Default       0.86      0.92      0.89      9198\n",
      "     Default       0.62      0.46      0.53      2586\n",
      "\n",
      "    accuracy                           0.82     11784\n",
      "   macro avg       0.74      0.69      0.71     11784\n",
      "weighted avg       0.81      0.82      0.81     11784\n",
      "\n"
     ]
    },
    {
     "data": {
      "image/png": "[encoded data removed]",
      "text/plain": [
       "<Figure size 640x480 with 1 Axes>"
      ]
     },
     "metadata": {},
     "output_type": "display_data"
    }
   ],
   "source": [
    "# Set the threshold for defaults to 0.4\n",
    "preds_df['loan_status'] = preds_df['prob_default'].apply(lambda x: 1 if x > 0.4 else 0)\n",
    "\n",
    "# Print the confusion matrix\n",
    "print(confusion_matrix(y_test, preds_df['loan_status']))\n",
    "print(classification_report(y_test, preds_df['loan_status'], target_names=target_names))\n",
    "\n",
    "from sklearn.metrics import recall_score, accuracy_score\n",
    "# Create trade off variables for plot\n",
    "thresh = np.arange(0.1, 1.0, 0.025)\n",
    "def_recalls = [recall_score(y_test, preds_df['prob_default']>t, pos_label=1) for t in thresh]\n",
    "nondef_recalls = [recall_score(y_test, preds_df['prob_default']<=t, pos_label=0) for t in thresh]\n",
    "accs = [accuracy_score(y_test, preds_df['prob_default']>t) for t in thresh]\n",
    "ticks = np.round(thresh,1)\n",
    "\n",
    "import matplotlib.pyplot as plt\n",
    "\n",
    "plt.plot(thresh, def_recalls)\n",
    "plt.plot(thresh, nondef_recalls)\n",
    "plt.plot(thresh, accs)\n",
    "plt.xlabel(\"Probability Threshold\")\n",
    "plt.xticks(ticks)\n",
    "plt.legend([\"Default Recall\",\"Non-default Recall\",\"Model Accuracy\"])\n",
    "plt.show()"
   ]
  },
  {
   "cell_type": "code",
   "execution_count": 47,
   "metadata": {},
   "outputs": [],
   "source": [
    "preds_df.to_csv('predictions_lr.csv', index=False)"
   ]
  }
 ],
 "metadata": {
  "kernelspec": {
   "display_name": "Python 3",
   "language": "python",
   "name": "python3"
  },
  "language_info": {
   "codemirror_mode": {
    "name": "ipython",
    "version": 3
   },
   "file_extension": ".py",
   "mimetype": "text/x-python",
   "name": "python",
   "nbconvert_exporter": "python",
   "pygments_lexer": "ipython3",
   "version": "3.11.6"
  }
 },
 "nbformat": 4,
 "nbformat_minor": 2
}
