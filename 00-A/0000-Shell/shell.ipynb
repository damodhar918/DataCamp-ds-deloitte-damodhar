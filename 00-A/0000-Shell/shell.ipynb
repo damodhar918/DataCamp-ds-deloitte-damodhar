{
 "cells": [
  {
   "cell_type": "code",
   "execution_count": 4,
   "metadata": {},
   "outputs": [
    {
     "name": "stdout",
     "output_type": "stream",
     "text": [
      " Volume in drive C is OSDisk\n",
      " Volume Serial Number is 243D-92F8\n",
      "\n",
      " Directory of c:\\Users\\jdamodhar\\Desktop\\python_essential-\\DataCamp-ds-deloitte-master\\00-A\\0000-Shell\n",
      "\n",
      "09/02/2023  01:34 PM    <DIR>          .\n",
      "09/02/2023  01:34 PM    <DIR>          ..\n",
      "08/23/2023  04:09 AM             3,114 introduction_to_shell_for_data_science.md\n",
      "09/02/2023  01:35 PM             1,111 shell.ipynb\n",
      "09/02/2023  01:24 PM            27,786 unix_com_cheat.sh\n",
      "09/02/2023  01:24 PM            16,759 unixcomcheat.sh\n",
      "               4 File(s)         48,770 bytes\n",
      "               2 Dir(s)  192,174,977,024 bytes free\n"
     ]
    }
   ],
   "source": [
    "%ls"
   ]
  },
  {
   "cell_type": "code",
   "execution_count": 1,
   "metadata": {},
   "outputs": [
    {
     "name": "stderr",
     "output_type": "stream",
     "text": [
      "UsageError: Cell magic `%%sql` not found.\n"
     ]
    }
   ],
   "source": [
    "%%sql\n",
    "\n",
    "select hint, count(*) as count"
   ]
  }
 ],
 "metadata": {
  "kernelspec": {
   "display_name": "Python 3",
   "language": "python",
   "name": "python3"
  },
  "language_info": {
   "codemirror_mode": {
    "name": "ipython",
    "version": 3
   },
   "file_extension": ".py",
   "mimetype": "text/x-python",
   "name": "python",
   "nbconvert_exporter": "python",
   "pygments_lexer": "ipython3",
   "version": "3.10.5"
  },
  "orig_nbformat": 4
 },
 "nbformat": 4,
 "nbformat_minor": 2
}
