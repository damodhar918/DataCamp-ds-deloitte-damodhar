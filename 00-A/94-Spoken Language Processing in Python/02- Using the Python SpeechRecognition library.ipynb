{
 "cells": [
  {
   "cell_type": "code",
   "execution_count": 2,
   "metadata": {},
   "outputs": [
    {
     "name": "stdout",
     "output_type": "stream",
     "text": [
      "Collecting SpeechRecognition\n",
      "  Downloading SpeechRecognition-3.10.0-py2.py3-none-any.whl (32.8 MB)\n",
      "     ---------------------------------------- 0.0/32.8 MB ? eta -:--:--\n",
      "     ---------------------------------------- 0.0/32.8 MB ? eta -:--:--\n",
      "     ---------------------------------------- 0.0/32.8 MB ? eta -:--:--\n",
      "     ---------------------------------------- 0.0/32.8 MB ? eta -:--:--\n",
      "     --------------------------------------- 0.0/32.8 MB 217.9 kB/s eta 0:02:31\n",
      "     --------------------------------------- 0.1/32.8 MB 297.7 kB/s eta 0:01:51\n",
      "     --------------------------------------- 0.1/32.8 MB 374.1 kB/s eta 0:01:28\n",
      "     --------------------------------------- 0.2/32.8 MB 656.4 kB/s eta 0:00:50\n",
      "     --------------------------------------- 0.3/32.8 MB 930.9 kB/s eta 0:00:35\n",
      "     --------------------------------------- 0.3/32.8 MB 952.6 kB/s eta 0:00:35\n",
      "      --------------------------------------- 0.5/32.8 MB 1.3 MB/s eta 0:00:25\n",
      "      --------------------------------------- 0.7/32.8 MB 1.6 MB/s eta 0:00:21\n",
      "      --------------------------------------- 0.8/32.8 MB 1.7 MB/s eta 0:00:20\n",
      "     - -------------------------------------- 0.9/32.8 MB 1.8 MB/s eta 0:00:18\n",
      "     - -------------------------------------- 1.0/32.8 MB 1.9 MB/s eta 0:00:18\n",
      "     - -------------------------------------- 1.2/32.8 MB 1.9 MB/s eta 0:00:17\n",
      "     - -------------------------------------- 1.3/32.8 MB 2.0 MB/s eta 0:00:16\n",
      "     - -------------------------------------- 1.4/32.8 MB 2.1 MB/s eta 0:00:16\n",
      "     - -------------------------------------- 1.6/32.8 MB 2.1 MB/s eta 0:00:15\n",
      "     -- ------------------------------------- 1.7/32.8 MB 2.2 MB/s eta 0:00:14\n",
      "     -- ------------------------------------- 1.9/32.8 MB 2.3 MB/s eta 0:00:14\n",
      "     -- ------------------------------------- 2.0/32.8 MB 2.4 MB/s eta 0:00:14\n",
      "     -- ------------------------------------- 2.2/32.8 MB 2.4 MB/s eta 0:00:13\n",
      "     -- ------------------------------------- 2.3/32.8 MB 2.4 MB/s eta 0:00:13\n",
      "     --- ------------------------------------ 2.5/32.8 MB 2.5 MB/s eta 0:00:13\n",
      "     --- ------------------------------------ 2.7/32.8 MB 2.6 MB/s eta 0:00:12\n",
      "     --- ------------------------------------ 2.8/32.8 MB 2.6 MB/s eta 0:00:12\n",
      "     --- ------------------------------------ 2.9/32.8 MB 2.6 MB/s eta 0:00:12\n",
      "     --- ------------------------------------ 3.1/32.8 MB 2.7 MB/s eta 0:00:12\n",
      "     --- ------------------------------------ 3.3/32.8 MB 2.7 MB/s eta 0:00:11\n",
      "     ---- ----------------------------------- 3.5/32.8 MB 2.8 MB/s eta 0:00:11\n",
      "     ---- ----------------------------------- 3.7/32.8 MB 2.8 MB/s eta 0:00:11\n",
      "     ---- ----------------------------------- 3.9/32.8 MB 2.9 MB/s eta 0:00:10\n",
      "     ----- ---------------------------------- 4.1/32.8 MB 3.0 MB/s eta 0:00:10\n",
      "     ----- ---------------------------------- 4.3/32.8 MB 3.0 MB/s eta 0:00:10\n",
      "     ----- ---------------------------------- 4.5/32.8 MB 3.1 MB/s eta 0:00:10\n",
      "     ----- ---------------------------------- 4.7/32.8 MB 3.1 MB/s eta 0:00:10\n",
      "     ----- ---------------------------------- 4.9/32.8 MB 3.1 MB/s eta 0:00:09\n",
      "     ------ --------------------------------- 5.1/32.8 MB 3.2 MB/s eta 0:00:09\n",
      "     ------ --------------------------------- 5.2/32.8 MB 3.2 MB/s eta 0:00:09\n",
      "     ------ --------------------------------- 5.3/32.8 MB 3.2 MB/s eta 0:00:09\n",
      "     ------ --------------------------------- 5.5/32.8 MB 3.2 MB/s eta 0:00:09\n",
      "     ------ --------------------------------- 5.7/32.8 MB 3.2 MB/s eta 0:00:09\n",
      "     ------- -------------------------------- 5.9/32.8 MB 3.2 MB/s eta 0:00:09\n",
      "     ------- -------------------------------- 6.1/32.8 MB 3.3 MB/s eta 0:00:09\n",
      "     ------- -------------------------------- 6.3/32.8 MB 3.3 MB/s eta 0:00:09\n",
      "     ------- -------------------------------- 6.5/32.8 MB 3.3 MB/s eta 0:00:08\n",
      "     -------- ------------------------------- 6.7/32.8 MB 3.4 MB/s eta 0:00:08\n",
      "     -------- ------------------------------- 6.9/32.8 MB 3.4 MB/s eta 0:00:08\n",
      "     -------- ------------------------------- 7.1/32.8 MB 3.4 MB/s eta 0:00:08\n",
      "     -------- ------------------------------- 7.4/32.8 MB 3.5 MB/s eta 0:00:08\n",
      "     --------- ------------------------------ 7.6/32.8 MB 3.5 MB/s eta 0:00:08\n",
      "     --------- ------------------------------ 7.7/32.8 MB 3.5 MB/s eta 0:00:08\n",
      "     --------- ------------------------------ 8.0/32.8 MB 3.6 MB/s eta 0:00:07\n",
      "     --------- ------------------------------ 8.2/32.8 MB 3.6 MB/s eta 0:00:07\n",
      "     ---------- ----------------------------- 8.4/32.8 MB 3.6 MB/s eta 0:00:07\n",
      "     ---------- ----------------------------- 8.4/32.8 MB 3.6 MB/s eta 0:00:07\n",
      "     ---------- ----------------------------- 8.6/32.8 MB 3.6 MB/s eta 0:00:07\n",
      "     ---------- ----------------------------- 8.8/32.8 MB 3.6 MB/s eta 0:00:07\n",
      "     ----------- ---------------------------- 9.0/32.8 MB 3.6 MB/s eta 0:00:07\n",
      "     ----------- ---------------------------- 9.2/32.8 MB 3.6 MB/s eta 0:00:07\n",
      "     ----------- ---------------------------- 9.4/32.8 MB 3.6 MB/s eta 0:00:07\n",
      "     ----------- ---------------------------- 9.5/32.8 MB 3.6 MB/s eta 0:00:07\n",
      "     ----------- ---------------------------- 9.6/32.8 MB 3.6 MB/s eta 0:00:07\n",
      "     ----------- ---------------------------- 9.7/32.8 MB 3.6 MB/s eta 0:00:07\n",
      "     ----------- ---------------------------- 9.8/32.8 MB 3.6 MB/s eta 0:00:07\n",
      "     ----------- ---------------------------- 9.8/32.8 MB 3.6 MB/s eta 0:00:07\n",
      "     ------------ --------------------------- 10.0/32.8 MB 3.5 MB/s eta 0:00:07\n",
      "     ------------ --------------------------- 10.1/32.8 MB 3.5 MB/s eta 0:00:07\n",
      "     ------------ --------------------------- 10.2/32.8 MB 3.5 MB/s eta 0:00:07\n",
      "     ------------ --------------------------- 10.3/32.8 MB 3.7 MB/s eta 0:00:07\n",
      "     ------------ --------------------------- 10.4/32.8 MB 3.7 MB/s eta 0:00:07\n",
      "     ------------ --------------------------- 10.5/32.8 MB 3.7 MB/s eta 0:00:07\n",
      "     ------------ --------------------------- 10.5/32.8 MB 3.7 MB/s eta 0:00:07\n",
      "     ------------ --------------------------- 10.5/32.8 MB 3.7 MB/s eta 0:00:07\n",
      "     ------------ --------------------------- 10.5/32.8 MB 3.7 MB/s eta 0:00:07\n",
      "     ------------- -------------------------- 10.7/32.8 MB 3.6 MB/s eta 0:00:07\n",
      "     ------------- -------------------------- 10.8/32.8 MB 3.6 MB/s eta 0:00:07\n",
      "     ------------- -------------------------- 10.9/32.8 MB 3.6 MB/s eta 0:00:07\n",
      "     ------------- -------------------------- 11.0/32.8 MB 3.6 MB/s eta 0:00:07\n",
      "     ------------- -------------------------- 11.1/32.8 MB 3.5 MB/s eta 0:00:07\n",
      "     ------------- -------------------------- 11.2/32.8 MB 3.5 MB/s eta 0:00:07\n",
      "     ------------- -------------------------- 11.2/32.8 MB 3.5 MB/s eta 0:00:07\n",
      "     ------------- -------------------------- 11.2/32.8 MB 3.5 MB/s eta 0:00:07\n",
      "     ------------- -------------------------- 11.2/32.8 MB 3.5 MB/s eta 0:00:07\n",
      "     ------------- -------------------------- 11.2/32.8 MB 3.5 MB/s eta 0:00:07\n",
      "     ------------- -------------------------- 11.2/32.8 MB 3.5 MB/s eta 0:00:07\n",
      "     ------------- -------------------------- 11.2/32.8 MB 3.5 MB/s eta 0:00:07\n",
      "     ------------- -------------------------- 11.2/32.8 MB 3.5 MB/s eta 0:00:07\n",
      "     ------------- -------------------------- 11.2/32.8 MB 3.5 MB/s eta 0:00:07\n",
      "     ------------- -------------------------- 11.2/32.8 MB 3.5 MB/s eta 0:00:07\n",
      "     ------------- -------------------------- 11.2/32.8 MB 3.1 MB/s eta 0:00:07\n",
      "     ------------- -------------------------- 11.3/32.8 MB 3.1 MB/s eta 0:00:07\n",
      "     ------------- -------------------------- 11.3/32.8 MB 3.1 MB/s eta 0:00:08\n",
      "     ------------- -------------------------- 11.3/32.8 MB 3.0 MB/s eta 0:00:08\n",
      "     ------------- -------------------------- 11.4/32.8 MB 3.0 MB/s eta 0:00:08\n",
      "     -------------- ------------------------- 11.5/32.8 MB 3.0 MB/s eta 0:00:08\n",
      "     -------------- ------------------------- 11.6/32.8 MB 3.0 MB/s eta 0:00:08\n",
      "     -------------- ------------------------- 11.7/32.8 MB 3.0 MB/s eta 0:00:08\n",
      "     -------------- ------------------------- 11.8/32.8 MB 2.9 MB/s eta 0:00:08\n",
      "     -------------- ------------------------- 11.8/32.8 MB 2.9 MB/s eta 0:00:08\n",
      "     -------------- ------------------------- 11.9/32.8 MB 2.9 MB/s eta 0:00:08\n",
      "     -------------- ------------------------- 12.0/32.8 MB 2.9 MB/s eta 0:00:08\n",
      "     -------------- ------------------------- 12.1/32.8 MB 2.9 MB/s eta 0:00:08\n",
      "     -------------- ------------------------- 12.2/32.8 MB 2.9 MB/s eta 0:00:08\n",
      "     --------------- ------------------------ 12.3/32.8 MB 2.9 MB/s eta 0:00:08\n",
      "     --------------- ------------------------ 12.4/32.8 MB 2.9 MB/s eta 0:00:08\n",
      "     --------------- ------------------------ 12.5/32.8 MB 2.8 MB/s eta 0:00:08\n",
      "     --------------- ------------------------ 12.7/32.8 MB 2.8 MB/s eta 0:00:08\n",
      "     --------------- ------------------------ 12.8/32.8 MB 2.8 MB/s eta 0:00:08\n",
      "     --------------- ------------------------ 12.9/32.8 MB 2.8 MB/s eta 0:00:08\n",
      "     --------------- ------------------------ 12.9/32.8 MB 2.8 MB/s eta 0:00:08\n",
      "     --------------- ------------------------ 13.0/32.8 MB 2.8 MB/s eta 0:00:08\n",
      "     ---------------- ----------------------- 13.2/32.8 MB 2.8 MB/s eta 0:00:08\n",
      "     ---------------- ----------------------- 13.3/32.8 MB 2.8 MB/s eta 0:00:08\n",
      "     ---------------- ----------------------- 13.4/32.8 MB 2.8 MB/s eta 0:00:08\n",
      "     ---------------- ----------------------- 13.5/32.8 MB 2.8 MB/s eta 0:00:08\n",
      "     ---------------- ----------------------- 13.6/32.8 MB 2.7 MB/s eta 0:00:08\n",
      "     ---------------- ----------------------- 13.7/32.8 MB 2.7 MB/s eta 0:00:08\n",
      "     ---------------- ----------------------- 13.9/32.8 MB 2.7 MB/s eta 0:00:07\n",
      "     ----------------- ---------------------- 14.0/32.8 MB 2.7 MB/s eta 0:00:07\n",
      "     ----------------- ---------------------- 14.2/32.8 MB 2.7 MB/s eta 0:00:07\n",
      "     ----------------- ---------------------- 14.3/32.8 MB 2.7 MB/s eta 0:00:07\n",
      "     ----------------- ---------------------- 14.5/32.8 MB 2.7 MB/s eta 0:00:07\n",
      "     ----------------- ---------------------- 14.6/32.8 MB 2.7 MB/s eta 0:00:07\n",
      "     ----------------- ---------------------- 14.7/32.8 MB 2.7 MB/s eta 0:00:07\n",
      "     ------------------ --------------------- 14.8/32.8 MB 2.7 MB/s eta 0:00:07\n",
      "     ------------------ --------------------- 15.0/32.8 MB 2.6 MB/s eta 0:00:07\n",
      "     ------------------ --------------------- 15.1/32.8 MB 2.6 MB/s eta 0:00:07\n",
      "     ------------------ --------------------- 15.3/32.8 MB 2.6 MB/s eta 0:00:07\n",
      "     ------------------ --------------------- 15.4/32.8 MB 2.6 MB/s eta 0:00:07\n",
      "     ------------------ --------------------- 15.6/32.8 MB 2.6 MB/s eta 0:00:07\n",
      "     ------------------- -------------------- 15.7/32.8 MB 2.6 MB/s eta 0:00:07\n",
      "     ------------------- -------------------- 15.8/32.8 MB 2.6 MB/s eta 0:00:07\n",
      "     ------------------- -------------------- 16.0/32.8 MB 2.6 MB/s eta 0:00:07\n",
      "     ------------------- -------------------- 16.1/32.8 MB 2.6 MB/s eta 0:00:07\n",
      "     ------------------- -------------------- 16.3/32.8 MB 2.6 MB/s eta 0:00:07\n",
      "     ------------------- -------------------- 16.4/32.8 MB 2.6 MB/s eta 0:00:07\n",
      "     -------------------- ------------------- 16.5/32.8 MB 2.6 MB/s eta 0:00:07\n",
      "     -------------------- ------------------- 16.6/32.8 MB 2.6 MB/s eta 0:00:07\n",
      "     -------------------- ------------------- 16.8/32.8 MB 2.5 MB/s eta 0:00:07\n",
      "     -------------------- ------------------- 16.9/32.8 MB 2.6 MB/s eta 0:00:07\n",
      "     -------------------- ------------------- 17.1/32.8 MB 2.5 MB/s eta 0:00:07\n",
      "     --------------------- ------------------ 17.2/32.8 MB 2.5 MB/s eta 0:00:07\n",
      "     --------------------- ------------------ 17.4/32.8 MB 2.5 MB/s eta 0:00:07\n",
      "     --------------------- ------------------ 17.6/32.8 MB 2.5 MB/s eta 0:00:07\n",
      "     --------------------- ------------------ 17.7/32.8 MB 2.5 MB/s eta 0:00:07\n",
      "     --------------------- ------------------ 17.9/32.8 MB 2.5 MB/s eta 0:00:06\n",
      "     ---------------------- ----------------- 18.1/32.8 MB 2.5 MB/s eta 0:00:06\n",
      "     ---------------------- ----------------- 18.3/32.8 MB 2.5 MB/s eta 0:00:06\n",
      "     ---------------------- ----------------- 18.4/32.8 MB 2.5 MB/s eta 0:00:06\n",
      "     ---------------------- ----------------- 18.7/32.8 MB 2.5 MB/s eta 0:00:06\n",
      "     ---------------------- ----------------- 18.8/32.8 MB 2.5 MB/s eta 0:00:06\n",
      "     ----------------------- ---------------- 19.0/32.8 MB 2.5 MB/s eta 0:00:06\n",
      "     ----------------------- ---------------- 19.2/32.8 MB 2.5 MB/s eta 0:00:06\n",
      "     ----------------------- ---------------- 19.4/32.8 MB 2.5 MB/s eta 0:00:06\n",
      "     ----------------------- ---------------- 19.5/32.8 MB 2.5 MB/s eta 0:00:06\n",
      "     ----------------------- ---------------- 19.6/32.8 MB 2.5 MB/s eta 0:00:06\n",
      "     ------------------------ --------------- 19.8/32.8 MB 2.5 MB/s eta 0:00:06\n",
      "     ------------------------ --------------- 20.0/32.8 MB 2.5 MB/s eta 0:00:06\n",
      "     ------------------------ --------------- 20.2/32.8 MB 2.6 MB/s eta 0:00:05\n",
      "     ------------------------ --------------- 20.3/32.8 MB 2.6 MB/s eta 0:00:05\n",
      "     ------------------------ --------------- 20.5/32.8 MB 2.6 MB/s eta 0:00:05\n",
      "     ------------------------- -------------- 20.7/32.8 MB 2.6 MB/s eta 0:00:05\n",
      "     ------------------------- -------------- 20.9/32.8 MB 2.7 MB/s eta 0:00:05\n",
      "     ------------------------- -------------- 21.1/32.8 MB 2.7 MB/s eta 0:00:05\n",
      "     ------------------------- -------------- 21.3/32.8 MB 2.8 MB/s eta 0:00:05\n",
      "     -------------------------- ------------- 21.4/32.8 MB 2.8 MB/s eta 0:00:05\n",
      "     -------------------------- ------------- 21.6/32.8 MB 3.2 MB/s eta 0:00:04\n",
      "     -------------------------- ------------- 21.7/32.8 MB 3.3 MB/s eta 0:00:04\n",
      "     -------------------------- ------------- 21.9/32.8 MB 3.3 MB/s eta 0:00:04\n",
      "     -------------------------- ------------- 22.1/32.8 MB 3.4 MB/s eta 0:00:04\n",
      "     --------------------------- ------------ 22.3/32.8 MB 3.5 MB/s eta 0:00:04\n",
      "     --------------------------- ------------ 22.5/32.8 MB 3.5 MB/s eta 0:00:03\n",
      "     --------------------------- ------------ 22.7/32.8 MB 3.6 MB/s eta 0:00:03\n",
      "     --------------------------- ------------ 22.9/32.8 MB 3.6 MB/s eta 0:00:03\n",
      "     ---------------------------- ----------- 23.0/32.8 MB 3.6 MB/s eta 0:00:03\n",
      "     ---------------------------- ----------- 23.2/32.8 MB 3.7 MB/s eta 0:00:03\n",
      "     ---------------------------- ----------- 23.4/32.8 MB 3.7 MB/s eta 0:00:03\n",
      "     ---------------------------- ----------- 23.6/32.8 MB 3.8 MB/s eta 0:00:03\n",
      "     ----------------------------- ---------- 23.8/32.8 MB 3.8 MB/s eta 0:00:03\n",
      "     ----------------------------- ---------- 24.1/32.8 MB 3.9 MB/s eta 0:00:03\n",
      "     ----------------------------- ---------- 24.3/32.8 MB 3.9 MB/s eta 0:00:03\n",
      "     ----------------------------- ---------- 24.5/32.8 MB 3.9 MB/s eta 0:00:03\n",
      "     ------------------------------ --------- 24.7/32.8 MB 4.0 MB/s eta 0:00:03\n",
      "     ------------------------------ --------- 25.0/32.8 MB 4.0 MB/s eta 0:00:02\n",
      "     ------------------------------ --------- 25.2/32.8 MB 4.1 MB/s eta 0:00:02\n",
      "     ------------------------------ --------- 25.4/32.8 MB 4.1 MB/s eta 0:00:02\n",
      "     ------------------------------- -------- 25.7/32.8 MB 4.2 MB/s eta 0:00:02\n",
      "     ------------------------------- -------- 25.9/32.8 MB 4.2 MB/s eta 0:00:02\n",
      "     ------------------------------- -------- 26.1/32.8 MB 4.2 MB/s eta 0:00:02\n",
      "     -------------------------------- ------- 26.4/32.8 MB 4.3 MB/s eta 0:00:02\n",
      "     -------------------------------- ------- 26.6/32.8 MB 4.3 MB/s eta 0:00:02\n",
      "     -------------------------------- ------- 26.8/32.8 MB 4.4 MB/s eta 0:00:02\n",
      "     -------------------------------- ------- 27.0/32.8 MB 4.4 MB/s eta 0:00:02\n",
      "     --------------------------------- ------ 27.2/32.8 MB 4.5 MB/s eta 0:00:02\n",
      "     --------------------------------- ------ 27.4/32.8 MB 4.5 MB/s eta 0:00:02\n",
      "     --------------------------------- ------ 27.7/32.8 MB 4.5 MB/s eta 0:00:02\n",
      "     --------------------------------- ------ 27.9/32.8 MB 4.5 MB/s eta 0:00:02\n",
      "     ---------------------------------- ----- 28.1/32.8 MB 4.6 MB/s eta 0:00:02\n",
      "     ---------------------------------- ----- 28.3/32.8 MB 4.6 MB/s eta 0:00:01\n",
      "     ---------------------------------- ----- 28.6/32.8 MB 4.6 MB/s eta 0:00:01\n",
      "     ----------------------------------- ---- 28.8/32.8 MB 4.7 MB/s eta 0:00:01\n",
      "     ----------------------------------- ---- 29.1/32.8 MB 4.7 MB/s eta 0:00:01\n",
      "     ----------------------------------- ---- 29.3/32.8 MB 4.7 MB/s eta 0:00:01\n",
      "     ----------------------------------- ---- 29.5/32.8 MB 4.7 MB/s eta 0:00:01\n",
      "     ------------------------------------ --- 29.7/32.8 MB 4.8 MB/s eta 0:00:01\n",
      "     ------------------------------------ --- 30.0/32.8 MB 4.8 MB/s eta 0:00:01\n",
      "     ------------------------------------ --- 30.2/32.8 MB 4.9 MB/s eta 0:00:01\n",
      "     ------------------------------------ --- 30.3/32.8 MB 4.9 MB/s eta 0:00:01\n",
      "     ------------------------------------- -- 30.4/32.8 MB 4.9 MB/s eta 0:00:01\n",
      "     ------------------------------------- -- 30.5/32.8 MB 4.8 MB/s eta 0:00:01\n",
      "     ------------------------------------- -- 30.7/32.8 MB 4.8 MB/s eta 0:00:01\n",
      "     ------------------------------------- -- 30.9/32.8 MB 4.8 MB/s eta 0:00:01\n",
      "     -------------------------------------- - 31.2/32.8 MB 4.9 MB/s eta 0:00:01\n",
      "     -------------------------------------- - 31.4/32.8 MB 4.9 MB/s eta 0:00:01\n",
      "     -------------------------------------- - 31.7/32.8 MB 4.9 MB/s eta 0:00:01\n",
      "     -------------------------------------- - 31.9/32.8 MB 5.0 MB/s eta 0:00:01\n",
      "     ---------------------------------------  32.2/32.8 MB 5.0 MB/s eta 0:00:01\n",
      "     ---------------------------------------  32.4/32.8 MB 5.0 MB/s eta 0:00:01\n",
      "     ---------------------------------------  32.6/32.8 MB 5.0 MB/s eta 0:00:01\n",
      "     ---------------------------------------  32.8/32.8 MB 5.0 MB/s eta 0:00:01\n",
      "     ---------------------------------------  32.8/32.8 MB 5.0 MB/s eta 0:00:01\n",
      "     ---------------------------------------  32.8/32.8 MB 5.0 MB/s eta 0:00:01\n",
      "     ---------------------------------------  32.8/32.8 MB 5.0 MB/s eta 0:00:01\n",
      "     ---------------------------------------  32.8/32.8 MB 5.0 MB/s eta 0:00:01\n",
      "     ---------------------------------------- 32.8/32.8 MB 4.5 MB/s eta 0:00:00\n",
      "Requirement already satisfied: requests>=2.26.0 in c:\\users\\jdamodhar\\appdata\\local\\programs\\python\\python311\\lib\\site-packages (from SpeechRecognition) (2.31.0)\n",
      "Requirement already satisfied: charset-normalizer<4,>=2 in c:\\users\\jdamodhar\\appdata\\local\\programs\\python\\python311\\lib\\site-packages (from requests>=2.26.0->SpeechRecognition) (3.3.0)\n",
      "Requirement already satisfied: idna<4,>=2.5 in c:\\users\\jdamodhar\\appdata\\local\\programs\\python\\python311\\lib\\site-packages (from requests>=2.26.0->SpeechRecognition) (3.4)\n",
      "Requirement already satisfied: urllib3<3,>=1.21.1 in c:\\users\\jdamodhar\\appdata\\local\\programs\\python\\python311\\lib\\site-packages (from requests>=2.26.0->SpeechRecognition) (1.26.17)\n",
      "Requirement already satisfied: certifi>=2017.4.17 in c:\\users\\jdamodhar\\appdata\\local\\programs\\python\\python311\\lib\\site-packages (from requests>=2.26.0->SpeechRecognition) (2023.7.22)\n",
      "Installing collected packages: SpeechRecognition\n",
      "Successfully installed SpeechRecognition-3.10.0\n"
     ]
    }
   ],
   "source": [
    "!pip install SpeechRecognition"
   ]
  },
  {
   "cell_type": "code",
   "execution_count": 3,
   "metadata": {},
   "outputs": [],
   "source": [
    "# Importing the speech_recognition library\n",
    "import speech_recognition as sr\n",
    "\n",
    "# Create an instance of the Recognizer class\n",
    "recognizer = sr.Recognizer()\n",
    "\n",
    "# Set the energy threshold\n",
    "recognizer.energy_threshold = 300"
   ]
  },
  {
   "cell_type": "code",
   "execution_count": 5,
   "metadata": {},
   "outputs": [
    {
     "ename": "AssertionError",
     "evalue": "``audio_data`` must be audio data",
     "output_type": "error",
     "traceback": [
      "\u001b[1;31m---------------------------------------------------------------------------\u001b[0m",
      "\u001b[1;31mAssertionError\u001b[0m                            Traceback (most recent call last)",
      "\u001b[1;32mc:\\Users\\jdamodhar\\Desktop\\python_essential\\DataCamp-ds-deloitte-master\\00-A\\94-Spoken Language Processing in Python\\02- Using the Python SpeechRecognition library.ipynb Cell 3\u001b[0m line \u001b[0;36m5\n\u001b[0;32m      <a href='vscode-notebook-cell:/c%3A/Users/jdamodhar/Desktop/python_essential/DataCamp-ds-deloitte-master/00-A/94-Spoken%20Language%20Processing%20in%20Python/02-%20Using%20the%20Python%20SpeechRecognition%20library.ipynb#W2sZmlsZQ%3D%3D?line=2'>3</a>\u001b[0m clean_support_call_audio \u001b[39m=\u001b[39m sr\u001b[39m.\u001b[39mAudioFile(\u001b[39m\"\u001b[39m\u001b[39m./good_morning.wav\u001b[39m\u001b[39m\"\u001b[39m)\n\u001b[0;32m      <a href='vscode-notebook-cell:/c%3A/Users/jdamodhar/Desktop/python_essential/DataCamp-ds-deloitte-master/00-A/94-Spoken%20Language%20Processing%20in%20Python/02-%20Using%20the%20Python%20SpeechRecognition%20library.ipynb#W2sZmlsZQ%3D%3D?line=3'>4</a>\u001b[0m \u001b[39m# Transcribe the support call audio\u001b[39;00m\n\u001b[1;32m----> <a href='vscode-notebook-cell:/c%3A/Users/jdamodhar/Desktop/python_essential/DataCamp-ds-deloitte-master/00-A/94-Spoken%20Language%20Processing%20in%20Python/02-%20Using%20the%20Python%20SpeechRecognition%20library.ipynb#W2sZmlsZQ%3D%3D?line=4'>5</a>\u001b[0m text \u001b[39m=\u001b[39m recognizer\u001b[39m.\u001b[39;49mrecognize_google(\n\u001b[0;32m      <a href='vscode-notebook-cell:/c%3A/Users/jdamodhar/Desktop/python_essential/DataCamp-ds-deloitte-master/00-A/94-Spoken%20Language%20Processing%20in%20Python/02-%20Using%20the%20Python%20SpeechRecognition%20library.ipynb#W2sZmlsZQ%3D%3D?line=5'>6</a>\u001b[0m   audio_data\u001b[39m=\u001b[39;49mclean_support_call_audio, \n\u001b[0;32m      <a href='vscode-notebook-cell:/c%3A/Users/jdamodhar/Desktop/python_essential/DataCamp-ds-deloitte-master/00-A/94-Spoken%20Language%20Processing%20in%20Python/02-%20Using%20the%20Python%20SpeechRecognition%20library.ipynb#W2sZmlsZQ%3D%3D?line=6'>7</a>\u001b[0m   language\u001b[39m=\u001b[39;49m\u001b[39m\"\u001b[39;49m\u001b[39men-US\u001b[39;49m\u001b[39m\"\u001b[39;49m)\n\u001b[0;32m      <a href='vscode-notebook-cell:/c%3A/Users/jdamodhar/Desktop/python_essential/DataCamp-ds-deloitte-master/00-A/94-Spoken%20Language%20Processing%20in%20Python/02-%20Using%20the%20Python%20SpeechRecognition%20library.ipynb#W2sZmlsZQ%3D%3D?line=8'>9</a>\u001b[0m \u001b[39mprint\u001b[39m(text)\n",
      "File \u001b[1;32mc:\\Users\\jdamodhar\\AppData\\Local\\Programs\\Python\\Python311\\Lib\\site-packages\\speech_recognition\\__init__.py:689\u001b[0m, in \u001b[0;36mRecognizer.recognize_google\u001b[1;34m(self, audio_data, key, language, pfilter, show_all, with_confidence)\u001b[0m\n\u001b[0;32m    673\u001b[0m \u001b[39mdef\u001b[39;00m \u001b[39mrecognize_google\u001b[39m(\u001b[39mself\u001b[39m, audio_data, key\u001b[39m=\u001b[39m\u001b[39mNone\u001b[39;00m, language\u001b[39m=\u001b[39m\u001b[39m\"\u001b[39m\u001b[39men-US\u001b[39m\u001b[39m\"\u001b[39m, pfilter\u001b[39m=\u001b[39m\u001b[39m0\u001b[39m, show_all\u001b[39m=\u001b[39m\u001b[39mFalse\u001b[39;00m, with_confidence\u001b[39m=\u001b[39m\u001b[39mFalse\u001b[39;00m):\n\u001b[0;32m    674\u001b[0m \u001b[39m    \u001b[39m\u001b[39m\"\"\"\u001b[39;00m\n\u001b[0;32m    675\u001b[0m \u001b[39m    Performs speech recognition on ``audio_data`` (an ``AudioData`` instance), using the Google Speech Recognition API.\u001b[39;00m\n\u001b[0;32m    676\u001b[0m \n\u001b[1;32m   (...)\u001b[0m\n\u001b[0;32m    687\u001b[0m \u001b[39m    Raises a ``speech_recognition.UnknownValueError`` exception if the speech is unintelligible. Raises a ``speech_recognition.RequestError`` exception if the speech recognition operation failed, if the key isn't valid, or if there is no internet connection.\u001b[39;00m\n\u001b[0;32m    688\u001b[0m \u001b[39m    \"\"\"\u001b[39;00m\n\u001b[1;32m--> 689\u001b[0m     \u001b[39massert\u001b[39;00m \u001b[39misinstance\u001b[39m(audio_data, AudioData), \u001b[39m\"\u001b[39m\u001b[39m``audio_data`` must be audio data\u001b[39m\u001b[39m\"\u001b[39m\n\u001b[0;32m    690\u001b[0m     \u001b[39massert\u001b[39;00m key \u001b[39mis\u001b[39;00m \u001b[39mNone\u001b[39;00m \u001b[39mor\u001b[39;00m \u001b[39misinstance\u001b[39m(key, \u001b[39mstr\u001b[39m), \u001b[39m\"\u001b[39m\u001b[39m``key`` must be ``None`` or a string\u001b[39m\u001b[39m\"\u001b[39m\n\u001b[0;32m    691\u001b[0m     \u001b[39massert\u001b[39;00m \u001b[39misinstance\u001b[39m(language, \u001b[39mstr\u001b[39m), \u001b[39m\"\u001b[39m\u001b[39m``language`` must be a string\u001b[39m\u001b[39m\"\u001b[39m\n",
      "\u001b[1;31mAssertionError\u001b[0m: ``audio_data`` must be audio data"
     ]
    }
   ],
   "source": [
    "# Create a recognizer class\n",
    "recognizer = sr.Recognizer()\n",
    "clean_support_call_audio = sr.AudioFile(\"./good_morning.wav\")\n",
    "# Transcribe the support call audio\n",
    "text = recognizer.recognize_google(\n",
    "  audio_data=clean_support_call_audio, \n",
    "  language=\"en-US\")\n",
    "\n",
    "print(text)"
   ]
  },
  {
   "cell_type": "code",
   "execution_count": 5,
   "metadata": {},
   "outputs": [
    {
     "ename": "UnknownValueError",
     "evalue": "",
     "output_type": "error",
     "traceback": [
      "\u001b[1;31m---------------------------------------------------------------------------\u001b[0m",
      "\u001b[1;31mUnknownValueError\u001b[0m                         Traceback (most recent call last)",
      "\u001b[1;32mc:\\Users\\jdamodhar\\Desktop\\python_essential\\DataCamp-ds-deloitte-master\\00-A\\94-Spoken Language Processing in Python\\02- Using the Python SpeechRecognition library.ipynb Cell 4\u001b[0m line \u001b[0;36m8\n\u001b[0;32m      <a href='vscode-notebook-cell:/c%3A/Users/jdamodhar/Desktop/python_essential/DataCamp-ds-deloitte-master/00-A/94-Spoken%20Language%20Processing%20in%20Python/02-%20Using%20the%20Python%20SpeechRecognition%20library.ipynb#W3sZmlsZQ%3D%3D?line=5'>6</a>\u001b[0m \u001b[39mwith\u001b[39;00m clean_support_call_audio \u001b[39mas\u001b[39;00m source:\n\u001b[0;32m      <a href='vscode-notebook-cell:/c%3A/Users/jdamodhar/Desktop/python_essential/DataCamp-ds-deloitte-master/00-A/94-Spoken%20Language%20Processing%20in%20Python/02-%20Using%20the%20Python%20SpeechRecognition%20library.ipynb#W3sZmlsZQ%3D%3D?line=6'>7</a>\u001b[0m     audio_data \u001b[39m=\u001b[39m recognizer\u001b[39m.\u001b[39mrecord(source)\n\u001b[1;32m----> <a href='vscode-notebook-cell:/c%3A/Users/jdamodhar/Desktop/python_essential/DataCamp-ds-deloitte-master/00-A/94-Spoken%20Language%20Processing%20in%20Python/02-%20Using%20the%20Python%20SpeechRecognition%20library.ipynb#W3sZmlsZQ%3D%3D?line=7'>8</a>\u001b[0m text \u001b[39m=\u001b[39m recognizer\u001b[39m.\u001b[39;49mrecognize_google(audio_data\u001b[39m=\u001b[39;49maudio_data, language\u001b[39m=\u001b[39;49m\u001b[39m\"\u001b[39;49m\u001b[39men-US\u001b[39;49m\u001b[39m\"\u001b[39;49m)\n\u001b[0;32m      <a href='vscode-notebook-cell:/c%3A/Users/jdamodhar/Desktop/python_essential/DataCamp-ds-deloitte-master/00-A/94-Spoken%20Language%20Processing%20in%20Python/02-%20Using%20the%20Python%20SpeechRecognition%20library.ipynb#W3sZmlsZQ%3D%3D?line=8'>9</a>\u001b[0m \u001b[39mprint\u001b[39m(text)\n",
      "File \u001b[1;32mc:\\Users\\jdamodhar\\AppData\\Local\\Programs\\Python\\Python311\\Lib\\site-packages\\speech_recognition\\__init__.py:728\u001b[0m, in \u001b[0;36mRecognizer.recognize_google\u001b[1;34m(self, audio_data, key, language, pfilter, show_all, with_confidence)\u001b[0m\n\u001b[0;32m    725\u001b[0m \u001b[39mif\u001b[39;00m show_all:\n\u001b[0;32m    726\u001b[0m     \u001b[39mreturn\u001b[39;00m actual_result\n\u001b[1;32m--> 728\u001b[0m \u001b[39mif\u001b[39;00m \u001b[39mnot\u001b[39;00m \u001b[39misinstance\u001b[39m(actual_result, \u001b[39mdict\u001b[39m) \u001b[39mor\u001b[39;00m \u001b[39mlen\u001b[39m(actual_result\u001b[39m.\u001b[39mget(\u001b[39m\"\u001b[39m\u001b[39malternative\u001b[39m\u001b[39m\"\u001b[39m, [])) \u001b[39m==\u001b[39m \u001b[39m0\u001b[39m: \u001b[39mraise\u001b[39;00m UnknownValueError()\n\u001b[0;32m    730\u001b[0m \u001b[39mif\u001b[39;00m \u001b[39m\"\u001b[39m\u001b[39mconfidence\u001b[39m\u001b[39m\"\u001b[39m \u001b[39min\u001b[39;00m actual_result[\u001b[39m\"\u001b[39m\u001b[39malternative\u001b[39m\u001b[39m\"\u001b[39m]:\n\u001b[0;32m    731\u001b[0m     \u001b[39m# return alternative with highest confidence score\u001b[39;00m\n\u001b[0;32m    732\u001b[0m     best_hypothesis \u001b[39m=\u001b[39m \u001b[39mmax\u001b[39m(actual_result[\u001b[39m\"\u001b[39m\u001b[39malternative\u001b[39m\u001b[39m\"\u001b[39m], key\u001b[39m=\u001b[39m\u001b[39mlambda\u001b[39;00m alternative: alternative[\u001b[39m\"\u001b[39m\u001b[39mconfidence\u001b[39m\u001b[39m\"\u001b[39m])\n",
      "\u001b[1;31mUnknownValueError\u001b[0m: "
     ]
    }
   ],
   "source": [
    "import speech_recognition as sr\n",
    "recognizer = sr.Recognizer()\n",
    "\n",
    "clean_support_call_audio = sr.AudioFile(\"./good_morning.wav\")\n",
    "with clean_support_call_audio as source:\n",
    "    audio_data = recognizer.record(source)\n",
    "text = recognizer.recognize_google(audio_data=audio_data, language=\"en-US\")\n",
    "print(text)"
   ]
  },
  {
   "cell_type": "code",
   "execution_count": 6,
   "metadata": {},
   "outputs": [
    {
     "ename": "UnknownValueError",
     "evalue": "",
     "output_type": "error",
     "traceback": [
      "\u001b[1;31m---------------------------------------------------------------------------\u001b[0m",
      "\u001b[1;31mUnknownValueError\u001b[0m                         Traceback (most recent call last)",
      "\u001b[1;32mc:\\Users\\jdamodhar\\Desktop\\python_essential\\DataCamp-ds-deloitte-master\\00-A\\94-Spoken Language Processing in Python\\02- Using the Python SpeechRecognition library.ipynb Cell 5\u001b[0m line \u001b[0;36m1\n\u001b[0;32m      <a href='vscode-notebook-cell:/c%3A/Users/jdamodhar/Desktop/python_essential/DataCamp-ds-deloitte-master/00-A/94-Spoken%20Language%20Processing%20in%20Python/02-%20Using%20the%20Python%20SpeechRecognition%20library.ipynb#W4sZmlsZQ%3D%3D?line=8'>9</a>\u001b[0m     clean_support_call_audio \u001b[39m=\u001b[39m recognizer\u001b[39m.\u001b[39mrecord(source)\n\u001b[0;32m     <a href='vscode-notebook-cell:/c%3A/Users/jdamodhar/Desktop/python_essential/DataCamp-ds-deloitte-master/00-A/94-Spoken%20Language%20Processing%20in%20Python/02-%20Using%20the%20Python%20SpeechRecognition%20library.ipynb#W4sZmlsZQ%3D%3D?line=10'>11</a>\u001b[0m \u001b[39m# Transcribe AudioData to text\u001b[39;00m\n\u001b[1;32m---> <a href='vscode-notebook-cell:/c%3A/Users/jdamodhar/Desktop/python_essential/DataCamp-ds-deloitte-master/00-A/94-Spoken%20Language%20Processing%20in%20Python/02-%20Using%20the%20Python%20SpeechRecognition%20library.ipynb#W4sZmlsZQ%3D%3D?line=11'>12</a>\u001b[0m text \u001b[39m=\u001b[39m recognizer\u001b[39m.\u001b[39;49mrecognize_google(clean_support_call_audio,\n\u001b[0;32m     <a href='vscode-notebook-cell:/c%3A/Users/jdamodhar/Desktop/python_essential/DataCamp-ds-deloitte-master/00-A/94-Spoken%20Language%20Processing%20in%20Python/02-%20Using%20the%20Python%20SpeechRecognition%20library.ipynb#W4sZmlsZQ%3D%3D?line=12'>13</a>\u001b[0m                                    language\u001b[39m=\u001b[39;49m\u001b[39m\"\u001b[39;49m\u001b[39men-US\u001b[39;49m\u001b[39m\"\u001b[39;49m)\n\u001b[0;32m     <a href='vscode-notebook-cell:/c%3A/Users/jdamodhar/Desktop/python_essential/DataCamp-ds-deloitte-master/00-A/94-Spoken%20Language%20Processing%20in%20Python/02-%20Using%20the%20Python%20SpeechRecognition%20library.ipynb#W4sZmlsZQ%3D%3D?line=13'>14</a>\u001b[0m \u001b[39mprint\u001b[39m(text)\n",
      "File \u001b[1;32mc:\\Users\\jdamodhar\\AppData\\Local\\Programs\\Python\\Python311\\Lib\\site-packages\\speech_recognition\\__init__.py:728\u001b[0m, in \u001b[0;36mRecognizer.recognize_google\u001b[1;34m(self, audio_data, key, language, pfilter, show_all, with_confidence)\u001b[0m\n\u001b[0;32m    725\u001b[0m \u001b[39mif\u001b[39;00m show_all:\n\u001b[0;32m    726\u001b[0m     \u001b[39mreturn\u001b[39;00m actual_result\n\u001b[1;32m--> 728\u001b[0m \u001b[39mif\u001b[39;00m \u001b[39mnot\u001b[39;00m \u001b[39misinstance\u001b[39m(actual_result, \u001b[39mdict\u001b[39m) \u001b[39mor\u001b[39;00m \u001b[39mlen\u001b[39m(actual_result\u001b[39m.\u001b[39mget(\u001b[39m\"\u001b[39m\u001b[39malternative\u001b[39m\u001b[39m\"\u001b[39m, [])) \u001b[39m==\u001b[39m \u001b[39m0\u001b[39m: \u001b[39mraise\u001b[39;00m UnknownValueError()\n\u001b[0;32m    730\u001b[0m \u001b[39mif\u001b[39;00m \u001b[39m\"\u001b[39m\u001b[39mconfidence\u001b[39m\u001b[39m\"\u001b[39m \u001b[39min\u001b[39;00m actual_result[\u001b[39m\"\u001b[39m\u001b[39malternative\u001b[39m\u001b[39m\"\u001b[39m]:\n\u001b[0;32m    731\u001b[0m     \u001b[39m# return alternative with highest confidence score\u001b[39;00m\n\u001b[0;32m    732\u001b[0m     best_hypothesis \u001b[39m=\u001b[39m \u001b[39mmax\u001b[39m(actual_result[\u001b[39m\"\u001b[39m\u001b[39malternative\u001b[39m\u001b[39m\"\u001b[39m], key\u001b[39m=\u001b[39m\u001b[39mlambda\u001b[39;00m alternative: alternative[\u001b[39m\"\u001b[39m\u001b[39mconfidence\u001b[39m\u001b[39m\"\u001b[39m])\n",
      "\u001b[1;31mUnknownValueError\u001b[0m: "
     ]
    }
   ],
   "source": [
    "# Instantiate Recognizer\n",
    "recognizer = sr.Recognizer()\n",
    "\n",
    "# Convert audio to AudioFile\n",
    "clean_support_call = sr.AudioFile(\"./good_morning.wav\")\n",
    "\n",
    "# Convert AudioFile to AudioData\n",
    "with clean_support_call as source:\n",
    "    clean_support_call_audio = recognizer.record(source)\n",
    "\n",
    "# Transcribe AudioData to text\n",
    "text = recognizer.recognize_google(clean_support_call_audio,\n",
    "                                   language=\"en-US\")\n",
    "print(text)"
   ]
  },
  {
   "cell_type": "code",
   "execution_count": 9,
   "metadata": {},
   "outputs": [
    {
     "name": "stdout",
     "output_type": "stream",
     "text": [
      "this ODI fall has 30 seconds of nothing at the end of it\n"
     ]
    }
   ],
   "source": [
    "nothing_at_end = sr.AudioFile(\"./30-seconds-of-nothing-16k.wav\")\n",
    "# Convert AudioFile to AudioData\n",
    "with nothing_at_end as source:\n",
    "    nothing_at_end_audio = recognizer.record(source,\n",
    "                                             duration=10,\n",
    "                                             offset=None)\n",
    "\n",
    "# Transcribe AudioData to text\n",
    "text = recognizer.recognize_google(nothing_at_end_audio,\n",
    "                                   language=\"en-US\")\n",
    "\n",
    "print(text)"
   ]
  },
  {
   "cell_type": "code",
   "execution_count": 11,
   "metadata": {},
   "outputs": [
    {
     "name": "stdout",
     "output_type": "stream",
     "text": [
      "hello I like to get some help with my device please I think it's a set of warranty I wanted about two years ago\n"
     ]
    }
   ],
   "source": [
    "static_at_start = sr.AudioFile(\"./static-out-of-warranty.wav\")\n",
    "# Convert AudioFile to AudioData\n",
    "with static_at_start as source:\n",
    "    static_art_start_audio = recognizer.record(source,\n",
    "                                               duration=None,\n",
    "                                               offset=3)\n",
    "\n",
    "# Transcribe AudioData to text\n",
    "text = recognizer.recognize_google(static_art_start_audio,\n",
    "                                   language=\"en-US\")\n",
    "\n",
    "print(text)"
   ]
  },
  {
   "cell_type": "code",
   "execution_count": 13,
   "metadata": {},
   "outputs": [
    {
     "ename": "AssertionError",
     "evalue": "``audio_data`` must be audio data",
     "output_type": "error",
     "traceback": [
      "\u001b[1;31m---------------------------------------------------------------------------\u001b[0m",
      "\u001b[1;31mAssertionError\u001b[0m                            Traceback (most recent call last)",
      "\u001b[1;32mc:\\Users\\jdamodhar\\Desktop\\python_essential\\DataCamp-ds-deloitte-master\\00-A\\94-Spoken Language Processing in Python\\02- Using the Python SpeechRecognition library.ipynb Cell 8\u001b[0m line \u001b[0;36m5\n\u001b[0;32m      <a href='vscode-notebook-cell:/c%3A/Users/jdamodhar/Desktop/python_essential/DataCamp-ds-deloitte-master/00-A/94-Spoken%20Language%20Processing%20in%20Python/02-%20Using%20the%20Python%20SpeechRecognition%20library.ipynb#X10sZmlsZQ%3D%3D?line=2'>3</a>\u001b[0m japanese_audio \u001b[39m=\u001b[39m sr\u001b[39m.\u001b[39mAudioFile(\u001b[39m\"\u001b[39m\u001b[39m./good-morning-japanense.wav\u001b[39m\u001b[39m\"\u001b[39m)\n\u001b[0;32m      <a href='vscode-notebook-cell:/c%3A/Users/jdamodhar/Desktop/python_essential/DataCamp-ds-deloitte-master/00-A/94-Spoken%20Language%20Processing%20in%20Python/02-%20Using%20the%20Python%20SpeechRecognition%20library.ipynb#X10sZmlsZQ%3D%3D?line=3'>4</a>\u001b[0m \u001b[39m# Pass the Japanese audio to recognize_google\u001b[39;00m\n\u001b[1;32m----> <a href='vscode-notebook-cell:/c%3A/Users/jdamodhar/Desktop/python_essential/DataCamp-ds-deloitte-master/00-A/94-Spoken%20Language%20Processing%20in%20Python/02-%20Using%20the%20Python%20SpeechRecognition%20library.ipynb#X10sZmlsZQ%3D%3D?line=4'>5</a>\u001b[0m text \u001b[39m=\u001b[39m recognizer\u001b[39m.\u001b[39;49mrecognize_google(japanese_audio, language\u001b[39m=\u001b[39;49m\u001b[39m\"\u001b[39;49m\u001b[39men-US\u001b[39;49m\u001b[39m\"\u001b[39;49m)\n\u001b[0;32m      <a href='vscode-notebook-cell:/c%3A/Users/jdamodhar/Desktop/python_essential/DataCamp-ds-deloitte-master/00-A/94-Spoken%20Language%20Processing%20in%20Python/02-%20Using%20the%20Python%20SpeechRecognition%20library.ipynb#X10sZmlsZQ%3D%3D?line=6'>7</a>\u001b[0m \u001b[39m# Print the text\u001b[39;00m\n\u001b[0;32m      <a href='vscode-notebook-cell:/c%3A/Users/jdamodhar/Desktop/python_essential/DataCamp-ds-deloitte-master/00-A/94-Spoken%20Language%20Processing%20in%20Python/02-%20Using%20the%20Python%20SpeechRecognition%20library.ipynb#X10sZmlsZQ%3D%3D?line=7'>8</a>\u001b[0m \u001b[39mprint\u001b[39m(text)\n",
      "File \u001b[1;32mc:\\Users\\jdamodhar\\AppData\\Local\\Programs\\Python\\Python311\\Lib\\site-packages\\speech_recognition\\__init__.py:689\u001b[0m, in \u001b[0;36mRecognizer.recognize_google\u001b[1;34m(self, audio_data, key, language, pfilter, show_all, with_confidence)\u001b[0m\n\u001b[0;32m    673\u001b[0m \u001b[39mdef\u001b[39;00m \u001b[39mrecognize_google\u001b[39m(\u001b[39mself\u001b[39m, audio_data, key\u001b[39m=\u001b[39m\u001b[39mNone\u001b[39;00m, language\u001b[39m=\u001b[39m\u001b[39m\"\u001b[39m\u001b[39men-US\u001b[39m\u001b[39m\"\u001b[39m, pfilter\u001b[39m=\u001b[39m\u001b[39m0\u001b[39m, show_all\u001b[39m=\u001b[39m\u001b[39mFalse\u001b[39;00m, with_confidence\u001b[39m=\u001b[39m\u001b[39mFalse\u001b[39;00m):\n\u001b[0;32m    674\u001b[0m \u001b[39m    \u001b[39m\u001b[39m\"\"\"\u001b[39;00m\n\u001b[0;32m    675\u001b[0m \u001b[39m    Performs speech recognition on ``audio_data`` (an ``AudioData`` instance), using the Google Speech Recognition API.\u001b[39;00m\n\u001b[0;32m    676\u001b[0m \n\u001b[1;32m   (...)\u001b[0m\n\u001b[0;32m    687\u001b[0m \u001b[39m    Raises a ``speech_recognition.UnknownValueError`` exception if the speech is unintelligible. Raises a ``speech_recognition.RequestError`` exception if the speech recognition operation failed, if the key isn't valid, or if there is no internet connection.\u001b[39;00m\n\u001b[0;32m    688\u001b[0m \u001b[39m    \"\"\"\u001b[39;00m\n\u001b[1;32m--> 689\u001b[0m     \u001b[39massert\u001b[39;00m \u001b[39misinstance\u001b[39m(audio_data, AudioData), \u001b[39m\"\u001b[39m\u001b[39m``audio_data`` must be audio data\u001b[39m\u001b[39m\"\u001b[39m\n\u001b[0;32m    690\u001b[0m     \u001b[39massert\u001b[39;00m key \u001b[39mis\u001b[39;00m \u001b[39mNone\u001b[39;00m \u001b[39mor\u001b[39;00m \u001b[39misinstance\u001b[39m(key, \u001b[39mstr\u001b[39m), \u001b[39m\"\u001b[39m\u001b[39m``key`` must be ``None`` or a string\u001b[39m\u001b[39m\"\u001b[39m\n\u001b[0;32m    691\u001b[0m     \u001b[39massert\u001b[39;00m \u001b[39misinstance\u001b[39m(language, \u001b[39mstr\u001b[39m), \u001b[39m\"\u001b[39m\u001b[39m``language`` must be a string\u001b[39m\u001b[39m\"\u001b[39m\n",
      "\u001b[1;31mAssertionError\u001b[0m: ``audio_data`` must be audio data"
     ]
    }
   ],
   "source": [
    "# Create a recognizer class\n",
    "recognizer = sr.Recognizer()\n",
    "japanese_audio = sr.AudioFile(\"./good-morning-japanense.wav\")\n",
    "# Pass the Japanese audio to recognize_google\n",
    "text = recognizer.recognize_google(japanese_audio, language=\"en-US\")\n",
    "\n",
    "# Print the text\n",
    "print(text)"
   ]
  },
  {
   "cell_type": "code",
   "execution_count": 14,
   "metadata": {},
   "outputs": [
    {
     "name": "stdout",
     "output_type": "stream",
     "text": [
      "jamas\n"
     ]
    }
   ],
   "source": [
    "# Define audio file path\n",
    "japanese_audio = sr.AudioFile(\"./good-morning-japanense.wav\")\n",
    "\n",
    "# Convert the Japanese audio to AudioData instance\n",
    "with japanese_audio as source:\n",
    "    audio_data = recognizer.record(source)\n",
    "\n",
    "# Pass the AudioData instance to recognize_google\n",
    "text = recognizer.recognize_google(audio_data, language=\"en-US\")\n",
    "\n",
    "# Print the text\n",
    "print(text)"
   ]
  },
  {
   "cell_type": "code",
   "execution_count": 16,
   "metadata": {},
   "outputs": [
    {
     "name": "stdout",
     "output_type": "stream",
     "text": [
      "おはようございます\n"
     ]
    }
   ],
   "source": [
    "# Create a recognizer class\n",
    "recognizer = sr.Recognizer()\n",
    "\n",
    "# Pass the Japanese audio to recognize_google\n",
    "text = recognizer.recognize_google(audio_data, language=\"ja\")\n",
    "\n",
    "# Print the text\n",
    "print(text)"
   ]
  },
  {
   "cell_type": "code",
   "execution_count": 19,
   "metadata": {},
   "outputs": [
    {
     "name": "stdout",
     "output_type": "stream",
     "text": [
      "[]\n"
     ]
    }
   ],
   "source": [
    "recognizer = sr.Recognizer()\n",
    "\n",
    "with sr.AudioFile(\"./leopard.wav\") as source:\n",
    "    leopard_audio = recognizer.record(source) \n",
    "\n",
    "text = recognizer.recognize_google(leopard_audio, \n",
    "                                   language=\"en-US\", \n",
    "                                   show_all=True)\n",
    "print(text)"
   ]
  },
  {
   "cell_type": "code",
   "execution_count": 23,
   "metadata": {},
   "outputs": [
    {
     "name": "stdout",
     "output_type": "stream",
     "text": [
      "{'alternative': [{'transcript': 'Chali baby'}, {'transcript': 'choli baby'}, {'transcript': 'Jolly baby'}, {'transcript': 'Charlie baby'}], 'final': True}\n"
     ]
    }
   ],
   "source": [
    "# Create a recognizer class\n",
    "recognizer = sr.Recognizer()\n",
    "with sr.AudioFile(\"./charlie-bit-me-5.wav\") as source:\n",
    "    charlie_audio = recognizer.record(source)\n",
    "# Pass charlie_audio to recognize_google\n",
    "text = recognizer.recognize_google(charlie_audio, \n",
    "                                   language=\"en-US\",\n",
    "                                   show_all=True)\n",
    "\n",
    "# Print the text\n",
    "print(text)"
   ]
  },
  {
   "cell_type": "code",
   "execution_count": 24,
   "metadata": {},
   "outputs": [
    {
     "name": "stdout",
     "output_type": "stream",
     "text": [
      "what are the limitations of the speech recognition library is that it doesn't recognise different speakers and voices you are just return it always one block a text\n"
     ]
    }
   ],
   "source": [
    "# Create a recognizer class\n",
    "recognizer = sr.Recognizer()\n",
    "with sr.AudioFile(\"./multiple-speakers-16k.wav\") as source:\n",
    "    multiple_speakers = recognizer.record(source)\n",
    "# Recognize the multiple speaker AudioData\n",
    "text = recognizer.recognize_google(multiple_speakers,\n",
    "                                   language=\"en-US\")\n",
    "\n",
    "# Print the text\n",
    "print(text)"
   ]
  },
  {
   "cell_type": "code",
   "execution_count": 26,
   "metadata": {},
   "outputs": [
    {
     "name": "stdout",
     "output_type": "stream",
     "text": [
      "Collecting pydub\n",
      "  Downloading pydub-0.25.1-py2.py3-none-any.whl (32 kB)\n",
      "Installing collected packages: pydub\n",
      "Successfully installed pydub-0.25.1\n"
     ]
    }
   ],
   "source": [
    "# !pip install pydub  "
   ]
  },
  {
   "cell_type": "code",
   "execution_count": 30,
   "metadata": {},
   "outputs": [
    {
     "name": "stdout",
     "output_type": "stream",
     "text": [
      "1\n"
     ]
    },
    {
     "ename": "TypeError",
     "evalue": "unsupported operand type(s) for /: 'int' and 'list'",
     "output_type": "error",
     "traceback": [
      "\u001b[1;31m---------------------------------------------------------------------------\u001b[0m",
      "\u001b[1;31mTypeError\u001b[0m                                 Traceback (most recent call last)",
      "\u001b[1;32mc:\\Users\\jdamodhar\\Desktop\\python_essential\\DataCamp-ds-deloitte-master\\00-A\\94-Spoken Language Processing in Python\\02- Using the Python SpeechRecognition library.ipynb Cell 15\u001b[0m line \u001b[0;36m1\n\u001b[0;32m      <a href='vscode-notebook-cell:/c%3A/Users/jdamodhar/Desktop/python_essential/DataCamp-ds-deloitte-master/00-A/94-Spoken%20Language%20Processing%20in%20Python/02-%20Using%20the%20Python%20SpeechRecognition%20library.ipynb#X21sZmlsZQ%3D%3D?line=8'>9</a>\u001b[0m \u001b[39m# split the audio into individual tracks based on number of voices\u001b[39;00m\n\u001b[0;32m     <a href='vscode-notebook-cell:/c%3A/Users/jdamodhar/Desktop/python_essential/DataCamp-ds-deloitte-master/00-A/94-Spoken%20Language%20Processing%20in%20Python/02-%20Using%20the%20Python%20SpeechRecognition%20library.ipynb#X21sZmlsZQ%3D%3D?line=9'>10</a>\u001b[0m \u001b[39mfor\u001b[39;00m i \u001b[39min\u001b[39;00m \u001b[39mrange\u001b[39m(\u001b[39mlen\u001b[39m(num_voices)):\n\u001b[0;32m     <a href='vscode-notebook-cell:/c%3A/Users/jdamodhar/Desktop/python_essential/DataCamp-ds-deloitte-master/00-A/94-Spoken%20Language%20Processing%20in%20Python/02-%20Using%20the%20Python%20SpeechRecognition%20library.ipynb#X21sZmlsZQ%3D%3D?line=10'>11</a>\u001b[0m     \u001b[39m# define the start and end times for each track\u001b[39;00m\n\u001b[1;32m---> <a href='vscode-notebook-cell:/c%3A/Users/jdamodhar/Desktop/python_essential/DataCamp-ds-deloitte-master/00-A/94-Spoken%20Language%20Processing%20in%20Python/02-%20Using%20the%20Python%20SpeechRecognition%20library.ipynb#X21sZmlsZQ%3D%3D?line=11'>12</a>\u001b[0m     start_time \u001b[39m=\u001b[39m i \u001b[39m*\u001b[39m (\u001b[39mlen\u001b[39;49m(sound) \u001b[39m/\u001b[39;49m num_voices)\n\u001b[0;32m     <a href='vscode-notebook-cell:/c%3A/Users/jdamodhar/Desktop/python_essential/DataCamp-ds-deloitte-master/00-A/94-Spoken%20Language%20Processing%20in%20Python/02-%20Using%20the%20Python%20SpeechRecognition%20library.ipynb#X21sZmlsZQ%3D%3D?line=12'>13</a>\u001b[0m     end_time \u001b[39m=\u001b[39m (i \u001b[39m+\u001b[39m \u001b[39m1\u001b[39m) \u001b[39m*\u001b[39m (\u001b[39mlen\u001b[39m(sound) \u001b[39m/\u001b[39m num_voices)\n\u001b[0;32m     <a href='vscode-notebook-cell:/c%3A/Users/jdamodhar/Desktop/python_essential/DataCamp-ds-deloitte-master/00-A/94-Spoken%20Language%20Processing%20in%20Python/02-%20Using%20the%20Python%20SpeechRecognition%20library.ipynb#X21sZmlsZQ%3D%3D?line=13'>14</a>\u001b[0m     \u001b[39m# extract the track and save it as a new WAV file\u001b[39;00m\n",
      "\u001b[1;31mTypeError\u001b[0m: unsupported operand type(s) for /: 'int' and 'list'"
     ]
    }
   ],
   "source": [
    "from pydub import AudioSegment\n",
    "\n",
    "# load the multi-voiced WAV file\n",
    "sound = AudioSegment.from_wav(\"./multiple-speakers-16k.wav\")\n",
    "\n",
    "# determine the number of voices in the recording\n",
    "num_voices = sound.split_to_mono()\n",
    "print(len(num_voices))\n",
    "# split the audio into individual tracks based on number of voices\n",
    "for i in range((num_voices)):\n",
    "    # define the start and end times for each track\n",
    "    start_time = i * (len(sound) / num_voices)\n",
    "    end_time = (i + 1) * (len(sound) / num_voices)\n",
    "    # extract the track and save it as a new WAV file\n",
    "    track = sound[start_time:end_time]\n",
    "    track.export(f\"voice_{i+1}.wav\", format=\"wav\")"
   ]
  },
  {
   "cell_type": "code",
   "execution_count": 25,
   "metadata": {},
   "outputs": [
    {
     "ename": "FileNotFoundError",
     "evalue": "[Errno 2] No such file or directory: 'speaker_0.wav'",
     "output_type": "error",
     "traceback": [
      "\u001b[1;31m---------------------------------------------------------------------------\u001b[0m",
      "\u001b[1;31mFileNotFoundError\u001b[0m                         Traceback (most recent call last)",
      "\u001b[1;32mc:\\Users\\jdamodhar\\Desktop\\python_essential\\DataCamp-ds-deloitte-master\\00-A\\94-Spoken Language Processing in Python\\02- Using the Python SpeechRecognition library.ipynb Cell 14\u001b[0m line \u001b[0;36m1\n\u001b[0;32m      <a href='vscode-notebook-cell:/c%3A/Users/jdamodhar/Desktop/python_essential/DataCamp-ds-deloitte-master/00-A/94-Spoken%20Language%20Processing%20in%20Python/02-%20Using%20the%20Python%20SpeechRecognition%20library.ipynb#X16sZmlsZQ%3D%3D?line=7'>8</a>\u001b[0m \u001b[39m# Transcribe each speaker individually\u001b[39;00m\n\u001b[0;32m      <a href='vscode-notebook-cell:/c%3A/Users/jdamodhar/Desktop/python_essential/DataCamp-ds-deloitte-master/00-A/94-Spoken%20Language%20Processing%20in%20Python/02-%20Using%20the%20Python%20SpeechRecognition%20library.ipynb#X16sZmlsZQ%3D%3D?line=8'>9</a>\u001b[0m \u001b[39mfor\u001b[39;00m i, speaker \u001b[39min\u001b[39;00m \u001b[39menumerate\u001b[39m(speakers):\n\u001b[1;32m---> <a href='vscode-notebook-cell:/c%3A/Users/jdamodhar/Desktop/python_essential/DataCamp-ds-deloitte-master/00-A/94-Spoken%20Language%20Processing%20in%20Python/02-%20Using%20the%20Python%20SpeechRecognition%20library.ipynb#X16sZmlsZQ%3D%3D?line=9'>10</a>\u001b[0m     \u001b[39mwith\u001b[39;49;00m speaker \u001b[39mas\u001b[39;49;00m source:\n\u001b[0;32m     <a href='vscode-notebook-cell:/c%3A/Users/jdamodhar/Desktop/python_essential/DataCamp-ds-deloitte-master/00-A/94-Spoken%20Language%20Processing%20in%20Python/02-%20Using%20the%20Python%20SpeechRecognition%20library.ipynb#X16sZmlsZQ%3D%3D?line=10'>11</a>\u001b[0m         speaker_audio \u001b[39m=\u001b[39;49m recognizer\u001b[39m.\u001b[39;49mrecord(source)\n\u001b[0;32m     <a href='vscode-notebook-cell:/c%3A/Users/jdamodhar/Desktop/python_essential/DataCamp-ds-deloitte-master/00-A/94-Spoken%20Language%20Processing%20in%20Python/02-%20Using%20the%20Python%20SpeechRecognition%20library.ipynb#X16sZmlsZQ%3D%3D?line=11'>12</a>\u001b[0m     \u001b[39mprint\u001b[39m(\u001b[39mf\u001b[39m\u001b[39m\"\u001b[39m\u001b[39mText from speaker \u001b[39m\u001b[39m{\u001b[39;00mi\u001b[39m}\u001b[39;00m\u001b[39m:\u001b[39m\u001b[39m\"\u001b[39m)\n",
      "File \u001b[1;32mc:\\Users\\jdamodhar\\AppData\\Local\\Programs\\Python\\Python311\\Lib\\site-packages\\speech_recognition\\__init__.py:241\u001b[0m, in \u001b[0;36mAudioFile.__enter__\u001b[1;34m(self)\u001b[0m\n\u001b[0;32m    238\u001b[0m \u001b[39massert\u001b[39;00m \u001b[39mself\u001b[39m\u001b[39m.\u001b[39mstream \u001b[39mis\u001b[39;00m \u001b[39mNone\u001b[39;00m, \u001b[39m\"\u001b[39m\u001b[39mThis audio source is already inside a context manager\u001b[39m\u001b[39m\"\u001b[39m\n\u001b[0;32m    239\u001b[0m \u001b[39mtry\u001b[39;00m:\n\u001b[0;32m    240\u001b[0m     \u001b[39m# attempt to read the file as WAV\u001b[39;00m\n\u001b[1;32m--> 241\u001b[0m     \u001b[39mself\u001b[39m\u001b[39m.\u001b[39maudio_reader \u001b[39m=\u001b[39m wave\u001b[39m.\u001b[39;49mopen(\u001b[39mself\u001b[39;49m\u001b[39m.\u001b[39;49mfilename_or_fileobject, \u001b[39m\"\u001b[39;49m\u001b[39mrb\u001b[39;49m\u001b[39m\"\u001b[39;49m)\n\u001b[0;32m    242\u001b[0m     \u001b[39mself\u001b[39m\u001b[39m.\u001b[39mlittle_endian \u001b[39m=\u001b[39m \u001b[39mTrue\u001b[39;00m  \u001b[39m# RIFF WAV is a little-endian format (most ``audioop`` operations assume that the frames are stored in little-endian form)\u001b[39;00m\n\u001b[0;32m    243\u001b[0m \u001b[39mexcept\u001b[39;00m (wave\u001b[39m.\u001b[39mError, \u001b[39mEOFError\u001b[39;00m):\n",
      "File \u001b[1;32mc:\\Users\\jdamodhar\\AppData\\Local\\Programs\\Python\\Python311\\Lib\\wave.py:631\u001b[0m, in \u001b[0;36mopen\u001b[1;34m(f, mode)\u001b[0m\n\u001b[0;32m    629\u001b[0m         mode \u001b[39m=\u001b[39m \u001b[39m'\u001b[39m\u001b[39mrb\u001b[39m\u001b[39m'\u001b[39m\n\u001b[0;32m    630\u001b[0m \u001b[39mif\u001b[39;00m mode \u001b[39min\u001b[39;00m (\u001b[39m'\u001b[39m\u001b[39mr\u001b[39m\u001b[39m'\u001b[39m, \u001b[39m'\u001b[39m\u001b[39mrb\u001b[39m\u001b[39m'\u001b[39m):\n\u001b[1;32m--> 631\u001b[0m     \u001b[39mreturn\u001b[39;00m Wave_read(f)\n\u001b[0;32m    632\u001b[0m \u001b[39melif\u001b[39;00m mode \u001b[39min\u001b[39;00m (\u001b[39m'\u001b[39m\u001b[39mw\u001b[39m\u001b[39m'\u001b[39m, \u001b[39m'\u001b[39m\u001b[39mwb\u001b[39m\u001b[39m'\u001b[39m):\n\u001b[0;32m    633\u001b[0m     \u001b[39mreturn\u001b[39;00m Wave_write(f)\n",
      "File \u001b[1;32mc:\\Users\\jdamodhar\\AppData\\Local\\Programs\\Python\\Python311\\Lib\\wave.py:279\u001b[0m, in \u001b[0;36mWave_read.__init__\u001b[1;34m(self, f)\u001b[0m\n\u001b[0;32m    277\u001b[0m \u001b[39mself\u001b[39m\u001b[39m.\u001b[39m_i_opened_the_file \u001b[39m=\u001b[39m \u001b[39mNone\u001b[39;00m\n\u001b[0;32m    278\u001b[0m \u001b[39mif\u001b[39;00m \u001b[39misinstance\u001b[39m(f, \u001b[39mstr\u001b[39m):\n\u001b[1;32m--> 279\u001b[0m     f \u001b[39m=\u001b[39m builtins\u001b[39m.\u001b[39mopen(f, \u001b[39m'\u001b[39m\u001b[39mrb\u001b[39m\u001b[39m'\u001b[39m)\n\u001b[0;32m    280\u001b[0m     \u001b[39mself\u001b[39m\u001b[39m.\u001b[39m_i_opened_the_file \u001b[39m=\u001b[39m f\n\u001b[0;32m    281\u001b[0m \u001b[39m# else, assume it is an open file object already\u001b[39;00m\n",
      "\u001b[1;31mFileNotFoundError\u001b[0m: [Errno 2] No such file or directory: 'speaker_0.wav'"
     ]
    }
   ],
   "source": [
    "recognizer = sr.Recognizer()\n",
    "\n",
    "# Multiple speakers on different files\n",
    "speakers = [sr.AudioFile(\"speaker_0.wav\"), \n",
    "            sr.AudioFile(\"speaker_1.wav\"), \n",
    "            sr.AudioFile(\"speaker_2.wav\")]\n",
    "\n",
    "# Transcribe each speaker individually\n",
    "for i, speaker in enumerate(speakers):\n",
    "    with speaker as source:\n",
    "        speaker_audio = recognizer.record(source)\n",
    "    print(f\"Text from speaker {i}:\")\n",
    "    print(recognizer.recognize_google(speaker_audio,\n",
    "         \t\t\t\t\t\t\t  language=\"en-US\"))"
   ]
  },
  {
   "cell_type": "code",
   "execution_count": 32,
   "metadata": {},
   "outputs": [
    {
     "name": "stdout",
     "output_type": "stream",
     "text": [
      "hello I like to get some help setting up my account please\n"
     ]
    }
   ],
   "source": [
    "recognizer = sr.Recognizer()\n",
    "\n",
    "# Record the audio from the clean support call\n",
    "with sr.AudioFile('./clean-support-call.wav') as source:\n",
    "  clean_support_call_audio = recognizer.record(source)\n",
    "\n",
    "# Transcribe the speech from the clean support call\n",
    "text = recognizer.recognize_google(clean_support_call_audio,\n",
    "                                   language=\"en-US\")\n",
    "\n",
    "print(text)"
   ]
  },
  {
   "cell_type": "code",
   "execution_count": 33,
   "metadata": {},
   "outputs": [
    {
     "name": "stdout",
     "output_type": "stream",
     "text": [
      "{'alternative': [{'transcript': 'hello I like to get single point please'}, {'transcript': 'hello I want to get single point please'}, {'transcript': 'hello I like to get single please'}, {'transcript': 'hello I want to get single please'}, {'transcript': 'hello I like to get single place'}], 'final': True}\n"
     ]
    }
   ],
   "source": [
    "recognizer = sr.Recognizer()\n",
    "\n",
    "# Record the audio from the noisy support call\n",
    "with sr.AudioFile('./2-noisy-support-call.wav') as source:\n",
    "  noisy_support_call_audio = recognizer.record(source)\n",
    "\n",
    "# Transcribe the speech from the noisy support call\n",
    "text = recognizer.recognize_google(noisy_support_call_audio,\n",
    "                                   language=\"en-US\",\n",
    "                                   show_all=True)\n",
    "\n",
    "print(text)"
   ]
  },
  {
   "cell_type": "code",
   "execution_count": 35,
   "metadata": {},
   "outputs": [
    {
     "name": "stdout",
     "output_type": "stream",
     "text": [
      "[]\n"
     ]
    }
   ],
   "source": [
    "recognizer = sr.Recognizer()\n",
    "noisy_support_call = sr.AudioFile(\"./2-noisy-support-call.wav\")\n",
    "# Record the audio from the noisy support call\n",
    "with noisy_support_call as source:\n",
    "\t# Adjust the recognizer energy threshold for ambient noise\n",
    "    recognizer.adjust_for_ambient_noise(source, duration=1)\n",
    "    noisy_support_call_audio = recognizer.record(noisy_support_call)\n",
    " \n",
    "# Transcribe the speech from the noisy support call\n",
    "text = recognizer.recognize_google(noisy_support_call_audio,\n",
    "                                   language=\"en-US\",\n",
    "                                   show_all=True)\n",
    "\n",
    "print(text)"
   ]
  },
  {
   "cell_type": "code",
   "execution_count": 36,
   "metadata": {},
   "outputs": [
    {
     "name": "stdout",
     "output_type": "stream",
     "text": [
      "[]\n"
     ]
    }
   ],
   "source": [
    "recognizer = sr.Recognizer()\n",
    "\n",
    "# Record the audio from the noisy support call\n",
    "with noisy_support_call as source:\n",
    "\t# Adjust the recognizer energy threshold for ambient noise\n",
    "    recognizer.adjust_for_ambient_noise(source, duration=0.5)\n",
    "    noisy_support_call_audio = recognizer.record(noisy_support_call)\n",
    " \n",
    "# Transcribe the speech from the noisy support call\n",
    "text = recognizer.recognize_google(noisy_support_call_audio,\n",
    "                                   language=\"en-US\",\n",
    "                                   show_all=True)\n",
    "\n",
    "print(text)"
   ]
  }
 ],
 "metadata": {
  "kernelspec": {
   "display_name": "Python 3",
   "language": "python",
   "name": "python3"
  },
  "language_info": {
   "codemirror_mode": {
    "name": "ipython",
    "version": 3
   },
   "file_extension": ".py",
   "mimetype": "text/x-python",
   "name": "python",
   "nbconvert_exporter": "python",
   "pygments_lexer": "ipython3",
   "version": "3.11.6"
  }
 },
 "nbformat": 4,
 "nbformat_minor": 2
}
