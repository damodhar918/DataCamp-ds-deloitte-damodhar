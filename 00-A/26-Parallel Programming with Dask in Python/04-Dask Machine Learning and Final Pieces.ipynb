{
 "cells": [
  {
   "cell_type": "code",
   "execution_count": null,
   "metadata": {},
   "outputs": [],
   "source": [
    "#py -m pip install \"dask[distributed]\" --upgrade"
   ]
  },
  {
   "cell_type": "code",
   "execution_count": 1,
   "metadata": {},
   "outputs": [],
   "source": [
    "# Import Client and LocalCluster\n",
    "from dask.distributed import Client, LocalCluster\n",
    "\n",
    "# Create a thread-based local cluster\n",
    "cluster = LocalCluster(\n",
    "\tprocesses=False, \n",
    "    n_workers=4,\n",
    "    threads_per_worker=1\n",
    ")\n",
    "\n",
    "# Create a client\n",
    "client = Client(cluster)"
   ]
  },
  {
   "cell_type": "code",
   "execution_count": 2,
   "metadata": {},
   "outputs": [
    {
     "name": "stderr",
     "output_type": "stream",
     "text": [
      "c:\\Users\\jdamodhar\\AppData\\Local\\Programs\\Python\\Python310\\lib\\site-packages\\distributed\\node.py:182: UserWarning: Port 8787 is already in use.\n",
      "Perhaps you already have a cluster running?\n",
      "Hosting the HTTP server on port 40814 instead\n",
      "  warnings.warn(\n"
     ]
    }
   ],
   "source": [
    "from dask.distributed import Client\n",
    "\n",
    "# Create a client without creating cluster first\n",
    "client = Client(\n",
    "\tprocesses=False, \n",
    "    n_workers=4,\n",
    "    threads_per_worker=1\n",
    ")"
   ]
  },
  {
   "cell_type": "code",
   "execution_count": 1,
   "metadata": {},
   "outputs": [
    {
     "ename": "NameError",
     "evalue": "name 'dask_X' is not defined",
     "output_type": "error",
     "traceback": [
      "\u001b[1;31m---------------------------------------------------------------------------\u001b[0m",
      "\u001b[1;31mNameError\u001b[0m                                 Traceback (most recent call last)",
      "\u001b[1;32mC:\\Users\\JDAMOD~1\\AppData\\Local\\Temp/ipykernel_20920/1088302243.py\u001b[0m in \u001b[0;36m<module>\u001b[1;34m\u001b[0m\n\u001b[0;32m     10\u001b[0m \u001b[1;33m\u001b[0m\u001b[0m\n\u001b[0;32m     11\u001b[0m \u001b[1;31m# Fit the wrapped model\u001b[0m\u001b[1;33m\u001b[0m\u001b[1;33m\u001b[0m\u001b[0m\n\u001b[1;32m---> 12\u001b[1;33m \u001b[0mdask_model\u001b[0m\u001b[1;33m.\u001b[0m\u001b[0mfit\u001b[0m\u001b[1;33m(\u001b[0m\u001b[0mdask_X\u001b[0m\u001b[1;33m,\u001b[0m \u001b[0mdask_y\u001b[0m\u001b[1;33m)\u001b[0m\u001b[1;33m\u001b[0m\u001b[1;33m\u001b[0m\u001b[0m\n\u001b[0m",
      "\u001b[1;31mNameError\u001b[0m: name 'dask_X' is not defined"
     ]
    }
   ],
   "source": [
    "# Import the SGDRegressor and the Incremental wrapper\n",
    "from sklearn.linear_model import SGDRegressor\n",
    "from dask_ml.wrappers import Incremental\n",
    "\n",
    "# Create a SGDRegressor model\n",
    "model = SGDRegressor()\n",
    "\n",
    "# Wrap the model so that it works with Dask\n",
    "dask_model = Incremental(model, scoring='neg_mean_squared_error')\n",
    "\n",
    "# Fit the wrapped model\n",
    "dask_model.fit(dask_X, dask_y)"
   ]
  },
  {
   "cell_type": "code",
   "execution_count": null,
   "metadata": {},
   "outputs": [],
   "source": [
    "#  Loop over the training data 5 times\n",
    "for i in range(5):\n",
    "    dask_model.partial_fit(dask_X, dask_y)\n",
    "\n",
    "# Use your model to make predictions\n",
    "y_pred_delayed = dask_model.predict(dask_X)\n",
    "\n",
    "# Compute the predictions\n",
    "y_pred_computed = y_pred_delayed.compute()\n",
    "\n",
    "print(y_pred_computed)"
   ]
  },
  {
   "cell_type": "code",
   "execution_count": null,
   "metadata": {},
   "outputs": [],
   "source": [
    "# Import the StandardScaler class\n",
    "from dask_ml.preprocessing import StandardScaler\n",
    "\n",
    "X = dask_df[['duration_ms', 'explicit', 'danceability', 'acousticness', 'instrumentalness', 'tempo']]\n",
    "\n",
    "# Select the target variable\n",
    "y = dask_df['popularity']\n",
    "\n",
    "# Create a StandardScaler object and fit it on X\n",
    "scaler = StandardScaler()\n",
    "scaler.fit(X)\n",
    "\n",
    "# Transform X\n",
    "X = scaler.transform(X)\n",
    "\n",
    "print(X)"
   ]
  },
  {
   "cell_type": "code",
   "execution_count": null,
   "metadata": {},
   "outputs": [],
   "source": [
    "# Import the train_test_split function\n",
    "from dask_ml.model_selection import train_test_split\n",
    "\n",
    "# Rescale the target values\n",
    "y = y/100\n",
    "\n",
    "# Split the data into train and test sets\n",
    "X_train, X_test, y_train, y_test = train_test_split(X, y, test_size=0.2, shuffle=True)\n",
    "\n",
    "print(X_train)"
   ]
  }
 ],
 "metadata": {
  "kernelspec": {
   "display_name": "Python 3",
   "language": "python",
   "name": "python3"
  },
  "language_info": {
   "codemirror_mode": {
    "name": "ipython",
    "version": 3
   },
   "file_extension": ".py",
   "mimetype": "text/x-python",
   "name": "python",
   "nbconvert_exporter": "python",
   "pygments_lexer": "ipython3",
   "version": "3.10.5"
  },
  "orig_nbformat": 4
 },
 "nbformat": 4,
 "nbformat_minor": 2
}
