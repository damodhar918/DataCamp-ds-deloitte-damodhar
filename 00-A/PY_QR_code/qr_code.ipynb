{
 "cells": [
  {
   "cell_type": "code",
   "execution_count": 17,
   "metadata": {},
   "outputs": [],
   "source": [
    "# %pip install opencv-python pyzbar"
   ]
  },
  {
   "cell_type": "code",
   "execution_count": 15,
   "metadata": {},
   "outputs": [],
   "source": [
    "\n",
    "from PIL import ImageGrab\n",
    "import pyperclip\n",
    "\n",
    "# Copy image from clipboard\n",
    "image = ImageGrab.grabclipboard()\n",
    "# if image:\n",
    "#     # Convert image to byte array\n",
    "#     output = BytesIO()\n",
    "#     image.convert(\"RGB\").save(output, \"BMP\")\n",
    "#     img_data = output.getvalue()\n",
    "#     output.close()\n",
    "\n",
    "#     # Copy image byte array to clipboard\n",
    "#     pyperclip.copy(img_data)\n"
   ]
  },
  {
   "cell_type": "code",
   "execution_count": 16,
   "metadata": {},
   "outputs": [],
   "source": [
    "image.save(\"test1.png\")"
   ]
  },
  {
   "cell_type": "code",
   "execution_count": null,
   "metadata": {},
   "outputs": [],
   "source": [
    "import cv2\n",
    "from pyzbar import pyzbar\n",
    "import os\n",
    "\n",
    "    # Load the image\n",
    "img = cv2.imread(image_path)\n",
    "\n",
    "# Convert to grayscale\n",
    "gray = cv2.cvtColor(img, cv2.COLOR_BGR2GRAY)\n",
    "\n",
    "# Find QR code in the image\n",
    "qr_codes = pyzbar.decode(gray)\n",
    "\n",
    "# Loop through all QR codes found and extract the data\n",
    "for qr_code in qr_codes:\n",
    "    data = qr_code.data.decode('utf-8')\n",
    "    print(f\"QR Code data: {data}\")\n",
    "\n"
   ]
  },
  {
   "cell_type": "code",
   "execution_count": 18,
   "metadata": {},
   "outputs": [
    {
     "name": "stdout",
     "output_type": "stream",
     "text": [
      "QR Code data: https://deloittesurvey.deloitte.com/Community/se/3FC11B261535A929\n"
     ]
    }
   ],
   "source": [
    "import cv2\n",
    "from pyzbar import pyzbar\n",
    "import os\n",
    "\n",
    "def read_qr_code(image_path):\n",
    "    # Load the image\n",
    "    img = cv2.imread(image_path)\n",
    "\n",
    "    # Convert to grayscale\n",
    "    gray = cv2.cvtColor(img, cv2.COLOR_BGR2GRAY)\n",
    "\n",
    "    # Find QR code in the image\n",
    "    qr_codes = pyzbar.decode(gray)\n",
    "\n",
    "    # Loop through all QR codes found and extract the data\n",
    "    for qr_code in qr_codes:\n",
    "        data = qr_code.data.decode('utf-8')\n",
    "        print(f\"QR Code data: {data}\")\n",
    "\n",
    "# Example usage\n",
    "for x in os.listdir():\n",
    "    if x.endswith(\".jpg\"):\n",
    "        read_qr_code(x) # Replace with your image path\n",
    "# Replace with your image path\n"
   ]
  },
  {
   "cell_type": "code",
   "execution_count": 19,
   "metadata": {},
   "outputs": [],
   "source": [
    "# https://pypi.org/project/pytesseract/\n",
    "# https://www.youtube.com/watch?v=PY_N1XdFp4w"
   ]
  },
  {
   "cell_type": "code",
   "execution_count": 20,
   "metadata": {},
   "outputs": [],
   "source": [
    "# git clone https://github.com/madmaze/pytesseract.git\n",
    "# cd pytesseract \n",
    "# py -m pip install -U ."
   ]
  },
  {
   "cell_type": "code",
   "execution_count": 21,
   "metadata": {},
   "outputs": [],
   "source": [
    "# from PIL import Image\n",
    "\n",
    "# import pytesseract\n",
    "\n",
    "# # If you don't have tesseract executable in your PATH, include the following:\n",
    "# pytesseract.pytesseract.tesseract_cmd = r'C:\\Users\\jdamodhar\\AppData\\Local\\Programs\\Tesseract-OCR\\tesseract'\n",
    "# # Example tesseract_cmd = r'C:\\Program Files (x86)\\Tesseract-OCR\\tesseract'\n",
    "\n",
    "# # Simple image to string\n",
    "# print(pytesseract.image_to_string(Image.open('test.png')))\n",
    "\n",
    "# # In order to bypass the image conversions of pytesseract, just use relative or absolute image path\n",
    "# # NOTE: In this case you should provide tesseract supported images or tesseract will return error\n",
    "# print(pytesseract.image_to_string('test.png'))\n",
    "\n",
    "# # List of available languages\n",
    "# print(pytesseract.get_languages(config=''))\n",
    "\n",
    "# # French text image to string\n",
    "# # print(pytesseract.image_to_string(Image.open('test-european.jpg'), lang='fra'))\n",
    "\n",
    "# # Batch processing with a single file containing the list of multiple image file paths\n",
    "# # print(pytesseract.image_to_string('images.txt'))\n",
    "\n",
    "# # Timeout/terminate the tesseract job after a period of time\n",
    "# try:\n",
    "#     print(pytesseract.image_to_string('test.jpg', timeout=2)) # Timeout after 2 seconds\n",
    "#     print(pytesseract.image_to_string('test.jpg', timeout=0.5)) # Timeout after half a second\n",
    "# except RuntimeError as timeout_error:\n",
    "#     # Tesseract processing is terminated\n",
    "#     pass\n",
    "\n",
    "# # Get bounding box estimates\n",
    "# print(pytesseract.image_to_boxes(Image.open('test.png')))\n",
    "\n",
    "# # Get verbose data including boxes, confidences, line and page numbers\n",
    "# print(pytesseract.image_to_data(Image.open('test.png')))\n",
    "\n",
    "# # Get information about orientation and script detection\n",
    "# print(pytesseract.image_to_osd(Image.open('test.png')))\n",
    "\n",
    "# # Get a searchable PDF\n",
    "# pdf = pytesseract.image_to_pdf_or_hocr('test.png', extension='pdf')\n",
    "# with open('test.pdf', 'w+b') as f:\n",
    "#     f.write(pdf) # pdf type is bytes by default\n",
    "\n",
    "# # Get HOCR output\n",
    "# hocr = pytesseract.image_to_pdf_or_hocr('test.png', extension='hocr')\n",
    "\n",
    "# # Get ALTO XML output\n",
    "# xml = pytesseract.image_to_alto_xml('test.png')"
   ]
  },
  {
   "cell_type": "code",
   "execution_count": null,
   "metadata": {},
   "outputs": [],
   "source": []
  },
  {
   "cell_type": "markdown",
   "metadata": {},
   "source": [
    "`TesseractNotFoundError` indicates that the Tesseract OCR engine is not installed on your system or its executable is not in your system's PATH environment variable. Here's what you can do to resolve the error:\n",
    "\n",
    "1. Install Tesseract OCR on your system. You can download it from the following link: https://github.com/tesseract-ocr/tesseract\n",
    "\n",
    "2. Add Tesseract OCR executable to your system's PATH environment variable. The steps to do this will depend on your operating system. Here's how to do it in Windows:\n",
    "\n",
    "   a. Open the Start menu and search for \"Environment Variables\". Select \"Edit the system environment variables\".\n",
    "\n",
    "   b. In the System Properties window, click the \"Environment Variables\" button.\n",
    "\n",
    "   c. In the \"System Variables\" section, scroll down and find the \"Path\" variable, then click \"Edit\".\n",
    "\n",
    "   d. Click \"New\" and add the path to the Tesseract OCR executable. By default, this should be \"C:\\Program Files\\Tesseract-OCR\". If you installed Tesseract in a different location, use that path instead.\n",
    "\n",
    "   e. Click \"OK\" to save the changes, then restart your command prompt or terminal.\n",
    "\n",
    "3. If you have already added Tesseract OCR to your PATH and are still getting the error, try specifying the path to the Tesseract OCR executable within your Python code using the `pytesseract.pytesseract.tesseract_cmd` attribute. For example:\n",
    "\n",
    "   ```python\n",
    "   import pytesseract\n",
    "   \n",
    "   pytesseract.pytesseract.tesseract_cmd = r'C:\\Program Files\\Tesseract-OCR\\tesseract.exe'\n",
    "   ```\n",
    "\n",
    "   Replace the path with the path to the Tesseract OCR executable on your system.\n",
    "\n",
    "After following these steps, try running your Python code again to see if the error has been resolved."
   ]
  },
  {
   "cell_type": "code",
   "execution_count": 10,
   "metadata": {},
   "outputs": [
    {
     "name": "stdout",
     "output_type": "stream",
     "text": [
      "This code uses OpenCV to load and process the image, converting it to\n",
      "grayscale and applying some image pre-processing to improve the text\n",
      "recognition accuracy The “pytesseract” package is then used to perform\n",
      "optical character recognition (OCR) on the pre-processed image, which\n",
      "returns the recognized text as a string. Finally, the recognized text is\n",
      "returned from the function and printed to the console as an example.\n",
      "\n"
     ]
    }
   ],
   "source": [
    "\n",
    "import pytesseract\n",
    "import cv2\n",
    "pytesseract.pytesseract.tesseract_cmd = r'C:\\Users\\jdamodhar\\AppData\\Local\\Programs\\Tesseract-OCR\\tesseract'\n",
    "def read_text(image_path):\n",
    "    # Load image\n",
    "    img = cv2.imread(image_path)\n",
    "\n",
    "    # Convert to grayscale for better accuracy\n",
    "    gray = cv2.cvtColor(img, cv2.COLOR_BGR2GRAY)\n",
    "\n",
    "    # Apply image pre-processing to improve text recognition accuracy\n",
    "    gray = cv2.medianBlur(gray, 3)\n",
    "    gray = cv2.threshold(gray, 0, 255, cv2.THRESH_BINARY + cv2.THRESH_OTSU)[1]\n",
    "\n",
    "    # Perform text recognition using pytesseract\n",
    "    text = pytesseract.image_to_string(gray)\n",
    "\n",
    "    return text\n",
    "\n",
    "# Example usage\n",
    "result = read_text(\"./test.jpg\") # Replace with your image path\n",
    "print(result)"
   ]
  },
  {
   "cell_type": "code",
   "execution_count": 17,
   "metadata": {},
   "outputs": [
    {
     "name": "stdout",
     "output_type": "stream",
     "text": [
      "Please join in tram 11 AM to experience the Demo Day showcase\n",
      "\n",
      "QR lan saaw open, start Vating for your favourite eas\n",
      "\n"
     ]
    }
   ],
   "source": [
    "result = read_text(\"./test1.png\") # Replace with your image path\n",
    "print(result)"
   ]
  },
  {
   "cell_type": "code",
   "execution_count": 23,
   "metadata": {},
   "outputs": [],
   "source": [
    "# py -m  pip install pillow opencv-python"
   ]
  }
 ],
 "metadata": {
  "kernelspec": {
   "display_name": "Python 3",
   "language": "python",
   "name": "python3"
  },
  "language_info": {
   "codemirror_mode": {
    "name": "ipython",
    "version": 3
   },
   "file_extension": ".py",
   "mimetype": "text/x-python",
   "name": "python",
   "nbconvert_exporter": "python",
   "pygments_lexer": "ipython3",
   "version": "3.10.5"
  },
  "orig_nbformat": 4
 },
 "nbformat": 4,
 "nbformat_minor": 2
}
