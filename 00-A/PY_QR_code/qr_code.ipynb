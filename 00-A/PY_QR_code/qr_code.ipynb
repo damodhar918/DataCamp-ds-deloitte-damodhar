{
 "cells": [
  {
   "cell_type": "code",
   "execution_count": 1,
   "metadata": {},
   "outputs": [],
   "source": [
    "# %pip install opencv-python pyzbar"
   ]
  },
  {
   "cell_type": "code",
   "execution_count": 3,
   "metadata": {},
   "outputs": [
    {
     "name": "stdout",
     "output_type": "stream",
     "text": [
      "QR Code data: https://deloittesurvey.deloitte.com/Community/se/3FC11B261535A929\n"
     ]
    }
   ],
   "source": [
    "import cv2\n",
    "from pyzbar import pyzbar\n",
    "import os\n",
    "\n",
    "def read_qr_code(image_path):\n",
    "    # Load the image\n",
    "    img = cv2.imread(image_path)\n",
    "\n",
    "    # Convert to grayscale\n",
    "    gray = cv2.cvtColor(img, cv2.COLOR_BGR2GRAY)\n",
    "\n",
    "    # Find QR code in the image\n",
    "    qr_codes = pyzbar.decode(gray)\n",
    "\n",
    "    # Loop through all QR codes found and extract the data\n",
    "    for qr_code in qr_codes:\n",
    "        data = qr_code.data.decode('utf-8')\n",
    "        print(f\"QR Code data: {data}\")\n",
    "\n",
    "# Example usage\n",
    "for x in os.listdir():\n",
    "    if x.endswith(\".jpg\"):\n",
    "        read_qr_code(x) # Replace with your image path\n",
    "# Replace with your image path\n"
   ]
  }
 ],
 "metadata": {
  "kernelspec": {
   "display_name": "Python 3",
   "language": "python",
   "name": "python3"
  },
  "language_info": {
   "codemirror_mode": {
    "name": "ipython",
    "version": 3
   },
   "file_extension": ".py",
   "mimetype": "text/x-python",
   "name": "python",
   "nbconvert_exporter": "python",
   "pygments_lexer": "ipython3",
   "version": "3.10.5"
  },
  "orig_nbformat": 4
 },
 "nbformat": 4,
 "nbformat_minor": 2
}
