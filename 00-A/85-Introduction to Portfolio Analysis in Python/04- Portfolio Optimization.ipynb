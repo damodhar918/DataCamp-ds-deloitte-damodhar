{
 "cells": [
  {
   "cell_type": "code",
   "execution_count": 1,
   "metadata": {},
   "outputs": [
    {
     "name": "stderr",
     "output_type": "stream",
     "text": [
      "ERROR: Could not find a version that satisfies the requirement pypfopt (from versions: none)\n",
      "ERROR: No matching distribution found for pypfopt\n"
     ]
    }
   ],
   "source": [
    "!pip install pypfopt"
   ]
  },
  {
   "cell_type": "code",
   "execution_count": 2,
   "metadata": {},
   "outputs": [],
   "source": [
    "# !pip install PyPortfolioOpt"
   ]
  },
  {
   "cell_type": "code",
   "execution_count": 3,
   "metadata": {},
   "outputs": [
    {
     "name": "stdout",
     "output_type": "stream",
     "text": [
      "GE     -0.175812\n",
      "JPM     0.185643\n",
      "MSFT    0.223083\n",
      "PG     -0.045684\n",
      "dtype: float64             GE       JPM      MSFT        PG\n",
      "GE    0.046355  0.023011  0.016415  0.010182\n",
      "JPM   0.023011  0.047033  0.024328  0.010899\n",
      "MSFT  0.016415  0.024328  0.054486  0.014257\n",
      "PG    0.010182  0.010899  0.014257  0.020810\n"
     ]
    }
   ],
   "source": [
    "# Import the packages \n",
    "import pandas as pd\n",
    "\n",
    "from pypfopt import risk_models\n",
    "from pypfopt import expected_returns\n",
    "from pypfopt.efficient_frontier import EfficientFrontier\n",
    "stock_prices = pd.read_csv(\"./stock_price.csv\", parse_dates=True, index_col=\"date\")\n",
    "# Calculate expected returns mu \n",
    "mu = expected_returns.mean_historical_return(stock_prices)\n",
    "\n",
    "# Calculate the covariance matrix S\n",
    "Sigma = risk_models.sample_cov(stock_prices)\n",
    "\n",
    "# Obtain the efficient frontier\n",
    "ef = EfficientFrontier(mu, Sigma)\n",
    "print (mu, Sigma)"
   ]
  },
  {
   "cell_type": "code",
   "execution_count": 4,
   "metadata": {},
   "outputs": [
    {
     "name": "stdout",
     "output_type": "stream",
     "text": [
      "            GE       JPM      MSFT        PG\n",
      "GE    0.046355  0.023011  0.016415  0.010182\n",
      "JPM   0.023011  0.047033  0.024328  0.010899\n",
      "MSFT  0.016415  0.024328  0.054486  0.014257\n",
      "PG    0.010182  0.010899  0.014257  0.020810             GE       JPM      MSFT        PG\n",
      "GE    0.046355  0.023011  0.016415  0.010182\n",
      "JPM   0.023011  0.047033  0.024328  0.010899\n",
      "MSFT  0.016415  0.024328  0.054486  0.014257\n",
      "PG    0.010182  0.010899  0.014257  0.020810\n"
     ]
    }
   ],
   "source": [
    "# Get the returns from the stock price data\n",
    "returns=stock_prices.pct_change()\n",
    "\n",
    "# Calculate the annualized covariance matrix \n",
    "covMatrix = returns.cov()*252\n",
    "\n",
    "# Calculate the covariance matrix Sigma from a`PyPortfolioOpt` function\n",
    "Sigma = risk_models.sample_cov(stock_prices)\n",
    "\n",
    "# Print both covariance matrices\n",
    "print (covMatrix, Sigma)"
   ]
  },
  {
   "cell_type": "code",
   "execution_count": 5,
   "metadata": {},
   "outputs": [
    {
     "name": "stdout",
     "output_type": "stream",
     "text": [
      "OrderedDict([('GE', 0.0), ('JPM', 0.4926529085352374), ('MSFT', 0.4900890447252645), ('PG', 0.0172580467394981)])\n",
      "Expected annual return: 20.0%\n",
      "Annual volatility: 19.2%\n",
      "Sharpe Ratio: 0.94\n"
     ]
    },
    {
     "name": "stderr",
     "output_type": "stream",
     "text": [
      "c:\\Users\\jdamodhar\\AppData\\Local\\Programs\\Python\\Python311\\Lib\\site-packages\\cvxpy\\reductions\\solvers\\solving_chain.py:336: FutureWarning: \n",
      "    Your problem is being solved with the ECOS solver by default. Starting in \n",
      "    CVXPY 1.5.0, Clarabel will be used as the default solver instead. To continue \n",
      "    using ECOS, specify the ECOS solver explicitly using the ``solver=cp.ECOS`` \n",
      "    argument to the ``problem.solve`` method.\n",
      "    \n",
      "  warnings.warn(ECOS_DEPRECATION_MSG, FutureWarning)\n"
     ]
    },
    {
     "data": {
      "text/plain": [
       "(0.2, 0.19152666984849026, 0.9398168941296344)"
      ]
     },
     "execution_count": 5,
     "metadata": {},
     "output_type": "execute_result"
    }
   ],
   "source": [
    "# Get the minimum risk portfolio for a target return \n",
    "weights = ef.efficient_return(0.2)\n",
    "print (weights)\n",
    "\n",
    "# Show portfolio performance \n",
    "ef.portfolio_performance(verbose=True)"
   ]
  },
  {
   "cell_type": "code",
   "execution_count": 12,
   "metadata": {},
   "outputs": [
    {
     "name": "stdout",
     "output_type": "stream",
     "text": [
      "OrderedDict([('GE', 0.0), ('JPM', 0.1307638624127916), ('MSFT', 0.8692361375872084), ('PG', 0.0)]) OrderedDict([('GE', 0.0), ('JPM', 0.13076), ('MSFT', 0.86924), ('PG', 0.0)])\n"
     ]
    }
   ],
   "source": [
    "# Define the efficient frontier\n",
    "ef = EfficientFrontier(mu, Sigma)\n",
    "\n",
    "# Calculate weights for the maximum Sharpe ratio portfolio\n",
    "raw_weights_maxsharpe = ef.max_sharpe()\n",
    "cleaned_weights_maxsharpe = ef.clean_weights()\n",
    "print (raw_weights_maxsharpe, cleaned_weights_maxsharpe)"
   ]
  },
  {
   "cell_type": "code",
   "execution_count": 13,
   "metadata": {},
   "outputs": [
    {
     "ename": "InstantiationError",
     "evalue": "The objective function was changed after the initial optimization. Please create a new instance instead.",
     "output_type": "error",
     "traceback": [
      "\u001b[1;31m---------------------------------------------------------------------------\u001b[0m",
      "\u001b[1;31mInstantiationError\u001b[0m                        Traceback (most recent call last)",
      "\u001b[1;32mc:\\Users\\jdamodhar\\Desktop\\python_essential\\DataCamp-ds-deloitte-master\\00-A\\85-Introduction to Portfolio Analysis in Python\\04- Portfolio Optimization.ipynb Cell 7\u001b[0m line \u001b[0;36m2\n\u001b[0;32m      <a href='vscode-notebook-cell:/c%3A/Users/jdamodhar/Desktop/python_essential/DataCamp-ds-deloitte-master/00-A/85-Introduction%20to%20Portfolio%20Analysis%20in%20Python/04-%20Portfolio%20Optimization.ipynb#X11sZmlsZQ%3D%3D?line=0'>1</a>\u001b[0m \u001b[39m# Calculate weights for the maximum Sharpe ratio portfolio\u001b[39;00m\n\u001b[1;32m----> <a href='vscode-notebook-cell:/c%3A/Users/jdamodhar/Desktop/python_essential/DataCamp-ds-deloitte-master/00-A/85-Introduction%20to%20Portfolio%20Analysis%20in%20Python/04-%20Portfolio%20Optimization.ipynb#X11sZmlsZQ%3D%3D?line=1'>2</a>\u001b[0m raw_weights_maxsharpe \u001b[39m=\u001b[39m ef\u001b[39m.\u001b[39;49mmax_sharpe()\n\u001b[0;32m      <a href='vscode-notebook-cell:/c%3A/Users/jdamodhar/Desktop/python_essential/DataCamp-ds-deloitte-master/00-A/85-Introduction%20to%20Portfolio%20Analysis%20in%20Python/04-%20Portfolio%20Optimization.ipynb#X11sZmlsZQ%3D%3D?line=2'>3</a>\u001b[0m cleaned_weights_maxsharpe \u001b[39m=\u001b[39m ef\u001b[39m.\u001b[39mclean_weights()\n\u001b[0;32m      <a href='vscode-notebook-cell:/c%3A/Users/jdamodhar/Desktop/python_essential/DataCamp-ds-deloitte-master/00-A/85-Introduction%20to%20Portfolio%20Analysis%20in%20Python/04-%20Portfolio%20Optimization.ipynb#X11sZmlsZQ%3D%3D?line=4'>5</a>\u001b[0m \u001b[39m# Show portfolio performance \u001b[39;00m\n",
      "File \u001b[1;32mc:\\Users\\jdamodhar\\AppData\\Local\\Programs\\Python\\Python311\\Lib\\site-packages\\pypfopt\\efficient_frontier\\efficient_frontier.py:290\u001b[0m, in \u001b[0;36mEfficientFrontier.max_sharpe\u001b[1;34m(self, risk_free_rate)\u001b[0m\n\u001b[0;32m    283\u001b[0m \u001b[39m# Transformed max_sharpe convex problem:\u001b[39;00m\n\u001b[0;32m    284\u001b[0m \u001b[39mself\u001b[39m\u001b[39m.\u001b[39m_constraints \u001b[39m=\u001b[39m [\n\u001b[0;32m    285\u001b[0m     (\u001b[39mself\u001b[39m\u001b[39m.\u001b[39mexpected_returns \u001b[39m-\u001b[39m risk_free_rate)\u001b[39m.\u001b[39mT \u001b[39m@\u001b[39m \u001b[39mself\u001b[39m\u001b[39m.\u001b[39m_w \u001b[39m==\u001b[39m \u001b[39m1\u001b[39m,\n\u001b[0;32m    286\u001b[0m     cp\u001b[39m.\u001b[39msum(\u001b[39mself\u001b[39m\u001b[39m.\u001b[39m_w) \u001b[39m==\u001b[39m k,\n\u001b[0;32m    287\u001b[0m     k \u001b[39m>\u001b[39m\u001b[39m=\u001b[39m \u001b[39m0\u001b[39m,\n\u001b[0;32m    288\u001b[0m ] \u001b[39m+\u001b[39m new_constraints\n\u001b[1;32m--> 290\u001b[0m \u001b[39mself\u001b[39;49m\u001b[39m.\u001b[39;49m_solve_cvxpy_opt_problem()\n\u001b[0;32m    291\u001b[0m \u001b[39m# Inverse-transform\u001b[39;00m\n\u001b[0;32m    292\u001b[0m \u001b[39mself\u001b[39m\u001b[39m.\u001b[39mweights \u001b[39m=\u001b[39m (\u001b[39mself\u001b[39m\u001b[39m.\u001b[39m_w\u001b[39m.\u001b[39mvalue \u001b[39m/\u001b[39m k\u001b[39m.\u001b[39mvalue)\u001b[39m.\u001b[39mround(\u001b[39m16\u001b[39m) \u001b[39m+\u001b[39m \u001b[39m0.0\u001b[39m\n",
      "File \u001b[1;32mc:\\Users\\jdamodhar\\AppData\\Local\\Programs\\Python\\Python311\\Lib\\site-packages\\pypfopt\\base_optimizer.py:294\u001b[0m, in \u001b[0;36mBaseConvexOptimizer._solve_cvxpy_opt_problem\u001b[1;34m(self)\u001b[0m\n\u001b[0;32m    292\u001b[0m \u001b[39melse\u001b[39;00m:\n\u001b[0;32m    293\u001b[0m     \u001b[39mif\u001b[39;00m \u001b[39mnot\u001b[39;00m \u001b[39mself\u001b[39m\u001b[39m.\u001b[39m_objective\u001b[39m.\u001b[39mid \u001b[39m==\u001b[39m \u001b[39mself\u001b[39m\u001b[39m.\u001b[39m_initial_objective:\n\u001b[1;32m--> 294\u001b[0m         \u001b[39mraise\u001b[39;00m exceptions\u001b[39m.\u001b[39mInstantiationError(\n\u001b[0;32m    295\u001b[0m             \u001b[39m\"\u001b[39m\u001b[39mThe objective function was changed after the initial optimization. \u001b[39m\u001b[39m\"\u001b[39m\n\u001b[0;32m    296\u001b[0m             \u001b[39m\"\u001b[39m\u001b[39mPlease create a new instance instead.\u001b[39m\u001b[39m\"\u001b[39m\n\u001b[0;32m    297\u001b[0m         )\n\u001b[0;32m    299\u001b[0m     constr_ids \u001b[39m=\u001b[39m {const\u001b[39m.\u001b[39mid \u001b[39mfor\u001b[39;00m const \u001b[39min\u001b[39;00m \u001b[39mself\u001b[39m\u001b[39m.\u001b[39m_constraints}\n\u001b[0;32m    300\u001b[0m     \u001b[39mif\u001b[39;00m \u001b[39mnot\u001b[39;00m constr_ids \u001b[39m==\u001b[39m \u001b[39mself\u001b[39m\u001b[39m.\u001b[39m_initial_constraint_ids:\n",
      "\u001b[1;31mInstantiationError\u001b[0m: The objective function was changed after the initial optimization. Please create a new instance instead."
     ]
    }
   ],
   "source": [
    "# Calculate weights for the maximum Sharpe ratio portfolio\n",
    "raw_weights_maxsharpe = ef.max_sharpe()\n",
    "cleaned_weights_maxsharpe = ef.clean_weights()\n",
    "\n",
    "# Show portfolio performance \n",
    "print(cleaned_weights_maxsharpe)\n",
    "ef.portfolio_performance(verbose=True)"
   ]
  },
  {
   "cell_type": "code",
   "execution_count": 7,
   "metadata": {},
   "outputs": [
    {
     "ename": "InstantiationError",
     "evalue": "The objective function was changed after the initial optimization. Please create a new instance instead.",
     "output_type": "error",
     "traceback": [
      "\u001b[1;31m---------------------------------------------------------------------------\u001b[0m",
      "\u001b[1;31mInstantiationError\u001b[0m                        Traceback (most recent call last)",
      "\u001b[1;32mc:\\Users\\jdamodhar\\Desktop\\python_essential\\DataCamp-ds-deloitte-master\\00-A\\85-Introduction to Portfolio Analysis in Python\\04- Portfolio Optimization.ipynb Cell 7\u001b[0m line \u001b[0;36m2\n\u001b[0;32m      <a href='vscode-notebook-cell:/c%3A/Users/jdamodhar/Desktop/python_essential/DataCamp-ds-deloitte-master/00-A/85-Introduction%20to%20Portfolio%20Analysis%20in%20Python/04-%20Portfolio%20Optimization.ipynb#W6sZmlsZQ%3D%3D?line=0'>1</a>\u001b[0m \u001b[39m# Calculate weights for the maximum Sharpe ratio portfolio\u001b[39;00m\n\u001b[1;32m----> <a href='vscode-notebook-cell:/c%3A/Users/jdamodhar/Desktop/python_essential/DataCamp-ds-deloitte-master/00-A/85-Introduction%20to%20Portfolio%20Analysis%20in%20Python/04-%20Portfolio%20Optimization.ipynb#W6sZmlsZQ%3D%3D?line=1'>2</a>\u001b[0m raw_weights_maxsharpe \u001b[39m=\u001b[39m ef\u001b[39m.\u001b[39;49mmax_sharpe()\n\u001b[0;32m      <a href='vscode-notebook-cell:/c%3A/Users/jdamodhar/Desktop/python_essential/DataCamp-ds-deloitte-master/00-A/85-Introduction%20to%20Portfolio%20Analysis%20in%20Python/04-%20Portfolio%20Optimization.ipynb#W6sZmlsZQ%3D%3D?line=2'>3</a>\u001b[0m cleaned_weights_maxsharpe \u001b[39m=\u001b[39m ef\u001b[39m.\u001b[39mclean_weights()\n\u001b[0;32m      <a href='vscode-notebook-cell:/c%3A/Users/jdamodhar/Desktop/python_essential/DataCamp-ds-deloitte-master/00-A/85-Introduction%20to%20Portfolio%20Analysis%20in%20Python/04-%20Portfolio%20Optimization.ipynb#W6sZmlsZQ%3D%3D?line=4'>5</a>\u001b[0m \u001b[39m# Show portfolio performance \u001b[39;00m\n",
      "File \u001b[1;32mc:\\Users\\jdamodhar\\AppData\\Local\\Programs\\Python\\Python311\\Lib\\site-packages\\pypfopt\\efficient_frontier\\efficient_frontier.py:290\u001b[0m, in \u001b[0;36mEfficientFrontier.max_sharpe\u001b[1;34m(self, risk_free_rate)\u001b[0m\n\u001b[0;32m    283\u001b[0m \u001b[39m# Transformed max_sharpe convex problem:\u001b[39;00m\n\u001b[0;32m    284\u001b[0m \u001b[39mself\u001b[39m\u001b[39m.\u001b[39m_constraints \u001b[39m=\u001b[39m [\n\u001b[0;32m    285\u001b[0m     (\u001b[39mself\u001b[39m\u001b[39m.\u001b[39mexpected_returns \u001b[39m-\u001b[39m risk_free_rate)\u001b[39m.\u001b[39mT \u001b[39m@\u001b[39m \u001b[39mself\u001b[39m\u001b[39m.\u001b[39m_w \u001b[39m==\u001b[39m \u001b[39m1\u001b[39m,\n\u001b[0;32m    286\u001b[0m     cp\u001b[39m.\u001b[39msum(\u001b[39mself\u001b[39m\u001b[39m.\u001b[39m_w) \u001b[39m==\u001b[39m k,\n\u001b[0;32m    287\u001b[0m     k \u001b[39m>\u001b[39m\u001b[39m=\u001b[39m \u001b[39m0\u001b[39m,\n\u001b[0;32m    288\u001b[0m ] \u001b[39m+\u001b[39m new_constraints\n\u001b[1;32m--> 290\u001b[0m \u001b[39mself\u001b[39;49m\u001b[39m.\u001b[39;49m_solve_cvxpy_opt_problem()\n\u001b[0;32m    291\u001b[0m \u001b[39m# Inverse-transform\u001b[39;00m\n\u001b[0;32m    292\u001b[0m \u001b[39mself\u001b[39m\u001b[39m.\u001b[39mweights \u001b[39m=\u001b[39m (\u001b[39mself\u001b[39m\u001b[39m.\u001b[39m_w\u001b[39m.\u001b[39mvalue \u001b[39m/\u001b[39m k\u001b[39m.\u001b[39mvalue)\u001b[39m.\u001b[39mround(\u001b[39m16\u001b[39m) \u001b[39m+\u001b[39m \u001b[39m0.0\u001b[39m\n",
      "File \u001b[1;32mc:\\Users\\jdamodhar\\AppData\\Local\\Programs\\Python\\Python311\\Lib\\site-packages\\pypfopt\\base_optimizer.py:294\u001b[0m, in \u001b[0;36mBaseConvexOptimizer._solve_cvxpy_opt_problem\u001b[1;34m(self)\u001b[0m\n\u001b[0;32m    292\u001b[0m \u001b[39melse\u001b[39;00m:\n\u001b[0;32m    293\u001b[0m     \u001b[39mif\u001b[39;00m \u001b[39mnot\u001b[39;00m \u001b[39mself\u001b[39m\u001b[39m.\u001b[39m_objective\u001b[39m.\u001b[39mid \u001b[39m==\u001b[39m \u001b[39mself\u001b[39m\u001b[39m.\u001b[39m_initial_objective:\n\u001b[1;32m--> 294\u001b[0m         \u001b[39mraise\u001b[39;00m exceptions\u001b[39m.\u001b[39mInstantiationError(\n\u001b[0;32m    295\u001b[0m             \u001b[39m\"\u001b[39m\u001b[39mThe objective function was changed after the initial optimization. \u001b[39m\u001b[39m\"\u001b[39m\n\u001b[0;32m    296\u001b[0m             \u001b[39m\"\u001b[39m\u001b[39mPlease create a new instance instead.\u001b[39m\u001b[39m\"\u001b[39m\n\u001b[0;32m    297\u001b[0m         )\n\u001b[0;32m    299\u001b[0m     constr_ids \u001b[39m=\u001b[39m {const\u001b[39m.\u001b[39mid \u001b[39mfor\u001b[39;00m const \u001b[39min\u001b[39;00m \u001b[39mself\u001b[39m\u001b[39m.\u001b[39m_constraints}\n\u001b[0;32m    300\u001b[0m     \u001b[39mif\u001b[39;00m \u001b[39mnot\u001b[39;00m constr_ids \u001b[39m==\u001b[39m \u001b[39mself\u001b[39m\u001b[39m.\u001b[39m_initial_constraint_ids:\n",
      "\u001b[1;31mInstantiationError\u001b[0m: The objective function was changed after the initial optimization. Please create a new instance instead."
     ]
    }
   ],
   "source": [
    "# Calculate weights for the maximum Sharpe ratio portfolio\n",
    "raw_weights_maxsharpe = ef.max_sharpe()\n",
    "cleaned_weights_maxsharpe = ef.clean_weights()\n",
    "\n",
    "# Show portfolio performance \n",
    "print(cleaned_weights_maxsharpe)\n",
    "ef.portfolio_performance(verbose=True)"
   ]
  },
  {
   "cell_type": "code",
   "execution_count": 9,
   "metadata": {},
   "outputs": [
    {
     "ename": "InstantiationError",
     "evalue": "Adding constraints to an already solved problem might have unintended consequences. A new instance should be created for the new set of constraints.",
     "output_type": "error",
     "traceback": [
      "\u001b[1;31m---------------------------------------------------------------------------\u001b[0m",
      "\u001b[1;31mInstantiationError\u001b[0m                        Traceback (most recent call last)",
      "\u001b[1;32mc:\\Users\\jdamodhar\\Desktop\\python_essential\\DataCamp-ds-deloitte-master\\00-A\\85-Introduction to Portfolio Analysis in Python\\04- Portfolio Optimization.ipynb Cell 9\u001b[0m line \u001b[0;36m2\n\u001b[0;32m      <a href='vscode-notebook-cell:/c%3A/Users/jdamodhar/Desktop/python_essential/DataCamp-ds-deloitte-master/00-A/85-Introduction%20to%20Portfolio%20Analysis%20in%20Python/04-%20Portfolio%20Optimization.ipynb#X10sZmlsZQ%3D%3D?line=0'>1</a>\u001b[0m \u001b[39m# Calculate weights for the minimum volatility portfolio\u001b[39;00m\n\u001b[1;32m----> <a href='vscode-notebook-cell:/c%3A/Users/jdamodhar/Desktop/python_essential/DataCamp-ds-deloitte-master/00-A/85-Introduction%20to%20Portfolio%20Analysis%20in%20Python/04-%20Portfolio%20Optimization.ipynb#X10sZmlsZQ%3D%3D?line=1'>2</a>\u001b[0m raw_weights_minvol \u001b[39m=\u001b[39m ef\u001b[39m.\u001b[39;49mmin_volatility()\n\u001b[0;32m      <a href='vscode-notebook-cell:/c%3A/Users/jdamodhar/Desktop/python_essential/DataCamp-ds-deloitte-master/00-A/85-Introduction%20to%20Portfolio%20Analysis%20in%20Python/04-%20Portfolio%20Optimization.ipynb#X10sZmlsZQ%3D%3D?line=2'>3</a>\u001b[0m cleaned_weights_minvol \u001b[39m=\u001b[39m ef\u001b[39m.\u001b[39mclean_weights()\n\u001b[0;32m      <a href='vscode-notebook-cell:/c%3A/Users/jdamodhar/Desktop/python_essential/DataCamp-ds-deloitte-master/00-A/85-Introduction%20to%20Portfolio%20Analysis%20in%20Python/04-%20Portfolio%20Optimization.ipynb#X10sZmlsZQ%3D%3D?line=4'>5</a>\u001b[0m \u001b[39m# Show portfolio performance \u001b[39;00m\n",
      "File \u001b[1;32mc:\\Users\\jdamodhar\\AppData\\Local\\Programs\\Python\\Python311\\Lib\\site-packages\\pypfopt\\efficient_frontier\\efficient_frontier.py:199\u001b[0m, in \u001b[0;36mEfficientFrontier.min_volatility\u001b[1;34m(self)\u001b[0m\n\u001b[0;32m    196\u001b[0m \u001b[39mfor\u001b[39;00m obj \u001b[39min\u001b[39;00m \u001b[39mself\u001b[39m\u001b[39m.\u001b[39m_additional_objectives:\n\u001b[0;32m    197\u001b[0m     \u001b[39mself\u001b[39m\u001b[39m.\u001b[39m_objective \u001b[39m+\u001b[39m\u001b[39m=\u001b[39m obj\n\u001b[1;32m--> 199\u001b[0m \u001b[39mself\u001b[39;49m\u001b[39m.\u001b[39;49madd_constraint(\u001b[39mlambda\u001b[39;49;00m w: cp\u001b[39m.\u001b[39;49msum(w) \u001b[39m==\u001b[39;49m \u001b[39m1\u001b[39;49m)\n\u001b[0;32m    200\u001b[0m \u001b[39mreturn\u001b[39;00m \u001b[39mself\u001b[39m\u001b[39m.\u001b[39m_solve_cvxpy_opt_problem()\n",
      "File \u001b[1;32mc:\\Users\\jdamodhar\\AppData\\Local\\Programs\\Python\\Python311\\Lib\\site-packages\\pypfopt\\base_optimizer.py:360\u001b[0m, in \u001b[0;36mBaseConvexOptimizer.add_constraint\u001b[1;34m(self, new_constraint)\u001b[0m\n\u001b[0;32m    356\u001b[0m     \u001b[39mraise\u001b[39;00m \u001b[39mTypeError\u001b[39;00m(\n\u001b[0;32m    357\u001b[0m         \u001b[39m\"\u001b[39m\u001b[39mNew constraint must be provided as a callable (e.g lambda function)\u001b[39m\u001b[39m\"\u001b[39m\n\u001b[0;32m    358\u001b[0m     )\n\u001b[0;32m    359\u001b[0m \u001b[39mif\u001b[39;00m \u001b[39mself\u001b[39m\u001b[39m.\u001b[39m_opt \u001b[39mis\u001b[39;00m \u001b[39mnot\u001b[39;00m \u001b[39mNone\u001b[39;00m:\n\u001b[1;32m--> 360\u001b[0m     \u001b[39mraise\u001b[39;00m exceptions\u001b[39m.\u001b[39mInstantiationError(\n\u001b[0;32m    361\u001b[0m         \u001b[39m\"\u001b[39m\u001b[39mAdding constraints to an already solved problem might have unintended consequences. \u001b[39m\u001b[39m\"\u001b[39m\n\u001b[0;32m    362\u001b[0m         \u001b[39m\"\u001b[39m\u001b[39mA new instance should be created for the new set of constraints.\u001b[39m\u001b[39m\"\u001b[39m\n\u001b[0;32m    363\u001b[0m     )\n\u001b[0;32m    364\u001b[0m \u001b[39mself\u001b[39m\u001b[39m.\u001b[39m_constraints\u001b[39m.\u001b[39mappend(new_constraint(\u001b[39mself\u001b[39m\u001b[39m.\u001b[39m_w))\n",
      "\u001b[1;31mInstantiationError\u001b[0m: Adding constraints to an already solved problem might have unintended consequences. A new instance should be created for the new set of constraints."
     ]
    }
   ],
   "source": [
    "# Calculate weights for the minimum volatility portfolio\n",
    "raw_weights_minvol = ef.min_volatility()\n",
    "cleaned_weights_minvol = ef.clean_weights()\n",
    "\n",
    "# Show portfolio performance \n",
    "print(cleaned_weights_minvol)\n",
    "ef.portfolio_performance(verbose=True)"
   ]
  },
  {
   "cell_type": "code",
   "execution_count": null,
   "metadata": {},
   "outputs": [],
   "source": [
    "# Print min vol and max sharpe results\n",
    "print(cleaned_weights_minvol, cleaned_weights_maxsharpe, perf_min_volatility, perf_max_sharpe, sep=\"\\n\")"
   ]
  },
  {
   "cell_type": "code",
   "execution_count": 10,
   "metadata": {},
   "outputs": [
    {
     "name": "stdout",
     "output_type": "stream",
     "text": [
      "Expected annual return: 27.1%\n",
      "Annual volatility: 24.4%\n",
      "Sharpe Ratio: 1.03\n"
     ]
    },
    {
     "data": {
      "text/plain": [
       "(0.27060086764443547, 0.24440611989379227, 1.0253461237113668)"
      ]
     },
     "execution_count": 10,
     "metadata": {},
     "output_type": "execute_result"
    }
   ],
   "source": [
    "# Define exponentially weighted Sigma and mu\n",
    "Sigma = risk_models.exp_cov(stock_prices, span=180, frequency=252)\n",
    "mu = expected_returns.ema_historical_return(stock_prices, frequency=252, span=180)\n",
    "\n",
    "# Calculate the efficient frontier\n",
    "ef = EfficientFrontier(mu, Sigma)\n",
    "\n",
    "# Calculate weights for the maximum sharpe ratio optimization\n",
    "raw_weights_maxsharpe = ef.max_sharpe()\n",
    "\n",
    "# Show portfolio performance \n",
    "ef.portfolio_performance(verbose=True)"
   ]
  },
  {
   "cell_type": "code",
   "execution_count": 11,
   "metadata": {},
   "outputs": [
    {
     "name": "stdout",
     "output_type": "stream",
     "text": [
      "Expected annual return: 27.1%\n",
      "Annual volatility: 24.4%\n",
      "Sharpe Ratio: 1.03\n"
     ]
    },
    {
     "ename": "NameError",
     "evalue": "name 'ef_2' is not defined",
     "output_type": "error",
     "traceback": [
      "\u001b[1;31m---------------------------------------------------------------------------\u001b[0m",
      "\u001b[1;31mNameError\u001b[0m                                 Traceback (most recent call last)",
      "\u001b[1;32mc:\\Users\\jdamodhar\\Desktop\\python_essential\\DataCamp-ds-deloitte-master\\00-A\\85-Introduction to Portfolio Analysis in Python\\04- Portfolio Optimization.ipynb Cell 12\u001b[0m line \u001b[0;36m3\n\u001b[0;32m      <a href='vscode-notebook-cell:/c%3A/Users/jdamodhar/Desktop/python_essential/DataCamp-ds-deloitte-master/00-A/85-Introduction%20to%20Portfolio%20Analysis%20in%20Python/04-%20Portfolio%20Optimization.ipynb#X14sZmlsZQ%3D%3D?line=0'>1</a>\u001b[0m \u001b[39m# Print the performance of both portfolios types\u001b[39;00m\n\u001b[0;32m      <a href='vscode-notebook-cell:/c%3A/Users/jdamodhar/Desktop/python_essential/DataCamp-ds-deloitte-master/00-A/85-Introduction%20to%20Portfolio%20Analysis%20in%20Python/04-%20Portfolio%20Optimization.ipynb#X14sZmlsZQ%3D%3D?line=1'>2</a>\u001b[0m perf_max_sharpe \u001b[39m=\u001b[39m ef\u001b[39m.\u001b[39mportfolio_performance(verbose\u001b[39m=\u001b[39m\u001b[39mTrue\u001b[39;00m)\n\u001b[1;32m----> <a href='vscode-notebook-cell:/c%3A/Users/jdamodhar/Desktop/python_essential/DataCamp-ds-deloitte-master/00-A/85-Introduction%20to%20Portfolio%20Analysis%20in%20Python/04-%20Portfolio%20Optimization.ipynb#X14sZmlsZQ%3D%3D?line=2'>3</a>\u001b[0m perf_max_sharpe_EW \u001b[39m=\u001b[39m ef_2\u001b[39m.\u001b[39mportfolio_performance(verbose\u001b[39m=\u001b[39m\u001b[39mTrue\u001b[39;00m)\n",
      "\u001b[1;31mNameError\u001b[0m: name 'ef_2' is not defined"
     ]
    }
   ],
   "source": [
    "# Print the performance of both portfolios types\n",
    "perf_max_sharpe = ef.portfolio_performance(verbose=True)\n",
    "perf_max_sharpe_EW = ef_2.portfolio_performance(verbose=True)"
   ]
  },
  {
   "cell_type": "code",
   "execution_count": 14,
   "metadata": {},
   "outputs": [
    {
     "name": "stdout",
     "output_type": "stream",
     "text": [
      "Expected annual return: 30.3%\n",
      "Annual volatility: 18.5%\n",
      "Sharpe Ratio: 1.53\n"
     ]
    }
   ],
   "source": [
    "# Calculate expected returns and sample covariance\n",
    "mu_ema = expected_returns.ema_historical_return(stock_prices, span=504 ,frequency=252)\n",
    "Sigma_ew = risk_models.exp_cov(stock_prices, span=504, frequency=252)\n",
    "ef_2 = EfficientFrontier(mu_ema, Sigma_ew)\n",
    "\n",
    "# Calculate weights for the maximum Sharpe ratio portfolio\n",
    "weights = ef_2.max_sharpe()\n",
    "cleaned_weights_maxsharpe_EW = ef_2.clean_weights()\n",
    "perf_max_sharpe_EW = ef_2.portfolio_performance(verbose=True)"
   ]
  },
  {
   "cell_type": "code",
   "execution_count": 15,
   "metadata": {},
   "outputs": [
    {
     "name": "stdout",
     "output_type": "stream",
     "text": [
      "Expected annual return: 12.8%\n",
      "Annual volatility: 17.0%\n",
      "Sharpe Ratio: 0.63\n"
     ]
    }
   ],
   "source": [
    "# Calculate expected returns and sample covariance\n",
    "mu_ema = expected_returns.ema_historical_return(stock_prices, span=10 ,frequency=252)\n",
    "Sigma_ew = risk_models.exp_cov(stock_prices, span=10, frequency=252)\n",
    "ef_2 = EfficientFrontier(mu_ema, Sigma_ew)\n",
    "\n",
    "# Calculate weights for the maximum Sharpe ratio portfolio\n",
    "weights = ef_2.max_sharpe()\n",
    "cleaned_weights_maxsharpe_EW = ef_2.clean_weights()\n",
    "perf_max_sharpe_EW = ef_2.portfolio_performance(verbose=True)"
   ]
  },
  {
   "cell_type": "markdown",
   "metadata": {},
   "source": [
    "Great work! Interesting isn't it, that by playing around with the span, you get two completely different type of portfolios, each with a very different Sharpe ratio. If your data is very volatile and changes rapidly, working with a short span might give you better predictive power of the expected return, with a faster moving investment strategy. However, if your data is rather slow moving as is the case with this data, the short span does not help you in better predicting expected risk and returns. Let's now recap what we've learned in this course"
   ]
  },
  {
   "cell_type": "code",
   "execution_count": null,
   "metadata": {},
   "outputs": [],
   "source": []
  }
 ],
 "metadata": {
  "kernelspec": {
   "display_name": "Python 3",
   "language": "python",
   "name": "python3"
  },
  "language_info": {
   "codemirror_mode": {
    "name": "ipython",
    "version": 3
   },
   "file_extension": ".py",
   "mimetype": "text/x-python",
   "name": "python",
   "nbconvert_exporter": "python",
   "pygments_lexer": "ipython3",
   "version": "3.11.6"
  }
 },
 "nbformat": 4,
 "nbformat_minor": 2
}
