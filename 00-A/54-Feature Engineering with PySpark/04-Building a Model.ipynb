{
 "cells": [
  {
   "cell_type": "code",
   "execution_count": 118,
   "metadata": {},
   "outputs": [
    {
     "data": {
      "text/plain": [
       "'local-1698763673578'"
      ]
     },
     "execution_count": 118,
     "metadata": {},
     "output_type": "execute_result"
    }
   ],
   "source": [
    "sc.applicationId"
   ]
  },
  {
   "cell_type": "code",
   "execution_count": 114,
   "metadata": {},
   "outputs": [
    {
     "name": "stdout",
     "output_type": "stream",
     "text": [
      "+-----------------------------+----------+----+-----+-------------------+------------------+----------+---------------+-------------+---------------+----------+---------+---------------+-----------------+------------+--------------+-------+---------+-----------------+------------+--------------+----------+---------+-------------------------------------------------------------------------------------------------------------------------------------------------------------------------------------------------------------------------+-------------------------------------+----------+------------------+---------------+----+--------------------------------------------------------------------------+---------------+-------+----------+---------+------------------+-------+----------+----------+---------+------------------+----------------+-----+------------------+---------------------------------------------------------------------------------------------------------------------------------------------------------------+----------------+---------------------------------------------------------------------------+---------+-------------------------+----------+----------+---------+-------------------------------------------------+------------------------------------------------------------------------------------+---------+---------+-----------+-----------------+-----+----------+----------------------------------------------------------------------------------------------------------------+---------+----------+---------+----------+---------+----------+---------+----------+--------+---------------+-----------------+--------------+-----------------+-----------------+-------------------+----------------------+---------------------+-------------------+-------------------+-----------------+-------------------+--------+---------+---------+---------+------------+------------------+------------------+----------------+--------------------+------------+----------+------------------+----------------+---------+---------------+-------------------+----------------------------------------------------------------------------+-----------------+------------+-------------+-----------+\n",
      "|SchoolDistrictNumber         |PostalCode|NO  |MLSID|StreetNumberNumeric|streetaddress     |STREETNAME|StateOrProvince|City         |SALESCLOSEPRICE|LISTDATE  |LISTPRICE|LISTTYPE       |OriginalListPrice|PricePerTSFT|FOUNDATIONSIZE|FENCE  |MapLetter|LotSizeDimensions|DAYSONMARKET|offmarketdate |FIREPLACES|RoomArea4|roomtype                                                                                                                                                                                                                 |ROOF                                 |RoomFloor4|PotentialShortSale|PoolDescription|PDOM|GarageDescription                                                         |SQFTABOVEGROUND|TAXES  |RoomFloor1|RoomArea1|TAXWITHASSESSMENTS|TAXYEAR|LIVINGAREA|UNITNUMBER|YEARBUILT|ZONING            |STYLE           |ACRES|CoolingDescription|APPLIANCES                                                                                                                                                     |BACKONMARKETDATE|ROOMFAMILYCHAR                                                             |RoomArea3|EXTERIOR                 |RoomFloor3|RoomFloor2|RoomArea2|DiningRoomDescription                            |BASEMENT                                                                            |BATHSFULL|BATHSHALF|BATHQUARTER|BATHSTHREEQUARTER|Class|BATHSTOTAL|BATHDESC                                                                                                        |RoomArea5|RoomFloor5|RoomArea6|RoomFloor6|RoomArea7|RoomFloor7|RoomArea8|RoomFloor8|BEDROOMS|SQFTBELOWGROUND|AssumableMortgage|ASSOCIATIONFEE|ASSESSMENTPENDING|ASSESSEDVALUATION|log_SalesClosePrice|percentage_scaled_days|scaled_FOUNDATIONSIZE|scaled_DAYSONMARKET|scaled_FIREPLACES  |Reflect_YearBuilt|adj_yearbuilt      |latitude|longitude|walkscore|bikescore|transitscore|LOT_SIZE_SQFT     |YARD_SIZE         |ASSESSED_TO_LIST|TAX_TO_LIST         |BED_TO_BATHS|Total_SQFT|BATHS_PER_1000SQFT|List_Day_of_Week|list_year|MedianHomeValue|has_attached_garage|garage_list                                                                 |Listed_On_Weekend|School_Index|School_Vec   |report_year|\n",
      "+-----------------------------+----------+----+-----+-------------------+------------------+----------+---------------+-------------+---------------+----------+---------+---------------+-----------------+------------+--------------+-------+---------+-----------------+------------+--------------+----------+---------+-------------------------------------------------------------------------------------------------------------------------------------------------------------------------------------------------------------------------+-------------------------------------+----------+------------------+---------------+----+--------------------------------------------------------------------------+---------------+-------+----------+---------+------------------+-------+----------+----------+---------+------------------+----------------+-----+------------------+---------------------------------------------------------------------------------------------------------------------------------------------------------------+----------------+---------------------------------------------------------------------------+---------+-------------------------+----------+----------+---------+-------------------------------------------------+------------------------------------------------------------------------------------+---------+---------+-----------+-----------------+-----+----------+----------------------------------------------------------------------------------------------------------------+---------+----------+---------+----------+---------+----------+---------+----------+--------+---------------+-----------------+--------------+-----------------+-----------------+-------------------+----------------------+---------------------+-------------------+-------------------+-----------------+-------------------+--------+---------+---------+---------+------------+------------------+------------------+----------------+--------------------+------------+----------+------------------+----------------+---------+---------------+-------------------+----------------------------------------------------------------------------+-----------------+------------+-------------+-----------+\n",
      "|833 - South Washington County|55125     |4992|RMLS |3507               |3507 Crestmoor Pt |Crestmoor |MN             |WB - Woodbury|770000.0       |2017-05-03|775000   |Exclusive Right|775000           |220.6936    |2549.0        |None   |A3       |0                |16.0        |5/19/2017 0:00|1.0       |18x12    |Living Room, Dining Room, Family Room, Kitchen, First (1st) Bedroom, Second (2nd) Bedroom, Third (3rd) Bedroom, Fourth (4th) Bedroom, Office, Sun Room                                                                   |Asphalt Shingles, Age 8 Years or Less|Main      |No                |None           |16.0|Attached Garage, Insulated Garage, Driveway - Concrete, Garage Door Opener|3489.0         |10776.0|NULL      |NULL     |10776.0           |2016.0 |3489.0    |NULL      |2000.0   |Residential-Single|(SF) Two Stories|0.82 |Central           |Cooktop, Wall Oven, Microwave, Dishwasher, Trash Compactor, Refrigerator, Washer, Dryer, Water Softener - Owned, Disposal, Central Vacuum, Air-To-Air Exchanger|NULL            |Main Level, 2 Story/High/Vaulted Ceilings, Great Room                      |22x19    |Brick/Stone, Cement Board|Main      |Main      |16x13    |Separate/Formal Dining Room, Eat In Kitchen      |Walkout, Full, Sump Pump                                                            |3.0      |1.0      |0.0        |0.0              |SF   |4.0       |Main Floor Full Bath, Main Floor 1/2 Bath, Upper Level Full Bath , Private Master, Full Master, Bathroom Ensuite|16x19    |Main      |14x13    |Upper     |14x13    |Upper     |16x13    |Upper     |4.0     |0.0            |NULL             |440.0         |No               |0.0              |13.554145793829866 |0.0                   |0.6721181746241097   |0.07111111111111111|0.14285714285714285|19.0             |0.3396232718951086 |44.88482|-92.88453|69       |26       |68          |35719.2           |33170.2           |0.0             |0.013904516129032258|1.0         |3489.0    |1.1464603038119805|4.0             |2017     |237624         |1                  |[Attached Garage, Insulated Garage, Driveway - Concrete, Garage Door Opener]|0.0              |6.0         |(8,[6],[1.0])|2016       |\n",
      "|833 - South Washington County|55125     |4992|RMLS |3507               |3507 Crestmoor Pt |Crestmoor |MN             |WB - Woodbury|770000.0       |2017-05-03|775000   |Exclusive Right|775000           |220.6936    |2549.0        |None   |A3       |0                |16.0        |5/19/2017 0:00|1.0       |18x12    |Living Room, Dining Room, Family Room, Kitchen, First (1st) Bedroom, Second (2nd) Bedroom, Third (3rd) Bedroom, Fourth (4th) Bedroom, Office, Sun Room                                                                   |Asphalt Shingles, Age 8 Years or Less|Main      |No                |None           |16.0|Attached Garage, Insulated Garage, Driveway - Concrete, Garage Door Opener|3489.0         |10776.0|NULL      |NULL     |10776.0           |2016.0 |3489.0    |NULL      |2000.0   |Residential-Single|(SF) Two Stories|0.82 |Central           |Cooktop, Wall Oven, Microwave, Dishwasher, Trash Compactor, Refrigerator, Washer, Dryer, Water Softener - Owned, Disposal, Central Vacuum, Air-To-Air Exchanger|NULL            |Main Level, 2 Story/High/Vaulted Ceilings, Great Room                      |22x19    |Brick/Stone, Cement Board|Main      |Main      |16x13    |Separate/Formal Dining Room, Eat In Kitchen      |Walkout, Full, Sump Pump                                                            |3.0      |1.0      |0.0        |0.0              |SF   |4.0       |Main Floor Full Bath, Main Floor 1/2 Bath, Upper Level Full Bath , Private Master, Full Master, Bathroom Ensuite|16x19    |Main      |14x13    |Upper     |14x13    |Upper     |16x13    |Upper     |4.0     |0.0            |NULL             |440.0         |No               |0.0              |13.554145793829866 |0.0                   |0.6721181746241097   |0.07111111111111111|0.14285714285714285|19.0             |0.3396232718951086 |44.88482|-92.88453|69       |26       |68          |35719.2           |33170.2           |0.0             |0.013904516129032258|1.0         |3489.0    |1.1464603038119805|4.0             |2017     |190846         |1                  |[Attached Garage, Insulated Garage, Driveway - Concrete, Garage Door Opener]|0.0              |6.0         |(8,[6],[1.0])|2016       |\n",
      "|833 - South Washington County|55125     |4989|RMLS |3503               |3503 Crestmoor Pt |Crestmoor |MN             |WB - Woodbury|750000.0       |2017-03-28|750000   |Exclusive Right|750000           |148.4854    |1801.0        |NULL   |A3       |76x201x32x227x244|16.0        |4/13/2017 0:00|2.0       |15x15    |Living Room, Dining Room, Family Room, Kitchen, First (1st) Bedroom, Second (2nd) Bedroom, Third (3rd) Bedroom, Fourth (4th) Bedroom, Fifth (5th) Bedroom, Exercise Room, Billiard Room, Amusement Room, Office, Sun Room|Asphalt Shingles                     |Main      |No                |NULL           |16.0|Attached Garage, Driveway - Concrete, Garage Door Opener                  |3292.0         |10634.0|NULL      |NULL     |10634.0           |2016.0 |5051.0    |NULL      |1998.0   |Residential-Single|(SF) Two Stories|0.74 |Central           |Cooktop, Wall Oven, Microwave, Exhaust Fan/Hood, Dishwasher, Refrigerator, Washer, Dryer, Water Softener - Owned, Disposal, Air-To-Air Exchanger               |NULL            |Main Level, Lower Level, 2 or More, Family Room, Entertainment/Media Center|21x14    |Brick/Stone, Cement Board|Main      |Main      |13x12    |Separate/Formal Dining Room, Informal Dining Room|Walkout, Full, Finished (Livable), Drain Tiled, Drainage System, Day/Lookout Windows|3.0      |1.0      |0.0        |1.0              |SF   |5.0       |Main Floor 1/2 Bath, Private Master, Full Master, Jack and Jill, 3/4 Basement, Separate Tub & Shower, Whirlpool |16x14    |Upper     |13x12    |Upper     |13x12    |Upper     |16x14    |Upper     |5.0     |1759.0         |NULL             |440.0         |Unknown          |0.0              |13.527828485512494 |0.0                   |0.47480875758375096  |0.07111111111111111|0.2857142857142857 |21.0             |0.3284587387530511 |44.88482|-92.88453|69       |26       |68          |32234.399999999998|30433.399999999998|0.0             |0.014178666666666666|1.0         |5051.0    |0.9899029895070283|3.0             |2017     |237624         |1                  |[Attached Garage, Driveway - Concrete, Garage Door Opener]                  |0.0              |6.0         |(8,[6],[1.0])|2016       |\n",
      "|833 - South Washington County|55125     |4989|RMLS |3503               |3503 Crestmoor Pt |Crestmoor |MN             |WB - Woodbury|750000.0       |2017-03-28|750000   |Exclusive Right|750000           |148.4854    |1801.0        |NULL   |A3       |76x201x32x227x244|16.0        |4/13/2017 0:00|2.0       |15x15    |Living Room, Dining Room, Family Room, Kitchen, First (1st) Bedroom, Second (2nd) Bedroom, Third (3rd) Bedroom, Fourth (4th) Bedroom, Fifth (5th) Bedroom, Exercise Room, Billiard Room, Amusement Room, Office, Sun Room|Asphalt Shingles                     |Main      |No                |NULL           |16.0|Attached Garage, Driveway - Concrete, Garage Door Opener                  |3292.0         |10634.0|NULL      |NULL     |10634.0           |2016.0 |5051.0    |NULL      |1998.0   |Residential-Single|(SF) Two Stories|0.74 |Central           |Cooktop, Wall Oven, Microwave, Exhaust Fan/Hood, Dishwasher, Refrigerator, Washer, Dryer, Water Softener - Owned, Disposal, Air-To-Air Exchanger               |NULL            |Main Level, Lower Level, 2 or More, Family Room, Entertainment/Media Center|21x14    |Brick/Stone, Cement Board|Main      |Main      |13x12    |Separate/Formal Dining Room, Informal Dining Room|Walkout, Full, Finished (Livable), Drain Tiled, Drainage System, Day/Lookout Windows|3.0      |1.0      |0.0        |1.0              |SF   |5.0       |Main Floor 1/2 Bath, Private Master, Full Master, Jack and Jill, 3/4 Basement, Separate Tub & Shower, Whirlpool |16x14    |Upper     |13x12    |Upper     |13x12    |Upper     |16x14    |Upper     |5.0     |1759.0         |NULL             |440.0         |Unknown          |0.0              |13.527828485512494 |0.0                   |0.47480875758375096  |0.07111111111111111|0.2857142857142857 |21.0             |0.3284587387530511 |44.88482|-92.88453|69       |26       |68          |32234.399999999998|30433.399999999998|0.0             |0.014178666666666666|1.0         |5051.0    |0.9899029895070283|3.0             |2017     |190846         |1                  |[Attached Garage, Driveway - Concrete, Garage Door Opener]                  |0.0              |6.0         |(8,[6],[1.0])|2016       |\n",
      "|833 - South Washington County|55125     |4979|RMLS |8905               |8905 Springwood Dr|Springwood|MN             |WB - Woodbury|675000.0       |2017-09-24|699900   |Exclusive Right|699900           |154.8165    |1562.0        |Partial|E3       |89x157           |9.0         |10/3/2017 0:00|2.0       |14x14    |Living Room, Dining Room, Family Room, Kitchen, First (1st) Bedroom, Second (2nd) Bedroom, Third (3rd) Bedroom, Fourth (4th) Bedroom, Fifth (5th) Bedroom, Deck, Patio, Exercise Room, Family Room                       |Asphalt Shingles                     |Main      |No                |Below Ground   |9.0 |Attached Garage, Driveway - Concrete, Garage Door Opener                  |3024.0         |8544.0 |NULL      |NULL     |8544.0            |2017.0 |4360.0    |NULL      |1999.0   |Residential-Single|(SF) Two Stories|0.388|Central           |Range, Microwave, Dishwasher, Refrigerator                                                                                                                     |NULL            |NULL                                                                       |16x16    |Cement Board             |Main      |Main      |12x11    |Separate/Formal Dining Room, Eat In Kitchen      |Walkout, Full, Finished (Livable), Egress Windows                                   |2.0      |1.0      |0.0        |1.0              |SF   |4.0       |Main Floor 1/2 Bath, Upper Level Full Bath , Full Master, 3/4 Basement                                          |17x14    |Upper     |12x12    |Upper     |12x12    |Upper     |12x11    |Upper     |5.0     |1336.0         |NULL             |450.0         |No               |0.0              |13.422467969854667 |0.0                   |0.4117647058823529   |0.04               |0.2857142857142857 |20.0             |0.33380820069533407|44.88482|-92.88453|69       |26       |68          |16901.28          |15339.279999999999|0.0             |0.012207458208315473|1.25        |4360.0    |0.9174311926605504|1.0             |2017     |237624         |1                  |[Attached Garage, Driveway - Concrete, Garage Door Opener]                  |0.0              |6.0         |(8,[6],[1.0])|2016       |\n",
      "+-----------------------------+----------+----+-----+-------------------+------------------+----------+---------------+-------------+---------------+----------+---------+---------------+-----------------+------------+--------------+-------+---------+-----------------+------------+--------------+----------+---------+-------------------------------------------------------------------------------------------------------------------------------------------------------------------------------------------------------------------------+-------------------------------------+----------+------------------+---------------+----+--------------------------------------------------------------------------+---------------+-------+----------+---------+------------------+-------+----------+----------+---------+------------------+----------------+-----+------------------+---------------------------------------------------------------------------------------------------------------------------------------------------------------+----------------+---------------------------------------------------------------------------+---------+-------------------------+----------+----------+---------+-------------------------------------------------+------------------------------------------------------------------------------------+---------+---------+-----------+-----------------+-----+----------+----------------------------------------------------------------------------------------------------------------+---------+----------+---------+----------+---------+----------+---------+----------+--------+---------------+-----------------+--------------+-----------------+-----------------+-------------------+----------------------+---------------------+-------------------+-------------------+-----------------+-------------------+--------+---------+---------+---------+------------+------------------+------------------+----------------+--------------------+------------+----------+------------------+----------------+---------+---------------+-------------------+----------------------------------------------------------------------------+-----------------+------------+-------------+-----------+\n",
      "only showing top 5 rows\n",
      "\n",
      "root\n",
      " |-- SchoolDistrictNumber: string (nullable = true)\n",
      " |-- PostalCode: string (nullable = true)\n",
      " |-- NO: integer (nullable = true)\n",
      " |-- MLSID: string (nullable = true)\n",
      " |-- StreetNumberNumeric: string (nullable = true)\n",
      " |-- streetaddress: string (nullable = true)\n",
      " |-- STREETNAME: string (nullable = true)\n",
      " |-- StateOrProvince: string (nullable = true)\n",
      " |-- City: string (nullable = true)\n",
      " |-- SALESCLOSEPRICE: double (nullable = true)\n",
      " |-- LISTDATE: date (nullable = true)\n",
      " |-- LISTPRICE: string (nullable = true)\n",
      " |-- LISTTYPE: string (nullable = true)\n",
      " |-- OriginalListPrice: string (nullable = true)\n",
      " |-- PricePerTSFT: string (nullable = true)\n",
      " |-- FOUNDATIONSIZE: double (nullable = true)\n",
      " |-- FENCE: string (nullable = true)\n",
      " |-- MapLetter: string (nullable = true)\n",
      " |-- LotSizeDimensions: string (nullable = true)\n",
      " |-- DAYSONMARKET: double (nullable = true)\n",
      " |-- offmarketdate: string (nullable = true)\n",
      " |-- FIREPLACES: double (nullable = true)\n",
      " |-- RoomArea4: string (nullable = true)\n",
      " |-- roomtype: string (nullable = true)\n",
      " |-- ROOF: string (nullable = true)\n",
      " |-- RoomFloor4: string (nullable = true)\n",
      " |-- PotentialShortSale: string (nullable = true)\n",
      " |-- PoolDescription: string (nullable = true)\n",
      " |-- PDOM: double (nullable = true)\n",
      " |-- GarageDescription: string (nullable = true)\n",
      " |-- SQFTABOVEGROUND: double (nullable = true)\n",
      " |-- TAXES: double (nullable = true)\n",
      " |-- RoomFloor1: string (nullable = true)\n",
      " |-- RoomArea1: string (nullable = true)\n",
      " |-- TAXWITHASSESSMENTS: double (nullable = true)\n",
      " |-- TAXYEAR: double (nullable = true)\n",
      " |-- LIVINGAREA: double (nullable = true)\n",
      " |-- UNITNUMBER: string (nullable = true)\n",
      " |-- YEARBUILT: double (nullable = true)\n",
      " |-- ZONING: string (nullable = true)\n",
      " |-- STYLE: string (nullable = true)\n",
      " |-- ACRES: double (nullable = true)\n",
      " |-- CoolingDescription: string (nullable = true)\n",
      " |-- APPLIANCES: string (nullable = true)\n",
      " |-- BACKONMARKETDATE: double (nullable = true)\n",
      " |-- ROOMFAMILYCHAR: string (nullable = true)\n",
      " |-- RoomArea3: string (nullable = true)\n",
      " |-- EXTERIOR: string (nullable = true)\n",
      " |-- RoomFloor3: string (nullable = true)\n",
      " |-- RoomFloor2: string (nullable = true)\n",
      " |-- RoomArea2: string (nullable = true)\n",
      " |-- DiningRoomDescription: string (nullable = true)\n",
      " |-- BASEMENT: string (nullable = true)\n",
      " |-- BATHSFULL: double (nullable = true)\n",
      " |-- BATHSHALF: double (nullable = true)\n",
      " |-- BATHQUARTER: double (nullable = true)\n",
      " |-- BATHSTHREEQUARTER: double (nullable = true)\n",
      " |-- Class: string (nullable = true)\n",
      " |-- BATHSTOTAL: double (nullable = true)\n",
      " |-- BATHDESC: string (nullable = true)\n",
      " |-- RoomArea5: string (nullable = true)\n",
      " |-- RoomFloor5: string (nullable = true)\n",
      " |-- RoomArea6: string (nullable = true)\n",
      " |-- RoomFloor6: string (nullable = true)\n",
      " |-- RoomArea7: string (nullable = true)\n",
      " |-- RoomFloor7: string (nullable = true)\n",
      " |-- RoomArea8: string (nullable = true)\n",
      " |-- RoomFloor8: string (nullable = true)\n",
      " |-- BEDROOMS: double (nullable = true)\n",
      " |-- SQFTBELOWGROUND: double (nullable = true)\n",
      " |-- AssumableMortgage: string (nullable = true)\n",
      " |-- ASSOCIATIONFEE: double (nullable = true)\n",
      " |-- ASSESSMENTPENDING: string (nullable = true)\n",
      " |-- ASSESSEDVALUATION: double (nullable = true)\n",
      " |-- log_SalesClosePrice: double (nullable = true)\n",
      " |-- percentage_scaled_days: double (nullable = true)\n",
      " |-- scaled_FOUNDATIONSIZE: double (nullable = true)\n",
      " |-- scaled_DAYSONMARKET: double (nullable = true)\n",
      " |-- scaled_FIREPLACES: double (nullable = true)\n",
      " |-- Reflect_YearBuilt: double (nullable = true)\n",
      " |-- adj_yearbuilt: double (nullable = true)\n",
      " |-- latitude: double (nullable = true)\n",
      " |-- longitude: double (nullable = true)\n",
      " |-- walkscore: integer (nullable = true)\n",
      " |-- bikescore: integer (nullable = true)\n",
      " |-- transitscore: integer (nullable = true)\n",
      " |-- LOT_SIZE_SQFT: double (nullable = true)\n",
      " |-- YARD_SIZE: double (nullable = true)\n",
      " |-- ASSESSED_TO_LIST: double (nullable = true)\n",
      " |-- TAX_TO_LIST: double (nullable = true)\n",
      " |-- BED_TO_BATHS: double (nullable = true)\n",
      " |-- Total_SQFT: double (nullable = true)\n",
      " |-- BATHS_PER_1000SQFT: double (nullable = true)\n",
      " |-- List_Day_of_Week: double (nullable = true)\n",
      " |-- list_year: integer (nullable = true)\n",
      " |-- MedianHomeValue: integer (nullable = true)\n",
      " |-- has_attached_garage: integer (nullable = true)\n",
      " |-- garage_list: array (nullable = true)\n",
      " |    |-- element: string (containsNull = true)\n",
      " |-- Listed_On_Weekend: double (nullable = true)\n",
      " |-- School_Index: double (nullable = true)\n",
      " |-- School_Vec: vector (nullable = true)\n",
      " |-- report_year: integer (nullable = true)\n",
      "\n"
     ]
    }
   ],
   "source": [
    "dfs = spark.read.parquet('./03_Feature_Engineering_end.parquet')\n",
    "dfs.show(5,0)\n",
    "dfs.printSchema()\n"
   ]
  },
  {
   "cell_type": "code",
   "execution_count": 119,
   "metadata": {},
   "outputs": [
    {
     "data": {
      "text/plain": [
       "6090"
      ]
     },
     "execution_count": 119,
     "metadata": {},
     "output_type": "execute_result"
    }
   ],
   "source": [
    "dfs.count()"
   ]
  },
  {
   "cell_type": "code",
   "execution_count": 103,
   "metadata": {},
   "outputs": [],
   "source": [
    "from datetime import timedelta, datetime\n",
    "\n",
    "def train_test_split_date(df, split_col, test_days=45):\n",
    "    \"\"\"Calculate the date to split test and training sets\"\"\"\n",
    "    # Find how many days our data spans\n",
    "    # datetime.strptime(split_date, '%Y-%m-%d')\n",
    "    max_date = datetime.strptime(df.agg({split_col: 'max'}).collect()[0][0], '%Y-%m-%d')\n",
    "    min_date = datetime.strptime(df.agg({split_col: 'min'}).collect()[0][0], '%Y-%m-%d')\n",
    "    # Subtract an integer number of days from the last date in dataset\n",
    "    split_date = max_date - timedelta(days=test_days)\n",
    "    return split_date\n",
    "\n",
    "df = spark.read.csv('./tmp_test_m_5000.csv',header=True, inferSchema=True)\n",
    "# Find the date to use in spitting test and train\n",
    "split_date = train_test_split_date(df, 'OFFMKTDATE')\n",
    "\n",
    "# Create Sequential Test and Training Sets\n",
    "train_df = df.where(df['OFFMKTDATE'] < split_date)\n",
    "test_df = df\\\n",
    "    .where(df['OFFMKTDATE'] >= split_date)\\\n",
    "    .where(df['LISTDATE'] <= split_date) "
   ]
  },
  {
   "cell_type": "code",
   "execution_count": 109,
   "metadata": {},
   "outputs": [
    {
     "name": "stdout",
     "output_type": "stream",
     "text": [
      "+-------+-----------------+----------+----------+\n",
      "|summary|     DAYSONMARKET|  LISTDATE|OFFMKTDATE|\n",
      "+-------+-----------------+----------+----------+\n",
      "|  count|             5000|      5000|      5000|\n",
      "|   mean|         111.2658|      NULL|      NULL|\n",
      "| stddev|64.57408700789027|      NULL|      NULL|\n",
      "|    min|                0|2017-07-10|2017-07-11|\n",
      "|    max|              224|2017-10-25|2017-10-31|\n",
      "+-------+-----------------+----------+----------+\n",
      "\n"
     ]
    }
   ],
   "source": [
    "df.describe().show()"
   ]
  },
  {
   "cell_type": "code",
   "execution_count": 107,
   "metadata": {},
   "outputs": [
    {
     "data": {
      "text/plain": [
       "3010"
      ]
     },
     "execution_count": 107,
     "metadata": {},
     "output_type": "execute_result"
    }
   ],
   "source": [
    "test_df.count()\n",
    "train_df.count()"
   ]
  },
  {
   "cell_type": "code",
   "execution_count": 111,
   "metadata": {},
   "outputs": [
    {
     "name": "stdout",
     "output_type": "stream",
     "text": [
      "+----------+----------+---------------------+------------+\n",
      "|  LISTDATE|OFFMKTDATE|DAYSONMARKET_Original|DAYSONMARKET|\n",
      "+----------+----------+---------------------+------------+\n",
      "|2017-09-09|2017-09-14|                   87|           1|\n",
      "|2017-09-09|2017-09-10|                  125|           1|\n",
      "|2017-09-10|2017-09-11|                   65|           0|\n",
      "|2017-09-07|2017-09-12|                  216|           3|\n",
      "|2017-09-06|2017-09-10|                   40|           4|\n",
      "+----------+----------+---------------------+------------+\n",
      "only showing top 5 rows\n",
      "\n"
     ]
    }
   ],
   "source": [
    "from pyspark.sql.functions import datediff, to_date, lit\n",
    "\n",
    "split_date = to_date(lit('2017-09-10'))\n",
    "# Create Sequential Test set\n",
    "test_df = df\\\n",
    "    .where(df['OFFMKTDATE'] >= split_date)\\\n",
    "    .where(df['LISTDATE'] <= split_date)\n",
    "\n",
    "# Create a copy of DAYSONMARKET to review later\n",
    "test_df = test_df.withColumn('DAYSONMARKET_Original', test_df['DAYSONMARKET'])\n",
    "\n",
    "# Recalculate DAYSONMARKET from what we know on our split date\n",
    "test_df = test_df.withColumn('DAYSONMARKET', datediff(split_date, df['LISTDATE']))\n",
    "\n",
    "# Review the difference\n",
    "test_df[['LISTDATE', 'OFFMKTDATE', 'DAYSONMARKET_Original', 'DAYSONMARKET']].show(5)"
   ]
  },
  {
   "cell_type": "code",
   "execution_count": 112,
   "metadata": {},
   "outputs": [],
   "source": [
    "binary_cols = ['FENCE_WIRE', 'FENCE_ELECTRIC', 'FENCE_NAN', 'FENCE_PARTIAL', 'FENCE_RAIL', 'FENCE_OTHER', 'FENCE_CHAIN LINK', 'FENCE_FULL', 'FENCE_NONE', 'FENCE_PRIVACY', 'FENCE_WOOD', 'FENCE_INVISIBLE', 'ROOF_ASPHALT SHINGLES', 'ROOF_SHAKES', 'ROOF_NAN', 'ROOF_UNSPECIFIED SHINGLE', 'ROOF_SLATE', 'ROOF_PITCHED', 'ROOF_FLAT', 'ROOF_TAR/GRAVEL', 'ROOF_OTHER', 'ROOF_METAL', 'ROOF_TILE', 'ROOF_RUBBER', 'ROOF_WOOD SHINGLES', 'ROOF_AGE OVER 8 YEARS', 'ROOF_AGE 8 YEARS OR LESS', 'POOLDESCRIPTION_NAN', 'POOLDESCRIPTION_HEATED', 'POOLDESCRIPTION_NONE', 'POOLDESCRIPTION_SHARED', 'POOLDESCRIPTION_INDOOR', 'POOLDESCRIPTION_OUTDOOR', 'POOLDESCRIPTION_ABOVE GROUND', 'POOLDESCRIPTION_BELOW GROUND', 'GARAGEDESCRIPTION_ASSIGNED', 'GARAGEDESCRIPTION_TANDEM', 'GARAGEDESCRIPTION_UNCOVERED/OPEN', 'GARAGEDESCRIPTION_TUCKUNDER', 'GARAGEDESCRIPTION_DRIVEWAY - ASPHALT', 'GARAGEDESCRIPTION_HEATED GARAGE', 'GARAGEDESCRIPTION_UNDERGROUND GARAGE', 'GARAGEDESCRIPTION_DRIVEWAY - SHARED', 'GARAGEDESCRIPTION_CONTRACT PKG REQUIRED', 'GARAGEDESCRIPTION_GARAGE DOOR OPENER', 'GARAGEDESCRIPTION_MORE PARKING OFFSITE FOR FEE', 'GARAGEDESCRIPTION_VALET PARKING FOR FEE', 'GARAGEDESCRIPTION_OTHER', 'GARAGEDESCRIPTION_MORE PARKING ONSITE FOR FEE', 'GARAGEDESCRIPTION_DRIVEWAY - OTHER SURFACE', 'GARAGEDESCRIPTION_DETACHED GARAGE', 'GARAGEDESCRIPTION_SECURED', 'GARAGEDESCRIPTION_CARPORT', 'GARAGEDESCRIPTION_DRIVEWAY - CONCRETE', 'GARAGEDESCRIPTION_ON-STREET PARKING ONLY', 'GARAGEDESCRIPTION_COVERED', 'GARAGEDESCRIPTION_INSULATED GARAGE', 'GARAGEDESCRIPTION_UNASSIGNED', 'GARAGEDESCRIPTION_NONE', 'GARAGEDESCRIPTION_DRIVEWAY - GRAVEL', 'GARAGEDESCRIPTION_NO INT ACCESS TO DWELLING', 'GARAGEDESCRIPTION_UNITS VARY', 'GARAGEDESCRIPTION_ATTACHED GARAGE', 'APPLIANCES_NAN', 'APPLIANCES_COOKTOP', 'APPLIANCES_WALL OVEN', 'APPLIANCES_WATER SOFTENER - OWNED', 'APPLIANCES_DISPOSAL', 'APPLIANCES_DISHWASHER', 'APPLIANCES_OTHER', 'APPLIANCES_INDOOR GRILL', 'APPLIANCES_WASHER', 'APPLIANCES_RANGE', 'APPLIANCES_REFRIGERATOR', 'APPLIANCES_FURNACE HUMIDIFIER', 'APPLIANCES_TANKLESS WATER  HEATER', 'APPLIANCES_ELECTRONIC AIR FILTER', 'APPLIANCES_MICROWAVE', 'APPLIANCES_EXHAUST FAN/HOOD', 'APPLIANCES_NONE', 'APPLIANCES_CENTRAL VACUUM', 'APPLIANCES_TRASH COMPACTOR', 'APPLIANCES_AIR-TO-AIR EXCHANGER', 'APPLIANCES_DRYER', 'APPLIANCES_FREEZER', 'APPLIANCES_WATER SOFTENER - RENTED', 'EXTERIOR_SHAKES', 'EXTERIOR_CEMENT BOARD', 'EXTERIOR_BLOCK', 'EXTERIOR_VINYL', 'EXTERIOR_FIBER BOARD', 'EXTERIOR_OTHER', 'EXTERIOR_METAL', 'EXTERIOR_BRICK/STONE', 'EXTERIOR_STUCCO', 'EXTERIOR_ENGINEERED WOOD', 'EXTERIOR_WOOD', 'DININGROOMDESCRIPTION_EAT IN KITCHEN', 'DININGROOMDESCRIPTION_NAN', 'DININGROOMDESCRIPTION_OTHER', 'DININGROOMDESCRIPTION_LIVING/DINING ROOM', 'DININGROOMDESCRIPTION_SEPARATE/FORMAL DINING ROOM', 'DININGROOMDESCRIPTION_KITCHEN/DINING ROOM', 'DININGROOMDESCRIPTION_INFORMAL DINING ROOM', 'DININGROOMDESCRIPTION_BREAKFAST AREA', 'BASEMENT_FINISHED (LIVABLE)', 'BASEMENT_PARTIAL', 'BASEMENT_SUMP PUMP', 'BASEMENT_INSULATING CONCRETE FORMS', 'BASEMENT_CRAWL SPACE', 'BASEMENT_PARTIAL FINISHED', 'BASEMENT_CONCRETE BLOCK', 'BASEMENT_DRAINAGE SYSTEM', 'BASEMENT_POURED CONCRETE', 'BASEMENT_UNFINISHED', 'BASEMENT_DRAIN TILED', 'BASEMENT_WOOD', 'BASEMENT_FULL', 'BASEMENT_EGRESS WINDOWS', 'BASEMENT_DAY/LOOKOUT WINDOWS', 'BASEMENT_SLAB', 'BASEMENT_STONE', 'BASEMENT_NONE', 'BASEMENT_WALKOUT', 'BATHDESC_MAIN FLOOR 1/2 BATH', 'BATHDESC_TWO MASTER BATHS', 'BATHDESC_MASTER WALK-THRU', 'BATHDESC_WHIRLPOOL', 'BATHDESC_NAN', 'BATHDESC_3/4 BASEMENT', 'BATHDESC_TWO BASEMENT BATHS', 'BATHDESC_OTHER', 'BATHDESC_3/4 MASTER', 'BATHDESC_MAIN FLOOR 3/4 BATH', 'BATHDESC_FULL MASTER', 'BATHDESC_MAIN FLOOR FULL BATH', 'BATHDESC_WALK-IN SHOWER', 'BATHDESC_SEPARATE TUB & SHOWER', 'BATHDESC_FULL BASEMENT', 'BATHDESC_BASEMENT', 'BATHDESC_WALK THRU', 'BATHDESC_BATHROOM ENSUITE', 'BATHDESC_PRIVATE MASTER', 'BATHDESC_JACK & JILL 3/4', 'BATHDESC_UPPER LEVEL 1/2 BATH', 'BATHDESC_ROUGH IN', 'BATHDESC_UPPER LEVEL FULL BATH', 'BATHDESC_1/2 MASTER', 'BATHDESC_1/2 BASEMENT', 'BATHDESC_JACK AND JILL', 'BATHDESC_UPPER LEVEL 3/4 BATH', 'ZONING_INDUSTRIAL', 'ZONING_BUSINESS/COMMERCIAL', 'ZONING_OTHER', 'ZONING_RESIDENTIAL-SINGLE', 'ZONING_RESIDENTIAL-MULTI-FAMILY', 'COOLINGDESCRIPTION_WINDOW', 'COOLINGDESCRIPTION_WALL', 'COOLINGDESCRIPTION_DUCTLESS MINI-SPLIT', 'COOLINGDESCRIPTION_NONE', 'COOLINGDESCRIPTION_GEOTHERMAL', 'COOLINGDESCRIPTION_CENTRAL', 'CITY:LELM - LAKE ELMO', 'CITY:MAPW - MAPLEWOOD', 'CITY:OAKD - OAKDALE', 'CITY:STP - SAINT PAUL', 'CITY:WB - WOODBURY', 'LISTTYPE:EXCLUSIVE AGENCY', 'LISTTYPE:EXCLUSIVE RIGHT', 'LISTTYPE:EXCLUSIVE RIGHT WITH EXCLUSIONS', 'LISTTYPE:OTHER', 'LISTTYPE:SERVICE AGREEMENT', 'SCHOOLDISTRICTNUMBER:6 - SOUTH ST. PAUL', 'SCHOOLDISTRICTNUMBER:622 - NORTH ST PAUL-MAPLEWOOD', 'SCHOOLDISTRICTNUMBER:623 - ROSEVILLE', 'SCHOOLDISTRICTNUMBER:624 - WHITE BEAR LAKE', 'SCHOOLDISTRICTNUMBER:625 - ST. PAUL', 'SCHOOLDISTRICTNUMBER:832 - MAHTOMEDI', 'SCHOOLDISTRICTNUMBER:833 - SOUTH WASHINGTON COUNTY', 'SCHOOLDISTRICTNUMBER:834 - STILLWATER', 'POTENTIALSHORTSALE:NO', 'POTENTIALSHORTSALE:NOT DISCLOSED', 'STYLE:(CC) CONVERTED MANSION', 'STYLE:(CC) HIGH RISE (4+ LEVELS)', 'STYLE:(CC) LOW RISE (3- LEVELS)', 'STYLE:(CC) MANOR/VILLAGE', 'STYLE:(CC) TWO UNIT', 'STYLE:(SF) FOUR OR MORE LEVEL SPLIT', 'STYLE:(SF) MODIFIED TWO STORY', 'STYLE:(SF) MORE THAN TWO STORIES', 'STYLE:(SF) ONE 1/2 STORIES', 'STYLE:(SF) ONE STORY', 'STYLE:(SF) OTHER', 'STYLE:(SF) SPLIT ENTRY (BI-LEVEL)', 'STYLE:(SF) THREE LEVEL SPLIT', 'STYLE:(SF) TWO STORIES', 'STYLE:(TH) DETACHED', 'STYLE:(TH) QUAD/4 CORNERS', 'STYLE:(TH) SIDE X SIDE', 'STYLE:(TW) TWIN HOME', 'ASSUMABLEMORTGAGE:INFORMATION COMING', 'ASSUMABLEMORTGAGE:NOT ASSUMABLE', 'ASSUMABLEMORTGAGE:YES W/ QUALIFYING', 'ASSUMABLEMORTGAGE:YES W/NO QUALIFYING', 'ASSESSMENTPENDING:NO', 'ASSESSMENTPENDING:UNKNOWN', 'ASSESSMENTPENDING:YES']\n"
   ]
  },
  {
   "cell_type": "code",
   "execution_count": 116,
   "metadata": {},
   "outputs": [],
   "source": [
    "df = dfs"
   ]
  },
  {
   "cell_type": "code",
   "execution_count": 117,
   "metadata": {},
   "outputs": [
    {
     "ename": "AnalysisException",
     "evalue": "[UNRESOLVED_COLUMN.WITH_SUGGESTION] A column or function parameter with name `FENCE_WIRE` cannot be resolved. Did you mean one of the following? [`SchoolDistrictNumber`, `PostalCode`, `NO`, `MLSID`, `StreetNumberNumeric`, `streetaddress`, `STREETNAME`, `StateOrProvince`, `City`, `SALESCLOSEPRICE`, `LISTDATE`, `LISTPRICE`, `LISTTYPE`, `OriginalListPrice`, `PricePerTSFT`, `FOUNDATIONSIZE`, `FENCE`, `MapLetter`, `LotSizeDimensions`, `DAYSONMARKET`, `offmarketdate`, `FIREPLACES`, `RoomArea4`, `roomtype`, `ROOF`, `RoomFloor4`, `PotentialShortSale`, `PoolDescription`, `PDOM`, `GarageDescription`, `SQFTABOVEGROUND`, `TAXES`, `RoomFloor1`, `RoomArea1`, `TAXWITHASSESSMENTS`, `TAXYEAR`, `LIVINGAREA`, `UNITNUMBER`, `YEARBUILT`, `ZONING`, `STYLE`, `ACRES`, `CoolingDescription`, `APPLIANCES`, `BACKONMARKETDATE`, `ROOMFAMILYCHAR`, `RoomArea3`, `EXTERIOR`, `RoomFloor3`, `RoomFloor2`, `RoomArea2`, `DiningRoomDescription`, `BASEMENT`, `BATHSFULL`, `BATHSHALF`, `BATHQUARTER`, `BATHSTHREEQUARTER`, `Class`, `BATHSTOTAL`, `BATHDESC`, `RoomArea5`, `RoomFloor5`, `RoomArea6`, `RoomFloor6`, `RoomArea7`, `RoomFloor7`, `RoomArea8`, `RoomFloor8`, `BEDROOMS`, `SQFTBELOWGROUND`, `AssumableMortgage`, `ASSOCIATIONFEE`, `ASSESSMENTPENDING`, `ASSESSEDVALUATION`, `log_SalesClosePrice`, `percentage_scaled_days`, `scaled_FOUNDATIONSIZE`, `scaled_DAYSONMARKET`, `scaled_FIREPLACES`, `Reflect_YearBuilt`, `adj_yearbuilt`, `latitude`, `longitude`, `walkscore`, `bikescore`, `transitscore`, `LOT_SIZE_SQFT`, `YARD_SIZE`, `ASSESSED_TO_LIST`, `TAX_TO_LIST`, `BED_TO_BATHS`, `Total_SQFT`, `BATHS_PER_1000SQFT`, `List_Day_of_Week`, `list_year`, `MedianHomeValue`, `has_attached_garage`, `garage_list`, `Listed_On_Weekend`, `School_Index`, `School_Vec`, `report_year`].",
     "output_type": "error",
     "traceback": [
      "\u001b[1;31m---------------------------------------------------------------------------\u001b[0m",
      "\u001b[1;31mAnalysisException\u001b[0m                         Traceback (most recent call last)",
      "\u001b[1;32mc:\\Users\\jdamodhar\\Desktop\\python_essential\\DataCamp-ds-deloitte-master\\00-A\\54-Feature Engineering with PySpark\\04-Building a Model.ipynb Cell 10\u001b[0m line \u001b[0;36m6\n\u001b[0;32m      <a href='vscode-notebook-cell:/c%3A/Users/jdamodhar/Desktop/python_essential/DataCamp-ds-deloitte-master/00-A/54-Feature%20Engineering%20with%20PySpark/04-Building%20a%20Model.ipynb#X10sZmlsZQ%3D%3D?line=2'>3</a>\u001b[0m \u001b[39m# Inspect first 10 binary columns in list\u001b[39;00m\n\u001b[0;32m      <a href='vscode-notebook-cell:/c%3A/Users/jdamodhar/Desktop/python_essential/DataCamp-ds-deloitte-master/00-A/54-Feature%20Engineering%20with%20PySpark/04-Building%20a%20Model.ipynb#X10sZmlsZQ%3D%3D?line=3'>4</a>\u001b[0m \u001b[39mfor\u001b[39;00m col \u001b[39min\u001b[39;00m binary_cols[\u001b[39m0\u001b[39m:\u001b[39m10\u001b[39m]:\n\u001b[0;32m      <a href='vscode-notebook-cell:/c%3A/Users/jdamodhar/Desktop/python_essential/DataCamp-ds-deloitte-master/00-A/54-Feature%20Engineering%20with%20PySpark/04-Building%20a%20Model.ipynb#X10sZmlsZQ%3D%3D?line=4'>5</a>\u001b[0m     \u001b[39m# Count the number of 1 values in the binary column\u001b[39;00m\n\u001b[1;32m----> <a href='vscode-notebook-cell:/c%3A/Users/jdamodhar/Desktop/python_essential/DataCamp-ds-deloitte-master/00-A/54-Feature%20Engineering%20with%20PySpark/04-Building%20a%20Model.ipynb#X10sZmlsZQ%3D%3D?line=5'>6</a>\u001b[0m     obs_count \u001b[39m=\u001b[39m df\u001b[39m.\u001b[39;49magg({col: \u001b[39m'\u001b[39;49m\u001b[39msum\u001b[39;49m\u001b[39m'\u001b[39;49m})\u001b[39m.\u001b[39mcollect()[\u001b[39m0\u001b[39m][\u001b[39m0\u001b[39m]\n\u001b[0;32m      <a href='vscode-notebook-cell:/c%3A/Users/jdamodhar/Desktop/python_essential/DataCamp-ds-deloitte-master/00-A/54-Feature%20Engineering%20with%20PySpark/04-Building%20a%20Model.ipynb#X10sZmlsZQ%3D%3D?line=6'>7</a>\u001b[0m     \u001b[39m# If less than our observation threshold, remove\u001b[39;00m\n\u001b[0;32m      <a href='vscode-notebook-cell:/c%3A/Users/jdamodhar/Desktop/python_essential/DataCamp-ds-deloitte-master/00-A/54-Feature%20Engineering%20with%20PySpark/04-Building%20a%20Model.ipynb#X10sZmlsZQ%3D%3D?line=7'>8</a>\u001b[0m     \u001b[39mif\u001b[39;00m obs_count \u001b[39m<\u001b[39m obs_threshold:\n",
      "File \u001b[1;32m~\\AppData\\Local\\Programs\\Python\\Python311\\Lib\\site-packages\\pyspark\\sql\\dataframe.py:3697\u001b[0m, in \u001b[0;36mDataFrame.agg\u001b[1;34m(self, *exprs)\u001b[0m\n\u001b[0;32m   3661\u001b[0m \u001b[39mdef\u001b[39;00m \u001b[39magg\u001b[39m(\u001b[39mself\u001b[39m, \u001b[39m*\u001b[39mexprs: Union[Column, Dict[\u001b[39mstr\u001b[39m, \u001b[39mstr\u001b[39m]]) \u001b[39m-\u001b[39m\u001b[39m>\u001b[39m \u001b[39m\"\u001b[39m\u001b[39mDataFrame\u001b[39m\u001b[39m\"\u001b[39m:\n\u001b[0;32m   3662\u001b[0m \u001b[39m    \u001b[39m\u001b[39m\"\"\"Aggregate on the entire :class:`DataFrame` without groups\u001b[39;00m\n\u001b[0;32m   3663\u001b[0m \u001b[39m    (shorthand for ``df.groupBy().agg()``).\u001b[39;00m\n\u001b[0;32m   3664\u001b[0m \n\u001b[1;32m   (...)\u001b[0m\n\u001b[0;32m   3695\u001b[0m \u001b[39m    +--------+\u001b[39;00m\n\u001b[0;32m   3696\u001b[0m \u001b[39m    \"\"\"\u001b[39;00m\n\u001b[1;32m-> 3697\u001b[0m     \u001b[39mreturn\u001b[39;00m \u001b[39mself\u001b[39;49m\u001b[39m.\u001b[39;49mgroupBy()\u001b[39m.\u001b[39;49magg(\u001b[39m*\u001b[39;49mexprs)\n",
      "File \u001b[1;32m~\\AppData\\Local\\Programs\\Python\\Python311\\Lib\\site-packages\\pyspark\\sql\\group.py:181\u001b[0m, in \u001b[0;36mGroupedData.agg\u001b[1;34m(self, *exprs)\u001b[0m\n\u001b[0;32m    179\u001b[0m \u001b[39massert\u001b[39;00m exprs, \u001b[39m\"\u001b[39m\u001b[39mexprs should not be empty\u001b[39m\u001b[39m\"\u001b[39m\n\u001b[0;32m    180\u001b[0m \u001b[39mif\u001b[39;00m \u001b[39mlen\u001b[39m(exprs) \u001b[39m==\u001b[39m \u001b[39m1\u001b[39m \u001b[39mand\u001b[39;00m \u001b[39misinstance\u001b[39m(exprs[\u001b[39m0\u001b[39m], \u001b[39mdict\u001b[39m):\n\u001b[1;32m--> 181\u001b[0m     jdf \u001b[39m=\u001b[39m \u001b[39mself\u001b[39;49m\u001b[39m.\u001b[39;49m_jgd\u001b[39m.\u001b[39;49magg(exprs[\u001b[39m0\u001b[39;49m])\n\u001b[0;32m    182\u001b[0m \u001b[39melse\u001b[39;00m:\n\u001b[0;32m    183\u001b[0m     \u001b[39m# Columns\u001b[39;00m\n\u001b[0;32m    184\u001b[0m     \u001b[39massert\u001b[39;00m \u001b[39mall\u001b[39m(\u001b[39misinstance\u001b[39m(c, Column) \u001b[39mfor\u001b[39;00m c \u001b[39min\u001b[39;00m exprs), \u001b[39m\"\u001b[39m\u001b[39mall exprs should be Column\u001b[39m\u001b[39m\"\u001b[39m\n",
      "File \u001b[1;32m~\\AppData\\Local\\Programs\\Python\\Python311\\Lib\\site-packages\\py4j\\java_gateway.py:1322\u001b[0m, in \u001b[0;36mJavaMember.__call__\u001b[1;34m(self, *args)\u001b[0m\n\u001b[0;32m   1316\u001b[0m command \u001b[39m=\u001b[39m proto\u001b[39m.\u001b[39mCALL_COMMAND_NAME \u001b[39m+\u001b[39m\\\n\u001b[0;32m   1317\u001b[0m     \u001b[39mself\u001b[39m\u001b[39m.\u001b[39mcommand_header \u001b[39m+\u001b[39m\\\n\u001b[0;32m   1318\u001b[0m     args_command \u001b[39m+\u001b[39m\\\n\u001b[0;32m   1319\u001b[0m     proto\u001b[39m.\u001b[39mEND_COMMAND_PART\n\u001b[0;32m   1321\u001b[0m answer \u001b[39m=\u001b[39m \u001b[39mself\u001b[39m\u001b[39m.\u001b[39mgateway_client\u001b[39m.\u001b[39msend_command(command)\n\u001b[1;32m-> 1322\u001b[0m return_value \u001b[39m=\u001b[39m get_return_value(\n\u001b[0;32m   1323\u001b[0m     answer, \u001b[39mself\u001b[39;49m\u001b[39m.\u001b[39;49mgateway_client, \u001b[39mself\u001b[39;49m\u001b[39m.\u001b[39;49mtarget_id, \u001b[39mself\u001b[39;49m\u001b[39m.\u001b[39;49mname)\n\u001b[0;32m   1325\u001b[0m \u001b[39mfor\u001b[39;00m temp_arg \u001b[39min\u001b[39;00m temp_args:\n\u001b[0;32m   1326\u001b[0m     \u001b[39mif\u001b[39;00m \u001b[39mhasattr\u001b[39m(temp_arg, \u001b[39m\"\u001b[39m\u001b[39m_detach\u001b[39m\u001b[39m\"\u001b[39m):\n",
      "File \u001b[1;32m~\\AppData\\Local\\Programs\\Python\\Python311\\Lib\\site-packages\\pyspark\\errors\\exceptions\\captured.py:185\u001b[0m, in \u001b[0;36mcapture_sql_exception.<locals>.deco\u001b[1;34m(*a, **kw)\u001b[0m\n\u001b[0;32m    181\u001b[0m converted \u001b[39m=\u001b[39m convert_exception(e\u001b[39m.\u001b[39mjava_exception)\n\u001b[0;32m    182\u001b[0m \u001b[39mif\u001b[39;00m \u001b[39mnot\u001b[39;00m \u001b[39misinstance\u001b[39m(converted, UnknownException):\n\u001b[0;32m    183\u001b[0m     \u001b[39m# Hide where the exception came from that shows a non-Pythonic\u001b[39;00m\n\u001b[0;32m    184\u001b[0m     \u001b[39m# JVM exception message.\u001b[39;00m\n\u001b[1;32m--> 185\u001b[0m     \u001b[39mraise\u001b[39;00m converted \u001b[39mfrom\u001b[39;00m \u001b[39mNone\u001b[39;00m\n\u001b[0;32m    186\u001b[0m \u001b[39melse\u001b[39;00m:\n\u001b[0;32m    187\u001b[0m     \u001b[39mraise\u001b[39;00m\n",
      "\u001b[1;31mAnalysisException\u001b[0m: [UNRESOLVED_COLUMN.WITH_SUGGESTION] A column or function parameter with name `FENCE_WIRE` cannot be resolved. Did you mean one of the following? [`SchoolDistrictNumber`, `PostalCode`, `NO`, `MLSID`, `StreetNumberNumeric`, `streetaddress`, `STREETNAME`, `StateOrProvince`, `City`, `SALESCLOSEPRICE`, `LISTDATE`, `LISTPRICE`, `LISTTYPE`, `OriginalListPrice`, `PricePerTSFT`, `FOUNDATIONSIZE`, `FENCE`, `MapLetter`, `LotSizeDimensions`, `DAYSONMARKET`, `offmarketdate`, `FIREPLACES`, `RoomArea4`, `roomtype`, `ROOF`, `RoomFloor4`, `PotentialShortSale`, `PoolDescription`, `PDOM`, `GarageDescription`, `SQFTABOVEGROUND`, `TAXES`, `RoomFloor1`, `RoomArea1`, `TAXWITHASSESSMENTS`, `TAXYEAR`, `LIVINGAREA`, `UNITNUMBER`, `YEARBUILT`, `ZONING`, `STYLE`, `ACRES`, `CoolingDescription`, `APPLIANCES`, `BACKONMARKETDATE`, `ROOMFAMILYCHAR`, `RoomArea3`, `EXTERIOR`, `RoomFloor3`, `RoomFloor2`, `RoomArea2`, `DiningRoomDescription`, `BASEMENT`, `BATHSFULL`, `BATHSHALF`, `BATHQUARTER`, `BATHSTHREEQUARTER`, `Class`, `BATHSTOTAL`, `BATHDESC`, `RoomArea5`, `RoomFloor5`, `RoomArea6`, `RoomFloor6`, `RoomArea7`, `RoomFloor7`, `RoomArea8`, `RoomFloor8`, `BEDROOMS`, `SQFTBELOWGROUND`, `AssumableMortgage`, `ASSOCIATIONFEE`, `ASSESSMENTPENDING`, `ASSESSEDVALUATION`, `log_SalesClosePrice`, `percentage_scaled_days`, `scaled_FOUNDATIONSIZE`, `scaled_DAYSONMARKET`, `scaled_FIREPLACES`, `Reflect_YearBuilt`, `adj_yearbuilt`, `latitude`, `longitude`, `walkscore`, `bikescore`, `transitscore`, `LOT_SIZE_SQFT`, `YARD_SIZE`, `ASSESSED_TO_LIST`, `TAX_TO_LIST`, `BED_TO_BATHS`, `Total_SQFT`, `BATHS_PER_1000SQFT`, `List_Day_of_Week`, `list_year`, `MedianHomeValue`, `has_attached_garage`, `garage_list`, `Listed_On_Weekend`, `School_Index`, `School_Vec`, `report_year`]."
     ]
    }
   ],
   "source": [
    "obs_threshold = 30\n",
    "cols_to_remove = list()\n",
    "# Inspect first 10 binary columns in list\n",
    "for col in binary_cols[0:10]:\n",
    "    # Count the number of 1 values in the binary column\n",
    "    obs_count = df.agg({col: 'sum'}).collect()[0][0]\n",
    "    # If less than our observation threshold, remove\n",
    "    if obs_count < obs_threshold:\n",
    "        cols_to_remove.append(col)\n",
    "\n",
    "# Drop columns and print starting and ending dataframe shapes\n",
    "new_df = df.drop(*cols_to_remove)\n",
    "\n",
    "print('Rows: ' + str(df.count()) + ' Columns: ' + str(len(df.columns)))\n",
    "print('Rows: ' + str(new_df.count()) + ' Columns: ' + str(len(new_df.columns)))"
   ]
  },
  {
   "cell_type": "code",
   "execution_count": 124,
   "metadata": {},
   "outputs": [
    {
     "name": "stdout",
     "output_type": "stream",
     "text": [
      "['SCHOOLDISTRICTNUMBER', 'POTENTIALSHORTSALE', 'ASSUMABLEMORTGAGE']\n"
     ]
    },
    {
     "ename": "Py4JJavaError",
     "evalue": "An error occurred while calling o1338.fit.\n: org.apache.spark.SparkException: Input column SCHOOLDISTRICTNUMBER does not exist.\r\n\tat org.apache.spark.ml.feature.StringIndexerBase.$anonfun$validateAndTransformSchema$2(StringIndexer.scala:128)\r\n\tat scala.collection.TraversableLike.$anonfun$flatMap$1(TraversableLike.scala:293)\r\n\tat scala.collection.IndexedSeqOptimized.foreach(IndexedSeqOptimized.scala:36)\r\n\tat scala.collection.IndexedSeqOptimized.foreach$(IndexedSeqOptimized.scala:33)\r\n\tat scala.collection.mutable.ArrayOps$ofRef.foreach(ArrayOps.scala:198)\r\n\tat scala.collection.TraversableLike.flatMap(TraversableLike.scala:293)\r\n\tat scala.collection.TraversableLike.flatMap$(TraversableLike.scala:290)\r\n\tat scala.collection.mutable.ArrayOps$ofRef.flatMap(ArrayOps.scala:198)\r\n\tat org.apache.spark.ml.feature.StringIndexerBase.validateAndTransformSchema(StringIndexer.scala:123)\r\n\tat org.apache.spark.ml.feature.StringIndexerBase.validateAndTransformSchema$(StringIndexer.scala:115)\r\n\tat org.apache.spark.ml.feature.StringIndexer.validateAndTransformSchema(StringIndexer.scala:145)\r\n\tat org.apache.spark.ml.feature.StringIndexer.transformSchema(StringIndexer.scala:252)\r\n\tat org.apache.spark.ml.PipelineStage.transformSchema(Pipeline.scala:71)\r\n\tat org.apache.spark.ml.feature.StringIndexer.fit(StringIndexer.scala:237)\r\n\tat sun.reflect.NativeMethodAccessorImpl.invoke0(Native Method)\r\n\tat sun.reflect.NativeMethodAccessorImpl.invoke(NativeMethodAccessorImpl.java:62)\r\n\tat sun.reflect.DelegatingMethodAccessorImpl.invoke(DelegatingMethodAccessorImpl.java:43)\r\n\tat java.lang.reflect.Method.invoke(Method.java:498)\r\n\tat py4j.reflection.MethodInvoker.invoke(MethodInvoker.java:244)\r\n\tat py4j.reflection.ReflectionEngine.invoke(ReflectionEngine.java:374)\r\n\tat py4j.Gateway.invoke(Gateway.java:282)\r\n\tat py4j.commands.AbstractCommand.invokeMethod(AbstractCommand.java:132)\r\n\tat py4j.commands.CallCommand.execute(CallCommand.java:79)\r\n\tat py4j.ClientServerConnection.waitForCommands(ClientServerConnection.java:182)\r\n\tat py4j.ClientServerConnection.run(ClientServerConnection.java:106)\r\n\tat java.lang.Thread.run(Thread.java:750)\r\n",
     "output_type": "error",
     "traceback": [
      "\u001b[1;31m---------------------------------------------------------------------------\u001b[0m",
      "\u001b[1;31mPy4JJavaError\u001b[0m                             Traceback (most recent call last)",
      "\u001b[1;32mc:\\Users\\jdamodhar\\Desktop\\python_essential\\DataCamp-ds-deloitte-master\\00-A\\54-Feature Engineering with PySpark\\04-Building a Model.ipynb Cell 11\u001b[0m line \u001b[0;36m2\n\u001b[0;32m     <a href='vscode-notebook-cell:/c%3A/Users/jdamodhar/Desktop/python_essential/DataCamp-ds-deloitte-master/00-A/54-Feature%20Engineering%20with%20PySpark/04-Building%20a%20Model.ipynb#X13sZmlsZQ%3D%3D?line=17'>18</a>\u001b[0m indexer_pipeline \u001b[39m=\u001b[39m Pipeline(stages\u001b[39m=\u001b[39mindexers)\n\u001b[0;32m     <a href='vscode-notebook-cell:/c%3A/Users/jdamodhar/Desktop/python_essential/DataCamp-ds-deloitte-master/00-A/54-Feature%20Engineering%20with%20PySpark/04-Building%20a%20Model.ipynb#X13sZmlsZQ%3D%3D?line=18'>19</a>\u001b[0m \u001b[39m# Fit and Transform the pipeline to the original data\u001b[39;00m\n\u001b[1;32m---> <a href='vscode-notebook-cell:/c%3A/Users/jdamodhar/Desktop/python_essential/DataCamp-ds-deloitte-master/00-A/54-Feature%20Engineering%20with%20PySpark/04-Building%20a%20Model.ipynb#X13sZmlsZQ%3D%3D?line=19'>20</a>\u001b[0m df_indexed \u001b[39m=\u001b[39m indexer_pipeline\u001b[39m.\u001b[39;49mfit(df)\u001b[39m.\u001b[39mtransform(df)\n\u001b[0;32m     <a href='vscode-notebook-cell:/c%3A/Users/jdamodhar/Desktop/python_essential/DataCamp-ds-deloitte-master/00-A/54-Feature%20Engineering%20with%20PySpark/04-Building%20a%20Model.ipynb#X13sZmlsZQ%3D%3D?line=21'>22</a>\u001b[0m \u001b[39m# Clean up redundant columns\u001b[39;00m\n\u001b[0;32m     <a href='vscode-notebook-cell:/c%3A/Users/jdamodhar/Desktop/python_essential/DataCamp-ds-deloitte-master/00-A/54-Feature%20Engineering%20with%20PySpark/04-Building%20a%20Model.ipynb#X13sZmlsZQ%3D%3D?line=22'>23</a>\u001b[0m df_indexed \u001b[39m=\u001b[39m df_indexed\u001b[39m.\u001b[39mdrop(\u001b[39m*\u001b[39mcategorical_cols)\n",
      "File \u001b[1;32m~\\AppData\\Local\\Programs\\Python\\Python311\\Lib\\site-packages\\pyspark\\ml\\base.py:205\u001b[0m, in \u001b[0;36mEstimator.fit\u001b[1;34m(self, dataset, params)\u001b[0m\n\u001b[0;32m    203\u001b[0m         \u001b[39mreturn\u001b[39;00m \u001b[39mself\u001b[39m\u001b[39m.\u001b[39mcopy(params)\u001b[39m.\u001b[39m_fit(dataset)\n\u001b[0;32m    204\u001b[0m     \u001b[39melse\u001b[39;00m:\n\u001b[1;32m--> 205\u001b[0m         \u001b[39mreturn\u001b[39;00m \u001b[39mself\u001b[39;49m\u001b[39m.\u001b[39;49m_fit(dataset)\n\u001b[0;32m    206\u001b[0m \u001b[39melse\u001b[39;00m:\n\u001b[0;32m    207\u001b[0m     \u001b[39mraise\u001b[39;00m \u001b[39mTypeError\u001b[39;00m(\n\u001b[0;32m    208\u001b[0m         \u001b[39m\"\u001b[39m\u001b[39mParams must be either a param map or a list/tuple of param maps, \u001b[39m\u001b[39m\"\u001b[39m\n\u001b[0;32m    209\u001b[0m         \u001b[39m\"\u001b[39m\u001b[39mbut got \u001b[39m\u001b[39m%s\u001b[39;00m\u001b[39m.\u001b[39m\u001b[39m\"\u001b[39m \u001b[39m%\u001b[39m \u001b[39mtype\u001b[39m(params)\n\u001b[0;32m    210\u001b[0m     )\n",
      "File \u001b[1;32m~\\AppData\\Local\\Programs\\Python\\Python311\\Lib\\site-packages\\pyspark\\ml\\pipeline.py:134\u001b[0m, in \u001b[0;36mPipeline._fit\u001b[1;34m(self, dataset)\u001b[0m\n\u001b[0;32m    132\u001b[0m     dataset \u001b[39m=\u001b[39m stage\u001b[39m.\u001b[39mtransform(dataset)\n\u001b[0;32m    133\u001b[0m \u001b[39melse\u001b[39;00m:  \u001b[39m# must be an Estimator\u001b[39;00m\n\u001b[1;32m--> 134\u001b[0m     model \u001b[39m=\u001b[39m stage\u001b[39m.\u001b[39;49mfit(dataset)\n\u001b[0;32m    135\u001b[0m     transformers\u001b[39m.\u001b[39mappend(model)\n\u001b[0;32m    136\u001b[0m     \u001b[39mif\u001b[39;00m i \u001b[39m<\u001b[39m indexOfLastEstimator:\n",
      "File \u001b[1;32m~\\AppData\\Local\\Programs\\Python\\Python311\\Lib\\site-packages\\pyspark\\ml\\base.py:205\u001b[0m, in \u001b[0;36mEstimator.fit\u001b[1;34m(self, dataset, params)\u001b[0m\n\u001b[0;32m    203\u001b[0m         \u001b[39mreturn\u001b[39;00m \u001b[39mself\u001b[39m\u001b[39m.\u001b[39mcopy(params)\u001b[39m.\u001b[39m_fit(dataset)\n\u001b[0;32m    204\u001b[0m     \u001b[39melse\u001b[39;00m:\n\u001b[1;32m--> 205\u001b[0m         \u001b[39mreturn\u001b[39;00m \u001b[39mself\u001b[39;49m\u001b[39m.\u001b[39;49m_fit(dataset)\n\u001b[0;32m    206\u001b[0m \u001b[39melse\u001b[39;00m:\n\u001b[0;32m    207\u001b[0m     \u001b[39mraise\u001b[39;00m \u001b[39mTypeError\u001b[39;00m(\n\u001b[0;32m    208\u001b[0m         \u001b[39m\"\u001b[39m\u001b[39mParams must be either a param map or a list/tuple of param maps, \u001b[39m\u001b[39m\"\u001b[39m\n\u001b[0;32m    209\u001b[0m         \u001b[39m\"\u001b[39m\u001b[39mbut got \u001b[39m\u001b[39m%s\u001b[39;00m\u001b[39m.\u001b[39m\u001b[39m\"\u001b[39m \u001b[39m%\u001b[39m \u001b[39mtype\u001b[39m(params)\n\u001b[0;32m    210\u001b[0m     )\n",
      "File \u001b[1;32m~\\AppData\\Local\\Programs\\Python\\Python311\\Lib\\site-packages\\pyspark\\ml\\wrapper.py:381\u001b[0m, in \u001b[0;36mJavaEstimator._fit\u001b[1;34m(self, dataset)\u001b[0m\n\u001b[0;32m    380\u001b[0m \u001b[39mdef\u001b[39;00m \u001b[39m_fit\u001b[39m(\u001b[39mself\u001b[39m, dataset: DataFrame) \u001b[39m-\u001b[39m\u001b[39m>\u001b[39m JM:\n\u001b[1;32m--> 381\u001b[0m     java_model \u001b[39m=\u001b[39m \u001b[39mself\u001b[39;49m\u001b[39m.\u001b[39;49m_fit_java(dataset)\n\u001b[0;32m    382\u001b[0m     model \u001b[39m=\u001b[39m \u001b[39mself\u001b[39m\u001b[39m.\u001b[39m_create_model(java_model)\n\u001b[0;32m    383\u001b[0m     \u001b[39mreturn\u001b[39;00m \u001b[39mself\u001b[39m\u001b[39m.\u001b[39m_copyValues(model)\n",
      "File \u001b[1;32m~\\AppData\\Local\\Programs\\Python\\Python311\\Lib\\site-packages\\pyspark\\ml\\wrapper.py:378\u001b[0m, in \u001b[0;36mJavaEstimator._fit_java\u001b[1;34m(self, dataset)\u001b[0m\n\u001b[0;32m    375\u001b[0m \u001b[39massert\u001b[39;00m \u001b[39mself\u001b[39m\u001b[39m.\u001b[39m_java_obj \u001b[39mis\u001b[39;00m \u001b[39mnot\u001b[39;00m \u001b[39mNone\u001b[39;00m\n\u001b[0;32m    377\u001b[0m \u001b[39mself\u001b[39m\u001b[39m.\u001b[39m_transfer_params_to_java()\n\u001b[1;32m--> 378\u001b[0m \u001b[39mreturn\u001b[39;00m \u001b[39mself\u001b[39;49m\u001b[39m.\u001b[39;49m_java_obj\u001b[39m.\u001b[39;49mfit(dataset\u001b[39m.\u001b[39;49m_jdf)\n",
      "File \u001b[1;32m~\\AppData\\Local\\Programs\\Python\\Python311\\Lib\\site-packages\\py4j\\java_gateway.py:1322\u001b[0m, in \u001b[0;36mJavaMember.__call__\u001b[1;34m(self, *args)\u001b[0m\n\u001b[0;32m   1316\u001b[0m command \u001b[39m=\u001b[39m proto\u001b[39m.\u001b[39mCALL_COMMAND_NAME \u001b[39m+\u001b[39m\\\n\u001b[0;32m   1317\u001b[0m     \u001b[39mself\u001b[39m\u001b[39m.\u001b[39mcommand_header \u001b[39m+\u001b[39m\\\n\u001b[0;32m   1318\u001b[0m     args_command \u001b[39m+\u001b[39m\\\n\u001b[0;32m   1319\u001b[0m     proto\u001b[39m.\u001b[39mEND_COMMAND_PART\n\u001b[0;32m   1321\u001b[0m answer \u001b[39m=\u001b[39m \u001b[39mself\u001b[39m\u001b[39m.\u001b[39mgateway_client\u001b[39m.\u001b[39msend_command(command)\n\u001b[1;32m-> 1322\u001b[0m return_value \u001b[39m=\u001b[39m get_return_value(\n\u001b[0;32m   1323\u001b[0m     answer, \u001b[39mself\u001b[39;49m\u001b[39m.\u001b[39;49mgateway_client, \u001b[39mself\u001b[39;49m\u001b[39m.\u001b[39;49mtarget_id, \u001b[39mself\u001b[39;49m\u001b[39m.\u001b[39;49mname)\n\u001b[0;32m   1325\u001b[0m \u001b[39mfor\u001b[39;00m temp_arg \u001b[39min\u001b[39;00m temp_args:\n\u001b[0;32m   1326\u001b[0m     \u001b[39mif\u001b[39;00m \u001b[39mhasattr\u001b[39m(temp_arg, \u001b[39m\"\u001b[39m\u001b[39m_detach\u001b[39m\u001b[39m\"\u001b[39m):\n",
      "File \u001b[1;32m~\\AppData\\Local\\Programs\\Python\\Python311\\Lib\\site-packages\\pyspark\\errors\\exceptions\\captured.py:179\u001b[0m, in \u001b[0;36mcapture_sql_exception.<locals>.deco\u001b[1;34m(*a, **kw)\u001b[0m\n\u001b[0;32m    177\u001b[0m \u001b[39mdef\u001b[39;00m \u001b[39mdeco\u001b[39m(\u001b[39m*\u001b[39ma: Any, \u001b[39m*\u001b[39m\u001b[39m*\u001b[39mkw: Any) \u001b[39m-\u001b[39m\u001b[39m>\u001b[39m Any:\n\u001b[0;32m    178\u001b[0m     \u001b[39mtry\u001b[39;00m:\n\u001b[1;32m--> 179\u001b[0m         \u001b[39mreturn\u001b[39;00m f(\u001b[39m*\u001b[39;49ma, \u001b[39m*\u001b[39;49m\u001b[39m*\u001b[39;49mkw)\n\u001b[0;32m    180\u001b[0m     \u001b[39mexcept\u001b[39;00m Py4JJavaError \u001b[39mas\u001b[39;00m e:\n\u001b[0;32m    181\u001b[0m         converted \u001b[39m=\u001b[39m convert_exception(e\u001b[39m.\u001b[39mjava_exception)\n",
      "File \u001b[1;32m~\\AppData\\Local\\Programs\\Python\\Python311\\Lib\\site-packages\\py4j\\protocol.py:326\u001b[0m, in \u001b[0;36mget_return_value\u001b[1;34m(answer, gateway_client, target_id, name)\u001b[0m\n\u001b[0;32m    324\u001b[0m value \u001b[39m=\u001b[39m OUTPUT_CONVERTER[\u001b[39mtype\u001b[39m](answer[\u001b[39m2\u001b[39m:], gateway_client)\n\u001b[0;32m    325\u001b[0m \u001b[39mif\u001b[39;00m answer[\u001b[39m1\u001b[39m] \u001b[39m==\u001b[39m REFERENCE_TYPE:\n\u001b[1;32m--> 326\u001b[0m     \u001b[39mraise\u001b[39;00m Py4JJavaError(\n\u001b[0;32m    327\u001b[0m         \u001b[39m\"\u001b[39m\u001b[39mAn error occurred while calling \u001b[39m\u001b[39m{0}\u001b[39;00m\u001b[39m{1}\u001b[39;00m\u001b[39m{2}\u001b[39;00m\u001b[39m.\u001b[39m\u001b[39m\\n\u001b[39;00m\u001b[39m\"\u001b[39m\u001b[39m.\u001b[39m\n\u001b[0;32m    328\u001b[0m         \u001b[39mformat\u001b[39m(target_id, \u001b[39m\"\u001b[39m\u001b[39m.\u001b[39m\u001b[39m\"\u001b[39m, name), value)\n\u001b[0;32m    329\u001b[0m \u001b[39melse\u001b[39;00m:\n\u001b[0;32m    330\u001b[0m     \u001b[39mraise\u001b[39;00m Py4JError(\n\u001b[0;32m    331\u001b[0m         \u001b[39m\"\u001b[39m\u001b[39mAn error occurred while calling \u001b[39m\u001b[39m{0}\u001b[39;00m\u001b[39m{1}\u001b[39;00m\u001b[39m{2}\u001b[39;00m\u001b[39m. Trace:\u001b[39m\u001b[39m\\n\u001b[39;00m\u001b[39m{3}\u001b[39;00m\u001b[39m\\n\u001b[39;00m\u001b[39m\"\u001b[39m\u001b[39m.\u001b[39m\n\u001b[0;32m    332\u001b[0m         \u001b[39mformat\u001b[39m(target_id, \u001b[39m\"\u001b[39m\u001b[39m.\u001b[39m\u001b[39m\"\u001b[39m, name, value))\n",
      "\u001b[1;31mPy4JJavaError\u001b[0m: An error occurred while calling o1338.fit.\n: org.apache.spark.SparkException: Input column SCHOOLDISTRICTNUMBER does not exist.\r\n\tat org.apache.spark.ml.feature.StringIndexerBase.$anonfun$validateAndTransformSchema$2(StringIndexer.scala:128)\r\n\tat scala.collection.TraversableLike.$anonfun$flatMap$1(TraversableLike.scala:293)\r\n\tat scala.collection.IndexedSeqOptimized.foreach(IndexedSeqOptimized.scala:36)\r\n\tat scala.collection.IndexedSeqOptimized.foreach$(IndexedSeqOptimized.scala:33)\r\n\tat scala.collection.mutable.ArrayOps$ofRef.foreach(ArrayOps.scala:198)\r\n\tat scala.collection.TraversableLike.flatMap(TraversableLike.scala:293)\r\n\tat scala.collection.TraversableLike.flatMap$(TraversableLike.scala:290)\r\n\tat scala.collection.mutable.ArrayOps$ofRef.flatMap(ArrayOps.scala:198)\r\n\tat org.apache.spark.ml.feature.StringIndexerBase.validateAndTransformSchema(StringIndexer.scala:123)\r\n\tat org.apache.spark.ml.feature.StringIndexerBase.validateAndTransformSchema$(StringIndexer.scala:115)\r\n\tat org.apache.spark.ml.feature.StringIndexer.validateAndTransformSchema(StringIndexer.scala:145)\r\n\tat org.apache.spark.ml.feature.StringIndexer.transformSchema(StringIndexer.scala:252)\r\n\tat org.apache.spark.ml.PipelineStage.transformSchema(Pipeline.scala:71)\r\n\tat org.apache.spark.ml.feature.StringIndexer.fit(StringIndexer.scala:237)\r\n\tat sun.reflect.NativeMethodAccessorImpl.invoke0(Native Method)\r\n\tat sun.reflect.NativeMethodAccessorImpl.invoke(NativeMethodAccessorImpl.java:62)\r\n\tat sun.reflect.DelegatingMethodAccessorImpl.invoke(DelegatingMethodAccessorImpl.java:43)\r\n\tat java.lang.reflect.Method.invoke(Method.java:498)\r\n\tat py4j.reflection.MethodInvoker.invoke(MethodInvoker.java:244)\r\n\tat py4j.reflection.ReflectionEngine.invoke(ReflectionEngine.java:374)\r\n\tat py4j.Gateway.invoke(Gateway.java:282)\r\n\tat py4j.commands.AbstractCommand.invokeMethod(AbstractCommand.java:132)\r\n\tat py4j.commands.CallCommand.execute(CallCommand.java:79)\r\n\tat py4j.ClientServerConnection.waitForCommands(ClientServerConnection.java:182)\r\n\tat py4j.ClientServerConnection.run(ClientServerConnection.java:106)\r\n\tat java.lang.Thread.run(Thread.java:750)\r\n"
     ]
    }
   ],
   "source": [
    "from pyspark.ml import Pipeline\n",
    "from pyspark.ml.feature import StringIndexer, VectorAssembler\n",
    "from pyspark.ml.regression import LinearRegression\n",
    "from pyspark.ml.evaluation import RegressionEvaluator\n",
    "\n",
    "df = df.withColumnRenamed('City', 'CITY')\n",
    "categorical_cols = ['CITY', 'LISTTYPE', 'SCHOOLDISTRICTNUMBER', 'POTENTIALSHORTSALE', 'STYLE', 'ASSUMABLEMORTGAGE', 'ASSESSMENTPENDING']\n",
    "print([col for col in categorical_cols if col not in df.columns])\n",
    "# Replace missing values\n",
    "df = df.fillna(-1, subset=['WALKSCORE', 'BIKESCORE'])\n",
    "\n",
    "# Create list of StringIndexers using list comprehension\n",
    "indexers = [\n",
    "    StringIndexer(inputCol=col, outputCol=col+\"_IDX\").setHandleInvalid(\"keep\")\n",
    "        for col in categorical_cols\n",
    "]\n",
    "# Create pipeline of indexers\n",
    "indexer_pipeline = Pipeline(stages=indexers)\n",
    "# Fit and Transform the pipeline to the original data\n",
    "df_indexed = indexer_pipeline.fit(df).transform(df)\n",
    "\n",
    "# Clean up redundant columns\n",
    "df_indexed = df_indexed.drop(*categorical_cols)\n",
    "# Inspect data transformations\n",
    "print(df_indexed.dtypes)"
   ]
  },
  {
   "cell_type": "code",
   "execution_count": 125,
   "metadata": {},
   "outputs": [
    {
     "ename": "IllegalArgumentException",
     "evalue": "features does not exist. Available: DAYSONMARKET, LISTDATE, OFFMKTDATE",
     "output_type": "error",
     "traceback": [
      "\u001b[1;31m---------------------------------------------------------------------------\u001b[0m",
      "\u001b[1;31mIllegalArgumentException\u001b[0m                  Traceback (most recent call last)",
      "\u001b[1;32mc:\\Users\\jdamodhar\\Desktop\\python_essential\\DataCamp-ds-deloitte-master\\00-A\\54-Feature Engineering with PySpark\\04-Building a Model.ipynb Cell 12\u001b[0m line \u001b[0;36m1\n\u001b[0;32m      <a href='vscode-notebook-cell:/c%3A/Users/jdamodhar/Desktop/python_essential/DataCamp-ds-deloitte-master/00-A/54-Feature%20Engineering%20with%20PySpark/04-Building%20a%20Model.ipynb#X14sZmlsZQ%3D%3D?line=3'>4</a>\u001b[0m gbt \u001b[39m=\u001b[39m GBTRegressor(\n\u001b[0;32m      <a href='vscode-notebook-cell:/c%3A/Users/jdamodhar/Desktop/python_essential/DataCamp-ds-deloitte-master/00-A/54-Feature%20Engineering%20with%20PySpark/04-Building%20a%20Model.ipynb#X14sZmlsZQ%3D%3D?line=4'>5</a>\u001b[0m     featuresCol\u001b[39m=\u001b[39m\u001b[39m'\u001b[39m\u001b[39mfeatures\u001b[39m\u001b[39m'\u001b[39m,\n\u001b[0;32m      <a href='vscode-notebook-cell:/c%3A/Users/jdamodhar/Desktop/python_essential/DataCamp-ds-deloitte-master/00-A/54-Feature%20Engineering%20with%20PySpark/04-Building%20a%20Model.ipynb#X14sZmlsZQ%3D%3D?line=5'>6</a>\u001b[0m     labelCol\u001b[39m=\u001b[39m\u001b[39m'\u001b[39m\u001b[39mSALESCLOSEPRICE\u001b[39m\u001b[39m'\u001b[39m,\n\u001b[0;32m      <a href='vscode-notebook-cell:/c%3A/Users/jdamodhar/Desktop/python_essential/DataCamp-ds-deloitte-master/00-A/54-Feature%20Engineering%20with%20PySpark/04-Building%20a%20Model.ipynb#X14sZmlsZQ%3D%3D?line=6'>7</a>\u001b[0m     predictionCol\u001b[39m=\u001b[39m\u001b[39m\"\u001b[39m\u001b[39mPrediction_Price\u001b[39m\u001b[39m\"\u001b[39m,\n\u001b[0;32m      <a href='vscode-notebook-cell:/c%3A/Users/jdamodhar/Desktop/python_essential/DataCamp-ds-deloitte-master/00-A/54-Feature%20Engineering%20with%20PySpark/04-Building%20a%20Model.ipynb#X14sZmlsZQ%3D%3D?line=7'>8</a>\u001b[0m     seed\u001b[39m=\u001b[39m\u001b[39m42\u001b[39m\n\u001b[0;32m      <a href='vscode-notebook-cell:/c%3A/Users/jdamodhar/Desktop/python_essential/DataCamp-ds-deloitte-master/00-A/54-Feature%20Engineering%20with%20PySpark/04-Building%20a%20Model.ipynb#X14sZmlsZQ%3D%3D?line=8'>9</a>\u001b[0m )\n\u001b[0;32m     <a href='vscode-notebook-cell:/c%3A/Users/jdamodhar/Desktop/python_essential/DataCamp-ds-deloitte-master/00-A/54-Feature%20Engineering%20with%20PySpark/04-Building%20a%20Model.ipynb#X14sZmlsZQ%3D%3D?line=10'>11</a>\u001b[0m \u001b[39m# Train model.\u001b[39;00m\n\u001b[1;32m---> <a href='vscode-notebook-cell:/c%3A/Users/jdamodhar/Desktop/python_essential/DataCamp-ds-deloitte-master/00-A/54-Feature%20Engineering%20with%20PySpark/04-Building%20a%20Model.ipynb#X14sZmlsZQ%3D%3D?line=11'>12</a>\u001b[0m model \u001b[39m=\u001b[39m gbt\u001b[39m.\u001b[39;49mfit(train_df)\n",
      "File \u001b[1;32m~\\AppData\\Local\\Programs\\Python\\Python311\\Lib\\site-packages\\pyspark\\ml\\base.py:205\u001b[0m, in \u001b[0;36mEstimator.fit\u001b[1;34m(self, dataset, params)\u001b[0m\n\u001b[0;32m    203\u001b[0m         \u001b[39mreturn\u001b[39;00m \u001b[39mself\u001b[39m\u001b[39m.\u001b[39mcopy(params)\u001b[39m.\u001b[39m_fit(dataset)\n\u001b[0;32m    204\u001b[0m     \u001b[39melse\u001b[39;00m:\n\u001b[1;32m--> 205\u001b[0m         \u001b[39mreturn\u001b[39;00m \u001b[39mself\u001b[39;49m\u001b[39m.\u001b[39;49m_fit(dataset)\n\u001b[0;32m    206\u001b[0m \u001b[39melse\u001b[39;00m:\n\u001b[0;32m    207\u001b[0m     \u001b[39mraise\u001b[39;00m \u001b[39mTypeError\u001b[39;00m(\n\u001b[0;32m    208\u001b[0m         \u001b[39m\"\u001b[39m\u001b[39mParams must be either a param map or a list/tuple of param maps, \u001b[39m\u001b[39m\"\u001b[39m\n\u001b[0;32m    209\u001b[0m         \u001b[39m\"\u001b[39m\u001b[39mbut got \u001b[39m\u001b[39m%s\u001b[39;00m\u001b[39m.\u001b[39m\u001b[39m\"\u001b[39m \u001b[39m%\u001b[39m \u001b[39mtype\u001b[39m(params)\n\u001b[0;32m    210\u001b[0m     )\n",
      "File \u001b[1;32m~\\AppData\\Local\\Programs\\Python\\Python311\\Lib\\site-packages\\pyspark\\ml\\wrapper.py:381\u001b[0m, in \u001b[0;36mJavaEstimator._fit\u001b[1;34m(self, dataset)\u001b[0m\n\u001b[0;32m    380\u001b[0m \u001b[39mdef\u001b[39;00m \u001b[39m_fit\u001b[39m(\u001b[39mself\u001b[39m, dataset: DataFrame) \u001b[39m-\u001b[39m\u001b[39m>\u001b[39m JM:\n\u001b[1;32m--> 381\u001b[0m     java_model \u001b[39m=\u001b[39m \u001b[39mself\u001b[39;49m\u001b[39m.\u001b[39;49m_fit_java(dataset)\n\u001b[0;32m    382\u001b[0m     model \u001b[39m=\u001b[39m \u001b[39mself\u001b[39m\u001b[39m.\u001b[39m_create_model(java_model)\n\u001b[0;32m    383\u001b[0m     \u001b[39mreturn\u001b[39;00m \u001b[39mself\u001b[39m\u001b[39m.\u001b[39m_copyValues(model)\n",
      "File \u001b[1;32m~\\AppData\\Local\\Programs\\Python\\Python311\\Lib\\site-packages\\pyspark\\ml\\wrapper.py:378\u001b[0m, in \u001b[0;36mJavaEstimator._fit_java\u001b[1;34m(self, dataset)\u001b[0m\n\u001b[0;32m    375\u001b[0m \u001b[39massert\u001b[39;00m \u001b[39mself\u001b[39m\u001b[39m.\u001b[39m_java_obj \u001b[39mis\u001b[39;00m \u001b[39mnot\u001b[39;00m \u001b[39mNone\u001b[39;00m\n\u001b[0;32m    377\u001b[0m \u001b[39mself\u001b[39m\u001b[39m.\u001b[39m_transfer_params_to_java()\n\u001b[1;32m--> 378\u001b[0m \u001b[39mreturn\u001b[39;00m \u001b[39mself\u001b[39;49m\u001b[39m.\u001b[39;49m_java_obj\u001b[39m.\u001b[39;49mfit(dataset\u001b[39m.\u001b[39;49m_jdf)\n",
      "File \u001b[1;32m~\\AppData\\Local\\Programs\\Python\\Python311\\Lib\\site-packages\\py4j\\java_gateway.py:1322\u001b[0m, in \u001b[0;36mJavaMember.__call__\u001b[1;34m(self, *args)\u001b[0m\n\u001b[0;32m   1316\u001b[0m command \u001b[39m=\u001b[39m proto\u001b[39m.\u001b[39mCALL_COMMAND_NAME \u001b[39m+\u001b[39m\\\n\u001b[0;32m   1317\u001b[0m     \u001b[39mself\u001b[39m\u001b[39m.\u001b[39mcommand_header \u001b[39m+\u001b[39m\\\n\u001b[0;32m   1318\u001b[0m     args_command \u001b[39m+\u001b[39m\\\n\u001b[0;32m   1319\u001b[0m     proto\u001b[39m.\u001b[39mEND_COMMAND_PART\n\u001b[0;32m   1321\u001b[0m answer \u001b[39m=\u001b[39m \u001b[39mself\u001b[39m\u001b[39m.\u001b[39mgateway_client\u001b[39m.\u001b[39msend_command(command)\n\u001b[1;32m-> 1322\u001b[0m return_value \u001b[39m=\u001b[39m get_return_value(\n\u001b[0;32m   1323\u001b[0m     answer, \u001b[39mself\u001b[39;49m\u001b[39m.\u001b[39;49mgateway_client, \u001b[39mself\u001b[39;49m\u001b[39m.\u001b[39;49mtarget_id, \u001b[39mself\u001b[39;49m\u001b[39m.\u001b[39;49mname)\n\u001b[0;32m   1325\u001b[0m \u001b[39mfor\u001b[39;00m temp_arg \u001b[39min\u001b[39;00m temp_args:\n\u001b[0;32m   1326\u001b[0m     \u001b[39mif\u001b[39;00m \u001b[39mhasattr\u001b[39m(temp_arg, \u001b[39m\"\u001b[39m\u001b[39m_detach\u001b[39m\u001b[39m\"\u001b[39m):\n",
      "File \u001b[1;32m~\\AppData\\Local\\Programs\\Python\\Python311\\Lib\\site-packages\\pyspark\\errors\\exceptions\\captured.py:185\u001b[0m, in \u001b[0;36mcapture_sql_exception.<locals>.deco\u001b[1;34m(*a, **kw)\u001b[0m\n\u001b[0;32m    181\u001b[0m converted \u001b[39m=\u001b[39m convert_exception(e\u001b[39m.\u001b[39mjava_exception)\n\u001b[0;32m    182\u001b[0m \u001b[39mif\u001b[39;00m \u001b[39mnot\u001b[39;00m \u001b[39misinstance\u001b[39m(converted, UnknownException):\n\u001b[0;32m    183\u001b[0m     \u001b[39m# Hide where the exception came from that shows a non-Pythonic\u001b[39;00m\n\u001b[0;32m    184\u001b[0m     \u001b[39m# JVM exception message.\u001b[39;00m\n\u001b[1;32m--> 185\u001b[0m     \u001b[39mraise\u001b[39;00m converted \u001b[39mfrom\u001b[39;00m \u001b[39mNone\u001b[39;00m\n\u001b[0;32m    186\u001b[0m \u001b[39melse\u001b[39;00m:\n\u001b[0;32m    187\u001b[0m     \u001b[39mraise\u001b[39;00m\n",
      "\u001b[1;31mIllegalArgumentException\u001b[0m: features does not exist. Available: DAYSONMARKET, LISTDATE, OFFMKTDATE"
     ]
    }
   ],
   "source": [
    "from pyspark.ml.regression import GBTRegressor\n",
    "\n",
    "# Train a Gradient Boosted Trees (GBT) model.\n",
    "gbt = GBTRegressor(\n",
    "    featuresCol='features',\n",
    "    labelCol='SALESCLOSEPRICE',\n",
    "    predictionCol=\"Prediction_Price\",\n",
    "    seed=42\n",
    ")\n",
    "\n",
    "# Train model.\n",
    "model = gbt.fit(train_df)"
   ]
  },
  {
   "cell_type": "code",
   "execution_count": null,
   "metadata": {},
   "outputs": [],
   "source": [
    "from pyspark.ml.evaluation import RegressionEvaluator\n",
    "\n",
    "# Select columns to compute test error\n",
    "evaluator = RegressionEvaluator(\n",
    "\tlabelCol=\"SALESCLOSEPRICE\",\n",
    "\tpredictionCol=\"Prediction_Price\"\n",
    ")\n",
    "# Dictionary of model predictions to loop over\n",
    "models = {\n",
    "\t'Gradient Boosted Trees': gbt_predictions,\n",
    "\t'Random Forest Regression': rfr_predictions\n",
    "}\n",
    "for key, preds in models.items():\n",
    "    # Create evaluation metrics\n",
    "    rmse = evaluator.evaluate(preds, {evaluator.metricName: \"rmse\"})\n",
    "    r2 = evaluator.evaluate(preds, {evaluator.metricName: \"r2\"})\n",
    "\n",
    "    # Print Model Metrics\n",
    "    print(key + ' RMSE: ' + str(rmse))\n",
    "    print(key + ' R^2: ' + str(r2))"
   ]
  },
  {
   "cell_type": "code",
   "execution_count": null,
   "metadata": {},
   "outputs": [],
   "source": [
    "importances = model.featureImportances.toArray()\n",
    "# Convert feature importances to a pandas column\n",
    "fi_df = pd.DataFrame(importances, columns=['importance'])\n",
    "\n",
    "feature_cols = ['FOUNDATIONSIZE', 'DAYSONMARKET', 'FIREPLACES', 'SQFTABOVEGROUND', 'TAXES', 'TAXWITHASSESSMENTS', 'LIVINGAREA', 'YEARBUILT', 'ACRES', 'BATHSFULL', 'BATHSHALF', 'BATHQUARTER', 'BATHSTHREEQUARTER', 'BATHSTOTAL', 'BEDROOMS', 'SQFTBELOWGROUND', 'ASSOCIATIONFEE', 'ASSESSEDVALUATION', 'LIST_YEAR', 'LIST_MONTH', 'LIST_WEEKOFYEAR', 'LIST_DAYOFMONTH', 'LIST_DAYOFYEAR', 'WALKSCORE', 'BIKESCORE', 'MORTGAGE30US', 'MORTGAGE30US-1WK', 'MORTGAGE30US-2WK', 'MORTGAGE30US-3WK', 'MORTGAGE30US-4WK', 'PERCENT_OLDER_AGE_HOMES', 'PERCENT_SIMILAR_AGE_HOMES', 'PERCENT_NEWER_AGE_HOMES', 'PERCENT_BIGGER_SIZE_HOMES', 'PERCENT_SIMILAR_SIZE_HOMES', 'PERCENT_SMALLER_SIZE_HOMES', 'SQFT_TOTAL', 'BED_TO_BATHS', 'FENCE_OTHER', 'FENCE_WIRE', 'FENCE_PARTIAL', 'FENCE_CHAINLINK', 'FENCE_FULL', 'FENCE_PRIVACY', 'FENCE_NONE', 'FENCE_WOOD', 'ROOF_AGEOVER8YEARS', 'ROOF_ASPHALTSHINGLES', 'ROOF_AGE8YEARSORLESS', 'ROOF_FLAT', 'POOLDESCRIPTION_SHARED', 'POOLDESCRIPTION_BELOWGROUND', 'POOLDESCRIPTION_NONE', 'GARAGEDESCRIPTION_HEATEDGARAGE', 'GARAGEDESCRIPTION_TUCKUNDER', 'GARAGEDESCRIPTION_UNCOVERED/OPEN', 'GARAGEDESCRIPTION_OTHER', 'GARAGEDESCRIPTION_ATTACHEDGARAGE', 'GARAGEDESCRIPTION_DRIVEWAY-ASPHALT', 'GARAGEDESCRIPTION_DETACHEDGARAGE', 'GARAGEDESCRIPTION_NONE', 'GARAGEDESCRIPTION_UNDERGROUNDGARAGE', 'APPLIANCES_COOKTOP', 'APPLIANCES_RANGE', 'EXTERIOR_BRICK/STONE', 'EXTERIOR_CEMENTBOARD', 'EXTERIOR_OTHER', 'EXTERIOR_STUCCO', 'EXTERIOR_METAL', 'EXTERIOR_FIBERBOARD', 'EXTERIOR_SHAKES', 'EXTERIOR_WOOD', 'EXTERIOR_VINYL', 'DININGROOMDESCRIPTION_SEPARATE/FORMALDININGROOM', 'DININGROOMDESCRIPTION_INFORMALDININGROOM', 'DININGROOMDESCRIPTION_BREAKFASTAREA', 'DININGROOMDESCRIPTION_EATINKITCHEN', 'DININGROOMDESCRIPTION_LIVING/DININGROOM', 'DININGROOMDESCRIPTION_KITCHEN/DININGROOM', 'BASEMENT_WALKOUT', 'BASEMENT_CRAWLSPACE', 'BASEMENT_PARTIALFINISHED', 'BASEMENT_PARTIAL', 'BASEMENT_UNFINISHED', 'BASEMENT_FULL', 'BASEMENT_NONE', 'BASEMENT_SLAB', 'BATHDESC_MAINFLOORFULLBATH', 'BATHDESC_UPPERLEVELFULLBATH', 'BATHDESC_MAINFLOOR1/2BATH', 'BATHDESC_MAINFLOOR3/4BATH', 'ZONING_RESIDENTIAL-SINGLE', 'ZONING_RESIDENTIAL-MULTI-FAMILY', 'COOLINGDESCRIPTION_WALL', 'COOLINGDESCRIPTION_DUCTLESSMINI-SPLIT', 'COOLINGDESCRIPTION_WINDOW', 'COOLINGDESCRIPTION_CENTRAL', 'COOLINGDESCRIPTION_NONE', 'CITY_LELM-LAKEELMO', 'CITY_MAPW-MAPLEWOOD', 'CITY_OAKD-OAKDALE', 'CITY_STP-SAINTPAUL', 'CITY_WB-WOODBURY', 'LISTTYPE_EXCLUSIVERIGHT', 'LISTTYPE_SERVICEAGREEMENT', 'SCHOOLDISTRICTNUMBER_622-NORTHSTPAUL-MAPLEWOOD', 'SCHOOLDISTRICTNUMBER_623-ROSEVILLE', 'SCHOOLDISTRICTNUMBER_625-STPAUL', 'SCHOOLDISTRICTNUMBER_833-SOUTHWASHINGTONCOUNTY', 'SCHOOLDISTRICTNUMBER_834-STILLWATER', 'POTENTIALSHORTSALE_NO', 'STYLE_CCHIGHRISE4+LEVELS', 'STYLE_CCLOWRISE3-LEVELS', 'STYLE_CCMANOR/VILLAGE', 'STYLE_SFFOURORMORELEVELSPLIT', 'STYLE_SFMODIFIEDTWOSTORY', 'STYLE_SFMORETHANTWOSTORIES', 'STYLE_SFONE1/2STORIES', 'STYLE_SFONESTORY', 'STYLE_SFSPLITENTRYBI-LEVEL', 'STYLE_SFTHREELEVELSPLIT', 'STYLE_SFTWOSTORIES', 'STYLE_THDETACHED', 'STYLE_THQUAD/4CORNERS', 'STYLE_THSIDEXSIDE', 'STYLE_TWTWINHOME', 'ASSUMABLEMORTGAGE_NOTASSUMABLE', 'ASSESSMENTPENDING_NO', 'ASSESSMENTPENDING_UNKNOWN', 'ASSESSMENTPENDING_YES']\n",
    "\n",
    "# Convert list of feature names to pandas column\n",
    "fi_df['feature'] = pd.Series(feature_cols)\n",
    "\n",
    "# Sort the data based on feature importance\n",
    "fi_df.sort_values(by=['importance'], ascending=False, inplace=True)\n",
    "\n",
    "# Inspect Results\n",
    "fi_df.head(10)"
   ]
  },
  {
   "cell_type": "code",
   "execution_count": null,
   "metadata": {},
   "outputs": [],
   "source": [
    "from pyspark.ml.regression import RandomForestRegressionModel\n",
    "\n",
    "# Save model\n",
    "model.save('rfr_no_listprice')\n",
    "\n",
    "# Load model\n",
    "loaded_model = RandomForestRegressionModel.load('rfr_no_listprice')"
   ]
  }
 ],
 "metadata": {
  "kernelspec": {
   "display_name": "Python 3 (ipykernel)",
   "language": "python",
   "name": "python3"
  },
  "language_info": {
   "codemirror_mode": {
    "name": "ipython",
    "version": 3
   },
   "file_extension": ".py",
   "mimetype": "text/x-python",
   "name": "python",
   "nbconvert_exporter": "python",
   "pygments_lexer": "ipython3",
   "version": "3.11.6"
  }
 },
 "nbformat": 4,
 "nbformat_minor": 2
}
