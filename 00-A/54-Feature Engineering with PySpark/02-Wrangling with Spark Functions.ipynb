{
 "cells": [
  {
   "cell_type": "code",
   "execution_count": 18,
   "metadata": {},
   "outputs": [
    {
     "data": {
      "text/plain": [
       "'local-1698763673578'"
      ]
     },
     "execution_count": 18,
     "metadata": {},
     "output_type": "execute_result"
    }
   ],
   "source": [
    "df_eda = df\n",
    "sc.applicationId"
   ]
  },
  {
   "cell_type": "code",
   "execution_count": 19,
   "metadata": {},
   "outputs": [
    {
     "name": "stdout",
     "output_type": "stream",
     "text": [
      "+---+-----+-------------------+-----------------------+----------+----------+---------------+----------------+---------------+--------------+---------+---------------+-----------------+------------+--------------+----------+---------+-----------------+-----------------------------+------------+---------------+----------+---------+----------------------------------------------------------------------------------------------------------------------------------------------------------+----------------------------------------------+----------+------------------+---------------+----+--------------------------------------------------------------+---------------+------+----------+---------+------------------+-------+----------+----------+---------+------------------+---------------------------+-----+------------------+-------------------------------------------------------------------------------------+----------------+--------------+---------+------------+----------+----------+---------+-----------------------------------------+------------------------------------------------------------+---------+---------+-----------+-----------------+-----+----------+--------------------------------------------------------------------+---------+----------+---------+----------+---------+----------+---------+----------+--------+---------------+-----------------+--------------+-----------------+-----------------+\n",
      "|NO |MLSID|StreetNumberNumeric|streetaddress          |STREETNAME|PostalCode|StateOrProvince|City            |SALESCLOSEPRICE|LISTDATE      |LISTPRICE|LISTTYPE       |OriginalListPrice|PricePerTSFT|FOUNDATIONSIZE|FENCE     |MapLetter|LotSizeDimensions|SchoolDistrictNumber         |DAYSONMARKET|offmarketdate  |FIREPLACES|RoomArea4|roomtype                                                                                                                                                  |ROOF                                          |RoomFloor4|PotentialShortSale|PoolDescription|PDOM|GarageDescription                                             |SQFTABOVEGROUND|TAXES |RoomFloor1|RoomArea1|TAXWITHASSESSMENTS|TAXYEAR|LIVINGAREA|UNITNUMBER|YEARBUILT|ZONING            |STYLE                      |ACRES|CoolingDescription|APPLIANCES                                                                           |BACKONMARKETDATE|ROOMFAMILYCHAR|RoomArea3|EXTERIOR    |RoomFloor3|RoomFloor2|RoomArea2|DiningRoomDescription                    |BASEMENT                                                    |BATHSFULL|BATHSHALF|BATHQUARTER|BATHSTHREEQUARTER|Class|BATHSTOTAL|BATHDESC                                                            |RoomArea5|RoomFloor5|RoomArea6|RoomFloor6|RoomArea7|RoomFloor7|RoomArea8|RoomFloor8|BEDROOMS|SQFTBELOWGROUND|AssumableMortgage|ASSOCIATIONFEE|ASSESSMENTPENDING|ASSESSEDVALUATION|\n",
      "+---+-----+-------------------+-----------------------+----------+----------+---------------+----------------+---------------+--------------+---------+---------------+-----------------+------------+--------------+----------+---------+-----------------+-----------------------------+------------+---------------+----------+---------+----------------------------------------------------------------------------------------------------------------------------------------------------------+----------------------------------------------+----------+------------------+---------------+----+--------------------------------------------------------------+---------------+------+----------+---------+------------------+-------+----------+----------+---------+------------------+---------------------------+-----+------------------+-------------------------------------------------------------------------------------+----------------+--------------+---------+------------+----------+----------+---------+-----------------------------------------+------------------------------------------------------------+---------+---------+-----------+-----------------+-----+----------+--------------------------------------------------------------------+---------+----------+---------+----------+---------+----------+---------+----------+--------+---------------+-----------------+--------------+-----------------+-----------------+\n",
      "|1  |RMLS |11511              |11511 Stillwater Blvd N|Stillwater|55042     |MN             |LELM - Lake Elmo|143000.0       |7/15/2017 0:00|139900   |Exclusive Right|139900           |145.9184    |980.0         |Other     |C4       |279X200          |834 - Stillwater             |10.0        |7/30/2017 0:00 |0.0       |12 x  9  |Living Room, Dining Room, Family Room, Kitchen, First (1st) Bedroom, Second (2nd) Bedroom, Third (3rd) Bedroom, Fourth (4th) Bedroom, Deck                |NULL                                          |Main      |No                |NULL           |10.0|Attached Garage                                               |980.0          |1858.0|Main      |16 x 13  |1858.0            |2017.0 |980.0     |NULL      |1950.0   |Residential-Single|(SF) One Story             |1.28 |Central           |Range, Dishwasher, Refrigerator                                                      |NULL            |NULL          |NULL     |Vinyl       |NULL      |Main      |9 x  7   |Eat In Kitchen                           |Full                                                        |1.0      |1.0      |0.0        |0.0              |SF   |2.0       |Main Floor 3/4 Bath, 1/2 Basement, Basement                         |13 x 11  |Main      |10 x 10  |Main      |NULL     |NULL      |NULL     |NULL      |3.0     |0.0            |NULL             |0.0           |Unknown          |0.0              |\n",
      "|2  |RMLS |11200              |11200 31st St N        |31st      |55042     |MN             |LELM - Lake Elmo|190000.0       |10/9/2017 0:00|210000   |Exclusive Right|210000           |85.2783     |1144.0        |NULL      |C1       |100x140          |834 - Stillwater             |4.0         |10/13/2017 0:00|0.0       |11x11    |Living Room, Dining Room, Family Room, Kitchen, First (1st) Bedroom, Second (2nd) Bedroom, Third (3rd) Bedroom, Fourth (4th) Bedroom, Office              |Asphalt Shingles, Pitched, Age 8 Years or Less|Main      |No                |NULL           |4.0 |Attached Garage, Driveway - Asphalt, Garage Door Opener       |1268.0         |1640.0|Main      |22x14    |1640.0            |2017.0 |2228.0    |NULL      |1971.0   |Residential-Single|(SF) Split Entry (Bi-Level)|0.32 |Central           |Range, Microwave, Exhaust Fan/Hood, Dishwasher, Refrigerator, Washer, Dryer, Disposal|NULL            |Lower Level   |22x14    |Vinyl       |Lower     |Main      |11x12    |Informal Dining Room, Kitchen/Dining Room|Full, Partial Finished, Day/Lookout Windows, Concrete Block |1.0      |0.0      |0.0        |2.0              |SF   |3.0       |Main Floor Full Bath, Upper Level 3/4 Bath, 3/4 Master, 3/4 Basement|15x11    |Main      |14x11    |Main      |10x11    |Main      |11x11    |Lower     |4.0     |960.0          |NULL             |0.0           |Unknown          |0.0              |\n",
      "|3  |RMLS |8583               |8583 Stillwater Blvd N |Stillwater|55042     |MN             |LELM - Lake Elmo|225000.0       |6/26/2017 0:00|225000   |Exclusive Right|225000           |204.1742    |1102.0        |None      |E1       |120x296          |622 - North St Paul-Maplewood|28.0        |7/24/2017 0:00 |0.0       |14x12    |Living Room, Dining Room, Family Room, Kitchen, First (1st) Bedroom, Second (2nd) Bedroom, Third (3rd) Bedroom, Fourth (4th) Bedroom                      |NULL                                          |Main      |No                |None           |28.0|Attached Garage                                               |1102.0         |2390.0|Main      |20x13    |2390.0            |2016.0 |1102.0    |NULL      |1949.0   |Residential-Single|(SF) One Story             |0.822|Window            |Range, Microwave, Dishwasher, Refrigerator, Washer, Dryer, Disposal                  |NULL            |NULL          |NULL     |Cement Board|NULL      |Main      |18x11    |Informal Dining Room                     |Full, Crawl Space, Concrete Block                           |1.0      |0.0      |0.0        |0.0              |SF   |1.0       |Main Floor Full Bath                                                |12x12    |Main      |12x12    |Main      |NULL     |NULL      |NULL     |NULL      |2.0     |0.0            |Not Assumable    |0.0           |No               |0.0              |\n",
      "|4  |RMLS |9350               |9350 31st St N         |31st      |55042     |MN             |LELM - Lake Elmo|265000.0       |8/25/2017 0:00|230000   |Exclusive Right|230000           |162.3775    |959.0         |None      |A1       |208X208          |834 - Stillwater             |19.0        |9/13/2017 0:00 |1.0       |12X16    |Living Room, Dining Room, Family Room, Kitchen, First (1st) Bedroom, Second (2nd) Bedroom, Third (3rd) Bedroom, Fourth (4th) Bedroom, Office, Office, Deck|Asphalt Shingles, Pitched, Age 8 Years or Less|Main      |No                |None           |19.0|Attached Garage, Detached Garage, Tuckunder, Driveway - Gravel|1284.0         |2146.0|NULL      |NULL     |2146.0            |2017.0 |1632.0    |NULL      |1960.0   |Residential-Single|(SF) One Story             |0.94 |Central           |Range, Washer, Dryer                                                                 |NULL            |Main Level    |25X13    |Stucco      |Main      |Main      |20X11    |NULL                                     |Full, Partial Finished, Drain Tiled, Sump Pump              |1.0      |1.0      |0.0        |0.0              |SF   |2.0       |Main Floor Full Bath, 1/2 Basement                                  |13X11    |Main      |13X10    |Main      |NULL     |NULL      |NULL     |NULL      |2.0     |348.0          |NULL             |0.0           |Unknown          |0.0              |\n",
      "|5  |RMLS |2915               |2915 Inwood Ave N      |Inwood    |55042     |MN             |LELM - Lake Elmo|249900.0       |9/12/2017 0:00|239900   |Exclusive Right|239900           |121.7836    |1026.0        |Chain Link|E1       |116x200          |622 - North St Paul-Maplewood|21.0        |10/3/2017 0:00 |1.0       |12x10    |Living Room, Dining Room, Family Room, Kitchen, First (1st) Bedroom, Second (2nd) Bedroom, Third (3rd) Bedroom, Fourth (4th) Bedroom, Deck, Deck, Patio   |Asphalt Shingles, Age Over 8 Years            |Main      |No                |NULL           |21.0|Attached Garage, Driveway - Asphalt, Garage Door Opener       |1026.0         |2010.0|Main      |22x14    |2010.0            |2017.0 |2052.0    |NULL      |1978.0   |Residential-Single|(SF) Split Entry (Bi-Level)|0.0  |Central           |Range, Exhaust Fan/Hood, Dishwasher, Refrigerator, Washer, Dryer                     |NULL            |Lower Level   |22x18    |Vinyl       |Lower     |Main      |12x10    |Breakfast Area, Kitchen/Dining Room      |Walkout, Full, Finished (Livable), Sump Pump, Egress Windows|1.0      |0.0      |0.0        |1.0              |SF   |2.0       |Main Floor Full Bath, Master Walk-Thru, Walk Thru, 3/4 Basement     |13x11    |Main      |13x12    |Main      |14x13    |Lower     |NULL     |NULL      |3.0     |1026.0         |NULL             |0.0           |No               |0.0              |\n",
      "+---+-----+-------------------+-----------------------+----------+----------+---------------+----------------+---------------+--------------+---------+---------------+-----------------+------------+--------------+----------+---------+-----------------+-----------------------------+------------+---------------+----------+---------+----------------------------------------------------------------------------------------------------------------------------------------------------------+----------------------------------------------+----------+------------------+---------------+----+--------------------------------------------------------------+---------------+------+----------+---------+------------------+-------+----------+----------+---------+------------------+---------------------------+-----+------------------+-------------------------------------------------------------------------------------+----------------+--------------+---------+------------+----------+----------+---------+-----------------------------------------+------------------------------------------------------------+---------+---------+-----------+-----------------+-----+----------+--------------------------------------------------------------------+---------+----------+---------+----------+---------+----------+---------+----------+--------+---------------+-----------------+--------------+-----------------+-----------------+\n",
      "only showing top 5 rows\n",
      "\n"
     ]
    }
   ],
   "source": [
    "# Show top 30 records\n",
    "df = df.withColumnRenamed('No.', 'NO')\n",
    "df = df.withColumn('NO', df['NO'].cast(IntegerType()))\n",
    "df.show(5,0)\n",
    "\n",
    "# List of columns to remove from dataset\n",
    "# cols_to_drop = ['STREETNUMBERNUMERIC', 'LOTSIZEDIMENSIONS']\n",
    "\n",
    "# # Drop columns in list\n",
    "# df = df.drop(*cols_to_drop)"
   ]
  },
  {
   "cell_type": "code",
   "execution_count": 20,
   "metadata": {},
   "outputs": [
    {
     "name": "stdout",
     "output_type": "stream",
     "text": [
      "4976\n"
     ]
    }
   ],
   "source": [
    "# Inspect unique values in the column 'ASSUMABLEMORTGAGE'\n",
    "# df.select(['ASSUMABLEMORTGAGE']).distinct().show()\n",
    "\n",
    "# List of possible values containing 'yes'\n",
    "yes_values = ['Yes w/ Qualifying', 'Yes w/No Qualifying']\n",
    "\n",
    "# Filter the text values out of df but keep null values\n",
    "text_filter = ~df['ASSUMABLEMORTGAGE'].isin(yes_values) | df['ASSUMABLEMORTGAGE'].isNull()\n",
    "df = df.where(text_filter)\n",
    "\n",
    "# print count of remaining records\n",
    "print(df.count())"
   ]
  },
  {
   "cell_type": "code",
   "execution_count": 21,
   "metadata": {},
   "outputs": [
    {
     "name": "stdout",
     "output_type": "stream",
     "text": [
      "root\n",
      " |-- NO: integer (nullable = true)\n",
      " |-- MLSID: string (nullable = true)\n",
      " |-- StreetNumberNumeric: string (nullable = true)\n",
      " |-- streetaddress: string (nullable = true)\n",
      " |-- STREETNAME: string (nullable = true)\n",
      " |-- PostalCode: string (nullable = true)\n",
      " |-- StateOrProvince: string (nullable = true)\n",
      " |-- City: string (nullable = true)\n",
      " |-- SALESCLOSEPRICE: double (nullable = true)\n",
      " |-- LISTDATE: string (nullable = true)\n",
      " |-- LISTPRICE: string (nullable = true)\n",
      " |-- LISTTYPE: string (nullable = true)\n",
      " |-- OriginalListPrice: string (nullable = true)\n",
      " |-- PricePerTSFT: string (nullable = true)\n",
      " |-- FOUNDATIONSIZE: double (nullable = true)\n",
      " |-- FENCE: string (nullable = true)\n",
      " |-- MapLetter: string (nullable = true)\n",
      " |-- LotSizeDimensions: string (nullable = true)\n",
      " |-- SchoolDistrictNumber: string (nullable = true)\n",
      " |-- DAYSONMARKET: double (nullable = true)\n",
      " |-- offmarketdate: string (nullable = true)\n",
      " |-- FIREPLACES: double (nullable = true)\n",
      " |-- RoomArea4: string (nullable = true)\n",
      " |-- roomtype: string (nullable = true)\n",
      " |-- ROOF: string (nullable = true)\n",
      " |-- RoomFloor4: string (nullable = true)\n",
      " |-- PotentialShortSale: string (nullable = true)\n",
      " |-- PoolDescription: string (nullable = true)\n",
      " |-- PDOM: double (nullable = true)\n",
      " |-- GarageDescription: string (nullable = true)\n",
      " |-- SQFTABOVEGROUND: double (nullable = true)\n",
      " |-- TAXES: double (nullable = true)\n",
      " |-- RoomFloor1: string (nullable = true)\n",
      " |-- RoomArea1: string (nullable = true)\n",
      " |-- TAXWITHASSESSMENTS: double (nullable = true)\n",
      " |-- TAXYEAR: double (nullable = true)\n",
      " |-- LIVINGAREA: double (nullable = true)\n",
      " |-- UNITNUMBER: string (nullable = true)\n",
      " |-- YEARBUILT: double (nullable = true)\n",
      " |-- ZONING: string (nullable = true)\n",
      " |-- STYLE: string (nullable = true)\n",
      " |-- ACRES: double (nullable = true)\n",
      " |-- CoolingDescription: string (nullable = true)\n",
      " |-- APPLIANCES: string (nullable = true)\n",
      " |-- BACKONMARKETDATE: double (nullable = true)\n",
      " |-- ROOMFAMILYCHAR: string (nullable = true)\n",
      " |-- RoomArea3: string (nullable = true)\n",
      " |-- EXTERIOR: string (nullable = true)\n",
      " |-- RoomFloor3: string (nullable = true)\n",
      " |-- RoomFloor2: string (nullable = true)\n",
      " |-- RoomArea2: string (nullable = true)\n",
      " |-- DiningRoomDescription: string (nullable = true)\n",
      " |-- BASEMENT: string (nullable = true)\n",
      " |-- BATHSFULL: double (nullable = true)\n",
      " |-- BATHSHALF: double (nullable = true)\n",
      " |-- BATHQUARTER: double (nullable = true)\n",
      " |-- BATHSTHREEQUARTER: double (nullable = true)\n",
      " |-- Class: string (nullable = true)\n",
      " |-- BATHSTOTAL: double (nullable = true)\n",
      " |-- BATHDESC: string (nullable = true)\n",
      " |-- RoomArea5: string (nullable = true)\n",
      " |-- RoomFloor5: string (nullable = true)\n",
      " |-- RoomArea6: string (nullable = true)\n",
      " |-- RoomFloor6: string (nullable = true)\n",
      " |-- RoomArea7: string (nullable = true)\n",
      " |-- RoomFloor7: string (nullable = true)\n",
      " |-- RoomArea8: string (nullable = true)\n",
      " |-- RoomFloor8: string (nullable = true)\n",
      " |-- BEDROOMS: double (nullable = true)\n",
      " |-- SQFTBELOWGROUND: double (nullable = true)\n",
      " |-- AssumableMortgage: string (nullable = true)\n",
      " |-- ASSOCIATIONFEE: double (nullable = true)\n",
      " |-- ASSESSMENTPENDING: string (nullable = true)\n",
      " |-- ASSESSEDVALUATION: double (nullable = true)\n",
      "\n"
     ]
    }
   ],
   "source": [
    "df.printSchema()"
   ]
  },
  {
   "cell_type": "code",
   "execution_count": 22,
   "metadata": {},
   "outputs": [
    {
     "name": "stdout",
     "output_type": "stream",
     "text": [
      "+-------------------+---------------+\n",
      "|log_SalesClosePrice|SALESCLOSEPRICE|\n",
      "+-------------------+---------------+\n",
      "|11.870599909242044 |143000.0       |\n",
      "|12.154779351142624 |190000.0       |\n",
      "|12.323855681186558 |225000.0       |\n",
      "+-------------------+---------------+\n",
      "only showing top 3 rows\n",
      "\n"
     ]
    }
   ],
   "source": [
    "df = df.withColumn(\"log_SalesClosePrice\", F.log(\"SALESCLOSEPRICE\"))\n",
    "df.select('log_SalesClosePrice','SALESCLOSEPRICE').show(3,0)"
   ]
  },
  {
   "cell_type": "code",
   "execution_count": 23,
   "metadata": {},
   "outputs": [],
   "source": [
    "from pyspark.sql.functions import mean, stddev\n",
    "\n",
    "# Calculate values used for outlier filtering\n",
    "mean_val = df.agg({'log_SalesClosePrice': 'mean'}).collect()[0][0]\n",
    "stddev_val = df.agg({'log_SalesClosePrice': 'stddev'}).collect()[0][0]\n",
    "\n",
    "# Create three standard deviation (n � 3d) lower and upper bounds for data\n",
    "low_bound = mean_val - (3 * stddev_val)\n",
    "hi_bound = mean_val + (3 * stddev_val)\n",
    "\n",
    "# Filter the data to fit between the lower and upper bounds\n",
    "df = df.where((df['log_SalesClosePrice'] < hi_bound) & (df['log_SalesClosePrice'] > low_bound))"
   ]
  },
  {
   "cell_type": "code",
   "execution_count": 24,
   "metadata": {},
   "outputs": [
    {
     "name": "stdout",
     "output_type": "stream",
     "text": [
      "root\n",
      " |-- DAYSONMARKET: double (nullable = true)\n",
      "\n"
     ]
    }
   ],
   "source": [
    "df[['DAYSONMARKET']].printSchema()\n"
   ]
  },
  {
   "cell_type": "code",
   "execution_count": 25,
   "metadata": {},
   "outputs": [
    {
     "name": "stdout",
     "output_type": "stream",
     "text": [
      "[Row(max(percentage_scaled_days)=100.0)]\n",
      "[Row(min(percentage_scaled_days)=0.0)]\n"
     ]
    }
   ],
   "source": [
    "# Define max and min values and collect them\n",
    "max_days = df.agg({'DAYSONMARKET': 'max'}).collect()[0][0]\n",
    "min_days = df.agg({'DAYSONMARKET': 'min'}).collect()[0][0]\n",
    "\n",
    "# Create a new column based off the scaled data\n",
    "df = df.withColumn(\n",
    "    'percentage_scaled_days', \n",
    "    F.round((df['DAYSONMARKET'] - float(min_days)) / (float(max_days) - float(min_days))) * 100\n",
    ")\n",
    "\n",
    "# Calc max and min for new column\n",
    "print(df.agg({'percentage_scaled_days': 'max'}).collect())\n",
    "print(df.agg({'percentage_scaled_days': 'min'}).collect())"
   ]
  },
  {
   "cell_type": "code",
   "execution_count": 26,
   "metadata": {},
   "outputs": [
    {
     "name": "stdout",
     "output_type": "stream",
     "text": [
      "+------------+--------------------+\n",
      "|DAYSONMARKET|scaled_DAYSONMARKET |\n",
      "+------------+--------------------+\n",
      "|10.0        |0.044444444444444446|\n",
      "|4.0         |0.017777777777777778|\n",
      "|28.0        |0.12444444444444444 |\n",
      "|19.0        |0.08444444444444445 |\n",
      "|21.0        |0.09333333333333334 |\n",
      "+------------+--------------------+\n",
      "only showing top 5 rows\n",
      "\n"
     ]
    }
   ],
   "source": [
    "def min_max_scaler(df, cols_to_scale):\n",
    "    # Takes a dataframe and list of columns to minmax scale. Returns a dataframe.\n",
    "    for col in cols_to_scale:\n",
    "        # Define min and max values and collect them\n",
    "        max_days = df.agg({col: 'max'}).collect()[0][0]\n",
    "        min_days = df.agg({col: 'min'}).collect()[0][0]\n",
    "        new_column_name = 'scaled_' + col\n",
    "        # Create a new column based off the scaled data\n",
    "        df = df.withColumn(\n",
    "            new_column_name, \n",
    "            (df[col] - min_days) / (max_days - min_days)\n",
    "        )\n",
    "    return df\n",
    "\n",
    "df = min_max_scaler(df, ['FOUNDATIONSIZE', 'DAYSONMARKET', 'FIREPLACES'])\n",
    "# Show that our data is now between 0 and 1\n",
    "df[['DAYSONMARKET', 'scaled_DAYSONMARKET']].show(5,0)"
   ]
  },
  {
   "cell_type": "code",
   "execution_count": 27,
   "metadata": {},
   "outputs": [
    {
     "name": "stdout",
     "output_type": "stream",
     "text": [
      "[Row(skewness(YEARBUILT)=-0.25317374723020336)]\n"
     ]
    }
   ],
   "source": [
    "from pyspark.sql.functions import log\n",
    "\n",
    "# Compute the skewness\n",
    "print(df.agg({'YEARBUILT': 'skewness'}).collect())\n",
    "\n",
    "# Calculate the max year\n",
    "max_year = df.agg({'YEARBUILT': 'max'}).collect()[0][0]\n",
    "\n",
    "# Create a new column of reflected data\n",
    "df = df.withColumn('Reflect_YearBuilt', (max_year + 1) - df['YEARBUILT'])\n",
    "\n",
    "# Create a new column based reflected data\n",
    "df = df.withColumn('adj_yearbuilt', 1 / log(df['Reflect_YearBuilt']))"
   ]
  },
  {
   "cell_type": "code",
   "execution_count": 28,
   "metadata": {},
   "outputs": [
    {
     "data": {
      "image/png": "[encoded data removed]",
      "text/plain": [
       "<Figure size 640x480 with 2 Axes>"
      ]
     },
     "metadata": {},
     "output_type": "display_data"
    }
   ],
   "source": [
    "# Sample the dataframe and convert to Pandas\n",
    "sample_df = df\\\n",
    "    .select(['APPLIANCES',\n",
    " 'BACKONMARKETDATE',\n",
    " 'ROOMFAMILYCHAR',\n",
    " 'BASEMENT',\n",
    " 'DININGROOMDESCRIPTION'])\\\n",
    "    .sample(False, 0.1, 42)\n",
    "pandas_df = sample_df.toPandas()\n",
    "\n",
    "# Convert all values to T/F\n",
    "tf_df = pandas_df.isnull()\n",
    "\n",
    "\n",
    "# Plot it\n",
    "sns.heatmap(data=tf_df)\n",
    "plt.xticks(rotation=30, fontsize=10)\n",
    "plt.yticks(rotation=0, fontsize=10)\n",
    "plt.show()\n",
    "\n",
    "# Set the answer to the column with the most missing data\n",
    "answer = 'BACKONMARKETDATE'"
   ]
  },
  {
   "cell_type": "code",
   "execution_count": 29,
   "metadata": {},
   "outputs": [
    {
     "name": "stdout",
     "output_type": "stream",
     "text": [
      "0 20.762636473918317\n"
     ]
    },
    {
     "data": {
      "text/plain": [
       "DataFrame[NO: int, MLSID: string, StreetNumberNumeric: string, streetaddress: string, STREETNAME: string, PostalCode: string, StateOrProvince: string, City: string, SALESCLOSEPRICE: double, LISTDATE: string, LISTPRICE: string, LISTTYPE: string, OriginalListPrice: string, PricePerTSFT: string, FOUNDATIONSIZE: double, FENCE: string, MapLetter: string, LotSizeDimensions: string, SchoolDistrictNumber: string, DAYSONMARKET: double, offmarketdate: string, FIREPLACES: double, RoomArea4: string, roomtype: string, ROOF: string, RoomFloor4: string, PotentialShortSale: string, PoolDescription: string, PDOM: double, GarageDescription: string, SQFTABOVEGROUND: double, TAXES: double, RoomFloor1: string, RoomArea1: string, TAXWITHASSESSMENTS: double, TAXYEAR: double, LIVINGAREA: double, UNITNUMBER: string, YEARBUILT: double, ZONING: string, STYLE: string, ACRES: double, CoolingDescription: string, APPLIANCES: string, BACKONMARKETDATE: double, ROOMFAMILYCHAR: string, RoomArea3: string, EXTERIOR: string, RoomFloor3: string, RoomFloor2: string, RoomArea2: string, DiningRoomDescription: string, BASEMENT: string, BATHSFULL: double, BATHSHALF: double, BATHQUARTER: double, BATHSTHREEQUARTER: double, Class: string, BATHSTOTAL: double, BATHDESC: string, RoomArea5: string, RoomFloor5: string, RoomArea6: string, RoomFloor6: string, RoomArea7: string, RoomFloor7: string, RoomArea8: string, RoomFloor8: string, BEDROOMS: double, SQFTBELOWGROUND: double, AssumableMortgage: string, ASSOCIATIONFEE: double, ASSESSMENTPENDING: string, ASSESSEDVALUATION: double, log_SalesClosePrice: double, percentage_scaled_days: double, scaled_FOUNDATIONSIZE: double, scaled_DAYSONMARKET: double, scaled_FIREPLACES: double, Reflect_YearBuilt: double, adj_yearbuilt: double]"
      ]
     },
     "execution_count": 29,
     "metadata": {},
     "output_type": "execute_result"
    }
   ],
   "source": [
    "# Count missing rows\n",
    "missing = df\\\n",
    "    .where(df['PDOM'].isNull())\\\n",
    "    .count()\n",
    "\n",
    "# Calculate the mean value\n",
    "col_mean = df\\\n",
    "    .agg({'PDOM': 'mean'})\\\n",
    "    .collect()[0][0]\n",
    "\n",
    "print(missing, col_mean)\n",
    "# Replacing with the mean value for that column\n",
    "df.fillna(20.792025646163093, subset=['PDOM'])"
   ]
  },
  {
   "cell_type": "code",
   "execution_count": 30,
   "metadata": {},
   "outputs": [],
   "source": [
    "df_berfore_postal = df"
   ]
  },
  {
   "cell_type": "code",
   "execution_count": 31,
   "metadata": {},
   "outputs": [
    {
     "name": "stdout",
     "output_type": "stream",
     "text": [
      "root\n",
      " |-- PostalCode: string (nullable = true)\n",
      " |-- NO: integer (nullable = true)\n",
      " |-- MLSID: string (nullable = true)\n",
      " |-- StreetNumberNumeric: string (nullable = true)\n",
      " |-- streetaddress: string (nullable = true)\n",
      " |-- STREETNAME: string (nullable = true)\n",
      " |-- StateOrProvince: string (nullable = true)\n",
      " |-- City: string (nullable = true)\n",
      " |-- SALESCLOSEPRICE: double (nullable = true)\n",
      " |-- LISTDATE: string (nullable = true)\n",
      " |-- LISTPRICE: string (nullable = true)\n",
      " |-- LISTTYPE: string (nullable = true)\n",
      " |-- OriginalListPrice: string (nullable = true)\n",
      " |-- PricePerTSFT: string (nullable = true)\n",
      " |-- FOUNDATIONSIZE: double (nullable = true)\n",
      " |-- FENCE: string (nullable = true)\n",
      " |-- MapLetter: string (nullable = true)\n",
      " |-- LotSizeDimensions: string (nullable = true)\n",
      " |-- SchoolDistrictNumber: string (nullable = true)\n",
      " |-- DAYSONMARKET: double (nullable = true)\n",
      " |-- offmarketdate: string (nullable = true)\n",
      " |-- FIREPLACES: double (nullable = true)\n",
      " |-- RoomArea4: string (nullable = true)\n",
      " |-- roomtype: string (nullable = true)\n",
      " |-- ROOF: string (nullable = true)\n",
      " |-- RoomFloor4: string (nullable = true)\n",
      " |-- PotentialShortSale: string (nullable = true)\n",
      " |-- PoolDescription: string (nullable = true)\n",
      " |-- PDOM: double (nullable = true)\n",
      " |-- GarageDescription: string (nullable = true)\n",
      " |-- SQFTABOVEGROUND: double (nullable = true)\n",
      " |-- TAXES: double (nullable = true)\n",
      " |-- RoomFloor1: string (nullable = true)\n",
      " |-- RoomArea1: string (nullable = true)\n",
      " |-- TAXWITHASSESSMENTS: double (nullable = true)\n",
      " |-- TAXYEAR: double (nullable = true)\n",
      " |-- LIVINGAREA: double (nullable = true)\n",
      " |-- UNITNUMBER: string (nullable = true)\n",
      " |-- YEARBUILT: double (nullable = true)\n",
      " |-- ZONING: string (nullable = true)\n",
      " |-- STYLE: string (nullable = true)\n",
      " |-- ACRES: double (nullable = true)\n",
      " |-- CoolingDescription: string (nullable = true)\n",
      " |-- APPLIANCES: string (nullable = true)\n",
      " |-- BACKONMARKETDATE: double (nullable = true)\n",
      " |-- ROOMFAMILYCHAR: string (nullable = true)\n",
      " |-- RoomArea3: string (nullable = true)\n",
      " |-- EXTERIOR: string (nullable = true)\n",
      " |-- RoomFloor3: string (nullable = true)\n",
      " |-- RoomFloor2: string (nullable = true)\n",
      " |-- RoomArea2: string (nullable = true)\n",
      " |-- DiningRoomDescription: string (nullable = true)\n",
      " |-- BASEMENT: string (nullable = true)\n",
      " |-- BATHSFULL: double (nullable = true)\n",
      " |-- BATHSHALF: double (nullable = true)\n",
      " |-- BATHQUARTER: double (nullable = true)\n",
      " |-- BATHSTHREEQUARTER: double (nullable = true)\n",
      " |-- Class: string (nullable = true)\n",
      " |-- BATHSTOTAL: double (nullable = true)\n",
      " |-- BATHDESC: string (nullable = true)\n",
      " |-- RoomArea5: string (nullable = true)\n",
      " |-- RoomFloor5: string (nullable = true)\n",
      " |-- RoomArea6: string (nullable = true)\n",
      " |-- RoomFloor6: string (nullable = true)\n",
      " |-- RoomArea7: string (nullable = true)\n",
      " |-- RoomFloor7: string (nullable = true)\n",
      " |-- RoomArea8: string (nullable = true)\n",
      " |-- RoomFloor8: string (nullable = true)\n",
      " |-- BEDROOMS: double (nullable = true)\n",
      " |-- SQFTBELOWGROUND: double (nullable = true)\n",
      " |-- AssumableMortgage: string (nullable = true)\n",
      " |-- ASSOCIATIONFEE: double (nullable = true)\n",
      " |-- ASSESSMENTPENDING: string (nullable = true)\n",
      " |-- ASSESSEDVALUATION: double (nullable = true)\n",
      " |-- log_SalesClosePrice: double (nullable = true)\n",
      " |-- percentage_scaled_days: double (nullable = true)\n",
      " |-- scaled_FOUNDATIONSIZE: double (nullable = true)\n",
      " |-- scaled_DAYSONMARKET: double (nullable = true)\n",
      " |-- scaled_FIREPLACES: double (nullable = true)\n",
      " |-- Reflect_YearBuilt: double (nullable = true)\n",
      " |-- adj_yearbuilt: double (nullable = true)\n",
      " |-- Latitude: string (nullable = true)\n",
      " |-- Longitude: string (nullable = true)\n",
      "\n"
     ]
    }
   ],
   "source": [
    "\n",
    "# Create a dictionary with PostalCode as key and latitude and longitude as values\n",
    "postal_code_lat_long = {\n",
    "    55125: ('44.88482', '-92.88453'),\n",
    "    55101: ('44.94669', '-93.09082'),\n",
    "    55114: ('44.97199', '-93.18678'),\n",
    "    55102: ('44.93124', '-93.09261'),\n",
    "    55106: ('44.95407', '-93.04886'),\n",
    "    55042: ('45.05752', '-92.83653'),\n",
    "    55117: ('45.02122', '-93.11411'),\n",
    "    55103: ('44.95934', '-93.12318'),\n",
    "    55108: ('44.98207', '-93.16830'),\n",
    "    55118: ('44.89155', '-93.06442'),\n",
    "    55104: ('44.95127', '-93.18977'),\n",
    "    55105: ('44.93867', '-93.16896'),\n",
    "    55109: ('45.01439', '-92.98510'),\n",
    "    55116: ('44.91203', '-93.17243'),\n",
    "    55129: ('44.86122', '-92.90367'),\n",
    "    55107: ('44.95587', '-93.10288'),\n",
    "    55128: ('44.92611', '-92.99849'),\n",
    "    55119: ('44.95898', '-93.01125'),\n",
    "    55130: ('44.95886', '-92.98013'),\n",
    "    55113: ('45.00603', '-93.14384')\n",
    "}\n",
    "# Convert dictionary to DataFrame\n",
    "lat_long_df = spark.createDataFrame(\n",
    "    [(int(k), v[0], v[1]) for k, v in postal_code_lat_long.items()],\n",
    "    ['PostalCode', 'Latitude', 'Longitude']\n",
    ")\n",
    "\n",
    "# Join the two DataFrames on PostalCode column\n",
    "df = df.join(lat_long_df, ['PostalCode'])\n",
    "df.printSchema()"
   ]
  },
  {
   "cell_type": "code",
   "execution_count": 32,
   "metadata": {},
   "outputs": [
    {
     "name": "stdout",
     "output_type": "stream",
     "text": [
      "+----------+--------+---------+\n",
      "|PostalCode|Latitude|Longitude|\n",
      "+----------+--------+---------+\n",
      "|55125     |44.88482|-92.88453|\n",
      "|55125     |44.88482|-92.88453|\n",
      "|55125     |44.88482|-92.88453|\n",
      "|55125     |44.88482|-92.88453|\n",
      "|55125     |44.88482|-92.88453|\n",
      "+----------+--------+---------+\n",
      "only showing top 5 rows\n",
      "\n"
     ]
    }
   ],
   "source": [
    "df.select('PostalCode', 'Latitude', 'Longitude').show(5,0)"
   ]
  },
  {
   "cell_type": "code",
   "execution_count": 33,
   "metadata": {},
   "outputs": [],
   "source": [
    "df = df.withColumn('Latitude', df['Latitude'].cast('double'))\\\n",
    "    .withColumn('Longitude', df['Longitude'].cast('double'))"
   ]
  },
  {
   "cell_type": "code",
   "execution_count": 34,
   "metadata": {},
   "outputs": [],
   "source": [
    "df_after_postal = df"
   ]
  },
  {
   "cell_type": "code",
   "execution_count": 35,
   "metadata": {},
   "outputs": [
    {
     "name": "stdout",
     "output_type": "stream",
     "text": [
      "+--------+---------+---------+---------+------------+\n",
      "|latitude|longitude|walkscore|bikescore|transitscore|\n",
      "+--------+---------+---------+---------+------------+\n",
      "|44.88482|-92.88453|69       |26       |68          |\n",
      "|44.94669|-93.09082|2        |58       |53          |\n",
      "|44.97199|-93.18678|27       |79       |73          |\n",
      "|44.93124|-93.09261|35       |81       |8           |\n",
      "|44.95407|-93.04886|87       |35       |9           |\n",
      "+--------+---------+---------+---------+------------+\n",
      "only showing top 5 rows\n",
      "\n",
      "root\n",
      " |-- latitude: double (nullable = true)\n",
      " |-- longitude: double (nullable = true)\n",
      " |-- walkscore: integer (nullable = true)\n",
      " |-- bikescore: integer (nullable = true)\n",
      " |-- transitscore: integer (nullable = true)\n",
      "\n"
     ]
    },
    {
     "data": {
      "text/plain": [
       "20"
      ]
     },
     "execution_count": 35,
     "metadata": {},
     "output_type": "execute_result"
    }
   ],
   "source": [
    "walk_df = spark.read.csv('./tmp_walk_m_20.csv', header=True, inferSchema=True)\n",
    "walk_df.show(5,0)\n",
    "walk_df.printSchema()\n",
    "walk_df.dropDuplicates().count()"
   ]
  },
  {
   "cell_type": "code",
   "execution_count": 36,
   "metadata": {},
   "outputs": [],
   "source": [
    "df_before_walk = df"
   ]
  },
  {
   "cell_type": "code",
   "execution_count": 37,
   "metadata": {},
   "outputs": [
    {
     "name": "stdout",
     "output_type": "stream",
     "text": [
      "root\n",
      " |-- PostalCode: string (nullable = true)\n",
      " |-- NO: integer (nullable = true)\n",
      " |-- MLSID: string (nullable = true)\n",
      " |-- StreetNumberNumeric: string (nullable = true)\n",
      " |-- streetaddress: string (nullable = true)\n",
      " |-- STREETNAME: string (nullable = true)\n",
      " |-- StateOrProvince: string (nullable = true)\n",
      " |-- City: string (nullable = true)\n",
      " |-- SALESCLOSEPRICE: double (nullable = true)\n",
      " |-- LISTDATE: string (nullable = true)\n",
      " |-- LISTPRICE: string (nullable = true)\n",
      " |-- LISTTYPE: string (nullable = true)\n",
      " |-- OriginalListPrice: string (nullable = true)\n",
      " |-- PricePerTSFT: string (nullable = true)\n",
      " |-- FOUNDATIONSIZE: double (nullable = true)\n",
      " |-- FENCE: string (nullable = true)\n",
      " |-- MapLetter: string (nullable = true)\n",
      " |-- LotSizeDimensions: string (nullable = true)\n",
      " |-- SchoolDistrictNumber: string (nullable = true)\n",
      " |-- DAYSONMARKET: double (nullable = true)\n",
      " |-- offmarketdate: string (nullable = true)\n",
      " |-- FIREPLACES: double (nullable = true)\n",
      " |-- RoomArea4: string (nullable = true)\n",
      " |-- roomtype: string (nullable = true)\n",
      " |-- ROOF: string (nullable = true)\n",
      " |-- RoomFloor4: string (nullable = true)\n",
      " |-- PotentialShortSale: string (nullable = true)\n",
      " |-- PoolDescription: string (nullable = true)\n",
      " |-- PDOM: double (nullable = true)\n",
      " |-- GarageDescription: string (nullable = true)\n",
      " |-- SQFTABOVEGROUND: double (nullable = true)\n",
      " |-- TAXES: double (nullable = true)\n",
      " |-- RoomFloor1: string (nullable = true)\n",
      " |-- RoomArea1: string (nullable = true)\n",
      " |-- TAXWITHASSESSMENTS: double (nullable = true)\n",
      " |-- TAXYEAR: double (nullable = true)\n",
      " |-- LIVINGAREA: double (nullable = true)\n",
      " |-- UNITNUMBER: string (nullable = true)\n",
      " |-- YEARBUILT: double (nullable = true)\n",
      " |-- ZONING: string (nullable = true)\n",
      " |-- STYLE: string (nullable = true)\n",
      " |-- ACRES: double (nullable = true)\n",
      " |-- CoolingDescription: string (nullable = true)\n",
      " |-- APPLIANCES: string (nullable = true)\n",
      " |-- BACKONMARKETDATE: double (nullable = true)\n",
      " |-- ROOMFAMILYCHAR: string (nullable = true)\n",
      " |-- RoomArea3: string (nullable = true)\n",
      " |-- EXTERIOR: string (nullable = true)\n",
      " |-- RoomFloor3: string (nullable = true)\n",
      " |-- RoomFloor2: string (nullable = true)\n",
      " |-- RoomArea2: string (nullable = true)\n",
      " |-- DiningRoomDescription: string (nullable = true)\n",
      " |-- BASEMENT: string (nullable = true)\n",
      " |-- BATHSFULL: double (nullable = true)\n",
      " |-- BATHSHALF: double (nullable = true)\n",
      " |-- BATHQUARTER: double (nullable = true)\n",
      " |-- BATHSTHREEQUARTER: double (nullable = true)\n",
      " |-- Class: string (nullable = true)\n",
      " |-- BATHSTOTAL: double (nullable = true)\n",
      " |-- BATHDESC: string (nullable = true)\n",
      " |-- RoomArea5: string (nullable = true)\n",
      " |-- RoomFloor5: string (nullable = true)\n",
      " |-- RoomArea6: string (nullable = true)\n",
      " |-- RoomFloor6: string (nullable = true)\n",
      " |-- RoomArea7: string (nullable = true)\n",
      " |-- RoomFloor7: string (nullable = true)\n",
      " |-- RoomArea8: string (nullable = true)\n",
      " |-- RoomFloor8: string (nullable = true)\n",
      " |-- BEDROOMS: double (nullable = true)\n",
      " |-- SQFTBELOWGROUND: double (nullable = true)\n",
      " |-- AssumableMortgage: string (nullable = true)\n",
      " |-- ASSOCIATIONFEE: double (nullable = true)\n",
      " |-- ASSESSMENTPENDING: string (nullable = true)\n",
      " |-- ASSESSEDVALUATION: double (nullable = true)\n",
      " |-- log_SalesClosePrice: double (nullable = true)\n",
      " |-- percentage_scaled_days: double (nullable = true)\n",
      " |-- scaled_FOUNDATIONSIZE: double (nullable = true)\n",
      " |-- scaled_DAYSONMARKET: double (nullable = true)\n",
      " |-- scaled_FIREPLACES: double (nullable = true)\n",
      " |-- Reflect_YearBuilt: double (nullable = true)\n",
      " |-- adj_yearbuilt: double (nullable = true)\n",
      " |-- latitude: double (nullable = true)\n",
      " |-- longitude: double (nullable = true)\n",
      " |-- walkscore: integer (nullable = true)\n",
      " |-- bikescore: integer (nullable = true)\n",
      " |-- transitscore: integer (nullable = true)\n",
      " |-- longitude_walk: double (nullable = true)\n",
      " |-- latitude_walk: double (nullable = true)\n",
      "\n"
     ]
    }
   ],
   "source": [
    "# Cast data types\n",
    "walk_df = walk_df\\\n",
    "    .withColumn('longitude_walk', walk_df['longitude'].cast('double'))\\\n",
    "    .withColumn('latitude_walk', walk_df['latitude'].cast('double'))\\\n",
    "    .drop('longitude', 'latitude')\n",
    "\n",
    "# Round precision\n",
    "df = df.withColumn('latitude', F.round('latitude', 5))\n",
    "df = df.withColumn('longitude', F.round('longitude', 5))\n",
    "\n",
    "# Create join condition\n",
    "condition = [\n",
    "    walk_df['latitude_walk'] == df['latitude'],\n",
    "    walk_df['longitude_walk'] == df['longitude']\n",
    "]\n",
    "\n",
    "# Join the dataframes together\n",
    "join_df = df.join(walk_df, on=condition, how='left')\n",
    "join_df.drop('longitude_walk', 'latitude_walk')\n",
    "# Count non-null records from new field\n",
    "# print(join_df.where(~join_df['walkscore'].isNull()).count()) # 4946\n",
    "join_df.printSchema()"
   ]
  },
  {
   "cell_type": "code",
   "execution_count": 38,
   "metadata": {},
   "outputs": [
    {
     "name": "stdout",
     "output_type": "stream",
     "text": [
      "+----------+----+-----+-------------------+-------------------+-----------+---------------+-------------+---------------+--------------+---------+---------------+-----------------+------------+--------------+-------+---------+-----------------+-----------------------------+------------+--------------+----------+---------+-------------------------------------------------------------------------------------------------------------------------------------------------------------------------------------------------------------------------+-------------------------------------------+----------+------------------+---------------+----+--------------------------------------------------------------------------+---------------+-------+----------+---------+------------------+-------+----------+----------+---------+------------------+----------------+-----+------------------+-----------------------------------------------------------------------------------------------------------------------------------------------------------------------+----------------+-----------------------------------------------------------------------------------------------------------------+---------+-------------------------+----------+----------+---------+---------------------------------------------------------------------------------+----------------------------------------------------------------------------------------------+---------+---------+-----------+-----------------+-----+----------+---------------------------------------------------------------------------------------------------------------------------------------------+---------+----------+---------+----------+---------+----------+---------+----------+--------+---------------+-----------------+--------------+-----------------+-----------------+-------------------+----------------------+---------------------+-------------------+-------------------+-----------------+-------------------+--------+---------+---------+---------+------------+\n",
      "|PostalCode|NO  |MLSID|StreetNumberNumeric|streetaddress      |STREETNAME |StateOrProvince|City         |SALESCLOSEPRICE|LISTDATE      |LISTPRICE|LISTTYPE       |OriginalListPrice|PricePerTSFT|FOUNDATIONSIZE|FENCE  |MapLetter|LotSizeDimensions|SchoolDistrictNumber         |DAYSONMARKET|offmarketdate |FIREPLACES|RoomArea4|roomtype                                                                                                                                                                                                                 |ROOF                                       |RoomFloor4|PotentialShortSale|PoolDescription|PDOM|GarageDescription                                                         |SQFTABOVEGROUND|TAXES  |RoomFloor1|RoomArea1|TAXWITHASSESSMENTS|TAXYEAR|LIVINGAREA|UNITNUMBER|YEARBUILT|ZONING            |STYLE           |ACRES|CoolingDescription|APPLIANCES                                                                                                                                                             |BACKONMARKETDATE|ROOMFAMILYCHAR                                                                                                   |RoomArea3|EXTERIOR                 |RoomFloor3|RoomFloor2|RoomArea2|DiningRoomDescription                                                            |BASEMENT                                                                                      |BATHSFULL|BATHSHALF|BATHQUARTER|BATHSTHREEQUARTER|Class|BATHSTOTAL|BATHDESC                                                                                                                                     |RoomArea5|RoomFloor5|RoomArea6|RoomFloor6|RoomArea7|RoomFloor7|RoomArea8|RoomFloor8|BEDROOMS|SQFTBELOWGROUND|AssumableMortgage|ASSOCIATIONFEE|ASSESSMENTPENDING|ASSESSEDVALUATION|log_SalesClosePrice|percentage_scaled_days|scaled_FOUNDATIONSIZE|scaled_DAYSONMARKET|scaled_FIREPLACES  |Reflect_YearBuilt|adj_yearbuilt      |latitude|longitude|walkscore|bikescore|transitscore|\n",
      "+----------+----+-----+-------------------+-------------------+-----------+---------------+-------------+---------------+--------------+---------+---------------+-----------------+------------+--------------+-------+---------+-----------------+-----------------------------+------------+--------------+----------+---------+-------------------------------------------------------------------------------------------------------------------------------------------------------------------------------------------------------------------------+-------------------------------------------+----------+------------------+---------------+----+--------------------------------------------------------------------------+---------------+-------+----------+---------+------------------+-------+----------+----------+---------+------------------+----------------+-----+------------------+-----------------------------------------------------------------------------------------------------------------------------------------------------------------------+----------------+-----------------------------------------------------------------------------------------------------------------+---------+-------------------------+----------+----------+---------+---------------------------------------------------------------------------------+----------------------------------------------------------------------------------------------+---------+---------+-----------+-----------------+-----+----------+---------------------------------------------------------------------------------------------------------------------------------------------+---------+----------+---------+----------+---------+----------+---------+----------+--------+---------------+-----------------+--------------+-----------------+-----------------+-------------------+----------------------+---------------------+-------------------+-------------------+-----------------+-------------------+--------+---------+---------+---------+------------+\n",
      "|55125     |4992|RMLS |3507               |3507 Crestmoor Pt  |Crestmoor  |MN             |WB - Woodbury|770000.0       |5/3/2017 0:00 |775000   |Exclusive Right|775000           |220.6936    |2549.0        |None   |A3       |0                |833 - South Washington County|16.0        |5/19/2017 0:00|1.0       |18x12    |Living Room, Dining Room, Family Room, Kitchen, First (1st) Bedroom, Second (2nd) Bedroom, Third (3rd) Bedroom, Fourth (4th) Bedroom, Office, Sun Room                                                                   |Asphalt Shingles, Age 8 Years or Less      |Main      |No                |None           |16.0|Attached Garage, Insulated Garage, Driveway - Concrete, Garage Door Opener|3489.0         |10776.0|NULL      |NULL     |10776.0           |2016.0 |3489.0    |NULL      |2000.0   |Residential-Single|(SF) Two Stories|0.82 |Central           |Cooktop, Wall Oven, Microwave, Dishwasher, Trash Compactor, Refrigerator, Washer, Dryer, Water Softener - Owned, Disposal, Central Vacuum, Air-To-Air Exchanger        |NULL            |Main Level, 2 Story/High/Vaulted Ceilings, Great Room                                                            |22x19    |Brick/Stone, Cement Board|Main      |Main      |16x13    |Separate/Formal Dining Room, Eat In Kitchen                                      |Walkout, Full, Sump Pump                                                                      |3.0      |1.0      |0.0        |0.0              |SF   |4.0       |Main Floor Full Bath, Main Floor 1/2 Bath, Upper Level Full Bath , Private Master, Full Master, Bathroom Ensuite                             |16x19    |Main      |14x13    |Upper     |14x13    |Upper     |16x13    |Upper     |4.0     |0.0            |NULL             |440.0         |No               |0.0              |13.554145793829866 |0.0                   |0.6721181746241097   |0.07111111111111111|0.14285714285714285|19.0             |0.3396232718951086 |44.88482|-92.88453|69       |26       |68          |\n",
      "|55125     |4989|RMLS |3503               |3503 Crestmoor Pt  |Crestmoor  |MN             |WB - Woodbury|750000.0       |3/28/2017 0:00|750000   |Exclusive Right|750000           |148.4854    |1801.0        |NULL   |A3       |76x201x32x227x244|833 - South Washington County|16.0        |4/13/2017 0:00|2.0       |15x15    |Living Room, Dining Room, Family Room, Kitchen, First (1st) Bedroom, Second (2nd) Bedroom, Third (3rd) Bedroom, Fourth (4th) Bedroom, Fifth (5th) Bedroom, Exercise Room, Billiard Room, Amusement Room, Office, Sun Room|Asphalt Shingles                           |Main      |No                |NULL           |16.0|Attached Garage, Driveway - Concrete, Garage Door Opener                  |3292.0         |10634.0|NULL      |NULL     |10634.0           |2016.0 |5051.0    |NULL      |1998.0   |Residential-Single|(SF) Two Stories|0.74 |Central           |Cooktop, Wall Oven, Microwave, Exhaust Fan/Hood, Dishwasher, Refrigerator, Washer, Dryer, Water Softener - Owned, Disposal, Air-To-Air Exchanger                       |NULL            |Main Level, Lower Level, 2 or More, Family Room, Entertainment/Media Center                                      |21x14    |Brick/Stone, Cement Board|Main      |Main      |13x12    |Separate/Formal Dining Room, Informal Dining Room                                |Walkout, Full, Finished (Livable), Drain Tiled, Drainage System, Day/Lookout Windows          |3.0      |1.0      |0.0        |1.0              |SF   |5.0       |Main Floor 1/2 Bath, Private Master, Full Master, Jack and Jill, 3/4 Basement, Separate Tub & Shower, Whirlpool                              |16x14    |Upper     |13x12    |Upper     |13x12    |Upper     |16x14    |Upper     |5.0     |1759.0         |NULL             |440.0         |Unknown          |0.0              |13.527828485512494 |0.0                   |0.47480875758375096  |0.07111111111111111|0.2857142857142857 |21.0             |0.3284587387530511 |44.88482|-92.88453|69       |26       |68          |\n",
      "|55125     |4979|RMLS |8905               |8905 Springwood Dr |Springwood |MN             |WB - Woodbury|675000.0       |9/24/2017 0:00|699900   |Exclusive Right|699900           |154.8165    |1562.0        |Partial|E3       |89x157           |833 - South Washington County|9.0         |10/3/2017 0:00|2.0       |14x14    |Living Room, Dining Room, Family Room, Kitchen, First (1st) Bedroom, Second (2nd) Bedroom, Third (3rd) Bedroom, Fourth (4th) Bedroom, Fifth (5th) Bedroom, Deck, Patio, Exercise Room, Family Room                       |Asphalt Shingles                           |Main      |No                |Below Ground   |9.0 |Attached Garage, Driveway - Concrete, Garage Door Opener                  |3024.0         |8544.0 |NULL      |NULL     |8544.0            |2017.0 |4360.0    |NULL      |1999.0   |Residential-Single|(SF) Two Stories|0.388|Central           |Range, Microwave, Dishwasher, Refrigerator                                                                                                                             |NULL            |NULL                                                                                                             |16x16    |Cement Board             |Main      |Main      |12x11    |Separate/Formal Dining Room, Eat In Kitchen                                      |Walkout, Full, Finished (Livable), Egress Windows                                             |2.0      |1.0      |0.0        |1.0              |SF   |4.0       |Main Floor 1/2 Bath, Upper Level Full Bath , Full Master, 3/4 Basement                                                                       |17x14    |Upper     |12x12    |Upper     |12x12    |Upper     |12x11    |Upper     |5.0     |1336.0         |NULL             |450.0         |No               |0.0              |13.422467969854667 |0.0                   |0.4117647058823529   |0.04               |0.2857142857142857 |20.0             |0.33380820069533407|44.88482|-92.88453|69       |26       |68          |\n",
      "|55125     |4974|RMLS |8112               |8112 Marsh Creek Rd|Marsh Creek|MN             |WB - Woodbury|640000.0       |8/3/2017 0:00 |675000   |Exclusive Right|675000           |152.8176    |1908.0        |None   |E3       |151x182x55x182   |833 - South Washington County|48.0        |9/20/2017 0:00|2.0       |16x9.5   |Living Room, Dining Room, Family Room, Kitchen, First (1st) Bedroom, Second (2nd) Bedroom, Third (3rd) Bedroom, Fourth (4th) Bedroom, Informal Dining Room, Den, Loft, Laundry, Deck, Patio                              |Asphalt Shingles, Pitched, Age Over 8 Years|Main      |No                |None           |48.0|Attached Garage, Driveway - Concrete, Garage Door Opener                  |2612.0         |8683.0 |Main      |20x27    |8772.0            |2017.0 |4188.0    |NULL      |1995.0   |Residential-Single|(SF) Two Stories|0.43 |Central           |Cooktop, Wall Oven, Microwave, Exhaust Fan/Hood, Dishwasher, Refrigerator, Freezer, Washer, Dryer, Water Softener - Owned, Disposal, Central Vacuum, Furnace Humidifier|NULL            |Main Level, Lower Level, 2 Story/High/Vaulted Ceilings, Great Room, Family Room, Loft, Entertainment/Media Center|27x17    |Shakes                   |Lower     |Main      |17x9     |Separate/Formal Dining Room, Informal Dining Room, Eat In Kitchen, Breakfast Area|Walkout, Full, Finished (Livable), Drain Tiled, Sump Pump, Day/Lookout Windows, Concrete Block|2.0      |1.0      |0.0        |1.0              |SF   |4.0       |Main Floor Full Bath, Main Floor 1/2 Bath, Upper Level 3/4 Bath, Private Master, Full Master, Full Basement, Separate Tub & Shower, Whirlpool|17.5x14  |Main      |15x13    |Upper     |15.5x12  |Upper     |17x14    |Lower     |4.0     |1576.0         |Not Assumable    |275.0         |Unknown          |89.0             |13.369223455335854 |0.0                   |0.503033500395674    |0.21333333333333335|0.2857142857142857 |24.0             |0.31465798044412485|44.88482|-92.88453|69       |26       |68          |\n",
      "|55125     |4970|RMLS |9442               |9442 Wedgewood Dr  |Wedgewood  |MN             |WB - Woodbury|640000.0       |3/9/2017 0:00 |640000   |Exclusive Right|640000           |139.5552    |1748.0        |None   |A3       |Irregular        |833 - South Washington County|49.0        |4/27/2017 0:00|3.0       |11x14    |Living Room, Dining Room, Family Room, Kitchen, First (1st) Bedroom, Second (2nd) Bedroom, Third (3rd) Bedroom, Fourth (4th) Bedroom, Sun Room, Deck, Deck, Amusement Room, Garage                                       |Asphalt Shingles, Age 8 Years or Less      |Main      |No                |None           |49.0|Attached Garage, Insulated Garage, Driveway - Concrete, Garage Door Opener|3036.0         |8882.0 |Main      |16x14    |8882.0            |2016.0 |4586.0    |NULL      |1991.0   |Residential-Single|(SF) Two Stories|0.528|Central           |Range, Microwave, Dishwasher, Refrigerator, Washer, Dryer, Water Softener - Owned, Disposal, Furnace Humidifier                                                        |NULL            |Main Level, Family Room                                                                                          |21x15    |Brick/Stone, Cement Board|Main      |Main      |15x14    |Separate/Formal Dining Room, Informal Dining Room                                |Walkout, Full, Finished (Livable), Drain Tiled, Sump Pump                                     |2.0      |1.0      |0.0        |1.0              |SF   |4.0       |Main Floor 1/2 Bath, Upper Level Full Bath , Private Master, Full Master, 3/4 Basement                                                       |14x17    |Upper     |13x12    |Upper     |13x12    |Upper     |16x12    |Upper     |4.0     |1550.0         |NULL             |330.0         |No               |0.0              |13.369223455335854 |0.0                   |0.4608282774993405   |0.21777777777777776|0.42857142857142855|28.0             |0.3001016285004131 |44.88482|-92.88453|69       |26       |68          |\n",
      "+----------+----+-----+-------------------+-------------------+-----------+---------------+-------------+---------------+--------------+---------+---------------+-----------------+------------+--------------+-------+---------+-----------------+-----------------------------+------------+--------------+----------+---------+-------------------------------------------------------------------------------------------------------------------------------------------------------------------------------------------------------------------------+-------------------------------------------+----------+------------------+---------------+----+--------------------------------------------------------------------------+---------------+-------+----------+---------+------------------+-------+----------+----------+---------+------------------+----------------+-----+------------------+-----------------------------------------------------------------------------------------------------------------------------------------------------------------------+----------------+-----------------------------------------------------------------------------------------------------------------+---------+-------------------------+----------+----------+---------+---------------------------------------------------------------------------------+----------------------------------------------------------------------------------------------+---------+---------+-----------+-----------------+-----+----------+---------------------------------------------------------------------------------------------------------------------------------------------+---------+----------+---------+----------+---------+----------+---------+----------+--------+---------------+-----------------+--------------+-----------------+-----------------+-------------------+----------------------+---------------------+-------------------+-------------------+-----------------+-------------------+--------+---------+---------+---------+------------+\n",
      "only showing top 5 rows\n",
      "\n"
     ]
    },
    {
     "data": {
      "text/plain": [
       "4946"
      ]
     },
     "execution_count": 38,
     "metadata": {},
     "output_type": "execute_result"
    }
   ],
   "source": [
    "join_df = join_df.drop('longitude_walk', 'latitude_walk')\n",
    "join_df.show(5,0)\n",
    "join_df.count()"
   ]
  },
  {
   "cell_type": "code",
   "execution_count": 39,
   "metadata": {},
   "outputs": [],
   "source": [
    "df_after_walk = df"
   ]
  },
  {
   "cell_type": "code",
   "execution_count": 40,
   "metadata": {},
   "outputs": [
    {
     "name": "stdout",
     "output_type": "stream",
     "text": [
      "+----------+----+-----+-------------------+-------------------+-----------+---------------+-------------+---------------+--------------+---------+---------------+-----------------+------------+--------------+-------+---------+-----------------+-----------------------------+------------+--------------+----------+---------+-------------------------------------------------------------------------------------------------------------------------------------------------------------------------------------------------------------------------+-------------------------------------------+----------+------------------+---------------+----+--------------------------------------------------------------------------+---------------+-------+----------+---------+------------------+-------+----------+----------+---------+------------------+----------------+-----+------------------+-----------------------------------------------------------------------------------------------------------------------------------------------------------------------+----------------+-----------------------------------------------------------------------------------------------------------------+---------+-------------------------+----------+----------+---------+---------------------------------------------------------------------------------+----------------------------------------------------------------------------------------------+---------+---------+-----------+-----------------+-----+----------+---------------------------------------------------------------------------------------------------------------------------------------------+---------+----------+---------+----------+---------+----------+---------+----------+--------+---------------+-----------------+--------------+-----------------+-----------------+-------------------+----------------------+---------------------+-------------------+-------------------+-----------------+-------------------+--------+---------+---------+---------+------------+\n",
      "|PostalCode|NO  |MLSID|StreetNumberNumeric|streetaddress      |STREETNAME |StateOrProvince|City         |SALESCLOSEPRICE|LISTDATE      |LISTPRICE|LISTTYPE       |OriginalListPrice|PricePerTSFT|FOUNDATIONSIZE|FENCE  |MapLetter|LotSizeDimensions|SchoolDistrictNumber         |DAYSONMARKET|offmarketdate |FIREPLACES|RoomArea4|roomtype                                                                                                                                                                                                                 |ROOF                                       |RoomFloor4|PotentialShortSale|PoolDescription|PDOM|GarageDescription                                                         |SQFTABOVEGROUND|TAXES  |RoomFloor1|RoomArea1|TAXWITHASSESSMENTS|TAXYEAR|LIVINGAREA|UNITNUMBER|YEARBUILT|ZONING            |STYLE           |ACRES|CoolingDescription|APPLIANCES                                                                                                                                                             |BACKONMARKETDATE|ROOMFAMILYCHAR                                                                                                   |RoomArea3|EXTERIOR                 |RoomFloor3|RoomFloor2|RoomArea2|DiningRoomDescription                                                            |BASEMENT                                                                                      |BATHSFULL|BATHSHALF|BATHQUARTER|BATHSTHREEQUARTER|Class|BATHSTOTAL|BATHDESC                                                                                                                                     |RoomArea5|RoomFloor5|RoomArea6|RoomFloor6|RoomArea7|RoomFloor7|RoomArea8|RoomFloor8|BEDROOMS|SQFTBELOWGROUND|AssumableMortgage|ASSOCIATIONFEE|ASSESSMENTPENDING|ASSESSEDVALUATION|log_SalesClosePrice|percentage_scaled_days|scaled_FOUNDATIONSIZE|scaled_DAYSONMARKET|scaled_FIREPLACES  |Reflect_YearBuilt|adj_yearbuilt      |latitude|longitude|walkscore|bikescore|transitscore|\n",
      "+----------+----+-----+-------------------+-------------------+-----------+---------------+-------------+---------------+--------------+---------+---------------+-----------------+------------+--------------+-------+---------+-----------------+-----------------------------+------------+--------------+----------+---------+-------------------------------------------------------------------------------------------------------------------------------------------------------------------------------------------------------------------------+-------------------------------------------+----------+------------------+---------------+----+--------------------------------------------------------------------------+---------------+-------+----------+---------+------------------+-------+----------+----------+---------+------------------+----------------+-----+------------------+-----------------------------------------------------------------------------------------------------------------------------------------------------------------------+----------------+-----------------------------------------------------------------------------------------------------------------+---------+-------------------------+----------+----------+---------+---------------------------------------------------------------------------------+----------------------------------------------------------------------------------------------+---------+---------+-----------+-----------------+-----+----------+---------------------------------------------------------------------------------------------------------------------------------------------+---------+----------+---------+----------+---------+----------+---------+----------+--------+---------------+-----------------+--------------+-----------------+-----------------+-------------------+----------------------+---------------------+-------------------+-------------------+-----------------+-------------------+--------+---------+---------+---------+------------+\n",
      "|55125     |4992|RMLS |3507               |3507 Crestmoor Pt  |Crestmoor  |MN             |WB - Woodbury|770000.0       |5/3/2017 0:00 |775000   |Exclusive Right|775000           |220.6936    |2549.0        |None   |A3       |0                |833 - South Washington County|16.0        |5/19/2017 0:00|1.0       |18x12    |Living Room, Dining Room, Family Room, Kitchen, First (1st) Bedroom, Second (2nd) Bedroom, Third (3rd) Bedroom, Fourth (4th) Bedroom, Office, Sun Room                                                                   |Asphalt Shingles, Age 8 Years or Less      |Main      |No                |None           |16.0|Attached Garage, Insulated Garage, Driveway - Concrete, Garage Door Opener|3489.0         |10776.0|NULL      |NULL     |10776.0           |2016.0 |3489.0    |NULL      |2000.0   |Residential-Single|(SF) Two Stories|0.82 |Central           |Cooktop, Wall Oven, Microwave, Dishwasher, Trash Compactor, Refrigerator, Washer, Dryer, Water Softener - Owned, Disposal, Central Vacuum, Air-To-Air Exchanger        |NULL            |Main Level, 2 Story/High/Vaulted Ceilings, Great Room                                                            |22x19    |Brick/Stone, Cement Board|Main      |Main      |16x13    |Separate/Formal Dining Room, Eat In Kitchen                                      |Walkout, Full, Sump Pump                                                                      |3.0      |1.0      |0.0        |0.0              |SF   |4.0       |Main Floor Full Bath, Main Floor 1/2 Bath, Upper Level Full Bath , Private Master, Full Master, Bathroom Ensuite                             |16x19    |Main      |14x13    |Upper     |14x13    |Upper     |16x13    |Upper     |4.0     |0.0            |NULL             |440.0         |No               |0.0              |13.554145793829866 |0.0                   |0.6721181746241097   |0.07111111111111111|0.14285714285714285|19.0             |0.3396232718951086 |44.88482|-92.88453|69       |26       |68          |\n",
      "|55125     |4989|RMLS |3503               |3503 Crestmoor Pt  |Crestmoor  |MN             |WB - Woodbury|750000.0       |3/28/2017 0:00|750000   |Exclusive Right|750000           |148.4854    |1801.0        |NULL   |A3       |76x201x32x227x244|833 - South Washington County|16.0        |4/13/2017 0:00|2.0       |15x15    |Living Room, Dining Room, Family Room, Kitchen, First (1st) Bedroom, Second (2nd) Bedroom, Third (3rd) Bedroom, Fourth (4th) Bedroom, Fifth (5th) Bedroom, Exercise Room, Billiard Room, Amusement Room, Office, Sun Room|Asphalt Shingles                           |Main      |No                |NULL           |16.0|Attached Garage, Driveway - Concrete, Garage Door Opener                  |3292.0         |10634.0|NULL      |NULL     |10634.0           |2016.0 |5051.0    |NULL      |1998.0   |Residential-Single|(SF) Two Stories|0.74 |Central           |Cooktop, Wall Oven, Microwave, Exhaust Fan/Hood, Dishwasher, Refrigerator, Washer, Dryer, Water Softener - Owned, Disposal, Air-To-Air Exchanger                       |NULL            |Main Level, Lower Level, 2 or More, Family Room, Entertainment/Media Center                                      |21x14    |Brick/Stone, Cement Board|Main      |Main      |13x12    |Separate/Formal Dining Room, Informal Dining Room                                |Walkout, Full, Finished (Livable), Drain Tiled, Drainage System, Day/Lookout Windows          |3.0      |1.0      |0.0        |1.0              |SF   |5.0       |Main Floor 1/2 Bath, Private Master, Full Master, Jack and Jill, 3/4 Basement, Separate Tub & Shower, Whirlpool                              |16x14    |Upper     |13x12    |Upper     |13x12    |Upper     |16x14    |Upper     |5.0     |1759.0         |NULL             |440.0         |Unknown          |0.0              |13.527828485512494 |0.0                   |0.47480875758375096  |0.07111111111111111|0.2857142857142857 |21.0             |0.3284587387530511 |44.88482|-92.88453|69       |26       |68          |\n",
      "|55125     |4979|RMLS |8905               |8905 Springwood Dr |Springwood |MN             |WB - Woodbury|675000.0       |9/24/2017 0:00|699900   |Exclusive Right|699900           |154.8165    |1562.0        |Partial|E3       |89x157           |833 - South Washington County|9.0         |10/3/2017 0:00|2.0       |14x14    |Living Room, Dining Room, Family Room, Kitchen, First (1st) Bedroom, Second (2nd) Bedroom, Third (3rd) Bedroom, Fourth (4th) Bedroom, Fifth (5th) Bedroom, Deck, Patio, Exercise Room, Family Room                       |Asphalt Shingles                           |Main      |No                |Below Ground   |9.0 |Attached Garage, Driveway - Concrete, Garage Door Opener                  |3024.0         |8544.0 |NULL      |NULL     |8544.0            |2017.0 |4360.0    |NULL      |1999.0   |Residential-Single|(SF) Two Stories|0.388|Central           |Range, Microwave, Dishwasher, Refrigerator                                                                                                                             |NULL            |NULL                                                                                                             |16x16    |Cement Board             |Main      |Main      |12x11    |Separate/Formal Dining Room, Eat In Kitchen                                      |Walkout, Full, Finished (Livable), Egress Windows                                             |2.0      |1.0      |0.0        |1.0              |SF   |4.0       |Main Floor 1/2 Bath, Upper Level Full Bath , Full Master, 3/4 Basement                                                                       |17x14    |Upper     |12x12    |Upper     |12x12    |Upper     |12x11    |Upper     |5.0     |1336.0         |NULL             |450.0         |No               |0.0              |13.422467969854667 |0.0                   |0.4117647058823529   |0.04               |0.2857142857142857 |20.0             |0.33380820069533407|44.88482|-92.88453|69       |26       |68          |\n",
      "|55125     |4974|RMLS |8112               |8112 Marsh Creek Rd|Marsh Creek|MN             |WB - Woodbury|640000.0       |8/3/2017 0:00 |675000   |Exclusive Right|675000           |152.8176    |1908.0        |None   |E3       |151x182x55x182   |833 - South Washington County|48.0        |9/20/2017 0:00|2.0       |16x9.5   |Living Room, Dining Room, Family Room, Kitchen, First (1st) Bedroom, Second (2nd) Bedroom, Third (3rd) Bedroom, Fourth (4th) Bedroom, Informal Dining Room, Den, Loft, Laundry, Deck, Patio                              |Asphalt Shingles, Pitched, Age Over 8 Years|Main      |No                |None           |48.0|Attached Garage, Driveway - Concrete, Garage Door Opener                  |2612.0         |8683.0 |Main      |20x27    |8772.0            |2017.0 |4188.0    |NULL      |1995.0   |Residential-Single|(SF) Two Stories|0.43 |Central           |Cooktop, Wall Oven, Microwave, Exhaust Fan/Hood, Dishwasher, Refrigerator, Freezer, Washer, Dryer, Water Softener - Owned, Disposal, Central Vacuum, Furnace Humidifier|NULL            |Main Level, Lower Level, 2 Story/High/Vaulted Ceilings, Great Room, Family Room, Loft, Entertainment/Media Center|27x17    |Shakes                   |Lower     |Main      |17x9     |Separate/Formal Dining Room, Informal Dining Room, Eat In Kitchen, Breakfast Area|Walkout, Full, Finished (Livable), Drain Tiled, Sump Pump, Day/Lookout Windows, Concrete Block|2.0      |1.0      |0.0        |1.0              |SF   |4.0       |Main Floor Full Bath, Main Floor 1/2 Bath, Upper Level 3/4 Bath, Private Master, Full Master, Full Basement, Separate Tub & Shower, Whirlpool|17.5x14  |Main      |15x13    |Upper     |15.5x12  |Upper     |17x14    |Lower     |4.0     |1576.0         |Not Assumable    |275.0         |Unknown          |89.0             |13.369223455335854 |0.0                   |0.503033500395674    |0.21333333333333335|0.2857142857142857 |24.0             |0.31465798044412485|44.88482|-92.88453|69       |26       |68          |\n",
      "|55125     |4970|RMLS |9442               |9442 Wedgewood Dr  |Wedgewood  |MN             |WB - Woodbury|640000.0       |3/9/2017 0:00 |640000   |Exclusive Right|640000           |139.5552    |1748.0        |None   |A3       |Irregular        |833 - South Washington County|49.0        |4/27/2017 0:00|3.0       |11x14    |Living Room, Dining Room, Family Room, Kitchen, First (1st) Bedroom, Second (2nd) Bedroom, Third (3rd) Bedroom, Fourth (4th) Bedroom, Sun Room, Deck, Deck, Amusement Room, Garage                                       |Asphalt Shingles, Age 8 Years or Less      |Main      |No                |None           |49.0|Attached Garage, Insulated Garage, Driveway - Concrete, Garage Door Opener|3036.0         |8882.0 |Main      |16x14    |8882.0            |2016.0 |4586.0    |NULL      |1991.0   |Residential-Single|(SF) Two Stories|0.528|Central           |Range, Microwave, Dishwasher, Refrigerator, Washer, Dryer, Water Softener - Owned, Disposal, Furnace Humidifier                                                        |NULL            |Main Level, Family Room                                                                                          |21x15    |Brick/Stone, Cement Board|Main      |Main      |15x14    |Separate/Formal Dining Room, Informal Dining Room                                |Walkout, Full, Finished (Livable), Drain Tiled, Sump Pump                                     |2.0      |1.0      |0.0        |1.0              |SF   |4.0       |Main Floor 1/2 Bath, Upper Level Full Bath , Private Master, Full Master, 3/4 Basement                                                       |14x17    |Upper     |13x12    |Upper     |13x12    |Upper     |16x12    |Upper     |4.0     |1550.0         |NULL             |330.0         |No               |0.0              |13.369223455335854 |0.0                   |0.4608282774993405   |0.21777777777777776|0.42857142857142855|28.0             |0.3001016285004131 |44.88482|-92.88453|69       |26       |68          |\n",
      "+----------+----+-----+-------------------+-------------------+-----------+---------------+-------------+---------------+--------------+---------+---------------+-----------------+------------+--------------+-------+---------+-----------------+-----------------------------+------------+--------------+----------+---------+-------------------------------------------------------------------------------------------------------------------------------------------------------------------------------------------------------------------------+-------------------------------------------+----------+------------------+---------------+----+--------------------------------------------------------------------------+---------------+-------+----------+---------+------------------+-------+----------+----------+---------+------------------+----------------+-----+------------------+-----------------------------------------------------------------------------------------------------------------------------------------------------------------------+----------------+-----------------------------------------------------------------------------------------------------------------+---------+-------------------------+----------+----------+---------+---------------------------------------------------------------------------------+----------------------------------------------------------------------------------------------+---------+---------+-----------+-----------------+-----+----------+---------------------------------------------------------------------------------------------------------------------------------------------+---------+----------+---------+----------+---------+----------+---------+----------+--------+---------------+-----------------+--------------+-----------------+-----------------+-------------------+----------------------+---------------------+-------------------+-------------------+-----------------+-------------------+--------+---------+---------+---------+------------+\n",
      "only showing top 5 rows\n",
      "\n"
     ]
    },
    {
     "data": {
      "text/plain": [
       "4946"
      ]
     },
     "execution_count": 40,
     "metadata": {},
     "output_type": "execute_result"
    }
   ],
   "source": [
    "# Register dataframes as tables\n",
    "df.createOrReplaceTempView(\"df\")\n",
    "walk_df.createOrReplaceTempView(\"walk_df\")\n",
    "\n",
    "# SQL to join dataframes\n",
    "join_sql = \t\"\"\"\n",
    "\t\t\tSELECT \n",
    "\t\t\t\t*\n",
    "\t\t\tFROM df\n",
    "\t\t\tLEFT JOIN walk_df\n",
    "\t\t\tON df.longitude = walk_df.longitude_walk\n",
    "\t\t\tAND df.latitude = walk_df.latitude_walk\n",
    "\t\t\t\"\"\"\n",
    "# Perform sql join\n",
    "joined_df = spark.sql(join_sql)\n",
    "join_df.show(5,0)\n",
    "join_df.count()"
   ]
  },
  {
   "cell_type": "code",
   "execution_count": 41,
   "metadata": {},
   "outputs": [],
   "source": [
    "df_orig  = join_df"
   ]
  },
  {
   "cell_type": "code",
   "execution_count": 42,
   "metadata": {},
   "outputs": [],
   "source": [
    "correct_join_df = join_df"
   ]
  },
  {
   "cell_type": "code",
   "execution_count": 43,
   "metadata": {},
   "outputs": [
    {
     "name": "stdout",
     "output_type": "stream",
     "text": [
      "root\n",
      " |-- PostalCode: string (nullable = true)\n",
      " |-- NO: integer (nullable = true)\n",
      " |-- MLSID: string (nullable = true)\n",
      " |-- StreetNumberNumeric: string (nullable = true)\n",
      " |-- streetaddress: string (nullable = true)\n",
      " |-- STREETNAME: string (nullable = true)\n",
      " |-- StateOrProvince: string (nullable = true)\n",
      " |-- City: string (nullable = true)\n",
      " |-- SALESCLOSEPRICE: double (nullable = true)\n",
      " |-- LISTDATE: string (nullable = true)\n",
      " |-- LISTPRICE: string (nullable = true)\n",
      " |-- LISTTYPE: string (nullable = true)\n",
      " |-- OriginalListPrice: string (nullable = true)\n",
      " |-- PricePerTSFT: string (nullable = true)\n",
      " |-- FOUNDATIONSIZE: double (nullable = true)\n",
      " |-- FENCE: string (nullable = true)\n",
      " |-- MapLetter: string (nullable = true)\n",
      " |-- LotSizeDimensions: string (nullable = true)\n",
      " |-- SchoolDistrictNumber: string (nullable = true)\n",
      " |-- DAYSONMARKET: double (nullable = true)\n",
      " |-- offmarketdate: string (nullable = true)\n",
      " |-- FIREPLACES: double (nullable = true)\n",
      " |-- RoomArea4: string (nullable = true)\n",
      " |-- roomtype: string (nullable = true)\n",
      " |-- ROOF: string (nullable = true)\n",
      " |-- RoomFloor4: string (nullable = true)\n",
      " |-- PotentialShortSale: string (nullable = true)\n",
      " |-- PoolDescription: string (nullable = true)\n",
      " |-- PDOM: double (nullable = true)\n",
      " |-- GarageDescription: string (nullable = true)\n",
      " |-- SQFTABOVEGROUND: double (nullable = true)\n",
      " |-- TAXES: double (nullable = true)\n",
      " |-- RoomFloor1: string (nullable = true)\n",
      " |-- RoomArea1: string (nullable = true)\n",
      " |-- TAXWITHASSESSMENTS: double (nullable = true)\n",
      " |-- TAXYEAR: double (nullable = true)\n",
      " |-- LIVINGAREA: double (nullable = true)\n",
      " |-- UNITNUMBER: string (nullable = true)\n",
      " |-- YEARBUILT: double (nullable = true)\n",
      " |-- ZONING: string (nullable = true)\n",
      " |-- STYLE: string (nullable = true)\n",
      " |-- ACRES: double (nullable = true)\n",
      " |-- CoolingDescription: string (nullable = true)\n",
      " |-- APPLIANCES: string (nullable = true)\n",
      " |-- BACKONMARKETDATE: double (nullable = true)\n",
      " |-- ROOMFAMILYCHAR: string (nullable = true)\n",
      " |-- RoomArea3: string (nullable = true)\n",
      " |-- EXTERIOR: string (nullable = true)\n",
      " |-- RoomFloor3: string (nullable = true)\n",
      " |-- RoomFloor2: string (nullable = true)\n",
      " |-- RoomArea2: string (nullable = true)\n",
      " |-- DiningRoomDescription: string (nullable = true)\n",
      " |-- BASEMENT: string (nullable = true)\n",
      " |-- BATHSFULL: double (nullable = true)\n",
      " |-- BATHSHALF: double (nullable = true)\n",
      " |-- BATHQUARTER: double (nullable = true)\n",
      " |-- BATHSTHREEQUARTER: double (nullable = true)\n",
      " |-- Class: string (nullable = true)\n",
      " |-- BATHSTOTAL: double (nullable = true)\n",
      " |-- BATHDESC: string (nullable = true)\n",
      " |-- RoomArea5: string (nullable = true)\n",
      " |-- RoomFloor5: string (nullable = true)\n",
      " |-- RoomArea6: string (nullable = true)\n",
      " |-- RoomFloor6: string (nullable = true)\n",
      " |-- RoomArea7: string (nullable = true)\n",
      " |-- RoomFloor7: string (nullable = true)\n",
      " |-- RoomArea8: string (nullable = true)\n",
      " |-- RoomFloor8: string (nullable = true)\n",
      " |-- BEDROOMS: double (nullable = true)\n",
      " |-- SQFTBELOWGROUND: double (nullable = true)\n",
      " |-- AssumableMortgage: string (nullable = true)\n",
      " |-- ASSOCIATIONFEE: double (nullable = true)\n",
      " |-- ASSESSMENTPENDING: string (nullable = true)\n",
      " |-- ASSESSEDVALUATION: double (nullable = true)\n",
      " |-- log_SalesClosePrice: double (nullable = true)\n",
      " |-- percentage_scaled_days: double (nullable = true)\n",
      " |-- scaled_FOUNDATIONSIZE: double (nullable = true)\n",
      " |-- scaled_DAYSONMARKET: double (nullable = true)\n",
      " |-- scaled_FIREPLACES: double (nullable = true)\n",
      " |-- Reflect_YearBuilt: double (nullable = true)\n",
      " |-- adj_yearbuilt: double (nullable = true)\n",
      " |-- latitude: double (nullable = true)\n",
      " |-- longitude: double (nullable = true)\n",
      " |-- walkscore: integer (nullable = true)\n",
      " |-- bikescore: integer (nullable = true)\n",
      " |-- transitscore: integer (nullable = true)\n",
      "\n"
     ]
    }
   ],
   "source": [
    "correct_join_df.printSchema ()"
   ]
  },
  {
   "cell_type": "code",
   "execution_count": 44,
   "metadata": {},
   "outputs": [],
   "source": [
    "wrong_prec_df = join_df"
   ]
  },
  {
   "cell_type": "code",
   "execution_count": 45,
   "metadata": {},
   "outputs": [
    {
     "name": "stdout",
     "output_type": "stream",
     "text": [
      "0\n",
      "0\n",
      "Record Count of the Correct Join Example: 4946\n"
     ]
    }
   ],
   "source": [
    "# # Join on mismatched keys precision \n",
    "# wrong_prec_cond = [\n",
    "# \tdf_orig.longitude == walk_df.longitude_walk,\n",
    "# \tdf_orig.latitude == walk_df.latitude_walk\n",
    "# ]\n",
    "# # wrong_prec_df = df_orig.join(walk_df, on=wrong_prec_cond, how='left')\n",
    "# wrong_prec_df = df_orig.join(walk_df, on=wrong_prec_cond, how='left')\n",
    "\n",
    "# Compare bad join to the correct one\n",
    "print(\n",
    "\twrong_prec_df\\\n",
    "\t\t.where(wrong_prec_df['walkscore'].isNull())\\\n",
    "\t\t.count()\n",
    ")\n",
    "print(\n",
    "\tcorrect_join_df\\\n",
    "\t\t.where(correct_join_df['walkscore'].isNull())\\\n",
    "\t\t.count()\n",
    ")\n",
    "print(\"Record Count of the Correct Join Example: \" + str(correct_join_df.count()))\n"
   ]
  },
  {
   "cell_type": "code",
   "execution_count": 46,
   "metadata": {},
   "outputs": [
    {
     "name": "stdout",
     "output_type": "stream",
     "text": [
      "Record Count of the Too Few Keys Join Example: 4946\n"
     ]
    }
   ],
   "source": [
    "\n",
    "\n",
    "# Create a join on too few keys\n",
    "few_keys_cond = [df['longitude'] == walk_df['longitude_walk']]\n",
    "few_keys_df = df.join(walk_df, on=few_keys_cond, how='left')\n",
    "\n",
    "# Compare bad join to the correct one\n",
    "print(\"Record Count of the Too Few Keys Join Example: \" + str(few_keys_df.count()))"
   ]
  }
 ],
 "metadata": {
  "kernelspec": {
   "display_name": "Python 3 (ipykernel)",
   "language": "python",
   "name": "python3"
  },
  "language_info": {
   "codemirror_mode": {
    "name": "ipython",
    "version": 3
   },
   "file_extension": ".py",
   "mimetype": "text/x-python",
   "name": "python",
   "nbconvert_exporter": "python",
   "pygments_lexer": "ipython3",
   "version": "3.11.6"
  }
 },
 "nbformat": 4,
 "nbformat_minor": 2
}
