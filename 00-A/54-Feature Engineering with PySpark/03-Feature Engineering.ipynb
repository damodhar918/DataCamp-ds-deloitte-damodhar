{
 "cells": [
  {
   "cell_type": "code",
   "execution_count": 47,
   "metadata": {},
   "outputs": [
    {
     "data": {
      "text/plain": [
       "'local-1698763673578'"
      ]
     },
     "execution_count": 47,
     "metadata": {},
     "output_type": "execute_result"
    }
   ],
   "source": [
    "df_spark_functions = join_df\n",
    "sc.applicationId"
   ]
  },
  {
   "cell_type": "code",
   "execution_count": 48,
   "metadata": {},
   "outputs": [
    {
     "name": "stdout",
     "output_type": "stream",
     "text": [
      "Corr of ACRES vs SALESCLOSEPRICE: 0.21308192607502158\n",
      "Corr of FOUNDATIONSIZE vs SALESCLOSEPRICE: 0.5976957088401481\n",
      "Corr of YARD_SIZE vs SALESCLOSEPRICE: 0.20032633979612738\n"
     ]
    }
   ],
   "source": [
    "# Lot size in square feet\n",
    "df = join_df\n",
    "acres_to_sqfeet = 43560\n",
    "df = df.withColumn('LOT_SIZE_SQFT', df['ACRES'] * acres_to_sqfeet)\n",
    "\n",
    "# Create new column YARD_SIZE\n",
    "df = df.withColumn('YARD_SIZE', df['LOT_SIZE_SQFT'] - df['FOUNDATIONSIZE'])\n",
    "\n",
    "# Corr of ACRES vs SALESCLOSEPRICE\n",
    "print(\"Corr of ACRES vs SALESCLOSEPRICE: \" + str(df.corr('ACRES', 'SALESCLOSEPRICE')))\n",
    "# Corr of FOUNDATIONSIZE vs SALESCLOSEPRICE\n",
    "print(\"Corr of FOUNDATIONSIZE vs SALESCLOSEPRICE: \" + str(df.corr('FOUNDATIONSIZE', 'SALESCLOSEPRICE')))\n",
    "# Corr of YARD_SIZE vs SALESCLOSEPRICE\n",
    "print(\"Corr of YARD_SIZE vs SALESCLOSEPRICE: \" + str(df.corr('YARD_SIZE', 'SALESCLOSEPRICE')))"
   ]
  },
  {
   "cell_type": "code",
   "execution_count": 49,
   "metadata": {},
   "outputs": [
    {
     "name": "stdout",
     "output_type": "stream",
     "text": [
      "+-----------------+---------+----------------+\n",
      "|ASSESSEDVALUATION|LISTPRICE|ASSESSED_TO_LIST|\n",
      "+-----------------+---------+----------------+\n",
      "|0.0              |775000   |0.0             |\n",
      "|0.0              |750000   |0.0             |\n",
      "+-----------------+---------+----------------+\n",
      "only showing top 2 rows\n",
      "\n",
      "+--------------------+-------+---------+\n",
      "|TAX_TO_LIST         |TAXES  |LISTPRICE|\n",
      "+--------------------+-------+---------+\n",
      "|0.013904516129032258|10776.0|775000   |\n",
      "|0.014178666666666666|10634.0|750000   |\n",
      "+--------------------+-------+---------+\n",
      "only showing top 2 rows\n",
      "\n",
      "+------------+--------+----------+\n",
      "|BED_TO_BATHS|BEDROOMS|BATHSTOTAL|\n",
      "+------------+--------+----------+\n",
      "|1.0         |4.0     |4.0       |\n",
      "|1.0         |5.0     |5.0       |\n",
      "+------------+--------+----------+\n",
      "only showing top 2 rows\n",
      "\n"
     ]
    }
   ],
   "source": [
    "# ASSESSED_TO_LIST\n",
    "df = df.withColumn('ASSESSED_TO_LIST', df['ASSESSEDVALUATION'] / df['LISTPRICE'])\n",
    "df[['ASSESSEDVALUATION', 'LISTPRICE', 'ASSESSED_TO_LIST']].show(2,0)\n",
    "# TAX_TO_LIST\n",
    "df = df.withColumn('TAX_TO_LIST', df['TAXES'] / df['LISTPRICE'])\n",
    "df[['TAX_TO_LIST', 'TAXES', 'LISTPRICE']].show(2,0)\n",
    "# BED_TO_BATHS\n",
    "df = df.withColumn('BED_TO_BATHS', df['BEDROOMS'] / df['BATHSTOTAL'])\n",
    "df[['BED_TO_BATHS', 'BEDROOMS', 'BATHSTOTAL']].show(2,00)"
   ]
  },
  {
   "cell_type": "code",
   "execution_count": 50,
   "metadata": {},
   "outputs": [
    {
     "name": "stdout",
     "output_type": "stream",
     "text": [
      "+-------+-------------------+\n",
      "|summary|BATHS_PER_1000SQFT |\n",
      "+-------+-------------------+\n",
      "|count  |4946               |\n",
      "|mean   |1.433946053004252  |\n",
      "|stddev |14.205761576339649 |\n",
      "|min    |0.39123630672926446|\n",
      "|max    |1000.0             |\n",
      "+-------+-------------------+\n",
      "\n"
     ]
    }
   ],
   "source": [
    "# Create new feature by adding two features together\n",
    "df = df.withColumn('Total_SQFT', df['SQFTBELOWGROUND'] + df['SQFTABOVEGROUND'])\n",
    "\n",
    "# Create additional new feature using previously created feature\n",
    "df = df.withColumn('BATHS_PER_1000SQFT', df['BATHSTOTAL'] / (df['Total_SQFT'] / 1000))\n",
    "df[['BATHS_PER_1000SQFT']].describe().show(5,0)\n",
    "\n",
    "# Pandas dataframe\n",
    "pandas_df = df.sample(False, 0.5, 0).toPandas()"
   ]
  },
  {
   "cell_type": "code",
   "execution_count": 51,
   "metadata": {},
   "outputs": [],
   "source": [
    "from scipy import stats\n",
    "def r2(x, y):\n",
    "    return stats.pearsonr(x, y)[0] ** 2\n",
    "# Linear model plots\n",
    "# sns.jointplot(x='Total_SQFT', y='SALESCLOSEPRICE', data=pandas_df, kind=\"reg\", stat_func=r2)\n",
    "# plt.show()\n"
   ]
  },
  {
   "cell_type": "code",
   "execution_count": 52,
   "metadata": {},
   "outputs": [],
   "source": [
    "# sns.jointplot(x='BATHS_PER_1000SQFT', y='SALESCLOSEPRICE', data=pandas_df, kind=\"reg\", stat_func=r2)\n",
    "# plt.show()"
   ]
  },
  {
   "cell_type": "code",
   "execution_count": 56,
   "metadata": {},
   "outputs": [
    {
     "name": "stdout",
     "output_type": "stream",
     "text": [
      "+---------------+----------+\n",
      "|    date_string|      date|\n",
      "+---------------+----------+\n",
      "|01/10/2018 0:00|2018-01-10|\n",
      "+---------------+----------+\n",
      "\n"
     ]
    }
   ],
   "source": [
    "date_string = \"01/10/2018 0:00\"\n",
    "date_format = \"MM/dd/yyyy\"\n",
    "spark.conf.set('spark.sql.legacy.timeParserPolicy', 'LEGACY')\n",
    "\n",
    "dft = spark.createDataFrame([(date_string,)], [\"date_string\"])\n",
    "dft = dft.withColumn(\"date\", F.to_date(\"date_string\", date_format))\n",
    "dft.show()"
   ]
  },
  {
   "cell_type": "code",
   "execution_count": 57,
   "metadata": {},
   "outputs": [
    {
     "name": "stdout",
     "output_type": "stream",
     "text": [
      "+---------------+----------+\n",
      "|    date_string|      date|\n",
      "+---------------+----------+\n",
      "|01/10/2018 0:00|2018-01-10|\n",
      "+---------------+----------+\n",
      "\n"
     ]
    }
   ],
   "source": [
    "# Set the spark.sql.legacy.timeParserPolicy to LEGACY\n",
    "spark.conf.set('spark.sql.legacy.timeParserPolicy', 'LEGACY')\n",
    "try:\n",
    "    dft.show()\n",
    "except Py4JJavaError as e:\n",
    "    msg = f\"An error occurred while calling {e.java_exception.getJavaMethodName()}:\\n{e.java_exception.stack_trace}\"\n",
    "    print(msg)"
   ]
  },
  {
   "cell_type": "code",
   "execution_count": 58,
   "metadata": {},
   "outputs": [],
   "source": [
    "# Import needed functions\n",
    "from pyspark.sql.functions import to_date, dayofweek\n",
    "spark.conf.set('spark.sql.legacy.timeParserPolicy', 'LEGACY')\n",
    "# Convert to date type 7/15/2017 0:00:00\n",
    "df = df.withColumn('LISTDATE', to_date('LISTDATE', 'MM/dd/yyyy'))\n",
    "\n",
    "# Get the day of the week\n",
    "df = df.withColumn('List_Day_of_Week', dayofweek('LISTDATE'))\n",
    "\n"
   ]
  },
  {
   "cell_type": "code",
   "execution_count": 59,
   "metadata": {},
   "outputs": [
    {
     "data": {
      "image/png": "[encoded data removed]",
      "text/plain": [
       "<Figure size 640x480 with 1 Axes>"
      ]
     },
     "metadata": {},
     "output_type": "display_data"
    }
   ],
   "source": [
    "# Sample and convert to pandas dataframe\n",
    "sample_df = df.sample(False, 0.5, 42).toPandas()\n",
    "\n",
    "import seaborn as sns\n",
    "import matplotlib.pyplot as plt\n",
    "# Plot count plot of of day of week\n",
    "sns.countplot(x=\"List_Day_of_Week\", data=sample_df)\n",
    "plt.show()"
   ]
  },
  {
   "cell_type": "code",
   "execution_count": 60,
   "metadata": {},
   "outputs": [
    {
     "name": "stdout",
     "output_type": "stream",
     "text": [
      "+----------+-----+\n",
      "|LISTDATE  |count|\n",
      "+----------+-----+\n",
      "|2017-04-07|56   |\n",
      "|2017-03-31|56   |\n",
      "|2017-06-02|54   |\n",
      "+----------+-----+\n",
      "only showing top 3 rows\n",
      "\n"
     ]
    }
   ],
   "source": [
    "df.select('LISTDATE').groupBy('LISTDATE').count().orderBy(F.desc('count')).show(3,0)"
   ]
  },
  {
   "cell_type": "code",
   "execution_count": 61,
   "metadata": {},
   "outputs": [
    {
     "name": "stdout",
     "output_type": "stream",
     "text": [
      "+----------------+----+---------------+\n",
      "|City            |Year|MedianHomeValue|\n",
      "+----------------+----+---------------+\n",
      "|MAPW - Maplewood|2016|265098         |\n",
      "|MAPW - Maplewood|2017|275098         |\n",
      "|WB - Woodbury   |2016|190846         |\n",
      "+----------------+----+---------------+\n",
      "only showing top 3 rows\n",
      "\n",
      "root\n",
      " |-- City: string (nullable = true)\n",
      " |-- Year: integer (nullable = true)\n",
      " |-- MedianHomeValue: integer (nullable = true)\n",
      "\n"
     ]
    }
   ],
   "source": [
    "median_prices_df = spark.read.csv('./price.csv', header=True,inferSchema=True)\n",
    "median_prices_df.show(3,0)\n",
    "median_prices_df.printSchema()\n"
   ]
  },
  {
   "cell_type": "code",
   "execution_count": 62,
   "metadata": {},
   "outputs": [
    {
     "name": "stdout",
     "output_type": "stream",
     "text": [
      "+-------+----------------+--------------------+--------------------+\n",
      "|summary|CITY            |report_year         |list_year           |\n",
      "+-------+----------------+--------------------+--------------------+\n",
      "|count  |4946            |4946                |4946                |\n",
      "|mean   |NULL            |2016.0002021835826  |2017.0002021835826  |\n",
      "|stddev |NULL            |0.014219127353434618|0.014219127353434618|\n",
      "|min    |LELM - Lake Elmo|2016                |2017                |\n",
      "|max    |WB - Woodbury   |2017                |2018                |\n",
      "+-------+----------------+--------------------+--------------------+\n",
      "\n"
     ]
    }
   ],
   "source": [
    "# from pyspark.sql.functions import year\n",
    "\n",
    "# Initialize dataframes\n",
    "real_estate_df = df\n",
    "price_df = median_prices_df\n",
    "spark.conf.set('spark.sql.legacy.timeParserPolicy', 'LEGACY')\n",
    "# Create year column\n",
    "df = df.withColumn('list_year', F.year('LISTDATE'))\n",
    "\n",
    "# Adjust year to match\n",
    "df = df.withColumn('report_year', (df['list_year'] - 1))\n",
    "df.select('CITY', 'report_year','list_year','LISTDATE').describe().show(7,0)"
   ]
  },
  {
   "cell_type": "code",
   "execution_count": 63,
   "metadata": {},
   "outputs": [
    {
     "name": "stdout",
     "output_type": "stream",
     "text": [
      "+-------+----------------+------------------+\n",
      "|summary|City            |Year              |\n",
      "+-------+----------------+------------------+\n",
      "|count  |10              |10                |\n",
      "|mean   |NULL            |2016.5            |\n",
      "|stddev |NULL            |0.5270462766947492|\n",
      "|min    |LELM - Lake Elmo|2016              |\n",
      "|max    |WB - Woodbury   |2017              |\n",
      "+-------+----------------+------------------+\n",
      "\n"
     ]
    }
   ],
   "source": [
    "price_df.select('City', 'Year').describe().show(7,0)"
   ]
  },
  {
   "cell_type": "code",
   "execution_count": 64,
   "metadata": {},
   "outputs": [],
   "source": [
    "price_df = price_df.withColumnRenamed('City', 'CITY_price')\n",
    "price_df = price_df.withColumnRenamed('Year', 'report_year_price')"
   ]
  },
  {
   "cell_type": "code",
   "execution_count": 65,
   "metadata": {},
   "outputs": [
    {
     "name": "stdout",
     "output_type": "stream",
     "text": [
      "+---------------+\n",
      "|MedianHomeValue|\n",
      "+---------------+\n",
      "|         237624|\n",
      "|         190846|\n",
      "|         237624|\n",
      "|         190846|\n",
      "|         237624|\n",
      "+---------------+\n",
      "only showing top 5 rows\n",
      "\n"
     ]
    }
   ],
   "source": [
    "\n",
    "# Create join condition\n",
    "condition = [df['CITY'] == price_df['CITY_price'], df['report_year'] == price_df['report_year_price']]\n",
    "\n",
    "# Join the dataframes together\n",
    "df = df.join(price_df, on=condition, how='left')\n",
    "df = df.drop('CITY_price', 'report_year_price')\n",
    "# Inspect that new columns are available\n",
    "df[['MedianHomeValue']].show(5)"
   ]
  },
  {
   "cell_type": "code",
   "execution_count": 66,
   "metadata": {},
   "outputs": [
    {
     "name": "stdout",
     "output_type": "stream",
     "text": [
      "+----------+------------+----------+-------------------+\n",
      "|DATE      |MORTGAGE30US|DATE-1    |Days_Between_Report|\n",
      "+----------+------------+----------+-------------------+\n",
      "|2013-11-08|3.47        |NULL      |NULL               |\n",
      "|2013-11-09|3.7         |2013-11-08|1                  |\n",
      "|2013-11-18|4.41        |2013-11-09|9                  |\n",
      "+----------+------------+----------+-------------------+\n",
      "only showing top 3 rows\n",
      "\n",
      "+----------+------------+----------+-------------------+\n",
      "|DATE      |MORTGAGE30US|DATE-1    |Days_Between_Report|\n",
      "+----------+------------+----------+-------------------+\n",
      "|2014-08-07|3.85        |2014-06-17|51                 |\n",
      "|2015-06-28|3.62        |2015-05-24|35                 |\n",
      "|2016-01-04|4.22        |2015-12-01|34                 |\n",
      "+----------+------------+----------+-------------------+\n",
      "only showing top 3 rows\n",
      "\n",
      "+-------------------+\n",
      "|Days_Between_Report|\n",
      "+-------------------+\n",
      "|51                 |\n",
      "|35                 |\n",
      "|34                 |\n",
      "+-------------------+\n",
      "only showing top 3 rows\n",
      "\n"
     ]
    }
   ],
   "source": [
    "from pyspark.sql.functions import lag, datediff, to_date, count\n",
    "from pyspark.sql.window import Window\n",
    "\n",
    "\n",
    "# Initialize dataframes\n",
    "mort_df = spark.read.csv('./mort_m_261.csv', header=True,inferSchema=True)\n",
    "# Cast data type\n",
    "mort_df = mort_df.withColumn('DATE', to_date('DATE'))\n",
    "\n",
    "# Create window\n",
    "w = Window().orderBy(mort_df['DATE'])\n",
    "# Create lag column\n",
    "mort_df = mort_df\\\n",
    "\t.withColumn(\n",
    "\t\t'DATE-1',\n",
    "\t\tlag(mort_df['DATE'], 1).over(w)\n",
    "\t)\n",
    "\n",
    "# Calculate difference between date columns\n",
    "mort_df = mort_df.withColumn('Days_Between_Report', datediff('DATE', 'DATE-1'))\n",
    "mort_df.show(3,0)\n",
    "mort_df.orderBy(F.desc('Days_Between_Report')).show(3,0)\n",
    "# Print results\n",
    "mort_df.select('Days_Between_Report').distinct().orderBy(F.desc('Days_Between_Report')).show(3,0)"
   ]
  },
  {
   "cell_type": "code",
   "execution_count": 67,
   "metadata": {},
   "outputs": [
    {
     "name": "stdout",
     "output_type": "stream",
     "text": [
      "+--------------------------------------------------------------------------+-------------------+\n",
      "|                                                         GARAGEDESCRIPTION|has_attached_garage|\n",
      "+--------------------------------------------------------------------------+-------------------+\n",
      "|Attached Garage, Insulated Garage, Driveway - Concrete, Garage Door Opener|                  1|\n",
      "|Attached Garage, Insulated Garage, Driveway - Concrete, Garage Door Opener|                  1|\n",
      "|                  Attached Garage, Driveway - Concrete, Garage Door Opener|                  1|\n",
      "|                  Attached Garage, Driveway - Concrete, Garage Door Opener|                  1|\n",
      "|                  Attached Garage, Driveway - Concrete, Garage Door Opener|                  1|\n",
      "|                  Attached Garage, Driveway - Concrete, Garage Door Opener|                  1|\n",
      "|                  Attached Garage, Driveway - Concrete, Garage Door Opener|                  1|\n",
      "|                  Attached Garage, Driveway - Concrete, Garage Door Opener|                  1|\n",
      "|Attached Garage, Insulated Garage, Driveway - Concrete, Garage Door Opener|                  1|\n",
      "|Attached Garage, Insulated Garage, Driveway - Concrete, Garage Door Opener|                  1|\n",
      "|                  Attached Garage, Driveway - Concrete, Garage Door Opener|                  1|\n",
      "|                  Attached Garage, Driveway - Concrete, Garage Door Opener|                  1|\n",
      "|                  Attached Garage, Driveway - Concrete, Garage Door Opener|                  1|\n",
      "|                  Attached Garage, Driveway - Concrete, Garage Door Opener|                  1|\n",
      "|Attached Garage, Insulated Garage, Driveway - Concrete, Garage Door Opener|                  1|\n",
      "|Attached Garage, Insulated Garage, Driveway - Concrete, Garage Door Opener|                  1|\n",
      "|                                         Attached Garage, Insulated Garage|                  1|\n",
      "|                                         Attached Garage, Insulated Garage|                  1|\n",
      "|                   Attached Garage, Driveway - Asphalt, Garage Door Opener|                  1|\n",
      "|                   Attached Garage, Driveway - Asphalt, Garage Door Opener|                  1|\n",
      "+--------------------------------------------------------------------------+-------------------+\n",
      "only showing top 20 rows\n",
      "\n"
     ]
    }
   ],
   "source": [
    "# Import needed functions\n",
    "from pyspark.sql.functions import when\n",
    "\n",
    "# Create boolean conditions for string matches\n",
    "has_attached_garage = df['GARAGEDESCRIPTION'].like('%Attached Garage%')\n",
    "has_detached_garage = df['GARAGEDESCRIPTION'].like('%Detached Garage%')\n",
    "\n",
    "# Conditional value assignment \n",
    "df = df.withColumn(\n",
    "    'has_attached_garage',\n",
    "    (when(has_attached_garage, 1)\n",
    "        .when(has_detached_garage, 0)\n",
    "        .otherwise(None))\n",
    ")\n",
    "\n",
    "# Inspect results\n",
    "df[['GARAGEDESCRIPTION', 'has_attached_garage']].show(truncate=100)"
   ]
  },
  {
   "cell_type": "code",
   "execution_count": 68,
   "metadata": {},
   "outputs": [
    {
     "name": "stdout",
     "output_type": "stream",
     "text": [
      "+---------------------------+\n",
      "|ex_garage_list             |\n",
      "+---------------------------+\n",
      "|Attached Garage            |\n",
      "|More Parking Onsite for Fee|\n",
      "|Garage Door Opener         |\n",
      "|No Int Access to Dwelling  |\n",
      "+---------------------------+\n",
      "only showing top 4 rows\n",
      "\n"
     ]
    }
   ],
   "source": [
    "# Import needed functions\n",
    "from pyspark.sql.functions import split, explode\n",
    "\n",
    "# Convert string to list-like array\n",
    "df = df.withColumn('garage_list', split(df['GARAGEDESCRIPTION'], ', '))\n",
    "\n",
    "# Explode the values into new records\n",
    "ex_df = df.withColumn('ex_garage_list', explode(df['garage_list']))\n",
    "\n",
    "# Inspect the values\n",
    "ex_df[['ex_garage_list']].distinct().show(4,0)"
   ]
  },
  {
   "cell_type": "code",
   "execution_count": 69,
   "metadata": {},
   "outputs": [],
   "source": [
    "# ex_df = ex_df.withColumnRenamed('No.', 'NO')\n",
    "# ex_df = ex_df.withColumn('NO',ex_df.NO.cast('int'))\n",
    "# ex_df.show(5,0)"
   ]
  },
  {
   "cell_type": "code",
   "execution_count": 70,
   "metadata": {},
   "outputs": [
    {
     "data": {
      "text/plain": [
       "[('PostalCode', 'string'),\n",
       " ('NO', 'int'),\n",
       " ('MLSID', 'string'),\n",
       " ('StreetNumberNumeric', 'string'),\n",
       " ('streetaddress', 'string'),\n",
       " ('STREETNAME', 'string'),\n",
       " ('StateOrProvince', 'string'),\n",
       " ('City', 'string'),\n",
       " ('SALESCLOSEPRICE', 'double'),\n",
       " ('LISTDATE', 'date'),\n",
       " ('LISTPRICE', 'string'),\n",
       " ('LISTTYPE', 'string'),\n",
       " ('OriginalListPrice', 'string'),\n",
       " ('PricePerTSFT', 'string'),\n",
       " ('FOUNDATIONSIZE', 'double'),\n",
       " ('FENCE', 'string'),\n",
       " ('MapLetter', 'string'),\n",
       " ('LotSizeDimensions', 'string'),\n",
       " ('SchoolDistrictNumber', 'string'),\n",
       " ('DAYSONMARKET', 'double'),\n",
       " ('offmarketdate', 'string'),\n",
       " ('FIREPLACES', 'double'),\n",
       " ('RoomArea4', 'string'),\n",
       " ('roomtype', 'string'),\n",
       " ('ROOF', 'string'),\n",
       " ('RoomFloor4', 'string'),\n",
       " ('PotentialShortSale', 'string'),\n",
       " ('PoolDescription', 'string'),\n",
       " ('PDOM', 'double'),\n",
       " ('GarageDescription', 'string'),\n",
       " ('SQFTABOVEGROUND', 'double'),\n",
       " ('TAXES', 'double'),\n",
       " ('RoomFloor1', 'string'),\n",
       " ('RoomArea1', 'string'),\n",
       " ('TAXWITHASSESSMENTS', 'double'),\n",
       " ('TAXYEAR', 'double'),\n",
       " ('LIVINGAREA', 'double'),\n",
       " ('UNITNUMBER', 'string'),\n",
       " ('YEARBUILT', 'double'),\n",
       " ('ZONING', 'string'),\n",
       " ('STYLE', 'string'),\n",
       " ('ACRES', 'double'),\n",
       " ('CoolingDescription', 'string'),\n",
       " ('APPLIANCES', 'string'),\n",
       " ('BACKONMARKETDATE', 'double'),\n",
       " ('ROOMFAMILYCHAR', 'string'),\n",
       " ('RoomArea3', 'string'),\n",
       " ('EXTERIOR', 'string'),\n",
       " ('RoomFloor3', 'string'),\n",
       " ('RoomFloor2', 'string'),\n",
       " ('RoomArea2', 'string'),\n",
       " ('DiningRoomDescription', 'string'),\n",
       " ('BASEMENT', 'string'),\n",
       " ('BATHSFULL', 'double'),\n",
       " ('BATHSHALF', 'double'),\n",
       " ('BATHQUARTER', 'double'),\n",
       " ('BATHSTHREEQUARTER', 'double'),\n",
       " ('Class', 'string'),\n",
       " ('BATHSTOTAL', 'double'),\n",
       " ('BATHDESC', 'string'),\n",
       " ('RoomArea5', 'string'),\n",
       " ('RoomFloor5', 'string'),\n",
       " ('RoomArea6', 'string'),\n",
       " ('RoomFloor6', 'string'),\n",
       " ('RoomArea7', 'string'),\n",
       " ('RoomFloor7', 'string'),\n",
       " ('RoomArea8', 'string'),\n",
       " ('RoomFloor8', 'string'),\n",
       " ('BEDROOMS', 'double'),\n",
       " ('SQFTBELOWGROUND', 'double'),\n",
       " ('AssumableMortgage', 'string'),\n",
       " ('ASSOCIATIONFEE', 'double'),\n",
       " ('ASSESSMENTPENDING', 'string'),\n",
       " ('ASSESSEDVALUATION', 'double'),\n",
       " ('log_SalesClosePrice', 'double'),\n",
       " ('percentage_scaled_days', 'double'),\n",
       " ('scaled_FOUNDATIONSIZE', 'double'),\n",
       " ('scaled_DAYSONMARKET', 'double'),\n",
       " ('scaled_FIREPLACES', 'double'),\n",
       " ('Reflect_YearBuilt', 'double'),\n",
       " ('adj_yearbuilt', 'double'),\n",
       " ('latitude', 'double'),\n",
       " ('longitude', 'double'),\n",
       " ('walkscore', 'int'),\n",
       " ('bikescore', 'int'),\n",
       " ('transitscore', 'int'),\n",
       " ('LOT_SIZE_SQFT', 'double'),\n",
       " ('YARD_SIZE', 'double'),\n",
       " ('ASSESSED_TO_LIST', 'double'),\n",
       " ('TAX_TO_LIST', 'double'),\n",
       " ('BED_TO_BATHS', 'double'),\n",
       " ('Total_SQFT', 'double'),\n",
       " ('BATHS_PER_1000SQFT', 'double'),\n",
       " ('List_Day_of_Week', 'int'),\n",
       " ('list_year', 'int'),\n",
       " ('report_year', 'int'),\n",
       " ('MedianHomeValue', 'int'),\n",
       " ('has_attached_garage', 'int'),\n",
       " ('garage_list', 'array<string>'),\n",
       " ('ex_garage_list', 'string')]"
      ]
     },
     "execution_count": 70,
     "metadata": {},
     "output_type": "execute_result"
    }
   ],
   "source": [
    "ex_df.dtypes"
   ]
  },
  {
   "cell_type": "code",
   "execution_count": 71,
   "metadata": {},
   "outputs": [],
   "source": [
    "df_mid_feature = df"
   ]
  },
  {
   "cell_type": "code",
   "execution_count": 72,
   "metadata": {},
   "outputs": [],
   "source": [
    "from pyspark.sql.functions import coalesce, first\n",
    "\n",
    "ex_df = ex_df.withColumn('constant_val', F.lit(1))\n",
    "# Pivot \n",
    "piv_df = ex_df.groupBy('NO').pivot('ex_garage_list').agg(coalesce(first('constant_val')))"
   ]
  },
  {
   "cell_type": "code",
   "execution_count": 73,
   "metadata": {},
   "outputs": [
    {
     "name": "stdout",
     "output_type": "stream",
     "text": [
      "+----+--------+---------------+-------+---------------------+-------+---------------+------------------+-------------------+-----------------+------------------------+-----------------+------------------+-------------+----------------+----------------------------+---------------------------+-------------------------+----+----------------------+-----+-------+------+---------+----------+--------------+------------------+----------+---------------------+\n",
      "|  NO|Assigned|Attached Garage|Carport|Contract Pkg Required|Covered|Detached Garage|Driveway - Asphalt|Driveway - Concrete|Driveway - Gravel|Driveway - Other Surface|Driveway - Shared|Garage Door Opener|Heated Garage|Insulated Garage|More Parking Offsite for Fee|More Parking Onsite for Fee|No Int Access to Dwelling|None|On-Street Parking Only|Other|Secured|Tandem|Tuckunder|Unassigned|Uncovered/Open|Underground Garage|Units Vary|Valet Parking for Fee|\n",
      "+----+--------+---------------+-------+---------------------+-------+---------------+------------------+-------------------+-----------------+------------------------+-----------------+------------------+-------------+----------------+----------------------------+---------------------------+-------------------------+----+----------------------+-----+-------+------+---------+----------+--------------+------------------+----------+---------------------+\n",
      "|4519|    NULL|              1|   NULL|                 NULL|   NULL|           NULL|                 1|               NULL|             NULL|                    NULL|             NULL|                 1|         NULL|               1|                        NULL|                       NULL|                     NULL|NULL|                  NULL| NULL|   NULL|  NULL|     NULL|      NULL|          NULL|              NULL|      NULL|                 NULL|\n",
      "|3918|    NULL|              1|   NULL|                 NULL|   NULL|           NULL|                 1|               NULL|             NULL|                    NULL|             NULL|                 1|         NULL|               1|                        NULL|                       NULL|                     NULL|NULL|                  NULL| NULL|   NULL|  NULL|     NULL|      NULL|          NULL|              NULL|      NULL|                 NULL|\n",
      "|4101|    NULL|           NULL|   NULL|                 NULL|   NULL|           NULL|              NULL|               NULL|             NULL|                    NULL|             NULL|                 1|         NULL|            NULL|                        NULL|                       NULL|                     NULL|NULL|                  NULL| NULL|   NULL|  NULL|        1|      NULL|          NULL|              NULL|      NULL|                 NULL|\n",
      "+----+--------+---------------+-------+---------------------+-------+---------------+------------------+-------------------+-----------------+------------------------+-----------------+------------------+-------------+----------------+----------------------------+---------------------------+-------------------------+----+----------------------+-----+-------+------+---------+----------+--------------+------------------+----------+---------------------+\n",
      "only showing top 3 rows\n",
      "\n"
     ]
    }
   ],
   "source": [
    "piv_df.show(3)"
   ]
  },
  {
   "cell_type": "code",
   "execution_count": 74,
   "metadata": {},
   "outputs": [],
   "source": [
    "# df = df.withColumnRenamed('No.', 'NO')\n",
    "# df = df.withColumn('NO',df.NO.cast('int'))"
   ]
  },
  {
   "cell_type": "code",
   "execution_count": 75,
   "metadata": {},
   "outputs": [
    {
     "name": "stdout",
     "output_type": "stream",
     "text": [
      "+----+----------+-----+-------------------+------------------+----------+---------------+-------------+---------------+----------+---------+---------------+-----------------+------------+--------------+-------+---------+-----------------+-----------------------------+------------+--------------+----------+---------+-------------------------------------------------------------------------------------------------------------------------------------------------------------------------------------------------------------------------+-------------------------------------+----------+------------------+---------------+----+--------------------------------------------------------------------------+---------------+-------+----------+---------+------------------+-------+----------+----------+---------+------------------+----------------+-----+------------------+---------------------------------------------------------------------------------------------------------------------------------------------------------------+----------------+---------------------------------------------------------------------------+---------+-------------------------+----------+----------+---------+-------------------------------------------------+------------------------------------------------------------------------------------+---------+---------+-----------+-----------------+-----+----------+----------------------------------------------------------------------------------------------------------------+---------+----------+---------+----------+---------+----------+---------+----------+--------+---------------+-----------------+--------------+-----------------+-----------------+-------------------+----------------------+---------------------+-------------------+-------------------+-----------------+-------------------+--------+---------+---------+---------+------------+------------------+------------------+----------------+--------------------+------------+----------+------------------+----------------+---------+-----------+---------------+-------------------+----------------------------------------------------------------------------+--------+---------------+-------+---------------------+-------+---------------+------------------+-------------------+-----------------+------------------------+-----------------+------------------+-------------+----------------+----------------------------+---------------------------+-------------------------+----+----------------------+-----+-------+------+---------+----------+--------------+------------------+----------+---------------------+\n",
      "|NO  |PostalCode|MLSID|StreetNumberNumeric|streetaddress     |STREETNAME|StateOrProvince|City         |SALESCLOSEPRICE|LISTDATE  |LISTPRICE|LISTTYPE       |OriginalListPrice|PricePerTSFT|FOUNDATIONSIZE|FENCE  |MapLetter|LotSizeDimensions|SchoolDistrictNumber         |DAYSONMARKET|offmarketdate |FIREPLACES|RoomArea4|roomtype                                                                                                                                                                                                                 |ROOF                                 |RoomFloor4|PotentialShortSale|PoolDescription|PDOM|GarageDescription                                                         |SQFTABOVEGROUND|TAXES  |RoomFloor1|RoomArea1|TAXWITHASSESSMENTS|TAXYEAR|LIVINGAREA|UNITNUMBER|YEARBUILT|ZONING            |STYLE           |ACRES|CoolingDescription|APPLIANCES                                                                                                                                                     |BACKONMARKETDATE|ROOMFAMILYCHAR                                                             |RoomArea3|EXTERIOR                 |RoomFloor3|RoomFloor2|RoomArea2|DiningRoomDescription                            |BASEMENT                                                                            |BATHSFULL|BATHSHALF|BATHQUARTER|BATHSTHREEQUARTER|Class|BATHSTOTAL|BATHDESC                                                                                                        |RoomArea5|RoomFloor5|RoomArea6|RoomFloor6|RoomArea7|RoomFloor7|RoomArea8|RoomFloor8|BEDROOMS|SQFTBELOWGROUND|AssumableMortgage|ASSOCIATIONFEE|ASSESSMENTPENDING|ASSESSEDVALUATION|log_SalesClosePrice|percentage_scaled_days|scaled_FOUNDATIONSIZE|scaled_DAYSONMARKET|scaled_FIREPLACES  |Reflect_YearBuilt|adj_yearbuilt      |latitude|longitude|walkscore|bikescore|transitscore|LOT_SIZE_SQFT     |YARD_SIZE         |ASSESSED_TO_LIST|TAX_TO_LIST         |BED_TO_BATHS|Total_SQFT|BATHS_PER_1000SQFT|List_Day_of_Week|list_year|report_year|MedianHomeValue|has_attached_garage|garage_list                                                                 |Assigned|Attached Garage|Carport|Contract Pkg Required|Covered|Detached Garage|Driveway - Asphalt|Driveway - Concrete|Driveway - Gravel|Driveway - Other Surface|Driveway - Shared|Garage Door Opener|Heated Garage|Insulated Garage|More Parking Offsite for Fee|More Parking Onsite for Fee|No Int Access to Dwelling|None|On-Street Parking Only|Other|Secured|Tandem|Tuckunder|Unassigned|Uncovered/Open|Underground Garage|Units Vary|Valet Parking for Fee|\n",
      "+----+----------+-----+-------------------+------------------+----------+---------------+-------------+---------------+----------+---------+---------------+-----------------+------------+--------------+-------+---------+-----------------+-----------------------------+------------+--------------+----------+---------+-------------------------------------------------------------------------------------------------------------------------------------------------------------------------------------------------------------------------+-------------------------------------+----------+------------------+---------------+----+--------------------------------------------------------------------------+---------------+-------+----------+---------+------------------+-------+----------+----------+---------+------------------+----------------+-----+------------------+---------------------------------------------------------------------------------------------------------------------------------------------------------------+----------------+---------------------------------------------------------------------------+---------+-------------------------+----------+----------+---------+-------------------------------------------------+------------------------------------------------------------------------------------+---------+---------+-----------+-----------------+-----+----------+----------------------------------------------------------------------------------------------------------------+---------+----------+---------+----------+---------+----------+---------+----------+--------+---------------+-----------------+--------------+-----------------+-----------------+-------------------+----------------------+---------------------+-------------------+-------------------+-----------------+-------------------+--------+---------+---------+---------+------------+------------------+------------------+----------------+--------------------+------------+----------+------------------+----------------+---------+-----------+---------------+-------------------+----------------------------------------------------------------------------+--------+---------------+-------+---------------------+-------+---------------+------------------+-------------------+-----------------+------------------------+-----------------+------------------+-------------+----------------+----------------------------+---------------------------+-------------------------+----+----------------------+-----+-------+------+---------+----------+--------------+------------------+----------+---------------------+\n",
      "|4992|55125     |RMLS |3507               |3507 Crestmoor Pt |Crestmoor |MN             |WB - Woodbury|770000.0       |2017-05-03|775000   |Exclusive Right|775000           |220.6936    |2549.0        |None   |A3       |0                |833 - South Washington County|16.0        |5/19/2017 0:00|1.0       |18x12    |Living Room, Dining Room, Family Room, Kitchen, First (1st) Bedroom, Second (2nd) Bedroom, Third (3rd) Bedroom, Fourth (4th) Bedroom, Office, Sun Room                                                                   |Asphalt Shingles, Age 8 Years or Less|Main      |No                |None           |16.0|Attached Garage, Insulated Garage, Driveway - Concrete, Garage Door Opener|3489.0         |10776.0|NULL      |NULL     |10776.0           |2016.0 |3489.0    |NULL      |2000.0   |Residential-Single|(SF) Two Stories|0.82 |Central           |Cooktop, Wall Oven, Microwave, Dishwasher, Trash Compactor, Refrigerator, Washer, Dryer, Water Softener - Owned, Disposal, Central Vacuum, Air-To-Air Exchanger|NULL            |Main Level, 2 Story/High/Vaulted Ceilings, Great Room                      |22x19    |Brick/Stone, Cement Board|Main      |Main      |16x13    |Separate/Formal Dining Room, Eat In Kitchen      |Walkout, Full, Sump Pump                                                            |3.0      |1.0      |0.0        |0.0              |SF   |4.0       |Main Floor Full Bath, Main Floor 1/2 Bath, Upper Level Full Bath , Private Master, Full Master, Bathroom Ensuite|16x19    |Main      |14x13    |Upper     |14x13    |Upper     |16x13    |Upper     |4.0     |0.0            |NULL             |440.0         |No               |0.0              |13.554145793829866 |0.0                   |0.6721181746241097   |0.07111111111111111|0.14285714285714285|19.0             |0.3396232718951086 |44.88482|-92.88453|69       |26       |68          |35719.2           |33170.2           |0.0             |0.013904516129032258|1.0         |3489.0    |1.1464603038119805|4               |2017     |2016       |237624         |1                  |[Attached Garage, Insulated Garage, Driveway - Concrete, Garage Door Opener]|0       |1              |0      |0                    |0      |0              |0                 |1                  |0                |0                       |0                |1                 |0            |1               |0                           |0                          |0                        |0   |0                     |0    |0      |0     |0        |0         |0             |0                 |0         |0                    |\n",
      "|4992|55125     |RMLS |3507               |3507 Crestmoor Pt |Crestmoor |MN             |WB - Woodbury|770000.0       |2017-05-03|775000   |Exclusive Right|775000           |220.6936    |2549.0        |None   |A3       |0                |833 - South Washington County|16.0        |5/19/2017 0:00|1.0       |18x12    |Living Room, Dining Room, Family Room, Kitchen, First (1st) Bedroom, Second (2nd) Bedroom, Third (3rd) Bedroom, Fourth (4th) Bedroom, Office, Sun Room                                                                   |Asphalt Shingles, Age 8 Years or Less|Main      |No                |None           |16.0|Attached Garage, Insulated Garage, Driveway - Concrete, Garage Door Opener|3489.0         |10776.0|NULL      |NULL     |10776.0           |2016.0 |3489.0    |NULL      |2000.0   |Residential-Single|(SF) Two Stories|0.82 |Central           |Cooktop, Wall Oven, Microwave, Dishwasher, Trash Compactor, Refrigerator, Washer, Dryer, Water Softener - Owned, Disposal, Central Vacuum, Air-To-Air Exchanger|NULL            |Main Level, 2 Story/High/Vaulted Ceilings, Great Room                      |22x19    |Brick/Stone, Cement Board|Main      |Main      |16x13    |Separate/Formal Dining Room, Eat In Kitchen      |Walkout, Full, Sump Pump                                                            |3.0      |1.0      |0.0        |0.0              |SF   |4.0       |Main Floor Full Bath, Main Floor 1/2 Bath, Upper Level Full Bath , Private Master, Full Master, Bathroom Ensuite|16x19    |Main      |14x13    |Upper     |14x13    |Upper     |16x13    |Upper     |4.0     |0.0            |NULL             |440.0         |No               |0.0              |13.554145793829866 |0.0                   |0.6721181746241097   |0.07111111111111111|0.14285714285714285|19.0             |0.3396232718951086 |44.88482|-92.88453|69       |26       |68          |35719.2           |33170.2           |0.0             |0.013904516129032258|1.0         |3489.0    |1.1464603038119805|4               |2017     |2016       |190846         |1                  |[Attached Garage, Insulated Garage, Driveway - Concrete, Garage Door Opener]|0       |1              |0      |0                    |0      |0              |0                 |1                  |0                |0                       |0                |1                 |0            |1               |0                           |0                          |0                        |0   |0                     |0    |0      |0     |0        |0         |0             |0                 |0         |0                    |\n",
      "|4989|55125     |RMLS |3503               |3503 Crestmoor Pt |Crestmoor |MN             |WB - Woodbury|750000.0       |2017-03-28|750000   |Exclusive Right|750000           |148.4854    |1801.0        |NULL   |A3       |76x201x32x227x244|833 - South Washington County|16.0        |4/13/2017 0:00|2.0       |15x15    |Living Room, Dining Room, Family Room, Kitchen, First (1st) Bedroom, Second (2nd) Bedroom, Third (3rd) Bedroom, Fourth (4th) Bedroom, Fifth (5th) Bedroom, Exercise Room, Billiard Room, Amusement Room, Office, Sun Room|Asphalt Shingles                     |Main      |No                |NULL           |16.0|Attached Garage, Driveway - Concrete, Garage Door Opener                  |3292.0         |10634.0|NULL      |NULL     |10634.0           |2016.0 |5051.0    |NULL      |1998.0   |Residential-Single|(SF) Two Stories|0.74 |Central           |Cooktop, Wall Oven, Microwave, Exhaust Fan/Hood, Dishwasher, Refrigerator, Washer, Dryer, Water Softener - Owned, Disposal, Air-To-Air Exchanger               |NULL            |Main Level, Lower Level, 2 or More, Family Room, Entertainment/Media Center|21x14    |Brick/Stone, Cement Board|Main      |Main      |13x12    |Separate/Formal Dining Room, Informal Dining Room|Walkout, Full, Finished (Livable), Drain Tiled, Drainage System, Day/Lookout Windows|3.0      |1.0      |0.0        |1.0              |SF   |5.0       |Main Floor 1/2 Bath, Private Master, Full Master, Jack and Jill, 3/4 Basement, Separate Tub & Shower, Whirlpool |16x14    |Upper     |13x12    |Upper     |13x12    |Upper     |16x14    |Upper     |5.0     |1759.0         |NULL             |440.0         |Unknown          |0.0              |13.527828485512494 |0.0                   |0.47480875758375096  |0.07111111111111111|0.2857142857142857 |21.0             |0.3284587387530511 |44.88482|-92.88453|69       |26       |68          |32234.399999999998|30433.399999999998|0.0             |0.014178666666666666|1.0         |5051.0    |0.9899029895070283|3               |2017     |2016       |237624         |1                  |[Attached Garage, Driveway - Concrete, Garage Door Opener]                  |0       |1              |0      |0                    |0      |0              |0                 |1                  |0                |0                       |0                |1                 |0            |0               |0                           |0                          |0                        |0   |0                     |0    |0      |0     |0        |0         |0             |0                 |0         |0                    |\n",
      "|4989|55125     |RMLS |3503               |3503 Crestmoor Pt |Crestmoor |MN             |WB - Woodbury|750000.0       |2017-03-28|750000   |Exclusive Right|750000           |148.4854    |1801.0        |NULL   |A3       |76x201x32x227x244|833 - South Washington County|16.0        |4/13/2017 0:00|2.0       |15x15    |Living Room, Dining Room, Family Room, Kitchen, First (1st) Bedroom, Second (2nd) Bedroom, Third (3rd) Bedroom, Fourth (4th) Bedroom, Fifth (5th) Bedroom, Exercise Room, Billiard Room, Amusement Room, Office, Sun Room|Asphalt Shingles                     |Main      |No                |NULL           |16.0|Attached Garage, Driveway - Concrete, Garage Door Opener                  |3292.0         |10634.0|NULL      |NULL     |10634.0           |2016.0 |5051.0    |NULL      |1998.0   |Residential-Single|(SF) Two Stories|0.74 |Central           |Cooktop, Wall Oven, Microwave, Exhaust Fan/Hood, Dishwasher, Refrigerator, Washer, Dryer, Water Softener - Owned, Disposal, Air-To-Air Exchanger               |NULL            |Main Level, Lower Level, 2 or More, Family Room, Entertainment/Media Center|21x14    |Brick/Stone, Cement Board|Main      |Main      |13x12    |Separate/Formal Dining Room, Informal Dining Room|Walkout, Full, Finished (Livable), Drain Tiled, Drainage System, Day/Lookout Windows|3.0      |1.0      |0.0        |1.0              |SF   |5.0       |Main Floor 1/2 Bath, Private Master, Full Master, Jack and Jill, 3/4 Basement, Separate Tub & Shower, Whirlpool |16x14    |Upper     |13x12    |Upper     |13x12    |Upper     |16x14    |Upper     |5.0     |1759.0         |NULL             |440.0         |Unknown          |0.0              |13.527828485512494 |0.0                   |0.47480875758375096  |0.07111111111111111|0.2857142857142857 |21.0             |0.3284587387530511 |44.88482|-92.88453|69       |26       |68          |32234.399999999998|30433.399999999998|0.0             |0.014178666666666666|1.0         |5051.0    |0.9899029895070283|3               |2017     |2016       |190846         |1                  |[Attached Garage, Driveway - Concrete, Garage Door Opener]                  |0       |1              |0      |0                    |0      |0              |0                 |1                  |0                |0                       |0                |1                 |0            |0               |0                           |0                          |0                        |0   |0                     |0    |0      |0     |0        |0         |0             |0                 |0         |0                    |\n",
      "|4979|55125     |RMLS |8905               |8905 Springwood Dr|Springwood|MN             |WB - Woodbury|675000.0       |2017-09-24|699900   |Exclusive Right|699900           |154.8165    |1562.0        |Partial|E3       |89x157           |833 - South Washington County|9.0         |10/3/2017 0:00|2.0       |14x14    |Living Room, Dining Room, Family Room, Kitchen, First (1st) Bedroom, Second (2nd) Bedroom, Third (3rd) Bedroom, Fourth (4th) Bedroom, Fifth (5th) Bedroom, Deck, Patio, Exercise Room, Family Room                       |Asphalt Shingles                     |Main      |No                |Below Ground   |9.0 |Attached Garage, Driveway - Concrete, Garage Door Opener                  |3024.0         |8544.0 |NULL      |NULL     |8544.0            |2017.0 |4360.0    |NULL      |1999.0   |Residential-Single|(SF) Two Stories|0.388|Central           |Range, Microwave, Dishwasher, Refrigerator                                                                                                                     |NULL            |NULL                                                                       |16x16    |Cement Board             |Main      |Main      |12x11    |Separate/Formal Dining Room, Eat In Kitchen      |Walkout, Full, Finished (Livable), Egress Windows                                   |2.0      |1.0      |0.0        |1.0              |SF   |4.0       |Main Floor 1/2 Bath, Upper Level Full Bath , Full Master, 3/4 Basement                                          |17x14    |Upper     |12x12    |Upper     |12x12    |Upper     |12x11    |Upper     |5.0     |1336.0         |NULL             |450.0         |No               |0.0              |13.422467969854667 |0.0                   |0.4117647058823529   |0.04               |0.2857142857142857 |20.0             |0.33380820069533407|44.88482|-92.88453|69       |26       |68          |16901.28          |15339.279999999999|0.0             |0.012207458208315473|1.25        |4360.0    |0.9174311926605504|1               |2017     |2016       |237624         |1                  |[Attached Garage, Driveway - Concrete, Garage Door Opener]                  |0       |1              |0      |0                    |0      |0              |0                 |1                  |0                |0                       |0                |1                 |0            |0               |0                           |0                          |0                        |0   |0                     |0    |0      |0     |0        |0         |0             |0                 |0         |0                    |\n",
      "+----+----------+-----+-------------------+------------------+----------+---------------+-------------+---------------+----------+---------+---------------+-----------------+------------+--------------+-------+---------+-----------------+-----------------------------+------------+--------------+----------+---------+-------------------------------------------------------------------------------------------------------------------------------------------------------------------------------------------------------------------------+-------------------------------------+----------+------------------+---------------+----+--------------------------------------------------------------------------+---------------+-------+----------+---------+------------------+-------+----------+----------+---------+------------------+----------------+-----+------------------+---------------------------------------------------------------------------------------------------------------------------------------------------------------+----------------+---------------------------------------------------------------------------+---------+-------------------------+----------+----------+---------+-------------------------------------------------+------------------------------------------------------------------------------------+---------+---------+-----------+-----------------+-----+----------+----------------------------------------------------------------------------------------------------------------+---------+----------+---------+----------+---------+----------+---------+----------+--------+---------------+-----------------+--------------+-----------------+-----------------+-------------------+----------------------+---------------------+-------------------+-------------------+-----------------+-------------------+--------+---------+---------+---------+------------+------------------+------------------+----------------+--------------------+------------+----------+------------------+----------------+---------+-----------+---------------+-------------------+----------------------------------------------------------------------------+--------+---------------+-------+---------------------+-------+---------------+------------------+-------------------+-----------------+------------------------+-----------------+------------------+-------------+----------------+----------------------------+---------------------------+-------------------------+----+----------------------+-----+-------+------+---------+----------+--------------+------------------+----------+---------------------+\n",
      "only showing top 5 rows\n",
      "\n"
     ]
    }
   ],
   "source": [
    "# Join the dataframes together and fill null\n",
    "joined_df = df.join(piv_df, on='NO', how='left')\n",
    "\n",
    "# Columns to zero fill\n",
    "zfill_cols = piv_df.columns\n",
    "\n",
    "# Zero fill the pivoted values\n",
    "zfilled_df = joined_df.fillna(0, subset=zfill_cols)\n",
    "zfilled_df.show(5,0)"
   ]
  },
  {
   "cell_type": "code",
   "execution_count": 76,
   "metadata": {},
   "outputs": [
    {
     "data": {
      "text/plain": [
       "[('List_Day_of_Week', 'int')]"
      ]
     },
     "execution_count": 76,
     "metadata": {},
     "output_type": "execute_result"
    }
   ],
   "source": [
    "df.select('List_Day_of_Week').dtypes"
   ]
  },
  {
   "cell_type": "code",
   "execution_count": 77,
   "metadata": {},
   "outputs": [],
   "source": [
    "df = df.withColumn('List_Day_of_Week',df.List_Day_of_Week.cast('double'))"
   ]
  },
  {
   "cell_type": "code",
   "execution_count": 78,
   "metadata": {},
   "outputs": [
    {
     "name": "stdout",
     "output_type": "stream",
     "text": [
      "+----------------+-----------------+\n",
      "|List_Day_of_Week|Listed_On_Weekend|\n",
      "+----------------+-----------------+\n",
      "|4.0             |0.0              |\n",
      "|4.0             |0.0              |\n",
      "|3.0             |0.0              |\n",
      "|3.0             |0.0              |\n",
      "|1.0             |0.0              |\n",
      "|1.0             |0.0              |\n",
      "|5.0             |1.0              |\n",
      "|5.0             |1.0              |\n",
      "+----------------+-----------------+\n",
      "only showing top 8 rows\n",
      "\n"
     ]
    }
   ],
   "source": [
    "# Import transformer\n",
    "from pyspark.ml.feature import Binarizer\n",
    "\n",
    "df = df.drop('Listed_On_Weekend')\n",
    "# Create the transformer\n",
    "binarizer = Binarizer(threshold=4.0, inputCol='List_Day_of_Week', outputCol='Listed_On_Weekend')\n",
    "\n",
    "# Apply the transformation to df\n",
    "df = binarizer.transform(df)\n",
    "\n",
    "# Verify transformation\n",
    "df[['List_Day_of_Week', 'Listed_On_Weekend']].show(8,0)"
   ]
  },
  {
   "cell_type": "code",
   "execution_count": 79,
   "metadata": {},
   "outputs": [],
   "source": [
    "sample_df = df[['BEDROOMS']].sample(False,0.5,42).toPandas()"
   ]
  },
  {
   "cell_type": "code",
   "execution_count": 80,
   "metadata": {},
   "outputs": [
    {
     "data": {
      "image/png": "[encoded data removed]",
      "text/plain": [
       "<Figure size 640x480 with 1 Axes>"
      ]
     },
     "metadata": {},
     "output_type": "display_data"
    }
   ],
   "source": [
    "# Plot distribution of sample_df\n",
    "sample_df = sample_df.astype({'BEDROOMS': 'double'})\n",
    "sns.histplot(sample_df[['BEDROOMS']], kde=True)\n",
    "plt.show()"
   ]
  },
  {
   "cell_type": "code",
   "execution_count": 81,
   "metadata": {},
   "outputs": [
    {
     "name": "stdout",
     "output_type": "stream",
     "text": [
      "+--------+--------+\n",
      "|BEDROOMS|bedrooms|\n",
      "+--------+--------+\n",
      "|     4.0|     4.0|\n",
      "|     4.0|     4.0|\n",
      "|     5.0|     5.0|\n",
      "|     5.0|     5.0|\n",
      "+--------+--------+\n",
      "only showing top 4 rows\n",
      "\n"
     ]
    }
   ],
   "source": [
    "from pyspark.ml.feature import Bucketizer\n",
    "\n",
    "\n",
    "# Create the bucket splits and bucketizer\n",
    "splits = [0, 1, 2, 3, 4, 5, float('Inf')]\n",
    "buck = Bucketizer(splits=splits, inputCol='BEDROOMS', outputCol='bedrooms')\n",
    "\n",
    "# Apply the transformation to df: df_bucket\n",
    "df_bucket = buck.transform(df)\n",
    "\n",
    "# Display results\n",
    "df_bucket[['BEDROOMS', 'bedrooms']].show(4)\n"
   ]
  },
  {
   "cell_type": "code",
   "execution_count": 82,
   "metadata": {},
   "outputs": [
    {
     "name": "stdout",
     "output_type": "stream",
     "text": [
      "+--------+--------+\n",
      "|BEDROOMS|bedrooms|\n",
      "+--------+--------+\n",
      "|     5.0|     5.0|\n",
      "|     5.0|     5.0|\n",
      "|     5.0|     5.0|\n",
      "|     5.0|     5.0|\n",
      "+--------+--------+\n",
      "only showing top 4 rows\n",
      "\n"
     ]
    }
   ],
   "source": [
    "df_bucket[['BEDROOMS', 'bedrooms']].orderBy(F.desc('BEDROOMS')).show(4)"
   ]
  },
  {
   "cell_type": "code",
   "execution_count": 83,
   "metadata": {},
   "outputs": [],
   "source": [
    "# new_df = spark.createDataFrame([('Hello, World!',),('Hello, World!',),('Hello, World',)], ['SCHOOLDISTRICTNUMBER'])\n",
    "# new_df.show(5,0)"
   ]
  },
  {
   "cell_type": "code",
   "execution_count": 84,
   "metadata": {},
   "outputs": [],
   "source": [
    "# from pyspark.ml import Pipeline\n",
    "# from pyspark.ml.feature import StringIndexer, OneHotEncoder\n",
    "\n",
    "# # Define the stages in the pipeline\n",
    "# string_indexer = StringIndexer(inputCol='SCHOOLDISTRICTNUMBER', outputCol='School_Index', handleInvalid='keep')\n",
    "# encoder = OneHotEncoder(inputCol='School_Index', outputCol='School_Vec')\n",
    "\n",
    "# # Define the pipeline\n",
    "# pipeline = Pipeline(stages=[string_indexer, encoder])\n",
    "\n",
    "# # Fit and transform the data\n",
    "# encoded_df = pipeline.fit(new_df).transform(new_df)\n",
    "\n",
    "# # Inspect the transformation steps\n",
    "# encoded_df[['SCHOOLDISTRICTNUMBER', 'School_Index', 'School_Vec']].show(truncate=100)"
   ]
  },
  {
   "cell_type": "code",
   "execution_count": 85,
   "metadata": {},
   "outputs": [],
   "source": [
    "# df.select('SCHOOLDISTRICTNUMBER').show(5,0)"
   ]
  },
  {
   "cell_type": "code",
   "execution_count": 86,
   "metadata": {},
   "outputs": [
    {
     "name": "stdout",
     "output_type": "stream",
     "text": [
      "+---------------------+\n",
      "|SCHOOLDISTRICTNUMBER |\n",
      "+---------------------+\n",
      "|624 - White Bear Lake|\n",
      "|6 - South St. Paul   |\n",
      "|832 - Mahtomedi      |\n",
      "|625 - St. Paul       |\n",
      "|623 - Roseville      |\n",
      "+---------------------+\n",
      "only showing top 5 rows\n",
      "\n"
     ]
    }
   ],
   "source": [
    "# Creating list with the data\n",
    "data = [(\"624 - White Bear Lake\",), (\"6 - South St. Paul\",), (\"832 - Mahtomedi\",), \n",
    "    (\"625 - St. Paul\",), (\"623 - Roseville\",), (\"622 - North St Paul-Maplewood\",),\n",
    "    (\"833 - South Washington County\",), (\"834 - Stillwater\",)]\n",
    "\n",
    "# Creating RDD from the list\n",
    "dfss = spark.createDataFrame(data,[\"SCHOOLDISTRICTNUMBER\"])\n",
    "\n",
    "dfss.show(5,0)"
   ]
  },
  {
   "cell_type": "code",
   "execution_count": 87,
   "metadata": {},
   "outputs": [
    {
     "name": "stdout",
     "output_type": "stream",
     "text": [
      "+-----------------------------+------------+-------------+\n",
      "|         SCHOOLDISTRICTNUMBER|School_Index|   School_Vec|\n",
      "+-----------------------------+------------+-------------+\n",
      "|        624 - White Bear Lake|         3.0|(8,[3],[1.0])|\n",
      "|           6 - South St. Paul|         0.0|(8,[0],[1.0])|\n",
      "|              832 - Mahtomedi|         5.0|(8,[5],[1.0])|\n",
      "|               625 - St. Paul|         4.0|(8,[4],[1.0])|\n",
      "|              623 - Roseville|         2.0|(8,[2],[1.0])|\n",
      "|622 - North St Paul-Maplewood|         1.0|(8,[1],[1.0])|\n",
      "|833 - South Washington County|         6.0|(8,[6],[1.0])|\n",
      "|             834 - Stillwater|         7.0|(8,[7],[1.0])|\n",
      "+-----------------------------+------------+-------------+\n",
      "\n"
     ]
    }
   ],
   "source": [
    "from pyspark.ml import Pipeline\n",
    "from pyspark.ml.feature import StringIndexer, OneHotEncoder\n",
    "\n",
    "# Define the stages in the pipeline\n",
    "string_indexer = StringIndexer(inputCol='SCHOOLDISTRICTNUMBER', outputCol='School_Index', handleInvalid='keep')\n",
    "encoder = OneHotEncoder(inputCol='School_Index', outputCol='School_Vec')\n",
    "\n",
    "# Define the pipeline\n",
    "pipeline = Pipeline(stages=[string_indexer, encoder])\n",
    "\n",
    "# Fit and transform the data\n",
    "encoded_df = pipeline.fit(dfss).transform(dfss)\n",
    "\n",
    "# Inspect the transformation steps\n",
    "encoded_df[['SCHOOLDISTRICTNUMBER', 'School_Index', 'School_Vec']].show(truncate=100)"
   ]
  },
  {
   "cell_type": "code",
   "execution_count": 88,
   "metadata": {},
   "outputs": [
    {
     "name": "stdout",
     "output_type": "stream",
     "text": [
      "+--------------------+------------+-------------+\n",
      "|SCHOOLDISTRICTNUMBER|School_Index|   School_Vec|\n",
      "+--------------------+------------+-------------+\n",
      "|624 - White Bear ...|         3.0|(8,[3],[1.0])|\n",
      "|  6 - South St. Paul|         0.0|(8,[0],[1.0])|\n",
      "|     832 - Mahtomedi|         5.0|(8,[5],[1.0])|\n",
      "|      625 - St. Paul|         4.0|(8,[4],[1.0])|\n",
      "|     623 - Roseville|         2.0|(8,[2],[1.0])|\n",
      "|622 - North St Pa...|         1.0|(8,[1],[1.0])|\n",
      "|833 - South Washi...|         6.0|(8,[6],[1.0])|\n",
      "|    834 - Stillwater|         7.0|(8,[7],[1.0])|\n",
      "+--------------------+------------+-------------+\n",
      "\n"
     ]
    }
   ],
   "source": [
    "encoded_df.show()"
   ]
  },
  {
   "cell_type": "code",
   "execution_count": 89,
   "metadata": {},
   "outputs": [],
   "source": [
    "df_before_encoded = df"
   ]
  },
  {
   "cell_type": "code",
   "execution_count": 90,
   "metadata": {},
   "outputs": [],
   "source": [
    "df = df.join(encoded_df.cache(),on='SCHOOLDISTRICTNUMBER',how='left')"
   ]
  },
  {
   "cell_type": "code",
   "execution_count": 91,
   "metadata": {},
   "outputs": [
    {
     "name": "stdout",
     "output_type": "stream",
     "text": [
      "+-----------------------------+------------+-------------+\n",
      "|SCHOOLDISTRICTNUMBER         |School_Index|School_Vec   |\n",
      "+-----------------------------+------------+-------------+\n",
      "|833 - South Washington County|6.0         |(8,[6],[1.0])|\n",
      "|833 - South Washington County|6.0         |(8,[6],[1.0])|\n",
      "|833 - South Washington County|6.0         |(8,[6],[1.0])|\n",
      "|833 - South Washington County|6.0         |(8,[6],[1.0])|\n",
      "|833 - South Washington County|6.0         |(8,[6],[1.0])|\n",
      "+-----------------------------+------------+-------------+\n",
      "only showing top 5 rows\n",
      "\n"
     ]
    }
   ],
   "source": [
    "df.select(encoded_df.columns).show(5,0)"
   ]
  },
  {
   "cell_type": "code",
   "execution_count": 92,
   "metadata": {},
   "outputs": [],
   "source": [
    "\n",
    "df_after_encoded = df"
   ]
  },
  {
   "cell_type": "code",
   "execution_count": 93,
   "metadata": {},
   "outputs": [
    {
     "name": "stdout",
     "output_type": "stream",
     "text": [
      "+-----------------------------+----------+----+-----+-------------------+------------------+----------+---------------+-------------+---------------+----------+---------+---------------+-----------------+------------+--------------+-------+---------+-----------------+------------+--------------+----------+---------+-------------------------------------------------------------------------------------------------------------------------------------------------------------------------------------------------------------------------+-------------------------------------+----------+------------------+---------------+----+--------------------------------------------------------------------------+---------------+-------+----------+---------+------------------+-------+----------+----------+---------+------------------+----------------+-----+------------------+---------------------------------------------------------------------------------------------------------------------------------------------------------------+----------------+---------------------------------------------------------------------------+---------+-------------------------+----------+----------+---------+-------------------------------------------------+------------------------------------------------------------------------------------+---------+---------+-----------+-----------------+-----+----------+----------------------------------------------------------------------------------------------------------------+---------+----------+---------+----------+---------+----------+---------+----------+--------+---------------+-----------------+--------------+-----------------+-----------------+-------------------+----------------------+---------------------+-------------------+-------------------+-----------------+-------------------+--------+---------+---------+---------+------------+------------------+------------------+----------------+--------------------+------------+----------+------------------+----------------+---------+-----------+---------------+-------------------+----------------------------------------------------------------------------+-----------------+------------+-------------+\n",
      "|SchoolDistrictNumber         |PostalCode|NO  |MLSID|StreetNumberNumeric|streetaddress     |STREETNAME|StateOrProvince|City         |SALESCLOSEPRICE|LISTDATE  |LISTPRICE|LISTTYPE       |OriginalListPrice|PricePerTSFT|FOUNDATIONSIZE|FENCE  |MapLetter|LotSizeDimensions|DAYSONMARKET|offmarketdate |FIREPLACES|RoomArea4|roomtype                                                                                                                                                                                                                 |ROOF                                 |RoomFloor4|PotentialShortSale|PoolDescription|PDOM|GarageDescription                                                         |SQFTABOVEGROUND|TAXES  |RoomFloor1|RoomArea1|TAXWITHASSESSMENTS|TAXYEAR|LIVINGAREA|UNITNUMBER|YEARBUILT|ZONING            |STYLE           |ACRES|CoolingDescription|APPLIANCES                                                                                                                                                     |BACKONMARKETDATE|ROOMFAMILYCHAR                                                             |RoomArea3|EXTERIOR                 |RoomFloor3|RoomFloor2|RoomArea2|DiningRoomDescription                            |BASEMENT                                                                            |BATHSFULL|BATHSHALF|BATHQUARTER|BATHSTHREEQUARTER|Class|BATHSTOTAL|BATHDESC                                                                                                        |RoomArea5|RoomFloor5|RoomArea6|RoomFloor6|RoomArea7|RoomFloor7|RoomArea8|RoomFloor8|BEDROOMS|SQFTBELOWGROUND|AssumableMortgage|ASSOCIATIONFEE|ASSESSMENTPENDING|ASSESSEDVALUATION|log_SalesClosePrice|percentage_scaled_days|scaled_FOUNDATIONSIZE|scaled_DAYSONMARKET|scaled_FIREPLACES  |Reflect_YearBuilt|adj_yearbuilt      |latitude|longitude|walkscore|bikescore|transitscore|LOT_SIZE_SQFT     |YARD_SIZE         |ASSESSED_TO_LIST|TAX_TO_LIST         |BED_TO_BATHS|Total_SQFT|BATHS_PER_1000SQFT|List_Day_of_Week|list_year|report_year|MedianHomeValue|has_attached_garage|garage_list                                                                 |Listed_On_Weekend|School_Index|School_Vec   |\n",
      "+-----------------------------+----------+----+-----+-------------------+------------------+----------+---------------+-------------+---------------+----------+---------+---------------+-----------------+------------+--------------+-------+---------+-----------------+------------+--------------+----------+---------+-------------------------------------------------------------------------------------------------------------------------------------------------------------------------------------------------------------------------+-------------------------------------+----------+------------------+---------------+----+--------------------------------------------------------------------------+---------------+-------+----------+---------+------------------+-------+----------+----------+---------+------------------+----------------+-----+------------------+---------------------------------------------------------------------------------------------------------------------------------------------------------------+----------------+---------------------------------------------------------------------------+---------+-------------------------+----------+----------+---------+-------------------------------------------------+------------------------------------------------------------------------------------+---------+---------+-----------+-----------------+-----+----------+----------------------------------------------------------------------------------------------------------------+---------+----------+---------+----------+---------+----------+---------+----------+--------+---------------+-----------------+--------------+-----------------+-----------------+-------------------+----------------------+---------------------+-------------------+-------------------+-----------------+-------------------+--------+---------+---------+---------+------------+------------------+------------------+----------------+--------------------+------------+----------+------------------+----------------+---------+-----------+---------------+-------------------+----------------------------------------------------------------------------+-----------------+------------+-------------+\n",
      "|833 - South Washington County|55125     |4992|RMLS |3507               |3507 Crestmoor Pt |Crestmoor |MN             |WB - Woodbury|770000.0       |2017-05-03|775000   |Exclusive Right|775000           |220.6936    |2549.0        |None   |A3       |0                |16.0        |5/19/2017 0:00|1.0       |18x12    |Living Room, Dining Room, Family Room, Kitchen, First (1st) Bedroom, Second (2nd) Bedroom, Third (3rd) Bedroom, Fourth (4th) Bedroom, Office, Sun Room                                                                   |Asphalt Shingles, Age 8 Years or Less|Main      |No                |None           |16.0|Attached Garage, Insulated Garage, Driveway - Concrete, Garage Door Opener|3489.0         |10776.0|NULL      |NULL     |10776.0           |2016.0 |3489.0    |NULL      |2000.0   |Residential-Single|(SF) Two Stories|0.82 |Central           |Cooktop, Wall Oven, Microwave, Dishwasher, Trash Compactor, Refrigerator, Washer, Dryer, Water Softener - Owned, Disposal, Central Vacuum, Air-To-Air Exchanger|NULL            |Main Level, 2 Story/High/Vaulted Ceilings, Great Room                      |22x19    |Brick/Stone, Cement Board|Main      |Main      |16x13    |Separate/Formal Dining Room, Eat In Kitchen      |Walkout, Full, Sump Pump                                                            |3.0      |1.0      |0.0        |0.0              |SF   |4.0       |Main Floor Full Bath, Main Floor 1/2 Bath, Upper Level Full Bath , Private Master, Full Master, Bathroom Ensuite|16x19    |Main      |14x13    |Upper     |14x13    |Upper     |16x13    |Upper     |4.0     |0.0            |NULL             |440.0         |No               |0.0              |13.554145793829866 |0.0                   |0.6721181746241097   |0.07111111111111111|0.14285714285714285|19.0             |0.3396232718951086 |44.88482|-92.88453|69       |26       |68          |35719.2           |33170.2           |0.0             |0.013904516129032258|1.0         |3489.0    |1.1464603038119805|4.0             |2017     |2016       |237624         |1                  |[Attached Garage, Insulated Garage, Driveway - Concrete, Garage Door Opener]|0.0              |6.0         |(8,[6],[1.0])|\n",
      "|833 - South Washington County|55125     |4992|RMLS |3507               |3507 Crestmoor Pt |Crestmoor |MN             |WB - Woodbury|770000.0       |2017-05-03|775000   |Exclusive Right|775000           |220.6936    |2549.0        |None   |A3       |0                |16.0        |5/19/2017 0:00|1.0       |18x12    |Living Room, Dining Room, Family Room, Kitchen, First (1st) Bedroom, Second (2nd) Bedroom, Third (3rd) Bedroom, Fourth (4th) Bedroom, Office, Sun Room                                                                   |Asphalt Shingles, Age 8 Years or Less|Main      |No                |None           |16.0|Attached Garage, Insulated Garage, Driveway - Concrete, Garage Door Opener|3489.0         |10776.0|NULL      |NULL     |10776.0           |2016.0 |3489.0    |NULL      |2000.0   |Residential-Single|(SF) Two Stories|0.82 |Central           |Cooktop, Wall Oven, Microwave, Dishwasher, Trash Compactor, Refrigerator, Washer, Dryer, Water Softener - Owned, Disposal, Central Vacuum, Air-To-Air Exchanger|NULL            |Main Level, 2 Story/High/Vaulted Ceilings, Great Room                      |22x19    |Brick/Stone, Cement Board|Main      |Main      |16x13    |Separate/Formal Dining Room, Eat In Kitchen      |Walkout, Full, Sump Pump                                                            |3.0      |1.0      |0.0        |0.0              |SF   |4.0       |Main Floor Full Bath, Main Floor 1/2 Bath, Upper Level Full Bath , Private Master, Full Master, Bathroom Ensuite|16x19    |Main      |14x13    |Upper     |14x13    |Upper     |16x13    |Upper     |4.0     |0.0            |NULL             |440.0         |No               |0.0              |13.554145793829866 |0.0                   |0.6721181746241097   |0.07111111111111111|0.14285714285714285|19.0             |0.3396232718951086 |44.88482|-92.88453|69       |26       |68          |35719.2           |33170.2           |0.0             |0.013904516129032258|1.0         |3489.0    |1.1464603038119805|4.0             |2017     |2016       |190846         |1                  |[Attached Garage, Insulated Garage, Driveway - Concrete, Garage Door Opener]|0.0              |6.0         |(8,[6],[1.0])|\n",
      "|833 - South Washington County|55125     |4989|RMLS |3503               |3503 Crestmoor Pt |Crestmoor |MN             |WB - Woodbury|750000.0       |2017-03-28|750000   |Exclusive Right|750000           |148.4854    |1801.0        |NULL   |A3       |76x201x32x227x244|16.0        |4/13/2017 0:00|2.0       |15x15    |Living Room, Dining Room, Family Room, Kitchen, First (1st) Bedroom, Second (2nd) Bedroom, Third (3rd) Bedroom, Fourth (4th) Bedroom, Fifth (5th) Bedroom, Exercise Room, Billiard Room, Amusement Room, Office, Sun Room|Asphalt Shingles                     |Main      |No                |NULL           |16.0|Attached Garage, Driveway - Concrete, Garage Door Opener                  |3292.0         |10634.0|NULL      |NULL     |10634.0           |2016.0 |5051.0    |NULL      |1998.0   |Residential-Single|(SF) Two Stories|0.74 |Central           |Cooktop, Wall Oven, Microwave, Exhaust Fan/Hood, Dishwasher, Refrigerator, Washer, Dryer, Water Softener - Owned, Disposal, Air-To-Air Exchanger               |NULL            |Main Level, Lower Level, 2 or More, Family Room, Entertainment/Media Center|21x14    |Brick/Stone, Cement Board|Main      |Main      |13x12    |Separate/Formal Dining Room, Informal Dining Room|Walkout, Full, Finished (Livable), Drain Tiled, Drainage System, Day/Lookout Windows|3.0      |1.0      |0.0        |1.0              |SF   |5.0       |Main Floor 1/2 Bath, Private Master, Full Master, Jack and Jill, 3/4 Basement, Separate Tub & Shower, Whirlpool |16x14    |Upper     |13x12    |Upper     |13x12    |Upper     |16x14    |Upper     |5.0     |1759.0         |NULL             |440.0         |Unknown          |0.0              |13.527828485512494 |0.0                   |0.47480875758375096  |0.07111111111111111|0.2857142857142857 |21.0             |0.3284587387530511 |44.88482|-92.88453|69       |26       |68          |32234.399999999998|30433.399999999998|0.0             |0.014178666666666666|1.0         |5051.0    |0.9899029895070283|3.0             |2017     |2016       |237624         |1                  |[Attached Garage, Driveway - Concrete, Garage Door Opener]                  |0.0              |6.0         |(8,[6],[1.0])|\n",
      "|833 - South Washington County|55125     |4989|RMLS |3503               |3503 Crestmoor Pt |Crestmoor |MN             |WB - Woodbury|750000.0       |2017-03-28|750000   |Exclusive Right|750000           |148.4854    |1801.0        |NULL   |A3       |76x201x32x227x244|16.0        |4/13/2017 0:00|2.0       |15x15    |Living Room, Dining Room, Family Room, Kitchen, First (1st) Bedroom, Second (2nd) Bedroom, Third (3rd) Bedroom, Fourth (4th) Bedroom, Fifth (5th) Bedroom, Exercise Room, Billiard Room, Amusement Room, Office, Sun Room|Asphalt Shingles                     |Main      |No                |NULL           |16.0|Attached Garage, Driveway - Concrete, Garage Door Opener                  |3292.0         |10634.0|NULL      |NULL     |10634.0           |2016.0 |5051.0    |NULL      |1998.0   |Residential-Single|(SF) Two Stories|0.74 |Central           |Cooktop, Wall Oven, Microwave, Exhaust Fan/Hood, Dishwasher, Refrigerator, Washer, Dryer, Water Softener - Owned, Disposal, Air-To-Air Exchanger               |NULL            |Main Level, Lower Level, 2 or More, Family Room, Entertainment/Media Center|21x14    |Brick/Stone, Cement Board|Main      |Main      |13x12    |Separate/Formal Dining Room, Informal Dining Room|Walkout, Full, Finished (Livable), Drain Tiled, Drainage System, Day/Lookout Windows|3.0      |1.0      |0.0        |1.0              |SF   |5.0       |Main Floor 1/2 Bath, Private Master, Full Master, Jack and Jill, 3/4 Basement, Separate Tub & Shower, Whirlpool |16x14    |Upper     |13x12    |Upper     |13x12    |Upper     |16x14    |Upper     |5.0     |1759.0         |NULL             |440.0         |Unknown          |0.0              |13.527828485512494 |0.0                   |0.47480875758375096  |0.07111111111111111|0.2857142857142857 |21.0             |0.3284587387530511 |44.88482|-92.88453|69       |26       |68          |32234.399999999998|30433.399999999998|0.0             |0.014178666666666666|1.0         |5051.0    |0.9899029895070283|3.0             |2017     |2016       |190846         |1                  |[Attached Garage, Driveway - Concrete, Garage Door Opener]                  |0.0              |6.0         |(8,[6],[1.0])|\n",
      "|833 - South Washington County|55125     |4979|RMLS |8905               |8905 Springwood Dr|Springwood|MN             |WB - Woodbury|675000.0       |2017-09-24|699900   |Exclusive Right|699900           |154.8165    |1562.0        |Partial|E3       |89x157           |9.0         |10/3/2017 0:00|2.0       |14x14    |Living Room, Dining Room, Family Room, Kitchen, First (1st) Bedroom, Second (2nd) Bedroom, Third (3rd) Bedroom, Fourth (4th) Bedroom, Fifth (5th) Bedroom, Deck, Patio, Exercise Room, Family Room                       |Asphalt Shingles                     |Main      |No                |Below Ground   |9.0 |Attached Garage, Driveway - Concrete, Garage Door Opener                  |3024.0         |8544.0 |NULL      |NULL     |8544.0            |2017.0 |4360.0    |NULL      |1999.0   |Residential-Single|(SF) Two Stories|0.388|Central           |Range, Microwave, Dishwasher, Refrigerator                                                                                                                     |NULL            |NULL                                                                       |16x16    |Cement Board             |Main      |Main      |12x11    |Separate/Formal Dining Room, Eat In Kitchen      |Walkout, Full, Finished (Livable), Egress Windows                                   |2.0      |1.0      |0.0        |1.0              |SF   |4.0       |Main Floor 1/2 Bath, Upper Level Full Bath , Full Master, 3/4 Basement                                          |17x14    |Upper     |12x12    |Upper     |12x12    |Upper     |12x11    |Upper     |5.0     |1336.0         |NULL             |450.0         |No               |0.0              |13.422467969854667 |0.0                   |0.4117647058823529   |0.04               |0.2857142857142857 |20.0             |0.33380820069533407|44.88482|-92.88453|69       |26       |68          |16901.28          |15339.279999999999|0.0             |0.012207458208315473|1.25        |4360.0    |0.9174311926605504|1.0             |2017     |2016       |237624         |1                  |[Attached Garage, Driveway - Concrete, Garage Door Opener]                  |0.0              |6.0         |(8,[6],[1.0])|\n",
      "+-----------------------------+----------+----+-----+-------------------+------------------+----------+---------------+-------------+---------------+----------+---------+---------------+-----------------+------------+--------------+-------+---------+-----------------+------------+--------------+----------+---------+-------------------------------------------------------------------------------------------------------------------------------------------------------------------------------------------------------------------------+-------------------------------------+----------+------------------+---------------+----+--------------------------------------------------------------------------+---------------+-------+----------+---------+------------------+-------+----------+----------+---------+------------------+----------------+-----+------------------+---------------------------------------------------------------------------------------------------------------------------------------------------------------+----------------+---------------------------------------------------------------------------+---------+-------------------------+----------+----------+---------+-------------------------------------------------+------------------------------------------------------------------------------------+---------+---------+-----------+-----------------+-----+----------+----------------------------------------------------------------------------------------------------------------+---------+----------+---------+----------+---------+----------+---------+----------+--------+---------------+-----------------+--------------+-----------------+-----------------+-------------------+----------------------+---------------------+-------------------+-------------------+-----------------+-------------------+--------+---------+---------+---------+------------+------------------+------------------+----------------+--------------------+------------+----------+------------------+----------------+---------+-----------+---------------+-------------------+----------------------------------------------------------------------------+-----------------+------------+-------------+\n",
      "only showing top 5 rows\n",
      "\n"
     ]
    }
   ],
   "source": [
    "df.show(5,0)"
   ]
  },
  {
   "cell_type": "code",
   "execution_count": 94,
   "metadata": {},
   "outputs": [
    {
     "name": "stdout",
     "output_type": "stream",
     "text": [
      "root\n",
      " |-- SchoolDistrictNumber: string (nullable = true)\n",
      " |-- PostalCode: string (nullable = true)\n",
      " |-- NO: integer (nullable = true)\n",
      " |-- MLSID: string (nullable = true)\n",
      " |-- StreetNumberNumeric: string (nullable = true)\n",
      " |-- streetaddress: string (nullable = true)\n",
      " |-- STREETNAME: string (nullable = true)\n",
      " |-- StateOrProvince: string (nullable = true)\n",
      " |-- City: string (nullable = true)\n",
      " |-- SALESCLOSEPRICE: double (nullable = true)\n",
      " |-- LISTDATE: date (nullable = true)\n",
      " |-- LISTPRICE: string (nullable = true)\n",
      " |-- LISTTYPE: string (nullable = true)\n",
      " |-- OriginalListPrice: string (nullable = true)\n",
      " |-- PricePerTSFT: string (nullable = true)\n",
      " |-- FOUNDATIONSIZE: double (nullable = true)\n",
      " |-- FENCE: string (nullable = true)\n",
      " |-- MapLetter: string (nullable = true)\n",
      " |-- LotSizeDimensions: string (nullable = true)\n",
      " |-- DAYSONMARKET: double (nullable = true)\n",
      " |-- offmarketdate: string (nullable = true)\n",
      " |-- FIREPLACES: double (nullable = true)\n",
      " |-- RoomArea4: string (nullable = true)\n",
      " |-- roomtype: string (nullable = true)\n",
      " |-- ROOF: string (nullable = true)\n",
      " |-- RoomFloor4: string (nullable = true)\n",
      " |-- PotentialShortSale: string (nullable = true)\n",
      " |-- PoolDescription: string (nullable = true)\n",
      " |-- PDOM: double (nullable = true)\n",
      " |-- GarageDescription: string (nullable = true)\n",
      " |-- SQFTABOVEGROUND: double (nullable = true)\n",
      " |-- TAXES: double (nullable = true)\n",
      " |-- RoomFloor1: string (nullable = true)\n",
      " |-- RoomArea1: string (nullable = true)\n",
      " |-- TAXWITHASSESSMENTS: double (nullable = true)\n",
      " |-- TAXYEAR: double (nullable = true)\n",
      " |-- LIVINGAREA: double (nullable = true)\n",
      " |-- UNITNUMBER: string (nullable = true)\n",
      " |-- YEARBUILT: double (nullable = true)\n",
      " |-- ZONING: string (nullable = true)\n",
      " |-- STYLE: string (nullable = true)\n",
      " |-- ACRES: double (nullable = true)\n",
      " |-- CoolingDescription: string (nullable = true)\n",
      " |-- APPLIANCES: string (nullable = true)\n",
      " |-- BACKONMARKETDATE: double (nullable = true)\n",
      " |-- ROOMFAMILYCHAR: string (nullable = true)\n",
      " |-- RoomArea3: string (nullable = true)\n",
      " |-- EXTERIOR: string (nullable = true)\n",
      " |-- RoomFloor3: string (nullable = true)\n",
      " |-- RoomFloor2: string (nullable = true)\n",
      " |-- RoomArea2: string (nullable = true)\n",
      " |-- DiningRoomDescription: string (nullable = true)\n",
      " |-- BASEMENT: string (nullable = true)\n",
      " |-- BATHSFULL: double (nullable = true)\n",
      " |-- BATHSHALF: double (nullable = true)\n",
      " |-- BATHQUARTER: double (nullable = true)\n",
      " |-- BATHSTHREEQUARTER: double (nullable = true)\n",
      " |-- Class: string (nullable = true)\n",
      " |-- BATHSTOTAL: double (nullable = true)\n",
      " |-- BATHDESC: string (nullable = true)\n",
      " |-- RoomArea5: string (nullable = true)\n",
      " |-- RoomFloor5: string (nullable = true)\n",
      " |-- RoomArea6: string (nullable = true)\n",
      " |-- RoomFloor6: string (nullable = true)\n",
      " |-- RoomArea7: string (nullable = true)\n",
      " |-- RoomFloor7: string (nullable = true)\n",
      " |-- RoomArea8: string (nullable = true)\n",
      " |-- RoomFloor8: string (nullable = true)\n",
      " |-- BEDROOMS: double (nullable = true)\n",
      " |-- SQFTBELOWGROUND: double (nullable = true)\n",
      " |-- AssumableMortgage: string (nullable = true)\n",
      " |-- ASSOCIATIONFEE: double (nullable = true)\n",
      " |-- ASSESSMENTPENDING: string (nullable = true)\n",
      " |-- ASSESSEDVALUATION: double (nullable = true)\n",
      " |-- log_SalesClosePrice: double (nullable = true)\n",
      " |-- percentage_scaled_days: double (nullable = true)\n",
      " |-- scaled_FOUNDATIONSIZE: double (nullable = true)\n",
      " |-- scaled_DAYSONMARKET: double (nullable = true)\n",
      " |-- scaled_FIREPLACES: double (nullable = true)\n",
      " |-- Reflect_YearBuilt: double (nullable = true)\n",
      " |-- adj_yearbuilt: double (nullable = true)\n",
      " |-- latitude: double (nullable = true)\n",
      " |-- longitude: double (nullable = true)\n",
      " |-- walkscore: integer (nullable = true)\n",
      " |-- bikescore: integer (nullable = true)\n",
      " |-- transitscore: integer (nullable = true)\n",
      " |-- LOT_SIZE_SQFT: double (nullable = true)\n",
      " |-- YARD_SIZE: double (nullable = true)\n",
      " |-- ASSESSED_TO_LIST: double (nullable = true)\n",
      " |-- TAX_TO_LIST: double (nullable = true)\n",
      " |-- BED_TO_BATHS: double (nullable = true)\n",
      " |-- Total_SQFT: double (nullable = true)\n",
      " |-- BATHS_PER_1000SQFT: double (nullable = true)\n",
      " |-- List_Day_of_Week: double (nullable = true)\n",
      " |-- list_year: integer (nullable = true)\n",
      " |-- report_year: integer (nullable = true)\n",
      " |-- MedianHomeValue: integer (nullable = true)\n",
      " |-- has_attached_garage: integer (nullable = true)\n",
      " |-- garage_list: array (nullable = true)\n",
      " |    |-- element: string (containsNull = false)\n",
      " |-- Listed_On_Weekend: double (nullable = true)\n",
      " |-- School_Index: double (nullable = true)\n",
      " |-- School_Vec: vector (nullable = true)\n",
      "\n"
     ]
    }
   ],
   "source": [
    "df.printSchema()"
   ]
  },
  {
   "cell_type": "code",
   "execution_count": 95,
   "metadata": {},
   "outputs": [],
   "source": [
    "# df = df.drop('City','latitude','longitude')\n",
    "# df = df.withColumn('garage_list', F.col('garage_list').cast('string'))\\\n",
    "#     .withColumn('School_Vec', F.col('School_Vec').cast('string'))\n",
    "# df.coalesce(1).write.format('csv').option('header','true').partitionBy('report_year').mode('overwrite').save('./tmp_feature.csv')\n",
    "# df_after_encoded.coalesce(1).write.parquet('./03_Feature_Engineering_end.parquet', mode='overwrite',compression='gzip', partitionBy='report_year')"
   ]
  },
  {
   "cell_type": "code",
   "execution_count": 96,
   "metadata": {},
   "outputs": [],
   "source": [
    "# from pyspark.ml.feature import OneHotEncoder, StringIndexer\n",
    "\n",
    "# # Map strings to numbers with string indexer\n",
    "# string_indexer = StringIndexer(inputCol='SCHOOLDISTRICTNUMBER', outputCol='School_Index')\n",
    "# indexed_df = string_indexer.fit(df).transform(df)\n",
    "\n",
    "# # Onehot encode indexed values\n",
    "# encoder = OneHotEncoder(inputCol='School_Index', outputCol='School_Vec')\n",
    "# encoded_df = encoder.transform(indexed_df)\n",
    "\n",
    "# # Inspect the transformation steps\n",
    "# encoded_df[['SCHOOLDISTRICTNUMBER', 'School_Index', 'School_Vec']].show(truncate=100)"
   ]
  },
  {
   "cell_type": "code",
   "execution_count": null,
   "metadata": {},
   "outputs": [],
   "source": []
  }
 ],
 "metadata": {
  "kernelspec": {
   "display_name": "Python 3 (ipykernel)",
   "language": "python",
   "name": "python3"
  }
 },
 "nbformat": 4,
 "nbformat_minor": 2
}
