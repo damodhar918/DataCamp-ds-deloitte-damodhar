{
 "cells": [
  {
   "cell_type": "code",
   "execution_count": 53,
   "metadata": {},
   "outputs": [],
   "source": [
    "import pandas as pd\n",
    "import numpy as np\n",
    "import matplotlib.pyplot as plt\n",
    "import seaborn as sns\n",
    "\n"
   ]
  },
  {
   "cell_type": "code",
   "execution_count": 54,
   "metadata": {},
   "outputs": [
    {
     "name": "stdout",
     "output_type": "stream",
     "text": [
      "Index(['uid', 'reg_date', 'device', 'gender', 'country', 'age'], dtype='object')\n",
      "Index(['date', 'uid', 'sku', 'price'], dtype='object')\n"
     ]
    }
   ],
   "source": [
    "# Import pandas\n",
    "import pandas as pd\n",
    "\n",
    "# Load the customer_data\n",
    "customer_data = pd.read_csv('customer_data.csv')\n",
    "\n",
    "# Load the app_purchases\n",
    "app_purchases = pd.read_csv('inapp_purchases.csv',parse_dates=['date'])\n",
    "customer_data.reg_date = pd.to_datetime(customer_data.reg_date)\n",
    "# Print the columns of customer data\n",
    "print(customer_data.columns)\n",
    "\n",
    "# Print the columns of app_purchases\n",
    "print(app_purchases.columns)\n",
    "# customer_data.rename(columns={'reg_date':'date'}, inplace=True)"
   ]
  },
  {
   "cell_type": "code",
   "execution_count": 55,
   "metadata": {},
   "outputs": [
    {
     "name": "stdout",
     "output_type": "stream",
     "text": [
      "        date       uid            sku  price                  reg_date device  \\\n",
      "0 2017-07-10  41195147  sku_three_499    499 2017-06-26 00:00:00+00:00    and   \n",
      "1 2017-07-15  41195147  sku_three_499    499 2017-06-26 00:00:00+00:00    and   \n",
      "2 2017-11-12  41195147   sku_four_599    599 2017-06-26 00:00:00+00:00    and   \n",
      "3 2017-09-26  91591874    sku_two_299    299 2017-01-05 00:00:00+00:00    and   \n",
      "4 2017-12-01  91591874   sku_four_599    599 2017-01-05 00:00:00+00:00    and   \n",
      "\n",
      "  gender country  age  \n",
      "0      M     BRA   17  \n",
      "1      M     BRA   17  \n",
      "2      M     BRA   17  \n",
      "3      M     TUR   17  \n",
      "4      M     TUR   17  \n",
      "9006\n"
     ]
    }
   ],
   "source": [
    "# Merge on the 'uid' field\n",
    "uid_combined_data = app_purchases.merge(customer_data, on=['uid'], how='inner')\n",
    "\n",
    "# Examine the results \n",
    "print(uid_combined_data.head())\n",
    "print(len(uid_combined_data))"
   ]
  },
  {
   "cell_type": "code",
   "execution_count": 56,
   "metadata": {},
   "outputs": [
    {
     "name": "stdout",
     "output_type": "stream",
     "text": [
      "        date       uid             sku  price                  reg_date  \\\n",
      "0 2016-03-30  94055095    sku_four_599    599 2016-03-30 00:00:00+00:00   \n",
      "1 2015-10-28  69627745     sku_one_199    199 2015-10-28 00:00:00+00:00   \n",
      "2 2017-02-02  11604973  sku_seven_1499    499 2017-02-02 00:00:00+00:00   \n",
      "3 2016-06-05  22495315    sku_four_599    599 2016-06-05 00:00:00+00:00   \n",
      "4 2018-02-17  51365662     sku_two_299    299 2018-02-17 00:00:00+00:00   \n",
      "\n",
      "  device gender country  age  \n",
      "0    iOS      F     BRA   16  \n",
      "1    and      F     BRA   18  \n",
      "2    and      F     USA   16  \n",
      "3    and      F     USA   19  \n",
      "4    iOS      M     TUR   16  \n",
      "35\n"
     ]
    }
   ],
   "source": [
    "# Merge on the 'uid' and 'date' field\n",
    "customer_data['date'] = pd.to_datetime(customer_data.reg_date.dt.date)\n",
    "uid_date_combined_data = app_purchases.merge(customer_data, on=['uid', 'date'], how='inner')\n",
    "\n",
    "# Examine the results \n",
    "print(uid_date_combined_data.head())\n",
    "print(len(uid_date_combined_data))"
   ]
  },
  {
   "cell_type": "code",
   "execution_count": 57,
   "metadata": {},
   "outputs": [],
   "source": [
    "purchase_data = uid_combined_data.copy()"
   ]
  },
  {
   "cell_type": "code",
   "execution_count": 58,
   "metadata": {},
   "outputs": [
    {
     "name": "stdout",
     "output_type": "stream",
     "text": [
      "406.77259604707973\n"
     ]
    }
   ],
   "source": [
    "# Calculate the mean purchase price \n",
    "purchase_price_mean = purchase_data.price.agg('mean')\n",
    "\n",
    "# Examine the output \n",
    "print(purchase_price_mean)"
   ]
  },
  {
   "cell_type": "code",
   "execution_count": 59,
   "metadata": {},
   "outputs": [
    {
     "name": "stdout",
     "output_type": "stream",
     "text": [
      "             price        age\n",
      "mean    406.772596  23.922274\n",
      "median  299.000000  21.000000\n"
     ]
    }
   ],
   "source": [
    "# Calculate the mean and median of price and age\n",
    "purchase_summary = purchase_data.agg({'price': ['mean', 'median'], 'age': ['mean', 'median']})\n",
    "\n",
    "# Examine the output \n",
    "print(purchase_summary)"
   ]
  },
  {
   "cell_type": "code",
   "execution_count": 60,
   "metadata": {},
   "outputs": [
    {
     "name": "stdout",
     "output_type": "stream",
     "text": [
      "                    price                   \n",
      "                     mean median         std\n",
      "device gender                               \n",
      "and    F       400.747504  299.0  179.984378\n",
      "       M       416.237308  499.0  195.001520\n",
      "iOS    F       404.435330  299.0  181.524952\n",
      "       M       405.272401  299.0  196.843197\n"
     ]
    }
   ],
   "source": [
    "# Group the data \n",
    "grouped_purchase_data = purchase_data.groupby(by=['device', 'gender'])\n",
    "\n",
    "# Aggregate the data\n",
    "purchase_summary = grouped_purchase_data.agg({'price': ['mean', 'median', 'std']})\n",
    "\n",
    "# Examine the results\n",
    "print(purchase_summary)"
   ]
  },
  {
   "cell_type": "code",
   "execution_count": 62,
   "metadata": {},
   "outputs": [
    {
     "name": "stdout",
     "output_type": "stream",
     "text": [
      "414.4237288135593\n"
     ]
    }
   ],
   "source": [
    "# Compute max_purchase_date\n",
    "purchase_data.reg_date  = pd.to_datetime(purchase_data.reg_date)\n",
    "purchase_data.reg_date = pd.to_datetime(purchase_data.reg_date.dt.date)\n",
    "current_date = pd.Timestamp('2018-03-17')\n",
    "from datetime import timedelta\n",
    "max_purchase_date = current_date - timedelta(days=28)\n",
    "\n",
    "# Filter to only include users who registered before our max date\n",
    "purchase_data_filt = purchase_data[purchase_data.reg_date < max_purchase_date]\n",
    "\n",
    "# Filter to contain only purchases within the first 28 days of registration\n",
    "purchase_data_filt = purchase_data_filt[(purchase_data_filt.date <= \n",
    "                        purchase_data_filt.reg_date + timedelta(days=28))]\n",
    "\n",
    "# Output the mean price paid per purchase\n",
    "print(purchase_data_filt.price.mean())"
   ]
  },
  {
   "cell_type": "markdown",
   "metadata": {},
   "source": [
    "Interesting! Since our average price is 414 cents which is below $4.99 it seems that our purchasers tend towards the lower priced set of options."
   ]
  },
  {
   "cell_type": "code",
   "execution_count": 63,
   "metadata": {},
   "outputs": [
    {
     "name": "stdout",
     "output_type": "stream",
     "text": [
      "  gender device      month1              price       \n",
      "                       mean median        mean median\n",
      "0      F    and  388.204545  299.0  400.747504  299.0\n",
      "1      F    iOS  432.587786  499.0  404.435330  299.0\n",
      "2      M    and  413.705882  399.0  416.237308  499.0\n",
      "3      M    iOS  433.313725  499.0  405.272401  299.0\n"
     ]
    }
   ],
   "source": [
    "# Set the max registration date to be one month before today\n",
    "max_reg_date = current_date - timedelta(days=28)\n",
    "\n",
    "# Find the month 1 values\n",
    "month1 = np.where((purchase_data.reg_date < max_reg_date) &\n",
    "                 (purchase_data.date < purchase_data.reg_date + timedelta(days=28)),\n",
    "                  purchase_data.price, \n",
    "                  np.NaN)\n",
    "                 \n",
    "# Update the value in the DataFrame\n",
    "purchase_data['month1'] = month1\n",
    "\n",
    "# Group the data by gender and device \n",
    "purchase_data_upd = purchase_data.groupby(by=['gender', 'device'], as_index=False) \n",
    "\n",
    "# Aggregate the month1 and price data \n",
    "purchase_summary = purchase_data_upd.agg(\n",
    "                        {'month1': ['mean', 'median'],\n",
    "                        'price': ['mean', 'median']})\n",
    "\n",
    "# Examine the results \n",
    "print(purchase_summary)"
   ]
  },
  {
   "cell_type": "markdown",
   "metadata": {},
   "source": [
    "Great! This value seems relatively stable over the past 28 days."
   ]
  },
  {
   "cell_type": "markdown",
   "metadata": {},
   "source": [
    "(https://strftime.org/)"
   ]
  },
  {
   "cell_type": "code",
   "execution_count": 65,
   "metadata": {},
   "outputs": [],
   "source": [
    "purchase_data.to_csv('user_purchases.csv', index=False)"
   ]
  }
 ],
 "metadata": {
  "kernelspec": {
   "display_name": "Python 3",
   "language": "python",
   "name": "python3"
  },
  "language_info": {
   "codemirror_mode": {
    "name": "ipython",
    "version": 3
   },
   "file_extension": ".py",
   "mimetype": "text/x-python",
   "name": "python",
   "nbconvert_exporter": "python",
   "pygments_lexer": "ipython3",
   "version": "3.11.6"
  }
 },
 "nbformat": 4,
 "nbformat_minor": 2
}
