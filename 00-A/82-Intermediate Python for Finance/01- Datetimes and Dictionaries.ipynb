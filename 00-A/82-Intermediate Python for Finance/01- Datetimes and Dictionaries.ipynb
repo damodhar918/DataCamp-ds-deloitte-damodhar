{
 "cells": [
  {
   "cell_type": "code",
   "execution_count": 1,
   "metadata": {},
   "outputs": [
    {
     "name": "stdout",
     "output_type": "stream",
     "text": [
      "2023-11-28 07:19:21.692334\n",
      "1962-05-28 00:00:00\n",
      "1987-10-19 00:00:00\n"
     ]
    }
   ],
   "source": [
    "import datetime\n",
    "\n",
    "# Date and time now\n",
    "now = datetime.datetime.now()\n",
    "print(now)\n",
    "\n",
    "# Flash crash May 28, 1962\n",
    "flash_crash = datetime.datetime(1962, 5, 28)\n",
    "print(flash_crash)\n",
    "\n",
    "# Black Monday Oct 19, 1987\n",
    "black_monday = datetime.datetime(1987, 10, 19)\n",
    "print(black_monday)"
   ]
  },
  {
   "cell_type": "code",
   "execution_count": 3,
   "metadata": {},
   "outputs": [
    {
     "name": "stdout",
     "output_type": "stream",
     "text": [
      "1989-10-13 00:00:00\n",
      "1990-07-03 00:00:00\n"
     ]
    }
   ],
   "source": [
    "import datetime\n",
    "\n",
    "# Mini-crash of 1989\n",
    "crash_text = 'Friday the 13th, Oct, 1989'\n",
    "crash_format_str = '%A the %dth, %b, %Y'\n",
    "min_crash = datetime.datetime.strptime(crash_text, crash_format_str)\n",
    "print(min_crash)\n",
    "\n",
    "# Recession of 1990\n",
    "recession_text = '07/03/90'\n",
    "recession_format_str = '%m/%d/%y'\n",
    "nineties_rec = datetime.datetime.strptime(recession_text, recession_format_str)\n",
    "print(nineties_rec)"
   ]
  },
  {
   "cell_type": "code",
   "execution_count": 4,
   "metadata": {},
   "outputs": [
    {
     "name": "stdout",
     "output_type": "stream",
     "text": [
      "1992-09-16 00:00:00\n",
      "Wednesday, September 16, 1992\n"
     ]
    }
   ],
   "source": [
    "org_text = \"Sep 16 1992\"\n",
    "\n",
    "# Format string for original text\n",
    "org_format = \"%b %d %Y\"\n",
    "\n",
    "# Create datetime for Black Wednesday\n",
    "black_wednesday = datetime.datetime.strptime(org_text, org_format)\n",
    "print(black_wednesday)\n",
    "\n",
    "# New format: 'Wednesday, September 16, 1992'\n",
    "new_format = \"%A, %B %d, %Y\"\n",
    "\n",
    "# String in new format\n",
    "new_text = black_wednesday.strftime(new_format)\n",
    "print(new_text)"
   ]
  },
  {
   "cell_type": "code",
   "execution_count": 6,
   "metadata": {},
   "outputs": [
    {
     "name": "stdout",
     "output_type": "stream",
     "text": [
      "Year: 2000, Month: 3, Day: 10\n"
     ]
    }
   ],
   "source": [
    "# Here's the fixed code:\n",
    "from datetime import datetime\n",
    "# March 10, 2000 Tech Bubble Crash\n",
    "tech_bubble = datetime(2000, 3, 10)\n",
    "\n",
    "# Access the year\n",
    "yr  = tech_bubble.year\n",
    "\n",
    "# Access the month\n",
    "mth = tech_bubble.month\n",
    "\n",
    "# Access the day\n",
    "day = tech_bubble.day\n",
    "\n",
    "print(f\"Year: {yr}, Month: {mth}, Day: {day}\")"
   ]
  },
  {
   "cell_type": "code",
   "execution_count": 9,
   "metadata": {},
   "outputs": [
    {
     "name": "stdout",
     "output_type": "stream",
     "text": [
      "It is True that Lehman Brothers declared bankruptcy first.\n"
     ]
    }
   ],
   "source": [
    "import datetime\n",
    "lehman = datetime.datetime(2008, 9, 15, 0, 0)\n",
    "morgan_stanley = datetime.datetime(2008, 9, 22, 0, 0)\n",
    "# Lehman Brothers before Morgan Stanley?\n",
    "lehman_first = lehman < morgan_stanley\n",
    "print(f\"It is {lehman_first} that Lehman Brothers declared bankruptcy first.\") "
   ]
  },
  {
   "cell_type": "code",
   "execution_count": 10,
   "metadata": {},
   "outputs": [
    {
     "name": "stdout",
     "output_type": "stream",
     "text": [
      "It is False that TARP was approved first.\n"
     ]
    }
   ],
   "source": [
    "goldman_sachs = datetime.datetime(2008, 9, 22, 0, 0)\n",
    "tarp = datetime.datetime(2008, 10, 3, 0, 0)\n",
    "# Goldman Sachs after TARP?\n",
    "tarp_first = goldman_sachs > tarp\n",
    "\n",
    "print(f\"It is {tarp_first} that TARP was approved first.\")\n"
   ]
  },
  {
   "cell_type": "code",
   "execution_count": 11,
   "metadata": {},
   "outputs": [
    {
     "name": "stdout",
     "output_type": "stream",
     "text": [
      "It is True that Morgan Stanley and Goldman Sachs acted simultaneously\n"
     ]
    }
   ],
   "source": [
    "goldman_sachs = datetime.datetime (2008, 9, 22, 0, 0)\n",
    "morgan_stanley = datetime.datetime(2008, 9, 22, 0, 0)\n",
    "# Goldman Sachs and Morgan Stanley same day?\n",
    "same_time = goldman_sachs == morgan_stanley\n",
    "\n",
    "print(f\"It is {same_time} that Morgan Stanley and Goldman Sachs acted simultaneously\")"
   ]
  },
  {
   "cell_type": "code",
   "execution_count": 12,
   "metadata": {},
   "outputs": [
    {
     "name": "stdout",
     "output_type": "stream",
     "text": [
      "2008-09-26 00:00:00\n"
     ]
    }
   ],
   "source": [
    "from datetime import datetime, timedelta\n",
    "\n",
    "# TARP passed Oct 3 2008\n",
    "tarp = datetime(2008, 10, 3)\n",
    "\n",
    "# Seven days before TARP\n",
    "week_before = tarp - timedelta(days = 7)\n",
    "\n",
    "# Print week_before\n",
    "print(week_before)"
   ]
  },
  {
   "cell_type": "code",
   "execution_count": 14,
   "metadata": {},
   "outputs": [
    {
     "name": "stdout",
     "output_type": "stream",
     "text": [
      "2008-10-10 00:00:00\n"
     ]
    }
   ],
   "source": [
    "from datetime import datetime, timedelta\n",
    "\n",
    "# TARP passed Oct 3 2008\n",
    "tarp = datetime(2008, 10, 3)\n",
    "\n",
    "# One week after TARP\n",
    "week_after = tarp + timedelta(weeks = 1)\n",
    "\n",
    "# Print week_after\n",
    "print(week_after)"
   ]
  },
  {
   "cell_type": "code",
   "execution_count": 15,
   "metadata": {},
   "outputs": [
    {
     "name": "stdout",
     "output_type": "stream",
     "text": [
      "2009-10-02 00:00:00\n"
     ]
    }
   ],
   "source": [
    "from datetime import datetime, timedelta\n",
    "\n",
    "# TARP passed Oct 3 2008\n",
    "tarp = datetime(2008, 10, 3)\n",
    "\n",
    "# One year after TARP\n",
    "year_after = tarp + timedelta(weeks = 52)\n",
    "\n",
    "# Print year_after\n",
    "print(year_after)"
   ]
  },
  {
   "cell_type": "code",
   "execution_count": 16,
   "metadata": {},
   "outputs": [],
   "source": [
    "cusip_lookup = {}\n",
    "cusip_lookup = dict()"
   ]
  },
  {
   "cell_type": "code",
   "execution_count": 17,
   "metadata": {},
   "outputs": [
    {
     "data": {
      "text/plain": [
       "'AAPL'"
      ]
     },
     "execution_count": 17,
     "metadata": {},
     "output_type": "execute_result"
    }
   ],
   "source": [
    "cusip_lookup = {}\n",
    "\n",
    "# Alphabet\n",
    "cusip_lookup['38259P706'] = 'GOOG'\n",
    "\n",
    "# Apple\n",
    "cusip_lookup['037833100'] = 'AAPL'\n",
    "\n",
    "# Lookup Apple\n",
    "cusip_lookup['037833100']"
   ]
  },
  {
   "cell_type": "code",
   "execution_count": 18,
   "metadata": {},
   "outputs": [
    {
     "data": {
      "text/plain": [
       "{'38259P706': 'GOOG', '037833100': 'AAPL'}"
      ]
     },
     "execution_count": 18,
     "metadata": {},
     "output_type": "execute_result"
    }
   ],
   "source": [
    "cusip_lookup"
   ]
  },
  {
   "cell_type": "code",
   "execution_count": 20,
   "metadata": {},
   "outputs": [],
   "source": [
    "import datetime\n",
    "closing_price_date = datetime.datetime(2019, 8, 2, 0, 0)\n",
    "alphabet_hist ={datetime.datetime(2019, 8, 2, 0, 0): 1196.32,\n",
    " datetime.datetime(2019, 8, 1, 0, 0): 1211.78,\n",
    " datetime.datetime(2019, 7, 31, 0, 0): 1218.2,\n",
    " datetime.datetime(2019, 7, 30, 0, 0): 1228}"
   ]
  },
  {
   "cell_type": "code",
   "execution_count": 21,
   "metadata": {},
   "outputs": [
    {
     "name": "stdout",
     "output_type": "stream",
     "text": [
      "1211.78\n"
     ]
    }
   ],
   "source": [
    "# Closing price for day before\n",
    "day_before_closing_price_date = closing_price_date - timedelta(days=1)\n",
    "\n",
    "# Safely print closing price day before or None if it's missing\n",
    "print(alphabet_hist.get(day_before_closing_price_date))"
   ]
  },
  {
   "cell_type": "code",
   "execution_count": 22,
   "metadata": {},
   "outputs": [
    {
     "name": "stdout",
     "output_type": "stream",
     "text": [
      "Missing\n"
     ]
    }
   ],
   "source": [
    "# Get day eight weeks in future\n",
    "future_closing_price_date = closing_price_date + timedelta(weeks=8)\n",
    "\n",
    "# Safely get value for the future date or the string 'Missing'\n",
    "print(alphabet_hist.get(future_closing_price_date, 'Missing'))"
   ]
  },
  {
   "cell_type": "code",
   "execution_count": 23,
   "metadata": {},
   "outputs": [
    {
     "name": "stdout",
     "output_type": "stream",
     "text": [
      "{datetime.datetime(2019, 8, 2, 0, 0): 1196.32, datetime.datetime(2019, 8, 1, 0, 0): 1211.78, datetime.datetime(2019, 7, 31, 0, 0): 1218.2, datetime.datetime(2019, 7, 30, 0, 0): 1228}\n",
      "{datetime.datetime(2019, 8, 1, 0, 0): 1211.78, datetime.datetime(2019, 7, 31, 0, 0): 1218.2, datetime.datetime(2019, 7, 30, 0, 0): 1228}\n"
     ]
    }
   ],
   "source": [
    "# Print with key\n",
    "print(alphabet_hist)\n",
    "\n",
    "# Remove entry\n",
    "del alphabet_hist[closing_price_date]\n",
    "\n",
    "# Print with key deleted\n",
    "print(alphabet_hist)"
   ]
  }
 ],
 "metadata": {
  "kernelspec": {
   "display_name": "Python 3",
   "language": "python",
   "name": "python3"
  },
  "language_info": {
   "codemirror_mode": {
    "name": "ipython",
    "version": 3
   },
   "file_extension": ".py",
   "mimetype": "text/x-python",
   "name": "python",
   "nbconvert_exporter": "python",
   "pygments_lexer": "ipython3",
   "version": "3.11.6"
  }
 },
 "nbformat": 4,
 "nbformat_minor": 2
}
