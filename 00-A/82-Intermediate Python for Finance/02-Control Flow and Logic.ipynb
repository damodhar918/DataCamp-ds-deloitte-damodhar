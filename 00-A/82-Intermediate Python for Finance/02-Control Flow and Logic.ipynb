{
 "cells": [
  {
   "cell_type": "code",
   "execution_count": 1,
   "metadata": {},
   "outputs": [
    {
     "name": "stdout",
     "output_type": "stream",
     "text": [
      "False\n",
      "True\n"
     ]
    }
   ],
   "source": [
    "# Assign a value to cash.\n",
    "cash = 19.11\n",
    "non_cash = 20.33\n",
    "# Check if cash is equal to non-cash\n",
    "print(cash == non_cash)\n",
    "\n",
    "# Assign the value of non_cash to cash\n",
    "cash = non_cash\n",
    "\n",
    "# Confirm that cash and non-cash are equal\n",
    "print(cash == non_cash)"
   ]
  },
  {
   "cell_type": "code",
   "execution_count": 2,
   "metadata": {},
   "outputs": [],
   "source": [
    "d2 = 489\n",
    "d1 = 323"
   ]
  },
  {
   "cell_type": "code",
   "execution_count": 3,
   "metadata": {},
   "outputs": [
    {
     "name": "stdout",
     "output_type": "stream",
     "text": [
      "True\n",
      "False\n"
     ]
    }
   ],
   "source": [
    "# Check dividend is greater than zero\n",
    "print(d2 > 0)\n",
    "\n",
    "# Is dividend 1 is greater than dividend 2?\n",
    "print(d1 > d2)"
   ]
  },
  {
   "cell_type": "code",
   "execution_count": 4,
   "metadata": {},
   "outputs": [
    {
     "name": "stdout",
     "output_type": "stream",
     "text": [
      "True\n",
      "True\n"
     ]
    }
   ],
   "source": [
    "# Check dividend 1 is at least 100\n",
    "print(d1 >= 100)\n",
    "\n",
    "# Check dividend 2 is at least as much dividend 1\n",
    "print(d1 <= d2)"
   ]
  },
  {
   "cell_type": "code",
   "execution_count": 5,
   "metadata": {},
   "outputs": [
    {
     "name": "stdout",
     "output_type": "stream",
     "text": [
      "True\n",
      "True\n",
      "True\n"
     ]
    }
   ],
   "source": [
    "# given variables\n",
    "is_investment_account = True\n",
    "balance_positive = True\n",
    "\n",
    "# Print the given variables\n",
    "print(is_investment_account)\n",
    "print(balance_positive)\n",
    "\n",
    "# Decide if this account is candidate for trading advice\n",
    "potential_trade = is_investment_account and balance_positive\n",
    "\n",
    "# Print if this represents a potential trade\n",
    "print(potential_trade)"
   ]
  },
  {
   "cell_type": "code",
   "execution_count": 7,
   "metadata": {},
   "outputs": [],
   "source": [
    "input_action = ''\n",
    "is_trading_day = False"
   ]
  },
  {
   "cell_type": "code",
   "execution_count": 8,
   "metadata": {},
   "outputs": [
    {
     "name": "stdout",
     "output_type": "stream",
     "text": [
      "Hold\n",
      "False\n"
     ]
    }
   ],
   "source": [
    "# Assign a default action if no input\n",
    "action = input_action or \"Hold\"\n",
    "\n",
    "# Print the action\n",
    "print(action)\n",
    "\n",
    "# Assign action only if trades can be made\n",
    "do_action = is_trading_day and action\n",
    "\n",
    "# Print the action to do\n",
    "print(do_action)"
   ]
  },
  {
   "cell_type": "code",
   "execution_count": 9,
   "metadata": {},
   "outputs": [],
   "source": [
    "closing_prices = []\n",
    "market_closed = False"
   ]
  },
  {
   "cell_type": "code",
   "execution_count": 10,
   "metadata": {},
   "outputs": [
    {
     "name": "stdout",
     "output_type": "stream",
     "text": [
      "[]\n",
      "True\n",
      "True\n"
     ]
    }
   ],
   "source": [
    "print(closing_prices)\n",
    "\n",
    "# Assigning True if we need to get the prices\n",
    "not_prices = not closing_prices\n",
    "\n",
    "print(not_prices)\n",
    "\n",
    "# Get prices if market is closed and we don't have prices\n",
    "get_prices = not (market_closed and not_prices)\n",
    "\n",
    "print(get_prices)"
   ]
  },
  {
   "cell_type": "code",
   "execution_count": 13,
   "metadata": {},
   "outputs": [],
   "source": [
    "sales = []\n",
    "purchases = []"
   ]
  },
  {
   "cell_type": "code",
   "execution_count": 14,
   "metadata": {},
   "outputs": [],
   "source": [
    "# Get number of purchases\n",
    "num_purchases = len(purchases)\n",
    "# Get number of sales\n",
    "num_sales = len(sales)\n",
    "\n",
    "# Check if more sales than purchases\n",
    "if num_purchases < num_sales:\n",
    "    print('buy more')"
   ]
  },
  {
   "cell_type": "code",
   "execution_count": 15,
   "metadata": {},
   "outputs": [],
   "source": [
    "# Get number of purchases\n",
    "num_purchases = len(purchases)\n",
    "# Get number of sales\n",
    "num_sales = len(sales)\n",
    "\n",
    "# Check if fewer sales than purchases\n",
    "if num_sales < num_purchases :\n",
    "    print('sell more')"
   ]
  },
  {
   "cell_type": "code",
   "execution_count": 16,
   "metadata": {},
   "outputs": [
    {
     "name": "stdout",
     "output_type": "stream",
     "text": [
      "No sales or purchases\n"
     ]
    }
   ],
   "source": [
    "# Get number of purchases\n",
    "num_purchases = len(purchases)\n",
    "# Get number of sales\n",
    "num_sales = len(sales)\n",
    "\n",
    "# Check if both lists are empty\n",
    "if not (purchases or sales):\n",
    "    print('No sales or purchases')"
   ]
  },
  {
   "cell_type": "code",
   "execution_count": 18,
   "metadata": {},
   "outputs": [],
   "source": [
    "trn = {'symbol': 'APPL', 'amount': 300, 'type': 'DIVIDEND'}\n",
    "# Get the symbol value\n",
    "symbol = trn['symbol']\n",
    "appl = []\n",
    "# Check if Apple stock\n",
    "if symbol == 'APPL':\n",
    "    appl.append(trn)"
   ]
  },
  {
   "cell_type": "code",
   "execution_count": 20,
   "metadata": {},
   "outputs": [],
   "source": [
    "# Get the symbol value\n",
    "symbol = trn['symbol']\n",
    "tsla = []\n",
    "amzn = []\n",
    "# Check if Apple stock\n",
    "if symbol == 'APPL':\n",
    "    appl.append(trn)\n",
    "# Check if Tesla stock\n",
    "elif symbol == 'TSLA': #change the blank spaces to \"elif\" and write \"symbol\"\n",
    "    tsla.append(trn)\n",
    "# Check if Amazon stock\n",
    "elif symbol == 'AMZN': #add this line\n",
    "    amzn.append(trn)"
   ]
  },
  {
   "cell_type": "code",
   "execution_count": 21,
   "metadata": {},
   "outputs": [],
   "source": [
    "# Get the symbol value\n",
    "symbol = trn['symbol']\n",
    "\n",
    "# Check if Apple stock\n",
    "if symbol == 'APPL':\n",
    "    appl.append(trn)\n",
    "# Check if Tesla stock\n",
    "elif symbol == 'TSLA':\n",
    "    tsla.append(trn)\n",
    "# Check if Amazon stock\n",
    "elif symbol == 'AMZN':\n",
    "    amzn.append(trn)\n",
    "# Handle other companies\n",
    "else:\n",
    "    print(symbol)"
   ]
  },
  {
   "cell_type": "code",
   "execution_count": 24,
   "metadata": {},
   "outputs": [],
   "source": [
    "buys =[{'symbol': 'AAPL', 'total_cost': 900},\n",
    " {'symbol': 'ORCL', 'total_cost': 300},\n",
    " {'symbol': 'CSCO', 'total_cost': 200}]\n",
    "\n",
    "balance = 1299\n"
   ]
  },
  {
   "cell_type": "code",
   "execution_count": 25,
   "metadata": {},
   "outputs": [
    {
     "name": "stdout",
     "output_type": "stream",
     "text": [
      "Buying AAPL\n",
      "Buying ORCL\n",
      "Buying CSCO\n",
      "-101\n"
     ]
    }
   ],
   "source": [
    "# Loop through buys\n",
    "for  buy in buys:\n",
    "    print('Buying ' + buy['symbol'])\n",
    "    new_balance = balance - buy['total_cost']\n",
    "    balance = new_balance\n",
    "\n",
    "print(balance)"
   ]
  },
  {
   "cell_type": "code",
   "execution_count": 26,
   "metadata": {},
   "outputs": [
    {
     "name": "stdout",
     "output_type": "stream",
     "text": [
      "Buying AAPL\n",
      "Unable to finish buys\n",
      "-101\n"
     ]
    }
   ],
   "source": [
    "for buy in buys:\n",
    "    print('Buying ' + buy['symbol'])\n",
    "    new_balance = balance - buy['total_cost']\n",
    "    if new_balance < 0:\n",
    "        print('Unable to finish buys')\n",
    "        break\n",
    "    balance = new_balance\n",
    "\n",
    "print(balance)"
   ]
  },
  {
   "cell_type": "code",
   "execution_count": 30,
   "metadata": {},
   "outputs": [],
   "source": [
    "import datetime\n",
    "nea = {datetime.datetime(1929, 1, 1, 0, 0): 0.383,\n",
    " datetime.datetime(1930, 1, 1, 0, 0): 0.323,\n",
    " datetime.datetime(1931, 1, 1, 0, 0): 0.001,\n",
    " datetime.datetime(1932, 1, 1, 0, 0): 0.043,\n",
    " datetime.datetime(1933, 1, 1, 0, 0): 0.058,\n",
    " datetime.datetime(1934, 1, 1, 0, 0): 0.322,\n",
    " datetime.datetime(1935, 1, 1, 0, 0): -0.213,\n",
    " datetime.datetime(1936, 1, 1, 0, 0): -0.147,\n",
    " datetime.datetime(1937, 1, 1, 0, 0): 0.078,\n",
    " datetime.datetime(1938, 1, 1, 0, 0): 0.966,\n",
    " datetime.datetime(1939, 1, 1, 0, 0): 0.833,\n",
    " datetime.datetime(1940, 1, 1, 0, 0): 1.471,\n",
    " datetime.datetime(1941, 1, 1, 0, 0): 1.033,\n",
    " datetime.datetime(1942, 1, 1, 0, 0): -0.252,\n",
    " datetime.datetime(1943, 1, 1, 0, 0): -2.246,\n",
    " datetime.datetime(1944, 1, 1, 0, 0): -2.024,\n",
    " datetime.datetime(1945, 1, 1, 0, 0): -0.766,\n",
    " datetime.datetime(1946, 1, 1, 0, 0): 7.182,\n",
    " datetime.datetime(1947, 1, 1, 0, 0): 10.807,\n",
    " datetime.datetime(1948, 1, 1, 0, 0): 5.487,\n",
    " datetime.datetime(1949, 1, 1, 0, 0): 5.235,\n",
    " datetime.datetime(1950, 1, 1, 0, 0): 0.738,\n",
    " datetime.datetime(1951, 1, 1, 0, 0): 2.513,\n",
    " datetime.datetime(1952, 1, 1, 0, 0): 1.164,\n",
    " datetime.datetime(1953, 1, 1, 0, 0): -0.701,\n",
    " datetime.datetime(1954, 1, 1, 0, 0): 0.404,\n",
    " datetime.datetime(1955, 1, 1, 0, 0): 0.478,\n",
    " datetime.datetime(1956, 1, 1, 0, 0): 2.361,\n",
    " datetime.datetime(1957, 1, 1, 0, 0): 4.075,\n",
    " datetime.datetime(1958, 1, 1, 0, 0): 0.538,\n",
    " datetime.datetime(1959, 1, 1, 0, 0): 0.397,\n",
    " datetime.datetime(1960, 1, 1, 0, 0): 4.204,\n",
    " datetime.datetime(1961, 1, 1, 0, 0): 4.914,\n",
    " datetime.datetime(1962, 1, 1, 0, 0): 4.101,\n",
    " datetime.datetime(1963, 1, 1, 0, 0): 4.939,\n",
    " datetime.datetime(1964, 1, 1, 0, 0): 6.915,\n",
    " datetime.datetime(1965, 1, 1, 0, 0): 5.618,\n",
    " datetime.datetime(1966, 1, 1, 0, 0): 3.863,\n",
    " datetime.datetime(1967, 1, 1, 0, 0): 3.555,\n",
    " datetime.datetime(1968, 1, 1, 0, 0): 1.35,\n",
    " datetime.datetime(1969, 1, 1, 0, 0): 1.431,\n",
    " datetime.datetime(1970, 1, 1, 0, 0): 3.948,\n",
    " datetime.datetime(1971, 1, 1, 0, 0): 0.621,\n",
    " datetime.datetime(1972, 1, 1, 0, 0): -3.373,\n",
    " datetime.datetime(1973, 1, 1, 0, 0): 4.111,\n",
    " datetime.datetime(1974, 1, 1, 0, 0): -0.815,\n",
    " datetime.datetime(1975, 1, 1, 0, 0): 15.977,\n",
    " datetime.datetime(1976, 1, 1, 0, 0): -1.631,\n",
    " datetime.datetime(1977, 1, 1, 0, 0): -23.094,\n",
    " datetime.datetime(1978, 1, 1, 0, 0): -25.366,\n",
    " datetime.datetime(1979, 1, 1, 0, 0): -22.545,\n",
    " datetime.datetime(1980, 1, 1, 0, 0): -13.056,\n",
    " datetime.datetime(1981, 1, 1, 0, 0): -12.519,\n",
    " datetime.datetime(1982, 1, 1, 0, 0): -19.974,\n",
    " datetime.datetime(1983, 1, 1, 0, 0): -51.642,\n",
    " datetime.datetime(1984, 1, 1, 0, 0): -102.727,\n",
    " datetime.datetime(1985, 1, 1, 0, 0): -114.018,\n",
    " datetime.datetime(1986, 1, 1, 0, 0): -131.869,\n",
    " datetime.datetime(1987, 1, 1, 0, 0): -144.77,\n",
    " datetime.datetime(1988, 1, 1, 0, 0): -109.393,\n",
    " datetime.datetime(1989, 1, 1, 0, 0): -86.741,\n",
    " datetime.datetime(1990, 1, 1, 0, 0): -77.855,\n",
    " datetime.datetime(1991, 1, 1, 0, 0): -28.614,\n",
    " datetime.datetime(1992, 1, 1, 0, 0): -34.738,\n",
    " datetime.datetime(1993, 1, 1, 0, 0): -65.173,\n",
    " datetime.datetime(1994, 1, 1, 0, 0): -92.487,\n",
    " datetime.datetime(1995, 1, 1, 0, 0): -89.761,\n",
    " datetime.datetime(1996, 1, 1, 0, 0): -96.376,\n",
    " datetime.datetime(1997, 1, 1, 0, 0): -101.971,\n",
    " datetime.datetime(1998, 1, 1, 0, 0): -162.711,\n",
    " datetime.datetime(1999, 1, 1, 0, 0): -255.834,\n",
    " datetime.datetime(2000, 1, 1, 0, 0): -375.05,\n",
    " datetime.datetime(2001, 1, 1, 0, 0): -367.929,\n",
    " datetime.datetime(2002, 1, 1, 0, 0): -425.402,\n",
    " datetime.datetime(2003, 1, 1, 0, 0): -503.127,\n",
    " datetime.datetime(2004, 1, 1, 0, 0): -619.075,\n",
    " datetime.datetime(2005, 1, 1, 0, 0): -721.193,\n",
    " datetime.datetime(2006, 1, 1, 0, 0): -770.924,\n",
    " datetime.datetime(2007, 1, 1, 0, 0): -718.426,\n",
    " datetime.datetime(2008, 1, 1, 0, 0): -723.088,\n",
    " datetime.datetime(2009, 1, 1, 0, 0): -396.451,\n",
    " datetime.datetime(2010, 1, 1, 0, 0): -513.903,\n",
    " datetime.datetime(2011, 1, 1, 0, 0): -579.462,\n",
    " datetime.datetime(2012, 1, 1, 0, 0): -568.571,\n",
    " datetime.datetime(2013, 1, 1, 0, 0): -490.782,\n",
    " datetime.datetime(2014, 1, 1, 0, 0): -507.658,\n",
    " datetime.datetime(2015, 1, 1, 0, 0): -519.845,\n",
    " datetime.datetime(2016, 1, 1, 0, 0): -518.807,\n",
    " datetime.datetime(2017, 1, 1, 0, 0): -575.336,\n",
    " datetime.datetime(2018, 1, 1, 0, 0): -638.214}"
   ]
  },
  {
   "cell_type": "code",
   "execution_count": 34,
   "metadata": {},
   "outputs": [
    {
     "name": "stdout",
     "output_type": "stream",
     "text": [
      "[datetime.datetime(1967, 1, 1, 0, 0), datetime.datetime(1966, 1, 1, 0, 0), datetime.datetime(1965, 1, 1, 0, 0), datetime.datetime(1964, 1, 1, 0, 0), datetime.datetime(1963, 1, 1, 0, 0)]\n"
     ]
    }
   ],
   "source": [
    "# Loop while true\n",
    "surplus_years = []\n",
    "query_date = datetime.datetime(1968, 1, 1, 0, 0)\n",
    "# import datetime\n",
    "while True:\n",
    "    net_exports = nea.get(query_date, -1)\n",
    "    query_date = datetime.datetime(query_date.year - 1, 1, 1)\n",
    "    # Skip if net exports are not positive\n",
    "    if net_exports < 0:\n",
    "        continue\n",
    "    surplus_years.append(query_date)\n",
    "    # Check if 5 years have been collected\n",
    "    if len(surplus_years) == 5:\n",
    "        # Stop the loop\n",
    "        break\n",
    "print(surplus_years)"
   ]
  },
  {
   "cell_type": "code",
   "execution_count": null,
   "metadata": {},
   "outputs": [],
   "source": []
  }
 ],
 "metadata": {
  "kernelspec": {
   "display_name": "Python 3",
   "language": "python",
   "name": "python3"
  },
  "language_info": {
   "codemirror_mode": {
    "name": "ipython",
    "version": 3
   },
   "file_extension": ".py",
   "mimetype": "text/x-python",
   "name": "python",
   "nbconvert_exporter": "python",
   "pygments_lexer": "ipython3",
   "version": "3.11.6"
  }
 },
 "nbformat": 4,
 "nbformat_minor": 2
}
