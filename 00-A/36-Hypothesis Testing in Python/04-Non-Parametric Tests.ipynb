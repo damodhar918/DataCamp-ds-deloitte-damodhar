{
 "cells": [
  {
   "cell_type": "code",
   "execution_count": 2,
   "metadata": {},
   "outputs": [],
   "source": [
    "import pandas as pd\n",
    "import numpy as np\n",
    "import matplotlib.pyplot as plt\n",
    "import seaborn as sns\n",
    "\n",
    "from scipy.stats import ttest_ind, mannwhitneyu, wilcoxon, kruskal, friedmanchisquare, ranksums"
   ]
  },
  {
   "cell_type": "code",
   "execution_count": 5,
   "metadata": {},
   "outputs": [],
   "source": [
    "late_shipments = pd.read_feather('./late_shipments.feather')"
   ]
  },
  {
   "cell_type": "code",
   "execution_count": 7,
   "metadata": {},
   "outputs": [
    {
     "name": "stdout",
     "output_type": "stream",
     "text": [
      "freight_cost_groups\n",
      "expensive     531\n",
      "reasonable    455\n",
      "Name: count, dtype: int64\n",
      "True\n"
     ]
    }
   ],
   "source": [
    "# Count the freight_cost_group values\n",
    "counts = late_shipments['freight_cost_groups'].value_counts()\n",
    "\n",
    "# Print the result\n",
    "print(counts)\n",
    "\n",
    "# Inspect whether the counts are big enough\n",
    "print((counts >= 30).all())"
   ]
  },
  {
   "cell_type": "code",
   "execution_count": 8,
   "metadata": {},
   "outputs": [
    {
     "name": "stdout",
     "output_type": "stream",
     "text": [
      "late\n",
      "No     939\n",
      "Yes     61\n",
      "Name: count, dtype: int64\n",
      "True\n"
     ]
    }
   ],
   "source": [
    "# Count the late values\n",
    "counts = late_shipments['late'].value_counts()\n",
    "\n",
    "# Print the result\n",
    "print(counts)\n",
    "\n",
    "# Inspect whether the counts are big enough\n",
    "print((counts >= 10).all())"
   ]
  },
  {
   "cell_type": "code",
   "execution_count": 10,
   "metadata": {},
   "outputs": [
    {
     "name": "stdout",
     "output_type": "stream",
     "text": [
      "vendor_inco_term  freight_cost_groups\n",
      "CIP               reasonable              34\n",
      "                  expensive               16\n",
      "DDP               expensive               55\n",
      "                  reasonable              45\n",
      "DDU               reasonable               1\n",
      "EXW               expensive              423\n",
      "                  reasonable             302\n",
      "FCA               reasonable              73\n",
      "                  expensive               37\n",
      "Name: count, dtype: int64\n",
      "False\n"
     ]
    }
   ],
   "source": [
    "# Count the values of freight_cost_group grouped by vendor_inco_term\n",
    "counts = late_shipments.groupby('vendor_inco_term')['freight_cost_groups'].value_counts()\n",
    "\n",
    "# Print the result\n",
    "print(counts)\n",
    "\n",
    "# Inspect whether the counts are big enough\n",
    "print((counts >= 5).all())"
   ]
  },
  {
   "cell_type": "code",
   "execution_count": 11,
   "metadata": {},
   "outputs": [
    {
     "name": "stdout",
     "output_type": "stream",
     "text": [
      "shipment_mode\n",
      "Air            906\n",
      "Ocean           88\n",
      "Air Charter      6\n",
      "Name: count, dtype: int64\n",
      "False\n"
     ]
    }
   ],
   "source": [
    "# Count the shipment_mode values\n",
    "counts = late_shipments['shipment_mode'].value_counts()\n",
    "\n",
    "# Print the result\n",
    "print(counts)\n",
    "\n",
    "# Inspect whether the counts are big enough\n",
    "print((counts >= 30).all())"
   ]
  },
  {
   "cell_type": "code",
   "execution_count": 18,
   "metadata": {},
   "outputs": [
    {
     "data": {
      "text/html": [
       "<div>\n",
       "<style scoped>\n",
       "    .dataframe tbody tr th:only-of-type {\n",
       "        vertical-align: middle;\n",
       "    }\n",
       "\n",
       "    .dataframe tbody tr th {\n",
       "        vertical-align: top;\n",
       "    }\n",
       "\n",
       "    .dataframe thead th {\n",
       "        text-align: right;\n",
       "    }\n",
       "</style>\n",
       "<table border=\"1\" class=\"dataframe\">\n",
       "  <thead>\n",
       "    <tr style=\"text-align: right;\">\n",
       "      <th></th>\n",
       "      <th>state</th>\n",
       "      <th>county</th>\n",
       "      <th>dem_percent_12</th>\n",
       "      <th>dem_percent_16</th>\n",
       "    </tr>\n",
       "  </thead>\n",
       "  <tbody>\n",
       "    <tr>\n",
       "      <th>0</th>\n",
       "      <td>Alabama</td>\n",
       "      <td>Bullock</td>\n",
       "      <td>76.305900</td>\n",
       "      <td>74.946921</td>\n",
       "    </tr>\n",
       "    <tr>\n",
       "      <th>1</th>\n",
       "      <td>Alabama</td>\n",
       "      <td>Chilton</td>\n",
       "      <td>19.453671</td>\n",
       "      <td>15.847352</td>\n",
       "    </tr>\n",
       "    <tr>\n",
       "      <th>2</th>\n",
       "      <td>Alabama</td>\n",
       "      <td>Clay</td>\n",
       "      <td>26.673672</td>\n",
       "      <td>18.674517</td>\n",
       "    </tr>\n",
       "    <tr>\n",
       "      <th>3</th>\n",
       "      <td>Alabama</td>\n",
       "      <td>Cullman</td>\n",
       "      <td>14.661752</td>\n",
       "      <td>10.028252</td>\n",
       "    </tr>\n",
       "    <tr>\n",
       "      <th>4</th>\n",
       "      <td>Alabama</td>\n",
       "      <td>Escambia</td>\n",
       "      <td>36.915731</td>\n",
       "      <td>31.020546</td>\n",
       "    </tr>\n",
       "  </tbody>\n",
       "</table>\n",
       "</div>"
      ],
      "text/plain": [
       "     state    county  dem_percent_12  dem_percent_16\n",
       "0  Alabama   Bullock       76.305900       74.946921\n",
       "1  Alabama   Chilton       19.453671       15.847352\n",
       "2  Alabama      Clay       26.673672       18.674517\n",
       "3  Alabama   Cullman       14.661752       10.028252\n",
       "4  Alabama  Escambia       36.915731       31.020546"
      ]
     },
     "execution_count": 18,
     "metadata": {},
     "output_type": "execute_result"
    }
   ],
   "source": [
    "import pingouin\n",
    "sample_dem_data = pd.read_feather('./dem_votes_potus_12_16.feather')\n",
    "sample_dem_data.head()"
   ]
  },
  {
   "cell_type": "code",
   "execution_count": 16,
   "metadata": {},
   "outputs": [
    {
     "data": {
      "text/html": [
       "<div>\n",
       "<style scoped>\n",
       "    .dataframe tbody tr th:only-of-type {\n",
       "        vertical-align: middle;\n",
       "    }\n",
       "\n",
       "    .dataframe tbody tr th {\n",
       "        vertical-align: top;\n",
       "    }\n",
       "\n",
       "    .dataframe thead th {\n",
       "        text-align: right;\n",
       "    }\n",
       "</style>\n",
       "<table border=\"1\" class=\"dataframe\">\n",
       "  <thead>\n",
       "    <tr style=\"text-align: right;\">\n",
       "      <th></th>\n",
       "      <th>T</th>\n",
       "      <th>dof</th>\n",
       "      <th>alternative</th>\n",
       "      <th>p-val</th>\n",
       "      <th>CI95%</th>\n",
       "      <th>cohen-d</th>\n",
       "      <th>BF10</th>\n",
       "      <th>power</th>\n",
       "    </tr>\n",
       "  </thead>\n",
       "  <tbody>\n",
       "    <tr>\n",
       "      <th>T-test</th>\n",
       "      <td>30.298384</td>\n",
       "      <td>499</td>\n",
       "      <td>two-sided</td>\n",
       "      <td>3.600634e-115</td>\n",
       "      <td>[6.39, 7.27]</td>\n",
       "      <td>0.454202</td>\n",
       "      <td>2.246e+111</td>\n",
       "      <td>1.0</td>\n",
       "    </tr>\n",
       "  </tbody>\n",
       "</table>\n",
       "</div>"
      ],
      "text/plain": [
       "                T  dof alternative          p-val         CI95%   cohen-d  \\\n",
       "T-test  30.298384  499   two-sided  3.600634e-115  [6.39, 7.27]  0.454202   \n",
       "\n",
       "              BF10  power  \n",
       "T-test  2.246e+111    1.0  "
      ]
     },
     "execution_count": 16,
     "metadata": {},
     "output_type": "execute_result"
    }
   ],
   "source": [
    "# Conduct a paired t-test on dem_percent_12 and dem_percent_16\n",
    "paired_test_results = pingouin.ttest(x=sample_dem_data['dem_percent_12'], \n",
    "                                     y=sample_dem_data['dem_percent_16'],\n",
    "                                     paired=True,\n",
    "                                     alternative=\"two-sided\")\n",
    "\n",
    "# Print paired t-test results\n",
    "(paired_test_results)"
   ]
  },
  {
   "cell_type": "code",
   "execution_count": 17,
   "metadata": {},
   "outputs": [
    {
     "name": "stdout",
     "output_type": "stream",
     "text": [
      "           W-val alternative         p-val       RBC      CLES\n",
      "Wilcoxon  2401.0   two-sided  1.780396e-77  0.961661  0.644816\n"
     ]
    }
   ],
   "source": [
    "# Conduct a Wilcoxon test on dem_percent_12 and dem_percent_16\n",
    "wilcoxon_test_results = pingouin.wilcoxon(x=sample_dem_data['dem_percent_12'], \n",
    "                                          y=sample_dem_data['dem_percent_16'],\n",
    "                                          alternative=\"two-sided\")\n",
    "\n",
    "# Print Wilcoxon test results\n",
    "print(wilcoxon_test_results)\n"
   ]
  },
  {
   "cell_type": "code",
   "execution_count": 19,
   "metadata": {},
   "outputs": [
    {
     "name": "stdout",
     "output_type": "stream",
     "text": [
      "       U-val alternative     p-val       RBC      CLES\n",
      "MWU  19134.0   two-sided  0.000014  0.331902  0.334049\n"
     ]
    }
   ],
   "source": [
    "# Select the weight_kilograms and late columns\n",
    "weight_vs_late = late_shipments[[\"weight_kilograms\", \"late\"]]\n",
    "\n",
    "# Convert weight_vs_late into wide format\n",
    "weight_vs_late_wide = weight_vs_late.pivot(columns='late', \n",
    "                                           values='weight_kilograms')\n",
    "\n",
    "# Run a two-sided Wilcoxon-Mann-Whitney test on weight_kilograms vs. late\n",
    "wmw_test = pingouin.mwu(x=weight_vs_late_wide['No'],\n",
    "                        y=weight_vs_late_wide['Yes'],\n",
    "                        alternative='two-sided')\n",
    "\n",
    "# Print the test results\n",
    "print(wmw_test)"
   ]
  },
  {
   "cell_type": "code",
   "execution_count": 20,
   "metadata": {},
   "outputs": [
    {
     "name": "stdout",
     "output_type": "stream",
     "text": [
      "                Source  ddof1           H         p-unc\n",
      "Kruskal  shipment_mode      2  125.096618  6.848799e-28\n"
     ]
    }
   ],
   "source": [
    "# Run a Kruskal-Wallis test on weight_kilograms vs. shipment_mode\n",
    "kw_test = pingouin.kruskal(data=late_shipments, dv='weight_kilograms', between='shipment_mode')\n",
    "\n",
    "# Print the results\n",
    "print(kw_test)"
   ]
  },
  {
   "cell_type": "code",
   "execution_count": null,
   "metadata": {},
   "outputs": [],
   "source": []
  }
 ],
 "metadata": {
  "kernelspec": {
   "display_name": "Python 3",
   "language": "python",
   "name": "python3"
  },
  "language_info": {
   "codemirror_mode": {
    "name": "ipython",
    "version": 3
   },
   "file_extension": ".py",
   "mimetype": "text/x-python",
   "name": "python",
   "nbconvert_exporter": "python",
   "pygments_lexer": "ipython3",
   "version": "3.11.6"
  }
 },
 "nbformat": 4,
 "nbformat_minor": 2
}
