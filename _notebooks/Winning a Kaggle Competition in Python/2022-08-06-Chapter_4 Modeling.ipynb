{
 "cells": [
  {
   "cell_type": "markdown",
   "metadata": {},
   "source": [
    "#  Winning a Kaggle Competition in Python - Part 4\n",
    "\n",
    "> Modeling - Time to bring everything together and build some models! In this last chapter, you will build a base model before tuning some hyperparameters and improving your results with ensembles. You will then get some final tips and tricks to help you compete more efficiently.\n",
    "\n",
    "- toc: true\n",
    "- branch: master\n",
    "- badges: true\n",
    "- comments: true\n",
    "- author: Hai Nguyen\n",
    "- categories: [Kaggle, Datacamp, Modeling, Blending, Ensemble, Grid Search, Hyperparamters Tuning, Stacking]\n",
    "- image: images/winning_kaggle_p4.png\n",
    "- hide: false\n",
    "- search_exclude: true\n",
    "- metadata_key1: metadata_value1\n",
    "- metadata_key2: metadata_value2"
   ]
  },
  {
   "cell_type": "markdown",
   "metadata": {},
   "source": [
    "[**Download Datasets and Presentation slides for this post HERE**](https://github.com/anhhaibkhn/Data-Science-selfstudy-notes-Blog/tree/master/_notebooks/Winning%20a%20Kaggle%20Competition%20in%20Python)"
   ]
  },
  {
   "cell_type": "code",
   "execution_count": 1,
   "metadata": {},
   "outputs": [],
   "source": [
    "import pandas as pd\n",
    "import numpy as np\n",
    "\n",
    "pd.set_option('display.expand_frame_repr', False)\n"
   ]
  },
  {
   "cell_type": "markdown",
   "metadata": {},
   "source": [
    "## Baseline model\n",
    "\n",
    "![](./images/modeling_stage.png)\n",
    "\n",
    "![](./images/base_line1.png)\n",
    "\n",
    "![](./images/base_line2.png)\n",
    "\n",
    "![](./images/base_line3.png)\n",
    "\n",
    "![](./images/base_line4.png)\n",
    "\n",
    "![](./images/base_line5.png)\n",
    "\n",
    "![](./images/intermediate_results.png)\n",
    "\n",
    "![](./images/corralation_validation_strategy.png)"
   ]
  },
  {
   "cell_type": "markdown",
   "metadata": {},
   "source": [
    "### Replicate validation score\n",
    "\n",
    "\n",
    "Replicate validation score (Exercise)\n",
    "\n",
    "You've seen both validation and Public Leaderboard scores in the video. However, the code examples are available only for the test data. To get the validation scores you have to repeat the same process on the holdout set.\n",
    "\n",
    "Throughout this chapter, you will work with New York City Taxi competition data. The problem is to predict the fare amount for a taxi ride in New York City. The competition metric is the root mean squared error.\n",
    "\n",
    "The first goal is to evaluate the Baseline model on the validation data. You will replicate the simplest Baseline based on the mean of \"fare_amount\". Recall that as a validation strategy we used a 30% holdout split with validation_train as train and validation_test as holdout DataFrames. Both of them are available in your workspace.\n",
    "\n",
    "Instructions:\n",
    "- Calculate the mean of \"fare_amount\" over the whole validation_train DataFrame.\n",
    "- Assign this naive prediction value to all the holdout predictions. Store them in the \"pred\" column."
   ]
  },
  {
   "cell_type": "code",
   "execution_count": 4,
   "metadata": {},
   "outputs": [],
   "source": [
    "import imp\n",
    "from random import random\n",
    "import pandas as pd\n",
    "from sklearn.model_selection import train_test_split\n",
    "\n",
    "train = pd.read_csv('./datasets/taxi_train_chapter_4.csv')\n",
    "test = pd.read_csv('./datasets/taxi_test_chapter_4.csv')\n",
    "\n",
    "validation_train, validation_test = train_test_split(train, test_size=0.3, random_state=123)"
   ]
  },
  {
   "cell_type": "code",
   "execution_count": 5,
   "metadata": {},
   "outputs": [
    {
     "name": "stdout",
     "output_type": "stream",
     "text": [
      "Validation RMSE for Baseline I model: 9.986\n"
     ]
    }
   ],
   "source": [
    "import numpy as np\n",
    "from sklearn.metrics import mean_squared_error\n",
    "from math import sqrt\n",
    "\n",
    "\n",
    "\n",
    "# Calculate the mean fare_amount on the validation_train data\n",
    "naive_prediction = np.mean(validation_train['fare_amount'])\n",
    "\n",
    "# Assign naive prediction to all the holdout observations\n",
    "validation_test['pred'] = naive_prediction\n",
    "\n",
    "# Measure the local RMSE\n",
    "rmse = sqrt(mean_squared_error(validation_test['fare_amount'], validation_test['pred']))\n",
    "print('Validation RMSE for Baseline I model: {:.3f}'.format(rmse))\n"
   ]
  },
  {
   "cell_type": "markdown",
   "metadata": {},
   "source": [
    "It's exactly the same number you've seen in the slides, well done! So, to avoid overfitting you should fully replicate your models using the validation data. Go forward to create a couple of other baselines!"
   ]
  },
  {
   "cell_type": "markdown",
   "metadata": {},
   "source": [
    "\n",
    "### Baseline based on the date\n",
    "\n",
    "Baseline based on the date (Exercise)\n",
    "We've already built 3 different baseline models. To get more practice, let's build a couple more. The first model is based on the grouping variables. It's clear that the ride fare could depend on the part of the day. For example, prices could be higher during the rush hours.\n",
    "\n",
    "Your goal is to build a baseline model that will assign the average \"fare_amount\" for the corresponding hour. For now, you will create the model for the whole train data and make predictions for the test dataset.\n",
    "\n",
    "The train and test DataFrames are available in your workspace. Moreover, the \"pickup_datetime\" column in both DataFrames is already converted to a datetime object for you.\n",
    "\n",
    "Instructions:\n",
    "- Get the hour from the \"pickup_datetime\" column for the train and test DataFrames.\n",
    "- Calculate the mean \"fare_amount\" for each hour on the train data.\n",
    "- Make test predictions using pandas' map() method and the grouping obtained.\n",
    "- Write predictions to the file.\n",
    "\n"
   ]
  },
  {
   "cell_type": "code",
   "execution_count": 13,
   "metadata": {},
   "outputs": [],
   "source": [
    "train['pickup_datetime'] = pd.to_datetime(train['pickup_datetime'])\n",
    "test['pickup_datetime'] = pd.to_datetime(test['pickup_datetime'])\n",
    "\n",
    "# Get pickup hour from the pickup_datetime column\n",
    "train['hour'] = train['pickup_datetime'].dt.hour\n",
    "test['hour'] = test['pickup_datetime'].dt.hour\n",
    "\n"
   ]
  },
  {
   "cell_type": "code",
   "execution_count": null,
   "metadata": {},
   "outputs": [],
   "source": [
    "# Calculate average fare_amount grouped by pickup hour \n",
    "hour_groups = train.groupby('hour')['fare_amount'].mean()\n",
    "\n",
    "# Make predictions on the test set\n",
    "test['fare_amount'] = test.hour.map(hour_groups)\n",
    "\n",
    "# Write predictions\n",
    "test[['id','fare_amount']].to_csv('hour_mean_sub.csv', index=False)"
   ]
  },
  {
   "cell_type": "code",
   "execution_count": 8,
   "metadata": {},
   "outputs": [
    {
     "name": "stdout",
     "output_type": "stream",
     "text": [
      "Validation RMSE for Baseline II model: 9.985\n"
     ]
    }
   ],
   "source": [
    "# check this groupby hour on validation set. \n",
    "\n",
    "train['pickup_datetime'] = pd.to_datetime(train['pickup_datetime'])\n",
    "test['pickup_datetime'] = pd.to_datetime(test['pickup_datetime'])\n",
    "\n",
    "validation_train, validation_test = train_test_split(train, test_size=0.3, random_state=123)\n",
    "\n",
    "validation_train['hour'] = validation_train['pickup_datetime'].dt.hour\n",
    "validation_test['hour'] = validation_test['pickup_datetime'].dt.hour\n",
    "\n",
    "hour_groups_val = validation_train.groupby('hour')['fare_amount'].mean()\n",
    "\n",
    "# Make predictions on the test set\n",
    "validation_test['pred2'] = validation_test.hour.map(hour_groups_val)\n",
    "\n",
    "# Measure the local RMSE\n",
    "rmse2 = sqrt(mean_squared_error(validation_test['fare_amount'], validation_test['pred2']))\n",
    "print('Validation RMSE for Baseline II model: {:.3f}'.format(rmse2))"
   ]
  },
  {
   "cell_type": "markdown",
   "metadata": {},
   "source": [
    "\n",
    "###  Baseline based on the gradient boosting\n",
    "\n",
    "\n",
    "Baseline based on the gradient boosting (Exercise).\n",
    "\n",
    "Let's build a final baseline based on the Random Forest. You've seen a huge score improvement moving from the grouping baseline to the Gradient Boosting in the video. Now, you will use sklearn's Random Forest to further improve this score.\n",
    "\n",
    "The goal of this exercise is to take numeric features and train a Random Forest model without any tuning. After that, you could make test predictions and validate the result on the Public Leaderboard. Note that you've already got an \"hour\" feature which could also be used as an input to the model.\n",
    "\n",
    "Instructions:\n",
    "- dd the \"hour\" feature to the list of numeric features.\n",
    "- it the RandomForestRegressor on the train data with numeric features and \"fare_amount\" as a target.\n",
    "- se the trained Random Forest model to make predictions on the test data."
   ]
  },
  {
   "cell_type": "code",
   "execution_count": null,
   "metadata": {},
   "outputs": [],
   "source": [
    "from sklearn.ensemble import RandomForestRegressor\n",
    "\n",
    "# Select only numeric features\n",
    "features = ['pickup_longitude', 'pickup_latitude', 'dropoff_longitude',\n",
    "            'dropoff_latitude', 'passenger_count', 'hour']\n",
    "\n",
    "# Train a Random Forest model\n",
    "rf = RandomForestRegressor()\n",
    "rf.fit(train[features], train.fare_amount)\n",
    "\n",
    "# Make predictions on the test data\n",
    "test['fare_amount'] = rf.predict(test[features])\n",
    "\n",
    "# Write predictions\n",
    "test[['id','fare_amount']].to_csv('rf_sub.csv', index=False)"
   ]
  },
  {
   "cell_type": "code",
   "execution_count": 10,
   "metadata": {},
   "outputs": [
    {
     "name": "stdout",
     "output_type": "stream",
     "text": [
      "Validation RMSE for Baseline III model: 5.510\n"
     ]
    }
   ],
   "source": [
    "from sklearn.ensemble import RandomForestRegressor\n",
    "\n",
    "# Select only numeric features\n",
    "features = ['pickup_longitude', 'pickup_latitude', 'dropoff_longitude',\n",
    "            'dropoff_latitude', 'passenger_count', 'hour']\n",
    "\n",
    "# Train a Random Forest model\n",
    "rf2 = RandomForestRegressor()\n",
    "rf2.fit(validation_train[features], validation_train.fare_amount)\n",
    "\n",
    "validation_test['pred3'] = rf2.predict(validation_test[features])\n",
    "\n",
    "# Measure the local RMSE\n",
    "rmse3 = sqrt(mean_squared_error(validation_test['fare_amount'], validation_test['pred3']))\n",
    "print('Validation RMSE for Baseline III model: {:.3f}'.format(rmse3))"
   ]
  },
  {
   "cell_type": "markdown",
   "metadata": {},
   "source": [
    "Congratulations! This final baseline achieves the 1051st place on the Public Leaderboard which is slightly better than the Gradient Boosting from the video. So, now you know how to build fast and simple baseline models to validate your initial pipeline."
   ]
  },
  {
   "cell_type": "markdown",
   "metadata": {},
   "source": [
    "## Hyperparameter tuning\n",
    "\n",
    "Once we have the baseline models results, we can start creating new features.\n",
    "\n",
    "![](./images/iterations.png)\n",
    "\n",
    "![](./images/competition_stategy.png)\n",
    "\n",
    "![](./images/tuning1.png)\n",
    "\n",
    "![](./images/tuning2.png)\n",
    "\n",
    "![](./images/tuning3.png)\n"
   ]
  },
  {
   "cell_type": "markdown",
   "metadata": {},
   "source": [
    "### Grid search\n",
    "\n",
    "\n",
    "Grid search (Exercise):\n",
    "Recall that we've created a baseline Gradient Boosting model in the previous lesson. Your goal now is to find the best max_depth hyperparameter value for this Gradient Boosting model. This hyperparameter limits the number of nodes in each individual tree. You will be using K-fold cross-validation to measure the local performance of the model for each hyperparameter value.\n",
    "\n",
    "You're given a function get_cv_score(), which takes the train dataset and dictionary of the model parameters as arguments and returns the overall validation RMSE score over 3-fold cross-validation.\n",
    "\n",
    "Instructions:\n",
    "- Specify the grid for possible max_depth values with 3, 6, 9, 12 and 15.\n",
    "- Pass each hyperparameter candidate in the grid to the model params dictionary.\n",
    "\n"
   ]
  },
  {
   "cell_type": "code",
   "execution_count": 14,
   "metadata": {},
   "outputs": [],
   "source": [
    "from sklearn.model_selection import KFold\n",
    "from sklearn.ensemble import GradientBoostingRegressor\n",
    "\n",
    "def get_cv_score(train, params):\n",
    "    # Create KFold object\n",
    "    kf = KFold(n_splits=3, shuffle=True, random_state=123)\n",
    "\n",
    "    rmse_scores = []\n",
    "    \n",
    "    # Loop through each split\n",
    "    for train_index, test_index in kf.split(train):\n",
    "        cv_train, cv_test = train.iloc[train_index], train.iloc[test_index]\n",
    "    \n",
    "        # Train a Gradient Boosting model\n",
    "        gb = GradientBoostingRegressor(random_state=123, **params).fit(cv_train[features], cv_train.fare_amount)\n",
    "    \n",
    "        # Make predictions on the test data\n",
    "        pred = gb.predict(cv_test[features])\n",
    "    \n",
    "        fold_score = np.sqrt(mean_squared_error(cv_test['fare_amount'], pred))\n",
    "        rmse_scores.append(fold_score)\n",
    "    \n",
    "    return np.round(np.mean(rmse_scores) + np.std(rmse_scores), 5)"
   ]
  },
  {
   "cell_type": "code",
   "execution_count": 15,
   "metadata": {},
   "outputs": [
    {
     "name": "stdout",
     "output_type": "stream",
     "text": [
      "{3: 5.67296, 6: 5.36925, 9: 5.35641, 12: 5.50111, 15: 5.70245}\n"
     ]
    }
   ],
   "source": [
    "# Possible max depth values\n",
    "max_depth_grid = [3, 6, 9, 12, 15]\n",
    "results = {}\n",
    "\n",
    "# For each value in the grid\n",
    "for max_depth_candidate in max_depth_grid:\n",
    "    # Specify parameters for the model\n",
    "    params = {'max_depth': max_depth_candidate}\n",
    "\n",
    "    # Calculate validation score for a particular hyperparameter\n",
    "    validation_score = get_cv_score(train, params)\n",
    "\n",
    "    # Save the results for each max depth value\n",
    "    results[max_depth_candidate] = validation_score   \n",
    "print(results)"
   ]
  },
  {
   "cell_type": "markdown",
   "metadata": {},
   "source": [
    "\n",
    "### 2D grid search\n",
    "\n",
    "\n",
    "2D grid search(Exercise)\n",
    "\n",
    "The drawback of tuning each hyperparameter independently is a potential dependency between different hyperparameters. The better approach is to try all the possible hyperparameter combinations. However, in such cases, the grid search space is rapidly expanding. For example, if we have 2 parameters with 10 possible values, it will yield 100 experiment runs.\n",
    "\n",
    "Your goal is to find the best hyperparameter couple of max_depth and subsample for the Gradient Boosting model. subsample is a fraction of observations to be used for fitting the individual trees.\n",
    "\n",
    "You're given a function get_cv_score(), which takes the train dataset and dictionary of the model parameters as arguments and returns the overall validation RMSE score over 3-fold cross-validation.\n",
    "\n",
    "Instructions:\n",
    "- Specify the grids for possible max_depth and subsample values. For max_depth: 3, 5 and 7. For subsample: 0.8, 0.9 and 1.0.\n",
    "- Apply the product() function from the itertools package to the hyperparameter grids. It returns all possible combinations for these two grids.\n",
    "- Pass each hyperparameters candidate couple to the model params dictionary.\n"
   ]
  },
  {
   "cell_type": "code",
   "execution_count": 16,
   "metadata": {},
   "outputs": [
    {
     "name": "stdout",
     "output_type": "stream",
     "text": [
      "{(3, 0.8): 5.65813, (3, 0.9): 5.65228, (3, 1.0): 5.67296, (5, 0.8): 5.34947, (5, 0.9): 5.44506, (5, 1.0): 5.3132, (7, 0.8): 5.38994, (7, 0.9): 5.40631, (7, 1.0): 5.3591}\n"
     ]
    }
   ],
   "source": [
    "import itertools\n",
    "\n",
    "# Hyperparameter grids\n",
    "max_depth_grid = [3, 5 , 7]\n",
    "subsample_grid = [0.8, 0.9 , 1.0]\n",
    "results = {}\n",
    "\n",
    "# For each couple in the grid\n",
    "for max_depth_candidate, subsample_candidate in itertools.product(max_depth_grid, subsample_grid):\n",
    "    params = {'max_depth': max_depth_candidate,\n",
    "              'subsample': subsample_candidate}\n",
    "    validation_score = get_cv_score(train, params)\n",
    "    # Save the results for each couple\n",
    "    results[(max_depth_candidate, subsample_candidate)] = validation_score   \n",
    "print(results)"
   ]
  },
  {
   "cell_type": "code",
   "execution_count": 17,
   "metadata": {},
   "outputs": [
    {
     "data": {
      "text/plain": [
       "[((5, 1.0), 5.3132),\n",
       " ((5, 0.8), 5.34947),\n",
       " ((7, 1.0), 5.3591),\n",
       " ((7, 0.8), 5.38994),\n",
       " ((7, 0.9), 5.40631),\n",
       " ((5, 0.9), 5.44506),\n",
       " ((3, 0.9), 5.65228),\n",
       " ((3, 0.8), 5.65813),\n",
       " ((3, 1.0), 5.67296)]"
      ]
     },
     "execution_count": 17,
     "metadata": {},
     "output_type": "execute_result"
    }
   ],
   "source": [
    "sorted(results.items(),key=lambda item:item[1]) # sort by value"
   ]
  },
  {
   "cell_type": "markdown",
   "metadata": {},
   "source": [
    "\n",
    "## Model ensembling\n",
    "\n",
    "![](./images/ensemble1.png)\n",
    "\n",
    "\n",
    "![](./images/ensemble2.png)\n",
    "\n",
    "\n",
    "Blending appoach is to find an average of multiple models predictions.\n",
    "\n",
    "![](./images/ensemble3.png)\n",
    "\n",
    "\n",
    "\n",
    "![](./images/ensemble4.png)\n",
    "\n",
    "![](./images/ensemble5.png)\n",
    "\n",
    "\n",
    "\n",
    "![](./images/stacking.png)\n",
    "\n",
    "To demonstrate the above 6 steps:\n",
    "\n",
    "![](./images/stacking2.png)\n",
    "\n",
    "Train 3 models A, B and C on part 1 set\n",
    "\n",
    "![](./images/stacking3.png)\n",
    "\n",
    "Then use 3 models A, B and C to predict on both the train_validation (part 2) and test sets. \n",
    "\n",
    "![](./images/stacking4.png)\n",
    "\n",
    "![](./images/stacking5.png)\n",
    "\n",
    "![](./images/stacking6.png)"
   ]
  },
  {
   "cell_type": "markdown",
   "metadata": {},
   "source": [
    "### Model blending\n",
    "\n",
    "\n",
    "Model blending (Exercise)\n",
    "You will start creating model ensembles with a blending technique.\n",
    "\n",
    "Your goal is to train 2 different models on the New York City Taxi competition data. Make predictions on the test data and then blend them using a simple arithmetic mean.\n",
    "\n",
    "The train and test DataFrames are already available in your workspace. features is a list of columns to be used for training and it is also available in your workspace. The target variable name is \"fare_amount\".\n",
    "\n",
    "Instructions:\n",
    "- Train a Gradient Boosting model on the train data using features list, and the \"fare_amount\" column as a target variable.\n",
    "- Train a Random Forest model in the same manner.\n",
    "- Make predictions on the test data using both Gradient Boosting and Random Forest models.\n",
    "- Find the average of both models predictions.\n",
    "\n"
   ]
  },
  {
   "cell_type": "code",
   "execution_count": 1,
   "metadata": {},
   "outputs": [],
   "source": [
    "from sklearn.ensemble import GradientBoostingRegressor, RandomForestRegressor\n",
    "import pandas as pd \n",
    "\n",
    "train = pd.read_csv('./datasets/taxi_train_distance.csv')\n",
    "test = pd.read_csv('./datasets/taxi_test_distance.csv')\n",
    "features = ['pickup_longitude', 'pickup_latitude', 'dropoff_longitude', 'dropoff_latitude', \n",
    "            'passenger_count', 'distance_km', 'hour']"
   ]
  },
  {
   "cell_type": "code",
   "execution_count": 2,
   "metadata": {},
   "outputs": [
    {
     "name": "stdout",
     "output_type": "stream",
     "text": [
      "    gb_pred  rf_pred     blend\n",
      "0  9.661374    9.313  9.487187\n",
      "1  9.304288    8.238  8.771144\n",
      "2  5.795140    4.835  5.315070\n"
     ]
    }
   ],
   "source": [
    "\n",
    "            \n",
    "# Train a Gradient Boosting model\n",
    "gb = GradientBoostingRegressor().fit(train[features], train.fare_amount)\n",
    "\n",
    "# Train a Random Forest model\n",
    "rf = RandomForestRegressor().fit(train[features], train.fare_amount)\n",
    "\n",
    "# Make predictions on the test data\n",
    "test['gb_pred'] = gb.predict(test[features])\n",
    "test['rf_pred'] = rf.predict(test[features])\n",
    "\n",
    "# Find mean of model predictions\n",
    "test['blend'] = (test['gb_pred'] +test['rf_pred']) / 2\n",
    "print(test[['gb_pred', 'rf_pred', 'blend']].head(3))"
   ]
  },
  {
   "cell_type": "markdown",
   "metadata": {},
   "source": [
    "Blending allows you to get additional score improvements almost for free just by averaging multiple models predictions. Now, let's explore model stacking!"
   ]
  },
  {
   "cell_type": "markdown",
   "metadata": {},
   "source": [
    "### Model stacking I\n",
    "\n",
    "Model stacking I (Exercise):\n",
    "Now it's time for stacking. To implement the stacking approach, you will follow the 6 steps we've discussed in the previous video:\n",
    "\n",
    "1. Split train data into two parts\n",
    "2. Train multiple models on Part 1\n",
    "3. Make predictions on Part 2\n",
    "4. Make predictions on the test data\n",
    "5. Train a new model on Part 2 using predictions as features\n",
    "6. Make predictions on the test data using the 2nd level model\n",
    "\n",
    "*train* and *test* DataFrames are already available in your workspace. features is a list of columns to be used for training on the Part 1 data and it is also available in your workspace. Target variable name is \"fare_amount\".\n",
    "\n",
    "Instructions:\n",
    "- Split the train DataFrame into two equal parts: part_1 and part_2. Use the train_test_split() function with test_size equal to 0.5.\n",
    "- Train Gradient Boosting and Random Forest models on the part_1 data.\n"
   ]
  },
  {
   "cell_type": "code",
   "execution_count": 2,
   "metadata": {},
   "outputs": [],
   "source": [
    "from sklearn.model_selection import train_test_split\n",
    "from sklearn.ensemble import GradientBoostingRegressor, RandomForestRegressor\n",
    "\n",
    "# Split train data into two parts\n",
    "part_1, part_2 = train_test_split(train, test_size=0.5, random_state=123)\n",
    "\n",
    "# Train a Gradient Boosting model on Part 1\n",
    "gb2 = GradientBoostingRegressor().fit(part_1[features], part_1.fare_amount)\n",
    "\n",
    "# Train a Random Forest model on Part 1\n",
    "rf2 = RandomForestRegressor().fit(part_1[features], part_1.fare_amount)"
   ]
  },
  {
   "cell_type": "markdown",
   "metadata": {},
   "source": [
    "- Make Gradient Boosting and Random Forest predictions on the part_2 data.\n",
    "- Make Gradient Boosting and Random Forest predictions on the test data."
   ]
  },
  {
   "cell_type": "code",
   "execution_count": 3,
   "metadata": {},
   "outputs": [],
   "source": [
    "# Make predictions on the Part 2 data.\n",
    "part_2 = part_2.copy()\n",
    "part_2['gb_pred'] = gb2.predict(part_2[features])\n",
    "part_2['rf_pred'] = rf2.predict(part_2[features])\n",
    "\n",
    "# Make predictions on the test data\n",
    "test = test.copy()\n",
    "test['gb_pred'] = gb2.predict(test[features])\n",
    "test['rf_pred'] = rf2.predict(test[features])"
   ]
  },
  {
   "cell_type": "markdown",
   "metadata": {},
   "source": [
    "### Model stacking II\n",
    "\n",
    "OK, what you've done so far in the stacking implementation:\n",
    "\n",
    "1. Split train data into two parts\n",
    "2. Train multiple models on Part 1\n",
    "3. Make predictions on Part 2\n",
    "4. Make predictions on the test data\n",
    "\n",
    "Now, your goal is to create a second level model using predictions from steps 3 and 4 as features. So, this model is trained on Part 2 data and then you can make stacking predictions on the test data.\n",
    "\n",
    "part_2 and test DataFrames are already available in your workspace. Gradient Boosting and Random Forest predictions are stored in these DataFrames under the names \"gb_pred\" and \"rf_pred\", respectively.\n",
    "\n",
    "Instructions:\n",
    "- Train a Linear Regression model on the Part 2 data using Gradient Boosting and Random Forest models predictions as features.\n",
    "- Make predictions on the test data using Gradient Boosting and Random Forest models predictions as features."
   ]
  },
  {
   "cell_type": "code",
   "execution_count": 4,
   "metadata": {},
   "outputs": [
    {
     "name": "stdout",
     "output_type": "stream",
     "text": [
      "[0.14050404 0.86266408]\n"
     ]
    }
   ],
   "source": [
    "from sklearn.linear_model import LinearRegression\n",
    "\n",
    "# Create linear regression model without the intercept\n",
    "lr = LinearRegression(fit_intercept=False)\n",
    "\n",
    "# Train 2nd level model on the Part 2 data\n",
    "lr.fit(part_2[['gb_pred', 'rf_pred']], part_2.fare_amount)\n",
    "\n",
    "# Make stacking predictions on the test data\n",
    "test['stacking'] = lr.predict(test[['gb_pred', 'rf_pred']])\n",
    "\n",
    "# Look at the model coefficients\n",
    "print(lr.coef_)"
   ]
  },
  {
   "cell_type": "markdown",
   "metadata": {},
   "source": [
    "Congratulations, now your toolbox contains ensembling techniques! Usually, the 2nd level model is some simple model like Linear or Logistic Regressions. Also, note that you were not using intercept in the Linear Regression just to combine pure model predictions."
   ]
  },
  {
   "cell_type": "markdown",
   "metadata": {},
   "source": [
    "## Final tips\n",
    "\n",
    "![](./images/tip1.png)\n",
    "\n",
    "![](./images/tip2.png)\n",
    "\n",
    "![](./images/tip3.png)\n",
    "\n",
    "![](./images/tip4.png)\n",
    "\n",
    "![](./images/tip5.png)\n",
    "\n",
    "### Testing Kaggle forum ideas\n",
    "\n",
    "\n",
    "Testing Kaggle forum ideas(Exercise)\n",
    "Unfortunately, not all the Forum posts and Kernels are necessarily useful for your model. So instead of blindly incorporating ideas into your pipeline, you should test them first.\n",
    "\n",
    "You're given a function get_cv_score(), which takes a train dataset as an argument and returns the overall validation root mean squared error over 3-fold cross-validation. The train DataFrame is already available in your workspace.\n",
    "\n",
    "You should try different suggestions from the Kaggle Forum and check whether they improve your validation score.\n",
    "\n",
    "- Suggestion 1: the passenger_count feature is useless. Let's see! Drop this feature and compare the scores.\n"
   ]
  },
  {
   "cell_type": "code",
   "execution_count": 12,
   "metadata": {},
   "outputs": [],
   "source": [
    "from sklearn.model_selection import KFold\n",
    "import numpy as np\n",
    "from sklearn.metrics import mean_squared_error\n",
    "def get_cv_score(train):\n",
    "    features = ['pickup_longitude', 'pickup_latitude',\n",
    "            'dropoff_longitude', 'dropoff_latitude',\n",
    "            'passenger_count', 'distance_km', 'hour', 'weird_feature']\n",
    "    \n",
    "    features = [x for x in features if x in train.columns]\n",
    "    \n",
    "    # Create KFold object\n",
    "    kf = KFold(n_splits=3, shuffle=True, random_state=123)\n",
    "\n",
    "    rmse_scores = []\n",
    "    \n",
    "    # Loop through each split\n",
    "    for train_index, test_index in kf.split(train):\n",
    "        cv_train, cv_test = train.iloc[train_index], train.iloc[test_index]\n",
    "    \n",
    "        # Train a Gradient Boosting model\n",
    "        gb = GradientBoostingRegressor(random_state=123).fit(cv_train[features], cv_train.fare_amount)\n",
    "    \n",
    "        # Make predictions on the test data\n",
    "        pred = gb.predict(cv_test[features])\n",
    "    \n",
    "        fold_score = np.sqrt(mean_squared_error(cv_test['fare_amount'], pred))\n",
    "        rmse_scores.append(fold_score)\n",
    "    \n",
    "    return np.round(np.mean(rmse_scores) + np.std(rmse_scores), 5)"
   ]
  },
  {
   "cell_type": "code",
   "execution_count": 13,
   "metadata": {},
   "outputs": [
    {
     "name": "stdout",
     "output_type": "stream",
     "text": [
      "Initial score is 6.49932 and the new score is 6.42315\n"
     ]
    }
   ],
   "source": [
    "# Drop passenger_count column\n",
    "new_train_1 = train.drop('passenger_count', axis=1)\n",
    "\n",
    "# Compare validation scores\n",
    "initial_score = get_cv_score(train)\n",
    "new_score = get_cv_score(new_train_1)\n",
    "\n",
    "print('Initial score is {} and the new score is {}'.format(initial_score, new_score))"
   ]
  },
  {
   "cell_type": "markdown",
   "metadata": {},
   "source": [
    "This first suggestion worked. \n",
    "- Suggestion 2: Sum of pickup_latitude and distance_km is a good feature. Let's try it!\n"
   ]
  },
  {
   "cell_type": "code",
   "execution_count": 14,
   "metadata": {},
   "outputs": [
    {
     "name": "stdout",
     "output_type": "stream",
     "text": [
      "Initial score is 6.49932 and the new score is 6.50495\n"
     ]
    }
   ],
   "source": [
    "# Create copy of the initial train DataFrame\n",
    "new_train_2 = train.copy()\n",
    "\n",
    "# Find sum of pickup latitude and ride distance\n",
    "new_train_2['weird_feature'] = new_train_2['pickup_latitude'] + new_train_2['distance_km']\n",
    "\n",
    "# Compare validation scores\n",
    "initial_score = get_cv_score(train)\n",
    "new_score = get_cv_score(new_train_2)\n",
    "\n",
    "print('Initial score is {} and the new score is {}'.format(initial_score, new_score))"
   ]
  },
  {
   "cell_type": "markdown",
   "metadata": {},
   "source": [
    "Be aware that not all the ideas shared publicly could work for you! In this particular case, dropping the \"passenger_count\" feature helped, while finding the sum of pickup latitude and ride distance did not. The last action you perform in any Kaggle competition is selecting final submissions. Go on to practice it!"
   ]
  },
  {
   "cell_type": "markdown",
   "metadata": {},
   "source": [
    "### Select final submissions\n",
    "\n",
    "![](./images/submision_choice.png)"
   ]
  },
  {
   "cell_type": "markdown",
   "metadata": {},
   "source": [
    "### Final thoughts\n",
    "\n",
    "![](./images/summary1.png)\n",
    "\n",
    "![](./images/summary2.png)"
   ]
  }
 ],
 "metadata": {
  "kernelspec": {
   "display_name": "Python 3.9.12 ('my_conda_env')",
   "language": "python",
   "name": "python3"
  },
  "language_info": {
   "codemirror_mode": {
    "name": "ipython",
    "version": 3
   },
   "file_extension": ".py",
   "mimetype": "text/x-python",
   "name": "python",
   "nbconvert_exporter": "python",
   "pygments_lexer": "ipython3",
   "version": "3.9.13"
  },
  "orig_nbformat": 4,
  "vscode": {
   "interpreter": {
    "hash": "0f080ef3f7e154a5496448b61eb994fbc79c03fae547c033702ffc1b7b2a346b"
   }
  }
 },
 "nbformat": 4,
 "nbformat_minor": 2
}
