{
 "cells": [
  {
   "cell_type": "markdown",
   "metadata": {},
   "source": [
    "# Hypothesis Testing in Python\n",
    "\n",
    "> Hypothesis testing lets you answer questions about your datasets in a statistically rigorous way. Updating ...\n",
    "\n",
    "- toc: true\n",
    "- branch: master\n",
    "- badges: true\n",
    "- comments: true\n",
    "- author: Datacamp\n",
    "- categories: [statsmodels, Regression, Hypothesis, logistic regression, Visualizations, Testing]\n",
    "- image: images/python_sampling.png\n",
    "- hide: false\n",
    "- search_exclude: true\n",
    "- metadata_key1: metadata_value1\n",
    "- metadata_key2: metadata_value2\n"
   ]
  },
  {
   "cell_type": "markdown",
   "metadata": {},
   "source": [
    "[**Download Datasets and Presentation slides for this post HERE**](https://github.com/anhhaibkhn/Data-Science-selfstudy-notes-Blog/tree/master/_notebooks/Hypothesis%20Testing%20in%20Python)"
   ]
  },
  {
   "cell_type": "markdown",
   "metadata": {},
   "source": [
    "> Hypothesis testing lets you answer questions about your datasets in a statistically rigorous way. In this course, you'll grow your Python analytical skills as you learn how and when to use common tests like t-tests, proportion tests, and chi-square tests. Working with real-world data, including Stack Overflow user feedback, you'll gain a deep understanding of how these tests work, and the key assumptions that underpin them. You'll also discover how different tests are related using the “there is only one test\" framework, before learning how to use non-parametric tests to go beyond the limitations of side-step the requirements of hypothesis tests."
   ]
  },
  {
   "cell_type": "code",
   "execution_count": 1,
   "metadata": {},
   "outputs": [],
   "source": [
    "import pandas as pd\n",
    "import numpy as np\n",
    "import warnings\n",
    "import matplotlib.pyplot as plt\n",
    "plt.rcParams['figure.figsize'] = [8, 6]\n",
    "\n",
    "pd.set_option('display.expand_frame_repr', False)\n",
    "\n",
    "warnings.filterwarnings(\"ignore\", category=DeprecationWarning)\n",
    "warnings.filterwarnings(\"ignore\", category=FutureWarning)"
   ]
  },
  {
   "cell_type": "markdown",
   "metadata": {},
   "source": [
    "## Yum, That Dish Tests Good\n",
    "\n",
    "> How does hypothesis testing work and what problems can it solve? To find out, you’ll walk through the workflow for a one sample proportion test. In doing so, you'll encounter important concepts like z-scores, p-values, and false negative and false positive errors.\n",
    "\n",
    "\n",
    "### To the lab for testing\n",
    "> **Uses of A/B testing**\n",
    "> **Calculating the sample mean**\n",
    "> **Calculating a z-score**\n",
    "\n",
    "### A tail of two z's\n",
    "> **Criminal trials and hypothesis tests**\n",
    "> **Left tail, right tail, two tails**\n",
    "> **Calculating p-values**\n",
    "\n",
    "### Statistically significant other\n",
    "> **Decisions from p-values**\n",
    "> **Calculating a confidence interval**\n",
    "> **Type I and type II errors**\n",
    "\n",
    "## Pass Me ANOVA Glass of Iced t\n",
    "\n",
    "> In this chapter, you’ll learn how to test for differences in means between two groups using t-tests and extend this to more than two groups using ANOVA and pairwise t-tests.\n",
    "\n",
    "\n",
    "### Is this some kind of test statistic?\n",
    "> **Hypothesis testing workflow**\n",
    "> **Two sample mean test statistic**\n",
    "\n",
    "### Time for t\n",
    "> **Why is t needed?**\n",
    "> **The t-distribution**\n",
    "> **From t to p**\n",
    "\n",
    "### Pairing is caring\n",
    "> **Is pairing needed?**\n",
    "> **Visualizing the difference**\n",
    "> **Using ttest()**\n",
    "\n",
    "### P-hacked to pieces\n",
    "> **Visualizing many categories**\n",
    "> **ANOVA**\n",
    "> **Pairwise t-tests**\n",
    "\n",
    "## Letting the Categoricals Out of the Bag\n",
    "\n",
    "> Now it’s time to test for differences in proportions between two groups using proportion tests. Through hands-on exercises, you’ll extend your proportion tests to more than two groups with chi-square independence tests, and return to the one sample case with chi-square goodness of fit tests.\n",
    "\n",
    "\n",
    "### Difference strokes for proportions, folks\n",
    "> **t for proportions?**\n",
    "> **Test for single proportions**\n",
    "\n",
    "### A sense of proportion\n",
    "> **Test for two proportions**\n",
    "> **proportions_ztest() for two samples**\n",
    "\n",
    "### Declaration of independence\n",
    "> **The chi-square distribution**\n",
    "> **How many tails for chi-square tests?**\n",
    "> **Chi-square test of independence**\n",
    "\n",
    "### Does this dress make my fit look good?\n",
    "> **Visualizing goodness of fit**\n",
    "> **Chi-square test of goodness of fit**\n",
    "\n",
    "\n",
    "## Time to Define the Relationship\n",
    "\n",
    "> Finally, it’s time to learn about the assumptions made by parametric hypothesis tests, and see how non-parametric tests can be used when those assumptions aren't met.\n",
    "\n",
    "\n",
    "### What do you assume?\n",
    "> **Common assumptions of hypothesis tests**\n",
    "> **Testing sample size**\n",
    "\n",
    "### Assumptions not met\n",
    "> **Which parametric test?**\n",
    "> **Wilcoxon signed-rank test**\n",
    "\n",
    "### Look ma! Still no parameters!\n",
    "> **Wilcoxon-Mann-Whitney**\n",
    "> **Kruskal-Wallis**\n",
    "\n",
    "### Congratulations!"
   ]
  }
 ],
 "metadata": {
  "kernelspec": {
   "display_name": "Python 3.9.13 ('my_conda_env')",
   "language": "python",
   "name": "python3"
  },
  "language_info": {
   "codemirror_mode": {
    "name": "ipython",
    "version": 3
   },
   "file_extension": ".py",
   "mimetype": "text/x-python",
   "name": "python",
   "nbconvert_exporter": "python",
   "pygments_lexer": "ipython3",
   "version": "3.9.13"
  },
  "orig_nbformat": 4,
  "vscode": {
   "interpreter": {
    "hash": "0f080ef3f7e154a5496448b61eb994fbc79c03fae547c033702ffc1b7b2a346b"
   }
  }
 },
 "nbformat": 4,
 "nbformat_minor": 2
}
