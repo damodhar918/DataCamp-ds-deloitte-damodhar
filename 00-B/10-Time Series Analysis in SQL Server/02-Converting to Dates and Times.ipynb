{
 "cells": [
  {
   "cell_type": "code",
   "execution_count": 2,
   "metadata": {},
   "outputs": [],
   "source": [
    "import pandas as pd\n",
    "import numpy as np\n",
    "import matplotlib.pyplot as plt\n",
    "import sqlite3\n",
    "\n",
    "conn = sqlite3.connect('example.db')\n",
    "\n",
    "\n",
    "def rsq(query: str) -> pd.DataFrame:\n",
    "    return pd.read_sql_query(query, conn)\n"
   ]
  },
  {
   "cell_type": "code",
   "execution_count": null,
   "metadata": {},
   "outputs": [],
   "source": [
    "# SELECT TOP(10)\n",
    "# \tc.CalendarQuarterName,\n",
    "# \tc.MonthName,\n",
    "# \tc.CalendarDayOfYear\n",
    "# FROM dbo.Calendar c\n",
    "# WHERE\n",
    "# \t-- Create dates from component parts\n",
    "# \tDATEFROMPARTS(c.CalendarYear, c.CalendarMonth, c.Day) >= '2018-06-01' \n",
    "# \tAND c.DayName = 'Tuesday'\n",
    "# ORDER BY\n",
    "# \tc.FiscalYear,\n",
    "# \tc.FiscalDayOfYear ASC;"
   ]
  },
  {
   "cell_type": "code",
   "execution_count": 8,
   "metadata": {},
   "outputs": [
    {
     "data": {
      "text/html": [
       "<div>\n",
       "<style scoped>\n",
       "    .dataframe tbody tr th:only-of-type {\n",
       "        vertical-align: middle;\n",
       "    }\n",
       "\n",
       "    .dataframe tbody tr th {\n",
       "        vertical-align: top;\n",
       "    }\n",
       "\n",
       "    .dataframe thead th {\n",
       "        text-align: right;\n",
       "    }\n",
       "</style>\n",
       "<table border=\"1\" class=\"dataframe\">\n",
       "  <thead>\n",
       "    <tr style=\"text-align: right;\">\n",
       "      <th></th>\n",
       "      <th>CalendarQuarterName</th>\n",
       "      <th>MonthName</th>\n",
       "      <th>CalendarDayOfYear</th>\n",
       "    </tr>\n",
       "  </thead>\n",
       "  <tbody>\n",
       "    <tr>\n",
       "      <th>0</th>\n",
       "      <td>Q4</td>\n",
       "      <td>October</td>\n",
       "      <td>289</td>\n",
       "    </tr>\n",
       "    <tr>\n",
       "      <th>1</th>\n",
       "      <td>Q4</td>\n",
       "      <td>October</td>\n",
       "      <td>296</td>\n",
       "    </tr>\n",
       "    <tr>\n",
       "      <th>2</th>\n",
       "      <td>Q4</td>\n",
       "      <td>October</td>\n",
       "      <td>303</td>\n",
       "    </tr>\n",
       "    <tr>\n",
       "      <th>3</th>\n",
       "      <td>Q4</td>\n",
       "      <td>November</td>\n",
       "      <td>317</td>\n",
       "    </tr>\n",
       "    <tr>\n",
       "      <th>4</th>\n",
       "      <td>Q4</td>\n",
       "      <td>November</td>\n",
       "      <td>324</td>\n",
       "    </tr>\n",
       "    <tr>\n",
       "      <th>5</th>\n",
       "      <td>Q4</td>\n",
       "      <td>November</td>\n",
       "      <td>331</td>\n",
       "    </tr>\n",
       "    <tr>\n",
       "      <th>6</th>\n",
       "      <td>Q4</td>\n",
       "      <td>December</td>\n",
       "      <td>345</td>\n",
       "    </tr>\n",
       "    <tr>\n",
       "      <th>7</th>\n",
       "      <td>Q4</td>\n",
       "      <td>December</td>\n",
       "      <td>352</td>\n",
       "    </tr>\n",
       "    <tr>\n",
       "      <th>8</th>\n",
       "      <td>Q4</td>\n",
       "      <td>December</td>\n",
       "      <td>359</td>\n",
       "    </tr>\n",
       "    <tr>\n",
       "      <th>9</th>\n",
       "      <td>Q4</td>\n",
       "      <td>October</td>\n",
       "      <td>288</td>\n",
       "    </tr>\n",
       "  </tbody>\n",
       "</table>\n",
       "</div>"
      ],
      "text/plain": [
       "  CalendarQuarterName MonthName  CalendarDayOfYear\n",
       "0                  Q4   October                289\n",
       "1                  Q4   October                296\n",
       "2                  Q4   October                303\n",
       "3                  Q4  November                317\n",
       "4                  Q4  November                324\n",
       "5                  Q4  November                331\n",
       "6                  Q4  December                345\n",
       "7                  Q4  December                352\n",
       "8                  Q4  December                359\n",
       "9                  Q4   October                288"
      ]
     },
     "execution_count": 8,
     "metadata": {},
     "output_type": "execute_result"
    }
   ],
   "source": [
    "rsq(\"\"\"SELECT \n",
    "\tc.CalendarQuarterName,\n",
    "\tc.MonthName,\n",
    "\tc.CalendarDayOfYear\n",
    "FROM \n",
    "\tCalendar c\n",
    "WHERE\n",
    "\t-- Create dates from component parts\n",
    "\tSTRFTIME('%Y-%m-%d', c.CalendarYear || '-' || c.CalendarMonth || '-' || c.Day) >= '2018-06-01' \n",
    "\tAND c.DayName = 'Tuesday'\n",
    "ORDER BY\n",
    "\tc.FiscalYear,\n",
    "\tc.FiscalDayOfYear ASC\n",
    "LIMIT 10;\n",
    "\"\"\")"
   ]
  },
  {
   "cell_type": "code",
   "execution_count": null,
   "metadata": {},
   "outputs": [],
   "source": [
    "SELECT -- Mark the date and time the lunar module touched down -- Use 24-hour notation for hours, so e.g., 9 PM is 21 \n",
    "DATETIME2FROMPARTS(1969, 07, 20, 20, 17, 00, 000, 0) AS TheEagleHasLanded, -- Mark the date and time the lunar module took back off -- Use 24-hour notation for hours, so e.g., 9 PM is 21 \n",
    "DATETIMEFROMPARTS(1969, 07, 21, 18, 54, 00, 000) AS MoonDeparture;"
   ]
  },
  {
   "cell_type": "code",
   "execution_count": 9,
   "metadata": {},
   "outputs": [
    {
     "data": {
      "text/html": [
       "<div>\n",
       "<style scoped>\n",
       "    .dataframe tbody tr th:only-of-type {\n",
       "        vertical-align: middle;\n",
       "    }\n",
       "\n",
       "    .dataframe tbody tr th {\n",
       "        vertical-align: top;\n",
       "    }\n",
       "\n",
       "    .dataframe thead th {\n",
       "        text-align: right;\n",
       "    }\n",
       "</style>\n",
       "<table border=\"1\" class=\"dataframe\">\n",
       "  <thead>\n",
       "    <tr style=\"text-align: right;\">\n",
       "      <th></th>\n",
       "      <th>TheEagleHasLanded</th>\n",
       "      <th>MoonDeparture</th>\n",
       "    </tr>\n",
       "  </thead>\n",
       "  <tbody>\n",
       "    <tr>\n",
       "      <th>0</th>\n",
       "      <td>1969-07-20 20:17:00</td>\n",
       "      <td>1969-07-21 18:54:00</td>\n",
       "    </tr>\n",
       "  </tbody>\n",
       "</table>\n",
       "</div>"
      ],
      "text/plain": [
       "     TheEagleHasLanded        MoonDeparture\n",
       "0  1969-07-20 20:17:00  1969-07-21 18:54:00"
      ]
     },
     "execution_count": 9,
     "metadata": {},
     "output_type": "execute_result"
    }
   ],
   "source": [
    "rsq(\"\"\"\n",
    "SELECT -- Mark the date and time the lunar module touched down -- Use 24-hour notation for hours, so e.g., 9 PM is 21 \n",
    "DATETIME('1969-07-20 20:17:00') AS TheEagleHasLanded, -- Mark the date and time the lunar module took back off -- Use 24-hour notation for hours, so e.g., 9 PM is 21 \n",
    "DATETIME('1969-07-21 18:54:00') AS MoonDeparture;\"\"\")"
   ]
  },
  {
   "cell_type": "code",
   "execution_count": null,
   "metadata": {},
   "outputs": [],
   "source": [
    "SELECT -- Fill in the millisecond PRIOR TO chaos \n",
    "DATETIMEOFFSETFROMPARTS(2038, 01, 19, 03, 14, 07, 999, 0, 0, 3) AS LastMoment, -- Fill in the date and time when we will experience the Y2.038K problem -- Then convert to the Eastern Standard Time time zone \n",
    "DATETIMEOFFSETFROMPARTS(2038, 01, 19, 03, 14, 08, 0, 0, 0, 3) AT TIME ZONE 'Eastern Standard Time' AS TimeForChaos;"
   ]
  },
  {
   "cell_type": "code",
   "execution_count": 10,
   "metadata": {},
   "outputs": [
    {
     "data": {
      "text/html": [
       "<div>\n",
       "<style scoped>\n",
       "    .dataframe tbody tr th:only-of-type {\n",
       "        vertical-align: middle;\n",
       "    }\n",
       "\n",
       "    .dataframe tbody tr th {\n",
       "        vertical-align: top;\n",
       "    }\n",
       "\n",
       "    .dataframe thead th {\n",
       "        text-align: right;\n",
       "    }\n",
       "</style>\n",
       "<table border=\"1\" class=\"dataframe\">\n",
       "  <thead>\n",
       "    <tr style=\"text-align: right;\">\n",
       "      <th></th>\n",
       "      <th>LastMoment</th>\n",
       "      <th>TimeForChaos</th>\n",
       "    </tr>\n",
       "  </thead>\n",
       "  <tbody>\n",
       "    <tr>\n",
       "      <th>0</th>\n",
       "      <td>2038-01-19 08:44:07</td>\n",
       "      <td>2038-01-19 03:44:08</td>\n",
       "    </tr>\n",
       "  </tbody>\n",
       "</table>\n",
       "</div>"
      ],
      "text/plain": [
       "            LastMoment         TimeForChaos\n",
       "0  2038-01-19 08:44:07  2038-01-19 03:44:08"
      ]
     },
     "execution_count": 10,
     "metadata": {},
     "output_type": "execute_result"
    }
   ],
   "source": [
    "rsq(\"\"\"SELECT \n",
    "DATETIME('2038-01-19 03:14:07.999', 'localtime') AS LastMoment,\n",
    "-- Fill in the date and time when we will experience the Y2.038K problem -- Then convert to the Eastern Standard Time time zone \n",
    "DATETIME('2038-01-19 03:14:08.000', 'localtime', '-5 hours') AS TimeForChaos; -- -5 hours for Eastern Standard Time. Change accordingly for other timezones.\"\"\")"
   ]
  },
  {
   "cell_type": "code",
   "execution_count": 19,
   "metadata": {},
   "outputs": [
    {
     "data": {
      "text/html": [
       "<div>\n",
       "<style scoped>\n",
       "    .dataframe tbody tr th:only-of-type {\n",
       "        vertical-align: middle;\n",
       "    }\n",
       "\n",
       "    .dataframe tbody tr th {\n",
       "        vertical-align: top;\n",
       "    }\n",
       "\n",
       "    .dataframe thead th {\n",
       "        text-align: right;\n",
       "    }\n",
       "</style>\n",
       "<table border=\"1\" class=\"dataframe\">\n",
       "  <thead>\n",
       "    <tr style=\"text-align: right;\">\n",
       "      <th></th>\n",
       "      <th>String</th>\n",
       "      <th>StringAsDate</th>\n",
       "      <th>StringAsDateTime2</th>\n",
       "    </tr>\n",
       "  </thead>\n",
       "  <tbody>\n",
       "    <tr>\n",
       "      <th>0</th>\n",
       "      <td>2019-04-01 18:08:19.290</td>\n",
       "      <td>2019</td>\n",
       "      <td>2019</td>\n",
       "    </tr>\n",
       "    <tr>\n",
       "      <th>1</th>\n",
       "      <td>2019-04-07 06:14:30</td>\n",
       "      <td>2019</td>\n",
       "      <td>2019</td>\n",
       "    </tr>\n",
       "    <tr>\n",
       "      <th>2</th>\n",
       "      <td>2017-03-01</td>\n",
       "      <td>2017</td>\n",
       "      <td>2017</td>\n",
       "    </tr>\n",
       "    <tr>\n",
       "      <th>3</th>\n",
       "      <td>April 4, 2016</td>\n",
       "      <td>0</td>\n",
       "      <td>0</td>\n",
       "    </tr>\n",
       "    <tr>\n",
       "      <th>4</th>\n",
       "      <td>2017-06-14 09:30:00.0068848</td>\n",
       "      <td>2017</td>\n",
       "      <td>2017</td>\n",
       "    </tr>\n",
       "    <tr>\n",
       "      <th>5</th>\n",
       "      <td>19970614</td>\n",
       "      <td>19970614</td>\n",
       "      <td>19970614</td>\n",
       "    </tr>\n",
       "    <tr>\n",
       "      <th>6</th>\n",
       "      <td>2004-09-14T21:03:06Z</td>\n",
       "      <td>2004</td>\n",
       "      <td>2004</td>\n",
       "    </tr>\n",
       "  </tbody>\n",
       "</table>\n",
       "</div>"
      ],
      "text/plain": [
       "                        String  StringAsDate  StringAsDateTime2\n",
       "0      2019-04-01 18:08:19.290          2019               2019\n",
       "1          2019-04-07 06:14:30          2019               2019\n",
       "2                   2017-03-01          2017               2017\n",
       "3                April 4, 2016             0                  0\n",
       "4  2017-06-14 09:30:00.0068848          2017               2017\n",
       "5                     19970614      19970614           19970614\n",
       "6         2004-09-14T21:03:06Z          2004               2004"
      ]
     },
     "execution_count": 19,
     "metadata": {},
     "output_type": "execute_result"
    }
   ],
   "source": [
    "rsq(\"\"\"SELECT d.DateText AS String, -- Cast as DATE \n",
    "CAST(d.DateText AS DATE) AS StringAsDate, -- Cast as DATETIME2(7) \n",
    "CAST(d.DateText AS DATETIME2(7)) AS StringAsDateTime2 FROM Dates1 d;\"\"\")"
   ]
  },
  {
   "cell_type": "code",
   "execution_count": null,
   "metadata": {},
   "outputs": [],
   "source": [
    "SET LANGUAGE 'GERMAN'\n",
    "\n",
    "SELECT d.DateText AS String, -- Convert to DATE CONVERT(DATE, d.DateText) AS StringAsDate, -- Convert to DATETIME2(7) CONVERT(DATETIME2(7), d.DateText) AS StringAsDateTime2 FROM dbo.Dates d;"
   ]
  },
  {
   "cell_type": "code",
   "execution_count": 23,
   "metadata": {},
   "outputs": [
    {
     "data": {
      "text/html": [
       "<div>\n",
       "<style scoped>\n",
       "    .dataframe tbody tr th:only-of-type {\n",
       "        vertical-align: middle;\n",
       "    }\n",
       "\n",
       "    .dataframe tbody tr th {\n",
       "        vertical-align: top;\n",
       "    }\n",
       "\n",
       "    .dataframe thead th {\n",
       "        text-align: right;\n",
       "    }\n",
       "</style>\n",
       "<table border=\"1\" class=\"dataframe\">\n",
       "  <thead>\n",
       "    <tr style=\"text-align: right;\">\n",
       "      <th></th>\n",
       "      <th>String</th>\n",
       "      <th>StringAsDate</th>\n",
       "      <th>StringAsDateTime</th>\n",
       "    </tr>\n",
       "  </thead>\n",
       "  <tbody>\n",
       "    <tr>\n",
       "      <th>0</th>\n",
       "      <td>2019-04-01 18:08:19.290</td>\n",
       "      <td>2019-04-01</td>\n",
       "      <td>2019-04-01 18:08:19</td>\n",
       "    </tr>\n",
       "    <tr>\n",
       "      <th>1</th>\n",
       "      <td>2019-04-07 06:14:30</td>\n",
       "      <td>2019-04-07</td>\n",
       "      <td>2019-04-07 06:14:30</td>\n",
       "    </tr>\n",
       "    <tr>\n",
       "      <th>2</th>\n",
       "      <td>2017-03-01</td>\n",
       "      <td>2017-03-01</td>\n",
       "      <td>2017-03-01 00:00:00</td>\n",
       "    </tr>\n",
       "    <tr>\n",
       "      <th>3</th>\n",
       "      <td>April 4, 2016</td>\n",
       "      <td>None</td>\n",
       "      <td>None</td>\n",
       "    </tr>\n",
       "    <tr>\n",
       "      <th>4</th>\n",
       "      <td>2017-06-14 09:30:00.0068848</td>\n",
       "      <td>2017-06-14</td>\n",
       "      <td>2017-06-14 09:30:00</td>\n",
       "    </tr>\n",
       "    <tr>\n",
       "      <th>5</th>\n",
       "      <td>19970614</td>\n",
       "      <td>None</td>\n",
       "      <td>None</td>\n",
       "    </tr>\n",
       "    <tr>\n",
       "      <th>6</th>\n",
       "      <td>2004-09-14T21:03:06Z</td>\n",
       "      <td>2004-09-14</td>\n",
       "      <td>2004-09-14 21:03:06</td>\n",
       "    </tr>\n",
       "  </tbody>\n",
       "</table>\n",
       "</div>"
      ],
      "text/plain": [
       "                        String StringAsDate     StringAsDateTime\n",
       "0      2019-04-01 18:08:19.290   2019-04-01  2019-04-01 18:08:19\n",
       "1          2019-04-07 06:14:30   2019-04-07  2019-04-07 06:14:30\n",
       "2                   2017-03-01   2017-03-01  2017-03-01 00:00:00\n",
       "3                April 4, 2016         None                 None\n",
       "4  2017-06-14 09:30:00.0068848   2017-06-14  2017-06-14 09:30:00\n",
       "5                     19970614         None                 None\n",
       "6         2004-09-14T21:03:06Z   2004-09-14  2004-09-14 21:03:06"
      ]
     },
     "execution_count": 23,
     "metadata": {},
     "output_type": "execute_result"
    }
   ],
   "source": [
    "rsq(\"\"\"\n",
    "SELECT d.DateText AS String, \n",
    "DATE(d.DateText) AS StringAsDate, \n",
    "DATETIME(d.DateText) AS StringAsDateTime \n",
    "FROM Dates1 d;\"\"\")"
   ]
  },
  {
   "cell_type": "code",
   "execution_count": null,
   "metadata": {},
   "outputs": [],
   "source": [
    "SELECT d.DateText AS String, -- Parse as DATE using German \n",
    "PARSE(d.DateText AS DATE USING 'de-de') AS StringAsDate, -- Parse as DATETIME2(7) using German \n",
    "PARSE(d.DateText AS DATETIME2(7) USING 'de-de') AS StringAsDateTime2 FROM dbo.Dates d;"
   ]
  },
  {
   "cell_type": "code",
   "execution_count": 25,
   "metadata": {},
   "outputs": [
    {
     "data": {
      "text/html": [
       "<div>\n",
       "<style scoped>\n",
       "    .dataframe tbody tr th:only-of-type {\n",
       "        vertical-align: middle;\n",
       "    }\n",
       "\n",
       "    .dataframe tbody tr th {\n",
       "        vertical-align: top;\n",
       "    }\n",
       "\n",
       "    .dataframe thead th {\n",
       "        text-align: right;\n",
       "    }\n",
       "</style>\n",
       "<table border=\"1\" class=\"dataframe\">\n",
       "  <thead>\n",
       "    <tr style=\"text-align: right;\">\n",
       "      <th></th>\n",
       "      <th>String</th>\n",
       "      <th>StringAsDate</th>\n",
       "      <th>StringAsDateTime2</th>\n",
       "    </tr>\n",
       "  </thead>\n",
       "  <tbody>\n",
       "    <tr>\n",
       "      <th>0</th>\n",
       "      <td>2019-04-01 18:08:19.290</td>\n",
       "      <td>2019-04-01</td>\n",
       "      <td>2019-04-01 18:08:19</td>\n",
       "    </tr>\n",
       "    <tr>\n",
       "      <th>1</th>\n",
       "      <td>2019-04-07 06:14:30</td>\n",
       "      <td>2019-04-07</td>\n",
       "      <td>2019-04-07 06:14:30</td>\n",
       "    </tr>\n",
       "    <tr>\n",
       "      <th>2</th>\n",
       "      <td>2017-03-01</td>\n",
       "      <td>2017-03-01</td>\n",
       "      <td>2017-03-01 00:00:00</td>\n",
       "    </tr>\n",
       "    <tr>\n",
       "      <th>3</th>\n",
       "      <td>April 4, 2016</td>\n",
       "      <td>None</td>\n",
       "      <td>None</td>\n",
       "    </tr>\n",
       "    <tr>\n",
       "      <th>4</th>\n",
       "      <td>2017-06-14 09:30:00.0068848</td>\n",
       "      <td>2017-06-14</td>\n",
       "      <td>2017-06-14 09:30:00</td>\n",
       "    </tr>\n",
       "    <tr>\n",
       "      <th>5</th>\n",
       "      <td>19970614</td>\n",
       "      <td>None</td>\n",
       "      <td>None</td>\n",
       "    </tr>\n",
       "    <tr>\n",
       "      <th>6</th>\n",
       "      <td>2004-09-14T21:03:06Z</td>\n",
       "      <td>2004-09-14</td>\n",
       "      <td>2004-09-14 21:03:06</td>\n",
       "    </tr>\n",
       "  </tbody>\n",
       "</table>\n",
       "</div>"
      ],
      "text/plain": [
       "                        String StringAsDate    StringAsDateTime2\n",
       "0      2019-04-01 18:08:19.290   2019-04-01  2019-04-01 18:08:19\n",
       "1          2019-04-07 06:14:30   2019-04-07  2019-04-07 06:14:30\n",
       "2                   2017-03-01   2017-03-01  2017-03-01 00:00:00\n",
       "3                April 4, 2016         None                 None\n",
       "4  2017-06-14 09:30:00.0068848   2017-06-14  2017-06-14 09:30:00\n",
       "5                     19970614         None                 None\n",
       "6         2004-09-14T21:03:06Z   2004-09-14  2004-09-14 21:03:06"
      ]
     },
     "execution_count": 25,
     "metadata": {},
     "output_type": "execute_result"
    }
   ],
   "source": [
    "rsq(\"\"\"\n",
    "SELECT DateText AS String, \n",
    "       strftime('%Y-%m-%d', DateText) AS StringAsDate, \n",
    "       datetime(DateText) AS StringAsDateTime2 \n",
    "FROM Dates1;\"\"\")"
   ]
  },
  {
   "cell_type": "code",
   "execution_count": null,
   "metadata": {},
   "outputs": [],
   "source": [
    "DECLARE @OlympicsUTC NVARCHAR(50) = N'2016-08-08 23:00:00';\n",
    "\n",
    "SELECT -- Fill in the time zone for Brasilia, Brazil \n",
    "SWITCHOFFSET(@OlympicsUTC, '-03:00') AS BrasiliaTime, -- Fill in the time zone for Chicago, Illinois \n",
    "SWITCHOFFSET(@OlympicsUTC, '-05:00') AS ChicagoTime, -- Fill in the time zone for New Delhi, India \n",
    "SWITCHOFFSET(@OlympicsUTC, '+05:30') AS NewDelhiTime;"
   ]
  },
  {
   "cell_type": "code",
   "execution_count": 30,
   "metadata": {},
   "outputs": [
    {
     "data": {
      "text/html": [
       "<div>\n",
       "<style scoped>\n",
       "    .dataframe tbody tr th:only-of-type {\n",
       "        vertical-align: middle;\n",
       "    }\n",
       "\n",
       "    .dataframe tbody tr th {\n",
       "        vertical-align: top;\n",
       "    }\n",
       "\n",
       "    .dataframe thead th {\n",
       "        text-align: right;\n",
       "    }\n",
       "</style>\n",
       "<table border=\"1\" class=\"dataframe\">\n",
       "  <thead>\n",
       "    <tr style=\"text-align: right;\">\n",
       "      <th></th>\n",
       "      <th>BrasiliaTime</th>\n",
       "      <th>ChicagoTime</th>\n",
       "      <th>NewDelhiTime</th>\n",
       "    </tr>\n",
       "  </thead>\n",
       "  <tbody>\n",
       "    <tr>\n",
       "      <th>0</th>\n",
       "      <td>2016-08-08 20:00:00</td>\n",
       "      <td>2016-08-08 18:00:00</td>\n",
       "      <td>None</td>\n",
       "    </tr>\n",
       "  </tbody>\n",
       "</table>\n",
       "</div>"
      ],
      "text/plain": [
       "          BrasiliaTime          ChicagoTime NewDelhiTime\n",
       "0  2016-08-08 20:00:00  2016-08-08 18:00:00         None"
      ]
     },
     "execution_count": 30,
     "metadata": {},
     "output_type": "execute_result"
    }
   ],
   "source": [
    "rsq(\"\"\"-- Brasilia, Brazil (UTC-3)\n",
    "SELECT \n",
    "    datetime('2016-08-08T23:00:00Z', '-3 hours') AS BrasiliaTime, \n",
    "    -- Chicago, Illinois (UTC-5)\n",
    "    datetime('2016-08-08T23:00:00Z', '-5 hours') AS ChicagoTime, \n",
    "    -- New Delhi, India (UTC+5:30)\n",
    "    datetime('2016-08-08T23:00:00Z', '+5 hours 30 minutes') AS NewDelhiTime;\"\"\")"
   ]
  },
  {
   "cell_type": "code",
   "execution_count": null,
   "metadata": {},
   "outputs": [],
   "source": [
    "DECLARE @OlympicsClosingUTC DATETIME2(0) = '2016-08-21 23:00:00';\n",
    "\n",
    "SELECT -- Fill in 7 hours back and a -07:00 offset TODATETIMEOFFSET(DATEADD(HOUR, -7, @OlympicsClosingUTC), '-07:00') AS PhoenixTime, -- Fill in 12 hours forward and a +12:00 offset.\n",
    "TODATETIMEOFFSET(DATEADD(HOUR, 12, @OlympicsClosingUTC), '+12:00') AS TuvaluTime;"
   ]
  },
  {
   "cell_type": "code",
   "execution_count": 34,
   "metadata": {},
   "outputs": [
    {
     "name": "stdout",
     "output_type": "stream",
     "text": [
      "2016-08-21 23:00:00\n"
     ]
    },
    {
     "data": {
      "text/html": [
       "<div>\n",
       "<style scoped>\n",
       "    .dataframe tbody tr th:only-of-type {\n",
       "        vertical-align: middle;\n",
       "    }\n",
       "\n",
       "    .dataframe tbody tr th {\n",
       "        vertical-align: top;\n",
       "    }\n",
       "\n",
       "    .dataframe thead th {\n",
       "        text-align: right;\n",
       "    }\n",
       "</style>\n",
       "<table border=\"1\" class=\"dataframe\">\n",
       "  <thead>\n",
       "    <tr style=\"text-align: right;\">\n",
       "      <th></th>\n",
       "      <th>PhoenixTime</th>\n",
       "      <th>TuvaluTime</th>\n",
       "    </tr>\n",
       "  </thead>\n",
       "  <tbody>\n",
       "    <tr>\n",
       "      <th>0</th>\n",
       "      <td>2016-08-21 16:00:00.00.000-07:00</td>\n",
       "      <td>2016-08-22 11:00:00.00.000+12:00</td>\n",
       "    </tr>\n",
       "  </tbody>\n",
       "</table>\n",
       "</div>"
      ],
      "text/plain": [
       "                        PhoenixTime                        TuvaluTime\n",
       "0  2016-08-21 16:00:00.00.000-07:00  2016-08-22 11:00:00.00.000+12:00"
      ]
     },
     "execution_count": 34,
     "metadata": {},
     "output_type": "execute_result"
    }
   ],
   "source": [
    "import datetime\n",
    "\n",
    "# Define the parameter\n",
    "OlympicsClosingUTC = datetime.datetime(2016, 8, 21, 23, 0, 0)\n",
    "print(OlympicsClosingUTC)\n",
    "rsq(f\"\"\"SELECT \n",
    "    -- Use strftime function to format the datetime output\n",
    "    -- Use %Y-%m-%d %H:%M:%S.%f format for microseconds\n",
    "    strftime('%Y-%m-%d %H:%M:%S.%f', \n",
    "        -- Use datetime function for adding hours and subtracting hours\n",
    "        datetime('{OlympicsClosingUTC}', '-7 hours')) || '-07:00' AS PhoenixTime,\n",
    "    strftime('%Y-%m-%d %H:%M:%S.%f', \n",
    "        datetime('{OlympicsClosingUTC}', '+12 hours')) || '+12:00' AS TuvaluTime;\n",
    "\"\"\")"
   ]
  },
  {
   "cell_type": "code",
   "execution_count": null,
   "metadata": {},
   "outputs": [],
   "source": [
    "DECLARE @OlympicsClosingUTC DATETIME2(0) = '2016-08-21 23:00:00';\n",
    "\n",
    "SELECT -- Fill in 7 hours back and a -07:00 offset \n",
    "TODATETIMEOFFSET(DATEADD(HOUR, -7, @OlympicsClosingUTC), '-07:00') AS PhoenixTime, -- Fill in 12 hours forward and a +12:00 offset.\n",
    "TODATETIMEOFFSET(DATEADD(HOUR, 12, @OlympicsClosingUTC), '+12:00') AS TuvaluTime;"
   ]
  },
  {
   "cell_type": "code",
   "execution_count": 37,
   "metadata": {},
   "outputs": [
    {
     "data": {
      "text/html": [
       "<div>\n",
       "<style scoped>\n",
       "    .dataframe tbody tr th:only-of-type {\n",
       "        vertical-align: middle;\n",
       "    }\n",
       "\n",
       "    .dataframe tbody tr th {\n",
       "        vertical-align: top;\n",
       "    }\n",
       "\n",
       "    .dataframe thead th {\n",
       "        text-align: right;\n",
       "    }\n",
       "</style>\n",
       "<table border=\"1\" class=\"dataframe\">\n",
       "  <thead>\n",
       "    <tr style=\"text-align: right;\">\n",
       "      <th></th>\n",
       "      <th>PhoenixTime</th>\n",
       "      <th>TuvaluTime</th>\n",
       "    </tr>\n",
       "  </thead>\n",
       "  <tbody>\n",
       "    <tr>\n",
       "      <th>0</th>\n",
       "      <td>2016-08-21 16:00:00-07:00</td>\n",
       "      <td>2016-08-22 11:00:00+12:00</td>\n",
       "    </tr>\n",
       "  </tbody>\n",
       "</table>\n",
       "</div>"
      ],
      "text/plain": [
       "                 PhoenixTime                 TuvaluTime\n",
       "0  2016-08-21 16:00:00-07:00  2016-08-22 11:00:00+12:00"
      ]
     },
     "execution_count": 37,
     "metadata": {},
     "output_type": "execute_result"
    }
   ],
   "source": [
    "rsq(\"\"\"\n",
    "SELECT \n",
    "    -- Fill in 7 hours back and a -07:00 offset \n",
    "    datetime('2016-08-21 23:00:00', '-7 hours') || '-07:00' AS PhoenixTime,\n",
    "    -- Fill in 12 hours forward and a +12:00 offset.\n",
    "    datetime('2016-08-21 23:00:00', '+12 hours') || '+12:00' AS TuvaluTime;\"\"\")\n"
   ]
  },
  {
   "cell_type": "code",
   "execution_count": null,
   "metadata": {},
   "outputs": [],
   "source": [
    "DECLARE\n",
    "\t@GoodDateINTL NVARCHAR(30) = '2019-03-01 18:23:27.920',\n",
    "\t@GoodDateDE NVARCHAR(30) = '13.4.2019',\n",
    "\t@GoodDateUS NVARCHAR(30) = '4/13/2019',\n",
    "\t@BadDate NVARCHAR(30) = N'SOME BAD DATE';\n",
    "\n",
    "-- The prior solution using TRY_CAST\n",
    "SELECT\n",
    "\tTRY_CAST(@GoodDateINTL AS DATETIME2(3)) AS GoodDateINTL,\n",
    "\tTRY_CAST(@GoodDateDE AS DATE) AS GoodDateDE,\n",
    "\tTRY_CAST(@GoodDateUS AS DATE) AS GoodDateUS,\n",
    "\tTRY_CAST(@BadDate AS DATETIME2(3)) AS BadDate;\n",
    "\n",
    "SELECT TRY_PARSE(@GoodDateINTL AS DATETIME2(3)) AS GoodDateINTL, -- Fill in the correct region based on our input -- Be sure to match these data types with the -- TRY_CAST() examples above! \n",
    "TRY_PARSE(@GoodDateDE AS DATE USING 'de-de') AS GoodDateDE, TRY_PARSE(@GoodDateUS AS DATE USING 'en-us') AS GoodDateUS, -- TRY_PARSE can't fix completely invalid dates \n",
    "TRY_PARSE(@BadDate AS DATETIME2(3) USING 'sk-sk') AS BadDate;"
   ]
  },
  {
   "cell_type": "code",
   "execution_count": 40,
   "metadata": {},
   "outputs": [
    {
     "data": {
      "text/plain": [
       "1"
      ]
     },
     "execution_count": 40,
     "metadata": {},
     "output_type": "execute_result"
    }
   ],
   "source": [
    "rsq(\"\"\"\n",
    "-- Declare variables and set their values\n",
    "WITH vars AS (\n",
    "  SELECT \n",
    "    '2019-03-01 18:23:27.920' AS GoodDateINTL,\n",
    "    '13.4.2019' AS GoodDateDE,\n",
    "    '4/13/2019' AS GoodDateUS,\n",
    "    'SOME BAD DATE' AS BadDate\n",
    ")\n",
    "-- The prior solution using TRY_CAST (SQLite equivalent is CAST)\n",
    "SELECT\n",
    "    CAST(v.GoodDateINTL AS DATETIME) AS GoodDateINTL,\n",
    "    CAST(v.GoodDateDE AS DATE) AS GoodDateDE,\n",
    "    CAST(v.GoodDateUS AS DATE) AS GoodDateUS,\n",
    "    CAST(v.BadDate AS DATETIME) AS BadDate\n",
    "FROM vars v;\n",
    "\n",
    "\"\"\").to_sql('vars',conn,if_exists='replace',index=False)"
   ]
  },
  {
   "cell_type": "code",
   "execution_count": 4,
   "metadata": {},
   "outputs": [
    {
     "data": {
      "text/html": [
       "<div>\n",
       "<style scoped>\n",
       "    .dataframe tbody tr th:only-of-type {\n",
       "        vertical-align: middle;\n",
       "    }\n",
       "\n",
       "    .dataframe tbody tr th {\n",
       "        vertical-align: top;\n",
       "    }\n",
       "\n",
       "    .dataframe thead th {\n",
       "        text-align: right;\n",
       "    }\n",
       "</style>\n",
       "<table border=\"1\" class=\"dataframe\">\n",
       "  <thead>\n",
       "    <tr style=\"text-align: right;\">\n",
       "      <th></th>\n",
       "      <th>GoodDateINTL</th>\n",
       "      <th>GoodDateDE</th>\n",
       "      <th>GoodDateUS</th>\n",
       "      <th>BadDate</th>\n",
       "    </tr>\n",
       "  </thead>\n",
       "  <tbody>\n",
       "    <tr>\n",
       "      <th>0</th>\n",
       "      <td>2019-03-01 18:23:27.920</td>\n",
       "      <td>None</td>\n",
       "      <td>None</td>\n",
       "      <td>Invalid date</td>\n",
       "    </tr>\n",
       "  </tbody>\n",
       "</table>\n",
       "</div>"
      ],
      "text/plain": [
       "              GoodDateINTL GoodDateDE GoodDateUS       BadDate\n",
       "0  2019-03-01 18:23:27.920       None       None  Invalid date"
      ]
     },
     "execution_count": 4,
     "metadata": {},
     "output_type": "execute_result"
    }
   ],
   "source": [
    "rsq(\"\"\"\n",
    "-- The TRY_PARSE equivalent in SQLite is using the strftime function with format codes and modifiers.\n",
    "-- Here's how to do it:\n",
    "SELECT \n",
    "    strftime('%Y-%m-%d %H:%M:%f', '2019-03-01 18:23:27.920') AS GoodDateINTL,\n",
    "    datetime('13.4.2019', '+1 day') AS GoodDateDE,\n",
    "    date('4/13/2019', '+3 day') AS GoodDateUS,\n",
    "    -- There's no TRY_PARSE equivalent in SQLite so we'll use a CASE statement to handle bad data\n",
    "    CASE \n",
    "        WHEN strftime('%Y-%m-%d %H:%M:%f', 'SOME BAD DATE') IS NULL THEN 'Invalid date'\n",
    "        ELSE strftime('%Y-%m-%d %H:%M:%f', 'SOME BAD DATE') \n",
    "    END AS BadDate; \"\"\")"
   ]
  },
  {
   "cell_type": "code",
   "execution_count": null,
   "metadata": {},
   "outputs": [],
   "source": [
    "WITH EventDates AS\n",
    "(\n",
    "    SELECT\n",
    "        -- Fill in the missing try-conversion function\n",
    "        TRY_CONVERT(DATETIME2(3), it.EventDate) AT TIME ZONE it.TimeZone AS EventDateOffset,\n",
    "        it.TimeZone\n",
    "    FROM dbo.ImportedTime it\n",
    "        INNER JOIN sys.time_zone_info tzi\n",
    "\t\t\tON it.TimeZone = tzi.name\n",
    ")\n",
    "SELECT\n",
    "    -- Fill in the approppriate event date to convert\n",
    "\tCONVERT(NVARCHAR(50), ed.EventDateOffset) AS EventDateOffsetString,\n",
    "\tCONVERT(DATETIME2(0), ed.EventDateOffset) AS EventDateLocal,\n",
    "\ted.TimeZone,\n",
    "    -- Convert from a DATETIMEOFFSET to DATETIME at UTC\n",
    "\tCAST(ed.EventDateOffset AT TIME ZONE 'UTC' AS DATETIME2(0)) AS EventDateUTC,\n",
    "    -- Convert from a DATETIMEOFFSET to DATETIME with time zone\n",
    "\tCAST(ed.EventDateOffset AT TIME ZONE 'US Eastern Standard Time'  AS DATETIME2(0)) AS EventDateUSEast\n",
    "FROM EventDates ed;"
   ]
  },
  {
   "cell_type": "code",
   "execution_count": 9,
   "metadata": {},
   "outputs": [
    {
     "ename": "DatabaseError",
     "evalue": "Execution failed on sql 'WITH EventDates AS\n(\n    SELECT\n        -- Fill in the missing date-time conversion function\n        strftime('%Y-%m-%d %H:%M:%f', it.EventDate || ' ' || it.TimeZone, 'utc') AS EventDateOffset,\n        it.TimeZone\n    FROM ImportedTime it\n        CREATE TABLE time_zone_info (\n            name TEXT NOT NULL,\n            abbreviation TEXT NOT NULL,\n            utc_offset INTEGER NOT NULL,\n            is_dst INTEGER NOT NULL,\n            PRIMARY KEY (name)\n        );\n\t\t\tON it.TimeZone = tzi.name\n)\nSELECT\n    -- Fill in the appropriate event date to convert\n\tEventDateOffset AS EventDateOffsetString,\n\tdatetime(EventDateOffset, 'localtime') AS EventDateLocal,\n\ted.TimeZone,\n    -- Convert from a DATETIMEOFFSET to DATETIME at UTC\n\tdatetime(EventDateOffset, 'utc') AS EventDateUTC,\n    -- Convert from a DATETIMEOFFSET to DATETIME with time zone\n\tdatetime(EventDateOffset, 'US/Eastern') AS EventDateUSEast\n    FROM EventDates ed;': near \"CREATE\": syntax error",
     "output_type": "error",
     "traceback": [
      "\u001b[1;31m---------------------------------------------------------------------------\u001b[0m",
      "\u001b[1;31mOperationalError\u001b[0m                          Traceback (most recent call last)",
      "\u001b[1;32mc:\\Users\\jdamodhar\\AppData\\Local\\Programs\\Python\\Python310\\lib\\site-packages\\pandas\\io\\sql.py\u001b[0m in \u001b[0;36mexecute\u001b[1;34m(self, sql, params)\u001b[0m\n\u001b[0;32m   2263\u001b[0m         \u001b[1;32mtry\u001b[0m\u001b[1;33m:\u001b[0m\u001b[1;33m\u001b[0m\u001b[1;33m\u001b[0m\u001b[0m\n\u001b[1;32m-> 2264\u001b[1;33m             \u001b[0mcur\u001b[0m\u001b[1;33m.\u001b[0m\u001b[0mexecute\u001b[0m\u001b[1;33m(\u001b[0m\u001b[0msql\u001b[0m\u001b[1;33m,\u001b[0m \u001b[1;33m*\u001b[0m\u001b[0margs\u001b[0m\u001b[1;33m)\u001b[0m\u001b[1;33m\u001b[0m\u001b[1;33m\u001b[0m\u001b[0m\n\u001b[0m\u001b[0;32m   2265\u001b[0m             \u001b[1;32mreturn\u001b[0m \u001b[0mcur\u001b[0m\u001b[1;33m\u001b[0m\u001b[1;33m\u001b[0m\u001b[0m\n",
      "\u001b[1;31mOperationalError\u001b[0m: near \"CREATE\": syntax error",
      "\nThe above exception was the direct cause of the following exception:\n",
      "\u001b[1;31mDatabaseError\u001b[0m                             Traceback (most recent call last)",
      "\u001b[1;32mC:\\Users\\JDAMOD~1\\AppData\\Local\\Temp/ipykernel_12992/3173693252.py\u001b[0m in \u001b[0;36m<module>\u001b[1;34m\u001b[0m\n\u001b[1;32m----> 1\u001b[1;33m rsq(\"\"\"WITH EventDates AS\n\u001b[0m\u001b[0;32m      2\u001b[0m (\n\u001b[0;32m      3\u001b[0m     \u001b[0mSELECT\u001b[0m\u001b[1;33m\u001b[0m\u001b[1;33m\u001b[0m\u001b[0m\n\u001b[0;32m      4\u001b[0m         \u001b[1;33m-\u001b[0m\u001b[1;33m-\u001b[0m \u001b[0mFill\u001b[0m \u001b[1;32min\u001b[0m \u001b[0mthe\u001b[0m \u001b[0mmissing\u001b[0m \u001b[0mdate\u001b[0m\u001b[1;33m-\u001b[0m\u001b[0mtime\u001b[0m \u001b[0mconversion\u001b[0m \u001b[0mfunction\u001b[0m\u001b[1;33m\u001b[0m\u001b[1;33m\u001b[0m\u001b[0m\n\u001b[0;32m      5\u001b[0m         \u001b[0mstrftime\u001b[0m\u001b[1;33m(\u001b[0m\u001b[1;34m'%Y-%m-%d %H:%M:%f'\u001b[0m\u001b[1;33m,\u001b[0m \u001b[0mit\u001b[0m\u001b[1;33m.\u001b[0m\u001b[0mEventDate\u001b[0m \u001b[1;33m|\u001b[0m\u001b[1;33m|\u001b[0m \u001b[1;34m' '\u001b[0m \u001b[1;33m|\u001b[0m\u001b[1;33m|\u001b[0m \u001b[0mit\u001b[0m\u001b[1;33m.\u001b[0m\u001b[0mTimeZone\u001b[0m\u001b[1;33m,\u001b[0m \u001b[1;34m'utc'\u001b[0m\u001b[1;33m)\u001b[0m \u001b[0mAS\u001b[0m \u001b[0mEventDateOffset\u001b[0m\u001b[1;33m,\u001b[0m\u001b[1;33m\u001b[0m\u001b[1;33m\u001b[0m\u001b[0m\n",
      "\u001b[1;32mC:\\Users\\JDAMOD~1\\AppData\\Local\\Temp/ipykernel_12992/325430823.py\u001b[0m in \u001b[0;36mrsq\u001b[1;34m(query)\u001b[0m\n\u001b[0;32m      8\u001b[0m \u001b[1;33m\u001b[0m\u001b[0m\n\u001b[0;32m      9\u001b[0m \u001b[1;32mdef\u001b[0m \u001b[0mrsq\u001b[0m\u001b[1;33m(\u001b[0m\u001b[0mquery\u001b[0m\u001b[1;33m:\u001b[0m \u001b[0mstr\u001b[0m\u001b[1;33m)\u001b[0m \u001b[1;33m->\u001b[0m \u001b[0mpd\u001b[0m\u001b[1;33m.\u001b[0m\u001b[0mDataFrame\u001b[0m\u001b[1;33m:\u001b[0m\u001b[1;33m\u001b[0m\u001b[1;33m\u001b[0m\u001b[0m\n\u001b[1;32m---> 10\u001b[1;33m     \u001b[1;32mreturn\u001b[0m \u001b[0mpd\u001b[0m\u001b[1;33m.\u001b[0m\u001b[0mread_sql_query\u001b[0m\u001b[1;33m(\u001b[0m\u001b[0mquery\u001b[0m\u001b[1;33m,\u001b[0m \u001b[0mconn\u001b[0m\u001b[1;33m)\u001b[0m\u001b[1;33m\u001b[0m\u001b[1;33m\u001b[0m\u001b[0m\n\u001b[0m",
      "\u001b[1;32mc:\\Users\\jdamodhar\\AppData\\Local\\Programs\\Python\\Python310\\lib\\site-packages\\pandas\\io\\sql.py\u001b[0m in \u001b[0;36mread_sql_query\u001b[1;34m(sql, con, index_col, coerce_float, params, parse_dates, chunksize, dtype, dtype_backend)\u001b[0m\n\u001b[0;32m    484\u001b[0m \u001b[1;33m\u001b[0m\u001b[0m\n\u001b[0;32m    485\u001b[0m     \u001b[1;32mwith\u001b[0m \u001b[0mpandasSQL_builder\u001b[0m\u001b[1;33m(\u001b[0m\u001b[0mcon\u001b[0m\u001b[1;33m)\u001b[0m \u001b[1;32mas\u001b[0m \u001b[0mpandas_sql\u001b[0m\u001b[1;33m:\u001b[0m\u001b[1;33m\u001b[0m\u001b[1;33m\u001b[0m\u001b[0m\n\u001b[1;32m--> 486\u001b[1;33m         return pandas_sql.read_query(\n\u001b[0m\u001b[0;32m    487\u001b[0m             \u001b[0msql\u001b[0m\u001b[1;33m,\u001b[0m\u001b[1;33m\u001b[0m\u001b[1;33m\u001b[0m\u001b[0m\n\u001b[0;32m    488\u001b[0m             \u001b[0mindex_col\u001b[0m\u001b[1;33m=\u001b[0m\u001b[0mindex_col\u001b[0m\u001b[1;33m,\u001b[0m\u001b[1;33m\u001b[0m\u001b[1;33m\u001b[0m\u001b[0m\n",
      "\u001b[1;32mc:\\Users\\jdamodhar\\AppData\\Local\\Programs\\Python\\Python310\\lib\\site-packages\\pandas\\io\\sql.py\u001b[0m in \u001b[0;36mread_query\u001b[1;34m(self, sql, index_col, coerce_float, parse_dates, params, chunksize, dtype, dtype_backend)\u001b[0m\n\u001b[0;32m   2326\u001b[0m         \u001b[0mdtype_backend\u001b[0m\u001b[1;33m:\u001b[0m \u001b[0mDtypeBackend\u001b[0m \u001b[1;33m|\u001b[0m \u001b[0mLiteral\u001b[0m\u001b[1;33m[\u001b[0m\u001b[1;34m\"numpy\"\u001b[0m\u001b[1;33m]\u001b[0m \u001b[1;33m=\u001b[0m \u001b[1;34m\"numpy\"\u001b[0m\u001b[1;33m,\u001b[0m\u001b[1;33m\u001b[0m\u001b[1;33m\u001b[0m\u001b[0m\n\u001b[0;32m   2327\u001b[0m     ) -> DataFrame | Iterator[DataFrame]:\n\u001b[1;32m-> 2328\u001b[1;33m         \u001b[0mcursor\u001b[0m \u001b[1;33m=\u001b[0m \u001b[0mself\u001b[0m\u001b[1;33m.\u001b[0m\u001b[0mexecute\u001b[0m\u001b[1;33m(\u001b[0m\u001b[0msql\u001b[0m\u001b[1;33m,\u001b[0m \u001b[0mparams\u001b[0m\u001b[1;33m)\u001b[0m\u001b[1;33m\u001b[0m\u001b[1;33m\u001b[0m\u001b[0m\n\u001b[0m\u001b[0;32m   2329\u001b[0m         \u001b[0mcolumns\u001b[0m \u001b[1;33m=\u001b[0m \u001b[1;33m[\u001b[0m\u001b[0mcol_desc\u001b[0m\u001b[1;33m[\u001b[0m\u001b[1;36m0\u001b[0m\u001b[1;33m]\u001b[0m \u001b[1;32mfor\u001b[0m \u001b[0mcol_desc\u001b[0m \u001b[1;32min\u001b[0m \u001b[0mcursor\u001b[0m\u001b[1;33m.\u001b[0m\u001b[0mdescription\u001b[0m\u001b[1;33m]\u001b[0m\u001b[1;33m\u001b[0m\u001b[1;33m\u001b[0m\u001b[0m\n\u001b[0;32m   2330\u001b[0m \u001b[1;33m\u001b[0m\u001b[0m\n",
      "\u001b[1;32mc:\\Users\\jdamodhar\\AppData\\Local\\Programs\\Python\\Python310\\lib\\site-packages\\pandas\\io\\sql.py\u001b[0m in \u001b[0;36mexecute\u001b[1;34m(self, sql, params)\u001b[0m\n\u001b[0;32m   2274\u001b[0m \u001b[1;33m\u001b[0m\u001b[0m\n\u001b[0;32m   2275\u001b[0m             \u001b[0mex\u001b[0m \u001b[1;33m=\u001b[0m \u001b[0mDatabaseError\u001b[0m\u001b[1;33m(\u001b[0m\u001b[1;34mf\"Execution failed on sql '{sql}': {exc}\"\u001b[0m\u001b[1;33m)\u001b[0m\u001b[1;33m\u001b[0m\u001b[1;33m\u001b[0m\u001b[0m\n\u001b[1;32m-> 2276\u001b[1;33m             \u001b[1;32mraise\u001b[0m \u001b[0mex\u001b[0m \u001b[1;32mfrom\u001b[0m \u001b[0mexc\u001b[0m\u001b[1;33m\u001b[0m\u001b[1;33m\u001b[0m\u001b[0m\n\u001b[0m\u001b[0;32m   2277\u001b[0m \u001b[1;33m\u001b[0m\u001b[0m\n\u001b[0;32m   2278\u001b[0m     \u001b[1;33m@\u001b[0m\u001b[0mstaticmethod\u001b[0m\u001b[1;33m\u001b[0m\u001b[1;33m\u001b[0m\u001b[0m\n",
      "\u001b[1;31mDatabaseError\u001b[0m: Execution failed on sql 'WITH EventDates AS\n(\n    SELECT\n        -- Fill in the missing date-time conversion function\n        strftime('%Y-%m-%d %H:%M:%f', it.EventDate || ' ' || it.TimeZone, 'utc') AS EventDateOffset,\n        it.TimeZone\n    FROM ImportedTime it\n        CREATE TABLE time_zone_info (\n            name TEXT NOT NULL,\n            abbreviation TEXT NOT NULL,\n            utc_offset INTEGER NOT NULL,\n            is_dst INTEGER NOT NULL,\n            PRIMARY KEY (name)\n        );\n\t\t\tON it.TimeZone = tzi.name\n)\nSELECT\n    -- Fill in the appropriate event date to convert\n\tEventDateOffset AS EventDateOffsetString,\n\tdatetime(EventDateOffset, 'localtime') AS EventDateLocal,\n\ted.TimeZone,\n    -- Convert from a DATETIMEOFFSET to DATETIME at UTC\n\tdatetime(EventDateOffset, 'utc') AS EventDateUTC,\n    -- Convert from a DATETIMEOFFSET to DATETIME with time zone\n\tdatetime(EventDateOffset, 'US/Eastern') AS EventDateUSEast\n    FROM EventDates ed;': near \"CREATE\": syntax error"
     ]
    }
   ],
   "source": [
    "rsq(\"\"\"WITH EventDates AS\n",
    "(\n",
    "    SELECT\n",
    "        -- Fill in the missing date-time conversion function\n",
    "        strftime('%Y-%m-%d %H:%M:%f', it.EventDate || ' ' || it.TimeZone, 'utc') AS EventDateOffset,\n",
    "        it.TimeZone\n",
    "    FROM ImportedTime it\n",
    "        INNER JOIN time_zone_info tzi\n",
    "\t\t\tON it.TimeZone = tzi.name\n",
    ")\n",
    "SELECT\n",
    "    -- Fill in the appropriate event date to convert\n",
    "\tEventDateOffset AS EventDateOffsetString,\n",
    "\tdatetime(EventDateOffset, 'localtime') AS EventDateLocal,\n",
    "\ted.TimeZone,\n",
    "    -- Convert from a DATETIMEOFFSET to DATETIME at UTC\n",
    "\tdatetime(EventDateOffset, 'utc') AS EventDateUTC,\n",
    "    -- Convert from a DATETIMEOFFSET to DATETIME with time zone\n",
    "\tdatetime(EventDateOffset, 'US/Eastern') AS EventDateUSEast\n",
    "    FROM EventDates ed;\"\"\")"
   ]
  }
 ],
 "metadata": {
  "kernelspec": {
   "display_name": "Python 3",
   "language": "python",
   "name": "python3"
  },
  "language_info": {
   "codemirror_mode": {
    "name": "ipython",
    "version": 3
   },
   "file_extension": ".py",
   "mimetype": "text/x-python",
   "name": "python",
   "nbconvert_exporter": "python",
   "pygments_lexer": "ipython3",
   "version": "3.10.5"
  }
 },
 "nbformat": 4,
 "nbformat_minor": 2
}
