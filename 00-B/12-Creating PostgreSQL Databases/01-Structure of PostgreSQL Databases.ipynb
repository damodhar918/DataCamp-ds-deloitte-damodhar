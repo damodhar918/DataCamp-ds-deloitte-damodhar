{
 "cells": [
  {
   "cell_type": "markdown",
   "metadata": {},
   "source": [
    "https://www.postgresql.org/docs/9.1/ddl-schemas.html"
   ]
  },
  {
   "cell_type": "code",
   "execution_count": null,
   "metadata": {},
   "outputs": [],
   "source": [
    "\n",
    "# -- Delete me and command below if this table name is invalid\n",
    "# CREATE TABLE customers ();\n",
    "\n",
    "# -- Delete me and command below if this table name is invalid\n",
    "# CREATE TABLE orders ();\n",
    "\n",
    "# -- Delete me and command below if this table name is invalid\n",
    "# CREATE TABLE service_rendered_by_other_provider ();"
   ]
  },
  {
   "cell_type": "code",
   "execution_count": null,
   "metadata": {},
   "outputs": [],
   "source": [
    "# -- Define the business_type table below\n",
    "# CREATE TABLE business_type (\n",
    "# \tid serial PRIMARY KEY,\n",
    "#   \tdescription TEXT NOT NULL\n",
    "# );\n",
    "\n",
    "# -- Define the applicant table below\n",
    "# CREATE TABLE applicant (\n",
    "# \tid serial PRIMARY KEY,\n",
    "#   \tname TEXT NOT NULL,\n",
    "#   \tzip_code CHAR(5) NOT NULL,\n",
    "#   \tbusiness_type_id INTEGER references business_type(id)\n",
    "# );"
   ]
  },
  {
   "cell_type": "code",
   "execution_count": null,
   "metadata": {},
   "outputs": [],
   "source": [
    "# -- Add a schema for Ann Simmons\n",
    "# CREATE SCHEMA Ann_Simmons;\n",
    "\n",
    "# -- Add a schema for Ty Beck\n",
    "# CREATE SCHEMA TyBeck;\n",
    "\n",
    "# -- Add a schema for production data\n",
    "# CREATE SCHEMA Production_Data;"
   ]
  },
  {
   "cell_type": "code",
   "execution_count": null,
   "metadata": {},
   "outputs": [],
   "source": [
    "# -- Add users table to the public schema for the pod database\n",
    "# CREATE TABLE public.users (\n",
    "#   id serial PRIMARY KEY,\n",
    "#   first_name TEXT NOT NULL,\n",
    "#   last_name TEXT NOT NULL,\n",
    "#   email TEXT NOT NULL,\n",
    "#   hashed_password CHAR(72) NOT NULL\n",
    "# );"
   ]
  },
  {
   "cell_type": "code",
   "execution_count": null,
   "metadata": {},
   "outputs": [],
   "source": [
    "# # -- Create a table named 'borrower' in the 'loan_7a' schema\n",
    "# Create table loan_7a.borrower (\n",
    "#     id serial PRIMARY key,\n",
    "#     full_name VARCHAR (100) not NULL,\n",
    "#   \tindividual BOOLEAN\n",
    "# );"
   ]
  }
 ],
 "metadata": {
  "language_info": {
   "name": "python"
  }
 },
 "nbformat": 4,
 "nbformat_minor": 2
}
