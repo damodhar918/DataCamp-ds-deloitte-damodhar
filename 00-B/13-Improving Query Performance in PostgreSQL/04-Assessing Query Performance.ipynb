{
 "cells": [
  {
   "cell_type": "code",
   "execution_count": null,
   "metadata": {},
   "outputs": [],
   "source": []
  },
  {
   "cell_type": "code",
   "execution_count": null,
   "metadata": {},
   "outputs": [],
   "source": [
    "\n",
    "# SELECT *\n",
    "# FROM pg_stats\n",
    "# WHERE tablename = 'daily_aqi'\n",
    "# AND attname = 'category'"
   ]
  },
  {
   "cell_type": "code",
   "execution_count": null,
   "metadata": {},
   "outputs": [],
   "source": [
    "# CREATE INDEX good_index ON annual_aqi(good);\n",
    "\n",
    "# EXPLAIN\n",
    "# SELECT state_name, county_name, aqi_year, good\n",
    "# FROM annual_aqi\n",
    "# WHERE good > 327 AND aqi_year IN (2017, 2018);"
   ]
  },
  {
   "cell_type": "code",
   "execution_count": null,
   "metadata": {},
   "outputs": [],
   "source": [
    "# explain verbose\n",
    "# SELECT *\n",
    "# FROM country_demos;"
   ]
  },
  {
   "cell_type": "code",
   "execution_count": null,
   "metadata": {},
   "outputs": [],
   "source": [
    "# explain analyze\n",
    "# SELECT *\n",
    "# FROM country_demos;"
   ]
  },
  {
   "cell_type": "code",
   "execution_count": null,
   "metadata": {},
   "outputs": [],
   "source": [
    "# explain analyse\n",
    "# SELECT country\n",
    "#  , region\n",
    "#  , MAX(population) - MIN(population) as population_change\n",
    "# FROM country_pop \n",
    "# GROUP BY country, region\n",
    "# ORDER BY population_change DESC;"
   ]
  },
  {
   "cell_type": "code",
   "execution_count": null,
   "metadata": {},
   "outputs": [],
   "source": [
    "# -- Subquery\n",
    "# explain analyze\n",
    "# SELECT city\n",
    "# , sex\n",
    "# , COUNT(DISTINCT athlete_id) as no_athletes\n",
    "# , AVG(age) as avg_age\n",
    "# FROM athletes_summ\n",
    "# WHERE country_code IN (SELECT olympic_cc FROM demographics WHERE gdp > 10000 and year = 2016)\n",
    "# AND year = 2016\n",
    "# GROUP BY city, sex;"
   ]
  },
  {
   "cell_type": "code",
   "execution_count": null,
   "metadata": {},
   "outputs": [],
   "source": [
    "# SELECT old.country\n",
    "# , old.region\n",
    "# , old.population_1990\n",
    "# , new.population_2017\n",
    "# , 100*((new.population_2017 - old.population_1990)/new.population_2017::float) as population_growth\n",
    "# FROM pop_1990 old\n",
    "# INNER JOIN pop_2017 new \n",
    "# USING(country)\n",
    "# ORDER BY population_growth DESC"
   ]
  },
  {
   "cell_type": "code",
   "execution_count": null,
   "metadata": {},
   "outputs": [],
   "source": [
    "-- Find the execution time with a numeric year filter\n",
    "EXPLAIN ANALYZE\n",
    "SELECT city, sex, COUNT(DISTINCT athlete_id), AVG(age) AS avg_age\n",
    "FROM athletes_summ\n",
    "WHERE year IN (2016,2008) -- Filter by year\n",
    "GROUP BY city, sex;"
   ]
  }
 ],
 "metadata": {
  "language_info": {
   "name": "python"
  }
 },
 "nbformat": 4,
 "nbformat_minor": 2
}
