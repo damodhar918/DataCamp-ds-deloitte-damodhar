{
 "cells": [
  {
   "cell_type": "code",
   "execution_count": null,
   "metadata": {},
   "outputs": [],
   "source": [
    "-- Set @product_id to 5\n",
    "DECLARE @product_id INT = 5;\n",
    "\n",
    "IF NOT EXISTS (SELECT * FROM products WHERE product_id = @product_id)\n",
    "-- Invoke RAISERROR with parameters\n",
    "RAISERROR('No product with id %d.', 11, 1, @product_id);\n",
    "ELSE\n",
    "SELECT * FROM products WHERE product_id = @product_id;"
   ]
  },
  {
   "cell_type": "code",
   "execution_count": null,
   "metadata": {},
   "outputs": [],
   "source": [
    "BEGIN TRY\n",
    "\t-- Change the value\n",
    "    DECLARE @product_id INT = 5;\t\n",
    "    IF NOT EXISTS (SELECT * FROM products WHERE product_id = @product_id)\n",
    "        RAISERROR('No product with id %d.', 11, 1, @product_id);\n",
    "    ELSE \n",
    "        SELECT * FROM products WHERE product_id = @product_id;\n",
    "END TRY\n",
    "BEGIN CATCH\n",
    "\tSELECT ERROR_MESSAGE();\n",
    "END CATCH"
   ]
  },
  {
   "cell_type": "code",
   "execution_count": null,
   "metadata": {},
   "outputs": [],
   "source": [
    "CREATE PROCEDURE insert_product\n",
    "  @product_name VARCHAR(50),\n",
    "  @stock INT,\n",
    "  @price DECIMAL\n",
    "\n",
    "AS\n",
    "BEGIN TRY\n",
    "INSERT INTO products (product_name, stock, price)\n",
    "VALUES (@product_name, @stock, @price);\n",
    "END TRY\n",
    "-- Set up the CATCH block\n",
    "BEGIN CATCH\n",
    "-- Insert the error and end the statement with a semicolon\n",
    "INSERT INTO errors VALUES ('Error inserting a product');\n",
    "-- Re-throw the error\n",
    "THROW;\n",
    "END CATCH"
   ]
  },
  {
   "cell_type": "code",
   "execution_count": null,
   "metadata": {},
   "outputs": [],
   "source": [
    "BEGIN TRY\n",
    "-- Execute the stored procedure\n",
    "EXEC insert_product\n",
    "-- Set the values for the parameters\n",
    "@product_name = 'Super bike',\n",
    "@stock = 3,\n",
    "@price = 499.99;\n",
    "END TRY\n",
    "-- Set up the CATCH block\n",
    "BEGIN CATCH\n",
    "-- Select the error message\n",
    "SELECT ERROR_MESSAGE();\n",
    "END CATCH"
   ]
  },
  {
   "cell_type": "code",
   "execution_count": null,
   "metadata": {},
   "outputs": [],
   "source": [
    "-- Set @staff_id to 4\n",
    "DECLARE @staff_id INT = 4;\n",
    "\n",
    "IF NOT EXISTS (SELECT * FROM staff WHERE staff_id = @staff_id)\n",
    "-- Invoke the THROW statement with parameters\n",
    "THROW 50001, 'No staff member with such id', 1;\n",
    "ELSE\n",
    "SELECT * FROM staff WHERE staff_id = @staff_id"
   ]
  },
  {
   "cell_type": "code",
   "execution_count": null,
   "metadata": {},
   "outputs": [],
   "source": [
    "-- Set @first_name to 'Pedro'\n",
    "DECLARE @first_name NVARCHAR(20) = 'Pedro';\n",
    "-- Concat the message\n",
    "DECLARE @my_message NVARCHAR(500) =\n",
    "CONCAT('There is no staff member with ', @first_name, ' as the first name.');\n",
    "\n",
    "IF NOT EXISTS (SELECT * FROM staff WHERE first_name = @first_name)\n",
    "-- Throw the error\n",
    "THROW 50000, @my_message, 1;"
   ]
  },
  {
   "cell_type": "code",
   "execution_count": null,
   "metadata": {},
   "outputs": [],
   "source": [
    "DECLARE @product_name AS NVARCHAR(50) = 'Trek CrossRip+ - 2018';\n",
    "-- Set the number of sold bikes\n",
    "DECLARE @sold_bikes AS INT = 10;\n",
    "DECLARE @current_stock INT;\n",
    "\n",
    "SELECT @current_stock = stock FROM products WHERE product_name = @product_name;\n",
    "\n",
    "DECLARE @my_message NVARCHAR(500) =\n",
    "\t-- Customize the error message\n",
    "\tFORMATMESSAGE('There are not enough %s bikes. You have %d in stock.', @product_name, @current_stock);\n",
    "IF (@current_stock - @sold_bikes < 0)\n",
    "\t-- Throw the error\n",
    "\tTHROW 50000, @my_message, 1;"
   ]
  },
  {
   "cell_type": "code",
   "execution_count": null,
   "metadata": {},
   "outputs": [],
   "source": [
    "-- Pass the variables to the stored procedure\n",
    "EXEC sp_addmessage @msgnum = 50002, @severity = 16, @msgtext = 'There are not enough %s bikes. You only have %d in stock.', @lang = N'us_english';\n",
    "\n",
    "DECLARE @product_name AS NVARCHAR(50) = 'Trek CrossRip+ - 2018';\n",
    "DECLARE @sold_bikes AS INT = 10;\n",
    "DECLARE @current_stock INT;\n",
    "SELECT @current_stock = stock FROM products WHERE product_name = @product_name;\n",
    "DECLARE @my_message NVARCHAR(500) =\n",
    "-- Prepare the error message\n",
    "FORMATMESSAGE(50002, @product_name, @current_stock);\n",
    "\n",
    "IF (@current_stock - @sold_bikes < 0)\n",
    "-- Throw the error\n",
    "THROW 50000, @my_message, 1;"
   ]
  }
 ],
 "metadata": {
  "language_info": {
   "name": "python"
  }
 },
 "nbformat": 4,
 "nbformat_minor": 2
}
