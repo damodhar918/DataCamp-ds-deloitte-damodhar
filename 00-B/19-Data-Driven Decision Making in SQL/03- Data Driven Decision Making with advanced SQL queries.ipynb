{
 "cells": [
  {
   "cell_type": "code",
   "execution_count": 1,
   "metadata": {},
   "outputs": [],
   "source": [
    "%load_ext sql"
   ]
  },
  {
   "cell_type": "code",
   "execution_count": 2,
   "metadata": {},
   "outputs": [],
   "source": [
    "%sql sqlite:///myfile.db"
   ]
  },
  {
   "cell_type": "code",
   "execution_count": 3,
   "metadata": {},
   "outputs": [
    {
     "name": "stdout",
     "output_type": "stream",
     "text": [
      " * sqlite:///myfile.db\n",
      "Done.\n"
     ]
    },
    {
     "data": {
      "text/html": [
       "<table>\n",
       "    <thead>\n",
       "        <tr>\n",
       "            <th>country</th>\n",
       "            <th>first_account</th>\n",
       "        </tr>\n",
       "    </thead>\n",
       "    <tbody>\n",
       "        <tr>\n",
       "            <td>France</td>\n",
       "            <td>2017-01-13</td>\n",
       "        </tr>\n",
       "        <tr>\n",
       "            <td>Hungary</td>\n",
       "            <td>2017-01-18</td>\n",
       "        </tr>\n",
       "        <tr>\n",
       "            <td>Belgium</td>\n",
       "            <td>2017-01-28</td>\n",
       "        </tr>\n",
       "        <tr>\n",
       "            <td>Slovenia</td>\n",
       "            <td>2017-01-31</td>\n",
       "        </tr>\n",
       "        <tr>\n",
       "            <td>Spain</td>\n",
       "            <td>2017-02-14</td>\n",
       "        </tr>\n",
       "        <tr>\n",
       "            <td>Italy</td>\n",
       "            <td>2017-02-28</td>\n",
       "        </tr>\n",
       "        <tr>\n",
       "            <td>Poland</td>\n",
       "            <td>2017-03-03</td>\n",
       "        </tr>\n",
       "        <tr>\n",
       "            <td>Great Britan</td>\n",
       "            <td>2017-03-31</td>\n",
       "        </tr>\n",
       "        <tr>\n",
       "            <td>Denmark</td>\n",
       "            <td>2017-04-30</td>\n",
       "        </tr>\n",
       "        <tr>\n",
       "            <td>USA</td>\n",
       "            <td>2017-09-13</td>\n",
       "        </tr>\n",
       "        <tr>\n",
       "            <td>Austria</td>\n",
       "            <td>2017-11-22</td>\n",
       "        </tr>\n",
       "    </tbody>\n",
       "</table>"
      ],
      "text/plain": [
       "[('France', '2017-01-13'),\n",
       " ('Hungary', '2017-01-18'),\n",
       " ('Belgium', '2017-01-28'),\n",
       " ('Slovenia', '2017-01-31'),\n",
       " ('Spain', '2017-02-14'),\n",
       " ('Italy', '2017-02-28'),\n",
       " ('Poland', '2017-03-03'),\n",
       " ('Great Britan', '2017-03-31'),\n",
       " ('Denmark', '2017-04-30'),\n",
       " ('USA', '2017-09-13'),\n",
       " ('Austria', '2017-11-22')]"
      ]
     },
     "execution_count": 3,
     "metadata": {},
     "output_type": "execute_result"
    }
   ],
   "source": [
    "%%sql\n",
    "SELECT \n",
    "\tcountry, \n",
    "    MIN(date_account_start) AS first_account\n",
    "FROM customers\n",
    "GROUP BY country\n",
    "ORDER BY first_account ASC;"
   ]
  },
  {
   "cell_type": "code",
   "execution_count": 4,
   "metadata": {},
   "outputs": [
    {
     "name": "stdout",
     "output_type": "stream",
     "text": [
      "The sql extension is already loaded. To reload it, use:\n",
      "  %reload_ext sql\n"
     ]
    }
   ],
   "source": [
    "%load_ext sql"
   ]
  },
  {
   "cell_type": "code",
   "execution_count": 5,
   "metadata": {},
   "outputs": [],
   "source": [
    "%sql sqlite:///myfile.db"
   ]
  },
  {
   "cell_type": "code",
   "execution_count": 6,
   "metadata": {},
   "outputs": [
    {
     "name": "stdout",
     "output_type": "stream",
     "text": [
      " * sqlite:///myfile.db\n",
      "Done.\n"
     ]
    },
    {
     "data": {
      "text/html": [
       "<table>\n",
       "    <thead>\n",
       "        <tr>\n",
       "            <th>movie_id</th>\n",
       "        </tr>\n",
       "    </thead>\n",
       "    <tbody>\n",
       "        <tr>\n",
       "            <td>17</td>\n",
       "        </tr>\n",
       "        <tr>\n",
       "            <td>20</td>\n",
       "        </tr>\n",
       "        <tr>\n",
       "            <td>43</td>\n",
       "        </tr>\n",
       "        <tr>\n",
       "            <td>55</td>\n",
       "        </tr>\n",
       "        <tr>\n",
       "            <td>56</td>\n",
       "        </tr>\n",
       "        <tr>\n",
       "            <td>60</td>\n",
       "        </tr>\n",
       "    </tbody>\n",
       "</table>"
      ],
      "text/plain": [
       "[(17,), (20,), (43,), (55,), (56,), (60,)]"
      ]
     },
     "execution_count": 6,
     "metadata": {},
     "output_type": "execute_result"
    }
   ],
   "source": [
    "%%sql\n",
    "SELECT movie_id -- Select movie IDs with less than 5 views\n",
    "FROM renting\n",
    "GROUP BY movie_id\n",
    "HAVING COUNT(*) < 5"
   ]
  },
  {
   "cell_type": "code",
   "execution_count": 7,
   "metadata": {},
   "outputs": [
    {
     "name": "stdout",
     "output_type": "stream",
     "text": [
      " * sqlite:///myfile.db\n",
      "Done.\n"
     ]
    },
    {
     "data": {
      "text/html": [
       "<table>\n",
       "    <thead>\n",
       "        <tr>\n",
       "            <th>movie_id</th>\n",
       "            <th>title</th>\n",
       "            <th>genre</th>\n",
       "            <th>runtime</th>\n",
       "            <th>year_of_releas</th>\n",
       "            <th>renting_price</th>\n",
       "        </tr>\n",
       "    </thead>\n",
       "    <tbody>\n",
       "        <tr>\n",
       "            <td>1</td>\n",
       "            <td>One Night at McCool&#x27;s</td>\n",
       "            <td>Comedy</td>\n",
       "            <td>93</td>\n",
       "            <td>2001</td>\n",
       "            <td>2.09</td>\n",
       "        </tr>\n",
       "        <tr>\n",
       "            <td>2</td>\n",
       "            <td>Swordfish</td>\n",
       "            <td>Drama</td>\n",
       "            <td>99</td>\n",
       "            <td>2001</td>\n",
       "            <td>2.19</td>\n",
       "        </tr>\n",
       "        <tr>\n",
       "            <td>3</td>\n",
       "            <td>What Women Want</td>\n",
       "            <td>Comedy</td>\n",
       "            <td>127</td>\n",
       "            <td>2001</td>\n",
       "            <td>2.59</td>\n",
       "        </tr>\n",
       "        <tr>\n",
       "            <td>4</td>\n",
       "            <td>Training Day</td>\n",
       "            <td>Drama</td>\n",
       "            <td>122</td>\n",
       "            <td>2001</td>\n",
       "            <td>1.79</td>\n",
       "        </tr>\n",
       "        <tr>\n",
       "            <td>5</td>\n",
       "            <td>The Fellowship of the Ring</td>\n",
       "            <td>Science Fiction &amp; Fantasy</td>\n",
       "            <td>178</td>\n",
       "            <td>2001</td>\n",
       "            <td>2.59</td>\n",
       "        </tr>\n",
       "    </tbody>\n",
       "</table>"
      ],
      "text/plain": [
       "[(1, \"One Night at McCool's\", 'Comedy', 93, 2001, 2.09),\n",
       " (2, 'Swordfish', 'Drama', 99, 2001, 2.19),\n",
       " (3, 'What Women Want', 'Comedy', 127, 2001, 2.59),\n",
       " (4, 'Training Day', 'Drama', 122, 2001, 1.79),\n",
       " (5, 'The Fellowship of the Ring', 'Science Fiction & Fantasy', 178, 2001, 2.59)]"
      ]
     },
     "execution_count": 7,
     "metadata": {},
     "output_type": "execute_result"
    }
   ],
   "source": [
    "%%sql\n",
    "SELECT *\n",
    "FROM movies\n",
    "where movie_id in  -- Select movie IDs from the inner query\n",
    "\t(SELECT movie_id\n",
    "\tFROM renting\n",
    "\tGROUP BY movie_id\n",
    "\tHAVING COUNT(*) > 5) limit 5;"
   ]
  },
  {
   "cell_type": "code",
   "execution_count": 8,
   "metadata": {},
   "outputs": [
    {
     "name": "stdout",
     "output_type": "stream",
     "text": [
      " * sqlite:///myfile.db\n",
      "Done.\n"
     ]
    },
    {
     "data": {
      "text/html": [
       "<table>\n",
       "    <thead>\n",
       "        <tr>\n",
       "            <th>customer_id</th>\n",
       "            <th>name</th>\n",
       "            <th>country</th>\n",
       "            <th>gender</th>\n",
       "            <th>date_of_birth</th>\n",
       "            <th>date_account_start</th>\n",
       "        </tr>\n",
       "    </thead>\n",
       "    <tbody>\n",
       "        <tr>\n",
       "            <td>21</td>\n",
       "            <td>Avelaine Corbeil</td>\n",
       "            <td>France</td>\n",
       "            <td>female</td>\n",
       "            <td>1986-03-17</td>\n",
       "            <td>2017-06-11</td>\n",
       "        </tr>\n",
       "        <tr>\n",
       "            <td>28</td>\n",
       "            <td>Sidney Généreux</td>\n",
       "            <td>France</td>\n",
       "            <td>male</td>\n",
       "            <td>1980-12-01</td>\n",
       "            <td>2017-02-04</td>\n",
       "        </tr>\n",
       "        <tr>\n",
       "            <td>49</td>\n",
       "            <td>Havasy Kristof</td>\n",
       "            <td>Hungary</td>\n",
       "            <td>male</td>\n",
       "            <td>1998-06-13</td>\n",
       "            <td>2017-01-18</td>\n",
       "        </tr>\n",
       "        <tr>\n",
       "            <td>92</td>\n",
       "            <td>Honorata Nowak</td>\n",
       "            <td>Poland</td>\n",
       "            <td>female</td>\n",
       "            <td>1986-05-02</td>\n",
       "            <td>2017-09-21</td>\n",
       "        </tr>\n",
       "        <tr>\n",
       "            <td>113</td>\n",
       "            <td>Lucy Centeno Barrios</td>\n",
       "            <td>Spain</td>\n",
       "            <td>female</td>\n",
       "            <td>1970-11-03</td>\n",
       "            <td>2017-06-13</td>\n",
       "        </tr>\n",
       "        <tr>\n",
       "            <td>114</td>\n",
       "            <td>Canela Gaona Lozano</td>\n",
       "            <td>Spain</td>\n",
       "            <td>female</td>\n",
       "            <td>1997-04-01</td>\n",
       "            <td>2017-02-14</td>\n",
       "        </tr>\n",
       "    </tbody>\n",
       "</table>"
      ],
      "text/plain": [
       "[(21, 'Avelaine Corbeil', 'France', 'female', '1986-03-17', '2017-06-11'),\n",
       " (28, 'Sidney Généreux', 'France', 'male', '1980-12-01', '2017-02-04'),\n",
       " (49, 'Havasy Kristof', 'Hungary', 'male', '1998-06-13', '2017-01-18'),\n",
       " (92, 'Honorata Nowak', 'Poland', 'female', '1986-05-02', '2017-09-21'),\n",
       " (113, 'Lucy Centeno Barrios', 'Spain', 'female', '1970-11-03', '2017-06-13'),\n",
       " (114, 'Canela Gaona Lozano', 'Spain', 'female', '1997-04-01', '2017-02-14')]"
      ]
     },
     "execution_count": 8,
     "metadata": {},
     "output_type": "execute_result"
    }
   ],
   "source": [
    "%%sql\n",
    "SELECT *\n",
    "FROM customers\n",
    "where    customer_id in         -- Select all customers with more than 10 movie rentals\n",
    "\t(SELECT customer_id\n",
    "\tFROM renting\n",
    "\tGROUP BY customer_id\n",
    "\thaving count(customer_id) > 10);"
   ]
  },
  {
   "cell_type": "code",
   "execution_count": 9,
   "metadata": {},
   "outputs": [
    {
     "name": "stdout",
     "output_type": "stream",
     "text": [
      " * sqlite:///myfile.db\n",
      "Done.\n"
     ]
    },
    {
     "data": {
      "text/html": [
       "<table>\n",
       "    <thead>\n",
       "        <tr>\n",
       "            <th>AVG(rating) -- Calculate the total average rating</th>\n",
       "        </tr>\n",
       "    </thead>\n",
       "    <tbody>\n",
       "        <tr>\n",
       "            <td>7.939024390243903</td>\n",
       "        </tr>\n",
       "    </tbody>\n",
       "</table>"
      ],
      "text/plain": [
       "[(7.939024390243903,)]"
      ]
     },
     "execution_count": 9,
     "metadata": {},
     "output_type": "execute_result"
    }
   ],
   "source": [
    "%%sql\n",
    "SELECT AVG(rating) -- Calculate the total average rating\n",
    "FROM renting;"
   ]
  },
  {
   "cell_type": "code",
   "execution_count": 10,
   "metadata": {},
   "outputs": [
    {
     "name": "stdout",
     "output_type": "stream",
     "text": [
      " * sqlite:///myfile.db\n",
      "Done.\n"
     ]
    },
    {
     "data": {
      "text/html": [
       "<table>\n",
       "    <thead>\n",
       "        <tr>\n",
       "            <th>movie_id</th>\n",
       "            <th>AVG(rating)</th>\n",
       "        </tr>\n",
       "    </thead>\n",
       "    <tbody>\n",
       "        <tr>\n",
       "            <td>3</td>\n",
       "            <td>9.0</td>\n",
       "        </tr>\n",
       "        <tr>\n",
       "            <td>5</td>\n",
       "            <td>9.75</td>\n",
       "        </tr>\n",
       "        <tr>\n",
       "            <td>6</td>\n",
       "            <td>8.8</td>\n",
       "        </tr>\n",
       "        <tr>\n",
       "            <td>7</td>\n",
       "            <td>8.0</td>\n",
       "        </tr>\n",
       "        <tr>\n",
       "            <td>8</td>\n",
       "            <td>8.0</td>\n",
       "        </tr>\n",
       "    </tbody>\n",
       "</table>"
      ],
      "text/plain": [
       "[(3, 9.0), (5, 9.75), (6, 8.8), (7, 8.0), (8, 8.0)]"
      ]
     },
     "execution_count": 10,
     "metadata": {},
     "output_type": "execute_result"
    }
   ],
   "source": [
    "%%sql\n",
    "SELECT movie_id,  -- Select movie IDs and calculate the average rating \n",
    "       AVG(rating)\n",
    "FROM renting\n",
    "GROUP BY movie_id\n",
    "HAVING AVG(rating) >   -- Of movies with rating above average\n",
    "\t(SELECT AVG(rating)\n",
    "\tFROM renting) limit 5;"
   ]
  },
  {
   "cell_type": "code",
   "execution_count": 11,
   "metadata": {},
   "outputs": [
    {
     "name": "stdout",
     "output_type": "stream",
     "text": [
      " * sqlite:///myfile.db\n",
      "Done.\n"
     ]
    },
    {
     "data": {
      "text/html": [
       "<table>\n",
       "    <thead>\n",
       "        <tr>\n",
       "            <th>title</th>\n",
       "        </tr>\n",
       "    </thead>\n",
       "    <tbody>\n",
       "        <tr>\n",
       "            <td>What Women Want</td>\n",
       "        </tr>\n",
       "        <tr>\n",
       "            <td>The Fellowship of the Ring</td>\n",
       "        </tr>\n",
       "        <tr>\n",
       "            <td>Harry Potter and the Philosopher&#x27;s Stone</td>\n",
       "        </tr>\n",
       "        <tr>\n",
       "            <td>The Royal Tenenbaums</td>\n",
       "        </tr>\n",
       "        <tr>\n",
       "            <td>Waking Up in Reno</td>\n",
       "        </tr>\n",
       "    </tbody>\n",
       "</table>"
      ],
      "text/plain": [
       "[('What Women Want',),\n",
       " ('The Fellowship of the Ring',),\n",
       " (\"Harry Potter and the Philosopher's Stone\",),\n",
       " ('The Royal Tenenbaums',),\n",
       " ('Waking Up in Reno',)]"
      ]
     },
     "execution_count": 11,
     "metadata": {},
     "output_type": "execute_result"
    }
   ],
   "source": [
    "%%sql\n",
    "SELECT title -- Report the movie titles of all movies with average rating higher than the total average\n",
    "FROM movies\n",
    "WHERE movie_id IN\n",
    "\t(SELECT movie_id\n",
    "\t FROM renting\n",
    "     GROUP BY movie_id\n",
    "     HAVING AVG(rating) > \n",
    "\t\t(SELECT AVG(rating)\n",
    "\t\t FROM renting)) limit 5;"
   ]
  },
  {
   "cell_type": "code",
   "execution_count": 12,
   "metadata": {},
   "outputs": [
    {
     "name": "stdout",
     "output_type": "stream",
     "text": [
      " * sqlite:///myfile.db\n",
      "Done.\n"
     ]
    },
    {
     "data": {
      "text/html": [
       "<table>\n",
       "    <thead>\n",
       "        <tr>\n",
       "            <th>COUNT(*)</th>\n",
       "        </tr>\n",
       "    </thead>\n",
       "    <tbody>\n",
       "        <tr>\n",
       "            <td>5</td>\n",
       "        </tr>\n",
       "    </tbody>\n",
       "</table>"
      ],
      "text/plain": [
       "[(5,)]"
      ]
     },
     "execution_count": 12,
     "metadata": {},
     "output_type": "execute_result"
    }
   ],
   "source": [
    "%%sql\n",
    "-- Count movie rentals of customer 45\n",
    "SELECT COUNT(*)\n",
    "FROM renting as r\n",
    "WHERE r.customer_id = 45;"
   ]
  },
  {
   "cell_type": "code",
   "execution_count": 13,
   "metadata": {},
   "outputs": [
    {
     "name": "stdout",
     "output_type": "stream",
     "text": [
      " * sqlite:///myfile.db\n",
      "Done.\n"
     ]
    },
    {
     "data": {
      "text/html": [
       "<table>\n",
       "    <thead>\n",
       "        <tr>\n",
       "            <th>customer_id</th>\n",
       "            <th>name</th>\n",
       "            <th>country</th>\n",
       "            <th>gender</th>\n",
       "            <th>date_of_birth</th>\n",
       "            <th>date_account_start</th>\n",
       "        </tr>\n",
       "    </thead>\n",
       "    <tbody>\n",
       "        <tr>\n",
       "            <td>2</td>\n",
       "            <td>Wolfgang Ackermann</td>\n",
       "            <td>Austria</td>\n",
       "            <td>male</td>\n",
       "            <td>1971-11-17</td>\n",
       "            <td>2018-10-15</td>\n",
       "        </tr>\n",
       "        <tr>\n",
       "            <td>3</td>\n",
       "            <td>Daniela Herzog</td>\n",
       "            <td>Austria</td>\n",
       "            <td>female</td>\n",
       "            <td>1974-08-07</td>\n",
       "            <td>2019-02-14</td>\n",
       "        </tr>\n",
       "        <tr>\n",
       "            <td>4</td>\n",
       "            <td>Julia Jung</td>\n",
       "            <td>Austria</td>\n",
       "            <td>female</td>\n",
       "            <td>1991-01-04</td>\n",
       "            <td>2017-11-22</td>\n",
       "        </tr>\n",
       "        <tr>\n",
       "            <td>5</td>\n",
       "            <td>Juliane Kirsch</td>\n",
       "            <td>Austria</td>\n",
       "            <td>female</td>\n",
       "            <td>1977-03-01</td>\n",
       "            <td>2018-12-16</td>\n",
       "        </tr>\n",
       "        <tr>\n",
       "            <td>6</td>\n",
       "            <td>Rowanne Couperus</td>\n",
       "            <td>Belgium</td>\n",
       "            <td>female</td>\n",
       "            <td>1994-04-05</td>\n",
       "            <td>2018-08-26</td>\n",
       "        </tr>\n",
       "    </tbody>\n",
       "</table>"
      ],
      "text/plain": [
       "[(2, 'Wolfgang Ackermann', 'Austria', 'male', '1971-11-17', '2018-10-15'),\n",
       " (3, 'Daniela Herzog', 'Austria', 'female', '1974-08-07', '2019-02-14'),\n",
       " (4, 'Julia Jung', 'Austria', 'female', '1991-01-04', '2017-11-22'),\n",
       " (5, 'Juliane Kirsch', 'Austria', 'female', '1977-03-01', '2018-12-16'),\n",
       " (6, 'Rowanne Couperus', 'Belgium', 'female', '1994-04-05', '2018-08-26')]"
      ]
     },
     "execution_count": 13,
     "metadata": {},
     "output_type": "execute_result"
    }
   ],
   "source": [
    "%%sql\n",
    "-- Select customers with less than 5 movie rentals\n",
    "SELECT *\n",
    "FROM customers as c\n",
    "WHERE 5 > \n",
    "\t(SELECT count(*)\n",
    "\tFROM renting as r\n",
    "\tWHERE r.customer_id=c.customer_id) limit 5;"
   ]
  },
  {
   "cell_type": "code",
   "execution_count": 14,
   "metadata": {},
   "outputs": [
    {
     "name": "stdout",
     "output_type": "stream",
     "text": [
      " * sqlite:///myfile.db\n",
      "Done.\n"
     ]
    },
    {
     "data": {
      "text/html": [
       "<table>\n",
       "    <thead>\n",
       "        <tr>\n",
       "            <th>MIN(rating)</th>\n",
       "        </tr>\n",
       "    </thead>\n",
       "    <tbody>\n",
       "        <tr>\n",
       "            <td>8.0</td>\n",
       "        </tr>\n",
       "    </tbody>\n",
       "</table>"
      ],
      "text/plain": [
       "[(8.0,)]"
      ]
     },
     "execution_count": 14,
     "metadata": {},
     "output_type": "execute_result"
    }
   ],
   "source": [
    "%%sql\n",
    "-- Calculate the minimum rating of customer with ID 7\n",
    "SELECT MIN(rating)\n",
    "FROM renting\n",
    "WHERE customer_id = 7;"
   ]
  },
  {
   "cell_type": "code",
   "execution_count": 15,
   "metadata": {},
   "outputs": [
    {
     "name": "stdout",
     "output_type": "stream",
     "text": [
      " * sqlite:///myfile.db\n",
      "Done.\n"
     ]
    },
    {
     "data": {
      "text/html": [
       "<table>\n",
       "    <thead>\n",
       "        <tr>\n",
       "            <th>customer_id</th>\n",
       "            <th>name</th>\n",
       "            <th>country</th>\n",
       "            <th>gender</th>\n",
       "            <th>date_of_birth</th>\n",
       "            <th>date_account_start</th>\n",
       "        </tr>\n",
       "    </thead>\n",
       "    <tbody>\n",
       "        <tr>\n",
       "            <td>28</td>\n",
       "            <td>Sidney Généreux</td>\n",
       "            <td>France</td>\n",
       "            <td>male</td>\n",
       "            <td>1980-12-01</td>\n",
       "            <td>2017-02-04</td>\n",
       "        </tr>\n",
       "        <tr>\n",
       "            <td>41</td>\n",
       "            <td>Zara Mitchell</td>\n",
       "            <td>Great Britan</td>\n",
       "            <td>female</td>\n",
       "            <td>1994-07-08</td>\n",
       "            <td>2017-06-12</td>\n",
       "        </tr>\n",
       "        <tr>\n",
       "            <td>86</td>\n",
       "            <td>Albin Jaworski</td>\n",
       "            <td>Poland</td>\n",
       "            <td>male</td>\n",
       "            <td>1984-05-01</td>\n",
       "            <td>2017-12-15</td>\n",
       "        </tr>\n",
       "        <tr>\n",
       "            <td>120</td>\n",
       "            <td>Robin J. Himes</td>\n",
       "            <td>USA</td>\n",
       "            <td>male</td>\n",
       "            <td>1988-11-30</td>\n",
       "            <td>2018-08-06</td>\n",
       "        </tr>\n",
       "    </tbody>\n",
       "</table>"
      ],
      "text/plain": [
       "[(28, 'Sidney Généreux', 'France', 'male', '1980-12-01', '2017-02-04'),\n",
       " (41, 'Zara Mitchell', 'Great Britan', 'female', '1994-07-08', '2017-06-12'),\n",
       " (86, 'Albin Jaworski', 'Poland', 'male', '1984-05-01', '2017-12-15'),\n",
       " (120, 'Robin J. Himes', 'USA', 'male', '1988-11-30', '2018-08-06')]"
      ]
     },
     "execution_count": 15,
     "metadata": {},
     "output_type": "execute_result"
    }
   ],
   "source": [
    "%%sql\n",
    "SELECT *\n",
    "FROM customers AS c\n",
    "WHERE 4 >  -- Select all customers with a minimum rating smaller than 4\n",
    "\t(SELECT MIN(rating)\n",
    "\tFROM renting AS r\n",
    "\tWHERE r.customer_id = c.customer_id);"
   ]
  },
  {
   "cell_type": "code",
   "execution_count": 16,
   "metadata": {},
   "outputs": [
    {
     "name": "stdout",
     "output_type": "stream",
     "text": [
      " * sqlite:///myfile.db\n",
      "Done.\n"
     ]
    },
    {
     "data": {
      "text/html": [
       "<table>\n",
       "    <thead>\n",
       "        <tr>\n",
       "            <th>movie_id</th>\n",
       "            <th>title</th>\n",
       "            <th>genre</th>\n",
       "            <th>runtime</th>\n",
       "            <th>year_of_releas</th>\n",
       "            <th>renting_price</th>\n",
       "        </tr>\n",
       "    </thead>\n",
       "    <tbody>\n",
       "        <tr>\n",
       "            <td>4</td>\n",
       "            <td>Training Day</td>\n",
       "            <td>Drama</td>\n",
       "            <td>122</td>\n",
       "            <td>2001</td>\n",
       "            <td>1.79</td>\n",
       "        </tr>\n",
       "        <tr>\n",
       "            <td>10</td>\n",
       "            <td>Simone</td>\n",
       "            <td>Drama</td>\n",
       "            <td>117</td>\n",
       "            <td>2002</td>\n",
       "            <td>2.69</td>\n",
       "        </tr>\n",
       "        <tr>\n",
       "            <td>12</td>\n",
       "            <td>The Two Towers</td>\n",
       "            <td>Science Fiction &amp; Fantasy</td>\n",
       "            <td>179</td>\n",
       "            <td>2002</td>\n",
       "            <td>2.39</td>\n",
       "        </tr>\n",
       "        <tr>\n",
       "            <td>14</td>\n",
       "            <td>The Recruit</td>\n",
       "            <td>Mystery &amp; Suspense</td>\n",
       "            <td>115</td>\n",
       "            <td>2003</td>\n",
       "            <td>1.69</td>\n",
       "        </tr>\n",
       "        <tr>\n",
       "            <td>22</td>\n",
       "            <td>Imagining Argentina</td>\n",
       "            <td>Art House &amp; International</td>\n",
       "            <td>107</td>\n",
       "            <td>2004</td>\n",
       "            <td>2.59</td>\n",
       "        </tr>\n",
       "    </tbody>\n",
       "</table>"
      ],
      "text/plain": [
       "[(4, 'Training Day', 'Drama', 122, 2001, 1.79),\n",
       " (10, 'Simone', 'Drama', 117, 2002, 2.69),\n",
       " (12, 'The Two Towers', 'Science Fiction & Fantasy', 179, 2002, 2.39),\n",
       " (14, 'The Recruit', 'Mystery & Suspense', 115, 2003, 1.69),\n",
       " (22, 'Imagining Argentina', 'Art House & International', 107, 2004, 2.59)]"
      ]
     },
     "execution_count": 16,
     "metadata": {},
     "output_type": "execute_result"
    }
   ],
   "source": [
    "%%sql\n",
    "SELECT *\n",
    "FROM movies AS m\n",
    "WHERE 5 < -- Select all movies with more than 5 ratings\n",
    "\t(SELECT COUNT(rating)\n",
    "\tFROM renting AS r\n",
    "\tWHERE r.movie_id = m.movie_id) limit 5;"
   ]
  },
  {
   "cell_type": "code",
   "execution_count": 17,
   "metadata": {},
   "outputs": [
    {
     "name": "stdout",
     "output_type": "stream",
     "text": [
      " * sqlite:///myfile.db\n",
      "Done.\n"
     ]
    },
    {
     "data": {
      "text/html": [
       "<table>\n",
       "    <thead>\n",
       "        <tr>\n",
       "            <th>movie_id</th>\n",
       "            <th>title</th>\n",
       "            <th>genre</th>\n",
       "            <th>runtime</th>\n",
       "            <th>year_of_releas</th>\n",
       "            <th>renting_price</th>\n",
       "        </tr>\n",
       "    </thead>\n",
       "    <tbody>\n",
       "        <tr>\n",
       "            <td>3</td>\n",
       "            <td>What Women Want</td>\n",
       "            <td>Comedy</td>\n",
       "            <td>127</td>\n",
       "            <td>2001</td>\n",
       "            <td>2.59</td>\n",
       "        </tr>\n",
       "        <tr>\n",
       "            <td>5</td>\n",
       "            <td>The Fellowship of the Ring</td>\n",
       "            <td>Science Fiction &amp; Fantasy</td>\n",
       "            <td>178</td>\n",
       "            <td>2001</td>\n",
       "            <td>2.59</td>\n",
       "        </tr>\n",
       "        <tr>\n",
       "            <td>6</td>\n",
       "            <td>Harry Potter and the Philosopher&#x27;s Stone</td>\n",
       "            <td>Science Fiction &amp; Fantasy</td>\n",
       "            <td>152</td>\n",
       "            <td>2001</td>\n",
       "            <td>2.69</td>\n",
       "        </tr>\n",
       "        <tr>\n",
       "            <td>9</td>\n",
       "            <td>11&#x27;09&#x27;&#x27;01 September 11</td>\n",
       "            <td>Drama</td>\n",
       "            <td>134</td>\n",
       "            <td>2002</td>\n",
       "            <td>2.99</td>\n",
       "        </tr>\n",
       "        <tr>\n",
       "            <td>16</td>\n",
       "            <td>25th Hour</td>\n",
       "            <td>Drama</td>\n",
       "            <td>135</td>\n",
       "            <td>2003</td>\n",
       "            <td>1.59</td>\n",
       "        </tr>\n",
       "    </tbody>\n",
       "</table>"
      ],
      "text/plain": [
       "[(3, 'What Women Want', 'Comedy', 127, 2001, 2.59),\n",
       " (5, 'The Fellowship of the Ring', 'Science Fiction & Fantasy', 178, 2001, 2.59),\n",
       " (6, \"Harry Potter and the Philosopher's Stone\", 'Science Fiction & Fantasy', 152, 2001, 2.69),\n",
       " (9, \"11'09''01 September 11\", 'Drama', 134, 2002, 2.99),\n",
       " (16, '25th Hour', 'Drama', 135, 2003, 1.59)]"
      ]
     },
     "execution_count": 17,
     "metadata": {},
     "output_type": "execute_result"
    }
   ],
   "source": [
    "%%sql\n",
    "SELECT *\n",
    "FROM movies AS m\n",
    "WHERE 8 <  -- Select all movies with an average rating higher than 8\n",
    "\t(SELECT avg(rating)\n",
    "\tFROM renting AS r\n",
    "\tWHERE r.movie_id = m.movie_id) limit 5;"
   ]
  },
  {
   "cell_type": "code",
   "execution_count": 18,
   "metadata": {},
   "outputs": [
    {
     "name": "stdout",
     "output_type": "stream",
     "text": [
      " * sqlite:///myfile.db\n",
      "Done.\n"
     ]
    },
    {
     "data": {
      "text/html": [
       "<table>\n",
       "    <thead>\n",
       "        <tr>\n",
       "            <th>renting_id</th>\n",
       "            <th>customer_id</th>\n",
       "            <th>movie_id</th>\n",
       "            <th>rating</th>\n",
       "            <th>date_renting</th>\n",
       "        </tr>\n",
       "    </thead>\n",
       "    <tbody>\n",
       "    </tbody>\n",
       "</table>"
      ],
      "text/plain": [
       "[]"
      ]
     },
     "execution_count": 18,
     "metadata": {},
     "output_type": "execute_result"
    }
   ],
   "source": [
    "%%sql\n",
    "SELECT *\n",
    "FROM renting\n",
    "WHERE rating IS NOT NULL -- Exclude those with null ratings\n",
    "AND customer_id = 115;"
   ]
  },
  {
   "cell_type": "code",
   "execution_count": 19,
   "metadata": {},
   "outputs": [
    {
     "name": "stdout",
     "output_type": "stream",
     "text": [
      " * sqlite:///myfile.db\n",
      "Done.\n"
     ]
    },
    {
     "data": {
      "text/html": [
       "<table>\n",
       "    <thead>\n",
       "        <tr>\n",
       "            <th>customer_id</th>\n",
       "            <th>name</th>\n",
       "            <th>country</th>\n",
       "            <th>gender</th>\n",
       "            <th>date_of_birth</th>\n",
       "            <th>date_account_start</th>\n",
       "        </tr>\n",
       "    </thead>\n",
       "    <tbody>\n",
       "        <tr>\n",
       "            <td>2</td>\n",
       "            <td>Wolfgang Ackermann</td>\n",
       "            <td>Austria</td>\n",
       "            <td>male</td>\n",
       "            <td>1971-11-17</td>\n",
       "            <td>2018-10-15</td>\n",
       "        </tr>\n",
       "        <tr>\n",
       "            <td>4</td>\n",
       "            <td>Julia Jung</td>\n",
       "            <td>Austria</td>\n",
       "            <td>female</td>\n",
       "            <td>1991-01-04</td>\n",
       "            <td>2017-11-22</td>\n",
       "        </tr>\n",
       "        <tr>\n",
       "            <td>7</td>\n",
       "            <td>Annelous Sneep</td>\n",
       "            <td>Belgium</td>\n",
       "            <td>female</td>\n",
       "            <td>1993-11-14</td>\n",
       "            <td>2018-05-12</td>\n",
       "        </tr>\n",
       "        <tr>\n",
       "            <td>8</td>\n",
       "            <td>Jaëla van den Dolder</td>\n",
       "            <td>Belgium</td>\n",
       "            <td>female</td>\n",
       "            <td>1990-08-31</td>\n",
       "            <td>2018-02-08</td>\n",
       "        </tr>\n",
       "        <tr>\n",
       "            <td>10</td>\n",
       "            <td>Arnout Veenhuis</td>\n",
       "            <td>Belgium</td>\n",
       "            <td>male</td>\n",
       "            <td>1984-07-26</td>\n",
       "            <td>2017-01-28</td>\n",
       "        </tr>\n",
       "    </tbody>\n",
       "</table>"
      ],
      "text/plain": [
       "[(2, 'Wolfgang Ackermann', 'Austria', 'male', '1971-11-17', '2018-10-15'),\n",
       " (4, 'Julia Jung', 'Austria', 'female', '1991-01-04', '2017-11-22'),\n",
       " (7, 'Annelous Sneep', 'Belgium', 'female', '1993-11-14', '2018-05-12'),\n",
       " (8, 'Jaëla van den Dolder', 'Belgium', 'female', '1990-08-31', '2018-02-08'),\n",
       " (10, 'Arnout Veenhuis', 'Belgium', 'male', '1984-07-26', '2017-01-28')]"
      ]
     },
     "execution_count": 19,
     "metadata": {},
     "output_type": "execute_result"
    }
   ],
   "source": [
    "%%sql\n",
    "SELECT *\n",
    "FROM customers AS c -- Select all customers with at least one rating\n",
    "WHERE EXISTS\n",
    "\t(SELECT *\n",
    "\tFROM renting AS r\n",
    "\tWHERE rating IS NOT NULL \n",
    "\tAND r.customer_id = c.customer_id) limit 5;"
   ]
  },
  {
   "cell_type": "code",
   "execution_count": 20,
   "metadata": {},
   "outputs": [
    {
     "name": "stdout",
     "output_type": "stream",
     "text": [
      " * sqlite:///myfile.db\n",
      "Done.\n"
     ]
    },
    {
     "data": {
      "text/html": [
       "<table>\n",
       "    <thead>\n",
       "        <tr>\n",
       "            <th>renting_id</th>\n",
       "            <th>customer_id</th>\n",
       "            <th>movie_id</th>\n",
       "            <th>rating</th>\n",
       "            <th>date_renting</th>\n",
       "        </tr>\n",
       "    </thead>\n",
       "    <tbody>\n",
       "        <tr>\n",
       "            <td>421</td>\n",
       "            <td>1</td>\n",
       "            <td>71</td>\n",
       "            <td>10.0</td>\n",
       "            <td>2019-01-21</td>\n",
       "        </tr>\n",
       "        <tr>\n",
       "            <td>520</td>\n",
       "            <td>1</td>\n",
       "            <td>39</td>\n",
       "            <td>6.0</td>\n",
       "            <td>2018-12-29</td>\n",
       "        </tr>\n",
       "    </tbody>\n",
       "</table>"
      ],
      "text/plain": [
       "[(421, 1, 71, 10.0, '2019-01-21'), (520, 1, 39, 6.0, '2018-12-29')]"
      ]
     },
     "execution_count": 20,
     "metadata": {},
     "output_type": "execute_result"
    }
   ],
   "source": [
    "%%sql\n",
    "SELECT *\n",
    "FROM renting\n",
    "WHERE rating IS NOT NULL -- Exclude null ratings\n",
    "AND customer_id = 1; -- Select all ratings from customer with ID 1"
   ]
  },
  {
   "cell_type": "code",
   "execution_count": 21,
   "metadata": {},
   "outputs": [
    {
     "name": "stdout",
     "output_type": "stream",
     "text": [
      " * sqlite:///myfile.db\n",
      "Done.\n"
     ]
    },
    {
     "data": {
      "text/html": [
       "<table>\n",
       "    <thead>\n",
       "        <tr>\n",
       "            <th>actsin_id</th>\n",
       "            <th>movie_id</th>\n",
       "            <th>actor_id</th>\n",
       "            <th>movie_id_1</th>\n",
       "            <th>title</th>\n",
       "            <th>genre</th>\n",
       "            <th>runtime</th>\n",
       "            <th>year_of_releas</th>\n",
       "            <th>renting_price</th>\n",
       "        </tr>\n",
       "    </thead>\n",
       "    <tbody>\n",
       "        <tr>\n",
       "            <td>133</td>\n",
       "            <td>1</td>\n",
       "            <td>89</td>\n",
       "            <td>1</td>\n",
       "            <td>One Night at McCool&#x27;s</td>\n",
       "            <td>Comedy</td>\n",
       "            <td>93</td>\n",
       "            <td>2001</td>\n",
       "            <td>2.09</td>\n",
       "        </tr>\n",
       "        <tr>\n",
       "            <td>140</td>\n",
       "            <td>1</td>\n",
       "            <td>95</td>\n",
       "            <td>1</td>\n",
       "            <td>One Night at McCool&#x27;s</td>\n",
       "            <td>Comedy</td>\n",
       "            <td>93</td>\n",
       "            <td>2001</td>\n",
       "            <td>2.09</td>\n",
       "        </tr>\n",
       "        <tr>\n",
       "            <td>163</td>\n",
       "            <td>1</td>\n",
       "            <td>110</td>\n",
       "            <td>1</td>\n",
       "            <td>One Night at McCool&#x27;s</td>\n",
       "            <td>Comedy</td>\n",
       "            <td>93</td>\n",
       "            <td>2001</td>\n",
       "            <td>2.09</td>\n",
       "        </tr>\n",
       "        <tr>\n",
       "            <td>88</td>\n",
       "            <td>3</td>\n",
       "            <td>56</td>\n",
       "            <td>3</td>\n",
       "            <td>What Women Want</td>\n",
       "            <td>Comedy</td>\n",
       "            <td>127</td>\n",
       "            <td>2001</td>\n",
       "            <td>2.59</td>\n",
       "        </tr>\n",
       "    </tbody>\n",
       "</table>"
      ],
      "text/plain": [
       "[(133, 1, 89, 1, \"One Night at McCool's\", 'Comedy', 93, 2001, 2.09),\n",
       " (140, 1, 95, 1, \"One Night at McCool's\", 'Comedy', 93, 2001, 2.09),\n",
       " (163, 1, 110, 1, \"One Night at McCool's\", 'Comedy', 93, 2001, 2.09),\n",
       " (88, 3, 56, 3, 'What Women Want', 'Comedy', 127, 2001, 2.59)]"
      ]
     },
     "execution_count": 21,
     "metadata": {},
     "output_type": "execute_result"
    }
   ],
   "source": [
    "%%sql\n",
    "SELECT *  -- Select the records from the table `actsin` of all actors who play in a Comedy\n",
    "FROM actsin AS ai\n",
    "LEFT JOIN movies AS m\n",
    "ON ai.movie_id = m.movie_id\n",
    "WHERE m.genre = 'Comedy' limit 4;"
   ]
  },
  {
   "cell_type": "code",
   "execution_count": 22,
   "metadata": {},
   "outputs": [
    {
     "name": "stdout",
     "output_type": "stream",
     "text": [
      " * sqlite:///myfile.db\n",
      "Done.\n"
     ]
    },
    {
     "data": {
      "text/html": [
       "<table>\n",
       "    <thead>\n",
       "        <tr>\n",
       "            <th>actsin_id</th>\n",
       "            <th>movie_id</th>\n",
       "            <th>actor_id</th>\n",
       "            <th>movie_id_1</th>\n",
       "            <th>title</th>\n",
       "            <th>genre</th>\n",
       "            <th>runtime</th>\n",
       "            <th>year_of_releas</th>\n",
       "            <th>renting_price</th>\n",
       "        </tr>\n",
       "    </thead>\n",
       "    <tbody>\n",
       "    </tbody>\n",
       "</table>"
      ],
      "text/plain": [
       "[]"
      ]
     },
     "execution_count": 22,
     "metadata": {},
     "output_type": "execute_result"
    }
   ],
   "source": [
    "%%sql\n",
    "SELECT *\n",
    "FROM actsin AS ai\n",
    "LEFT JOIN movies AS m\n",
    "ON m.movie_id = ai.movie_id\n",
    "WHERE m.genre = 'Comedy'\n",
    "and ai.actor_id = 1; -- Select only the actor with ID 1"
   ]
  },
  {
   "cell_type": "code",
   "execution_count": 23,
   "metadata": {},
   "outputs": [
    {
     "name": "stdout",
     "output_type": "stream",
     "text": [
      " * sqlite:///myfile.db\n",
      "Done.\n"
     ]
    },
    {
     "data": {
      "text/html": [
       "<table>\n",
       "    <thead>\n",
       "        <tr>\n",
       "            <th>actor_id</th>\n",
       "            <th>name</th>\n",
       "            <th>year_of_birth</th>\n",
       "            <th>nationality</th>\n",
       "            <th>gender</th>\n",
       "        </tr>\n",
       "    </thead>\n",
       "    <tbody>\n",
       "        <tr>\n",
       "            <td>2</td>\n",
       "            <td>Adam Sandler</td>\n",
       "            <td>1966.0</td>\n",
       "            <td>USA</td>\n",
       "            <td>male</td>\n",
       "        </tr>\n",
       "        <tr>\n",
       "            <td>3</td>\n",
       "            <td>Al Pacino</td>\n",
       "            <td>1940.0</td>\n",
       "            <td>USA</td>\n",
       "            <td>male</td>\n",
       "        </tr>\n",
       "        <tr>\n",
       "            <td>6</td>\n",
       "            <td>Anjelica Huston</td>\n",
       "            <td>1951.0</td>\n",
       "            <td>USA</td>\n",
       "            <td>female</td>\n",
       "        </tr>\n",
       "        <tr>\n",
       "            <td>14</td>\n",
       "            <td>Bill Nighy</td>\n",
       "            <td>1949.0</td>\n",
       "            <td>British</td>\n",
       "            <td>male</td>\n",
       "        </tr>\n",
       "    </tbody>\n",
       "</table>"
      ],
      "text/plain": [
       "[(2, 'Adam Sandler', 1966.0, 'USA', 'male'),\n",
       " (3, 'Al Pacino', 1940.0, 'USA', 'male'),\n",
       " (6, 'Anjelica Huston', 1951.0, 'USA', 'female'),\n",
       " (14, 'Bill Nighy', 1949.0, 'British', 'male')]"
      ]
     },
     "execution_count": 23,
     "metadata": {},
     "output_type": "execute_result"
    }
   ],
   "source": [
    "%%sql\n",
    "SELECT *\n",
    "FROM actors AS a\n",
    "WHERE EXISTS\n",
    "\t(SELECT *\n",
    "\t FROM actsin AS ai\n",
    "\t LEFT JOIN movies AS m\n",
    "\t ON m.movie_id = ai.movie_id\n",
    "\t WHERE m.genre = 'Comedy'\n",
    "\t AND ai.actor_id = a.actor_id) limit 4;"
   ]
  },
  {
   "cell_type": "code",
   "execution_count": 24,
   "metadata": {},
   "outputs": [
    {
     "name": "stdout",
     "output_type": "stream",
     "text": [
      " * sqlite:///myfile.db\n",
      "Done.\n"
     ]
    },
    {
     "data": {
      "text/html": [
       "<table>\n",
       "    <thead>\n",
       "        <tr>\n",
       "            <th>nationality</th>\n",
       "            <th>count</th>\n",
       "        </tr>\n",
       "    </thead>\n",
       "    <tbody>\n",
       "        <tr>\n",
       "            <td>USA</td>\n",
       "            <td>22</td>\n",
       "        </tr>\n",
       "        <tr>\n",
       "            <td>British</td>\n",
       "            <td>3</td>\n",
       "        </tr>\n",
       "        <tr>\n",
       "            <td>South Africa</td>\n",
       "            <td>1</td>\n",
       "        </tr>\n",
       "        <tr>\n",
       "            <td>Northern Ireland</td>\n",
       "            <td>1</td>\n",
       "        </tr>\n",
       "        <tr>\n",
       "            <td>Canada</td>\n",
       "            <td>1</td>\n",
       "        </tr>\n",
       "    </tbody>\n",
       "</table>"
      ],
      "text/plain": [
       "[('USA', 22),\n",
       " ('British', 3),\n",
       " ('South Africa', 1),\n",
       " ('Northern Ireland', 1),\n",
       " ('Canada', 1)]"
      ]
     },
     "execution_count": 24,
     "metadata": {},
     "output_type": "execute_result"
    }
   ],
   "source": [
    "%%sql\n",
    "\n",
    "SELECT a.nationality, count(*) as count \n",
    "-- Report the nationality and the number of actors for each nationality\n",
    "FROM actors AS a\n",
    "WHERE EXISTS\n",
    "    (SELECT ai.actor_id\n",
    "     FROM actsin AS ai\n",
    "     LEFT JOIN movies AS m\n",
    "     ON m.movie_id = ai.movie_id\n",
    "     WHERE m.genre = 'Comedy'\n",
    "     AND ai.actor_id = a.actor_id)\n",
    "group by a.nationality\n",
    "order by count DESC;"
   ]
  },
  {
   "cell_type": "code",
   "execution_count": 25,
   "metadata": {},
   "outputs": [
    {
     "name": "stdout",
     "output_type": "stream",
     "text": [
      " * sqlite:///myfile.db\n",
      "Done.\n"
     ]
    },
    {
     "data": {
      "text/html": [
       "<table>\n",
       "    <thead>\n",
       "        <tr>\n",
       "            <th>name</th>\n",
       "            <th>nationality</th>\n",
       "            <th>year_of_birth</th>\n",
       "        </tr>\n",
       "    </thead>\n",
       "    <tbody>\n",
       "        <tr>\n",
       "            <td>Abbie Cornish</td>\n",
       "            <td>Australia</td>\n",
       "            <td>1982.0</td>\n",
       "        </tr>\n",
       "        <tr>\n",
       "            <td>Andrea Riseborough</td>\n",
       "            <td>British</td>\n",
       "            <td>1981.0</td>\n",
       "        </tr>\n",
       "        <tr>\n",
       "            <td>Anthony Hopkins</td>\n",
       "            <td>British</td>\n",
       "            <td>1937.0</td>\n",
       "        </tr>\n",
       "        <tr>\n",
       "            <td>Barkhad Abdi</td>\n",
       "            <td>Somalia</td>\n",
       "            <td>1985.0</td>\n",
       "        </tr>\n",
       "        <tr>\n",
       "            <td>Barry Pepper</td>\n",
       "            <td>Canada</td>\n",
       "            <td>1970.0</td>\n",
       "        </tr>\n",
       "    </tbody>\n",
       "</table>"
      ],
      "text/plain": [
       "[('Abbie Cornish', 'Australia', 1982.0),\n",
       " ('Andrea Riseborough', 'British', 1981.0),\n",
       " ('Anthony Hopkins', 'British', 1937.0),\n",
       " ('Barkhad Abdi', 'Somalia', 1985.0),\n",
       " ('Barry Pepper', 'Canada', 1970.0)]"
      ]
     },
     "execution_count": 25,
     "metadata": {},
     "output_type": "execute_result"
    }
   ],
   "source": [
    "%%sql\n",
    "SELECT name,   -- Report the name, nationality and the year of birth\n",
    "       nationality, \n",
    "       year_of_birth\n",
    "FROM actors\n",
    "WHERE nationality <> 'USA' limit 5; -- Of all actors who are not from the USA"
   ]
  },
  {
   "cell_type": "code",
   "execution_count": 26,
   "metadata": {},
   "outputs": [
    {
     "name": "stdout",
     "output_type": "stream",
     "text": [
      " * sqlite:///myfile.db\n",
      "Done.\n"
     ]
    },
    {
     "data": {
      "text/html": [
       "<table>\n",
       "    <thead>\n",
       "        <tr>\n",
       "            <th>name</th>\n",
       "            <th>nationality</th>\n",
       "            <th>year_of_birth</th>\n",
       "        </tr>\n",
       "    </thead>\n",
       "    <tbody>\n",
       "        <tr>\n",
       "            <td>Abbie Cornish</td>\n",
       "            <td>Australia</td>\n",
       "            <td>1982.0</td>\n",
       "        </tr>\n",
       "        <tr>\n",
       "            <td>Andrea Riseborough</td>\n",
       "            <td>British</td>\n",
       "            <td>1981.0</td>\n",
       "        </tr>\n",
       "        <tr>\n",
       "            <td>Annasophia Robb</td>\n",
       "            <td>USA</td>\n",
       "            <td>1993.0</td>\n",
       "        </tr>\n",
       "        <tr>\n",
       "            <td>Anthony Hopkins</td>\n",
       "            <td>British</td>\n",
       "            <td>1937.0</td>\n",
       "        </tr>\n",
       "        <tr>\n",
       "            <td>Barkhad Abdi</td>\n",
       "            <td>Somalia</td>\n",
       "            <td>1985.0</td>\n",
       "        </tr>\n",
       "    </tbody>\n",
       "</table>"
      ],
      "text/plain": [
       "[('Abbie Cornish', 'Australia', 1982.0),\n",
       " ('Andrea Riseborough', 'British', 1981.0),\n",
       " ('Annasophia Robb', 'USA', 1993.0),\n",
       " ('Anthony Hopkins', 'British', 1937.0),\n",
       " ('Barkhad Abdi', 'Somalia', 1985.0)]"
      ]
     },
     "execution_count": 26,
     "metadata": {},
     "output_type": "execute_result"
    }
   ],
   "source": [
    "%%sql\n",
    "SELECT name, \n",
    "       nationality, \n",
    "       year_of_birth\n",
    "FROM actors\n",
    "WHERE nationality <> 'USA'\n",
    "union -- Select all actors who are not from the USA and all actors who are born after 1990\n",
    "SELECT name, \n",
    "       nationality, \n",
    "       year_of_birth\n",
    "FROM actors\n",
    "WHERE year_of_birth > 1990 limit 5;"
   ]
  },
  {
   "cell_type": "code",
   "execution_count": 27,
   "metadata": {},
   "outputs": [
    {
     "name": "stdout",
     "output_type": "stream",
     "text": [
      " * sqlite:///myfile.db\n",
      "Done.\n"
     ]
    },
    {
     "data": {
      "text/html": [
       "<table>\n",
       "    <thead>\n",
       "        <tr>\n",
       "            <th>name</th>\n",
       "            <th>nationality</th>\n",
       "            <th>year_of_birth</th>\n",
       "        </tr>\n",
       "    </thead>\n",
       "    <tbody>\n",
       "        <tr>\n",
       "            <td>Freddie Highmore</td>\n",
       "            <td>British</td>\n",
       "            <td>1992.0</td>\n",
       "        </tr>\n",
       "    </tbody>\n",
       "</table>"
      ],
      "text/plain": [
       "[('Freddie Highmore', 'British', 1992.0)]"
      ]
     },
     "execution_count": 27,
     "metadata": {},
     "output_type": "execute_result"
    }
   ],
   "source": [
    "%%sql\n",
    "SELECT name, \n",
    "       nationality, \n",
    "       year_of_birth\n",
    "FROM actors\n",
    "WHERE nationality <> 'USA'\n",
    "intersect -- Select all actors who are not from the USA and who are also born after 1990\n",
    "SELECT name, \n",
    "       nationality, \n",
    "       year_of_birth\n",
    "FROM actors\n",
    "WHERE year_of_birth > 1990;"
   ]
  },
  {
   "cell_type": "code",
   "execution_count": 28,
   "metadata": {},
   "outputs": [
    {
     "name": "stdout",
     "output_type": "stream",
     "text": [
      " * sqlite:///myfile.db\n",
      "Done.\n"
     ]
    },
    {
     "data": {
      "text/html": [
       "<table>\n",
       "    <thead>\n",
       "        <tr>\n",
       "            <th>movie_id</th>\n",
       "        </tr>\n",
       "    </thead>\n",
       "    <tbody>\n",
       "        <tr>\n",
       "            <td>5</td>\n",
       "        </tr>\n",
       "        <tr>\n",
       "            <td>42</td>\n",
       "        </tr>\n",
       "        <tr>\n",
       "            <td>48</td>\n",
       "        </tr>\n",
       "        <tr>\n",
       "            <td>63</td>\n",
       "        </tr>\n",
       "    </tbody>\n",
       "</table>"
      ],
      "text/plain": [
       "[(5,), (42,), (48,), (63,)]"
      ]
     },
     "execution_count": 28,
     "metadata": {},
     "output_type": "execute_result"
    }
   ],
   "source": [
    "%%sql\n",
    "SELECT movie_id -- Select the IDs of all movies with average rating higher than 9\n",
    "FROM renting\n",
    "GROUP BY movie_id\n",
    "HAVING AVG(rating) > 9;"
   ]
  },
  {
   "cell_type": "code",
   "execution_count": 29,
   "metadata": {},
   "outputs": [
    {
     "name": "stdout",
     "output_type": "stream",
     "text": [
      " * sqlite:///myfile.db\n",
      "Done.\n"
     ]
    },
    {
     "data": {
      "text/html": [
       "<table>\n",
       "    <thead>\n",
       "        <tr>\n",
       "            <th>movie_id</th>\n",
       "        </tr>\n",
       "    </thead>\n",
       "    <tbody>\n",
       "        <tr>\n",
       "            <td>42</td>\n",
       "        </tr>\n",
       "    </tbody>\n",
       "</table>"
      ],
      "text/plain": [
       "[(42,)]"
      ]
     },
     "execution_count": 29,
     "metadata": {},
     "output_type": "execute_result"
    }
   ],
   "source": [
    "%%sql\n",
    "SELECT movie_id\n",
    "FROM movies\n",
    "WHERE genre = 'Drama'\n",
    "intersect  -- Select the IDs of all dramas with average rating higher than 9\n",
    "SELECT movie_id\n",
    "FROM renting\n",
    "GROUP BY movie_id\n",
    "HAVING AVG(rating)>9;"
   ]
  },
  {
   "cell_type": "code",
   "execution_count": 30,
   "metadata": {},
   "outputs": [
    {
     "name": "stdout",
     "output_type": "stream",
     "text": [
      " * sqlite:///myfile.db\n",
      "(sqlite3.OperationalError) SELECTs to the left and right of INTERSECT do not have the same number of result columns\n",
      "[SQL: SELECT *\n",
      "FROM movies\n",
      "WHERE genre = 'Drama'\n",
      "intersect  -- Select the IDs of all dramas with average rating higher than 9\n",
      "SELECT movie_id\n",
      "FROM renting\n",
      "GROUP BY movie_id\n",
      "HAVING AVG(rating)>9;]\n",
      "(Background on this error at: https://sqlalche.me/e/20/e3q8)\n"
     ]
    }
   ],
   "source": [
    "%%sql\n",
    "SELECT *\n",
    "FROM movies\n",
    "WHERE genre = 'Drama'\n",
    "intersect  -- Select the IDs of all dramas with average rating higher than 9\n",
    "SELECT movie_id\n",
    "FROM renting\n",
    "GROUP BY movie_id\n",
    "HAVING AVG(rating)>9;"
   ]
  },
  {
   "cell_type": "code",
   "execution_count": 31,
   "metadata": {},
   "outputs": [
    {
     "name": "stdout",
     "output_type": "stream",
     "text": [
      " * sqlite:///myfile.db\n",
      "Done.\n"
     ]
    },
    {
     "data": {
      "text/html": [
       "<table>\n",
       "    <thead>\n",
       "        <tr>\n",
       "            <th>movie_id</th>\n",
       "            <th>title</th>\n",
       "            <th>genre</th>\n",
       "            <th>runtime</th>\n",
       "            <th>year_of_releas</th>\n",
       "            <th>renting_price</th>\n",
       "        </tr>\n",
       "    </thead>\n",
       "    <tbody>\n",
       "        <tr>\n",
       "            <td>42</td>\n",
       "            <td>No Country for Old Men</td>\n",
       "            <td>Drama</td>\n",
       "            <td>122</td>\n",
       "            <td>2007</td>\n",
       "            <td>1.49</td>\n",
       "        </tr>\n",
       "    </tbody>\n",
       "</table>"
      ],
      "text/plain": [
       "[(42, 'No Country for Old Men', 'Drama', 122, 2007, 1.49)]"
      ]
     },
     "execution_count": 31,
     "metadata": {},
     "output_type": "execute_result"
    }
   ],
   "source": [
    "%%sql\n",
    "SELECT *\n",
    "FROM movies\n",
    "WHERE movie_id IN -- Select all movies of genre drama with average rating higher than 9\n",
    "   (SELECT movie_id\n",
    "    FROM movies\n",
    "    WHERE genre = 'Drama'\n",
    "    INTERSECT\n",
    "    SELECT movie_id\n",
    "    FROM renting\n",
    "    GROUP BY movie_id\n",
    "    HAVING AVG(rating)>9);"
   ]
  },
  {
   "cell_type": "code",
   "execution_count": 32,
   "metadata": {},
   "outputs": [
    {
     "name": "stdout",
     "output_type": "stream",
     "text": [
      " * sqlite:///myfile.db\n",
      "(sqlite3.OperationalError) no such function: CUBE\n",
      "[SQL: SELECT gender,  -- Extract information of a pivot table of gender and country for the number of customers\n",
      "\t   country,\n",
      "\t   COUNT(*)\n",
      "FROM customers\n",
      "GROUP BY CUBE (gender, country)\n",
      "ORDER BY country;]\n",
      "(Background on this error at: https://sqlalche.me/e/20/e3q8)\n"
     ]
    }
   ],
   "source": [
    "%%sql\n",
    "SELECT gender,  -- Extract information of a pivot table of gender and country for the number of customers\n",
    "\t   country,\n",
    "\t   COUNT(*)\n",
    "FROM customers\n",
    "GROUP BY CUBE (gender, country)\n",
    "ORDER BY country;"
   ]
  },
  {
   "cell_type": "code",
   "execution_count": 33,
   "metadata": {},
   "outputs": [
    {
     "name": "stdout",
     "output_type": "stream",
     "text": [
      " * sqlite:///myfile.db\n",
      "Done.\n"
     ]
    },
    {
     "data": {
      "text/html": [
       "<table>\n",
       "    <thead>\n",
       "        <tr>\n",
       "            <th>gender</th>\n",
       "            <th>country</th>\n",
       "            <th>count</th>\n",
       "        </tr>\n",
       "    </thead>\n",
       "    <tbody>\n",
       "        <tr>\n",
       "            <td>female</td>\n",
       "            <td>Austria</td>\n",
       "            <td>3</td>\n",
       "        </tr>\n",
       "        <tr>\n",
       "            <td>male</td>\n",
       "            <td>Austria</td>\n",
       "            <td>1</td>\n",
       "        </tr>\n",
       "        <tr>\n",
       "            <td>female</td>\n",
       "            <td>Belgium</td>\n",
       "            <td>3</td>\n",
       "        </tr>\n",
       "        <tr>\n",
       "            <td>male</td>\n",
       "            <td>Belgium</td>\n",
       "            <td>3</td>\n",
       "        </tr>\n",
       "        <tr>\n",
       "            <td>female</td>\n",
       "            <td>Denmark</td>\n",
       "            <td>4</td>\n",
       "        </tr>\n",
       "    </tbody>\n",
       "</table>"
      ],
      "text/plain": [
       "[('female', 'Austria', 3),\n",
       " ('male', 'Austria', 1),\n",
       " ('female', 'Belgium', 3),\n",
       " ('male', 'Belgium', 3),\n",
       " ('female', 'Denmark', 4)]"
      ]
     },
     "execution_count": 33,
     "metadata": {},
     "output_type": "execute_result"
    }
   ],
   "source": [
    "%%sql\n",
    "SELECT \n",
    "    CASE WHEN gender IS NULL THEN 'All' ELSE gender END AS gender,\n",
    "    CASE WHEN country IS NULL THEN 'All' ELSE country END AS country,\n",
    "    COUNT(*) AS count\n",
    "FROM customers\n",
    "GROUP BY gender, country \n",
    "order by country limit 5;\n",
    "\n"
   ]
  },
  {
   "cell_type": "code",
   "execution_count": 34,
   "metadata": {},
   "outputs": [
    {
     "name": "stdout",
     "output_type": "stream",
     "text": [
      " * sqlite:///myfile.db\n",
      "(sqlite3.OperationalError) no such column: year_of_release\n",
      "[SQL: SELECT year_of_release,\n",
      "       genre,\n",
      "\t   COUNT(*)\n",
      "FROM movies\n",
      "GROUP BY  year_of_release, genre\n",
      "ORDER BY year_of_release;]\n",
      "(Background on this error at: https://sqlalche.me/e/20/e3q8)\n"
     ]
    }
   ],
   "source": [
    "%%sql\n",
    "SELECT year_of_release,\n",
    "       genre,\n",
    "\t   COUNT(*)\n",
    "FROM movies\n",
    "GROUP BY  year_of_release, genre\n",
    "ORDER BY year_of_release;"
   ]
  },
  {
   "cell_type": "code",
   "execution_count": 35,
   "metadata": {},
   "outputs": [
    {
     "name": "stderr",
     "output_type": "stream",
     "text": [
      "UsageError: %%sql is a cell magic, but the cell body is empty. Did you mean the line magic %sql (single %)?\n"
     ]
    }
   ],
   "source": [
    "%%sql\n"
   ]
  },
  {
   "cell_type": "code",
   "execution_count": 36,
   "metadata": {},
   "outputs": [
    {
     "name": "stderr",
     "output_type": "stream",
     "text": [
      "UsageError: %%sql is a cell magic, but the cell body is empty. Did you mean the line magic %sql (single %)?\n"
     ]
    }
   ],
   "source": [
    "%%sql\n"
   ]
  }
 ],
 "metadata": {
  "kernelspec": {
   "display_name": "Python 3",
   "language": "python",
   "name": "python3"
  },
  "language_info": {
   "codemirror_mode": {
    "name": "ipython",
    "version": 3
   },
   "file_extension": ".py",
   "mimetype": "text/x-python",
   "name": "python",
   "nbconvert_exporter": "python",
   "pygments_lexer": "ipython3",
   "version": "3.11.6"
  }
 },
 "nbformat": 4,
 "nbformat_minor": 2
}
