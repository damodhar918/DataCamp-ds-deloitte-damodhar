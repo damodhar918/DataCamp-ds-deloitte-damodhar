{
 "cells": [
  {
   "cell_type": "code",
   "execution_count": 1,
   "metadata": {},
   "outputs": [],
   "source": [
    "# !pip install ipython-sql\n",
    "# !pip install jupyterlab_sql\n",
    "# !jupyter-lab serverextension enable jupyterlab_sql --py --sys-prefix\n",
    "# !jupyter lab\n"
   ]
  },
  {
   "cell_type": "code",
   "execution_count": 2,
   "metadata": {},
   "outputs": [],
   "source": [
    "%load_ext sql"
   ]
  },
  {
   "cell_type": "code",
   "execution_count": 20,
   "metadata": {},
   "outputs": [],
   "source": [
    "%sql sqlite:///myfile.db"
   ]
  },
  {
   "cell_type": "code",
   "execution_count": 23,
   "metadata": {},
   "outputs": [
    {
     "name": "stdout",
     "output_type": "stream",
     "text": [
      "   sqlite://\n",
      " * sqlite:///myfile.db\n",
      "Done.\n"
     ]
    },
    {
     "data": {
      "text/html": [
       "<table>\n",
       "    <thead>\n",
       "        <tr>\n",
       "            <th>renting_id</th>\n",
       "            <th>customer_id</th>\n",
       "            <th>movie_id</th>\n",
       "            <th>rating</th>\n",
       "            <th>date_renting</th>\n",
       "        </tr>\n",
       "    </thead>\n",
       "    <tbody>\n",
       "        <tr>\n",
       "            <td>1</td>\n",
       "            <td>41</td>\n",
       "            <td>8</td>\n",
       "            <td>None</td>\n",
       "            <td>2018-10-09</td>\n",
       "        </tr>\n",
       "        <tr>\n",
       "            <td>2</td>\n",
       "            <td>10</td>\n",
       "            <td>29</td>\n",
       "            <td>10.0</td>\n",
       "            <td>2017-03-01</td>\n",
       "        </tr>\n",
       "        <tr>\n",
       "            <td>3</td>\n",
       "            <td>108</td>\n",
       "            <td>45</td>\n",
       "            <td>4.0</td>\n",
       "            <td>2018-06-08</td>\n",
       "        </tr>\n",
       "        <tr>\n",
       "            <td>4</td>\n",
       "            <td>39</td>\n",
       "            <td>66</td>\n",
       "            <td>8.0</td>\n",
       "            <td>2018-10-22</td>\n",
       "        </tr>\n",
       "        <tr>\n",
       "            <td>5</td>\n",
       "            <td>104</td>\n",
       "            <td>15</td>\n",
       "            <td>7.0</td>\n",
       "            <td>2019-03-18</td>\n",
       "        </tr>\n",
       "    </tbody>\n",
       "</table>"
      ],
      "text/plain": [
       "[(1, 41, 8, None, '2018-10-09'),\n",
       " (2, 10, 29, 10.0, '2017-03-01'),\n",
       " (3, 108, 45, 4.0, '2018-06-08'),\n",
       " (4, 39, 66, 8.0, '2018-10-22'),\n",
       " (5, 104, 15, 7.0, '2019-03-18')]"
      ]
     },
     "execution_count": 23,
     "metadata": {},
     "output_type": "execute_result"
    }
   ],
   "source": [
    "%%sql\n",
    "SELECT *  -- Select all\n",
    "from renting limit 5;        -- From tae renting"
   ]
  },
  {
   "cell_type": "code",
   "execution_count": 24,
   "metadata": {},
   "outputs": [
    {
     "name": "stdout",
     "output_type": "stream",
     "text": [
      "   sqlite://\n",
      " * sqlite:///myfile.db\n",
      "Done.\n"
     ]
    },
    {
     "data": {
      "text/html": [
       "<table>\n",
       "    <thead>\n",
       "        <tr>\n",
       "            <th>movie_id</th>\n",
       "            <th>rating</th>\n",
       "        </tr>\n",
       "    </thead>\n",
       "    <tbody>\n",
       "        <tr>\n",
       "            <td>8</td>\n",
       "            <td>None</td>\n",
       "        </tr>\n",
       "        <tr>\n",
       "            <td>29</td>\n",
       "            <td>10.0</td>\n",
       "        </tr>\n",
       "        <tr>\n",
       "            <td>45</td>\n",
       "            <td>4.0</td>\n",
       "        </tr>\n",
       "        <tr>\n",
       "            <td>66</td>\n",
       "            <td>8.0</td>\n",
       "        </tr>\n",
       "        <tr>\n",
       "            <td>15</td>\n",
       "            <td>7.0</td>\n",
       "        </tr>\n",
       "    </tbody>\n",
       "</table>"
      ],
      "text/plain": [
       "[(8, None), (29, 10.0), (45, 4.0), (66, 8.0), (15, 7.0)]"
      ]
     },
     "execution_count": 24,
     "metadata": {},
     "output_type": "execute_result"
    }
   ],
   "source": [
    "%%sql\n",
    "SELECT movie_id,  -- Select all columns needed to compute the average rating per movie\n",
    "       rating\n",
    "FROM renting limit 5;        -- From the renting table"
   ]
  },
  {
   "cell_type": "code",
   "execution_count": 26,
   "metadata": {},
   "outputs": [
    {
     "name": "stdout",
     "output_type": "stream",
     "text": [
      "   sqlite://\n",
      " * sqlite:///myfile.db\n",
      "Done.\n"
     ]
    },
    {
     "data": {
      "text/html": [
       "<table>\n",
       "    <thead>\n",
       "        <tr>\n",
       "            <th>movie_id</th>\n",
       "            <th>rating</th>\n",
       "        </tr>\n",
       "    </thead>\n",
       "    <tbody>\n",
       "        <tr>\n",
       "            <td>8</td>\n",
       "            <td>None</td>\n",
       "        </tr>\n",
       "        <tr>\n",
       "            <td>29</td>\n",
       "            <td>10.0</td>\n",
       "        </tr>\n",
       "        <tr>\n",
       "            <td>45</td>\n",
       "            <td>4.0</td>\n",
       "        </tr>\n",
       "        <tr>\n",
       "            <td>66</td>\n",
       "            <td>8.0</td>\n",
       "        </tr>\n",
       "    </tbody>\n",
       "</table>"
      ],
      "text/plain": [
       "[(8, None), (29, 10.0), (45, 4.0), (66, 8.0)]"
      ]
     },
     "execution_count": 26,
     "metadata": {},
     "output_type": "execute_result"
    }
   ],
   "source": [
    "%%sql\n",
    "SELECT movie_id,  -- Select all columns needed to compute the average rating per movie\n",
    "       rating\n",
    "FROM renting limit 4;\n",
    "\n"
   ]
  },
  {
   "cell_type": "code",
   "execution_count": 28,
   "metadata": {},
   "outputs": [
    {
     "name": "stdout",
     "output_type": "stream",
     "text": [
      "   sqlite://\n",
      " * sqlite:///myfile.db\n",
      "Done.\n"
     ]
    },
    {
     "data": {
      "text/html": [
       "<table>\n",
       "    <thead>\n",
       "        <tr>\n",
       "            <th>renting_id</th>\n",
       "            <th>customer_id</th>\n",
       "            <th>movie_id</th>\n",
       "            <th>rating</th>\n",
       "            <th>date_renting</th>\n",
       "        </tr>\n",
       "    </thead>\n",
       "    <tbody>\n",
       "        <tr>\n",
       "            <td>3</td>\n",
       "            <td>108</td>\n",
       "            <td>45</td>\n",
       "            <td>4.0</td>\n",
       "            <td>2018-06-08</td>\n",
       "        </tr>\n",
       "        <tr>\n",
       "            <td>8</td>\n",
       "            <td>73</td>\n",
       "            <td>65</td>\n",
       "            <td>10.0</td>\n",
       "            <td>2018-06-05</td>\n",
       "        </tr>\n",
       "        <tr>\n",
       "            <td>12</td>\n",
       "            <td>52</td>\n",
       "            <td>65</td>\n",
       "            <td>10.0</td>\n",
       "            <td>2018-06-29</td>\n",
       "        </tr>\n",
       "        <tr>\n",
       "            <td>14</td>\n",
       "            <td>8</td>\n",
       "            <td>29</td>\n",
       "            <td>None</td>\n",
       "            <td>2018-08-03</td>\n",
       "        </tr>\n",
       "    </tbody>\n",
       "</table>"
      ],
      "text/plain": [
       "[(3, 108, 45, 4.0, '2018-06-08'),\n",
       " (8, 73, 65, 10.0, '2018-06-05'),\n",
       " (12, 52, 65, 10.0, '2018-06-29'),\n",
       " (14, 8, 29, None, '2018-08-03')]"
      ]
     },
     "execution_count": 28,
     "metadata": {},
     "output_type": "execute_result"
    }
   ],
   "source": [
    "%%sql\n",
    "SELECT *\n",
    "FROM renting WHERE date_renting BETWEEN '2018-04-01' and '2018-08-31' limit 4; -- from beginning April 2018 to end August 2018 ;\n"
   ]
  },
  {
   "cell_type": "code",
   "execution_count": 32,
   "metadata": {},
   "outputs": [
    {
     "name": "stdout",
     "output_type": "stream",
     "text": [
      "   sqlite://\n",
      " * sqlite:///myfile.db\n",
      "Done.\n"
     ]
    },
    {
     "data": {
      "text/html": [
       "<table>\n",
       "    <thead>\n",
       "        <tr>\n",
       "            <th>renting_id</th>\n",
       "            <th>customer_id</th>\n",
       "            <th>movie_id</th>\n",
       "            <th>rating</th>\n",
       "            <th>date_renting</th>\n",
       "        </tr>\n",
       "    </thead>\n",
       "    <tbody>\n",
       "        <tr>\n",
       "            <td>76</td>\n",
       "            <td>112</td>\n",
       "            <td>10</td>\n",
       "            <td>None</td>\n",
       "            <td>2018-08-31</td>\n",
       "        </tr>\n",
       "        <tr>\n",
       "            <td>279</td>\n",
       "            <td>21</td>\n",
       "            <td>62</td>\n",
       "            <td>None</td>\n",
       "            <td>2018-08-30</td>\n",
       "        </tr>\n",
       "        <tr>\n",
       "            <td>551</td>\n",
       "            <td>86</td>\n",
       "            <td>13</td>\n",
       "            <td>8.0</td>\n",
       "            <td>2018-08-29</td>\n",
       "        </tr>\n",
       "        <tr>\n",
       "            <td>39</td>\n",
       "            <td>25</td>\n",
       "            <td>52</td>\n",
       "            <td>None</td>\n",
       "            <td>2018-08-28</td>\n",
       "        </tr>\n",
       "        <tr>\n",
       "            <td>258</td>\n",
       "            <td>65</td>\n",
       "            <td>44</td>\n",
       "            <td>8.0</td>\n",
       "            <td>2018-08-28</td>\n",
       "        </tr>\n",
       "    </tbody>\n",
       "</table>"
      ],
      "text/plain": [
       "[(76, 112, 10, None, '2018-08-31'),\n",
       " (279, 21, 62, None, '2018-08-30'),\n",
       " (551, 86, 13, 8.0, '2018-08-29'),\n",
       " (39, 25, 52, None, '2018-08-28'),\n",
       " (258, 65, 44, 8.0, '2018-08-28')]"
      ]
     },
     "execution_count": 32,
     "metadata": {},
     "output_type": "execute_result"
    }
   ],
   "source": [
    "%%sql\n",
    "SELECT *\n",
    "FROM renting\n",
    "WHERE date_renting BETWEEN '2018-04-01' AND '2018-08-31'\n",
    "ORDER BY date_renting DESC limit 5; -- Order by recency in decreasing order\n",
    "\n"
   ]
  },
  {
   "cell_type": "code",
   "execution_count": 34,
   "metadata": {},
   "outputs": [
    {
     "name": "stdout",
     "output_type": "stream",
     "text": [
      "   sqlite://\n",
      " * sqlite:///myfile.db\n",
      "Done.\n"
     ]
    },
    {
     "data": {
      "text/html": [
       "<table>\n",
       "    <thead>\n",
       "        <tr>\n",
       "            <th>movie_id</th>\n",
       "            <th>title</th>\n",
       "            <th>genre</th>\n",
       "            <th>runtime</th>\n",
       "            <th>year_of_releas</th>\n",
       "            <th>renting_price</th>\n",
       "        </tr>\n",
       "    </thead>\n",
       "    <tbody>\n",
       "        <tr>\n",
       "            <td>1</td>\n",
       "            <td>One Night at McCool&#x27;s</td>\n",
       "            <td>Comedy</td>\n",
       "            <td>93</td>\n",
       "            <td>2001</td>\n",
       "            <td>2.09</td>\n",
       "        </tr>\n",
       "        <tr>\n",
       "            <td>3</td>\n",
       "            <td>What Women Want</td>\n",
       "            <td>Comedy</td>\n",
       "            <td>127</td>\n",
       "            <td>2001</td>\n",
       "            <td>2.59</td>\n",
       "        </tr>\n",
       "        <tr>\n",
       "            <td>5</td>\n",
       "            <td>The Fellowship of the Ring</td>\n",
       "            <td>Science Fiction &amp; Fantasy</td>\n",
       "            <td>178</td>\n",
       "            <td>2001</td>\n",
       "            <td>2.59</td>\n",
       "        </tr>\n",
       "        <tr>\n",
       "            <td>6</td>\n",
       "            <td>Harry Potter and the Philosopher&#x27;s Stone</td>\n",
       "            <td>Science Fiction &amp; Fantasy</td>\n",
       "            <td>152</td>\n",
       "            <td>2001</td>\n",
       "            <td>2.69</td>\n",
       "        </tr>\n",
       "        <tr>\n",
       "            <td>7</td>\n",
       "            <td>The Royal Tenenbaums</td>\n",
       "            <td>Comedy</td>\n",
       "            <td>110</td>\n",
       "            <td>2002</td>\n",
       "            <td>1.89</td>\n",
       "        </tr>\n",
       "    </tbody>\n",
       "</table>"
      ],
      "text/plain": [
       "[(1, \"One Night at McCool's\", 'Comedy', 93, 2001, 2.09),\n",
       " (3, 'What Women Want', 'Comedy', 127, 2001, 2.59),\n",
       " (5, 'The Fellowship of the Ring', 'Science Fiction & Fantasy', 178, 2001, 2.59),\n",
       " (6, \"Harry Potter and the Philosopher's Stone\", 'Science Fiction & Fantasy', 152, 2001, 2.69),\n",
       " (7, 'The Royal Tenenbaums', 'Comedy', 110, 2002, 1.89)]"
      ]
     },
     "execution_count": 34,
     "metadata": {},
     "output_type": "execute_result"
    }
   ],
   "source": [
    "%%sql\n",
    "SELECT *\n",
    "FROM movies\n",
    "  WHERE genre <> 'Drama' limit 5; -- All genres except drama"
   ]
  },
  {
   "cell_type": "code",
   "execution_count": 36,
   "metadata": {},
   "outputs": [
    {
     "name": "stdout",
     "output_type": "stream",
     "text": [
      "   sqlite://\n",
      " * sqlite:///myfile.db\n",
      "Done.\n"
     ]
    },
    {
     "data": {
      "text/html": [
       "<table>\n",
       "    <thead>\n",
       "        <tr>\n",
       "            <th>movie_id</th>\n",
       "            <th>title</th>\n",
       "            <th>genre</th>\n",
       "            <th>runtime</th>\n",
       "            <th>year_of_releas</th>\n",
       "            <th>renting_price</th>\n",
       "        </tr>\n",
       "    </thead>\n",
       "    <tbody>\n",
       "        <tr>\n",
       "            <td>11</td>\n",
       "            <td>Showtime</td>\n",
       "            <td>Comedy</td>\n",
       "            <td>95</td>\n",
       "            <td>2002</td>\n",
       "            <td>1.79</td>\n",
       "        </tr>\n",
       "        <tr>\n",
       "            <td>20</td>\n",
       "            <td>Love Actually</td>\n",
       "            <td>Comedy</td>\n",
       "            <td>135</td>\n",
       "            <td>2003</td>\n",
       "            <td>2.29</td>\n",
       "        </tr>\n",
       "        <tr>\n",
       "            <td>53</td>\n",
       "            <td>The Fighter</td>\n",
       "            <td>Other</td>\n",
       "            <td>116</td>\n",
       "            <td>2010</td>\n",
       "            <td>2.49</td>\n",
       "        </tr>\n",
       "    </tbody>\n",
       "</table>"
      ],
      "text/plain": [
       "[(11, 'Showtime', 'Comedy', 95, 2002, 1.79),\n",
       " (20, 'Love Actually', 'Comedy', 135, 2003, 2.29),\n",
       " (53, 'The Fighter', 'Other', 116, 2010, 2.49)]"
      ]
     },
     "execution_count": 36,
     "metadata": {},
     "output_type": "execute_result"
    }
   ],
   "source": [
    "%%sql\n",
    "SELECT *\n",
    "FROM movies\n",
    "where title\n",
    " in  ( 'Showtime', 'Love Actually' ,'The Fighter'); -- Select all movies with the given titles"
   ]
  },
  {
   "cell_type": "code",
   "execution_count": 37,
   "metadata": {},
   "outputs": [
    {
     "name": "stdout",
     "output_type": "stream",
     "text": [
      "   sqlite://\n",
      " * sqlite:///myfile.db\n",
      "Done.\n"
     ]
    },
    {
     "data": {
      "text/html": [
       "<table>\n",
       "    <thead>\n",
       "        <tr>\n",
       "            <th>movie_id</th>\n",
       "            <th>title</th>\n",
       "            <th>genre</th>\n",
       "            <th>runtime</th>\n",
       "            <th>year_of_releas</th>\n",
       "            <th>renting_price</th>\n",
       "        </tr>\n",
       "    </thead>\n",
       "    <tbody>\n",
       "        <tr>\n",
       "            <td>42</td>\n",
       "            <td>No Country for Old Men</td>\n",
       "            <td>Drama</td>\n",
       "            <td>122</td>\n",
       "            <td>2007</td>\n",
       "            <td>1.49</td>\n",
       "        </tr>\n",
       "        <tr>\n",
       "            <td>16</td>\n",
       "            <td>25th Hour</td>\n",
       "            <td>Drama</td>\n",
       "            <td>135</td>\n",
       "            <td>2003</td>\n",
       "            <td>1.59</td>\n",
       "        </tr>\n",
       "        <tr>\n",
       "            <td>33</td>\n",
       "            <td>V for Vendetta</td>\n",
       "            <td>Drama</td>\n",
       "            <td>132</td>\n",
       "            <td>2006</td>\n",
       "            <td>1.59</td>\n",
       "        </tr>\n",
       "        <tr>\n",
       "            <td>36</td>\n",
       "            <td>World Trade Center</td>\n",
       "            <td>Drama</td>\n",
       "            <td>129</td>\n",
       "            <td>2006</td>\n",
       "            <td>1.59</td>\n",
       "        </tr>\n",
       "        <tr>\n",
       "            <td>37</td>\n",
       "            <td>Candy</td>\n",
       "            <td>Drama</td>\n",
       "            <td>116</td>\n",
       "            <td>2006</td>\n",
       "            <td>1.59</td>\n",
       "        </tr>\n",
       "    </tbody>\n",
       "</table>"
      ],
      "text/plain": [
       "[(42, 'No Country for Old Men', 'Drama', 122, 2007, 1.49),\n",
       " (16, '25th Hour', 'Drama', 135, 2003, 1.59),\n",
       " (33, 'V for Vendetta', 'Drama', 132, 2006, 1.59),\n",
       " (36, 'World Trade Center', 'Drama', 129, 2006, 1.59),\n",
       " (37, 'Candy', 'Drama', 116, 2006, 1.59)]"
      ]
     },
     "execution_count": 37,
     "metadata": {},
     "output_type": "execute_result"
    }
   ],
   "source": [
    "%%sql\n",
    "SELECT *\n",
    "FROM movies\n",
    "Order by renting_price limit 5; -- Order the movies by increasing renting price"
   ]
  },
  {
   "cell_type": "code",
   "execution_count": 38,
   "metadata": {},
   "outputs": [
    {
     "name": "stdout",
     "output_type": "stream",
     "text": [
      "   sqlite://\n",
      " * sqlite:///myfile.db\n",
      "Done.\n"
     ]
    },
    {
     "data": {
      "text/html": [
       "<table>\n",
       "    <thead>\n",
       "        <tr>\n",
       "            <th>renting_id</th>\n",
       "            <th>customer_id</th>\n",
       "            <th>movie_id</th>\n",
       "            <th>rating</th>\n",
       "            <th>date_renting</th>\n",
       "        </tr>\n",
       "    </thead>\n",
       "    <tbody>\n",
       "        <tr>\n",
       "            <td>3</td>\n",
       "            <td>108</td>\n",
       "            <td>45</td>\n",
       "            <td>4.0</td>\n",
       "            <td>2018-06-08</td>\n",
       "        </tr>\n",
       "        <tr>\n",
       "            <td>4</td>\n",
       "            <td>39</td>\n",
       "            <td>66</td>\n",
       "            <td>8.0</td>\n",
       "            <td>2018-10-22</td>\n",
       "        </tr>\n",
       "        <tr>\n",
       "            <td>6</td>\n",
       "            <td>50</td>\n",
       "            <td>71</td>\n",
       "            <td>7.0</td>\n",
       "            <td>2018-10-09</td>\n",
       "        </tr>\n",
       "        <tr>\n",
       "            <td>8</td>\n",
       "            <td>73</td>\n",
       "            <td>65</td>\n",
       "            <td>10.0</td>\n",
       "            <td>2018-06-05</td>\n",
       "        </tr>\n",
       "        <tr>\n",
       "            <td>12</td>\n",
       "            <td>52</td>\n",
       "            <td>65</td>\n",
       "            <td>10.0</td>\n",
       "            <td>2018-06-29</td>\n",
       "        </tr>\n",
       "    </tbody>\n",
       "</table>"
      ],
      "text/plain": [
       "[(3, 108, 45, 4.0, '2018-06-08'),\n",
       " (4, 39, 66, 8.0, '2018-10-22'),\n",
       " (6, 50, 71, 7.0, '2018-10-09'),\n",
       " (8, 73, 65, 10.0, '2018-06-05'),\n",
       " (12, 52, 65, 10.0, '2018-06-29')]"
      ]
     },
     "execution_count": 38,
     "metadata": {},
     "output_type": "execute_result"
    }
   ],
   "source": [
    "%%sql\n",
    "SELECT *\n",
    "FROM renting\n",
    "WHERE date_renting between '2018-01-01' AND '2018-12-31' -- Renting in 2018\n",
    "AND rating is not null limit 5; -- Rating exists"
   ]
  },
  {
   "cell_type": "code",
   "execution_count": 54,
   "metadata": {},
   "outputs": [
    {
     "name": "stdout",
     "output_type": "stream",
     "text": [
      "   sqlite://\n",
      " * sqlite:///myfile.db\n",
      "Done.\n"
     ]
    },
    {
     "data": {
      "text/html": [
       "<table>\n",
       "    <thead>\n",
       "        <tr>\n",
       "            <th>COUNT(*)</th>\n",
       "        </tr>\n",
       "    </thead>\n",
       "    <tbody>\n",
       "        <tr>\n",
       "            <td>33</td>\n",
       "        </tr>\n",
       "    </tbody>\n",
       "</table>"
      ],
      "text/plain": [
       "[(33,)]"
      ]
     },
     "execution_count": 54,
     "metadata": {},
     "output_type": "execute_result"
    }
   ],
   "source": [
    "%%sql\n",
    "SELECT COUNT(*)\n",
    "FROM customers\n",
    "WHERE date_of_birth BETWEEN '1980-01-01' AND '1989-12-31';"
   ]
  },
  {
   "cell_type": "code",
   "execution_count": 55,
   "metadata": {},
   "outputs": [
    {
     "name": "stdout",
     "output_type": "stream",
     "text": [
      "   sqlite://\n",
      " * sqlite:///myfile.db\n",
      "Done.\n"
     ]
    },
    {
     "data": {
      "text/html": [
       "<table>\n",
       "    <thead>\n",
       "        <tr>\n",
       "            <th>COUNT(*)   -- Count the total number of customers</th>\n",
       "        </tr>\n",
       "    </thead>\n",
       "    <tbody>\n",
       "        <tr>\n",
       "            <td>0</td>\n",
       "        </tr>\n",
       "    </tbody>\n",
       "</table>"
      ],
      "text/plain": [
       "[(0,)]"
      ]
     },
     "execution_count": 55,
     "metadata": {},
     "output_type": "execute_result"
    }
   ],
   "source": [
    "%%sql\n",
    "\n",
    "SELECT COUNT(*)   -- Count the total number of customers\n",
    "FROM customers\n",
    "WHERE country = 'Germany'; -- Select all customers from Germany"
   ]
  },
  {
   "cell_type": "code",
   "execution_count": 56,
   "metadata": {},
   "outputs": [
    {
     "name": "stdout",
     "output_type": "stream",
     "text": [
      "   sqlite://\n",
      " * sqlite:///myfile.db\n",
      "Done.\n"
     ]
    },
    {
     "data": {
      "text/html": [
       "<table>\n",
       "    <thead>\n",
       "        <tr>\n",
       "            <th>COUNT(distinct country)   -- Count the number of countries</th>\n",
       "        </tr>\n",
       "    </thead>\n",
       "    <tbody>\n",
       "        <tr>\n",
       "            <td>11</td>\n",
       "        </tr>\n",
       "    </tbody>\n",
       "</table>"
      ],
      "text/plain": [
       "[(11,)]"
      ]
     },
     "execution_count": 56,
     "metadata": {},
     "output_type": "execute_result"
    }
   ],
   "source": [
    "%%sql\n",
    "SELECT COUNT(distinct country)   -- Count the number of countries\n",
    "FROM customers;"
   ]
  },
  {
   "cell_type": "code",
   "execution_count": 57,
   "metadata": {},
   "outputs": [
    {
     "name": "stdout",
     "output_type": "stream",
     "text": [
      "   sqlite://\n",
      " * sqlite:///myfile.db\n",
      "Done.\n"
     ]
    },
    {
     "data": {
      "text/html": [
       "<table>\n",
       "    <thead>\n",
       "        <tr>\n",
       "            <th>min_rating</th>\n",
       "            <th>max_rating</th>\n",
       "            <th>avg_rating</th>\n",
       "            <th>number_ratings</th>\n",
       "        </tr>\n",
       "    </thead>\n",
       "    <tbody>\n",
       "        <tr>\n",
       "            <td>5.0</td>\n",
       "            <td>10.0</td>\n",
       "            <td>7.5</td>\n",
       "            <td>8</td>\n",
       "        </tr>\n",
       "    </tbody>\n",
       "</table>"
      ],
      "text/plain": [
       "[(5.0, 10.0, 7.5, 8)]"
      ]
     },
     "execution_count": 57,
     "metadata": {},
     "output_type": "execute_result"
    }
   ],
   "source": [
    "%%sql\n",
    "SELECT MIN(rating) AS min_rating, \n",
    "       MAX(rating) AS max_rating, \n",
    "       AVG(rating) AS avg_rating, \n",
    "       COUNT(rating) AS number_ratings\n",
    "FROM renting\n",
    "WHERE movie_id = 25;"
   ]
  },
  {
   "cell_type": "code",
   "execution_count": 58,
   "metadata": {},
   "outputs": [
    {
     "name": "stdout",
     "output_type": "stream",
     "text": [
      "   sqlite://\n",
      " * sqlite:///myfile.db\n",
      "Done.\n"
     ]
    },
    {
     "data": {
      "text/html": [
       "<table>\n",
       "    <thead>\n",
       "        <tr>\n",
       "            <th>renting_id</th>\n",
       "            <th>customer_id</th>\n",
       "            <th>movie_id</th>\n",
       "            <th>rating</th>\n",
       "            <th>date_renting</th>\n",
       "        </tr>\n",
       "    </thead>\n",
       "    <tbody>\n",
       "        <tr>\n",
       "            <td>5</td>\n",
       "            <td>104</td>\n",
       "            <td>15</td>\n",
       "            <td>7.0</td>\n",
       "            <td>2019-03-18</td>\n",
       "        </tr>\n",
       "        <tr>\n",
       "            <td>17</td>\n",
       "            <td>22</td>\n",
       "            <td>46</td>\n",
       "            <td>10.0</td>\n",
       "            <td>2019-02-16</td>\n",
       "        </tr>\n",
       "        <tr>\n",
       "            <td>18</td>\n",
       "            <td>36</td>\n",
       "            <td>39</td>\n",
       "            <td>10.0</td>\n",
       "            <td>2019-03-20</td>\n",
       "        </tr>\n",
       "        <tr>\n",
       "            <td>27</td>\n",
       "            <td>7</td>\n",
       "            <td>36</td>\n",
       "            <td>None</td>\n",
       "            <td>2019-03-14</td>\n",
       "        </tr>\n",
       "        <tr>\n",
       "            <td>32</td>\n",
       "            <td>8</td>\n",
       "            <td>42</td>\n",
       "            <td>10.0</td>\n",
       "            <td>2019-02-13</td>\n",
       "        </tr>\n",
       "    </tbody>\n",
       "</table>"
      ],
      "text/plain": [
       "[(5, 104, 15, 7.0, '2019-03-18'),\n",
       " (17, 22, 46, 10.0, '2019-02-16'),\n",
       " (18, 36, 39, 10.0, '2019-03-20'),\n",
       " (27, 7, 36, None, '2019-03-14'),\n",
       " (32, 8, 42, 10.0, '2019-02-13')]"
      ]
     },
     "execution_count": 58,
     "metadata": {},
     "output_type": "execute_result"
    }
   ],
   "source": [
    "%%sql\n",
    "SELECT * FROM renting WHERE date_renting >= '2019-01-01' limit 5;\n"
   ]
  },
  {
   "cell_type": "code",
   "execution_count": 59,
   "metadata": {},
   "outputs": [
    {
     "name": "stdout",
     "output_type": "stream",
     "text": [
      "   sqlite://\n",
      " * sqlite:///myfile.db\n",
      "Done.\n"
     ]
    },
    {
     "data": {
      "text/html": [
       "<table>\n",
       "    <thead>\n",
       "        <tr>\n",
       "            <th>COUNT(*)</th>\n",
       "            <th>AVG(rating) -- Add the average rating</th>\n",
       "        </tr>\n",
       "    </thead>\n",
       "    <tbody>\n",
       "        <tr>\n",
       "            <td>159</td>\n",
       "            <td>7.946236559139785</td>\n",
       "        </tr>\n",
       "    </tbody>\n",
       "</table>"
      ],
      "text/plain": [
       "[(159, 7.946236559139785)]"
      ]
     },
     "execution_count": 59,
     "metadata": {},
     "output_type": "execute_result"
    }
   ],
   "source": [
    "%%sql\n",
    "SELECT \n",
    "\tCOUNT(*), -- Count the total number of rented movies\n",
    "\tAVG(rating) -- Add the average rating\n",
    "FROM renting\n",
    "WHERE date_renting >= '2019-01-01' limit 5;"
   ]
  },
  {
   "cell_type": "code",
   "execution_count": 60,
   "metadata": {},
   "outputs": [
    {
     "name": "stdout",
     "output_type": "stream",
     "text": [
      "   sqlite://\n",
      " * sqlite:///myfile.db\n",
      "Done.\n"
     ]
    },
    {
     "data": {
      "text/html": [
       "<table>\n",
       "    <thead>\n",
       "        <tr>\n",
       "            <th>number_renting</th>\n",
       "            <th>average_rating</th>\n",
       "        </tr>\n",
       "    </thead>\n",
       "    <tbody>\n",
       "        <tr>\n",
       "            <td>159</td>\n",
       "            <td>7.946236559139785</td>\n",
       "        </tr>\n",
       "    </tbody>\n",
       "</table>"
      ],
      "text/plain": [
       "[(159, 7.946236559139785)]"
      ]
     },
     "execution_count": 60,
     "metadata": {},
     "output_type": "execute_result"
    }
   ],
   "source": [
    "%%sql\n",
    "SELECT \n",
    "\tCOUNT(*) as number_renting, -- Give it the column name number_renting\n",
    "\tAVG(rating) as average_rating  -- Give it the column name average_rating\n",
    "FROM renting\n",
    "WHERE date_renting >= '2019-01-01';"
   ]
  },
  {
   "cell_type": "code",
   "execution_count": 40,
   "metadata": {},
   "outputs": [
    {
     "name": "stdout",
     "output_type": "stream",
     "text": [
      "   sqlite://\n",
      " * sqlite:///myfile.db\n",
      "Done.\n",
      "Done.\n"
     ]
    },
    {
     "data": {
      "text/plain": [
       "[]"
      ]
     },
     "execution_count": 40,
     "metadata": {},
     "output_type": "execute_result"
    }
   ],
   "source": [
    "%%sql\n",
    "\n",
    "DROP TABLE IF EXISTS \"customers\";\n",
    "CREATE TABLE customers\n",
    "(\n",
    "\tcustomer_id integer PRIMARY KEY,\n",
    "    name character varying,\n",
    "    country character varying,\n",
    "    gender character varying,\n",
    "    date_of_birth date,\n",
    "    date_account_start date\n",
    ");"
   ]
  },
  {
   "cell_type": "code",
   "execution_count": 61,
   "metadata": {},
   "outputs": [
    {
     "name": "stdout",
     "output_type": "stream",
     "text": [
      "   sqlite://\n",
      " * sqlite:///myfile.db\n",
      "Done.\n"
     ]
    },
    {
     "data": {
      "text/html": [
       "<table>\n",
       "    <thead>\n",
       "        <tr>\n",
       "            <th>number_renting</th>\n",
       "            <th>average_rating</th>\n",
       "            <th>number_ratings</th>\n",
       "        </tr>\n",
       "    </thead>\n",
       "    <tbody>\n",
       "        <tr>\n",
       "            <td>159</td>\n",
       "            <td>7.946236559139785</td>\n",
       "            <td>93</td>\n",
       "        </tr>\n",
       "    </tbody>\n",
       "</table>"
      ],
      "text/plain": [
       "[(159, 7.946236559139785, 93)]"
      ]
     },
     "execution_count": 61,
     "metadata": {},
     "output_type": "execute_result"
    }
   ],
   "source": [
    "%%sql\n",
    "SELECT \n",
    "\tCOUNT(*) AS number_renting,\n",
    "\tAVG(rating) AS average_rating, \n",
    "    count(rating) AS number_ratings -- Add the total number of ratings here.\n",
    "FROM renting\n",
    "WHERE date_renting >= '2019-01-01';"
   ]
  },
  {
   "cell_type": "code",
   "execution_count": 5,
   "metadata": {},
   "outputs": [
    {
     "name": "stdout",
     "output_type": "stream",
     "text": [
      " * sqlite://\n",
      "Done.\n",
      "Done.\n"
     ]
    },
    {
     "data": {
      "text/plain": [
       "[]"
      ]
     },
     "execution_count": 5,
     "metadata": {},
     "output_type": "execute_result"
    }
   ],
   "source": [
    "%%sql\n",
    "DROP TABLE IF EXISTS \"movies\";\n",
    "CREATE TABLE movies\n",
    "(\n",
    "    movie_id INT PRIMARY KEY,\n",
    "    title TEXT,\n",
    "    genre TEXT,\n",
    "    runtime INT,\n",
    "    year_of_release INT,\n",
    "    renting_price numeric\n",
    ");\n"
   ]
  },
  {
   "cell_type": "code",
   "execution_count": 6,
   "metadata": {},
   "outputs": [
    {
     "name": "stdout",
     "output_type": "stream",
     "text": [
      " * sqlite://\n",
      "(sqlite3.OperationalError) near \"COPY\": syntax error\n",
      "[SQL: COPY movies\n",
      "\tFROM PROGRAM 'curl \"https://assets.datacamp.com/production/repositories/4068/datasets/3eebf2a145b76fee37357bcd55ac54577c03c805/movies_181127_2.csv\"' (DELIMITER ',', FORMAT CSV, HEADER);]\n",
      "(Background on this error at: https://sqlalche.me/e/20/e3q8)\n"
     ]
    }
   ],
   "source": [
    "%%sql\n",
    "COPY movies\n",
    "\tFROM PROGRAM 'curl \"https://assets.datacamp.com/production/repositories/4068/datasets/3eebf2a145b76fee37357bcd55ac54577c03c805/movies_181127_2.csv\"' (DELIMITER ',', FORMAT CSV, HEADER);\n"
   ]
  },
  {
   "cell_type": "code",
   "execution_count": 8,
   "metadata": {},
   "outputs": [
    {
     "name": "stdout",
     "output_type": "stream",
     "text": [
      " * sqlite://\n",
      "Done.\n"
     ]
    },
    {
     "data": {
      "text/html": [
       "<div>\n",
       "<style scoped>\n",
       "    .dataframe tbody tr th:only-of-type {\n",
       "        vertical-align: middle;\n",
       "    }\n",
       "\n",
       "    .dataframe tbody tr th {\n",
       "        vertical-align: top;\n",
       "    }\n",
       "\n",
       "    .dataframe thead th {\n",
       "        text-align: right;\n",
       "    }\n",
       "</style>\n",
       "<table border=\"1\" class=\"dataframe\">\n",
       "  <thead>\n",
       "    <tr style=\"text-align: right;\">\n",
       "      <th></th>\n",
       "    </tr>\n",
       "  </thead>\n",
       "  <tbody>\n",
       "  </tbody>\n",
       "</table>\n",
       "</div>"
      ],
      "text/plain": [
       "Empty DataFrame\n",
       "Columns: []\n",
       "Index: []"
      ]
     },
     "execution_count": 8,
     "metadata": {},
     "output_type": "execute_result"
    }
   ],
   "source": [
    "import pandas as pd\n",
    "import matplotlib.pyplot as plt\n",
    "import seaborn as sns\n",
    "import numpy as np\n",
    "\n",
    "# Create a DataFrame from the results of the SQL query\n",
    "movies_df = %sql SELECT * FROM movies\n",
    "movies_df = movies_df.DataFrame()   \n",
    "movies_df.head()"
   ]
  },
  {
   "cell_type": "code",
   "execution_count": 14,
   "metadata": {},
   "outputs": [
    {
     "data": {
      "text/plain": [
       "71"
      ]
     },
     "execution_count": 14,
     "metadata": {},
     "output_type": "execute_result"
    }
   ],
   "source": [
    "movies_df = pd.read_csv( \"https://assets.datacamp.com/production/repositories/4068/datasets/3eebf2a145b76fee37357bcd55ac54577c03c805/movies_181127_2.csv\")\n",
    "movies_df.shape\n",
    "import sqlite3\n",
    "conn = sqlite3.connect(\"myfile.db\")\n",
    "movies_df.to_sql(\"movies\", conn, if_exists=\"replace\",index=False)"
   ]
  },
  {
   "cell_type": "code",
   "execution_count": 15,
   "metadata": {},
   "outputs": [
    {
     "data": {
      "text/plain": [
       "145"
      ]
     },
     "execution_count": 15,
     "metadata": {},
     "output_type": "execute_result"
    }
   ],
   "source": [
    "url = \"https://assets.datacamp.com/production/repositories/4068/datasets/c67f20fa317e8229eed7586cda8bfce5fc177444/actors_181127_2.csv\"\n",
    "actors_df = pd.read_csv(url)\n",
    "actors_df.shape\n",
    "actors_df.to_sql(\"actors\", conn, if_exists=\"replace\",index=False)"
   ]
  },
  {
   "cell_type": "code",
   "execution_count": 16,
   "metadata": {},
   "outputs": [
    {
     "data": {
      "text/plain": [
       "213"
      ]
     },
     "execution_count": 16,
     "metadata": {},
     "output_type": "execute_result"
    }
   ],
   "source": [
    "url = \"https://assets.datacamp.com/production/repositories/4068/datasets/6efc08575effcc9327c82fea18aaf22dfd61cc27/actsin_181127_2.csv\"\n",
    "actsin_df = pd.read_csv(url)\n",
    "actsin_df.shape\n",
    "actsin_df.to_sql(\"actsin\", conn, if_exists=\"replace\",index=False)"
   ]
  },
  {
   "cell_type": "code",
   "execution_count": 51,
   "metadata": {},
   "outputs": [
    {
     "data": {
      "text/plain": [
       "122"
      ]
     },
     "execution_count": 51,
     "metadata": {},
     "output_type": "execute_result"
    }
   ],
   "source": [
    "url =\"https://assets.datacamp.com/production/repositories/4068/datasets/4b1767d8e638ab26e62d98517fef297d72260992/customers_181127_2.csv\"\n",
    "customers_df = pd.read_csv(url)\n",
    "#  add columns name to the dataframe\n",
    "\n",
    "# DROP TABLE IF EXISTS \"customers\";\n",
    "# CREATE TABLE customers\n",
    "# (\n",
    "# \tcustomer_id integer PRIMARY KEY,\n",
    "#     name character varying,\n",
    "#     country character varying,\n",
    "#     gender character varying,\n",
    "#     date_of_birth date,\n",
    "#     date_account_start date\n",
    "# );\n",
    "# \n",
    "# customer_id\tAustria\tmale\t1980-07-30\t2018-09-02\n",
    "customers_df = customers_df.rename(columns={'Robert Bohm':'name', '1':'customer_id','Austria': 'country', 'male':'gender','1980-07-30':'date_of_birth'\t,'2018-09-02':'date_account_start'})\n",
    "customers_df.head()\n",
    "customers_df.to_sql(\"customers\", conn, if_exists=\"append\",index=False)"
   ]
  },
  {
   "cell_type": "code",
   "execution_count": 18,
   "metadata": {},
   "outputs": [
    {
     "data": {
      "text/plain": [
       "578"
      ]
     },
     "execution_count": 18,
     "metadata": {},
     "output_type": "execute_result"
    }
   ],
   "source": [
    "url = \"https://assets.datacamp.com/production/repositories/4068/datasets/d36ed7719976092a9b3387c8a2ac077914c9e1d2/renting_181127_2.csv\"\n",
    "renting_df = pd.read_csv(url)\n",
    "renting_df.shape\n",
    "renting_df.to_sql(\"renting\", conn, if_exists=\"replace\",index=False)"
   ]
  }
 ],
 "metadata": {
  "kernelspec": {
   "display_name": "Python 3",
   "language": "python",
   "name": "python3"
  },
  "language_info": {
   "codemirror_mode": {
    "name": "ipython",
    "version": 3
   },
   "file_extension": ".py",
   "mimetype": "text/x-python",
   "name": "python",
   "nbconvert_exporter": "python",
   "pygments_lexer": "ipython3",
   "version": "3.11.6"
  }
 },
 "nbformat": 4,
 "nbformat_minor": 2
}
