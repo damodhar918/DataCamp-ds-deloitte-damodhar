{
 "cells": [
  {
   "cell_type": "code",
   "execution_count": 1,
   "metadata": {},
   "outputs": [],
   "source": [
    "%load_ext sql"
   ]
  },
  {
   "cell_type": "code",
   "execution_count": 3,
   "metadata": {},
   "outputs": [],
   "source": [
    "%sql sqlite:///myfile.db"
   ]
  },
  {
   "cell_type": "code",
   "execution_count": 4,
   "metadata": {},
   "outputs": [
    {
     "name": "stdout",
     "output_type": "stream",
     "text": [
      " * sqlite:///myfile.db\n",
      "Done.\n"
     ]
    },
    {
     "data": {
      "text/html": [
       "<table>\n",
       "    <thead>\n",
       "        <tr>\n",
       "            <th>country</th>\n",
       "            <th>first_account</th>\n",
       "        </tr>\n",
       "    </thead>\n",
       "    <tbody>\n",
       "        <tr>\n",
       "            <td>France</td>\n",
       "            <td>2017-01-13</td>\n",
       "        </tr>\n",
       "        <tr>\n",
       "            <td>Hungary</td>\n",
       "            <td>2017-01-18</td>\n",
       "        </tr>\n",
       "        <tr>\n",
       "            <td>Belgium</td>\n",
       "            <td>2017-01-28</td>\n",
       "        </tr>\n",
       "        <tr>\n",
       "            <td>Slovenia</td>\n",
       "            <td>2017-01-31</td>\n",
       "        </tr>\n",
       "        <tr>\n",
       "            <td>Spain</td>\n",
       "            <td>2017-02-14</td>\n",
       "        </tr>\n",
       "        <tr>\n",
       "            <td>Italy</td>\n",
       "            <td>2017-02-28</td>\n",
       "        </tr>\n",
       "        <tr>\n",
       "            <td>Poland</td>\n",
       "            <td>2017-03-03</td>\n",
       "        </tr>\n",
       "        <tr>\n",
       "            <td>Great Britan</td>\n",
       "            <td>2017-03-31</td>\n",
       "        </tr>\n",
       "        <tr>\n",
       "            <td>Denmark</td>\n",
       "            <td>2017-04-30</td>\n",
       "        </tr>\n",
       "        <tr>\n",
       "            <td>USA</td>\n",
       "            <td>2017-09-13</td>\n",
       "        </tr>\n",
       "        <tr>\n",
       "            <td>Austria</td>\n",
       "            <td>2017-11-22</td>\n",
       "        </tr>\n",
       "    </tbody>\n",
       "</table>"
      ],
      "text/plain": [
       "[('France', '2017-01-13'),\n",
       " ('Hungary', '2017-01-18'),\n",
       " ('Belgium', '2017-01-28'),\n",
       " ('Slovenia', '2017-01-31'),\n",
       " ('Spain', '2017-02-14'),\n",
       " ('Italy', '2017-02-28'),\n",
       " ('Poland', '2017-03-03'),\n",
       " ('Great Britan', '2017-03-31'),\n",
       " ('Denmark', '2017-04-30'),\n",
       " ('USA', '2017-09-13'),\n",
       " ('Austria', '2017-11-22')]"
      ]
     },
     "execution_count": 4,
     "metadata": {},
     "output_type": "execute_result"
    }
   ],
   "source": [
    "%%sql\n",
    "SELECT \n",
    "\tcountry, \n",
    "    MIN(date_account_start) AS first_account\n",
    "FROM customers\n",
    "GROUP BY country\n",
    "ORDER BY first_account ASC;"
   ]
  },
  {
   "cell_type": "code",
   "execution_count": 7,
   "metadata": {},
   "outputs": [
    {
     "name": "stdout",
     "output_type": "stream",
     "text": [
      " * sqlite:///myfile.db\n",
      "Done.\n"
     ]
    },
    {
     "data": {
      "text/html": [
       "<table>\n",
       "    <thead>\n",
       "        <tr>\n",
       "            <th>movie_id</th>\n",
       "            <th>avg_rating</th>\n",
       "            <th>num_ratings</th>\n",
       "            <th>num_views</th>\n",
       "        </tr>\n",
       "    </thead>\n",
       "    <tbody>\n",
       "        <tr>\n",
       "            <td>1</td>\n",
       "            <td>7.25</td>\n",
       "            <td>4</td>\n",
       "            <td>8</td>\n",
       "        </tr>\n",
       "        <tr>\n",
       "            <td>2</td>\n",
       "            <td>7.25</td>\n",
       "            <td>4</td>\n",
       "            <td>6</td>\n",
       "        </tr>\n",
       "        <tr>\n",
       "            <td>3</td>\n",
       "            <td>9.0</td>\n",
       "            <td>2</td>\n",
       "            <td>11</td>\n",
       "        </tr>\n",
       "        <tr>\n",
       "            <td>4</td>\n",
       "            <td>7.888888888888889</td>\n",
       "            <td>9</td>\n",
       "            <td>14</td>\n",
       "        </tr>\n",
       "        <tr>\n",
       "            <td>5</td>\n",
       "            <td>9.75</td>\n",
       "            <td>4</td>\n",
       "            <td>8</td>\n",
       "        </tr>\n",
       "    </tbody>\n",
       "</table>"
      ],
      "text/plain": [
       "[(1, 7.25, 4, 8),\n",
       " (2, 7.25, 4, 6),\n",
       " (3, 9.0, 2, 11),\n",
       " (4, 7.888888888888889, 9, 14),\n",
       " (5, 9.75, 4, 8)]"
      ]
     },
     "execution_count": 7,
     "metadata": {},
     "output_type": "execute_result"
    }
   ],
   "source": [
    "%%sql\n",
    "SELECT movie_id, \n",
    "       AVG(rating) AS avg_rating,\n",
    "       COUNT(rating) AS num_ratings,\n",
    "       COUNT(DISTINCT renting_id) AS num_views\n",
    "FROM renting\n",
    "GROUP BY movie_id limit 5; "
   ]
  },
  {
   "cell_type": "code",
   "execution_count": 9,
   "metadata": {},
   "outputs": [
    {
     "name": "stdout",
     "output_type": "stream",
     "text": [
      " * sqlite:///myfile.db\n",
      "Done.\n"
     ]
    },
    {
     "data": {
      "text/html": [
       "<table>\n",
       "    <thead>\n",
       "        <tr>\n",
       "            <th>movie_id</th>\n",
       "            <th>AVG(rating) -- Calculate average rating per movie</th>\n",
       "        </tr>\n",
       "    </thead>\n",
       "    <tbody>\n",
       "        <tr>\n",
       "            <td>1</td>\n",
       "            <td>7.25</td>\n",
       "        </tr>\n",
       "        <tr>\n",
       "            <td>2</td>\n",
       "            <td>7.25</td>\n",
       "        </tr>\n",
       "        <tr>\n",
       "            <td>3</td>\n",
       "            <td>9.0</td>\n",
       "        </tr>\n",
       "        <tr>\n",
       "            <td>4</td>\n",
       "            <td>7.888888888888889</td>\n",
       "        </tr>\n",
       "        <tr>\n",
       "            <td>5</td>\n",
       "            <td>9.75</td>\n",
       "        </tr>\n",
       "    </tbody>\n",
       "</table>"
      ],
      "text/plain": [
       "[(1, 7.25), (2, 7.25), (3, 9.0), (4, 7.888888888888889), (5, 9.75)]"
      ]
     },
     "execution_count": 9,
     "metadata": {},
     "output_type": "execute_result"
    }
   ],
   "source": [
    "%%sql\n",
    "SELECT movie_id, \n",
    "       AVG(rating) -- Calculate average rating per movie\n",
    "FROM renting\n",
    "GROUP BY movie_id limit 5;"
   ]
  },
  {
   "cell_type": "code",
   "execution_count": 11,
   "metadata": {},
   "outputs": [
    {
     "name": "stdout",
     "output_type": "stream",
     "text": [
      " * sqlite:///myfile.db\n",
      "Done.\n"
     ]
    },
    {
     "data": {
      "text/html": [
       "<table>\n",
       "    <thead>\n",
       "        <tr>\n",
       "            <th>movie_id</th>\n",
       "            <th>avg_rating</th>\n",
       "            <th>number_rating</th>\n",
       "            <th>number_renting</th>\n",
       "        </tr>\n",
       "    </thead>\n",
       "    <tbody>\n",
       "        <tr>\n",
       "            <td>1</td>\n",
       "            <td>7.25</td>\n",
       "            <td>4</td>\n",
       "            <td>8</td>\n",
       "        </tr>\n",
       "        <tr>\n",
       "            <td>2</td>\n",
       "            <td>7.25</td>\n",
       "            <td>4</td>\n",
       "            <td>6</td>\n",
       "        </tr>\n",
       "        <tr>\n",
       "            <td>3</td>\n",
       "            <td>9.0</td>\n",
       "            <td>2</td>\n",
       "            <td>11</td>\n",
       "        </tr>\n",
       "        <tr>\n",
       "            <td>4</td>\n",
       "            <td>7.888888888888889</td>\n",
       "            <td>9</td>\n",
       "            <td>14</td>\n",
       "        </tr>\n",
       "        <tr>\n",
       "            <td>5</td>\n",
       "            <td>9.75</td>\n",
       "            <td>4</td>\n",
       "            <td>8</td>\n",
       "        </tr>\n",
       "    </tbody>\n",
       "</table>"
      ],
      "text/plain": [
       "[(1, 7.25, 4, 8),\n",
       " (2, 7.25, 4, 6),\n",
       " (3, 9.0, 2, 11),\n",
       " (4, 7.888888888888889, 9, 14),\n",
       " (5, 9.75, 4, 8)]"
      ]
     },
     "execution_count": 11,
     "metadata": {},
     "output_type": "execute_result"
    }
   ],
   "source": [
    "%%sql\n",
    "SELECT \n",
    "  movie_id, \n",
    "  AVG(rating) AS avg_rating, \n",
    "  COUNT(rating) AS number_rating, \n",
    "  COUNT(*) AS number_renting  \n",
    "FROM \n",
    "  renting \n",
    "GROUP BY \n",
    "  movie_id limit 5;"
   ]
  },
  {
   "cell_type": "code",
   "execution_count": 15,
   "metadata": {},
   "outputs": [
    {
     "name": "stdout",
     "output_type": "stream",
     "text": [
      " * sqlite:///myfile.db\n",
      "Done.\n"
     ]
    },
    {
     "data": {
      "text/html": [
       "<table>\n",
       "    <thead>\n",
       "        <tr>\n",
       "            <th>movie_id</th>\n",
       "            <th>avg_rating</th>\n",
       "            <th>number_ratings</th>\n",
       "            <th>number_renting</th>\n",
       "        </tr>\n",
       "    </thead>\n",
       "    <tbody>\n",
       "        <tr>\n",
       "            <td>48</td>\n",
       "            <td>10.0</td>\n",
       "            <td>2</td>\n",
       "            <td>5</td>\n",
       "        </tr>\n",
       "        <tr>\n",
       "            <td>5</td>\n",
       "            <td>9.75</td>\n",
       "            <td>4</td>\n",
       "            <td>8</td>\n",
       "        </tr>\n",
       "        <tr>\n",
       "            <td>42</td>\n",
       "            <td>9.6</td>\n",
       "            <td>5</td>\n",
       "            <td>10</td>\n",
       "        </tr>\n",
       "        <tr>\n",
       "            <td>63</td>\n",
       "            <td>9.333333333333334</td>\n",
       "            <td>6</td>\n",
       "            <td>11</td>\n",
       "        </tr>\n",
       "        <tr>\n",
       "            <td>65</td>\n",
       "            <td>9.0</td>\n",
       "            <td>5</td>\n",
       "            <td>5</td>\n",
       "        </tr>\n",
       "    </tbody>\n",
       "</table>"
      ],
      "text/plain": [
       "[(48, 10.0, 2, 5),\n",
       " (5, 9.75, 4, 8),\n",
       " (42, 9.6, 5, 10),\n",
       " (63, 9.333333333333334, 6, 11),\n",
       " (65, 9.0, 5, 5)]"
      ]
     },
     "execution_count": 15,
     "metadata": {},
     "output_type": "execute_result"
    }
   ],
   "source": [
    "%%sql\n",
    "SELECT movie_id, \n",
    "       AVG(rating) AS avg_rating,\n",
    "       COUNT(rating) AS number_ratings,\n",
    "       COUNT(*) AS number_renting\n",
    "FROM renting\n",
    "GROUP BY movie_id\n",
    "ORDER BY avg_rating DESC limit 5; -- Order by average rating in decreasing order"
   ]
  },
  {
   "cell_type": "code",
   "execution_count": 19,
   "metadata": {},
   "outputs": [
    {
     "name": "stdout",
     "output_type": "stream",
     "text": [
      " * sqlite:///myfile.db\n",
      "Done.\n"
     ]
    },
    {
     "data": {
      "text/html": [
       "<table>\n",
       "    <thead>\n",
       "        <tr>\n",
       "            <th>customer_id</th>\n",
       "            <th>AVG(rating)</th>\n",
       "            <th>COUNT(rating)</th>\n",
       "            <th>count</th>\n",
       "        </tr>\n",
       "    </thead>\n",
       "    <tbody>\n",
       "        <tr>\n",
       "            <td>104</td>\n",
       "            <td>6.25</td>\n",
       "            <td>4</td>\n",
       "            <td>8</td>\n",
       "        </tr>\n",
       "        <tr>\n",
       "            <td>28</td>\n",
       "            <td>6.714285714285714</td>\n",
       "            <td>7</td>\n",
       "            <td>11</td>\n",
       "        </tr>\n",
       "        <tr>\n",
       "            <td>111</td>\n",
       "            <td>7.0</td>\n",
       "            <td>3</td>\n",
       "            <td>10</td>\n",
       "        </tr>\n",
       "    </tbody>\n",
       "</table>"
      ],
      "text/plain": [
       "[(104, 6.25, 4, 8), (28, 6.714285714285714, 7, 11), (111, 7.0, 3, 10)]"
      ]
     },
     "execution_count": 19,
     "metadata": {},
     "output_type": "execute_result"
    }
   ],
   "source": [
    "%%sql\n",
    "SELECT customer_id,  -- Report the customer_id\n",
    "       AVG(rating), -- Report the average rating per customer\n",
    "       COUNT(rating), -- Report the number of ratings per customer\n",
    "       COUNT(*) as count   -- Report the number of movie rentals per customer\n",
    "FROM renting\n",
    "GROUP BY customer_id\n",
    "HAVING COUNT(*) > 7 -- Select only customers with more than 7 movie rentals\n",
    "ORDER BY AVG(rating) limit 3; -- Order by the average rating in ascending order"
   ]
  },
  {
   "cell_type": "code",
   "execution_count": 21,
   "metadata": {},
   "outputs": [
    {
     "name": "stdout",
     "output_type": "stream",
     "text": [
      " * sqlite:///myfile.db\n",
      "Done.\n"
     ]
    },
    {
     "data": {
      "text/html": [
       "<table>\n",
       "    <thead>\n",
       "        <tr>\n",
       "            <th>rating</th>\n",
       "        </tr>\n",
       "    </thead>\n",
       "    <tbody>\n",
       "        <tr>\n",
       "            <td>8.9</td>\n",
       "        </tr>\n",
       "    </tbody>\n",
       "</table>"
      ],
      "text/plain": [
       "[(8.9,)]"
      ]
     },
     "execution_count": 21,
     "metadata": {},
     "output_type": "execute_result"
    }
   ],
   "source": [
    "%%sql\n",
    "SELECT avg(rating) as rating\n",
    "-- Average ratings of customers from Belgium\n",
    "FROM renting AS r\n",
    "LEFT JOIN customers AS c\n",
    "ON r.customer_id = c.customer_id\n",
    "WHERE c.country='Belgium';"
   ]
  },
  {
   "cell_type": "code",
   "execution_count": 22,
   "metadata": {},
   "outputs": [
    {
     "name": "stdout",
     "output_type": "stream",
     "text": [
      " * sqlite:///myfile.db\n",
      "Done.\n"
     ]
    },
    {
     "data": {
      "text/html": [
       "<table>\n",
       "    <thead>\n",
       "        <tr>\n",
       "            <th>SUM(m.renting_price)</th>\n",
       "            <th>COUNT(*)</th>\n",
       "            <th>COUNT(DISTINCT r.customer_id)</th>\n",
       "        </tr>\n",
       "    </thead>\n",
       "    <tbody>\n",
       "        <tr>\n",
       "            <td>658.0200000000004</td>\n",
       "            <td>298</td>\n",
       "            <td>93</td>\n",
       "        </tr>\n",
       "    </tbody>\n",
       "</table>"
      ],
      "text/plain": [
       "[(658.0200000000004, 298, 93)]"
      ]
     },
     "execution_count": 22,
     "metadata": {},
     "output_type": "execute_result"
    }
   ],
   "source": [
    "%%sql\n",
    "SELECT \n",
    "\tSUM(m.renting_price), \n",
    "\tCOUNT(*), \n",
    "\tCOUNT(DISTINCT r.customer_id)\n",
    "FROM renting AS r\n",
    "LEFT JOIN movies AS m\n",
    "ON r.movie_id = m.movie_id\n",
    "-- Only look at movie rentals in 2018\n",
    "WHERE date_renting BETWEEN '2018-01-01' AND '2018-12-31' ;"
   ]
  },
  {
   "cell_type": "code",
   "execution_count": 24,
   "metadata": {},
   "outputs": [
    {
     "name": "stdout",
     "output_type": "stream",
     "text": [
      " * sqlite:///myfile.db\n",
      "Done.\n"
     ]
    },
    {
     "data": {
      "text/html": [
       "<table>\n",
       "    <thead>\n",
       "        <tr>\n",
       "            <th>title</th>\n",
       "            <th>name</th>\n",
       "        </tr>\n",
       "    </thead>\n",
       "    <tbody>\n",
       "        <tr>\n",
       "            <td>Candy</td>\n",
       "            <td>Abbie Cornish</td>\n",
       "        </tr>\n",
       "        <tr>\n",
       "            <td>Jack and Jill</td>\n",
       "            <td>Adam Sandler</td>\n",
       "        </tr>\n",
       "        <tr>\n",
       "            <td>Simone</td>\n",
       "            <td>Al Pacino</td>\n",
       "        </tr>\n",
       "        <tr>\n",
       "            <td>The Recruit</td>\n",
       "            <td>Al Pacino</td>\n",
       "        </tr>\n",
       "    </tbody>\n",
       "</table>"
      ],
      "text/plain": [
       "[('Candy', 'Abbie Cornish'),\n",
       " ('Jack and Jill', 'Adam Sandler'),\n",
       " ('Simone', 'Al Pacino'),\n",
       " ('The Recruit', 'Al Pacino')]"
      ]
     },
     "execution_count": 24,
     "metadata": {},
     "output_type": "execute_result"
    }
   ],
   "source": [
    "%%sql\n",
    "SELECT  -- Create a list of movie titles and actor names\n",
    "       title,name\n",
    "FROM actsin ai\n",
    "LEFT JOIN movies AS m\n",
    "ON m.movie_id = ai.movie_id\n",
    "LEFT JOIN actors AS a\n",
    "ON a.actor_id = ai.actor_id limit 4;"
   ]
  },
  {
   "cell_type": "code",
   "execution_count": 25,
   "metadata": {},
   "outputs": [
    {
     "name": "stdout",
     "output_type": "stream",
     "text": [
      " * sqlite:///myfile.db\n",
      "Done.\n"
     ]
    },
    {
     "data": {
      "text/html": [
       "<table>\n",
       "    <thead>\n",
       "        <tr>\n",
       "            <th>title</th>\n",
       "            <th>renting_price</th>\n",
       "        </tr>\n",
       "    </thead>\n",
       "    <tbody>\n",
       "        <tr>\n",
       "            <td>Waking Up in Reno</td>\n",
       "            <td>2.59</td>\n",
       "        </tr>\n",
       "        <tr>\n",
       "            <td>Two for the Money</td>\n",
       "            <td>2.79</td>\n",
       "        </tr>\n",
       "        <tr>\n",
       "            <td>Burn After Reading</td>\n",
       "            <td>2.39</td>\n",
       "        </tr>\n",
       "    </tbody>\n",
       "</table>"
      ],
      "text/plain": [
       "[('Waking Up in Reno', 2.59),\n",
       " ('Two for the Money', 2.79),\n",
       " ('Burn After Reading', 2.39)]"
      ]
     },
     "execution_count": 25,
     "metadata": {},
     "output_type": "execute_result"
    }
   ],
   "source": [
    "%%sql\n",
    "SELECT m.title,  -- Use a join to get the movie title and price for each movie rental\n",
    "       m.renting_price\n",
    "FROM renting AS r\n",
    "LEFT JOIN movies AS m\n",
    "ON r.movie_id=m.movie_id limit 3;"
   ]
  },
  {
   "cell_type": "code",
   "execution_count": 26,
   "metadata": {},
   "outputs": [
    {
     "name": "stdout",
     "output_type": "stream",
     "text": [
      " * sqlite:///myfile.db\n",
      "Done.\n"
     ]
    },
    {
     "data": {
      "text/html": [
       "<table>\n",
       "    <thead>\n",
       "        <tr>\n",
       "            <th>title</th>\n",
       "            <th>income_movie</th>\n",
       "        </tr>\n",
       "    </thead>\n",
       "    <tbody>\n",
       "        <tr>\n",
       "            <td>Bridget Jones - The Edge of Reason</td>\n",
       "            <td>37.57</td>\n",
       "        </tr>\n",
       "        <tr>\n",
       "            <td>Fair Game</td>\n",
       "            <td>34.68</td>\n",
       "        </tr>\n",
       "        <tr>\n",
       "            <td>The Kingdom</td>\n",
       "            <td>31.349999999999998</td>\n",
       "        </tr>\n",
       "        <tr>\n",
       "            <td>Two for the Money</td>\n",
       "            <td>30.689999999999994</td>\n",
       "        </tr>\n",
       "        <tr>\n",
       "            <td>Simone</td>\n",
       "            <td>29.590000000000007</td>\n",
       "        </tr>\n",
       "    </tbody>\n",
       "</table>"
      ],
      "text/plain": [
       "[('Bridget Jones - The Edge of Reason', 37.57),\n",
       " ('Fair Game', 34.68),\n",
       " ('The Kingdom', 31.349999999999998),\n",
       " ('Two for the Money', 30.689999999999994),\n",
       " ('Simone', 29.590000000000007)]"
      ]
     },
     "execution_count": 26,
     "metadata": {},
     "output_type": "execute_result"
    }
   ],
   "source": [
    "%%sql\n",
    "SELECT rm.title, -- Report the income from movie rentals for each movie \n",
    "       SUM(rm.renting_price) AS income_movie\n",
    "FROM\n",
    "       (SELECT m.title, \n",
    "               m.renting_price\n",
    "       FROM renting AS r\n",
    "       LEFT JOIN movies AS m\n",
    "       ON r.movie_id=m.movie_id) AS rm\n",
    "GROUP BY rm.title\n",
    "ORDER BY income_movie DESC limit 5; -- Order the result by decreasing income"
   ]
  },
  {
   "cell_type": "code",
   "execution_count": 28,
   "metadata": {},
   "outputs": [
    {
     "name": "stdout",
     "output_type": "stream",
     "text": [
      " * sqlite:///myfile.db\n",
      "Done.\n"
     ]
    },
    {
     "data": {
      "text/html": [
       "<table>\n",
       "    <thead>\n",
       "        <tr>\n",
       "            <th>title</th>\n",
       "            <th>income_movie</th>\n",
       "        </tr>\n",
       "    </thead>\n",
       "    <tbody>\n",
       "        <tr>\n",
       "            <td>Bridget Jones - The Edge of Reason</td>\n",
       "            <td>37.57</td>\n",
       "        </tr>\n",
       "        <tr>\n",
       "            <td>Fair Game</td>\n",
       "            <td>34.68</td>\n",
       "        </tr>\n",
       "        <tr>\n",
       "            <td>The Kingdom</td>\n",
       "            <td>31.349999999999998</td>\n",
       "        </tr>\n",
       "        <tr>\n",
       "            <td>Two for the Money</td>\n",
       "            <td>30.689999999999994</td>\n",
       "        </tr>\n",
       "    </tbody>\n",
       "</table>"
      ],
      "text/plain": [
       "[('Bridget Jones - The Edge of Reason', 37.57),\n",
       " ('Fair Game', 34.68),\n",
       " ('The Kingdom', 31.349999999999998),\n",
       " ('Two for the Money', 30.689999999999994)]"
      ]
     },
     "execution_count": 28,
     "metadata": {},
     "output_type": "execute_result"
    }
   ],
   "source": [
    "%%sql\n",
    "SELECT rm.title, -- Report the income from movie rentals for each movie \n",
    "       SUM(rm.renting_price) AS income_movie\n",
    "FROM\n",
    "       (SELECT m.title, \n",
    "               m.renting_price\n",
    "       FROM renting AS r\n",
    "       LEFT JOIN movies AS m\n",
    "       ON r.movie_id=m.movie_id) AS rm\n",
    "GROUP BY rm.title\n",
    "ORDER BY income_movie DESC limit 4; -- Order the result by decreasing income"
   ]
  },
  {
   "cell_type": "code",
   "execution_count": 29,
   "metadata": {},
   "outputs": [
    {
     "name": "stdout",
     "output_type": "stream",
     "text": [
      " * sqlite:///myfile.db\n",
      "Done.\n"
     ]
    },
    {
     "data": {
      "text/html": [
       "<table>\n",
       "    <thead>\n",
       "        <tr>\n",
       "            <th>gender</th>\n",
       "            <th>MIN(a.year_of_birth)</th>\n",
       "            <th>MAX(a.year_of_birth) -- The year of birth of the youngest actor</th>\n",
       "        </tr>\n",
       "    </thead>\n",
       "    <tbody>\n",
       "        <tr>\n",
       "            <td>female</td>\n",
       "            <td>1945.0</td>\n",
       "            <td>1993.0</td>\n",
       "        </tr>\n",
       "        <tr>\n",
       "            <td>male</td>\n",
       "            <td>1930.0</td>\n",
       "            <td>1992.0</td>\n",
       "        </tr>\n",
       "    </tbody>\n",
       "</table>"
      ],
      "text/plain": [
       "[('female', 1945.0, 1993.0), ('male', 1930.0, 1992.0)]"
      ]
     },
     "execution_count": 29,
     "metadata": {},
     "output_type": "execute_result"
    }
   ],
   "source": [
    "%%sql\n",
    "SELECT a.gender, -- Report for male and female actors from the USA \n",
    "       MIN(a.year_of_birth), -- The year of birth of the oldest actor\n",
    "       MAX(a.year_of_birth) -- The year of birth of the youngest actor\n",
    "FROM\n",
    "    (SELECT * -- Use a subsequent SELECT to get all information about actors from the USA\n",
    "    FROM actors\n",
    "    WHERE nationality = 'USA') AS a -- Give the table the name a\n",
    "GROUP BY a.gender;"
   ]
  },
  {
   "cell_type": "code",
   "execution_count": 32,
   "metadata": {},
   "outputs": [
    {
     "name": "stdout",
     "output_type": "stream",
     "text": [
      " * sqlite:///myfile.db\n",
      "Done.\n"
     ]
    },
    {
     "data": {
      "text/html": [
       "<table>\n",
       "    <thead>\n",
       "        <tr>\n",
       "            <th>renting_id</th>\n",
       "            <th>customer_id</th>\n",
       "            <th>movie_id</th>\n",
       "            <th>rating</th>\n",
       "            <th>date_renting</th>\n",
       "            <th>customer_id_1</th>\n",
       "            <th>name</th>\n",
       "            <th>country</th>\n",
       "            <th>gender</th>\n",
       "            <th>date_of_birth</th>\n",
       "            <th>date_account_start</th>\n",
       "            <th>actsin_id</th>\n",
       "            <th>movie_id_1</th>\n",
       "            <th>actor_id</th>\n",
       "            <th>actor_id_1</th>\n",
       "            <th>name_1</th>\n",
       "            <th>year_of_birth</th>\n",
       "            <th>nationality</th>\n",
       "            <th>gender_1</th>\n",
       "        </tr>\n",
       "    </thead>\n",
       "    <tbody>\n",
       "        <tr>\n",
       "            <td>1</td>\n",
       "            <td>41</td>\n",
       "            <td>8</td>\n",
       "            <td>None</td>\n",
       "            <td>2018-10-09</td>\n",
       "            <td>41</td>\n",
       "            <td>Zara Mitchell</td>\n",
       "            <td>Great Britan</td>\n",
       "            <td>female</td>\n",
       "            <td>1994-07-08</td>\n",
       "            <td>2017-06-12</td>\n",
       "            <td>28</td>\n",
       "            <td>8</td>\n",
       "            <td>23</td>\n",
       "            <td>23</td>\n",
       "            <td>Charlize Theron</td>\n",
       "            <td>1975.0</td>\n",
       "            <td>South Africa</td>\n",
       "            <td>female</td>\n",
       "        </tr>\n",
       "        <tr>\n",
       "            <td>1</td>\n",
       "            <td>41</td>\n",
       "            <td>8</td>\n",
       "            <td>None</td>\n",
       "            <td>2018-10-09</td>\n",
       "            <td>41</td>\n",
       "            <td>Zara Mitchell</td>\n",
       "            <td>Great Britan</td>\n",
       "            <td>female</td>\n",
       "            <td>1994-07-08</td>\n",
       "            <td>2017-06-12</td>\n",
       "            <td>152</td>\n",
       "            <td>8</td>\n",
       "            <td>103</td>\n",
       "            <td>103</td>\n",
       "            <td>Natasha Richardson</td>\n",
       "            <td>1963.0</td>\n",
       "            <td>British</td>\n",
       "            <td>female</td>\n",
       "        </tr>\n",
       "        <tr>\n",
       "            <td>1</td>\n",
       "            <td>41</td>\n",
       "            <td>8</td>\n",
       "            <td>None</td>\n",
       "            <td>2018-10-09</td>\n",
       "            <td>41</td>\n",
       "            <td>Zara Mitchell</td>\n",
       "            <td>Great Britan</td>\n",
       "            <td>female</td>\n",
       "            <td>1994-07-08</td>\n",
       "            <td>2017-06-12</td>\n",
       "            <td>160</td>\n",
       "            <td>8</td>\n",
       "            <td>107</td>\n",
       "            <td>107</td>\n",
       "            <td>Patrick Swayze</td>\n",
       "            <td>1952.0</td>\n",
       "            <td>USA</td>\n",
       "            <td>male</td>\n",
       "        </tr>\n",
       "        <tr>\n",
       "            <td>2</td>\n",
       "            <td>10</td>\n",
       "            <td>29</td>\n",
       "            <td>10.0</td>\n",
       "            <td>2017-03-01</td>\n",
       "            <td>10</td>\n",
       "            <td>Arnout Veenhuis</td>\n",
       "            <td>Belgium</td>\n",
       "            <td>male</td>\n",
       "            <td>1984-07-26</td>\n",
       "            <td>2017-01-28</td>\n",
       "            <td>5</td>\n",
       "            <td>29</td>\n",
       "            <td>3</td>\n",
       "            <td>3</td>\n",
       "            <td>Al Pacino</td>\n",
       "            <td>1940.0</td>\n",
       "            <td>USA</td>\n",
       "            <td>male</td>\n",
       "        </tr>\n",
       "    </tbody>\n",
       "</table>"
      ],
      "text/plain": [
       "[(1, 41, 8, None, '2018-10-09', 41, 'Zara Mitchell', 'Great Britan', 'female', '1994-07-08', '2017-06-12', 28, 8, 23, 23, 'Charlize Theron', 1975.0, 'South Africa', 'female'),\n",
       " (1, 41, 8, None, '2018-10-09', 41, 'Zara Mitchell', 'Great Britan', 'female', '1994-07-08', '2017-06-12', 152, 8, 103, 103, 'Natasha Richardson', 1963.0, 'British', 'female'),\n",
       " (1, 41, 8, None, '2018-10-09', 41, 'Zara Mitchell', 'Great Britan', 'female', '1994-07-08', '2017-06-12', 160, 8, 107, 107, 'Patrick Swayze', 1952.0, 'USA', 'male'),\n",
       " (2, 10, 29, 10.0, '2017-03-01', 10, 'Arnout Veenhuis', 'Belgium', 'male', '1984-07-26', '2017-01-28', 5, 29, 3, 3, 'Al Pacino', 1940.0, 'USA', 'male')]"
      ]
     },
     "execution_count": 32,
     "metadata": {},
     "output_type": "execute_result"
    }
   ],
   "source": [
    "%%sql\n",
    "SELECT *\n",
    "FROM renting as r\n",
    "LEFT JOIN customers AS c         -- Augment table renting with information about customers\n",
    "ON r.customer_id = c.customer_id \n",
    "LEFT JOIN actsin as ai           -- Join the table renting with the table actsin\n",
    "ON r.movie_id = ai.movie_id\n",
    "LEFT JOIN actors as a            -- Augment table renting with information about actors\n",
    "ON ai.actor_id = a.actor_id limit 4;"
   ]
  },
  {
   "cell_type": "code",
   "execution_count": 34,
   "metadata": {},
   "outputs": [
    {
     "name": "stdout",
     "output_type": "stream",
     "text": [
      " * sqlite:///myfile.db\n",
      "Done.\n"
     ]
    },
    {
     "data": {
      "text/html": [
       "<table>\n",
       "    <thead>\n",
       "        <tr>\n",
       "            <th>name</th>\n",
       "            <th>gender</th>\n",
       "            <th>number_views</th>\n",
       "            <th>avg_rating</th>\n",
       "        </tr>\n",
       "    </thead>\n",
       "    <tbody>\n",
       "        <tr>\n",
       "            <td>Tommy Lee Jones</td>\n",
       "            <td>female</td>\n",
       "            <td>6</td>\n",
       "            <td>10.0</td>\n",
       "        </tr>\n",
       "        <tr>\n",
       "            <td>Josh Brolin</td>\n",
       "            <td>female</td>\n",
       "            <td>6</td>\n",
       "            <td>10.0</td>\n",
       "        </tr>\n",
       "        <tr>\n",
       "            <td>Javier Bardem</td>\n",
       "            <td>female</td>\n",
       "            <td>6</td>\n",
       "            <td>10.0</td>\n",
       "        </tr>\n",
       "        <tr>\n",
       "            <td>Leonardo DiCaprio</td>\n",
       "            <td>female</td>\n",
       "            <td>8</td>\n",
       "            <td>9.333333333333334</td>\n",
       "        </tr>\n",
       "        <tr>\n",
       "            <td>Christoph Waltz</td>\n",
       "            <td>female</td>\n",
       "            <td>8</td>\n",
       "            <td>9.333333333333334</td>\n",
       "        </tr>\n",
       "    </tbody>\n",
       "</table>"
      ],
      "text/plain": [
       "[('Tommy Lee Jones', 'female', 6, 10.0),\n",
       " ('Josh Brolin', 'female', 6, 10.0),\n",
       " ('Javier Bardem', 'female', 6, 10.0),\n",
       " ('Leonardo DiCaprio', 'female', 8, 9.333333333333334),\n",
       " ('Christoph Waltz', 'female', 8, 9.333333333333334)]"
      ]
     },
     "execution_count": 34,
     "metadata": {},
     "output_type": "execute_result"
    }
   ],
   "source": [
    "%%sql\n",
    "SELECT a.name,  c.gender,\n",
    "       COUNT(*) AS number_views, \n",
    "       AVG(r.rating) AS avg_rating\n",
    "FROM renting as r\n",
    "LEFT JOIN customers AS c\n",
    "ON r.customer_id = c.customer_id\n",
    "LEFT JOIN actsin as ai\n",
    "ON r.movie_id = ai.movie_id\n",
    "LEFT JOIN actors as a\n",
    "ON ai.actor_id = a.actor_id\n",
    "\n",
    "GROUP BY a.name, c.gender -- For each actor, separately for male and female customers\n",
    "HAVING AVG(r.rating) IS NOT NULL \n",
    "  AND COUNT(*) > 5 -- Report only actors with more than 5 movie rentals\n",
    "ORDER BY avg_rating DESC, number_views DESC limit 5; -- Order by average rating in descending order"
   ]
  },
  {
   "cell_type": "code",
   "execution_count": 35,
   "metadata": {},
   "outputs": [
    {
     "name": "stdout",
     "output_type": "stream",
     "text": [
      " * sqlite:///myfile.db\n",
      "Done.\n"
     ]
    },
    {
     "data": {
      "text/html": [
       "<table>\n",
       "    <thead>\n",
       "        <tr>\n",
       "            <th>name</th>\n",
       "            <th>gender</th>\n",
       "            <th>number_views</th>\n",
       "            <th>avg_rating</th>\n",
       "        </tr>\n",
       "    </thead>\n",
       "    <tbody>\n",
       "        <tr>\n",
       "            <td>Catherine Keener</td>\n",
       "            <td>female</td>\n",
       "            <td>6</td>\n",
       "            <td>8.0</td>\n",
       "        </tr>\n",
       "        <tr>\n",
       "            <td>Rupert Grint</td>\n",
       "            <td>male</td>\n",
       "            <td>7</td>\n",
       "            <td>7.6</td>\n",
       "        </tr>\n",
       "        <tr>\n",
       "            <td>Emma Watson</td>\n",
       "            <td>male</td>\n",
       "            <td>7</td>\n",
       "            <td>7.6</td>\n",
       "        </tr>\n",
       "        <tr>\n",
       "            <td>Daniel Radcliffe</td>\n",
       "            <td>male</td>\n",
       "            <td>7</td>\n",
       "            <td>7.6</td>\n",
       "        </tr>\n",
       "    </tbody>\n",
       "</table>"
      ],
      "text/plain": [
       "[('Catherine Keener', 'female', 6, 8.0),\n",
       " ('Rupert Grint', 'male', 7, 7.6),\n",
       " ('Emma Watson', 'male', 7, 7.6),\n",
       " ('Daniel Radcliffe', 'male', 7, 7.6)]"
      ]
     },
     "execution_count": 35,
     "metadata": {},
     "output_type": "execute_result"
    }
   ],
   "source": [
    "%%sql\n",
    "SELECT a.name,  c.gender,\n",
    "       COUNT(*) AS number_views, \n",
    "       AVG(r.rating) AS avg_rating\n",
    "FROM renting as r\n",
    "LEFT JOIN customers AS c\n",
    "ON r.customer_id = c.customer_id\n",
    "LEFT JOIN actsin as ai\n",
    "ON r.movie_id = ai.movie_id\n",
    "LEFT JOIN actors as a\n",
    "ON ai.actor_id = a.actor_id\n",
    "where c.country = 'Spain'  -- Select only customers from Spain\n",
    "GROUP BY a.name, c.gender\n",
    "HAVING AVG(r.rating) IS NOT NULL \n",
    "  AND COUNT(*) > 5 \n",
    "ORDER BY avg_rating DESC, number_views DESC;"
   ]
  },
  {
   "cell_type": "code",
   "execution_count": 39,
   "metadata": {},
   "outputs": [
    {
     "name": "stdout",
     "output_type": "stream",
     "text": [
      " * sqlite:///myfile.db\n",
      "Done.\n"
     ]
    },
    {
     "data": {
      "text/html": [
       "<table>\n",
       "    <thead>\n",
       "        <tr>\n",
       "            <th>renting_id</th>\n",
       "            <th>customer_id</th>\n",
       "            <th>movie_id</th>\n",
       "            <th>rating</th>\n",
       "            <th>date_renting</th>\n",
       "            <th>customer_id_1</th>\n",
       "            <th>name</th>\n",
       "            <th>country</th>\n",
       "            <th>gender</th>\n",
       "            <th>date_of_birth</th>\n",
       "            <th>date_account_start</th>\n",
       "            <th>movie_id_1</th>\n",
       "            <th>title</th>\n",
       "            <th>genre</th>\n",
       "            <th>runtime</th>\n",
       "            <th>year_of_releas</th>\n",
       "            <th>renting_price</th>\n",
       "        </tr>\n",
       "    </thead>\n",
       "    <tbody>\n",
       "        <tr>\n",
       "            <td>5</td>\n",
       "            <td>104</td>\n",
       "            <td>15</td>\n",
       "            <td>7.0</td>\n",
       "            <td>2019-03-18</td>\n",
       "            <td>104</td>\n",
       "            <td>Dimitri Zambrano Morales</td>\n",
       "            <td>Spain</td>\n",
       "            <td>male</td>\n",
       "            <td>1992-06-21</td>\n",
       "            <td>2017-04-12</td>\n",
       "            <td>15</td>\n",
       "            <td>Something&#x27;s Gotta Give</td>\n",
       "            <td>Comedy</td>\n",
       "            <td>128</td>\n",
       "            <td>2003</td>\n",
       "            <td>1.69</td>\n",
       "        </tr>\n",
       "        <tr>\n",
       "            <td>17</td>\n",
       "            <td>22</td>\n",
       "            <td>46</td>\n",
       "            <td>10.0</td>\n",
       "            <td>2019-02-16</td>\n",
       "            <td>22</td>\n",
       "            <td>Delit Perillard</td>\n",
       "            <td>France</td>\n",
       "            <td>female</td>\n",
       "            <td>1970-01-10</td>\n",
       "            <td>2018-11-18</td>\n",
       "            <td>46</td>\n",
       "            <td>Sleepwalking</td>\n",
       "            <td>Drama</td>\n",
       "            <td>101</td>\n",
       "            <td>2008</td>\n",
       "            <td>1.79</td>\n",
       "        </tr>\n",
       "        <tr>\n",
       "            <td>18</td>\n",
       "            <td>36</td>\n",
       "            <td>39</td>\n",
       "            <td>10.0</td>\n",
       "            <td>2019-03-20</td>\n",
       "            <td>36</td>\n",
       "            <td>Jacob Hope</td>\n",
       "            <td>Great Britan</td>\n",
       "            <td>male</td>\n",
       "            <td>1979-08-27</td>\n",
       "            <td>2018-06-24</td>\n",
       "            <td>39</td>\n",
       "            <td>I&#x27;m Not There</td>\n",
       "            <td>Drama</td>\n",
       "            <td>135</td>\n",
       "            <td>2007</td>\n",
       "            <td>1.79</td>\n",
       "        </tr>\n",
       "        <tr>\n",
       "            <td>27</td>\n",
       "            <td>7</td>\n",
       "            <td>36</td>\n",
       "            <td>None</td>\n",
       "            <td>2019-03-14</td>\n",
       "            <td>7</td>\n",
       "            <td>Annelous Sneep</td>\n",
       "            <td>Belgium</td>\n",
       "            <td>female</td>\n",
       "            <td>1993-11-14</td>\n",
       "            <td>2018-05-12</td>\n",
       "            <td>36</td>\n",
       "            <td>World Trade Center</td>\n",
       "            <td>Drama</td>\n",
       "            <td>129</td>\n",
       "            <td>2006</td>\n",
       "            <td>1.59</td>\n",
       "        </tr>\n",
       "    </tbody>\n",
       "</table>"
      ],
      "text/plain": [
       "[(5, 104, 15, 7.0, '2019-03-18', 104, 'Dimitri Zambrano Morales', 'Spain', 'male', '1992-06-21', '2017-04-12', 15, \"Something's Gotta Give\", 'Comedy', 128, 2003, 1.69),\n",
       " (17, 22, 46, 10.0, '2019-02-16', 22, 'Delit Perillard', 'France', 'female', '1970-01-10', '2018-11-18', 46, 'Sleepwalking', 'Drama', 101, 2008, 1.79),\n",
       " (18, 36, 39, 10.0, '2019-03-20', 36, 'Jacob Hope', 'Great Britan', 'male', '1979-08-27', '2018-06-24', 39, \"I'm Not There\", 'Drama', 135, 2007, 1.79),\n",
       " (27, 7, 36, None, '2019-03-14', 7, 'Annelous Sneep', 'Belgium', 'female', '1993-11-14', '2018-05-12', 36, 'World Trade Center', 'Drama', 129, 2006, 1.59)]"
      ]
     },
     "execution_count": 39,
     "metadata": {},
     "output_type": "execute_result"
    }
   ],
   "source": [
    "%%sql\n",
    "SELECT *\n",
    "FROM renting AS r -- Augment the table renting with information about customers\n",
    "LEFT JOIN customers AS c\n",
    "ON c.customer_id = r.customer_id\n",
    "LEFT JOIN movies AS m -- Augment the table renting with information about movies\n",
    "ON r.movie_id = m.movie_id\n",
    "WHERE date_renting >= '2019-01-01' limit 4; --Select only records about rentals since beginning of 2019"
   ]
  },
  {
   "cell_type": "code",
   "execution_count": 40,
   "metadata": {},
   "outputs": [
    {
     "name": "stdout",
     "output_type": "stream",
     "text": [
      " * sqlite:///myfile.db\n",
      "Done.\n"
     ]
    },
    {
     "data": {
      "text/html": [
       "<table>\n",
       "    <thead>\n",
       "        <tr>\n",
       "            <th>country</th>\n",
       "            <th>number_renting</th>\n",
       "            <th>average_rating</th>\n",
       "            <th>revenue</th>\n",
       "        </tr>\n",
       "    </thead>\n",
       "    <tbody>\n",
       "        <tr>\n",
       "            <td>None</td>\n",
       "            <td>1</td>\n",
       "            <td>10.0</td>\n",
       "            <td>1.79</td>\n",
       "        </tr>\n",
       "        <tr>\n",
       "            <td>Austria</td>\n",
       "            <td>4</td>\n",
       "            <td>6.0</td>\n",
       "            <td>8.16</td>\n",
       "        </tr>\n",
       "        <tr>\n",
       "            <td>Belgium</td>\n",
       "            <td>7</td>\n",
       "            <td>9.0</td>\n",
       "            <td>13.129999999999999</td>\n",
       "        </tr>\n",
       "        <tr>\n",
       "            <td>Denmark</td>\n",
       "            <td>7</td>\n",
       "            <td>7.714285714285714</td>\n",
       "            <td>14.630000000000003</td>\n",
       "        </tr>\n",
       "        <tr>\n",
       "            <td>France</td>\n",
       "            <td>23</td>\n",
       "            <td>7.533333333333333</td>\n",
       "            <td>51.07000000000001</td>\n",
       "        </tr>\n",
       "        <tr>\n",
       "            <td>Great Britan</td>\n",
       "            <td>9</td>\n",
       "            <td>7.2</td>\n",
       "            <td>17.91</td>\n",
       "        </tr>\n",
       "        <tr>\n",
       "            <td>Hungary</td>\n",
       "            <td>11</td>\n",
       "            <td>7.166666666666667</td>\n",
       "            <td>25.89</td>\n",
       "        </tr>\n",
       "        <tr>\n",
       "            <td>Italy</td>\n",
       "            <td>30</td>\n",
       "            <td>8.235294117647058</td>\n",
       "            <td>69.9</td>\n",
       "        </tr>\n",
       "        <tr>\n",
       "            <td>Poland</td>\n",
       "            <td>21</td>\n",
       "            <td>8.125</td>\n",
       "            <td>49.29</td>\n",
       "        </tr>\n",
       "        <tr>\n",
       "            <td>Slovenia</td>\n",
       "            <td>14</td>\n",
       "            <td>8.0</td>\n",
       "            <td>30.259999999999998</td>\n",
       "        </tr>\n",
       "        <tr>\n",
       "            <td>Spain</td>\n",
       "            <td>26</td>\n",
       "            <td>8.076923076923077</td>\n",
       "            <td>57.94000000000001</td>\n",
       "        </tr>\n",
       "        <tr>\n",
       "            <td>USA</td>\n",
       "            <td>6</td>\n",
       "            <td>9.0</td>\n",
       "            <td>14.540000000000001</td>\n",
       "        </tr>\n",
       "    </tbody>\n",
       "</table>"
      ],
      "text/plain": [
       "[(None, 1, 10.0, 1.79),\n",
       " ('Austria', 4, 6.0, 8.16),\n",
       " ('Belgium', 7, 9.0, 13.129999999999999),\n",
       " ('Denmark', 7, 7.714285714285714, 14.630000000000003),\n",
       " ('France', 23, 7.533333333333333, 51.07000000000001),\n",
       " ('Great Britan', 9, 7.2, 17.91),\n",
       " ('Hungary', 11, 7.166666666666667, 25.89),\n",
       " ('Italy', 30, 8.235294117647058, 69.9),\n",
       " ('Poland', 21, 8.125, 49.29),\n",
       " ('Slovenia', 14, 8.0, 30.259999999999998),\n",
       " ('Spain', 26, 8.076923076923077, 57.94000000000001),\n",
       " ('USA', 6, 9.0, 14.540000000000001)]"
      ]
     },
     "execution_count": 40,
     "metadata": {},
     "output_type": "execute_result"
    }
   ],
   "source": [
    "%%sql\n",
    "SELECT \n",
    "\tc.country,                      -- For each country report\n",
    "\tCOUNT(*) AS number_renting,   -- The number of movie rentals\n",
    "\tAVG(r.rating) AS average_rating,  -- The average rating\n",
    "\tSUM(m.renting_price) AS revenue  -- The revenue from movie rentals\n",
    "FROM renting AS r\n",
    "LEFT JOIN customers AS c\n",
    "ON c.customer_id = r.customer_id\n",
    "LEFT JOIN movies AS m\n",
    "ON m.movie_id = r.movie_id\n",
    "WHERE date_renting >= '2019-01-01'\n",
    "GROUP BY c.country;"
   ]
  },
  {
   "cell_type": "code",
   "execution_count": null,
   "metadata": {},
   "outputs": [],
   "source": []
  }
 ],
 "metadata": {
  "kernelspec": {
   "display_name": "Python 3",
   "language": "python",
   "name": "python3"
  },
  "language_info": {
   "codemirror_mode": {
    "name": "ipython",
    "version": 3
   },
   "file_extension": ".py",
   "mimetype": "text/x-python",
   "name": "python",
   "nbconvert_exporter": "python",
   "pygments_lexer": "ipython3",
   "version": "3.11.6"
  }
 },
 "nbformat": 4,
 "nbformat_minor": 2
}
