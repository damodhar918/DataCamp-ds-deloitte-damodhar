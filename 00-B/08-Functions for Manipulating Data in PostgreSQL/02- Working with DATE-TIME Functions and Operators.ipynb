{
 "cells": [
  {
   "cell_type": "code",
   "execution_count": null,
   "metadata": {},
   "outputs": [],
   "source": [
    "import sqlite3\n",
    "import pandas as pd\n",
    "import numpy as np\n",
    "import matplotlib.pyplot as plt\n",
    "\n",
    "conn = sqlite3.connect('./example.db')\n",
    "def rsq(sql):\n",
    "    df = pd.read_sql(sql, conn)\n",
    "    return df"
   ]
  }
 ],
 "metadata": {
  "language_info": {
   "name": "python"
  }
 },
 "nbformat": 4,
 "nbformat_minor": 2
}
