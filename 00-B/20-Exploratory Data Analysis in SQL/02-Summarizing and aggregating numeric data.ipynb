{
 "cells": [
  {
   "cell_type": "code",
   "execution_count": 4,
   "metadata": {},
   "outputs": [],
   "source": [
    "%load_ext sql"
   ]
  },
  {
   "cell_type": "code",
   "execution_count": 5,
   "metadata": {},
   "outputs": [],
   "source": [
    "\n",
    "%sql sqlite:///myfile.db"
   ]
  },
  {
   "cell_type": "code",
   "execution_count": 6,
   "metadata": {},
   "outputs": [
    {
     "name": "stdout",
     "output_type": "stream",
     "text": [
      " * sqlite:///myfile.db\n",
      "Done.\n"
     ]
    },
    {
     "data": {
      "text/html": [
       "<table>\n",
       "    <thead>\n",
       "        <tr>\n",
       "            <th>sector</th>\n",
       "            <th>avg_rev_employee</th>\n",
       "        </tr>\n",
       "    </thead>\n",
       "    <tbody>\n",
       "        <tr>\n",
       "            <td>Hotels, Restaurants &amp; Leisure</td>\n",
       "            <td>0.09498718151056815</td>\n",
       "        </tr>\n",
       "        <tr>\n",
       "            <td>Apparel</td>\n",
       "            <td>0.2786594297668007</td>\n",
       "        </tr>\n",
       "        <tr>\n",
       "            <td>Food &amp; Drug Stores</td>\n",
       "            <td>0.307999504100602</td>\n",
       "        </tr>\n",
       "        <tr>\n",
       "            <td>Motor Vehicles &amp; Parts</td>\n",
       "            <td>0.34252712424659526</td>\n",
       "        </tr>\n",
       "    </tbody>\n",
       "</table>"
      ],
      "text/plain": [
       "[('Hotels, Restaurants & Leisure', 0.09498718151056815),\n",
       " ('Apparel', 0.2786594297668007),\n",
       " ('Food & Drug Stores', 0.307999504100602),\n",
       " ('Motor Vehicles & Parts', 0.34252712424659526)]"
      ]
     },
     "execution_count": 6,
     "metadata": {},
     "output_type": "execute_result"
    }
   ],
   "source": [
    "%%sql\n",
    "\n",
    "-- Select average revenue per employee by sector\n",
    "SELECT sector, \n",
    "       avg(revenues/employees) AS avg_rev_employee\n",
    "  FROM Fortune500\n",
    " GROUP BY sector\n",
    " -- Use the column alias to order the results\n",
    " ORDER BY avg_rev_employee limit 4;"
   ]
  },
  {
   "cell_type": "code",
   "execution_count": 7,
   "metadata": {},
   "outputs": [
    {
     "name": "stdout",
     "output_type": "stream",
     "text": [
      " * sqlite:///myfile.db\n",
      "Done.\n"
     ]
    },
    {
     "data": {
      "text/html": [
       "<table>\n",
       "    <thead>\n",
       "        <tr>\n",
       "            <th>computed_pct</th>\n",
       "            <th>unanswered_pct</th>\n",
       "        </tr>\n",
       "    </thead>\n",
       "    <tbody>\n",
       "        <tr>\n",
       "            <td>0</td>\n",
       "            <td>0.001751857</td>\n",
       "        </tr>\n",
       "        <tr>\n",
       "            <td>0</td>\n",
       "            <td>0.000116972</td>\n",
       "        </tr>\n",
       "        <tr>\n",
       "            <td>0</td>\n",
       "            <td>5.8e-05</td>\n",
       "        </tr>\n",
       "        <tr>\n",
       "            <td>0</td>\n",
       "            <td>1.61e-05</td>\n",
       "        </tr>\n",
       "        <tr>\n",
       "            <td>0</td>\n",
       "            <td>0.000125312</td>\n",
       "        </tr>\n",
       "        <tr>\n",
       "            <td>0</td>\n",
       "            <td>0.012886449</td>\n",
       "        </tr>\n",
       "        <tr>\n",
       "            <td>0</td>\n",
       "            <td>0.007619406</td>\n",
       "        </tr>\n",
       "        <tr>\n",
       "            <td>0</td>\n",
       "            <td>1.23e-05</td>\n",
       "        </tr>\n",
       "        <tr>\n",
       "            <td>0</td>\n",
       "            <td>8.11e-05</td>\n",
       "        </tr>\n",
       "        <tr>\n",
       "            <td>0</td>\n",
       "            <td>0.000243743</td>\n",
       "        </tr>\n",
       "    </tbody>\n",
       "</table>"
      ],
      "text/plain": [
       "[(0, 0.001751857),\n",
       " (0, 0.000116972),\n",
       " (0, 5.8e-05),\n",
       " (0, 1.61e-05),\n",
       " (0, 0.000125312),\n",
       " (0, 0.012886449),\n",
       " (0, 0.007619406),\n",
       " (0, 1.23e-05),\n",
       " (0, 8.11e-05),\n",
       " (0, 0.000243743)]"
      ]
     },
     "execution_count": 7,
     "metadata": {},
     "output_type": "execute_result"
    }
   ],
   "source": [
    "%%sql\n",
    "-- Divide unanswered_count by question_count\n",
    "SELECT unanswered_count/question_count AS computed_pct, \n",
    "       -- What are you comparing the above quantity to?\n",
    "       unanswered_pct\n",
    "  FROM stackoverflow\n",
    " -- Select rows where question_count is not 0\n",
    " WHERE question_count != 0\n",
    " LIMIT 10;"
   ]
  },
  {
   "cell_type": "code",
   "execution_count": 18,
   "metadata": {},
   "outputs": [
    {
     "name": "stdout",
     "output_type": "stream",
     "text": [
      " * sqlite:///myfile.db\n",
      "Done.\n"
     ]
    },
    {
     "data": {
      "text/html": [
       "<table>\n",
       "    <thead>\n",
       "        <tr>\n",
       "            <th>min(profits)</th>\n",
       "            <th>max(profits)</th>\n",
       "            <th>avg(profits)<br>       --,       stddev(profits)</th>\n",
       "        </tr>\n",
       "    </thead>\n",
       "    <tbody>\n",
       "        <tr>\n",
       "            <td>-6177.0</td>\n",
       "            <td>45687.0</td>\n",
       "            <td>1783.4753507014022</td>\n",
       "        </tr>\n",
       "    </tbody>\n",
       "</table>"
      ],
      "text/plain": [
       "[(-6177.0, 45687.0, 1783.4753507014022)]"
      ]
     },
     "execution_count": 18,
     "metadata": {},
     "output_type": "execute_result"
    }
   ],
   "source": [
    "%%sql\n",
    "-- Select min, avg, max, and stddev of fortune500 profits\n",
    "SELECT min(profits),\n",
    "       max(profits),\n",
    "       avg(profits)\n",
    "       --,       stddev(profits)\n",
    "  FROM fortune500;"
   ]
  },
  {
   "cell_type": "code",
   "execution_count": 17,
   "metadata": {},
   "outputs": [
    {
     "name": "stdout",
     "output_type": "stream",
     "text": [
      " * sqlite:///myfile.db\n",
      "Done.\n"
     ]
    },
    {
     "data": {
      "text/html": [
       "<table>\n",
       "    <thead>\n",
       "        <tr>\n",
       "            <th>sector</th>\n",
       "            <th>min(profits)</th>\n",
       "            <th>avg(profits)</th>\n",
       "            <th>max(profits)</th>\n",
       "        </tr>\n",
       "    </thead>\n",
       "    <tbody>\n",
       "        <tr>\n",
       "            <td>Energy</td>\n",
       "            <td>-6177.0</td>\n",
       "            <td>10.444642857142838</td>\n",
       "            <td>7840.0</td>\n",
       "        </tr>\n",
       "        <tr>\n",
       "            <td>Materials</td>\n",
       "            <td>-440.0</td>\n",
       "            <td>272.4684210526316</td>\n",
       "            <td>1027.0</td>\n",
       "        </tr>\n",
       "        <tr>\n",
       "            <td>Engineering &amp; Construction</td>\n",
       "            <td>15.0</td>\n",
       "            <td>390.1692307692308</td>\n",
       "            <td>911.8</td>\n",
       "        </tr>\n",
       "        <tr>\n",
       "            <td>Wholesalers</td>\n",
       "            <td>-199.4</td>\n",
       "            <td>391.2793103448276</td>\n",
       "            <td>2258.0</td>\n",
       "        </tr>\n",
       "        <tr>\n",
       "            <td>Retailing</td>\n",
       "            <td>-2221.0</td>\n",
       "            <td>991.7851063829781</td>\n",
       "            <td>13643.0</td>\n",
       "        </tr>\n",
       "    </tbody>\n",
       "</table>"
      ],
      "text/plain": [
       "[('Energy', -6177.0, 10.444642857142838, 7840.0),\n",
       " ('Materials', -440.0, 272.4684210526316, 1027.0),\n",
       " ('Engineering & Construction', 15.0, 390.1692307692308, 911.8),\n",
       " ('Wholesalers', -199.4, 391.2793103448276, 2258.0),\n",
       " ('Retailing', -2221.0, 991.7851063829781, 13643.0)]"
      ]
     },
     "execution_count": 17,
     "metadata": {},
     "output_type": "execute_result"
    }
   ],
   "source": [
    "%%sql\n",
    "-- Select sector and summary measures of fortune500 profits\n",
    "-- Add missing comma after avg(profits)\n",
    "SELECT sector,\n",
    "  min(profits),\n",
    "  avg(profits),\n",
    "  max(profits)\n",
    "FROM fortune500\n",
    "GROUP BY sector\n",
    "ORDER BY avg(profits) limit 5;"
   ]
  },
  {
   "cell_type": "code",
   "execution_count": 19,
   "metadata": {},
   "outputs": [
    {
     "name": "stdout",
     "output_type": "stream",
     "text": [
      " * sqlite:///myfile.db\n",
      "Done.\n"
     ]
    },
    {
     "data": {
      "text/html": [
       "<table>\n",
       "    <thead>\n",
       "        <tr>\n",
       "            <th>MIN(max_question_count)</th>\n",
       "            <th>MAX(max_question_count)</th>\n",
       "            <th>AVG(max_question_count)<br>  -- Subquery to compute max of question_count by tag</th>\n",
       "        </tr>\n",
       "    </thead>\n",
       "    <tbody>\n",
       "        <tr>\n",
       "            <td>30</td>\n",
       "            <td>1138658</td>\n",
       "            <td>52652.43396226415</td>\n",
       "        </tr>\n",
       "    </tbody>\n",
       "</table>"
      ],
      "text/plain": [
       "[(30, 1138658, 52652.43396226415)]"
      ]
     },
     "execution_count": 19,
     "metadata": {},
     "output_type": "execute_result"
    }
   ],
   "source": [
    "%%sql\n",
    "-- Compute standard deviation of maximum values\n",
    "SELECT --STDDEV(max_question_count),\n",
    "       -- min\n",
    "       MIN(max_question_count),\n",
    "       -- max\n",
    "       MAX(max_question_count),\n",
    "       -- avg\n",
    "       AVG(max_question_count)\n",
    "  -- Subquery to compute max of question_count by tag\n",
    "  FROM (SELECT tag,\n",
    "               MAX(question_count) AS max_question_count\n",
    "          FROM stackoverflow\n",
    "         -- Compute max by tag\n",
    "         GROUP BY tag) AS max_results; -- alias for subquery"
   ]
  },
  {
   "cell_type": "code",
   "execution_count": 20,
   "metadata": {},
   "outputs": [
    {
     "name": "stdout",
     "output_type": "stream",
     "text": [
      " * sqlite:///myfile.db\n",
      "(sqlite3.OperationalError) wrong number of arguments to function trunc()\n",
      "[SQL: -- Truncate employees\n",
      "SELECT trunc(employees, -5) AS employee_bin,\n",
      "       -- Count number of companies with each truncated value\n",
      "       count(*)\n",
      "  FROM fortune500\n",
      " -- Use alias to group\n",
      " GROUP BY employee_bin\n",
      " -- Use alias to order\n",
      " ORDER BY employee_bin;]\n",
      "(Background on this error at: https://sqlalche.me/e/20/e3q8)\n"
     ]
    }
   ],
   "source": [
    "%%sql\n",
    "-- Truncate employees\n",
    "SELECT trunc(employees, -5) AS employee_bin,\n",
    "       -- Count number of companies with each truncated value\n",
    "       count(*)\n",
    "  FROM fortune500\n",
    " -- Use alias to group\n",
    " GROUP BY employee_bin\n",
    " -- Use alias to order\n",
    " ORDER BY employee_bin;"
   ]
  },
  {
   "cell_type": "code",
   "execution_count": 21,
   "metadata": {},
   "outputs": [
    {
     "name": "stdout",
     "output_type": "stream",
     "text": [
      " * sqlite:///myfile.db\n",
      "Done.\n"
     ]
    },
    {
     "data": {
      "text/html": [
       "<table>\n",
       "    <thead>\n",
       "        <tr>\n",
       "            <th>employee_bin</th>\n",
       "            <th>count(*)</th>\n",
       "        </tr>\n",
       "    </thead>\n",
       "    <tbody>\n",
       "        <tr>\n",
       "            <td>0</td>\n",
       "            <td>433</td>\n",
       "        </tr>\n",
       "        <tr>\n",
       "            <td>100000</td>\n",
       "            <td>35</td>\n",
       "        </tr>\n",
       "        <tr>\n",
       "            <td>200000</td>\n",
       "            <td>20</td>\n",
       "        </tr>\n",
       "        <tr>\n",
       "            <td>300000</td>\n",
       "            <td>7</td>\n",
       "        </tr>\n",
       "        <tr>\n",
       "            <td>400000</td>\n",
       "            <td>4</td>\n",
       "        </tr>\n",
       "        <tr>\n",
       "            <td>2300000</td>\n",
       "            <td>1</td>\n",
       "        </tr>\n",
       "    </tbody>\n",
       "</table>"
      ],
      "text/plain": [
       "[(0, 433), (100000, 35), (200000, 20), (300000, 7), (400000, 4), (2300000, 1)]"
      ]
     },
     "execution_count": 21,
     "metadata": {},
     "output_type": "execute_result"
    }
   ],
   "source": [
    "%%sql\n",
    "-- Truncate employees\n",
    "SELECT cast(employees / 100000 AS integer) * 100000 AS employee_bin,\n",
    "       -- Count number of companies with each truncated value\n",
    "       count(*)\n",
    "  FROM fortune500\n",
    " -- Use alias to group\n",
    " GROUP BY employee_bin\n",
    " -- Use alias to order\n",
    " ORDER BY employee_bin;"
   ]
  },
  {
   "cell_type": "code",
   "execution_count": 22,
   "metadata": {},
   "outputs": [
    {
     "name": "stdout",
     "output_type": "stream",
     "text": [
      " * sqlite:///myfile.db\n",
      "(sqlite3.OperationalError) wrong number of arguments to function trunc()\n",
      "[SQL: -- Truncate employees\n",
      "SELECT trunc(employees, -4) AS employee_bin,\n",
      "       -- Count number of companies with each truncated value\n",
      "       count(*)\n",
      "  FROM fortune500\n",
      " -- Limit to which companies?\n",
      " WHERE employees < 100000\n",
      " -- Use alias to group\n",
      " GROUP BY employee_bin\n",
      " -- Use alias to order\n",
      " ORDER BY employee_bin;]\n",
      "(Background on this error at: https://sqlalche.me/e/20/e3q8)\n"
     ]
    }
   ],
   "source": [
    "%%sql\n",
    "-- Truncate employees\n",
    "SELECT trunc(employees, -4) AS employee_bin,\n",
    "       -- Count number of companies with each truncated value\n",
    "       count(*)\n",
    "  FROM fortune500\n",
    " -- Limit to which companies?\n",
    " WHERE employees < 100000\n",
    " -- Use alias to group\n",
    " GROUP BY employee_bin\n",
    " -- Use alias to order\n",
    " ORDER BY employee_bin;"
   ]
  },
  {
   "cell_type": "code",
   "execution_count": 23,
   "metadata": {},
   "outputs": [
    {
     "name": "stdout",
     "output_type": "stream",
     "text": [
      " * sqlite:///myfile.db\n",
      "Done.\n"
     ]
    },
    {
     "data": {
      "text/html": [
       "<table>\n",
       "    <thead>\n",
       "        <tr>\n",
       "            <th>employee_bin</th>\n",
       "            <th>count(*)</th>\n",
       "        </tr>\n",
       "    </thead>\n",
       "    <tbody>\n",
       "        <tr>\n",
       "            <td>0</td>\n",
       "            <td>102</td>\n",
       "        </tr>\n",
       "        <tr>\n",
       "            <td>10000</td>\n",
       "            <td>108</td>\n",
       "        </tr>\n",
       "        <tr>\n",
       "            <td>20000</td>\n",
       "            <td>63</td>\n",
       "        </tr>\n",
       "        <tr>\n",
       "            <td>30000</td>\n",
       "            <td>42</td>\n",
       "        </tr>\n",
       "        <tr>\n",
       "            <td>40000</td>\n",
       "            <td>35</td>\n",
       "        </tr>\n",
       "        <tr>\n",
       "            <td>50000</td>\n",
       "            <td>31</td>\n",
       "        </tr>\n",
       "        <tr>\n",
       "            <td>60000</td>\n",
       "            <td>18</td>\n",
       "        </tr>\n",
       "        <tr>\n",
       "            <td>70000</td>\n",
       "            <td>18</td>\n",
       "        </tr>\n",
       "        <tr>\n",
       "            <td>80000</td>\n",
       "            <td>6</td>\n",
       "        </tr>\n",
       "        <tr>\n",
       "            <td>90000</td>\n",
       "            <td>10</td>\n",
       "        </tr>\n",
       "    </tbody>\n",
       "</table>"
      ],
      "text/plain": [
       "[(0, 102),\n",
       " (10000, 108),\n",
       " (20000, 63),\n",
       " (30000, 42),\n",
       " (40000, 35),\n",
       " (50000, 31),\n",
       " (60000, 18),\n",
       " (70000, 18),\n",
       " (80000, 6),\n",
       " (90000, 10)]"
      ]
     },
     "execution_count": 23,
     "metadata": {},
     "output_type": "execute_result"
    }
   ],
   "source": [
    "%%sql\n",
    "-- Truncate employees\n",
    "SELECT CAST(employees/10000 AS INT)*10000 AS employee_bin,\n",
    "       -- Count number of companies with each truncated value\n",
    "       count(*)\n",
    "  FROM fortune500\n",
    " -- Limit to which companies?\n",
    " WHERE employees < 100000\n",
    " -- Use alias to group\n",
    " GROUP BY employee_bin\n",
    " -- Use alias to order\n",
    " ORDER BY employee_bin;"
   ]
  },
  {
   "cell_type": "code",
   "execution_count": 25,
   "metadata": {},
   "outputs": [
    {
     "name": "stdout",
     "output_type": "stream",
     "text": [
      " * sqlite:///myfile.db\n",
      "Done.\n"
     ]
    },
    {
     "data": {
      "text/html": [
       "<table>\n",
       "    <thead>\n",
       "        <tr>\n",
       "            <th>MIN(question_count)</th>\n",
       "            <th>MAX(question_count)<br>  -- From what table?</th>\n",
       "        </tr>\n",
       "    </thead>\n",
       "    <tbody>\n",
       "        <tr>\n",
       "            <td>2315</td>\n",
       "            <td>3072</td>\n",
       "        </tr>\n",
       "    </tbody>\n",
       "</table>"
      ],
      "text/plain": [
       "[(2315, 3072)]"
      ]
     },
     "execution_count": 25,
     "metadata": {},
     "output_type": "execute_result"
    }
   ],
   "source": [
    "%%sql\n",
    "-- Select the min and max of question_count\n",
    "SELECT MIN(question_count), \n",
    "       MAX(question_count)\n",
    "  -- From what table?\n",
    "  FROM stackoverflow\n",
    " -- For tag dropbox\n",
    " WHERE tag = 'dropbox';"
   ]
  },
  {
   "cell_type": "code",
   "execution_count": 26,
   "metadata": {},
   "outputs": [
    {
     "name": "stdout",
     "output_type": "stream",
     "text": [
      " * sqlite:///myfile.db\n",
      "(sqlite3.OperationalError) no such function: generate_series\n",
      "[SQL: -- Create lower and upper bounds of bins\n",
      "SELECT generate_series(2200, 3050, 50) AS lower,\n",
      "       generate_series(2250, 3100, 50) AS upper;]\n",
      "(Background on this error at: https://sqlalche.me/e/20/e3q8)\n"
     ]
    }
   ],
   "source": [
    "%%sql\n",
    "-- Create lower and upper bounds of bins\n",
    "SELECT generate_series(2200, 3050, 50) AS lower,\n",
    "       generate_series(2250, 3100, 50) AS upper;"
   ]
  },
  {
   "cell_type": "code",
   "execution_count": 28,
   "metadata": {},
   "outputs": [
    {
     "name": "stdout",
     "output_type": "stream",
     "text": [
      " * sqlite:///myfile.db\n",
      "(sqlite3.OperationalError) no such function: generate_series\n",
      "[SQL: -- Bins created in Step 2\n",
      "WITH bins AS (\n",
      "      SELECT generate_series(2200, 3050, 50) AS lower,\n",
      "             generate_series(2250, 3100, 50) AS upper),\n",
      "     -- Subset stackoverflow to just tag dropbox (Step 1)\n",
      "     dropbox AS (\n",
      "      SELECT question_count \n",
      "        FROM stackoverflow\n",
      "       WHERE tag='dropbox') \n",
      "-- Select columns for result\n",
      "-- What column are you counting to summarize?\n",
      "SELECT lower, upper, count(question_count) \n",
      "  FROM bins  -- Created above\n",
      "       -- Join to dropbox (created above), \n",
      "       -- keeping all rows from the bins table in the join\n",
      "       LEFT JOIN dropbox\n",
      "       -- Compare question_count to lower and upper\n",
      "         ON question_count >= lower \n",
      "        AND question_count < upper\n",
      " -- Group by lower and upper to count values in each bin\n",
      " GROUP BY lower, upper\n",
      " -- Order by lower to put bins in order\n",
      " ORDER BY lower;]\n",
      "(Background on this error at: https://sqlalche.me/e/20/e3q8)\n"
     ]
    }
   ],
   "source": [
    "%%sql\n",
    "-- Bins created in Step 2\n",
    "WITH bins AS (\n",
    "      SELECT generate_series(2200, 3050, 50) AS lower,\n",
    "             generate_series(2250, 3100, 50) AS upper),\n",
    "     -- Subset stackoverflow to just tag dropbox (Step 1)\n",
    "     dropbox AS (\n",
    "      SELECT question_count \n",
    "        FROM stackoverflow\n",
    "       WHERE tag='dropbox') \n",
    "-- Select columns for result\n",
    "-- What column are you counting to summarize?\n",
    "SELECT lower, upper, count(question_count) \n",
    "  FROM bins  -- Created above\n",
    "       -- Join to dropbox (created above), \n",
    "       -- keeping all rows from the bins table in the join\n",
    "       LEFT JOIN dropbox\n",
    "       -- Compare question_count to lower and upper\n",
    "         ON question_count >= lower \n",
    "        AND question_count < upper\n",
    " -- Group by lower and upper to count values in each bin\n",
    " GROUP BY lower, upper\n",
    " -- Order by lower to put bins in order\n",
    " ORDER BY lower;\n"
   ]
  },
  {
   "cell_type": "code",
   "execution_count": 29,
   "metadata": {},
   "outputs": [
    {
     "name": "stdout",
     "output_type": "stream",
     "text": [
      " * sqlite:///myfile.db\n",
      "Done.\n"
     ]
    },
    {
     "data": {
      "text/html": [
       "<table>\n",
       "    <thead>\n",
       "        <tr>\n",
       "            <th>lower</th>\n",
       "            <th>upper</th>\n",
       "            <th>count(question_count)</th>\n",
       "        </tr>\n",
       "    </thead>\n",
       "    <tbody>\n",
       "        <tr>\n",
       "            <td>2200</td>\n",
       "            <td>2250</td>\n",
       "            <td>0</td>\n",
       "        </tr>\n",
       "        <tr>\n",
       "            <td>2250</td>\n",
       "            <td>2300</td>\n",
       "            <td>0</td>\n",
       "        </tr>\n",
       "        <tr>\n",
       "            <td>2300</td>\n",
       "            <td>2350</td>\n",
       "            <td>22</td>\n",
       "        </tr>\n",
       "        <tr>\n",
       "            <td>2350</td>\n",
       "            <td>2400</td>\n",
       "            <td>39</td>\n",
       "        </tr>\n",
       "        <tr>\n",
       "            <td>2400</td>\n",
       "            <td>2450</td>\n",
       "            <td>54</td>\n",
       "        </tr>\n",
       "        <tr>\n",
       "            <td>2450</td>\n",
       "            <td>2500</td>\n",
       "            <td>53</td>\n",
       "        </tr>\n",
       "        <tr>\n",
       "            <td>2500</td>\n",
       "            <td>2550</td>\n",
       "            <td>45</td>\n",
       "        </tr>\n",
       "        <tr>\n",
       "            <td>2550</td>\n",
       "            <td>2600</td>\n",
       "            <td>41</td>\n",
       "        </tr>\n",
       "        <tr>\n",
       "            <td>2600</td>\n",
       "            <td>2650</td>\n",
       "            <td>46</td>\n",
       "        </tr>\n",
       "        <tr>\n",
       "            <td>2650</td>\n",
       "            <td>2700</td>\n",
       "            <td>57</td>\n",
       "        </tr>\n",
       "        <tr>\n",
       "            <td>2700</td>\n",
       "            <td>2750</td>\n",
       "            <td>44</td>\n",
       "        </tr>\n",
       "        <tr>\n",
       "            <td>2750</td>\n",
       "            <td>2800</td>\n",
       "            <td>50</td>\n",
       "        </tr>\n",
       "        <tr>\n",
       "            <td>2800</td>\n",
       "            <td>2850</td>\n",
       "            <td>62</td>\n",
       "        </tr>\n",
       "        <tr>\n",
       "            <td>2850</td>\n",
       "            <td>2900</td>\n",
       "            <td>61</td>\n",
       "        </tr>\n",
       "        <tr>\n",
       "            <td>2900</td>\n",
       "            <td>2950</td>\n",
       "            <td>108</td>\n",
       "        </tr>\n",
       "        <tr>\n",
       "            <td>2950</td>\n",
       "            <td>3000</td>\n",
       "            <td>159</td>\n",
       "        </tr>\n",
       "        <tr>\n",
       "            <td>3000</td>\n",
       "            <td>3050</td>\n",
       "            <td>98</td>\n",
       "        </tr>\n",
       "        <tr>\n",
       "            <td>3050</td>\n",
       "            <td>3100</td>\n",
       "            <td>44</td>\n",
       "        </tr>\n",
       "    </tbody>\n",
       "</table>"
      ],
      "text/plain": [
       "[(2200, 2250, 0),\n",
       " (2250, 2300, 0),\n",
       " (2300, 2350, 22),\n",
       " (2350, 2400, 39),\n",
       " (2400, 2450, 54),\n",
       " (2450, 2500, 53),\n",
       " (2500, 2550, 45),\n",
       " (2550, 2600, 41),\n",
       " (2600, 2650, 46),\n",
       " (2650, 2700, 57),\n",
       " (2700, 2750, 44),\n",
       " (2750, 2800, 50),\n",
       " (2800, 2850, 62),\n",
       " (2850, 2900, 61),\n",
       " (2900, 2950, 108),\n",
       " (2950, 3000, 159),\n",
       " (3000, 3050, 98),\n",
       " (3050, 3100, 44)]"
      ]
     },
     "execution_count": 29,
     "metadata": {},
     "output_type": "execute_result"
    }
   ],
   "source": [
    "%%sql\n",
    "\n",
    "-- Bins created in Step 2\n",
    "WITH bins AS (\n",
    "    SELECT 2200 AS lower, 2250 AS upper\n",
    "    UNION ALL SELECT 2250, 2300\n",
    "    UNION ALL SELECT 2300, 2350\n",
    "    UNION ALL SELECT 2350, 2400\n",
    "    UNION ALL SELECT 2400, 2450\n",
    "    UNION ALL SELECT 2450, 2500\n",
    "    UNION ALL SELECT 2500, 2550\n",
    "    UNION ALL SELECT 2550, 2600\n",
    "    UNION ALL SELECT 2600, 2650\n",
    "    UNION ALL SELECT 2650, 2700\n",
    "    UNION ALL SELECT 2700, 2750\n",
    "    UNION ALL SELECT 2750, 2800\n",
    "    UNION ALL SELECT 2800, 2850\n",
    "    UNION ALL SELECT 2850, 2900\n",
    "    UNION ALL SELECT 2900, 2950\n",
    "    UNION ALL SELECT 2950, 3000\n",
    "    UNION ALL SELECT 3000, 3050\n",
    "    UNION ALL SELECT 3050, 3100\n",
    "),\n",
    "-- Subset stackoverflow to just tag dropbox (Step 1)\n",
    "dropbox AS (\n",
    "    SELECT question_count\n",
    "    FROM stackoverflow\n",
    "    WHERE tag='dropbox'\n",
    ")\n",
    "-- Select columns for result\n",
    "-- What column are you counting to summarize?\n",
    "SELECT lower, upper, count(question_count)\n",
    "FROM bins -- Created above\n",
    "-- Join to dropbox (created above),\n",
    "-- keeping all rows from the bins table in the join\n",
    "LEFT JOIN dropbox\n",
    "-- Compare question_count to lower and upper\n",
    "ON question_count >= lower\n",
    "AND question_count < upper\n",
    "-- Group by lower and upper to count values in each bin\n",
    "GROUP BY lower, upper\n",
    "-- Order by lower to put bins in order\n",
    "ORDER BY lower;"
   ]
  },
  {
   "cell_type": "code",
   "execution_count": null,
   "metadata": {},
   "outputs": [],
   "source": [
    "# -- Correlation between revenues and profit\n",
    "# SELECT CORR(revenues, profits) AS rev_profits,\n",
    "#        -- Correlation between revenues and assets\n",
    "#        CORR(revenues, assets) AS rev_assets,\n",
    "#        -- Correlation between revenues and equity\n",
    "#        CORR(revenues, equity) AS rev_equity \n",
    "#   FROM fortune500;"
   ]
  },
  {
   "cell_type": "code",
   "execution_count": 31,
   "metadata": {},
   "outputs": [
    {
     "name": "stdout",
     "output_type": "stream",
     "text": [
      " * sqlite:///myfile.db\n",
      "Done.\n"
     ]
    },
    {
     "data": {
      "text/html": [
       "<table>\n",
       "    <thead>\n",
       "        <tr>\n",
       "            <th>rev_profits</th>\n",
       "            <th>rev_assets</th>\n",
       "            <th>rev_equity</th>\n",
       "        </tr>\n",
       "    </thead>\n",
       "    <tbody>\n",
       "        <tr>\n",
       "            <td>0.06</td>\n",
       "            <td>2.33</td>\n",
       "            <td>0.43</td>\n",
       "        </tr>\n",
       "    </tbody>\n",
       "</table>"
      ],
      "text/plain": [
       "[(0.06, 2.33, 0.43)]"
      ]
     },
     "execution_count": 31,
     "metadata": {},
     "output_type": "execute_result"
    }
   ],
   "source": [
    "%%sql\n",
    "-- Correlation between revenues and profit\n",
    "SELECT \n",
    "    ROUND((SUM(revenues*profits) - SUM(revenues)*SUM(profits)/COUNT(*)) / (SUM(revenues*revenues) - SUM(revenues)*SUM(revenues)/COUNT(*)) , 2) AS rev_profits, \n",
    "    -- Correlation between revenues and assets\n",
    "    ROUND((SUM(revenues*assets) - SUM(revenues)*SUM(assets)/COUNT(*)) / (SUM(revenues*revenues) - SUM(revenues)*SUM(revenues)/COUNT(*)) , 2) AS rev_assets, \n",
    "    -- Correlation between revenues and equity\n",
    "    ROUND((SUM(revenues*equity) - SUM(revenues)*SUM(equity)/COUNT(*)) / (SUM(revenues*revenues) - SUM(revenues)*SUM(revenues)/COUNT(*)) , 2) AS rev_equity \n",
    "FROM fortune500"
   ]
  },
  {
   "cell_type": "code",
   "execution_count": 32,
   "metadata": {},
   "outputs": [
    {
     "name": "stdout",
     "output_type": "stream",
     "text": [
      " * sqlite:///myfile.db\n",
      "(sqlite3.OperationalError) near \"(\": syntax error\n",
      "[SQL: -- What groups are you computing statistics by?\n",
      "SELECT sector,\n",
      "       -- Select the mean of assets with the avg function\n",
      "       AVG(assets) AS mean,\n",
      "       -- Select the median\n",
      "       PERCENTILE_DISC(0.5) WITHIN GROUP (ORDER BY assets) AS median\n",
      "  FROM fortune500\n",
      " -- Computing statistics for each industry\n",
      " GROUP BY sector\n",
      " -- Order results by mean assets in descending order\n",
      " ORDER BY mean DESC;]\n",
      "(Background on this error at: https://sqlalche.me/e/20/e3q8)\n"
     ]
    }
   ],
   "source": [
    "%%sql\n",
    "-- What groups are you computing statistics by?\n",
    "SELECT sector,\n",
    "       -- Select the mean of assets with the avg function\n",
    "       AVG(assets) AS mean,\n",
    "       -- Select the median\n",
    "       PERCENTILE_DISC(0.5) WITHIN GROUP (ORDER BY assets) AS median\n",
    "  FROM fortune500\n",
    " -- Computing statistics for each industry\n",
    " GROUP BY sector\n",
    " -- Order results by mean assets in descending order\n",
    " ORDER BY mean DESC;"
   ]
  },
  {
   "cell_type": "code",
   "execution_count": 34,
   "metadata": {},
   "outputs": [
    {
     "name": "stdout",
     "output_type": "stream",
     "text": [
      " * sqlite:///myfile.db\n",
      "Done.\n"
     ]
    },
    {
     "data": {
      "text/html": [
       "<table>\n",
       "    <thead>\n",
       "        <tr>\n",
       "            <th>sector</th>\n",
       "            <th>mean</th>\n",
       "            <th>median</th>\n",
       "        </tr>\n",
       "    </thead>\n",
       "    <tbody>\n",
       "        <tr>\n",
       "            <td>Financials</td>\n",
       "            <td>319245.09523809527</td>\n",
       "            <td>None</td>\n",
       "        </tr>\n",
       "        <tr>\n",
       "            <td>Telecommunications</td>\n",
       "            <td>114922.7</td>\n",
       "            <td>None</td>\n",
       "        </tr>\n",
       "        <tr>\n",
       "            <td>Motor Vehicles &amp; Parts</td>\n",
       "            <td>59443.11111111111</td>\n",
       "            <td>None</td>\n",
       "        </tr>\n",
       "        <tr>\n",
       "            <td>Energy</td>\n",
       "            <td>48756.21052631579</td>\n",
       "            <td>None</td>\n",
       "        </tr>\n",
       "        <tr>\n",
       "            <td>Technology</td>\n",
       "            <td>48380.32558139535</td>\n",
       "            <td>None</td>\n",
       "        </tr>\n",
       "        <tr>\n",
       "            <td>Health Care</td>\n",
       "            <td>42078.89473684211</td>\n",
       "            <td>None</td>\n",
       "        </tr>\n",
       "        <tr>\n",
       "            <td>Industrials</td>\n",
       "            <td>40117.68421052631</td>\n",
       "            <td>None</td>\n",
       "        </tr>\n",
       "        <tr>\n",
       "            <td>Aerospace &amp; Defense</td>\n",
       "            <td>31897.666666666668</td>\n",
       "            <td>None</td>\n",
       "        </tr>\n",
       "        <tr>\n",
       "            <td>Media</td>\n",
       "            <td>30876.272727272728</td>\n",
       "            <td>None</td>\n",
       "        </tr>\n",
       "        <tr>\n",
       "            <td>Food, Beverages &amp; Tobacco</td>\n",
       "            <td>29059.75</td>\n",
       "            <td>None</td>\n",
       "        </tr>\n",
       "        <tr>\n",
       "            <td>Transportation</td>\n",
       "            <td>25922.0</td>\n",
       "            <td>None</td>\n",
       "        </tr>\n",
       "        <tr>\n",
       "            <td>Food &amp; Drug Stores</td>\n",
       "            <td>24630.714285714286</td>\n",
       "            <td>None</td>\n",
       "        </tr>\n",
       "        <tr>\n",
       "            <td>Household Products</td>\n",
       "            <td>23179.083333333332</td>\n",
       "            <td>None</td>\n",
       "        </tr>\n",
       "        <tr>\n",
       "            <td>Chemicals</td>\n",
       "            <td>20151.214285714286</td>\n",
       "            <td>None</td>\n",
       "        </tr>\n",
       "        <tr>\n",
       "            <td>Business Services</td>\n",
       "            <td>19626.1</td>\n",
       "            <td>None</td>\n",
       "        </tr>\n",
       "        <tr>\n",
       "            <td>Hotels, Restaurants &amp; Leisure</td>\n",
       "            <td>16795.4</td>\n",
       "            <td>None</td>\n",
       "        </tr>\n",
       "        <tr>\n",
       "            <td>Retailing</td>\n",
       "            <td>14473.148936170213</td>\n",
       "            <td>None</td>\n",
       "        </tr>\n",
       "        <tr>\n",
       "            <td>Apparel</td>\n",
       "            <td>11064.8</td>\n",
       "            <td>None</td>\n",
       "        </tr>\n",
       "        <tr>\n",
       "            <td>Materials</td>\n",
       "            <td>10833.263157894737</td>\n",
       "            <td>None</td>\n",
       "        </tr>\n",
       "        <tr>\n",
       "            <td>Wholesalers</td>\n",
       "            <td>9362.586206896553</td>\n",
       "            <td>None</td>\n",
       "        </tr>\n",
       "        <tr>\n",
       "            <td>Engineering &amp; Construction</td>\n",
       "            <td>8199.23076923077</td>\n",
       "            <td>None</td>\n",
       "        </tr>\n",
       "    </tbody>\n",
       "</table>"
      ],
      "text/plain": [
       "[('Financials', 319245.09523809527, None),\n",
       " ('Telecommunications', 114922.7, None),\n",
       " ('Motor Vehicles & Parts', 59443.11111111111, None),\n",
       " ('Energy', 48756.21052631579, None),\n",
       " ('Technology', 48380.32558139535, None),\n",
       " ('Health Care', 42078.89473684211, None),\n",
       " ('Industrials', 40117.68421052631, None),\n",
       " ('Aerospace & Defense', 31897.666666666668, None),\n",
       " ('Media', 30876.272727272728, None),\n",
       " ('Food, Beverages & Tobacco', 29059.75, None),\n",
       " ('Transportation', 25922.0, None),\n",
       " ('Food & Drug Stores', 24630.714285714286, None),\n",
       " ('Household Products', 23179.083333333332, None),\n",
       " ('Chemicals', 20151.214285714286, None),\n",
       " ('Business Services', 19626.1, None),\n",
       " ('Hotels, Restaurants & Leisure', 16795.4, None),\n",
       " ('Retailing', 14473.148936170213, None),\n",
       " ('Apparel', 11064.8, None),\n",
       " ('Materials', 10833.263157894737, None),\n",
       " ('Wholesalers', 9362.586206896553, None),\n",
       " ('Engineering & Construction', 8199.23076923077, None)]"
      ]
     },
     "execution_count": 34,
     "metadata": {},
     "output_type": "execute_result"
    }
   ],
   "source": [
    "%%sql\n",
    "SELECT sector,\n",
    "    AVG(assets) AS mean,\n",
    "    (SELECT AVG(assets) \n",
    "     FROM fortune500 AS f2\n",
    "     WHERE f2.sector = f1.sector AND (SELECT COUNT(*) \n",
    "                                      FROM fortune500 AS f3\n",
    "                                      WHERE f3.sector = f2.sector AND f3.assets < f2.assets) \n",
    "                                     = (SELECT COUNT(*) \n",
    "                                         FROM fortune500 AS f3 \n",
    "                                         WHERE f3.sector = f2.sector AND f3.assets <= f2.assets)) \n",
    "    AS median\n",
    "FROM fortune500 AS f1\n",
    "GROUP BY sector\n",
    "ORDER BY mean DESC;"
   ]
  },
  {
   "cell_type": "code",
   "execution_count": 35,
   "metadata": {},
   "outputs": [
    {
     "name": "stdout",
     "output_type": "stream",
     "text": [
      " * sqlite:///myfile.db\n",
      "Done.\n",
      "(sqlite3.OperationalError) near \"(\": syntax error\n",
      "[SQL: -- Create the temporary table\n",
      "CREATE TEMP TABLE profit80 AS\n",
      "  -- Select the two columns you need; alias as needed\n",
      "  SELECT sector, \n",
      "         percentile_disc(0.8) WITHIN GROUP (ORDER BY profits) AS pct80\n",
      "    -- What table are you getting the data from?\n",
      "    FROM fortune500 \n",
      "   -- What do you need to group by?\n",
      "   GROUP BY sector;]\n",
      "(Background on this error at: https://sqlalche.me/e/20/e3q8)\n"
     ]
    }
   ],
   "source": [
    "%%sql\n",
    "-- To clear table if it already exists;\n",
    "-- fill in name of temp table\n",
    "DROP TABLE IF EXISTS profit80;\n",
    "\n",
    "-- Create the temporary table\n",
    "CREATE TEMP TABLE profit80 AS\n",
    "  -- Select the two columns you need; alias as needed\n",
    "  SELECT sector, \n",
    "         percentile_disc(0.8) WITHIN GROUP (ORDER BY profits) AS pct80\n",
    "    -- What table are you getting the data from?\n",
    "    FROM fortune500 \n",
    "   -- What do you need to group by?\n",
    "   GROUP BY sector;\n",
    "   \n",
    "-- See what you created: select all columns and rows \n",
    "-- from the table you created\n",
    "SELECT * \n",
    "  FROM profit80;"
   ]
  },
  {
   "cell_type": "code",
   "execution_count": 37,
   "metadata": {},
   "outputs": [
    {
     "name": "stdout",
     "output_type": "stream",
     "text": [
      " * sqlite:///myfile.db\n",
      "Done.\n",
      "(sqlite3.OperationalError) near \"(\": syntax error\n",
      "[SQL: CREATE TEMP TABLE profit80 AS\n",
      "  SELECT sector, \n",
      "         percentile_disc(0.8) WITHIN GROUP (ORDER BY profits) AS pct80\n",
      "    FROM fortune500 \n",
      "   GROUP BY sector;]\n",
      "(Background on this error at: https://sqlalche.me/e/20/e3q8)\n"
     ]
    }
   ],
   "source": [
    "%%sql\n",
    "-- Code from previous step\n",
    "DROP TABLE IF EXISTS profit80;\n",
    "\n",
    "CREATE TEMP TABLE profit80 AS\n",
    "  SELECT sector, \n",
    "         percentile_disc(0.8) WITHIN GROUP (ORDER BY profits) AS pct80\n",
    "    FROM fortune500 \n",
    "   GROUP BY sector;\n",
    "\n",
    "-- Select columns, aliasing as needed\n",
    "SELECT title, fortune500.sector, \n",
    "       profits, profits/pct80 AS ratio\n",
    "-- What tables do you need to join?  \n",
    "  FROM fortune500 \n",
    "       LEFT JOIN profit80\n",
    "-- How are the tables joined?\n",
    "       ON fortune500.sector=profit80.sector\n",
    "-- What rows do you want to select?\n",
    " WHERE profits > pct80;"
   ]
  },
  {
   "cell_type": "code",
   "execution_count": 39,
   "metadata": {},
   "outputs": [
    {
     "name": "stdout",
     "output_type": "stream",
     "text": [
      " * sqlite:///myfile.db\n",
      "Done.\n",
      "Done.\n",
      "Done.\n"
     ]
    },
    {
     "data": {
      "text/html": [
       "<table>\n",
       "    <thead>\n",
       "        <tr>\n",
       "            <th>tag</th>\n",
       "            <th>mindate</th>\n",
       "        </tr>\n",
       "    </thead>\n",
       "    <tbody>\n",
       "        <tr>\n",
       "            <td>actionscript</td>\n",
       "            <td>2016-01-01</td>\n",
       "        </tr>\n",
       "        <tr>\n",
       "            <td>actionscript-3</td>\n",
       "            <td>2016-01-01</td>\n",
       "        </tr>\n",
       "        <tr>\n",
       "            <td>amazon</td>\n",
       "            <td>2016-01-01</td>\n",
       "        </tr>\n",
       "        <tr>\n",
       "            <td>amazon-cloudformation</td>\n",
       "            <td>2016-09-01</td>\n",
       "        </tr>\n",
       "    </tbody>\n",
       "</table>"
      ],
      "text/plain": [
       "[('actionscript', '2016-01-01'),\n",
       " ('actionscript-3', '2016-01-01'),\n",
       " ('amazon', '2016-01-01'),\n",
       " ('amazon-cloudformation', '2016-09-01')]"
      ]
     },
     "execution_count": 39,
     "metadata": {},
     "output_type": "execute_result"
    }
   ],
   "source": [
    "%%sql\n",
    "-- To clear table if it already exists\n",
    "DROP TABLE IF EXISTS startdates;\n",
    "\n",
    "-- Create temp table syntax\n",
    "CREATE TEMP TABLE startdates AS\n",
    "-- Compute the minimum date for each what?\n",
    "SELECT tag,\n",
    "       min(date) AS mindate\n",
    "  FROM stackoverflow\n",
    " -- What do you need to compute the min date for each tag?\n",
    " GROUP BY tag;\n",
    " \n",
    " -- Look at the table you created\n",
    " SELECT * \n",
    "   FROM startdates limit 4;"
   ]
  },
  {
   "cell_type": "code",
   "execution_count": 42,
   "metadata": {},
   "outputs": [
    {
     "name": "stdout",
     "output_type": "stream",
     "text": [
      " * sqlite:///myfile.db\n",
      "Done.\n",
      "Done.\n",
      "Done.\n"
     ]
    },
    {
     "data": {
      "text/html": [
       "<table>\n",
       "    <thead>\n",
       "        <tr>\n",
       "            <th>tag</th>\n",
       "            <th>mindate</th>\n",
       "            <th>min_date_question_count</th>\n",
       "            <th>max_date_question_count</th>\n",
       "            <th>change</th>\n",
       "        </tr>\n",
       "    </thead>\n",
       "    <tbody>\n",
       "        <tr>\n",
       "            <td>paypal</td>\n",
       "            <td>2016-01-01</td>\n",
       "            <td>13296</td>\n",
       "            <td>18050</td>\n",
       "            <td>4754</td>\n",
       "        </tr>\n",
       "        <tr>\n",
       "            <td>amazon-elb</td>\n",
       "            <td>2016-09-01</td>\n",
       "            <td>576</td>\n",
       "            <td>1452</td>\n",
       "            <td>876</td>\n",
       "        </tr>\n",
       "        <tr>\n",
       "            <td>amazon-mws</td>\n",
       "            <td>2016-09-01</td>\n",
       "            <td>367</td>\n",
       "            <td>706</td>\n",
       "            <td>339</td>\n",
       "        </tr>\n",
       "        <tr>\n",
       "            <td>amazon-swf</td>\n",
       "            <td>2016-09-01</td>\n",
       "            <td>167</td>\n",
       "            <td>232</td>\n",
       "            <td>65</td>\n",
       "        </tr>\n",
       "        <tr>\n",
       "            <td>amazon-sns</td>\n",
       "            <td>2016-09-01</td>\n",
       "            <td>690</td>\n",
       "            <td>1400</td>\n",
       "            <td>710</td>\n",
       "        </tr>\n",
       "    </tbody>\n",
       "</table>"
      ],
      "text/plain": [
       "[('paypal', '2016-01-01', 13296, 18050, 4754),\n",
       " ('amazon-elb', '2016-09-01', 576, 1452, 876),\n",
       " ('amazon-mws', '2016-09-01', 367, 706, 339),\n",
       " ('amazon-swf', '2016-09-01', 167, 232, 65),\n",
       " ('amazon-sns', '2016-09-01', 690, 1400, 710)]"
      ]
     },
     "execution_count": 42,
     "metadata": {},
     "output_type": "execute_result"
    }
   ],
   "source": [
    "%%sql\n",
    "-- To clear table if it already exists\n",
    "DROP TABLE IF EXISTS startdates;\n",
    "\n",
    "CREATE TEMP TABLE startdates AS\n",
    "SELECT tag, min(date) AS mindate\n",
    "  FROM stackoverflow\n",
    " GROUP BY tag;\n",
    " \n",
    "-- Select tag (Remember the table name!) and mindate\n",
    "SELECT startdates.tag, \n",
    "       mindate, \n",
    "       -- Select question count on the min and max days\n",
    "\t   so_min.question_count AS min_date_question_count,\n",
    "       so_max.question_count AS max_date_question_count,\n",
    "       -- Compute the change in question_count (max- min)\n",
    "       so_max.question_count - so_min.question_count AS change\n",
    "  FROM startdates\n",
    "       -- Join startdates to stackoverflow with alias so_min\n",
    "       INNER JOIN stackoverflow AS so_min\n",
    "          -- What needs to match between tables?\n",
    "          ON startdates.tag = so_min.tag\n",
    "         AND startdates.mindate = so_min.date\n",
    "       -- Join to stackoverflow again with alias so_max\n",
    "       INNER JOIN stackoverflow AS so_max\n",
    "          -- Again, what needs to match between tables?\n",
    "          ON startdates.tag = so_max.tag\n",
    "         AND so_max.date = '2018-09-25' limit 5;"
   ]
  },
  {
   "cell_type": "code",
   "execution_count": 44,
   "metadata": {},
   "outputs": [
    {
     "name": "stdout",
     "output_type": "stream",
     "text": [
      " * sqlite:///myfile.db\n",
      "Done.\n",
      "(sqlite3.OperationalError) no such function: corr\n",
      "[SQL: -- Create temp table \n",
      "CREATE TEMP TABLE correlations AS\n",
      "-- Select each correlation\n",
      "SELECT 'profits' AS measure,\n",
      "       -- Compute correlations\n",
      "       corr(profits, profits) AS profits,\n",
      "       corr(profits, profits_change) AS profits_change,\n",
      "       corr(profits, revenues_change) AS revenues_change\n",
      "  FROM fortune500;]\n",
      "(Background on this error at: https://sqlalche.me/e/20/e3q8)\n"
     ]
    }
   ],
   "source": [
    "%%sql\n",
    "DROP TABLE IF EXISTS correlations;\n",
    "\n",
    "-- Create temp table \n",
    "CREATE TEMP TABLE correlations AS\n",
    "-- Select each correlation\n",
    "SELECT 'profits':: AS measure,\n",
    "       -- Compute correlations\n",
    "       corr(profits, profits) AS profits,\n",
    "       corr(profits, profits_change) AS profits_change,\n",
    "       corr(profits, revenues_change) AS revenues_change\n",
    "  FROM fortune500;"
   ]
  },
  {
   "cell_type": "code",
   "execution_count": null,
   "metadata": {},
   "outputs": [],
   "source": [
    "%%sql\n",
    "DROP TABLE IF EXISTS correlations;\n",
    "\n",
    "CREATE TEMP TABLE correlations AS\n",
    "SELECT 'profits'::varchar AS measure,\n",
    "       corr(profits, profits) AS profits,\n",
    "       corr(profits, profits_change) AS profits_change,\n",
    "       corr(profits, revenues_change) AS revenues_change\n",
    "  FROM fortune500;\n",
    "\n",
    "INSERT INTO correlations\n",
    "SELECT 'profits_change'::varchar AS measure,\n",
    "       corr(profits_change, profits) AS profits,\n",
    "       corr(profits_change, profits_change) AS profits_change,\n",
    "       corr(profits_change, revenues_change) AS revenues_change\n",
    "  FROM fortune500;\n",
    "\n",
    "INSERT INTO correlations\n",
    "SELECT 'revenues_change'::varchar AS measure,\n",
    "       corr(revenues_change, profits) AS profits,\n",
    "       corr(revenues_change, profits_change) AS profits_change,\n",
    "       corr(revenues_change, revenues_change) AS revenues_change\n",
    "  FROM fortune500;\n",
    "\n",
    "-- Select each column, rounding the correlations\n",
    "SELECT measure, \n",
    "       round(profits::numeric, 2) AS profits,\n",
    "       round(profits_change::numeric, 2) AS profits_change,\n",
    "       round(revenues_change::numeric, 2) AS revenues_change\n",
    "  FROM correlations;"
   ]
  },
  {
   "cell_type": "code",
   "execution_count": null,
   "metadata": {},
   "outputs": [],
   "source": [
    "%%sql\n"
   ]
  },
  {
   "cell_type": "code",
   "execution_count": null,
   "metadata": {},
   "outputs": [],
   "source": [
    "%%sql\n"
   ]
  }
 ],
 "metadata": {
  "kernelspec": {
   "display_name": "Python 3",
   "language": "python",
   "name": "python3"
  },
  "language_info": {
   "codemirror_mode": {
    "name": "ipython",
    "version": 3
   },
   "file_extension": ".py",
   "mimetype": "text/x-python",
   "name": "python",
   "nbconvert_exporter": "python",
   "pygments_lexer": "ipython3",
   "version": "3.11.6"
  }
 },
 "nbformat": 4,
 "nbformat_minor": 2
}
