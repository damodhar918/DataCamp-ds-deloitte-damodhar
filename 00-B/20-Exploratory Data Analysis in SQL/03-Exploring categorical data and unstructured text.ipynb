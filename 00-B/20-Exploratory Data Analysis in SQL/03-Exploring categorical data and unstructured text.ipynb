{
 "cells": [
  {
   "cell_type": "code",
   "execution_count": 1,
   "metadata": {},
   "outputs": [],
   "source": [
    "%load_ext sql"
   ]
  },
  {
   "cell_type": "code",
   "execution_count": 2,
   "metadata": {},
   "outputs": [],
   "source": [
    "%sql sqlite:///myfile.db"
   ]
  },
  {
   "cell_type": "code",
   "execution_count": 4,
   "metadata": {},
   "outputs": [
    {
     "name": "stdout",
     "output_type": "stream",
     "text": [
      " * sqlite:///myfile.db\n",
      "Done.\n"
     ]
    },
    {
     "data": {
      "text/html": [
       "<table>\n",
       "    <thead>\n",
       "        <tr>\n",
       "            <th>priority</th>\n",
       "            <th>count(*)</th>\n",
       "        </tr>\n",
       "    </thead>\n",
       "    <tbody>\n",
       "        <tr>\n",
       "            <td>HIGH</td>\n",
       "            <td>88</td>\n",
       "        </tr>\n",
       "        <tr>\n",
       "            <td>LOW</td>\n",
       "            <td>517</td>\n",
       "        </tr>\n",
       "        <tr>\n",
       "            <td>MEDIUM</td>\n",
       "            <td>5745</td>\n",
       "        </tr>\n",
       "        <tr>\n",
       "            <td>NONE</td>\n",
       "            <td>30081</td>\n",
       "        </tr>\n",
       "    </tbody>\n",
       "</table>"
      ],
      "text/plain": [
       "[('HIGH', 88), ('LOW', 517), ('MEDIUM', 5745), ('NONE', 30081)]"
      ]
     },
     "execution_count": 4,
     "metadata": {},
     "output_type": "execute_result"
    }
   ],
   "source": [
    "%%sql\n",
    "-- Select the count of each level of priority\n",
    "SELECT priority, count(*) \n",
    "  FROM evanston311\n",
    " GROUP BY priority;"
   ]
  },
  {
   "cell_type": "code",
   "execution_count": 5,
   "metadata": {},
   "outputs": [
    {
     "name": "stdout",
     "output_type": "stream",
     "text": [
      " * sqlite:///myfile.db\n",
      "Done.\n"
     ]
    },
    {
     "data": {
      "text/html": [
       "<table>\n",
       "    <thead>\n",
       "        <tr>\n",
       "            <th>zip</th>\n",
       "            <th>count(*)</th>\n",
       "        </tr>\n",
       "    </thead>\n",
       "    <tbody>\n",
       "        <tr>\n",
       "            <td>None</td>\n",
       "            <td>5528</td>\n",
       "        </tr>\n",
       "        <tr>\n",
       "            <td>60201.0</td>\n",
       "            <td>19054</td>\n",
       "        </tr>\n",
       "        <tr>\n",
       "            <td>60202.0</td>\n",
       "            <td>11165</td>\n",
       "        </tr>\n",
       "        <tr>\n",
       "            <td>60208.0</td>\n",
       "            <td>255</td>\n",
       "        </tr>\n",
       "    </tbody>\n",
       "</table>"
      ],
      "text/plain": [
       "[(None, 5528), (60201.0, 19054), (60202.0, 11165), (60208.0, 255)]"
      ]
     },
     "execution_count": 5,
     "metadata": {},
     "output_type": "execute_result"
    }
   ],
   "source": [
    "%%sql\n",
    "-- Find values of zip that appear in at least 100 rows\n",
    "-- Also get the count of each value\n",
    "SELECT zip, count(*) \n",
    "  FROM evanston311\n",
    " GROUP BY zip\n",
    "HAVING count(*) >=100; \n"
   ]
  },
  {
   "cell_type": "code",
   "execution_count": 6,
   "metadata": {},
   "outputs": [
    {
     "name": "stdout",
     "output_type": "stream",
     "text": [
      " * sqlite:///myfile.db\n",
      "Done.\n"
     ]
    },
    {
     "data": {
      "text/html": [
       "<table>\n",
       "    <thead>\n",
       "        <tr>\n",
       "            <th>source</th>\n",
       "            <th>count(*)</th>\n",
       "        </tr>\n",
       "    </thead>\n",
       "    <tbody>\n",
       "        <tr>\n",
       "            <td>Android</td>\n",
       "            <td>444</td>\n",
       "        </tr>\n",
       "        <tr>\n",
       "            <td>Iframe</td>\n",
       "            <td>3670</td>\n",
       "        </tr>\n",
       "        <tr>\n",
       "            <td>gov.publicstuff.com</td>\n",
       "            <td>30985</td>\n",
       "        </tr>\n",
       "        <tr>\n",
       "            <td>iOS</td>\n",
       "            <td>1199</td>\n",
       "        </tr>\n",
       "    </tbody>\n",
       "</table>"
      ],
      "text/plain": [
       "[('Android', 444),\n",
       " ('Iframe', 3670),\n",
       " ('gov.publicstuff.com', 30985),\n",
       " ('iOS', 1199)]"
      ]
     },
     "execution_count": 6,
     "metadata": {},
     "output_type": "execute_result"
    }
   ],
   "source": [
    "%%sql\n",
    "-- Find values of source that appear in at least 100 rows\n",
    "-- Also get the count of each value\n",
    "SELECT source, count(*) \n",
    "  FROM evanston311\n",
    " GROUP BY source\n",
    "HAVING count(*) >=100; "
   ]
  },
  {
   "cell_type": "code",
   "execution_count": 7,
   "metadata": {},
   "outputs": [
    {
     "name": "stdout",
     "output_type": "stream",
     "text": [
      " * sqlite:///myfile.db\n",
      "Done.\n"
     ]
    },
    {
     "data": {
      "text/html": [
       "<table>\n",
       "    <thead>\n",
       "        <tr>\n",
       "            <th>street</th>\n",
       "            <th>count(*)</th>\n",
       "        </tr>\n",
       "    </thead>\n",
       "    <tbody>\n",
       "        <tr>\n",
       "            <td>None</td>\n",
       "            <td>1699</td>\n",
       "        </tr>\n",
       "        <tr>\n",
       "            <td>Chicago Avenue</td>\n",
       "            <td>1440</td>\n",
       "        </tr>\n",
       "        <tr>\n",
       "            <td>Sherman Avenue</td>\n",
       "            <td>1276</td>\n",
       "        </tr>\n",
       "        <tr>\n",
       "            <td>Central Street</td>\n",
       "            <td>1211</td>\n",
       "        </tr>\n",
       "        <tr>\n",
       "            <td>Davis Street</td>\n",
       "            <td>1154</td>\n",
       "        </tr>\n",
       "    </tbody>\n",
       "</table>"
      ],
      "text/plain": [
       "[(None, 1699),\n",
       " ('Chicago Avenue', 1440),\n",
       " ('Sherman Avenue', 1276),\n",
       " ('Central Street', 1211),\n",
       " ('Davis Street', 1154)]"
      ]
     },
     "execution_count": 7,
     "metadata": {},
     "output_type": "execute_result"
    }
   ],
   "source": [
    "%%sql\n",
    "-- Find the 5 most common values of street and the count of each\n",
    "SELECT street, count(*) \n",
    "  FROM evanston311\n",
    " GROUP BY street\n",
    " ORDER BY count(*) DESC\n",
    " LIMIT 5;\n",
    "\n"
   ]
  },
  {
   "cell_type": "code",
   "execution_count": 9,
   "metadata": {},
   "outputs": [
    {
     "name": "stdout",
     "output_type": "stream",
     "text": [
      " * sqlite:///myfile.db\n",
      "Done.\n"
     ]
    },
    {
     "data": {
      "text/html": [
       "<table>\n",
       "    <thead>\n",
       "        <tr>\n",
       "            <th>street</th>\n",
       "            <th>cleaned_street</th>\n",
       "        </tr>\n",
       "    </thead>\n",
       "    <tbody>\n",
       "        <tr>\n",
       "            <td>None</td>\n",
       "            <td>None</td>\n",
       "        </tr>\n",
       "        <tr>\n",
       "            <td>1/2 Chicago Ave</td>\n",
       "            <td>Chicago Ave</td>\n",
       "        </tr>\n",
       "        <tr>\n",
       "            <td>1047B Chicago Ave</td>\n",
       "            <td>B Chicago Ave</td>\n",
       "        </tr>\n",
       "        <tr>\n",
       "            <td>13th Street</td>\n",
       "            <td>th Street</td>\n",
       "        </tr>\n",
       "    </tbody>\n",
       "</table>"
      ],
      "text/plain": [
       "[(None, None),\n",
       " ('1/2 Chicago Ave', 'Chicago Ave'),\n",
       " ('1047B Chicago Ave', 'B Chicago Ave'),\n",
       " ('13th Street', 'th Street')]"
      ]
     },
     "execution_count": 9,
     "metadata": {},
     "output_type": "execute_result"
    }
   ],
   "source": [
    "%%sql\n",
    "SELECT distinct street,\n",
    "       -- Trim off unwanted characters from street\n",
    "       trim(street, '0123456789 #/.') AS cleaned_street\n",
    "  FROM evanston311\n",
    " ORDER BY street limit 4;\n",
    "\n"
   ]
  },
  {
   "cell_type": "code",
   "execution_count": 10,
   "metadata": {},
   "outputs": [
    {
     "name": "stdout",
     "output_type": "stream",
     "text": [
      " * sqlite:///myfile.db\n",
      "(sqlite3.OperationalError) near \"ILIKE\": syntax error\n",
      "[SQL: -- Count rows\n",
      "SELECT count(*)\n",
      "  FROM evanston311\n",
      " -- Where description includes trash or garbage\n",
      " WHERE description ILIKE '%trash%' \n",
      "    OR description ILIKE '%garbage%' limit 5;]\n",
      "(Background on this error at: https://sqlalche.me/e/20/e3q8)\n"
     ]
    }
   ],
   "source": [
    "%%sql\n",
    "-- Count rows\n",
    "SELECT count(*)\n",
    "  FROM evanston311\n",
    " -- Where description includes trash or garbage\n",
    " WHERE description ILIKE '%trash%' \n",
    "    OR description ILIKE '%garbage%' limit 5;"
   ]
  },
  {
   "cell_type": "code",
   "execution_count": 11,
   "metadata": {},
   "outputs": [
    {
     "name": "stdout",
     "output_type": "stream",
     "text": [
      " * sqlite:///myfile.db\n",
      "Done.\n"
     ]
    },
    {
     "data": {
      "text/html": [
       "<table>\n",
       "    <thead>\n",
       "        <tr>\n",
       "            <th>count(*)</th>\n",
       "        </tr>\n",
       "    </thead>\n",
       "    <tbody>\n",
       "        <tr>\n",
       "            <td>2551</td>\n",
       "        </tr>\n",
       "    </tbody>\n",
       "</table>"
      ],
      "text/plain": [
       "[(2551,)]"
      ]
     },
     "execution_count": 11,
     "metadata": {},
     "output_type": "execute_result"
    }
   ],
   "source": [
    "%%sql\n",
    "-- Count rows\n",
    "SELECT count(*) \n",
    "FROM evanston311 \n",
    "-- Where description includes trash or garbage\n",
    "WHERE description LIKE '%trash%' \n",
    "  OR description LIKE '%garbage%' \n",
    "LIMIT 5;"
   ]
  },
  {
   "cell_type": "code",
   "execution_count": 13,
   "metadata": {},
   "outputs": [
    {
     "name": "stdout",
     "output_type": "stream",
     "text": [
      " * sqlite:///myfile.db\n",
      "Done.\n"
     ]
    },
    {
     "data": {
      "text/html": [
       "<table>\n",
       "    <thead>\n",
       "        <tr>\n",
       "            <th>category</th>\n",
       "        </tr>\n",
       "    </thead>\n",
       "    <tbody>\n",
       "        <tr>\n",
       "            <td>THIS REQUEST IS INACTIVE...Trash Cart - Compost Bin</td>\n",
       "        </tr>\n",
       "        <tr>\n",
       "            <td>Trash - Tire Pickup</td>\n",
       "        </tr>\n",
       "        <tr>\n",
       "            <td>Trash - Special Pickup - Resident Use</td>\n",
       "        </tr>\n",
       "        <tr>\n",
       "            <td>Trash, Recycling, Yard Waste Cart- Repair/Replacement</td>\n",
       "        </tr>\n",
       "        <tr>\n",
       "            <td>Trash, Recycling, Yard Waste Cart- Repair/Replacement</td>\n",
       "        </tr>\n",
       "    </tbody>\n",
       "</table>"
      ],
      "text/plain": [
       "[('THIS REQUEST IS INACTIVE...Trash Cart - Compost Bin',),\n",
       " ('Trash - Tire Pickup',),\n",
       " ('Trash - Special Pickup - Resident Use',),\n",
       " ('Trash, Recycling, Yard Waste Cart- Repair/Replacement',),\n",
       " ('Trash, Recycling, Yard Waste Cart- Repair/Replacement',)]"
      ]
     },
     "execution_count": 13,
     "metadata": {},
     "output_type": "execute_result"
    }
   ],
   "source": [
    "%%sql\n",
    "-- Select categories containing Trash or Garbage\n",
    "SELECT category\n",
    "  FROM evanston311\n",
    " -- Use LIKE\n",
    " WHERE  category LIKE '%Trash%'\n",
    "    or category LIKE '%Garbage%' limit 5;"
   ]
  },
  {
   "cell_type": "code",
   "execution_count": 14,
   "metadata": {},
   "outputs": [
    {
     "name": "stdout",
     "output_type": "stream",
     "text": [
      " * sqlite:///myfile.db\n",
      "Done.\n"
     ]
    },
    {
     "data": {
      "text/html": [
       "<table>\n",
       "    <thead>\n",
       "        <tr>\n",
       "            <th>count(*)</th>\n",
       "        </tr>\n",
       "    </thead>\n",
       "    <tbody>\n",
       "        <tr>\n",
       "            <td>570</td>\n",
       "        </tr>\n",
       "    </tbody>\n",
       "</table>"
      ],
      "text/plain": [
       "[(570,)]"
      ]
     },
     "execution_count": 14,
     "metadata": {},
     "output_type": "execute_result"
    }
   ],
   "source": [
    "%%sql\n",
    "-- Count rows\n",
    "SELECT count(*)\n",
    "  FROM evanston311 \n",
    " -- description contains trash or garbage (any case)\n",
    " WHERE (description LIKE '%Trash%'\n",
    "    or description LIKE '%Garbage%') \n",
    " -- category does not contain Trash or Garbage\n",
    "   AND category NOT LIKE '%Trash%'\n",
    "   AND category NOT LIKE '%Garbage%';"
   ]
  },
  {
   "cell_type": "code",
   "execution_count": 17,
   "metadata": {},
   "outputs": [
    {
     "name": "stdout",
     "output_type": "stream",
     "text": [
      " * sqlite:///myfile.db\n",
      "Done.\n"
     ]
    },
    {
     "data": {
      "text/html": [
       "<table>\n",
       "    <thead>\n",
       "        <tr>\n",
       "            <th>category</th>\n",
       "            <th>count(*)</th>\n",
       "        </tr>\n",
       "    </thead>\n",
       "    <tbody>\n",
       "        <tr>\n",
       "            <td>Ask A Question / Send A Message</td>\n",
       "            <td>273</td>\n",
       "        </tr>\n",
       "        <tr>\n",
       "            <td>Rodents- Rats</td>\n",
       "            <td>77</td>\n",
       "        </tr>\n",
       "        <tr>\n",
       "            <td>Recycling - Missed Pickup</td>\n",
       "            <td>28</td>\n",
       "        </tr>\n",
       "        <tr>\n",
       "            <td>Dead Animal on Public Property</td>\n",
       "            <td>16</td>\n",
       "        </tr>\n",
       "        <tr>\n",
       "            <td>Graffiti</td>\n",
       "            <td>15</td>\n",
       "        </tr>\n",
       "        <tr>\n",
       "            <td>Yard Waste - Missed Pickup</td>\n",
       "            <td>14</td>\n",
       "        </tr>\n",
       "        <tr>\n",
       "            <td>Public Transit Agency Issue</td>\n",
       "            <td>13</td>\n",
       "        </tr>\n",
       "        <tr>\n",
       "            <td>Food Establishment - Unsanitary Conditions</td>\n",
       "            <td>13</td>\n",
       "        </tr>\n",
       "        <tr>\n",
       "            <td>Exterior Conditions</td>\n",
       "            <td>10</td>\n",
       "        </tr>\n",
       "        <tr>\n",
       "            <td>Street Sweeping</td>\n",
       "            <td>9</td>\n",
       "        </tr>\n",
       "    </tbody>\n",
       "</table>"
      ],
      "text/plain": [
       "[('Ask A Question / Send A Message', 273),\n",
       " ('Rodents- Rats', 77),\n",
       " ('Recycling - Missed Pickup', 28),\n",
       " ('Dead Animal on Public Property', 16),\n",
       " ('Graffiti', 15),\n",
       " ('Yard Waste - Missed Pickup', 14),\n",
       " ('Public Transit Agency Issue', 13),\n",
       " ('Food Establishment - Unsanitary Conditions', 13),\n",
       " ('Exterior Conditions', 10),\n",
       " ('Street Sweeping', 9)]"
      ]
     },
     "execution_count": 17,
     "metadata": {},
     "output_type": "execute_result"
    }
   ],
   "source": [
    "%%sql\n",
    "-- Count rows with each category\n",
    "SELECT category, count(*)\n",
    "  FROM evanston311 \n",
    " WHERE (description LIKE '%trash%'\n",
    "    OR description LIKE '%garbage%') \n",
    "   AND category NOT LIKE '%Trash%'\n",
    "   AND category NOT LIKE '%Garbage%'\n",
    " -- What are you counting?\n",
    " GROUP BY category\n",
    " --- order by most frequent values\n",
    " ORDER BY count(*) DESC\n",
    " LIMIT 10;"
   ]
  },
  {
   "cell_type": "code",
   "execution_count": 18,
   "metadata": {},
   "outputs": [
    {
     "name": "stdout",
     "output_type": "stream",
     "text": [
      " * sqlite:///myfile.db\n",
      "(sqlite3.OperationalError) no such function: concat\n",
      "[SQL: -- Concatenate house_num, a space, and street\n",
      "-- and trim spaces from the start of the result\n",
      "SELECT ltrim(concat(house_num, ' ', street)) AS address\n",
      "  FROM evanston311;]\n",
      "(Background on this error at: https://sqlalche.me/e/20/e3q8)\n"
     ]
    }
   ],
   "source": [
    "%%sql\n",
    "-- Concatenate house_num, a space, and street\n",
    "-- and trim spaces from the start of the result\n",
    "SELECT ltrim(concat(house_num, ' ', street)) AS address\n",
    "  FROM evanston311;"
   ]
  },
  {
   "cell_type": "code",
   "execution_count": 20,
   "metadata": {},
   "outputs": [
    {
     "name": "stdout",
     "output_type": "stream",
     "text": [
      " * sqlite:///myfile.db\n",
      "Done.\n"
     ]
    },
    {
     "data": {
      "text/html": [
       "<table>\n",
       "    <thead>\n",
       "        <tr>\n",
       "            <th>address</th>\n",
       "        </tr>\n",
       "    </thead>\n",
       "    <tbody>\n",
       "        <tr>\n",
       "            <td>606-612 Sheridan Road</td>\n",
       "        </tr>\n",
       "        <tr>\n",
       "            <td>930 Washington St</td>\n",
       "        </tr>\n",
       "        <tr>\n",
       "            <td>1183-1223 Lincoln St</td>\n",
       "        </tr>\n",
       "        <tr>\n",
       "            <td>1–111 Callan Ave</td>\n",
       "        </tr>\n",
       "        <tr>\n",
       "            <td>1524 Crain St</td>\n",
       "        </tr>\n",
       "    </tbody>\n",
       "</table>"
      ],
      "text/plain": [
       "[('606-612 Sheridan Road',),\n",
       " ('930 Washington St',),\n",
       " ('1183-1223 Lincoln St',),\n",
       " ('1–111 Callan Ave',),\n",
       " ('1524 Crain St',)]"
      ]
     },
     "execution_count": 20,
     "metadata": {},
     "output_type": "execute_result"
    }
   ],
   "source": [
    "%%sql\n",
    "-- Concatenate house_num, a space, and street\n",
    "-- and trim spaces from the start of the result\n",
    "SELECT ltrim(house_num || ' ' || street) AS address\n",
    "FROM evanston311 limit 5;"
   ]
  },
  {
   "cell_type": "code",
   "execution_count": 21,
   "metadata": {},
   "outputs": [
    {
     "name": "stdout",
     "output_type": "stream",
     "text": [
      " * sqlite:///myfile.db\n",
      "(sqlite3.OperationalError) no such function: split_part\n",
      "[SQL: -- Select the first word of the street value\n",
      "SELECT split_part(street, ' ', 1) AS street_name, \n",
      "       count(*)\n",
      "  FROM evanston311\n",
      " GROUP BY street_name\n",
      " ORDER BY count DESC\n",
      " LIMIT 25;]\n",
      "(Background on this error at: https://sqlalche.me/e/20/e3q8)\n"
     ]
    }
   ],
   "source": [
    "%%sql\n",
    "-- Select the first word of the street value\n",
    "SELECT split_part(street, ' ', 1) AS street_name, \n",
    "       count(*)\n",
    "  FROM evanston311\n",
    " GROUP BY street_name\n",
    " ORDER BY count DESC\n",
    " LIMIT 5;"
   ]
  },
  {
   "cell_type": "code",
   "execution_count": 24,
   "metadata": {},
   "outputs": [
    {
     "name": "stdout",
     "output_type": "stream",
     "text": [
      " * sqlite:///myfile.db\n",
      "Done.\n"
     ]
    },
    {
     "data": {
      "text/html": [
       "<table>\n",
       "    <thead>\n",
       "        <tr>\n",
       "            <th>street_name</th>\n",
       "            <th>count(*)</th>\n",
       "        </tr>\n",
       "    </thead>\n",
       "    <tbody>\n",
       "        <tr>\n",
       "            <td>None</td>\n",
       "            <td>1699</td>\n",
       "        </tr>\n",
       "        <tr>\n",
       "            <td>Chicago</td>\n",
       "            <td>1569</td>\n",
       "        </tr>\n",
       "        <tr>\n",
       "            <td>Central</td>\n",
       "            <td>1529</td>\n",
       "        </tr>\n",
       "        <tr>\n",
       "            <td>Sherman</td>\n",
       "            <td>1479</td>\n",
       "        </tr>\n",
       "        <tr>\n",
       "            <td>Davis</td>\n",
       "            <td>1248</td>\n",
       "        </tr>\n",
       "    </tbody>\n",
       "</table>"
      ],
      "text/plain": [
       "[(None, 1699),\n",
       " ('Chicago', 1569),\n",
       " ('Central', 1529),\n",
       " ('Sherman', 1479),\n",
       " ('Davis', 1248)]"
      ]
     },
     "execution_count": 24,
     "metadata": {},
     "output_type": "execute_result"
    }
   ],
   "source": [
    "%%sql\n",
    "-- Select the first word of the street value\n",
    "SELECT substr(street,1,instr(street,' ')-1) AS street_name,\n",
    "       count(*)\n",
    "FROM evanston311\n",
    "GROUP BY street_name\n",
    "ORDER BY count(*) DESC\n",
    "LIMIT 5;"
   ]
  },
  {
   "cell_type": "code",
   "execution_count": 26,
   "metadata": {},
   "outputs": [
    {
     "name": "stdout",
     "output_type": "stream",
     "text": [
      " * sqlite:///myfile.db\n",
      "(sqlite3.OperationalError) no such function: left\n",
      "[SQL: -- Select the first 50 chars when length is greater than 50\n",
      "SELECT CASE WHEN length(description) > 50\n",
      "            THEN left(description, 50) || '...'\n",
      "       -- otherwise just select description\n",
      "       ELSE description\n",
      "       END\n",
      "  FROM evanston311\n",
      " -- limit to descriptions that start with the word I\n",
      " WHERE description LIKE 'I %'\n",
      " ORDER BY description;]\n",
      "(Background on this error at: https://sqlalche.me/e/20/e3q8)\n"
     ]
    }
   ],
   "source": [
    "%%sql\n",
    "-- Select the first 50 chars when length is greater than 50\n",
    "SELECT CASE WHEN length(description) > 50\n",
    "            THEN left(description, 50) || '...'\n",
    "       -- otherwise just select description\n",
    "       ELSE description\n",
    "       END\n",
    "  FROM evanston311\n",
    " -- limit to descriptions that start with the word I\n",
    " WHERE description LIKE 'I %'\n",
    " ORDER BY description;"
   ]
  },
  {
   "cell_type": "code",
   "execution_count": 28,
   "metadata": {},
   "outputs": [
    {
     "name": "stdout",
     "output_type": "stream",
     "text": [
      " * sqlite:///myfile.db\n",
      "Done.\n"
     ]
    },
    {
     "data": {
      "text/html": [
       "<table>\n",
       "    <thead>\n",
       "        <tr>\n",
       "            <th>CASE WHEN length(description) &gt; 50<br>            THEN substr(description, 1, 50) || &#x27;...&#x27;<br>       -- otherwise just select description<br>       ELSE description<br>       END</th>\n",
       "        </tr>\n",
       "    </thead>\n",
       "    <tbody>\n",
       "        <tr>\n",
       "            <td>I  work for Schermerhorn &amp; Co. and manage this con...</td>\n",
       "        </tr>\n",
       "        <tr>\n",
       "            <td>I Live in a townhouse with garbage cans in back, i...</td>\n",
       "        </tr>\n",
       "        <tr>\n",
       "            <td>I Put In For Reserve Disabled Parking, A Week Ago ...</td>\n",
       "        </tr>\n",
       "        <tr>\n",
       "            <td>I SDO GOWANS #1258 RECEIVED A TELEPHONE CALL ON 3/...</td>\n",
       "        </tr>\n",
       "        <tr>\n",
       "            <td>I accidentally mistyped my license plate number - ...</td>\n",
       "        </tr>\n",
       "        <tr>\n",
       "            <td>I accidentally sent the wrong cover letter on my a...</td>\n",
       "        </tr>\n",
       "    </tbody>\n",
       "</table>"
      ],
      "text/plain": [
       "[('I  work for Schermerhorn & Co. and manage this con...',),\n",
       " ('I Live in a townhouse with garbage cans in back, i...',),\n",
       " ('I Put In For Reserve Disabled Parking, A Week Ago ...',),\n",
       " ('I SDO GOWANS #1258 RECEIVED A TELEPHONE CALL ON 3/...',),\n",
       " ('I accidentally mistyped my license plate number - ...',),\n",
       " ('I accidentally sent the wrong cover letter on my a...',)]"
      ]
     },
     "execution_count": 28,
     "metadata": {},
     "output_type": "execute_result"
    }
   ],
   "source": [
    "%%sql\n",
    "SELECT CASE WHEN length(description) > 50\n",
    "            THEN substr(description, 1, 50) || '...'\n",
    "       -- otherwise just select description\n",
    "       ELSE description\n",
    "       END\n",
    "  FROM evanston311\n",
    " -- limit to descriptions that start with the word I\n",
    " WHERE description LIKE 'I %'\n",
    " ORDER BY description limit 6;"
   ]
  },
  {
   "cell_type": "code",
   "execution_count": 29,
   "metadata": {},
   "outputs": [
    {
     "name": "stdout",
     "output_type": "stream",
     "text": [
      " * sqlite:///myfile.db\n",
      "Done.\n",
      "(sqlite3.OperationalError) no such function: split_part\n",
      "[SQL: -- Create and name the temporary table\n",
      "CREATE TEMP TABLE recode AS\n",
      "-- Write the select query to generate the table \n",
      "-- with distinct values of category and standardized values\n",
      "  SELECT DISTINCT category, \n",
      "         rtrim(split_part(category, '-', 1)) AS standardized\n",
      "    -- What table are you selecting the above values from?\n",
      "    FROM evanston311;]\n",
      "(Background on this error at: https://sqlalche.me/e/20/e3q8)\n"
     ]
    }
   ],
   "source": [
    "%%sql\n",
    "-- Fill in the command below with the name of the temp table\n",
    "DROP TABLE IF EXISTS recode;\n",
    "\n",
    "-- Create and name the temporary table\n",
    "CREATE TEMP TABLE recode AS\n",
    "-- Write the select query to generate the table \n",
    "-- with distinct values of category and standardized values\n",
    "  SELECT DISTINCT category, \n",
    "         rtrim(split_part(category, '-', 1)) AS standardized\n",
    "    -- What table are you selecting the above values from?\n",
    "    FROM evanston311;\n",
    "       \n",
    "-- Look at a few values before the next step\n",
    "SELECT DISTINCT standardized \n",
    "  FROM recode\n",
    " WHERE standardized LIKE 'Trash%Cart'\n",
    "    OR standardized LIKE 'Snow%Removal%';"
   ]
  },
  {
   "cell_type": "code",
   "execution_count": null,
   "metadata": {},
   "outputs": [],
   "source": [
    "%%sql\n",
    "-- Create and name the temporary table\n",
    "CREATE TEMP TABLE recode AS\n",
    "-- Write the select query to generate the table \n",
    "-- with distinct values of category and standardized values\n",
    "SELECT DISTINCT category, \n",
    "       substr(category, 1, instr(category, '-') - 1) AS standardized\n",
    "FROM evanston311;"
   ]
  },
  {
   "cell_type": "code",
   "execution_count": 40,
   "metadata": {},
   "outputs": [
    {
     "name": "stdout",
     "output_type": "stream",
     "text": [
      " * sqlite:///myfile.db\n",
      "Done.\n"
     ]
    },
    {
     "data": {
      "text/html": [
       "<table>\n",
       "    <thead>\n",
       "        <tr>\n",
       "            <th>category</th>\n",
       "            <th>standardized</th>\n",
       "        </tr>\n",
       "    </thead>\n",
       "    <tbody>\n",
       "        <tr>\n",
       "            <td>Fire Prevention - Inspection of a Commercial Property</td>\n",
       "            <td>Fire Prevention </td>\n",
       "        </tr>\n",
       "        <tr>\n",
       "            <td>Water Service - Question or Concern</td>\n",
       "            <td>Water Service </td>\n",
       "        </tr>\n",
       "        <tr>\n",
       "            <td>Trees-Fallen limb or tree</td>\n",
       "            <td>Trees</td>\n",
       "        </tr>\n",
       "        <tr>\n",
       "            <td>Ask A Question / Send A Message</td>\n",
       "            <td></td>\n",
       "        </tr>\n",
       "        <tr>\n",
       "            <td>Dead Animal on Public Property</td>\n",
       "            <td></td>\n",
       "        </tr>\n",
       "    </tbody>\n",
       "</table>"
      ],
      "text/plain": [
       "[('Fire Prevention - Inspection of a Commercial Property', 'Fire Prevention '),\n",
       " ('Water Service - Question or Concern', 'Water Service '),\n",
       " ('Trees-Fallen limb or tree', 'Trees'),\n",
       " ('Ask A Question / Send A Message', ''),\n",
       " ('Dead Animal on Public Property', '')]"
      ]
     },
     "execution_count": 40,
     "metadata": {},
     "output_type": "execute_result"
    }
   ],
   "source": [
    "%%sql\n",
    "select * from recode limit 5;"
   ]
  },
  {
   "cell_type": "code",
   "execution_count": 41,
   "metadata": {},
   "outputs": [
    {
     "name": "stdout",
     "output_type": "stream",
     "text": [
      " * sqlite:///myfile.db\n",
      "Done.\n",
      "(sqlite3.OperationalError) no such function: split_part\n",
      "[SQL: CREATE TEMP TABLE recode AS\n",
      "  SELECT DISTINCT category, \n",
      "         rtrim(split_part(category, '-', 1)) AS standardized\n",
      "    FROM evanston311;]\n",
      "(Background on this error at: https://sqlalche.me/e/20/e3q8)\n"
     ]
    }
   ],
   "source": [
    "%%sql\n",
    "-- Code from previous step\n",
    "DROP TABLE IF EXISTS recode;\n",
    "\n",
    "CREATE TEMP TABLE recode AS\n",
    "  SELECT DISTINCT category, \n",
    "         rtrim(split_part(category, '-', 1)) AS standardized\n",
    "    FROM evanston311;\n",
    "  \n",
    "-- Update to group trash cart values\n",
    "UPDATE recode \n",
    "   SET standardized='Trash Cart' \n",
    " WHERE standardized LIKE 'Trash%Cart';\n",
    "\n",
    "-- Update to group snow removal values\n",
    "UPDATE recode\n",
    "   SET standardized='Snow Removal' \n",
    " WHERE standardized LIKE 'Snow%Removal%';\n",
    " \n",
    "-- Examine effect of updates\n",
    "SELECT DISTINCT standardized \n",
    "  FROM recode\n",
    " WHERE standardized LIKE 'Trash%Cart'\n",
    "    OR standardized LIKE 'Snow%Removal%';"
   ]
  },
  {
   "cell_type": "code",
   "execution_count": 42,
   "metadata": {},
   "outputs": [
    {
     "name": "stdout",
     "output_type": "stream",
     "text": [
      " * sqlite:///myfile.db\n",
      "Done.\n",
      "(sqlite3.OperationalError) no such function: split_part\n",
      "[SQL: CREATE TEMP TABLE recode AS\n",
      "  SELECT DISTINCT category, \n",
      "         rtrim(split_part(category, '-', 1)) AS standardized\n",
      "  FROM evanston311;]\n",
      "(Background on this error at: https://sqlalche.me/e/20/e3q8)\n"
     ]
    }
   ],
   "source": [
    "%%sql\n",
    "-- Code from previous step\n",
    "DROP TABLE IF EXISTS recode;\n",
    "CREATE TEMP TABLE recode AS\n",
    "  SELECT DISTINCT category, \n",
    "         rtrim(split_part(category, '-', 1)) AS standardized\n",
    "  FROM evanston311;\n",
    "UPDATE recode SET standardized='Trash Cart' \n",
    " WHERE standardized LIKE 'Trash%Cart';\n",
    "UPDATE recode SET standardized='Snow Removal' \n",
    " WHERE standardized LIKE 'Snow%Removal%';\n",
    "UPDATE recode SET standardized='UNUSED' \n",
    " WHERE standardized IN ('THIS REQUEST IS INACTIVE...Trash Cart', \n",
    "               '(DO NOT USE) Water Bill',\n",
    "               'DO NOT USE Trash', 'NO LONGER IN USE');\n",
    "\n",
    "-- Select the recoded categories and the count of each\n",
    "SELECT standardized, count(*) \n",
    "-- From the original table and table with recoded values\n",
    "  FROM evanston311 \n",
    "       LEFT JOIN recode \n",
    "       -- What column do they have in common?\n",
    "       ON evanston311.category=recode.category \n",
    " -- What do you need to group by to count?\n",
    " GROUP BY standardized\n",
    " -- Display the most common val values first\n",
    " ORDER BY count DESC;"
   ]
  },
  {
   "cell_type": "code",
   "execution_count": 46,
   "metadata": {},
   "outputs": [
    {
     "name": "stdout",
     "output_type": "stream",
     "text": [
      " * sqlite:///myfile.db\n",
      "Done.\n",
      "Done.\n",
      "Done.\n"
     ]
    },
    {
     "data": {
      "text/html": [
       "<table>\n",
       "    <thead>\n",
       "        <tr>\n",
       "            <th>id</th>\n",
       "            <th>email</th>\n",
       "            <th>phone</th>\n",
       "        </tr>\n",
       "    </thead>\n",
       "    <tbody>\n",
       "        <tr>\n",
       "            <td>1340563</td>\n",
       "            <td>0</td>\n",
       "            <td>0</td>\n",
       "        </tr>\n",
       "        <tr>\n",
       "            <td>1826017</td>\n",
       "            <td>0</td>\n",
       "            <td>0</td>\n",
       "        </tr>\n",
       "        <tr>\n",
       "            <td>1849204</td>\n",
       "            <td>0</td>\n",
       "            <td>0</td>\n",
       "        </tr>\n",
       "    </tbody>\n",
       "</table>"
      ],
      "text/plain": [
       "[(1340563, 0, 0), (1826017, 0, 0), (1849204, 0, 0)]"
      ]
     },
     "execution_count": 46,
     "metadata": {},
     "output_type": "execute_result"
    }
   ],
   "source": [
    "%%sql\n",
    "-- To clear table if it already exists\n",
    "DROP TABLE IF EXISTS indicators;\n",
    "\n",
    "-- Create the indicators temp table\n",
    "CREATE TEMP TABLE indicators AS\n",
    "  -- Select id\n",
    "  SELECT id, \n",
    "         -- Create the email indicator (find @)\n",
    "         CAST (description LIKE '%@%' AS integer) AS email,\n",
    "         -- Create the phone indicator\n",
    "         CAST (description LIKE '%___-___-____%' AS integer) AS phone \n",
    "    -- What table contains the data? \n",
    "    FROM evanston311;\n",
    "\n",
    "-- Inspect the contents of the new temp table\n",
    "SELECT *\n",
    "  FROM indicators limit 3;"
   ]
  },
  {
   "cell_type": "code",
   "execution_count": 47,
   "metadata": {},
   "outputs": [
    {
     "name": "stdout",
     "output_type": "stream",
     "text": [
      " * sqlite:///myfile.db\n",
      "Done.\n",
      "Done.\n",
      "(sqlite3.OperationalError) unrecognized token: \":\"\n",
      "[SQL: -- Select the column you'll group by\n",
      "SELECT priority, \n",
      "       -- Compute the proportion of rows with each indicator\n",
      "       sum(email)/count(*)::numeric AS email_prop, \n",
      "       sum(phone)/count(*)::numeric AS phone_prop \n",
      "  -- Tables to select from\n",
      "  FROM evanston311\n",
      "       LEFT JOIN indicators\n",
      "       -- Joining condition\n",
      "       ON evanston311.id=indicators.id\n",
      " -- What are you grouping by?\n",
      " GROUP BY priority;]\n",
      "(Background on this error at: https://sqlalche.me/e/20/e3q8)\n"
     ]
    }
   ],
   "source": [
    "%%sql\n",
    "-- To clear table if it already exists\n",
    "DROP TABLE IF EXISTS indicators;\n",
    "\n",
    "-- Create the temp table\n",
    "CREATE TEMP TABLE indicators AS\n",
    "  SELECT id, \n",
    "         CAST (description LIKE '%@%' AS integer) AS email,\n",
    "         CAST (description LIKE '%___-___-____%' AS integer) AS phone \n",
    "    FROM evanston311;\n",
    "\n",
    "-- Select the column you'll group by\n",
    "SELECT priority, \n",
    "       -- Compute the proportion of rows with each indicator\n",
    "       sum(email)/count(*)::numeric AS email_prop, \n",
    "       sum(phone)/count(*)::numeric AS phone_prop \n",
    "  -- Tables to select from\n",
    "  FROM evanston311\n",
    "       LEFT JOIN indicators\n",
    "       -- Joining condition\n",
    "       ON evanston311.id=indicators.id\n",
    " -- What are you grouping by?\n",
    " GROUP BY priority;"
   ]
  },
  {
   "cell_type": "code",
   "execution_count": null,
   "metadata": {},
   "outputs": [],
   "source": []
  }
 ],
 "metadata": {
  "kernelspec": {
   "display_name": "Python 3",
   "language": "python",
   "name": "python3"
  },
  "language_info": {
   "codemirror_mode": {
    "name": "ipython",
    "version": 3
   },
   "file_extension": ".py",
   "mimetype": "text/x-python",
   "name": "python",
   "nbconvert_exporter": "python",
   "pygments_lexer": "ipython3",
   "version": "3.11.6"
  }
 },
 "nbformat": 4,
 "nbformat_minor": 2
}
