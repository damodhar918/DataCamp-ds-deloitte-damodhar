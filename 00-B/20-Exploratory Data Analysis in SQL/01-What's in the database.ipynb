{
 "cells": [
  {
   "cell_type": "code",
   "execution_count": null,
   "metadata": {},
   "outputs": [],
   "source": [
    "%load_ext sql"
   ]
  },
  {
   "cell_type": "code",
   "execution_count": null,
   "metadata": {},
   "outputs": [],
   "source": [
    "%sql sqlite:///myfile.db"
   ]
  },
  {
   "cell_type": "code",
   "execution_count": null,
   "metadata": {},
   "outputs": [
    {
     "data": {
      "text/plain": [
       "45238"
      ]
     },
     "metadata": {},
     "output_type": "display_data"
    }
   ],
   "source": [
    "import pandas as pd\n",
    "import numpy as np\n",
    "import matplotlib.pyplot as plt\n",
    "import sqlite3\n",
    "conn = sqlite3.connect('myfile.db')\n",
    "url = r'./stackexchange.csv'\n",
    "stackoverflow = pd.read_csv(url)\n",
    "stackoverflow.shape\n",
    "# stackoverflow.to_sql(\"stackoverflow\", conn, if_exists=\"replace\",index=False)"
   ]
  },
  {
   "cell_type": "code",
   "execution_count": null,
   "metadata": {},
   "outputs": [
    {
     "name": "stdout",
     "output_type": "stream",
     "text": [
      " * sqlite:///myfile.db\n",
      "Done.\n"
     ]
    },
    {
     "data": {
      "text/html": [
       "<table>\n",
       "    <thead>\n",
       "        <tr>\n",
       "            <th>count(*)</th>\n",
       "        </tr>\n",
       "    </thead>\n",
       "    <tbody>\n",
       "        <tr>\n",
       "            <td>500</td>\n",
       "        </tr>\n",
       "    </tbody>\n",
       "</table>"
      ],
      "text/plain": [
       "[(500,)]"
      ]
     },
     "metadata": {},
     "output_type": "display_data"
    }
   ],
   "source": [
    "%%sql\n",
    "-- Select the count of the number of rows\n",
    "SELECT count(*)\n",
    "  FROM fortune500;"
   ]
  },
  {
   "cell_type": "code",
   "execution_count": null,
   "metadata": {},
   "outputs": [
    {
     "name": "stdout",
     "output_type": "stream",
     "text": [
      " * sqlite:///myfile.db\n",
      "Done.\n"
     ]
    },
    {
     "data": {
      "text/html": [
       "<table>\n",
       "    <thead>\n",
       "        <tr>\n",
       "            <th>missing</th>\n",
       "            <th>total_rows</th>\n",
       "            <th>ticker_rows</th>\n",
       "            <th>profile_change_rows</th>\n",
       "            <th>industry_rows</th>\n",
       "        </tr>\n",
       "    </thead>\n",
       "    <tbody>\n",
       "        <tr>\n",
       "            <td>32</td>\n",
       "            <td>500</td>\n",
       "            <td>468</td>\n",
       "            <td>437</td>\n",
       "            <td>487</td>\n",
       "        </tr>\n",
       "    </tbody>\n",
       "</table>"
      ],
      "text/plain": [
       "[(32, 500, 468, 437, 487)]"
      ]
     },
     "metadata": {},
     "output_type": "display_data"
    }
   ],
   "source": [
    "%%sql\n",
    "-- Select the count of ticker, \n",
    "-- subtract from the total number of rows, \n",
    "-- and alias as missing\n",
    "SELECT count(*) - count(ticker) AS missing, \n",
    "       count(*) AS total_rows,\n",
    "        count(ticker) AS ticker_rows,\n",
    "        count(profits_change) AS profile_change_rows,\n",
    "        count(industry) AS industry_rows\n",
    "  FROM fortune500;\n"
   ]
  },
  {
   "cell_type": "code",
   "execution_count": null,
   "metadata": {},
   "outputs": [
    {
     "name": "stdout",
     "output_type": "stream",
     "text": [
      " * sqlite:///myfile.db\n",
      "Done.\n"
     ]
    },
    {
     "data": {
      "text/html": [
       "<table>\n",
       "    <thead>\n",
       "        <tr>\n",
       "            <th>name</th>\n",
       "        </tr>\n",
       "    </thead>\n",
       "    <tbody>\n",
       "        <tr>\n",
       "            <td>Apple Incorporated</td>\n",
       "        </tr>\n",
       "        <tr>\n",
       "            <td>Amazon.com Inc</td>\n",
       "        </tr>\n",
       "        <tr>\n",
       "            <td>Alphabet</td>\n",
       "        </tr>\n",
       "        <tr>\n",
       "            <td>Microsoft Corp.</td>\n",
       "        </tr>\n",
       "        <tr>\n",
       "            <td>International Business Machines Corporation</td>\n",
       "        </tr>\n",
       "        <tr>\n",
       "            <td>PayPal Holdings Incorporated</td>\n",
       "        </tr>\n",
       "        <tr>\n",
       "            <td>eBay, Inc.</td>\n",
       "        </tr>\n",
       "        <tr>\n",
       "            <td>Adobe Systems Incorporated</td>\n",
       "        </tr>\n",
       "    </tbody>\n",
       "</table>"
      ],
      "text/plain": [
       "[('Apple Incorporated',),\n",
       " ('Amazon.com Inc',),\n",
       " ('Alphabet',),\n",
       " ('Microsoft Corp.',),\n",
       " ('International Business Machines Corporation',),\n",
       " ('PayPal Holdings Incorporated',),\n",
       " ('eBay, Inc.',),\n",
       " ('Adobe Systems Incorporated',)]"
      ]
     },
     "metadata": {},
     "output_type": "display_data"
    }
   ],
   "source": [
    "%%sql\n",
    "SELECT company.name\n",
    "FROM company\n",
    "INNER JOIN fortune500\n",
    "ON company.ticker = fortune500.ticker;\n"
   ]
  },
  {
   "cell_type": "code",
   "execution_count": null,
   "metadata": {},
   "outputs": [
    {
     "name": "stdout",
     "output_type": "stream",
     "text": [
      " * sqlite:///myfile.db\n",
      "Done.\n"
     ]
    },
    {
     "data": {
      "text/html": [
       "<table>\n",
       "    <thead>\n",
       "        <tr>\n",
       "            <th>type</th>\n",
       "            <th>count</th>\n",
       "        </tr>\n",
       "    </thead>\n",
       "    <tbody>\n",
       "        <tr>\n",
       "            <td>cloud</td>\n",
       "            <td>31</td>\n",
       "        </tr>\n",
       "        <tr>\n",
       "            <td>database</td>\n",
       "            <td>6</td>\n",
       "        </tr>\n",
       "        <tr>\n",
       "            <td>payment</td>\n",
       "            <td>5</td>\n",
       "        </tr>\n",
       "        <tr>\n",
       "            <td>mobile-os</td>\n",
       "            <td>4</td>\n",
       "        </tr>\n",
       "        <tr>\n",
       "            <td>company</td>\n",
       "            <td>4</td>\n",
       "        </tr>\n",
       "        <tr>\n",
       "            <td>api</td>\n",
       "            <td>4</td>\n",
       "        </tr>\n",
       "        <tr>\n",
       "            <td>storage</td>\n",
       "            <td>2</td>\n",
       "        </tr>\n",
       "        <tr>\n",
       "            <td>spreadsheet</td>\n",
       "            <td>2</td>\n",
       "        </tr>\n",
       "        <tr>\n",
       "            <td>os</td>\n",
       "            <td>2</td>\n",
       "        </tr>\n",
       "        <tr>\n",
       "            <td>identity</td>\n",
       "            <td>1</td>\n",
       "        </tr>\n",
       "    </tbody>\n",
       "</table>"
      ],
      "text/plain": [
       "[('cloud', 31),\n",
       " ('database', 6),\n",
       " ('payment', 5),\n",
       " ('mobile-os', 4),\n",
       " ('company', 4),\n",
       " ('api', 4),\n",
       " ('storage', 2),\n",
       " ('spreadsheet', 2),\n",
       " ('os', 2),\n",
       " ('identity', 1)]"
      ]
     },
     "metadata": {},
     "output_type": "display_data"
    }
   ],
   "source": [
    "%%sql\n",
    "\n",
    "-- Count the number of tags with each type\n",
    "SELECT type, count(*) AS count\n",
    "  FROM tag_type\n",
    " -- To get the count for each type, what do you need to do?\n",
    " GROUP BY type\n",
    " -- Order the results with the most common\n",
    " -- tag types listed first\n",
    " ORDER BY count DESC;"
   ]
  },
  {
   "cell_type": "code",
   "execution_count": null,
   "metadata": {},
   "outputs": [
    {
     "name": "stdout",
     "output_type": "stream",
     "text": [
      " * sqlite:///myfile.db\n",
      "Done.\n"
     ]
    },
    {
     "data": {
      "text/html": [
       "<table>\n",
       "    <thead>\n",
       "        <tr>\n",
       "            <th>name</th>\n",
       "            <th>tag</th>\n",
       "            <th>type</th>\n",
       "        </tr>\n",
       "    </thead>\n",
       "    <tbody>\n",
       "        <tr>\n",
       "            <td>Amazon Web Services</td>\n",
       "            <td>amazon-cloudformation</td>\n",
       "            <td>cloud</td>\n",
       "        </tr>\n",
       "        <tr>\n",
       "            <td>Amazon Web Services</td>\n",
       "            <td>amazon-cloudfront</td>\n",
       "            <td>cloud</td>\n",
       "        </tr>\n",
       "        <tr>\n",
       "            <td>Amazon Web Services</td>\n",
       "            <td>amazon-cloudsearch</td>\n",
       "            <td>cloud</td>\n",
       "        </tr>\n",
       "        <tr>\n",
       "            <td>Amazon Web Services</td>\n",
       "            <td>amazon-cloudwatch</td>\n",
       "            <td>cloud</td>\n",
       "        </tr>\n",
       "        <tr>\n",
       "            <td>Amazon Web Services</td>\n",
       "            <td>amazon-cognito</td>\n",
       "            <td>cloud</td>\n",
       "        </tr>\n",
       "        <tr>\n",
       "            <td>Amazon Web Services</td>\n",
       "            <td>amazon-data-pipeline</td>\n",
       "            <td>cloud</td>\n",
       "        </tr>\n",
       "        <tr>\n",
       "            <td>Amazon Web Services</td>\n",
       "            <td>amazon-dynamodb</td>\n",
       "            <td>cloud</td>\n",
       "        </tr>\n",
       "        <tr>\n",
       "            <td>Amazon Web Services</td>\n",
       "            <td>amazon-ebs</td>\n",
       "            <td>cloud</td>\n",
       "        </tr>\n",
       "        <tr>\n",
       "            <td>Amazon Web Services</td>\n",
       "            <td>amazon-ec2</td>\n",
       "            <td>cloud</td>\n",
       "        </tr>\n",
       "        <tr>\n",
       "            <td>Amazon Web Services</td>\n",
       "            <td>amazon-ecs</td>\n",
       "            <td>cloud</td>\n",
       "        </tr>\n",
       "        <tr>\n",
       "            <td>Amazon Web Services</td>\n",
       "            <td>amazon-elastic-beanstalk</td>\n",
       "            <td>cloud</td>\n",
       "        </tr>\n",
       "        <tr>\n",
       "            <td>Amazon Web Services</td>\n",
       "            <td>amazon-elasticache</td>\n",
       "            <td>cloud</td>\n",
       "        </tr>\n",
       "        <tr>\n",
       "            <td>Amazon Web Services</td>\n",
       "            <td>amazon-elb</td>\n",
       "            <td>cloud</td>\n",
       "        </tr>\n",
       "        <tr>\n",
       "            <td>Amazon Web Services</td>\n",
       "            <td>amazon-emr</td>\n",
       "            <td>cloud</td>\n",
       "        </tr>\n",
       "        <tr>\n",
       "            <td>Amazon Web Services</td>\n",
       "            <td>amazon-glacier</td>\n",
       "            <td>cloud</td>\n",
       "        </tr>\n",
       "        <tr>\n",
       "            <td>Amazon Web Services</td>\n",
       "            <td>amazon-kinesis</td>\n",
       "            <td>cloud</td>\n",
       "        </tr>\n",
       "        <tr>\n",
       "            <td>Amazon Web Services</td>\n",
       "            <td>amazon-lambda</td>\n",
       "            <td>cloud</td>\n",
       "        </tr>\n",
       "        <tr>\n",
       "            <td>Amazon Web Services</td>\n",
       "            <td>amazon-rds-aurora</td>\n",
       "            <td>cloud</td>\n",
       "        </tr>\n",
       "        <tr>\n",
       "            <td>Amazon Web Services</td>\n",
       "            <td>amazon-rds</td>\n",
       "            <td>cloud</td>\n",
       "        </tr>\n",
       "        <tr>\n",
       "            <td>Amazon Web Services</td>\n",
       "            <td>amazon-redshift</td>\n",
       "            <td>cloud</td>\n",
       "        </tr>\n",
       "        <tr>\n",
       "            <td>Amazon Web Services</td>\n",
       "            <td>amazon-route53</td>\n",
       "            <td>cloud</td>\n",
       "        </tr>\n",
       "        <tr>\n",
       "            <td>Amazon Web Services</td>\n",
       "            <td>amazon-s3</td>\n",
       "            <td>cloud</td>\n",
       "        </tr>\n",
       "        <tr>\n",
       "            <td>Amazon Web Services</td>\n",
       "            <td>amazon-ses</td>\n",
       "            <td>cloud</td>\n",
       "        </tr>\n",
       "        <tr>\n",
       "            <td>Amazon Web Services</td>\n",
       "            <td>amazon-simpledb</td>\n",
       "            <td>cloud</td>\n",
       "        </tr>\n",
       "        <tr>\n",
       "            <td>Amazon Web Services</td>\n",
       "            <td>amazon-sns</td>\n",
       "            <td>cloud</td>\n",
       "        </tr>\n",
       "        <tr>\n",
       "            <td>Amazon Web Services</td>\n",
       "            <td>amazon-sqs</td>\n",
       "            <td>cloud</td>\n",
       "        </tr>\n",
       "        <tr>\n",
       "            <td>Amazon Web Services</td>\n",
       "            <td>amazon-swf</td>\n",
       "            <td>cloud</td>\n",
       "        </tr>\n",
       "        <tr>\n",
       "            <td>Amazon Web Services</td>\n",
       "            <td>amazon-vpc</td>\n",
       "            <td>cloud</td>\n",
       "        </tr>\n",
       "        <tr>\n",
       "            <td>Amazon Web Services</td>\n",
       "            <td>amazon-web-services</td>\n",
       "            <td>cloud</td>\n",
       "        </tr>\n",
       "        <tr>\n",
       "            <td>Microsoft Corp.</td>\n",
       "            <td>azure</td>\n",
       "            <td>cloud</td>\n",
       "        </tr>\n",
       "        <tr>\n",
       "            <td>Dropbox</td>\n",
       "            <td>dropbox</td>\n",
       "            <td>cloud</td>\n",
       "        </tr>\n",
       "    </tbody>\n",
       "</table>"
      ],
      "text/plain": [
       "[('Amazon Web Services', 'amazon-cloudformation', 'cloud'),\n",
       " ('Amazon Web Services', 'amazon-cloudfront', 'cloud'),\n",
       " ('Amazon Web Services', 'amazon-cloudsearch', 'cloud'),\n",
       " ('Amazon Web Services', 'amazon-cloudwatch', 'cloud'),\n",
       " ('Amazon Web Services', 'amazon-cognito', 'cloud'),\n",
       " ('Amazon Web Services', 'amazon-data-pipeline', 'cloud'),\n",
       " ('Amazon Web Services', 'amazon-dynamodb', 'cloud'),\n",
       " ('Amazon Web Services', 'amazon-ebs', 'cloud'),\n",
       " ('Amazon Web Services', 'amazon-ec2', 'cloud'),\n",
       " ('Amazon Web Services', 'amazon-ecs', 'cloud'),\n",
       " ('Amazon Web Services', 'amazon-elastic-beanstalk', 'cloud'),\n",
       " ('Amazon Web Services', 'amazon-elasticache', 'cloud'),\n",
       " ('Amazon Web Services', 'amazon-elb', 'cloud'),\n",
       " ('Amazon Web Services', 'amazon-emr', 'cloud'),\n",
       " ('Amazon Web Services', 'amazon-glacier', 'cloud'),\n",
       " ('Amazon Web Services', 'amazon-kinesis', 'cloud'),\n",
       " ('Amazon Web Services', 'amazon-lambda', 'cloud'),\n",
       " ('Amazon Web Services', 'amazon-rds-aurora', 'cloud'),\n",
       " ('Amazon Web Services', 'amazon-rds', 'cloud'),\n",
       " ('Amazon Web Services', 'amazon-redshift', 'cloud'),\n",
       " ('Amazon Web Services', 'amazon-route53', 'cloud'),\n",
       " ('Amazon Web Services', 'amazon-s3', 'cloud'),\n",
       " ('Amazon Web Services', 'amazon-ses', 'cloud'),\n",
       " ('Amazon Web Services', 'amazon-simpledb', 'cloud'),\n",
       " ('Amazon Web Services', 'amazon-sns', 'cloud'),\n",
       " ('Amazon Web Services', 'amazon-sqs', 'cloud'),\n",
       " ('Amazon Web Services', 'amazon-swf', 'cloud'),\n",
       " ('Amazon Web Services', 'amazon-vpc', 'cloud'),\n",
       " ('Amazon Web Services', 'amazon-web-services', 'cloud'),\n",
       " ('Microsoft Corp.', 'azure', 'cloud'),\n",
       " ('Dropbox', 'dropbox', 'cloud')]"
      ]
     },
     "metadata": {},
     "output_type": "display_data"
    }
   ],
   "source": [
    "%%sql\n",
    "-- Select the 3 columns desired\n",
    "SELECT name, tag_type.tag, tag_type.type\n",
    "  FROM company\n",
    "  \t   -- Join the tag_company and company tables\n",
    "       INNER JOIN tag_company \n",
    "       ON company.id = tag_company.company_id\n",
    "       -- Join the tag_type and company tables\n",
    "       INNER JOIN tag_type\n",
    "       ON tag_company.tag = tag_type.tag\n",
    "  -- Filter to most common type\n",
    "  WHERE type='cloud';\n"
   ]
  },
  {
   "cell_type": "code",
   "execution_count": null,
   "metadata": {},
   "outputs": [
    {
     "name": "stdout",
     "output_type": "stream",
     "text": [
      " * sqlite:///myfile.db\n",
      "Done.\n"
     ]
    },
    {
     "data": {
      "text/html": [
       "<table>\n",
       "    <thead>\n",
       "        <tr>\n",
       "            <th>industry2</th>\n",
       "            <th>COUNT(*)</th>\n",
       "        </tr>\n",
       "    </thead>\n",
       "    <tbody>\n",
       "        <tr>\n",
       "            <td>Utilities: Gas and Electric</td>\n",
       "            <td>22</td>\n",
       "        </tr>\n",
       "    </tbody>\n",
       "</table>"
      ],
      "text/plain": [
       "[('Utilities: Gas and Electric', 22)]"
      ]
     },
     "metadata": {},
     "output_type": "display_data"
    }
   ],
   "source": [
    "%%sql\n",
    "SELECT COALESCE(industry, sector, 'Unknown') AS industry2,\n",
    "       COUNT(*) \n",
    "FROM fortune500 \n",
    "GROUP BY industry2\n",
    "ORDER BY COUNT(*) DESC\n",
    "LIMIT 1;\n"
   ]
  },
  {
   "cell_type": "code",
   "execution_count": null,
   "metadata": {},
   "outputs": [
    {
     "name": "stdout",
     "output_type": "stream",
     "text": [
      " * sqlite:///myfile.db\n",
      "Done.\n"
     ]
    },
    {
     "data": {
      "text/html": [
       "<table>\n",
       "    <thead>\n",
       "        <tr>\n",
       "            <th>name</th>\n",
       "            <th>title</th>\n",
       "            <th>rank</th>\n",
       "        </tr>\n",
       "    </thead>\n",
       "    <tbody>\n",
       "        <tr>\n",
       "            <td>Apple Incorporated</td>\n",
       "            <td>Apple</td>\n",
       "            <td>3</td>\n",
       "        </tr>\n",
       "        <tr>\n",
       "            <td>Amazon.com Inc</td>\n",
       "            <td>Amazon.com</td>\n",
       "            <td>12</td>\n",
       "        </tr>\n",
       "        <tr>\n",
       "            <td>Amazon Web Services</td>\n",
       "            <td>Amazon.com</td>\n",
       "            <td>12</td>\n",
       "        </tr>\n",
       "        <tr>\n",
       "            <td>Alphabet</td>\n",
       "            <td>Alphabet</td>\n",
       "            <td>27</td>\n",
       "        </tr>\n",
       "        <tr>\n",
       "            <td>Google LLC</td>\n",
       "            <td>Alphabet</td>\n",
       "            <td>27</td>\n",
       "        </tr>\n",
       "        <tr>\n",
       "            <td>Microsoft Corp.</td>\n",
       "            <td>Microsoft</td>\n",
       "            <td>28</td>\n",
       "        </tr>\n",
       "        <tr>\n",
       "            <td>International Business Machines Corporation</td>\n",
       "            <td>IBM</td>\n",
       "            <td>32</td>\n",
       "        </tr>\n",
       "        <tr>\n",
       "            <td>PayPal Holdings Incorporated</td>\n",
       "            <td>PayPal Holdings</td>\n",
       "            <td>264</td>\n",
       "        </tr>\n",
       "        <tr>\n",
       "            <td>eBay, Inc.</td>\n",
       "            <td>eBay</td>\n",
       "            <td>310</td>\n",
       "        </tr>\n",
       "        <tr>\n",
       "            <td>Adobe Systems Incorporated</td>\n",
       "            <td>Adobe Systems</td>\n",
       "            <td>443</td>\n",
       "        </tr>\n",
       "    </tbody>\n",
       "</table>"
      ],
      "text/plain": [
       "[('Apple Incorporated', 'Apple', 3),\n",
       " ('Amazon.com Inc', 'Amazon.com', 12),\n",
       " ('Amazon Web Services', 'Amazon.com', 12),\n",
       " ('Alphabet', 'Alphabet', 27),\n",
       " ('Google LLC', 'Alphabet', 27),\n",
       " ('Microsoft Corp.', 'Microsoft', 28),\n",
       " ('International Business Machines Corporation', 'IBM', 32),\n",
       " ('PayPal Holdings Incorporated', 'PayPal Holdings', 264),\n",
       " ('eBay, Inc.', 'eBay', 310),\n",
       " ('Adobe Systems Incorporated', 'Adobe Systems', 443)]"
      ]
     },
     "metadata": {},
     "output_type": "display_data"
    }
   ],
   "source": [
    "%%sql\n",
    "\n",
    "SELECT company_original.name, title, rank\n",
    "  -- Start with original company information\n",
    "  FROM company AS company_original\n",
    "       -- Join to another copy of company with parent\n",
    "       -- company information\n",
    "\t   LEFT JOIN company AS company_parent\n",
    "       ON company_original.parent_id = company_parent.id \n",
    "       -- Join to fortune500, only keep rows that match\n",
    "       INNER JOIN fortune500 \n",
    "       -- Use parent ticker if there is one, \n",
    "       -- otherwise original ticker\n",
    "       ON coalesce(company_parent.ticker, \n",
    "                   company_original.ticker) = \n",
    "             fortune500.ticker\n",
    " -- For clarity, order by rank\n",
    " ORDER BY rank; "
   ]
  },
  {
   "cell_type": "code",
   "execution_count": null,
   "metadata": {},
   "outputs": [
    {
     "name": "stdout",
     "output_type": "stream",
     "text": [
      " * sqlite:///myfile.db\n",
      "Done.\n"
     ]
    },
    {
     "data": {
      "text/html": [
       "<table>\n",
       "    <thead>\n",
       "        <tr>\n",
       "            <th>profits_change</th>\n",
       "            <th>profits_change_int</th>\n",
       "        </tr>\n",
       "    </thead>\n",
       "    <tbody>\n",
       "        <tr>\n",
       "            <td>-7.2</td>\n",
       "            <td>-7</td>\n",
       "        </tr>\n",
       "        <tr>\n",
       "            <td>0.0</td>\n",
       "            <td>0</td>\n",
       "        </tr>\n",
       "        <tr>\n",
       "            <td>-14.4</td>\n",
       "            <td>-14</td>\n",
       "        </tr>\n",
       "        <tr>\n",
       "            <td>-51.5</td>\n",
       "            <td>-51</td>\n",
       "        </tr>\n",
       "        <tr>\n",
       "            <td>53.0</td>\n",
       "            <td>53</td>\n",
       "        </tr>\n",
       "    </tbody>\n",
       "</table>"
      ],
      "text/plain": [
       "[(-7.2, -7), (0.0, 0), (-14.4, -14), (-51.5, -51), (53.0, 53)]"
      ]
     },
     "metadata": {},
     "output_type": "display_data"
    }
   ],
   "source": [
    "%%sql\n",
    "-- Select the original value\n",
    "SELECT profits_change, \n",
    "\t   -- Cast profits_change\n",
    "CAST(profits_change AS integer) AS profits_change_int\n",
    "  FROM fortune500 limit 5;\n"
   ]
  },
  {
   "cell_type": "code",
   "execution_count": null,
   "metadata": {},
   "outputs": [
    {
     "name": "stdout",
     "output_type": "stream",
     "text": [
      " * sqlite:///myfile.db\n",
      "(sqlite3.OperationalError) unrecognized token: \":\"\n",
      "[SQL: -- Divide 10 by 3\n",
      "SELECT 10/3,\n",
      "       -- Cast 10 as numeric and divide by 3\n",
      "       10::numeric/3;]\n",
      "(Background on this error at: https://sqlalche.me/e/20/e3q8)\n"
     ]
    }
   ],
   "source": [
    "%%sql\n",
    "-- Divide 10 by 3\n",
    "SELECT 10/3,\n",
    "       -- Cast 10 as numeric and divide by 3\n",
    "       10::numeric/3;\n"
   ]
  },
  {
   "cell_type": "code",
   "execution_count": null,
   "metadata": {},
   "outputs": [
    {
     "name": "stdout",
     "output_type": "stream",
     "text": [
      " * sqlite:///myfile.db\n",
      "(sqlite3.OperationalError) unrecognized token: \":\"\n",
      "[SQL: SELECT '3.2'::numeric,\n",
      "       '-123'::numeric,\n",
      "       '1e3'::numeric,\n",
      "       '1e-3'::numeric,\n",
      "       '02314'::numeric,\n",
      "       '0002'::numeric;]\n",
      "(Background on this error at: https://sqlalche.me/e/20/e3q8)\n"
     ]
    }
   ],
   "source": [
    "%%sql\n",
    "\n",
    "SELECT '3.2'::numeric,\n",
    "       '-123'::numeric,\n",
    "       '1e3'::numeric,\n",
    "       '1e-3'::numeric,\n",
    "       '02314'::numeric,\n",
    "       '0002'::numeric;"
   ]
  },
  {
   "cell_type": "code",
   "execution_count": null,
   "metadata": {},
   "outputs": [
    {
     "name": "stdout",
     "output_type": "stream",
     "text": [
      " * sqlite:///myfile.db\n",
      "Done.\n"
     ]
    },
    {
     "data": {
      "text/html": [
       "<table>\n",
       "    <thead>\n",
       "        <tr>\n",
       "            <th>revenues_change</th>\n",
       "            <th>count(*)</th>\n",
       "        </tr>\n",
       "    </thead>\n",
       "    <tbody>\n",
       "        <tr>\n",
       "            <td>-57.5</td>\n",
       "            <td>1</td>\n",
       "        </tr>\n",
       "        <tr>\n",
       "            <td>-53.3</td>\n",
       "            <td>1</td>\n",
       "        </tr>\n",
       "        <tr>\n",
       "            <td>-51.4</td>\n",
       "            <td>1</td>\n",
       "        </tr>\n",
       "    </tbody>\n",
       "</table>"
      ],
      "text/plain": [
       "[(-57.5, 1), (-53.3, 1), (-51.4, 1)]"
      ]
     },
     "metadata": {},
     "output_type": "display_data"
    }
   ],
   "source": [
    "%%sql\n",
    "-- Select the count of each value of revenues_change\n",
    "SELECT revenues_change, count(*) \n",
    "  FROM fortune500\n",
    " GROUP BY revenues_change \n",
    " -- order by the values of revenues_change\n",
    " ORDER BY revenues_change limit 3;\n"
   ]
  },
  {
   "cell_type": "code",
   "execution_count": null,
   "metadata": {},
   "outputs": [
    {
     "name": "stdout",
     "output_type": "stream",
     "text": [
      " * sqlite:///myfile.db\n",
      "(sqlite3.OperationalError) unrecognized token: \":\"\n",
      "[SQL: -- Select the count of each revenues_change integer value\n",
      "SELECT revenues_change::integer, count(*) \n",
      "  FROM fortune500\n",
      " GROUP BY revenues_change::integer \n",
      " -- order by the values of revenues_change\n",
      " ORDER BY revenues_change;]\n",
      "(Background on this error at: https://sqlalche.me/e/20/e3q8)\n"
     ]
    }
   ],
   "source": [
    "%%sql\n",
    "-- Select the count of each revenues_change integer value\n",
    "SELECT revenues_change::integer, count(*) \n",
    "  FROM fortune500\n",
    " GROUP BY revenues_change::integer \n",
    " -- order by the values of revenues_change\n",
    " ORDER BY revenues_change;\n"
   ]
  },
  {
   "cell_type": "code",
   "execution_count": null,
   "metadata": {},
   "outputs": [
    {
     "name": "stdout",
     "output_type": "stream",
     "text": [
      " * sqlite:///myfile.db\n",
      "Done.\n"
     ]
    },
    {
     "data": {
      "text/html": [
       "<table>\n",
       "    <thead>\n",
       "        <tr>\n",
       "            <th>count(*)</th>\n",
       "        </tr>\n",
       "    </thead>\n",
       "    <tbody>\n",
       "        <tr>\n",
       "            <td>298</td>\n",
       "        </tr>\n",
       "    </tbody>\n",
       "</table>"
      ],
      "text/plain": [
       "[(298,)]"
      ]
     },
     "metadata": {},
     "output_type": "display_data"
    }
   ],
   "source": [
    "%%sql\n",
    "-- Count rows \n",
    "SELECT count(*)\n",
    "  FROM fortune500\n",
    " -- Where...\n",
    " WHERE revenues_change > 0;\n"
   ]
  },
  {
   "cell_type": "code",
   "execution_count": null,
   "metadata": {},
   "outputs": [],
   "source": []
  }
 ],
 "metadata": {
  "language_info": {
   "name": "python"
  }
 },
 "nbformat": 4,
 "nbformat_minor": 2
}
