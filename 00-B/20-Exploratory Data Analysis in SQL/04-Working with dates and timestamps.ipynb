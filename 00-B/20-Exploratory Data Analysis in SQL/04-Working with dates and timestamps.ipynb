{
 "cells": [
  {
   "cell_type": "code",
   "execution_count": 1,
   "metadata": {},
   "outputs": [],
   "source": [
    "%load_ext sql"
   ]
  },
  {
   "cell_type": "code",
   "execution_count": 2,
   "metadata": {},
   "outputs": [],
   "source": [
    "%sql sqlite:///myfile.db"
   ]
  },
  {
   "cell_type": "code",
   "execution_count": 5,
   "metadata": {},
   "outputs": [
    {
     "name": "stdout",
     "output_type": "stream",
     "text": [
      " * sqlite:///myfile.db\n",
      "(sqlite3.OperationalError) unrecognized token: \":\"\n",
      "[SQL: -- Count requests created on January 31, 2017\n",
      "SELECT count(*) \n",
      "  FROM evanston311\n",
      " WHERE date_created::date= '2017-01-31';]\n",
      "(Background on this error at: https://sqlalche.me/e/20/e3q8)\n"
     ]
    }
   ],
   "source": [
    "%%sql\n",
    "-- Count requests created on January 31, 2017\n",
    "SELECT count(*) \n",
    "  FROM evanston311\n",
    " WHERE date_created::date= '2017-01-31';"
   ]
  },
  {
   "cell_type": "code",
   "execution_count": 6,
   "metadata": {},
   "outputs": [
    {
     "name": "stdout",
     "output_type": "stream",
     "text": [
      " * sqlite:///myfile.db\n",
      "Done.\n"
     ]
    },
    {
     "data": {
      "text/html": [
       "<table>\n",
       "    <thead>\n",
       "        <tr>\n",
       "            <th>count(*)</th>\n",
       "        </tr>\n",
       "    </thead>\n",
       "    <tbody>\n",
       "        <tr>\n",
       "            <td>45</td>\n",
       "        </tr>\n",
       "    </tbody>\n",
       "</table>"
      ],
      "text/plain": [
       "[(45,)]"
      ]
     },
     "execution_count": 6,
     "metadata": {},
     "output_type": "execute_result"
    }
   ],
   "source": [
    "%%sql\n",
    "-- Count requests created on January 31, 2017\n",
    "SELECT count(*) \n",
    "FROM evanston311\n",
    "WHERE date(date_created) = '2017-01-31';"
   ]
  },
  {
   "cell_type": "code",
   "execution_count": 7,
   "metadata": {},
   "outputs": [
    {
     "name": "stdout",
     "output_type": "stream",
     "text": [
      " * sqlite:///myfile.db\n",
      "Done.\n"
     ]
    },
    {
     "data": {
      "text/html": [
       "<table>\n",
       "    <thead>\n",
       "        <tr>\n",
       "            <th>count(*)</th>\n",
       "        </tr>\n",
       "    </thead>\n",
       "    <tbody>\n",
       "        <tr>\n",
       "            <td>58</td>\n",
       "        </tr>\n",
       "    </tbody>\n",
       "</table>"
      ],
      "text/plain": [
       "[(58,)]"
      ]
     },
     "execution_count": 7,
     "metadata": {},
     "output_type": "execute_result"
    }
   ],
   "source": [
    "%%sql\n",
    "-- Count requests created on February 29, 2016\n",
    "SELECT count(*)\n",
    "  FROM evanston311 \n",
    " WHERE date_created >= '2016-02-29' \n",
    "   AND date_created < '2016-03-01';"
   ]
  },
  {
   "cell_type": "code",
   "execution_count": 9,
   "metadata": {},
   "outputs": [
    {
     "name": "stdout",
     "output_type": "stream",
     "text": [
      " * sqlite:///myfile.db\n",
      "Done.\n"
     ]
    },
    {
     "data": {
      "text/html": [
       "<table>\n",
       "    <thead>\n",
       "        <tr>\n",
       "            <th>count(*)</th>\n",
       "        </tr>\n",
       "    </thead>\n",
       "    <tbody>\n",
       "        <tr>\n",
       "            <td>33</td>\n",
       "        </tr>\n",
       "    </tbody>\n",
       "</table>"
      ],
      "text/plain": [
       "[(33,)]"
      ]
     },
     "execution_count": 9,
     "metadata": {},
     "output_type": "execute_result"
    }
   ],
   "source": [
    "%%sql\n",
    "-- Count requests created on March 13, 2017\n",
    "SELECT count(*) \n",
    "FROM evanston311 \n",
    "WHERE date_created >= '2017-03-13' AND date_created < '2017-03-14';"
   ]
  },
  {
   "cell_type": "code",
   "execution_count": 10,
   "metadata": {},
   "outputs": [
    {
     "name": "stdout",
     "output_type": "stream",
     "text": [
      " * sqlite:///myfile.db\n",
      "Done.\n"
     ]
    },
    {
     "data": {
      "text/html": [
       "<table>\n",
       "    <thead>\n",
       "        <tr>\n",
       "            <th>max(date_created) - min(date_created)</th>\n",
       "        </tr>\n",
       "    </thead>\n",
       "    <tbody>\n",
       "        <tr>\n",
       "            <td>2</td>\n",
       "        </tr>\n",
       "    </tbody>\n",
       "</table>"
      ],
      "text/plain": [
       "[(2,)]"
      ]
     },
     "execution_count": 10,
     "metadata": {},
     "output_type": "execute_result"
    }
   ],
   "source": [
    "%%sql\n",
    "-- Subtract the min date_created from the max\n",
    "SELECT max(date_created) - min(date_created)\n",
    "  FROM evanston311;"
   ]
  },
  {
   "cell_type": "code",
   "execution_count": 11,
   "metadata": {},
   "outputs": [
    {
     "name": "stdout",
     "output_type": "stream",
     "text": [
      " * sqlite:///myfile.db\n",
      "(sqlite3.OperationalError) no such function: now\n",
      "[SQL: -- How old is the most recent request?\n",
      "SELECT now() - max(date_created)\n",
      "  FROM evanston311;]\n",
      "(Background on this error at: https://sqlalche.me/e/20/e3q8)\n"
     ]
    }
   ],
   "source": [
    "%%sql\n",
    "-- How old is the most recent request?\n",
    "SELECT now() - max(date_created)\n",
    "  FROM evanston311;"
   ]
  },
  {
   "cell_type": "code",
   "execution_count": 12,
   "metadata": {},
   "outputs": [
    {
     "name": "stdout",
     "output_type": "stream",
     "text": [
      " * sqlite:///myfile.db\n",
      "Done.\n"
     ]
    },
    {
     "data": {
      "text/html": [
       "<table>\n",
       "    <thead>\n",
       "        <tr>\n",
       "            <th>datetime(&#x27;now&#x27;) - max(date_created)</th>\n",
       "        </tr>\n",
       "    </thead>\n",
       "    <tbody>\n",
       "        <tr>\n",
       "            <td>5</td>\n",
       "        </tr>\n",
       "    </tbody>\n",
       "</table>"
      ],
      "text/plain": [
       "[(5,)]"
      ]
     },
     "execution_count": 12,
     "metadata": {},
     "output_type": "execute_result"
    }
   ],
   "source": [
    "%%sql\n",
    "SELECT datetime('now') - max(date_created)\n",
    "FROM evanston311;"
   ]
  },
  {
   "cell_type": "code",
   "execution_count": 13,
   "metadata": {},
   "outputs": [
    {
     "name": "stdout",
     "output_type": "stream",
     "text": [
      " * sqlite:///myfile.db\n",
      "(sqlite3.OperationalError) unrecognized token: \":\"\n",
      "[SQL: select now()+'100 days'::interval]\n",
      "(Background on this error at: https://sqlalche.me/e/20/e3q8)\n"
     ]
    }
   ],
   "source": [
    "%%sql\n",
    "\n",
    "select now()+'100 days'::interval"
   ]
  },
  {
   "cell_type": "code",
   "execution_count": 16,
   "metadata": {},
   "outputs": [
    {
     "name": "stdout",
     "output_type": "stream",
     "text": [
      " * sqlite:///myfile.db\n",
      "Done.\n"
     ]
    },
    {
     "data": {
      "text/html": [
       "<table>\n",
       "    <thead>\n",
       "        <tr>\n",
       "            <th>DATETIME(&#x27;now&#x27;, &#x27;+100 days&#x27;)</th>\n",
       "            <th>DATETIME(&#x27;now&#x27;, &#x27;+100 days&#x27;, &#x27;localtime&#x27;)</th>\n",
       "            <th>DATETIME(&#x27;now&#x27;, &#x27;+100 days&#x27;, &#x27;utc&#x27;)</th>\n",
       "            <th>DATETIME(&#x27;now&#x27;, &#x27;+100 minutes&#x27;, &#x27;localtime&#x27;, &#x27;utc&#x27;)</th>\n",
       "        </tr>\n",
       "    </thead>\n",
       "    <tbody>\n",
       "        <tr>\n",
       "            <td>2024-03-02 15:12:43</td>\n",
       "            <td>2024-03-02 20:42:43</td>\n",
       "            <td>2024-03-02 09:42:43</td>\n",
       "            <td>2023-11-23 16:52:43</td>\n",
       "        </tr>\n",
       "    </tbody>\n",
       "</table>"
      ],
      "text/plain": [
       "[('2024-03-02 15:12:43', '2024-03-02 20:42:43', '2024-03-02 09:42:43', '2023-11-23 16:52:43')]"
      ]
     },
     "execution_count": 16,
     "metadata": {},
     "output_type": "execute_result"
    }
   ],
   "source": [
    "%%sql\n",
    "SELECT DATETIME('now', '+100 days'), \n",
    "       DATETIME('now', '+100 days', 'localtime'),\n",
    "       DATETIME('now', '+100 days', 'utc'),\n",
    "       DATETIME('now', '+100 minutes', 'localtime', 'utc')"
   ]
  },
  {
   "cell_type": "code",
   "execution_count": 18,
   "metadata": {},
   "outputs": [
    {
     "name": "stdout",
     "output_type": "stream",
     "text": [
      " * sqlite:///myfile.db\n",
      "Done.\n"
     ]
    },
    {
     "data": {
      "text/html": [
       "<table>\n",
       "    <thead>\n",
       "        <tr>\n",
       "            <th>category</th>\n",
       "            <th>completion_time</th>\n",
       "        </tr>\n",
       "    </thead>\n",
       "    <tbody>\n",
       "        <tr>\n",
       "            <td>Rodents- Rats</td>\n",
       "            <td>0.11494252873563218</td>\n",
       "        </tr>\n",
       "        <tr>\n",
       "            <td>Public Transit Agency Issue</td>\n",
       "            <td>0.07042253521126761</td>\n",
       "        </tr>\n",
       "        <tr>\n",
       "            <td>Smoking</td>\n",
       "            <td>0.047619047619047616</td>\n",
       "        </tr>\n",
       "        <tr>\n",
       "            <td>General/Routine Maintenance - Facilities Management</td>\n",
       "            <td>0.04</td>\n",
       "        </tr>\n",
       "        <tr>\n",
       "            <td>Check my Wheel Tax Payment Status?</td>\n",
       "            <td>0.03225806451612903</td>\n",
       "        </tr>\n",
       "    </tbody>\n",
       "</table>"
      ],
      "text/plain": [
       "[('Rodents- Rats', 0.11494252873563218),\n",
       " ('Public Transit Agency Issue', 0.07042253521126761),\n",
       " ('Smoking', 0.047619047619047616),\n",
       " ('General/Routine Maintenance - Facilities Management', 0.04),\n",
       " ('Check my Wheel Tax Payment Status?', 0.03225806451612903)]"
      ]
     },
     "execution_count": 18,
     "metadata": {},
     "output_type": "execute_result"
    }
   ],
   "source": [
    "%%sql\n",
    "-- Select the category and the average completion time by category\n",
    "SELECT category, \n",
    "       avg(date_completed - date_created) AS completion_time\n",
    "  FROM evanston311\n",
    " GROUP BY category\n",
    "-- Order the results\n",
    " ORDER BY completion_time DESC limit 5;"
   ]
  },
  {
   "cell_type": "code",
   "execution_count": 19,
   "metadata": {},
   "outputs": [
    {
     "name": "stdout",
     "output_type": "stream",
     "text": [
      " * sqlite:///myfile.db\n",
      "(sqlite3.OperationalError) no such function: date_part\n",
      "[SQL: -- Extract the month from date_created and count requests\n",
      "SELECT date_part('month', date_created) AS month, \n",
      "       count(*)\n",
      "  FROM evanston311\n",
      " -- Limit the date range\n",
      " WHERE date_created >= '2016-01-01'\n",
      "   AND date_created < '2018-01-01']\n",
      "(Background on this error at: https://sqlalche.me/e/20/e3q8)\n"
     ]
    }
   ],
   "source": [
    "%%sql\n",
    "-- Extract the month from date_created and count requests\n",
    "SELECT date_part('month', date_created) AS month, \n",
    "       count(*)\n",
    "  FROM evanston311\n",
    " -- Limit the date range\n",
    " WHERE date_created >= '2016-01-01'\n",
    "   AND date_created < '2018-01-01'"
   ]
  },
  {
   "cell_type": "code",
   "execution_count": 20,
   "metadata": {},
   "outputs": [
    {
     "name": "stdout",
     "output_type": "stream",
     "text": [
      " * sqlite:///myfile.db\n",
      "(sqlite3.OperationalError) no such function: date_part\n",
      "[SQL: -- Count requests completed by hour\n",
      "SELECT date_part('hour', date_completed) AS hour,\n",
      "       count(*)\n",
      "  FROM evanston311\n",
      " GROUP BY hour\n",
      " ORDER BY hour;]\n",
      "(Background on this error at: https://sqlalche.me/e/20/e3q8)\n"
     ]
    }
   ],
   "source": [
    "%%sql\n",
    "-- Count requests completed by hour\n",
    "SELECT date_part('hour', date_completed) AS hour,\n",
    "       count(*)\n",
    "  FROM evanston311\n",
    " GROUP BY hour\n",
    " ORDER BY hour;"
   ]
  },
  {
   "cell_type": "code",
   "execution_count": 22,
   "metadata": {},
   "outputs": [
    {
     "name": "stdout",
     "output_type": "stream",
     "text": [
      " * sqlite:///myfile.db\n",
      "Done.\n"
     ]
    },
    {
     "data": {
      "text/html": [
       "<table>\n",
       "    <thead>\n",
       "        <tr>\n",
       "            <th>hour</th>\n",
       "            <th>count(*)</th>\n",
       "        </tr>\n",
       "    </thead>\n",
       "    <tbody>\n",
       "        <tr>\n",
       "            <td>00</td>\n",
       "            <td>13</td>\n",
       "        </tr>\n",
       "        <tr>\n",
       "            <td>01</td>\n",
       "            <td>10</td>\n",
       "        </tr>\n",
       "        <tr>\n",
       "            <td>02</td>\n",
       "            <td>11</td>\n",
       "        </tr>\n",
       "        <tr>\n",
       "            <td>03</td>\n",
       "            <td>19</td>\n",
       "        </tr>\n",
       "        <tr>\n",
       "            <td>04</td>\n",
       "            <td>9</td>\n",
       "        </tr>\n",
       "    </tbody>\n",
       "</table>"
      ],
      "text/plain": [
       "[('00', 13), ('01', 10), ('02', 11), ('03', 19), ('04', 9)]"
      ]
     },
     "execution_count": 22,
     "metadata": {},
     "output_type": "execute_result"
    }
   ],
   "source": [
    "%%sql\n",
    "-- Count requests completed by hour\n",
    "SELECT strftime('%H', date_completed) AS hour,\n",
    "       count(*)\n",
    "  FROM evanston311\n",
    " GROUP BY hour\n",
    " ORDER BY hour limit 5;"
   ]
  },
  {
   "cell_type": "code",
   "execution_count": 23,
   "metadata": {},
   "outputs": [
    {
     "name": "stdout",
     "output_type": "stream",
     "text": [
      " * sqlite:///myfile.db\n",
      "Done.\n"
     ]
    },
    {
     "data": {
      "text/html": [
       "<table>\n",
       "    <thead>\n",
       "        <tr>\n",
       "            <th>month</th>\n",
       "            <th>count(*)</th>\n",
       "        </tr>\n",
       "    </thead>\n",
       "    <tbody>\n",
       "        <tr>\n",
       "            <td>01</td>\n",
       "            <td>29832</td>\n",
       "        </tr>\n",
       "    </tbody>\n",
       "</table>"
      ],
      "text/plain": [
       "[('01', 29832)]"
      ]
     },
     "execution_count": 23,
     "metadata": {},
     "output_type": "execute_result"
    }
   ],
   "source": [
    "%%sql\n",
    "-- Extract the month from date_created and count requests\n",
    "SELECT strftime('%m', date_created) AS month, \n",
    "       count(*) \n",
    "FROM evanston311 \n",
    "-- Limit the date range \n",
    "WHERE date(date_created) >= '2016-01-01' \n",
    "  AND date(date_created) < '2018-01-01';"
   ]
  },
  {
   "cell_type": "code",
   "execution_count": 24,
   "metadata": {},
   "outputs": [
    {
     "name": "stdout",
     "output_type": "stream",
     "text": [
      " * sqlite:///myfile.db\n",
      "(sqlite3.OperationalError) near \"FROM\": syntax error\n",
      "[SQL: -- Select name of the day of the week the request was created \n",
      "SELECT to_char(date_created, 'day') AS day, \n",
      "       -- Select avg time between request creation and completion\n",
      "       avg(date_completed - date_created) AS duration \n",
      "  FROM evanston311 \n",
      " -- Group by the name of the day of the week and \n",
      " -- integer value of day of week the request was created\n",
      " GROUP BY day, EXTRACT(DOW FROM date_created) \n",
      " -- Order by integer value of the day of the week \n",
      " -- the request was created\n",
      " ORDER BY EXTRACT(DOW FROM date_created);]\n",
      "(Background on this error at: https://sqlalche.me/e/20/e3q8)\n"
     ]
    }
   ],
   "source": [
    "%%sql\n",
    "-- Select name of the day of the week the request was created \n",
    "SELECT to_char(date_created, 'day') AS day, \n",
    "       -- Select avg time between request creation and completion\n",
    "       avg(date_completed - date_created) AS duration \n",
    "  FROM evanston311 \n",
    " -- Group by the name of the day of the week and \n",
    " -- integer value of day of week the request was created\n",
    " GROUP BY day, EXTRACT(DOW FROM date_created) \n",
    " -- Order by integer value of the day of the week \n",
    " -- the request was created\n",
    " ORDER BY EXTRACT(DOW FROM date_created);"
   ]
  },
  {
   "cell_type": "code",
   "execution_count": 26,
   "metadata": {},
   "outputs": [
    {
     "name": "stdout",
     "output_type": "stream",
     "text": [
      " * sqlite:///myfile.db\n",
      "Done.\n"
     ]
    },
    {
     "data": {
      "text/html": [
       "<table>\n",
       "    <thead>\n",
       "        <tr>\n",
       "            <th>day_of_week</th>\n",
       "            <th>duration</th>\n",
       "        </tr>\n",
       "    </thead>\n",
       "    <tbody>\n",
       "        <tr>\n",
       "            <td>0</td>\n",
       "            <td>0.017080745341614908</td>\n",
       "        </tr>\n",
       "        <tr>\n",
       "            <td>1</td>\n",
       "            <td>0.005599562960939634</td>\n",
       "        </tr>\n",
       "        <tr>\n",
       "            <td>2</td>\n",
       "            <td>0.008993576017130621</td>\n",
       "        </tr>\n",
       "        <tr>\n",
       "            <td>3</td>\n",
       "            <td>0.010304725452671868</td>\n",
       "        </tr>\n",
       "        <tr>\n",
       "            <td>4</td>\n",
       "            <td>0.010999083409715857</td>\n",
       "        </tr>\n",
       "        <tr>\n",
       "            <td>5</td>\n",
       "            <td>0.014754098360655738</td>\n",
       "        </tr>\n",
       "        <tr>\n",
       "            <td>6</td>\n",
       "            <td>0.010885700148441365</td>\n",
       "        </tr>\n",
       "    </tbody>\n",
       "</table>"
      ],
      "text/plain": [
       "[('0', 0.017080745341614908),\n",
       " ('1', 0.005599562960939634),\n",
       " ('2', 0.008993576017130621),\n",
       " ('3', 0.010304725452671868),\n",
       " ('4', 0.010999083409715857),\n",
       " ('5', 0.014754098360655738),\n",
       " ('6', 0.010885700148441365)]"
      ]
     },
     "execution_count": 26,
     "metadata": {},
     "output_type": "execute_result"
    }
   ],
   "source": [
    "%%sql\n",
    "-- Select name of the day of the week the request was created \n",
    "SELECT strftime('%w', date_created) AS day_of_week, \n",
    "       -- Select avg time between request creation and completion\n",
    "       avg(date_completed - date_created) AS duration  \n",
    "  FROM evanston311  \n",
    " -- Group by the name of the day of the week and  \n",
    " -- integer value of day of week the request was created \n",
    " GROUP BY day_of_week, strftime('%w', date_created)  \n",
    " -- Order by integer value of the day of the week  \n",
    " -- the request was created \n",
    " ORDER BY strftime('%w', date_created);"
   ]
  },
  {
   "cell_type": "code",
   "execution_count": 27,
   "metadata": {},
   "outputs": [
    {
     "name": "stdout",
     "output_type": "stream",
     "text": [
      " * sqlite:///myfile.db\n",
      "(sqlite3.OperationalError) no such function: date_trunc\n",
      "[SQL: -- Aggregate daily counts by month\n",
      "SELECT date_trunc('month', day) AS month,\n",
      "       avg(count)\n",
      "  -- Subquery to compute daily counts\n",
      "  FROM (SELECT date_trunc('day', date_created) AS day,\n",
      "               count(*) AS count\n",
      "          FROM evanston311\n",
      "         GROUP BY day) AS daily_count\n",
      " GROUP BY month\n",
      " ORDER BY month;]\n",
      "(Background on this error at: https://sqlalche.me/e/20/e3q8)\n"
     ]
    }
   ],
   "source": [
    "%%sql\n",
    "-- Aggregate daily counts by month\n",
    "SELECT date_trunc('month', day) AS month,\n",
    "       avg(count)\n",
    "  -- Subquery to compute daily counts\n",
    "  FROM (SELECT date_trunc('day', date_created) AS day,\n",
    "               count(*) AS count\n",
    "          FROM evanston311\n",
    "         GROUP BY day) AS daily_count\n",
    " GROUP BY month\n",
    " ORDER BY month;"
   ]
  },
  {
   "cell_type": "code",
   "execution_count": 28,
   "metadata": {},
   "outputs": [
    {
     "name": "stdout",
     "output_type": "stream",
     "text": [
      " * sqlite:///myfile.db\n",
      "(sqlite3.OperationalError) no such column: date_created\n",
      "[SQL: -- Aggregate daily counts by month\n",
      "SELECT strftime('%Y-%m', date_created) as month,\n",
      "       avg(count)\n",
      "  -- Subquery to compute daily counts\n",
      "  FROM (SELECT strftime('%Y-%m-%d', date_created) AS day,\n",
      "               count(*) AS count\n",
      "          FROM evanston311\n",
      "         GROUP BY day) AS daily_count\n",
      " GROUP BY month\n",
      " ORDER BY month;]\n",
      "(Background on this error at: https://sqlalche.me/e/20/e3q8)\n"
     ]
    }
   ],
   "source": [
    "%%sql\n"
   ]
  },
  {
   "cell_type": "code",
   "execution_count": 30,
   "metadata": {},
   "outputs": [
    {
     "name": "stdout",
     "output_type": "stream",
     "text": [
      " * sqlite:///myfile.db\n",
      "(sqlite3.OperationalError) unrecognized token: \":\"\n",
      "[SQL: SELECT day\n",
      "-- 1) Subquery to generate all dates\n",
      "-- from min to max date_created\n",
      "  FROM (SELECT generate_series(min(date_created),\n",
      "                               max(date_created),\n",
      "                               '1 day') AS day\n",
      "          -- What table is date_created in?\n",
      "          FROM evanston311) AS all_dates      \n",
      "-- 4) Select dates (day from above) that are NOT IN the subquery\n",
      " WHERE day NOT IN \n",
      "       -- 2) Subquery to select all date_created values as dates\n",
      "       (SELECT date_created::date\n",
      "          FROM evanston311);]\n",
      "(Background on this error at: https://sqlalche.me/e/20/e3q8)\n"
     ]
    }
   ],
   "source": [
    "%%sql\n",
    "SELECT day\n",
    "-- 1) Subquery to generate all dates\n",
    "-- from min to max date_created\n",
    "  FROM (SELECT generate_series(min(date_created),\n",
    "                               max(date_created),\n",
    "                               '1 day')::date AS day\n",
    "          -- What table is date_created in?\n",
    "          FROM evanston311) AS all_dates      \n",
    "-- 4) Select dates (day from above) that are NOT IN the subquery\n",
    " WHERE day NOT IN \n",
    "       -- 2) Subquery to select all date_created values as dates\n",
    "       (SELECT date_created::date\n",
    "          FROM evanston311);"
   ]
  },
  {
   "cell_type": "code",
   "execution_count": 31,
   "metadata": {},
   "outputs": [
    {
     "name": "stdout",
     "output_type": "stream",
     "text": [
      " * sqlite:///myfile.db\n",
      "(sqlite3.OperationalError) no such function: generate_series\n",
      "[SQL: SELECT day\n",
      "-- 1) Subquery to generate all dates\n",
      "-- from min to max date_created\n",
      "FROM (SELECT generate_series(min(date_created),\n",
      "                             max(date_created),\n",
      "                             '1 day') AS day\n",
      "      -- What table is date_created in?\n",
      "      FROM evanston311) AS all_dates      \n",
      "-- 4) Select dates (day from above) that are NOT IN the subquery\n",
      "WHERE day NOT IN \n",
      "       -- 2) Subquery to select all date_created values as dates\n",
      "       (SELECT date(date_created) AS date_created\n",
      "          FROM evanston311);]\n",
      "(Background on this error at: https://sqlalche.me/e/20/e3q8)\n"
     ]
    }
   ],
   "source": [
    "%%sql\n"
   ]
  },
  {
   "cell_type": "code",
   "execution_count": 32,
   "metadata": {},
   "outputs": [
    {
     "name": "stdout",
     "output_type": "stream",
     "text": [
      " * sqlite:///myfile.db\n",
      "(sqlite3.OperationalError) unrecognized token: \":\"\n",
      "[SQL: -- Generate 6 month bins covering 2016-01-01 to 2018-06-30\n",
      "\n",
      "-- Create lower bounds of bins\n",
      "SELECT generate_series('2016-01-01',  -- First bin lower value\n",
      "                       '2018-01-01',  -- Last bin lower value\n",
      "                       '6 months'::interval) AS lower,\n",
      "-- Create upper bounds of bins\n",
      "       generate_series('2016-07-01',  -- First bin upper value\n",
      "                       '2018-07-01',  -- Last bin upper value\n",
      "                       '6 months'::interval) AS upper;]\n",
      "(Background on this error at: https://sqlalche.me/e/20/e3q8)\n"
     ]
    }
   ],
   "source": [
    "%%sql\n",
    "-- Generate 6 month bins covering 2016-01-01 to 2018-06-30\n",
    "\n",
    "-- Create lower bounds of bins\n",
    "SELECT generate_series('2016-01-01',  -- First bin lower value\n",
    "                       '2018-01-01',  -- Last bin lower value\n",
    "                       '6 months'::interval) AS lower,\n",
    "-- Create upper bounds of bins\n",
    "       generate_series('2016-07-01',  -- First bin upper value\n",
    "                       '2018-07-01',  -- Last bin upper value\n",
    "                       '6 months'::interval) AS upper;"
   ]
  },
  {
   "cell_type": "code",
   "execution_count": 33,
   "metadata": {},
   "outputs": [
    {
     "name": "stdout",
     "output_type": "stream",
     "text": [
      " * sqlite:///myfile.db\n",
      "(sqlite3.OperationalError) unrecognized token: \":\"\n",
      "[SQL: -- Bins from Step 1\n",
      "WITH bins AS (\n",
      "\t SELECT generate_series('2016-01-01',\n",
      "                            '2018-01-01',\n",
      "                            '6 months'::interval) AS lower,\n",
      "            generate_series('2016-07-01',\n",
      "                            '2018-07-01',\n",
      "                            '6 months'::interval) AS upper),\n",
      "-- Daily counts from Step 2\n",
      "     daily_counts AS (\n",
      "     SELECT day, count(date_created) AS count\n",
      "       FROM (SELECT generate_series('2016-01-01',\n",
      "                                    '2018-06-30',\n",
      "                                    '1 day'::interval)::date AS day) AS daily_series\n",
      "            LEFT JOIN evanston311\n",
      "            ON day = date_created::date\n",
      "      GROUP BY day)\n",
      "-- Select bin bounds\n",
      "SELECT lower, \n",
      "       upper, \n",
      "       -- Compute median of count for each bin\n",
      "       percentile_disc(0.5) WITHIN GROUP (ORDER BY count) AS median\n",
      "  -- Join bins and daily_counts\n",
      "  FROM bins\n",
      "       LEFT JOIN daily_counts\n",
      "       -- Where the day is between the bin bounds\n",
      "       ON day >= lower\n",
      "          AND day < upper\n",
      " -- Group by bin bounds\n",
      " GROUP BY lower, upper\n",
      " ORDER BY lower;]\n",
      "(Background on this error at: https://sqlalche.me/e/20/e3q8)\n"
     ]
    }
   ],
   "source": [
    "%%sql\n",
    "-- Bins from Step 1\n",
    "WITH bins AS (\n",
    "\t SELECT generate_series('2016-01-01',\n",
    "                            '2018-01-01',\n",
    "                            '6 months'::interval) AS lower,\n",
    "            generate_series('2016-07-01',\n",
    "                            '2018-07-01',\n",
    "                            '6 months'::interval) AS upper),\n",
    "-- Daily counts from Step 2\n",
    "     daily_counts AS (\n",
    "     SELECT day, count(date_created) AS count\n",
    "       FROM (SELECT generate_series('2016-01-01',\n",
    "                                    '2018-06-30',\n",
    "                                    '1 day'::interval)::date AS day) AS daily_series\n",
    "            LEFT JOIN evanston311\n",
    "            ON day = date_created::date\n",
    "      GROUP BY day)\n",
    "-- Select bin bounds\n",
    "SELECT lower, \n",
    "       upper, \n",
    "       -- Compute median of count for each bin\n",
    "       percentile_disc(0.5) WITHIN GROUP (ORDER BY count) AS median\n",
    "  -- Join bins and daily_counts\n",
    "  FROM bins\n",
    "       LEFT JOIN daily_counts\n",
    "       -- Where the day is between the bin bounds\n",
    "       ON day >= lower\n",
    "          AND day < upper\n",
    " -- Group by bin bounds\n",
    " GROUP BY lower, upper\n",
    " ORDER BY lower;"
   ]
  },
  {
   "cell_type": "code",
   "execution_count": 34,
   "metadata": {},
   "outputs": [
    {
     "name": "stdout",
     "output_type": "stream",
     "text": [
      " * sqlite:///myfile.db\n",
      "(sqlite3.OperationalError) unrecognized token: \":\"\n",
      "[SQL: -- generate series with all days from 2016-01-01 to 2018-06-30\n",
      "WITH all_days AS \n",
      "     (SELECT generate_series('2016-01-01',\n",
      "                             '2018-06-30',\n",
      "                             '1 day'::interval) AS date),\n",
      "     -- Subquery to compute daily counts\n",
      "     daily_count AS \n",
      "     (SELECT date_trunc('day', date_created) AS day,\n",
      "             count(*) AS count\n",
      "        FROM evanston311\n",
      "       GROUP BY day)\n",
      "-- Aggregate daily counts by month using date_trunc\n",
      "SELECT date_trunc('month', date) AS month,\n",
      "       -- Use coalesce to replace NULL count values with 0\n",
      "       avg(coalesce(count, 0)) AS average\n",
      "  FROM all_days\n",
      "       LEFT JOIN daily_count\n",
      "       -- Joining condition\n",
      "       ON all_days.date=daily_count.day\n",
      " GROUP BY month\n",
      " ORDER BY month;]\n",
      "(Background on this error at: https://sqlalche.me/e/20/e3q8)\n"
     ]
    }
   ],
   "source": [
    "%%sql\n",
    "-- generate series with all days from 2016-01-01 to 2018-06-30\n",
    "WITH all_days AS \n",
    "     (SELECT generate_series('2016-01-01',\n",
    "                             '2018-06-30',\n",
    "                             '1 day'::interval) AS date),\n",
    "     -- Subquery to compute daily counts\n",
    "     daily_count AS \n",
    "     (SELECT date_trunc('day', date_created) AS day,\n",
    "             count(*) AS count\n",
    "        FROM evanston311\n",
    "       GROUP BY day)\n",
    "-- Aggregate daily counts by month using date_trunc\n",
    "SELECT date_trunc('month', date) AS month,\n",
    "       -- Use coalesce to replace NULL count values with 0\n",
    "       avg(coalesce(count, 0)) AS average\n",
    "  FROM all_days\n",
    "       LEFT JOIN daily_count\n",
    "       -- Joining condition\n",
    "       ON all_days.date=daily_count.day\n",
    " GROUP BY month\n",
    " ORDER BY month; "
   ]
  },
  {
   "cell_type": "code",
   "execution_count": 35,
   "metadata": {},
   "outputs": [
    {
     "name": "stdout",
     "output_type": "stream",
     "text": [
      " * sqlite:///myfile.db\n",
      "Done.\n"
     ]
    },
    {
     "data": {
      "text/html": [
       "<table>\n",
       "    <thead>\n",
       "        <tr>\n",
       "            <th>date_created</th>\n",
       "            <th>previous</th>\n",
       "            <th>gap</th>\n",
       "        </tr>\n",
       "    </thead>\n",
       "    <tbody>\n",
       "        <tr>\n",
       "            <td>2017-01-01T10:27:49Z</td>\n",
       "            <td>2016-12-31T20:27:15Z</td>\n",
       "            <td>1</td>\n",
       "        </tr>\n",
       "        <tr>\n",
       "            <td>2018-01-01T13:50:06Z</td>\n",
       "            <td>2017-12-31T11:18:07Z</td>\n",
       "            <td>1</td>\n",
       "        </tr>\n",
       "    </tbody>\n",
       "</table>"
      ],
      "text/plain": [
       "[('2017-01-01T10:27:49Z', '2016-12-31T20:27:15Z', 1),\n",
       " ('2018-01-01T13:50:06Z', '2017-12-31T11:18:07Z', 1)]"
      ]
     },
     "execution_count": 35,
     "metadata": {},
     "output_type": "execute_result"
    }
   ],
   "source": [
    "%%sql\n",
    "-- Compute the gaps\n",
    "WITH request_gaps AS (\n",
    "        SELECT date_created,\n",
    "               -- lead or lag\n",
    "               lag(date_created) OVER (ORDER BY date_created) AS previous,\n",
    "               -- compute gap as date_created minus lead or lag\n",
    "               date_created - lag(date_created) OVER (ORDER BY date_created) AS gap\n",
    "          FROM evanston311)\n",
    "-- Select the row with the maximum gap\n",
    "SELECT *\n",
    "  FROM request_gaps\n",
    "-- Subquery to select maximum gap from request_gaps\n",
    " WHERE gap = (SELECT max(gap) \n",
    "                FROM request_gaps);"
   ]
  },
  {
   "cell_type": "code",
   "execution_count": 36,
   "metadata": {},
   "outputs": [
    {
     "name": "stdout",
     "output_type": "stream",
     "text": [
      " * sqlite:///myfile.db\n",
      "(sqlite3.OperationalError) near \"(\": syntax error\n",
      "[SQL: SELECT category, \n",
      "       -- Compute average completion time per category\n",
      "       avg(date_completed - date_created) AS avg_completion_time\n",
      "  FROM evanston311\n",
      "-- Where completion time is less than the 95th percentile value\n",
      " WHERE date_completed - date_created < \n",
      "-- Compute the 95th percentile of completion time in a subquery\n",
      "         (SELECT percentile_disc(0.95) WITHIN GROUP (ORDER BY date_completed - date_created)\n",
      "            FROM evanston311)\n",
      " GROUP BY category\n",
      "-- Order the results\n",
      " ORDER BY avg_completion_time DESC;]\n",
      "(Background on this error at: https://sqlalche.me/e/20/e3q8)\n"
     ]
    }
   ],
   "source": [
    "%%sql\n",
    "SELECT category, \n",
    "       -- Compute average completion time per category\n",
    "       avg(date_completed - date_created) AS avg_completion_time\n",
    "  FROM evanston311\n",
    "-- Where completion time is less than the 95th percentile value\n",
    " WHERE date_completed - date_created < \n",
    "-- Compute the 95th percentile of completion time in a subquery\n",
    "         (SELECT percentile_disc(0.95) WITHIN GROUP (ORDER BY date_completed - date_created)\n",
    "            FROM evanston311)\n",
    " GROUP BY category\n",
    "-- Order the results\n",
    " ORDER BY avg_completion_time DESC;"
   ]
  },
  {
   "cell_type": "code",
   "execution_count": 37,
   "metadata": {},
   "outputs": [
    {
     "name": "stdout",
     "output_type": "stream",
     "text": [
      " * sqlite:///myfile.db\n",
      "(sqlite3.OperationalError) near \"(\": syntax error\n",
      "[SQL: SELECT category, \n",
      "       -- Compute average completion time per category\n",
      "       avg(date_completed - date_created) AS avg_completion_time\n",
      "  FROM evanston311\n",
      "-- Where completion time is less than the 95th percentile value\n",
      " WHERE date_completed - date_created < \n",
      "-- Compute the 95th percentile of completion time in a subquery\n",
      "         (SELECT percentile_disc(0.95) WITHIN GROUP (ORDER BY date_completed - date_created)\n",
      "            FROM evanston311)\n",
      " GROUP BY category\n",
      "-- Order the results\n",
      " ORDER BY avg_completion_time DESC;]\n",
      "(Background on this error at: https://sqlalche.me/e/20/e3q8)\n"
     ]
    }
   ],
   "source": [
    "%%sql\n",
    "SELECT category, \n",
    "       -- Compute average completion time per category\n",
    "       avg(date_completed - date_created) AS avg_completion_time\n",
    "  FROM evanston311\n",
    "-- Where completion time is less than the 95th percentile value\n",
    " WHERE date_completed - date_created < \n",
    "-- Compute the 95th percentile of completion time in a subquery\n",
    "         (SELECT percentile_disc(0.95) WITHIN GROUP (ORDER BY date_completed - date_created)\n",
    "            FROM evanston311)\n",
    " GROUP BY category\n",
    "-- Order the results\n",
    " ORDER BY avg_completion_time DESC;"
   ]
  },
  {
   "cell_type": "code",
   "execution_count": 38,
   "metadata": {},
   "outputs": [
    {
     "name": "stdout",
     "output_type": "stream",
     "text": [
      " * sqlite:///myfile.db\n",
      "(sqlite3.OperationalError) no such function: date_trunc\n",
      "[SQL: -- Compute monthly counts of requests created\n",
      "WITH created AS (\n",
      "       SELECT date_trunc('month', date_created) AS month,\n",
      "              count(*) AS created_count\n",
      "         FROM evanston311\n",
      "        WHERE category='Rodents- Rats'\n",
      "        GROUP BY month),\n",
      "-- Compute monthly counts of requests completed\n",
      "      completed AS (\n",
      "       SELECT date_trunc('month', date_completed) AS month,\n",
      "              count(*) AS completed_count\n",
      "         FROM evanston311\n",
      "        WHERE category='Rodents- Rats'\n",
      "        GROUP BY month)\n",
      "-- Join monthly created and completed counts\n",
      "SELECT created.month, \n",
      "       created_count, \n",
      "       completed_count\n",
      "  FROM created\n",
      "       INNER JOIN completed\n",
      "       ON created.month=completed.month\n",
      " ORDER BY created.month;]\n",
      "(Background on this error at: https://sqlalche.me/e/20/e3q8)\n"
     ]
    }
   ],
   "source": [
    "%%sql\n",
    "-- Compute monthly counts of requests created\n",
    "WITH created AS (\n",
    "       SELECT date_trunc('month', date_created) AS month,\n",
    "              count(*) AS created_count\n",
    "         FROM evanston311\n",
    "        WHERE category='Rodents- Rats'\n",
    "        GROUP BY month),\n",
    "-- Compute monthly counts of requests completed\n",
    "      completed AS (\n",
    "       SELECT date_trunc('month', date_completed) AS month,\n",
    "              count(*) AS completed_count\n",
    "         FROM evanston311\n",
    "        WHERE category='Rodents- Rats'\n",
    "        GROUP BY month)\n",
    "-- Join monthly created and completed counts\n",
    "SELECT created.month, \n",
    "       created_count, \n",
    "       completed_count\n",
    "  FROM created\n",
    "       INNER JOIN completed\n",
    "       ON created.month=completed.month\n",
    " ORDER BY created.month;"
   ]
  },
  {
   "cell_type": "code",
   "execution_count": null,
   "metadata": {},
   "outputs": [],
   "source": [
    "%%sql\n"
   ]
  },
  {
   "cell_type": "code",
   "execution_count": null,
   "metadata": {},
   "outputs": [],
   "source": [
    "%%sql\n"
   ]
  }
 ],
 "metadata": {
  "kernelspec": {
   "display_name": "Python 3",
   "language": "python",
   "name": "python3"
  },
  "language_info": {
   "codemirror_mode": {
    "name": "ipython",
    "version": 3
   },
   "file_extension": ".py",
   "mimetype": "text/x-python",
   "name": "python",
   "nbconvert_exporter": "python",
   "pygments_lexer": "ipython3",
   "version": "3.11.6"
  }
 },
 "nbformat": 4,
 "nbformat_minor": 2
}
