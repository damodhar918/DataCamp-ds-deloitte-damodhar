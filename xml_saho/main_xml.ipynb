{
 "cells": [
  {
   "cell_type": "code",
   "execution_count": 2,
   "metadata": {},
   "outputs": [],
   "source": [
    "from itertools import count\n",
    "from bs4 import BeautifulSoup\n",
    "import codecs\n",
    "import pandas as pd\n",
    "from datetime import datetime\n",
    "import os\n",
    "import re\n",
    "import sys\n",
    "\n",
    "with codecs.open(\"ODL_XML_1.xml\", encoding=\"utf-8\") as f:\n",
    "    lines = f.read()\n",
    "\n",
    "document= BeautifulSoup(lines,'lxml')\n",
    "# document.session.field[\"name\"] =='Session Name'"
   ]
  },
  {
   "cell_type": "code",
   "execution_count": 3,
   "metadata": {},
   "outputs": [
    {
     "name": "stdout",
     "output_type": "stream",
     "text": [
      "<field name=\"Session Name\">PKG_STG_EDW_F_GL_GP_NSV_S4</field>\n",
      "<field name=\"Scenario Name\"></field>\n",
      "<field name=\"Context Code\">TEST</field>\n"
     ]
    }
   ],
   "source": [
    "for field in document.session.find_all('field',recursive=False):\n",
    "    # if field[\"name\"] == \"Session Name\":\n",
    "        print(field)"
   ]
  },
  {
   "cell_type": "code",
   "execution_count": 4,
   "metadata": {},
   "outputs": [
    {
     "name": "stdout",
     "output_type": "stream",
     "text": [
      "p_LAST_CLOSED_MTH_ID_CBUS\n",
      "INT_STG_EDW_F_GL_GP_NSV_S4\n",
      "INT_STG_EDW_F_GL_GP_NSV_S4\n",
      "INT_STG_EDW_F_GL_GP_NSV_S4\n",
      "INT_STG_EDW_F_GL_GP_NSV_S4\n",
      "PRC_CAPTURE_ERROR\n"
     ]
    }
   ],
   "source": [
    "import xml.etree.ElementTree as ET\n",
    "tree = ET.parse('ODL_XML_1.xml')\n",
    "root = tree.getroot()\n",
    "root.find(\".//*[@name='Session Name']\").text\n",
    "root.find(\".//*[@name='Step Name']\").text\n",
    "for x in root.findall(\".//*[@name='Task Name 2']\"):\n",
    "    print(x.text)\n",
    "# root = ET.fromstring(country_data_as_string)\n"
   ]
  },
  {
   "cell_type": "code",
   "execution_count": 5,
   "metadata": {},
   "outputs": [
    {
     "name": "stdout",
     "output_type": "stream",
     "text": [
      "PKG_STG_EDW_F_GL_GP_NSV_S4\n",
      "None\n",
      "TEST\n"
     ]
    }
   ],
   "source": [
    "# for child in root.findall('Field'):\n",
    "#     print(child.text)\n",
    "for child in root.findall('Field'):\n",
    "    print(child.text)\n",
    "    if child.attrib == \"Session Name\":\n",
    "        print(child.text)\n",
    "    # for child1 in child.findall('Field'):\n",
    "    #     for child2 in child1.findall('StepLog'):\n",
    "    #         print(child2.tag)"
   ]
  },
  {
   "cell_type": "code",
   "execution_count": 6,
   "metadata": {},
   "outputs": [
    {
     "data": {
      "text/plain": [
       "'PKG_STG_EDW_F_GL_GP_NSV_S4'"
      ]
     },
     "execution_count": 6,
     "metadata": {},
     "output_type": "execute_result"
    }
   ],
   "source": [
    "root.find(\"*[@name='Session Name']\").text\n",
    "# root.find(\".//*[@name='Step Name']\").text\n",
    "# for x in root.findall(\".//*[@name='Task Name 2']\"):\n",
    "#     print(x.text)\n"
   ]
  },
  {
   "cell_type": "code",
   "execution_count": 7,
   "metadata": {},
   "outputs": [
    {
     "data": {
      "text/plain": [
       "[1, 3, 5]"
      ]
     },
     "execution_count": 7,
     "metadata": {},
     "output_type": "execute_result"
    }
   ],
   "source": [
    "[x for x in range(6)[1::2]]"
   ]
  },
  {
   "cell_type": "code",
   "execution_count": 8,
   "metadata": {},
   "outputs": [],
   "source": [
    "# import re\n",
    "# s = '12323232'\n",
    "\n",
    "# print(re.search('123', s))\n",
    "\n",
    "# import re\n",
    "\n",
    "regex = r\"\\b(?:exists|from|join|into)\\s+([a-zA-Z0-9_$#-]*\\.?\\s*(?:[a-zA-Z0-9_]+)*)\"\n",
    "\n",
    "test_str = \"\"\"EGIN\n",
    "EXECUTE IMMEDIATE &apos;ALTER SESSION ENABLE PARALLEL DML&apos;;\n",
    " \n",
    "insert /*+ APPEND */ into\tSTG_EDW.F_GL_GP_NSV \n",
    "( \n",
    "\tDATE_ID,\n",
    "\tFY_YEAR,\n",
    "\tGL_ACCOUNT_CD,\n",
    "\tGL_ACCOUNT_DSC,\n",
    "\tFISCPER,\n",
    "\tVERSION_CD,\n",
    "\tAC_LEDGER,\n",
    "\tCURRENCY,\n",
    "\tCALMONTH,\n",
    "\tBALANCE,\n",
    "\tMATERIAL_CD,\n",
    "\tCUSTOMER_CD \n",
    ") \n",
    "select  /*+ parallel(6) */   \n",
    "\tS.DATE_ID,\n",
    "\tS.FY_YEAR,\n",
    "\tS.GL_ACCOUNT_CD,\n",
    "\tS.GL_ACCOUNT_DSC,\n",
    "\tS.FISCPER,\n",
    "\tS.VERSION_CD,\n",
    "\tS.AC_LEDGER,\n",
    "\tS.CURRENCY,\n",
    "\tS.CALMONTH,\n",
    "\tS.BALANCE,\n",
    "\tS.MATERIAL_CD,\n",
    "\tS.CUSTOMER_CD \n",
    "from\tSTG_EDW.S_GL_GP_NSV_VW   S \n",
    "where (1=1) \n",
    "\t \n",
    " \n",
    "And (S.CALMONTH &lt;= #STAGING.p_LAST_CLOSED_MTH_ID_CBUS) \n",
    ";\n",
    "END;</Field>\"\"\""
   ]
  },
  {
   "cell_type": "code",
   "execution_count": 9,
   "metadata": {},
   "outputs": [
    {
     "name": "stdout",
     "output_type": "stream",
     "text": [
      "['STG_EDW.S_GL_GP_NSV_VW', 'EDW/work', 'STG_EDW.F_GL_GP_NSV', 'EDW.D_CLOSE_MTH', \"STG_EDW'\"]\n",
      "Variable - p_LAST_CLOSED_MTH_ID_CBUS\n",
      "Integration - INT_STG_EDW_F_GL_GP_NSV_S4\n",
      "Integration - INT_STG_EDW_F_GL_GP_NSV_S4\n",
      "Integration - INT_STG_EDW_F_GL_GP_NSV_S4\n",
      "Integration - INT_STG_EDW_F_GL_GP_NSV_S4\n",
      "Procedure - PRC_CAPTURE_ERROR\n"
     ]
    }
   ],
   "source": [
    "import xml.etree.ElementTree as ET\n",
    "tree = ET.parse('ODL_XML_1.xml')\n",
    "root = tree.getroot()\n",
    "# root.find(\".//*[@name='Session Name']\").text\n",
    "list_tables = []\n",
    "for child in root.findall(\".//*[@name='Text']\"):\n",
    "    regex = r\"\\b(?:STG_EDW.|EDW.)+([a-zA-Z0-9_$#-]*\\.?\\s*)\"\n",
    "    matches = re.finditer(regex, (child.text), re.IGNORECASE)\n",
    "    for x in matches:\n",
    "        list_tables.append((x)[0].strip())\n",
    "print(list(set(list_tables)))\n",
    "for child1,child2 in zip(root.findall(\".//*[@name='Task Name 1']\"),root.findall(\".//*[@name='Task Name 2']\")):\n",
    "    # regex = r\"\\b(?:STG_EDW.|EDW.)+([a-zA-Z0-9_$#-]*\\.?\\s*)\"\n",
    "    # matches = re.finditer(regex, (child.text), re.IGNORECASE)\n",
    "    # for x in matches:\n",
    "    #     list_tables.append((x)[0].strip())\n",
    "    # root.findall(\".//neighbor[2]\")\n",
    "    # print(root.find(\".//neighbor[2]\"))\n",
    "    # root.findall(\".//neighbor[0]\")\n",
    "    print(child1.text, child2.text,sep=' - ')"
   ]
  },
  {
   "cell_type": "code",
   "execution_count": 10,
   "metadata": {},
   "outputs": [
    {
     "data": {
      "text/plain": [
       "['STG_EDW.F_GL_GP_NSV', 'STG_EDW.S_GL_GP_NSV_VW']"
      ]
     },
     "execution_count": 10,
     "metadata": {},
     "output_type": "execute_result"
    }
   ],
   "source": [
    "import re\n",
    "regex = r\"\\b(?:exists|from|join|into)\\s+([a-zA-Z0-9_$#-]*\\.?\\s*(?:[a-zA-Z0-9_]+)*)\"\n",
    "matches = re.finditer(regex, test_str, re.IGNORECASE)\n",
    "[(x)[1] for x in matches]"
   ]
  },
  {
   "cell_type": "code",
   "execution_count": 11,
   "metadata": {},
   "outputs": [
    {
     "ename": "SyntaxError",
     "evalue": "invalid syntax (Temp/ipykernel_24076/2906997393.py, line 1)",
     "output_type": "error",
     "traceback": [
      "\u001b[1;36m  File \u001b[1;32m\"C:\\Users\\JDAMOD~1\\AppData\\Local\\Temp/ipykernel_24076/2906997393.py\"\u001b[1;36m, line \u001b[1;32m1\u001b[0m\n\u001b[1;33m    <?xml version=\"1.0\" encoding=\"UTF-8\"?>\u001b[0m\n\u001b[1;37m    ^\u001b[0m\n\u001b[1;31mSyntaxError\u001b[0m\u001b[1;31m:\u001b[0m invalid syntax\n"
     ]
    }
   ],
   "source": [
    "<?xml version=\"1.0\" encoding=\"UTF-8\"?>\n",
    "<list>\n",
    "    <person id=\"1\">\n",
    "        <name>Smith</name>\n",
    "        <city>New York</city>\n",
    "    </person>\n",
    "    <person id=\"2\">\n",
    "        <name>Pitt</name>\n",
    "    </person>\n",
    "    <person id=\"1\">\n",
    "        <name>Smith</name>\n",
    "        <city>New York</city>\n",
    "    </person>\n",
    "    <person id=\"2\">\n",
    "        <name>Pitt</name>\n",
    "    </person>\n",
    "</list>"
   ]
  }
 ],
 "metadata": {
  "kernelspec": {
   "display_name": "Python 3.10.2 64-bit",
   "language": "python",
   "name": "python3"
  },
  "language_info": {
   "codemirror_mode": {
    "name": "ipython",
    "version": 3
   },
   "file_extension": ".py",
   "mimetype": "text/x-python",
   "name": "python",
   "nbconvert_exporter": "python",
   "pygments_lexer": "ipython3",
   "version": "3.10.2"
  },
  "orig_nbformat": 4,
  "vscode": {
   "interpreter": {
    "hash": "3f4c702ba70a750c7ab313f1fa8262f6832c179e99c2e5a6bdfc956e3f89fed1"
   }
  }
 },
 "nbformat": 4,
 "nbformat_minor": 2
}
