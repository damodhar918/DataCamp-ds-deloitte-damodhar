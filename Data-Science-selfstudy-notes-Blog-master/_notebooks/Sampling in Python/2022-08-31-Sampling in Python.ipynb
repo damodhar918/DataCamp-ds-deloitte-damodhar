{
 "cells": [
  {
   "cell_type": "markdown",
   "metadata": {},
   "source": [
    "# Sampling in Python\n",
    "\n",
    "> Sampling in Python is the cornerstone of inference statistics and hypothesis testing. It's a powerful skill used in survey analysis and experimental design to draw conclusions without surveying an entire population. Updating ...\n",
    "\n",
    "- toc: true\n",
    "- branch: master\n",
    "- badges: true\n",
    "- comments: true\n",
    "- author: Datacamp\n",
    "- categories: [statsmodels, Regression, Linear regression, logistic regression, Visualizations]\n",
    "- image: images/python_sampling_preview.png\n",
    "- hide: false\n",
    "- search_exclude: true\n",
    "- metadata_key1: metadata_value1\n",
    "- metadata_key2: metadata_value2\n"
   ]
  },
  {
   "cell_type": "markdown",
   "metadata": {},
   "source": [
    "[**Download Datasets and Presentation slides for this post HERE**](https://github.com/anhhaibkhn/Data-Science-selfstudy-notes-Blog/tree/master/_notebooks/Sampling%20in%20Python)"
   ]
  },
  {
   "cell_type": "markdown",
   "metadata": {},
   "source": [
    "> Sampling in Python is the cornerstone of inference statistics and hypothesis testing. It's a powerful skill used in survey analysis and experimental design to draw conclusions without surveying an entire population. In this Sampling in Python course, you’ll discover when to use sampling and how to perform common types of sampling—from simple random sampling to more complex methods like stratified and cluster sampling. Using real-world datasets, including coffee ratings, Spotify songs, and employee attrition, you’ll learn to estimate population statistics and quantify uncertainty in your estimates by generating sampling distributions and bootstrap distributions."
   ]
  },
  {
   "cell_type": "code",
   "execution_count": 1,
   "metadata": {},
   "outputs": [],
   "source": [
    "import pandas as pd\n",
    "import numpy as np\n",
    "import warnings\n",
    "import matplotlib.pyplot as plt\n",
    "plt.rcParams['figure.figsize'] = [8, 6]\n",
    "\n",
    "pd.set_option('display.expand_frame_repr', False)\n",
    "\n",
    "warnings.filterwarnings(\"ignore\", category=DeprecationWarning)\n",
    "warnings.filterwarnings(\"ignore\", category=FutureWarning)"
   ]
  },
  {
   "cell_type": "markdown",
   "metadata": {},
   "source": [
    "## Bias Any Stretch of the Imagination\n",
    "\n",
    "> Learn what sampling is and why it is so powerful. You’ll also learn about the problems caused by convenience sampling and the differences between true randomness and pseudo-randomness."
   ]
  },
  {
   "cell_type": "markdown",
   "metadata": {},
   "source": [
    "### Living the sample life\n",
    "\n",
    "> **Reasons for sampling**\n",
    "> **Simple sampling with pandas**\n",
    "> **Simple sampling and calculating with NumPy**\n",
    "\n",
    "\n",
    "### A little too convenient\n",
    "\n",
    "> **Are the findings from this sample generalizable?**\n",
    "> **Are these findings generalizable?**\n",
    "\n",
    "\n",
    "### How does Sue do sampling?\n",
    "\n",
    "> **Generating random numbers**\n",
    "> **Understanding random seeds**"
   ]
  },
  {
   "cell_type": "markdown",
   "metadata": {},
   "source": [
    "## Don't get theory eyed\n",
    "\n",
    "> It’s time to get hands-on and perform the four random sampling methods in Python: simple, systematic, stratified, and cluster."
   ]
  },
  {
   "cell_type": "markdown",
   "metadata": {},
   "source": [
    "### Simple is as simple does\n",
    "\n",
    "> **Simple random sampling**\n",
    "> **Systematic sampling**\n",
    "> **Is systematic sampling OK?**\n",
    "\n",
    "\n",
    "### Can't get no stratisfaction\n",
    "\n",
    "> **Which sampling method?**\n",
    "> **Proportional stratified sampling**\n",
    "> **Equal counts stratified sampling**\n",
    "> **Weighted sampling**\n",
    "\n",
    "\n",
    "### What a cluster...\n",
    "\n",
    "> **Benefits of clustering**\n",
    "> **Cluster sampling**\n",
    "\n",
    "\n",
    "### Straight to the point (estimate)\n",
    "> **3 kinds of sampling**\n",
    "> **Comparing point estimates**"
   ]
  },
  {
   "cell_type": "markdown",
   "metadata": {},
   "source": [
    "## The n's justify the means\n",
    "\n",
    "> Let’s test your sampling. In this chapter, you’ll discover how to quantify the accuracy of sample statistics using relative errors, and measure variation in your estimates by generating sampling distributions."
   ]
  },
  {
   "cell_type": "markdown",
   "metadata": {},
   "source": [
    "### An ample sample\n",
    "\n",
    "> **Calculating relative errors**\n",
    "> **Relative error vs. sample size**\n",
    "\n",
    "\n",
    "### Baby back dist-rib-ution\n",
    "\n",
    "> **Replicating samples**\n",
    "> **Replication parameters**\n",
    "\n",
    "\n",
    "### Be our guess, put our samples to the test\n",
    "\n",
    "> **Exact sampling distribution**\n",
    "> **Approximate sampling distribution**\n",
    "> **Exact vs. approximate**\n",
    "\n",
    "\n",
    "### Err on the side of Gaussian\n",
    "\n",
    "> **Population & sampling distribution means**\n",
    "> **Population & sampling distribution variation**\n"
   ]
  },
  {
   "cell_type": "markdown",
   "metadata": {},
   "source": [
    "\n",
    "## Pull Your Data Up By Its Bootstraps\n",
    "\n",
    "> You’ll get to grips with resampling to perform bootstrapping and estimate variation in an unknown population. You’ll learn the difference between sampling distributions and bootstrap distributions using resampling.\n",
    "\n",
    "\n",
    "### This bears a striking resample-lance\n",
    "> **Principles of bootstrapping**\n",
    "> **With or without replacement?**\n",
    "> **Generating a bootstrap distribution**\n",
    "\n",
    "### A breath of fresh error\n",
    "> **Bootstrap statistics and population statistics**\n",
    "> **Sampling distribution vs. bootstrap distribution**\n",
    "> **Compare sampling and bootstrap means**\n",
    "> **Compare sampling and bootstrap standard deviations**\n",
    "\n",
    "### Venus infers\n",
    "> **Confidence interval interpretation**\n",
    "> **Calculating confidence intervals**\n",
    "\n",
    "### Congratulations"
   ]
  }
 ],
 "metadata": {
  "kernelspec": {
   "display_name": "Python 3.9.13 ('my_conda_env')",
   "language": "python",
   "name": "python3"
  },
  "language_info": {
   "codemirror_mode": {
    "name": "ipython",
    "version": 3
   },
   "file_extension": ".py",
   "mimetype": "text/x-python",
   "name": "python",
   "nbconvert_exporter": "python",
   "pygments_lexer": "ipython3",
   "version": "3.9.13"
  },
  "orig_nbformat": 4,
  "vscode": {
   "interpreter": {
    "hash": "0f080ef3f7e154a5496448b61eb994fbc79c03fae547c033702ffc1b7b2a346b"
   }
  }
 },
 "nbformat": 4,
 "nbformat_minor": 2
}
