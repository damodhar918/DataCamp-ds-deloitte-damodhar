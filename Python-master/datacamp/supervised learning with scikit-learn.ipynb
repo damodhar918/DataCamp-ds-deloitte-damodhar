{
 "cells": [
  {
   "cell_type": "markdown",
   "metadata": {
    "collapsed": true,
    "pycharm": {
     "name": "#%% md\n"
    }
   },
   "source": [
    "**Supervised learning**\n",
    "___\n",
    "- What is machine learning?\n",
    "    - giving computers the ability to learn to make decisions from data without being explicitly programmed\n",
    "    - Supervised learning: uses labeled data\n",
    "        - predictor variable/features and a target variable\n",
    "        - aim: predict target variable, given predictor variable\n",
    "        - classification: target variable consists of categories\n",
    "        - regression: target variable is continuous\n",
    "    - Unsupervised learning: uses unlabeled data\n",
    "        - uncovering hidden patterns from unlabeled data\n",
    "        - clustering\n",
    "        - reinforcement learning - optimization of behavior\n",
    "    - Features = predictor variables = independent variables\n",
    "    - Target = response variable = dependent variable"
   ]
  },
  {
   "cell_type": "markdown",
   "source": [
    "**Exploratory data analysis**\n",
    "___"
   ],
   "metadata": {
    "collapsed": false,
    "pycharm": {
     "name": "#%% md\n"
    }
   }
  },
  {
   "cell_type": "code",
   "execution_count": null,
   "outputs": [],
   "source": [
    "import pandas as pd\n",
    "import matplotlib.pyplot as plt\n",
    "import seaborn as sns\n",
    "\n",
    "#useful pandas methods\n",
    "#df.head()\n",
    "#df.info()\n",
    "#df.describe()\n",
    "\n",
    "#useful pandas attributes\n",
    "#df.shape\n",
    "\n",
    "#useful functions\n",
    "#type(df)\n",
    "\n",
    "#create Seaborn countplot for each feature (in this case 'education') and target 'party'\n",
    "#sns.set()\n",
    "#plt.figure()\n",
    "#sns.countplot(x = 'education', hue = 'party', data = df, palette = 'RdBu')\n",
    "#plt.xticks([0,1], ['No', 'Yes'])\n",
    "#plt.show()"
   ],
   "metadata": {
    "collapsed": false,
    "pycharm": {
     "name": "#%%\n"
    }
   }
  },
  {
   "cell_type": "markdown",
   "source": [
    "**The classification challenge**\n",
    "___\n",
    "scikit-learn\n",
    "- training a model on the data - 'fitting' a model to the data\n",
    "    - .fit() method\n",
    "- predicting the labels of new data\n",
    "    - .predict() method"
   ],
   "metadata": {
    "collapsed": false
   }
  },
  {
   "cell_type": "code",
   "execution_count": 1,
   "outputs": [],
   "source": [
    "import pandas as pd\n",
    "import numpy as np\n",
    "\n",
    "# Import KNeighborsClassifier from sklearn.neighbors\n",
    "from sklearn.neighbors import KNeighborsClassifier\n",
    "\n",
    "# Create arrays for the features and the response variable\n",
    "#y = df['party'].values\n",
    "#X = df.drop('party', axis=1).values\n",
    "\n",
    "# Create a k-NN classifier with 6 neighbors\n",
    "#knn = KNeighborsClassifier(n_neighbors = 6)\n",
    "\n",
    "# Fit the classifier to the data\n",
    "#knn.fit(X, y)\n",
    "\n",
    "#################################################\n",
    "#Out[1]:\n",
    "#KNeighborsClassifier(algorithm='auto', leaf_size=30, metric='minkowski',\n",
    "#           metric_params=None, n_jobs=1, n_neighbors=6, p=2,\n",
    "#           weights='uniform')"
   ],
   "metadata": {
    "collapsed": false,
    "pycharm": {
     "name": "#%%\n"
    }
   }
  },
  {
   "cell_type": "code",
   "execution_count": 2,
   "outputs": [],
   "source": [
    "import pandas as pd\n",
    "import numpy as np\n",
    "\n",
    "# Import KNeighborsClassifier from sklearn.neighbors\n",
    "#from sklearn.neighbors import KNeighborsClassifier\n",
    "\n",
    "# Import KNeighborsClassifier from sklearn.neighbors\n",
    "#from sklearn.neighbors import KNeighborsClassifier\n",
    "\n",
    "# Create arrays for the features and the response variable\n",
    "#y = df['party'].values\n",
    "#X = df.drop('party', axis=1).values\n",
    "\n",
    "# Create a k-NN classifier with 6 neighbors: knn\n",
    "#knn = KNeighborsClassifier(n_neighbors = 6)\n",
    "\n",
    "# Fit the classifier to the data\n",
    "#knn.fit(X, y)\n",
    "\n",
    "# Predict the labels for the training data X\n",
    "#y_pred = knn.predict(X)\n",
    "\n",
    "# Predict and print the label for the new data point X_new\n",
    "#new_prediction = knn.predict(X_new)\n",
    "#print(\"Prediction: {}\".format(new_prediction))\n",
    "\n",
    "#################################################\n",
    "#<script.py> output:\n",
    "#    Prediction: ['democrat']"
   ],
   "metadata": {
    "collapsed": false,
    "pycharm": {
     "name": "#%%\n"
    }
   }
  },
  {
   "cell_type": "markdown",
   "source": [
    "**Measuring model performance**\n",
    "___\n",
    "- in classification, accuracy is a commonly used metric\n",
    "- accuracy = fraction of correct predictions\n",
    "    - split data into a training and test set\n",
    "    - make predictions on test set\n",
    "    - compare predictions with the known labels\n",
    "___"
   ],
   "metadata": {
    "collapsed": false,
    "pycharm": {
     "name": "#%% md\n"
    }
   }
  },
  {
   "cell_type": "code",
   "execution_count": 3,
   "outputs": [
    {
     "name": "stdout",
     "output_type": "stream",
     "text": [
      "dict_keys(['data', 'target', 'frame', 'feature_names', 'target_names', 'images', 'DESCR'])\n",
      ".. _digits_dataset:\n",
      "\n",
      "Optical recognition of handwritten digits dataset\n",
      "--------------------------------------------------\n",
      "\n",
      "**Data Set Characteristics:**\n",
      "\n",
      "    :Number of Instances: 5620\n",
      "    :Number of Attributes: 64\n",
      "    :Attribute Information: 8x8 image of integer pixels in the range 0..16.\n",
      "    :Missing Attribute Values: None\n",
      "    :Creator: E. Alpaydin (alpaydin '@' boun.edu.tr)\n",
      "    :Date: July; 1998\n",
      "\n",
      "This is a copy of the test set of the UCI ML hand-written digits datasets\n",
      "https://archive.ics.uci.edu/ml/datasets/Optical+Recognition+of+Handwritten+Digits\n",
      "\n",
      "The data set contains images of hand-written digits: 10 classes where\n",
      "each class refers to a digit.\n",
      "\n",
      "Preprocessing programs made available by NIST were used to extract\n",
      "normalized bitmaps of handwritten digits from a preprinted form. From a\n",
      "total of 43 people, 30 contributed to the training set and different 13\n",
      "to the test set. 32x32 bitmaps are divided into nonoverlapping blocks of\n",
      "4x4 and the number of on pixels are counted in each block. This generates\n",
      "an input matrix of 8x8 where each element is an integer in the range\n",
      "0..16. This reduces dimensionality and gives invariance to small\n",
      "distortions.\n",
      "\n",
      "For info on NIST preprocessing routines, see M. D. Garris, J. L. Blue, G.\n",
      "T. Candela, D. L. Dimmick, J. Geist, P. J. Grother, S. A. Janet, and C.\n",
      "L. Wilson, NIST Form-Based Handprint Recognition System, NISTIR 5469,\n",
      "1994.\n",
      "\n",
      ".. topic:: References\n",
      "\n",
      "  - C. Kaynak (1995) Methods of Combining Multiple Classifiers and Their\n",
      "    Applications to Handwritten Digit Recognition, MSc Thesis, Institute of\n",
      "    Graduate Studies in Science and Engineering, Bogazici University.\n",
      "  - E. Alpaydin, C. Kaynak (1998) Cascading Classifiers, Kybernetika.\n",
      "  - Ken Tang and Ponnuthurai N. Suganthan and Xi Yao and A. Kai Qin.\n",
      "    Linear dimensionalityreduction using relevance weighted LDA. School of\n",
      "    Electrical and Electronic Engineering Nanyang Technological University.\n",
      "    2005.\n",
      "  - Claudio Gentile. A New Approximate Maximal Margin Classification\n",
      "    Algorithm. NIPS. 2000.\n",
      "(1797, 8, 8)\n",
      "(1797, 64)\n"
     ]
    },
    {
     "data": {
      "text/plain": "<Figure size 432x288 with 1 Axes>",
      "image/png": "[encoded data removed]"
     },
     "metadata": {
      "needs_background": "light"
     },
     "output_type": "display_data"
    }
   ],
   "source": [
    "# Import necessary modules\n",
    "from sklearn import datasets\n",
    "import matplotlib.pyplot as plt\n",
    "\n",
    "# Load the MNIST digits dataset: digits\n",
    "digits = datasets.load_digits()\n",
    "\n",
    "# Print the keys and DESCR of the dataset\n",
    "print(digits.keys())\n",
    "print(digits['DESCR'])\n",
    "\n",
    "# Print the shape of the images and data keys\n",
    "print(digits.images.shape)\n",
    "print(digits.data.shape)\n",
    "\n",
    "# Display digit 1010\n",
    "plt.imshow(digits.images[1010], cmap=plt.cm.gray_r, interpolation='nearest')\n",
    "plt.show()"
   ],
   "metadata": {
    "collapsed": false,
    "pycharm": {
     "name": "#%%\n"
    }
   }
  },
  {
   "cell_type": "code",
   "execution_count": 1,
   "outputs": [
    {
     "name": "stdout",
     "output_type": "stream",
     "text": [
      "Accuracy = 98.333 %\n"
     ]
    },
    {
     "data": {
      "text/plain": "<Figure size 432x288 with 1 Axes>",
      "image/png": "[encoded data removed]"
     },
     "metadata": {},
     "output_type": "display_data"
    }
   ],
   "source": [
    "import numpy as np\n",
    "import matplotlib.pyplot as plt\n",
    "import seaborn as sns\n",
    "from sklearn import datasets\n",
    "from sklearn.neighbors import KNeighborsClassifier\n",
    "from sklearn.model_selection import train_test_split\n",
    "\n",
    "# Load the MNIST digits dataset: digits\n",
    "digits = datasets.load_digits()\n",
    "\n",
    "# Create feature and target arrays\n",
    "X = digits.data\n",
    "y = digits.target\n",
    "\n",
    "# Split into training and test set\n",
    "X_train, X_test, y_train, y_test = train_test_split(X, y, test_size = 0.2, random_state=42, stratify=y)\n",
    "\n",
    "# Create a k-NN classifier with 7 neighbors: knn\n",
    "knn = KNeighborsClassifier(n_neighbors = 7)\n",
    "\n",
    "# Fit the classifier to the training data\n",
    "knn.fit(X_train, y_train)\n",
    "\n",
    "# Print the accuracy\n",
    "a_score = round(100*knn.score(X_test, y_test), 3)\n",
    "print('Accuracy =', str(a_score), '%')\n",
    "\n",
    "# Setup arrays to store train and test accuracies\n",
    "neighbors = np.arange(1, 9)\n",
    "train_accuracy = np.empty(len(neighbors))\n",
    "test_accuracy = np.empty(len(neighbors))\n",
    "\n",
    "# Loop over different values of k\n",
    "for i, k in enumerate(neighbors):\n",
    "    # Setup a k-NN Classifier with k neighbors: knn\n",
    "    knn_ = KNeighborsClassifier(n_neighbors=k)\n",
    "\n",
    "    # Fit the classifier to the training data\n",
    "    knn_.fit(X_train, y_train)\n",
    "\n",
    "    #Compute accuracy on the training set\n",
    "    train_accuracy[i] = knn_.score(X_train, y_train)\n",
    "\n",
    "    #Compute accuracy on the testing set\n",
    "    test_accuracy[i] = knn_.score(X_test, y_test)\n",
    "\n",
    "# Generate plot\n",
    "sns.set()\n",
    "plt.title('k-NN: Varying Number of Neighbors')\n",
    "plt.plot(neighbors, test_accuracy, label = 'Testing Accuracy')\n",
    "plt.plot(neighbors, train_accuracy, label = 'Training Accuracy')\n",
    "plt.legend()\n",
    "plt.xlabel('Number of Neighbors')\n",
    "plt.ylabel('Accuracy')\n",
    "plt.show()"
   ],
   "metadata": {
    "collapsed": false,
    "pycharm": {
     "name": "#%%\n"
    }
   }
  },
  {
   "cell_type": "markdown",
   "source": [
    "**Introduction to regression**\n",
    "___"
   ],
   "metadata": {
    "collapsed": false
   }
  },
  {
   "cell_type": "code",
   "execution_count": null,
   "outputs": [],
   "source": [
    "# Import required libraries\n",
    "import seaborn as sns\n",
    "import numpy as np\n",
    "import pandas as pd\n",
    "\n",
    "# Read the CSV file into a DataFrame: df\n",
    "#df = pd.read_csv('gapminder.csv')\n",
    "\n",
    "#correlation heatmap!\n",
    "#sns.set()\n",
    "#sns.heatmap(df.corr(), square=True, cmap='RdYlGn')\n",
    "\n",
    "# Create arrays for features and target variable\n",
    "#y = df['life'].values\n",
    "#X = df['fertility'].values\n",
    "\n",
    "# Print the dimensions of X and y before reshaping\n",
    "#print(\"Dimensions of y before reshaping: {}\".format(y.shape))\n",
    "#print(\"Dimensions of X before reshaping: {}\".format(X.shape))\n",
    "\n",
    "# Reshape X and y\n",
    "#y = y.reshape(-1, 1)\n",
    "#X = X.reshape(-1, 1)\n",
    "\n",
    "# Print the dimensions of X and y after reshaping\n",
    "#print(\"Dimensions of y after reshaping: {}\".format(y.shape))\n",
    "#print(\"Dimensions of X after reshaping: {}\".format(X.shape))\n",
    "\n",
    "#################################################\n",
    "#script.py> output:\n",
    "#    Dimensions of y before reshaping: (139,)\n",
    "#    Dimensions of X before reshaping: (139,)\n",
    "#    Dimensions of y after reshaping: (139, 1)\n",
    "#    Dimensions of X after reshaping: (139, 1)"
   ],
   "metadata": {
    "collapsed": false,
    "pycharm": {
     "name": "#%%\n"
    }
   }
  },
  {
   "cell_type": "markdown",
   "source": [
    "**The basics of linear regression**\n",
    "___\n",
    "- y = ax + b\n",
    "    - y = target\n",
    "    - x = single feature\n",
    "    - a, b = parameters of a model\n",
    "- model fit --> how do we choose a and b?\n",
    "    - define an error function for a given line\n",
    "    - choose the line that minimizes the error function (loss/cost function)\n",
    "        - Ordinary Least Squares (OLS) --> minimize sum of squares of residuals\n",
    "___"
   ],
   "metadata": {
    "collapsed": false
   }
  },
  {
   "cell_type": "code",
   "execution_count": null,
   "outputs": [],
   "source": [
    "#import numpy as np\n",
    "\n",
    "# Import LinearRegression\n",
    "#from sklearn.linear_model import LinearRegression\n",
    "\n",
    "# Create the regressor: reg\n",
    "#reg = LinearRegression()\n",
    "\n",
    "# Create the prediction space\n",
    "#prediction_space = np.linspace(min(X_fertility), max(X_fertility)).reshape(-1,1)\n",
    "\n",
    "# Fit the model to the data\n",
    "#reg.fit(X_fertility, y)\n",
    "\n",
    "# Compute predictions over the prediction space: y_pred\n",
    "#y_pred = reg.predict(prediction_space)\n",
    "\n",
    "# Print R^2\n",
    "#print(reg.score(X_fertility, y))\n",
    "\n",
    "# Plot regression line\n",
    "#plt.plot(prediction_space, y_pred, color='black', linewidth=3)\n",
    "#plt.show()\n",
    "\n",
    "#################################################\n",
    "#0.6192442167740035"
   ],
   "metadata": {
    "collapsed": false,
    "pycharm": {
     "name": "#%%\n"
    }
   }
  },
  {
   "cell_type": "code",
   "execution_count": null,
   "outputs": [],
   "source": [
    "#import numpy as np\n",
    "\n",
    "# Import necessary modules\n",
    "#from sklearn.linear_model import LinearRegression\n",
    "#from sklearn.metrics import mean_squared_error\n",
    "#from sklearn.model_selection import train_test_split\n",
    "\n",
    "# Create training and test sets\n",
    "#X_train, X_test, y_train, y_test = train_test_split(X, y, test_size = 0.3, random_state=42)\n",
    "\n",
    "# Create the regressor: reg_all\n",
    "#reg_all = LinearRegression()\n",
    "\n",
    "# Fit the regressor to the training data\n",
    "#reg_all.fit(X_train, y_train)\n",
    "\n",
    "# Predict on the test data: y_pred\n",
    "#y_pred = reg_all.predict(X_test)\n",
    "\n",
    "# Compute and print R^2 and RMSE\n",
    "#print(\"R^2: {}\".format(reg_all.score(X_test, y_test)))\n",
    "#rmse = np.sqrt(mean_squared_error(y_test, y_pred))\n",
    "#print(\"Root Mean Squared Error: {}\".format(rmse))\n",
    "\n",
    "#################################################\n",
    "#<script.py> output:\n",
    "#    R^2: 0.838046873142936\n",
    "#    Root Mean Squared Error: 3.2476010800377213"
   ],
   "metadata": {
    "collapsed": false,
    "pycharm": {
     "name": "#%%\n"
    }
   }
  },
  {
   "cell_type": "markdown",
   "source": [
    "**Cross-validation**\n",
    "___\n",
    "- use '%timeit' from console to calculate runtime\n",
    "___"
   ],
   "metadata": {
    "collapsed": false
   }
  },
  {
   "cell_type": "code",
   "execution_count": null,
   "outputs": [],
   "source": [
    "#import numpy as np\n",
    "\n",
    "# Import the necessary modules\n",
    "#from sklearn.linear_model import LinearRegression\n",
    "#from sklearn.model_selection import cross_val_score\n",
    "\n",
    "# Create a linear regression object: reg\n",
    "#reg = LinearRegression()\n",
    "\n",
    "# Compute 5-fold cross-validation scores: cv_scores\n",
    "#cv_scores = cross_val_score(reg, X, y, cv=5)\n",
    "\n",
    "# Print the 5-fold cross-validation scores\n",
    "#print(cv_scores)\n",
    "\n",
    "#print(\"Average 5-Fold CV Score: {}\".format(np.mean(cv_scores)))\n",
    "\n",
    "#################################################\n",
    "#<script.py> output:\n",
    "#    [0.81720569 0.82917058 0.90214134 0.80633989 0.94495637]\n",
    "#    Average 5-Fold CV Score: 0.8599627722793232"
   ],
   "metadata": {
    "collapsed": false,
    "pycharm": {
     "name": "#%%\n"
    }
   }
  },
  {
   "cell_type": "markdown",
   "source": [
    "**Regularized regression**\n",
    "___\n",
    "\n",
    "- ridge regression (L2 regularization)\n",
    "    - loss function = OLS + alpha[constant] * sum (coefficients)^2\n",
    "    - larger coefficients are penalized\n",
    "    - reduces over-fitting with large number of features/parameters\n",
    "    - alpha controls model complexity\n",
    "        - alpha = 0; we get back OLS\n",
    "        - alpha = high; can lead to underfitting/too much penalization\n",
    "- lasso regression (L1 regularization)\n",
    "    - loss function = OLS + alpha[constant] * sum abs(coefficients)\n",
    "    - can be used to select import features of a dataset\n",
    "    - shrinks coefficients of less important features to be 0\n",
    "___"
   ],
   "metadata": {
    "collapsed": false
   }
  },
  {
   "cell_type": "code",
   "execution_count": null,
   "outputs": [],
   "source": [
    "#import matplotlib.pyplot as plt\n",
    "\n",
    "# Import Lasso\n",
    "#from sklearn.linear_model import Lasso\n",
    "\n",
    "# Instantiate a lasso regressor: lasso\n",
    "#lasso = Lasso(alpha = 0.4, normalize=True)\n",
    "\n",
    "# Fit the regressor to the data\n",
    "#lasso.fit(X, y)\n",
    "\n",
    "# Compute and print the coefficients\n",
    "#lasso_coef = lasso.coef_\n",
    "#print(lasso_coef)\n",
    "\n",
    "# Plot the coefficients\n",
    "#plt.plot(range(len(df_columns)), lasso_coef)\n",
    "#plt.xticks(range(len(df_columns)), df_columns.values, rotation=60)\n",
    "#plt.margins(0.02)\n",
    "#plt.show()\n",
    "\n",
    "#################################################\n",
    "#<script.py> output:\n",
    "#    [-0.         -0.         -0.          0.          0.          0.\n",
    "#     -0.         -0.07087587]\n",
    "\n",
    "#In [1]: df_columns\n",
    "#Index(['population', 'fertility', 'HIV', 'CO2', 'BMI_male', 'GDP',\n",
    "#       'BMI_female', 'child_mortality'],\n",
    "#      dtype='object')\n",
    "\n",
    "#In [3]: type(df_columns)\n",
    "#Out[3]: pandas.indexes.base.Index"
   ],
   "metadata": {
    "collapsed": false,
    "pycharm": {
     "name": "#%%\n"
    }
   }
  },
  {
   "cell_type": "code",
   "execution_count": 20,
   "outputs": [
    {
     "data": {
      "text/plain": "<Figure size 432x288 with 1 Axes>",
      "image/png": "[encoded data removed]"
     },
     "metadata": {},
     "output_type": "display_data"
    }
   ],
   "source": [
    "import seaborn as sns\n",
    "import numpy as np\n",
    "import matplotlib.pyplot as plt\n",
    "\n",
    "# Import necessary modules\n",
    "from sklearn.linear_model import Ridge\n",
    "from sklearn.model_selection import cross_val_score\n",
    "\n",
    "def display_plot(cv_scores, cv_scores_std):\n",
    "    fig = plt.figure()\n",
    "    ax = fig.add_subplot(1,1,1)\n",
    "    ax.plot(alpha_space, cv_scores)\n",
    "\n",
    "    std_error = cv_scores_std / np.sqrt(10)\n",
    "\n",
    "    ax.fill_between(alpha_space, cv_scores + std_error, cv_scores - std_error, alpha=0.2)\n",
    "    ax.set_ylabel('CV Score +/- Std Error')\n",
    "    ax.set_xlabel('Alpha')\n",
    "    ax.axhline(np.max(cv_scores), linestyle='--', color='.5')\n",
    "    ax.set_xlim([alpha_space[0], alpha_space[-1]])\n",
    "    ax.set_xscale('log')\n",
    "    plt.show()\n",
    "\n",
    "# Setup the array of alphas and lists to store scores\n",
    "alpha_space = np.logspace(-4, 0, 50)\n",
    "ridge_scores = []\n",
    "ridge_scores_std = []\n",
    "\n",
    "# Create a ridge regressor: ridge\n",
    "ridge = Ridge(normalize = True)\n",
    "\n",
    "# Compute scores over range of alphas\n",
    "for alpha in alpha_space:\n",
    "\n",
    "    # Specify the alpha value to use: ridge.alpha\n",
    "    ridge.alpha = alpha\n",
    "\n",
    "    # Perform 10-fold CV: ridge_cv_scores\n",
    "    ridge_cv_scores = cross_val_score(ridge, X, y, cv = 10)\n",
    "\n",
    "    # Append the mean of ridge_cv_scores to ridge_scores\n",
    "    ridge_scores.append(np.mean(ridge_cv_scores))\n",
    "\n",
    "    # Append the std of ridge_cv_scores to ridge_scores_std\n",
    "    ridge_scores_std.append(np.std(ridge_cv_scores))\n",
    "\n",
    "# Display the plot\n",
    "sns.set()\n",
    "display_plot(ridge_scores, ridge_scores_std)"
   ],
   "metadata": {
    "collapsed": false,
    "pycharm": {
     "name": "#%%\n"
    }
   }
  },
  {
   "cell_type": "markdown",
   "source": [
    "**How good is your model?**\n",
    "___\n",
    "- Diagnosing classification predictions\n",
    "    - Confusion Matrix\n",
    "\n",
    "|Spam example|Predicted: Spam Email|Predicted: Spam Email|\n",
    "|:-------------:|:-------------:|:------:|\n",
    "|Actual: Spam Email|True Positive|False Negative|\n",
    "|Actual: Real Email|False Positive|True Negative|\n",
    "\n",
    "- True Positive, True Negative --> correctly labeled\n",
    "- False Positive, False Negative --> incorrectly labeled\n",
    "- accuracy = sum of diagonal / sum of total matrix\n",
    "- precision = # of true positives / (true and false positives)\n",
    "    - high precision - not many real emails predicted as spam\n",
    "- recall/sensitivity/hit rate = # of true positives / (true positives and false negatives)\n",
    "    - high recall - predicted most spam emails correctly\n",
    "- F1score = 2 * [(precision * recall) / (precision + recall)]\n",
    "___"
   ],
   "metadata": {
    "collapsed": false
   }
  },
  {
   "cell_type": "code",
   "execution_count": null,
   "outputs": [],
   "source": [
    "import pandas as pd\n",
    "import numpy as np\n",
    "\n",
    "# Import KNeighborsClassifier from sklearn.neighbors\n",
    "from sklearn.neighbors import KNeighborsClassifier\n",
    "\n",
    "# Import necessary modules\n",
    "from sklearn.metrics import classification_report\n",
    "from sklearn.metrics import confusion_matrix\n",
    "\n",
    "# Create training and test set\n",
    "#X_train, X_test, y_train, y_test = train_test_split(X, y, test_size = 0.4, random_state=42)\n",
    "\n",
    "# Instantiate a k-NN classifier: knn\n",
    "#knn = KNeighborsClassifier(n_neighbors=6)\n",
    "\n",
    "# Fit the classifier to the training data\n",
    "#knn.fit(X_train, y_train)\n",
    "\n",
    "# Predict the labels of the test data: y_pred\n",
    "#y_pred = knn.predict(X_test)\n",
    "\n",
    "# Generate the confusion matrix and classification report\n",
    "#print(confusion_matrix(y_test, y_pred))\n",
    "#print(classification_report(y_test, y_pred))\n",
    "\n",
    "#################################################\n",
    "#<script.py> output:\n",
    "#    [[176  30]\n",
    "#     [ 52  50]]\n",
    "#                 precision    recall  f1-score   support\n",
    "#              0       0.77      0.85      0.81       206\n",
    "#              1       0.62      0.49      0.55       102\n",
    " #   avg / total       0.72      0.73      0.72       308\n"
   ],
   "metadata": {
    "collapsed": false,
    "pycharm": {
     "name": "#%%\n"
    }
   }
  },
  {
   "cell_type": "markdown",
   "source": [
    "**Logistic Regression and the ROC curve**\n",
    "___\n",
    "- Threshold\n",
    "    - receiver operator characteristic curve (ROC)\n",
    "        - distribution of false positive/negative rates\n"
   ],
   "metadata": {
    "collapsed": false
   }
  },
  {
   "cell_type": "code",
   "execution_count": null,
   "outputs": [],
   "source": [
    "# Import the necessary modules\n",
    "#from sklearn.linear_model import LogisticRegression\n",
    "#from sklearn.metrics import confusion_matrix, classification_report\n",
    "\n",
    "# Create training and test sets\n",
    "#X_train, X_test, y_train, y_test = train_test_split(X, y, test_size = 0.4, random_state=42)\n",
    "\n",
    "# Create the classifier: logreg\n",
    "#logreg = LogisticRegression()\n",
    "\n",
    "# Fit the classifier to the training data\n",
    "#logreg.fit(X_train, y_train)\n",
    "\n",
    "# Predict the labels of the test set: y_pred\n",
    "#y_pred = logreg.predict(X_test)\n",
    "\n",
    "# Compute and print the confusion matrix and classification report\n",
    "#print(confusion_matrix(y_test, y_pred))\n",
    "#print(classification_report(y_test, y_pred))\n",
    "\n",
    "#################################################\n",
    "#[[176  30]\n",
    "# [ 35  67]]\n",
    "#             precision    recall  f1-score   support\n",
    "#          0       0.83      0.85      0.84       206\n",
    "#          1       0.69      0.66      0.67       102\n",
    "#avg / total       0.79      0.79      0.79       308\n"
   ],
   "metadata": {
    "collapsed": false,
    "pycharm": {
     "name": "#%%\n"
    }
   }
  },
  {
   "cell_type": "code",
   "execution_count": null,
   "outputs": [],
   "source": [
    "# Import necessary modules\n",
    "#from sklearn.metrics import roc_curve\n",
    "\n",
    "# Compute predicted probabilities: y_pred_prob\n",
    "#y_pred_prob = logreg.predict_proba(X_test)[:,1]\n",
    "\n",
    "# Generate ROC curve values: fpr, tpr, thresholds\n",
    "#fpr, tpr, thresholds = roc_curve(y_test, y_pred_prob)\n",
    "\n",
    "# Plot ROC curve\n",
    "#plt.plot([0, 1], [0, 1], 'k--')\n",
    "#plt.plot(fpr, tpr)\n",
    "#plt.xlabel('False Positive Rate')\n",
    "#plt.ylabel('True Positive Rate')\n",
    "#plt.title('ROC Curve')\n",
    "#plt.show()\n",
    "\n"
   ],
   "metadata": {
    "collapsed": false,
    "pycharm": {
     "name": "#%%\n"
    }
   }
  },
  {
   "cell_type": "markdown",
   "source": [
    "**Area under the ROC curve**\n",
    "___\n",
    "- larger area under ROC curve = better model (AUC)"
   ],
   "metadata": {
    "collapsed": false
   }
  },
  {
   "cell_type": "code",
   "execution_count": null,
   "outputs": [],
   "source": [
    "# Import necessary modules\n",
    "from sklearn.metrics import roc_auc_score\n",
    "from sklearn.model_selection import cross_val_score\n",
    "\n",
    "# Compute predicted probabilities: y_pred_prob\n",
    "y_pred_prob = logreg.predict_proba(X_test)[:,1]\n",
    "\n",
    "# Compute and print AUC score\n",
    "print(\"AUC: {}\".format(roc_auc_score(y_test, y_pred_prob)))\n",
    "\n",
    "# Compute cross-validated AUC scores: cv_auc\n",
    "cv_auc = cross_val_score(logreg, X, y, cv = 5, scoring = 'roc_auc')\n",
    "\n",
    "# Print list of AUC scores\n",
    "print(\"AUC scores computed using 5-fold cross-validation: {}\".format(cv_auc))\n",
    "\n",
    "#################################################\n",
    "#<script.py> output:\n",
    "#    AUC: 0.8254806777079764\n",
    "#    AUC scores computed using 5-fold cross-validation: [0.80148148 0.8062963  0.81481481 0.86245283 0.8554717 ]"
   ],
   "metadata": {
    "collapsed": false,
    "pycharm": {
     "name": "#%%\n"
    }
   }
  },
  {
   "cell_type": "markdown",
   "source": [
    "**Hyperparameter tuning**\n",
    "___\n",
    "- hyperparameters cannot be learned by fitting the model\n",
    "    - linear regression - choosing parameter\n",
    "    - ridge/lasso regression - choosing alpha\n",
    "    - k-Nearest Neighbors - choosing n_neighbors\n",
    "- it is essential to use cross-validation\n",
    "- grid search cross-validation"
   ],
   "metadata": {
    "collapsed": false
   }
  },
  {
   "cell_type": "code",
   "execution_count": null,
   "outputs": [],
   "source": [
    "# Import necessary modules\n",
    "from sklearn.linear_model import LogisticRegression\n",
    "from sklearn.model_selection import GridSearchCV\n",
    "\n",
    "# Setup the hyperparameter grid\n",
    "#c_space = np.logspace(-5, 8, 15)\n",
    "#param_grid = {'C': c_space}\n",
    "\n",
    "# Instantiate a logistic regression classifier: logreg\n",
    "#logreg = LogisticRegression()\n",
    "\n",
    "# Instantiate the GridSearchCV object: logreg_cv\n",
    "#logreg_cv = GridSearchCV(logreg, param_grid, cv=5)\n",
    "\n",
    "# Fit it to the data\n",
    "#logreg_cv.fit(X, y)\n",
    "\n",
    "# Print the tuned parameters and score\n",
    "#print(\"Tuned Logistic Regression Parameters: {}\".format(logreg_cv.best_params_))\n",
    "#print(\"Best score is {}\".format(logreg_cv.best_score_))\n",
    "\n",
    "#################################################\n",
    "#<script.py> output:\n",
    "#    Tuned Logistic Regression Parameters: {'C': 3.727593720314938}\n",
    "#    Best score is 0.7708333333333334"
   ],
   "metadata": {
    "collapsed": false,
    "pycharm": {
     "name": "#%%\n"
    }
   }
  },
  {
   "cell_type": "code",
   "execution_count": 2,
   "outputs": [],
   "source": [
    "# Import necessary modules\n",
    "from scipy.stats import randint\n",
    "from sklearn.tree import DecisionTreeClassifier\n",
    "from sklearn.model_selection import RandomizedSearchCV\n",
    "\n",
    "# Setup the parameters and distributions to sample from: param_dist\n",
    "param_dist = {\"max_depth\": [3, None],\n",
    "              \"max_features\": randint(1, 9),\n",
    "              \"min_samples_leaf\": randint(1, 9),\n",
    "              \"criterion\": [\"gini\", \"entropy\"]}\n",
    "\n",
    "# Instantiate a Decision Tree classifier: tree\n",
    "tree = DecisionTreeClassifier()\n",
    "\n",
    "# Instantiate the RandomizedSearchCV object: tree_cv\n",
    "tree_cv = RandomizedSearchCV(tree, param_dist, cv=5)\n",
    "\n",
    "# Fit it to the data\n",
    "#tree_cv.fit(X, y)\n",
    "\n",
    "# Print the tuned parameters and score\n",
    "#print(\"Tuned Decision Tree Parameters: {}\".format(tree_cv.best_params_))\n",
    "#print(\"Best score is {}\".format(tree_cv.best_score_))\n",
    "\n",
    "#################################################\n",
    "#<script.py> output:\n",
    "#    Tuned Decision Tree Parameters: {'criterion': 'gini', 'max_depth': 3, 'max_features': 5, 'min_samples_leaf': 2}\n",
    "#    Best score is 0.7395833333333334"
   ],
   "metadata": {
    "collapsed": false,
    "pycharm": {
     "name": "#%%\n"
    }
   }
  },
  {
   "cell_type": "markdown",
   "source": [
    "**Hold-out set for final evaluation**\n",
    "___\n",
    "- using all data for cross-validation is not ideal\n",
    "- split data into training and hold out set at the beginning\n",
    "- perform grid search cross-validation on training set\n",
    "- choose best hyperparameters and evaluate on hold-out set\n",
    "___"
   ],
   "metadata": {
    "collapsed": false
   }
  },
  {
   "cell_type": "code",
   "execution_count": null,
   "outputs": [],
   "source": [
    "# Classification Hold-out set\n",
    "# Import necessary modules\n",
    "from sklearn.model_selection import train_test_split\n",
    "from sklearn.linear_model import LogisticRegression\n",
    "from sklearn.model_selection import GridSearchCV\n",
    "\n",
    "# Create the hyperparameter grid\n",
    "#c_space = np.logspace(-5, 8, 15)\n",
    "#param_grid = {'C': c_space, 'penalty': ['l1', 'l2']}\n",
    "\n",
    "# Instantiate the logistic regression classifier: logreg\n",
    "#logreg = LogisticRegression()\n",
    "\n",
    "# Create train and test sets\n",
    "#X_train, X_test, y_train, y_test = train_test_split(X, y, test_size = 0.4, random_state = 42)\n",
    "\n",
    "# Instantiate the GridSearchCV object: logreg_cv\n",
    "#logreg_cv = GridSearchCV(logreg, param_grid, cv=5)\n",
    "\n",
    "# Fit it to the training data\n",
    "#logreg_cv.fit(X_train, y_train)\n",
    "\n",
    "# Print the optimal parameters and best score\n",
    "#print(\"Tuned Logistic Regression Parameter: {}\".format(logreg_cv.best_params_))\n",
    "#print(\"Tuned Logistic Regression Accuracy: {}\".format(logreg_cv.best_score_))\n",
    "\n",
    "#################################################\n",
    "#<script.py> output:\n",
    "#    Tuned Logistic Regression Parameter: {'C': 0.4393970560760795, 'penalty': 'l1'}\n",
    "#    Tuned Logistic Regression Accuracy: 0.7652173913043478"
   ],
   "metadata": {
    "collapsed": false,
    "pycharm": {
     "name": "#%%\n"
    }
   }
  },
  {
   "cell_type": "code",
   "execution_count": null,
   "outputs": [],
   "source": [
    "# Regression Hold-out set\n",
    "# Import necessary modules\n",
    "from sklearn.linear_model import ElasticNet\n",
    "from sklearn.metrics import mean_squared_error\n",
    "from sklearn.model_selection import GridSearchCV, train_test_split\n",
    "\n",
    "# Create train and test sets\n",
    "#X_train, X_test, y_train, y_test = train_test_split(X, y, test_size = 0.4, random_state = 42)\n",
    "\n",
    "# Create the hyperparameter grid\n",
    "#l1_space = np.linspace(0, 1, 30)\n",
    "#param_grid = {'l1_ratio': l1_space}\n",
    "\n",
    "# Instantiate the ElasticNet regressor: elastic_net\n",
    "#elastic_net = ElasticNet()\n",
    "\n",
    "# Setup the GridSearchCV object: gm_cv\n",
    "#gm_cv = GridSearchCV(elastic_net, param_grid, cv=5)\n",
    "\n",
    "# Fit it to the training data\n",
    "#gm_cv.fit(X_train, y_train)\n",
    "\n",
    "# Predict on the test set and compute metrics\n",
    "#y_pred = gm_cv.predict(X_test)\n",
    "#r2 = gm_cv.score(X_test, y_test)\n",
    "#mse = mean_squared_error(y_test, y_pred)\n",
    "#print(\"Tuned ElasticNet l1 ratio: {}\".format(gm_cv.best_params_))\n",
    "#print(\"Tuned ElasticNet R squared: {}\".format(r2))\n",
    "#print(\"Tuned ElasticNet MSE: {}\".format(mse))\n",
    "\n",
    "#################################################\n",
    "#<script.py> output:\n",
    "#    Tuned ElasticNet l1 ratio: {'l1_ratio': 0.20689655172413793}\n",
    "#    Tuned ElasticNet R squared: 0.8668305372460283\n",
    "#    Tuned ElasticNet MSE: 10.05791413339844"
   ],
   "metadata": {
    "collapsed": false,
    "pycharm": {
     "name": "#%%\n"
    }
   }
  },
  {
   "cell_type": "markdown",
   "source": [
    "**Preprocessing data**\n",
    "___"
   ],
   "metadata": {
    "collapsed": false
   }
  },
  {
   "cell_type": "code",
   "execution_count": null,
   "outputs": [],
   "source": [
    "#Data exploration with pandas boxplot\n",
    "\n",
    "# Import pandas\n",
    "#import pandas as pd\n",
    "\n",
    "# Read 'gapminder.csv' into a DataFrame: df\n",
    "#df = pd.read_csv('gapminder.csv')\n",
    "\n",
    "# Create a boxplot of life expectancy per region\n",
    "#df.boxplot('life', 'Region', rot=60)\n",
    "\n",
    "# Show the plot\n",
    "#plt.show()"
   ],
   "metadata": {
    "collapsed": false,
    "pycharm": {
     "name": "#%%\n"
    }
   }
  },
  {
   "cell_type": "code",
   "execution_count": null,
   "outputs": [],
   "source": [
    "#Dummy coding categorical variables because scikit-learn is stupid\n",
    "\n",
    "# Import pandas\n",
    "#import pandas as pd\n",
    "\n",
    "# Create dummy variables: df_region\n",
    "#df_region = pd.get_dummies(df)\n",
    "\n",
    "# Print the columns of df_region\n",
    "#print(df_region.columns)\n",
    "\n",
    "# Create dummy variables with drop_first=True: df_region\n",
    "#df_region = pd.get_dummies(df, drop_first = True)\n",
    "\n",
    "# Print the new columns of df_region\n",
    "#print(df_region.columns)\n",
    "\n",
    "#################################################\n",
    "#script.py> output:\n",
    "#    Index(['population', 'fertility', 'HIV', 'CO2', 'BMI_male', 'GDP',\n",
    "#           'BMI_female', 'life', 'child_mortality', 'Region_America',\n",
    "#           'Region_East Asia & Pacific', 'Region_Europe & Central Asia',\n",
    "#           'Region_Middle East & North Africa', 'Region_South Asia',\n",
    "#           'Region_Sub-Saharan Africa'],\n",
    "#          dtype='object')\n",
    "#    Index(['population', 'fertility', 'HIV', 'CO2', 'BMI_male', 'GDP',\n",
    "#           'BMI_female', 'life', 'child_mortality', 'Region_East Asia & Pacific',\n",
    "#           'Region_Europe & Central Asia', 'Region_Middle East & North Africa',\n",
    "#           'Region_South Asia', 'Region_Sub-Saharan Africa'],\n",
    "#          dtype='object')"
   ],
   "metadata": {
    "collapsed": false,
    "pycharm": {
     "name": "#%%\n"
    }
   }
  },
  {
   "cell_type": "code",
   "execution_count": null,
   "outputs": [],
   "source": [
    "#Ridge/Regularized linear regression with dummy coded data\n",
    "# Import necessary modules\n",
    "#from sklearn.linear_model import Ridge\n",
    "#from sklearn.model_selection import cross_val_score\n",
    "\n",
    "# Instantiate a ridge regressor: ridge\n",
    "#ridge = Ridge(alpha = 0.5, normalize=True)\n",
    "\n",
    "# Perform 5-fold cross-validation: ridge_cv\n",
    "#ridge_cv = cross_val_score(ridge, X, y, cv=5)\n",
    "\n",
    "# Print the cross-validated scores\n",
    "#print(ridge_cv)\n",
    "\n",
    "#################################################\n",
    "#<script.py> output:\n",
    "#    [0.86808336 0.80623545 0.84004203 0.7754344  0.87503712]"
   ],
   "metadata": {
    "collapsed": false,
    "pycharm": {
     "name": "#%%\n"
    }
   }
  },
  {
   "cell_type": "markdown",
   "source": [
    "**Handling missing data**\n",
    "___\n",
    "1. Transform dataset\n",
    "    - missing values\n",
    "    - impute values\n",
    "2. Apply classifier\n",
    "3. Build pipeline from 1 and 2\n",
    "___"
   ],
   "metadata": {
    "collapsed": false
   }
  },
  {
   "cell_type": "code",
   "execution_count": null,
   "outputs": [],
   "source": [
    "#Dropping missing data\n",
    "import numpy as np\n",
    "import pandas as pd\n",
    "\n",
    "# Convert '?' to NaN\n",
    "#df[df == '?'] = np.nan\n",
    "\n",
    "# Print the number of NaNs\n",
    "#print(df.isnull().sum())\n",
    "\n",
    "# Print shape of original DataFrame\n",
    "#print(\"Shape of Original DataFrame: {}\".format(df.shape))\n",
    "\n",
    "# Drop missing values and print shape of new DataFrame\n",
    "#df = df.dropna()\n",
    "\n",
    "# Print shape of new DataFrame\n",
    "#print(\"Shape of DataFrame After Dropping All Rows with Missing Values: {}\".format(df.shape))\n",
    "\n",
    "#################################################\n",
    "#<script.py> output:\n",
    "#    party                  0\n",
    "#    infants               12\n",
    "#    water                 48\n",
    "#    budget                11\n",
    "#    physician             11\n",
    "#    salvador              15\n",
    "#    religious             11\n",
    "#    satellite             14\n",
    "#    aid                   15\n",
    "#    missile               22\n",
    "#    immigration            7\n",
    "#    synfuels              21\n",
    "#    education             31\n",
    "#    superfund             25\n",
    "#    crime                 17\n",
    "#    duty_free_exports     28\n",
    "#    eaa_rsa              104\n",
    "#    dtype: int64\n",
    "#    Shape of Original DataFrame: (435, 17)\n",
    "#    Shape of DataFrame After Dropping All Rows with Missing Values: (232, 17)"
   ],
   "metadata": {
    "collapsed": false,
    "pycharm": {
     "name": "#%%\n"
    }
   }
  },
  {
   "cell_type": "code",
   "execution_count": null,
   "outputs": [],
   "source": [
    "#Imputing missing data in a ML Pipeline\n",
    "import numpy as np\n",
    "import pandas as pd\n",
    "\n",
    "# Import the Imputer module\n",
    "from sklearn.preprocessing import Imputer\n",
    "from sklearn.svm import SVC\n",
    "from sklearn.pipeline import Pipeline\n",
    "\n",
    "# Setup the Imputation transformer: imp\n",
    "#imp = Imputer(missing_values='NaN', strategy='most_frequent', axis=0)\n",
    "\n",
    "# Instantiate the SVC classifier: clf\n",
    "#clf = SVC()\n",
    "\n",
    "# Setup the pipeline with the required steps: steps\n",
    "#steps = [('imputation', imp),\n",
    "        ('SVM', clf)]\n",
    "\n",
    "# Import necessary modules\n",
    "#from sklearn.preprocessing import Imputer\n",
    "#from sklearn.pipeline import Pipeline\n",
    "#from sklearn.svm import SVC\n",
    "\n",
    "# Setup the pipeline steps: steps\n",
    "#steps = [('imputation', Imputer(missing_values='NaN', strategy='most_frequent', axis=0)),\n",
    "        ('SVM', SVC())]\n",
    "\n",
    "# Create the pipeline: pipeline\n",
    "#pipeline = Pipeline(steps)\n",
    "\n",
    "# Create training and test sets\n",
    "#X_train, X_test, y_train, y_test = train_test_split(X, y, test_size=0.3, random_state=42)\n",
    "\n",
    "# Fit the pipeline to the train set\n",
    "#pipeline.fit(X_train, y_train)\n",
    "\n",
    "# Predict the labels of the test set\n",
    "#y_pred = pipeline.predict(X_test)\n",
    "\n",
    "# Compute metrics\n",
    "#print(classification_report(y_test, y_pred))\n",
    "\n",
    "#################################################\n",
    "#<script.py> output:\n",
    "#                 precision    recall  f1-score   support\n",
    "#       democrat       0.99      0.96      0.98        85\n",
    "#     republican       0.94      0.98      0.96        46\n",
    "#    avg / total       0.97      0.97      0.97       131"
   ],
   "metadata": {
    "collapsed": false,
    "pycharm": {
     "name": "#%%\n"
    }
   }
  },
  {
   "cell_type": "markdown",
   "source": [
    "**Centering and scaling**\n",
    "___\n",
    "- we want features to be one similar scales to avoid bias in our classifiers\n",
    "- **standardization** - all features are centered around zero and have variance one\n",
    "    - subtract the mean and divide by variance\n",
    "- subtract the minimum and divide by range (minimum zero and maximum one)\n",
    "- can also normalize on a scale of -1 to 1\n",
    "___"
   ],
   "metadata": {
    "collapsed": false
   }
  },
  {
   "cell_type": "code",
   "execution_count": null,
   "outputs": [],
   "source": [
    "#Centering and scaling your data\n",
    "import numpy as np\n",
    "import pandas as pd\n",
    "\n",
    "# Import scale\n",
    "from sklearn.preprocessing import scale\n",
    "\n",
    "# Scale the features: X_scaled\n",
    "#X_scaled = scale(X)\n",
    "\n",
    "# Print the mean and standard deviation of the unscaled features\n",
    "#print(\"Mean of Unscaled Features: {}\".format(np.mean(X)))\n",
    "#print(\"Standard Deviation of Unscaled Features: {}\".format(np.std(X)))\n",
    "\n",
    "# Print the mean and standard deviation of the scaled features\n",
    "#print(\"Mean of Scaled Features: {}\".format(np.mean(X_scaled)))\n",
    "#print(\"Standard Deviation of Scaled Features: {}\".format(np.std(X_scaled)))\n",
    "\n",
    "#################################################\n",
    "#<script.py> output:\n",
    "#    Mean of Unscaled Features: 18.432687072460002\n",
    "#    Standard Deviation of Unscaled Features: 41.54494764094571\n",
    "#    Mean of Scaled Features: 2.7314972981668206e-15\n",
    "#    Standard Deviation of Scaled Features: 0.9999999999999999"
   ],
   "metadata": {
    "collapsed": false,
    "pycharm": {
     "name": "#%%\n"
    }
   }
  },
  {
   "cell_type": "code",
   "execution_count": null,
   "outputs": [],
   "source": [
    "#Centering and scaling in a pipeline\n",
    "# Import the necessary modules\n",
    "from sklearn.preprocessing import StandardScaler\n",
    "from sklearn.pipeline import Pipeline\n",
    "\n",
    "# Setup the pipeline steps: steps\n",
    "#steps = [('scaler', StandardScaler()),\n",
    "#        ('knn', KNeighborsClassifier())]\n",
    "\n",
    "# Create the pipeline: pipeline\n",
    "#pipeline = Pipeline(steps)\n",
    "\n",
    "# Create train and test sets\n",
    "#X_train, X_test, y_train, y_test = train_test_split(X, y, test_size = 0.3, random_state=42)\n",
    "\n",
    "# Fit the pipeline to the training set: knn_scaled\n",
    "#knn_scaled = pipeline.fit(X_train, y_train)\n",
    "\n",
    "# Instantiate and fit a k-NN classifier to the unscaled data\n",
    "#knn_unscaled = KNeighborsClassifier().fit(X_train, y_train)\n",
    "\n",
    "# Compute and print metrics\n",
    "#print('Accuracy with Scaling: {}'.format(knn_scaled.score(X_test, y_test)))\n",
    "#print('Accuracy without Scaling: {}'.format(knn_unscaled.score(X_test, y_test)))\n",
    "\n",
    "#################################################\n",
    "#<script.py> output:\n",
    "#    Accuracy with Scaling: 0.7700680272108843\n",
    "#    Accuracy without Scaling: 0.6979591836734694"
   ],
   "metadata": {
    "collapsed": false,
    "pycharm": {
     "name": "#%%\n"
    }
   }
  },
  {
   "cell_type": "code",
   "execution_count": null,
   "outputs": [],
   "source": [
    "#Bringing it all together I: Pipeline for classification\n",
    "\n",
    "#You'll return to using the SVM classifier you were briefly\n",
    "#introduced to earlier in this chapter. The hyperparameters\n",
    "#you will tune are C and gamma. C controls the regularization\n",
    "#strength. It is analogous to the C you tuned for logistic regression\n",
    "#in Chapter 3, while gamma controls the kernel coefficient: Do not worry\n",
    "#about this now as it is beyond the scope of this course.\n",
    "\n",
    "#The following modules and functions have been pre-loaded: Pipeline,\n",
    "# SVC, train_test_split, GridSearchCV, classification_report,\n",
    "# accuracy_score. The feature and target variable arrays X and y have\n",
    "# also been pre-loaded.\n",
    "\n",
    "# Setup the pipeline\n",
    "#steps = [('scaler', StandardScaler()),\n",
    "         ('SVM', SVC())]\n",
    "\n",
    "#pipeline = Pipeline(steps)\n",
    "\n",
    "# Specify the hyperparameter space\n",
    "#parameters = {'SVM__C':[1, 10, 100],\n",
    "              'SVM__gamma':[0.1, 0.01]}\n",
    "\n",
    "# Create train and test sets\n",
    "#X_train, X_test, y_train, y_test = train_test_split(X, y, test_size=0.2,  random_state=21)\n",
    "\n",
    "# Instantiate the GridSearchCV object: cv\n",
    "#cv = GridSearchCV(pipeline, parameters)\n",
    "\n",
    "# Fit to the training set\n",
    "#cv.fit(X_train, y_train)\n",
    "\n",
    "# Predict the labels of the test set: y_pred\n",
    "#y_pred = cv.predict(X_test)\n",
    "\n",
    "# Compute and print metrics\n",
    "#print(\"Accuracy: {}\".format(cv.score(X_test, y_test)))\n",
    "#print(classification_report(y_test, y_pred))\n",
    "#print(\"Tuned Model Parameters: {}\".format(cv.best_params_))\n",
    "\n",
    "#################################################\n",
    "#<script.py> output:\n",
    "#    Accuracy: 0.7795918367346939\n",
    "#                 precision    recall  f1-score   support\n",
    "#          False       0.83      0.85      0.84       662\n",
    "#           True       0.67      0.63      0.65       318\n",
    "#    avg / total       0.78      0.78      0.78       980\n",
    "#   Tuned Model Parameters: {'SVM__C': 10, 'SVM__gamma': 0.1}"
   ],
   "metadata": {
    "collapsed": false,
    "pycharm": {
     "name": "#%%\n"
    }
   }
  },
  {
   "cell_type": "code",
   "execution_count": null,
   "outputs": [],
   "source": [
    "#Bringing it all together II: Pipeline for regression\n",
    "\n",
    "#Your job is to build a pipeline that imputes the missing data,\n",
    "#scales the features, and fits an ElasticNet to the Gapminder data.\n",
    "#You will then tune the l1_ratio of your ElasticNet using GridSearchCV.\n",
    "\n",
    "#All the necessary modules have been imported, and the feature and\n",
    "#target variable arrays have been pre-loaded as X and y.\n",
    "\n",
    "# Setup the pipeline steps: steps\n",
    "#steps = [('imputation', Imputer(missing_values='NaN', strategy='mean', axis=0)),\n",
    "#         ('scaler', StandardScaler()),\n",
    "#         ('elasticnet', ElasticNet())]\n",
    "\n",
    "# Create the pipeline: pipeline\n",
    "#pipeline = Pipeline(steps)\n",
    "\n",
    "# Specify the hyperparameter space\n",
    "#parameters = {'elasticnet__l1_ratio':np.linspace(0,1,30)}\n",
    "\n",
    "# Create train and test sets\n",
    "#X_train, X_test, y_train, y_test = train_test_split(X, y, test_size=0.4, random_state=42)\n",
    "\n",
    "# Create the GridSearchCV object: gm_cv\n",
    "#gm_cv = GridSearchCV(pipeline, parameters, cv=3)\n",
    "\n",
    "# Fit to the training set\n",
    "#gm_cv.fit(X_train, y_train)\n",
    "\n",
    "# Compute and print the metrics\n",
    "#r2 = gm_cv.score(X_test, y_test)\n",
    "#print(\"Tuned ElasticNet Alpha: {}\".format(gm_cv.best_params_))\n",
    "#print(\"Tuned ElasticNet R squared: {}\".format(r2))\n",
    "\n",
    "#################################################\n",
    "#<script.py> output:\n",
    "#    Tuned ElasticNet Alpha: {'elasticnet__l1_ratio': 1.0}\n",
    "#    Tuned ElasticNet R squared: 0.8862016570888217"
   ],
   "metadata": {
    "collapsed": false,
    "pycharm": {
     "name": "#%%\n"
    }
   }
  }
 ],
 "metadata": {
  "kernelspec": {
   "display_name": "Python 3",
   "language": "python",
   "name": "python3"
  },
  "language_info": {
   "codemirror_mode": {
    "name": "ipython",
    "version": 2
   },
   "file_extension": ".py",
   "mimetype": "text/x-python",
   "name": "python",
   "nbconvert_exporter": "python",
   "pygments_lexer": "ipython2",
   "version": "2.7.6"
  }
 },
 "nbformat": 4,
 "nbformat_minor": 0
}