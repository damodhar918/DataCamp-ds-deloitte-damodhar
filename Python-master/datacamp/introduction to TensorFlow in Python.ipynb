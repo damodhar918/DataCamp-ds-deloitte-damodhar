{
 "cells": [
  {
   "cell_type": "markdown",
   "metadata": {
    "collapsed": true,
    "pycharm": {
     "name": "#%% md\n"
    }
   },
   "source": [
    "**Constants and variables**\n",
    "___\n",
    "![_images/20.1.PNG](_images/20.1.PNG)\n",
    "\n",
    "- What is a tensor?\n",
    "    - generalization of vectors and matrices\n",
    "    - collection of numbers\n",
    "    - specific shape\n",
    "\n",
    "![_images/20.2.PNG](_images/20.2.PNG)\n",
    "![_images/20.3.PNG](_images/20.3.PNG)\n",
    "\n",
    "![_images/20.4.PNG](_images/20.4.PNG)\n",
    "\n",
    "![_images/20.5.PNG](_images/20.5.PNG)\n",
    "\n",
    "![_images/20.6.PNG](_images/20.6.PNG)\n",
    "___"
   ]
  }
 ],
 "metadata": {
  "kernelspec": {
   "display_name": "Python 3",
   "language": "python",
   "name": "python3"
  },
  "language_info": {
   "codemirror_mode": {
    "name": "ipython",
    "version": 2
   },
   "file_extension": ".py",
   "mimetype": "text/x-python",
   "name": "python",
   "nbconvert_exporter": "python",
   "pygments_lexer": "ipython2",
   "version": "2.7.6"
  }
 },
 "nbformat": 4,
 "nbformat_minor": 0
}