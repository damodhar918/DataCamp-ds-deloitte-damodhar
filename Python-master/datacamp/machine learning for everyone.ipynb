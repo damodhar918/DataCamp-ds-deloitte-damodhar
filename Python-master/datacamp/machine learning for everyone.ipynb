{
 "cells": [
  {
   "cell_type": "markdown",
   "metadata": {
    "collapsed": true,
    "pycharm": {
     "name": "#%% md\n"
    }
   },
   "source": [
    "**What is machine learning?**\n",
    "___\n",
    "- Artificial intelligence\n",
    "    - set of tools for making computers behave intelligently using computer science and robotics.\n",
    "- Machine learning\n",
    "    - a set of tools for making inferences/causes/patterns and predictions/outcomes from data using statistics and computer science.\n",
    "    - ability to learn without being explicitly programmed.\n",
    "- Data Science\n",
    "    - discovering and communicating insights from data / overlaps with machine learning via machine learning models.\n",
    "- Reinforcement learning\n",
    "    - used for deciding sequential actions\n",
    "- Supervised learning\n",
    "    - observations of features and relationships between features train a model to predict a target variable. Values of observations are labelled and known.\n",
    "- Unsupervised learning\n",
    "    - training data is not labeled and only has features with no target. Is used to detect anomalies or cluster data into groups (e.g. self-driving)\n",
    "- Workflow\n",
    "    - 1. extract features\n",
    "    - 2. split dataset - train & test\n",
    "    - 3. train model\n",
    "    - 4. Evaluate model - test dataset (if percentage of accuracy is below threshold, tune and retrain model)\n",
    "___"
   ]
  },
  {
   "cell_type": "markdown",
   "source": [
    "**Machine learning models**\n",
    "___\n",
    "- Supervised learning\n",
    "     - classification           -> assigning a category to a target\n",
    "     - regression               -> assigning a continuous variable to a target\n",
    "\n",
    "- Unsupervised learning\n",
    "     - clustering               -> K Means (# of clusters), DBSCAN (size of each cluster)\n",
    "     - anomaly detection        -> outlier detection\n",
    "     - association              -> relationships between features\n",
    "\n",
    "- Evaluating performance\n",
    "    - use testing set to check model performance\n",
    "    - classification evaluand can use accuracy, or\n",
    "    - confusion matrix using sensitivity\n",
    "        - [true positives/(true pos + false neg) or specificity [true negatives/(true neg + false pos)]\n",
    "    - regression evaluand example is root mean squared error (RMSE)\n",
    "     - overfitting\n",
    "        - model performs great on training data but poorly on testing data\n",
    "        - model memorized training data and cannot generalize learning to new data\n",
    "\n",
    "- Improving performance\n",
    "     - dimensionality reduction -> reducing number of features (irrelevant, highly correlated)\n",
    "     - hyperparameter tuning    -> e.g. Support Vector Machine (SVM) - change kernel from linear to poly\n",
    "     - ensemble methods         -> multiple models are used (e.g., averages for continuous variables, best 2 out of 3 for classification)\n",
    "___"
   ],
   "metadata": {
    "collapsed": false
   }
  },
  {
   "cell_type": "markdown",
   "source": [
    "**Deep learning**\n",
    "___\n",
    "- Deep learning               -> aka neural networks\n",
    "    - basic unit: neurons/nodes\n",
    "    - best with large amounts of text or images\n",
    "    - feature->neuron->target\n",
    "\n",
    "- Computer vision\n",
    "    - helps computers see and understand the content of digital images\n",
    "    - RGB is 3x more data than grayscale\n",
    "    - images->neuron(edges)->neuron(objects)->neuron(shapes of faces)\n",
    "\n",
    "- Natural language processing\n",
    "    - computer vision and natural language processing are two cases of complex problems best managed by deep learning (automatic feature extraction, better performance with more data)\n",
    "    - bag of words - word count. Limitation: word counts do not consider synonyms\n",
    "    - n-grams - like bag of words but with phrases of length n\n",
    "    - word embeddings - includes features of words\n",
    "\n",
    "- Limits of machine learning\n",
    "    - data quality\n",
    "        - garbage in, garbage out (e.g., Amazon's gender-biased hiring tool, AI chatbots)\n",
    "        - quality assurance requires: data analysis, review of outliers, relevant domain expertise applied, and thorough documentation\n",
    "    - explainability\n",
    "        - black box effect of machine learning models\n",
    "        - applications: minimizing bias, business adoption, regulatory oversight\n",
    "        - prediction ---> inference ---> why? this is explainable AI. Without ability to infer, it is not explainable.\n",
    "___\n"
   ],
   "metadata": {
    "collapsed": false
   }
  }
 ],
 "metadata": {
  "kernelspec": {
   "display_name": "Python 3",
   "language": "python",
   "name": "python3"
  },
  "language_info": {
   "codemirror_mode": {
    "name": "ipython",
    "version": 2
   },
   "file_extension": ".py",
   "mimetype": "text/x-python",
   "name": "python",
   "nbconvert_exporter": "python",
   "pygments_lexer": "ipython2",
   "version": "2.7.6"
  }
 },
 "nbformat": 4,
 "nbformat_minor": 0
}