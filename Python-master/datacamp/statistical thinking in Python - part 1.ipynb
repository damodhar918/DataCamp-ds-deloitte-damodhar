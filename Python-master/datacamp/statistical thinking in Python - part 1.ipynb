{
 "cells": [
  {
   "cell_type": "markdown",
   "metadata": {
    "collapsed": true,
    "pycharm": {
     "name": "#%% md\n"
    }
   },
   "source": [
    "**Graphical exploratory data analysis**\n",
    "___\n",
    ">Exploratory data analysis can never be the whole story,\n",
    ">but nothing else can serve as the foundation stone. -- John Tukey\n",
    "___"
   ]
  },
  {
   "cell_type": "markdown",
   "source": [
    "**Plotting a histogram**\n",
    "___"
   ],
   "metadata": {
    "collapsed": false,
    "pycharm": {
     "name": "#%% md\n"
    }
   }
  },
  {
   "cell_type": "code",
   "execution_count": 2,
   "outputs": [],
   "source": [
    "# Import plotting modules\n",
    "#import matplotlib.pyplot as plt\n",
    "#import seaborn as sns\n",
    "#import numpy as np\n",
    "\n",
    "# Set default Seaborn style\n",
    "#sns.set()\n",
    "\n",
    "# Compute number of data points: n_data\n",
    "#n_data=len(versicolor_petal_length)\n",
    "\n",
    "# Number of bins is the square root of number of data points: n_bins\n",
    "#n_bins = np.sqrt(n_data)\n",
    "\n",
    "# Convert number of bins to integer: n_bins\n",
    "#n_bins = int(n_bins)\n",
    "\n",
    "# Plot the histogram\n",
    "#_ = plt.hist(versicolor_petal_length, bins = n_bins)\n",
    "\n",
    "# Label axes\n",
    "#_ = plt.xlabel('petal length (cm)')\n",
    "#_ = plt.ylabel('count')\n",
    "\n",
    "# Show histogram\n",
    "#plt.show()"
   ],
   "metadata": {
    "collapsed": false,
    "pycharm": {
     "name": "#%%\n"
    }
   }
  },
  {
   "cell_type": "markdown",
   "source": [
    "**Plot all of your data: Bee swarm plots**\n",
    "___\n",
    "Bee swarm plots show all data and address potential bin bias\n",
    "___"
   ],
   "metadata": {
    "collapsed": false
   }
  },
  {
   "cell_type": "code",
   "execution_count": null,
   "outputs": [],
   "source": [
    "# Create bee swarm plot with Seaborn's default settings\n",
    "#_ = sns.swarmplot(x = 'species', y = 'petal length (cm)', data = df)\n",
    "\n",
    "# Label the axes\n",
    "#_ = plt.xlabel('Species')\n",
    "#_ = plt.ylabel('petal length (cm)')\n",
    "\n",
    "# Show the plot\n",
    "#plt.show()"
   ],
   "metadata": {
    "collapsed": false,
    "pycharm": {
     "name": "#%%\n"
    }
   }
  },
  {
   "cell_type": "markdown",
   "source": [],
   "metadata": {
    "collapsed": false
   }
  },
  {
   "cell_type": "markdown",
   "source": [
    "**Plot all of your data: ECDFs**\n",
    "___\n",
    "ECDF = empirical cumulative distribution function\n",
    "___"
   ],
   "metadata": {
    "collapsed": false
   }
  },
  {
   "cell_type": "code",
   "execution_count": 5,
   "outputs": [],
   "source": [
    "import numpy as np\n",
    "import matplotlib.pyplot as plt\n",
    "\n",
    "def ecdf(data):\n",
    "    \"\"\"Compute ECDF for a one-dimensional array of measurements.\"\"\"\n",
    "    # Number of data points: n\n",
    "    n = len(data)\n",
    "\n",
    "    # x-data for the ECDF: x\n",
    "    # sorted data\n",
    "    x = np.sort(data)\n",
    "\n",
    "    # y-data for the ECDF: y\n",
    "    # range is 1/n to 1 --> indicates % of values < x value\n",
    "    y = np.arange(1, n+1) / n\n",
    "\n",
    "    return x, y\n",
    "\n",
    "# Compute ECDF for versicolor data: x_vers, y_vers\n",
    "#x_vers, y_vers = ecdf(versicolor_petal_length)\n",
    "\n",
    "# Generate plot\n",
    "#_ = plt.plot(x_vers, y_vers, marker = '.', linestyle = 'none')\n",
    "\n",
    "# Label the axes\n",
    "#_ = plt.xlabel(\"Versicolor Petal Length (cm)\")\n",
    "#_ = plt.ylabel(\"ECDF\")\n",
    "\n",
    "# Display the plot\n",
    "#plt.show()\n",
    "\n",
    "#plt.clf()\n",
    "\n",
    "# Compute ECDFs\n",
    "#x_set, y_set = ecdf(setosa_petal_length)\n",
    "#x_vers, y_vers = ecdf(versicolor_petal_length)\n",
    "#x_virg, y_virg = ecdf(virginica_petal_length)\n",
    "\n",
    "# Plot all ECDFs on the same plot\n",
    "#_ = plt.plot(x_set, y_set, marker = '.', linestyle = 'none')\n",
    "#_ = plt.plot(x_vers, y_vers, marker = '.', linestyle = 'none')\n",
    "#_ = plt.plot(x_virg, y_virg, marker = '.', linestyle = 'none')\n",
    "\n",
    "# Annotate the plot\n",
    "#plt.legend(('setosa', 'versicolor', 'virginica'), loc='lower right')\n",
    "#_ = plt.xlabel('petal length (cm)')\n",
    "#_ = plt.ylabel('ECDF')\n",
    "\n",
    "# Display the plot\n",
    "#plt.show()"
   ],
   "metadata": {
    "collapsed": false,
    "pycharm": {
     "name": "#%%\n"
    }
   }
  },
  {
   "cell_type": "markdown",
   "source": [
    "**Introduction to summary statistics: The sample mean and median**\n",
    "___"
   ],
   "metadata": {
    "collapsed": false,
    "pycharm": {
     "name": "#%% md\n"
    }
   }
  },
  {
   "cell_type": "code",
   "execution_count": null,
   "outputs": [],
   "source": [
    "import numpy as np\n",
    "# Compute the mean: mean_length_vers\n",
    "#mean_length_vers = np.mean(versicolor_petal_length)\n",
    "\n",
    "# Print the result with some nice formatting\n",
    "#print('I. versicolor:', mean_length_vers, 'cm')"
   ],
   "metadata": {
    "collapsed": false,
    "pycharm": {
     "name": "#%%\n"
    }
   }
  },
  {
   "cell_type": "markdown",
   "source": [
    "**Percentiles, outliers, and box plots**\n",
    "___"
   ],
   "metadata": {
    "collapsed": false
   }
  },
  {
   "cell_type": "code",
   "execution_count": 6,
   "outputs": [],
   "source": [
    "import matplotlib.pyplot as plt\n",
    "import seaborn as sns\n",
    "import numpy as np\n",
    "\n",
    "# Specify array of percentiles: percentiles\n",
    "#percentiles = np.array([2.5, 25, 50, 75, 97.5])\n",
    "\n",
    "# Compute percentiles: ptiles_vers\n",
    "#ptiles_vers = np.percentile(versicolor_petal_length, percentiles)\n",
    "\n",
    "# Print the result\n",
    "#print(ptiles_vers)\n",
    "\n",
    "# Plot the ECDF\n",
    "#_ = plt.plot(x_vers, y_vers, '.')\n",
    "#_ = plt.xlabel('petal length (cm)')\n",
    "#_ = plt.ylabel('ECDF')\n",
    "\n",
    "# Overlay percentiles as red diamonds.\n",
    "#_ = plt.plot(ptiles_vers, percentiles/100, marker='D', color='red', linestyle = 'none')\n",
    "\n",
    "# Show the plot\n",
    "#plt.show()\n",
    "\n",
    "#plt.clf()\n",
    "\n",
    "# Create box plot with Seaborn's default settings\n",
    "#sns.set()\n",
    "#_ = sns.boxplot(x='species', y='petal length (cm)', data = df)\n",
    "\n",
    "# Label the axes\n",
    "#_ = plt.xlabel('species)')\n",
    "#_ = plt.ylabel('petal length (cm)')\n",
    "\n",
    "# Show the plot\n",
    "#plt.show()"
   ],
   "metadata": {
    "collapsed": false,
    "pycharm": {
     "name": "#%%\n"
    }
   }
  },
  {
   "cell_type": "markdown",
   "source": [
    "**Variance and standard deviation**\n",
    "___"
   ],
   "metadata": {
    "collapsed": false
   }
  },
  {
   "cell_type": "code",
   "execution_count": null,
   "outputs": [],
   "source": [
    "import numpy as np\n",
    "\n",
    "# Array of differences to mean: differences\n",
    "#differences = versicolor_petal_length - np.mean(versicolor_petal_length)\n",
    "\n",
    "# Square the differences: diff_sq\n",
    "#diff_sq = differences ** 2\n",
    "\n",
    "# Compute the mean square difference: variance_explicit\n",
    "#variance_explicit = np.mean(diff_sq)\n",
    "\n",
    "# Compute the variance using NumPy: variance_np\n",
    "#variance_np = np.var(versicolor_petal_length)\n",
    "\n",
    "# Print the results\n",
    "#print(variance_explicit, variance_np)"
   ],
   "metadata": {
    "collapsed": false,
    "pycharm": {
     "name": "#%%\n"
    }
   }
  },
  {
   "cell_type": "code",
   "execution_count": null,
   "outputs": [],
   "source": [
    "import numpy as np\n",
    "# Compute the variance: variance\n",
    "#variance = np.var(versicolor_petal_length)\n",
    "\n",
    "# Print the square root of the variance\n",
    "#print(np.sqrt(variance))\n",
    "\n",
    "# Print the standard deviation\n",
    "#print(np.std(versicolor_petal_length))"
   ],
   "metadata": {
    "collapsed": false,
    "pycharm": {
     "name": "#%%\n"
    }
   }
  },
  {
   "cell_type": "markdown",
   "source": [
    "**Covariance and the Pearson correlation coefficient**\n",
    "___"
   ],
   "metadata": {
    "collapsed": false,
    "pycharm": {
     "name": "#%% md\n"
    }
   }
  },
  {
   "cell_type": "code",
   "execution_count": 7,
   "outputs": [],
   "source": [
    "import matplotlib.pyplot as plt\n",
    "\n",
    "# Make a scatter plot\n",
    "#_ = plt.plot(versicolor_petal_length, versicolor_petal_width, marker='.', linestyle='none')\n",
    "\n",
    "# Label the axes\n",
    "#_ = plt.xlabel('versicolor petal length (cm)')\n",
    "#_ = plt.ylabel('versicolor petal width (cm)')\n",
    "\n",
    "# Show the result\n",
    "#plt.show()\n"
   ],
   "metadata": {
    "collapsed": false,
    "pycharm": {
     "name": "#%%\n"
    }
   }
  },
  {
   "cell_type": "code",
   "execution_count": null,
   "outputs": [],
   "source": [
    "import numpy as np\n",
    "\n",
    "# Compute the covariance matrix: covariance_matrix\n",
    "#covariance_matrix = np.cov(versicolor_petal_length, versicolor_petal_width)\n",
    "\n",
    "#Entries [0,1] and [1,0] are the covariances.\n",
    "#Entry [0,0] is the variance of the data in x, and\n",
    "#entry [1,1] is the variance of the data in y.\n",
    "\n",
    "# Print covariance matrix\n",
    "#print(covariance_matrix)\n",
    "\n",
    "# Extract covariance of length and width of petals: petal_cov\n",
    "#petal_cov = covariance_matrix[0,1]\n",
    "\n",
    "# Print the length/width covariance\n",
    "#print(petal_cov)\n",
    "\n",
    "def pearson_r(x, y):\n",
    "    \"\"\"Compute Pearson correlation coefficient between two arrays.\"\"\"\n",
    "    # Compute correlation matrix: corr_mat\n",
    "    corr_mat = np.corrcoef(x, y)\n",
    "\n",
    "    # Return entry [0,1]\n",
    "    return corr_mat[0,1]\n",
    "\n",
    "# Compute Pearson correlation coefficient for I. versicolor: r\n",
    "#r = pearson_r(versicolor_petal_length, versicolor_petal_width)\n",
    "\n",
    "# Print the result\n",
    "#print(r)"
   ],
   "metadata": {
    "collapsed": false,
    "pycharm": {
     "name": "#%%\n"
    }
   }
  },
  {
   "cell_type": "markdown",
   "source": [
    "**Probabilistic logic and statistical inference**\n",
    "___\n",
    "The goal of statistical inference is:\n",
    "1. To draw probabilistic conclusions about what we might expect if we collected the same data again.\n",
    "2. To draw actionable conclusions from data.\n",
    "3. To draw more general conclusions from relatively few data or observations.\n",
    "\n",
    "We use probabilistic language in statistical inference because:\n",
    "1. Probability provides a measure of uncertainty.\n",
    "2. Data are almost never exactly the same when acquired again, and probability allows us to say how much we expect them to vary."
   ],
   "metadata": {
    "collapsed": false
   }
  },
  {
   "cell_type": "markdown",
   "source": [
    "**Random number generators and hacker statistics**\n",
    "___"
   ],
   "metadata": {
    "collapsed": false,
    "pycharm": {
     "name": "#%% md\n"
    }
   }
  },
  {
   "cell_type": "code",
   "execution_count": 8,
   "outputs": [
    {
     "data": {
      "text/plain": "<Figure size 432x288 with 1 Axes>",
      "image/png": "[encoded data removed]"
     },
     "metadata": {},
     "output_type": "display_data"
    }
   ],
   "source": [
    "import numpy as np\n",
    "import matplotlib.pyplot as plt\n",
    "\n",
    "# Seed the random number generator\n",
    "np.random.seed(42)\n",
    "\n",
    "# Initialize random numbers: random_numbers\n",
    "random_numbers = np.empty(100000)\n",
    "\n",
    "# Generate random numbers by looping over range(100000)\n",
    "for i in range(100000):\n",
    "    random_numbers[i] = np.random.random()\n",
    "\n",
    "# Plot a histogram\n",
    "_ = plt.hist(random_numbers)\n",
    "\n",
    "# Show the plot\n",
    "plt.show()\n"
   ],
   "metadata": {
    "collapsed": false,
    "pycharm": {
     "name": "#%%\n"
    }
   }
  },
  {
   "cell_type": "code",
   "execution_count": 12,
   "outputs": [
    {
     "data": {
      "text/plain": "<Figure size 432x288 with 1 Axes>",
      "image/png": "[encoded data removed]"
     },
     "metadata": {},
     "output_type": "display_data"
    },
    {
     "data": {
      "text/plain": "<Figure size 432x288 with 1 Axes>",
      "image/png": "[encoded data removed]"
     },
     "metadata": {},
     "output_type": "display_data"
    },
    {
     "name": "stdout",
     "output_type": "stream",
     "text": [
      "Probability of losing money = 0.022\n"
     ]
    }
   ],
   "source": [
    "import numpy as np\n",
    "import matplotlib.pyplot as plt\n",
    "\n",
    "def perform_bernoulli_trials(n, p):\n",
    "    \"\"\"Perform n Bernoulli trials with success probability p\n",
    "    and return number of successes.\"\"\"\n",
    "    # Initialize number of successes: n_success\n",
    "    n_success = 0\n",
    "\n",
    "    # Perform trials\n",
    "    for i in range(n):\n",
    "        # Choose random number between zero and one: random_number\n",
    "        n = np.random.random()\n",
    "\n",
    "        # If less than p, it's a success so add one to n_success\n",
    "        if n < p:\n",
    "            n_success += 1\n",
    "    return n_success\n",
    "\n",
    "def ecdf(data):\n",
    "    \"\"\"Compute ECDF for a one-dimensional array of measurements.\"\"\"\n",
    "    # Number of data points: n\n",
    "    n = len(data)\n",
    "\n",
    "    # x-data for the ECDF: x\n",
    "    # sorted data\n",
    "    x = np.sort(data)\n",
    "\n",
    "    # y-data for the ECDF: y\n",
    "    # range is 1/n to 1 --> indicates % of values < x value\n",
    "    y = np.arange(1, n+1) / n\n",
    "\n",
    "    return x, y\n",
    "\n",
    "# Seed random number generator\n",
    "np.random.seed(42)\n",
    "\n",
    "#a bank made 100 mortgage loans. It is possible that anywhere between 0 and 100\n",
    "#of the loans will be defaulted upon. You would like to know the probability\n",
    "#of getting a given number of defaults, given that the probability of a default\n",
    "#is p = 0.05\n",
    "\n",
    "# Initialize the number of defaults: n_defaults\n",
    "n_defaults = np.empty(1000)\n",
    "\n",
    "# Compute the number of defaults\n",
    "for i in range(1000):\n",
    "    n_defaults[i] = perform_bernoulli_trials(100, 0.05)\n",
    "\n",
    "# Plot the histogram with default number of bins; label your axes\n",
    "_ = plt.hist(n_defaults, density = True)\n",
    "_ = plt.xlabel('number of defaults out of 100 loans')\n",
    "_ = plt.ylabel('probability')\n",
    "\n",
    "# Show the plot\n",
    "plt.show()\n",
    "\n",
    "#If interest rates are such that the bank will lose money if 10 or more\n",
    "#of its loans are defaulted upon, what is the probability that the bank\n",
    "#will lose money?\n",
    "\n",
    "# Compute ECDF: x, y\n",
    "x, y = ecdf(n_defaults)\n",
    "\n",
    "# Plot the ECDF with labeled axes\n",
    "_ = plt.plot(x, y, marker = '.', linestyle = 'none')\n",
    "_ = plt.xlabel('number of defaults per 100 loans')\n",
    "_ = plt.ylabel('ECDF')\n",
    "\n",
    "# Show the plot\n",
    "plt.show()\n",
    "\n",
    "# Compute the number of 100-loan simulations with 10 or more defaults: n_lose_money\n",
    "n_lose_money = np.sum(n_defaults >= 10)\n",
    "\n",
    "# Compute and print probability of losing money\n",
    "print('Probability of losing money =', n_lose_money / len(n_defaults))"
   ],
   "metadata": {
    "collapsed": false,
    "pycharm": {
     "name": "#%%\n"
    }
   }
  },
  {
   "cell_type": "markdown",
   "source": [
    "**Probability distributions and stories: The Binomial distribution**\n",
    "___\n",
    "\n",
    "Probability Mass Function (PMF) --> the set of probabilities of discrete outcomes\n",
    "    - discrete uniform pmf - e.g., dice with 1/6 probability\n",
    "Probability distribution --> a mathematical description of outcomes\n",
    "    - discrete uniform distribution - discrete & uniformly distributed\n",
    "    - binomial distribution - the number r successes in n Bernoulli trials\n",
    "      with probability p of success, is Binomially distributed. E.g., the\n",
    "      number r of heads in 4 coin flips with probability of 0.5 heads,\n",
    "      is Binomially distributed.\n",
    "___"
   ],
   "metadata": {
    "collapsed": false
   }
  },
  {
   "cell_type": "code",
   "execution_count": 17,
   "outputs": [
    {
     "data": {
      "text/plain": "<Figure size 432x288 with 1 Axes>",
      "image/png": "[encoded data removed]"
     },
     "metadata": {},
     "output_type": "display_data"
    },
    {
     "data": {
      "text/plain": "<Figure size 432x288 with 1 Axes>",
      "image/png": "[encoded data removed]"
     },
     "metadata": {},
     "output_type": "display_data"
    }
   ],
   "source": [
    "import numpy as np\n",
    "import matplotlib.pyplot as plt\n",
    "\n",
    "def ecdf(data):\n",
    "    \"\"\"Compute ECDF for a one-dimensional array of measurements.\"\"\"\n",
    "    # Number of data points: n\n",
    "    n = len(data)\n",
    "\n",
    "    # x-data for the ECDF: x\n",
    "    # sorted data\n",
    "    x = np.sort(data)\n",
    "\n",
    "    # y-data for the ECDF: y\n",
    "    # range is 1/n to 1 --> indicates % of values < x value\n",
    "    y = np.arange(1, n+1) / n\n",
    "\n",
    "    return x, y\n",
    "\n",
    "# Take 10,000 samples out of the binomial distribution: n_defaults\n",
    "n_defaults = np.random.binomial(n = 100, p = 0.05, size = 10000)\n",
    "\n",
    "# Compute CDF: x, y\n",
    "x, y = ecdf(n_defaults)\n",
    "\n",
    "# Plot the CDF with axis labels - empirical cumulative distribution function\n",
    "_ = plt.plot(x, y, marker = '.', linestyle = 'none')\n",
    "_ = plt.xlabel('number of True per 100 Trials')\n",
    "_ = plt.ylabel('ECDF')\n",
    "\n",
    "# Show the plot\n",
    "plt.show()\n",
    "\n",
    "# Compute bin edges: bins\n",
    "bins = np.arange(0, max(n_defaults) + 1.5) - 0.5\n",
    "\n",
    "# Generate histogram\n",
    "_ = plt.hist(n_defaults, density = True, bins=bins)\n",
    "\n",
    "# Label axes\n",
    "_ = plt.xlabel('number of True per 100 trials')\n",
    "_ = plt.ylabel('probability density')\n",
    "\n",
    "# Show the plot\n",
    "plt.show()"
   ],
   "metadata": {
    "collapsed": false,
    "pycharm": {
     "name": "#%%\n"
    }
   }
  },
  {
   "cell_type": "markdown",
   "source": [
    "**Poisson processes and the Poisson distribution**\n",
    "___\n",
    "- Poisson process\n",
    "    - the timing of the next event is completely independent of when the previous event happened\n",
    "    - e.g., natural births in a given hospital, hits per hour for a website, meteor strikes, molecular collisions in gas, aviation incidents, buses in poissonville\n",
    "- Poisson distribution\n",
    "    - the number of r arrivals of a Poisson process in a given time interval with average rate of ? arrivals per interval is Poisson distributed\n",
    "    - e.g., the number of r hits on a website in one hour with an average hit rate of 6 hits per hour is Poisson distributed.\n",
    "- Poisson Probability Mass function (PMF)\n",
    "    - the Poisson distribution is a limit of the binomial distribution for low probability of success and large number of trials.\n",
    "    - i.e. for __rare__ events\n",
    "___"
   ],
   "metadata": {
    "collapsed": false
   }
  },
  {
   "cell_type": "code",
   "execution_count": 23,
   "outputs": [
    {
     "name": "stdout",
     "output_type": "stream",
     "text": [
      "Poisson:      10.0186 3.144813832327758\n",
      "n = 20 Binom: 9.9637 2.2163443572694206\n",
      "n = 100 Binom: 9.9947 3.0135812433050484\n",
      "n = 1000 Binom: 9.9985 3.139378561116833\n"
     ]
    }
   ],
   "source": [
    "import numpy as np\n",
    "\n",
    "def ecdf(data):\n",
    "    \"\"\"Compute ECDF for a one-dimensional array of measurements.\"\"\"\n",
    "    # Number of data points: n\n",
    "    n = len(data)\n",
    "\n",
    "    # x-data for the ECDF: x\n",
    "    # sorted data\n",
    "    x = np.sort(data)\n",
    "\n",
    "    # y-data for the ECDF: y\n",
    "    # range is 1/n to 1 --> indicates % of values < x value\n",
    "    y = np.arange(1, n+1) / n\n",
    "\n",
    "    return x, y\n",
    "\n",
    "np.random.seed(42)\n",
    "#the Poisson distribution with arrival rate equal to np approximates\n",
    "#a Binomial distribution for n Bernoulli trials with probability p of\n",
    "#success (with n large and p small). Importantly, the Poisson distribution\n",
    "#is often simpler to work with because it has only one parameter (average\n",
    "#successes during specified time period) instead of two (e,g., number of\n",
    "#trials and probability of success) for the Binomial distribution.\n",
    "\n",
    "# Draw 10,000 samples out of Poisson distribution: samples_poisson\n",
    "samples_poisson = np.random.poisson(10, 10000)\n",
    "\n",
    "# Print the mean and standard deviation\n",
    "print('Poisson:     ', np.mean(samples_poisson),\n",
    "                       np.std(samples_poisson))\n",
    "\n",
    "# Specify values of n and p to consider for Binomial: n, p\n",
    "n = [20, 100, 1000]\n",
    "p = [0.5, 0.1, 0.01]\n",
    "\n",
    "# Draw 10,000 samples for each n,p pair: samples_binomial\n",
    "for i in range(3):\n",
    "    samples_binomial = np.random.binomial(n = n[i], p = p[i], size = 10000)\n",
    "\n",
    "    # Print results\n",
    "    print('n =', n[i], 'Binom:', np.mean(samples_binomial),\n",
    "                                 np.std(samples_binomial))\n",
    "\n",
    "#The standard deviation of the Binomial distribution gets closer and closer\n",
    "#to that of the Poisson distribution as the probability p gets lower and lower."
   ],
   "metadata": {
    "collapsed": false,
    "pycharm": {
     "name": "#%%\n"
    }
   }
  },
  {
   "cell_type": "code",
   "execution_count": 22,
   "outputs": [
    {
     "name": "stdout",
     "output_type": "stream",
     "text": [
      "Probability of seven or more no-hitters: 0.0067\n"
     ]
    }
   ],
   "source": [
    "import numpy as np\n",
    "\n",
    "np.random.seed(42)\n",
    "#1990 and 2015 featured the most no-hitters of any season of baseball\n",
    "#(there were seven). Given that there are on average 251/115 no-hitters\n",
    "#per season, what is the probability of having seven or more in a season?\n",
    "\n",
    "# Draw 10,000 samples out of Poisson distribution: n_nohitters\n",
    "n_nohitters = np.random.poisson(251/115, 10000)\n",
    "\n",
    "# Compute number of samples that are seven or greater: n_large\n",
    "n_large = np.sum(n_nohitters >= 7)\n",
    "\n",
    "# Compute probability of getting seven or more: p_large\n",
    "p_large = n_large/10000\n",
    "\n",
    "# Print the result\n",
    "print('Probability of seven or more no-hitters:', p_large)"
   ],
   "metadata": {
    "collapsed": false,
    "pycharm": {
     "name": "#%%\n"
    }
   }
  },
  {
   "cell_type": "markdown",
   "source": [
    "**Probability density functions**\n",
    "___\n",
    "\n",
    "- Continuous variables\n",
    "    - quantities that can take any value, not just discrete values\n",
    "- Probability density function\n",
    "    - continuous analog to PMF\n",
    "    - mathematical description of the relative likelihood of observing a value of a continuous variable\n",
    "- e.g., Cumulative distribution function (CDF) of probability distribution function (PDF)\n",
    "___"
   ],
   "metadata": {
    "collapsed": false,
    "pycharm": {
     "name": "#%% md\n"
    }
   }
  },
  {
   "cell_type": "markdown",
   "source": [
    "**Introduction to the Normal distribution**\n",
    "___\n",
    "- Normal distribution\n",
    "    - describes a continuous variable whose probability density function has a single symmetric peak"
   ],
   "metadata": {
    "collapsed": false
   }
  },
  {
   "cell_type": "code",
   "execution_count": 26,
   "outputs": [
    {
     "data": {
      "text/plain": "<Figure size 432x288 with 1 Axes>",
      "image/png": "[encoded data removed]"
     },
     "metadata": {},
     "output_type": "display_data"
    },
    {
     "data": {
      "text/plain": "<Figure size 432x288 with 1 Axes>",
      "image/png": "[encoded data removed]"
     },
     "metadata": {},
     "output_type": "display_data"
    }
   ],
   "source": [
    "import numpy as np\n",
    "import matplotlib.pyplot as plt\n",
    "\n",
    "def ecdf(data):\n",
    "    \"\"\"Compute empirical cumulative distribution function (ECDF)\n",
    "    for a one-dimensional array of measurements.\"\"\"\n",
    "    # Number of data points: n\n",
    "    n = len(data)\n",
    "\n",
    "    # x-data for the ECDF: x\n",
    "    # sorted data\n",
    "    x = np.sort(data)\n",
    "\n",
    "    # y-data for the ECDF: y\n",
    "    # range is 1/n to 1 --> indicates % of values < x value\n",
    "    y = np.arange(1, n+1) / n\n",
    "\n",
    "    return x, y\n",
    "\n",
    "np.random.seed(42)\n",
    "\n",
    "# Draw 100000 samples from Normal distribution with stds of interest: samples_std1, samples_std3, samples_std10\n",
    "\n",
    "samples_std1 = np.random.normal(20, 1, size=100000)\n",
    "samples_std3 = np.random.normal(20, 3, size=100000)\n",
    "samples_std10 = np.random.normal(20, 10, size=100000)\n",
    "\n",
    "# Make histograms\n",
    "plt.hist(samples_std1, bins=100, density=True, histtype='step')\n",
    "plt.hist(samples_std3, bins=100, density=True, histtype='step')\n",
    "plt.hist(samples_std10, bins=100, density=True, histtype='step')\n",
    "\n",
    "# Make a legend, set limits and show plot\n",
    "_ = plt.legend(('std = 1', 'std = 3', 'std = 10'))\n",
    "plt.ylim(-0.01, 0.42)\n",
    "plt.show()\n",
    "\n",
    "# Generate CDFs\n",
    "x_std1, y_std1 = ecdf(samples_std1)\n",
    "x_std3, y_std3 = ecdf(samples_std3)\n",
    "x_std10, y_std10 = ecdf(samples_std10)\n",
    "\n",
    "# Plot CDFs (cumulative distribution functions)\n",
    "_ = plt.plot(x_std1, y_std1, marker = '.', linestyle = 'none')\n",
    "_ = plt.plot(x_std3, y_std3, marker = '.', linestyle = 'none')\n",
    "_ = plt.plot(x_std10, y_std10, marker = '.', linestyle = 'none')\n",
    "_ = plt.ylabel('Cumulative Distribution Function')\n",
    "\n",
    "# Make a legend and show the plot\n",
    "_ = plt.legend(('std = 1', 'std = 3', 'std = 10'), loc='lower right')\n",
    "plt.show()"
   ],
   "metadata": {
    "collapsed": false,
    "pycharm": {
     "name": "#%%\n"
    }
   }
  },
  {
   "cell_type": "markdown",
   "source": [
    "**The Normal (Gaussian) distribution: Properties and warnings**\n",
    "___"
   ],
   "metadata": {
    "collapsed": false
   }
  },
  {
   "cell_type": "code",
   "execution_count": null,
   "outputs": [],
   "source": [
    "import numpy as np\n",
    "import matplotlib.pyplot as plt\n",
    "\n",
    "def ecdf(data):\n",
    "    \"\"\"Compute empirical cumulative distribution function (ECDF)\n",
    "    for a one-dimensional array of measurements.\"\"\"\n",
    "    # Number of data points: n\n",
    "    n = len(data)\n",
    "\n",
    "    # x-data for the ECDF: x\n",
    "    # sorted data\n",
    "    x = np.sort(data)\n",
    "\n",
    "    # y-data for the ECDF: y\n",
    "    # range is 1/n to 1 --> indicates % of values < x value\n",
    "    y = np.arange(1, n+1) / n\n",
    "\n",
    "    return x, y\n",
    "\n",
    "np.random.seed(42)\n",
    "\n",
    "#Sample out of a Normal distribution with this mean and standard deviation\n",
    "#using the np.random.normal() function and plot a CDF. Overlay the ECDF\n",
    "#from the winning Belmont times. Are these close to Normally distributed?\n",
    "\n",
    "\n",
    "# Compute mean and standard deviation: mu, sigma\n",
    "#mu = np.mean(belmont_no_outliers)\n",
    "#sigma = np.std(belmont_no_outliers)\n",
    "\n",
    "# Sample out of a normal distribution with this mu and sigma: samples\n",
    "#samples = np.random.normal(mu, sigma, size=10000)\n",
    "\n",
    "# Get the CDF of the samples and of the data\n",
    "#x_theor, y_theor = ecdf(samples)\n",
    "#x, y = ecdf(belmont_no_outliers)\n",
    "\n",
    "# Plot the CDFs and show the plot\n",
    "#_ = plt.plot(x_theor, y_theor)\n",
    "#_ = plt.plot(x, y, marker='.', linestyle='none')\n",
    "#_ = plt.xlabel('Belmont winning time (sec.)')\n",
    "#_ = plt.ylabel('CDF')\n",
    "#plt.show()\n",
    "\n",
    "# Yes, yes they are normally distributed\n"
   ],
   "metadata": {
    "collapsed": false,
    "pycharm": {
     "name": "#%%\n"
    }
   }
  },
  {
   "cell_type": "code",
   "execution_count": 30,
   "outputs": [
    {
     "name": "stdout",
     "output_type": "stream",
     "text": [
      "Probability of besting Secretariat: 0.000635\n"
     ]
    }
   ],
   "source": [
    "import numpy as np\n",
    "\n",
    "np.random.seed(42)\n",
    "\n",
    "#Assume that the Belmont winners' times are Normally distributed\n",
    "#(with the 1970 and 1973 years removed), what is the probability\n",
    "#that the winner of a given Belmont Stakes will run it as fast\n",
    "#or faster than Secretariat?\n",
    "\n",
    "mu = 149.22101123595507\n",
    "sigma = 1.627816471774816\n",
    "\n",
    "# Take a million samples out of the Normal distribution: samples\n",
    "samples = np.random.normal(mu, sigma, size = 1000000)\n",
    "\n",
    "# Compute the fraction that are faster than 144 seconds: prob\n",
    "prob = sum(samples <= 144)/1000000\n",
    "\n",
    "# Print the result\n",
    "print('Probability of besting Secretariat:', prob)"
   ],
   "metadata": {
    "collapsed": false,
    "pycharm": {
     "name": "#%%\n"
    }
   }
  },
  {
   "cell_type": "markdown",
   "source": [
    "**The exponential distribution**\n",
    "___\n",
    "- the waiting time (not probability) between arrivals of a Poisson process is exponentially distributed\n",
    "- single parameter of mean waiting time"
   ],
   "metadata": {
    "collapsed": false
   }
  },
  {
   "cell_type": "code",
   "execution_count": 34,
   "outputs": [
    {
     "data": {
      "text/plain": "<Figure size 432x288 with 1 Axes>",
      "image/png": "[encoded data removed]"
     },
     "metadata": {},
     "output_type": "display_data"
    },
    {
     "data": {
      "text/plain": "<Figure size 432x288 with 1 Axes>",
      "image/png": "[encoded data removed]"
     },
     "metadata": {},
     "output_type": "display_data"
    }
   ],
   "source": [
    "import numpy as np\n",
    "import matplotlib.pyplot as plt\n",
    "\n",
    "#How long must we wait to see both a no-hitter and then a batter hit the cycle?\n",
    "#The idea is that we have to wait some time for the no-hitter, and then after\n",
    "#the no-hitter, we have to wait for hitting the cycle. Stated another way, what\n",
    "#is the total waiting time for the arrival of two different Poisson processes?\n",
    "#The total waiting time is the time waited for the no-hitter, plus the time waited\n",
    "#for the hitting the cycle.\n",
    "\n",
    "np.random.seed(42)\n",
    "\n",
    "def successive_poisson(tau1, tau2, size=1):\n",
    "    \"\"\"Compute time for arrival of 2 successive Poisson processes.\"\"\"\n",
    "    # Draw samples out of first exponential distribution: t1\n",
    "    t1 = np.random.exponential(tau1, size=size)\n",
    "\n",
    "    # Draw samples out of second exponential distribution: t2\n",
    "    t2 = np.random.exponential(tau2, size=size)\n",
    "\n",
    "    return t1 + t2\n",
    "\n",
    "def ecdf(data):\n",
    "    \"\"\"Compute empirical cumulative distribution function (ECDF)\n",
    "    for a one-dimensional array of measurements.\"\"\"\n",
    "    # Number of data points: n\n",
    "    n = len(data)\n",
    "\n",
    "    # x-data for the ECDF: x\n",
    "    # sorted data\n",
    "    x = np.sort(data)\n",
    "\n",
    "    # y-data for the ECDF: y\n",
    "    # range is 1/n to 1 --> indicates % of values < x value\n",
    "    y = np.arange(1, n+1) / n\n",
    "\n",
    "    return x, y\n",
    "\n",
    "# Draw samples of waiting times: waiting_times\n",
    "waiting_times = successive_poisson(764, 715, size=100000)\n",
    "\n",
    "# Make the histogram\n",
    "_ = plt.hist(waiting_times, bins = 100, density = True, histtype = 'step')\n",
    "\n",
    "# Label axes\n",
    "plt.xlabel('wait time in # of games')\n",
    "plt.ylabel('probability density')\n",
    "\n",
    "# Show the plot\n",
    "plt.show()\n",
    "\n",
    "# Get the CDF of the samples and of the data\n",
    "x, y = ecdf(waiting_times)\n",
    "\n",
    "# Plot the CDFs and show the plot\n",
    "_ = plt.plot(x, y, marker='.', linestyle='none')\n",
    "_ = plt.xlabel('wait time in # of games')\n",
    "_ = plt.ylabel('CDF')\n",
    "plt.show()"
   ],
   "metadata": {
    "collapsed": false,
    "pycharm": {
     "name": "#%%\n"
    }
   }
  }
 ],
 "metadata": {
  "kernelspec": {
   "display_name": "Python 3",
   "language": "python",
   "name": "python3"
  },
  "language_info": {
   "codemirror_mode": {
    "name": "ipython",
    "version": 2
   },
   "file_extension": ".py",
   "mimetype": "text/x-python",
   "name": "python",
   "nbconvert_exporter": "python",
   "pygments_lexer": "ipython2",
   "version": "2.7.6"
  }
 },
 "nbformat": 4,
 "nbformat_minor": 0
}