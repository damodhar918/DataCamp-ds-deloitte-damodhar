{
 "cells": [
  {
   "cell_type": "markdown",
   "metadata": {
    "collapsed": true,
    "pycharm": {
     "name": "#%% md\n"
    }
   },
   "source": [
    "**Unsupervised learning: basics**\n",
    "___\n",
    "- How does Google group news articles?\n",
    "- Labeled vs. unlabeled data?\n",
    "    - Points without additional information given are unlabeled\n",
    "- the goal of unsupervised learning is to find patterns and interpret any structures within the data\n",
    "- clustering, anomaly detection, neural networks\n",
    "- What is clustering?\n",
    "    - process of grouping items with similar characteristics\n",
    "    - items in groups more similar to each other than in other groups\n",
    "___"
   ]
  },
  {
   "cell_type": "code",
   "execution_count": 2,
   "outputs": [
    {
     "data": {
      "text/plain": "<Figure size 432x288 with 1 Axes>",
      "image/png": "[encoded data removed]"
     },
     "metadata": {
      "needs_background": "light"
     },
     "output_type": "display_data"
    }
   ],
   "source": [
    "#Pokémon sightings\n",
    "\n",
    "#There have been reports of sightings of rare, legendary Pokémon. You\n",
    "#have been asked to investigate! Plot the coordinates of sightings to\n",
    "#find out where the Pokémon might be. The X and Y coordinates of the\n",
    "#points are stored in list x and y, respectively.\n",
    "\n",
    "\n",
    "# Import plotting class from matplotlib library\n",
    "from matplotlib import pyplot as plt\n",
    "\n",
    "x = [9, 6, 2, 3, 1, 7, 1, 6, 1, 7, 23, 26, 25, 23, 21, 23, 23, 20, 30, 23]\n",
    "y = [8, 4, 10, 6, 0, 4, 10, 10, 6, 1, 29, 25, 30, 29, 29, 30, 25, 27, 26, 30]\n",
    "\n",
    "# Create a scatter plot\n",
    "plt.scatter(x, y)\n",
    "\n",
    "# Display the scatter plot\n",
    "plt.show()"
   ],
   "metadata": {
    "collapsed": false,
    "pycharm": {
     "name": "#%%\n"
    }
   }
  },
  {
   "cell_type": "markdown",
   "source": [
    "**Basics of cluster analysis**\n",
    "___\n",
    "- **cluster** - A group of items with similar characteristics\n",
    "    - Google News - articles where similar words and word associations appear together\n",
    "    - Customer Segmentation\n",
    "- **clustering algorithms**\n",
    "    - hierarchical clustering\n",
    "        - means are compared, after each step number of clusters is reduced by 1.\n",
    "    - K means clustering\n",
    "        - random cluster center is created for each cluster, and recalculated (centroids) a set number of times\n",
    "    - DBSCAN, Gaussian methods"
   ],
   "metadata": {
    "collapsed": false
   }
  },
  {
   "cell_type": "code",
   "execution_count": 21,
   "outputs": [
    {
     "data": {
      "text/plain": "<Figure size 432x288 with 1 Axes>",
      "image/png": "[encoded data removed]"
     },
     "metadata": {
      "needs_background": "light"
     },
     "output_type": "display_data"
    }
   ],
   "source": [
    "#Pokémon sightings: hierarchical clustering\n",
    "\n",
    "#We are going to continue the investigation into the sightings of\n",
    "#legendary Pokémon from the previous exercise. Remember that in the\n",
    "#scatter plot of the previous exercise, you identified two areas\n",
    "#where Pokémon sightings were dense. This means that the points seem\n",
    "#to separate into two clusters. In this exercise, you will form two\n",
    "#clusters of the sightings using hierarchical clustering.\n",
    "\n",
    "from matplotlib import pyplot as plt\n",
    "import seaborn as sns, pandas as pd\n",
    "\n",
    "x = [9, 6, 2, 3, 1, 7, 1, 6, 1, 7, 23, 26, 25, 23, 21, 23, 23, 20, 30, 23]\n",
    "y = [8, 4, 10, 6, 0, 4, 10, 10, 6, 1, 29, 25, 30, 29, 29, 30, 25, 27, 26, 30]\n",
    "\n",
    "data_tuples = list(zip(x,y))\n",
    "df = pd.DataFrame(data_tuples, columns=['x','y'])\n",
    "\n",
    "# Import linkage and fcluster functions\n",
    "from scipy.cluster.hierarchy import linkage, fcluster\n",
    "\n",
    "# Use the linkage() function to compute distances\n",
    "Z = linkage(df, 'ward')\n",
    "\n",
    "# Generate cluster labels\n",
    "df['cluster_labels'] = fcluster(Z, 2, criterion='maxclust')\n",
    "\n",
    "# Plot the points with seaborn\n",
    "# There are some problems in matplotlib 3.3.1. hue='cluster_labels' does not work or add legend title. These need to be done manually\n",
    "# see https://github.com/mwaskom/seaborn/issues/2194\n",
    "sns.scatterplot(x='x', y='y', hue=df.cluster_labels.tolist(), data=df)\n",
    "plt.legend(title='cluster labels')\n",
    "plt.show()\n",
    "\n",
    "#cluster label 0 can be removed if you store cluster labels as strings"
   ],
   "metadata": {
    "collapsed": false,
    "pycharm": {
     "name": "#%%\n"
    }
   }
  },
  {
   "cell_type": "code",
   "execution_count": 30,
   "outputs": [
    {
     "data": {
      "text/plain": "<Figure size 432x288 with 1 Axes>",
      "image/png": "[encoded data removed]"
     },
     "metadata": {
      "needs_background": "light"
     },
     "output_type": "display_data"
    }
   ],
   "source": [
    "#Pokémon sightings: k-means clustering\n",
    "\n",
    "#We are going to continue the investigation into the sightings of\n",
    "#legendary Pokémon from the previous exercise. Just like the previous\n",
    "#exercise, we will use the same example of Pokémon sightings. In this\n",
    "#exercise, you will form clusters of the sightings using k-means\n",
    "#clustering.\n",
    "\n",
    "from matplotlib import pyplot as plt\n",
    "import seaborn as sns, pandas as pd\n",
    "\n",
    "x = [9, 6, 2, 3, 1, 7, 1, 6, 1, 7, 23, 26, 25, 23, 21, 23, 23, 20, 30, 23]\n",
    "y = [8, 4, 10, 6, 0, 4, 10, 10, 6, 1, 29, 25, 30, 29, 29, 30, 25, 27, 26, 30]\n",
    "\n",
    "#vq requires double or float type. Therefore type coercion is required\n",
    "x = [float(i) for i in x]\n",
    "y = [float(i) for i in y]\n",
    "\n",
    "data_tuples = list(zip(x,y))\n",
    "df = pd.DataFrame(data_tuples, columns=['x','y'])\n",
    "\n",
    "# Import kmeans and vq functions\n",
    "from scipy.cluster.vq import kmeans, vq\n",
    "\n",
    "# Compute cluster centers\n",
    "centroids,_ = kmeans(df, 2)\n",
    "\n",
    "# Assign cluster labels\n",
    "df['cluster_labels'],_ = vq(df, centroids)\n",
    "\n",
    "# Plot the points with seaborn\n",
    "sns.scatterplot(x='x', y='y', hue=df.cluster_labels.tolist(), data=df)\n",
    "plt.legend(title='cluster labels')\n",
    "plt.show()"
   ],
   "metadata": {
    "collapsed": false,
    "pycharm": {
     "name": "#%%\n"
    }
   }
  },
  {
   "cell_type": "markdown",
   "source": [
    "**Data preparation for cluster analysis**\n",
    "___\n",
    "- Why do we need to prepare data for clustering?\n",
    "    - variables have incomparable units\n",
    "    - variables with same units have different scales and variances\n",
    "    - data in raw form may lead to bias in clustering\n",
    "    - clusters may be heavily dependent on one variable\n",
    "- Solution: normalization of individual variables\n",
    "- Normalization of data\n",
    "    - process of rescaling data to a standard deviation of 1\n",
    "    - x_new = x/std_dev(x)\n",
    "    - from scipi.cluster.vq import whiten\n",
    "___"
   ],
   "metadata": {
    "collapsed": false,
    "pycharm": {
     "name": "#%% md\n"
    }
   }
  },
  {
   "cell_type": "code",
   "execution_count": 31,
   "outputs": [
    {
     "name": "stdout",
     "output_type": "stream",
     "text": [
      "[3.07692308 2.30769231 1.53846154 2.30769231 0.76923077 0.76923077\n",
      " 1.53846154 0.         0.76923077 3.07692308]\n"
     ]
    }
   ],
   "source": [
    "#Normalize basic list data\n",
    "\n",
    "#Now that you are aware of normalization, let us try to normalize\n",
    "#some data. goals_for is a list of goals scored by a football team\n",
    "#in their last ten matches. Let us standardize the data using the\n",
    "#whiten() function.\n",
    "\n",
    "# Import the whiten function\n",
    "from scipy.cluster.vq import whiten\n",
    "\n",
    "goals_for = [4,3,2,3,1,1,2,0,1,4]\n",
    "\n",
    "# Use the whiten() function to standardize the data\n",
    "scaled_data = whiten(goals_for)\n",
    "print(scaled_data)\n"
   ],
   "metadata": {
    "collapsed": false,
    "pycharm": {
     "name": "#%%\n"
    }
   }
  },
  {
   "cell_type": "code",
   "execution_count": 32,
   "outputs": [
    {
     "data": {
      "text/plain": "<Figure size 432x288 with 1 Axes>",
      "image/png": "[encoded data removed]"
     },
     "metadata": {
      "needs_background": "light"
     },
     "output_type": "display_data"
    }
   ],
   "source": [
    "#Visualize normalized data\n",
    "\n",
    "#After normalizing your data, you can compare the scaled data to\n",
    "#the original data to see the difference.\n",
    "\n",
    "from matplotlib import pyplot as plt\n",
    "from scipy.cluster.vq import whiten\n",
    "\n",
    "goals_for = [4,3,2,3,1,1,2,0,1,4]\n",
    "\n",
    "# Use the whiten() function to standardize the data\n",
    "scaled_data = whiten(goals_for)\n",
    "\n",
    "# Plot original data\n",
    "plt.plot(goals_for, label='original')\n",
    "\n",
    "# Plot scaled data\n",
    "plt.plot(scaled_data, label='scaled')\n",
    "\n",
    "# Show the legend in the plot\n",
    "plt.legend()\n",
    "\n",
    "# Display the plot\n",
    "plt.show()"
   ],
   "metadata": {
    "collapsed": false,
    "pycharm": {
     "name": "#%%\n"
    }
   }
  },
  {
   "cell_type": "code",
   "execution_count": 34,
   "outputs": [
    {
     "data": {
      "text/plain": "<Figure size 432x288 with 1 Axes>",
      "image/png": "[encoded data removed]"
     },
     "metadata": {
      "needs_background": "light"
     },
     "output_type": "display_data"
    }
   ],
   "source": [
    "#Normalization of small numbers\n",
    "\n",
    "#In earlier examples, you have normalization of whole numbers. In\n",
    "#this exercise, you will look at the treatment of fractional numbers\n",
    "#- the change of interest rates in the country of Bangalla over the years.\n",
    "\n",
    "from matplotlib import pyplot as plt\n",
    "from scipy.cluster.vq import whiten\n",
    "\n",
    "# Prepare data\n",
    "rate_cuts = [0.0025, 0.001, -0.0005, -0.001, -0.0005, 0.0025, -0.001, -0.0015, -0.001, 0.0005]\n",
    "\n",
    "# Use the whiten() function to standardize the data\n",
    "scaled_data = whiten(rate_cuts)\n",
    "\n",
    "# Plot original data\n",
    "plt.plot(rate_cuts, label='original')\n",
    "\n",
    "# Plot scaled data\n",
    "plt.plot(scaled_data, label='scaled')\n",
    "\n",
    "plt.legend()\n",
    "plt.show()"
   ],
   "metadata": {
    "collapsed": false,
    "pycharm": {
     "name": "#%%\n"
    }
   }
  },
  {
   "cell_type": "code",
   "execution_count": null,
   "outputs": [],
   "source": [
    "#FIFA 18: Normalize data\n",
    "\n",
    "#FIFA 18 is a football video game that was released in 2017 for PC and\n",
    "#consoles. The dataset that you are about to work on contains data on\n",
    "#the 1000 top individual players in the game. You will explore various\n",
    "#features of the data as we move ahead in the course. In this exercise,\n",
    "#you will work with two columns, eur_wage, the wage of a player in Euros\n",
    "#and eur_value, their current transfer market value.\n",
    "\n",
    "#The data for this exercise is stored in a Pandas dataframe, fifa.\n",
    "\n",
    "#from matplotlib import pyplot as plt\n",
    "#from scipy.cluster.vq import whiten\n",
    "\n",
    "# Scale wage and value\n",
    "#fifa['scaled_wage'] = whiten(fifa['eur_wage'])\n",
    "#fifa['scaled_value'] = whiten(fifa['eur_value'])\n",
    "\n",
    "# Plot the two columns in a scatter plot\n",
    "#fifa.plot(x='scaled_wage', y='scaled_value', kind = 'scatter')\n",
    "#plt.show()\n",
    "\n",
    "# Check mean and standard deviation of scaled values\n",
    "#print(fifa[['scaled_wage', 'scaled_value']].describe())\n",
    "\n",
    "#################################################\n",
    "#<script.py> output:\n",
    "#           scaled_wage  scaled_value\n",
    "#    count      1000.00       1000.00\n",
    "#    mean          1.12          1.31\n",
    "#    std           1.00          1.00\n",
    "#    min           0.00          0.00\n",
    "#    25%           0.47          0.73\n",
    "#    50%           0.85          1.02\n",
    "#    75%           1.41          1.54\n",
    "#    max           9.11          8.98\n",
    "#################################################"
   ],
   "metadata": {
    "collapsed": false,
    "pycharm": {
     "name": "#%%\n"
    }
   }
  },
  {
   "cell_type": "markdown",
   "source": [
    "![_images/12.1.svg](_images/12.1.svg)"
   ],
   "metadata": {
    "collapsed": false
   }
  },
  {
   "cell_type": "markdown",
   "source": [
    "**Basics of hierarchical clustering**\n",
    "___\n",
    "- create a distance matrix using scipy.cluster.hierarchy.linkage\n",
    "    - parameters:\n",
    "        - **observations** - data\n",
    "        - **method** - how to calculate the proximity of clusters\n",
    "            - *single* - based on two closest objects\n",
    "            - *complete* - based on two farthest objects\n",
    "            - *average* - based on arithmetic mean of all objects\n",
    "            - *centroid* - based on geometric mean of all objects\n",
    "            - *median* - based on the median of all objects\n",
    "            = *ward* - based on the sum of squares\n",
    "        - **metric** - distance metric\n",
    "        - **optimal ordering** - boolean\n",
    "- create cluster labels using scipy.cluster.hierarchy.fcluster\n",
    "    - parameters:\n",
    "        - **distance_matrix** - output of linkage() method\n",
    "        - **num_clusters** - number of clusters\n",
    "        - **criterion** - how to decide thresholds to form clusters\n",
    "___"
   ],
   "metadata": {
    "collapsed": false
   }
  },
  {
   "cell_type": "code",
   "execution_count": null,
   "outputs": [],
   "source": [
    "#Hierarchical clustering: ward method\n",
    "\n",
    "#It is time for Comic-Con! Comic-Con is an annual comic-based convention\n",
    "#held in major cities in the world. You have the data of last year's\n",
    "#footfall, the number of people at the convention ground at a given\n",
    "#time. You would like to decide the location of your stall to maximize\n",
    "#sales. Using the ward method, apply hierarchical clustering to find\n",
    "#the two points of attraction in the area.\n",
    "\n",
    "#The data is stored in a Pandas data frame, comic_con. x_scaled and\n",
    "#y_scaled are the column names of the standardized X and Y coordinates\n",
    "#of people at a given point in time.\n",
    "\n",
    "# Import the fcluster and linkage functions\n",
    "#from scipy.cluster.hierarchy import fcluster, linkage\n",
    "\n",
    "# Use the linkage() function\n",
    "#distance_matrix = linkage(comic_con[['x_scaled', 'y_scaled']], method = 'ward', metric = 'euclidean')\n",
    "\n",
    "# Assign cluster labels\n",
    "#comic_con['cluster_labels'] = fcluster(distance_matrix, 2, criterion='maxclust')\n",
    "\n",
    "# Plot clusters\n",
    "#sns.scatterplot(x='x_scaled', y='y_scaled',\n",
    "#                hue='cluster_labels', data = comic_con)\n",
    "#plt.show()"
   ],
   "metadata": {
    "collapsed": false,
    "pycharm": {
     "name": "#%%\n"
    }
   }
  },
  {
   "cell_type": "markdown",
   "source": [
    "![_images/12.2.svg](_images/12.2.svg)"
   ],
   "metadata": {
    "collapsed": false
   }
  },
  {
   "cell_type": "code",
   "execution_count": null,
   "outputs": [],
   "source": [
    "#Hierarchical clustering: single method\n",
    "\n",
    "#Let us use the same footfall dataset and check if any changes are\n",
    "#seen if we use a different method for clustering.\n",
    "\n",
    "#The data is stored in a Pandas data frame, comic_con. x_scaled and\n",
    "#y_scaled are the column names of the standardized X and Y coordinates\n",
    "#of people at a given point in time.\n",
    "\n",
    "# Import the fcluster and linkage functions\n",
    "#from scipy.cluster.hierarchy import fcluster, linkage\n",
    "\n",
    "# Use the linkage() function\n",
    "#distance_matrix = linkage(comic_con[['x_scaled', 'y_scaled']], method = 'single', metric = 'euclidean')\n",
    "\n",
    "# Assign cluster labels\n",
    "#comic_con['cluster_labels'] = fcluster(distance_matrix, 2, criterion='maxclust')\n",
    "\n",
    "# Plot clusters\n",
    "#sns.scatterplot(x='x_scaled', y='y_scaled',\n",
    "#                hue='cluster_labels', data = comic_con)\n",
    "#plt.show()"
   ],
   "metadata": {
    "collapsed": false,
    "pycharm": {
     "name": "#%%\n"
    }
   }
  },
  {
   "cell_type": "markdown",
   "source": [
    "![_images/12.3.svg](_images/12.3.svg)"
   ],
   "metadata": {
    "collapsed": false
   }
  },
  {
   "cell_type": "code",
   "execution_count": null,
   "outputs": [],
   "source": [
    "#Hierarchical clustering: complete method\n",
    "\n",
    "#For the third and final time, let us use the same footfall dataset\n",
    "#and check if any changes are seen if we use a different method for\n",
    "#clustering.\n",
    "\n",
    "#The data is stored in a Pandas data frame, comic_con. x_scaled and\n",
    "#y_scaled are the column names of the standardized X and Y coordinates\n",
    "#of people at a given point in time.\n",
    "\n",
    "# Import the fcluster and linkage functions\n",
    "#from scipy.cluster.hierarchy import fcluster, linkage\n",
    "\n",
    "# Use the linkage() function\n",
    "#distance_matrix = linkage(comic_con[['x_scaled', 'y_scaled']], method = 'complete', metric = 'euclidean')\n",
    "\n",
    "# Assign cluster labels\n",
    "#comic_con['cluster_labels'] = fcluster(distance_matrix, 2, criterion='maxclust')\n",
    "\n",
    "# Plot clusters\n",
    "#sns.scatterplot(x='x_scaled', y='y_scaled',\n",
    "#                hue='cluster_labels', data = comic_con)\n",
    "#plt.show()"
   ],
   "metadata": {
    "collapsed": false,
    "pycharm": {
     "name": "#%%\n"
    }
   }
  },
  {
   "cell_type": "markdown",
   "source": [
    "![_images/12.4.svg](_images/12.4.svg)"
   ],
   "metadata": {
    "collapsed": false
   }
  },
  {
   "cell_type": "markdown",
   "source": [
    "**Visualize clusters**\n",
    "___\n",
    "- Why visualize clusters?\n",
    "    - try to make sense of clusters formed\n",
    "    - an additional step in validation of clusters\n",
    "    - spot trends in data\n"
   ],
   "metadata": {
    "collapsed": false
   }
  },
  {
   "cell_type": "code",
   "execution_count": null,
   "outputs": [],
   "source": [
    "#Visualize clusters with matplotlib\n",
    "\n",
    "#We have discussed that visualizations are necessary to assess the\n",
    "#clusters that are formed and spot trends in your data. Let us now\n",
    "#focus on visualizing the footfall dataset from Comic-Con using the\n",
    "#matplotlib module.\n",
    "\n",
    "#The data is stored in a Pandas data frame, comic_con. x_scaled and\n",
    "#y_scaled are the column names of the standardized X and Y coordinates\n",
    "#of people at a given point in time. cluster_labels has the cluster labels.\n",
    "#A linkage object is stored in the variable distance_matrix.\n",
    "\n",
    "#Import the pyplot class\n",
    "#from matplotlib import pyplot as plt\n",
    "\n",
    "# Define a colors dictionary for clusters\n",
    "#colors = {1:'red', 2:'blue'}\n",
    "\n",
    "# Plot a scatter plot\n",
    "#comic_con.plot.scatter(x='x_scaled',\n",
    "#                \t   y='y_scaled',\n",
    "#                       c=comic_con['cluster_labels'].apply(lambda x: colors[x]))\n",
    "#plt.show()"
   ],
   "metadata": {
    "collapsed": false,
    "pycharm": {
     "name": "#%%\n"
    }
   }
  },
  {
   "cell_type": "markdown",
   "source": [
    "![_images/12.5.svg](_images/12.5.svg)"
   ],
   "metadata": {
    "collapsed": false
   }
  },
  {
   "cell_type": "code",
   "execution_count": null,
   "outputs": [],
   "source": [
    "#Visualize clusters with seaborn\n",
    "\n",
    "#Let us now visualize the footfall dataset from Comic Con using the\n",
    "#seaborn module. Visualizing clusters using seaborn is easier with\n",
    "#the hue function for cluster labels.\n",
    "\n",
    "#The data is stored in a Pandas data frame, comic_con. x_scaled and\n",
    "#y_scaled are the column names of the standardized X and Y coordinates\n",
    "#of people at a given point in time. cluster_labels has the cluster\n",
    "#labels. A linkage object is stored in the variable distance_matrix.\n",
    "\n",
    "# Import the seaborn module\n",
    "#import seaborn as sns\n",
    "\n",
    "# Plot a scatter plot using seaborn\n",
    "#sns.scatterplot(x='x_scaled',\n",
    "#                y='y_scaled',\n",
    "#                hue='cluster_labels',\n",
    "#                data=comic_con)\n",
    "#plt.show()"
   ],
   "metadata": {
    "collapsed": false,
    "pycharm": {
     "name": "#%%\n"
    }
   }
  },
  {
   "cell_type": "markdown",
   "source": [
    "![_images/12.6.svg](_images/12.6.svg)"
   ],
   "metadata": {
    "collapsed": false
   }
  },
  {
   "cell_type": "markdown",
   "source": [
    "**How many clusters?**\n",
    "___\n",
    "- introduction to dendrograms\n",
    "- from scipy.cluster.hierarchy import dendrogram\n",
    "___"
   ],
   "metadata": {
    "collapsed": false
   }
  },
  {
   "cell_type": "code",
   "execution_count": null,
   "outputs": [],
   "source": [
    "#Create a dendrogram\n",
    "\n",
    "#Dendrograms are branching diagrams that show the merging of clusters\n",
    "#as we move through the distance matrix. Let us use the Comic Con\n",
    "#footfall data to create a dendrogram.\n",
    "\n",
    "#The data is stored in a Pandas data frame, comic_con. x_scaled and\n",
    "#y_scaled are the column names of the standardized X and Y coordinates\n",
    "#of people at a given point in time. cluster_labels has the cluster\n",
    "#labels. A linkage object is stored in the variable distance_matrix.\n",
    "\n",
    "# Import the dendrogram function\n",
    "#from scipy.cluster.hierarchy import dendrogram\n",
    "\n",
    "# Create a dendrogram\n",
    "#dn = dendrogram(distance_matrix)\n",
    "\n",
    "# Display the dendogram\n",
    "#plt.show()"
   ],
   "metadata": {
    "collapsed": false,
    "pycharm": {
     "name": "#%%\n"
    }
   }
  },
  {
   "cell_type": "markdown",
   "source": [
    "![_images/12.7.svg](_images/12.7.svg)"
   ],
   "metadata": {
    "collapsed": false
   }
  },
  {
   "cell_type": "markdown",
   "source": [
    "**Limitations of hierarchical clustering**\n",
    "___\n",
    "- measuring speed in hierarchical clustering\n",
    "    - *timeit* module\n",
    "    - measure speed of *.linkage()* module\n",
    "- there is a quadratic increase in runtime, making it infeasible for large data sets\n",
    "___"
   ],
   "metadata": {
    "collapsed": false
   }
  },
  {
   "cell_type": "code",
   "execution_count": null,
   "outputs": [],
   "source": [
    "#FIFA 18: exploring defenders\n",
    "\n",
    "#In the FIFA 18 dataset, various attributes of players are present.\n",
    "#Two such attributes are:\n",
    "\n",
    "#sliding tackle: a number between 0-99 which signifies how accurate\n",
    "#a player is able to perform sliding tackles\n",
    "\n",
    "#aggression: a number between 0-99 which signifies the commitment\n",
    "#and will of a player\n",
    "\n",
    "#These are typically high in defense-minded players. In this exercise,\n",
    "#you will perform clustering based on these attributes in the data.\n",
    "\n",
    "#This data consists of 5000 rows, and is considerably larger than\n",
    "#earlier datasets. Running hierarchical clustering on this data can\n",
    "#take up to 10 seconds.\n",
    "\n",
    "#The following modules are pre-loaded: dendrogram, linkage, fcluster\n",
    "#from scipy.cluster.hierarchy, matplotlib.pyplot as plt, seaborn as\n",
    "#sns. The data is stored in a Pandas dataframe, fifa.\n",
    "\n",
    "# Fit the data into a hierarchical clustering algorithm\n",
    "#distance_matrix = linkage(fifa[['scaled_sliding_tackle', 'scaled_aggression']], 'ward')\n",
    "\n",
    "# Assign cluster labels to each row of data\n",
    "#fifa['cluster_labels'] = fcluster(distance_matrix, 3, criterion='maxclust')\n",
    "\n",
    "# Display cluster centers of each cluster\n",
    "#print(fifa[['scaled_sliding_tackle', 'scaled_aggression', 'cluster_labels']].groupby('cluster_labels').mean())\n",
    "\n",
    "# Create a scatter plot through seaborn\n",
    "#sns.scatterplot(x='scaled_sliding_tackle', y='scaled_aggression', hue='cluster_labels', data=fifa)\n",
    "#plt.show()\n",
    "\n",
    "#################################################\n",
    "#<script.py> output:\n",
    "#                   scaled_sliding_tackle  scaled_aggression\n",
    "#    cluster_labels\n",
    "#    1                                2.99               4.35\n",
    "#    2                                0.74               1.94\n",
    "#    3                                1.34               3.62\n",
    "#################################################"
   ],
   "metadata": {
    "collapsed": false,
    "pycharm": {
     "name": "#%%\n"
    }
   }
  },
  {
   "cell_type": "markdown",
   "source": [
    "![_images/12.8.svg](_images/12.8.svg)"
   ],
   "metadata": {
    "collapsed": false
   }
  },
  {
   "cell_type": "markdown",
   "source": [
    "**Basics of k-means clustering**\n",
    "___\n",
    "- Why k-means clustering?\n",
    "    - a critical drawback of hierarchical clustering: runtime\n",
    "    - K means runs significantly faster on large datasets\n",
    "- Step 1: Generate cluster centers\n",
    "    - kmeans(obs, k_or_guess, iter, thresh, check_finite)\n",
    "        - obs: - standardized observations\n",
    "        - k_or_guess: - number of clusters\n",
    "        - iter: - number of iterations (default 20)\n",
    "        - thresh: - threshold based on distortions (default 1e-05)\n",
    "        - check_finite: - whether to check if observations contain only finite numbers (default: True)\n",
    "    - returns two objects: cluster centers (code_book), distortion\n",
    "    - how is distortion calculated?\n",
    "        - sum of square distances between data points and cluster centers\n",
    "- Step 2: Generate cluster labels\n",
    "    - vq(obs, code_book, check_finite=True)\n",
    "        - obs: - standardized observations\n",
    "        - code_book: - cluster centers\n",
    "        - check_finite - whether to check if observations contain only finite numbers (default: True)\n",
    "    -  returns two objects: a  list of cluster labels, a list of distortions\n",
    "- A note on distortions\n",
    "    - kmeans - returns a single value of distortions based on the data\n",
    "    - vq - returns a list of distortions one for each data point (mean approximates kmeans distortion)\n",
    "___"
   ],
   "metadata": {
    "collapsed": false
   }
  },
  {
   "cell_type": "code",
   "execution_count": null,
   "outputs": [],
   "source": [
    "#K-means clustering: first exercise\n",
    "#This exercise will familiarize you with the usage of k-means\n",
    "#clustering on a dataset. Let us use the Comic Con dataset and check\n",
    "#how k-means clustering works on it.\n",
    "\n",
    "#Recall the two steps of k-means clustering:\n",
    "\n",
    "#Define cluster centers through kmeans() function. It has two required\n",
    "#arguments: observations and number of clusters.\n",
    "#Assign cluster labels through the vq() function. It has two required\n",
    "#arguments: observations and cluster centers.\n",
    "#The data is stored in a Pandas data frame, comic_con. x_scaled and\n",
    "#y_scaled are the column names of the standardized X and Y coordinates\n",
    "#of people at a given point in time.\n",
    "\n",
    "# Import the kmeans and vq functions\n",
    "#from scipy.cluster.vq import kmeans, vq\n",
    "\n",
    "# Generate cluster centers\n",
    "#cluster_centers, distortion = kmeans(comic_con[['x_scaled', 'y_scaled']], 2)\n",
    "\n",
    "# Assign cluster labels\n",
    "#comic_con['cluster_labels'], distortion_list = vq(comic_con[['x_scaled', 'y_scaled']], cluster_centers)\n",
    "\n",
    "# Plot clusters\n",
    "#sns.scatterplot(x='x_scaled', y='y_scaled',\n",
    "#                hue='cluster_labels', data = comic_con)\n",
    "#plt.show()\n",
    "\n",
    "#NOTE: runtime is 50 ms vs 5 seconds for hierarchical clustering"
   ],
   "metadata": {
    "collapsed": false,
    "pycharm": {
     "name": "#%%\n"
    }
   }
  },
  {
   "cell_type": "markdown",
   "source": [
    "![_images/12.9.svg](_images/12.9.svg)"
   ],
   "metadata": {
    "collapsed": false
   }
  },
  {
   "cell_type": "markdown",
   "source": [
    "**How many clusters?**\n",
    "___\n",
    "- How to find the right k?\n",
    "    - no absolute method to find right number of clusters (k) in k-means clustering\n",
    "- elbow plot method\n",
    "    - line plot between cluster centers (x-axis) and distortion (y-axis)\n",
    "    - elbow plot helps indicate number of clusters present in data\n",
    "    - only gives an indication of optimal k (numbers of clusters)\n",
    "    - does not always pinpoint how many k (numbers of clusters)\n",
    "    - other methods: average silhouette, gap statistic\n",
    "- distortions revisited\n",
    "    - sum of squares between each data point and cluster center for each cluster\n",
    "    - decreases with an increasing number of clusters\n",
    "        - becomes zero when the number of clusters equals the number of points\n",
    "___"
   ],
   "metadata": {
    "collapsed": false,
    "pycharm": {
     "name": "#%% md\n"
    }
   }
  },
  {
   "cell_type": "code",
   "execution_count": null,
   "outputs": [],
   "source": [
    "#Elbow method on distinct clusters\n",
    "#Let us use the comic con data set to see how the elbow plot looks\n",
    "#on a data set with distinct, well-defined clusters. You may want\n",
    "#to display the data points before proceeding with the exercise.\n",
    "\n",
    "#The data is stored in a Pandas data frame, comic_con. x_scaled and\n",
    "#y_scaled are the column names of the standardized X and Y coordinates\n",
    "#of people at a given point in time.\n",
    "\n",
    "#distortions = []\n",
    "#num_clusters = range(1, 7)\n",
    "\n",
    "# Create a list of distortions from the kmeans function\n",
    "#for i in num_clusters:\n",
    "#    cluster_centers, distortion = kmeans(comic_con[['x_scaled', 'y_scaled']], i)\n",
    "#    distortions.append(distortion)\n",
    "\n",
    "# Create a data frame with two lists - num_clusters, distortions\n",
    "#elbow_plot = pd.DataFrame({'num_clusters': num_clusters, 'distortions': distortions})\n",
    "\n",
    "# Creat a line plot of num_clusters and distortions\n",
    "#sns.lineplot(x='num_clusters', y='distortions', data = elbow_plot)\n",
    "#plt.xticks(num_clusters)\n",
    "#plt.show()"
   ],
   "metadata": {
    "collapsed": false,
    "pycharm": {
     "name": "#%%\n"
    }
   }
  },
  {
   "cell_type": "markdown",
   "source": [
    "![_images/12.10.svg](_images/12.10.svg)"
   ],
   "metadata": {
    "collapsed": false
   }
  },
  {
   "cell_type": "code",
   "execution_count": null,
   "outputs": [],
   "source": [
    "#Elbow method on uniform data\n",
    "#In the earlier exercise, you constructed an elbow plot on data with\n",
    "#well-defined clusters. Let us now see how the elbow plot looks on a\n",
    "#data set with uniformly distributed points. You may want to display\n",
    "#the data points on the console before proceeding with the exercise.\n",
    "\n",
    "#The data is stored in a Pandas data frame, uniform_data. x_scaled\n",
    "#and y_scaled are the column names of the standardized X and Y\n",
    "#coordinates of points.\n",
    "\n",
    "#distortions = []\n",
    "#num_clusters = range(2, 7)\n",
    "\n",
    "# Create a list of distortions from the kmeans function\n",
    "#for i in num_clusters:\n",
    "#    cluster_centers, distortion = kmeans(uniform_data[['x_scaled', 'y_scaled']], i)\n",
    "#    distortions.append(distortion)\n",
    "\n",
    "# Create a data frame with two lists - number of clusters and distortions\n",
    "#elbow_plot = pd.DataFrame({'num_clusters': num_clusters, 'distortions': distortions})\n",
    "\n",
    "# Creat a line plot of num_clusters and distortions\n",
    "#sns.lineplot(x='num_clusters', y='distortions', data=elbow_plot)\n",
    "#plt.xticks(num_clusters)\n",
    "#plt.show()"
   ],
   "metadata": {
    "collapsed": false,
    "pycharm": {
     "name": "#%%\n"
    }
   }
  },
  {
   "cell_type": "markdown",
   "source": [
    "![_images/12.11.svg](_images/12.11.svg)"
   ],
   "metadata": {
    "collapsed": false
   }
  },
  {
   "cell_type": "markdown",
   "source": [
    "**Limitations of k-means clustering**\n",
    "___\n",
    "- How to find the right number of k (number of clusters)?\n",
    "- impact of seeds\n",
    "    - set random number generator seed for consistency across multiple iteration of same code\n",
    "    - *from numpy import random* \\\\ *random.seed(12)*\n",
    "- biased towards equal sized clusters\n",
    "    - hierarchical clustering does not"
   ],
   "metadata": {
    "collapsed": false
   }
  },
  {
   "cell_type": "code",
   "execution_count": null,
   "outputs": [],
   "source": [
    "#Impact of seeds on distinct clusters\n",
    "#You noticed the impact of seeds on a dataset that did not have\n",
    "#well-defined groups of clusters. In this exercise, you will explore\n",
    "#whether seeds impact the clusters in the Comic Con data, where the\n",
    "#clusters are well-defined.\n",
    "\n",
    "#The data is stored in a Pandas data frame, comic_con. x_scaled and\n",
    "#y_scaled are the column names of the standardized X and Y\n",
    "#coordinates of people at a given point in time.\n",
    "\n",
    "# Import random class\n",
    "#from numpy import random\n",
    "\n",
    "# Initialize seed\n",
    "#random.seed(0)\n",
    "\n",
    "# Run kmeans clustering\n",
    "#cluster_centers, distortion = kmeans(comic_con[['x_scaled', 'y_scaled']], 2)\n",
    "#comic_con['cluster_labels'], distortion_list = vq(comic_con[['x_scaled', 'y_scaled']], cluster_centers)\n",
    "\n",
    "# Plot the scatterplot\n",
    "#sns.scatterplot(x='x_scaled', y='y_scaled',\n",
    "#                hue='cluster_labels', data = comic_con)\n",
    "#plt.show()"
   ],
   "metadata": {
    "collapsed": false,
    "pycharm": {
     "name": "#%%\n"
    }
   }
  },
  {
   "cell_type": "markdown",
   "source": [
    "![_images/12.12.svg](_images/12.12.svg)"
   ],
   "metadata": {
    "collapsed": false
   }
  },
  {
   "cell_type": "code",
   "execution_count": null,
   "outputs": [],
   "source": [
    "#Change your code from the earlier step so that the seed is\n",
    "#initialized with a list [1, 2, 1000].\n",
    "\n",
    "# Import random class\n",
    "#from numpy import random\n",
    "\n",
    "# Initialize seed\n",
    "#random.seed([1, 2, 1000])\n",
    "\n",
    "# Run kmeans clustering\n",
    "#cluster_centers, distortion = kmeans(comic_con[['x_scaled', 'y_scaled']], 2)\n",
    "#comic_con['cluster_labels'], distortion_list = vq(comic_con[['x_scaled', 'y_scaled']], cluster_centers)\n",
    "\n",
    "# Plot the scatterplot\n",
    "#sns.scatterplot(x='x_scaled', y='y_scaled',\n",
    "#                hue='cluster_labels', data = comic_con)\n",
    "#plt.show()"
   ],
   "metadata": {
    "collapsed": false,
    "pycharm": {
     "name": "#%%\n"
    }
   }
  },
  {
   "cell_type": "markdown",
   "source": [
    "![_images/12.13.svg](_images/12.13.svg)\n",
    "___\n",
    "Notice that the plots have not changed after changing the seed as the clusters are well-defined.\n",
    "___"
   ],
   "metadata": {
    "collapsed": false
   }
  },
  {
   "cell_type": "markdown",
   "source": [
    "**Uniform clustering patterns**\n",
    "___\n",
    "Now that you are familiar with the impact of seeds, let us look at\n",
    "the bias in k-means clustering towards the formation of uniform\n",
    "clusters.\n",
    "\n",
    "Let us use a mouse-like dataset for our next exercise. A mouse-like\n",
    "dataset is a group of points that resemble the head of a mouse: it\n",
    "has three clusters of points arranged in circles, one each for the\n",
    "face and two ears of a mouse.\n",
    "\n",
    "Here is how a typical mouse-like dataset looks like:\n",
    "\n",
    "<img src=\"https://www.researchgate.net/profile/Simone_Ludwig/publication/256378655/figure/fig3/AS:667689227939842@1536200925583/Clustering-results-for-the-Mouse-data-set-where-the-black-boxes-represent-the-centroids.ppm\" alt=\"Mouse\" width=\"500\" style=\"vertical-align:middle\">\n",
    "___"
   ],
   "metadata": {
    "collapsed": false
   }
  },
  {
   "cell_type": "code",
   "execution_count": null,
   "outputs": [],
   "source": [
    "# Generate cluster centers\n",
    "#cluster_centers, distortion = kmeans(mouse[['x_scaled', 'y_scaled']], 3)\n",
    "\n",
    "# Assign cluster labels\n",
    "#mouse['cluster_labels'], distortion_list = vq(mouse[['x_scaled', 'y_scaled']], cluster_centers)\n",
    "\n",
    "# Plot clusters\n",
    "#sns.scatterplot(x='x_scaled', y='y_scaled',\n",
    "#                hue='cluster_labels', data = mouse)\n",
    "#plt.show()"
   ],
   "metadata": {
    "collapsed": false,
    "pycharm": {
     "name": "#%%\n"
    }
   }
  },
  {
   "cell_type": "markdown",
   "source": [
    "![_images/12.14.svg](_images/12.14.svg)\n",
    "___\n",
    "Notice that kmeans is unable to capture the three visible clusters\n",
    "clearly, and the two clusters towards the top have taken in some\n",
    "points along the boundary. This happens due to the underlying\n",
    "assumption in kmeans algorithm to minimize distortions which leads\n",
    "to clusters that are similar in terms of area.\n",
    "___"
   ],
   "metadata": {
    "collapsed": false
   }
  },
  {
   "cell_type": "code",
   "execution_count": null,
   "outputs": [],
   "source": [
    "#FIFA 18: defenders revisited\n",
    "#In the FIFA 18 dataset, various attributes of players are present.\n",
    "#Two such attributes are:\n",
    "\n",
    "#defending: a number which signifies the defending attributes of a player\n",
    "#physical: a number which signifies the physical attributes of a player\n",
    "\n",
    "#These are typically defense-minded players. In this exercise, you\n",
    "#will perform clustering based on these attributes in the data.\n",
    "\n",
    "#The following modules have been pre-loaded: kmeans, vq from\n",
    "#scipy.cluster.vq, matplotlib.pyplot as plt, seaborn as sns. The\n",
    "#data for this exercise is stored in a Pandas dataframe, fifa. The\n",
    "#scaled variables are scaled_def and scaled_phy.\n",
    "\n",
    "# Set up a random seed in numpy\n",
    "#random.seed([1000,2000])\n",
    "\n",
    "# Fit the data into a k-means algorithm\n",
    "#cluster_centers,_ = kmeans(fifa[['scaled_def', 'scaled_phy']], 3)\n",
    "\n",
    "# Assign cluster labels\n",
    "#fifa['cluster_labels'],_ = vq(fifa[['scaled_def', 'scaled_phy']], cluster_centers)\n",
    "\n",
    "# Display cluster centers\n",
    "#print(fifa[['scaled_def', 'scaled_phy', 'cluster_labels']].groupby('cluster_labels').mean())\n",
    "\n",
    "#################################################\n",
    "#<script.py> output:\n",
    "#                    scaled_def  scaled_phy\n",
    "#    cluster_labels\n",
    "#    0                     3.74        8.87\n",
    "#    1                     1.87        7.08\n",
    " #   2                     2.10        8.94\n",
    "#################################################\n",
    "\n",
    "# Create a scatter plot through seaborn\n",
    "#sns.scatterplot(x='scaled_def', y='scaled_phy', hue='cluster_labels', data=fifa)\n",
    "#plt.show()"
   ],
   "metadata": {
    "collapsed": false,
    "pycharm": {
     "name": "#%%\n"
    }
   }
  },
  {
   "cell_type": "markdown",
   "source": [
    "![_images/12.15.svg](_images/12.15.svg)\n",
    "___\n",
    "Notice that the seed has an impact on clustering as the data is\n",
    "uniformly distributed.\n",
    "___"
   ],
   "metadata": {
    "collapsed": false
   }
  },
  {
   "cell_type": "markdown",
   "source": [
    "**Dominant colors in images**\n",
    "___\n",
    "- all images consist of pixels\n",
    "- each pixel has three values: red, green, and blue (0-255)\n",
    "- pixel color: combination of these RGB values\n",
    "- perform k-means on standardized RGB values to find cluster centers\n",
    "- uses: identifying features in satellite images\n",
    "- tools to find dominant colors\n",
    "    - convert image to pixels: matplotlib.image.imread\n",
    "    - display colors of cluster centers: matplotlib.pyplot.imshow\n",
    "___"
   ],
   "metadata": {
    "collapsed": false
   }
  },
  {
   "cell_type": "markdown",
   "source": [
    "**Extract RGB values from image**\n",
    "___\n",
    "There are broadly three steps to find the dominant colors in an image:\n",
    "\n",
    "- Extract RGB values into three lists.\n",
    "- Perform k-means clustering on scaled RGB values.\n",
    "- Display the colors of cluster centers.\n",
    "\n",
    "To extract RGB values, we use the imread() function of the image\n",
    "class of matplotlib. Empty lists, r, g and b have been initialized.\n",
    "\n",
    "For the purpose of finding dominant colors, we will be using the\n",
    "following image.\n",
    "\n",
    "![_images/12.1.jpg](_images/12.1.jpg)\n",
    "___"
   ],
   "metadata": {
    "collapsed": false,
    "pycharm": {
     "name": "#%% md\n"
    }
   }
  },
  {
   "cell_type": "code",
   "execution_count": 6,
   "outputs": [
    {
     "name": "stdout",
     "output_type": "stream",
     "text": [
      "(169, 269, 3)\n"
     ]
    }
   ],
   "source": [
    "# Import image class of matplotlib\n",
    "import matplotlib.image as img\n",
    "\n",
    "r, g, b = ([] for i in range(3))\n",
    "\n",
    "# Read batman image and print dimensions\n",
    "batman_image = img.imread('_images/12.1.jpg')\n",
    "print(batman_image.shape)\n",
    "\n",
    "# Store RGB values of all pixels in lists r, g and b\n",
    "for row in batman_image:\n",
    "    for temp_r, temp_g, temp_b in row:\n",
    "        r.append(temp_r)\n",
    "        g.append(temp_g)\n",
    "        b.append(temp_b)\n",
    "\n",
    "#output is a m x n matrix"
   ],
   "metadata": {
    "collapsed": false,
    "pycharm": {
     "name": "#%%\n"
    }
   }
  },
  {
   "cell_type": "markdown",
   "source": [
    "**How many dominant colors?**\n",
    "___\n",
    "We have loaded the following image using the imread() function of the image class of matplotlib.\n",
    "![_images/12.1.jpg](_images/12.1.jpg)\n",
    "The RGB values are stored in a data frame, batman_df.\n",
    "The RGB values have been standardized used the whiten() function,\n",
    "stored in columns, scaled_red, scaled_blue and scaled_green.\n",
    "\n",
    "Construct an elbow plot with the data frame. How many dominant\n",
    "colors are present?\n",
    "___"
   ],
   "metadata": {
    "collapsed": false
   }
  },
  {
   "cell_type": "code",
   "execution_count": 8,
   "outputs": [
    {
     "data": {
      "text/plain": "<Figure size 432x288 with 1 Axes>",
      "image/png": "[encoded data removed]"
     },
     "metadata": {
      "needs_background": "light"
     },
     "output_type": "display_data"
    }
   ],
   "source": [
    "# Import image class of matplotlib\n",
    "from numpy import random\n",
    "from scipy.cluster.vq import vq, kmeans, whiten\n",
    "import matplotlib.image as img\n",
    "import matplotlib.pyplot as plt\n",
    "import pandas as pd, seaborn as sns\n",
    "\n",
    "# Initialize seed\n",
    "random.seed(123)\n",
    "\n",
    "r, g, b = ([] for i in range(3))\n",
    "\n",
    "# Read batman image\n",
    "batman_image = img.imread('_images/12.1.jpg')\n",
    "\n",
    "# Store RGB values of all pixels in lists r, g and b\n",
    "for row in batman_image:\n",
    "    for temp_r, temp_g, temp_b in row:\n",
    "        r.append(temp_r)\n",
    "        g.append(temp_g)\n",
    "        b.append(temp_b)\n",
    "\n",
    "batman_df = pd.DataFrame(list(zip(r, b , g)), columns=['red','blue','green'])\n",
    "\n",
    "# Scale r, g, and b\n",
    "batman_df['scaled_red'] = whiten(batman_df['red'])\n",
    "batman_df['scaled_blue'] = whiten(batman_df['blue'])\n",
    "batman_df['scaled_green'] = whiten(batman_df['green'])\n",
    "\n",
    "distortions = []\n",
    "num_clusters = range(1, 7)\n",
    "\n",
    "# Create a list of distortions from the kmeans function\n",
    "for i in num_clusters:\n",
    "    cluster_centers, distortion = kmeans(batman_df[['scaled_red', 'scaled_blue', 'scaled_green']], i)\n",
    "    distortions.append(distortion)\n",
    "\n",
    "# Create a data frame with two lists, num_clusters and distortions\n",
    "elbow_plot = pd.DataFrame({'num_clusters': num_clusters, 'distortions': distortions})\n",
    "\n",
    "# Create a line plot of num_clusters and distortions\n",
    "sns.lineplot(x='num_clusters', y='distortions', data = elbow_plot)\n",
    "plt.xticks(num_clusters)\n",
    "plt.show()\n",
    "\n",
    "#Notice that there are three distinct colors present in the image, which is supported by the elbow plot."
   ],
   "metadata": {
    "collapsed": false,
    "pycharm": {
     "name": "#%%\n"
    }
   }
  },
  {
   "cell_type": "markdown",
   "source": [
    "**Display dominant colors**\n",
    "___\n",
    "We have loaded the following image using the imread() function of\n",
    "the image class of matplotlib.\n",
    "![_images/12.1.jpg](_images/12.1.jpg)\n",
    "To display the dominant colors, convert the colors of the cluster\n",
    "centers to their raw values and then converted them to the range\n",
    "of 0-1, using the following formula:\n",
    "**converted_pixel = standardized_pixel * pixel_std / 255**\n",
    "\n",
    "The RGB values are stored in a data frame, batman_df. The scaled\n",
    "RGB values are stored in columns, scaled_red, scaled_blue and\n",
    "scaled_green. The cluster centers are stored in the variable\n",
    "cluster_centers, which were generated using the kmeans() function\n",
    "with three clusters.\n",
    "___"
   ],
   "metadata": {
    "collapsed": false
   }
  },
  {
   "cell_type": "code",
   "execution_count": 10,
   "outputs": [
    {
     "data": {
      "text/plain": "<Figure size 432x288 with 1 Axes>",
      "image/png": "[encoded data removed]"
     },
     "metadata": {
      "needs_background": "light"
     },
     "output_type": "display_data"
    }
   ],
   "source": [
    "# Import image class of matplotlib\n",
    "from numpy import random\n",
    "from scipy.cluster.vq import vq, kmeans, whiten\n",
    "import matplotlib.image as img\n",
    "import matplotlib.pyplot as plt\n",
    "import pandas as pd, seaborn as sns\n",
    "\n",
    "# Initialize seed\n",
    "random.seed(123)\n",
    "\n",
    "r, g, b = ([] for i in range(3))\n",
    "\n",
    "# Read batman image\n",
    "batman_image = img.imread('_images/12.1.jpg')\n",
    "\n",
    "# Store RGB values of all pixels in lists r, g and b\n",
    "for row in batman_image:\n",
    "    for temp_r, temp_g, temp_b in row:\n",
    "        r.append(temp_r)\n",
    "        g.append(temp_g)\n",
    "        b.append(temp_b)\n",
    "\n",
    "batman_df = pd.DataFrame(list(zip(r, b , g)), columns=['red','blue','green'])\n",
    "\n",
    "# Scale r, g, and b\n",
    "batman_df['scaled_red'] = whiten(batman_df['red'])\n",
    "batman_df['scaled_blue'] = whiten(batman_df['blue'])\n",
    "batman_df['scaled_green'] = whiten(batman_df['green'])\n",
    "\n",
    "# kmeans function with 3 clusters\n",
    "cluster_centers, distortion = kmeans(batman_df[['scaled_red', 'scaled_blue', 'scaled_green']], 3)\n",
    "\n",
    "# Get standard deviations of each color\n",
    "r_std, g_std, b_std = batman_df[['red', 'green', 'blue']].std()\n",
    "\n",
    "colors = []\n",
    "for cluster_center in cluster_centers:\n",
    "    scaled_r, scaled_g, scaled_b = cluster_center\n",
    "    # Convert each standardized value to scaled value\n",
    "    colors.append((\n",
    "        scaled_r * r_std / 255,\n",
    "        scaled_g * g_std / 255,\n",
    "        scaled_b * b_std / 255\n",
    "    ))\n",
    "\n",
    "# Display colors of cluster centers\n",
    "plt.imshow([colors])\n",
    "plt.show()"
   ],
   "metadata": {
    "collapsed": false,
    "pycharm": {
     "name": "#%%\n"
    }
   }
  },
  {
   "cell_type": "markdown",
   "source": [
    "**Document clustering**\n",
    "___\n",
    "- concepts\n",
    "    - clean data before processing\n",
    "        - remove punctuation, emoticons, words siuch as \"the\" \"is\" \"are\"\n",
    "        - determine the importance of terms in a document (in TF-IDF matrix)\n",
    "        - cluster TF-IDF matrix\n",
    "        - find top terms, documents in each cluster\n",
    "-"
   ],
   "metadata": {
    "collapsed": false
   }
  },
  {
   "cell_type": "code",
   "execution_count": null,
   "outputs": [],
   "source": [
    "#TF-IDF of movie plots\n",
    "\n",
    "#Let us use the plots of randomly selected movies to perform\n",
    "#document clustering on. Before performing clustering on documents,\n",
    "#they need to be cleaned of any unwanted noise (such as special\n",
    "#characters and stop words) and converted into a sparse matrix\n",
    "#through TF-IDF of the documents.\n",
    "\n",
    "#Use the TfidfVectorizer class to perform the TF-IDF of movie\n",
    "#plots stored in the list plots. The remove_noise() function is\n",
    "#available to use as a tokenizer in the TfidfVectorizer class.\n",
    "#The .fit_transform() method fits the data into the\n",
    "#TfidfVectorizer objects and then generates the TF-IDF sparse\n",
    "#matrix.\n",
    "\n",
    "#Note: It takes a few seconds to run the .fit_transform() method.\n",
    "\n",
    "# Import TfidfVectorizer class from sklearn\n",
    "#from sklearn.feature_extraction.text import TfidfVectorizer\n",
    "\n",
    "# Initialize TfidfVectorizer\n",
    "#tfidf_vectorizer = TfidfVectorizer(max_df=0.75, max_features=50,\n",
    "#                                   min_df=0.1, tokenizer=remove_noise)\n",
    "\n",
    "# Use the .fit_transform() method on the list plots\n",
    "#tfidf_matrix = tfidf_vectorizer.fit_transform(plots)"
   ],
   "metadata": {
    "collapsed": false,
    "pycharm": {
     "name": "#%%\n"
    }
   }
  },
  {
   "cell_type": "code",
   "execution_count": null,
   "outputs": [],
   "source": [
    "#Top terms in movie clusters\n",
    "#Now that you have created a sparse matrix, generate cluster\n",
    "#centers and print the top three terms in each cluster. Use the\n",
    "#.todense() method to convert the sparse matrix, tfidf_matrix to\n",
    "#a normal matrix for the kmeans() function to process. Then, use\n",
    "#the .get_feature_names() method to get a list of terms in the\n",
    "#tfidf_vectorizer object. The zip() function in Python joins two\n",
    "#lists.\n",
    "\n",
    "#The tfidf_vectorizer object and sparse matrix, tfidf_matrix, from\n",
    "#the previous have been retained in this exercise. kmeans has been\n",
    "#imported from SciPy.\n",
    "\n",
    "#With a higher number of data points, the clusters formed would be\n",
    "#defined more clearly. However, this requires some computational\n",
    "#power, making it difficult to accomplish in an exercise here.\n",
    "\n",
    "#num_clusters = 2\n",
    "\n",
    "# Generate cluster centers through the kmeans function\n",
    "#cluster_centers, distortion = kmeans(tfidf_matrix.todense(), num_clusters)\n",
    "\n",
    "# Generate terms from the tfidf_vectorizer object\n",
    "#terms = tfidf_vectorizer.get_feature_names()\n",
    "\n",
    "#for i in range(num_clusters):\n",
    "    # Sort the terms and print top 3 terms\n",
    "#    center_terms = dict(zip(terms, list(cluster_centers[i])))\n",
    "#    sorted_terms = sorted(center_terms, key=center_terms.get, reverse=True)\n",
    "#    print(sorted_terms[:3])\n",
    "\n",
    "#################################################\n",
    "#<script.py> output:\n",
    "#    ['father', 'back', 'one']\n",
    "#    ['police', 'man', 'killed']\n",
    "#################################################\n",
    "#Notice positive, warm words in the first cluster and words\n",
    "#referring to action in the second cluster."
   ],
   "metadata": {
    "collapsed": false,
    "pycharm": {
     "name": "#%%\n"
    }
   }
  },
  {
   "cell_type": "markdown",
   "source": [
    "**Clustering with multiple features**\n",
    "___\n",
    "- Visualizations\n",
    "    - visualize cluster centers\n",
    "    - visualize other variables for each cluster\n",
    "- Feature reduction\n",
    "    - factor analysis\n",
    "    - multidimensional scaling\n",
    "___"
   ],
   "metadata": {
    "collapsed": false
   }
  },
  {
   "cell_type": "code",
   "execution_count": null,
   "outputs": [],
   "source": [
    "#Basic checks on clusters\n",
    "\n",
    "#In the FIFA 18 dataset, we have concentrated on defenders in\n",
    "#previous exercises. Let us try to focus on attacking attributes\n",
    "#of a player. Pace (pac), Dribbling (dri) and Shooting (sho) are\n",
    "#features that are present in attack minded players. In this\n",
    "#exercise, k-means clustering has already been applied on the data\n",
    "#using the scaled values of these three attributes. Try some basic\n",
    "#checks on the clusters so formed.\n",
    "\n",
    "#The data is stored in a Pandas data frame, fifa. The scaled column\n",
    "#names are present in a list scaled_features. The cluster labels are\n",
    "#stored in the cluster_labels column. Recall the .count() and .mean()\n",
    "#methods in Pandas help you find the number of observations and mean\n",
    "#of observations in a data frame.\n",
    "\n",
    "# Print the size of the clusters\n",
    "#print(fifa.groupby('cluster_labels')['ID'].count())\n",
    "\n",
    "# Print the mean value of wages in each cluster\n",
    "#print(fifa.groupby('cluster_labels')['eur_wage'].mean())\n",
    "\n",
    "#################################################\n",
    "#<script.py> output:\n",
    "#    cluster_labels\n",
    "#    0     83\n",
    "#    1    107\n",
    "#    2     60\n",
    "#    Name: ID, dtype: int64\n",
    "#    cluster_labels\n",
    "#    0   132108.43\n",
    "#    1   130308.41\n",
    "#    2   117583.33\n",
    "#    Name: eur_wage, dtype: float64\n",
    "#################################################\n",
    "#In this example, the cluster sizes are not very different, and\n",
    "#there are no significant differences that can be seen in the wages.\n",
    "#Further analysis is required to validate these clusters."
   ],
   "metadata": {
    "collapsed": false,
    "pycharm": {
     "name": "#%%\n"
    }
   }
  },
  {
   "cell_type": "markdown",
   "source": [
    "**FIFA 18: what makes a complete player?**\n",
    "___\n",
    "The overall level of a player in FIFA 18 is defined by six characteristics:\n",
    "pace (pac), shooting (sho), passing (pas), dribbling (dri), defending (def), physical (phy).\n",
    "\n",
    "Here is a sample card:\n",
    "![_images/12.2.jpg](_images/12.2.jpg)\n",
    "___"
   ],
   "metadata": {
    "collapsed": false
   }
  },
  {
   "cell_type": "code",
   "execution_count": null,
   "outputs": [],
   "source": [
    "#In this exercise, you will use all six characteristics to create\n",
    "#clusters. The data for this exercise is stored in a Pandas\n",
    "#dataframe, fifa. features is the list of these column names and\n",
    "#scaled_features is the list of columns which contains their scaled\n",
    "#values. The following have been pre-loaded: kmeans, vq from\n",
    "#scipy.cluster.vq, matplotlib.pyplot as plt, seaborn as sns.\n",
    "\n",
    "#Before you start the exercise, you may wish to explore\n",
    "#scaled_features in the console to check out the list of six\n",
    "#scaled columns names.\n",
    "\n",
    "#################################################\n",
    "#In [2]: scaled_features\n",
    "#Out[2]:\n",
    "#['scaled_pac',\n",
    "# 'scaled_sho',\n",
    "# 'scaled_pas',\n",
    "# 'scaled_dri',\n",
    "# 'scaled_def',\n",
    "# 'scaled_phy']\n",
    "#################################################\n",
    "\n",
    "# Create centroids with kmeans for 2 clusters\n",
    "#cluster_centers,_ = kmeans(fifa[scaled_features], 2)\n",
    "\n",
    "# Assign cluster labels and print cluster centers\n",
    "#fifa['cluster_labels'], _ = vq(fifa[scaled_features], cluster_centers)\n",
    "#print(fifa.groupby('cluster_labels')[scaled_features].mean())\n",
    "\n",
    "#################################################\n",
    "#<script.py> output:\n",
    "#                    scaled_pac  scaled_sho  scaled_pas  scaled_dri  scaled_def  \\\n",
    "#    cluster_labels\n",
    "#    0                     6.68        5.43        8.46        8.51        2.50\n",
    "#    1                     5.44        3.66        7.17        6.76        3.97\n",
    "#\n",
    "#                    scaled_phy\n",
    "#    cluster_labels\n",
    "#    0                     8.34\n",
    "#    1                     9.21\n",
    "#################################################\n",
    "\n",
    "# Plot cluster centers to visualize clusters\n",
    "#fifa.groupby('cluster_labels')[scaled_features].mean().plot(legend=True, kind='bar')\n",
    "\n",
    "# Get the name column of first 5 players in each cluster\n",
    "#for cluster in fifa['cluster_labels'].unique():\n",
    "#    print(cluster, fifa[fifa['cluster_labels'] == cluster]['name'].values[:5])\n",
    "\n",
    "#################################################\n",
    "#    0 ['Cristiano Ronaldo' 'L. Messi' 'Neymar' 'L. Suárez' 'M. Neuer']\n",
    "#    1 ['Sergio Ramos' 'G. Chiellini' 'D. Godín' 'Thiago Silva' 'M. Hummels']\n",
    "#################################################\n",
    "#The data was sorted before you performed the clustering. Notice\n",
    "#the top players in each cluster are representative of the overall\n",
    "#characteristics of the cluster - one of the clusters primarily\n",
    "#represents attackers, whereas the other represents defenders.\n",
    "#Surprisingly, a top goalkeeper Manuel Neuer is seen in the attackers\n",
    "#group, but he is known for going out of the box and participating\n",
    "#in open play, which are reflected in his FIFA 18 attributes."
   ],
   "metadata": {
    "collapsed": false,
    "pycharm": {
     "name": "#%%\n"
    }
   }
  },
  {
   "cell_type": "markdown",
   "source": [
    "![_images/12.16.svg](_images/12.16.svg)"
   ],
   "metadata": {
    "collapsed": false
   }
  },
  {
   "cell_type": "markdown",
   "source": [
    "**Farewell!**\n",
    "___\n",
    "- What comes next?\n",
    "    - clustering is one of the exploratory steps\n",
    "    - practice!\n",
    "___"
   ],
   "metadata": {
    "collapsed": false
   }
  }
 ],
 "metadata": {
  "kernelspec": {
   "display_name": "Python 3",
   "language": "python",
   "name": "python3"
  },
  "language_info": {
   "codemirror_mode": {
    "name": "ipython",
    "version": 2
   },
   "file_extension": ".py",
   "mimetype": "text/x-python",
   "name": "python",
   "nbconvert_exporter": "python",
   "pygments_lexer": "ipython2",
   "version": "2.7.6"
  }
 },
 "nbformat": 4,
 "nbformat_minor": 0
}