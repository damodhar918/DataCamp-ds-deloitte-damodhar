{
 "cells": [
  {
   "cell_type": "markdown",
   "metadata": {
    "collapsed": true,
    "pycharm": {
     "name": "#%% md\n"
    }
   },
   "source": [
    "**Introduction to NLP feature engineering**\n",
    "___\n",
    "- concepts covered\n",
    "    - text preprocessing\n",
    "    - basic features\n",
    "    - word features\n",
    "    - vectorization\n",
    "___"
   ]
  },
  {
   "cell_type": "code",
   "execution_count": null,
   "outputs": [],
   "source": [
    "#One-hot encoding\n",
    "\n",
    "#In the previous exercise, we encountered a dataframe df1 which\n",
    "#contained categorical features and therefore, was unsuitable for\n",
    "#applying ML algorithms to.\n",
    "\n",
    "#In this exercise, your task is to convert df1 into a format that is\n",
    "#suitable for machine learning.\n",
    "\n",
    "# Print the features of df1\n",
    "#print(df1.columns)\n",
    "#################################################\n",
    "#<script.py> output:\n",
    "#    Index(['feature 1', 'feature 2', 'feature 3', 'feature 4', 'feature 5', 'label'], dtype='object')\n",
    "#################################################\n",
    "\n",
    "# Perform one-hot encoding\n",
    "#df1 = pd.get_dummies(df1, columns=['feature 5'])\n",
    "\n",
    "# Print the new features of df1\n",
    "#print(df1.columns)\n",
    "\n",
    "# Print first five rows of df1\n",
    "#print(df1.head())\n",
    "\n",
    "#################################################\n",
    "#Index(['feature 1', 'feature 2', 'feature 3', 'feature 4', 'label', 'feature 5_female', 'feature 5_male'], dtype='object')\n",
    "#       feature 1  feature 2  feature 3  feature 4  label  feature 5_female  feature 5_male\n",
    "#    0    29.0000          0          0   211.3375      1                 1               0\n",
    "#    1     0.9167          1          2   151.5500      1                 0               1\n",
    "#    2     2.0000          1          2   151.5500      0                 1               0\n",
    "#    3    30.0000          1          2   151.5500      0                 0               1\n",
    "#    4    25.0000          1          2   151.5500      0                 1               0\n",
    "#################################################\n",
    "#You have successfully performed one-hot encoding on this dataframe.\n",
    "#Notice how the feature 5 (which represents sex) gets converted to\n",
    "#two features feature 5_male and feature 5_female. With one-hot\n",
    "#encoding performed, df1 only contains numerical features and can\n",
    "#now be fed into any standard ML model!"
   ],
   "metadata": {
    "collapsed": false,
    "pycharm": {
     "name": "#%%\n"
    }
   }
  },
  {
   "cell_type": "markdown",
   "source": [
    "**Basic feature extraction**\n",
    "___\n",
    "- number of characters\n",
    "- number of words\n",
    "- average word length\n",
    "- special features\n",
    "    - e.g., number of hashtags in a tweet\n",
    "- other features\n",
    "    - number of sentences\n",
    "    - number of paragraphs\n",
    "    - words starting with an uppercase\n",
    "    - all-capital words\n",
    "    - numeric quantities\n",
    "___"
   ],
   "metadata": {
    "collapsed": false
   }
  },
  {
   "cell_type": "code",
   "execution_count": null,
   "outputs": [],
   "source": [
    "#Character count of Russian tweets\n",
    "\n",
    "#In this exercise, you have been given a dataframe tweets which\n",
    "#contains some tweets associated with Russia's Internet Research\n",
    "#Agency and compiled by FiveThirtyEight.\n",
    "\n",
    "#Your task is to create a new feature 'char_count' in tweets which\n",
    "#computes the number of characters for each tweet. Also, compute the\n",
    "#average length of each tweet. The tweets are available in the\n",
    "#content feature of tweets.\n",
    "\n",
    "# Create a feature char_count\n",
    "#tweets['char_count'] = tweets['content'].apply(len)\n",
    "\n",
    "# Print the average character count\n",
    "#print(tweets['char_count'].mean())\n",
    "\n",
    "#################################################\n",
    "#<script.py> output:\n",
    "#    103.462\n",
    "#################################################\n",
    "#Notice that the average character count of these tweets is\n",
    "#approximately 104, which is much higher than the overall average\n",
    "#tweet length of around 40 characters. Depending on what you're\n",
    "#working on, this may be something worth investigating into. For\n",
    "#your information, there is research that indicates that fake news\n",
    "#articles tend to have longer titles! Therefore, even extremely\n",
    "#basic features such as character counts can prove to be very useful\n",
    "#in certain applications."
   ],
   "metadata": {
    "collapsed": false,
    "pycharm": {
     "name": "#%%\n"
    }
   }
  },
  {
   "cell_type": "code",
   "execution_count": null,
   "outputs": [],
   "source": [
    "#Word count of TED talks\n",
    "\n",
    "#ted is a dataframe that contains the transcripts of 500 TED talks.\n",
    "#Your job is to compute a new feature word_count which contains the\n",
    "#approximate number of words for each talk. Consequently, you also\n",
    "#need to compute the average word count of the talks. The transcripts\n",
    "#are available as the transcript feature in ted.\n",
    "\n",
    "#In order to complete this task, you will need to define a function\n",
    "#count_words that takes in a string as an argument and returns the\n",
    "#number of words in the string. You will then need to apply this\n",
    "#function to the transcript feature of ted to create the new feature\n",
    "#word_count and compute its mean.\n",
    "\n",
    "# Function that returns number of words in a string\n",
    "#def count_words(string):\n",
    "\t# Split the string into words\n",
    "#    words = string.split()\n",
    "\n",
    "    # Return the number of words\n",
    "#    return len(words)\n",
    "\n",
    "# Create a new feature word_count\n",
    "#ted['word_count'] = ted['transcript'].apply(count_words)\n",
    "\n",
    "# Print the average word count of the talks\n",
    "#print(ted['word_count'].mean())\n",
    "\n",
    "#################################################\n",
    "#<script.py> output:\n",
    "#   1987.1\n",
    "#################################################\n",
    "#You now know how to compute the number of words in a given piece\n",
    "#of text. Also, notice that the average length of a talk is close\n",
    "#to 2000 words. You can use the word_count feature to compute its\n",
    "#correlation with other variables such as number of views, number\n",
    "#of comments, etc. and derive extremely interesting insights about\n",
    "#TED."
   ],
   "metadata": {
    "collapsed": false,
    "pycharm": {
     "name": "#%%\n"
    }
   }
  },
  {
   "cell_type": "code",
   "execution_count": null,
   "outputs": [],
   "source": [
    "#Hashtags and mentions in Russian tweets\n",
    "\n",
    "#Let's revisit the tweets dataframe containing the Russian tweets.\n",
    "#In this exercise, you will compute the number of hashtags and\n",
    "#mentions in each tweet by defining two functions count_hashtags()\n",
    "#and count_mentions() respectively and applying them to the content\n",
    "#feature of tweets.\n",
    "\n",
    "#In case you don't recall, the tweets are contained in the content\n",
    "#feature of tweets.\n",
    "\n",
    "# Function that returns numner of hashtags in a string\n",
    "#def count_hashtags(string):\n",
    "\t# Split the string into words\n",
    "#    words = string.split()\n",
    "\n",
    "    # Create a list of words that are hashtags\n",
    "#    hashtags = [word for word in words if word.startswith('#')]\n",
    "\n",
    "    # Return number of hashtags\n",
    "#    return(len(hashtags))\n",
    "\n",
    "# Create a feature hashtag_count and display distribution\n",
    "#tweets['hashtag_count'] = tweets['content'].apply(count_hashtags)\n",
    "#tweets['hashtag_count'].hist()\n",
    "#plt.title('Hashtag count distribution')\n",
    "#plt.show()"
   ],
   "metadata": {
    "collapsed": false,
    "pycharm": {
     "name": "#%%\n"
    }
   }
  },
  {
   "cell_type": "markdown",
   "source": [
    "![_images/19.1.svg](_images/19.1.svg)"
   ],
   "metadata": {
    "collapsed": false
   }
  },
  {
   "cell_type": "code",
   "execution_count": null,
   "outputs": [],
   "source": [
    "# Function that returns number of mentions in a string\n",
    "#def count_mentions(string):\n",
    "\t# Split the string into words\n",
    "#    words = string.split()\n",
    "\n",
    "    # Create a list of words that are mentions\n",
    "#    mentions = [word for word in words if word.startswith('@')]\n",
    "\n",
    "    # Return number of mentions\n",
    "#    return(len(mentions))\n",
    "\n",
    "# Create a feature mention_count and display distribution\n",
    "#tweets['mention_count'] = tweets['content'].apply(count_mentions)\n",
    "#tweets['mention_count'].hist()\n",
    "#plt.title('Mention count distribution')\n",
    "#plt.show()"
   ],
   "metadata": {
    "collapsed": false,
    "pycharm": {
     "name": "#%%\n"
    }
   }
  },
  {
   "cell_type": "markdown",
   "source": [
    "![_images/19.2.svg](_images/19.2.svg)\n",
    "You now have a good grasp of how to compute various types of\n",
    "summary features. In the next lesson, we will learn about more\n",
    "advanced features that are capable of capturing more nuanced\n",
    "information beyond simple word and character counts."
   ],
   "metadata": {
    "collapsed": false
   }
  },
  {
   "cell_type": "markdown",
   "source": [
    "**Readability tests**\n",
    "___\n",
    "- overview of readability tests\n",
    "    - determine readability of an English passage\n",
    "    - scale ranging from primary school up to college graduate level\n",
    "    - a mathematical formula utilizing word, syllable, and sentence count\n",
    "    - used in fake news and opinion spam detection\n",
    "- readability text examples\n",
    "    - **Flesch reading ease**\n",
    "        - greater the average sentence length, harder text is to read\n",
    "        - greater the average number of syllables in a word, harder the text is to read\n",
    "        - higher the score, greater the readability\n",
    "        ![_images/19.1.PNG](_images/19.1.PNG)\n",
    "    - **Gunning fog index**\n",
    "        - developed in 1954\n",
    "        - also dependent on average sentence length\n",
    "        - greater the percentage of complex words, harder the text is to read\n",
    "        - higher the index, lesser the readability\n",
    "        ![_images/19.2.PNG](_images/19.2.PNG)\n",
    "    - Simple Measure of Gobbledygook (SMOG)\n",
    "    - Dale-Chall score\n",
    "- the textatistic library\n",
    "    - not available for Anaconda/Windows\n",
    "    - requires pip install (5GB Visual C++ build tools requirement)\n",
    "___"
   ],
   "metadata": {
    "collapsed": false
   }
  },
  {
   "cell_type": "code",
   "execution_count": 1,
   "outputs": [
    {
     "name": "stdout",
     "output_type": "stream",
     "text": [
      "The Flesch Reading Ease is 81.67\n"
     ]
    }
   ],
   "source": [
    "#Readability of 'The Myth of Sisyphus'\n",
    "\n",
    "#In this exercise, you will compute the Flesch reading ease score\n",
    "#for Albert Camus' famous essay The Myth of Sisyphus. We will then\n",
    "#interpret the value of this score as explained in the video and\n",
    "#try to determine the reading level of the essay.\n",
    "\n",
    "#The entire essay is in the form of a string and is available as\n",
    "#sisyphus_essay.\n",
    "\n",
    "sisyphus_essay = '\\nThe gods had condemned Sisyphus to ceaselessly rolling a rock to the top of a mountain, whence the stone would fall back of its own weight. They had thought with some reason that there is no more dreadful punishment than futile and hopeless labor. If one believes Homer, Sisyphus was the wisest and most prudent of mortals. According to another tradition, however, he was disposed to practice the profession of highwayman. I see no contradiction in this. Opinions differ as to the reasons why he became the futile laborer of the underworld. To begin with, he is accused of a certain levity in regard to the gods. He stole their secrets. Egina, the daughter of Esopus, was carried off by Jupiter. The father was shocked by that disappearance and complained to Sisyphus. He, who knew of the abduction, offered to tell about it on condition that Esopus would give water to the citadel of Corinth. To the celestial thunderbolts he preferred the benediction of water. He was punished for this in the underworld. Homer tells us also that Sisyphus had put Death in chains. Pluto could not endure the sight of his deserted, silent empire. He dispatched the god of war, who liberated Death from the hands of her conqueror. It is said that Sisyphus, being near to death, rashly wanted to test his wife\\'s love. He ordered her to cast his unburied body into the middle of the public square. Sisyphus woke up in the underworld. And there, annoyed by an obedience so contrary to human love, he obtained from Pluto permission to return to earth in order to chastise his wife. But when he had seen again the face of this world, enjoyed water and sun, warm stones and the sea, he no longer wanted to go back to the infernal darkness. Recalls, signs of anger, warnings were of no avail. Many years more he lived facing the curve of the gulf, the sparkling sea, and the smiles of earth. A decree of the gods was necessary. Mercury came and seized the impudent man by the collar and, snatching him from his joys, lead him forcibly back to the underworld, where his rock was ready for him. You have already grasped that Sisyphus is the absurd hero. He is, as much through his passions as through his torture. His scorn of the gods, his hatred of death, and his passion for life won him that unspeakable penalty in which the whole being is exerted toward accomplishing nothing. This is the price that must be paid for the passions of this earth. Nothing is told us about Sisyphus in the underworld. Myths are made for the imagination to breathe life into them. As for this myth, one sees merely the whole effort of a body straining to raise the huge stone, to roll it, and push it up a slope a hundred times over; one sees the face screwed up, the cheek tight against the stone, the shoulder bracing the clay-covered mass, the foot wedging it, the fresh start with arms outstretched, the wholly human security of two earth-clotted hands. At the very end of his long effort measured by skyless space and time without depth, the purpose is achieved. Then Sisyphus watches the stone rush down in a few moments toward tlower world whence he will have to push it up again toward the summit. He goes back down to the plain. It is during that return, that pause, that Sisyphus interests me. A face that toils so close to stones is already stone itself! I see that man going back down with a heavy yet measured step toward the torment of which he will never know the end. That hour like a breathing-space which returns as surely as his suffering, that is the hour of consciousness. At each of those moments when he leaves the heights and gradually sinks toward the lairs of the gods, he is superior to his fate. He is stronger than his rock. If this myth is tragic, that is because its hero is conscious. Where would his torture be, indeed, if at every step the hope of succeeding upheld him? The workman of today works everyday in his life at the same tasks, and his fate is no less absurd. But it is tragic only at the rare moments when it becomes conscious. Sisyphus, proletarian of the gods, powerless and rebellious, knows the whole extent of his wretched condition: it is what he thinks of during his descent. The lucidity that was to constitute his torture at the same time crowns his victory. There is no fate that can not be surmounted by scorn. If the descent is thus sometimes performed in sorrow, it can also take place in joy. This word is not too much. Again I fancy Sisyphus returning toward his rock, and the sorrow was in the beginning. When the images of earth cling too tightly to memory, when the call of happiness becomes too insistent, it happens that melancholy arises in man\\'s heart: this is the rock\\'s victory, this is the rock itself. The boundless grief is too heavy to bear. These are our nights of Gethsemane. But crushing truths perish from being acknowledged. Thus, Edipus at the outset obeys fate without knowing it. But from the moment he knows, his tragedy begins. Yet at the same moment, blind and desperate, he realizes that the only bond linking him to the world is the cool hand of a girl. Then a tremendous remark rings out: \"Despite so many ordeals, my advanced age and the nobility of my soul make me conclude that all is well.\" Sophocles\\' Edipus, like Dostoevsky\\'s Kirilov, thus gives the recipe for the absurd victory. Ancient wisdom confirms modern heroism. One does not discover the absurd without being tempted to write a manual of happiness. \"What!---by such narrow ways--?\" There is but one world, however. Happiness and the absurd are two sons of the same earth. They are inseparable. It would be a mistake to say that happiness necessarily springs from the absurd. Discovery. It happens as well that the felling of the absurd springs from happiness. \"I conclude that all is well,\" says Edipus, and that remark is sacred. It echoes in the wild and limited universe of man. It teaches that all is not, has not been, exhausted. It drives out of this world a god who had come into it with dissatisfaction and a preference for futile suffering. It makes of fate a human matter, which must be settled among men. All Sisyphus\\' silent joy is contained therein. His fate belongs to him. His rock is a thing. Likewise, the absurd man, when he contemplates his torment, silences all the idols. In the universe suddenly restored to its silence, the myriad wondering little voices of the earth rise up. Unconscious, secret calls, invitations from all the faces, they are the necessary reverse and price of victory. There is no sun without shadow, and it is essential to know the night. The absurd man says yes and his efforts will henceforth be unceasing. If there is a personal fate, there is no higher destiny, or at least there is, but one which he concludes is inevitable and despicable. For the rest, he knows himself to be the master of his days. At that subtle moment when man glances backward over his life, Sisyphus returning toward his rock, in that slight pivoting he contemplates that series of unrelated actions which become his fate, created by him, combined under his memory\\'s eye and soon sealed by his death. Thus, convinced of the wholly human origin of all that is human, a blind man eager to see who knows that the night has no end, he is still on the go. The rock is still rolling. I leave Sisyphus at the foot of the mountain! One always finds one\\'s burden again. But Sisyphus teaches the higher fidelity that negates the gods and raises rocks. He too concludes that all is well. This universe henceforth without a master seems to him neither sterile nor futile. Each atom of that stone, each mineral flake of that night filled mountain, in itself forms a world. The struggle itself toward the heights is enough to fill a man\\'s heart. One must imagine Sisyphus happy.\\n'\n",
    "\n",
    "# Import Textatistic\n",
    "from textatistic import Textatistic\n",
    "\n",
    "# Compute the readability scores\n",
    "readability_scores = Textatistic(sisyphus_essay).scores\n",
    "\n",
    "# Print the flesch reading ease score\n",
    "flesch = readability_scores['flesch_score']\n",
    "print(\"The Flesch Reading Ease is %.2f\" % (flesch))\n",
    "\n",
    "#################################################\n",
    "#You now know to compute the Flesch reading ease score for a\n",
    "#given body of text. Notice that the score for this essay is\n",
    "#approximately 81.67. This indicates that the essay is at the\n",
    "#readability level of a 6th grade American student."
   ],
   "metadata": {
    "collapsed": false,
    "pycharm": {
     "name": "#%%\n"
    }
   }
  },
  {
   "cell_type": "code",
   "execution_count": 2,
   "outputs": [
    {
     "name": "stdout",
     "output_type": "stream",
     "text": [
      "[14.436002482929858, 20.735401069518716, 11.085587583148559, 5.926785009861934]\n"
     ]
    }
   ],
   "source": [
    "#Readability of various publications\n",
    "\n",
    "#In this exercise, you have been given excerpts of articles from\n",
    "#four publications. Your task is to compute the readability of these\n",
    "#excerpts using the Gunning fog index and consequently, determine\n",
    "#the relative difficulty of reading these publications.\n",
    "\n",
    "#The excerpts are available as the following strings:\n",
    "\n",
    "#forbes- An excerpt from an article from Forbes magazine on the\n",
    "#Chinese social credit score system.\n",
    "\n",
    "#harvard_law- An excerpt from a book review published in Harvard\n",
    "#Law Review.\n",
    "\n",
    "#r_digest- An excerpt from a Reader's Digest article on flight\n",
    "#turbulence.\n",
    "\n",
    "#time_kids - An excerpt from an article on the ill effects of salt\n",
    "#consumption published in TIME for Kids.\n",
    "\n",
    "forbes = '\\nThe idea is to create more transparency about companies and individuals that are breaking the law or are non-compliant with official obligations and incentivize the right behaviors with the overall goal of improving governance and market order. The Chinese Communist Party intends the social credit score system to “allow the trustworthy to roam freely under heaven while making it hard for the discredited to take a single step.” Even though the system is still under development it currently plays out in real life in myriad ways for private citizens, businesses and government officials. Generally, higher credit scores give people a variety of advantages. Individuals are often given perks such as discounted energy bills and access or better visibility on dating websites. Often, those with higher social credit scores are able to forgo deposits on rental properties, bicycles, and umbrellas. They can even get better travel deals. In addition, Chinese hospitals are currently experimenting with social credit scores. A social credit score above 650 at one hospital allows an individual to see a doctor without lining up to pay.\\n'\n",
    "harvard_law = '\\nIn his important new book, The Schoolhouse Gate: Public Education, the Supreme Court, and the Battle for the American Mind, Professor Justin Driver reminds us that private controversies that arise within the confines of public schools are part of a broader historical arc — one that tracks a range of cultural and intellectual flashpoints in U.S. history. Moreover, Driver explains, these tensions are reflected in constitutional law, and indeed in the history and jurisprudence of the Supreme Court. As such, debates that arise in the context of public education are not simply about the conflict between academic freedom, public safety, and student rights. They mirror our persistent struggle to reconcile our interest in fostering a pluralistic society, rooted in the ideal of individual autonomy, with our desire to cultivate a sense of national unity and shared identity (or, put differently, our effort to reconcile our desire to forge common norms of citizenship with our fear of state indoctrination and overencroachment). In this regard, these debates reflect the unique role that both the school and the courts have played in defining and enforcing the boundaries of American citizenship. \\n'\n",
    "r_digest = '\\nThis week 30 passengers were reportedly injured when a Turkish Airlines flight landing at John F. Kennedy International Airport encountered turbulent conditions. Injuries included bruises, bloody noses, and broken bones. In mid-February, a Delta Airlines flight made an emergency landing to assist three passengers in getting to the nearest hospital after some sudden and unexpected turbulence. Doctors treated 15 passengers after a flight from Miami to Buenos Aires last October for everything from severe bruising to nosebleeds after the plane caught some rough winds over Brazil. In 2016, 23 passengers were injured on a United Airlines flight after severe turbulence threw people into the cabin ceiling. The list goes on. Turbulence has been become increasingly common, with painful outcomes for those on board. And more costly to the airlines, too. Forbes estimates that the cost of turbulence has risen to over $500 million each year in damages and delays. And there are no signs the increase in turbulence will be stopping anytime soon.\\n'\n",
    "time_kids = '\\nThat, of course, is easier said than done. The more you eat salty foods, the more you develop a taste for them. The key to changing your diet is to start small. “Small changes in sodium in foods are not usually noticed,” Quader says. Eventually, she adds, the effort will reset a kid’s taste buds so the salt cravings stop. Bridget Murphy is a dietitian at New York University’s Langone Medical Center. She suggests kids try adding spices to their food instead of salt. Eating fruits and veggies and cutting back on packaged foods will also help. Need a little inspiration? Murphy offers this tip: Focus on the immediate effects of a diet that is high in sodium. High blood pressure can make it difficult to be active. “Do you want to be able to think clearly and perform well in school?” she asks. “If you’re an athlete, do you want to run faster?” If you answered yes to these questions, then it’s time to shake the salt habit.\\n'\n",
    "\n",
    "\n",
    "# Import Textatistic\n",
    "from textatistic import Textatistic\n",
    "\n",
    "# List of excerpts\n",
    "excerpts = [forbes, harvard_law, r_digest, time_kids]\n",
    "\n",
    "# Loop through excerpts and compute gunning fog index\n",
    "gunning_fog_scores = []\n",
    "for excerpt in excerpts:\n",
    "  readability_scores = Textatistic(excerpt).scores\n",
    "  gunning_fog = readability_scores['gunningfog_score']\n",
    "  gunning_fog_scores.append(gunning_fog)\n",
    "\n",
    "# Print the gunning fog indices\n",
    "print(gunning_fog_scores)\n",
    "\n",
    "#################################################\n",
    "#You are now adept at computing readability scores for various\n",
    "#pieces of text. Notice that the Harvard Law Review excerpt has\n",
    "#the highest Gunning fog index; indicating that it can be\n",
    "#comprehended only by readers who have graduated college. On the\n",
    "#other hand, the Time for Kids article, intended for children, has\n",
    "#a much lower fog index and can be comprehended by 5th grade students."
   ],
   "metadata": {
    "collapsed": false,
    "pycharm": {
     "name": "#%%\n"
    }
   }
  },
  {
   "cell_type": "markdown",
   "source": [
    "**Tokenization and Lemmatization**\n",
    "___\n",
    "- making text machine friendly\n",
    "    - text preprocessing techniques\n",
    "        - converting words into lowercase\n",
    "        - removing leading and trailing whitespaces\n",
    "        - removing punctuation\n",
    "        - removing stopwords\n",
    "        - expanding contractions\n",
    "        - removing special characters (numbers, emojis, etc.)\n",
    "- tokenization\n",
    "- lemmatization\n",
    "    - convert word into its base form\n",
    "        - am, is, are -> be\n",
    "        - reducing, reduces, reduced, reduction -> reduce\n",
    "        - n't -> not\n",
    "        - 've -> have\n",
    "- both tokenization and lemmatization can be done using spaCy library\n",
    "___"
   ],
   "metadata": {
    "collapsed": false
   }
  },
  {
   "cell_type": "code",
   "execution_count": 3,
   "outputs": [
    {
     "name": "stdout",
     "output_type": "stream",
     "text": [
      "['Four', 'score', 'and', 'seven', 'years', 'ago', 'our', 'fathers', 'brought', 'forth', 'on', 'this', 'continent', ',', 'a', 'new', 'nation', ',', 'conceived', 'in', 'Liberty', ',', 'and', 'dedicated', 'to', 'the', 'proposition', 'that', 'all', 'men', 'are', 'created', 'equal', '.', 'Now', 'we', \"'re\", 'engaged', 'in', 'a', 'great', 'civil', 'war', ',', 'testing', 'whether', 'that', 'nation', ',', 'or', 'any', 'nation', 'so', 'conceived', 'and', 'so', 'dedicated', ',', 'can', 'long', 'endure', '.', 'We', \"'re\", 'met', 'on', 'a', 'great', 'battlefield', 'of', 'that', 'war', '.', 'We', \"'ve\", 'come', 'to', 'dedicate', 'a', 'portion', 'of', 'that', 'field', ',', 'as', 'a', 'final', 'resting', 'place', 'for', 'those', 'who', 'here', 'gave', 'their', 'lives', 'that', 'that', 'nation', 'might', 'live', '.', 'It', \"'s\", 'altogether', 'fitting', 'and', 'proper', 'that', 'we', 'should', 'do', 'this', '.', 'But', ',', 'in', 'a', 'larger', 'sense', ',', 'we', 'ca', \"n't\", 'dedicate', '-', 'we', 'can', 'not', 'consecrate', '-', 'we', 'can', 'not', 'hallow', '-', 'this', 'ground', '.', 'The', 'brave', 'men', ',', 'living', 'and', 'dead', ',', 'who', 'struggled', 'here', ',', 'have', 'consecrated', 'it', ',', 'far', 'above', 'our', 'poor', 'power', 'to', 'add', 'or', 'detract', '.', 'The', 'world', 'will', 'little', 'note', ',', 'nor', 'long', 'remember', 'what', 'we', 'say', 'here', ',', 'but', 'it', 'can', 'never', 'forget', 'what', 'they', 'did', 'here', '.', 'It', 'is', 'for', 'us', 'the', 'living', ',', 'rather', ',', 'to', 'be', 'dedicated', 'here', 'to', 'the', 'unfinished', 'work', 'which', 'they', 'who', 'fought', 'here', 'have', 'thus', 'far', 'so', 'nobly', 'advanced', '.', 'It', \"'s\", 'rather', 'for', 'us', 'to', 'be', 'here', 'dedicated', 'to', 'the', 'great', 'task', 'remaining', 'before', 'us', '-', 'that', 'from', 'these', 'honored', 'dead', 'we', 'take', 'increased', 'devotion', 'to', 'that', 'cause', 'for', 'which', 'they', 'gave', 'the', 'last', 'full', 'measure', 'of', 'devotion', '-', 'that', 'we', 'here', 'highly', 'resolve', 'that', 'these', 'dead', 'shall', 'not', 'have', 'died', 'in', 'vain', '-', 'that', 'this', 'nation', ',', 'under', 'God', ',', 'shall', 'have', 'a', 'new', 'birth', 'of', 'freedom', '-', 'and', 'that', 'government', 'of', 'the', 'people', ',', 'by', 'the', 'people', ',', 'for', 'the', 'people', ',', 'shall', 'not', 'perish', 'from', 'the', 'earth', '.']\n"
     ]
    }
   ],
   "source": [
    "#Tokenizing the Gettysburg Address\n",
    "\n",
    "#In this exercise, you will be tokenizing one of the most famous\n",
    "#speeches of all time: the Gettysburg Address delivered by American\n",
    "#President Abraham Lincoln during the American Civil War.\n",
    "\n",
    "#The entire speech is available as a string named gettysburg.\n",
    "\n",
    "gettysburg = \"Four score and seven years ago our fathers brought forth on this continent, a new nation, conceived in Liberty, and dedicated to the proposition that all men are created equal. Now we're engaged in a great civil war, testing whether that nation, or any nation so conceived and so dedicated, can long endure. We're met on a great battlefield of that war. We've come to dedicate a portion of that field, as a final resting place for those who here gave their lives that that nation might live. It's altogether fitting and proper that we should do this. But, in a larger sense, we can't dedicate - we can not consecrate - we can not hallow - this ground. The brave men, living and dead, who struggled here, have consecrated it, far above our poor power to add or detract. The world will little note, nor long remember what we say here, but it can never forget what they did here. It is for us the living, rather, to be dedicated here to the unfinished work which they who fought here have thus far so nobly advanced. It's rather for us to be here dedicated to the great task remaining before us - that from these honored dead we take increased devotion to that cause for which they gave the last full measure of devotion - that we here highly resolve that these dead shall not have died in vain - that this nation, under God, shall have a new birth of freedom - and that government of the people, by the people, for the people, shall not perish from the earth.\"\n",
    "\n",
    "import spacy\n",
    "\n",
    "# Load the en_core_web_sm model\n",
    "nlp = spacy.load('en_core_web_sm')\n",
    "\n",
    "# Create a Doc object\n",
    "doc = nlp(gettysburg)\n",
    "\n",
    "# Generate the tokens\n",
    "tokens = [token.text for token in doc]\n",
    "print(tokens)\n",
    "\n",
    "#################################################\n",
    "#You now know how to tokenize a piece of text. In the next exercise,\n",
    "#we will perform similar steps and conduct lemmatization."
   ],
   "metadata": {
    "collapsed": false,
    "pycharm": {
     "name": "#%%\n"
    }
   }
  },
  {
   "cell_type": "code",
   "execution_count": 5,
   "outputs": [
    {
     "name": "stdout",
     "output_type": "stream",
     "text": [
      "Four score and seven years ago our fathers brought forth on this continent, a new nation, conceived in Liberty, and dedicated to the proposition that all men are created equal. Now we're engaged in a great civil war, testing whether that nation, or any nation so conceived and so dedicated, can long endure. We're met on a great battlefield of that war. We've come to dedicate a portion of that field, as a final resting place for those who here gave their lives that that nation might live. It's altogether fitting and proper that we should do this. But, in a larger sense, we can't dedicate - we can not consecrate - we can not hallow - this ground. The brave men, living and dead, who struggled here, have consecrated it, far above our poor power to add or detract. The world will little note, nor long remember what we say here, but it can never forget what they did here. It is for us the living, rather, to be dedicated here to the unfinished work which they who fought here have thus far so nobly advanced. It's rather for us to be here dedicated to the great task remaining before us - that from these honored dead we take increased devotion to that cause for which they gave the last full measure of devotion - that we here highly resolve that these dead shall not have died in vain - that this nation, under God, shall have a new birth of freedom - and that government of the people, by the people, for the people, shall not perish from the earth.\n",
      "four score and seven year ago -PRON- father bring forth on this continent , a new nation , conceive in Liberty , and dedicate to the proposition that all man be create equal . now -PRON- be engage in a great civil war , test whether that nation , or any nation so conceive and so dedicated , can long endure . -PRON- be meet on a great battlefield of that war . -PRON- have come to dedicate a portion of that field , as a final resting place for those who here give -PRON- life that that nation may live . -PRON- be altogether fitting and proper that -PRON- should do this . but , in a large sense , -PRON- can not dedicate - -PRON- can not consecrate - -PRON- can not hallow - this ground . the brave man , living and dead , who struggle here , have consecrate -PRON- , far above -PRON- poor power to add or detract . the world will little note , nor long remember what -PRON- say here , but -PRON- can never forget what -PRON- do here . -PRON- be for -PRON- the living , rather , to be dedicate here to the unfinished work which -PRON- who fight here have thus far so nobly advanced . -PRON- be rather for -PRON- to be here dedicated to the great task remain before -PRON- - that from these honor dead -PRON- take increase devotion to that cause for which -PRON- give the last full measure of devotion - that -PRON- here highly resolve that these dead shall not have die in vain - that this nation , under God , shall have a new birth of freedom - and that government of the people , by the people , for the people , shall not perish from the earth .\n"
     ]
    }
   ],
   "source": [
    "#Lemmatizing the Gettysburg address\n",
    "\n",
    "#In this exercise, we will perform lemmatization on the same\n",
    "#gettysburg address from before.\n",
    "\n",
    "#However, this time, we will also take a look at the speech, before\n",
    "#and after lemmatization, and try to adjudge the kind of changes\n",
    "#that take place to make the piece more machine friendly.\n",
    "\n",
    "gettysburg = \"Four score and seven years ago our fathers brought forth on this continent, a new nation, conceived in Liberty, and dedicated to the proposition that all men are created equal. Now we're engaged in a great civil war, testing whether that nation, or any nation so conceived and so dedicated, can long endure. We're met on a great battlefield of that war. We've come to dedicate a portion of that field, as a final resting place for those who here gave their lives that that nation might live. It's altogether fitting and proper that we should do this. But, in a larger sense, we can't dedicate - we can not consecrate - we can not hallow - this ground. The brave men, living and dead, who struggled here, have consecrated it, far above our poor power to add or detract. The world will little note, nor long remember what we say here, but it can never forget what they did here. It is for us the living, rather, to be dedicated here to the unfinished work which they who fought here have thus far so nobly advanced. It's rather for us to be here dedicated to the great task remaining before us - that from these honored dead we take increased devotion to that cause for which they gave the last full measure of devotion - that we here highly resolve that these dead shall not have died in vain - that this nation, under God, shall have a new birth of freedom - and that government of the people, by the people, for the people, shall not perish from the earth.\"\n",
    "\n",
    "# Print the gettysburg address\n",
    "print(gettysburg)\n",
    "\n",
    "import spacy\n",
    "\n",
    "# Load the en_core_web_sm model\n",
    "nlp = spacy.load('en_core_web_sm')\n",
    "\n",
    "# Create a Doc object\n",
    "doc = nlp(gettysburg)\n",
    "\n",
    "# Generate lemmas\n",
    "lemmas = [token.lemma_ for token in doc]\n",
    "\n",
    "# Convert lemmas into a string\n",
    "print(' '.join(lemmas))\n",
    "\n",
    "#################################################\n",
    "#You're now proficient at performing lemmatization using spaCy.\n",
    "#Observe the lemmatized version of the speech. It isn't very\n",
    "#readable to humans but it is in a much more convenient format for\n",
    "#a machine to process."
   ],
   "metadata": {
    "collapsed": false,
    "pycharm": {
     "name": "#%%\n"
    }
   }
  },
  {
   "cell_type": "markdown",
   "source": [
    "**Text cleaning**\n",
    "___\n",
    "- text cleaning techniques\n",
    "    - unnecessary whitespaces and escape sequences\n",
    "    - punctuations\n",
    "    - special characters (numbers, emojis, etc.)\n",
    "    - stopwords\n",
    "- .isalpha() method\n",
    "    - boolean\n",
    "    - remove numbers, punctuation, emojis\n",
    "    - caution: abbreviations or proper nouns with words would be removed\n",
    "- stopwords\n",
    "    - words that occur extremely commonly\n",
    "    - e.g. articles, be verbs, pronouns, etc.\n",
    "- other text preprocessing techniques\n",
    "    - removing html/xml tags\n",
    "    - replacing accented characters\n",
    "    - correcting spelling errors\n",
    "- a word of caution\n",
    "    - always use only those text preprocessing techniques that are relevant to your application\n",
    "___"
   ],
   "metadata": {
    "collapsed": false
   }
  },
  {
   "cell_type": "code",
   "execution_count": 6,
   "outputs": [
    {
     "name": "stdout",
     "output_type": "stream",
     "text": [
      "century politic witness alarm rise populism Europe warning sign come UK Brexit Referendum vote swinge way Leave follow stupendous victory billionaire Donald Trump President United States November Europe steady rise populist far right party capitalize Europe Immigration Crisis raise nationalist anti europe sentiment instance include Alternative Germany AfD win seat enter Bundestag upset Germany political order time Second World War success Star Movement Italy surge popularity neo nazism neo fascism country Hungary Czech Republic Poland Austria\n"
     ]
    }
   ],
   "source": [
    "#Cleaning a blog post\n",
    "\n",
    "#In this exercise, you have been given an excerpt from a blog post.\n",
    "#Your task is to clean this text into a more machine friendly\n",
    "#format. This will involve converting to lowercase, lemmatization\n",
    "#and removing stopwords, punctuations and non-alphabetic characters.\n",
    "\n",
    "#The excerpt is available as a string blog and has been printed\n",
    "#to the console. The list of stopwords are available as stopwords.\n",
    "\n",
    "blog = '\\nTwenty-first-century politics has witnessed an alarming rise of populism in the U.S. and Europe. The first warning signs came with the UK Brexit Referendum vote in 2016 swinging in the way of Leave. This was followed by a stupendous victory by billionaire Donald Trump to become the 45th President of the United States in November 2016. Since then, Europe has seen a steady rise in populist and far-right parties that have capitalized on Europe’s Immigration Crisis to raise nationalist and anti-Europe sentiments. Some instances include Alternative for Germany (AfD) winning 12.6% of all seats and entering the Bundestag, thus upsetting Germany’s political order for the first time since the Second World War, the success of the Five Star Movement in Italy and the surge in popularity of neo-nazism and neo-fascism in countries such as Hungary, Czech Republic, Poland and Austria.\\n'\n",
    "stopwords = ['fifteen', 'noone', 'whereupon', 'could', 'ten', 'all', 'please', 'indeed', 'whole', 'beside', 'therein', 'using', 'but', 'very', 'already', 'about', 'no', 'regarding', 'afterwards', 'front', 'go', 'in', 'make', 'three', 'here', 'what', 'without', 'yourselves', 'which', 'nothing', 'am', 'between', 'along', 'herein', 'sometimes', 'did', 'as', 'within', 'elsewhere', 'was', 'forty', 'becoming', 'how', 'will', 'other', 'bottom', 'these', 'amount', 'across', 'the', 'than', 'first', 'namely', 'may', 'none', 'anyway', 'again', 'eleven', 'his', 'meanwhile', 'name', 're', 'from', 'some', 'thru', 'upon', 'whither', 'he', 'such', 'down', 'my', 'often', 'whether', 'made', 'while', 'empty', 'two', 'latter', 'whatever', 'cannot', 'less', 'many', 'you', 'ours', 'done', 'thus', 'since', 'everything', 'for', 'more', 'unless', 'former', 'anyone', 'per', 'seeming', 'hereafter', 'on', 'yours', 'always', 'due', 'last', 'alone', 'one', 'something', 'twenty', 'until', 'latterly', 'seems', 'were', 'where', 'eight', 'ourselves', 'further', 'themselves', 'therefore', 'they', 'whenever', 'after', 'among', 'when', 'at', 'through', 'put', 'thereby', 'then', 'should', 'formerly', 'third', 'who', 'this', 'neither', 'others', 'twelve', 'also', 'else', 'seemed', 'has', 'ever', 'someone', 'its', 'that', 'does', 'sixty', 'why', 'do', 'whereas', 'are', 'either', 'hereupon', 'rather', 'because', 'might', 'those', 'via', 'hence', 'itself', 'show', 'perhaps', 'various', 'during', 'otherwise', 'thereafter', 'yourself', 'become', 'now', 'same', 'enough', 'been', 'take', 'their', 'seem', 'there', 'next', 'above', 'mostly', 'once', 'a', 'top', 'almost', 'six', 'every', 'nobody', 'any', 'say', 'each', 'them', 'must', 'she', 'throughout', 'whence', 'hundred', 'not', 'however', 'together', 'several', 'myself', 'i', 'anything', 'somehow', 'or', 'used', 'keep', 'much', 'thereupon', 'ca', 'just', 'behind', 'can', 'becomes', 'me', 'had', 'only', 'back', 'four', 'somewhere', 'if', 'by', 'whereafter', 'everywhere', 'beforehand', 'well', 'doing', 'everyone', 'nor', 'five', 'wherein', 'so', 'amongst', 'though', 'still', 'move', 'except', 'see', 'us', 'your', 'against', 'although', 'is', 'became', 'call', 'have', 'most', 'wherever', 'few', 'out', 'whom', 'yet', 'be', 'own', 'off', 'quite', 'with', 'and', 'side', 'whoever', 'would', 'both', 'fifty', 'before', 'full', 'get', 'sometime', 'beyond', 'part', 'least', 'besides', 'around', 'even', 'whose', 'hereby', 'up', 'being', 'we', 'an', 'him', 'below', 'moreover', 'really', 'it', 'of', 'our', 'nowhere', 'whereby', 'too', 'her', 'toward', 'anyhow', 'give', 'never', 'another', 'anywhere', 'mine', 'herself', 'over', 'himself', 'to', 'onto', 'into', 'thence', 'towards', 'hers', 'nevertheless', 'serious', 'under', 'nine']\n",
    "\n",
    "import spacy\n",
    "\n",
    "# Load model and create Doc object\n",
    "nlp = spacy.load('en_core_web_sm')\n",
    "doc = nlp(blog)\n",
    "\n",
    "# Generate lemmatized tokens\n",
    "lemmas = [token.lemma_ for token in doc]\n",
    "\n",
    "# Remove stopwords and non-alphabetic tokens\n",
    "a_lemmas = [lemma for lemma in lemmas\n",
    "            if lemma.isalpha() and lemma not in stopwords]\n",
    "\n",
    "# Print string after text cleaning\n",
    "print(' '.join(a_lemmas))\n",
    "\n",
    "#################################################\n",
    "#Take a look at the cleaned text; it is lowercased and devoid of\n",
    "#numbers, punctuations and commonly used stopwords. Also, note\n",
    "#that the word U.S. was present in the original text. Since it\n",
    "#had periods in between, our text cleaning process completely\n",
    "#removed it. This may not be ideal behavior. It is always\n",
    "#advisable to use your custom functions in place of isalpha() for\n",
    "#more nuanced cases."
   ],
   "metadata": {
    "collapsed": false,
    "pycharm": {
     "name": "#%%\n"
    }
   }
  },
  {
   "cell_type": "code",
   "execution_count": null,
   "outputs": [],
   "source": [
    "#Cleaning TED talks in a dataframe\n",
    "\n",
    "#In this exercise, we will revisit the TED Talks from the first\n",
    "#chapter. You have been a given a dataframe ted consisting of 5\n",
    "#TED Talks. Your task is to clean these talks using techniques\n",
    "#discussed earlier by writing a function preprocess and applying\n",
    "#it to the transcript feature of the dataframe.\n",
    "\n",
    "#The stopwords list is available as stopwords.\n",
    "\n",
    "# Function to preprocess text\n",
    "#def preprocess(text):\n",
    "  \t# Create Doc object\n",
    "#    doc = nlp(text, disable=['ner', 'parser'])\n",
    "    # Generate lemmas\n",
    "#    lemmas = [token.lemma_ for token in doc]\n",
    "    # Remove stopwords and non-alphabetic characters\n",
    "#    a_lemmas = [lemma for lemma in lemmas\n",
    "#            if lemma.isalpha() and lemma not in stopwords]\n",
    "\n",
    "#    return ' '.join(a_lemmas)\n",
    "\n",
    "# Apply preprocess to ted['transcript']\n",
    "#ted['transcript'] = ted['transcript'].apply(preprocess)\n",
    "#print(ted['transcript'])\n",
    "\n",
    "#################################################\n",
    "#<script.py> output:\n",
    "#    0     talk new lecture ted illusion create ted try r...\n",
    "#    1     representation brain brain break left half log...\n",
    "#    2     great honor today share digital universe creat...\n",
    "#    3     passion music technology thing combination thi...\n",
    "#    4     use want computer new program programming requ...\n",
    "#    5     neuroscientist mixed background physics medici...\n",
    "#    6     pat mitchell day january begin like work love ...\n",
    "#    7     taylor wilson year old nuclear physicist littl...\n",
    "#    8     grow northern ireland right north end absolute...\n",
    "#    9     publish article new york times modern love col...\n",
    "#    10    joseph member parliament kenya picture maasai ...\n",
    "#    11    hi talk little bit music machine life specific...\n",
    "#    12    hi let ask audience question lie child raise h...\n",
    "#    13    historical record allow know ancient greeks dr...\n",
    "#    14    good morning little boy experience change life...\n",
    "#    15    slide year ago time short slide morning time w...\n",
    "#    16    like world like share year old love story poor...\n",
    "#    17    fail woman fail feminist passionate opinion ge...\n",
    "#    18    revolution century significant longevity revol...\n",
    "#    19    today baffle lady observe shell soul dwellsand...\n",
    "#    Name: transcript, dtype: object\n",
    "#################################################\n",
    "#You have preprocessed all the TED talk transcripts contained in\n",
    "#ted and it is now in a good shape to perform operations such as\n",
    "#vectorization (as we will soon see how). You now have a good\n",
    "#understanding of how text preprocessing works and why it is\n",
    "#important. In the next lessons, we will move on to generating\n",
    "#word level features for our texts."
   ],
   "metadata": {
    "collapsed": false,
    "pycharm": {
     "name": "#%%\n"
    }
   }
  },
  {
   "cell_type": "markdown",
   "source": [
    "**Part-of-speech tagging**\n",
    "___\n",
    "- Applications\n",
    "    - word-sense disambiguation\n",
    "        - \"the bear is a majestic animal\"\n",
    "        - \"please bear with me\"\n",
    "    - sentiment analysis\n",
    "    - question answering\n",
    "    - fake news and opinion spam detection\n",
    "- POS tagging\n",
    "    - Assigning every word its corresponding part of speech\n",
    "        - \"Jane is an amazing guitarist\"\n",
    "            - Jane -> proper noun\n",
    "            - is -> verb\n",
    "            - an -> determiner\n",
    "            - amazing -> adjective\n",
    "            - guitarist -> noun\n",
    "___"
   ],
   "metadata": {
    "collapsed": false
   }
  },
  {
   "cell_type": "code",
   "execution_count": 7,
   "outputs": [
    {
     "name": "stdout",
     "output_type": "stream",
     "text": [
      "[('He', 'PRON'), ('found', 'VERB'), ('himself', 'PRON'), ('understanding', 'VERB'), ('the', 'DET'), ('wearisomeness', 'NOUN'), ('of', 'ADP'), ('this', 'DET'), ('life', 'NOUN'), (',', 'PUNCT'), ('where', 'ADV'), ('every', 'DET'), ('path', 'NOUN'), ('was', 'AUX'), ('an', 'DET'), ('improvisation', 'NOUN'), ('and', 'CCONJ'), ('a', 'DET'), ('considerable', 'ADJ'), ('part', 'NOUN'), ('of', 'ADP'), ('one', 'NOUN'), ('’s', 'PART'), ('waking', 'VERB'), ('life', 'NOUN'), ('was', 'AUX'), ('spent', 'VERB'), ('watching', 'VERB'), ('one', 'PRON'), ('’s', 'PART'), ('feet', 'NOUN'), ('.', 'PUNCT')]\n"
     ]
    }
   ],
   "source": [
    "#POS tagging in Lord of the Flies\n",
    "\n",
    "#In this exercise, you will perform part-of-speech tagging on a\n",
    "#famous passage from one of the most well-known novels of all time,\n",
    "#Lord of the Flies, authored by William Golding.\n",
    "\n",
    "#The passage is available as lotf and has already been printed to\n",
    "#the console.\n",
    "\n",
    "lotf = 'He found himself understanding the wearisomeness of this life, where every path was an improvisation and a considerable part of one’s waking life was spent watching one’s feet.'\n",
    "\n",
    "import spacy\n",
    "\n",
    "# Load the en_core_web_sm model\n",
    "nlp = spacy.load('en_core_web_sm')\n",
    "\n",
    "# Create a Doc object\n",
    "doc = nlp(lotf)\n",
    "\n",
    "# Generate tokens and pos tags\n",
    "pos = [(token.text, token.pos_) for token in doc]\n",
    "print(pos)\n",
    "\n",
    "#################################################\n",
    "#Examine the various POS tags attached to each token and evaluate\n",
    "#if they make intuitive sense to you. You will notice that they\n",
    "#are indeed labelled correctly according to the standard rules of\n",
    "#English grammar."
   ],
   "metadata": {
    "collapsed": false,
    "pycharm": {
     "name": "#%%\n"
    }
   }
  },
  {
   "cell_type": "code",
   "execution_count": null,
   "outputs": [],
   "source": [
    "#Counting nouns in a piece of text\n",
    "\n",
    "#In this exercise, we will write two functions, nouns() and\n",
    "#proper_nouns() that will count the number of other nouns and\n",
    "#proper nouns in a piece of text respectively.\n",
    "\n",
    "#These functions will take in a piece of text and generate a list\n",
    "#containing the POS tags for each word. It will then return the\n",
    "#number of proper nouns/other nouns that the text contains. We will\n",
    "#use these functions in the next exercise to generate interesting\n",
    "#insights about fake news.\n",
    "\n",
    "#The en_core_web_sm model has already been loaded as nlp in this\n",
    "#exercise.\n",
    "\n",
    "#nlp = spacy.load('en_core_web_sm')\n",
    "\n",
    "# Returns number of proper nouns\n",
    "#def proper_nouns(text, model=nlp):\n",
    "  \t# Create doc object\n",
    "#    doc = model(text)\n",
    "    # Generate list of POS tags\n",
    "#    pos = [token.pos_ for token in doc]\n",
    "\n",
    "    # Return number of proper nouns\n",
    "#    return pos.count('PROPN')\n",
    "\n",
    "# Returns number of other nouns\n",
    "#def nouns(text, model=nlp):\n",
    "  \t# Create doc object\n",
    "#    doc = model(text)\n",
    "    # Generate list of POS tags\n",
    "#    pos = [token.pos_ for token in doc]\n",
    "\n",
    "    # Return number of other nouns\n",
    "#    return pos.count('NOUN')\n",
    "\n",
    "#################################################\n",
    "#You now know how to write functions that compute the number of\n",
    "#instances of a particular POS tag in a given piece of text. In\n",
    "#the next exercise, we will use these functions to generate\n",
    "#features from text in a dataframe."
   ],
   "metadata": {
    "collapsed": false,
    "pycharm": {
     "name": "#%%\n"
    }
   }
  },
  {
   "cell_type": "code",
   "execution_count": null,
   "outputs": [],
   "source": [
    "#Noun usage in fake news\n",
    "\n",
    "#In this exercise, you have been given a dataframe headlines that\n",
    "#contains news headlines that are either fake or real. Your task\n",
    "#is to generate two new features num_propn and num_noun that\n",
    "#represent the number of proper nouns and other nouns contained\n",
    "#in the title feature of headlines.\n",
    "\n",
    "#Next, we will compute the mean number of proper nouns and other\n",
    "#nouns used in fake and real news headlines and compare the values.\n",
    "#If there is a remarkable difference, then there is a good chance\n",
    "#that using the num_propn and num_noun features in fake news\n",
    "#detectors will improve its performance.\n",
    "\n",
    "#To accomplish this task, the functions proper_nouns and nouns\n",
    "#that you had built in the previous exercise have already been\n",
    "#made available to you.\n",
    "\n",
    "#headlines['num_propn'] = headlines['title'].apply(proper_nouns)\n",
    "\n",
    "# Compute mean of proper nouns\n",
    "#real_propn = headlines[headlines['label'] == 'REAL']['num_propn'].mean()\n",
    "#fake_propn = headlines[headlines['label'] == 'FAKE']['num_propn'].mean()\n",
    "\n",
    "# Print results\n",
    "#print(\"Mean no. of proper nouns in real and fake headlines are %.2f and %.2f respectively\"%(real_propn, fake_propn))\n",
    "#################################################\n",
    "#<script.py> output:\n",
    "#    Mean no. of proper nouns in real and fake headlines are 2.46\n",
    "#    and 4.86 respectively\n",
    "#################################################\n",
    "\n",
    "#headlines['num_noun'] = headlines['title'].apply(nouns)\n",
    "\n",
    "# Compute mean of other nouns\n",
    "#real_noun = headlines[headlines['label'] == 'REAL']['num_noun'].mean()\n",
    "#fake_noun = headlines[headlines['label'] == 'FAKE']['num_noun'].mean()\n",
    "\n",
    "# Print results\n",
    "#print(\"Mean no. of other nouns in real and fake headlines are %.2f and %.2f respectively\"%(real_noun, fake_noun))\n",
    "#################################################\n",
    "#<script.py> output:\n",
    "#    Mean no. of other nouns in real and fake headlines are 2.30\n",
    "#    and 1.44 respectively\n",
    "#################################################\n",
    "#You now know to construct features using POS tags information.\n",
    "#Notice how the mean number of proper nouns is considerably higher\n",
    "#for fake news than it is for real news. The opposite seems to be\n",
    "#true in the case of other nouns. This fact can be put to great\n",
    "#use in designing fake news detectors."
   ],
   "metadata": {
    "collapsed": false,
    "pycharm": {
     "name": "#%%\n"
    }
   }
  },
  {
   "cell_type": "markdown",
   "source": [
    "**Named entity recognition**\n",
    "___\n",
    "- Applications\n",
    "    - efficient search algorithms\n",
    "    - question answering\n",
    "    - news article classification\n",
    "    - customer service\n",
    "- named entity recognition\n",
    "    - identifying and classifying named entities into predefined categories\n",
    "    - categories include person, organization, country, etc.\n",
    "- a word of caution\n",
    "    - spaCy's models are not perfect\n",
    "    - performance is dependent on training and test data\n",
    "    - train models with specialized data for nuanced cases\n",
    "    - language specific\n",
    "___"
   ],
   "metadata": {
    "collapsed": false
   }
  },
  {
   "cell_type": "code",
   "execution_count": 8,
   "outputs": [
    {
     "name": "stdout",
     "output_type": "stream",
     "text": [
      "Sundar Pichai PERSON\n",
      "Google ORG\n",
      "Mountain View GPE\n"
     ]
    }
   ],
   "source": [
    "#Named entities in a sentence\n",
    "\n",
    "#In this exercise, we will identify and classify the labels of\n",
    "#various named entities in a body of text using one of spaCy's\n",
    "#statistical models. We will also verify the veracity of these\n",
    "#labels.\n",
    "\n",
    "import spacy\n",
    "\n",
    "# Load the required model\n",
    "nlp = spacy.load('en_core_web_sm')\n",
    "\n",
    "# Create a Doc instance\n",
    "text = 'Sundar Pichai is the CEO of Google. Its headquarters is in Mountain View.'\n",
    "doc = nlp(text)\n",
    "\n",
    "# Print all named entities and their labels\n",
    "for ent in doc.ents:\n",
    "    print(ent.text, ent.label_)\n",
    "\n",
    "#################################################\n",
    "#Notice how the model correctly predicted the labels of Google\n",
    "#and Mountain View but [mislabeled Sundar Pichai as an organization.]\n",
    "#{this was according to an earlier version of en_core_web_sm. As you\n",
    "#can see here, he is correctly labeled as a PERSON now}. As\n",
    "#discussed in the video, the predictions of the model depend\n",
    "#strongly on the data it is trained on. It is possible to train\n",
    "#spaCy models on your custom data. You will learn to do this in\n",
    "#more advanced NLP courses."
   ],
   "metadata": {
    "collapsed": false,
    "pycharm": {
     "name": "#%%\n"
    }
   }
  },
  {
   "cell_type": "code",
   "execution_count": 9,
   "outputs": [
    {
     "name": "stdout",
     "output_type": "stream",
     "text": [
      "['Sheryl Sandberg', 'Mark Zuckerberg']\n"
     ]
    }
   ],
   "source": [
    "#Identifying people mentioned in a news article\n",
    "\n",
    "#In this exercise, you have been given an excerpt from a news\n",
    "#article published in TechCrunch. Your task is to write a\n",
    "#function find_people that identifies the names of people that\n",
    "#have been mentioned in a particular piece of text. You will then\n",
    "#use find_people to identify the people of interest in the article.\n",
    "\n",
    "#The article is available as the string tc and has been printed\n",
    "#to the console. The required spacy model has also been already\n",
    "#loaded as nlp.\n",
    "\n",
    "import spacy\n",
    "\n",
    "# Load the required model\n",
    "nlp = spacy.load('en_core_web_sm')\n",
    "\n",
    "tc = \"\\nIt’s' been a busy day for Facebook  exec op-eds. Earlier this morning, Sheryl Sandberg broke the site’s silence around the Christchurch massacre, and now Mark Zuckerberg is calling on governments and other bodies to increase regulation around the sorts of data Facebook traffics in. He’s hoping to get out in front of heavy-handed regulation and get a seat at the table shaping it.\\n\"\n",
    "\n",
    "def find_persons(text):\n",
    "  # Create Doc object\n",
    "  doc = nlp(text)\n",
    "\n",
    "  # Identify the persons\n",
    "  persons = [ent.text for ent in doc.ents if ent.label_ == 'PERSON']\n",
    "\n",
    "  # Return persons\n",
    "  return persons\n",
    "\n",
    "print(find_persons(tc))\n",
    "\n",
    "#################################################\n",
    "#The article was related to Facebook and our function correctly\n",
    "#identified both the people mentioned. You can now see how NER\n",
    "#could be used in a variety of applications. Publishers may use\n",
    "#a technique like this to classify news articles by the people\n",
    "#mentioned in them. A question answering system could also use\n",
    "#something like this to answer questions such as 'Who are the\n",
    "#people mentioned in this passage?'. With this, we come to an\n",
    "#end of this chapter. In the next, we will learn how to conduct\n",
    "#vectorization on documents."
   ],
   "metadata": {
    "collapsed": false,
    "pycharm": {
     "name": "#%%\n"
    }
   }
  },
  {
   "cell_type": "markdown",
   "source": [
    "**Building a bag of words model**\n",
    "___\n",
    "- bag of words model\n",
    "    - extract word tokens\n",
    "    - compute frequency of word tokens\n",
    "    - construct a word vector of these frequencies and vocabulary of corpus\n",
    "___"
   ],
   "metadata": {
    "collapsed": false
   }
  },
  {
   "cell_type": "code",
   "execution_count": null,
   "outputs": [],
   "source": [
    "#BoW model for movie taglines\n",
    "\n",
    "#In this exercise, you have been provided with a corpus of more\n",
    "#than 7000 movie tag lines. Your job is to generate the bag of\n",
    "#words representation bow_matrix for these taglines. For this\n",
    "#exercise, we will ignore the text preprocessing step and generate\n",
    "#bow_matrix directly.\n",
    "\n",
    "#We will also investigate the shape of the resultant bow_matrix.\n",
    "#The first five taglines in corpus have been printed to the\n",
    "#console for you to examine.\n",
    "\n",
    "# Import CountVectorizer\n",
    "#from sklearn.feature_extraction.text import CountVectorizer\n",
    "\n",
    "# Create CountVectorizer object\n",
    "#vectorizer = CountVectorizer()\n",
    "\n",
    "# Generate matrix of word vectors\n",
    "#bow_matrix = vectorizer.fit_transform(corpus)\n",
    "\n",
    "# Print the shape of bow_matrix\n",
    "#print(bow_matrix.shape)\n",
    "\n",
    "#################################################\n",
    "#<script.py> output:\n",
    "#    (7033, 6614)\n",
    "#################################################\n",
    "#ou now know how to generate a bag of words representation for a\n",
    "#given corpus of documents. Notice that the word vectors created\n",
    "#have more than 6600 dimensions. However, most of these dimensions\n",
    "#have a value of zero since most words do not occur in a particular\n",
    "#tagline."
   ],
   "metadata": {
    "collapsed": false,
    "pycharm": {
     "name": "#%%\n"
    }
   }
  },
  {
   "cell_type": "code",
   "execution_count": null,
   "outputs": [],
   "source": [
    "#Analyzing dimensionality and preprocessing\n",
    "\n",
    "#In this exercise, you have been provided with a lem_corpus which\n",
    "#contains the pre-processed versions of the movie taglines from\n",
    "#the previous exercise. In other words, the taglines have been\n",
    "#lowercased and lemmatized, and stopwords have been removed.\n",
    "\n",
    "#Your job is to generate the bag of words representation\n",
    "#bow_lem_matrix for these lemmatized taglines and compare its\n",
    "#shape with that of bow_matrix obtained in the previous exercise.\n",
    "#The first five lemmatized taglines in lem_corpus have been printed\n",
    "#to the console for you to examine.\n",
    "\n",
    "# Import CountVectorizer\n",
    "#from sklearn.feature_extraction.text import CountVectorizer\n",
    "\n",
    "# Create CountVectorizer object\n",
    "#vectorizer = CountVectorizer()\n",
    "\n",
    "# Generate matrix of word vectors\n",
    "#bow_lem_matrix = vectorizer.fit_transform(lem_corpus)\n",
    "\n",
    "# Print the shape of bow_lem_matrix\n",
    "#print(bow_lem_matrix.shape)\n",
    "\n",
    "#################################################\n",
    "#<script.py> output:\n",
    "#    (6959, 5223)\n",
    "#################################################\n",
    "#Notice how the number of features have reduced significantly\n",
    "#from around 6600 to around 5223 for pre-processed movie taglines.\n",
    "#The reduced number of dimensions on account of text preprocessing\n",
    "#usually leads to better performance when conducting machine\n",
    "#learning and it is a good idea to consider it. However, as\n",
    "#mentioned in a previous lesson, the final decision always depends\n",
    "#on the nature of the application."
   ],
   "metadata": {
    "collapsed": false,
    "pycharm": {
     "name": "#%%\n"
    }
   }
  },
  {
   "cell_type": "code",
   "execution_count": 10,
   "outputs": [
    {
     "name": "stdout",
     "output_type": "stream",
     "text": [
      "   an  decade  endangered  have  is  jungle  king  lifespans  lion  lions  of  \\\n",
      "0   0       0           0     0   1       1     1          0     1      0   1   \n",
      "1   0       1           0     1   0       0     0          1     0      1   1   \n",
      "2   1       0           1     0   1       0     0          0     1      0   0   \n",
      "\n",
      "   species  the  \n",
      "0        0    3  \n",
      "1        0    0  \n",
      "2        1    1  \n"
     ]
    }
   ],
   "source": [
    "#Mapping feature indices with feature names\n",
    "\n",
    "#In the lesson video, we had seen that CountVectorizer doesn't\n",
    "#necessarily index the vocabulary in alphabetical order. In this\n",
    "#exercise, we will learn to map each feature index to its\n",
    "#corresponding feature name from the vocabulary.\n",
    "\n",
    "#We will use the same three sentences on lions from the video.\n",
    "#The sentences are available in a list named corpus and has\n",
    "#already been printed to the console.\n",
    "\n",
    "import pandas as pd\n",
    "from sklearn.feature_extraction.text import CountVectorizer\n",
    "\n",
    "corpus = ['The lion is the king of the jungle',\n",
    " 'Lions have lifespans of a decade',\n",
    " 'The lion is an endangered species']\n",
    "\n",
    "# Create CountVectorizer object\n",
    "vectorizer = CountVectorizer()\n",
    "\n",
    "# Generate matrix of word vectors\n",
    "bow_matrix = vectorizer.fit_transform(corpus)\n",
    "\n",
    "# Convert bow_matrix into a DataFrame\n",
    "bow_df = pd.DataFrame(bow_matrix.toarray())\n",
    "\n",
    "# Map the column names to vocabulary\n",
    "bow_df.columns = vectorizer.get_feature_names()\n",
    "\n",
    "# Print bow_df\n",
    "print(bow_df)\n",
    "\n",
    "#################################################\n",
    "#Observe that the column names refer to the token whose frequency\n",
    "#is being recorded. Therefore, since the first column name is an,\n",
    "#the first feature represents the number of times the word 'an'\n",
    "#occurs in a particular sentence. get_feature_names() essentially\n",
    "#gives us a list which represents the mapping of the feature\n",
    "#indices to the feature name in the vocabulary."
   ],
   "metadata": {
    "collapsed": false,
    "pycharm": {
     "name": "#%%\n"
    }
   }
  },
  {
   "cell_type": "markdown",
   "source": [
    "**Building a BoW Naive Bayes classifier**\n",
    "___\n",
    "- Steps\n",
    "    - text preprocessing\n",
    "    - building a bag-of-words model (or representation)\n",
    "    - machine learning\n",
    "___"
   ],
   "metadata": {
    "collapsed": false
   }
  },
  {
   "cell_type": "code",
   "execution_count": null,
   "outputs": [],
   "source": [
    "#BoW vectors for movie reviews\n",
    "\n",
    "#In this exercise, you have been given two pandas Series, X_train\n",
    "#and X_test, which consist of movie reviews. They represent the\n",
    "#training and the test review data respectively. Your task is to\n",
    "#preprocess the reviews and generate BoW vectors for these two\n",
    "#sets using CountVectorizer.\n",
    "\n",
    "#Once we have generated the BoW vector matrices X_train_bow and\n",
    "#X_test_bow, we will be in a very good position to apply a machine\n",
    "#learning model to it and conduct sentiment analysis.\n",
    "\n",
    "# Import CountVectorizer\n",
    "#from sklearn.feature_extraction.text import CountVectorizer\n",
    "\n",
    "# Create a CountVectorizer object\n",
    "#vectorizer = CountVectorizer(lowercase=True, stop_words='english')\n",
    "\n",
    "# Fit and transform X_train\n",
    "#X_train_bow = vectorizer.fit_transform(X_train)\n",
    "\n",
    "# Transform X_test\n",
    "#X_test_bow = vectorizer.transform(X_test)\n",
    "\n",
    "# Print shape of X_train_bow and X_test_bow\n",
    "#print(X_train_bow.shape)\n",
    "#print(X_test_bow.shape)\n",
    "\n",
    "#################################################\n",
    "#<script.py> output:\n",
    "#    (250, 8158)\n",
    "#    (750, 8158)\n",
    "#################################################\n",
    "#You now have a good idea of preprocessing text and transforming\n",
    "#them into their bag-of-words representation using CountVectorizer.\n",
    "#In this exercise, you have set the lowercase argument to True.\n",
    "#However, note that this is the default value of lowercase and\n",
    "#passing it explicitly is not necessary. Also, note that both\n",
    "#X_train_bow and X_test_bow have 8158 features. There were words\n",
    "#present in X_test that were not in X_train. CountVectorizer chose\n",
    "#to ignore them in order to ensure that the dimensions of both\n",
    "#sets remain the same."
   ],
   "metadata": {
    "collapsed": false,
    "pycharm": {
     "name": "#%%\n"
    }
   }
  },
  {
   "cell_type": "code",
   "execution_count": null,
   "outputs": [],
   "source": [
    "#Predicting the sentiment of a movie review\n",
    "\n",
    "#In the previous exercise, you generated the bag-of-words\n",
    "#representations for the training and test movie review data. In\n",
    "#this exercise, we will use this model to train a Naive Bayes\n",
    "#classifier that can detect the sentiment of a movie review and\n",
    "#compute its accuracy. Note that since this is a binary\n",
    "#classification problem, the model is only capable of classifying\n",
    "#a review as either positive (1) or negative (0). It is incapable\n",
    "#of detecting neutral reviews.\n",
    "\n",
    "#In case you don't recall, the training and test BoW vectors are\n",
    "#available as X_train_bow and X_test_bow respectively. The\n",
    "#corresponding labels are available as y_train and y_test\n",
    "#respectively. Also, for you reference, the original movie\n",
    "#review dataset is available as df.\n",
    "\n",
    "# Create a MultinomialNB object\n",
    "#clf = MultinomialNB()\n",
    "\n",
    "# Fit the classifier\n",
    "#clf.fit(X_train_bow, y_train)\n",
    "\n",
    "# Measure the accuracy\n",
    "#accuracy = clf.score(X_test_bow, y_test)\n",
    "#print(\"The accuracy of the classifier on the test set is %.3f\" % accuracy)\n",
    "\n",
    "# Predict the sentiment of a negative review\n",
    "#review = \"The movie was terrible. The music was underwhelming and the acting mediocre.\"\n",
    "#prediction = clf.predict(vectorizer.transform([review]))[0]\n",
    "#print(\"The sentiment predicted by the classifier is %i\" % (prediction))\n",
    "\n",
    "#################################################\n",
    "#<script.py> output:\n",
    "#    The accuracy of the classifier on the test set is 0.732\n",
    "#    The sentiment predicted by the classifier is 0\n",
    "#################################################\n",
    "#You have successfully performed basic sentiment analysis. Note\n",
    "#that the accuracy of the classifier is 73.2%. Considering the\n",
    "#fact that it was trained on only 750 reviews, this is reasonably\n",
    "#good performance. The classifier also correctly predicts the\n",
    "#sentiment of a mini negative review which we passed into it."
   ],
   "metadata": {
    "collapsed": false,
    "pycharm": {
     "name": "#%%\n"
    }
   }
  },
  {
   "cell_type": "markdown",
   "source": [
    "**Building n-gram models**\n",
    "___\n",
    "![_images/19.3.PNG](_images/19.3.PNG)\n",
    "- n-grams\n",
    "    - contiguous sequence of n elements (or words) in a given document\n",
    "    - n = 1 -> bag-of-words\n",
    "    - captures more context\n",
    "    - applications\n",
    "        - sentence completion\n",
    "        - spelling correction\n",
    "        - machine translation correction\n",
    "    - shortcomings\n",
    "        - curse of dimensionality\n",
    "        - higher order n-grams are rare\n",
    "        - keep n small\n",
    "___"
   ],
   "metadata": {
    "collapsed": false
   }
  },
  {
   "cell_type": "code",
   "execution_count": null,
   "outputs": [],
   "source": [
    "#n-gram models for movie tag lines\n",
    "\n",
    "#In this exercise, we have been provided with a corpus of more\n",
    "#than 9000 movie tag lines. Our job is to generate n-gram models\n",
    "#up to n equal to 1, n equal to 2 and n equal to 3 for this data\n",
    "#and discover the number of features for each model.\n",
    "\n",
    "#We will then compare the number of features generated for each\n",
    "#model.\n",
    "\n",
    "# Generate n-grams upto n=1\n",
    "#vectorizer_ng1 = CountVectorizer(ngram_range=(1,1))\n",
    "#ng1 = vectorizer_ng1.fit_transform(corpus)\n",
    "\n",
    "# Generate n-grams upto n=2\n",
    "#vectorizer_ng2 = CountVectorizer(ngram_range=(1,2))\n",
    "#ng2 = vectorizer_ng2.fit_transform(corpus)\n",
    "\n",
    "# Generate n-grams upto n=3\n",
    "#vectorizer_ng3 = CountVectorizer(ngram_range=(1,3))\n",
    "#ng3 = vectorizer_ng3.fit_transform(corpus)\n",
    "\n",
    "# Print the number of features for each model\n",
    "#print(\"ng1, ng2 and ng3 have %i, %i and %i features respectively\" % (ng1.shape[1], ng2.shape[1], ng3.shape[1]))\n",
    "\n",
    "#################################################\n",
    "#<script.py> output:\n",
    "#    ng1, ng2 and ng3 have 6614, 37100 and 76881 features respectively\n",
    "#################################################\n",
    "#You now know how to generate n-gram models containing higher\n",
    "#order n-grams. Notice that ng2 has over 37,000 features whereas\n",
    "#ng3 has over 76,000 features. This is much greater than the\n",
    "#6,000 dimensions obtained for ng1. As the n-gram range increases,\n",
    "#so does the number of features, leading to increased computational\n",
    "#costs and a problem known as the curse of dimensionality."
   ],
   "metadata": {
    "collapsed": false,
    "pycharm": {
     "name": "#%%\n"
    }
   }
  },
  {
   "cell_type": "code",
   "execution_count": null,
   "outputs": [],
   "source": [
    "#Higher order n-grams for sentiment analysis\n",
    "\n",
    "#Similar to a previous exercise, we are going to build a\n",
    "#classifier that can detect if the review of a particular movie\n",
    "#is positive or negative. However, this time, we will use n-grams\n",
    "#up to n=2 for the task.\n",
    "\n",
    "#The n-gram training reviews are available as X_train_ng. The\n",
    "#corresponding test reviews are available as X_test_ng. Finally,\n",
    "#use y_train and y_test to access the training and test sentiment\n",
    "#classes respectively.\n",
    "\n",
    "# Define an instance of MultinomialNB\n",
    "#clf_ng = MultinomialNB()\n",
    "\n",
    "# Fit the classifier\n",
    "#clf_ng.fit(X_train_ng, y_train)\n",
    "\n",
    "# Measure the accuracy\n",
    "#accuracy = clf_ng.score(X_test_ng, y_test)\n",
    "#print(\"The accuracy of the classifier on the test set is %.3f\" % accuracy)\n",
    "\n",
    "# Predict the sentiment of a negative review\n",
    "#review = \"The movie was not good. The plot had several holes and the acting lacked panache.\"\n",
    "#prediction = clf_ng.predict(ng_vectorizer.transform([review]))[0]\n",
    "#print(\"The sentiment predicted by the classifier is %i\" % (prediction))\n",
    "\n",
    "#################################################\n",
    "#<script.py> output:\n",
    "#    The accuracy of the classifier on the test set is 0.758\n",
    "#    The sentiment predicted by the classifier is 0\n",
    "#################################################\n",
    "#You're now adept at performing sentiment analysis using text.\n",
    "#Notice how this classifier performs slightly better than the\n",
    "#BoW version. Also, it succeeds at correctly identifying the\n",
    "#sentiment of the mini-review as negative. In the next chapter,\n",
    "#we will learn more complex methods of vectorizing textual data."
   ],
   "metadata": {
    "collapsed": false,
    "pycharm": {
     "name": "#%%\n"
    }
   }
  },
  {
   "cell_type": "code",
   "execution_count": null,
   "outputs": [],
   "source": [
    "#Comparing performance of n-gram models\n",
    "\n",
    "#You now know how to conduct sentiment analysis by converting\n",
    "#text into various n-gram representations and feeding them to a\n",
    "#classifier. In this exercise, we will conduct sentiment analysis\n",
    "#for the same movie reviews from before using two n-gram models:\n",
    "#unigrams and n-grams up to n equal to 3.\n",
    "\n",
    "#We will then compare the performance using three criteria:\n",
    "#accuracy of the model on the test set, time taken to execute\n",
    "#the program and the number of features created when generating\n",
    "#the n-gram representation.\n",
    "\n",
    "#start_time = time.time()\n",
    "# Splitting the data into training and test sets\n",
    "#train_X, test_X, train_y, test_y = train_test_split(df['review'], df['sentiment'], test_size=0.5, random_state=42, stratify=df['sentiment'])\n",
    "\n",
    "# Generating ngrams\n",
    "#vectorizer = CountVectorizer(ngram_range=(1,1))\n",
    "#train_X = vectorizer.fit_transform(train_X)\n",
    "#test_X = vectorizer.transform(test_X)\n",
    "\n",
    "# Fit classifier\n",
    "#clf = MultinomialNB()\n",
    "#clf.fit(train_X, train_y)\n",
    "\n",
    "# Print accuracy, time and number of dimensions\n",
    "#print(\"The program took %.3f seconds to complete. The accuracy on the test set is %.2f. The ngram representation had %i features.\" % (time.time() - start_time, clf.score(test_X, test_y), train_X.shape[1]))\n",
    "\n",
    "#################################################\n",
    "#<script.py> output:\n",
    "#    The program took 0.168 seconds to complete. The accuracy on the test set is 0.75. The ngram representation had 12347 features.\n",
    "#################################################"
   ],
   "metadata": {
    "collapsed": false,
    "pycharm": {
     "name": "#%%\n"
    }
   }
  },
  {
   "cell_type": "code",
   "execution_count": null,
   "outputs": [],
   "source": [
    "#start_time = time.time()\n",
    "# Splitting the data into training and test sets\n",
    "#train_X, test_X, train_y, test_y = train_test_split(df['review'], df['sentiment'], test_size=0.5, random_state=42, stratify=df['sentiment'])\n",
    "\n",
    "# Generating ngrams\n",
    "#vectorizer = CountVectorizer(ngram_range=(1,3))\n",
    "#train_X = vectorizer.fit_transform(train_X)\n",
    "#test_X = vectorizer.transform(test_X)\n",
    "\n",
    "# Fit classifier\n",
    "#clf = MultinomialNB()\n",
    "#clf.fit(train_X, train_y)\n",
    "\n",
    "# Print accuracy, time and number of dimensions\n",
    "#print(\"The program took %.3f seconds to complete. The accuracy on the test set is %.2f. The ngram representation had %i features.\" % (time.time() - start_time, clf.score(test_X, test_y), train_X.shape[1]))\n",
    "\n",
    "#################################################\n",
    "#<script.py> output:\n",
    "#    The program took 2.391 seconds to complete. The accuracy on the test set is 0.77. The ngram representation had 178240 features.\n",
    "#################################################\n",
    "#The program took around 0.2 seconds in the case of the unigram\n",
    "#model and more than 10 times longer for the higher order n-gram\n",
    "#model. The unigram model had over 12,000 features whereas the\n",
    "#n-gram model for upto n=3 had over 178,000! Despite taking\n",
    "#higher computation time and generating more features, the\n",
    "#classifier only performs marginally better in the latter case,\n",
    "#producing an accuracy of 77% in comparison to the 75% for the\n",
    "#unigram model."
   ],
   "metadata": {
    "collapsed": false,
    "pycharm": {
     "name": "#%%\n"
    }
   }
  },
  {
   "cell_type": "markdown",
   "source": [
    "**Building tf-idf document vectors**\n",
    "___\n",
    "- Applications\n",
    "    - automatically detect stopwords\n",
    "    - search\n",
    "    - recommender systems\n",
    "    - better performance in predictive modeling for some cases\n",
    "- term frequency-inverse document frequency\n",
    "    - proportional to term frequency\n",
    "    - inverse function of the number of documents in which it occurs\n",
    "    ![_images/19.4.PNG](_images/19.4.PNG)\n",
    "___"
   ],
   "metadata": {
    "collapsed": false
   }
  },
  {
   "cell_type": "code",
   "execution_count": null,
   "outputs": [],
   "source": [
    "#tf-idf vectors for TED talks\n",
    "\n",
    "#In this exercise, you have been given a corpus ted which contains\n",
    "#the transcripts of 500 TED Talks. Your task is to generate the\n",
    "#tf-idf vectors for these talks.\n",
    "\n",
    "#In a later lesson, we will use these vectors to generate\n",
    "#recommendations of similar talks based on the transcript.\n",
    "\n",
    "# Import TfidfVectorizer\n",
    "#from sklearn.feature_extraction.text import TfidfVectorizer\n",
    "\n",
    "# Create TfidfVectorizer object\n",
    "#vectorizer = TfidfVectorizer()\n",
    "\n",
    "# Generate matrix of word vectors\n",
    "#tfidf_matrix = vectorizer.fit_transform(ted)\n",
    "\n",
    "# Print the shape of tfidf_matrix\n",
    "#print(tfidf_matrix.shape)\n",
    "\n",
    "#################################################\n",
    "#<script.py> output:\n",
    "#    (500, 29158)\n",
    "#################################################\n",
    "#You now know how to generate tf-idf vectors for a given corpus\n",
    "#of text. You can use these vectors to perform predictive\n",
    "#modeling just like we did with CountVectorizer. In the next few\n",
    "#lessons, we will see another extremely useful application of the\n",
    "#vectorized form of documents: generating recommendations."
   ],
   "metadata": {
    "collapsed": false,
    "pycharm": {
     "name": "#%%\n"
    }
   }
  },
  {
   "cell_type": "markdown",
   "source": [
    "**Cosine similarity**\n",
    "___\n",
    "![_images/19.5.PNG](_images/19.5.PNG)\n",
    "![_images/19.6.PNG](_images/19.6.PNG)\n",
    "![_images/19.7.PNG](_images/19.7.PNG)\n",
    "![_images/19.8.PNG](_images/19.8.PNG)\n",
    "- Cosine Score: points to remember\n",
    "    - value between -1 and 1\n",
    "    - in NLP value between 0 and 1\n",
    "        - no similarity -> identical\n",
    "    - robust to document length\n",
    "___"
   ],
   "metadata": {
    "collapsed": false
   }
  },
  {
   "cell_type": "code",
   "execution_count": 11,
   "outputs": [
    {
     "name": "stdout",
     "output_type": "stream",
     "text": [
      "4\n"
     ]
    }
   ],
   "source": [
    "#Computing dot product\n",
    "\n",
    "#In this exercise, we will learn to compute the dot product\n",
    "#between two vectors, A = (1, 3) and B = (-2, 2), using the numpy\n",
    "#library. More specifically, we will use the np.dot() function to\n",
    "#compute the dot product of two numpy arrays.\n",
    "\n",
    "import numpy as np\n",
    "# Initialize numpy vectors\n",
    "A = np.array([1,3])\n",
    "B = np.array([-2, 2])\n",
    "\n",
    "# Compute dot product\n",
    "dot_prod = np.dot(A, B)\n",
    "\n",
    "# Print dot product\n",
    "print(dot_prod)\n",
    "\n",
    "#################################################\n",
    "#The dot product of the two vectors is 1 * -2 + 3 * 2 = 4, which\n",
    "#is indeed the output produced. We will not be using np.dot()\n",
    "#too much in this course but it can prove to be a helpful\n",
    "#function while computing dot products between two standalone\n",
    "#vectors."
   ],
   "metadata": {
    "collapsed": false,
    "pycharm": {
     "name": "#%%\n"
    }
   }
  },
  {
   "cell_type": "code",
   "execution_count": 12,
   "outputs": [
    {
     "name": "stdout",
     "output_type": "stream",
     "text": [
      "[[1.         0.36413198 0.18314713 0.18435251 0.16336438]\n",
      " [0.36413198 1.         0.15054075 0.21704584 0.11203887]\n",
      " [0.18314713 0.15054075 1.         0.21318602 0.07763512]\n",
      " [0.18435251 0.21704584 0.21318602 1.         0.12960089]\n",
      " [0.16336438 0.11203887 0.07763512 0.12960089 1.        ]]\n"
     ]
    }
   ],
   "source": [
    "#Cosine similarity matrix of a corpus\n",
    "\n",
    "#In this exercise, you have been given a corpus, which is a list\n",
    "#containing five sentences. The corpus is printed in the console.\n",
    "#You have to compute the cosine similarity matrix which contains\n",
    "#the pairwise cosine similarity score for every pair of sentences\n",
    "#(vectorized using tf-idf).\n",
    "\n",
    "#Remember, the value corresponding to the ith row and jth column\n",
    "#of a similarity matrix denotes the similarity score for the ith\n",
    "#and jth vector.\n",
    "\n",
    "corpus = ['The sun is the largest celestial body in the solar system',\n",
    " 'The solar system consists of the sun and eight revolving planets',\n",
    " 'Ra was the Egyptian Sun God',\n",
    " 'The Pyramids were the pinnacle of Egyptian architecture',\n",
    " 'The quick brown fox jumps over the lazy dog']\n",
    "\n",
    "from sklearn.feature_extraction.text import TfidfVectorizer\n",
    "from sklearn.metrics.pairwise import cosine_similarity\n",
    "\n",
    "# Initialize an instance of tf-idf Vectorizer\n",
    "tfidf_vectorizer = TfidfVectorizer()\n",
    "\n",
    "# Generate the tf-idf vectors for the corpus\n",
    "tfidf_matrix = tfidf_vectorizer.fit_transform(corpus)\n",
    "\n",
    "# Compute and print the cosine similarity matrix\n",
    "cosine_sim = cosine_similarity(tfidf_matrix,tfidf_matrix)\n",
    "print(cosine_sim)\n",
    "\n",
    "#################################################\n",
    "#As you will see in a subsequent lesson, computing the cosine\n",
    "#similarity matrix lies at the heart of many practical systems\n",
    "#such as recommenders. From our similarity matrix, we see that\n",
    "#the first and the second sentence are the most similar. Also\n",
    "#the fifth sentence has, on average, the lowest pairwise cosine\n",
    "#scores. This is intuitive as it contains entities that are not\n",
    "#present in the other sentences."
   ],
   "metadata": {
    "collapsed": false,
    "pycharm": {
     "name": "#%%\n"
    }
   }
  },
  {
   "cell_type": "markdown",
   "source": [
    "**Building a plot line based recommender**\n",
    "___\n",
    "- Steps\n",
    "    - text preprocessing\n",
    "    - generate tf-idf vectors\n",
    "    - generate cosine similarity matrix\n",
    "- the recommender function\n",
    "    - take a movie title, cosine similarity matrix and indices series as arguments\n",
    "    - extract pairwise cosine similarity scores for the movie\n",
    "    - sort the scores in descending order\n",
    "    - output titles corresponding to the highest scores\n",
    "        - ignore the highest similarity score of 1 (same title)\n",
    "- the linear_kernel function\n",
    "    - the magnitude of a tf-idf vector is 1\n",
    "        - therefore, cosine score between two tf-idf vectors is their dot product\n",
    "        - can significantly improve computation time\n",
    "        - use linear_kernel instead of cosine_similarity\n",
    "___"
   ],
   "metadata": {
    "collapsed": false
   }
  },
  {
   "cell_type": "code",
   "execution_count": null,
   "outputs": [],
   "source": [
    "# Record start time\n",
    "#start = time.time()\n",
    "\n",
    "# Compute cosine similarity matrix\n",
    "#cosine_sim = cosine_similarity(tfidf_matrix, tfidf_matrix)\n",
    "\n",
    "# Print cosine similarity matrix\n",
    "#print(cosine_sim)\n",
    "\n",
    "# Print time taken\n",
    "#print(\"Time taken: %s seconds\" %(time.time() - start))\n",
    "\n",
    "#################################################\n",
    "#<script.py> output:\n",
    "#    [[1.         0.         0.         ... 0.         0.         0.        ]\n",
    "#     [0.         1.         0.         ... 0.         0.         0.        ]\n",
    "#     [0.         0.         1.         ... 0.         0.01418221 0.        ]\n",
    "#     ...\n",
    "#     [0.         0.         0.         ... 1.         0.01589009 0.        ]\n",
    "#     [0.         0.         0.01418221 ... 0.01589009 1.         0.        ]\n",
    "#     [0.         0.         0.         ... 0.         0.         1.        ]]\n",
    "#    Time taken: 0.32429075241088867 seconds\n",
    "#################################################"
   ],
   "metadata": {
    "collapsed": false,
    "pycharm": {
     "name": "#%%\n"
    }
   }
  },
  {
   "cell_type": "code",
   "execution_count": null,
   "outputs": [],
   "source": [
    "# Record start time\n",
    "#start = time.time()\n",
    "\n",
    "# Compute cosine similarity matrix\n",
    "#cosine_sim = linear_kernel(tfidf_matrix, tfidf_matrix)\n",
    "\n",
    "# Print cosine similarity matrix\n",
    "#print(cosine_sim)\n",
    "\n",
    "# Print time taken\n",
    "#print(\"Time taken: %s seconds\" %(time.time() - start))\n",
    "\n",
    "#################################################\n",
    "#<script.py> output:\n",
    "#    [[1.         0.         0.         ... 0.         0.         0.        ]\n",
    "#     [0.         1.         0.         ... 0.         0.         0.        ]\n",
    "#     [0.         0.         1.         ... 0.         0.01418221 0.        ]\n",
    "#     ...\n",
    "#     [0.         0.         0.         ... 1.         0.01589009 0.        ]\n",
    "#     [0.         0.         0.01418221 ... 0.01589009 1.         0.        ]\n",
    "#     [0.         0.         0.         ... 0.         0.         1.        ]]\n",
    "#    Time taken: 0.3089025020599365 seconds\n",
    "#################################################\n",
    "#Notice how both linear_kernel and cosine_similarity produced\n",
    "#the same result. However, linear_kernel took a smaller amount\n",
    "#of time to execute. When you're working with a very large\n",
    "#amount of data and your vectors are in the tf-idf representation,\n",
    "#it is good practice to default to linear_kernel to improve\n",
    "#performance. (NOTE: In case, you see linear_kernel taking more\n",
    "#time, it's because the dataset we're dealing with is extremely\n",
    "#small and Python's time module is incapable of capture such\n",
    "#minute time differences accurately)"
   ],
   "metadata": {
    "collapsed": false,
    "pycharm": {
     "name": "#%%\n"
    }
   }
  },
  {
   "cell_type": "code",
   "execution_count": null,
   "outputs": [],
   "source": [
    "#Plot recommendation engine\n",
    "\n",
    "#In this exercise, we will build a recommendation engine that\n",
    "#suggests movies based on similarity of plot lines. You have\n",
    "#been given a get_recommendations() function that takes in the\n",
    "#title of a movie, a similarity matrix and an indices series as\n",
    "#its arguments and outputs a list of most similar movies. indices\n",
    "#has already been provided to you.\n",
    "\n",
    "#You have also been given a movie_plots Series that contains the\n",
    "#plot lines of several movies. Your task is to generate a cosine\n",
    "#similarity matrix for the tf-idf vectors of these plots.\n",
    "\n",
    "#Consequently, we will check the potency of our engine by\n",
    "#generating recommendations for one of my favorite movies, The\n",
    "#Dark Knight Rises.\n",
    "\n",
    "# Initialize the TfidfVectorizer\n",
    "#tfidf = TfidfVectorizer(stop_words='english')\n",
    "\n",
    "# Construct the TF-IDF matrix\n",
    "#tfidf_matrix = tfidf.fit_transform(movie_plots)\n",
    "\n",
    "# Generate the cosine similarity matrix\n",
    "#cosine_sim = linear_kernel(tfidf_matrix, tfidf_matrix)\n",
    "\n",
    "# Generate recommendations\n",
    "#print(get_recommendations('The Dark Knight Rises', cosine_sim, indices))\n",
    "\n",
    "#################################################\n",
    "#<script.py> output:\n",
    "#    1                              Batman Forever\n",
    "#    2                                      Batman\n",
    "#    3                              Batman Returns\n",
    "#    8                  Batman: Under the Red Hood\n",
    "#    9                            Batman: Year One\n",
    "#    10    Batman: The Dark Knight Returns, Part 1\n",
    "#    11    Batman: The Dark Knight Returns, Part 2\n",
    "#    5                Batman: Mask of the Phantasm\n",
    "#    7                               Batman Begins\n",
    "#    4                              Batman & Robin\n",
    "#    Name: title, dtype: object\n",
    "#################################################\n",
    "#You've just built your very first recommendation system. Notice\n",
    "#how the recommender correctly identifies 'The Dark Knight Rises'\n",
    "#as a Batman movie and recommends other Batman movies as a result.\n",
    "#This system is, of course, very primitive and there are a host\n",
    "#of ways in which it could be improved. One method would be to\n",
    "#look at the cast, crew and genre in addition to the plot to\n",
    "#generate recommendations. We will not be covering this in this\n",
    "#course but you have all the tools necessary to accomplish this.\n",
    "#Do give it a try!"
   ],
   "metadata": {
    "collapsed": false,
    "pycharm": {
     "name": "#%%\n"
    }
   }
  },
  {
   "cell_type": "code",
   "execution_count": null,
   "outputs": [],
   "source": [
    "#The recommender function\n",
    "\n",
    "#In this exercise, we will build a recommender function\n",
    "#get_recommendations(), as discussed in the lesson and the\n",
    "#previous exercise. As we know, it takes in a title, a cosine\n",
    "#similarity matrix, and a movie title and index mapping as\n",
    "#arguments and outputs a list of 10 titles most similar to the\n",
    "#original title (excluding the title itself).\n",
    "\n",
    "#You have been given a dataset metadata that consists of the\n",
    "#movie titles and overviews. The head of this dataset has been\n",
    "#printed to console.\n",
    "\n",
    "#################################################\n",
    "#               title                                            tagline\n",
    "#938  Cinema Paradiso  A celebration of youth, friendship, and the ev...\n",
    "#630         Spy Hard  All the action. All the women. Half the intell...\n",
    "#682        Stonewall                    The fight for the right to love\n",
    "#514           Killer                    You only hurt the one you love.\n",
    "#365    Jason's Lyric                                   Love is courage.\n",
    "#################################################\n",
    "\n",
    "# Generate mapping between titles and index\n",
    "#indices = pd.Series(metadata.index, index=metadata['title']).drop_duplicates()\n",
    "\n",
    "#def get_recommendations(title, cosine_sim, indices):\n",
    "    # Get index of movie that matches title\n",
    "#    idx = indices[title]\n",
    "    # Sort the movies based on the similarity scores\n",
    "#    sim_scores = list(enumerate(cosine_sim[idx]))\n",
    "#    sim_scores = sorted(sim_scores, key=lambda x: x[1], reverse=True)\n",
    "    # Get the scores for 10 most similar movies\n",
    "#    sim_scores = sim_scores[1:11]\n",
    "    # Get the movie indices\n",
    "#    movie_indices = [i[0] for i in sim_scores]\n",
    "    # Return the top 10 most similar movies\n",
    "#    return metadata['title'].iloc[movie_indices]\n",
    "\n",
    "#################################################\n",
    "#With this recommender function in our toolkit, we are now in a\n",
    "#very good place to build the rest of the components of our\n",
    "#recommendation engine."
   ],
   "metadata": {
    "collapsed": false,
    "pycharm": {
     "name": "#%%\n"
    }
   }
  },
  {
   "cell_type": "code",
   "execution_count": null,
   "outputs": [],
   "source": [
    "#TED talk recommender\n",
    "\n",
    "#In this exercise, we will build a recommendation system that\n",
    "#suggests TED Talks based on their transcripts. You have been\n",
    "#given a get_recommendations() function that takes in the title\n",
    "#of a talk, a similarity matrix and an indices series as its\n",
    "#arguments, and outputs a list of most similar talks. indices\n",
    "#has already been provided to you.\n",
    "\n",
    "#You have also been given a transcripts series that contains the\n",
    "#transcripts of around 500 TED talks. Your task is to generate a\n",
    "#cosine similarity matrix for the tf-idf vectors of the talk\n",
    "#transcripts.\n",
    "\n",
    "#Consequently, we will generate recommendations for a talk\n",
    "#titled '5 ways to kill your dreams' by Brazilian entrepreneur\n",
    "#Bel Pesce.\n",
    "\n",
    "# Initialize the TfidfVectorizer\n",
    "#tfidf = TfidfVectorizer(stop_words='english')\n",
    "\n",
    "# Construct the TF-IDF matrix\n",
    "#tfidf_matrix = tfidf.fit_transform(transcripts)\n",
    "\n",
    "# Generate the cosine similarity matrix\n",
    "#cosine_sim = linear_kernel(tfidf_matrix, tfidf_matrix)\n",
    "\n",
    "# Generate recommendations\n",
    "#print(get_recommendations('5 ways to kill your dreams', cosine_sim, indices))\n",
    "\n",
    "#################################################\n",
    "#<script.py> output:\n",
    "#    453             Success is a continuous journey\n",
    "#    157                        Why we do what we do\n",
    "#    494                   How to find work you love\n",
    "#    149          My journey into movies that matter\n",
    "#    447                        One Laptop per Child\n",
    "#    230             How to get your ideas to spread\n",
    "#    497         Plug into your hard-wired happiness\n",
    "#    495    Why you will fail to have a great career\n",
    "#    179             Be suspicious of simple stories\n",
    "#    53                          To upgrade is human\n",
    "#    Name: title, dtype: object\n",
    "#################################################\n",
    "#You have successfully built a TED talk recommender. This\n",
    "#recommender works surprisingly well despite being trained only\n",
    "#on a small subset of TED talks. In fact, three of the talks\n",
    "#recommended by our system is also recommended by the official\n",
    "#TED website as talks to watch next after '5 ways to kill your\n",
    "#dreams'!"
   ],
   "metadata": {
    "collapsed": false,
    "pycharm": {
     "name": "#%%\n"
    }
   }
  },
  {
   "cell_type": "markdown",
   "source": [
    "**Beyond n-grams: word embeddings**\n",
    "___\n",
    "![_images/19.9.PNG](_images/19.9.PNG)\n",
    "- Word embeddings\n",
    "    - mapping words into an n-dimensional vector space\n",
    "    - produced using deep learning and huge amounts of data\n",
    "    - discern how similar two words are to each other\n",
    "    - used to detect synonyms and antonyms\n",
    "    - captures complex relationships\n",
    "        King - Queen -> Man - Woman\n",
    "        France - Paris -> Russia - Moscow\n",
    "    - dependent on spaCy model; independent of data set you use\n",
    "___"
   ],
   "metadata": {
    "collapsed": false
   }
  },
  {
   "cell_type": "code",
   "execution_count": 1,
   "outputs": [
    {
     "name": "stdout",
     "output_type": "stream",
     "text": [
      "I I 1.0\n",
      "I like 0.55549127\n",
      "I apples 0.20442726\n",
      "I and 0.31607854\n",
      "I oranges 0.1882408\n",
      "like I 0.55549127\n",
      "like like 1.0\n",
      "like apples 0.3298714\n",
      "like and 0.5267484\n",
      "like oranges 0.27717474\n",
      "apples I 0.20442726\n",
      "apples like 0.3298714\n",
      "apples apples 1.0\n",
      "apples and 0.24097733\n",
      "apples oranges 0.77809423\n",
      "and I 0.31607854\n",
      "and like 0.5267484\n",
      "and apples 0.24097733\n",
      "and and 1.0\n",
      "and oranges 0.19245945\n",
      "oranges I 0.1882408\n",
      "oranges like 0.27717474\n",
      "oranges apples 0.77809423\n",
      "oranges and 0.19245945\n",
      "oranges oranges 1.0\n"
     ]
    }
   ],
   "source": [
    "#Generating word vectors\n",
    "\n",
    "#In this exercise, we will generate the pairwise similarity\n",
    "#scores of all the words in a sentence. The sentence is available\n",
    "#as sent and has been printed to the console for your convenience.\n",
    "\n",
    "sent = 'I like apples and oranges'\n",
    "\n",
    "import spacy\n",
    "\n",
    "# Load the en_core_web_sm model\n",
    "nlp = spacy.load('en_core_web_lg')\n",
    "\n",
    "# Create the doc object\n",
    "doc = nlp(sent)\n",
    "\n",
    "# Compute pairwise similarity scores\n",
    "for token1 in doc:\n",
    "  for token2 in doc:\n",
    "    print(token1.text, token2.text, token1.similarity(token2))\n",
    "\n",
    "#################################################\n",
    "#Notice how the words 'apples' and 'oranges' have the highest\n",
    "#pairwaise similarity score. This is expected as they are both\n",
    "#fruits and are more related to each other than any other pair\n",
    "#of words."
   ],
   "metadata": {
    "collapsed": false,
    "pycharm": {
     "name": "#%%\n"
    }
   }
  },
  {
   "cell_type": "code",
   "execution_count": 2,
   "outputs": [
    {
     "name": "stdout",
     "output_type": "stream",
     "text": [
      "0.8653563052842299\n",
      "0.9595266707315476\n"
     ]
    }
   ],
   "source": [
    "#Computing similarity of Pink Floyd songs\n",
    "\n",
    "#In this final exercise, you have been given lyrics of three\n",
    "#songs by the British band Pink Floyd, namely 'High Hopes',\n",
    "#'Hey You' and 'Mother'. The lyrics to these songs are available\n",
    "#as hopes, hey and mother respectively.\n",
    "\n",
    "#Your task is to compute the pairwise similarity between mother\n",
    "#and hopes, and mother and hey.\n",
    "\n",
    "mother = \"\\nMother do you think they'll drop the bomb?\\nMother do you think they'll like this song?\\nMother do you think they'll try to break my balls?\\nOoh, ah\\nMother should I build the wall?\\nMother should I run for President?\\nMother should I trust the government?\\nMother will they put me in the firing mine?\\nOoh ah,\\nIs it just a waste of time?\\nHush now baby, baby, don't you cry.\\nMama's gonna make all your nightmares come true.\\nMama's gonna put all her fears into you.\\nMama's gonna keep you right here under her wing.\\nShe won't let you fly, but she might let you sing.\\nMama's gonna keep baby cozy and warm.\\nOoh baby, ooh baby, ooh baby,\\nOf course mama's gonna help build the wall.\\nMother do you think she's good enough, for me?\\nMother do you think she's dangerous, to me?\\nMother will she tear your little boy apart?\\nOoh ah,\\nMother will she break my heart?\\nHush now baby, baby don't you cry.\\nMama's gonna check out all your girlfriends for you.\\nMama won't let anyone dirty get through.\\nMama's gonna wait up until you get in.\\nMama will always find out where you've been.\\nMama's gonna keep baby healthy and clean.\\nOoh baby, ooh baby, ooh baby,\\nYou'll always be baby to me.\\nMother, did it need to be so high?\\n\"\n",
    "hopes = \"\\nBeyond the horizon of the place we lived when we were young\\nIn a world of magnets and miracles\\nOur thoughts strayed constantly and without boundary\\nThe ringing of the division bell had begun\\nAlong the Long Road and on down the Causeway\\nDo they still meet there by the Cut\\nThere was a ragged band that followed in our footsteps\\nRunning before times took our dreams away\\nLeaving the myriad small creatures trying to tie us to the ground\\nTo a life consumed by slow decay\\nThe grass was greener\\nThe light was brighter\\nWhen friends surrounded\\nThe nights of wonder\\nLooking beyond the embers of bridges glowing behind us\\nTo a glimpse of how green it was on the other side\\nSteps taken forwards but sleepwalking back again\\nDragged by the force of some in a tide\\nAt a higher altitude with flag unfurled\\nWe reached the dizzy heights of that dreamed of world\\nEncumbered forever by desire and ambition\\nThere's a hunger still unsatisfied\\nOur weary eyes still stray to the horizon\\nThough down this road we've been so many times\\nThe grass was greener\\nThe light was brighter\\nThe taste was sweeter\\nThe nights of wonder\\nWith friends surrounded\\nThe dawn mist glowing\\nThe water flowing\\nThe endless river\\nForever and ever\\n\"\n",
    "hey = \"\\nHey you, out there in the cold\\nGetting lonely, getting old\\nCan you feel me?\\nHey you, standing in the aisles\\nWith itchy feet and fading smiles\\nCan you feel me?\\nHey you, don't help them to bury the light\\nDon't give in without a fight\\nHey you out there on your own\\nSitting naked by the phone\\nWould you touch me?\\nHey you with you ear against the wall\\nWaiting for someone to call out\\nWould you touch me?\\nHey you, would you help me to carry the stone?\\nOpen your heart, I'm coming home\\nBut it was only fantasy\\nThe wall was too high\\nAs you can see\\nNo matter how he tried\\nHe could not break free\\nAnd the worms ate into his brain\\nHey you, out there on the road\\nAlways doing what you're told\\nCan you help me?\\nHey you, out there beyond the wall\\nBreaking bottles in the hall\\nCan you help me?\\nHey you, don't tell me there's no hope at all\\nTogether we stand, divided we fall\\n\"\n",
    "\n",
    "import spacy\n",
    "\n",
    "# Load the en_core_web_sm model\n",
    "nlp = spacy.load('en_core_web_lg')\n",
    "\n",
    "# Create Doc objects\n",
    "mother_doc = nlp(mother)\n",
    "hopes_doc = nlp(hopes)\n",
    "hey_doc = nlp(hey)\n",
    "\n",
    "# Print similarity between mother and hopes\n",
    "print(mother_doc.similarity(hopes_doc))\n",
    "\n",
    "# Print similarity between mother and hey\n",
    "print(mother_doc.similarity(hey_doc))\n",
    "\n",
    "#################################################\n",
    "#Notice that 'Mother' and 'Hey You' have a similarity score of\n",
    "#0.9 whereas 'Mother' and 'High Hopes' has a score of only 0.6.\n",
    "#This is probably because 'Mother' and 'Hey You' were both songs\n",
    "#from the same album 'The Wall' and were penned by Roger Waters.\n",
    "#On the other hand, 'High Hopes' was a part of the album\n",
    "#'Division Bell' with lyrics by David Gilmour and his wife,\n",
    "#Penny Samson. Treat yourself by listening to these songs.\n",
    "#They're some of the best!"
   ],
   "metadata": {
    "collapsed": false,
    "pycharm": {
     "name": "#%%\n"
    }
   }
  },
  {
   "cell_type": "markdown",
   "source": [
    "**Congratulations!**\n",
    "___\n",
    "- Review\n",
    "    - basic features (characters, words, mentions, etc.)\n",
    "    - readability scores\n",
    "    - tokenization and lemmatization\n",
    "    - text cleaning\n",
    "    - part-of-speech tagging & named entity recognition\n",
    "    - n-gram modelling\n",
    "    - tf-idf\n",
    "    - Cosine similarity\n",
    "    - word embeddings\n",
    "- Further DataCamp courses\n",
    "    - advanced NLP with spaCy\n",
    "    - Deep Learning in Python\n",
    "\n",
    "___\n"
   ],
   "metadata": {
    "collapsed": false
   }
  }
 ],
 "metadata": {
  "kernelspec": {
   "display_name": "Python 3",
   "language": "python",
   "name": "python3"
  },
  "language_info": {
   "codemirror_mode": {
    "name": "ipython",
    "version": 2
   },
   "file_extension": ".py",
   "mimetype": "text/x-python",
   "name": "python",
   "nbconvert_exporter": "python",
   "pygments_lexer": "ipython2",
   "version": "2.7.6"
  }
 },
 "nbformat": 4,
 "nbformat_minor": 0
}