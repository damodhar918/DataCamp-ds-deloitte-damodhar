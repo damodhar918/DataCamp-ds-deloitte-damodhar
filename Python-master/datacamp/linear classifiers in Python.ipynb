{
 "cells": [
  {
   "cell_type": "markdown",
   "metadata": {
    "collapsed": true,
    "pycharm": {
     "name": "#%% md\n"
    }
   },
   "source": [
    "**scikit-learn refresher**\n",
    "___"
   ]
  },
  {
   "cell_type": "code",
   "execution_count": null,
   "outputs": [],
   "source": [
    "#KNN classification\n",
    "\n",
    "#In this exercise you'll explore a subset of the Large Movie Review Dataset.\n",
    "#'The variables X_train, X_test, y_train, and y_test are already loaded\n",
    "#into the environment. The X variables contain features based on the words\n",
    "#in the movie reviews, and the y variables contain labels for whether the\n",
    "#review sentiment is positive (+1) or negative (-1).\n",
    "\n",
    "from sklearn.neighbors import KNeighborsClassifier\n",
    "\n",
    "# Create and fit the model\n",
    "knn = KNeighborsClassifier()\n",
    "#knn.fit(X_train, y_train)\n",
    "\n",
    "# Predict on the test features, print the results\n",
    "#pred = knn.predict(X_test)[0]\n",
    "#print(\"Prediction for test example 0:\", pred)\n",
    "\n",
    "#################################################\n",
    "#<script.py> output:\n",
    "#    Prediction for test example 0: 1.0"
   ],
   "metadata": {
    "collapsed": false,
    "pycharm": {
     "name": "#%%\n"
    }
   }
  },
  {
   "cell_type": "code",
   "execution_count": null,
   "outputs": [],
   "source": [
    "#Comparing models\n",
    "#create two instances of KNeighborsClassifier with n_neighbors=1, 5\n",
    "#fit training data to both instances\n",
    "\n",
    "#test for accuracy\n",
    "#knn1.score(X_test, y_test)\n",
    "#knn5.score(X_test, y_test)"
   ],
   "metadata": {
    "collapsed": false,
    "pycharm": {
     "name": "#%%\n"
    }
   }
  },
  {
   "cell_type": "markdown",
   "source": [
    "Review:\n",
    "- **Underfitting**: model is too simple, low training accuracy\n",
    "- **Overfitting**: model is too complex, low test accuracy\n",
    "\n",
    "an example of **overfitting**:\n",
    "- Training accuracy 95%, testing accuracy 50%.\n",
    "\n",
    "*overfitting refers to doing better on the training set than the test set.*\n",
    "___"
   ],
   "metadata": {
    "collapsed": false
   }
  },
  {
   "cell_type": "markdown",
   "source": [
    "**Applying logistic regression and Support Vector Machines/Classifier (SVM/SVC)**\n",
    "___\n",
    "- SVC - non-linear SVM by default"
   ],
   "metadata": {
    "collapsed": false
   }
  },
  {
   "cell_type": "code",
   "execution_count": 1,
   "outputs": [
    {
     "name": "stderr",
     "output_type": "stream",
     "text": [
      "C:\\Users\\p1n3d\\anaconda3\\lib\\site-packages\\sklearn\\linear_model\\_logistic.py:764: ConvergenceWarning: lbfgs failed to converge (status=1):\n",
      "STOP: TOTAL NO. of ITERATIONS REACHED LIMIT.\n",
      "\n",
      "Increase the number of iterations (max_iter) or scale the data as shown in:\n",
      "    https://scikit-learn.org/stable/modules/preprocessing.html\n",
      "Please also refer to the documentation for alternative solver options:\n",
      "    https://scikit-learn.org/stable/modules/linear_model.html#logistic-regression\n",
      "  extra_warning_msg=_LOGISTIC_SOLVER_CONVERGENCE_MSG)\n"
     ]
    },
    {
     "name": "stdout",
     "output_type": "stream",
     "text": [
      "1.0\n",
      "0.9688888888888889\n",
      "0.9955456570155902\n",
      "0.9888888888888889\n"
     ]
    }
   ],
   "source": [
    "#Running LogisticRegression and SVC\n",
    "\n",
    "from sklearn.model_selection import train_test_split\n",
    "from sklearn.linear_model import LogisticRegression\n",
    "from sklearn.svm import SVC\n",
    "from sklearn import datasets\n",
    "\n",
    "digits = datasets.load_digits()\n",
    "X_train, X_test, y_train, y_test = train_test_split(digits.data, digits.target)\n",
    "\n",
    "# Apply logistic regression and print scores\n",
    "lr = LogisticRegression()\n",
    "lr.fit(X_train, y_train)\n",
    "print(lr.score(X_train, y_train))\n",
    "print(lr.score(X_test, y_test))\n",
    "\n",
    "# Apply SVM and print scores\n",
    "svm = SVC()\n",
    "svm.fit(X_train, y_train)\n",
    "print(svm.score(X_train, y_train))\n",
    "print(svm.score(X_test, y_test))"
   ],
   "metadata": {
    "collapsed": false,
    "pycharm": {
     "name": "#%%\n"
    }
   }
  },
  {
   "cell_type": "code",
   "execution_count": 3,
   "outputs": [
    {
     "name": "stdout",
     "output_type": "stream",
     "text": [
      "Review: LOVED IT! This movie was amazing. Top 10 this year.\n",
      "Review: Total junk! I'll never watch a film by that director again, no matter how good the reviews.\n"
     ]
    }
   ],
   "source": [
    "#Sentiment analysis for movie reviews\n",
    "\n",
    "from sklearn.linear_model import LogisticRegression\n",
    "\n",
    "# Instantiate logistic regression and train\n",
    "lr = LogisticRegression()\n",
    "#lr.fit(X, y)\n",
    "\n",
    "# Predict sentiment for a glowing review\n",
    "review1 = \"LOVED IT! This movie was amazing. Top 10 this year.\"\n",
    "#review1_features = get_features(review1)\n",
    "print(\"Review:\", review1)\n",
    "#print(\"Probability of positive review:\", lr.predict_proba(review1_features)[0,1])\n",
    "\n",
    "# Predict sentiment for a poor review\n",
    "review2 = \"Total junk! I'll never watch a film by that director again, no matter how good the reviews.\"\n",
    "#review2_features = get_features(review2)\n",
    "print(\"Review:\", review2)\n",
    "#print(\"Probability of positive review:\", lr.predict_proba(review2_features)[0,1])\n",
    "\n",
    "#################################################\n",
    "#<script.py> output:\n",
    "#    Review: LOVED IT! This movie was amazing. Top 10 this year.\n",
    "#    Probability of positive review: 0.8079007873616059\n",
    "#    Review: Total junk! I'll never watch a film by that director again, no matter how good the reviews.\n",
    "#    Probability of positive review: 0.5855117402793947"
   ],
   "metadata": {
    "collapsed": false,
    "pycharm": {
     "name": "#%%\n"
    }
   }
  },
  {
   "cell_type": "markdown",
   "source": [
    "**Linear classifiers**\n",
    "___\n",
    "Definitions\n",
    "- **classification**: learning to predict categories\n",
    "- **decision boundary**: the surface separating different predicted classes\n",
    "- **linear classifier**: a classifier that learns linear decision boundaries\n",
    "    - e.g., logistic regression, linear SVM\n",
    "- **linearly separable**: a data set can be perfectly explained by a linear classifier\n",
    "___\n"
   ],
   "metadata": {
    "collapsed": false
   }
  },
  {
   "cell_type": "code",
   "execution_count": 6,
   "outputs": [
    {
     "name": "stderr",
     "output_type": "stream",
     "text": [
      "C:\\Users\\p1n3d\\anaconda3\\lib\\site-packages\\sklearn\\linear_model\\_logistic.py:764: ConvergenceWarning: lbfgs failed to converge (status=1):\n",
      "STOP: TOTAL NO. of ITERATIONS REACHED LIMIT.\n",
      "\n",
      "Increase the number of iterations (max_iter) or scale the data as shown in:\n",
      "    https://scikit-learn.org/stable/modules/preprocessing.html\n",
      "Please also refer to the documentation for alternative solver options:\n",
      "    https://scikit-learn.org/stable/modules/linear_model.html#logistic-regression\n",
      "  extra_warning_msg=_LOGISTIC_SOLVER_CONVERGENCE_MSG)\n",
      "C:\\Users\\p1n3d\\anaconda3\\lib\\site-packages\\sklearn\\svm\\_base.py:977: ConvergenceWarning: Liblinear failed to converge, increase the number of iterations.\n",
      "  \"the number of iterations.\", ConvergenceWarning)\n"
     ]
    }
   ],
   "source": [
    "#Visualizing decision boundaries\n",
    "\n",
    "import numpy as np\n",
    "import matplotlib.pyplot as plt\n",
    "from sklearn import datasets\n",
    "from sklearn.linear_model import LogisticRegression\n",
    "from sklearn.svm import SVC, LinearSVC\n",
    "from sklearn.neighbors import KNeighborsClassifier\n",
    "\n",
    "wine = datasets.load_wine()\n",
    "X=wine.data\n",
    "y=wine.target\n",
    "\n",
    "# Define the classifiers\n",
    "classifiers = [LogisticRegression(), LinearSVC(),\n",
    "               SVC(), KNeighborsClassifier()]\n",
    "\n",
    "# Fit the classifiers\n",
    "for c in classifiers:\n",
    "    c.fit(X, y)\n",
    "\n",
    "# Plot the classifiers - plot is a series of previously defined functions\n",
    "#plot_4_classifiers(X, y, classifiers)\n",
    "#plt.show()"
   ],
   "metadata": {
    "collapsed": false,
    "pycharm": {
     "name": "#%%\n"
    }
   }
  },
  {
   "cell_type": "markdown",
   "source": [
    "![_images/9.1.svg](_images/9.1.svg)"
   ],
   "metadata": {
    "collapsed": false
   }
  },
  {
   "cell_type": "markdown",
   "source": [
    "**Linear classifiers: the coefficients**\n",
    "___\n",
    "- Dot products\n",
    "    - multiply each element in arrays\n",
    "    - sum elements in remaining array\n",
    "    - x@y\n",
    "- Linear classifier prediction\n",
    "    - raw model output = coefficients[.coef_] @ features + intercept[.intercept_]\n",
    "    - if positive predict one class; if negative predict the other class\n",
    "- This is the same for logistic regression and linear SVM\n",
    "    - i.e. 'fit' is different but 'predict' is the same\n",
    "- **intercept** changes boundary location but not orientation\n",
    "- **coefficients** change orientation of boundary line\n",
    "___"
   ],
   "metadata": {
    "collapsed": false
   }
  },
  {
   "cell_type": "code",
   "execution_count": null,
   "outputs": [],
   "source": [
    "#Changing the model coefficients\n",
    "\n",
    "#When you call fit with scikit-learn, the logistic regression coefficients\n",
    "#are automatically learned from your dataset. In this exercise you will\n",
    "#explore how the decision boundary is represented by the coefficients. To\n",
    "#do so, you will change the coefficients manually (instead of with fit),\n",
    "#and visualize the resulting classifiers.\n",
    "\n",
    "#A 2D dataset is already loaded into the environment as X and y,\n",
    "#along with a linear classifier object model\n",
    "\n",
    "# Set the coefficients\n",
    "#model.coef_ = np.array([[0,1]])\n",
    "#model.intercept_ = np.array([0])\n",
    "\n",
    "# Plot the data and decision boundary using preset function\n",
    "#plot_classifier(X,y,model)\n",
    "\n",
    "# Print the number of errors\n",
    "#num_err = np.sum(y != model.predict(X))\n",
    "#print(\"Number of errors:\", num_err)\n",
    "\n",
    "#################################################\n",
    "#<script.py> output:\n",
    "#    Number of errors: 3"
   ],
   "metadata": {
    "collapsed": false,
    "pycharm": {
     "name": "#%%\n"
    }
   }
  },
  {
   "cell_type": "markdown",
   "source": [
    "![_images/9.2.svg](_images/9.2.svg)"
   ],
   "metadata": {
    "collapsed": false
   }
  },
  {
   "cell_type": "markdown",
   "source": [
    "**What is a loss function?**\n",
    "___\n",
    "- Least squares: the squared loss (linear regression)\n",
    "    - minimizes square of the error made on training set\n",
    "    - $$\\sum_{i=1}^{n}(\\text{true ith target value - predicted ith target value})^{2}$$\n",
    "- **loss function**\n",
    "    - penalty score that tells us how well/poorly model is doing on training data\n",
    "- **fit function**\n",
    "    - minimizes loss\n",
    "- *squared loss/error is not appropriate for classification problems*\n",
    "    - 0-1 loss\n",
    "    - 0 for correct prediction, 1 for incorrect prediction\n",
    "        - a natural loss for classification problem is the number of errors\n",
    "- minimizing loss using Python\n",
    "    - from **scipy.optimize** import **minimize**\n",
    "    - inputs are values of model coefficents\n",
    "    - what values of the model coefficients make my squared error as small as possible?\n",
    "___"
   ],
   "metadata": {
    "collapsed": false
   }
  },
  {
   "cell_type": "code",
   "execution_count": null,
   "outputs": [],
   "source": [
    "#Minimizing a loss function\n",
    "\n",
    "#In this exercise you'll implement linear regression \"from scratch\" using\n",
    "#scipy.optimize.minimize.\n",
    "\n",
    "#We'll train a model on the Boston housing price data set, which is\n",
    "#already loaded into the variables X and y. For simplicity, we won't\n",
    "#include an intercept in our regression model.\n",
    "\n",
    "# The squared error, summed over training examples\n",
    "def my_loss(w):\n",
    "    s = 0\n",
    "    for i in range(y.size):\n",
    "        # Get the true and predicted target values for example 'i'\n",
    "        y_i_true = y[i]\n",
    "        y_i_pred = w@X[i]\n",
    "        s = s + (y_i_true - y_i_pred)**2\n",
    "    return s\n",
    "\n",
    "# Returns the w that makes my_loss(w) smallest\n",
    "#w_fit = minimize(my_loss, X[0]).x\n",
    "#print(w_fit)\n",
    "\n",
    "# Compare with scikit-learn's LinearRegression coefficients\n",
    "#lr = LinearRegression(fit_intercept=False).fit(X,y)\n",
    "#print(lr.coef_)\n",
    "\n",
    "#################################################\n",
    "#<script.py> output:\n",
    "#    [-9.16299112e-02  4.86754828e-02 -3.77698794e-03  2.85635998e+00\n",
    "#     -2.88057050e+00  5.92521269e+00 -7.22470732e-03 -9.67992974e-01\n",
    "#      1.70448714e-01 -9.38971600e-03 -3.92421893e-01  1.49830571e-02\n",
    "#     -4.16973012e-01]\n",
    "#    [-9.16297843e-02  4.86751203e-02 -3.77930006e-03  2.85636751e+00\n",
    "#     -2.88077933e+00  5.92521432e+00 -7.22447929e-03 -9.67995240e-01\n",
    "#      1.70443393e-01 -9.38925373e-03 -3.92425680e-01  1.49832102e-02\n",
    "#     -4.16972624e-01]"
   ],
   "metadata": {
    "collapsed": false,
    "pycharm": {
     "name": "#%%\n"
    }
   }
  },
  {
   "cell_type": "markdown",
   "source": [
    "**Loss function diagrams**\n",
    "___\n",
    "- incorrect predictions get a loss penalty of 1\n",
    "- **linear regression** (OLS)\n",
    "    - loss is higher the further away from true target value we are, positive or negative (parabola)\n",
    "- **logistic regression**\n",
    "    - loss is a smooth curve, higher for incorrect predictions\n",
    "- **hinge loss** (SVM)\n",
    "    - consistent with logistic loss curve, but not smooth"
   ],
   "metadata": {
    "collapsed": false,
    "pycharm": {
     "name": "#%% md\n"
    }
   }
  },
  {
   "cell_type": "code",
   "execution_count": 8,
   "outputs": [
    {
     "data": {
      "text/plain": "<Figure size 432x288 with 1 Axes>",
      "image/png": "[encoded data removed]"
     },
     "metadata": {
      "needs_background": "light"
     },
     "output_type": "display_data"
    }
   ],
   "source": [
    "#Comparing the logistic and hinge losses\n",
    "\n",
    "import numpy as np\n",
    "import matplotlib.pyplot as plt\n",
    "\n",
    "# Mathematical functions for logistic and hinge losses\n",
    "def log_loss(raw_model_output):\n",
    "   return np.log(1+np.exp(-raw_model_output))\n",
    "def hinge_loss(raw_model_output):\n",
    "   return np.maximum(0,1-raw_model_output)\n",
    "\n",
    "# Create a grid of values and plot\n",
    "grid = np.linspace(-2,2,1000)\n",
    "plt.xlabel(\"raw model output\")\n",
    "plt.ylabel(\"loss\")\n",
    "plt.plot(grid, log_loss(grid), label='logistic')\n",
    "plt.plot(grid, hinge_loss(grid), label='hinge')\n",
    "plt.legend()\n",
    "plt.show()"
   ],
   "metadata": {
    "collapsed": false,
    "pycharm": {
     "name": "#%%\n"
    }
   }
  },
  {
   "cell_type": "code",
   "execution_count": null,
   "outputs": [],
   "source": [
    "#Implementing logistic regression\n",
    "\n",
    "#This is very similar to the earlier exercise where you implemented linear\n",
    "#regression \"from scratch\" using scipy.optimize.minimize. However, this\n",
    "#time we'll minimize the logistic loss and compare with scikit-learn's\n",
    "#LogisticRegression (we've set C to a large value to disable regularization;\n",
    "#more on this in Chapter 3!).\n",
    "\n",
    "#The log_loss() function from the previous exercise is already defined in\n",
    "#your environment, and the sklearn breast cancer prediction dataset (first\n",
    "#10 features, standardized) is loaded into the variables X and y.\n",
    "\n",
    "import numpy as np\n",
    "\n",
    "# Mathematical function for logistic loss\n",
    "def log_loss(raw_model_output):\n",
    "   return np.log(1+np.exp(-raw_model_output))\n",
    "\n",
    "# The logistic loss, summed over training examples\n",
    "def my_loss(w):\n",
    "    s = 0\n",
    "    for i in range(y.size):\n",
    "        raw_model_output = w@X[i]\n",
    "        s = s + log_loss(raw_model_output * y[i])\n",
    "    return s\n",
    "\n",
    "# Returns the w that makes my_loss(w) smallest\n",
    "#w_fit = minimize(my_loss, X[0]).x\n",
    "#print(w_fit)\n",
    "\n",
    "#################################################\n",
    "#<script.py> output:\n",
    "#    [ 1.03592182 -1.65378492  4.08331342 -9.40923002 -1.06786489  0.07892114\n",
    "#     -0.85110344 -2.44103305 -0.45285671  0.43353448]\n",
    "#    [[ 1.03731085 -1.65339037  4.08143924 -9.40788356 -1.06757746  0.07895582\n",
    "#      -0.85072003 -2.44079089 -0.45271     0.43334997]]"
   ],
   "metadata": {
    "collapsed": false,
    "pycharm": {
     "name": "#%%\n"
    }
   }
  },
  {
   "cell_type": "markdown",
   "source": [
    "**Logistic regression and regularization**\n",
    "___\n",
    "- **Regularization** combats overfitting by making model coefficients smaller\n",
    "    - hyperparameter \"C\" is inverse to regularization\n",
    "        - higher \"C\" means less regularization\n",
    "        - smaller \"C\" means more regularization\n",
    "- How does regularization affect training accuracy?\n",
    "    - regularized loss = original loss + large coefficient penalty\n",
    "    - regularization is an extra term added to original loss function\n",
    "    - more regularization: *lower training accuracy*\n",
    "- How does regularization affect test accuracy?\n",
    "    - regularized loss = original loss + large coefficient penalty\n",
    "    - regularization assists in keeping features that overfit the test data\n",
    "    - more regularization: almost always *higher test accuracy*\n",
    "- Lasso\n",
    "    - L1 Regularization\n",
    "    - also performs feature selection\n",
    "- Ridge\n",
    "    - L2 Regularization\n",
    "___"
   ],
   "metadata": {
    "collapsed": false
   }
  },
  {
   "cell_type": "code",
   "execution_count": 17,
   "outputs": [
    {
     "data": {
      "text/plain": "<Figure size 432x288 with 1 Axes>",
      "image/png": "[encoded data removed]"
     },
     "metadata": {
      "needs_background": "light"
     },
     "output_type": "display_data"
    }
   ],
   "source": [
    "#Regularized logistic regression\n",
    "\n",
    "#In Chapter 1, you used logistic regression on the handwritten digits\n",
    "#data set. Here, we'll explore the effect of L2 regularization.\n",
    "\n",
    "#As you can see, too much regularization (small C) doesn't work well -\n",
    "#due to underfitting - and too little regularization (large C) doesn't\n",
    "#work well either - due to overfitting.\n",
    "\n",
    "from sklearn import datasets\n",
    "from sklearn.model_selection import train_test_split\n",
    "from sklearn.linear_model import LogisticRegression\n",
    "import matplotlib.pyplot as plt\n",
    "\n",
    "digits = datasets.load_digits()\n",
    "X_train, X_valid, y_train, y_valid = train_test_split(digits.data, digits.target, random_state=42)\n",
    "\n",
    "# Train and validaton errors initialized as empty list\n",
    "train_errs = list()\n",
    "valid_errs = list()\n",
    "C_values=[0.001, 0.01, 0.1, 1, 10, 100, 1000]\n",
    "\n",
    "# Loop over values of C_value\n",
    "for C_value in C_values:\n",
    "    # Create LogisticRegression object and fit\n",
    "    lr = LogisticRegression(C=C_value, max_iter=2750)\n",
    "    lr.fit(X_train, y_train)\n",
    "\n",
    "    # Evaluate error rates and append to lists\n",
    "    train_errs.append( 1.0 - lr.score(X_train, y_train) )\n",
    "    valid_errs.append( 1.0 - lr.score(X_valid, y_valid) )\n",
    "\n",
    "# Plot results\n",
    "plt.semilogx(C_values, train_errs, C_values, valid_errs)\n",
    "plt.legend((\"train\", \"validation\"))\n",
    "plt.show()"
   ],
   "metadata": {
    "collapsed": false,
    "pycharm": {
     "name": "#%%\n"
    }
   }
  },
  {
   "cell_type": "code",
   "execution_count": 31,
   "outputs": [],
   "source": [
    "#Logistic regression and feature selection\n",
    "\n",
    "#In this exercise we'll perform feature selection on the movie review\n",
    "#sentiment data set using L1 regularization. The features and targets are\n",
    "#already loaded for you in X_train and y_train.\n",
    "\n",
    "#We'll search for the best value of C using scikit-learn's GridSearchCV(),\n",
    "#which was covered in the prerequisite course.\n",
    "\n",
    "# Specify L1 regularization\n",
    "lr = LogisticRegression(penalty=\"l1\")\n",
    "\n",
    "# Instantiate the GridSearchCV object and run the search\n",
    "#searcher = GridSearchCV(lr, {'C':[0.001, 0.01, 0.1, 1, 10]})\n",
    "#searcher.fit(X_train, y_train)\n",
    "\n",
    "# Report the best parameters\n",
    "#print(\"Best CV params\", searcher.best_params_)\n",
    "\n",
    "# Find the number of nonzero coefficients (selected features)\n",
    "#best_lr = searcher.best_estimator_\n",
    "#coefs = best_lr.coef_\n",
    "#print(\"Total number of features:\", coefs.size)\n",
    "#print(\"Number of selected features:\", np.count_nonzero(coefs))\n",
    "\n",
    "#################################################\n",
    "#<script.py> output:\n",
    "#    Best CV params {'C': 1}\n",
    "#    Total number of features: 2500\n",
    "#    Number of selected features: 1220"
   ],
   "metadata": {
    "collapsed": false,
    "pycharm": {
     "name": "#%%\n"
    }
   }
  },
  {
   "cell_type": "code",
   "execution_count": null,
   "outputs": [],
   "source": [
    "#Identifying the most positive and negative words\n",
    "\n",
    "#In this exercise we'll try to interpret the coefficients of a logistic\n",
    "#regression fit on the movie review sentiment dataset. The model object\n",
    "#is already instantiated and fit for you in the variable lr.\n",
    "\n",
    "#In addition, the words corresponding to the different features are loaded\n",
    "#into the variable vocab. For example, since vocab[100] is \"think\", that\n",
    "#means feature 100 corresponds to the number of times the word \"think\"\n",
    "#appeared in that movie review.\n",
    "\n",
    "# Get the indices of the sorted cofficients\n",
    "#inds_ascending = np.argsort(lr.coef_.flatten())\n",
    "#inds_descending = inds_ascending[::-1]\n",
    "\n",
    "# Print the most positive words\n",
    "#print(\"Most positive words: \", end=\"\")\n",
    "#for i in range(5):\n",
    "#    print(vocab[inds_descending[i]], end=\", \")\n",
    "#print(\"\\n\")\n",
    "\n",
    "# Print most negative words\n",
    "#print(\"Most negative words: \", end=\"\")\n",
    "#for i in range(5):\n",
    "#    print(vocab[inds_ascending[i]], end=\", \")\n",
    "#print(\"\\n\")\n",
    "\n",
    "#################################################\n",
    "#<script.py> output:\n",
    "#    Most positive words: favorite, superb, noir, knowing, loved,\n",
    "#    Most negative words: disappointing, waste, worst, boring, lame,"
   ],
   "metadata": {
    "collapsed": false,
    "pycharm": {
     "name": "#%%\n"
    }
   }
  },
  {
   "cell_type": "markdown",
   "source": [
    "**Logistic regression and probabilities**\n",
    "___\n",
    "- includes decision boundary, but includes gradients indicating probabilities/confidence\n",
    "- smaller coefficients (i.e. regularization) also means less confident predictions\n",
    "- there is a relationship between overconfidence & overfitting\n",
    "    - **ratio of coefficients** gives us the slope of the line\n",
    "    - **magnitude of coefficients** gives us confidence level\n",
    "- how are probabilities computed?\n",
    "    - logistic regression: sign of \"squashed\" raw model output using sigmoid function\n",
    "___"
   ],
   "metadata": {
    "collapsed": false
   }
  },
  {
   "cell_type": "code",
   "execution_count": 24,
   "outputs": [
    {
     "name": "stdout",
     "output_type": "stream",
     "text": [
      "Maximum predicted probability for C = 1.0 0.9973143426717812\n",
      "Maximum predicted probability for C = 0.1 0.9352061679007129\n"
     ]
    }
   ],
   "source": [
    "#Regularization and probabilities\n",
    "\n",
    "#In this exercise, you will observe the effects of changing the\n",
    "#regularization strength on the predicted probabilities.\n",
    "\n",
    "#smaller values of C lead to less confident predictions. That's because\n",
    "#smaller C means more regularization, which in turn means smaller\n",
    "#coefficients, which means raw model outputs closer to zero and, thus,\n",
    "#probabilities closer to 0.5 after the raw model output is squashed\n",
    "#through the sigmoid function. That's quite a chain of events!\n",
    "\n",
    "from sklearn.linear_model import LogisticRegression\n",
    "import numpy as np\n",
    "\n",
    "X=[ [ 1.78862847,  0.43650985],\n",
    "    [ 0.09649747, -1.8634927 ],\n",
    "    [-0.2773882 , -0.35475898],\n",
    "    [-3.08274148,  2.37299932],\n",
    "    [-3.04381817,  2.52278197],\n",
    "    [-1.31386475,  0.88462238],\n",
    "    [-2.11868196,  4.70957306],\n",
    "    [-2.94996636,  2.59532259],\n",
    "    [-3.54535995,  1.45352268],\n",
    "    [ 0.98236743, -1.10106763],\n",
    "    [-1.18504653, -0.2056499 ],\n",
    "    [-1.51385164,  3.23671627],\n",
    "    [-4.02378514,  2.2870068 ],\n",
    "    [ 0.62524497, -0.16051336],\n",
    "    [-3.76883635,  2.76996928],\n",
    "    [ 0.74505627,  1.97611078],\n",
    "    [-1.24412333, -0.62641691],\n",
    "    [-0.80376609, -2.41908317],\n",
    "    [-0.92379202, -1.02387576],\n",
    "    [ 1.12397796, -0.13191423]]\n",
    "\n",
    "y=[-1, -1, -1,  1,  1, -1,  1,  1,  1, -1, -1,  1,  1, -1,  1, -1, -1, -1, -1, -1]\n",
    "\n",
    "# Set the regularization strength\n",
    "model1 = LogisticRegression(C=1)\n",
    "\n",
    "# Fit and plot\n",
    "model1.fit(X,y)\n",
    "#plot_classifier(X,y,model,proba=True)\n",
    "\n",
    "# Predict probabilities on training points\n",
    "prob1 = model1.predict_proba(X)\n",
    "print(\"Maximum predicted probability for C = 1.0\", np.max(prob1))\n",
    "\n",
    "# Set the regularization strength\n",
    "model2 = LogisticRegression(C=0.1)\n",
    "\n",
    "# Fit and plot\n",
    "model2.fit(X,y)\n",
    "#plot_classifier(X,y,model2,proba=True)\n",
    "\n",
    "# Predict probabilities on training points\n",
    "prob = model2.predict_proba(X)\n",
    "print(\"Maximum predicted probability for C = 0.1\", np.max(prob))"
   ],
   "metadata": {
    "collapsed": false,
    "pycharm": {
     "name": "#%%\n"
    }
   }
  },
  {
   "cell_type": "markdown",
   "source": [
    "C=1.0\n",
    "![_images/9.4.svg](_images/9.4.svg)\n",
    "\n",
    "C=0.1\n",
    "![_images/9.5.svg](_images/9.5.svg)"
   ],
   "metadata": {
    "collapsed": false
   }
  },
  {
   "cell_type": "code",
   "execution_count": null,
   "outputs": [],
   "source": [
    "#Visualizing easy and difficult examples\n",
    "\n",
    "#In this exercise, you'll visualize the examples that the logistic\n",
    "#regression model is most and least confident about by looking at the\n",
    "#largest and smallest predicted probabilities.\n",
    "\n",
    "#The handwritten digits dataset is already loaded into the variables X\n",
    "#and y. The show_digit function takes in an integer index and plots the\n",
    "#corresponding image, with some extra information displayed above the\n",
    "#image.\n",
    "\n",
    "lr = LogisticRegression()\n",
    "#lr.fit(X,y)\n",
    "\n",
    "# Get predicted probabilities\n",
    "#proba = lr.predict_proba(X)\n",
    "\n",
    "# Sort the example indices by their maximum probability\n",
    "#proba_inds = np.argsort(np.max(proba,axis=1))\n",
    "\n",
    "# Show the most confident (least ambiguous) digit\n",
    "#show_digit(proba_inds[-1], lr)\n",
    "\n",
    "# Show the least confident (most ambiguous) digit\n",
    "#show_digit(proba_inds[0], lr)"
   ],
   "metadata": {
    "collapsed": false,
    "pycharm": {
     "name": "#%%\n"
    }
   }
  },
  {
   "cell_type": "markdown",
   "source": [
    "Most Confident\n",
    "![_images/9.6.svg](_images/9.6.svg)\n",
    "\n",
    "Least Confident\n",
    "![_images/9.7.svg](_images/9.7.svg)"
   ],
   "metadata": {
    "collapsed": false
   }
  },
  {
   "cell_type": "markdown",
   "source": [
    "**Multi-class logistic regression**\n",
    "___\n",
    "- one-vs-rest (default)\n",
    "    - e.g.\n",
    "        - lr0.fit(X, y==0)\n",
    "        - lr0.fit(X, y==1)\n",
    "        - lr0.fit(X, y==2)\n",
    "    - raw model output\n",
    "        - lrn.decision_function(X)[0]\n",
    "    - or simply,\n",
    "        - lr.fit(X,y)\n",
    "        - lr.predict(X)[0]\n",
    "- multinomial, softmax, cross-entropy loss\n",
    "    - fits a single classifier for all classes\n",
    "    - prediction directly outputs best class\n",
    "    - complicated, but direct\n",
    "    - not as common for SVMs\n",
    "- one coefficient/intercept per feature per class\n",
    "___"
   ],
   "metadata": {
    "collapsed": false
   }
  },
  {
   "cell_type": "code",
   "execution_count": 30,
   "outputs": [
    {
     "name": "stdout",
     "output_type": "stream",
     "text": [
      "OVR training accuracy    : 1.0\n",
      "OVR test accuracy        : 0.9911111111111112\n",
      "Softmax training accuracy: 1.0\n",
      "Softmax test accuracy    : 0.9911111111111112\n"
     ]
    }
   ],
   "source": [
    "#Fitting multi-class logistic regression\n",
    "\n",
    "#In this exercise, you'll fit the two types of multi-class logistic\n",
    "#regression, one-vs-rest and softmax/multinomial, on the handwritten\n",
    "#digits data set and compare the results.\n",
    "\n",
    "from sklearn import datasets\n",
    "from sklearn.model_selection import train_test_split\n",
    "from sklearn.linear_model import LogisticRegression\n",
    "\n",
    "digits = datasets.load_digits()\n",
    "X_train, X_valid, y_train, y_valid = train_test_split(digits.data, digits.target, random_state=42)\n",
    "\n",
    "# Fit one-vs-rest logistic regression classifier\n",
    "lr_ovr = LogisticRegression(max_iter=2750)\n",
    "lr_ovr.fit(X_train, y_train)\n",
    "\n",
    "print(\"OVR training accuracy    :\", lr_ovr.score(X_train, y_train))\n",
    "print(\"OVR test accuracy        :\", lr_ovr.score(X_test, y_test))\n",
    "\n",
    "# Fit softmax classifier\n",
    "lr_mn = LogisticRegression(multi_class=\"multinomial\", solver=\"lbfgs\", max_iter=2750)\n",
    "lr_mn.fit(X_train, y_train)\n",
    "\n",
    "print(\"Softmax training accuracy:\", lr_mn.score(X_train, y_train))\n",
    "print(\"Softmax test accuracy    :\", lr_mn.score(X_test, y_test))"
   ],
   "metadata": {
    "collapsed": false,
    "pycharm": {
     "name": "#%%\n"
    }
   }
  },
  {
   "cell_type": "code",
   "execution_count": null,
   "outputs": [],
   "source": [
    "#Visualizing multi-class logistic regression\n",
    "\n",
    "#In this exercise we'll continue with the two types of multi-class\n",
    "#logistic regression, but on a toy 2D data set specifically designed to\n",
    "#break the one-vs-rest scheme.\n",
    "\n",
    "#The data set is loaded into X_train and y_train. The two logistic\n",
    "#regression objects,lr_mn and lr_ovr, are already instantiated (with\n",
    "#C=100), fit, and plotted.\n",
    "\n",
    "#Notice that lr_ovr never predicts the dark blue class... yikes! Let's\n",
    "#explore why this happens by plotting one of the binary classifiers\n",
    "#that it's using behind the scenes.\n",
    "\n",
    "# Print training accuracies\n",
    "#print(\"Softmax     training accuracy:\", lr_mn.score(X_train, y_train))\n",
    "#print(\"One-vs-rest training accuracy:\", lr_ovr.score(X_train, y_train))\n",
    "\n",
    "# Create the binary classifier (class 1 vs. rest)\n",
    "#lr_class_1 = LogisticRegression(C=100)\n",
    "#lr_class_1.fit(X_train, y_train==1)\n",
    "\n",
    "# Plot the binary classifier (class 1 vs. rest)\n",
    "#plot_classifier(X_train, y_train==1, lr_class_1)\n",
    "\n",
    "#################################################\n",
    "#<script.py> output:\n",
    "#    Softmax     training accuracy: 0.996\n",
    "#    One-vs-rest training accuracy: 0.916"
   ],
   "metadata": {
    "collapsed": false,
    "pycharm": {
     "name": "#%%\n"
    }
   }
  },
  {
   "cell_type": "markdown",
   "source": [
    "lr_mn\n",
    "![_images/9.8.svg](_images/9.8.svg)\n",
    "\n",
    "lr_ovr\n",
    "![_images/9.9.svg](_images/9.9.svg)\n",
    "\n",
    "class 1 vs. rest\n",
    "![_images/9.10.svg](_images/9.10.svg)\n",
    "\n",
    "the binary classifier incorrectly labels almost all points in class 1 (shown as red triangles in the final plot)! Thus, this classifier is not a very effective component of the one-vs-rest classifier. In general, though, one-vs-rest often works well."
   ],
   "metadata": {
    "collapsed": false
   }
  },
  {
   "cell_type": "code",
   "execution_count": null,
   "outputs": [],
   "source": [
    "#One-vs-rest SVM\n",
    "\n",
    "#As motivation for the next and final chapter on support vector\n",
    "#machines, we'll repeat the previous exercise with a non-linear SVM.\n",
    "#Once again, the data is loaded into X_train, y_train, X_test, and y_test .\n",
    "\n",
    "#Instead of using LinearSVC, we'll now use scikit-learn's SVC object,\n",
    "#which is a non-linear \"kernel\" SVM (much more on what this means in\n",
    "#Chapter 4!). Again, your task is to create a plot of the binary\n",
    "#classifier for class 1 vs. rest.\n",
    "\n",
    "# We'll use SVC instead of LinearSVC from now on\n",
    "from sklearn.svm import SVC\n",
    "\n",
    "# Create/plot the binary classifier (class 1 vs. rest)\n",
    "svm_class_1 = SVC()\n",
    "#svm_class_1.fit(X_train, y_train==1)\n",
    "#plot_classifier(X_train, y_train==1, svm_class_1)"
   ],
   "metadata": {
    "collapsed": false,
    "pycharm": {
     "name": "#%%\n"
    }
   }
  },
  {
   "cell_type": "markdown",
   "source": [
    "non-linear \"kernel\" SVM\n",
    "![_images/9.11.svg](_images/9.11.svg)\n",
    "\n",
    "class 1 vs. rest\n",
    "![_images/9.12.svg](_images/9.12.svg)\n",
    "\n",
    "The non-linear SVM works fine with one-vs-rest on this dataset because it learns to \"surround\" class 1."
   ],
   "metadata": {
    "collapsed": false
   }
  },
  {
   "cell_type": "markdown",
   "source": [
    "**Support vectors**\n",
    "___\n",
    "- What is an SVM?\n",
    "    - linear classifiers\n",
    "    - trained using the hinge loss and L2 regularization\n",
    "    - e.g., a training example **not** in the flat part of the loss diagram\n",
    "    - e.g., an example that is incorrectly classified **or** close to the boundary\n",
    "- if an example is not a support vector, removing it has no effect on the model\n",
    "- having a small number of support vectors makes kernel SVM's really fast\n",
    "- perpendicular lines from support vectors to the boundary line (margins) are maximized to be equal by SVM algorithms, and are mathematically equivalent to the hinge loss function. This is not necessarily relevant when the boundary is non-linear.\n",
    "___"
   ],
   "metadata": {
    "collapsed": false
   }
  },
  {
   "cell_type": "code",
   "execution_count": null,
   "outputs": [],
   "source": [
    "#Effect of removing examples\n",
    "\n",
    "#Support vectors are defined as training examples that influence the\n",
    "#decision boundary. In this exercise, you'll observe this behavior by\n",
    "#removing non support vectors from the training set.\n",
    "\n",
    "#The wine quality dataset is already loaded into X and y (first two\n",
    "#features only). (Note: we specify lims in plot_classifier() so that\n",
    "#the two plots are forced to use the same axis limits and can be\n",
    "#compared directly.)\n",
    "\n",
    "# Train a linear SVM\n",
    "#svm = SVC(kernel=\"linear\")\n",
    "#svm.fit(X,y)\n",
    "#plot_classifier(X, y, svm, lims=(11,15,0,6))\n",
    "\n",
    "# Make a new data set keeping only the support vectors\n",
    "#print(\"Number of original examples\", len(X))\n",
    "#print(\"Number of support vectors\", len(svm.support_))\n",
    "#X_small = X[svm.support_]\n",
    "#y_small = y[svm.support_]\n",
    "\n",
    "# Train a new SVM using only the support vectors\n",
    "#svm_small = SVC(kernel=\"linear\")\n",
    "#svm_small.fit(X_small, y_small)\n",
    "#plot_classifier(X_small, y_small, svm_small, lims=(11,15,0,6))\n",
    "\n",
    "#################################################\n",
    "#<script.py> output:\n",
    "#    Number of original examples 178\n",
    "#    Number of support vectors 81"
   ],
   "metadata": {
    "collapsed": false,
    "pycharm": {
     "name": "#%%\n"
    }
   }
  },
  {
   "cell_type": "markdown",
   "source": [
    "SVM\n",
    "![_images/9.13.svg](_images/9.13.svg)\n",
    "\n",
    "SVM with only support vectors\n",
    "![_images/9.14.svg](_images/9.14.svg)\n",
    "\n",
    "Compare the decision boundaries of the two trained models: are they the same? By the definition of support vectors, they should be!"
   ],
   "metadata": {
    "collapsed": false
   }
  },
  {
   "cell_type": "markdown",
   "source": [
    "**Kernel SVMs**\n",
    "___\n",
    "- $$\\text{transformed feature = (original feature)}^{2}$$\n",
    "- non-linearly separable categories can be transformed to be linearlly separable\n",
    "    - works only when one category is clustered around one point/area\n",
    "    - fitting a linear model in transformed space corresponds to fitting a non-linear model in the original space\n",
    "- hyperparameter gamma (lower is smoother) controls smoothness of boundary\n",
    "___"
   ],
   "metadata": {
    "collapsed": false
   }
  },
  {
   "cell_type": "code",
   "execution_count": 34,
   "outputs": [],
   "source": [
    "#GridSearchCV warm-up\n",
    "\n",
    "#increasing the RBF kernel hyperparameter gamma increases training\n",
    "#accuracy. In this exercise we'll search for the gamma that maximizes\n",
    "#cross-validation accuracy using scikit-learn's GridSearchCV. A binary\n",
    "#version of the handwritten digits dataset, in which you're just trying\n",
    "#to predict whether or not an image is a \"2\", is already loaded into\n",
    "#the variables X and y\n",
    "\n",
    "from sklearn.svm import SVC\n",
    "from sklearn.model_selection import GridSearchCV\n",
    "\n",
    "# Instantiate an RBF SVM\n",
    "svm = SVC()\n",
    "\n",
    "# Instantiate the GridSearchCV object and run the search\n",
    "parameters = {'gamma':[0.00001, 0.0001, 0.001, 0.01, 0.1]}\n",
    "searcher = GridSearchCV(svm, parameters)\n",
    "#searcher.fit(X,y)\n",
    "\n",
    "# Report the best parameters\n",
    "#print(\"Best CV params\", searcher.best_params_)\n",
    "\n",
    "#################################################\n",
    "#<script.py> output:\n",
    "#    Best CV params {'gamma': 0.001}"
   ],
   "metadata": {
    "collapsed": false,
    "pycharm": {
     "name": "#%%\n"
    }
   }
  },
  {
   "cell_type": "code",
   "execution_count": null,
   "outputs": [],
   "source": [
    "#Jointly tuning gamma and C with GridSearchCV\n",
    "\n",
    "#In the previous exercise the best value of gamma was 0.001 using the\n",
    "#default value of C, which is 1. In this exercise you'll search for the\n",
    "#best combination of C and gamma using GridSearchCV.\n",
    "\n",
    "#As in the previous exercise, the 2-vs-not-2 digits dataset is already\n",
    "#loaded, but this time it's split into the variables X_train, y_train,\n",
    "#X_test, and y_test. Even though cross-validation already splits the\n",
    "#training set into parts, it's often a good idea to hold out a separate\n",
    "#test set to make sure the cross-validation results are sensible.\n",
    "\n",
    "from sklearn.svm import SVC\n",
    "from sklearn.model_selection import GridSearchCV\n",
    "\n",
    "# Instantiate an RBF SVM\n",
    "svm = SVC()\n",
    "\n",
    "# Instantiate the GridSearchCV object and run the search\n",
    "parameters = {'C':[0.1, 1, 10], 'gamma':[0.00001, 0.0001, 0.001, 0.01, 0.1]}\n",
    "searcher = GridSearchCV(svm, parameters)\n",
    "searcher.fit(X_train, y_train)\n",
    "\n",
    "# Report the best parameters and the corresponding score\n",
    "print(\"Best CV params\", searcher.best_params_)\n",
    "print(\"Best CV accuracy\", searcher.best_score_)\n",
    "\n",
    "# Report the test accuracy using these best parameters\n",
    "print(\"Test accuracy of best grid search hypers:\", searcher.score(X_test, y_test))\n",
    "\n",
    "#################################################\n",
    "#<script.py> output:\n",
    "#    Best CV params {'C': 10, 'gamma': 0.0001}\n",
    "#    Best CV accuracy 0.9988864142538976\n",
    "#    Test accuracy of best grid search hypers: 0.9988876529477196"
   ],
   "metadata": {
    "collapsed": false,
    "pycharm": {
     "name": "#%%\n"
    }
   }
  },
  {
   "cell_type": "markdown",
   "source": [
    "**Comparing logistic regression and SVM (and beyond)**\n",
    "___\n",
    "\n",
    "<table border=\"0\">\n",
    " <tr>\n",
    "    <td><b style=\"font-size:30px\">Logistic regression</b></td>\n",
    "    <td><b style=\"font-size:30px\">Support vector machine</b></td>\n",
    " </tr>\n",
    " <tr>\n",
    "    <td><ul>\n",
    "        <li>is a linear classifier</li>\n",
    "        <li>Can use with kernels, but slow</li>\n",
    "        <li>Outputs meaningful probabilities</li>\n",
    "        <li>Can be extended to multiclass</li>\n",
    "        <li>All data points affect fit</li>\n",
    "        <li>L2 or L1 regularization</li>\n",
    "    </ul></td>\n",
    "    <td><ul>\n",
    "        <li>is a linear classifier</li>\n",
    "        <li>Can use with kernels, and fast</li>\n",
    "        <li>Does not naturally output probabilities</li>\n",
    "        <li>Can be extended to multiclass</li>\n",
    "        <li>Only \"support vectors\" affect fit</li>\n",
    "        <li>Conventionally just L2 regularization</li>\n",
    "    </ul></td>\n",
    " </tr>\n",
    "</table>\n",
    "\n",
    "Use in sklearn:\n",
    "- logistic regression\n",
    "    - linear_model.LogisticRegression\n",
    "    - Key hyperparameters\n",
    "        - C (inverse regularization strength)\n",
    "        - penalty (type of regularization)\n",
    "        - multi_class (type of multi-class)\n",
    "- SVM\n",
    "    - svm.LinearSVC and svm.SVC\n",
    "    - Key hyperparameters\n",
    "        - C (inverse regularization strength)\n",
    "        - kernel (type of kernel)\n",
    "        - gamma (inverse RBF smoothness)\n",
    "- Stochastic gradient descent\n",
    "    - linear_model.SGDClassifier\n",
    "    - scales well to large datasets\n",
    "    - logistic -> SGDClassifier(loss='log')\n",
    "    - SVM ----> SGDClassifier(loss='hinge')\n",
    "    - Key hyperparameters\n",
    "        - alpha is like 1/C\n",
    "___"
   ],
   "metadata": {
    "collapsed": false
   }
  },
  {
   "cell_type": "code",
   "execution_count": null,
   "outputs": [],
   "source": [
    "#Using SGDClassifier\n",
    "\n",
    "#In this final coding exercise, you'll do a hyperparameter search over\n",
    "#the regularization type, regularization strength, and the loss (logistic\n",
    "#regression vs. linear SVM) using SGDClassifier().\n",
    "\n",
    "from sklearn.model_selection import GridSearchCV\n",
    "from sklearn.linear_model import SGDClassifier\n",
    "\n",
    "# We set random_state=0 for reproducibility\n",
    "linear_classifier = SGDClassifier(random_state=0)\n",
    "\n",
    "# Instantiate the GridSearchCV object and run the search\n",
    "parameters = {'alpha':[0.00001, 0.0001, 0.001, 0.01, 0.1, 1],\n",
    "             'loss':['hinge', 'log'], 'penalty':['l1','l2']}\n",
    "searcher = GridSearchCV(linear_classifier, parameters, cv=10)\n",
    "#searcher.fit(X_train, y_train)\n",
    "\n",
    "# Report the best parameters and the corresponding score\n",
    "#print(\"Best CV params\", searcher.best_params_)\n",
    "#print(\"Best CV accuracy\", searcher.best_score_)\n",
    "#print(\"Test accuracy of best grid search hypers:\", searcher.score(X_test, y_test))\n",
    "\n",
    "#################################################\n",
    "#<script.py> output:\n",
    "#    Best CV params {'alpha': 0.0001, 'loss': 'hinge', 'penalty': 'l1'}\n",
    "#    Best CV accuracy 0.94351630867144\n",
    "#    Test accuracy of best grid search hypers: 0.9592592592592593"
   ],
   "metadata": {
    "collapsed": false,
    "pycharm": {
     "name": "#%%\n"
    }
   }
  }
 ],
 "metadata": {
  "kernelspec": {
   "display_name": "Python 3",
   "language": "python",
   "name": "python3"
  },
  "language_info": {
   "codemirror_mode": {
    "name": "ipython",
    "version": 2
   },
   "file_extension": ".py",
   "mimetype": "text/x-python",
   "name": "python",
   "nbconvert_exporter": "python",
   "pygments_lexer": "ipython2",
   "version": "2.7.6"
  }
 },
 "nbformat": 4,
 "nbformat_minor": 0
}